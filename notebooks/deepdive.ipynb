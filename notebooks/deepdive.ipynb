{
 "cells": [
  {
   "cell_type": "markdown",
   "id": "75be80d6-bc28-478e-93bc-5788ab55d05d",
   "metadata": {},
   "source": [
    "# Deepdive\n",
    "\n",
    "In `quickstart.ipynb` we look at the mainstream usage of `pyiron_workflow`, leveraging `Workflow` as a single point of access, defining custom nodes, and building computational workflows. This notebook builds on that by exploring extra tools for more specialized uses, as well as demonstrating several edge-cases and extension points. We'll try to cover not just the `Workflow` class and the tools it exposes, but everything in the \"public API\" exposed in `pyiron_workflow.__init__`.\n",
    "\n",
    "The target audience here is advanced users who want to make complex workflows. We'll also lay a useful foundation for readers who want to modify the core `pyiron_workflow` infrastructure itself, although that's not our target. Nonetheless, this notebook is still not exhaustive. To go further, investigate the docstrings of the various publicly exposed tools, or dig into the test suite in the source code."
   ]
  },
  {
   "cell_type": "code",
   "execution_count": 1,
   "id": "771da684-348b-47e2-ba7c-3c2244e46ba3",
   "metadata": {},
   "outputs": [],
   "source": [
    "import pyiron_workflow as pwf"
   ]
  },
  {
   "cell_type": "markdown",
   "id": "6ef866fa-0a8f-412f-bd4a-d2c7da74ccc0",
   "metadata": {},
   "source": [
    "## Adding new functionality with function nodes\n",
    "\n",
    "Let's start by exploring the three main ways of making new content using \"function\" nodes. "
   ]
  },
  {
   "cell_type": "markdown",
   "id": "8cec0079-7c8f-4100-a01e-bf2015ed3a7f",
   "metadata": {},
   "source": [
    "### By dynamic class\n",
    "\n",
    "The recommended approach is to make a new node _class_ by decorating the function with the behaviour you want:"
   ]
  },
  {
   "cell_type": "code",
   "execution_count": 2,
   "id": "557ebcd7-81c0-486f-8362-ccb48243c350",
   "metadata": {},
   "outputs": [
    {
     "data": {
      "text/plain": [
       "[__main__.MyFunctionClass,\n",
       " pyiron_snippets.factory._FactoryMade,\n",
       " pyiron_workflow.nodes.function.Function,\n",
       " pyiron_workflow.nodes.static_io.StaticNode,\n",
       " pyiron_workflow.node.Node]"
      ]
     },
     "execution_count": 2,
     "metadata": {},
     "output_type": "execute_result"
    }
   ],
   "source": [
    "@pwf.as_function_node(\"plus\", \"minus\")\n",
    "def MyFunctionClass(x: int = 42) -> tuple[int, int]:\n",
    "    return x + 1, x - 1\n",
    "\n",
    "MyFunctionClass.mro()[:5]"
   ]
  },
  {
   "cell_type": "markdown",
   "id": "b8ace954-c043-4bca-967f-cd8983d953f9",
   "metadata": {},
   "source": [
    "Just like in the quickstart, we that this dynamically creates a new class in `__main__` inheriting from `Node`, and `Function`, just like we'd expect. \n",
    "\n",
    "The `pyiron_snippets.factory._FactoryMade` is just some magic that makes sure this dynamically-defined class is still pickleable. This is important as (unless your IO data itself in unpickleable) it lets us use not only `pickle` but also the standard `concurrent.futures.ProcessPoolExecutor` to parallelize our `pyiron_workflow` content.\n",
    "\n",
    "Also of note here is `pyiron_workflow.nodes.static_io.StaticNode`. You should see this intermediate class in the parentage of most nodes (all of them except `Workflow` at time of writing). Nodes inheriting from this class have their IO interface defined _at the class level_. That means you have access to IO labels, type hints, and default values before ever instantiating a node! (And maybe one day ontological hints too!) You can access this information with `.preview...`"
   ]
  },
  {
   "cell_type": "code",
   "execution_count": 3,
   "id": "6fe33fae-e481-41e6-b1ce-fe813963ff76",
   "metadata": {},
   "outputs": [
    {
     "data": {
      "text/plain": [
       "{'inputs': {'x': (int, 42)}, 'outputs': {'plus': int, 'minus': int}}"
      ]
     },
     "execution_count": 3,
     "metadata": {},
     "output_type": "execute_result"
    }
   ],
   "source": [
    "MyFunctionClass.preview_io()"
   ]
  },
  {
   "cell_type": "markdown",
   "id": "68cdd4fa-a1bd-4346-a71a-2ddd79087eee",
   "metadata": {},
   "source": [
    "This decorator approach is easy to read, and you can instantiate as many copies of this node as you want, so this is the recommended approach to node defintions. As usual, node input can be set by kwarg at instantiation or run time; `Function` nodes specially can also have input set as a positional argument."
   ]
  },
  {
   "cell_type": "code",
   "execution_count": 4,
   "id": "3fc470e0-971b-4434-82ac-1047be75f2e7",
   "metadata": {},
   "outputs": [
    {
     "data": {
      "text/plain": [
       "(2, 0)"
      ]
     },
     "execution_count": 4,
     "metadata": {},
     "output_type": "execute_result"
    }
   ],
   "source": [
    "my_func1 = MyFunctionClass(label=\"default_input\")\n",
    "my_func2 = MyFunctionClass(1, label=\"positional_input\")\n",
    "my_func2()"
   ]
  },
  {
   "cell_type": "markdown",
   "id": "f7ac21a4-4b35-48c5-9739-407348691c4a",
   "metadata": {},
   "source": [
    "Of course keywording a positional argument is fine"
   ]
  },
  {
   "cell_type": "code",
   "execution_count": 5,
   "id": "5aa2ec8d-971b-4827-8d4e-55c70fd8b7fe",
   "metadata": {},
   "outputs": [
    {
     "data": {
      "text/plain": [
       "(101, 99)"
      ]
     },
     "execution_count": 5,
     "metadata": {},
     "output_type": "execute_result"
    }
   ],
   "source": [
    "my_func2(x=100)"
   ]
  },
  {
   "cell_type": "markdown",
   "id": "3afdee95-239a-4cb6-a45b-b1494b927aad",
   "metadata": {},
   "source": [
    "### As a single instance\n",
    "\n",
    "It's also possible we might have an existing function we want to node-ize in a one-of way, without ever keeping track of the underlying node class. We can duplicate the functionality of `MyFunctionClass` the same way for a single instance like this:"
   ]
  },
  {
   "cell_type": "code",
   "execution_count": 6,
   "id": "53e846a5-fa08-4357-a030-b194116d5451",
   "metadata": {},
   "outputs": [
    {
     "data": {
      "text/plain": [
       "[__main__.my_function,\n",
       " pyiron_snippets.factory._FactoryMade,\n",
       " pyiron_workflow.nodes.function.Function,\n",
       " pyiron_workflow.nodes.static_io.StaticNode,\n",
       " pyiron_workflow.node.Node]"
      ]
     },
     "execution_count": 6,
     "metadata": {},
     "output_type": "execute_result"
    }
   ],
   "source": [
    "def my_function(x: int = 42) -> tuple[int, int]:\n",
    "    return x + 1, x - 1\n",
    "\n",
    "my_function_instance = pwf.function_node(my_function, output_labels=(\"plus\", \"minus\"))\n",
    "\n",
    "my_function_instance.__class__.mro()[:5]"
   ]
  },
  {
   "cell_type": "markdown",
   "id": "295a78ae-f905-4e22-9fab-07321a439012",
   "metadata": {},
   "source": [
    "Of course other than the name of the immediate class, this looks the same as before, and indeed it is"
   ]
  },
  {
   "cell_type": "code",
   "execution_count": 7,
   "id": "6d054c43-b2df-4be0-b13e-3791718008a5",
   "metadata": {},
   "outputs": [],
   "source": [
    "assert(my_function_instance.__class__.mro()[1:] == MyFunctionClass.mro()[1:])"
   ]
  },
  {
   "cell_type": "markdown",
   "id": "1446c4b9-9ac6-4118-bdac-205f06b0bf29",
   "metadata": {},
   "source": [
    "There's no particular advantage to making a single instance instead of the typical decorator approach, it just may be slightly more convenient sometimes. In general using the decorator is suggested."
   ]
  },
  {
   "cell_type": "markdown",
   "id": "fefe4e42-1f02-4411-be40-5c5033a15698",
   "metadata": {},
   "source": [
    "### By explicit subclass\n",
    "\n",
    "The final path is the traditional OOP coding route of simply making a new class that inherits from `Function`. The only requirement is that it have a `staticmethod` called `node_function` which takes the place of the decorated/passed functions above. You may optionally specify an `_output_labels` property to name the outputs, otherwise they will get scraped from the function return code. This approach can be useful if you want to add some extra functionality on your nodes, e.g. plotting, data analysis -- anything useful but small and tightly coupled enough to the node that you don't feel the need to make a separate node to handle it."
   ]
  },
  {
   "cell_type": "code",
   "execution_count": 8,
   "id": "fbba0959-3a9b-4502-9455-664185886945",
   "metadata": {},
   "outputs": [
    {
     "name": "stdout",
     "output_type": "stream",
     "text": [
      "Maybe our method depends on having output data\n"
     ]
    }
   ],
   "source": [
    "class MySubFunction(pwf.Function):\n",
    "    @staticmethod\n",
    "    def node_function(x: int = 42) -> tuple[int, int]:\n",
    "        return x + 1, x - 1\n",
    "\n",
    "    _output_labels = (\"plus\", \"minus\")\n",
    "\n",
    "    def is_bound(self, n) -> bool:\n",
    "        if self.outputs.plus.value is not pwf.NOT_DATA:\n",
    "            return self.outputs.plus.value > n and self.outputs.minus.value < n\n",
    "        else:\n",
    "            raise RuntimeError(\"Run the node first\")\n",
    "\n",
    "my_subfunc = MySubFunction()\n",
    "\n",
    "try:\n",
    "    my_subfunc.is_bound(33)\n",
    "except RuntimeError:\n",
    "    print(\"Maybe our method depends on having output data\")\n",
    "\n",
    "my_subfunc()\n",
    "assert(my_subfunc.is_bound(42.5) and not my_subfunc.is_bound(0))"
   ]
  },
  {
   "cell_type": "markdown",
   "id": "3530eea1-370f-43a2-b177-9bb086e5a7ae",
   "metadata": {},
   "source": [
    "This pattern of subclass-by-decoration, instance-by-call, or traditional subclassing are available under the same syntaxes for all three standard base classes for new nodes: `Function`, `Macro`, and `Dataclass`."
   ]
  },
  {
   "cell_type": "markdown",
   "id": "1c4c25e1-74ff-4fa5-87d1-4610909d8e83",
   "metadata": {},
   "source": [
    "### Parsing awkward functions\n",
    "\n",
    "`pyiron_workflow` is predecated on being able to identify and label not just the inputs of functions, but their outputs. We try to make this convenient by scraping output labels from the raw code of the return value. But, sometimes it doesn't go that easily. Sometimes you might want to wrap an existing function, maybe it even has multiple return values! Or maybe there is no raw source code because the entire function is dynamic (e.g. a lambda function). We don't offer flexible/dynamic output -- the output still needs to be fixed at the class level -- but as long as you are willing to vouch for the function you're wrapping, you can bypass restrictions on parsability of the function code. In this case, you _must_ provide explicit output labels, and you need to set a flag to indicate that parsing should not be performed. Below we show how to do this for an existing function and get a new, importable class by updating the class name:"
   ]
  },
  {
   "cell_type": "code",
   "execution_count": 9,
   "id": "d778740d-03e3-41d2-b5f8-0c2b254d0f8c",
   "metadata": {},
   "outputs": [],
   "source": [
    "def my_awkard_function(x):\n",
    "    \"\"\"\n",
    "    Here is a function that has multiple return values, so we can't parse it by default.\n",
    "    It also awkwardly sometimes returns a string, and other times returns a bool (or \n",
    "    even an array of bools if we were to pass a numpy array in!) so it is going to be \n",
    "    awkward anyhow, since we can't give a very reliable type hint for the input...\n",
    "\n",
    "    But let's explore what we can do to get around this anyhow!\n",
    "    \"\"\"\n",
    "    if isinstance(x, str):\n",
    "        return x\n",
    "    if x > 0:\n",
    "        return True\n",
    "    elif x < 0:\n",
    "        return False"
   ]
  },
  {
   "cell_type": "code",
   "execution_count": 10,
   "id": "8718f00c-3172-41fe-8266-37012ed47ca6",
   "metadata": {},
   "outputs": [
    {
     "name": "stdout",
     "output_type": "stream",
     "text": [
      "We can't parse output labels, or compare if the provided ones are valid, when there are multiple `return` statements!\n"
     ]
    }
   ],
   "source": [
    "try:\n",
    "    pwf.function_node(my_awkard_function, \"some_output_label\")\n",
    "except ValueError:\n",
    "    print(\n",
    "        \"We can't parse output labels, or compare if the provided ones are valid, \"\n",
    "        \"when there are multiple `return` statements!\"\n",
    "    )"
   ]
  },
  {
   "cell_type": "code",
   "execution_count": 11,
   "id": "45d2607a-7bf7-4687-803a-cf19c2784087",
   "metadata": {},
   "outputs": [],
   "source": [
    "JustMakeItGo = pwf.as_function_node(\n",
    "    \"some_label\", \n",
    "    validate_output_labels=False,  # Blindly trusts the requested label(s)\n",
    ")(my_awkard_function)\n",
    "JustMakeItGo.__name__ = \"JustMakeItGo\"  "
   ]
  },
  {
   "cell_type": "markdown",
   "id": "fcfadef7-9066-49e2-b875-719ba902b7ab",
   "metadata": {},
   "source": [
    "Note that we've manually set the class name to match the local variable we stored the class in. This is so we can import it correctly later if we want:"
   ]
  },
  {
   "cell_type": "code",
   "execution_count": 12,
   "id": "dfc9a84a-bb69-4b24-8c15-6a1de96266b8",
   "metadata": {},
   "outputs": [],
   "source": [
    "from __main__ import JustMakeItGo as ReimportedJMIG\n",
    "\n",
    "assert(ReimportedJMIG is JustMakeItGo)"
   ]
  },
  {
   "cell_type": "markdown",
   "id": "919f6f6d-2bb3-4be9-b393-c315522786fa",
   "metadata": {},
   "source": [
    "This node runs fine:"
   ]
  },
  {
   "cell_type": "code",
   "execution_count": 13,
   "id": "5850b5ee-eb93-475c-805b-28924723e828",
   "metadata": {},
   "outputs": [],
   "source": [
    "jmig = JustMakeItGo()\n",
    "assert(jmig(5))"
   ]
  },
  {
   "cell_type": "markdown",
   "id": "f9d53c1a-5722-470d-a872-bf6b2f2a4f23",
   "metadata": {},
   "source": [
    "But it's is still kind of an unfriendly node, since the output type can totally change. Some cases could be even worse, imagine if different return branches returned different numbers of objects! Then sometimes we'd get a value, or other times tuples of values. What a headache. The point is you _can_ force unfriendly functions into our paradigm, but you may not _want_ to. It may be better to just write your own sanitizing wrapper function around them to expose the functionality you care about, or to just write a new function from scratch."
   ]
  },
  {
   "cell_type": "markdown",
   "id": "d2797772-cda9-46da-aae9-b95d3eabc897",
   "metadata": {},
   "source": [
    "## Macros provide an interface to their subgraph\n",
    "\n",
    "We have access to the same three routes for adding functionality by inheriting from `Macro` just like we do from `Function`. We learned in `quickstart.ipynb` how macros are fundamentally different from function nodes: `Function` nodes are based around _plain python functions_ and can do anything python does and do it every time the function node runs; in contrast, `Macro` nodes use the `pyiron_workflow` framework to _define a graph_, they do it _once at instantiation_, and from then on running the node executes that subgraph. That means you can still write regular python inside your macro definition, but (with the exception of operations that work on data channels via node injection) you can't use that python to process input data and manipulate it because it is (a) acting on data channels not the underlying data held by those channels, and (b) happens only once to the initial data!\n",
    "\n",
    "None of that should be a shock, but here we'll look at _how_ macro nodes accomplish this. First, let's make a couple of trivially simple nodes with which to demo functionality:"
   ]
  },
  {
   "cell_type": "code",
   "execution_count": 14,
   "id": "cadd24f1-4a53-4a87-8ed1-29d870ae2fc3",
   "metadata": {},
   "outputs": [],
   "source": [
    "@pwf.as_function_node\n",
    "def TimesTwo(x: int) -> int:\n",
    "    twox = 2 * x\n",
    "    return twox\n",
    "\n",
    "@pwf.as_macro_node\n",
    "def TwoCubed(self, x: int) -> int:\n",
    "    self.two = TimesTwo(x)\n",
    "    self.four = TimesTwo(self.two)\n",
    "    self.eight = TimesTwo(self.four)\n",
    "    return self.eight"
   ]
  },
  {
   "cell_type": "markdown",
   "id": "3c00e0d6-7a24-4e66-87fa-a3a9b0032ed5",
   "metadata": {},
   "source": [
    "### No outside connections\n",
    "\n",
    "Macros define an explicit interface between the subgraph they hold and the outside world, that means you can't use data (or signal) connections directly between macro child nodes and other nodes. At time of writing, you will be permitted to _form_ the connections, but will get a relatively clear error if you try to actually leverage them.\n",
    "\n",
    "This is the case whether you're working directly with nodes:"
   ]
  },
  {
   "cell_type": "code",
   "execution_count": 15,
   "id": "7095159b-1314-4347-b208-e8ee781980f0",
   "metadata": {},
   "outputs": [
    {
     "name": "stdout",
     "output_type": "stream",
     "text": [
      "ValueError: Nodes in a data digraph must all be siblings -- i.e. have the same `parent` attribute. Some of these do not: /non_child5120457744\n",
      "/macro/two5120493712\n",
      "/macro/four4489353552\n"
     ]
    }
   ],
   "source": [
    "non_child = TimesTwo(label=\"non_child\")\n",
    "macro = TwoCubed(2, label=\"macro\")\n",
    "\n",
    "non_child.inputs.x = macro.four.outputs.twox\n",
    "\n",
    "try:\n",
    "    non_child()\n",
    "except ValueError as e:\n",
    "    print(\"ValueError:\", e)"
   ]
  },
  {
   "cell_type": "markdown",
   "id": "42ac1c23-c5b2-40b7-bb5e-beb308615507",
   "metadata": {},
   "source": [
    "Or whether they're packaged in a workflow:"
   ]
  },
  {
   "cell_type": "code",
   "execution_count": 16,
   "id": "bc2ec413-7a83-4f23-b5a1-f307de413870",
   "metadata": {},
   "outputs": [
    {
     "name": "stdout",
     "output_type": "stream",
     "text": [
      "KeyError: 'The channel /walled_gardens/non_child.x has a connection to the upstream channel /walled_gardens/macro/four.twox, but the upstream owner four was not found among nodes. All nodes in the data flow dependency tree must be included.'\n"
     ]
    }
   ],
   "source": [
    "wf = pwf.Workflow(\"walled_gardens\")\n",
    "wf.non_child = TimesTwo()\n",
    "wf.macro = TwoCubed(2)\n",
    "wf.non_child.inputs.x = wf.macro.four.outputs.twox\n",
    "\n",
    "try:\n",
    "    wf()\n",
    "except KeyError as e:\n",
    "    print(\"KeyError:\", e)"
   ]
  },
  {
   "cell_type": "markdown",
   "id": "2c5e5d7d-8136-4af0-b0ba-80bd04d915ad",
   "metadata": {},
   "source": [
    "### Value syncing\n",
    "\n",
    "The prohibition against outside connections guarantees that the macro doesn't receive outside interference, but then how _does_ the macro communicate outside information in and inside information back out?\n",
    "\n",
    "In addition to the regular \"connections\" data and signal channels have, data channels also quietly have a `.value_receiver` method. These guarantee that whenever the value of that channel is updated, the new value is immediately propagated to its receiving partner. Macro's use this for input:"
   ]
  },
  {
   "cell_type": "code",
   "execution_count": 17,
   "id": "1f9408d0-174d-4140-af45-30cc147b9d3f",
   "metadata": {},
   "outputs": [
    {
     "name": "stdout",
     "output_type": "stream",
     "text": [
      "2 2\n",
      "5 5\n"
     ]
    }
   ],
   "source": [
    "assert(macro.inputs.x is not macro.two.inputs.x)\n",
    "assert(macro.inputs.x.value_receiver is macro.two.inputs.x)\n",
    "\n",
    "print(macro.inputs.x.value, macro.two.inputs.x.value)\n",
    "macro.inputs.x.value = 5\n",
    "print(macro.inputs.x.value, macro.two.inputs.x.value)"
   ]
  },
  {
   "cell_type": "markdown",
   "id": "8041d9e1-6075-4678-b383-54a329fd7e5e",
   "metadata": {},
   "source": [
    "And output:"
   ]
  },
  {
   "cell_type": "code",
   "execution_count": 18,
   "id": "8504c0fd-8b79-4eaa-b6d4-374989e5d67b",
   "metadata": {},
   "outputs": [
    {
     "name": "stdout",
     "output_type": "stream",
     "text": [
      "NOT_DATA NOT_DATA\n",
      "5 5\n"
     ]
    }
   ],
   "source": [
    "assert(macro.eight.outputs.twox is not macro.outputs.eight)\n",
    "assert(macro.eight.outputs.twox.value_receiver is macro.outputs.eight)\n",
    "\n",
    "print(macro.eight.outputs.twox.value, macro.outputs.eight.value)\n",
    "macro.eight.outputs.twox.value = 5\n",
    "print(macro.eight.outputs.twox.value, macro.outputs.eight.value)"
   ]
  },
  {
   "cell_type": "markdown",
   "id": "297e2623-6f83-45ef-9fcd-e962d99e5121",
   "metadata": {},
   "source": [
    "### Dynamic input forking\n",
    "\n",
    "Each data channel can have at most one `.value_receiver`, but sometimes our macro input gets sent to more than one child! To accommodate this, under the hood, macros are dynamically creating new nodes to hold input, then pruning these at the end of the macro instantiation if they are unnecessary. In the example below we can see that, at instantiation time, the macro has a new `pyiron_workflow.nodes.standard.UserInput` for both its inputs; for the forked input (`x`) this node persists as a child and is the on the receiving end of the macro input, but for the input with a single recipient (`y`) the intermediate node can be pruned and the macro input is fed straight to the node explicitly created in the macro definition:"
   ]
  },
  {
   "cell_type": "code",
   "execution_count": 19,
   "id": "db17a6c1-659c-496e-84bf-6508db1dff14",
   "metadata": {},
   "outputs": [
    {
     "name": "stdout",
     "output_type": "stream",
     "text": [
      "<class 'pyiron_workflow.nodes.standard.UserInput'>\n",
      "<class 'pyiron_workflow.nodes.standard.UserInput'>\n",
      "('x', 'pair1', 'pair2', 'alone')\n"
     ]
    }
   ],
   "source": [
    "@pwf.as_macro_node\n",
    "def VerboseFork(self, x: int, y: int) -> tuple[int, int, int]:\n",
    "    print(type(x))\n",
    "    print(type(y))\n",
    "    self.pair1 = TimesTwo(x)\n",
    "    self.pair2 = TimesTwo(x)\n",
    "    self.alone = TimesTwo(y)\n",
    "    return self.pair1, self.pair2, self.alone\n",
    "\n",
    "m = VerboseFork()\n",
    "print(m.child_labels)  # Includes a \"forking\" input child not in the definition!\n",
    "\n",
    "assert(m.inputs.x.value_receiver is m.x.inputs.user_input)\n",
    "assert(m.inputs.y.value_receiver is m.alone.inputs.x)"
   ]
  },
  {
   "cell_type": "markdown",
   "id": "a92c4238-dfcc-4e8a-812b-d2e1df8e735a",
   "metadata": {},
   "source": [
    "### Node injection and macro definitions\n",
    "\n",
    "We saw in the `quickstart.ipynb` how nodes returning only a single value can be operated on as though you were operating on their (only) data output channel, and how data output channels can be operated on to dynamically create new nodes to (delay and) perform the operation. \n",
    "\n",
    "We have also discussed how we mustn't mix-and-match raw python data processing we do in `Function` definitions with the graph setup we do in `Macro` definitions.\n",
    "\n",
    "Here, let's just quickly revisit this concept to show how we can sometimes leverage node injection to do some fairly complex processing of data in a macro after all. We have most but not all operators at our disposal -- some, like `>>` and `<<` bitshift operators are reserved to have actual meaning within the `pyiron_workflow` framework -- as well as a number of extra methods, e.g. `.eq` since we want to reserve `==` for its totally regular meaning and not inject on it."
   ]
  },
  {
   "cell_type": "code",
   "execution_count": 20,
   "id": "b3bac532-7e56-40bb-805b-26dd7fd1d649",
   "metadata": {},
   "outputs": [
    {
     "name": "stdout",
     "output_type": "stream",
     "text": [
      "__getattr__ <function OutputDataWithInjection.__getattr__ at 0x1312122a0>\n",
      "__getitem__ <function OutputDataWithInjection.__getitem__ at 0x131212340>\n",
      "__lt__ <function OutputDataWithInjection.__lt__ at 0x1312123e0>\n",
      "__le__ <function OutputDataWithInjection.__le__ at 0x131212480>\n",
      "eq <function OutputDataWithInjection.eq at 0x131212520>\n",
      "__ne__ <function OutputDataWithInjection.__ne__ at 0x1312125c0>\n",
      "__gt__ <function OutputDataWithInjection.__gt__ at 0x131212660>\n",
      "__ge__ <function OutputDataWithInjection.__ge__ at 0x131212700>\n",
      "bool <function OutputDataWithInjection.bool at 0x1312127a0>\n",
      "len <function OutputDataWithInjection.len at 0x131212840>\n",
      "contains <function OutputDataWithInjection.contains at 0x1312128e0>\n",
      "__add__ <function OutputDataWithInjection.__add__ at 0x131212980>\n",
      "__sub__ <function OutputDataWithInjection.__sub__ at 0x131212a20>\n",
      "__mul__ <function OutputDataWithInjection.__mul__ at 0x131212ac0>\n",
      "__rmul__ <function OutputDataWithInjection.__rmul__ at 0x131212b60>\n",
      "__matmul__ <function OutputDataWithInjection.__matmul__ at 0x131212c00>\n",
      "__truediv__ <function OutputDataWithInjection.__truediv__ at 0x131212ca0>\n",
      "__floordiv__ <function OutputDataWithInjection.__floordiv__ at 0x131212d40>\n",
      "__mod__ <function OutputDataWithInjection.__mod__ at 0x131212de0>\n",
      "__pow__ <function OutputDataWithInjection.__pow__ at 0x131212e80>\n",
      "__and__ <function OutputDataWithInjection.__and__ at 0x131212f20>\n",
      "__xor__ <function OutputDataWithInjection.__xor__ at 0x131212fc0>\n",
      "__or__ <function OutputDataWithInjection.__or__ at 0x131213060>\n",
      "__neg__ <function OutputDataWithInjection.__neg__ at 0x131213100>\n",
      "__pos__ <function OutputDataWithInjection.__pos__ at 0x1312131a0>\n",
      "__abs__ <function OutputDataWithInjection.__abs__ at 0x131213240>\n",
      "__invert__ <function OutputDataWithInjection.__invert__ at 0x1312132e0>\n",
      "int <function OutputDataWithInjection.int at 0x131213380>\n",
      "float <function OutputDataWithInjection.float at 0x131213420>\n",
      "__round__ <function OutputDataWithInjection.__round__ at 0x1312134c0>\n"
     ]
    }
   ],
   "source": [
    "from types import FunctionType\n",
    "from pyiron_workflow.mixin.injection import OutputDataWithInjection\n",
    "\n",
    "for k, v in OutputDataWithInjection.__dict__.items():\n",
    "    if (\n",
    "        isinstance(v, FunctionType) \n",
    "        and k not in [\"__init__\", \"_get_injection_label\", \"_node_injection\"]\n",
    "    ):\n",
    "        print(k, v)"
   ]
  },
  {
   "cell_type": "code",
   "execution_count": 21,
   "id": "8dcc7997-724b-4f96-82fd-d36a35420d67",
   "metadata": {},
   "outputs": [
    {
     "name": "stdout",
     "output_type": "stream",
     "text": [
      "fifth_element <GetItem>\n",
      "injected_Add_1387321730220954933 <Add>\n",
      "transformed <Modulo>\n",
      "matches <Equals>\n",
      "injected_Float_m3316255772278310355 <Float>\n"
     ]
    },
    {
     "data": {
      "text/plain": [
       "{'matches': True, 'as_float': 0.0}"
      ]
     },
     "execution_count": 21,
     "metadata": {},
     "output_type": "execute_result"
    }
   ],
   "source": [
    "@pwf.as_macro_node\n",
    "def TheFifthElement(\n",
    "    self,\n",
    "    exactly_five: tuple[int, int, int, int, int], \n",
    "    mod: int = 10, \n",
    "    extra: int = 5,\n",
    "    target: int = 0,\n",
    ") -> tuple[bool, float]:\n",
    "    self.fifth_element = exactly_five[4]  # Access injection\n",
    "    self.transformed = (self.fifth_element + extra) % mod  # Operator injection\n",
    "    self.matches = self.transformed.eq(target)  # Method injection\n",
    "    as_float = self.transformed.float()\n",
    "    return self.matches, as_float\n",
    "\n",
    "five = TheFifthElement((1, 2, 3, 4, 5))\n",
    "for n in five:\n",
    "    print(f\"{n.label} <{n.__class__.__name__}>\")\n",
    "five()"
   ]
  },
  {
   "cell_type": "markdown",
   "id": "7224ba8d-dab5-449c-ae39-9a0c90e11941",
   "metadata": {},
   "source": [
    "It's always valid to extract your data processing as its own `Function` node and then use that, but we see here there is a reasonable amount of flexibility by leveraging injection. Most of our injected nodes were immediately assigned to an attribute of our macro (and thus re-labeled), but the `(self.fifth_element + extra)` was only ever used in-line and so retains its automatically-generated label. This is also true for `as_float`, which appears only as a local variable -- the variable name is still scraped for the purpose of naming the macro output channel, but the node itself retains its generated label.\n",
    "\n",
    "As a counter-example, we couldn't have written `as_float = float(self.transformed)`, because `self.transformed` (and `exactly_five`, `mod`, `extra`, `target`, and all the other child nodes) are _nodes_ (or output channels) and taking the \"float\" of this nonsensicle! The `.float()` method defined on the injection class gives explicit instruction to generate a new node to handle this transformation on the data values in a delayed manner. We try to add enough such injections to cover your day-to-day needs, but where that fails you simply need to write and use your own node."
   ]
  },
  {
   "cell_type": "markdown",
   "id": "174f818f-59b5-4fba-8519-864a807c4aa8",
   "metadata": {
    "jp-MarkdownHeadingCollapsed": true
   },
   "source": [
    "## Dataclass nodes for grouping inputs\n",
    "\n",
    "The last of the standard approaches for new node functionality is `DataclassNode`. They're a little bit different in that the underlying definition is a class (if it isn't already a `@dataclasses.dataclass` it will be wrapped as one), but otherwise the three standard approaches for making new ones work exactly as for `Macro` and `Function`.\n",
    "\n",
    "Like usual dataclasses, these are for packaging groups of input together into sensible packages, and even allow inheritance for composing together input from different places. The dataclass itself gets stored on the `.dataclass` class attribute of the node class."
   ]
  },
  {
   "cell_type": "code",
   "execution_count": 22,
   "id": "ae6d7936-3cd1-49e5-893d-1e71a42ced72",
   "metadata": {},
   "outputs": [
    {
     "data": {
      "text/plain": [
       "{'inputs': {'color': (str, NOT_DATA),\n",
       "  'doors': (int, 2),\n",
       "  'wheels': (int, 4),\n",
       "  'spoiler': (bool, False)},\n",
       " 'outputs': {'dataclass': __main__.Coupe.dataclass}}"
      ]
     },
     "execution_count": 22,
     "metadata": {},
     "output_type": "execute_result"
    }
   ],
   "source": [
    "@pwf.as_dataclass_node\n",
    "class Car:\n",
    "    color: str\n",
    "    doors: int\n",
    "    wheels: int = 4\n",
    "\n",
    "@pwf.as_dataclass_node\n",
    "class Coupe(Car.dataclass):\n",
    "    doors: int = 2\n",
    "    spoiler: bool = False\n",
    "\n",
    "# Note: Inheritance with dataclasses can be tricky, particularly with regards to the order of \n",
    "# default and non-default parameters. In general, composition is preferable over inheritance and \n",
    "# extension. So this example is somewhat questionable python, but we're just trying to show \n",
    "# some `DataclassNode` syntax, so don't sweat it.\n",
    "\n",
    "Coupe.preview_io()"
   ]
  },
  {
   "cell_type": "markdown",
   "id": "65c8f696-703a-465a-9c28-c78c26818a14",
   "metadata": {},
   "source": [
    "We can then leverage the dataclass node as an entry point for users to specify data, and write business logic that accepts the entire dataclass as IO:"
   ]
  },
  {
   "cell_type": "code",
   "execution_count": 23,
   "id": "70c0a299-90b9-477b-b156-834268858a09",
   "metadata": {},
   "outputs": [
    {
     "data": {
      "text/plain": [
       "{'ticket__ticket': 130, 'red_ticket__ticket': 180}"
      ]
     },
     "execution_count": 23,
     "metadata": {},
     "output_type": "execute_result"
    }
   ],
   "source": [
    "@pwf.as_function_node(\"repainted\")\n",
    "def Repaint(car: Car.dataclass, new_color: str):\n",
    "    car.color = new_color\n",
    "    return car\n",
    "\n",
    "@pwf.as_function_node\n",
    "def SpeedingTicket(car: Car.dataclass):\n",
    "    ticket = 100\n",
    "    if car.color.lower() == \"red\":\n",
    "        # Red cars go faster, everyone knows\n",
    "        ticket += 50\n",
    "    if car.doors < 4:\n",
    "        # Too sporty looking, eh\n",
    "        ticket += 30\n",
    "    return ticket\n",
    "\n",
    "wf = pwf.Workflow(\"a_tale_of_two_tickets\")\n",
    "wf.car = Coupe(color=\"green\")\n",
    "wf.red_car = Repaint(wf.car, \"RED\")\n",
    "wf.ticket = SpeedingTicket(wf.car)\n",
    "wf.red_ticket = SpeedingTicket(wf.red_car)\n",
    "wf()"
   ]
  },
  {
   "cell_type": "markdown",
   "id": "057c2541-5398-4e6e-98ec-131d3ed3a5ea",
   "metadata": {},
   "source": [
    "## Disabling type hints\n",
    "\n",
    "By default, `pyiron_workflow` is strongly hinted, so you can't pass wrongly-typed values or from incompatibly-hinted connections:"
   ]
  },
  {
   "cell_type": "code",
   "execution_count": 24,
   "id": "0975cb7b-ac3a-48d5-88e6-fbfd672d98b7",
   "metadata": {},
   "outputs": [
    {
     "name": "stdout",
     "output_type": "stream",
     "text": [
      "TypeError: The channel /Repaint.car cannot take the value `a_string_not_a_Car` (<class 'str'>) because it is not compliant with the type hint <class '__main__.Car.dataclass'>\n"
     ]
    }
   ],
   "source": [
    "repainted = Repaint()\n",
    "repainted.inputs.new_color = \"light urple\"\n",
    "try:\n",
    "    repainted.inputs.car = \"a_string_not_a_Car\"\n",
    "except TypeError as e:\n",
    "    print(\"TypeError:\", e)"
   ]
  },
  {
   "cell_type": "markdown",
   "id": "fa660ff3-8e99-433c-9769-cf0dd63b3908",
   "metadata": {},
   "source": [
    "You can forcably disable this, either for a specific channel or at the node-level for all channels:"
   ]
  },
  {
   "cell_type": "code",
   "execution_count": 25,
   "id": "ed77ecdf-c673-44ea-aa4b-8aa02822f994",
   "metadata": {},
   "outputs": [],
   "source": [
    "repainted = Repaint()\n",
    "repainted.inputs.new_color = \"light urple\"\n",
    "\n",
    "repainted.deactivate_strict_hints()\n",
    "repainted.inputs.car = \"a_string_not_a_Car\""
   ]
  },
  {
   "cell_type": "markdown",
   "id": "4153f96b-1ab2-4cef-ba35-fb928c33879b",
   "metadata": {},
   "source": [
    "But, at least in this example, it's not a good idea..."
   ]
  },
  {
   "cell_type": "code",
   "execution_count": 26,
   "id": "869cca6f-a4d2-4a83-87f4-1a1bc0a0161a",
   "metadata": {},
   "outputs": [
    {
     "name": "stdout",
     "output_type": "stream",
     "text": [
      "AttributeError: 'str' object has no attribute 'color'\n"
     ]
    }
   ],
   "source": [
    "try:\n",
    "    repainted.run()\n",
    "except AttributeError as e:\n",
    "    print(\"AttributeError:\", e)"
   ]
  },
  {
   "cell_type": "markdown",
   "id": "213bca93-f211-4805-ba09-afb14dc94b42",
   "metadata": {},
   "source": [
    "## Other transformers\n",
    "\n",
    "`DataclassNode` is an example of a \"transformer\" -- a simple tool for converting input to a particular form of output via a node. There are several others, but they are so simple that there is not much flexibility in instantiating them, just use the \"meta\" node to make a new class and new instance at once.\n",
    "\n",
    "Here we just demo them so you know they exist"
   ]
  },
  {
   "cell_type": "code",
   "execution_count": 27,
   "id": "2176aa21-93e8-441a-996d-d7de308f1e15",
   "metadata": {},
   "outputs": [
    {
     "data": {
      "text/html": [
       "<div>\n",
       "<style scoped>\n",
       "    .dataframe tbody tr th:only-of-type {\n",
       "        vertical-align: middle;\n",
       "    }\n",
       "\n",
       "    .dataframe tbody tr th {\n",
       "        vertical-align: top;\n",
       "    }\n",
       "\n",
       "    .dataframe thead th {\n",
       "        text-align: right;\n",
       "    }\n",
       "</style>\n",
       "<table border=\"1\" class=\"dataframe\">\n",
       "  <thead>\n",
       "    <tr style=\"text-align: right;\">\n",
       "      <th></th>\n",
       "      <th>strings</th>\n",
       "      <th>ints</th>\n",
       "      <th>types</th>\n",
       "    </tr>\n",
       "  </thead>\n",
       "  <tbody>\n",
       "    <tr>\n",
       "      <th>0</th>\n",
       "      <td>a</td>\n",
       "      <td>1</td>\n",
       "      <td>&lt;class 'int'&gt;</td>\n",
       "    </tr>\n",
       "    <tr>\n",
       "      <th>1</th>\n",
       "      <td>b</td>\n",
       "      <td>2</td>\n",
       "      <td>&lt;class 'float'&gt;</td>\n",
       "    </tr>\n",
       "    <tr>\n",
       "      <th>2</th>\n",
       "      <td>c</td>\n",
       "      <td>3</td>\n",
       "      <td>&lt;class 'str'&gt;</td>\n",
       "    </tr>\n",
       "  </tbody>\n",
       "</table>\n",
       "</div>"
      ],
      "text/plain": [
       "  strings  ints            types\n",
       "0       a     1    <class 'int'>\n",
       "1       b     2  <class 'float'>\n",
       "2       c     3    <class 'str'>"
      ]
     },
     "execution_count": 27,
     "metadata": {},
     "output_type": "execute_result"
    }
   ],
   "source": [
    "i2df = pwf.inputs_to_dataframe(3)\n",
    "\n",
    "i2df(\n",
    "    row_0 = {\"strings\": \"a\", \"ints\": 1, \"types\": int},\n",
    "    row_1 = {\"strings\": \"b\", \"ints\": 2, \"types\": float},\n",
    "    row_2 = {\"strings\": \"c\", \"ints\": 3, \"types\": str},\n",
    ")"
   ]
  },
  {
   "cell_type": "code",
   "execution_count": 28,
   "id": "d4e384e4-02a7-442e-83db-dbe8bb2d56d8",
   "metadata": {},
   "outputs": [
    {
     "name": "stdout",
     "output_type": "stream",
     "text": [
      "{'inputs': {'x': (None, NOT_DATA), 'y': (<class 'int'>, 42)}, 'outputs': {'dict': <class 'dict'>}}\n"
     ]
    },
    {
     "data": {
      "text/plain": [
       "{'x': 'foobar', 'y': 42}"
      ]
     },
     "execution_count": 28,
     "metadata": {},
     "output_type": "execute_result"
    }
   ],
   "source": [
    "i2d = pwf.inputs_to_dict(\n",
    "    input_specification={\n",
    "        \"x\": (None, pwf.NOT_DATA),\n",
    "        \"y\": (int, 42)\n",
    "    }\n",
    ")\n",
    "print(i2d.preview_io())\n",
    "i2d(\"foobar\")"
   ]
  },
  {
   "cell_type": "code",
   "execution_count": 29,
   "id": "27dfa606-6357-471b-9764-598629a401d5",
   "metadata": {},
   "outputs": [
    {
     "data": {
      "text/plain": [
       "[1, 2, 3, 'four', 'five']"
      ]
     },
     "execution_count": 29,
     "metadata": {},
     "output_type": "execute_result"
    }
   ],
   "source": [
    "i2l = pwf.inputs_to_list(5)\n",
    "i2l(1, 2, 3, \"four\", \"five\")"
   ]
  },
  {
   "cell_type": "code",
   "execution_count": 30,
   "id": "b6aeec11-829d-497f-a86e-c7de057c9247",
   "metadata": {},
   "outputs": [
    {
     "data": {
      "text/plain": [
       "{'item_0': 1, 'item_1': 2, 'item_2': 3, 'item_3': 'four', 'item_4': 'five'}"
      ]
     },
     "execution_count": 30,
     "metadata": {},
     "output_type": "execute_result"
    }
   ],
   "source": [
    "l2o = pwf.list_to_outputs(5)\n",
    "l2o(i2l)"
   ]
  },
  {
   "cell_type": "markdown",
   "id": "3c143e6f-3944-4176-9b20-fc8262bcb2b8",
   "metadata": {},
   "source": [
    "## Workflows\n",
    "\n",
    "Workflows are the main interface point for `pyiron_workflow`, and already discussed in the `quickstart.ipynb`."
   ]
  },
  {
   "cell_type": "markdown",
   "id": "05d33526-8035-4129-87fa-a7d4b9cc76b7",
   "metadata": {},
   "source": [
    "### Workflow IO\n",
    "\n",
    "It bears re-iterating that they differ from all the other nodes we've talked about so far in that their IO _is not static_. It is mutable and varies with the contents of their children. In fact, it gets re-created at each access! And unlike `Macro` nodes, which act as a walled garden, `Workflow` is really giving direct access to the underlying child IO channels:"
   ]
  },
  {
   "cell_type": "code",
   "execution_count": 31,
   "id": "76081796-532a-49a0-aac1-37872184624a",
   "metadata": {},
   "outputs": [],
   "source": [
    "wf = pwf.Workflow(\"no_wall\")\n",
    "wf.child = pwf.standard_nodes.UserInput()\n",
    "\n",
    "assert(wf.inputs.child__user_input is wf.child.inputs.user_input)"
   ]
  },
  {
   "cell_type": "markdown",
   "id": "eeb0b71a-a273-4702-b545-9b8019cac928",
   "metadata": {},
   "source": [
    "If we really want to, we can break the traditional format of `f\"{child.label}__{channel.label}\"` for workflow IO and give it explicit names. Care should be taken that since workflows are mutable, the map may become invalid if the children of the workflow change."
   ]
  },
  {
   "cell_type": "code",
   "execution_count": 32,
   "id": "5202c396-e0da-418b-be59-cbe877715ad2",
   "metadata": {},
   "outputs": [
    {
     "data": {
      "text/plain": [
       "{'out': 'some data'}"
      ]
     },
     "execution_count": 32,
     "metadata": {},
     "output_type": "execute_result"
    }
   ],
   "source": [
    "wf.inputs_map = {\"child__user_input\": \"inp\"}\n",
    "wf.outputs_map = {\"child__user_input\": \"out\"}\n",
    "\n",
    "wf(inp=\"some data\")"
   ]
  },
  {
   "cell_type": "markdown",
   "id": "6c8c78a8-24c6-4853-a35a-e4e05d9baa30",
   "metadata": {},
   "source": [
    "### Modifying contents\n",
    "\n",
    "Another way to add a child is to assign the workflow as a parent at instantiation:"
   ]
  },
  {
   "cell_type": "code",
   "execution_count": 33,
   "id": "139073c2-f4db-477d-9619-d13a9ab6d45c",
   "metadata": {},
   "outputs": [
    {
     "data": {
      "text/plain": [
       "('child', 'UserInput')"
      ]
     },
     "execution_count": 33,
     "metadata": {},
     "output_type": "execute_result"
    }
   ],
   "source": [
    "pwf.standard_nodes.UserInput(parent=wf)\n",
    "wf.child_labels"
   ]
  },
  {
   "cell_type": "markdown",
   "id": "273ea4bf-12e4-4bb0-b5bb-629a60d1f9a5",
   "metadata": {},
   "source": [
    "The key difference between these is that in the latter case, the child node finds out it is a child of the workflow _at instantiation_, while assigning a node to the workflow first fully instantiates it (with some default label, like we see above) and then parents it to the workflow and updates its label according to the workflow attribute name we're using.\n",
    "\n",
    "You can also invoke the `add_child` method to add a node instance as a child directly. If we try this naively, we'll see that the automated name will conflict with an existing child that also used its automated name:"
   ]
  },
  {
   "cell_type": "code",
   "execution_count": 34,
   "id": "50387019-2f3f-4e4b-92da-11a4283b9405",
   "metadata": {},
   "outputs": [
    {
     "name": "stdout",
     "output_type": "stream",
     "text": [
      "AttributeError: UserInput is already the label for a child. Please remove it before assigning another child to this label.\n"
     ]
    }
   ],
   "source": [
    "try:\n",
    "    wf.add_child(pwf.standard_nodes.UserInput())\n",
    "except AttributeError as e:\n",
    "    print(\"AttributeError:\", e)"
   ]
  },
  {
   "cell_type": "markdown",
   "id": "03718bf7-521f-40dc-acdf-a898734c39a6",
   "metadata": {},
   "source": [
    "We could give the child a different name, or we can just allow the workflow to dynamically re-name conflicts:"
   ]
  },
  {
   "cell_type": "code",
   "execution_count": 35,
   "id": "eb45a311-ec0a-474f-b17d-3b58ae111b7e",
   "metadata": {},
   "outputs": [
    {
     "data": {
      "text/plain": [
       "('child', 'UserInput', 'UserInput0')"
      ]
     },
     "execution_count": 35,
     "metadata": {},
     "output_type": "execute_result"
    }
   ],
   "source": [
    "wf.strict_naming = False\n",
    "wf.add_child(pwf.standard_nodes.UserInput())\n",
    "wf.child_labels"
   ]
  },
  {
   "cell_type": "markdown",
   "id": "349e7a94-8b09-4ba7-8ec8-fcf3135e41bd",
   "metadata": {},
   "source": [
    "In a similar way we can remove children by name"
   ]
  },
  {
   "cell_type": "code",
   "execution_count": 36,
   "id": "d280ff55-65f1-4a35-adf2-bae284d53fce",
   "metadata": {},
   "outputs": [
    {
     "data": {
      "text/plain": [
       "('UserInput', 'UserInput0')"
      ]
     },
     "execution_count": 36,
     "metadata": {},
     "output_type": "execute_result"
    }
   ],
   "source": [
    "wf.remove_child(\"child\")\n",
    "wf.child_labels"
   ]
  },
  {
   "cell_type": "markdown",
   "id": "c51a48f3-0eab-49de-874b-5fdb2a107010",
   "metadata": {},
   "source": [
    "or by instance"
   ]
  },
  {
   "cell_type": "code",
   "execution_count": 37,
   "id": "6d671322-0212-4462-a7eb-2b7e1f870799",
   "metadata": {},
   "outputs": [
    {
     "data": {
      "text/plain": [
       "('UserInput0',)"
      ]
     },
     "execution_count": 37,
     "metadata": {},
     "output_type": "execute_result"
    }
   ],
   "source": [
    "wf.remove_child(wf.UserInput)\n",
    "wf.child_labels"
   ]
  },
  {
   "cell_type": "markdown",
   "id": "1b917f0a-c354-4fc1-90dc-04bd828da405",
   "metadata": {},
   "source": [
    "We can also replace children, with the caveat that the replacement must have commensurate IO with what is being replaced"
   ]
  },
  {
   "cell_type": "code",
   "execution_count": 38,
   "id": "5f8f3478-d9e5-46c9-96c2-6af101f30173",
   "metadata": {},
   "outputs": [
    {
     "name": "stdout",
     "output_type": "stream",
     "text": [
      "NOT_DATA\n",
      "42\n"
     ]
    }
   ],
   "source": [
    "replacement = pwf.standard_nodes.UserInput(42)\n",
    "\n",
    "print(wf.UserInput0.inputs.user_input.value)\n",
    "wf.replace_child(wf.UserInput0, replacement)\n",
    "print(wf.UserInput0.inputs.user_input.value)"
   ]
  },
  {
   "cell_type": "markdown",
   "id": "5093b50f-3d2e-41ef-8e66-6bb884a0f027",
   "metadata": {},
   "source": [
    "### Dictionary representation\n",
    "\n",
    "You can get a simple dictionary representation of a given workflow (or macro) with a `'nodes'` subdictionary linking full labels to node instances, and an `'edges'` dictionary further decomposed into `'data'` and `'signals'` that use tuples of full labels as keys for tuples of (output, input) channel instances:"
   ]
  },
  {
   "cell_type": "code",
   "execution_count": 39,
   "id": "9d2cab07-0e64-495f-accd-338eef3e2822",
   "metadata": {},
   "outputs": [
    {
     "data": {
      "text/plain": [
       "{'nodes': {'/graph_as_dict/inp': <pyiron_workflow.nodes.standard.UserInput at 0x108412250>,\n",
       "  '/graph_as_dict/a': <pyiron_workflow.nodes.standard.Add at 0x13132e110>,\n",
       "  '/graph_as_dict/b': <pyiron_workflow.nodes.standard.Add at 0x1083f31d0>,\n",
       "  '/graph_as_dict/out': <pyiron_workflow.nodes.standard.Multiply at 0x1313d3b90>},\n",
       " 'edges': {'data': {('/graph_as_dict/inp.user_input',\n",
       "    '/graph_as_dict/b.obj'): (<pyiron_workflow.mixin.injection.OutputDataWithInjection at 0x108411e10>,\n",
       "    <pyiron_workflow.channels.InputData at 0x13133c790>),\n",
       "   ('/graph_as_dict/inp.user_input',\n",
       "    '/graph_as_dict/a.obj'): (<pyiron_workflow.mixin.injection.OutputDataWithInjection at 0x108411e10>, <pyiron_workflow.channels.InputData at 0x13132dc10>),\n",
       "   ('/graph_as_dict/a.add',\n",
       "    '/graph_as_dict/out.obj'): (<pyiron_workflow.mixin.injection.OutputDataWithInjection at 0x1313337d0>, <pyiron_workflow.channels.InputData at 0x13132c990>),\n",
       "   ('/graph_as_dict/b.add',\n",
       "    '/graph_as_dict/out.other'): (<pyiron_workflow.mixin.injection.OutputDataWithInjection at 0x13134bd10>, <pyiron_workflow.channels.InputData at 0x13132d4d0>)},\n",
       "  'signal': {}}}"
      ]
     },
     "execution_count": 39,
     "metadata": {},
     "output_type": "execute_result"
    }
   ],
   "source": [
    "wf = pwf.Workflow(\"graph_as_dict\")\n",
    "wf.inp = pwf.standard_nodes.UserInput(42)\n",
    "wf.a = wf.inp + 2\n",
    "wf.b = wf.inp + 4\n",
    "wf.out = wf.a * wf.b\n",
    "wf.graph_as_dict"
   ]
  },
  {
   "cell_type": "markdown",
   "id": "111fafb5-22f9-4309-b0e6-5025c8325af7",
   "metadata": {},
   "source": [
    "### Signal flow is created at runtime\n",
    "\n",
    "Just like the IO for a workflow is created at runtime, unless automatic execution is explicitly disabled, the execution signals are empty until a run is triggered. This is why the `'signals'` sub-dictionary above is empty. We can create them from the DAG data flow with a run call:"
   ]
  },
  {
   "cell_type": "code",
   "execution_count": 40,
   "id": "a1055134-0488-4860-b2c8-e99f79cbdf8a",
   "metadata": {},
   "outputs": [
    {
     "name": "stdout",
     "output_type": "stream",
     "text": [
      "/graph_as_dict/inp.ran --> /graph_as_dict/b.accumulate_and_run\n",
      "/graph_as_dict/inp.ran --> /graph_as_dict/a.accumulate_and_run\n",
      "/graph_as_dict/a.ran --> /graph_as_dict/out.accumulate_and_run\n",
      "/graph_as_dict/b.ran --> /graph_as_dict/out.accumulate_and_run\n"
     ]
    }
   ],
   "source": [
    "wf()\n",
    "for (ran, run) in wf.graph_as_dict[\"edges\"][\"signal\"].keys():\n",
    "    print(ran, \"-->\", run)"
   ]
  },
  {
   "cell_type": "markdown",
   "id": "95409984-0ab3-4f6b-a5e4-29f896733034",
   "metadata": {},
   "source": [
    "## `NOT_DATA` because `None` is real\n",
    "\n",
    "You will notice that the default value for node input is `NOT_DATA`. This is because `None` is a real and valid input for many functions, e.g. instead of having a mutable input a function might have `some_list_input = [] if some_list_input is None else some_list_input`. `NOT_DATA` is our way of not stepping on the toes of such uses of `None`.\n",
    "\n",
    "There's not a lot to this, except to note that `NOT_DATA` is a \"singleton\", so all its occurrences will pass an \"is\" test:"
   ]
  },
  {
   "cell_type": "code",
   "execution_count": 41,
   "id": "5cba153a-f03d-4449-bdf2-c84862ec45ae",
   "metadata": {},
   "outputs": [],
   "source": [
    "assert(pwf.standard_nodes.UserInput().inputs.user_input.value is pwf.NOT_DATA)"
   ]
  },
  {
   "cell_type": "markdown",
   "id": "d18c6eba-3a78-448e-92c2-22f317573f39",
   "metadata": {},
   "source": [
    "## Connection ordering and priority\n",
    "\n",
    "When a node runs, it tries to get data by going through its input connections and using the first connection that holds data _other_ than `NOT_DATA`, using its current value (e.g. a default) if none satisfy this. More recent connections are placed higher in the connection list"
   ]
  },
  {
   "cell_type": "code",
   "execution_count": 42,
   "id": "10202174-6543-4ac9-bd9f-3a13c3501842",
   "metadata": {},
   "outputs": [
    {
     "name": "stdout",
     "output_type": "stream",
     "text": [
      "['source1', 'source2', 'source3']\n"
     ]
    },
    {
     "data": {
      "text/plain": [
       "42"
      ]
     },
     "execution_count": 42,
     "metadata": {},
     "output_type": "execute_result"
    }
   ],
   "source": [
    "source1 = pwf.standard_nodes.UserInput(label=\"source1\")\n",
    "source2 = pwf.standard_nodes.UserInput(label=\"source2\")\n",
    "source3 = pwf.standard_nodes.UserInput(label=\"source3\")\n",
    "receiver = pwf.standard_nodes.UserInput(42)\n",
    "\n",
    "receiver.inputs.user_input = source3\n",
    "receiver.inputs.user_input = source2\n",
    "receiver.inputs.user_input = source1\n",
    "print([c.owner.label for c in receiver.inputs.user_input.connections])\n",
    "receiver.run(run_data_tree=False)"
   ]
  },
  {
   "cell_type": "code",
   "execution_count": 43,
   "id": "4c3f2e88-3a5e-4115-9a36-5d17326c4e7b",
   "metadata": {},
   "outputs": [
    {
     "data": {
      "text/plain": [
       "100"
      ]
     },
     "execution_count": 43,
     "metadata": {},
     "output_type": "execute_result"
    }
   ],
   "source": [
    "source2(100)  # Populate source2 output\n",
    "receiver.run(run_data_tree=False)"
   ]
  },
  {
   "cell_type": "code",
   "execution_count": 44,
   "id": "734c6a6e-702a-4702-b4b0-e40435ca6e32",
   "metadata": {},
   "outputs": [
    {
     "data": {
      "text/plain": [
       "0"
      ]
     },
     "execution_count": 44,
     "metadata": {},
     "output_type": "execute_result"
    }
   ],
   "source": [
    "source1(0)  # Populate source1 output\n",
    "receiver.run(run_data_tree=False)"
   ]
  },
  {
   "cell_type": "markdown",
   "id": "9a9ba00d-842c-4e75-a220-ea7da32b9ab6",
   "metadata": {},
   "source": [
    "## Caching\n",
    "\n",
    "By default, all nodes exploit caching. I.e. when they run they save a fresh dictionary of their input values; in all subsequent runs if the dictionary of their current input values matches (`==`) that last-used dictionary, they skip executing altogether and leverage their existing outputs.\n",
    "\n",
    "Any changes to the inputs will obviously stop the cache from being retrieved, but for `Composite` nodes it is also reset if any child nodes are added/removed/replaced.\n",
    "\n",
    "Note that since we do a simple `==` on the dictionary of input values, if your workflow non-idempotently passes around mutable data, it's possible you'll wind up in a situation where you get a false cache hit.\n",
    "\n",
    "Caching behaviour can be defined at the class-level as a default, but can be overridden for individual nodes. Let's take a look:"
   ]
  },
  {
   "cell_type": "code",
   "execution_count": 45,
   "id": "5a3b01be-6539-4617-98c0-30ef008b394d",
   "metadata": {},
   "outputs": [
    {
     "data": {
      "text/plain": [
       "{'always_new__rand': 171, 'cached__rand': 618}"
      ]
     },
     "execution_count": 45,
     "metadata": {},
     "output_type": "execute_result"
    }
   ],
   "source": [
    "import random \n",
    "\n",
    "@pwf.as_function_node(use_cache=False)\n",
    "def Randint(low=0, high=999):\n",
    "    rand = random.randint(low, high)\n",
    "    return rand\n",
    "\n",
    "wf = pwf.Workflow(\"mixed_caching\")\n",
    "wf.use_cache = False  # Turn _off_ caching for the whole workflow!\n",
    "\n",
    "wf.always_new = Randint()\n",
    "wf.cached = Randint()\n",
    "wf.cached.use_cache = True  # Turn _on_ caching for this node\n",
    "\n",
    "wf()"
   ]
  },
  {
   "cell_type": "markdown",
   "id": "a556920b-3d8a-42b2-b480-ae9b95ea1207",
   "metadata": {},
   "source": [
    "Running the same workflow again, we see that the cached node just keeps returning the same \"random\" number, while the un-cached node gives us something new"
   ]
  },
  {
   "cell_type": "code",
   "execution_count": 46,
   "id": "3bf5d930-901b-4067-be74-b82847bc82fd",
   "metadata": {},
   "outputs": [
    {
     "data": {
      "text/plain": [
       "{'always_new__rand': 29, 'cached__rand': 618}"
      ]
     },
     "execution_count": 46,
     "metadata": {},
     "output_type": "execute_result"
    }
   ],
   "source": [
    "wf()"
   ]
  },
  {
   "cell_type": "markdown",
   "id": "8ccfd26a-bace-4eba-922e-7fb6f950cf93",
   "metadata": {},
   "source": [
    "If we look into the caching data, we can see that the non-caching node has not stored any inputs and does not register a cache hit; even if we had previously cached something, if we switch to `use_cache = False`, we won't even look for the cache hit but will just give new data!"
   ]
  },
  {
   "cell_type": "code",
   "execution_count": 47,
   "id": "60adbd5e-94d9-44fd-847c-ebc4b9b3ad2c",
   "metadata": {},
   "outputs": [
    {
     "name": "stdout",
     "output_type": "stream",
     "text": [
      "always_new {'low': 0, 'high': 999} None False\n",
      "cached {'low': 0, 'high': 999} {'low': 0, 'high': 999} True\n"
     ]
    }
   ],
   "source": [
    "for node in wf:\n",
    "    print(node.label, node.inputs.to_value_dict(), node.cached_inputs, node.cache_hit)"
   ]
  },
  {
   "cell_type": "markdown",
   "id": "ecab079a-a757-4276-9b22-5a1d1b771b06",
   "metadata": {},
   "source": [
    "## Mutability\n",
    "\n",
    "In `pyiron_workflow` it's a best-practice to make your nodes functional and idempotent -- i.e. they should not mutate mutable input data! This is python, so we're not going to stop you from doing it, and maybe you'll hit a situation where you really need to...but it's not recommended.\n",
    "\n",
    "Here we'll show a concrete example of what happens when you mutate data, and how this can interact with caching to wind up skipping things you think you should be running."
   ]
  },
  {
   "cell_type": "code",
   "execution_count": 48,
   "id": "fe539e8c-c7e0-4b93-b734-93f1c417f5d9",
   "metadata": {},
   "outputs": [
    {
     "name": "stdout",
     "output_type": "stream",
     "text": [
      "My name is Alice, and I've collected ['Alice']\n",
      "My name is Bob, and I've collected ['Alice', 'Bob']\n",
      "My name is Chandy, and I've collected ['Alice', 'Bob', 'Chandy']\n",
      "My name is Deng, and I've collected ['Alice', 'Bob', 'Chandy', 'Deng']\n"
     ]
    },
    {
     "data": {
      "text/plain": [
       "{'a__my_name_is': \"My name is Alice, and I've collected ['Alice']\",\n",
       " 'b__my_name_is': \"My name is Bob, and I've collected ['Alice', 'Bob']\",\n",
       " 'c__my_name_is': \"My name is Chandy, and I've collected ['Alice', 'Bob', 'Chandy']\",\n",
       " 'd__my_name_is': \"My name is Deng, and I've collected ['Alice', 'Bob', 'Chandy', 'Deng']\",\n",
       " 'd__collection': ['Alice', 'Bob', 'Chandy', 'Deng']}"
      ]
     },
     "execution_count": 48,
     "metadata": {},
     "output_type": "execute_result"
    }
   ],
   "source": [
    "@pwf.as_function_node\n",
    "def SayMyName(name: str, collection: list[str]) -> tuple[str, list[str]]:\n",
    "    collection.append(name)\n",
    "    my_name_is = f\"My name is {name}, and I've collected {collection}\"\n",
    "    print(my_name_is)\n",
    "    return my_name_is, collection\n",
    "\n",
    "wf = pwf.Workflow(\"mutable_trouble\")\n",
    "wf.a = SayMyName(\"Alice\", [])\n",
    "wf.b = SayMyName(\"Bob\", wf.a.outputs.collection)\n",
    "wf.c = SayMyName(\"Chandy\", wf.b.outputs.collection)\n",
    "wf.d = SayMyName(\"Deng\", wf.c.outputs.collection)\n",
    "wf()"
   ]
  },
  {
   "cell_type": "markdown",
   "id": "28d65823-4f08-4ebc-bb17-0bb87ad00d7b",
   "metadata": {},
   "source": [
    "So far everything looks good... but beneath the water trouble is lurking! Our mutable `collection` list is input for _all_ our nodes! That means the \"functional\" contract that the current output of a node corresponds to what it will return if it is run with its current input:"
   ]
  },
  {
   "cell_type": "code",
   "execution_count": 49,
   "id": "5fa37d8f-867a-4d6e-90ad-e7d9f2b8989f",
   "metadata": {},
   "outputs": [
    {
     "data": {
      "text/plain": [
       "{'name': 'Alice', 'collection': ['Alice', 'Bob', 'Chandy', 'Deng']}"
      ]
     },
     "execution_count": 49,
     "metadata": {},
     "output_type": "execute_result"
    }
   ],
   "source": [
    "wf.a.inputs.to_value_dict()"
   ]
  },
  {
   "cell_type": "code",
   "execution_count": 50,
   "id": "1ca3009f-e207-4aae-8628-d27a868109d2",
   "metadata": {},
   "outputs": [
    {
     "data": {
      "text/plain": [
       "{'my_name_is': \"My name is Alice, and I've collected ['Alice']\",\n",
       " 'collection': ['Alice', 'Bob', 'Chandy', 'Deng']}"
      ]
     },
     "execution_count": 50,
     "metadata": {},
     "output_type": "execute_result"
    }
   ],
   "source": [
    "wf.a.outputs.to_value_dict()"
   ]
  },
  {
   "cell_type": "markdown",
   "id": "55ad05c4-48a0-4b97-9e8c-a2c4ba3ecffd",
   "metadata": {},
   "source": [
    "It is painfully obvious that the immutable `'my_name_is'` result doesn't correspond to the alleged input, but the `'collection'` doesn't either as the _last_ element should be `'Alice'` regardless of what collection was passed in."
   ]
  },
  {
   "cell_type": "markdown",
   "id": "049cc61e-c7ae-4ba1-adce-5b09390b7839",
   "metadata": {},
   "source": [
    "This effect also impacts the caching, since the _cached_ inputs are also subject to mutability!"
   ]
  },
  {
   "cell_type": "code",
   "execution_count": 51,
   "id": "954cac45-566e-4135-8b03-6ca2bf337cb2",
   "metadata": {},
   "outputs": [
    {
     "data": {
      "text/plain": [
       "{'name': 'Alice', 'collection': ['Alice', 'Bob', 'Chandy', 'Deng']}"
      ]
     },
     "execution_count": 51,
     "metadata": {},
     "output_type": "execute_result"
    }
   ],
   "source": [
    "wf.a.cached_inputs"
   ]
  },
  {
   "cell_type": "markdown",
   "id": "4f7f7cf1-9e94-44a7-8d01-01f38900d2f2",
   "metadata": {},
   "source": [
    "Thus, we're going to encounter the `inputs == cached_inputs` whether we want it or not, so if we try to re-run the workflow nothing will happen:"
   ]
  },
  {
   "cell_type": "code",
   "execution_count": 52,
   "id": "ca5e08d3-e3d9-4b6c-99b9-a05521bbaf23",
   "metadata": {},
   "outputs": [
    {
     "data": {
      "text/plain": [
       "{'a__my_name_is': \"My name is Alice, and I've collected ['Alice']\",\n",
       " 'b__my_name_is': \"My name is Bob, and I've collected ['Alice', 'Bob']\",\n",
       " 'c__my_name_is': \"My name is Chandy, and I've collected ['Alice', 'Bob', 'Chandy']\",\n",
       " 'd__my_name_is': \"My name is Deng, and I've collected ['Alice', 'Bob', 'Chandy', 'Deng']\",\n",
       " 'd__collection': ['Alice', 'Bob', 'Chandy', 'Deng']}"
      ]
     },
     "execution_count": 52,
     "metadata": {},
     "output_type": "execute_result"
    }
   ],
   "source": [
    "wf()"
   ]
  },
  {
   "cell_type": "markdown",
   "id": "b8dba253-ca75-4ba7-a252-975c7dc55383",
   "metadata": {},
   "source": [
    "As seen in the caching section, we can disable caching altogether to force the workflow to re-run, despite its mutable data:"
   ]
  },
  {
   "cell_type": "code",
   "execution_count": 53,
   "id": "6ce2a6ad-b241-48e8-8303-19f2a64c5a26",
   "metadata": {},
   "outputs": [
    {
     "data": {
      "text/plain": [
       "{'a__my_name_is': \"My name is Alice, and I've collected ['Alice']\",\n",
       " 'b__my_name_is': \"My name is Bob, and I've collected ['Alice', 'Bob']\",\n",
       " 'c__my_name_is': \"My name is Chandy, and I've collected ['Alice', 'Bob', 'Chandy']\",\n",
       " 'd__my_name_is': \"My name is Deng, and I've collected ['Alice', 'Bob', 'Chandy', 'Deng']\",\n",
       " 'd__collection': ['Alice', 'Bob', 'Chandy', 'Deng']}"
      ]
     },
     "execution_count": 53,
     "metadata": {},
     "output_type": "execute_result"
    }
   ],
   "source": [
    "for n in wf:\n",
    "    n.use_cache = False\n",
    "wf()"
   ]
  },
  {
   "cell_type": "markdown",
   "id": "3af541f0-0eab-4d7f-be32-cd906bd1fc5a",
   "metadata": {},
   "source": [
    "## Flow control\n",
    "\n",
    "Workflows and macros automatically generate execution signal connections based on the topology of the data flow (once at instantiation for macros, and at each run for workflows). This is possible if and only if the data flow forms a directed acyclic graph (DAG). It's possible you may want to impose a particular execution order even when there is no direct data dependence between two nodes (although this is a bit of a code smell, and you should seriously ask _should_ these nodes have a data dependence?)\n",
    "\n",
    "Under the hood, when each node finishes running, it fires off all the signals in its `emitting_channels` property. Typically this is just `ran`, but the standard library `If` node shows an example of how this can be extended:"
   ]
  },
  {
   "cell_type": "code",
   "execution_count": 54,
   "id": "6f15aa9c-c51e-4646-bba4-9debb7840031",
   "metadata": {},
   "outputs": [
    {
     "data": {
      "text/plain": [
       "\u001b[0;31mType:\u001b[0m        property\n",
       "\u001b[0;31mString form:\u001b[0m <property object at 0x10b9c1670>\n",
       "\u001b[0;31mSource:\u001b[0m     \n",
       "\u001b[0;31m# pwf.standard_nodes.If.emitting_channels.fget\u001b[0m\u001b[0;34m\u001b[0m\n",
       "\u001b[0;34m\u001b[0m\u001b[0;34m@\u001b[0m\u001b[0mproperty\u001b[0m\u001b[0;34m\u001b[0m\n",
       "\u001b[0;34m\u001b[0m\u001b[0;32mdef\u001b[0m \u001b[0memitting_channels\u001b[0m\u001b[0;34m(\u001b[0m\u001b[0mself\u001b[0m\u001b[0;34m)\u001b[0m \u001b[0;34m->\u001b[0m \u001b[0mtuple\u001b[0m\u001b[0;34m[\u001b[0m\u001b[0mOutputSignal\u001b[0m\u001b[0;34m]\u001b[0m\u001b[0;34m:\u001b[0m\u001b[0;34m\u001b[0m\n",
       "\u001b[0;34m\u001b[0m    \u001b[0;32mif\u001b[0m \u001b[0mself\u001b[0m\u001b[0;34m.\u001b[0m\u001b[0moutputs\u001b[0m\u001b[0;34m.\u001b[0m\u001b[0mtruth\u001b[0m\u001b[0;34m.\u001b[0m\u001b[0mvalue\u001b[0m\u001b[0;34m:\u001b[0m\u001b[0;34m\u001b[0m\n",
       "\u001b[0;34m\u001b[0m        \u001b[0;32mreturn\u001b[0m \u001b[0;34m(\u001b[0m\u001b[0;34m*\u001b[0m\u001b[0msuper\u001b[0m\u001b[0;34m(\u001b[0m\u001b[0;34m)\u001b[0m\u001b[0;34m.\u001b[0m\u001b[0memitting_channels\u001b[0m\u001b[0;34m,\u001b[0m \u001b[0mself\u001b[0m\u001b[0;34m.\u001b[0m\u001b[0msignals\u001b[0m\u001b[0;34m.\u001b[0m\u001b[0moutput\u001b[0m\u001b[0;34m.\u001b[0m\u001b[0mtrue\u001b[0m\u001b[0;34m)\u001b[0m\u001b[0;34m\u001b[0m\n",
       "\u001b[0;34m\u001b[0m    \u001b[0;32melse\u001b[0m\u001b[0;34m:\u001b[0m\u001b[0;34m\u001b[0m\n",
       "\u001b[0;34m\u001b[0m        \u001b[0;32mreturn\u001b[0m \u001b[0;34m(\u001b[0m\u001b[0;34m*\u001b[0m\u001b[0msuper\u001b[0m\u001b[0;34m(\u001b[0m\u001b[0;34m)\u001b[0m\u001b[0;34m.\u001b[0m\u001b[0memitting_channels\u001b[0m\u001b[0;34m,\u001b[0m \u001b[0mself\u001b[0m\u001b[0;34m.\u001b[0m\u001b[0msignals\u001b[0m\u001b[0;34m.\u001b[0m\u001b[0moutput\u001b[0m\u001b[0;34m.\u001b[0m\u001b[0mfalse\u001b[0m\u001b[0;34m)\u001b[0m\u001b[0;34m\u001b[0m\u001b[0;34m\u001b[0m\u001b[0m"
      ]
     },
     "metadata": {},
     "output_type": "display_data"
    }
   ],
   "source": [
    "pwf.standard_nodes.If.emitting_channels??"
   ]
  },
  {
   "cell_type": "markdown",
   "id": "c0fa89a2-41b4-4a24-ae74-07450404653c",
   "metadata": {},
   "source": [
    "These output signal channels can be connected to input signal channels which trigger functions on their owner -- a `run` command for the default input signal channels. This can happen directly (when unparented nodes are connected) or by the mediation of a parent (if the nodes belong to a workflow or macro)."
   ]
  },
  {
   "cell_type": "markdown",
   "id": "ef7a9c52-1562-40d3-ae06-5fa9e8298ea1",
   "metadata": {},
   "source": [
    "The two standard input signals are `run`, which triggers a run whenever _any_ of its connections emits, or `accumulate_and_run`, which triggers a run after _all_ of its connections have emitted at least once:"
   ]
  },
  {
   "cell_type": "code",
   "execution_count": 55,
   "id": "3cec7b96-2ad4-48f8-bd30-ac022ee8a758",
   "metadata": {},
   "outputs": [
    {
     "name": "stdout",
     "output_type": "stream",
     "text": [
      "  start\n",
      "start  immediate\n",
      "start immediate collecting\n"
     ]
    },
    {
     "data": {
      "text/plain": [
       "{'collecting__z': 'collecting'}"
      ]
     },
     "execution_count": 55,
     "metadata": {},
     "output_type": "execute_result"
    }
   ],
   "source": [
    "@pwf.as_function_node\n",
    "def Verbose(x, y, z):\n",
    "    print(x, y, z)\n",
    "    return z\n",
    "\n",
    "wf = pwf.Workflow(\"run_control\")\n",
    "wf.start = Verbose(\"\", \"\", \"start\")\n",
    "wf.immediate = Verbose(wf.start, \"\", \"immediate\")\n",
    "wf.collecting = Verbose(wf.start, wf.immediate, \"collecting\")\n",
    "\n",
    "wf.immediate.signals.input.run = wf.start.signals.output.ran\n",
    "wf.collecting.signals.input.accumulate_and_run = wf.start.signals.output.ran\n",
    "wf.collecting.signals.input.accumulate_and_run = wf.immediate.signals.output.ran\n",
    "\n",
    "wf.starting_nodes = [wf.start]\n",
    "\n",
    "# If _any_ signals are manually set, then _all_ signals and starting nodes must be set\n",
    "# There is no mixing and matching\n",
    "\n",
    "wf.automate_execution = False  # This flag is needed only for Workflows, but not in Macro definitions\n",
    "\n",
    "wf()"
   ]
  },
  {
   "cell_type": "code",
   "execution_count": 56,
   "id": "d27bb0d5-26ea-4675-8fda-e4ce0b489591",
   "metadata": {},
   "outputs": [
    {
     "data": {
      "image/svg+xml": [
       "<?xml version=\"1.0\" encoding=\"UTF-8\" standalone=\"no\"?>\n",
       "<!DOCTYPE svg PUBLIC \"-//W3C//DTD SVG 1.1//EN\"\n",
       " \"http://www.w3.org/Graphics/SVG/1.1/DTD/svg11.dtd\">\n",
       "<!-- Generated by graphviz version 12.0.0 (0)\n",
       " -->\n",
       "<!-- Title: clusterrun_control Pages: 1 -->\n",
       "<svg width=\"720pt\" height=\"258pt\"\n",
       " viewBox=\"0.00 0.00 720.00 258.03\" xmlns=\"http://www.w3.org/2000/svg\" xmlns:xlink=\"http://www.w3.org/1999/xlink\">\n",
       "<g id=\"graph0\" class=\"graph\" transform=\"scale(0.516059 0.516059) rotate(0) translate(4 496)\">\n",
       "<title>clusterrun_control</title>\n",
       "<polygon fill=\"white\" stroke=\"none\" points=\"-4,4 -4,-496 1391.19,-496 1391.19,4 -4,4\"/>\n",
       "<text text-anchor=\"middle\" x=\"693.59\" y=\"-5.7\" font-family=\"Helvetica,sans-Serif\" font-size=\"14.00\">run_control: Workflow</text>\n",
       "<g id=\"clust1\" class=\"cluster\">\n",
       "<title>clusterrun_controlInputs</title>\n",
       "<defs>\n",
       "<linearGradient id=\"clust1_l_0\" gradientUnits=\"userSpaceOnUse\" x1=\"8\" y1=\"-257.5\" x2=\"166.75\" y2=\"-257.5\" >\n",
       "<stop offset=\"0\" style=\"stop-color:#a5a4a5;stop-opacity:1.;\"/>\n",
       "<stop offset=\"1\" style=\"stop-color:#e4e3e4;stop-opacity:1.;\"/>\n",
       "</linearGradient>\n",
       "</defs>\n",
       "<polygon fill=\"url(#clust1_l_0)\" stroke=\"#a5a4a5\" points=\"8,-31 8,-484 166.75,-484 166.75,-31 8,-31\"/>\n",
       "<text text-anchor=\"middle\" x=\"87.38\" y=\"-466.7\" font-family=\"Helvetica,sans-Serif\" font-size=\"14.00\">Inputs</text>\n",
       "</g>\n",
       "<g id=\"clust2\" class=\"cluster\">\n",
       "<title>clusterrun_controlOutputs</title>\n",
       "<defs>\n",
       "<linearGradient id=\"clust2_l_1\" gradientUnits=\"userSpaceOnUse\" x1=\"1379.19\" y1=\"-149.5\" x2=\"1241\" y2=\"-149.5\" >\n",
       "<stop offset=\"0\" style=\"stop-color:#a5a4a5;stop-opacity:1.;\"/>\n",
       "<stop offset=\"1\" style=\"stop-color:#e4e3e4;stop-opacity:1.;\"/>\n",
       "</linearGradient>\n",
       "</defs>\n",
       "<polygon fill=\"url(#clust2_l_1)\" stroke=\"#a5a4a5\" points=\"1241,-85 1241,-214 1379.19,-214 1379.19,-85 1241,-85\"/>\n",
       "<text text-anchor=\"middle\" x=\"1310.09\" y=\"-196.7\" font-family=\"Helvetica,sans-Serif\" font-size=\"14.00\">Outputs</text>\n",
       "</g>\n",
       "<g id=\"clust3\" class=\"cluster\">\n",
       "<title>clusterrun_controlstart</title>\n",
       "<defs>\n",
       "<linearGradient id=\"clust3_l_2\" gradientUnits=\"userSpaceOnUse\" x1=\"178.75\" y1=\"-296\" x2=\"523.5\" y2=\"-296\" >\n",
       "<stop offset=\"0\" style=\"stop-color:#bfe2bf;stop-opacity:1.;\"/>\n",
       "<stop offset=\"1\" style=\"stop-color:#bfe2bf;stop-opacity:1.;\"/>\n",
       "</linearGradient>\n",
       "</defs>\n",
       "<polygon fill=\"url(#clust3_l_2)\" stroke=\"#bfe2bf\" points=\"178.75,-131 178.75,-461 523.5,-461 523.5,-131 178.75,-131\"/>\n",
       "<text text-anchor=\"middle\" x=\"351.12\" y=\"-443.7\" font-family=\"Helvetica,sans-Serif\" font-size=\"14.00\">start: Verbose</text>\n",
       "</g>\n",
       "<g id=\"clust4\" class=\"cluster\">\n",
       "<title>clusterrun_controlstartInputs</title>\n",
       "<defs>\n",
       "<linearGradient id=\"clust4_l_3\" gradientUnits=\"userSpaceOnUse\" x1=\"186.75\" y1=\"-284.5\" x2=\"345.5\" y2=\"-284.5\" >\n",
       "<stop offset=\"0\" style=\"stop-color:#a5a4a5;stop-opacity:1.;\"/>\n",
       "<stop offset=\"1\" style=\"stop-color:#e4e3e4;stop-opacity:1.;\"/>\n",
       "</linearGradient>\n",
       "</defs>\n",
       "<polygon fill=\"url(#clust4_l_3)\" stroke=\"#a5a4a5\" points=\"186.75,-139 186.75,-430 345.5,-430 345.5,-139 186.75,-139\"/>\n",
       "<text text-anchor=\"middle\" x=\"266.12\" y=\"-412.7\" font-family=\"Helvetica,sans-Serif\" font-size=\"14.00\">Inputs</text>\n",
       "</g>\n",
       "<g id=\"clust5\" class=\"cluster\">\n",
       "<title>clusterrun_controlstartOutputsWithInjection</title>\n",
       "<defs>\n",
       "<linearGradient id=\"clust5_l_4\" gradientUnits=\"userSpaceOnUse\" x1=\"515.5\" y1=\"-275.5\" x2=\"373.5\" y2=\"-275.5\" >\n",
       "<stop offset=\"0\" style=\"stop-color:#a5a4a5;stop-opacity:1.;\"/>\n",
       "<stop offset=\"1\" style=\"stop-color:#e4e3e4;stop-opacity:1.;\"/>\n",
       "</linearGradient>\n",
       "</defs>\n",
       "<polygon fill=\"url(#clust5_l_4)\" stroke=\"#a5a4a5\" points=\"373.5,-211 373.5,-340 515.5,-340 515.5,-211 373.5,-211\"/>\n",
       "<text text-anchor=\"middle\" x=\"444.5\" y=\"-322.7\" font-family=\"Helvetica,sans-Serif\" font-size=\"14.00\">OutputsWithInjection</text>\n",
       "</g>\n",
       "<g id=\"clust6\" class=\"cluster\">\n",
       "<title>clusterrun_controlimmediate</title>\n",
       "<defs>\n",
       "<linearGradient id=\"clust6_l_5\" gradientUnits=\"userSpaceOnUse\" x1=\"531.5\" y1=\"-206\" x2=\"876.25\" y2=\"-206\" >\n",
       "<stop offset=\"0\" style=\"stop-color:#bfe2bf;stop-opacity:1.;\"/>\n",
       "<stop offset=\"1\" style=\"stop-color:#bfe2bf;stop-opacity:1.;\"/>\n",
       "</linearGradient>\n",
       "</defs>\n",
       "<polygon fill=\"url(#clust6_l_5)\" stroke=\"#bfe2bf\" points=\"531.5,-41 531.5,-371 876.25,-371 876.25,-41 531.5,-41\"/>\n",
       "<text text-anchor=\"middle\" x=\"703.88\" y=\"-353.7\" font-family=\"Helvetica,sans-Serif\" font-size=\"14.00\">immediate: Verbose</text>\n",
       "</g>\n",
       "<g id=\"clust7\" class=\"cluster\">\n",
       "<title>clusterrun_controlimmediateInputs</title>\n",
       "<defs>\n",
       "<linearGradient id=\"clust7_l_6\" gradientUnits=\"userSpaceOnUse\" x1=\"539.5\" y1=\"-194.5\" x2=\"698.25\" y2=\"-194.5\" >\n",
       "<stop offset=\"0\" style=\"stop-color:#a5a4a5;stop-opacity:1.;\"/>\n",
       "<stop offset=\"1\" style=\"stop-color:#e4e3e4;stop-opacity:1.;\"/>\n",
       "</linearGradient>\n",
       "</defs>\n",
       "<polygon fill=\"url(#clust7_l_6)\" stroke=\"#a5a4a5\" points=\"539.5,-49 539.5,-340 698.25,-340 698.25,-49 539.5,-49\"/>\n",
       "<text text-anchor=\"middle\" x=\"618.88\" y=\"-322.7\" font-family=\"Helvetica,sans-Serif\" font-size=\"14.00\">Inputs</text>\n",
       "</g>\n",
       "<g id=\"clust8\" class=\"cluster\">\n",
       "<title>clusterrun_controlimmediateOutputsWithInjection</title>\n",
       "<defs>\n",
       "<linearGradient id=\"clust8_l_7\" gradientUnits=\"userSpaceOnUse\" x1=\"868.25\" y1=\"-275.5\" x2=\"726.25\" y2=\"-275.5\" >\n",
       "<stop offset=\"0\" style=\"stop-color:#a5a4a5;stop-opacity:1.;\"/>\n",
       "<stop offset=\"1\" style=\"stop-color:#e4e3e4;stop-opacity:1.;\"/>\n",
       "</linearGradient>\n",
       "</defs>\n",
       "<polygon fill=\"url(#clust8_l_7)\" stroke=\"#a5a4a5\" points=\"726.25,-211 726.25,-340 868.25,-340 868.25,-211 726.25,-211\"/>\n",
       "<text text-anchor=\"middle\" x=\"797.25\" y=\"-322.7\" font-family=\"Helvetica,sans-Serif\" font-size=\"14.00\">OutputsWithInjection</text>\n",
       "</g>\n",
       "<g id=\"clust9\" class=\"cluster\">\n",
       "<title>clusterrun_controlcollecting</title>\n",
       "<defs>\n",
       "<linearGradient id=\"clust9_l_8\" gradientUnits=\"userSpaceOnUse\" x1=\"884.25\" y1=\"-316\" x2=\"1229\" y2=\"-316\" >\n",
       "<stop offset=\"0\" style=\"stop-color:#bfe2bf;stop-opacity:1.;\"/>\n",
       "<stop offset=\"1\" style=\"stop-color:#bfe2bf;stop-opacity:1.;\"/>\n",
       "</linearGradient>\n",
       "</defs>\n",
       "<polygon fill=\"url(#clust9_l_8)\" stroke=\"#bfe2bf\" points=\"884.25,-151 884.25,-481 1229,-481 1229,-151 884.25,-151\"/>\n",
       "<text text-anchor=\"middle\" x=\"1056.62\" y=\"-463.7\" font-family=\"Helvetica,sans-Serif\" font-size=\"14.00\">collecting: Verbose</text>\n",
       "</g>\n",
       "<g id=\"clust10\" class=\"cluster\">\n",
       "<title>clusterrun_controlcollectingInputs</title>\n",
       "<defs>\n",
       "<linearGradient id=\"clust10_l_9\" gradientUnits=\"userSpaceOnUse\" x1=\"892.25\" y1=\"-304.5\" x2=\"1051\" y2=\"-304.5\" >\n",
       "<stop offset=\"0\" style=\"stop-color:#a5a4a5;stop-opacity:1.;\"/>\n",
       "<stop offset=\"1\" style=\"stop-color:#e4e3e4;stop-opacity:1.;\"/>\n",
       "</linearGradient>\n",
       "</defs>\n",
       "<polygon fill=\"url(#clust10_l_9)\" stroke=\"#a5a4a5\" points=\"892.25,-159 892.25,-450 1051,-450 1051,-159 892.25,-159\"/>\n",
       "<text text-anchor=\"middle\" x=\"971.63\" y=\"-432.7\" font-family=\"Helvetica,sans-Serif\" font-size=\"14.00\">Inputs</text>\n",
       "</g>\n",
       "<g id=\"clust11\" class=\"cluster\">\n",
       "<title>clusterrun_controlcollectingOutputsWithInjection</title>\n",
       "<defs>\n",
       "<linearGradient id=\"clust11_l_10\" gradientUnits=\"userSpaceOnUse\" x1=\"1221\" y1=\"-223.5\" x2=\"1079\" y2=\"-223.5\" >\n",
       "<stop offset=\"0\" style=\"stop-color:#a5a4a5;stop-opacity:1.;\"/>\n",
       "<stop offset=\"1\" style=\"stop-color:#e4e3e4;stop-opacity:1.;\"/>\n",
       "</linearGradient>\n",
       "</defs>\n",
       "<polygon fill=\"url(#clust11_l_10)\" stroke=\"#a5a4a5\" points=\"1079,-159 1079,-288 1221,-288 1221,-159 1079,-159\"/>\n",
       "<text text-anchor=\"middle\" x=\"1150\" y=\"-270.7\" font-family=\"Helvetica,sans-Serif\" font-size=\"14.00\">OutputsWithInjection</text>\n",
       "</g>\n",
       "<!-- clusterrun_controlInputsrun -->\n",
       "<g id=\"node1\" class=\"node\">\n",
       "<title>clusterrun_controlInputsrun</title>\n",
       "<polygon fill=\"#21bfd8\" stroke=\"#21bfd8\" points=\"102.38,-69 60.38,-69 60.38,-45 102.38,-45 114.38,-57 102.38,-69\"/>\n",
       "<text text-anchor=\"middle\" x=\"87.38\" y=\"-51.2\" font-family=\"Helvetica,sans-Serif\" font-size=\"14.00\">run</text>\n",
       "</g>\n",
       "<!-- clusterrun_controlOutputsran -->\n",
       "<g id=\"node9\" class=\"node\">\n",
       "<title>clusterrun_controlOutputsran</title>\n",
       "<polygon fill=\"#21bfd8\" stroke=\"#21bfd8\" points=\"1325.09,-123 1283.09,-123 1283.09,-99 1325.09,-99 1337.09,-111 1325.09,-123\"/>\n",
       "<text text-anchor=\"middle\" x=\"1310.09\" y=\"-105.2\" font-family=\"Helvetica,sans-Serif\" font-size=\"14.00\">ran</text>\n",
       "</g>\n",
       "<!-- clusterrun_controlInputsrun&#45;&gt;clusterrun_controlOutputsran -->\n",
       "<!-- clusterrun_controlInputsaccumulate_and_run -->\n",
       "<g id=\"node2\" class=\"node\">\n",
       "<title>clusterrun_controlInputsaccumulate_and_run</title>\n",
       "<polygon fill=\"#21bfd8\" stroke=\"#21bfd8\" points=\"146.75,-123 16,-123 16,-99 146.75,-99 158.75,-111 146.75,-123\"/>\n",
       "<text text-anchor=\"middle\" x=\"87.38\" y=\"-105.2\" font-family=\"Helvetica,sans-Serif\" font-size=\"14.00\">accumulate_and_run</text>\n",
       "</g>\n",
       "<!-- clusterrun_controlInputsstart__x -->\n",
       "<g id=\"node3\" class=\"node\">\n",
       "<title>clusterrun_controlInputsstart__x</title>\n",
       "<ellipse fill=\"#edb22c\" stroke=\"#edb22c\" cx=\"87.38\" cy=\"-327\" rx=\"41.6\" ry=\"18\"/>\n",
       "<text text-anchor=\"middle\" x=\"87.38\" y=\"-321.2\" font-family=\"Helvetica,sans-Serif\" font-size=\"14.00\">start__x</text>\n",
       "</g>\n",
       "<!-- clusterrun_controlstartInputsx -->\n",
       "<g id=\"node13\" class=\"node\">\n",
       "<title>clusterrun_controlstartInputsx</title>\n",
       "<ellipse fill=\"#edb22c\" stroke=\"#edb22c\" cx=\"266.12\" cy=\"-327\" rx=\"27\" ry=\"18\"/>\n",
       "<text text-anchor=\"middle\" x=\"266.12\" y=\"-321.2\" font-family=\"Helvetica,sans-Serif\" font-size=\"14.00\">x</text>\n",
       "</g>\n",
       "<!-- clusterrun_controlInputsstart__x&#45;&gt;clusterrun_controlstartInputsx -->\n",
       "<g id=\"edge11\" class=\"edge\">\n",
       "<title>clusterrun_controlInputsstart__x&#45;&gt;clusterrun_controlstartInputsx</title>\n",
       "<path fill=\"none\" stroke=\"#edb22c\" d=\"M129.37,-327C144.2,-327 161.57,-327 178.82,-327\"/>\n",
       "<path fill=\"none\" stroke=\"#edb22c\" d=\"M178.82,-327C196.08,-327 213.23,-327 227.64,-327\"/>\n",
       "<polygon fill=\"#edb22c\" stroke=\"#edb22c\" points=\"227.36,-330.5 237.36,-327 227.36,-323.5 227.36,-330.5\"/>\n",
       "</g>\n",
       "<!-- clusterrun_controlInputsstart__y -->\n",
       "<g id=\"node4\" class=\"node\">\n",
       "<title>clusterrun_controlInputsstart__y</title>\n",
       "<ellipse fill=\"#edb22c\" stroke=\"#edb22c\" cx=\"87.38\" cy=\"-381\" rx=\"41.6\" ry=\"18\"/>\n",
       "<text text-anchor=\"middle\" x=\"87.38\" y=\"-375.2\" font-family=\"Helvetica,sans-Serif\" font-size=\"14.00\">start__y</text>\n",
       "</g>\n",
       "<!-- clusterrun_controlstartInputsy -->\n",
       "<g id=\"node14\" class=\"node\">\n",
       "<title>clusterrun_controlstartInputsy</title>\n",
       "<ellipse fill=\"#edb22c\" stroke=\"#edb22c\" cx=\"266.12\" cy=\"-381\" rx=\"27\" ry=\"18\"/>\n",
       "<text text-anchor=\"middle\" x=\"266.12\" y=\"-375.2\" font-family=\"Helvetica,sans-Serif\" font-size=\"14.00\">y</text>\n",
       "</g>\n",
       "<!-- clusterrun_controlInputsstart__y&#45;&gt;clusterrun_controlstartInputsy -->\n",
       "<g id=\"edge12\" class=\"edge\">\n",
       "<title>clusterrun_controlInputsstart__y&#45;&gt;clusterrun_controlstartInputsy</title>\n",
       "<path fill=\"none\" stroke=\"#edb22c\" d=\"M129.37,-381C144.2,-381 161.57,-381 178.82,-381\"/>\n",
       "<path fill=\"none\" stroke=\"#edb22c\" d=\"M178.82,-381C196.08,-381 213.23,-381 227.64,-381\"/>\n",
       "<polygon fill=\"#edb22c\" stroke=\"#edb22c\" points=\"227.36,-384.5 237.36,-381 227.36,-377.5 227.36,-384.5\"/>\n",
       "</g>\n",
       "<!-- clusterrun_controlInputsstart__z -->\n",
       "<g id=\"node5\" class=\"node\">\n",
       "<title>clusterrun_controlInputsstart__z</title>\n",
       "<ellipse fill=\"#edb22c\" stroke=\"#edb22c\" cx=\"87.38\" cy=\"-273\" rx=\"41.6\" ry=\"18\"/>\n",
       "<text text-anchor=\"middle\" x=\"87.38\" y=\"-267.2\" font-family=\"Helvetica,sans-Serif\" font-size=\"14.00\">start__z</text>\n",
       "</g>\n",
       "<!-- clusterrun_controlstartInputsz -->\n",
       "<g id=\"node15\" class=\"node\">\n",
       "<title>clusterrun_controlstartInputsz</title>\n",
       "<ellipse fill=\"#edb22c\" stroke=\"#edb22c\" cx=\"266.12\" cy=\"-273\" rx=\"27\" ry=\"18\"/>\n",
       "<text text-anchor=\"middle\" x=\"266.12\" y=\"-267.2\" font-family=\"Helvetica,sans-Serif\" font-size=\"14.00\">z</text>\n",
       "</g>\n",
       "<!-- clusterrun_controlInputsstart__z&#45;&gt;clusterrun_controlstartInputsz -->\n",
       "<g id=\"edge13\" class=\"edge\">\n",
       "<title>clusterrun_controlInputsstart__z&#45;&gt;clusterrun_controlstartInputsz</title>\n",
       "<path fill=\"none\" stroke=\"#edb22c\" d=\"M129.37,-273C144.2,-273 161.57,-273 178.82,-273\"/>\n",
       "<path fill=\"none\" stroke=\"#edb22c\" d=\"M178.82,-273C196.08,-273 213.23,-273 227.64,-273\"/>\n",
       "<polygon fill=\"#edb22c\" stroke=\"#edb22c\" points=\"227.36,-276.5 237.36,-273 227.36,-269.5 227.36,-276.5\"/>\n",
       "</g>\n",
       "<!-- clusterrun_controlInputsimmediate__y -->\n",
       "<g id=\"node6\" class=\"node\">\n",
       "<title>clusterrun_controlInputsimmediate__y</title>\n",
       "<ellipse fill=\"#edb22c\" stroke=\"#edb22c\" cx=\"87.38\" cy=\"-219\" rx=\"65.97\" ry=\"18\"/>\n",
       "<text text-anchor=\"middle\" x=\"87.38\" y=\"-213.2\" font-family=\"Helvetica,sans-Serif\" font-size=\"14.00\">immediate__y</text>\n",
       "</g>\n",
       "<!-- clusterrun_controlimmediateInputsy -->\n",
       "<g id=\"node21\" class=\"node\">\n",
       "<title>clusterrun_controlimmediateInputsy</title>\n",
       "<ellipse fill=\"#edb22c\" stroke=\"#edb22c\" cx=\"618.88\" cy=\"-183\" rx=\"27\" ry=\"18\"/>\n",
       "<text text-anchor=\"middle\" x=\"618.88\" y=\"-177.2\" font-family=\"Helvetica,sans-Serif\" font-size=\"14.00\">y</text>\n",
       "</g>\n",
       "<!-- clusterrun_controlInputsimmediate__y&#45;&gt;clusterrun_controlimmediateInputsy -->\n",
       "<g id=\"edge14\" class=\"edge\">\n",
       "<title>clusterrun_controlInputsimmediate__y&#45;&gt;clusterrun_controlimmediateInputsy</title>\n",
       "<path fill=\"none\" stroke=\"#edb22c\" d=\"M142.22,-208.74C151.45,-204.84 160.18,-199.44 166.75,-192 183.88,-172.59 158.65,-151.31 178.75,-135 201.36,-116.65 249.2,-113.41 305.32,-117.94\"/>\n",
       "<path fill=\"none\" stroke=\"#edb22c\" d=\"M305.32,-117.94C402.07,-125.73 523.42,-156.61 582.41,-172.86\"/>\n",
       "<polygon fill=\"#edb22c\" stroke=\"#edb22c\" points=\"581.46,-176.23 592.03,-175.54 583.33,-169.49 581.46,-176.23\"/>\n",
       "</g>\n",
       "<!-- clusterrun_controlInputsimmediate__z -->\n",
       "<g id=\"node7\" class=\"node\">\n",
       "<title>clusterrun_controlInputsimmediate__z</title>\n",
       "<ellipse fill=\"#edb22c\" stroke=\"#edb22c\" cx=\"87.38\" cy=\"-165\" rx=\"65.97\" ry=\"18\"/>\n",
       "<text text-anchor=\"middle\" x=\"87.38\" y=\"-159.2\" font-family=\"Helvetica,sans-Serif\" font-size=\"14.00\">immediate__z</text>\n",
       "</g>\n",
       "<!-- clusterrun_controlimmediateInputsz -->\n",
       "<g id=\"node22\" class=\"node\">\n",
       "<title>clusterrun_controlimmediateInputsz</title>\n",
       "<ellipse fill=\"#edb22c\" stroke=\"#edb22c\" cx=\"618.88\" cy=\"-75\" rx=\"27\" ry=\"18\"/>\n",
       "<text text-anchor=\"middle\" x=\"618.88\" y=\"-69.2\" font-family=\"Helvetica,sans-Serif\" font-size=\"14.00\">z</text>\n",
       "</g>\n",
       "<!-- clusterrun_controlInputsimmediate__z&#45;&gt;clusterrun_controlimmediateInputsz -->\n",
       "<g id=\"edge15\" class=\"edge\">\n",
       "<title>clusterrun_controlInputsimmediate__z&#45;&gt;clusterrun_controlimmediateInputsz</title>\n",
       "<path fill=\"none\" stroke=\"#edb22c\" d=\"M140.13,-153.81C149.77,-149.98 159.17,-144.85 166.75,-138 176.19,-129.46 168.33,-119.3 178.75,-112 231.34,-75.15 296.65,-58.48 360.69,-52.73\"/>\n",
       "<path fill=\"none\" stroke=\"#edb22c\" d=\"M360.69,-52.73C449.17,-44.78 535.23,-57.67 581.92,-66.91\"/>\n",
       "<polygon fill=\"#edb22c\" stroke=\"#edb22c\" points=\"580.94,-70.28 591.44,-68.87 582.35,-63.43 580.94,-70.28\"/>\n",
       "</g>\n",
       "<!-- clusterrun_controlInputscollecting__z -->\n",
       "<g id=\"node8\" class=\"node\">\n",
       "<title>clusterrun_controlInputscollecting__z</title>\n",
       "<ellipse fill=\"#edb22c\" stroke=\"#edb22c\" cx=\"87.38\" cy=\"-435\" rx=\"61.09\" ry=\"18\"/>\n",
       "<text text-anchor=\"middle\" x=\"87.38\" y=\"-429.2\" font-family=\"Helvetica,sans-Serif\" font-size=\"14.00\">collecting__z</text>\n",
       "</g>\n",
       "<!-- clusterrun_controlcollectingInputsz -->\n",
       "<g id=\"node29\" class=\"node\">\n",
       "<title>clusterrun_controlcollectingInputsz</title>\n",
       "<ellipse fill=\"#edb22c\" stroke=\"#edb22c\" cx=\"971.63\" cy=\"-401\" rx=\"27\" ry=\"18\"/>\n",
       "<text text-anchor=\"middle\" x=\"971.63\" y=\"-395.2\" font-family=\"Helvetica,sans-Serif\" font-size=\"14.00\">z</text>\n",
       "</g>\n",
       "<!-- clusterrun_controlInputscollecting__z&#45;&gt;clusterrun_controlcollectingInputsz -->\n",
       "<g id=\"edge16\" class=\"edge\">\n",
       "<title>clusterrun_controlInputscollecting__z&#45;&gt;clusterrun_controlcollectingInputsz</title>\n",
       "<path fill=\"none\" stroke=\"#edb22c\" d=\"M138.64,-445.21C207.14,-458.2 333.81,-479 443,-479 443,-479 443,-479 473.64,-479\"/>\n",
       "<path fill=\"none\" stroke=\"#edb22c\" d=\"M473.64,-479C497.97,-479 541.6,-479 619.88,-479 738.8,-479 875.1,-435.75 936.96,-413.66\"/>\n",
       "<polygon fill=\"#edb22c\" stroke=\"#edb22c\" points=\"937.99,-417.01 946.2,-410.31 935.61,-410.43 937.99,-417.01\"/>\n",
       "</g>\n",
       "<!-- clusterrun_controlOutputscollecting__z -->\n",
       "<g id=\"node10\" class=\"node\">\n",
       "<title>clusterrun_controlOutputscollecting__z</title>\n",
       "<ellipse fill=\"#edb22c\" stroke=\"#edb22c\" cx=\"1310.09\" cy=\"-165\" rx=\"61.09\" ry=\"18\"/>\n",
       "<text text-anchor=\"middle\" x=\"1310.09\" y=\"-159.2\" font-family=\"Helvetica,sans-Serif\" font-size=\"14.00\">collecting__z</text>\n",
       "</g>\n",
       "<!-- clusterrun_controlstartInputsrun -->\n",
       "<g id=\"node11\" class=\"node\">\n",
       "<title>clusterrun_controlstartInputsrun</title>\n",
       "<polygon fill=\"#21bfd8\" stroke=\"#21bfd8\" points=\"281.12,-177 239.12,-177 239.12,-153 281.12,-153 293.12,-165 281.12,-177\"/>\n",
       "<text text-anchor=\"middle\" x=\"266.12\" y=\"-159.2\" font-family=\"Helvetica,sans-Serif\" font-size=\"14.00\">run</text>\n",
       "</g>\n",
       "<!-- clusterrun_controlstartOutputsWithInjectionran -->\n",
       "<g id=\"node16\" class=\"node\">\n",
       "<title>clusterrun_controlstartOutputsWithInjectionran</title>\n",
       "<polygon fill=\"#21bfd8\" stroke=\"#21bfd8\" points=\"459,-249 417,-249 417,-225 459,-225 471,-237 459,-249\"/>\n",
       "<text text-anchor=\"middle\" x=\"444\" y=\"-231.2\" font-family=\"Helvetica,sans-Serif\" font-size=\"14.00\">ran</text>\n",
       "</g>\n",
       "<!-- clusterrun_controlstartInputsrun&#45;&gt;clusterrun_controlstartOutputsWithInjectionran -->\n",
       "<!-- clusterrun_controlstartInputsaccumulate_and_run -->\n",
       "<g id=\"node12\" class=\"node\">\n",
       "<title>clusterrun_controlstartInputsaccumulate_and_run</title>\n",
       "<polygon fill=\"#21bfd8\" stroke=\"#21bfd8\" points=\"325.5,-231 194.75,-231 194.75,-207 325.5,-207 337.5,-219 325.5,-231\"/>\n",
       "<text text-anchor=\"middle\" x=\"266.12\" y=\"-213.2\" font-family=\"Helvetica,sans-Serif\" font-size=\"14.00\">accumulate_and_run</text>\n",
       "</g>\n",
       "<!-- clusterrun_controlimmediateInputsrun -->\n",
       "<g id=\"node18\" class=\"node\">\n",
       "<title>clusterrun_controlimmediateInputsrun</title>\n",
       "<polygon fill=\"#21bfd8\" stroke=\"#21bfd8\" points=\"633.88,-249 591.88,-249 591.88,-225 633.88,-225 645.88,-237 633.88,-249\"/>\n",
       "<text text-anchor=\"middle\" x=\"618.88\" y=\"-231.2\" font-family=\"Helvetica,sans-Serif\" font-size=\"14.00\">run</text>\n",
       "</g>\n",
       "<!-- clusterrun_controlstartOutputsWithInjectionran&#45;&gt;clusterrun_controlimmediateInputsrun -->\n",
       "<g id=\"edge5\" class=\"edge\">\n",
       "<title>clusterrun_controlstartOutputsWithInjectionran&#45;&gt;clusterrun_controlimmediateInputsrun</title>\n",
       "<path fill=\"none\" stroke=\"#21bfd8\" d=\"M471.26,-237C485.77,-237 504.77,-237 524.27,-237\"/>\n",
       "<path fill=\"none\" stroke=\"#21bfd8\" d=\"M524.27,-237C543.76,-237 563.74,-237 580.21,-237\"/>\n",
       "<polygon fill=\"#21bfd8\" stroke=\"#21bfd8\" points=\"580.14,-240.5 590.14,-237 580.14,-233.5 580.14,-240.5\"/>\n",
       "</g>\n",
       "<!-- clusterrun_controlcollectingInputsaccumulate_and_run -->\n",
       "<g id=\"node26\" class=\"node\">\n",
       "<title>clusterrun_controlcollectingInputsaccumulate_and_run</title>\n",
       "<polygon fill=\"#21bfd8\" stroke=\"#21bfd8\" points=\"1031,-305 900.25,-305 900.25,-281 1031,-281 1043,-293 1031,-305\"/>\n",
       "<text text-anchor=\"middle\" x=\"971.63\" y=\"-287.2\" font-family=\"Helvetica,sans-Serif\" font-size=\"14.00\">accumulate_and_run</text>\n",
       "</g>\n",
       "<!-- clusterrun_controlstartOutputsWithInjectionran&#45;&gt;clusterrun_controlcollectingInputsaccumulate_and_run -->\n",
       "<g id=\"edge6\" class=\"edge\">\n",
       "<title>clusterrun_controlstartOutputsWithInjectionran&#45;&gt;clusterrun_controlcollectingInputsaccumulate_and_run</title>\n",
       "<path fill=\"none\" stroke=\"#21bfd8\" d=\"M471.41,-238.92C488.99,-241.68 511.07,-248.29 523.5,-264 534.59,-278.01 518.25,-332.01 531.5,-344 551.75,-362.32 593.47,-373.28 641.6,-377.76\"/>\n",
       "<path fill=\"none\" stroke=\"#21bfd8\" d=\"M641.6,-377.76C728.48,-385.84 836.25,-372.83 876.25,-344 885.37,-337.43 876.23,-327.88 884.25,-320 886.26,-318.03 888.41,-316.2 890.68,-314.5\"/>\n",
       "<polygon fill=\"#21bfd8\" stroke=\"#21bfd8\" points=\"892.1,-317.75 898.64,-309.41 888.33,-311.85 892.1,-317.75\"/>\n",
       "</g>\n",
       "<!-- clusterrun_controlstartOutputsWithInjectionz -->\n",
       "<g id=\"node17\" class=\"node\">\n",
       "<title>clusterrun_controlstartOutputsWithInjectionz</title>\n",
       "<ellipse fill=\"#edb22c\" stroke=\"#edb22c\" cx=\"444\" cy=\"-291\" rx=\"27\" ry=\"18\"/>\n",
       "<text text-anchor=\"middle\" x=\"444\" y=\"-285.2\" font-family=\"Helvetica,sans-Serif\" font-size=\"14.00\">z</text>\n",
       "</g>\n",
       "<!-- clusterrun_controlimmediateInputsx -->\n",
       "<g id=\"node20\" class=\"node\">\n",
       "<title>clusterrun_controlimmediateInputsx</title>\n",
       "<ellipse fill=\"#edb22c\" stroke=\"#edb22c\" cx=\"618.88\" cy=\"-291\" rx=\"27\" ry=\"18\"/>\n",
       "<text text-anchor=\"middle\" x=\"618.88\" y=\"-285.2\" font-family=\"Helvetica,sans-Serif\" font-size=\"14.00\">x</text>\n",
       "</g>\n",
       "<!-- clusterrun_controlstartOutputsWithInjectionz&#45;&gt;clusterrun_controlimmediateInputsx -->\n",
       "<g id=\"edge7\" class=\"edge\">\n",
       "<title>clusterrun_controlstartOutputsWithInjectionz&#45;&gt;clusterrun_controlimmediateInputsx</title>\n",
       "<path fill=\"none\" stroke=\"#edb22c\" d=\"M471.26,-291C485.77,-291 504.77,-291 524.27,-291\"/>\n",
       "<path fill=\"none\" stroke=\"#edb22c\" d=\"M524.27,-291C543.76,-291 563.74,-291 580.21,-291\"/>\n",
       "<polygon fill=\"#edb22c\" stroke=\"#edb22c\" points=\"580.14,-294.5 590.14,-291 580.14,-287.5 580.14,-294.5\"/>\n",
       "</g>\n",
       "<!-- clusterrun_controlcollectingInputsx -->\n",
       "<g id=\"node27\" class=\"node\">\n",
       "<title>clusterrun_controlcollectingInputsx</title>\n",
       "<ellipse fill=\"#edb22c\" stroke=\"#edb22c\" cx=\"971.63\" cy=\"-347\" rx=\"27\" ry=\"18\"/>\n",
       "<text text-anchor=\"middle\" x=\"971.63\" y=\"-341.2\" font-family=\"Helvetica,sans-Serif\" font-size=\"14.00\">x</text>\n",
       "</g>\n",
       "<!-- clusterrun_controlstartOutputsWithInjectionz&#45;&gt;clusterrun_controlcollectingInputsx -->\n",
       "<g id=\"edge8\" class=\"edge\">\n",
       "<title>clusterrun_controlstartOutputsWithInjectionz&#45;&gt;clusterrun_controlcollectingInputsx</title>\n",
       "<path fill=\"none\" stroke=\"#edb22c\" d=\"M455.75,-307.66C470.14,-328.24 497.79,-362.21 531.5,-376 533.92,-376.99 599.68,-377.05 673.13,-376.74\"/>\n",
       "<path fill=\"none\" stroke=\"#edb22c\" d=\"M673.13,-376.74C767.14,-376.35 873.75,-375.37 876.25,-375 896.87,-371.95 919.27,-365.45 937.07,-359.48\"/>\n",
       "<polygon fill=\"#edb22c\" stroke=\"#edb22c\" points=\"938.03,-362.84 946.34,-356.26 935.74,-356.23 938.03,-362.84\"/>\n",
       "</g>\n",
       "<!-- clusterrun_controlimmediateOutputsWithInjectionran -->\n",
       "<g id=\"node23\" class=\"node\">\n",
       "<title>clusterrun_controlimmediateOutputsWithInjectionran</title>\n",
       "<polygon fill=\"#21bfd8\" stroke=\"#21bfd8\" points=\"811.75,-303 769.75,-303 769.75,-279 811.75,-279 823.75,-291 811.75,-303\"/>\n",
       "<text text-anchor=\"middle\" x=\"796.75\" y=\"-285.2\" font-family=\"Helvetica,sans-Serif\" font-size=\"14.00\">ran</text>\n",
       "</g>\n",
       "<!-- clusterrun_controlimmediateInputsrun&#45;&gt;clusterrun_controlimmediateOutputsWithInjectionran -->\n",
       "<!-- clusterrun_controlimmediateInputsaccumulate_and_run -->\n",
       "<g id=\"node19\" class=\"node\">\n",
       "<title>clusterrun_controlimmediateInputsaccumulate_and_run</title>\n",
       "<polygon fill=\"#21bfd8\" stroke=\"#21bfd8\" points=\"678.25,-141 547.5,-141 547.5,-117 678.25,-117 690.25,-129 678.25,-141\"/>\n",
       "<text text-anchor=\"middle\" x=\"618.88\" y=\"-123.2\" font-family=\"Helvetica,sans-Serif\" font-size=\"14.00\">accumulate_and_run</text>\n",
       "</g>\n",
       "<!-- clusterrun_controlimmediateOutputsWithInjectionran&#45;&gt;clusterrun_controlcollectingInputsaccumulate_and_run -->\n",
       "<g id=\"edge9\" class=\"edge\">\n",
       "<title>clusterrun_controlimmediateOutputsWithInjectionran&#45;&gt;clusterrun_controlcollectingInputsaccumulate_and_run</title>\n",
       "<path fill=\"none\" stroke=\"#21bfd8\" d=\"M824.01,-291.3C832.69,-291.4 842.99,-291.52 854.03,-291.65\"/>\n",
       "<path fill=\"none\" stroke=\"#21bfd8\" d=\"M854.03,-291.65C865.08,-291.78 876.88,-291.92 888.57,-292.05\"/>\n",
       "<polygon fill=\"#21bfd8\" stroke=\"#21bfd8\" points=\"888.43,-295.55 898.47,-292.17 888.51,-288.55 888.43,-295.55\"/>\n",
       "</g>\n",
       "<!-- clusterrun_controlimmediateOutputsWithInjectionz -->\n",
       "<g id=\"node24\" class=\"node\">\n",
       "<title>clusterrun_controlimmediateOutputsWithInjectionz</title>\n",
       "<ellipse fill=\"#edb22c\" stroke=\"#edb22c\" cx=\"796.75\" cy=\"-237\" rx=\"27\" ry=\"18\"/>\n",
       "<text text-anchor=\"middle\" x=\"796.75\" y=\"-231.2\" font-family=\"Helvetica,sans-Serif\" font-size=\"14.00\">z</text>\n",
       "</g>\n",
       "<!-- clusterrun_controlcollectingInputsy -->\n",
       "<g id=\"node28\" class=\"node\">\n",
       "<title>clusterrun_controlcollectingInputsy</title>\n",
       "<ellipse fill=\"#edb22c\" stroke=\"#edb22c\" cx=\"971.63\" cy=\"-239\" rx=\"27\" ry=\"18\"/>\n",
       "<text text-anchor=\"middle\" x=\"971.63\" y=\"-233.2\" font-family=\"Helvetica,sans-Serif\" font-size=\"14.00\">y</text>\n",
       "</g>\n",
       "<!-- clusterrun_controlimmediateOutputsWithInjectionz&#45;&gt;clusterrun_controlcollectingInputsy -->\n",
       "<g id=\"edge10\" class=\"edge\">\n",
       "<title>clusterrun_controlimmediateOutputsWithInjectionz&#45;&gt;clusterrun_controlcollectingInputsy</title>\n",
       "<path fill=\"none\" stroke=\"#edb22c\" d=\"M824.01,-237.3C838.52,-237.47 857.52,-237.69 877.02,-237.92\"/>\n",
       "<path fill=\"none\" stroke=\"#edb22c\" d=\"M877.02,-237.92C896.51,-238.14 916.49,-238.37 932.96,-238.56\"/>\n",
       "<polygon fill=\"#edb22c\" stroke=\"#edb22c\" points=\"932.85,-242.06 942.89,-238.68 932.93,-235.06 932.85,-242.06\"/>\n",
       "</g>\n",
       "<!-- clusterrun_controlcollectingInputsrun -->\n",
       "<g id=\"node25\" class=\"node\">\n",
       "<title>clusterrun_controlcollectingInputsrun</title>\n",
       "<polygon fill=\"#21bfd8\" stroke=\"#21bfd8\" points=\"986.63,-197 944.63,-197 944.63,-173 986.63,-173 998.63,-185 986.63,-197\"/>\n",
       "<text text-anchor=\"middle\" x=\"971.63\" y=\"-179.2\" font-family=\"Helvetica,sans-Serif\" font-size=\"14.00\">run</text>\n",
       "</g>\n",
       "<!-- clusterrun_controlcollectingOutputsWithInjectionran -->\n",
       "<g id=\"node30\" class=\"node\">\n",
       "<title>clusterrun_controlcollectingOutputsWithInjectionran</title>\n",
       "<polygon fill=\"#21bfd8\" stroke=\"#21bfd8\" points=\"1164.5,-197 1122.5,-197 1122.5,-173 1164.5,-173 1176.5,-185 1164.5,-197\"/>\n",
       "<text text-anchor=\"middle\" x=\"1149.5\" y=\"-179.2\" font-family=\"Helvetica,sans-Serif\" font-size=\"14.00\">ran</text>\n",
       "</g>\n",
       "<!-- clusterrun_controlcollectingInputsrun&#45;&gt;clusterrun_controlcollectingOutputsWithInjectionran -->\n",
       "<!-- clusterrun_controlcollectingOutputsWithInjectionz -->\n",
       "<g id=\"node31\" class=\"node\">\n",
       "<title>clusterrun_controlcollectingOutputsWithInjectionz</title>\n",
       "<ellipse fill=\"#edb22c\" stroke=\"#edb22c\" cx=\"1149.5\" cy=\"-239\" rx=\"27\" ry=\"18\"/>\n",
       "<text text-anchor=\"middle\" x=\"1149.5\" y=\"-233.2\" font-family=\"Helvetica,sans-Serif\" font-size=\"14.00\">z</text>\n",
       "</g>\n",
       "<!-- clusterrun_controlcollectingOutputsWithInjectionz&#45;&gt;clusterrun_controlOutputscollecting__z -->\n",
       "<g id=\"edge17\" class=\"edge\">\n",
       "<title>clusterrun_controlcollectingOutputsWithInjectionz&#45;&gt;clusterrun_controlOutputscollecting__z</title>\n",
       "<path fill=\"none\" stroke=\"#edb22c\" d=\"M1174.69,-232.05C1189.58,-227.46 1209.02,-220.91 1226.02,-213.35\"/>\n",
       "<path fill=\"none\" stroke=\"#edb22c\" d=\"M1226.02,-213.35C1227.02,-212.9 1228.02,-212.45 1229,-212 1244.32,-204.95 1260.5,-195.82 1274.27,-187.48\"/>\n",
       "<polygon fill=\"#edb22c\" stroke=\"#edb22c\" points=\"1275.86,-190.61 1282.54,-182.38 1272.19,-184.65 1275.86,-190.61\"/>\n",
       "</g>\n",
       "</g>\n",
       "</svg>\n"
      ],
      "text/plain": [
       "<graphviz.graphs.Digraph at 0x10c61f8d0>"
      ]
     },
     "execution_count": 56,
     "metadata": {},
     "output_type": "execute_result"
    }
   ],
   "source": [
    "wf.draw(size=(10, 10))"
   ]
  },
  {
   "cell_type": "markdown",
   "id": "5fd65369-d9c1-4f87-b79c-7e597fba8cac",
   "metadata": {},
   "source": [
    "The same signals can be wired with the following syntactic sugar (and the `>>` can be chained together):"
   ]
  },
  {
   "cell_type": "code",
   "execution_count": 57,
   "id": "c52fbef3-ea9b-47db-b179-d9044659cd89",
   "metadata": {},
   "outputs": [
    {
     "name": "stdout",
     "output_type": "stream",
     "text": [
      "  start\n",
      "start  immediate\n",
      "start immediate collecting\n"
     ]
    },
    {
     "data": {
      "text/plain": [
       "{'collecting__z': 'collecting'}"
      ]
     },
     "execution_count": 57,
     "metadata": {},
     "output_type": "execute_result"
    }
   ],
   "source": [
    "wf = pwf.Workflow(\"sugar\", automate_execution=False)\n",
    "wf.start = Verbose(\"\", \"\", \"start\")\n",
    "wf.immediate = Verbose(wf.start, \"\", \"immediate\")\n",
    "wf.collecting = Verbose(wf.start, wf.immediate, \"collecting\")\n",
    "\n",
    "wf.start >> wf.immediate\n",
    "wf.collecting << (wf.start, wf.immediate)\n",
    "\n",
    "wf.starting_nodes = [wf.start]\n",
    "\n",
    "wf()"
   ]
  },
  {
   "cell_type": "markdown",
   "id": "c94ec1bf-5285-43d4-9348-0539c87e17a6",
   "metadata": {},
   "source": [
    "## State behavior and the executor motivation\n",
    "\n",
    "If we look at the `__getstate__` of a child, we will notice its parent has been purged:"
   ]
  },
  {
   "cell_type": "code",
   "execution_count": 58,
   "id": "e7270eef-8642-4859-982b-b3c35dda968f",
   "metadata": {},
   "outputs": [
    {
     "data": {
      "text/plain": [
       "{'_label': 'immediate',\n",
       " '_parent': None,\n",
       " '_signals': <pyiron_workflow.io.Signals at 0x131379310>,\n",
       " 'running': False,\n",
       " 'failed': False,\n",
       " 'executor': None,\n",
       " 'future': None,\n",
       " '_thread_pool_sleep_time': 1e-06,\n",
       " 'checkpoint': None,\n",
       " 'cached_inputs': {'x': 'start', 'y': '', 'z': 'immediate'},\n",
       " '_user_data': {},\n",
       " '_inputs': <pyiron_workflow.io.Inputs at 0x131348690>,\n",
       " '_outputs': <pyiron_workflow.mixin.injection.OutputsWithInjection at 0x13134b750>}"
      ]
     },
     "execution_count": 58,
     "metadata": {},
     "output_type": "execute_result"
    }
   ],
   "source": [
    "wf.immediate.__getstate__()"
   ]
  },
  {
   "cell_type": "markdown",
   "id": "cd1774e5-57ed-4ab2-a3f5-b624fb6b8f0e",
   "metadata": {},
   "source": [
    "And similarly the node's connections get purged:"
   ]
  },
  {
   "cell_type": "code",
   "execution_count": 59,
   "id": "59cac615-02ee-478e-93a5-e6a8b38c37b3",
   "metadata": {},
   "outputs": [
    {
     "data": {
      "text/plain": [
       "{'channel_dict': {'x': <pyiron_workflow.channels.InputData at 0x131412210>,\n",
       "  'y': <pyiron_workflow.channels.InputData at 0x12f83cc90>,\n",
       "  'z': <pyiron_workflow.channels.InputData at 0x131412ed0>}}"
      ]
     },
     "execution_count": 59,
     "metadata": {},
     "output_type": "execute_result"
    }
   ],
   "source": [
    "wf.immediate.inputs.__getstate__()"
   ]
  },
  {
   "cell_type": "markdown",
   "id": "3f97c490-9323-4bf0-9cf3-20b30bcd368b",
   "metadata": {},
   "source": [
    "But we see that the parent node retains state about both its children and their connections"
   ]
  },
  {
   "cell_type": "code",
   "execution_count": 60,
   "id": "1642ac22-255c-4e50-9a26-a6d6b0cd203d",
   "metadata": {},
   "outputs": [
    {
     "data": {
      "text/plain": [
       "(<__main__.Verbose at 0x131410d90>,\n",
       " [(('immediate', 'x'), ('start', 'z')),\n",
       "  (('collecting', 'x'), ('start', 'z')),\n",
       "  (('collecting', 'y'), ('immediate', 'z'))])"
      ]
     },
     "execution_count": 60,
     "metadata": {},
     "output_type": "execute_result"
    }
   ],
   "source": [
    "parent_state = wf.__getstate__()\n",
    "parent_state[\"start\"], parent_state[\"_child_data_connections\"]"
   ]
  },
  {
   "cell_type": "markdown",
   "id": "95ce64a2-73a8-4399-9c1d-bebda965b942",
   "metadata": {},
   "source": [
    "This is actually some important engineering. Sending a node off to a parallel process with an executor requires serializing data to send to the new process. For `concurrent.futures.ProcessPoolExecutor` and those compliant with it (our expectation for these circumstances) that involves using `__getstate__` (well, `__reduce__`, but the state comes out under the hood). When we send a `Function` node off for parallel execution, we actually only send the `Function.node_function` (remember it is a `@staticmethod`!!!) and the actual input data. But for `Macro` nodes, we necessarily send the entire node so there is something there to run the subgraph! If we sent the macro's parent along, or its connections, we'd need to serialize _the entire graph_ when we run just one piece on a separate process!\n",
    "\n",
    "This careful management of state minimizes how much data we actually need to serialize "
   ]
  },
  {
   "cell_type": "markdown",
   "id": "b6a3b48f-eda6-4947-a1b2-22abfa394293",
   "metadata": {},
   "source": [
    "## Executor limitations\n",
    "\n",
    "In a similar manner, there are some things we can't serialize, namely thread locks and other executor-related objects. That means that, at present, you can't _nest_ executors. The motivated reader can see that there is room to extend this, e.g. by accepting a node _class_ (which is serializable) and some arguments for it and recreating one on-the-fly:"
   ]
  },
  {
   "cell_type": "code",
   "execution_count": 61,
   "id": "2784b0c2-035e-44bb-b790-0d5fe2a84331",
   "metadata": {},
   "outputs": [
    {
     "data": {
      "text/plain": [
       "\u001b[0;31mSignature:\u001b[0m \u001b[0mRunnable\u001b[0m\u001b[0;34m.\u001b[0m\u001b[0m_parse_executor\u001b[0m\u001b[0;34m(\u001b[0m\u001b[0mexecutor\u001b[0m\u001b[0;34m)\u001b[0m \u001b[0;34m->\u001b[0m \u001b[0;34m'StdLibExecutor'\u001b[0m\u001b[0;34m\u001b[0m\u001b[0;34m\u001b[0m\u001b[0m\n",
       "\u001b[0;31mSource:\u001b[0m   \n",
       "    \u001b[0;34m@\u001b[0m\u001b[0mstaticmethod\u001b[0m\u001b[0;34m\u001b[0m\n",
       "\u001b[0;34m\u001b[0m    \u001b[0;32mdef\u001b[0m \u001b[0m_parse_executor\u001b[0m\u001b[0;34m(\u001b[0m\u001b[0mexecutor\u001b[0m\u001b[0;34m)\u001b[0m \u001b[0;34m->\u001b[0m \u001b[0mStdLibExecutor\u001b[0m\u001b[0;34m:\u001b[0m\u001b[0;34m\u001b[0m\n",
       "\u001b[0;34m\u001b[0m        \u001b[0;34m\"\"\"\u001b[0m\n",
       "\u001b[0;34m        We may want to allow users to specify how to build an executor rather than\u001b[0m\n",
       "\u001b[0;34m        actually providing an executor instance -- so here we can interpret these.\u001b[0m\n",
       "\u001b[0;34m\u001b[0m\n",
       "\u001b[0;34m        NOTE:\u001b[0m\n",
       "\u001b[0;34m            `concurrent.futures.Executor` _won't_ actually work, because we need\u001b[0m\n",
       "\u001b[0;34m            stuff with :mod:`cloudpickle` support. We're leaning on this for a guaranteed\u001b[0m\n",
       "\u001b[0;34m            interface (has `submit` and returns a `Future`), and leaving it to the user\u001b[0m\n",
       "\u001b[0;34m            to provide an executor that will actually work!!!\u001b[0m\n",
       "\u001b[0;34m\u001b[0m\n",
       "\u001b[0;34m        NOTE:\u001b[0m\n",
       "\u001b[0;34m            If, in the future, this parser is extended to instantiate new executors from\u001b[0m\n",
       "\u001b[0;34m            instructions, these new instances may not be caught by the\u001b[0m\n",
       "\u001b[0;34m            `executor_shutdown` method. This will require some re-engineering to make\u001b[0m\n",
       "\u001b[0;34m            sure we don't have dangling executors.\u001b[0m\n",
       "\u001b[0;34m        \"\"\"\u001b[0m\u001b[0;34m\u001b[0m\n",
       "\u001b[0;34m\u001b[0m        \u001b[0;32mif\u001b[0m \u001b[0misinstance\u001b[0m\u001b[0;34m(\u001b[0m\u001b[0mexecutor\u001b[0m\u001b[0;34m,\u001b[0m \u001b[0mStdLibExecutor\u001b[0m\u001b[0;34m)\u001b[0m\u001b[0;34m:\u001b[0m\u001b[0;34m\u001b[0m\n",
       "\u001b[0;34m\u001b[0m            \u001b[0;32mreturn\u001b[0m \u001b[0mexecutor\u001b[0m\u001b[0;34m\u001b[0m\n",
       "\u001b[0;34m\u001b[0m        \u001b[0;32melse\u001b[0m\u001b[0;34m:\u001b[0m\u001b[0;34m\u001b[0m\n",
       "\u001b[0;34m\u001b[0m            \u001b[0;32mraise\u001b[0m \u001b[0mNotImplementedError\u001b[0m\u001b[0;34m(\u001b[0m\u001b[0;34m\u001b[0m\n",
       "\u001b[0;34m\u001b[0m                \u001b[0;34mf\"Expected an instance of {StdLibExecutor}, but got {executor}.\"\u001b[0m\u001b[0;34m\u001b[0m\n",
       "\u001b[0;34m\u001b[0m            \u001b[0;34m)\u001b[0m\u001b[0;34m\u001b[0m\u001b[0;34m\u001b[0m\u001b[0m\n",
       "\u001b[0;31mFile:\u001b[0m      ~/work/pyiron/pyiron_workflow/pyiron_workflow/mixin/run.py\n",
       "\u001b[0;31mType:\u001b[0m      function"
      ]
     },
     "metadata": {},
     "output_type": "display_data"
    }
   ],
   "source": [
    "from pyiron_workflow.mixin.run import Runnable\n",
    "\n",
    "Runnable._parse_executor??"
   ]
  },
  {
   "cell_type": "markdown",
   "id": "e09e6b40-6cbe-4198-817c-a9f1e75e44b3",
   "metadata": {},
   "source": [
    "## While loops\n",
    "\n",
    "While-loops involve some circular flow of data that terminates on a particular data condition. These _require_ manual specification of the execution signals, as data signals alone are not enough to resolve the oroborous of flow. Thankfully, by virtue of `Macro` nodes being walled gardens, once you have encapsulated your while-behaviour inside a macro, that macro can be embedded in a usual data DAG and the parent-level execution flow can be automated as usual.\n",
    "\n",
    "We don't have the same helper interfaces for \"while\" loops as we do for \"for\" loops discussed in the `quickstart.ipynb`, but thankfully they can just be constructed as a macro definition out of existing tools. The only \"magic\" piece we haven't discussed yet is the standard library `If` node -- the curious reader can go look at its definition, but basically it just has extra output signals other than `ran` which fire depending on the truthiness of its input condition. Otherwise we will use tools we've seen before. \n",
    "\n",
    "In the example below, we follow a pattern of breaking the while loop into `body`, `condition`, and `switch` nodes (and `history` for some state logging). This pattern can be generically followed, but the exact data connections formed between your `body` and `conditon` nodes will depend on the details of what your while-loop body is doing and what the break conditions are:"
   ]
  },
  {
   "cell_type": "code",
   "execution_count": 62,
   "id": "e0916c46-132c-4046-827e-a75fff6dbc5b",
   "metadata": {},
   "outputs": [],
   "source": [
    "@pwf.as_macro_node(\"greater\")\n",
    "def AddWhileLessThan(self, a, b, cap):\n",
    "    \"\"\"\n",
    "    Add :param:`b` to :param:`a` while the sum is less than or equal to :param:`cap`.\n",
    "\n",
    "    A simple but complete demonstrator for how to construct cyclic flows, including\n",
    "    logging key outputs during the loop.\n",
    "    \"\"\"\n",
    "    # Bespoke logic\n",
    "    self.body = pwf.standard_nodes.Add(obj=a, other=b)\n",
    "    self.body.inputs.obj = self.body.outputs.add  # Higher priority connection\n",
    "    # The output is NOT_DATA on the first pass and `a` gets used, \n",
    "    # But after that the node will find and use its own output\n",
    "    self.condition = pwf.standard_nodes.LessThan(self.body, cap)\n",
    "\n",
    "    # Universal logic\n",
    "    self.switch = pwf.standard_nodes.If()\n",
    "    self.switch.inputs.condition = self.condition\n",
    "\n",
    "    self.starting_nodes = [self.body]\n",
    "    self.body >> self.condition >> self.switch\n",
    "    self.switch.signals.output.true >> self.body\n",
    "\n",
    "    # Bespoke logging\n",
    "    self.history = pwf.standard_nodes.AppendToList()\n",
    "    self.history.inputs.existing = self.history\n",
    "    self.history.inputs.new_element = self.body\n",
    "    self.body >> self.history\n",
    "\n",
    "    # Returns are pretty universal for single-value body nodes,\n",
    "    # assuming a log of the history is not desired as output,\n",
    "    # but in general return values are also bespoke\n",
    "    return self.body"
   ]
  },
  {
   "cell_type": "code",
   "execution_count": 63,
   "id": "ce8a3c1f-64e9-4da1-b29b-d16717d03b22",
   "metadata": {},
   "outputs": [
    {
     "data": {
      "image/svg+xml": [
       "<?xml version=\"1.0\" encoding=\"UTF-8\" standalone=\"no\"?>\n",
       "<!DOCTYPE svg PUBLIC \"-//W3C//DTD SVG 1.1//EN\"\n",
       " \"http://www.w3.org/Graphics/SVG/1.1/DTD/svg11.dtd\">\n",
       "<!-- Generated by graphviz version 12.0.0 (0)\n",
       " -->\n",
       "<!-- Title: clusterAddWhileLessThan Pages: 1 -->\n",
       "<svg width=\"720pt\" height=\"446pt\"\n",
       " viewBox=\"0.00 0.00 720.00 446.46\" xmlns=\"http://www.w3.org/2000/svg\" xmlns:xlink=\"http://www.w3.org/1999/xlink\">\n",
       "<g id=\"graph0\" class=\"graph\" transform=\"scale(0.578313 0.578313) rotate(0) translate(4 768)\">\n",
       "<title>clusterAddWhileLessThan</title>\n",
       "<polygon fill=\"white\" stroke=\"none\" points=\"-4,4 -4,-768 1241,-768 1241,4 -4,4\"/>\n",
       "<text text-anchor=\"middle\" x=\"618.5\" y=\"-5.7\" font-family=\"Helvetica,sans-Serif\" font-size=\"14.00\">AddWhileLessThan: AddWhileLessThan</text>\n",
       "<g id=\"clust1\" class=\"cluster\">\n",
       "<title>clusterAddWhileLessThanInputs</title>\n",
       "<defs>\n",
       "<linearGradient id=\"clust1_l_0\" gradientUnits=\"userSpaceOnUse\" x1=\"8\" y1=\"-444.5\" x2=\"166.75\" y2=\"-444.5\" >\n",
       "<stop offset=\"0\" style=\"stop-color:#a5a4a5;stop-opacity:1.;\"/>\n",
       "<stop offset=\"1\" style=\"stop-color:#e4e3e4;stop-opacity:1.;\"/>\n",
       "</linearGradient>\n",
       "</defs>\n",
       "<polygon fill=\"url(#clust1_l_0)\" stroke=\"#a5a4a5\" points=\"8,-299 8,-590 166.75,-590 166.75,-299 8,-299\"/>\n",
       "<text text-anchor=\"middle\" x=\"87.38\" y=\"-572.7\" font-family=\"Helvetica,sans-Serif\" font-size=\"14.00\">Inputs</text>\n",
       "</g>\n",
       "<g id=\"clust2\" class=\"cluster\">\n",
       "<title>clusterAddWhileLessThanOutputsWithInjection</title>\n",
       "<defs>\n",
       "<linearGradient id=\"clust2_l_1\" gradientUnits=\"userSpaceOnUse\" x1=\"690.38\" y1=\"-691.5\" x2=\"548.38\" y2=\"-691.5\" >\n",
       "<stop offset=\"0\" style=\"stop-color:#a5a4a5;stop-opacity:1.;\"/>\n",
       "<stop offset=\"1\" style=\"stop-color:#e4e3e4;stop-opacity:1.;\"/>\n",
       "</linearGradient>\n",
       "</defs>\n",
       "<polygon fill=\"url(#clust2_l_1)\" stroke=\"#a5a4a5\" points=\"548.38,-627 548.38,-756 690.38,-756 690.38,-627 548.38,-627\"/>\n",
       "<text text-anchor=\"middle\" x=\"619.38\" y=\"-738.7\" font-family=\"Helvetica,sans-Serif\" font-size=\"14.00\">OutputsWithInjection</text>\n",
       "</g>\n",
       "<g id=\"clust3\" class=\"cluster\">\n",
       "<title>clusterAddWhileLessThanbody</title>\n",
       "<defs>\n",
       "<linearGradient id=\"clust3_l_2\" gradientUnits=\"userSpaceOnUse\" x1=\"178.75\" y1=\"-429\" x2=\"523.5\" y2=\"-429\" >\n",
       "<stop offset=\"0\" style=\"stop-color:#bfe2bf;stop-opacity:1.;\"/>\n",
       "<stop offset=\"1\" style=\"stop-color:#bfe2bf;stop-opacity:1.;\"/>\n",
       "</linearGradient>\n",
       "</defs>\n",
       "<polygon fill=\"url(#clust3_l_2)\" stroke=\"#bfe2bf\" points=\"178.75,-291 178.75,-567 523.5,-567 523.5,-291 178.75,-291\"/>\n",
       "<text text-anchor=\"middle\" x=\"351.13\" y=\"-549.7\" font-family=\"Helvetica,sans-Serif\" font-size=\"14.00\">body: Add</text>\n",
       "</g>\n",
       "<g id=\"clust4\" class=\"cluster\">\n",
       "<title>clusterAddWhileLessThanbodyInputs</title>\n",
       "<defs>\n",
       "<linearGradient id=\"clust4_l_3\" gradientUnits=\"userSpaceOnUse\" x1=\"186.75\" y1=\"-417.5\" x2=\"345.5\" y2=\"-417.5\" >\n",
       "<stop offset=\"0\" style=\"stop-color:#a5a4a5;stop-opacity:1.;\"/>\n",
       "<stop offset=\"1\" style=\"stop-color:#e4e3e4;stop-opacity:1.;\"/>\n",
       "</linearGradient>\n",
       "</defs>\n",
       "<polygon fill=\"url(#clust4_l_3)\" stroke=\"#a5a4a5\" points=\"186.75,-299 186.75,-536 345.5,-536 345.5,-299 186.75,-299\"/>\n",
       "<text text-anchor=\"middle\" x=\"266.13\" y=\"-518.7\" font-family=\"Helvetica,sans-Serif\" font-size=\"14.00\">Inputs</text>\n",
       "</g>\n",
       "<g id=\"clust5\" class=\"cluster\">\n",
       "<title>clusterAddWhileLessThanbodyOutputsWithInjection</title>\n",
       "<defs>\n",
       "<linearGradient id=\"clust5_l_4\" gradientUnits=\"userSpaceOnUse\" x1=\"515.5\" y1=\"-415.5\" x2=\"373.5\" y2=\"-415.5\" >\n",
       "<stop offset=\"0\" style=\"stop-color:#a5a4a5;stop-opacity:1.;\"/>\n",
       "<stop offset=\"1\" style=\"stop-color:#e4e3e4;stop-opacity:1.;\"/>\n",
       "</linearGradient>\n",
       "</defs>\n",
       "<polygon fill=\"url(#clust5_l_4)\" stroke=\"#a5a4a5\" points=\"373.5,-351 373.5,-480 515.5,-480 515.5,-351 373.5,-351\"/>\n",
       "<text text-anchor=\"middle\" x=\"444.5\" y=\"-462.7\" font-family=\"Helvetica,sans-Serif\" font-size=\"14.00\">OutputsWithInjection</text>\n",
       "</g>\n",
       "<g id=\"clust6\" class=\"cluster\">\n",
       "<title>clusterAddWhileLessThancondition</title>\n",
       "<defs>\n",
       "<linearGradient id=\"clust6_l_5\" gradientUnits=\"userSpaceOnUse\" x1=\"531.5\" y1=\"-169\" x2=\"884.25\" y2=\"-169\" >\n",
       "<stop offset=\"0\" style=\"stop-color:#bfe2bf;stop-opacity:1.;\"/>\n",
       "<stop offset=\"1\" style=\"stop-color:#bfe2bf;stop-opacity:1.;\"/>\n",
       "</linearGradient>\n",
       "</defs>\n",
       "<polygon fill=\"url(#clust6_l_5)\" stroke=\"#bfe2bf\" points=\"531.5,-31 531.5,-307 884.25,-307 884.25,-31 531.5,-31\"/>\n",
       "<text text-anchor=\"middle\" x=\"707.88\" y=\"-289.7\" font-family=\"Helvetica,sans-Serif\" font-size=\"14.00\">condition: LessThan</text>\n",
       "</g>\n",
       "<g id=\"clust7\" class=\"cluster\">\n",
       "<title>clusterAddWhileLessThanconditionInputs</title>\n",
       "<defs>\n",
       "<linearGradient id=\"clust7_l_6\" gradientUnits=\"userSpaceOnUse\" x1=\"539.5\" y1=\"-157.5\" x2=\"698.25\" y2=\"-157.5\" >\n",
       "<stop offset=\"0\" style=\"stop-color:#a5a4a5;stop-opacity:1.;\"/>\n",
       "<stop offset=\"1\" style=\"stop-color:#e4e3e4;stop-opacity:1.;\"/>\n",
       "</linearGradient>\n",
       "</defs>\n",
       "<polygon fill=\"url(#clust7_l_6)\" stroke=\"#a5a4a5\" points=\"539.5,-39 539.5,-276 698.25,-276 698.25,-39 539.5,-39\"/>\n",
       "<text text-anchor=\"middle\" x=\"618.88\" y=\"-258.7\" font-family=\"Helvetica,sans-Serif\" font-size=\"14.00\">Inputs</text>\n",
       "</g>\n",
       "<g id=\"clust8\" class=\"cluster\">\n",
       "<title>clusterAddWhileLessThanconditionOutputsWithInjection</title>\n",
       "<defs>\n",
       "<linearGradient id=\"clust8_l_7\" gradientUnits=\"userSpaceOnUse\" x1=\"876.25\" y1=\"-211.5\" x2=\"734.25\" y2=\"-211.5\" >\n",
       "<stop offset=\"0\" style=\"stop-color:#a5a4a5;stop-opacity:1.;\"/>\n",
       "<stop offset=\"1\" style=\"stop-color:#e4e3e4;stop-opacity:1.;\"/>\n",
       "</linearGradient>\n",
       "</defs>\n",
       "<polygon fill=\"url(#clust8_l_7)\" stroke=\"#a5a4a5\" points=\"734.25,-147 734.25,-276 876.25,-276 876.25,-147 734.25,-147\"/>\n",
       "<text text-anchor=\"middle\" x=\"805.25\" y=\"-258.7\" font-family=\"Helvetica,sans-Serif\" font-size=\"14.00\">OutputsWithInjection</text>\n",
       "</g>\n",
       "<g id=\"clust9\" class=\"cluster\">\n",
       "<title>clusterAddWhileLessThanswitch</title>\n",
       "<defs>\n",
       "<linearGradient id=\"clust9_l_8\" gradientUnits=\"userSpaceOnUse\" x1=\"892.25\" y1=\"-254\" x2=\"1237\" y2=\"-254\" >\n",
       "<stop offset=\"0\" style=\"stop-color:#bfe2bf;stop-opacity:1.;\"/>\n",
       "<stop offset=\"1\" style=\"stop-color:#bfe2bf;stop-opacity:1.;\"/>\n",
       "</linearGradient>\n",
       "</defs>\n",
       "<polygon fill=\"url(#clust9_l_8)\" stroke=\"#bfe2bf\" points=\"892.25,-116 892.25,-392 1237,-392 1237,-116 892.25,-116\"/>\n",
       "<text text-anchor=\"middle\" x=\"1064.63\" y=\"-374.7\" font-family=\"Helvetica,sans-Serif\" font-size=\"14.00\">switch: If</text>\n",
       "</g>\n",
       "<g id=\"clust10\" class=\"cluster\">\n",
       "<title>clusterAddWhileLessThanswitchInputs</title>\n",
       "<defs>\n",
       "<linearGradient id=\"clust10_l_9\" gradientUnits=\"userSpaceOnUse\" x1=\"900.25\" y1=\"-215.5\" x2=\"1059\" y2=\"-215.5\" >\n",
       "<stop offset=\"0\" style=\"stop-color:#a5a4a5;stop-opacity:1.;\"/>\n",
       "<stop offset=\"1\" style=\"stop-color:#e4e3e4;stop-opacity:1.;\"/>\n",
       "</linearGradient>\n",
       "</defs>\n",
       "<polygon fill=\"url(#clust10_l_9)\" stroke=\"#a5a4a5\" points=\"900.25,-124 900.25,-307 1059,-307 1059,-124 900.25,-124\"/>\n",
       "<text text-anchor=\"middle\" x=\"979.63\" y=\"-289.7\" font-family=\"Helvetica,sans-Serif\" font-size=\"14.00\">Inputs</text>\n",
       "</g>\n",
       "<g id=\"clust11\" class=\"cluster\">\n",
       "<title>clusterAddWhileLessThanswitchOutputsWithInjection</title>\n",
       "<defs>\n",
       "<linearGradient id=\"clust11_l_10\" gradientUnits=\"userSpaceOnUse\" x1=\"1229\" y1=\"-242.5\" x2=\"1087\" y2=\"-242.5\" >\n",
       "<stop offset=\"0\" style=\"stop-color:#a5a4a5;stop-opacity:1.;\"/>\n",
       "<stop offset=\"1\" style=\"stop-color:#e4e3e4;stop-opacity:1.;\"/>\n",
       "</linearGradient>\n",
       "</defs>\n",
       "<polygon fill=\"url(#clust11_l_10)\" stroke=\"#a5a4a5\" points=\"1087,-124 1087,-361 1229,-361 1229,-124 1087,-124\"/>\n",
       "<text text-anchor=\"middle\" x=\"1158\" y=\"-343.7\" font-family=\"Helvetica,sans-Serif\" font-size=\"14.00\">OutputsWithInjection</text>\n",
       "</g>\n",
       "<g id=\"clust12\" class=\"cluster\">\n",
       "<title>clusterAddWhileLessThanhistory</title>\n",
       "<defs>\n",
       "<linearGradient id=\"clust12_l_11\" gradientUnits=\"userSpaceOnUse\" x1=\"531.5\" y1=\"-481\" x2=\"884.25\" y2=\"-481\" >\n",
       "<stop offset=\"0\" style=\"stop-color:#bfe2bf;stop-opacity:1.;\"/>\n",
       "<stop offset=\"1\" style=\"stop-color:#bfe2bf;stop-opacity:1.;\"/>\n",
       "</linearGradient>\n",
       "</defs>\n",
       "<polygon fill=\"url(#clust12_l_11)\" stroke=\"#bfe2bf\" points=\"531.5,-343 531.5,-619 884.25,-619 884.25,-343 531.5,-343\"/>\n",
       "<text text-anchor=\"middle\" x=\"707.88\" y=\"-601.7\" font-family=\"Helvetica,sans-Serif\" font-size=\"14.00\">history: AppendToList</text>\n",
       "</g>\n",
       "<g id=\"clust13\" class=\"cluster\">\n",
       "<title>clusterAddWhileLessThanhistoryInputs</title>\n",
       "<defs>\n",
       "<linearGradient id=\"clust13_l_12\" gradientUnits=\"userSpaceOnUse\" x1=\"539.5\" y1=\"-469.5\" x2=\"698.25\" y2=\"-469.5\" >\n",
       "<stop offset=\"0\" style=\"stop-color:#a5a4a5;stop-opacity:1.;\"/>\n",
       "<stop offset=\"1\" style=\"stop-color:#e4e3e4;stop-opacity:1.;\"/>\n",
       "</linearGradient>\n",
       "</defs>\n",
       "<polygon fill=\"url(#clust13_l_12)\" stroke=\"#a5a4a5\" points=\"539.5,-351 539.5,-588 698.25,-588 698.25,-351 539.5,-351\"/>\n",
       "<text text-anchor=\"middle\" x=\"618.88\" y=\"-570.7\" font-family=\"Helvetica,sans-Serif\" font-size=\"14.00\">Inputs</text>\n",
       "</g>\n",
       "<g id=\"clust14\" class=\"cluster\">\n",
       "<title>clusterAddWhileLessThanhistoryOutputsWithInjection</title>\n",
       "<defs>\n",
       "<linearGradient id=\"clust14_l_13\" gradientUnits=\"userSpaceOnUse\" x1=\"876.25\" y1=\"-442.5\" x2=\"734.25\" y2=\"-442.5\" >\n",
       "<stop offset=\"0\" style=\"stop-color:#a5a4a5;stop-opacity:1.;\"/>\n",
       "<stop offset=\"1\" style=\"stop-color:#e4e3e4;stop-opacity:1.;\"/>\n",
       "</linearGradient>\n",
       "</defs>\n",
       "<polygon fill=\"url(#clust14_l_13)\" stroke=\"#a5a4a5\" points=\"734.25,-378 734.25,-507 876.25,-507 876.25,-378 734.25,-378\"/>\n",
       "<text text-anchor=\"middle\" x=\"805.25\" y=\"-489.7\" font-family=\"Helvetica,sans-Serif\" font-size=\"14.00\">OutputsWithInjection</text>\n",
       "</g>\n",
       "<!-- clusterAddWhileLessThanInputsrun -->\n",
       "<g id=\"node1\" class=\"node\">\n",
       "<title>clusterAddWhileLessThanInputsrun</title>\n",
       "<polygon fill=\"#21bfd8\" stroke=\"#21bfd8\" points=\"102.38,-553 60.38,-553 60.38,-529 102.38,-529 114.38,-541 102.38,-553\"/>\n",
       "<text text-anchor=\"middle\" x=\"87.38\" y=\"-535.2\" font-family=\"Helvetica,sans-Serif\" font-size=\"14.00\">run</text>\n",
       "</g>\n",
       "<!-- clusterAddWhileLessThanOutputsWithInjectionran -->\n",
       "<g id=\"node6\" class=\"node\">\n",
       "<title>clusterAddWhileLessThanOutputsWithInjectionran</title>\n",
       "<polygon fill=\"#21bfd8\" stroke=\"#21bfd8\" points=\"633.88,-719 591.88,-719 591.88,-695 633.88,-695 645.88,-707 633.88,-719\"/>\n",
       "<text text-anchor=\"middle\" x=\"618.88\" y=\"-701.2\" font-family=\"Helvetica,sans-Serif\" font-size=\"14.00\">ran</text>\n",
       "</g>\n",
       "<!-- clusterAddWhileLessThanInputsrun&#45;&gt;clusterAddWhileLessThanOutputsWithInjectionran -->\n",
       "<!-- clusterAddWhileLessThanInputsaccumulate_and_run -->\n",
       "<g id=\"node2\" class=\"node\">\n",
       "<title>clusterAddWhileLessThanInputsaccumulate_and_run</title>\n",
       "<polygon fill=\"#21bfd8\" stroke=\"#21bfd8\" points=\"146.75,-391 16,-391 16,-367 146.75,-367 158.75,-379 146.75,-391\"/>\n",
       "<text text-anchor=\"middle\" x=\"87.38\" y=\"-373.2\" font-family=\"Helvetica,sans-Serif\" font-size=\"14.00\">accumulate_and_run</text>\n",
       "</g>\n",
       "<!-- clusterAddWhileLessThanInputsa -->\n",
       "<g id=\"node3\" class=\"node\">\n",
       "<title>clusterAddWhileLessThanInputsa</title>\n",
       "<ellipse fill=\"#edb22c\" stroke=\"#edb22c\" cx=\"87.38\" cy=\"-433\" rx=\"27\" ry=\"18\"/>\n",
       "<text text-anchor=\"middle\" x=\"87.38\" y=\"-427.2\" font-family=\"Helvetica,sans-Serif\" font-size=\"14.00\">a</text>\n",
       "</g>\n",
       "<!-- clusterAddWhileLessThanbodyInputsobj -->\n",
       "<g id=\"node10\" class=\"node\">\n",
       "<title>clusterAddWhileLessThanbodyInputsobj</title>\n",
       "<ellipse fill=\"#edb22c\" stroke=\"#edb22c\" cx=\"266.13\" cy=\"-433\" rx=\"27\" ry=\"18\"/>\n",
       "<text text-anchor=\"middle\" x=\"266.13\" y=\"-427.2\" font-family=\"Helvetica,sans-Serif\" font-size=\"14.00\">obj</text>\n",
       "</g>\n",
       "<!-- clusterAddWhileLessThanInputsa&#45;&gt;clusterAddWhileLessThanbodyInputsobj -->\n",
       "<g id=\"edge15\" class=\"edge\">\n",
       "<title>clusterAddWhileLessThanInputsa&#45;&gt;clusterAddWhileLessThanbodyInputsobj</title>\n",
       "<path fill=\"none\" stroke=\"#edb22c\" stroke-dasharray=\"5,2\" d=\"M114.84,-433C129.78,-433 149.48,-433 169.67,-433\"/>\n",
       "<path fill=\"none\" stroke=\"#edb22c\" stroke-dasharray=\"5,2\" d=\"M169.67,-433C189.86,-433 210.55,-433 227.48,-433\"/>\n",
       "<polygon fill=\"#edb22c\" stroke=\"#edb22c\" points=\"227.26,-436.5 237.26,-433 227.26,-429.5 227.26,-436.5\"/>\n",
       "</g>\n",
       "<!-- clusterAddWhileLessThanInputsb -->\n",
       "<g id=\"node4\" class=\"node\">\n",
       "<title>clusterAddWhileLessThanInputsb</title>\n",
       "<ellipse fill=\"#edb22c\" stroke=\"#edb22c\" cx=\"87.38\" cy=\"-487\" rx=\"27\" ry=\"18\"/>\n",
       "<text text-anchor=\"middle\" x=\"87.38\" y=\"-481.2\" font-family=\"Helvetica,sans-Serif\" font-size=\"14.00\">b</text>\n",
       "</g>\n",
       "<!-- clusterAddWhileLessThanbodyInputsother -->\n",
       "<g id=\"node11\" class=\"node\">\n",
       "<title>clusterAddWhileLessThanbodyInputsother</title>\n",
       "<ellipse fill=\"#edb22c\" stroke=\"#edb22c\" cx=\"266.13\" cy=\"-487\" rx=\"30.38\" ry=\"18\"/>\n",
       "<text text-anchor=\"middle\" x=\"266.13\" y=\"-481.2\" font-family=\"Helvetica,sans-Serif\" font-size=\"14.00\">other</text>\n",
       "</g>\n",
       "<!-- clusterAddWhileLessThanInputsb&#45;&gt;clusterAddWhileLessThanbodyInputsother -->\n",
       "<g id=\"edge16\" class=\"edge\">\n",
       "<title>clusterAddWhileLessThanInputsb&#45;&gt;clusterAddWhileLessThanbodyInputsother</title>\n",
       "<path fill=\"none\" stroke=\"#edb22c\" stroke-dasharray=\"5,2\" d=\"M114.84,-487C129.31,-487 148.23,-487 167.75,-487\"/>\n",
       "<path fill=\"none\" stroke=\"#edb22c\" stroke-dasharray=\"5,2\" d=\"M167.75,-487C187.27,-487 207.37,-487 224.21,-487\"/>\n",
       "<polygon fill=\"#edb22c\" stroke=\"#edb22c\" points=\"224.02,-490.5 234.02,-487 224.02,-483.5 224.02,-490.5\"/>\n",
       "</g>\n",
       "<!-- clusterAddWhileLessThanInputscap -->\n",
       "<g id=\"node5\" class=\"node\">\n",
       "<title>clusterAddWhileLessThanInputscap</title>\n",
       "<ellipse fill=\"#edb22c\" stroke=\"#edb22c\" cx=\"87.38\" cy=\"-325\" rx=\"27\" ry=\"18\"/>\n",
       "<text text-anchor=\"middle\" x=\"87.38\" y=\"-319.2\" font-family=\"Helvetica,sans-Serif\" font-size=\"14.00\">cap</text>\n",
       "</g>\n",
       "<!-- clusterAddWhileLessThanconditionInputsother -->\n",
       "<g id=\"node17\" class=\"node\">\n",
       "<title>clusterAddWhileLessThanconditionInputsother</title>\n",
       "<ellipse fill=\"#edb22c\" stroke=\"#edb22c\" cx=\"618.88\" cy=\"-65\" rx=\"30.38\" ry=\"18\"/>\n",
       "<text text-anchor=\"middle\" x=\"618.88\" y=\"-59.2\" font-family=\"Helvetica,sans-Serif\" font-size=\"14.00\">other</text>\n",
       "</g>\n",
       "<!-- clusterAddWhileLessThanInputscap&#45;&gt;clusterAddWhileLessThanconditionInputsother -->\n",
       "<g id=\"edge17\" class=\"edge\">\n",
       "<title>clusterAddWhileLessThanInputscap&#45;&gt;clusterAddWhileLessThanconditionInputsother</title>\n",
       "<path fill=\"none\" stroke=\"#edb22c\" stroke-dasharray=\"5,2\" d=\"M108.06,-312.98C141.86,-292.55 215.85,-248.67 304.04,-201.58\"/>\n",
       "<path fill=\"none\" stroke=\"#edb22c\" stroke-dasharray=\"5,2\" d=\"M304.04,-201.58C375.17,-163.61 455.53,-123.54 531.5,-92 547.03,-85.55 564.67,-79.78 579.94,-75.24\"/>\n",
       "<polygon fill=\"#edb22c\" stroke=\"#edb22c\" points=\"580.49,-78.72 589.13,-72.58 578.55,-72 580.49,-78.72\"/>\n",
       "</g>\n",
       "<!-- clusterAddWhileLessThanOutputsWithInjectiongreater -->\n",
       "<g id=\"node7\" class=\"node\">\n",
       "<title>clusterAddWhileLessThanOutputsWithInjectiongreater</title>\n",
       "<ellipse fill=\"#edb22c\" stroke=\"#edb22c\" cx=\"618.88\" cy=\"-653\" rx=\"38.18\" ry=\"18\"/>\n",
       "<text text-anchor=\"middle\" x=\"618.88\" y=\"-647.2\" font-family=\"Helvetica,sans-Serif\" font-size=\"14.00\">greater</text>\n",
       "</g>\n",
       "<!-- clusterAddWhileLessThanbodyInputsrun -->\n",
       "<g id=\"node8\" class=\"node\">\n",
       "<title>clusterAddWhileLessThanbodyInputsrun</title>\n",
       "<polygon fill=\"#21bfd8\" stroke=\"#21bfd8\" points=\"281.13,-337 239.13,-337 239.13,-313 281.13,-313 293.13,-325 281.13,-337\"/>\n",
       "<text text-anchor=\"middle\" x=\"266.13\" y=\"-319.2\" font-family=\"Helvetica,sans-Serif\" font-size=\"14.00\">run</text>\n",
       "</g>\n",
       "<!-- clusterAddWhileLessThanbodyOutputsWithInjectionran -->\n",
       "<g id=\"node12\" class=\"node\">\n",
       "<title>clusterAddWhileLessThanbodyOutputsWithInjectionran</title>\n",
       "<polygon fill=\"#21bfd8\" stroke=\"#21bfd8\" points=\"459,-389 417,-389 417,-365 459,-365 471,-377 459,-389\"/>\n",
       "<text text-anchor=\"middle\" x=\"444\" y=\"-371.2\" font-family=\"Helvetica,sans-Serif\" font-size=\"14.00\">ran</text>\n",
       "</g>\n",
       "<!-- clusterAddWhileLessThanbodyInputsrun&#45;&gt;clusterAddWhileLessThanbodyOutputsWithInjectionran -->\n",
       "<!-- clusterAddWhileLessThanbodyInputsaccumulate_and_run -->\n",
       "<g id=\"node9\" class=\"node\">\n",
       "<title>clusterAddWhileLessThanbodyInputsaccumulate_and_run</title>\n",
       "<polygon fill=\"#21bfd8\" stroke=\"#21bfd8\" points=\"325.5,-391 194.75,-391 194.75,-367 325.5,-367 337.5,-379 325.5,-391\"/>\n",
       "<text text-anchor=\"middle\" x=\"266.13\" y=\"-373.2\" font-family=\"Helvetica,sans-Serif\" font-size=\"14.00\">accumulate_and_run</text>\n",
       "</g>\n",
       "<!-- clusterAddWhileLessThanconditionInputsrun -->\n",
       "<g id=\"node14\" class=\"node\">\n",
       "<title>clusterAddWhileLessThanconditionInputsrun</title>\n",
       "<polygon fill=\"#21bfd8\" stroke=\"#21bfd8\" points=\"633.88,-185 591.88,-185 591.88,-161 633.88,-161 645.88,-173 633.88,-185\"/>\n",
       "<text text-anchor=\"middle\" x=\"618.88\" y=\"-167.2\" font-family=\"Helvetica,sans-Serif\" font-size=\"14.00\">run</text>\n",
       "</g>\n",
       "<!-- clusterAddWhileLessThanbodyOutputsWithInjectionran&#45;&gt;clusterAddWhileLessThanconditionInputsrun -->\n",
       "<g id=\"edge6\" class=\"edge\">\n",
       "<title>clusterAddWhileLessThanbodyOutputsWithInjectionran&#45;&gt;clusterAddWhileLessThanconditionInputsrun</title>\n",
       "<path fill=\"none\" stroke=\"#21bfd8\" d=\"M448.84,-358.77C454.33,-335.62 466.19,-294.1 487.56,-255.94\"/>\n",
       "<path fill=\"none\" stroke=\"#21bfd8\" d=\"M487.56,-255.94C499.21,-235.12 513.69,-215.3 531.5,-200 545.15,-188.27 563.89,-181.63 580.42,-177.88\"/>\n",
       "<polygon fill=\"#21bfd8\" stroke=\"#21bfd8\" points=\"580.8,-181.37 589.93,-176.01 579.45,-174.5 580.8,-181.37\"/>\n",
       "</g>\n",
       "<!-- clusterAddWhileLessThanhistoryInputsrun -->\n",
       "<g id=\"node27\" class=\"node\">\n",
       "<title>clusterAddWhileLessThanhistoryInputsrun</title>\n",
       "<polygon fill=\"#21bfd8\" stroke=\"#21bfd8\" points=\"633.88,-389 591.88,-389 591.88,-365 633.88,-365 645.88,-377 633.88,-389\"/>\n",
       "<text text-anchor=\"middle\" x=\"618.88\" y=\"-371.2\" font-family=\"Helvetica,sans-Serif\" font-size=\"14.00\">run</text>\n",
       "</g>\n",
       "<!-- clusterAddWhileLessThanbodyOutputsWithInjectionran&#45;&gt;clusterAddWhileLessThanhistoryInputsrun -->\n",
       "<g id=\"edge7\" class=\"edge\">\n",
       "<title>clusterAddWhileLessThanbodyOutputsWithInjectionran&#45;&gt;clusterAddWhileLessThanhistoryInputsrun</title>\n",
       "<path fill=\"none\" stroke=\"#21bfd8\" d=\"M471.26,-377C485.77,-377 504.77,-377 524.27,-377\"/>\n",
       "<path fill=\"none\" stroke=\"#21bfd8\" d=\"M524.27,-377C543.76,-377 563.74,-377 580.21,-377\"/>\n",
       "<polygon fill=\"#21bfd8\" stroke=\"#21bfd8\" points=\"580.14,-380.5 590.14,-377 580.14,-373.5 580.14,-380.5\"/>\n",
       "</g>\n",
       "<!-- clusterAddWhileLessThanbodyOutputsWithInjectionadd -->\n",
       "<g id=\"node13\" class=\"node\">\n",
       "<title>clusterAddWhileLessThanbodyOutputsWithInjectionadd</title>\n",
       "<ellipse fill=\"#edb22c\" stroke=\"#edb22c\" cx=\"444\" cy=\"-431\" rx=\"27\" ry=\"18\"/>\n",
       "<text text-anchor=\"middle\" x=\"444\" y=\"-425.2\" font-family=\"Helvetica,sans-Serif\" font-size=\"14.00\">add</text>\n",
       "</g>\n",
       "<!-- clusterAddWhileLessThanbodyOutputsWithInjectionadd&#45;&gt;clusterAddWhileLessThanOutputsWithInjectiongreater -->\n",
       "<g id=\"edge18\" class=\"edge\">\n",
       "<title>clusterAddWhileLessThanbodyOutputsWithInjectionadd&#45;&gt;clusterAddWhileLessThanOutputsWithInjectiongreater</title>\n",
       "<path fill=\"none\" stroke=\"#edb22c\" stroke-dasharray=\"5,2\" d=\"M451.32,-448.58C459.68,-470.63 476.08,-510.04 498.9,-547.2\"/>\n",
       "<path fill=\"none\" stroke=\"#edb22c\" stroke-dasharray=\"5,2\" d=\"M498.9,-547.2C508.64,-563.05 519.55,-578.5 531.5,-592 546.15,-608.55 566.12,-623.02 583.16,-633.71\"/>\n",
       "<polygon fill=\"#edb22c\" stroke=\"#edb22c\" points=\"581.14,-636.58 591.51,-638.77 584.77,-630.59 581.14,-636.58\"/>\n",
       "</g>\n",
       "<!-- clusterAddWhileLessThanbodyOutputsWithInjectionadd&#45;&gt;clusterAddWhileLessThanbodyInputsobj -->\n",
       "<g id=\"edge8\" class=\"edge\">\n",
       "<title>clusterAddWhileLessThanbodyOutputsWithInjectionadd&#45;&gt;clusterAddWhileLessThanbodyInputsobj</title>\n",
       "<path fill=\"none\" stroke=\"#edb22c\" d=\"M416.78,-431.3C401.93,-431.47 382.34,-431.69 362.26,-431.92\"/>\n",
       "<path fill=\"none\" stroke=\"#edb22c\" d=\"M362.26,-431.92C342.17,-432.15 321.57,-432.38 304.71,-432.57\"/>\n",
       "<polygon fill=\"#edb22c\" stroke=\"#edb22c\" points=\"304.93,-429.07 294.97,-432.68 305.01,-436.07 304.93,-429.07\"/>\n",
       "</g>\n",
       "<!-- clusterAddWhileLessThanconditionInputsobj -->\n",
       "<g id=\"node16\" class=\"node\">\n",
       "<title>clusterAddWhileLessThanconditionInputsobj</title>\n",
       "<ellipse fill=\"#edb22c\" stroke=\"#edb22c\" cx=\"618.88\" cy=\"-227\" rx=\"27\" ry=\"18\"/>\n",
       "<text text-anchor=\"middle\" x=\"618.88\" y=\"-221.2\" font-family=\"Helvetica,sans-Serif\" font-size=\"14.00\">obj</text>\n",
       "</g>\n",
       "<!-- clusterAddWhileLessThanbodyOutputsWithInjectionadd&#45;&gt;clusterAddWhileLessThanconditionInputsobj -->\n",
       "<g id=\"edge9\" class=\"edge\">\n",
       "<title>clusterAddWhileLessThanbodyOutputsWithInjectionadd&#45;&gt;clusterAddWhileLessThanconditionInputsobj</title>\n",
       "<path fill=\"none\" stroke=\"#edb22c\" d=\"M471.22,-428.92C488.71,-426.09 510.76,-419.46 523.5,-404 537.93,-386.5 525.57,-373.88 529.23,-354.69\"/>\n",
       "<path fill=\"none\" stroke=\"#edb22c\" d=\"M529.23,-354.69C529.69,-352.24 530.42,-349.69 531.5,-347 546.52,-309.57 575.65,-272.87 595.9,-250.12\"/>\n",
       "<polygon fill=\"#edb22c\" stroke=\"#edb22c\" points=\"598.29,-252.7 602.43,-242.94 593.11,-247.99 598.29,-252.7\"/>\n",
       "</g>\n",
       "<!-- clusterAddWhileLessThanhistoryInputsnew_element -->\n",
       "<g id=\"node30\" class=\"node\">\n",
       "<title>clusterAddWhileLessThanhistoryInputsnew_element</title>\n",
       "<ellipse fill=\"#edb22c\" stroke=\"#edb22c\" cx=\"618.88\" cy=\"-539\" rx=\"63.04\" ry=\"18\"/>\n",
       "<text text-anchor=\"middle\" x=\"618.88\" y=\"-533.2\" font-family=\"Helvetica,sans-Serif\" font-size=\"14.00\">new_element</text>\n",
       "</g>\n",
       "<!-- clusterAddWhileLessThanbodyOutputsWithInjectionadd&#45;&gt;clusterAddWhileLessThanhistoryInputsnew_element -->\n",
       "<g id=\"edge10\" class=\"edge\">\n",
       "<title>clusterAddWhileLessThanbodyOutputsWithInjectionadd&#45;&gt;clusterAddWhileLessThanhistoryInputsnew_element</title>\n",
       "<path fill=\"none\" stroke=\"#edb22c\" d=\"M457.77,-446.64C467.87,-458.38 483.18,-474.95 500.87,-489.93\"/>\n",
       "<path fill=\"none\" stroke=\"#edb22c\" d=\"M500.87,-489.93C510.53,-498.11 520.89,-505.82 531.5,-512 539.69,-516.78 548.83,-520.8 558,-524.17\"/>\n",
       "<polygon fill=\"#edb22c\" stroke=\"#edb22c\" points=\"556.71,-527.42 567.3,-527.33 558.96,-520.79 556.71,-527.42\"/>\n",
       "</g>\n",
       "<!-- clusterAddWhileLessThanconditionOutputsWithInjectionran -->\n",
       "<g id=\"node18\" class=\"node\">\n",
       "<title>clusterAddWhileLessThanconditionOutputsWithInjectionran</title>\n",
       "<polygon fill=\"#21bfd8\" stroke=\"#21bfd8\" points=\"819.75,-185 777.75,-185 777.75,-161 819.75,-161 831.75,-173 819.75,-185\"/>\n",
       "<text text-anchor=\"middle\" x=\"804.75\" y=\"-167.2\" font-family=\"Helvetica,sans-Serif\" font-size=\"14.00\">ran</text>\n",
       "</g>\n",
       "<!-- clusterAddWhileLessThanconditionInputsrun&#45;&gt;clusterAddWhileLessThanconditionOutputsWithInjectionran -->\n",
       "<!-- clusterAddWhileLessThanconditionInputsaccumulate_and_run -->\n",
       "<g id=\"node15\" class=\"node\">\n",
       "<title>clusterAddWhileLessThanconditionInputsaccumulate_and_run</title>\n",
       "<polygon fill=\"#21bfd8\" stroke=\"#21bfd8\" points=\"678.25,-131 547.5,-131 547.5,-107 678.25,-107 690.25,-119 678.25,-131\"/>\n",
       "<text text-anchor=\"middle\" x=\"618.88\" y=\"-113.2\" font-family=\"Helvetica,sans-Serif\" font-size=\"14.00\">accumulate_and_run</text>\n",
       "</g>\n",
       "<!-- clusterAddWhileLessThanswitchInputsrun -->\n",
       "<g id=\"node20\" class=\"node\">\n",
       "<title>clusterAddWhileLessThanswitchInputsrun</title>\n",
       "<polygon fill=\"#21bfd8\" stroke=\"#21bfd8\" points=\"994.63,-162 952.63,-162 952.63,-138 994.63,-138 1006.63,-150 994.63,-162\"/>\n",
       "<text text-anchor=\"middle\" x=\"979.63\" y=\"-144.2\" font-family=\"Helvetica,sans-Serif\" font-size=\"14.00\">run</text>\n",
       "</g>\n",
       "<!-- clusterAddWhileLessThanconditionOutputsWithInjectionran&#45;&gt;clusterAddWhileLessThanswitchInputsrun -->\n",
       "<g id=\"edge11\" class=\"edge\">\n",
       "<title>clusterAddWhileLessThanconditionOutputsWithInjectionran&#45;&gt;clusterAddWhileLessThanswitchInputsrun</title>\n",
       "<path fill=\"none\" stroke=\"#21bfd8\" d=\"M832.01,-169.51C846.58,-167.57 865.69,-165.03 885.27,-162.42\"/>\n",
       "<path fill=\"none\" stroke=\"#21bfd8\" d=\"M885.27,-162.42C904.86,-159.81 924.92,-157.15 941.4,-154.95\"/>\n",
       "<polygon fill=\"#21bfd8\" stroke=\"#21bfd8\" points=\"941.45,-158.48 950.91,-153.69 940.53,-151.54 941.45,-158.48\"/>\n",
       "</g>\n",
       "<!-- clusterAddWhileLessThanconditionOutputsWithInjectionlt -->\n",
       "<g id=\"node19\" class=\"node\">\n",
       "<title>clusterAddWhileLessThanconditionOutputsWithInjectionlt</title>\n",
       "<ellipse fill=\"#edb22c\" stroke=\"#edb22c\" cx=\"804.75\" cy=\"-227\" rx=\"27\" ry=\"18\"/>\n",
       "<text text-anchor=\"middle\" x=\"804.75\" y=\"-221.2\" font-family=\"Helvetica,sans-Serif\" font-size=\"14.00\">lt</text>\n",
       "</g>\n",
       "<!-- clusterAddWhileLessThanswitchInputscondition -->\n",
       "<g id=\"node22\" class=\"node\">\n",
       "<title>clusterAddWhileLessThanswitchInputscondition</title>\n",
       "<ellipse fill=\"#edb22c\" stroke=\"#edb22c\" cx=\"979.63\" cy=\"-258\" rx=\"45.5\" ry=\"18\"/>\n",
       "<text text-anchor=\"middle\" x=\"979.63\" y=\"-252.2\" font-family=\"Helvetica,sans-Serif\" font-size=\"14.00\">condition</text>\n",
       "</g>\n",
       "<!-- clusterAddWhileLessThanconditionOutputsWithInjectionlt&#45;&gt;clusterAddWhileLessThanswitchInputscondition -->\n",
       "<g id=\"edge12\" class=\"edge\">\n",
       "<title>clusterAddWhileLessThanconditionOutputsWithInjectionlt&#45;&gt;clusterAddWhileLessThanswitchInputscondition</title>\n",
       "<path fill=\"none\" stroke=\"#edb22c\" d=\"M831.26,-231.57C843.72,-233.81 859.62,-236.66 876.35,-239.66\"/>\n",
       "<path fill=\"none\" stroke=\"#edb22c\" d=\"M876.35,-239.66C893.07,-242.66 910.61,-245.8 926.35,-248.63\"/>\n",
       "<polygon fill=\"#edb22c\" stroke=\"#edb22c\" points=\"925.63,-252.05 936.09,-250.37 926.87,-245.16 925.63,-252.05\"/>\n",
       "</g>\n",
       "<!-- clusterAddWhileLessThanswitchOutputsWithInjectionran -->\n",
       "<g id=\"node23\" class=\"node\">\n",
       "<title>clusterAddWhileLessThanswitchOutputsWithInjectionran</title>\n",
       "<polygon fill=\"#21bfd8\" stroke=\"#21bfd8\" points=\"1172.5,-162 1130.5,-162 1130.5,-138 1172.5,-138 1184.5,-150 1172.5,-162\"/>\n",
       "<text text-anchor=\"middle\" x=\"1157.5\" y=\"-144.2\" font-family=\"Helvetica,sans-Serif\" font-size=\"14.00\">ran</text>\n",
       "</g>\n",
       "<!-- clusterAddWhileLessThanswitchInputsrun&#45;&gt;clusterAddWhileLessThanswitchOutputsWithInjectionran -->\n",
       "<!-- clusterAddWhileLessThanswitchInputsaccumulate_and_run -->\n",
       "<g id=\"node21\" class=\"node\">\n",
       "<title>clusterAddWhileLessThanswitchInputsaccumulate_and_run</title>\n",
       "<polygon fill=\"#21bfd8\" stroke=\"#21bfd8\" points=\"1039,-216 908.25,-216 908.25,-192 1039,-192 1051,-204 1039,-216\"/>\n",
       "<text text-anchor=\"middle\" x=\"979.63\" y=\"-198.2\" font-family=\"Helvetica,sans-Serif\" font-size=\"14.00\">accumulate_and_run</text>\n",
       "</g>\n",
       "<!-- clusterAddWhileLessThanswitchOutputsWithInjectiontrue -->\n",
       "<g id=\"node24\" class=\"node\">\n",
       "<title>clusterAddWhileLessThanswitchOutputsWithInjectiontrue</title>\n",
       "<polygon fill=\"#21bfd8\" stroke=\"#21bfd8\" points=\"1172.5,-216 1130.5,-216 1130.5,-192 1172.5,-192 1184.5,-204 1172.5,-216\"/>\n",
       "<text text-anchor=\"middle\" x=\"1157.5\" y=\"-198.2\" font-family=\"Helvetica,sans-Serif\" font-size=\"14.00\">true</text>\n",
       "</g>\n",
       "<!-- clusterAddWhileLessThanswitchOutputsWithInjectiontrue&#45;&gt;clusterAddWhileLessThanbodyInputsrun -->\n",
       "<g id=\"edge13\" class=\"edge\">\n",
       "<title>clusterAddWhileLessThanswitchOutputsWithInjectiontrue&#45;&gt;clusterAddWhileLessThanbodyInputsrun</title>\n",
       "<path fill=\"none\" stroke=\"#21bfd8\" d=\"M1130.05,-208.65C1115.62,-212.44 1098.43,-219.18 1087,-231 1060.82,-258.08 1089.11,-288.36 1059,-311 968.9,-378.74 918.48,-325 805.75,-325 788.08,-325 772.07,-325 757.57,-325\"/>\n",
       "<path fill=\"none\" stroke=\"#21bfd8\" d=\"M757.57,-325C617.88,-325 617.88,-325 617.88,-325 503.8,-325 368.85,-325 304.66,-325\"/>\n",
       "<polygon fill=\"#21bfd8\" stroke=\"#21bfd8\" points=\"305.04,-321.5 295.04,-325 305.04,-328.5 305.04,-321.5\"/>\n",
       "</g>\n",
       "<!-- clusterAddWhileLessThanswitchOutputsWithInjectionfalse -->\n",
       "<g id=\"node25\" class=\"node\">\n",
       "<title>clusterAddWhileLessThanswitchOutputsWithInjectionfalse</title>\n",
       "<polygon fill=\"#21bfd8\" stroke=\"#21bfd8\" points=\"1172.5,-270 1130.5,-270 1130.5,-246 1172.5,-246 1184.5,-258 1172.5,-270\"/>\n",
       "<text text-anchor=\"middle\" x=\"1157.5\" y=\"-252.2\" font-family=\"Helvetica,sans-Serif\" font-size=\"14.00\">false</text>\n",
       "</g>\n",
       "<!-- clusterAddWhileLessThanswitchOutputsWithInjectiontruth -->\n",
       "<g id=\"node26\" class=\"node\">\n",
       "<title>clusterAddWhileLessThanswitchOutputsWithInjectiontruth</title>\n",
       "<ellipse fill=\"#edb22c\" stroke=\"#edb22c\" cx=\"1157.5\" cy=\"-312\" rx=\"27.95\" ry=\"18\"/>\n",
       "<text text-anchor=\"middle\" x=\"1157.5\" y=\"-306.2\" font-family=\"Helvetica,sans-Serif\" font-size=\"14.00\">truth</text>\n",
       "</g>\n",
       "<!-- clusterAddWhileLessThanhistoryOutputsWithInjectionran -->\n",
       "<g id=\"node31\" class=\"node\">\n",
       "<title>clusterAddWhileLessThanhistoryOutputsWithInjectionran</title>\n",
       "<polygon fill=\"#21bfd8\" stroke=\"#21bfd8\" points=\"819.75,-416 777.75,-416 777.75,-392 819.75,-392 831.75,-404 819.75,-416\"/>\n",
       "<text text-anchor=\"middle\" x=\"804.75\" y=\"-398.2\" font-family=\"Helvetica,sans-Serif\" font-size=\"14.00\">ran</text>\n",
       "</g>\n",
       "<!-- clusterAddWhileLessThanhistoryInputsrun&#45;&gt;clusterAddWhileLessThanhistoryOutputsWithInjectionran -->\n",
       "<!-- clusterAddWhileLessThanhistoryInputsaccumulate_and_run -->\n",
       "<g id=\"node28\" class=\"node\">\n",
       "<title>clusterAddWhileLessThanhistoryInputsaccumulate_and_run</title>\n",
       "<polygon fill=\"#21bfd8\" stroke=\"#21bfd8\" points=\"678.25,-443 547.5,-443 547.5,-419 678.25,-419 690.25,-431 678.25,-443\"/>\n",
       "<text text-anchor=\"middle\" x=\"618.88\" y=\"-425.2\" font-family=\"Helvetica,sans-Serif\" font-size=\"14.00\">accumulate_and_run</text>\n",
       "</g>\n",
       "<!-- clusterAddWhileLessThanhistoryInputsexisting -->\n",
       "<g id=\"node29\" class=\"node\">\n",
       "<title>clusterAddWhileLessThanhistoryInputsexisting</title>\n",
       "<ellipse fill=\"#edb22c\" stroke=\"#edb22c\" cx=\"618.88\" cy=\"-485\" rx=\"40.13\" ry=\"18\"/>\n",
       "<text text-anchor=\"middle\" x=\"618.88\" y=\"-479.2\" font-family=\"Helvetica,sans-Serif\" font-size=\"14.00\">existing</text>\n",
       "</g>\n",
       "<!-- clusterAddWhileLessThanhistoryOutputsWithInjectionlist -->\n",
       "<g id=\"node32\" class=\"node\">\n",
       "<title>clusterAddWhileLessThanhistoryOutputsWithInjectionlist</title>\n",
       "<ellipse fill=\"#edb22c\" stroke=\"#edb22c\" cx=\"804.75\" cy=\"-458\" rx=\"27\" ry=\"18\"/>\n",
       "<text text-anchor=\"middle\" x=\"804.75\" y=\"-452.2\" font-family=\"Helvetica,sans-Serif\" font-size=\"14.00\">list</text>\n",
       "</g>\n",
       "<!-- clusterAddWhileLessThanhistoryOutputsWithInjectionlist&#45;&gt;clusterAddWhileLessThanhistoryInputsexisting -->\n",
       "<g id=\"edge14\" class=\"edge\">\n",
       "<title>clusterAddWhileLessThanhistoryOutputsWithInjectionlist&#45;&gt;clusterAddWhileLessThanhistoryInputsexisting</title>\n",
       "<path fill=\"none\" stroke=\"#edb22c\" d=\"M777.98,-461.78C763.84,-463.86 745.25,-466.59 725.81,-469.44\"/>\n",
       "<path fill=\"none\" stroke=\"#edb22c\" d=\"M725.81,-469.44C706.37,-472.3 686.08,-475.28 668.51,-477.86\"/>\n",
       "<polygon fill=\"#edb22c\" stroke=\"#edb22c\" points=\"668.41,-474.34 659.03,-479.25 669.43,-481.26 668.41,-474.34\"/>\n",
       "</g>\n",
       "</g>\n",
       "</svg>\n"
      ],
      "text/plain": [
       "<graphviz.graphs.Digraph at 0x13146f490>"
      ]
     },
     "execution_count": 63,
     "metadata": {},
     "output_type": "execute_result"
    }
   ],
   "source": [
    "cyclic = AddWhileLessThan()\n",
    "cyclic.draw(size=(10, 10))"
   ]
  },
  {
   "cell_type": "code",
   "execution_count": 64,
   "id": "32d1c20d-d484-434f-9b10-02ee17df4eee",
   "metadata": {},
   "outputs": [
    {
     "data": {
      "text/plain": [
       "{'greater': 6}"
      ]
     },
     "execution_count": 64,
     "metadata": {},
     "output_type": "execute_result"
    }
   ],
   "source": [
    "cyclic(0, 2, 5)"
   ]
  },
  {
   "cell_type": "markdown",
   "id": "90bfa6fa-6218-41c1-8dc4-630f511cffb6",
   "metadata": {},
   "source": [
    "We can examine the provenance as usual. In this case, because the graph is cyclic, the same node appears multiple times"
   ]
  },
  {
   "cell_type": "code",
   "execution_count": 65,
   "id": "d44e90ad-4a96-4c0a-a4d2-0e3ed394479c",
   "metadata": {},
   "outputs": [
    {
     "data": {
      "text/plain": [
       "['body',\n",
       " 'history',\n",
       " 'condition',\n",
       " 'switch',\n",
       " 'body',\n",
       " 'history',\n",
       " 'condition',\n",
       " 'switch',\n",
       " 'body',\n",
       " 'history',\n",
       " 'condition',\n",
       " 'switch']"
      ]
     },
     "execution_count": 65,
     "metadata": {},
     "output_type": "execute_result"
    }
   ],
   "source": [
    "cyclic.provenance_by_execution"
   ]
  },
  {
   "cell_type": "markdown",
   "id": "686fbf70-de7d-4040-9840-a6c8fffbd036",
   "metadata": {},
   "source": [
    "Since the nodes only store their instantaneous IO state and not its history, we've added a \"history\" node into the workflow. It's not part of the macro output in this example, but you can always dig into the node to examine its state"
   ]
  },
  {
   "cell_type": "code",
   "execution_count": 66,
   "id": "5814f830-fe47-4bce-b8f4-35df63565e6b",
   "metadata": {},
   "outputs": [
    {
     "data": {
      "text/plain": [
       "[2, 4, 6]"
      ]
     },
     "execution_count": 66,
     "metadata": {},
     "output_type": "execute_result"
    }
   ],
   "source": [
    "cyclic.history.outputs.list.value"
   ]
  },
  {
   "cell_type": "markdown",
   "id": "46af7a97-57dc-4d68-886f-c6f00de97597",
   "metadata": {},
   "source": [
    "And, of course, such a macro can be (un)pickled as usual"
   ]
  },
  {
   "cell_type": "code",
   "execution_count": 67,
   "id": "4a7eece3-20dd-4f57-88f2-5a1076daeb08",
   "metadata": {},
   "outputs": [
    {
     "data": {
      "text/plain": [
       "6"
      ]
     },
     "execution_count": 67,
     "metadata": {},
     "output_type": "execute_result"
    }
   ],
   "source": [
    "import pickle\n",
    "\n",
    "reloaded = pickle.loads(pickle.dumps(cyclic))\n",
    "reloaded.outputs.greater.value"
   ]
  },
  {
   "cell_type": "markdown",
   "id": "8f265a14-11fd-40e4-9862-b524ad749c0a",
   "metadata": {},
   "source": [
    "## Storage interfaces\n",
    "\n",
    "We saw in `quickstart.ipynb` how to save and load nodes to/from their default location (based on the current working directory and their semantic label), and how to use checkpointing and autoloading with the built-in `\"pickle\"` storage back end.\n",
    "\n",
    "We can also save and load using an explicit storage interface instance. This allows us to save and load at non-standard locations:"
   ]
  },
  {
   "cell_type": "code",
   "execution_count": 68,
   "id": "75aac7e5-7fe8-4a69-b0f3-1510cf52ef5e",
   "metadata": {},
   "outputs": [
    {
     "data": {
      "text/plain": [
       "{'without__in': True}"
      ]
     },
     "execution_count": 68,
     "metadata": {},
     "output_type": "execute_result"
    }
   ],
   "source": [
    "wf = pwf.Workflow(\"custom_save_location\")\n",
    "wf.cant_spell = pwf.standard_nodes.UserInput(\"slaughter\")\n",
    "wf.without = wf.cant_spell.contains(\"laughter\")\n",
    "wf()"
   ]
  },
  {
   "cell_type": "code",
   "execution_count": 69,
   "id": "3ce9be3f-2ac9-49d1-a482-dc0c6735aa59",
   "metadata": {},
   "outputs": [],
   "source": [
    "storage = pwf.PickleStorage()\n",
    "storage.save(wf, \"../someplace_else\")"
   ]
  },
  {
   "cell_type": "code",
   "execution_count": 70,
   "id": "2e70af5b-9e74-4b1a-a26c-b9f427401f4d",
   "metadata": {},
   "outputs": [],
   "source": [
    "try:\n",
    "    reloaded = storage.load(filename=\"../someplace_else\")\n",
    "    assert(reloaded.outputs.without__in.value == wf.outputs.without__in.value)\n",
    "finally:\n",
    "    # Clean up\n",
    "    storage.delete(filename=\"../someplace_else\")"
   ]
  },
  {
   "cell_type": "markdown",
   "id": "5819af7e-0303-483a-8e4d-f02bae4cae73",
   "metadata": {},
   "source": [
    "And also to specify interface settings -- these can also be set on a per-operation level using kwargs, but for something like `checkpoint` the operations happen in a built-in way where we don't have the ability to modify the kwargs to the call, so we need to adjust the settings right in the interface.\n",
    "\n",
    "For `PickleStorage` the only setting is whether to allow a fallback to `cloudpickle`, so let's turn that off and construct an example where we'd see the failure:"
   ]
  },
  {
   "cell_type": "code",
   "execution_count": 71,
   "id": "8adf1d56-6d81-4b20-9efe-ae0a67348cf9",
   "metadata": {},
   "outputs": [],
   "source": [
    "def outer_function():\n",
    "    def inner_function(x):\n",
    "        return x\n",
    "    return inner_function"
   ]
  },
  {
   "cell_type": "code",
   "execution_count": 72,
   "id": "6b1f54c9-872b-40c6-9370-bd0032d5d075",
   "metadata": {},
   "outputs": [
    {
     "data": {
      "text/plain": [
       "{'unpickleable__x': 2}"
      ]
     },
     "execution_count": 72,
     "metadata": {},
     "output_type": "execute_result"
    }
   ],
   "source": [
    "wf = pwf.Workflow(\"doomed\")\n",
    "wf.unpickleable = pwf.function_node(outer_function())\n",
    "wf(unpickleable__x=2)"
   ]
  },
  {
   "cell_type": "markdown",
   "id": "1f2dfcd4-d753-4f75-9405-38c91bf4937c",
   "metadata": {},
   "source": [
    "There's nothing inherently wrong with the node and it runs fine, but the function comes from a `<local>` scope, so we won't be able to pickle it"
   ]
  },
  {
   "cell_type": "code",
   "execution_count": 73,
   "id": "2938411c-df0a-4483-ae32-2fec2413248b",
   "metadata": {},
   "outputs": [
    {
     "name": "stdout",
     "output_type": "stream",
     "text": [
      "TypeNotFoundError: doomed cannot be saved with the storage interface PickleStorage because it (or one of its children) has a type that cannot be imported. Is this node defined inside <locals>? \n",
      "Import readiness report: \n",
      "doomed: NOT IMPORTABLE\n",
      "\tunpickleable: NOT IMPORTABLE\n"
     ]
    }
   ],
   "source": [
    "no_fallback = pwf.PickleStorage(cloudpickle_fallback=False)\n",
    "wf.unpickleable.checkpoint = no_fallback\n",
    "try:\n",
    "    wf(unpickleable__x=3)\n",
    "except pwf.TypeNotFoundError as e:\n",
    "    print(\"TypeNotFoundError:\", e)"
   ]
  },
  {
   "cell_type": "markdown",
   "id": "1d854f41-9049-413d-acb4-1a9c40ea2cf4",
   "metadata": {},
   "source": [
    "### Extensions\n",
    "\n",
    "The pickle interface inherits from a more generic `StorageInterface`, which uses abstract methods to specify what `Node` expects from an interface that sits between itself and a serialization routine. Further storage backends are possible by subclassing this base class."
   ]
  },
  {
   "cell_type": "code",
   "execution_count": null,
   "id": "f40bfd6f-3fbf-4c2b-aeee-534ed4bcc970",
   "metadata": {},
   "outputs": [],
   "source": []
  }
 ],
 "metadata": {
  "kernelspec": {
   "display_name": "Python 3 (ipykernel)",
   "language": "python",
   "name": "python3"
  },
  "language_info": {
   "codemirror_mode": {
    "name": "ipython",
    "version": 3
   },
   "file_extension": ".py",
   "mimetype": "text/x-python",
   "name": "python",
   "nbconvert_exporter": "python",
   "pygments_lexer": "ipython3",
   "version": "3.11.9"
  }
 },
 "nbformat": 4,
 "nbformat_minor": 5
}
