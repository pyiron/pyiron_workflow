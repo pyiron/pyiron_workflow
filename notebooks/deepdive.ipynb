{
 "cells": [
  {
   "cell_type": "markdown",
   "id": "5edfe456-c5b8-4347-a74f-1fb19fdff91b",
   "metadata": {},
   "source": [
    "# Pyiron workflows: A ground-up walkthrough of syntax and features\n",
    "\n",
    "Contents:\n",
    "- From function to node\n",
    "- Making reusable node classes\n",
    "- Connecting nodes to form a graph\n",
    "- SingleValue nodes and syntactic sugar\n",
    "- Workflows: keeping your computational graphs organized\n",
    "- Node packages: making nodes re-usable\n",
    "- Macro nodes: complex computations by composing sub-graphs\n",
    "- Dragons and the future: remote execution, cyclic flows, and more\n",
    "\n",
    "To jump straight to how to use `pyiron_workflow`, go look at the quickstart guide -- this jumps straight to using `Workflow` as a single-point-of-access, creating nodes with decorators, and leveraging node packages to form complex graphs.\n",
    "\n",
    "Here we start from the ground up and do \"silly\" things like importing _just_ the `Function` class directly from the `pyiron_workflow` package. This isn't meant to show actual practical, recommended use-styles, but rather is indended as a pedagogical deep-dive that builds knowledge from the ground up. While the quickstart is aimed at users who just want to get running, this is intended for people who want to develop nodes for others to use, or for people who are stuck or seeing unexpected behaviour and want a better understanding of what `pyiron_workflow` is doing under the hood.\n",
    "\n",
    "The next recommendation is to simply read the class and method docstrings directly!"
   ]
  },
  {
   "cell_type": "markdown",
   "id": "f4e75528-3ea7-4feb-8167-533d439f798d",
   "metadata": {},
   "source": [
    "## Instantiating a node\n",
    "\n",
    "Simple nodes can be defined on-the-fly by passing any callable to a special `Node` class, `Function(Node)`, which transforms the function into a class. Instances of this node have input and output, can be connected to other nodes in a workflow, and can run the function it stores.\n",
    "\n",
    "Input and output channels are _automatically_ extracted from the signature and return value(s) of the function. (Note: \"Nodized\" functions must have _at most_ one `return` expression!)"
   ]
  },
  {
   "cell_type": "code",
   "execution_count": 1,
   "id": "8aca3b9b-9ba6-497a-ba9e-abdb15a6a5df",
   "metadata": {},
   "outputs": [],
   "source": [
    "from pyiron_workflow.function import Function"
   ]
  },
  {
   "cell_type": "code",
   "execution_count": 2,
   "id": "2502bc6b-d961-43d1-b2d9-66b20e2740d7",
   "metadata": {},
   "outputs": [],
   "source": [
    "def plus_minus_one(x):\n",
    "    return x+1, x-1\n",
    "\n",
    "pm_node = Function(plus_minus_one)"
   ]
  },
  {
   "cell_type": "markdown",
   "id": "5d15f0c2-b36d-4960-86b3-40d769f78528",
   "metadata": {},
   "source": [
    "This has automatically created a node with input and output data channels whose labels are gathered by inspecting the function:"
   ]
  },
  {
   "cell_type": "code",
   "execution_count": 3,
   "id": "840f4c07-4b21-4bcc-b15c-9847c6c1b048",
   "metadata": {},
   "outputs": [
    {
     "name": "stdout",
     "output_type": "stream",
     "text": [
      "['x'] ['x+1', 'x-1']\n"
     ]
    }
   ],
   "source": [
    "print(pm_node.inputs.labels, pm_node.outputs.labels)"
   ]
  },
  {
   "cell_type": "markdown",
   "id": "22ee2a49-47d1-4cec-bb25-8441ea01faf7",
   "metadata": {},
   "source": [
    "The output is still empty (`NOT_DATA`) because we haven't `run()` the node:"
   ]
  },
  {
   "cell_type": "code",
   "execution_count": 4,
   "id": "613a90fa-66ed-49f8-ba8c-2f83a54253cd",
   "metadata": {},
   "outputs": [
    {
     "name": "stdout",
     "output_type": "stream",
     "text": [
      "{'x+1': NOT_DATA, 'x-1': NOT_DATA}\n"
     ]
    }
   ],
   "source": [
    "print(pm_node.outputs.to_value_dict())"
   ]
  },
  {
   "cell_type": "markdown",
   "id": "0374e277-55ab-45d2-8058-b06365bd07af",
   "metadata": {},
   "source": [
    "If we try that now though, we'll just get a type error because the input is not set! "
   ]
  },
  {
   "cell_type": "code",
   "execution_count": 5,
   "id": "05196cd8-97c7-4f08-ae3a-ad6a076512f7",
   "metadata": {},
   "outputs": [],
   "source": [
    "# pm_node.run()"
   ]
  },
  {
   "cell_type": "markdown",
   "id": "48b0db5a-548e-4195-8361-76763ddf0474",
   "metadata": {},
   "source": [
    "Not only will you get the expected error, but `pm_node` will also set its `failed` attribute to `True` -- this will prevent it from being `ready` again until you manually reset `pm_node.failed = False`."
   ]
  },
  {
   "cell_type": "code",
   "execution_count": 6,
   "id": "b6c00a4e-0c39-4283-ac00-53c3d07f7f10",
   "metadata": {},
   "outputs": [],
   "source": [
    "# pm_node.failed = False"
   ]
  },
  {
   "cell_type": "markdown",
   "id": "84af4b04-79b4-4944-a4c9-131af915d254",
   "metadata": {},
   "source": [
    "If we update the input, we'll give the node enough data to work with:"
   ]
  },
  {
   "cell_type": "code",
   "execution_count": 7,
   "id": "b1500a40-f4f2-4c06-ad78-aaebcf3e9a50",
   "metadata": {},
   "outputs": [
    {
     "name": "stdout",
     "output_type": "stream",
     "text": [
      "{'x+1': 6, 'x-1': 4}\n"
     ]
    }
   ],
   "source": [
    "pm_node.inputs.x = 5\n",
    "pm_node.run()\n",
    "print(pm_node.outputs.to_value_dict())"
   ]
  },
  {
   "cell_type": "markdown",
   "id": "c54a691e-a075-4d41-bc0f-3a990857a27a",
   "metadata": {},
   "source": [
    "Alternatively, the `run()` command just return the function's return value:"
   ]
  },
  {
   "cell_type": "code",
   "execution_count": 8,
   "id": "e845843c-61f4-4e5c-ac1a-d005787c2841",
   "metadata": {},
   "outputs": [
    {
     "data": {
      "text/plain": [
       "(6, 4)"
      ]
     },
     "execution_count": 8,
     "metadata": {},
     "output_type": "execute_result"
    }
   ],
   "source": [
    "out = pm_node.run()\n",
    "out"
   ]
  },
  {
   "cell_type": "markdown",
   "id": "df4520d7-856e-4bc8-817f-5b2e22c1ddce",
   "metadata": {},
   "source": [
    "We can give our function defaults so that it's ready to go from the beginning. Let's also take the opportunity to give our output channel a better name so we can get it by dot-access."
   ]
  },
  {
   "cell_type": "code",
   "execution_count": 9,
   "id": "ab1ac28a-6e69-491f-882f-da4a43162dd7",
   "metadata": {},
   "outputs": [
    {
     "data": {
      "text/plain": [
       "1"
      ]
     },
     "execution_count": 9,
     "metadata": {},
     "output_type": "execute_result"
    }
   ],
   "source": [
    "def adder(x: int = 0, y: int = 1) -> int:\n",
    "    sum_ = x + y\n",
    "    return sum_\n",
    "\n",
    "adder_node = Function(adder)\n",
    "adder_node.run()\n",
    "adder_node.outputs.sum_.value  # We use `value` to see the data the channel holds"
   ]
  },
  {
   "cell_type": "markdown",
   "id": "58ed9b25-6dde-488d-9582-d49d405793c6",
   "metadata": {},
   "source": [
    "This node also exploits type hinting! Like the variable names, these hints get scraped automatically and added to the channels:"
   ]
  },
  {
   "cell_type": "code",
   "execution_count": 10,
   "id": "09eee102-f8f1-4d2d-806f-01254c2483dc",
   "metadata": {},
   "outputs": [
    {
     "data": {
      "text/plain": [
       "(int, int, int)"
      ]
     },
     "execution_count": 10,
     "metadata": {},
     "output_type": "execute_result"
    }
   ],
   "source": [
    "adder_node.inputs.x.type_hint, adder_node.inputs.y.type_hint, adder_node.outputs.sum_.type_hint"
   ]
  },
  {
   "cell_type": "markdown",
   "id": "8382ba4d-9bf7-4057-8da8-0ee411d95c18",
   "metadata": {},
   "source": [
    "New values are checked against the node type hint, so trying to assign an incommensurate value will raise an error:"
   ]
  },
  {
   "cell_type": "code",
   "execution_count": 11,
   "id": "ac0fe993-6c82-48c8-a780-cbd0c97fc386",
   "metadata": {},
   "outputs": [],
   "source": [
    "# adder_node.inputs.x = \"not an integer\""
   ]
  },
  {
   "cell_type": "markdown",
   "id": "fb2eb642-4fe8-4ab7-b969-288150e43112",
   "metadata": {},
   "source": [
    "We can bypass this by deactivating the `strict_hinting`, or by assigning a new value directly to the private `_value` attribute. The `run()` will also perform a check that input values conform to type hints before computing anything. Failing at this stage won't actually cause the node to have a `failed` status, so you can just re-run it once the input is fixed."
   ]
  },
  {
   "cell_type": "code",
   "execution_count": 12,
   "id": "a63b2cc0-9030-45ad-8d37-d11e16e61369",
   "metadata": {},
   "outputs": [],
   "source": [
    "adder_node.inputs.x._value = \"not an integer\"\n",
    "# adder_node.run()"
   ]
  },
  {
   "cell_type": "code",
   "execution_count": 13,
   "id": "3ed72790-899b-408b-bdfd-ebcf03f4c7e3",
   "metadata": {},
   "outputs": [],
   "source": [
    "# adder_node.failed = False  # Reset if you force-failed by messing with the private value"
   ]
  },
  {
   "cell_type": "code",
   "execution_count": 14,
   "id": "15742a49-4c23-4d4a-84d9-9bf19677544c",
   "metadata": {},
   "outputs": [
    {
     "data": {
      "text/plain": [
       "3"
      ]
     },
     "execution_count": 14,
     "metadata": {},
     "output_type": "execute_result"
    }
   ],
   "source": [
    "adder_node.inputs.x = 2\n",
    "adder_node.run()"
   ]
  },
  {
   "cell_type": "markdown",
   "id": "416ba898-21ee-4638-820f-0f04a98a6706",
   "metadata": {},
   "source": [
    "We can also set new input as any valid combination of kwargs and/or args at both instantiation or on call:"
   ]
  },
  {
   "cell_type": "code",
   "execution_count": 15,
   "id": "0c8f09a7-67c4-4c6c-a021-e3fea1a16576",
   "metadata": {},
   "outputs": [
    {
     "data": {
      "text/plain": [
       "30"
      ]
     },
     "execution_count": 15,
     "metadata": {},
     "output_type": "execute_result"
    }
   ],
   "source": [
    "adder_node = Function(adder, 10, y=20)\n",
    "adder_node.run()"
   ]
  },
  {
   "cell_type": "markdown",
   "id": "c0997630-c053-42bb-8c0d-332f8bc26216",
   "metadata": {},
   "source": [
    "Finally, we can update input and then `run` together by calling an already-instantiated node. Just like at node instantiation, the input for `Function` nodes can be set by positional and/or keyword argument. Here we'll use two positional args:"
   ]
  },
  {
   "cell_type": "code",
   "execution_count": 16,
   "id": "69b59737-9e09-4b4b-a0e2-76a09de02c08",
   "metadata": {},
   "outputs": [
    {
     "data": {
      "text/plain": [
       "31"
      ]
     },
     "execution_count": 16,
     "metadata": {},
     "output_type": "execute_result"
    }
   ],
   "source": [
    "adder_node(15, 16)"
   ]
  },
  {
   "cell_type": "markdown",
   "id": "f233f3f7-9576-4400-8e92-a1f6109d7f9b",
   "metadata": {},
   "source": [
    "Note for advanced users: when the node has an executor set, running returns a futures object for the calculation, whose `.result()` will eventually be the function output. This result object can also be accessed on the node's `.result` attribute as long as it's running."
   ]
  },
  {
   "cell_type": "markdown",
   "id": "07a22cee-e340-4551-bb81-07d8be1d152b",
   "metadata": {},
   "source": [
    "## Reusable node classes\n",
    "\n",
    "If we're going to use a node many times, we may want to define a new sub-class of `Function` to handle this.\n",
    "\n",
    "The can be done directly by inheriting from `Function` and overriding it's `__init__` function and/or directly defining the `node_function` property so that the core functionality of the node (i.e. the node function and output labels) are set in stone, but even easier is to use the `function_node` decorator to do this for you! \n",
    "\n",
    "The decorator also lets us explicitly choose the names of our output channels by passing the `output_labels` argument to the decorator -- as a string to create a single channel for the returned values, or as a list of strings equal to the number of returned values in a returned tuple."
   ]
  },
  {
   "cell_type": "code",
   "execution_count": 17,
   "id": "61b43a9b-8dad-48b7-9194-2045e465793b",
   "metadata": {},
   "outputs": [],
   "source": [
    "from pyiron_workflow.function import function_node"
   ]
  },
  {
   "cell_type": "code",
   "execution_count": 18,
   "id": "647360a9-c971-4272-995c-aa01e5f5bb83",
   "metadata": {},
   "outputs": [
    {
     "name": "stdout",
     "output_type": "stream",
     "text": [
      "class name = Subtract\n",
      "label = Subtract\n",
      "default output = -1\n"
     ]
    }
   ],
   "source": [
    "@function_node(\"diff\")\n",
    "def Subtract(x: int | float = 1, y: int | float = 2) -> int | float:\n",
    "    return x - y\n",
    "\n",
    "sn = Subtract()\n",
    "print(\"class name =\", sn.__class__.__name__)\n",
    "print(\"label =\", sn.label)\n",
    "\n",
    "sn()  # Runs without updating input data, but we have defaults so that's fine\n",
    "print(\"default output =\", sn.outputs.diff.value)"
   ]
  },
  {
   "cell_type": "markdown",
   "id": "77642993-63c3-41a3-a963-a406de33553c",
   "metadata": {},
   "source": [
    "The decorator is just dynamically defining a new child of the `Function` class. These children have their behaviour available in the static method `node_function` so we can access it right from the class level, e.g. to modify the behaviour:"
   ]
  },
  {
   "cell_type": "code",
   "execution_count": 19,
   "id": "b8c845b7-7088-43d7-b106-7a6ba1c571ec",
   "metadata": {},
   "outputs": [
    {
     "name": "stdout",
     "output_type": "stream",
     "text": [
      "default output = 1\n"
     ]
    }
   ],
   "source": [
    "@function_node(\"square_diff\")\n",
    "def SubtractAndSqaure(x: int | float = 1, y: int | float = 2) -> int | float:\n",
    "    return Subtract.node_function(x, y)**2\n",
    "    \n",
    "ssq = SubtractAndSqaure()\n",
    "ssq()\n",
    "print(\"default output =\", ssq.outputs.square_diff.value)"
   ]
  },
  {
   "cell_type": "markdown",
   "id": "9b9220b0-833d-4c6a-9929-5dfa60a47d14",
   "metadata": {
    "tags": []
   },
   "source": [
    "# Connecting nodes and controlling flow\n",
    "\n",
    "Multiple nodes can be used together to build a computational graph, with each node performing a particular operation in the overall workflow.\n",
    "\n",
    "The input and output of nodes can be chained together by connecting their data channels to form a data graph.\n",
    "\n",
    "The flow of execution can be manually configured by using other \"signal\" channels to form an execution graph. However, for data graphs that are a directed acyclic graph (DAG), the execution flow can be automatically determined from the topology of the data connections!\n",
    "\n",
    "The `run` command we saw above has several boolean flags for controlling the style of execution. The two main run modes are with a \"pull\" paradigm, where everything upstream on the graph of data connections is run first then the node invoking `pull` gets run; and with a \"push\" paradigm (the default for `run`), where the node invoking `run` gets run and then runs everything downstream on the execution graph. Calling an instantiated node runs a particularly aggressive version of `pull`.\n",
    "\n",
    "We'll talk more about grouping nodes together inside a `Workflow` object, but without a parent workflow, only the `pull` method will automate execution signals; trying to push data downstream using `run` requires specifying the execution flow manually.\n",
    "\n",
    "Let's start by looking at `pull` in the example below to see how this works for a super-simple toy graph:"
   ]
  },
  {
   "cell_type": "code",
   "execution_count": 20,
   "id": "2e418abf-7059-4e1e-9b9f-b3dc0a4b5e35",
   "metadata": {
    "tags": []
   },
   "outputs": [
    {
     "name": "stderr",
     "output_type": "stream",
     "text": [
      "/Users/huber/work/pyiron/pyiron_workflow/pyiron_workflow/channels.py:168: UserWarning: The channel run was not connected to ran, andthus could not disconnect from it.\n",
      "  warn(\n"
     ]
    },
    {
     "data": {
      "text/plain": [
       "2"
      ]
     },
     "execution_count": 20,
     "metadata": {},
     "output_type": "execute_result"
    }
   ],
   "source": [
    "@function_node()\n",
    "def Linear(x):\n",
    "    return x\n",
    "\n",
    "@function_node(\"double\")\n",
    "def TimesTwo(x):\n",
    "    return 2 * x\n",
    "\n",
    "l = Linear()\n",
    "t2 = TimesTwo()\n",
    "\n",
    "l.inputs.x = 1\n",
    "t2.inputs.x = l.outputs.x\n",
    "t2.signals.input.run = l.signals.output.ran\n",
    "\n",
    "t2.pull()"
   ]
  },
  {
   "cell_type": "markdown",
   "id": "09623591-bbbb-462c-b490-f1db02c9f459",
   "metadata": {},
   "source": [
    "And, as mentioned, `__call__` is just (roughly) an alias for `pull`:"
   ]
  },
  {
   "cell_type": "code",
   "execution_count": 21,
   "id": "f3b0b700-683e-43cb-b374-48735e413bc9",
   "metadata": {},
   "outputs": [
    {
     "data": {
      "text/plain": [
       "4"
      ]
     },
     "execution_count": 21,
     "metadata": {},
     "output_type": "execute_result"
    }
   ],
   "source": [
    "l.inputs.x = 2\n",
    "t2()"
   ]
  },
  {
   "cell_type": "markdown",
   "id": "5da1ecfc-7145-4fb2-b5c0-417f050c5de4",
   "metadata": {},
   "source": [
    "Next, lets see how to do this with a \"push\" paradigm.\n",
    "\n",
    "Just like the data connections, we can connect the `.signals.inputs.run` and `.signals.output.ran` channels of two nodes, but we can also use the `>>` operator as a syntactic sugar shortcut.\n",
    "\n",
    "Note how data connections can be made with keyword arguments just like other input data definitions.\n",
    "\n",
    "With both of these together, we can write:"
   ]
  },
  {
   "cell_type": "code",
   "execution_count": 22,
   "id": "59c29856-c77e-48a1-9f17-15d4c58be588",
   "metadata": {},
   "outputs": [
    {
     "name": "stdout",
     "output_type": "stream",
     "text": [
      "10 20\n"
     ]
    }
   ],
   "source": [
    "l = Linear(x=10)\n",
    "t2 = TimesTwo(x=l.outputs.x)\n",
    "l >> t2  # Note: We can make arbitrarily long linear chains: l >> t2 >> something_else >> another_node\n",
    "l.run()\n",
    "print(t2.inputs.x, t2.outputs.double)"
   ]
  },
  {
   "cell_type": "markdown",
   "id": "f0543c2f-cc72-45e6-88f2-5ea070c64909",
   "metadata": {},
   "source": [
    "This is fine for linear chains, but when we introduce parallelization we want a different execution flow; for that we introduce `.signals.inputs.accumulate_and_run`. In contrast to `.signals.inputs.run`, which triggers are run when it receives _any_ signals, `.signals.inputs.accumulate_and_run` only fires its callback after _all_ of its connected `OutputSignal`s have pinged it at least once.\n",
    "\n",
    "This let's us set up nodes which only start running after _all_ of their up-data-stream nodes have fired their `ran` signal. This is the default behaviour when `Composite` `Workflow` or `Macro` nodes automate their execution flow for DAG data graphs. We'll look at it again near the end of the notebook when we talk about remote execution."
   ]
  },
  {
   "cell_type": "markdown",
   "id": "6d464066-4271-41be-a34f-20c78d75867c",
   "metadata": {},
   "source": [
    "# Output manipulation\n",
    "\n",
    "Most (but not all) python operations can be performed _directly on output channels_. This works by injecting new nodes after the output channels to perform the requested operation.\n",
    "\n",
    "Let's look at how we can repeat some of the above examples much more succinctly using this feature:"
   ]
  },
  {
   "cell_type": "code",
   "execution_count": 23,
   "id": "98312fbb-0e87-417c-9780-d22903cdb3f4",
   "metadata": {},
   "outputs": [
    {
     "data": {
      "text/plain": [
       "9"
      ]
     },
     "execution_count": 23,
     "metadata": {},
     "output_type": "execute_result"
    }
   ],
   "source": [
    "# Subtract and square\n",
    "\n",
    "x = Linear(x=4)\n",
    "y = Linear(x=1)\n",
    "((x.outputs.x - y.outputs.x)**2).pull()  # It's just a node so we can pull it"
   ]
  },
  {
   "cell_type": "code",
   "execution_count": 24,
   "id": "b0e8fc87-fba1-4501-882b-f162c4eadf97",
   "metadata": {},
   "outputs": [
    {
     "data": {
      "text/plain": [
       "20"
      ]
     },
     "execution_count": 24,
     "metadata": {},
     "output_type": "execute_result"
    }
   ],
   "source": [
    "# Times two\n",
    "l = Linear(x=10, run_after_init=True)\n",
    "(2*l.outputs.x).value  # These nodes will try to run right away if everything upstream is ready"
   ]
  },
  {
   "cell_type": "markdown",
   "id": "3052c26c-3559-4d61-8c93-08708293b88c",
   "metadata": {},
   "source": [
    "This also works with more sophisticated features like attribute and item access, including slicing:"
   ]
  },
  {
   "cell_type": "code",
   "execution_count": 25,
   "id": "8a195c41-233e-4076-ad77-008c93297f9c",
   "metadata": {},
   "outputs": [],
   "source": [
    "foo = [1, 2, 3]"
   ]
  },
  {
   "cell_type": "code",
   "execution_count": 26,
   "id": "6805b0c3-9103-49f4-bc29-569b0b4d6ed0",
   "metadata": {},
   "outputs": [
    {
     "data": {
      "text/plain": [
       "<function list.reverse()>"
      ]
     },
     "execution_count": 26,
     "metadata": {},
     "output_type": "execute_result"
    }
   ],
   "source": [
    "foo.reverse"
   ]
  },
  {
   "cell_type": "code",
   "execution_count": 27,
   "id": "7c4cbe66-9b0a-428b-835f-31959a7f75bb",
   "metadata": {},
   "outputs": [
    {
     "data": {
      "text/plain": [
       "[1, 2]"
      ]
     },
     "execution_count": 27,
     "metadata": {},
     "output_type": "execute_result"
    }
   ],
   "source": [
    "a_list = Linear(x=[1,2,3,4], run_after_init=True)\n",
    "a_list.outputs.x[:2].value"
   ]
  },
  {
   "cell_type": "code",
   "execution_count": 28,
   "id": "16c2d0de-de6f-4b33-84e4-aefbe5db4177",
   "metadata": {},
   "outputs": [
    {
     "data": {
      "text/plain": [
       "1"
      ]
     },
     "execution_count": 28,
     "metadata": {},
     "output_type": "execute_result"
    }
   ],
   "source": [
    "a_dict = Linear(x={\"a\": 1, \"b\": 2}, run_after_init=True)\n",
    "a_dict.outputs.x[\"a\"].value"
   ]
  },
  {
   "cell_type": "code",
   "execution_count": 29,
   "id": "30b4ed75-bb73-44bb-b6d9-fe525b924652",
   "metadata": {},
   "outputs": [
    {
     "data": {
      "text/plain": [
       "42"
      ]
     },
     "execution_count": 29,
     "metadata": {},
     "output_type": "execute_result"
    }
   ],
   "source": [
    "class Foo:\n",
    "    bar = 42\n",
    "    \n",
    "an_object = Linear(x=Foo(), run_after_init=True)\n",
    "an_object.outputs.x.bar.value"
   ]
  },
  {
   "cell_type": "markdown",
   "id": "eab9c6b6-c954-471a-8613-792590e0464f",
   "metadata": {},
   "source": [
    "Some features don't work this way, e.g. overriding the `==` operator has other deterious effects so we don't do that. Most of these operators are available as a method on output channels, based on their dunder name. E.g."
   ]
  },
  {
   "cell_type": "code",
   "execution_count": 30,
   "id": "786b1402-b595-4337-8872-fd58687c2725",
   "metadata": {},
   "outputs": [
    {
     "data": {
      "text/plain": [
       "(True, False)"
      ]
     },
     "execution_count": 30,
     "metadata": {},
     "output_type": "execute_result"
    }
   ],
   "source": [
    "a = Linear(x=42)\n",
    "b = Linear(x=42)\n",
    "c = Linear(x=0)\n",
    "\n",
    "a_eq_b = a.outputs.x.eq(b.outputs.x)\n",
    "a_eq_c = a.outputs.x.eq(c.outputs.x)\n",
    "\n",
    "(a_eq_b | a_eq_c).pull(), (a_eq_b & a_eq_c).pull()"
   ]
  },
  {
   "cell_type": "markdown",
   "id": "e5c531a3-77e4-48ad-a189-fed619e79baa",
   "metadata": {},
   "source": [
    "## Single Value nodes\n",
    "\n",
    "Many functions return just a single value. In this case, we can take advantage of the `SingleValue` node class which employs a bunch of syntactic tricks to make our lives easier.\n",
    "\n",
    "The main difference between this and it's parent the `Function` class is that attribute and item access fall back to looking for attributes and items of this single output channel. I.e. you can use a single value node in many places you'd use an output channel, including in connection formation and output manipulation\n",
    "\n",
    "Let's look at a use case for output manipulation:"
   ]
  },
  {
   "cell_type": "code",
   "execution_count": 31,
   "id": "1a4e9693-0980-4435-aecc-3331d8b608dd",
   "metadata": {},
   "outputs": [],
   "source": [
    "import numpy as np\n",
    "\n",
    "from pyiron_workflow.function import SingleValue"
   ]
  },
  {
   "cell_type": "code",
   "execution_count": 32,
   "id": "7c4d314b-33bb-4a67-bfb9-ed77fba3949c",
   "metadata": {},
   "outputs": [
    {
     "name": "stdout",
     "output_type": "stream",
     "text": [
      "<class 'numpy.ndarray'>\n",
      "[0.02040816 0.04081633 0.06122449]\n",
      "0.5\n"
     ]
    }
   ],
   "source": [
    "def linspace_node(\n",
    "    start: int | float = 0, stop: int | float = 1, num: int = 50\n",
    "):\n",
    "    linspace = np.linspace(start=start, stop=stop, num=num)\n",
    "    return linspace\n",
    "\n",
    "lin = SingleValue(linspace_node)\n",
    "lin()\n",
    "\n",
    "print(type(lin.outputs.linspace.value))  # Output is just what we expect\n",
    "print(lin[1:4].value)  # Gets items from the output\n",
    "print(lin.mean.value())  # Outputs the method on the output, which we can then call"
   ]
  },
  {
   "cell_type": "markdown",
   "id": "eef23cb0-6192-4fe6-b9cc-007e261e347a",
   "metadata": {},
   "source": [
    "Our examples above also become more compact:"
   ]
  },
  {
   "cell_type": "code",
   "execution_count": 33,
   "id": "61ae572f-197b-4a60-8d3e-e19c1b9cc6e2",
   "metadata": {},
   "outputs": [
    {
     "data": {
      "text/plain": [
       "4"
      ]
     },
     "execution_count": 33,
     "metadata": {},
     "output_type": "execute_result"
    }
   ],
   "source": [
    "from pyiron_workflow.function import single_value_node\n",
    "\n",
    "@single_value_node()\n",
    "def Linear(x):\n",
    "    return x\n",
    "\n",
    "@single_value_node(\"double\")\n",
    "def TimesTwo(x):\n",
    "    return 2 * x\n",
    "\n",
    "l = Linear(x=2)\n",
    "t2 = TimesTwo(x=l)  # Just takes the whole `l` node!\n",
    "t2.pull()"
   ]
  },
  {
   "cell_type": "markdown",
   "id": "01780601-f2fd-4730-acb8-95a7359d4b3c",
   "metadata": {},
   "source": [
    "Or even just"
   ]
  },
  {
   "cell_type": "code",
   "execution_count": 34,
   "id": "5dd7ebc2-b45f-4759-bfc4-d4dd29afe216",
   "metadata": {},
   "outputs": [
    {
     "data": {
      "text/plain": [
       "4"
      ]
     },
     "execution_count": 34,
     "metadata": {},
     "output_type": "execute_result"
    }
   ],
   "source": [
    "(2*l).value"
   ]
  },
  {
   "cell_type": "markdown",
   "id": "b2e56a64-d053-4127-bb8c-069777c1c6b5",
   "metadata": {},
   "source": [
    "Nodes can take input from multiple sources, and -- although it's usually _useful_ to give each node its own variable -- we can even instantiate nodes inside the signature for initializing another node and call that node all at once! You won't have easy access to them, but this still just builds three nodes in memory, sets their data connections, and invokes a `pull` on the outermost (downstream-most) node, which automatically creates the execution flow and runs it:"
   ]
  },
  {
   "cell_type": "code",
   "execution_count": 35,
   "id": "6569014a-815b-46dd-8b47-4e1cd4584b3b",
   "metadata": {},
   "outputs": [
    {
     "name": "stderr",
     "output_type": "stream",
     "text": [
      "/Users/huber/work/pyiron/pyiron_workflow/pyiron_workflow/channels.py:168: UserWarning: The channel run was not connected to ran, andthus could not disconnect from it.\n",
      "  warn(\n"
     ]
    },
    {
     "data": {
      "image/png": "[encoded data removed]",
      "text/plain": [
       "<Figure size 640x480 with 1 Axes>"
      ]
     },
     "metadata": {},
     "output_type": "display_data"
    }
   ],
   "source": [
    "import matplotlib.pyplot as plt\n",
    "\n",
    "@single_value_node()\n",
    "def Noise(length: int = 1):\n",
    "    array =  np.random.rand(length)\n",
    "    return array\n",
    "\n",
    "@function_node()\n",
    "def Plot(x, y):\n",
    "    fig = plt.scatter(x, y)\n",
    "    return fig\n",
    "\n",
    "plot_output = Plot(\n",
    "    x=Noise(length=10),\n",
    "    y=Noise(length=10),\n",
    ")()"
   ]
  },
  {
   "cell_type": "markdown",
   "id": "5dc12164-b663-405b-872f-756996f628bd",
   "metadata": {},
   "source": [
    "# Workflows\n",
    "\n",
    "The case where we have groups of connected nodes working together is our normal, intended use case.\n",
    "We offer a formal way to group these objects together as a `Workflow(Node)` object.\n",
    "`Workflow` also offers us a single point of entry to the codebase -- i.e. most of the time you shouldn't need the node imports used above, because the decorators are available right on the workflow class.\n",
    "\n",
    "We will also see here that we can rename our node output channels using the `output_labels: Optional[str | list[str] | tuple[str]` kwarg, in case they don't have a convenient name to start with.\n",
    "This way we can always have convenient dot-based access (and tab completion) instead of having to access things by string-based keys.\n",
    "\n",
    "Finally, when a workflow is run, unless its `automate_execution` flag has been set to `False` or the data connections form a cyclic graph, it will _automatically_ build the necessary run signals! That means for all directed acyclic graph (DAG) workflows, all we typically need to worry about is the data connections."
   ]
  },
  {
   "cell_type": "markdown",
   "id": "9b9d3881-3584-4d6f-8068-5eed05760c36",
   "metadata": {},
   "source": [
    "Here is an example showing how `Workflow` can be used as a single-point-of-import for defining new nodes:"
   ]
  },
  {
   "cell_type": "code",
   "execution_count": 36,
   "id": "1cd000bd-9b24-4c39-9cac-70a3291d0660",
   "metadata": {},
   "outputs": [],
   "source": [
    "from pyiron_workflow import Workflow\n",
    "\n",
    "@Workflow.wrap_as.single_value_node(\"is_greater\")\n",
    "def GreaterThanHalf(x: int | float | bool = 0) -> bool:\n",
    "    \"\"\"The functionality doesn't matter here, it's just an example\"\"\"\n",
    "    return x > 0.5"
   ]
  },
  {
   "cell_type": "markdown",
   "id": "8f17751c-f5bf-4b13-8275-0685d8a1629e",
   "metadata": {},
   "source": [
    "## Adding nodes to a workflow\n",
    "\n",
    "Each node can belong to exactly one workflow...but how to we create a workflow and add nodes to it\n",
    "\n",
    "All five of the approaches below are equivalent ways to add a node to a workflow. Note that when `create` is called from the workflow _class_ it just gives you access to the class being created; when it is called from a workflow _instance_, it wraps this class so that the created node has its parent value automatically set to the workflow instance that's creating it."
   ]
  },
  {
   "cell_type": "code",
   "execution_count": 37,
   "id": "7964df3c-55af-4c25-afc5-9e07accb606a",
   "metadata": {},
   "outputs": [
    {
     "name": "stdout",
     "output_type": "stream",
     "text": [
      "n1 == n1) 0.0 > 0.5 False\n",
      "n2 == n2) 0.25 > 0.5 False\n",
      "n3 == n3) 0.5 > 0.5 False\n",
      "n4 == n4) 0.75 > 0.5 True\n"
     ]
    }
   ],
   "source": [
    "n1 = GreaterThanHalf(label=\"n1\")\n",
    "\n",
    "wf = Workflow(\"my_wf\", n1)  # As args at init\n",
    "wf.add_node(GreaterThanHalf(label=\"n2\"))  # Instantiating then passing to node adder\n",
    "wf.n3 = GreaterThanHalf(label=\"will_get_overwritten_with_n3\")  # Set attribute to instance\n",
    "GreaterThanHalf(label=\"n4\", parent=wf)  # By passing the workflow to the node\n",
    "\n",
    "for i, (label, node) in enumerate(wf.nodes.items()):\n",
    "    x = i / len(wf)\n",
    "    node(x=x)\n",
    "    print(f\"{label} == {node.label}) {x} > 0.5 {node.value}\")"
   ]
  },
  {
   "cell_type": "markdown",
   "id": "77c68bcb-089c-4c92-9897-9a7ab9b087c7",
   "metadata": {},
   "source": [
    "Nodes can also be removed or replaced with the corresponding `remove_node` or `replace_node` methods."
   ]
  },
  {
   "cell_type": "markdown",
   "id": "dd5768a4-1810-4675-9389-bceb053cddfa",
   "metadata": {},
   "source": [
    "Workflows have inputs and outputs just like function nodes, but these are dynamically created to map to all _unconnected_ input and output for their underlying graph. They automatically get named by connecting the node label and channel label with a double underscore, but this can be overriden by providing an `inputs_map` and/or an `outputs_map` -- these maps can also let you expose data channels that would otherwise be hidden because they have a connection!"
   ]
  },
  {
   "cell_type": "code",
   "execution_count": 38,
   "id": "809178a5-2e6b-471d-89ef-0797db47c5ad",
   "metadata": {},
   "outputs": [
    {
     "name": "stdout",
     "output_type": "stream",
     "text": [
      "['ax', 'b__x'] ['ay', 'a + b + 2']\n"
     ]
    }
   ],
   "source": [
    "wf = Workflow(\"simple\")\n",
    "\n",
    "@Workflow.wrap_as.single_value_node()\n",
    "def AddOne(x):\n",
    "    y = x + 1\n",
    "    return y\n",
    "\n",
    "@Workflow.wrap_as.single_value_node(\"sum\")\n",
    "def Add(x, y):\n",
    "    return x + y\n",
    "\n",
    "wf.a = AddOne(0)\n",
    "wf.b = AddOne(0)\n",
    "wf.sum = Add(wf.a, wf.b)  \n",
    "wf.inputs_map = {\"a__x\": \"ax\"}\n",
    "wf.outputs_map = {\"a__y\": \"ay\", \"sum__sum\": \"a + b + 2\"}\n",
    "# Remember, with single value nodes we can pass the whole node instead of an output channel!\n",
    "\n",
    "print(wf.inputs.labels, wf.outputs.labels)"
   ]
  },
  {
   "cell_type": "markdown",
   "id": "848a45a9-dfcc-4b9e-aec5-e879d88325a2",
   "metadata": {},
   "source": [
    "When `run()` is called on a workflow, it will call `run()` on each node in its `starting_nodes` list and rely on these to propagate the execution with their run signals. If your data flow is DAG-like, all of this gets handled automatically so you just need to call `run()` on the workflow.\n",
    "\n",
    "If you do have cyclic data flows, or just want more control, you are still free to set the `starting_nodes` and run signals yourself, just don't forget to set `automate_execution=False` on the workflow."
   ]
  },
  {
   "cell_type": "markdown",
   "id": "18ba07ca-f1f9-4f05-98db-d5612f9acbb6",
   "metadata": {},
   "source": [
    "Unlike function nodes, workflow input has no intrinsic order. We can still update it by calling the workflow, but we _need_ to use keyword and not positional arguments. Runs of the workflow then return a dot-accessible dictionary based on the output channels:"
   ]
  },
  {
   "cell_type": "code",
   "execution_count": 39,
   "id": "52c48d19-10a2-4c48-ae81-eceea4129a60",
   "metadata": {},
   "outputs": [
    {
     "data": {
      "text/plain": [
       "{'ay': 3, 'a + b + 2': 7}"
      ]
     },
     "execution_count": 39,
     "metadata": {},
     "output_type": "execute_result"
    }
   ],
   "source": [
    "out = wf(ax=2, b__x=3)\n",
    "out"
   ]
  },
  {
   "cell_type": "markdown",
   "id": "a229a66b-54f0-4d79-a16f-669c5f755587",
   "metadata": {},
   "source": [
    "Note: Workflows are the \"parent-most\" node, so even though `__call__` is still invoking a `pull`, the \"run all upstream data dependencies\" part of \"run all upstream data dependencies then run yourself\" gets skipped trivially -- workflows can't have siblings or parents so there are no dependencies to run! Thus `__call__` is effectively just a `run`."
   ]
  },
  {
   "cell_type": "markdown",
   "id": "e3f4b51b-7c28-47f7-9822-b4755e12bd4d",
   "metadata": {},
   "source": [
    "We can see now why we've been trying to give succinct string labels to our `Function` node outputs instead of just arbitrary expressions! The expressions are typically not dot-accessible:"
   ]
  },
  {
   "cell_type": "code",
   "execution_count": 40,
   "id": "bb35ba3e-602d-4c9c-b046-32da9401dd1c",
   "metadata": {},
   "outputs": [
    {
     "data": {
      "text/plain": [
       "(7, 3)"
      ]
     },
     "execution_count": 40,
     "metadata": {},
     "output_type": "execute_result"
    }
   ],
   "source": [
    "out[\"a + b + 2\"], out.ay"
   ]
  },
  {
   "cell_type": "markdown",
   "id": "c67ddcd9-cea0-4f3f-96aa-491da0a4c459",
   "metadata": {},
   "source": [
    "We can also look at our graph:"
   ]
  },
  {
   "cell_type": "code",
   "execution_count": 41,
   "id": "2b0d2c85-9049-417b-8739-8a8432a1efbe",
   "metadata": {},
   "outputs": [
    {
     "data": {
      "image/svg+xml": [
       "<?xml version=\"1.0\" encoding=\"UTF-8\" standalone=\"no\"?>\n",
       "<!DOCTYPE svg PUBLIC \"-//W3C//DTD SVG 1.1//EN\"\n",
       " \"http://www.w3.org/Graphics/SVG/1.1/DTD/svg11.dtd\">\n",
       "<!-- Generated by graphviz version 9.0.0 (0)\n",
       " -->\n",
       "<!-- Title: clustersimple Pages: 1 -->\n",
       "<svg width=\"805pt\" height=\"538pt\"\n",
       " viewBox=\"0.00 0.00 804.98 538.25\" xmlns=\"http://www.w3.org/2000/svg\" xmlns:xlink=\"http://www.w3.org/1999/xlink\">\n",
       "<g id=\"graph0\" class=\"graph\" transform=\"scale(1 1) rotate(0) translate(4 534.25)\">\n",
       "<title>clustersimple</title>\n",
       "<polygon fill=\"white\" stroke=\"none\" points=\"-4,4 -4,-534.25 800.98,-534.25 800.98,4 -4,4\"/>\n",
       "<text text-anchor=\"middle\" x=\"398.49\" y=\"-4.95\" font-family=\"Times,serif\" font-size=\"14.00\">simple: Workflow</text>\n",
       "<g id=\"clust1\" class=\"cluster\">\n",
       "<title>clustersimpleInputs</title>\n",
       "<defs>\n",
       "<linearGradient id=\"clust1_l_0\" gradientUnits=\"userSpaceOnUse\" x1=\"8\" y1=\"-148.25\" x2=\"153.25\" y2=\"-148.25\" >\n",
       "<stop offset=\"0\" style=\"stop-color:#7f7f7f;stop-opacity:1.;\"/>\n",
       "<stop offset=\"1\" style=\"stop-color:#d9d9d9;stop-opacity:1.;\"/>\n",
       "</linearGradient>\n",
       "</defs>\n",
       "<polygon fill=\"url(#clust1_l_0)\" stroke=\"black\" points=\"8,-30.25 8,-266.25 153.25,-266.25 153.25,-30.25 8,-30.25\"/>\n",
       "<text text-anchor=\"middle\" x=\"80.62\" y=\"-248.95\" font-family=\"Times,serif\" font-size=\"14.00\">Inputs</text>\n",
       "</g>\n",
       "<g id=\"clust2\" class=\"cluster\">\n",
       "<title>clustersimpleOutputs</title>\n",
       "<defs>\n",
       "<linearGradient id=\"clust2_l_1\" gradientUnits=\"userSpaceOnUse\" x1=\"788.98\" y1=\"-281.25\" x2=\"687.75\" y2=\"-281.25\" >\n",
       "<stop offset=\"0\" style=\"stop-color:#7f7f7f;stop-opacity:1.;\"/>\n",
       "<stop offset=\"1\" style=\"stop-color:#d9d9d9;stop-opacity:1.;\"/>\n",
       "</linearGradient>\n",
       "</defs>\n",
       "<polygon fill=\"url(#clust2_l_1)\" stroke=\"black\" points=\"687.75,-190.25 687.75,-372.25 788.98,-372.25 788.98,-190.25 687.75,-190.25\"/>\n",
       "<text text-anchor=\"middle\" x=\"738.36\" y=\"-354.95\" font-family=\"Times,serif\" font-size=\"14.00\">Outputs</text>\n",
       "</g>\n",
       "<g id=\"clust3\" class=\"cluster\">\n",
       "<title>clustersimplea</title>\n",
       "<defs>\n",
       "<linearGradient id=\"clust3_l_2\" gradientUnits=\"userSpaceOnUse\" x1=\"290.88\" y1=\"-302.25\" x2=\"290.88\" y2=\"-522.25\" >\n",
       "<stop offset=\"0\" style=\"stop-color:#17becf;stop-opacity:1.;\"/>\n",
       "<stop offset=\"1\" style=\"stop-color:#b9ecf1;stop-opacity:1.;\"/>\n",
       "</linearGradient>\n",
       "</defs>\n",
       "<polygon fill=\"url(#clust3_l_2)\" stroke=\"black\" points=\"165.25,-302.25 165.25,-522.25 416.5,-522.25 416.5,-302.25 165.25,-302.25\"/>\n",
       "<text text-anchor=\"middle\" x=\"290.88\" y=\"-504.95\" font-family=\"Times,serif\" font-size=\"14.00\">a: AddOne</text>\n",
       "</g>\n",
       "<g id=\"clust4\" class=\"cluster\">\n",
       "<title>clustersimpleaInputs</title>\n",
       "<defs>\n",
       "<linearGradient id=\"clust4_l_3\" gradientUnits=\"userSpaceOnUse\" x1=\"173.25\" y1=\"-401.25\" x2=\"318.5\" y2=\"-401.25\" >\n",
       "<stop offset=\"0\" style=\"stop-color:#7f7f7f;stop-opacity:1.;\"/>\n",
       "<stop offset=\"1\" style=\"stop-color:#d9d9d9;stop-opacity:1.;\"/>\n",
       "</linearGradient>\n",
       "</defs>\n",
       "<polygon fill=\"url(#clust4_l_3)\" stroke=\"black\" points=\"173.25,-310.25 173.25,-492.25 318.5,-492.25 318.5,-310.25 173.25,-310.25\"/>\n",
       "<text text-anchor=\"middle\" x=\"245.88\" y=\"-474.95\" font-family=\"Times,serif\" font-size=\"14.00\">Inputs</text>\n",
       "</g>\n",
       "<g id=\"clust5\" class=\"cluster\">\n",
       "<title>clustersimpleaOutputs</title>\n",
       "<defs>\n",
       "<linearGradient id=\"clust5_l_4\" gradientUnits=\"userSpaceOnUse\" x1=\"408.5\" y1=\"-389.25\" x2=\"338.5\" y2=\"-389.25\" >\n",
       "<stop offset=\"0\" style=\"stop-color:#7f7f7f;stop-opacity:1.;\"/>\n",
       "<stop offset=\"1\" style=\"stop-color:#d9d9d9;stop-opacity:1.;\"/>\n",
       "</linearGradient>\n",
       "</defs>\n",
       "<polygon fill=\"url(#clust5_l_4)\" stroke=\"black\" points=\"338.5,-325.25 338.5,-453.25 408.5,-453.25 408.5,-325.25 338.5,-325.25\"/>\n",
       "<text text-anchor=\"middle\" x=\"373.5\" y=\"-435.95\" font-family=\"Times,serif\" font-size=\"14.00\">Outputs</text>\n",
       "</g>\n",
       "<g id=\"clust6\" class=\"cluster\">\n",
       "<title>clustersimpleb</title>\n",
       "<defs>\n",
       "<linearGradient id=\"clust6_l_5\" gradientUnits=\"userSpaceOnUse\" x1=\"290.88\" y1=\"-74.25\" x2=\"290.88\" y2=\"-294.25\" >\n",
       "<stop offset=\"0\" style=\"stop-color:#17becf;stop-opacity:1.;\"/>\n",
       "<stop offset=\"1\" style=\"stop-color:#b9ecf1;stop-opacity:1.;\"/>\n",
       "</linearGradient>\n",
       "</defs>\n",
       "<polygon fill=\"url(#clust6_l_5)\" stroke=\"black\" points=\"165.25,-74.25 165.25,-294.25 416.5,-294.25 416.5,-74.25 165.25,-74.25\"/>\n",
       "<text text-anchor=\"middle\" x=\"290.88\" y=\"-276.95\" font-family=\"Times,serif\" font-size=\"14.00\">b: AddOne</text>\n",
       "</g>\n",
       "<g id=\"clust7\" class=\"cluster\">\n",
       "<title>clustersimplebInputs</title>\n",
       "<defs>\n",
       "<linearGradient id=\"clust7_l_6\" gradientUnits=\"userSpaceOnUse\" x1=\"173.25\" y1=\"-173.25\" x2=\"318.5\" y2=\"-173.25\" >\n",
       "<stop offset=\"0\" style=\"stop-color:#7f7f7f;stop-opacity:1.;\"/>\n",
       "<stop offset=\"1\" style=\"stop-color:#d9d9d9;stop-opacity:1.;\"/>\n",
       "</linearGradient>\n",
       "</defs>\n",
       "<polygon fill=\"url(#clust7_l_6)\" stroke=\"black\" points=\"173.25,-82.25 173.25,-264.25 318.5,-264.25 318.5,-82.25 173.25,-82.25\"/>\n",
       "<text text-anchor=\"middle\" x=\"245.88\" y=\"-246.95\" font-family=\"Times,serif\" font-size=\"14.00\">Inputs</text>\n",
       "</g>\n",
       "<g id=\"clust8\" class=\"cluster\">\n",
       "<title>clustersimplebOutputs</title>\n",
       "<defs>\n",
       "<linearGradient id=\"clust8_l_7\" gradientUnits=\"userSpaceOnUse\" x1=\"408.5\" y1=\"-200.25\" x2=\"338.5\" y2=\"-200.25\" >\n",
       "<stop offset=\"0\" style=\"stop-color:#7f7f7f;stop-opacity:1.;\"/>\n",
       "<stop offset=\"1\" style=\"stop-color:#d9d9d9;stop-opacity:1.;\"/>\n",
       "</linearGradient>\n",
       "</defs>\n",
       "<polygon fill=\"url(#clust8_l_7)\" stroke=\"black\" points=\"338.5,-136.25 338.5,-264.25 408.5,-264.25 408.5,-136.25 338.5,-136.25\"/>\n",
       "<text text-anchor=\"middle\" x=\"373.5\" y=\"-246.95\" font-family=\"Times,serif\" font-size=\"14.00\">Outputs</text>\n",
       "</g>\n",
       "<g id=\"clust9\" class=\"cluster\">\n",
       "<title>clustersimplesum</title>\n",
       "<defs>\n",
       "<linearGradient id=\"clust9_l_8\" gradientUnits=\"userSpaceOnUse\" x1=\"550.12\" y1=\"-128.25\" x2=\"550.12\" y2=\"-402.25\" >\n",
       "<stop offset=\"0\" style=\"stop-color:#17becf;stop-opacity:1.;\"/>\n",
       "<stop offset=\"1\" style=\"stop-color:#b9ecf1;stop-opacity:1.;\"/>\n",
       "</linearGradient>\n",
       "</defs>\n",
       "<polygon fill=\"url(#clust9_l_8)\" stroke=\"black\" points=\"424.5,-128.25 424.5,-402.25 675.75,-402.25 675.75,-128.25 424.5,-128.25\"/>\n",
       "<text text-anchor=\"middle\" x=\"550.12\" y=\"-384.95\" font-family=\"Times,serif\" font-size=\"14.00\">sum: Add</text>\n",
       "</g>\n",
       "<g id=\"clust10\" class=\"cluster\">\n",
       "<title>clustersimplesumInputs</title>\n",
       "<defs>\n",
       "<linearGradient id=\"clust10_l_9\" gradientUnits=\"userSpaceOnUse\" x1=\"432.5\" y1=\"-254.25\" x2=\"577.75\" y2=\"-254.25\" >\n",
       "<stop offset=\"0\" style=\"stop-color:#7f7f7f;stop-opacity:1.;\"/>\n",
       "<stop offset=\"1\" style=\"stop-color:#d9d9d9;stop-opacity:1.;\"/>\n",
       "</linearGradient>\n",
       "</defs>\n",
       "<polygon fill=\"url(#clust10_l_9)\" stroke=\"black\" points=\"432.5,-136.25 432.5,-372.25 577.75,-372.25 577.75,-136.25 432.5,-136.25\"/>\n",
       "<text text-anchor=\"middle\" x=\"505.13\" y=\"-354.95\" font-family=\"Times,serif\" font-size=\"14.00\">Inputs</text>\n",
       "</g>\n",
       "<g id=\"clust11\" class=\"cluster\">\n",
       "<title>clustersimplesumOutputs</title>\n",
       "<defs>\n",
       "<linearGradient id=\"clust11_l_10\" gradientUnits=\"userSpaceOnUse\" x1=\"667.75\" y1=\"-308.25\" x2=\"597.75\" y2=\"-308.25\" >\n",
       "<stop offset=\"0\" style=\"stop-color:#7f7f7f;stop-opacity:1.;\"/>\n",
       "<stop offset=\"1\" style=\"stop-color:#d9d9d9;stop-opacity:1.;\"/>\n",
       "</linearGradient>\n",
       "</defs>\n",
       "<polygon fill=\"url(#clust11_l_10)\" stroke=\"black\" points=\"597.75,-244.25 597.75,-372.25 667.75,-372.25 667.75,-244.25 597.75,-244.25\"/>\n",
       "<text text-anchor=\"middle\" x=\"632.75\" y=\"-354.95\" font-family=\"Times,serif\" font-size=\"14.00\">Outputs</text>\n",
       "</g>\n",
       "<!-- clustersimpleInputsrun -->\n",
       "<g id=\"node1\" class=\"node\">\n",
       "<title>clustersimpleInputsrun</title>\n",
       "<polygon fill=\"#1f77b4\" stroke=\"#1f77b4\" points=\"95.62,-68.25 53.62,-68.25 53.62,-44.25 95.62,-44.25 107.62,-56.25 95.62,-68.25\"/>\n",
       "<text text-anchor=\"middle\" x=\"80.62\" y=\"-50.08\" font-family=\"Times,serif\" font-size=\"14.00\">run</text>\n",
       "</g>\n",
       "<!-- clustersimpleOutputsran -->\n",
       "<g id=\"node5\" class=\"node\">\n",
       "<title>clustersimpleOutputsran</title>\n",
       "<polygon fill=\"#1f77b4\" stroke=\"#1f77b4\" points=\"753.36,-228.25 711.36,-228.25 711.36,-204.25 753.36,-204.25 765.36,-216.25 753.36,-228.25\"/>\n",
       "<text text-anchor=\"middle\" x=\"738.36\" y=\"-210.07\" font-family=\"Times,serif\" font-size=\"14.00\">ran</text>\n",
       "</g>\n",
       "<!-- clustersimpleInputsrun&#45;&gt;clustersimpleOutputsran -->\n",
       "<!-- clustersimpleInputsaccumulate_and_run -->\n",
       "<g id=\"node2\" class=\"node\">\n",
       "<title>clustersimpleInputsaccumulate_and_run</title>\n",
       "<polygon fill=\"#1f77b4\" stroke=\"#1f77b4\" points=\"133.25,-176.25 16,-176.25 16,-152.25 133.25,-152.25 145.25,-164.25 133.25,-176.25\"/>\n",
       "<text text-anchor=\"middle\" x=\"80.62\" y=\"-158.07\" font-family=\"Times,serif\" font-size=\"14.00\">accumulate_and_run</text>\n",
       "</g>\n",
       "<!-- clustersimpleInputsax -->\n",
       "<g id=\"node3\" class=\"node\">\n",
       "<title>clustersimpleInputsax</title>\n",
       "<ellipse fill=\"#ff7f0e\" stroke=\"#ff7f0e\" cx=\"80.62\" cy=\"-218.25\" rx=\"27\" ry=\"18\"/>\n",
       "<text text-anchor=\"middle\" x=\"80.62\" y=\"-212.07\" font-family=\"Times,serif\" font-size=\"14.00\">ax</text>\n",
       "</g>\n",
       "<!-- clustersimpleaInputsx -->\n",
       "<g id=\"node10\" class=\"node\">\n",
       "<title>clustersimpleaInputsx</title>\n",
       "<ellipse fill=\"#ff7f0e\" stroke=\"#ff7f0e\" cx=\"245.88\" cy=\"-336.25\" rx=\"27\" ry=\"18\"/>\n",
       "<text text-anchor=\"middle\" x=\"245.88\" y=\"-330.07\" font-family=\"Times,serif\" font-size=\"14.00\">x</text>\n",
       "</g>\n",
       "<!-- clustersimpleInputsax&#45;&gt;clustersimpleaInputsx -->\n",
       "<g id=\"edge9\" class=\"edge\">\n",
       "<title>clustersimpleInputsax&#45;&gt;clustersimpleaInputsx</title>\n",
       "<path fill=\"none\" stroke=\"#ff7f0e\" d=\"M99.72,-231.33C114,-241.65 135.07,-256.88 156.75,-272.55\"/>\n",
       "<path fill=\"none\" stroke=\"#ff7f0e\" d=\"M156.75,-272.55C178.44,-288.23 200.74,-304.35 217.48,-316.45\"/>\n",
       "<polygon fill=\"#ff7f0e\" stroke=\"#ff7f0e\" points=\"215.32,-319.2 225.47,-322.23 219.42,-313.53 215.32,-319.2\"/>\n",
       "</g>\n",
       "<!-- clustersimpleInputsb__x -->\n",
       "<g id=\"node4\" class=\"node\">\n",
       "<title>clustersimpleInputsb__x</title>\n",
       "<ellipse fill=\"#ff7f0e\" stroke=\"#ff7f0e\" cx=\"80.62\" cy=\"-110.25\" rx=\"27.35\" ry=\"18\"/>\n",
       "<text text-anchor=\"middle\" x=\"80.62\" y=\"-104.08\" font-family=\"Times,serif\" font-size=\"14.00\">b__x</text>\n",
       "</g>\n",
       "<!-- clustersimplebInputsx -->\n",
       "<g id=\"node15\" class=\"node\">\n",
       "<title>clustersimplebInputsx</title>\n",
       "<ellipse fill=\"#ff7f0e\" stroke=\"#ff7f0e\" cx=\"245.88\" cy=\"-108.25\" rx=\"27\" ry=\"18\"/>\n",
       "<text text-anchor=\"middle\" x=\"245.88\" y=\"-102.08\" font-family=\"Times,serif\" font-size=\"14.00\">x</text>\n",
       "</g>\n",
       "<!-- clustersimpleInputsb__x&#45;&gt;clustersimplebInputsx -->\n",
       "<g id=\"edge10\" class=\"edge\">\n",
       "<title>clustersimpleInputsb__x&#45;&gt;clustersimplebInputsx</title>\n",
       "<path fill=\"none\" stroke=\"#ff7f0e\" d=\"M108.22,-109.92C121.66,-109.76 138.82,-109.55 156.41,-109.33\"/>\n",
       "<path fill=\"none\" stroke=\"#ff7f0e\" d=\"M156.41,-109.33C174.01,-109.12 192.03,-108.9 207.17,-108.71\"/>\n",
       "<polygon fill=\"#ff7f0e\" stroke=\"#ff7f0e\" points=\"207.09,-112.21 217.05,-108.59 207.01,-105.21 207.09,-112.21\"/>\n",
       "</g>\n",
       "<!-- clustersimpleOutputsay -->\n",
       "<g id=\"node6\" class=\"node\">\n",
       "<title>clustersimpleOutputsay</title>\n",
       "<ellipse fill=\"#ff7f0e\" stroke=\"#ff7f0e\" cx=\"738.36\" cy=\"-324.25\" rx=\"27\" ry=\"18\"/>\n",
       "<text text-anchor=\"middle\" x=\"738.36\" y=\"-318.07\" font-family=\"Times,serif\" font-size=\"14.00\">ay</text>\n",
       "</g>\n",
       "<!-- clustersimpleOutputsa + b + 2 -->\n",
       "<g id=\"node7\" class=\"node\">\n",
       "<title>clustersimpleOutputsa + b + 2</title>\n",
       "<ellipse fill=\"#ff7f0e\" stroke=\"#ff7f0e\" cx=\"738.36\" cy=\"-270.25\" rx=\"42.61\" ry=\"18\"/>\n",
       "<text text-anchor=\"middle\" x=\"738.36\" y=\"-264.07\" font-family=\"Times,serif\" font-size=\"14.00\">a + b + 2</text>\n",
       "</g>\n",
       "<!-- clustersimpleaInputsrun -->\n",
       "<g id=\"node8\" class=\"node\">\n",
       "<title>clustersimpleaInputsrun</title>\n",
       "<polygon fill=\"#1f77b4\" stroke=\"#1f77b4\" points=\"260.88,-456.25 218.88,-456.25 218.88,-432.25 260.88,-432.25 272.88,-444.25 260.88,-456.25\"/>\n",
       "<text text-anchor=\"middle\" x=\"245.88\" y=\"-438.07\" font-family=\"Times,serif\" font-size=\"14.00\">run</text>\n",
       "</g>\n",
       "<!-- clustersimpleaOutputsran -->\n",
       "<g id=\"node11\" class=\"node\">\n",
       "<title>clustersimpleaOutputsran</title>\n",
       "<polygon fill=\"#1f77b4\" stroke=\"#1f77b4\" points=\"388.5,-363.25 346.5,-363.25 346.5,-339.25 388.5,-339.25 400.5,-351.25 388.5,-363.25\"/>\n",
       "<text text-anchor=\"middle\" x=\"373.5\" y=\"-345.07\" font-family=\"Times,serif\" font-size=\"14.00\">ran</text>\n",
       "</g>\n",
       "<!-- clustersimpleaInputsrun&#45;&gt;clustersimpleaOutputsran -->\n",
       "<!-- clustersimpleaInputsaccumulate_and_run -->\n",
       "<g id=\"node9\" class=\"node\">\n",
       "<title>clustersimpleaInputsaccumulate_and_run</title>\n",
       "<polygon fill=\"#1f77b4\" stroke=\"#1f77b4\" points=\"298.5,-402.25 181.25,-402.25 181.25,-378.25 298.5,-378.25 310.5,-390.25 298.5,-402.25\"/>\n",
       "<text text-anchor=\"middle\" x=\"245.88\" y=\"-384.07\" font-family=\"Times,serif\" font-size=\"14.00\">accumulate_and_run</text>\n",
       "</g>\n",
       "<!-- clustersimplesumInputsaccumulate_and_run -->\n",
       "<g id=\"node19\" class=\"node\">\n",
       "<title>clustersimplesumInputsaccumulate_and_run</title>\n",
       "<polygon fill=\"#1f77b4\" stroke=\"#1f77b4\" points=\"557.75,-228.25 440.5,-228.25 440.5,-204.25 557.75,-204.25 569.75,-216.25 557.75,-228.25\"/>\n",
       "<text text-anchor=\"middle\" x=\"505.13\" y=\"-210.07\" font-family=\"Times,serif\" font-size=\"14.00\">accumulate_and_run</text>\n",
       "</g>\n",
       "<!-- clustersimpleaOutputsran&#45;&gt;clustersimplesumInputsaccumulate_and_run -->\n",
       "<g id=\"edge5\" class=\"edge\">\n",
       "<title>clustersimpleaOutputsran&#45;&gt;clustersimplesumInputsaccumulate_and_run</title>\n",
       "<path fill=\"none\" stroke=\"#1f77b4\" d=\"M384.87,-332.86C391.89,-320.06 401.35,-302.12 409.61,-284.08\"/>\n",
       "<path fill=\"none\" stroke=\"#1f77b4\" d=\"M409.61,-284.08C412.04,-278.77 414.37,-273.45 416.5,-268.25 420.93,-257.46 416.32,-251.57 424.5,-243.25 426.47,-241.25 428.59,-239.39 430.84,-237.67\"/>\n",
       "<polygon fill=\"#1f77b4\" stroke=\"#1f77b4\" points=\"432.27,-240.92 438.74,-232.53 428.45,-235.05 432.27,-240.92\"/>\n",
       "</g>\n",
       "<!-- clustersimpleaOutputsy -->\n",
       "<g id=\"node12\" class=\"node\">\n",
       "<title>clustersimpleaOutputsy</title>\n",
       "<ellipse fill=\"#ff7f0e\" stroke=\"#ff7f0e\" cx=\"373.5\" cy=\"-405.25\" rx=\"27\" ry=\"18\"/>\n",
       "<text text-anchor=\"middle\" x=\"373.5\" y=\"-399.07\" font-family=\"Times,serif\" font-size=\"14.00\">y</text>\n",
       "</g>\n",
       "<!-- clustersimpleaOutputsy&#45;&gt;clustersimpleOutputsay -->\n",
       "<g id=\"edge11\" class=\"edge\">\n",
       "<title>clustersimpleaOutputsy&#45;&gt;clustersimpleOutputsay</title>\n",
       "<path fill=\"none\" stroke=\"#ff7f0e\" d=\"M400.33,-407.77C431.88,-410.23 488.57,-412.75 549.28,-406.28\"/>\n",
       "<path fill=\"none\" stroke=\"#ff7f0e\" d=\"M549.28,-406.28C591.9,-401.74 636.5,-392.78 675.75,-376.25 690.82,-369.91 704.96,-358.53 715.88,-348.03\"/>\n",
       "<polygon fill=\"#ff7f0e\" stroke=\"#ff7f0e\" points=\"718.3,-350.56 722.85,-340.99 713.33,-345.64 718.3,-350.56\"/>\n",
       "</g>\n",
       "<!-- clustersimplesumInputsx -->\n",
       "<g id=\"node20\" class=\"node\">\n",
       "<title>clustersimplesumInputsx</title>\n",
       "<ellipse fill=\"#ff7f0e\" stroke=\"#ff7f0e\" cx=\"505.12\" cy=\"-270.25\" rx=\"27\" ry=\"18\"/>\n",
       "<text text-anchor=\"middle\" x=\"505.13\" y=\"-264.07\" font-family=\"Times,serif\" font-size=\"14.00\">x</text>\n",
       "</g>\n",
       "<!-- clustersimpleaOutputsy&#45;&gt;clustersimplesumInputsx -->\n",
       "<g id=\"edge6\" class=\"edge\">\n",
       "<title>clustersimpleaOutputsy&#45;&gt;clustersimplesumInputsx</title>\n",
       "<path fill=\"none\" stroke=\"#ff7f0e\" d=\"M396.8,-395.88C404.28,-391.61 411.89,-385.79 416.5,-378.25 422.47,-368.49 419.59,-344.36 419.51,-324.34\"/>\n",
       "<path fill=\"none\" stroke=\"#ff7f0e\" d=\"M419.51,-324.34C419.46,-312.7 420.36,-302.46 424.5,-297.25 434.8,-284.28 451.61,-277.5 467.14,-273.98\"/>\n",
       "<polygon fill=\"#ff7f0e\" stroke=\"#ff7f0e\" points=\"467.42,-277.48 476.62,-272.22 466.15,-270.6 467.42,-277.48\"/>\n",
       "</g>\n",
       "<!-- clustersimplebInputsrun -->\n",
       "<g id=\"node13\" class=\"node\">\n",
       "<title>clustersimplebInputsrun</title>\n",
       "<polygon fill=\"#1f77b4\" stroke=\"#1f77b4\" points=\"260.88,-228.25 218.88,-228.25 218.88,-204.25 260.88,-204.25 272.88,-216.25 260.88,-228.25\"/>\n",
       "<text text-anchor=\"middle\" x=\"245.88\" y=\"-210.07\" font-family=\"Times,serif\" font-size=\"14.00\">run</text>\n",
       "</g>\n",
       "<!-- clustersimplebOutputsran -->\n",
       "<g id=\"node16\" class=\"node\">\n",
       "<title>clustersimplebOutputsran</title>\n",
       "<polygon fill=\"#1f77b4\" stroke=\"#1f77b4\" points=\"388.5,-228.25 346.5,-228.25 346.5,-204.25 388.5,-204.25 400.5,-216.25 388.5,-228.25\"/>\n",
       "<text text-anchor=\"middle\" x=\"373.5\" y=\"-210.07\" font-family=\"Times,serif\" font-size=\"14.00\">ran</text>\n",
       "</g>\n",
       "<!-- clustersimplebInputsrun&#45;&gt;clustersimplebOutputsran -->\n",
       "<!-- clustersimplebInputsaccumulate_and_run -->\n",
       "<g id=\"node14\" class=\"node\">\n",
       "<title>clustersimplebInputsaccumulate_and_run</title>\n",
       "<polygon fill=\"#1f77b4\" stroke=\"#1f77b4\" points=\"298.5,-174.25 181.25,-174.25 181.25,-150.25 298.5,-150.25 310.5,-162.25 298.5,-174.25\"/>\n",
       "<text text-anchor=\"middle\" x=\"245.88\" y=\"-156.07\" font-family=\"Times,serif\" font-size=\"14.00\">accumulate_and_run</text>\n",
       "</g>\n",
       "<!-- clustersimplebOutputsran&#45;&gt;clustersimplesumInputsaccumulate_and_run -->\n",
       "<g id=\"edge7\" class=\"edge\">\n",
       "<title>clustersimplebOutputsran&#45;&gt;clustersimplesumInputsaccumulate_and_run</title>\n",
       "<path fill=\"none\" stroke=\"#1f77b4\" d=\"M400.73,-216.25C404.9,-216.25 409.4,-216.25 414.11,-216.25\"/>\n",
       "<path fill=\"none\" stroke=\"#1f77b4\" d=\"M414.11,-216.25C418.82,-216.25 423.74,-216.25 428.75,-216.25\"/>\n",
       "<polygon fill=\"#1f77b4\" stroke=\"#1f77b4\" points=\"428.63,-219.75 438.63,-216.25 428.63,-212.75 428.63,-219.75\"/>\n",
       "</g>\n",
       "<!-- clustersimplebOutputsy -->\n",
       "<g id=\"node17\" class=\"node\">\n",
       "<title>clustersimplebOutputsy</title>\n",
       "<ellipse fill=\"#ff7f0e\" stroke=\"#ff7f0e\" cx=\"373.5\" cy=\"-162.25\" rx=\"27\" ry=\"18\"/>\n",
       "<text text-anchor=\"middle\" x=\"373.5\" y=\"-156.07\" font-family=\"Times,serif\" font-size=\"14.00\">y</text>\n",
       "</g>\n",
       "<!-- clustersimplesumInputsy -->\n",
       "<g id=\"node21\" class=\"node\">\n",
       "<title>clustersimplesumInputsy</title>\n",
       "<ellipse fill=\"#ff7f0e\" stroke=\"#ff7f0e\" cx=\"505.12\" cy=\"-162.25\" rx=\"27\" ry=\"18\"/>\n",
       "<text text-anchor=\"middle\" x=\"505.13\" y=\"-156.07\" font-family=\"Times,serif\" font-size=\"14.00\">y</text>\n",
       "</g>\n",
       "<!-- clustersimplebOutputsy&#45;&gt;clustersimplesumInputsy -->\n",
       "<g id=\"edge8\" class=\"edge\">\n",
       "<title>clustersimplebOutputsy&#45;&gt;clustersimplesumInputsy</title>\n",
       "<path fill=\"none\" stroke=\"#ff7f0e\" d=\"M400.73,-162.25C410.18,-162.25 421.34,-162.25 432.77,-162.25\"/>\n",
       "<path fill=\"none\" stroke=\"#ff7f0e\" d=\"M432.77,-162.25C444.21,-162.25 455.92,-162.25 466.46,-162.25\"/>\n",
       "<polygon fill=\"#ff7f0e\" stroke=\"#ff7f0e\" points=\"466.42,-165.75 476.42,-162.25 466.42,-158.75 466.42,-165.75\"/>\n",
       "</g>\n",
       "<!-- clustersimplesumInputsrun -->\n",
       "<g id=\"node18\" class=\"node\">\n",
       "<title>clustersimplesumInputsrun</title>\n",
       "<polygon fill=\"#1f77b4\" stroke=\"#1f77b4\" points=\"520.12,-336.25 478.13,-336.25 478.13,-312.25 520.12,-312.25 532.12,-324.25 520.12,-336.25\"/>\n",
       "<text text-anchor=\"middle\" x=\"505.13\" y=\"-318.07\" font-family=\"Times,serif\" font-size=\"14.00\">run</text>\n",
       "</g>\n",
       "<!-- clustersimplesumOutputsran -->\n",
       "<g id=\"node22\" class=\"node\">\n",
       "<title>clustersimplesumOutputsran</title>\n",
       "<polygon fill=\"#1f77b4\" stroke=\"#1f77b4\" points=\"647.75,-336.25 605.75,-336.25 605.75,-312.25 647.75,-312.25 659.75,-324.25 647.75,-336.25\"/>\n",
       "<text text-anchor=\"middle\" x=\"632.75\" y=\"-318.07\" font-family=\"Times,serif\" font-size=\"14.00\">ran</text>\n",
       "</g>\n",
       "<!-- clustersimplesumInputsrun&#45;&gt;clustersimplesumOutputsran -->\n",
       "<!-- clustersimplesumOutputssum -->\n",
       "<g id=\"node23\" class=\"node\">\n",
       "<title>clustersimplesumOutputssum</title>\n",
       "<ellipse fill=\"#ff7f0e\" stroke=\"#ff7f0e\" cx=\"632.75\" cy=\"-270.25\" rx=\"27\" ry=\"18\"/>\n",
       "<text text-anchor=\"middle\" x=\"632.75\" y=\"-264.07\" font-family=\"Times,serif\" font-size=\"14.00\">sum</text>\n",
       "</g>\n",
       "<!-- clustersimplesumOutputssum&#45;&gt;clustersimpleOutputsa + b + 2 -->\n",
       "<g id=\"edge12\" class=\"edge\">\n",
       "<title>clustersimplesumOutputssum&#45;&gt;clustersimpleOutputsa + b + 2</title>\n",
       "<path fill=\"none\" stroke=\"#ff7f0e\" d=\"M660.16,-270.25C663.83,-270.25 667.73,-270.25 671.74,-270.25\"/>\n",
       "<path fill=\"none\" stroke=\"#ff7f0e\" d=\"M671.74,-270.25C675.75,-270.25 679.89,-270.25 684.03,-270.25\"/>\n",
       "<polygon fill=\"#ff7f0e\" stroke=\"#ff7f0e\" points=\"683.78,-273.75 693.78,-270.25 683.78,-266.75 683.78,-273.75\"/>\n",
       "</g>\n",
       "</g>\n",
       "</svg>\n"
      ],
      "text/plain": [
       "<graphviz.graphs.Digraph at 0x12ad3d550>"
      ]
     },
     "execution_count": 41,
     "metadata": {},
     "output_type": "execute_result"
    }
   ],
   "source": [
    "wf.draw()"
   ]
  },
  {
   "cell_type": "markdown",
   "id": "2671dc36-42a4-466b-848d-067ef7bd1d1d",
   "metadata": {},
   "source": [
    "# Example with pre-built nodes\n",
    "\n",
    "Currently we have a handfull of pre-build nodes available for import from the `nodes` package. Let's use these to quickly put together a workflow for looking at some MD data.\n",
    "\n",
    "To access prebuilt nodes we can `.create` them. This works both from the workflow class _and_ from a workflow instance.\n",
    "\n",
    "There are a few of nodes that are always available under the `Workflow.create.standard` namespace, otherwise we need to register new node packages. This is done with the `register` method, which takes the domain (namespace/key/attribute/whatever you want to call it) under which you want to register the new nodes, and a string import path to a module that has a list of nodes under the name `nodes`, i.e. the module has the property `nodes: list[pyiron_workflow.nodes.Node]`. (You can also register a package with arbitrary nesting, where each non-package sub-module (i.e. a leaf .py file) with a `nodes` attribute will attempt to read those nodes as a package. Cf. the atomistics demo notebook for an example of this.) (This API is subject to change, as we work to improve usability and bring node packages more and more in line with \"FAIR\" principles.)\n",
    "\n",
    "You can make your own `.py` files with nodes for reuse this way, but `pyiron_workflow` also comes with a couple of packages. In this example we'll use atomistics and plotting:"
   ]
  },
  {
   "cell_type": "code",
   "execution_count": 42,
   "id": "ae500d5e-e55b-432c-8b5f-d5892193cdf5",
   "metadata": {},
   "outputs": [
    {
     "data": {
      "application/vnd.jupyter.widget-view+json": {
       "model_id": "e8ae157d636644b183f97332649d5076",
       "version_major": 2,
       "version_minor": 0
      },
      "text/plain": []
     },
     "metadata": {},
     "output_type": "display_data"
    },
    {
     "name": "stdout",
     "output_type": "stream",
     "text": [
      "The job JUSTAJOBNAME was saved and received the ID: 9568\n"
     ]
    },
    {
     "data": {
      "application/vnd.jupyter.widget-view+json": {
       "model_id": "e564a4c3ac734deab79b0f1fb25e5893",
       "version_major": 2,
       "version_minor": 0
      },
      "text/plain": [
       "0it [00:00, ?it/s]"
      ]
     },
     "metadata": {},
     "output_type": "display_data"
    },
    {
     "data": {
      "text/plain": [
       "<matplotlib.collections.PathCollection at 0x139a15d90>"
      ]
     },
     "execution_count": 42,
     "metadata": {},
     "output_type": "execute_result"
    },
    {
     "data": {
      "image/png": "[encoded data removed]",
      "text/plain": [
       "<Figure size 640x480 with 1 Axes>"
      ]
     },
     "metadata": {},
     "output_type": "display_data"
    }
   ],
   "source": [
    "wf.register(\"pyiron_workflow.node_library.pyiron_atomistics\", \"pyiron_atomistics\")\n",
    "wf.register(\"pyiron_workflow.node_library.plotting\", \"plotting\")\n",
    "\n",
    "wf = Workflow(\"with_prebuilt\")\n",
    "\n",
    "wf.structure = wf.create.pyiron_atomistics.Bulk(cubic=True, name=\"Al\")\n",
    "wf.engine = wf.create.pyiron_atomistics.Lammps(structure=wf.structure)\n",
    "wf.calc = wf.create.pyiron_atomistics.CalcMd(job=wf.engine)\n",
    "wf.plot = wf.create.plotting.Scatter(\n",
    "    x=wf.calc.outputs.steps, \n",
    "    y=wf.calc.outputs.temperature\n",
    ")\n",
    "\n",
    "out = wf.run()\n",
    "out.plot__fig"
   ]
  },
  {
   "cell_type": "markdown",
   "id": "43c09aa8-8229-4636-aaeb-9214b723c2fc",
   "metadata": {},
   "source": [
    "In case you want to see more or less of the inner workings of the nodes when visualizing a workflow, you can modify the `depth` parameter, which controls how deeply child nodes are decomposed. E.g. we can force our workflow to only show us it's basic IO by setting `depth=0`:"
   ]
  },
  {
   "cell_type": "code",
   "execution_count": 43,
   "id": "2114d0c3-cdad-43c7-9ffa-50c36d56d18f",
   "metadata": {},
   "outputs": [
    {
     "data": {
      "image/svg+xml": [
       "<?xml version=\"1.0\" encoding=\"UTF-8\" standalone=\"no\"?>\n",
       "<!DOCTYPE svg PUBLIC \"-//W3C//DTD SVG 1.1//EN\"\n",
       " \"http://www.w3.org/Graphics/SVG/1.1/DTD/svg11.dtd\">\n",
       "<!-- Generated by graphviz version 9.0.0 (0)\n",
       " -->\n",
       "<!-- Title: clusterwith_prebuilt Pages: 1 -->\n",
       "<svg width=\"492pt\" height=\"822pt\"\n",
       " viewBox=\"0.00 0.00 491.64 822.25\" xmlns=\"http://www.w3.org/2000/svg\" xmlns:xlink=\"http://www.w3.org/1999/xlink\">\n",
       "<g id=\"graph0\" class=\"graph\" transform=\"scale(1 1) rotate(0) translate(4 818.25)\">\n",
       "<title>clusterwith_prebuilt</title>\n",
       "<polygon fill=\"white\" stroke=\"none\" points=\"-4,4 -4,-818.25 487.64,-818.25 487.64,4 -4,4\"/>\n",
       "<text text-anchor=\"middle\" x=\"241.82\" y=\"-4.95\" font-family=\"Times,serif\" font-size=\"14.00\">with_prebuilt: Workflow</text>\n",
       "<g id=\"clust1\" class=\"cluster\">\n",
       "<title>clusterwith_prebuiltInputs</title>\n",
       "<defs>\n",
       "<linearGradient id=\"clust1_l_0\" gradientUnits=\"userSpaceOnUse\" x1=\"8\" y1=\"-418.25\" x2=\"227.53\" y2=\"-418.25\" >\n",
       "<stop offset=\"0\" style=\"stop-color:#7f7f7f;stop-opacity:1.;\"/>\n",
       "<stop offset=\"1\" style=\"stop-color:#d9d9d9;stop-opacity:1.;\"/>\n",
       "</linearGradient>\n",
       "</defs>\n",
       "<polygon fill=\"url(#clust1_l_0)\" stroke=\"black\" points=\"8,-30.25 8,-806.25 227.53,-806.25 227.53,-30.25 8,-30.25\"/>\n",
       "<text text-anchor=\"middle\" x=\"117.76\" y=\"-788.95\" font-family=\"Times,serif\" font-size=\"14.00\">Inputs</text>\n",
       "</g>\n",
       "<g id=\"clust2\" class=\"cluster\">\n",
       "<title>clusterwith_prebuiltOutputs</title>\n",
       "<defs>\n",
       "<linearGradient id=\"clust2_l_1\" gradientUnits=\"userSpaceOnUse\" x1=\"475.64\" y1=\"-418.25\" x2=\"247.53\" y2=\"-418.25\" >\n",
       "<stop offset=\"0\" style=\"stop-color:#7f7f7f;stop-opacity:1.;\"/>\n",
       "<stop offset=\"1\" style=\"stop-color:#d9d9d9;stop-opacity:1.;\"/>\n",
       "</linearGradient>\n",
       "</defs>\n",
       "<polygon fill=\"url(#clust2_l_1)\" stroke=\"black\" points=\"247.53,-30.25 247.53,-806.25 475.64,-806.25 475.64,-30.25 247.53,-30.25\"/>\n",
       "<text text-anchor=\"middle\" x=\"361.58\" y=\"-788.95\" font-family=\"Times,serif\" font-size=\"14.00\">Outputs</text>\n",
       "</g>\n",
       "<!-- clusterwith_prebuiltInputsrun -->\n",
       "<g id=\"node1\" class=\"node\">\n",
       "<title>clusterwith_prebuiltInputsrun</title>\n",
       "<polygon fill=\"#1f77b4\" stroke=\"#1f77b4\" points=\"132.76,-770.25 90.76,-770.25 90.76,-746.25 132.76,-746.25 144.76,-758.25 132.76,-770.25\"/>\n",
       "<text text-anchor=\"middle\" x=\"117.76\" y=\"-752.08\" font-family=\"Times,serif\" font-size=\"14.00\">run</text>\n",
       "</g>\n",
       "<!-- clusterwith_prebuiltOutputsran -->\n",
       "<g id=\"node15\" class=\"node\">\n",
       "<title>clusterwith_prebuiltOutputsran</title>\n",
       "<polygon fill=\"#1f77b4\" stroke=\"#1f77b4\" points=\"376.58,-770.25 334.58,-770.25 334.58,-746.25 376.58,-746.25 388.58,-758.25 376.58,-770.25\"/>\n",
       "<text text-anchor=\"middle\" x=\"361.58\" y=\"-752.08\" font-family=\"Times,serif\" font-size=\"14.00\">ran</text>\n",
       "</g>\n",
       "<!-- clusterwith_prebuiltInputsrun&#45;&gt;clusterwith_prebuiltOutputsran -->\n",
       "<!-- clusterwith_prebuiltInputsaccumulate_and_run -->\n",
       "<g id=\"node2\" class=\"node\">\n",
       "<title>clusterwith_prebuiltInputsaccumulate_and_run</title>\n",
       "<polygon fill=\"#1f77b4\" stroke=\"#1f77b4\" points=\"170.39,-716.25 53.14,-716.25 53.14,-692.25 170.39,-692.25 182.39,-704.25 170.39,-716.25\"/>\n",
       "<text text-anchor=\"middle\" x=\"117.76\" y=\"-698.08\" font-family=\"Times,serif\" font-size=\"14.00\">accumulate_and_run</text>\n",
       "</g>\n",
       "<!-- clusterwith_prebuiltInputsstructure__name -->\n",
       "<g id=\"node3\" class=\"node\">\n",
       "<title>clusterwith_prebuiltInputsstructure__name</title>\n",
       "<ellipse fill=\"#ff7f0e\" stroke=\"#ff7f0e\" cx=\"117.76\" cy=\"-650.25\" rx=\"67.9\" ry=\"18\"/>\n",
       "<text text-anchor=\"middle\" x=\"117.76\" y=\"-644.08\" font-family=\"Times,serif\" font-size=\"14.00\">structure__name</text>\n",
       "</g>\n",
       "<!-- clusterwith_prebuiltInputsstructure__crystalstructure -->\n",
       "<g id=\"node4\" class=\"node\">\n",
       "<title>clusterwith_prebuiltInputsstructure__crystalstructure</title>\n",
       "<ellipse fill=\"#ff7f0e\" stroke=\"#ff7f0e\" cx=\"117.76\" cy=\"-596.25\" rx=\"101.76\" ry=\"18\"/>\n",
       "<text text-anchor=\"middle\" x=\"117.76\" y=\"-590.08\" font-family=\"Times,serif\" font-size=\"14.00\">structure__crystalstructure</text>\n",
       "</g>\n",
       "<!-- clusterwith_prebuiltInputsstructure__a -->\n",
       "<g id=\"node5\" class=\"node\">\n",
       "<title>clusterwith_prebuiltInputsstructure__a</title>\n",
       "<ellipse fill=\"#ff7f0e\" stroke=\"#ff7f0e\" cx=\"117.76\" cy=\"-542.25\" rx=\"52.63\" ry=\"18\"/>\n",
       "<text text-anchor=\"middle\" x=\"117.76\" y=\"-536.08\" font-family=\"Times,serif\" font-size=\"14.00\">structure__a</text>\n",
       "</g>\n",
       "<!-- clusterwith_prebuiltInputsstructure__c -->\n",
       "<g id=\"node6\" class=\"node\">\n",
       "<title>clusterwith_prebuiltInputsstructure__c</title>\n",
       "<ellipse fill=\"#ff7f0e\" stroke=\"#ff7f0e\" cx=\"117.76\" cy=\"-488.25\" rx=\"52.63\" ry=\"18\"/>\n",
       "<text text-anchor=\"middle\" x=\"117.76\" y=\"-482.07\" font-family=\"Times,serif\" font-size=\"14.00\">structure__c</text>\n",
       "</g>\n",
       "<!-- clusterwith_prebuiltInputsstructure__covera -->\n",
       "<g id=\"node7\" class=\"node\">\n",
       "<title>clusterwith_prebuiltInputsstructure__covera</title>\n",
       "<ellipse fill=\"#ff7f0e\" stroke=\"#ff7f0e\" cx=\"117.76\" cy=\"-434.25\" rx=\"71.71\" ry=\"18\"/>\n",
       "<text text-anchor=\"middle\" x=\"117.76\" y=\"-428.07\" font-family=\"Times,serif\" font-size=\"14.00\">structure__covera</text>\n",
       "</g>\n",
       "<!-- clusterwith_prebuiltInputsstructure__u -->\n",
       "<g id=\"node8\" class=\"node\">\n",
       "<title>clusterwith_prebuiltInputsstructure__u</title>\n",
       "<ellipse fill=\"#ff7f0e\" stroke=\"#ff7f0e\" cx=\"117.76\" cy=\"-380.25\" rx=\"53.11\" ry=\"18\"/>\n",
       "<text text-anchor=\"middle\" x=\"117.76\" y=\"-374.07\" font-family=\"Times,serif\" font-size=\"14.00\">structure__u</text>\n",
       "</g>\n",
       "<!-- clusterwith_prebuiltInputsstructure__orthorhombic -->\n",
       "<g id=\"node9\" class=\"node\">\n",
       "<title>clusterwith_prebuiltInputsstructure__orthorhombic</title>\n",
       "<ellipse fill=\"#ff7f0e\" stroke=\"#ff7f0e\" cx=\"117.76\" cy=\"-326.25\" rx=\"96.04\" ry=\"18\"/>\n",
       "<text text-anchor=\"middle\" x=\"117.76\" y=\"-320.07\" font-family=\"Times,serif\" font-size=\"14.00\">structure__orthorhombic</text>\n",
       "</g>\n",
       "<!-- clusterwith_prebuiltInputsstructure__cubic -->\n",
       "<g id=\"node10\" class=\"node\">\n",
       "<title>clusterwith_prebuiltInputsstructure__cubic</title>\n",
       "<ellipse fill=\"#ff7f0e\" stroke=\"#ff7f0e\" cx=\"117.76\" cy=\"-272.25\" rx=\"67.42\" ry=\"18\"/>\n",
       "<text text-anchor=\"middle\" x=\"117.76\" y=\"-266.07\" font-family=\"Times,serif\" font-size=\"14.00\">structure__cubic</text>\n",
       "</g>\n",
       "<!-- clusterwith_prebuiltInputscalc__n_ionic_steps -->\n",
       "<g id=\"node11\" class=\"node\">\n",
       "<title>clusterwith_prebuiltInputscalc__n_ionic_steps</title>\n",
       "<ellipse fill=\"#ff7f0e\" stroke=\"#ff7f0e\" cx=\"117.76\" cy=\"-218.25\" rx=\"93.65\" ry=\"18\"/>\n",
       "<text text-anchor=\"middle\" x=\"117.76\" y=\"-212.07\" font-family=\"Times,serif\" font-size=\"14.00\">calc__n_ionic_steps: int</text>\n",
       "</g>\n",
       "<!-- clusterwith_prebuiltInputscalc__n_print -->\n",
       "<g id=\"node12\" class=\"node\">\n",
       "<title>clusterwith_prebuiltInputscalc__n_print</title>\n",
       "<ellipse fill=\"#ff7f0e\" stroke=\"#ff7f0e\" cx=\"117.76\" cy=\"-164.25\" rx=\"71.23\" ry=\"18\"/>\n",
       "<text text-anchor=\"middle\" x=\"117.76\" y=\"-158.07\" font-family=\"Times,serif\" font-size=\"14.00\">calc__n_print: int</text>\n",
       "</g>\n",
       "<!-- clusterwith_prebuiltInputscalc__temperature -->\n",
       "<g id=\"node13\" class=\"node\">\n",
       "<title>clusterwith_prebuiltInputscalc__temperature</title>\n",
       "<ellipse fill=\"#ff7f0e\" stroke=\"#ff7f0e\" cx=\"117.76\" cy=\"-110.25\" rx=\"74.1\" ry=\"18\"/>\n",
       "<text text-anchor=\"middle\" x=\"117.76\" y=\"-104.08\" font-family=\"Times,serif\" font-size=\"14.00\">calc__temperature</text>\n",
       "</g>\n",
       "<!-- clusterwith_prebuiltInputscalc__pressure -->\n",
       "<g id=\"node14\" class=\"node\">\n",
       "<title>clusterwith_prebuiltInputscalc__pressure</title>\n",
       "<ellipse fill=\"#ff7f0e\" stroke=\"#ff7f0e\" cx=\"117.76\" cy=\"-56.25\" rx=\"61.22\" ry=\"18\"/>\n",
       "<text text-anchor=\"middle\" x=\"117.76\" y=\"-50.08\" font-family=\"Times,serif\" font-size=\"14.00\">calc__pressure</text>\n",
       "</g>\n",
       "<!-- clusterwith_prebuiltOutputscalc__cells -->\n",
       "<g id=\"node16\" class=\"node\">\n",
       "<title>clusterwith_prebuiltOutputscalc__cells</title>\n",
       "<ellipse fill=\"#ff7f0e\" stroke=\"#ff7f0e\" cx=\"361.58\" cy=\"-704.25\" rx=\"48.34\" ry=\"18\"/>\n",
       "<text text-anchor=\"middle\" x=\"361.58\" y=\"-698.08\" font-family=\"Times,serif\" font-size=\"14.00\">calc__cells</text>\n",
       "</g>\n",
       "<!-- clusterwith_prebuiltOutputscalc__displacements -->\n",
       "<g id=\"node17\" class=\"node\">\n",
       "<title>clusterwith_prebuiltOutputscalc__displacements</title>\n",
       "<ellipse fill=\"#ff7f0e\" stroke=\"#ff7f0e\" cx=\"361.58\" cy=\"-650.25\" rx=\"81.73\" ry=\"18\"/>\n",
       "<text text-anchor=\"middle\" x=\"361.58\" y=\"-644.08\" font-family=\"Times,serif\" font-size=\"14.00\">calc__displacements</text>\n",
       "</g>\n",
       "<!-- clusterwith_prebuiltOutputscalc__energy_pot -->\n",
       "<g id=\"node18\" class=\"node\">\n",
       "<title>clusterwith_prebuiltOutputscalc__energy_pot</title>\n",
       "<ellipse fill=\"#ff7f0e\" stroke=\"#ff7f0e\" cx=\"361.58\" cy=\"-596.25\" rx=\"71.23\" ry=\"18\"/>\n",
       "<text text-anchor=\"middle\" x=\"361.58\" y=\"-590.08\" font-family=\"Times,serif\" font-size=\"14.00\">calc__energy_pot</text>\n",
       "</g>\n",
       "<!-- clusterwith_prebuiltOutputscalc__energy_tot -->\n",
       "<g id=\"node19\" class=\"node\">\n",
       "<title>clusterwith_prebuiltOutputscalc__energy_tot</title>\n",
       "<ellipse fill=\"#ff7f0e\" stroke=\"#ff7f0e\" cx=\"361.58\" cy=\"-542.25\" rx=\"69.33\" ry=\"18\"/>\n",
       "<text text-anchor=\"middle\" x=\"361.58\" y=\"-536.08\" font-family=\"Times,serif\" font-size=\"14.00\">calc__energy_tot</text>\n",
       "</g>\n",
       "<!-- clusterwith_prebuiltOutputscalc__force_max -->\n",
       "<g id=\"node20\" class=\"node\">\n",
       "<title>clusterwith_prebuiltOutputscalc__force_max</title>\n",
       "<ellipse fill=\"#ff7f0e\" stroke=\"#ff7f0e\" cx=\"361.58\" cy=\"-488.25\" rx=\"69.8\" ry=\"18\"/>\n",
       "<text text-anchor=\"middle\" x=\"361.58\" y=\"-482.07\" font-family=\"Times,serif\" font-size=\"14.00\">calc__force_max</text>\n",
       "</g>\n",
       "<!-- clusterwith_prebuiltOutputscalc__forces -->\n",
       "<g id=\"node21\" class=\"node\">\n",
       "<title>clusterwith_prebuiltOutputscalc__forces</title>\n",
       "<ellipse fill=\"#ff7f0e\" stroke=\"#ff7f0e\" cx=\"361.58\" cy=\"-434.25\" rx=\"53.58\" ry=\"18\"/>\n",
       "<text text-anchor=\"middle\" x=\"361.58\" y=\"-428.07\" font-family=\"Times,serif\" font-size=\"14.00\">calc__forces</text>\n",
       "</g>\n",
       "<!-- clusterwith_prebuiltOutputscalc__indices -->\n",
       "<g id=\"node22\" class=\"node\">\n",
       "<title>clusterwith_prebuiltOutputscalc__indices</title>\n",
       "<ellipse fill=\"#ff7f0e\" stroke=\"#ff7f0e\" cx=\"361.58\" cy=\"-380.25\" rx=\"56.92\" ry=\"18\"/>\n",
       "<text text-anchor=\"middle\" x=\"361.58\" y=\"-374.07\" font-family=\"Times,serif\" font-size=\"14.00\">calc__indices</text>\n",
       "</g>\n",
       "<!-- clusterwith_prebuiltOutputscalc__positions -->\n",
       "<g id=\"node23\" class=\"node\">\n",
       "<title>clusterwith_prebuiltOutputscalc__positions</title>\n",
       "<ellipse fill=\"#ff7f0e\" stroke=\"#ff7f0e\" cx=\"361.58\" cy=\"-326.25\" rx=\"63.6\" ry=\"18\"/>\n",
       "<text text-anchor=\"middle\" x=\"361.58\" y=\"-320.07\" font-family=\"Times,serif\" font-size=\"14.00\">calc__positions</text>\n",
       "</g>\n",
       "<!-- clusterwith_prebuiltOutputscalc__pressures -->\n",
       "<g id=\"node24\" class=\"node\">\n",
       "<title>clusterwith_prebuiltOutputscalc__pressures</title>\n",
       "<ellipse fill=\"#ff7f0e\" stroke=\"#ff7f0e\" cx=\"361.58\" cy=\"-272.25\" rx=\"64.56\" ry=\"18\"/>\n",
       "<text text-anchor=\"middle\" x=\"361.58\" y=\"-266.07\" font-family=\"Times,serif\" font-size=\"14.00\">calc__pressures</text>\n",
       "</g>\n",
       "<!-- clusterwith_prebuiltOutputscalc__total_displacements -->\n",
       "<g id=\"node25\" class=\"node\">\n",
       "<title>clusterwith_prebuiltOutputscalc__total_displacements</title>\n",
       "<ellipse fill=\"#ff7f0e\" stroke=\"#ff7f0e\" cx=\"361.58\" cy=\"-218.25\" rx=\"101.29\" ry=\"18\"/>\n",
       "<text text-anchor=\"middle\" x=\"361.58\" y=\"-212.07\" font-family=\"Times,serif\" font-size=\"14.00\">calc__total_displacements</text>\n",
       "</g>\n",
       "<!-- clusterwith_prebuiltOutputscalc__unwrapped_positions -->\n",
       "<g id=\"node26\" class=\"node\">\n",
       "<title>clusterwith_prebuiltOutputscalc__unwrapped_positions</title>\n",
       "<ellipse fill=\"#ff7f0e\" stroke=\"#ff7f0e\" cx=\"361.58\" cy=\"-164.25\" rx=\"106.06\" ry=\"18\"/>\n",
       "<text text-anchor=\"middle\" x=\"361.58\" y=\"-158.07\" font-family=\"Times,serif\" font-size=\"14.00\">calc__unwrapped_positions</text>\n",
       "</g>\n",
       "<!-- clusterwith_prebuiltOutputscalc__volume -->\n",
       "<g id=\"node27\" class=\"node\">\n",
       "<title>clusterwith_prebuiltOutputscalc__volume</title>\n",
       "<ellipse fill=\"#ff7f0e\" stroke=\"#ff7f0e\" cx=\"361.58\" cy=\"-110.25\" rx=\"58.83\" ry=\"18\"/>\n",
       "<text text-anchor=\"middle\" x=\"361.58\" y=\"-104.08\" font-family=\"Times,serif\" font-size=\"14.00\">calc__volume</text>\n",
       "</g>\n",
       "<!-- clusterwith_prebuiltOutputsplot__fig -->\n",
       "<g id=\"node28\" class=\"node\">\n",
       "<title>clusterwith_prebuiltOutputsplot__fig</title>\n",
       "<ellipse fill=\"#ff7f0e\" stroke=\"#ff7f0e\" cx=\"361.58\" cy=\"-56.25\" rx=\"41.18\" ry=\"18\"/>\n",
       "<text text-anchor=\"middle\" x=\"361.58\" y=\"-50.08\" font-family=\"Times,serif\" font-size=\"14.00\">plot__fig</text>\n",
       "</g>\n",
       "</g>\n",
       "</svg>\n"
      ],
      "text/plain": [
       "<graphviz.graphs.Digraph at 0x1365a7ad0>"
      ]
     },
     "execution_count": 43,
     "metadata": {},
     "output_type": "execute_result"
    }
   ],
   "source": [
    "wf.draw(depth=0)"
   ]
  },
  {
   "cell_type": "markdown",
   "id": "b2990bbf-28fb-43e2-a01d-82377d12879c",
   "metadata": {},
   "source": [
    "Note: the `draw` call returns a `graphviz.graphs.Digraphs` object; these get natively rendered alright in jupyter notebooks, as seen above, but you can also snag the object in a variable and do everything else graphviz allows, e.g. using the `render` method on the object to save it to file. Cf. the graphviz docs for details."
   ]
  },
  {
   "cell_type": "markdown",
   "id": "7a4e235d-905f-4763-a1ff-d0c3e24c591c",
   "metadata": {},
   "source": [
    "Workflows are \"living\" objects -- their IO is (re)created on access, so it is always up-to-date with the latest state of the workflow's children (who's there and who they're connected to), and (unless you explicitly tell it otherwise) a workflow will always re-compute the execution flow at run-time. This makes them incredibly convenient for working with as you put together a new computational graph, but is not particularly computationally efficeint."
   ]
  },
  {
   "cell_type": "markdown",
   "id": "d1f3b308-28b2-466b-8cf5-6bfd806c08ca",
   "metadata": {},
   "source": [
    "# Macros\n",
    "\n",
    "Once you have a workflow that you're happy with, you may want to store it as a macro so it can be stored in a human-readable way, reused, shared, and executed with more efficiency than the \"living\" `Workflow` instance. Automated conversion of an existing `Workflow` instance into a `Macro` subclass is still on the TODO list, but defining a new macro is pretty easy: they are just composite nodes that have a function defining their graph setup:"
   ]
  },
  {
   "cell_type": "code",
   "execution_count": 44,
   "id": "c71a8308-f8a1-4041-bea0-1c841e072a6d",
   "metadata": {},
   "outputs": [],
   "source": [
    "from pyiron_workflow.macro import Macro"
   ]
  },
  {
   "cell_type": "code",
   "execution_count": 45,
   "id": "2b9bb21a-73cd-444e-84a9-100e202aa422",
   "metadata": {},
   "outputs": [
    {
     "name": "stderr",
     "output_type": "stream",
     "text": [
      "/Users/huber/work/pyiron/pyiron_workflow/pyiron_workflow/channels.py:168: UserWarning: The channel run was not connected to ran, andthus could not disconnect from it.\n",
      "  warn(\n"
     ]
    },
    {
     "data": {
      "text/plain": [
       "13"
      ]
     },
     "execution_count": 45,
     "metadata": {},
     "output_type": "execute_result"
    }
   ],
   "source": [
    "@Workflow.wrap_as.single_value_node(\"result\")\n",
    "def AddOne(x):\n",
    "    return x + 1\n",
    "\n",
    "def add_three_macro(macro: Macro) -> None:\n",
    "    \"\"\"\n",
    "    The graph constructor a Macro expects must take the macro as its only argument\n",
    "    (i.e. \"self\" from the macro's perspective) and return nothing.\n",
    "    Inside, it should add nodes to the macro, wire their connections, etc.\n",
    "    \"\"\"\n",
    "    macro.add_one = AddOne(0)\n",
    "    macro.add_two = AddOne(macro.add_one)\n",
    "    macro.add_three = AddOne(macro.add_two)\n",
    "    # Just like workflows, for simple DAG macros we don't _need_\n",
    "    # to set signals and starting nodes -- the macro will build them\n",
    "    # automatically. But, if you do set both then the macro will use them\n",
    "    macro.add_one >> macro.add_two >> macro.add_three\n",
    "    macro.starting_nodes = [macro.add_one]  \n",
    "    \n",
    "macro = Macro(add_three_macro)\n",
    "macro(add_one__x=10).add_three__result"
   ]
  },
  {
   "cell_type": "markdown",
   "id": "d4f797d6-8d88-415f-bb9c-00f3e1b15e37",
   "metadata": {},
   "source": [
    "Even in the abscence of an automated converter, it should be easy to take the workflow you've been developing and copy-paste that code into a function -- then bam, you've got a macro!"
   ]
  },
  {
   "cell_type": "markdown",
   "id": "bd5099c4-1c01-4a45-a5bb-e5087595db9f",
   "metadata": {},
   "source": [
    "Of course, we can also use a decorator like for other node types. Just like workflows, we can use `inputs_map` and `outputs_map` to control macro-level IO, but macros also allow us to use a more function-like interface where the callable that creates the graph has args and/or kwargs, and/or has return values and output labels. In these cases, the I/O switches over to a \"whitelist\" paradigm where all the child IO we _don't explicitly mention_ gets _disabled and hidden_. The maps always take precedence, and both approaches are equivalent, so it's really just a question of whether it's less typing to  use the maps to turn off/relabel stuff you _don't_ want, or use the callable definition to specify which stuff you _do_ want. Typically the latter is easier.\n",
    "\n",
    "Let's take a look at this, where we use the function defintion to control most of our IO, but still leverage the map to expose something that would normally be hidden (even in the workflows, since it's connected):"
   ]
  },
  {
   "cell_type": "code",
   "execution_count": 46,
   "id": "3668f9a9-adca-48a4-84ea-13add965897c",
   "metadata": {},
   "outputs": [
    {
     "data": {
      "text/plain": [
       "{'intermediate': 102, 'plus_three': 103}"
      ]
     },
     "execution_count": 46,
     "metadata": {},
     "output_type": "execute_result"
    }
   ],
   "source": [
    "@Workflow.wrap_as.macro_node(\"plus_three\")\n",
    "def AddThree(macro: Macro, x: int = 0):\n",
    "    \"\"\"\n",
    "    The graph constructor a Macro expects must take the macro as its only argument\n",
    "    (i.e. \"self\" from the macro's perspective) and return nothing.\n",
    "    Inside, it should add nodes to the macro, wire their connections, etc.\n",
    "    \"\"\"\n",
    "    macro.add_one = AddOne(x)  # Directly use the input from the signature\n",
    "    # Under the hood a new `UserInput` node is being created and used\n",
    "    macro.add_two = AddOne(macro.add_one)\n",
    "    macro.add_three = AddOne(macro.add_two)\n",
    "    macro.outputs_map = {\"add_two__result\": \"intermediate\"}\n",
    "    # return macro.add_three.outputs.result\n",
    "    # We need to return something like output channels, but since AddOne is a \n",
    "    # SingleValue node, we can return it directly.\n",
    "    return macro.add_three\n",
    "    \n",
    "macro = AddThree()\n",
    "macro(x=100)\n",
    "macro.outputs.to_value_dict()"
   ]
  },
  {
   "cell_type": "markdown",
   "id": "22d2fdcf-0206-497d-9344-a71e3472a2c0",
   "metadata": {},
   "source": [
    "## Nesting\n",
    "\n",
    "Composite nodes can be nested to abstract workflows into simpler components -- i.e. macros can be added to workflows, and macros can be used inside of macros. This is a critically important feature because it allows us to easily create more and more complex workflows by \"composing\" simple(r) sub-graphs together!\n",
    "\n",
    "For our final example, let's define a macro for doing Lammps minimizations, then use this in a workflow to compare energies between different phases."
   ]
  },
  {
   "cell_type": "code",
   "execution_count": 47,
   "id": "9aaeeec0-5f88-4c94-a6cc-45b56d2f0111",
   "metadata": {},
   "outputs": [],
   "source": [
    "@Workflow.wrap_as.macro_node(\"structure\", \"energy\")\n",
    "def LammpsMinimize(macro, element: str, crystalstructure: str, lattice_guess: float | int):\n",
    "    macro.structure = macro.create.pyiron_atomistics.Bulk(\n",
    "        name=element,\n",
    "        crystalstructure=crystalstructure,\n",
    "        a=lattice_guess\n",
    "    )\n",
    "    macro.engine = macro.create.pyiron_atomistics.Lammps(structure=macro.structure)\n",
    "    macro.calc = macro.create.pyiron_atomistics.CalcMin(job=macro.engine, pressure=0)\n",
    "    return macro.structure, macro.calc.outputs.energy_pot"
   ]
  },
  {
   "cell_type": "code",
   "execution_count": 48,
   "id": "a832e552-b3cc-411a-a258-ef21574fc439",
   "metadata": {},
   "outputs": [],
   "source": [
    "wf = Workflow(\"phase_preference\")\n",
    "wf.element = wf.create.standard.UserInput()\n",
    "wf.min_phase1 = LammpsMinimize(element=wf.element)\n",
    "wf.min_phase2 = LammpsMinimize(element=wf.element)\n",
    "\n",
    "wf.e1 = wf.min_phase1.outputs.energy[-1]\n",
    "wf.n1 = wf.min_phase1.outputs.structure.len()\n",
    "wf.e2 = wf.min_phase2.outputs.energy[-1]\n",
    "wf.n2 = wf.min_phase2.outputs.structure.len()\n",
    "wf.compare = (wf.e2 / wf.n2) - (wf.e1 / wf.n1)\n",
    "\n",
    "\n",
    "# Or we could write a node to do that:\n",
    "\n",
    "# @Workflow.wrap_as.single_value_node()\n",
    "# def PerAtomEnergyDifference(structure1, energy1, structure2, energy2):\n",
    "#     # The unrelaxed structure is fine, we're just using it to get n_atoms\n",
    "#     sub = (energy2[-1]/len(structure2)) - (energy1[-1]/len(structure1))\n",
    "#     return sub\n",
    "\n",
    "# wf.compare = PerAtomEnergyDifference(\n",
    "#     wf.min_phase1.outputs.structure,\n",
    "#     wf.min_phase1.outputs.energy,\n",
    "#     wf.min_phase2.outputs.structure,\n",
    "#     wf.min_phase2.outputs.energy,\n",
    "# )\n",
    "\n",
    "wf.inputs_map = {\n",
    "    \"element__user_input\": \"element\",\n",
    "    \"min_phase1__crystalstructure\": \"phase1\",\n",
    "    \"min_phase2__crystalstructure\": \"phase2\",\n",
    "    \"min_phase1__lattice_guess\": \"lattice_guess1\",\n",
    "    \"min_phase2__lattice_guess\": \"lattice_guess2\",\n",
    "}"
   ]
  },
  {
   "cell_type": "code",
   "execution_count": 49,
   "id": "b764a447-236f-4cb7-952a-7cba4855087d",
   "metadata": {},
   "outputs": [
    {
     "data": {
      "image/svg+xml": [
       "<?xml version=\"1.0\" encoding=\"UTF-8\" standalone=\"no\"?>\n",
       "<!DOCTYPE svg PUBLIC \"-//W3C//DTD SVG 1.1//EN\"\n",
       " \"http://www.w3.org/Graphics/SVG/1.1/DTD/svg11.dtd\">\n",
       "<!-- Generated by graphviz version 9.0.0 (0)\n",
       " -->\n",
       "<!-- Title: clusterphase_preference Pages: 1 -->\n",
       "<svg width=\"1742pt\" height=\"1073pt\"\n",
       " viewBox=\"0.00 0.00 1741.84 1073.25\" xmlns=\"http://www.w3.org/2000/svg\" xmlns:xlink=\"http://www.w3.org/1999/xlink\">\n",
       "<g id=\"graph0\" class=\"graph\" transform=\"scale(1 1) rotate(0) translate(4 1069.25)\">\n",
       "<title>clusterphase_preference</title>\n",
       "<polygon fill=\"white\" stroke=\"none\" points=\"-4,4 -4,-1069.25 1737.84,-1069.25 1737.84,4 -4,4\"/>\n",
       "<text text-anchor=\"middle\" x=\"866.92\" y=\"-4.95\" font-family=\"Times,serif\" font-size=\"14.00\">phase_preference: Workflow</text>\n",
       "<g id=\"clust1\" class=\"cluster\">\n",
       "<title>clusterphase_preferenceInputs</title>\n",
       "<defs>\n",
       "<linearGradient id=\"clust1_l_0\" gradientUnits=\"userSpaceOnUse\" x1=\"8\" y1=\"-441.25\" x2=\"153.25\" y2=\"-441.25\" >\n",
       "<stop offset=\"0\" style=\"stop-color:#7f7f7f;stop-opacity:1.;\"/>\n",
       "<stop offset=\"1\" style=\"stop-color:#d9d9d9;stop-opacity:1.;\"/>\n",
       "</linearGradient>\n",
       "</defs>\n",
       "<polygon fill=\"url(#clust1_l_0)\" stroke=\"black\" points=\"8,-188.25 8,-694.25 153.25,-694.25 153.25,-188.25 8,-188.25\"/>\n",
       "<text text-anchor=\"middle\" x=\"80.62\" y=\"-676.95\" font-family=\"Times,serif\" font-size=\"14.00\">Inputs</text>\n",
       "</g>\n",
       "<g id=\"clust2\" class=\"cluster\">\n",
       "<title>clusterphase_preferenceOutputs</title>\n",
       "<defs>\n",
       "<linearGradient id=\"clust2_l_1\" gradientUnits=\"userSpaceOnUse\" x1=\"1725.84\" y1=\"-220.25\" x2=\"1588.36\" y2=\"-220.25\" >\n",
       "<stop offset=\"0\" style=\"stop-color:#7f7f7f;stop-opacity:1.;\"/>\n",
       "<stop offset=\"1\" style=\"stop-color:#d9d9d9;stop-opacity:1.;\"/>\n",
       "</linearGradient>\n",
       "</defs>\n",
       "<polygon fill=\"url(#clust2_l_1)\" stroke=\"black\" points=\"1588.36,-156.25 1588.36,-284.25 1725.84,-284.25 1725.84,-156.25 1588.36,-156.25\"/>\n",
       "<text text-anchor=\"middle\" x=\"1657.1\" y=\"-266.95\" font-family=\"Times,serif\" font-size=\"14.00\">Outputs</text>\n",
       "</g>\n",
       "<g id=\"clust3\" class=\"cluster\">\n",
       "<title>clusterphase_preferenceelement</title>\n",
       "<defs>\n",
       "<linearGradient id=\"clust3_l_2\" gradientUnits=\"userSpaceOnUse\" x1=\"310.3\" y1=\"-395.25\" x2=\"310.3\" y2=\"-615.25\" >\n",
       "<stop offset=\"0\" style=\"stop-color:#17becf;stop-opacity:1.;\"/>\n",
       "<stop offset=\"1\" style=\"stop-color:#b9ecf1;stop-opacity:1.;\"/>\n",
       "</linearGradient>\n",
       "</defs>\n",
       "<polygon fill=\"url(#clust3_l_2)\" stroke=\"black\" points=\"165.25,-395.25 165.25,-615.25 455.36,-615.25 455.36,-395.25 165.25,-395.25\"/>\n",
       "<text text-anchor=\"middle\" x=\"310.3\" y=\"-597.95\" font-family=\"Times,serif\" font-size=\"14.00\">element: UserInput</text>\n",
       "</g>\n",
       "<g id=\"clust4\" class=\"cluster\">\n",
       "<title>clusterphase_preferenceelementInputs</title>\n",
       "<defs>\n",
       "<linearGradient id=\"clust4_l_3\" gradientUnits=\"userSpaceOnUse\" x1=\"173.25\" y1=\"-494.25\" x2=\"318.5\" y2=\"-494.25\" >\n",
       "<stop offset=\"0\" style=\"stop-color:#7f7f7f;stop-opacity:1.;\"/>\n",
       "<stop offset=\"1\" style=\"stop-color:#d9d9d9;stop-opacity:1.;\"/>\n",
       "</linearGradient>\n",
       "</defs>\n",
       "<polygon fill=\"url(#clust4_l_3)\" stroke=\"black\" points=\"173.25,-403.25 173.25,-585.25 318.5,-585.25 318.5,-403.25 173.25,-403.25\"/>\n",
       "<text text-anchor=\"middle\" x=\"245.88\" y=\"-567.95\" font-family=\"Times,serif\" font-size=\"14.00\">Inputs</text>\n",
       "</g>\n",
       "<g id=\"clust5\" class=\"cluster\">\n",
       "<title>clusterphase_preferenceelementOutputs</title>\n",
       "<defs>\n",
       "<linearGradient id=\"clust5_l_4\" gradientUnits=\"userSpaceOnUse\" x1=\"447.36\" y1=\"-521.25\" x2=\"338.5\" y2=\"-521.25\" >\n",
       "<stop offset=\"0\" style=\"stop-color:#7f7f7f;stop-opacity:1.;\"/>\n",
       "<stop offset=\"1\" style=\"stop-color:#d9d9d9;stop-opacity:1.;\"/>\n",
       "</linearGradient>\n",
       "</defs>\n",
       "<polygon fill=\"url(#clust5_l_4)\" stroke=\"black\" points=\"338.5,-457.25 338.5,-585.25 447.36,-585.25 447.36,-457.25 338.5,-457.25\"/>\n",
       "<text text-anchor=\"middle\" x=\"392.93\" y=\"-567.95\" font-family=\"Times,serif\" font-size=\"14.00\">Outputs</text>\n",
       "</g>\n",
       "<g id=\"clust6\" class=\"cluster\">\n",
       "<title>clusterphase_preferencemin_phase1</title>\n",
       "<defs>\n",
       "<linearGradient id=\"clust6_l_5\" gradientUnits=\"userSpaceOnUse\" x1=\"614.07\" y1=\"-525.25\" x2=\"614.07\" y2=\"-853.25\" >\n",
       "<stop offset=\"0\" style=\"stop-color:#8c564b;stop-opacity:1.;\"/>\n",
       "<stop offset=\"1\" style=\"stop-color:#dcccc9;stop-opacity:1.;\"/>\n",
       "</linearGradient>\n",
       "</defs>\n",
       "<polygon fill=\"url(#clust6_l_5)\" stroke=\"black\" points=\"463.36,-525.25 463.36,-853.25 764.78,-853.25 764.78,-525.25 463.36,-525.25\"/>\n",
       "<text text-anchor=\"middle\" x=\"614.07\" y=\"-835.95\" font-family=\"Times,serif\" font-size=\"14.00\">min_phase1: LammpsMinimize</text>\n",
       "</g>\n",
       "<g id=\"clust7\" class=\"cluster\">\n",
       "<title>clusterphase_preferencemin_phase1Inputs</title>\n",
       "<defs>\n",
       "<linearGradient id=\"clust7_l_6\" gradientUnits=\"userSpaceOnUse\" x1=\"471.36\" y1=\"-678.25\" x2=\"640.32\" y2=\"-678.25\" >\n",
       "<stop offset=\"0\" style=\"stop-color:#7f7f7f;stop-opacity:1.;\"/>\n",
       "<stop offset=\"1\" style=\"stop-color:#d9d9d9;stop-opacity:1.;\"/>\n",
       "</linearGradient>\n",
       "</defs>\n",
       "<polygon fill=\"url(#clust7_l_6)\" stroke=\"black\" points=\"471.36,-533.25 471.36,-823.25 640.32,-823.25 640.32,-533.25 471.36,-533.25\"/>\n",
       "<text text-anchor=\"middle\" x=\"555.84\" y=\"-805.95\" font-family=\"Times,serif\" font-size=\"14.00\">Inputs</text>\n",
       "</g>\n",
       "<g id=\"clust8\" class=\"cluster\">\n",
       "<title>clusterphase_preferencemin_phase1Outputs</title>\n",
       "<defs>\n",
       "<linearGradient id=\"clust8_l_7\" gradientUnits=\"userSpaceOnUse\" x1=\"756.78\" y1=\"-732.25\" x2=\"660.32\" y2=\"-732.25\" >\n",
       "<stop offset=\"0\" style=\"stop-color:#7f7f7f;stop-opacity:1.;\"/>\n",
       "<stop offset=\"1\" style=\"stop-color:#d9d9d9;stop-opacity:1.;\"/>\n",
       "</linearGradient>\n",
       "</defs>\n",
       "<polygon fill=\"url(#clust8_l_7)\" stroke=\"black\" points=\"660.32,-641.25 660.32,-823.25 756.78,-823.25 756.78,-641.25 660.32,-641.25\"/>\n",
       "<text text-anchor=\"middle\" x=\"708.55\" y=\"-805.95\" font-family=\"Times,serif\" font-size=\"14.00\">Outputs</text>\n",
       "</g>\n",
       "<g id=\"clust9\" class=\"cluster\">\n",
       "<title>clusterphase_preferencemin_phase2</title>\n",
       "<defs>\n",
       "<linearGradient id=\"clust9_l_8\" gradientUnits=\"userSpaceOnUse\" x1=\"614.07\" y1=\"-40.25\" x2=\"614.07\" y2=\"-368.25\" >\n",
       "<stop offset=\"0\" style=\"stop-color:#8c564b;stop-opacity:1.;\"/>\n",
       "<stop offset=\"1\" style=\"stop-color:#dcccc9;stop-opacity:1.;\"/>\n",
       "</linearGradient>\n",
       "</defs>\n",
       "<polygon fill=\"url(#clust9_l_8)\" stroke=\"black\" points=\"463.36,-40.25 463.36,-368.25 764.78,-368.25 764.78,-40.25 463.36,-40.25\"/>\n",
       "<text text-anchor=\"middle\" x=\"614.07\" y=\"-350.95\" font-family=\"Times,serif\" font-size=\"14.00\">min_phase2: LammpsMinimize</text>\n",
       "</g>\n",
       "<g id=\"clust10\" class=\"cluster\">\n",
       "<title>clusterphase_preferencemin_phase2Inputs</title>\n",
       "<defs>\n",
       "<linearGradient id=\"clust10_l_9\" gradientUnits=\"userSpaceOnUse\" x1=\"471.36\" y1=\"-193.25\" x2=\"640.32\" y2=\"-193.25\" >\n",
       "<stop offset=\"0\" style=\"stop-color:#7f7f7f;stop-opacity:1.;\"/>\n",
       "<stop offset=\"1\" style=\"stop-color:#d9d9d9;stop-opacity:1.;\"/>\n",
       "</linearGradient>\n",
       "</defs>\n",
       "<polygon fill=\"url(#clust10_l_9)\" stroke=\"black\" points=\"471.36,-48.25 471.36,-338.25 640.32,-338.25 640.32,-48.25 471.36,-48.25\"/>\n",
       "<text text-anchor=\"middle\" x=\"555.84\" y=\"-320.95\" font-family=\"Times,serif\" font-size=\"14.00\">Inputs</text>\n",
       "</g>\n",
       "<g id=\"clust11\" class=\"cluster\">\n",
       "<title>clusterphase_preferencemin_phase2Outputs</title>\n",
       "<defs>\n",
       "<linearGradient id=\"clust11_l_10\" gradientUnits=\"userSpaceOnUse\" x1=\"756.78\" y1=\"-247.25\" x2=\"660.32\" y2=\"-247.25\" >\n",
       "<stop offset=\"0\" style=\"stop-color:#7f7f7f;stop-opacity:1.;\"/>\n",
       "<stop offset=\"1\" style=\"stop-color:#d9d9d9;stop-opacity:1.;\"/>\n",
       "</linearGradient>\n",
       "</defs>\n",
       "<polygon fill=\"url(#clust11_l_10)\" stroke=\"black\" points=\"660.32,-156.25 660.32,-338.25 756.78,-338.25 756.78,-156.25 660.32,-156.25\"/>\n",
       "<text text-anchor=\"middle\" x=\"708.55\" y=\"-320.95\" font-family=\"Times,serif\" font-size=\"14.00\">Outputs</text>\n",
       "</g>\n",
       "<g id=\"clust12\" class=\"cluster\">\n",
       "<title>clusterphase_preferencee1</title>\n",
       "<defs>\n",
       "<linearGradient id=\"clust12_l_11\" gradientUnits=\"userSpaceOnUse\" x1=\"907.82\" y1=\"-783.25\" x2=\"907.82\" y2=\"-1057.25\" >\n",
       "<stop offset=\"0\" style=\"stop-color:#17becf;stop-opacity:1.;\"/>\n",
       "<stop offset=\"1\" style=\"stop-color:#b9ecf1;stop-opacity:1.;\"/>\n",
       "</linearGradient>\n",
       "</defs>\n",
       "<polygon fill=\"url(#clust12_l_11)\" stroke=\"black\" points=\"772.78,-783.25 772.78,-1057.25 1042.85,-1057.25 1042.85,-783.25 772.78,-783.25\"/>\n",
       "<text text-anchor=\"middle\" x=\"907.82\" y=\"-1039.95\" font-family=\"Times,serif\" font-size=\"14.00\">e1: GetItem</text>\n",
       "</g>\n",
       "<g id=\"clust13\" class=\"cluster\">\n",
       "<title>clusterphase_preferencee1Inputs</title>\n",
       "<defs>\n",
       "<linearGradient id=\"clust13_l_12\" gradientUnits=\"userSpaceOnUse\" x1=\"780.78\" y1=\"-909.25\" x2=\"926.03\" y2=\"-909.25\" >\n",
       "<stop offset=\"0\" style=\"stop-color:#7f7f7f;stop-opacity:1.;\"/>\n",
       "<stop offset=\"1\" style=\"stop-color:#d9d9d9;stop-opacity:1.;\"/>\n",
       "</linearGradient>\n",
       "</defs>\n",
       "<polygon fill=\"url(#clust13_l_12)\" stroke=\"black\" points=\"780.78,-791.25 780.78,-1027.25 926.03,-1027.25 926.03,-791.25 780.78,-791.25\"/>\n",
       "<text text-anchor=\"middle\" x=\"853.41\" y=\"-1009.95\" font-family=\"Times,serif\" font-size=\"14.00\">Inputs</text>\n",
       "</g>\n",
       "<g id=\"clust14\" class=\"cluster\">\n",
       "<title>clusterphase_preferencee1Outputs</title>\n",
       "<defs>\n",
       "<linearGradient id=\"clust14_l_13\" gradientUnits=\"userSpaceOnUse\" x1=\"1034.85\" y1=\"-909.25\" x2=\"946.03\" y2=\"-909.25\" >\n",
       "<stop offset=\"0\" style=\"stop-color:#7f7f7f;stop-opacity:1.;\"/>\n",
       "<stop offset=\"1\" style=\"stop-color:#d9d9d9;stop-opacity:1.;\"/>\n",
       "</linearGradient>\n",
       "</defs>\n",
       "<polygon fill=\"url(#clust14_l_13)\" stroke=\"black\" points=\"946.03,-845.25 946.03,-973.25 1034.85,-973.25 1034.85,-845.25 946.03,-845.25\"/>\n",
       "<text text-anchor=\"middle\" x=\"990.44\" y=\"-955.95\" font-family=\"Times,serif\" font-size=\"14.00\">Outputs</text>\n",
       "</g>\n",
       "<g id=\"clust15\" class=\"cluster\">\n",
       "<title>clusterphase_preferencen1</title>\n",
       "<defs>\n",
       "<linearGradient id=\"clust15_l_14\" gradientUnits=\"userSpaceOnUse\" x1=\"903.11\" y1=\"-555.25\" x2=\"903.11\" y2=\"-775.25\" >\n",
       "<stop offset=\"0\" style=\"stop-color:#17becf;stop-opacity:1.;\"/>\n",
       "<stop offset=\"1\" style=\"stop-color:#b9ecf1;stop-opacity:1.;\"/>\n",
       "</linearGradient>\n",
       "</defs>\n",
       "<polygon fill=\"url(#clust15_l_14)\" stroke=\"black\" points=\"772.78,-555.25 772.78,-775.25 1033.44,-775.25 1033.44,-555.25 772.78,-555.25\"/>\n",
       "<text text-anchor=\"middle\" x=\"903.11\" y=\"-757.95\" font-family=\"Times,serif\" font-size=\"14.00\">n1: Length</text>\n",
       "</g>\n",
       "<g id=\"clust16\" class=\"cluster\">\n",
       "<title>clusterphase_preferencen1Inputs</title>\n",
       "<defs>\n",
       "<linearGradient id=\"clust16_l_15\" gradientUnits=\"userSpaceOnUse\" x1=\"780.78\" y1=\"-654.25\" x2=\"926.03\" y2=\"-654.25\" >\n",
       "<stop offset=\"0\" style=\"stop-color:#7f7f7f;stop-opacity:1.;\"/>\n",
       "<stop offset=\"1\" style=\"stop-color:#d9d9d9;stop-opacity:1.;\"/>\n",
       "</linearGradient>\n",
       "</defs>\n",
       "<polygon fill=\"url(#clust16_l_15)\" stroke=\"black\" points=\"780.78,-563.25 780.78,-745.25 926.03,-745.25 926.03,-563.25 780.78,-563.25\"/>\n",
       "<text text-anchor=\"middle\" x=\"853.41\" y=\"-727.95\" font-family=\"Times,serif\" font-size=\"14.00\">Inputs</text>\n",
       "</g>\n",
       "<g id=\"clust17\" class=\"cluster\">\n",
       "<title>clusterphase_preferencen1Outputs</title>\n",
       "<defs>\n",
       "<linearGradient id=\"clust17_l_16\" gradientUnits=\"userSpaceOnUse\" x1=\"1025.44\" y1=\"-681.25\" x2=\"955.44\" y2=\"-681.25\" >\n",
       "<stop offset=\"0\" style=\"stop-color:#7f7f7f;stop-opacity:1.;\"/>\n",
       "<stop offset=\"1\" style=\"stop-color:#d9d9d9;stop-opacity:1.;\"/>\n",
       "</linearGradient>\n",
       "</defs>\n",
       "<polygon fill=\"url(#clust17_l_16)\" stroke=\"black\" points=\"955.44,-617.25 955.44,-745.25 1025.44,-745.25 1025.44,-617.25 955.44,-617.25\"/>\n",
       "<text text-anchor=\"middle\" x=\"990.44\" y=\"-727.95\" font-family=\"Times,serif\" font-size=\"14.00\">Outputs</text>\n",
       "</g>\n",
       "<g id=\"clust18\" class=\"cluster\">\n",
       "<title>clusterphase_preferencee2</title>\n",
       "<defs>\n",
       "<linearGradient id=\"clust18_l_17\" gradientUnits=\"userSpaceOnUse\" x1=\"907.82\" y1=\"-273.25\" x2=\"907.82\" y2=\"-547.25\" >\n",
       "<stop offset=\"0\" style=\"stop-color:#17becf;stop-opacity:1.;\"/>\n",
       "<stop offset=\"1\" style=\"stop-color:#b9ecf1;stop-opacity:1.;\"/>\n",
       "</linearGradient>\n",
       "</defs>\n",
       "<polygon fill=\"url(#clust18_l_17)\" stroke=\"black\" points=\"772.78,-273.25 772.78,-547.25 1042.85,-547.25 1042.85,-273.25 772.78,-273.25\"/>\n",
       "<text text-anchor=\"middle\" x=\"907.82\" y=\"-529.95\" font-family=\"Times,serif\" font-size=\"14.00\">e2: GetItem</text>\n",
       "</g>\n",
       "<g id=\"clust19\" class=\"cluster\">\n",
       "<title>clusterphase_preferencee2Inputs</title>\n",
       "<defs>\n",
       "<linearGradient id=\"clust19_l_18\" gradientUnits=\"userSpaceOnUse\" x1=\"780.78\" y1=\"-399.25\" x2=\"926.03\" y2=\"-399.25\" >\n",
       "<stop offset=\"0\" style=\"stop-color:#7f7f7f;stop-opacity:1.;\"/>\n",
       "<stop offset=\"1\" style=\"stop-color:#d9d9d9;stop-opacity:1.;\"/>\n",
       "</linearGradient>\n",
       "</defs>\n",
       "<polygon fill=\"url(#clust19_l_18)\" stroke=\"black\" points=\"780.78,-281.25 780.78,-517.25 926.03,-517.25 926.03,-281.25 780.78,-281.25\"/>\n",
       "<text text-anchor=\"middle\" x=\"853.41\" y=\"-499.95\" font-family=\"Times,serif\" font-size=\"14.00\">Inputs</text>\n",
       "</g>\n",
       "<g id=\"clust20\" class=\"cluster\">\n",
       "<title>clusterphase_preferencee2Outputs</title>\n",
       "<defs>\n",
       "<linearGradient id=\"clust20_l_19\" gradientUnits=\"userSpaceOnUse\" x1=\"1034.85\" y1=\"-399.25\" x2=\"946.03\" y2=\"-399.25\" >\n",
       "<stop offset=\"0\" style=\"stop-color:#7f7f7f;stop-opacity:1.;\"/>\n",
       "<stop offset=\"1\" style=\"stop-color:#d9d9d9;stop-opacity:1.;\"/>\n",
       "</linearGradient>\n",
       "</defs>\n",
       "<polygon fill=\"url(#clust20_l_19)\" stroke=\"black\" points=\"946.03,-335.25 946.03,-463.25 1034.85,-463.25 1034.85,-335.25 946.03,-335.25\"/>\n",
       "<text text-anchor=\"middle\" x=\"990.44\" y=\"-445.95\" font-family=\"Times,serif\" font-size=\"14.00\">Outputs</text>\n",
       "</g>\n",
       "<g id=\"clust21\" class=\"cluster\">\n",
       "<title>clusterphase_preferencen2</title>\n",
       "<defs>\n",
       "<linearGradient id=\"clust21_l_20\" gradientUnits=\"userSpaceOnUse\" x1=\"903.11\" y1=\"-45.25\" x2=\"903.11\" y2=\"-265.25\" >\n",
       "<stop offset=\"0\" style=\"stop-color:#17becf;stop-opacity:1.;\"/>\n",
       "<stop offset=\"1\" style=\"stop-color:#b9ecf1;stop-opacity:1.;\"/>\n",
       "</linearGradient>\n",
       "</defs>\n",
       "<polygon fill=\"url(#clust21_l_20)\" stroke=\"black\" points=\"772.78,-45.25 772.78,-265.25 1033.44,-265.25 1033.44,-45.25 772.78,-45.25\"/>\n",
       "<text text-anchor=\"middle\" x=\"903.11\" y=\"-247.95\" font-family=\"Times,serif\" font-size=\"14.00\">n2: Length</text>\n",
       "</g>\n",
       "<g id=\"clust22\" class=\"cluster\">\n",
       "<title>clusterphase_preferencen2Inputs</title>\n",
       "<defs>\n",
       "<linearGradient id=\"clust22_l_21\" gradientUnits=\"userSpaceOnUse\" x1=\"780.78\" y1=\"-144.25\" x2=\"926.03\" y2=\"-144.25\" >\n",
       "<stop offset=\"0\" style=\"stop-color:#7f7f7f;stop-opacity:1.;\"/>\n",
       "<stop offset=\"1\" style=\"stop-color:#d9d9d9;stop-opacity:1.;\"/>\n",
       "</linearGradient>\n",
       "</defs>\n",
       "<polygon fill=\"url(#clust22_l_21)\" stroke=\"black\" points=\"780.78,-53.25 780.78,-235.25 926.03,-235.25 926.03,-53.25 780.78,-53.25\"/>\n",
       "<text text-anchor=\"middle\" x=\"853.41\" y=\"-217.95\" font-family=\"Times,serif\" font-size=\"14.00\">Inputs</text>\n",
       "</g>\n",
       "<g id=\"clust23\" class=\"cluster\">\n",
       "<title>clusterphase_preferencen2Outputs</title>\n",
       "<defs>\n",
       "<linearGradient id=\"clust23_l_22\" gradientUnits=\"userSpaceOnUse\" x1=\"1025.44\" y1=\"-171.25\" x2=\"955.44\" y2=\"-171.25\" >\n",
       "<stop offset=\"0\" style=\"stop-color:#7f7f7f;stop-opacity:1.;\"/>\n",
       "<stop offset=\"1\" style=\"stop-color:#d9d9d9;stop-opacity:1.;\"/>\n",
       "</linearGradient>\n",
       "</defs>\n",
       "<polygon fill=\"url(#clust23_l_22)\" stroke=\"black\" points=\"955.44,-107.25 955.44,-235.25 1025.44,-235.25 1025.44,-107.25 955.44,-107.25\"/>\n",
       "<text text-anchor=\"middle\" x=\"990.44\" y=\"-217.95\" font-family=\"Times,serif\" font-size=\"14.00\">Outputs</text>\n",
       "</g>\n",
       "<g id=\"clust24\" class=\"cluster\">\n",
       "<title>clusterphase_preferencee2__getitem_Divide_n2__len</title>\n",
       "<defs>\n",
       "<linearGradient id=\"clust24_l_23\" gradientUnits=\"userSpaceOnUse\" x1=\"1183.98\" y1=\"-159.25\" x2=\"1183.98\" y2=\"-433.25\" >\n",
       "<stop offset=\"0\" style=\"stop-color:#17becf;stop-opacity:1.;\"/>\n",
       "<stop offset=\"1\" style=\"stop-color:#b9ecf1;stop-opacity:1.;\"/>\n",
       "</linearGradient>\n",
       "</defs>\n",
       "<polygon fill=\"url(#clust24_l_23)\" stroke=\"black\" points=\"1050.85,-159.25 1050.85,-433.25 1317.11,-433.25 1317.11,-159.25 1050.85,-159.25\"/>\n",
       "<text text-anchor=\"middle\" x=\"1183.98\" y=\"-415.95\" font-family=\"Times,serif\" font-size=\"14.00\">e2__getitem_Divide_n2__len: Divide</text>\n",
       "</g>\n",
       "<g id=\"clust25\" class=\"cluster\">\n",
       "<title>clusterphase_preferencee2__getitem_Divide_n2__lenInputs</title>\n",
       "<defs>\n",
       "<linearGradient id=\"clust25_l_24\" gradientUnits=\"userSpaceOnUse\" x1=\"1058.85\" y1=\"-285.25\" x2=\"1204.1\" y2=\"-285.25\" >\n",
       "<stop offset=\"0\" style=\"stop-color:#7f7f7f;stop-opacity:1.;\"/>\n",
       "<stop offset=\"1\" style=\"stop-color:#d9d9d9;stop-opacity:1.;\"/>\n",
       "</linearGradient>\n",
       "</defs>\n",
       "<polygon fill=\"url(#clust25_l_24)\" stroke=\"black\" points=\"1058.85,-167.25 1058.85,-403.25 1204.1,-403.25 1204.1,-167.25 1058.85,-167.25\"/>\n",
       "<text text-anchor=\"middle\" x=\"1131.48\" y=\"-385.95\" font-family=\"Times,serif\" font-size=\"14.00\">Inputs</text>\n",
       "</g>\n",
       "<g id=\"clust26\" class=\"cluster\">\n",
       "<title>clusterphase_preferencee2__getitem_Divide_n2__lenOutputs</title>\n",
       "<defs>\n",
       "<linearGradient id=\"clust26_l_25\" gradientUnits=\"userSpaceOnUse\" x1=\"1309.11\" y1=\"-339.25\" x2=\"1224.1\" y2=\"-339.25\" >\n",
       "<stop offset=\"0\" style=\"stop-color:#7f7f7f;stop-opacity:1.;\"/>\n",
       "<stop offset=\"1\" style=\"stop-color:#d9d9d9;stop-opacity:1.;\"/>\n",
       "</linearGradient>\n",
       "</defs>\n",
       "<polygon fill=\"url(#clust26_l_25)\" stroke=\"black\" points=\"1224.1,-275.25 1224.1,-403.25 1309.11,-403.25 1309.11,-275.25 1224.1,-275.25\"/>\n",
       "<text text-anchor=\"middle\" x=\"1266.61\" y=\"-385.95\" font-family=\"Times,serif\" font-size=\"14.00\">Outputs</text>\n",
       "</g>\n",
       "<g id=\"clust27\" class=\"cluster\">\n",
       "<title>clusterphase_preferencee1__getitem_Divide_n1__len</title>\n",
       "<defs>\n",
       "<linearGradient id=\"clust27_l_26\" gradientUnits=\"userSpaceOnUse\" x1=\"1183.98\" y1=\"-609.25\" x2=\"1183.98\" y2=\"-883.25\" >\n",
       "<stop offset=\"0\" style=\"stop-color:#17becf;stop-opacity:1.;\"/>\n",
       "<stop offset=\"1\" style=\"stop-color:#b9ecf1;stop-opacity:1.;\"/>\n",
       "</linearGradient>\n",
       "</defs>\n",
       "<polygon fill=\"url(#clust27_l_26)\" stroke=\"black\" points=\"1050.85,-609.25 1050.85,-883.25 1317.11,-883.25 1317.11,-609.25 1050.85,-609.25\"/>\n",
       "<text text-anchor=\"middle\" x=\"1183.98\" y=\"-865.95\" font-family=\"Times,serif\" font-size=\"14.00\">e1__getitem_Divide_n1__len: Divide</text>\n",
       "</g>\n",
       "<g id=\"clust28\" class=\"cluster\">\n",
       "<title>clusterphase_preferencee1__getitem_Divide_n1__lenInputs</title>\n",
       "<defs>\n",
       "<linearGradient id=\"clust28_l_27\" gradientUnits=\"userSpaceOnUse\" x1=\"1058.85\" y1=\"-735.25\" x2=\"1204.1\" y2=\"-735.25\" >\n",
       "<stop offset=\"0\" style=\"stop-color:#7f7f7f;stop-opacity:1.;\"/>\n",
       "<stop offset=\"1\" style=\"stop-color:#d9d9d9;stop-opacity:1.;\"/>\n",
       "</linearGradient>\n",
       "</defs>\n",
       "<polygon fill=\"url(#clust28_l_27)\" stroke=\"black\" points=\"1058.85,-617.25 1058.85,-853.25 1204.1,-853.25 1204.1,-617.25 1058.85,-617.25\"/>\n",
       "<text text-anchor=\"middle\" x=\"1131.48\" y=\"-835.95\" font-family=\"Times,serif\" font-size=\"14.00\">Inputs</text>\n",
       "</g>\n",
       "<g id=\"clust29\" class=\"cluster\">\n",
       "<title>clusterphase_preferencee1__getitem_Divide_n1__lenOutputs</title>\n",
       "<defs>\n",
       "<linearGradient id=\"clust29_l_28\" gradientUnits=\"userSpaceOnUse\" x1=\"1309.11\" y1=\"-735.25\" x2=\"1224.1\" y2=\"-735.25\" >\n",
       "<stop offset=\"0\" style=\"stop-color:#7f7f7f;stop-opacity:1.;\"/>\n",
       "<stop offset=\"1\" style=\"stop-color:#d9d9d9;stop-opacity:1.;\"/>\n",
       "</linearGradient>\n",
       "</defs>\n",
       "<polygon fill=\"url(#clust29_l_28)\" stroke=\"black\" points=\"1224.1,-671.25 1224.1,-799.25 1309.11,-799.25 1309.11,-671.25 1224.1,-671.25\"/>\n",
       "<text text-anchor=\"middle\" x=\"1266.61\" y=\"-781.95\" font-family=\"Times,serif\" font-size=\"14.00\">Outputs</text>\n",
       "</g>\n",
       "<g id=\"clust30\" class=\"cluster\">\n",
       "<title>clusterphase_preferencecompare</title>\n",
       "<defs>\n",
       "<linearGradient id=\"clust30_l_29\" gradientUnits=\"userSpaceOnUse\" x1=\"1450.74\" y1=\"-267.25\" x2=\"1450.74\" y2=\"-541.25\" >\n",
       "<stop offset=\"0\" style=\"stop-color:#17becf;stop-opacity:1.;\"/>\n",
       "<stop offset=\"1\" style=\"stop-color:#b9ecf1;stop-opacity:1.;\"/>\n",
       "</linearGradient>\n",
       "</defs>\n",
       "<polygon fill=\"url(#clust30_l_29)\" stroke=\"black\" points=\"1325.11,-267.25 1325.11,-541.25 1576.36,-541.25 1576.36,-267.25 1325.11,-267.25\"/>\n",
       "<text text-anchor=\"middle\" x=\"1450.74\" y=\"-523.95\" font-family=\"Times,serif\" font-size=\"14.00\">compare: Subtract</text>\n",
       "</g>\n",
       "<g id=\"clust31\" class=\"cluster\">\n",
       "<title>clusterphase_preferencecompareInputs</title>\n",
       "<defs>\n",
       "<linearGradient id=\"clust31_l_30\" gradientUnits=\"userSpaceOnUse\" x1=\"1333.11\" y1=\"-393.25\" x2=\"1478.36\" y2=\"-393.25\" >\n",
       "<stop offset=\"0\" style=\"stop-color:#7f7f7f;stop-opacity:1.;\"/>\n",
       "<stop offset=\"1\" style=\"stop-color:#d9d9d9;stop-opacity:1.;\"/>\n",
       "</linearGradient>\n",
       "</defs>\n",
       "<polygon fill=\"url(#clust31_l_30)\" stroke=\"black\" points=\"1333.11,-275.25 1333.11,-511.25 1478.36,-511.25 1478.36,-275.25 1333.11,-275.25\"/>\n",
       "<text text-anchor=\"middle\" x=\"1405.74\" y=\"-493.95\" font-family=\"Times,serif\" font-size=\"14.00\">Inputs</text>\n",
       "</g>\n",
       "<g id=\"clust32\" class=\"cluster\">\n",
       "<title>clusterphase_preferencecompareOutputs</title>\n",
       "<defs>\n",
       "<linearGradient id=\"clust32_l_31\" gradientUnits=\"userSpaceOnUse\" x1=\"1568.36\" y1=\"-393.25\" x2=\"1498.36\" y2=\"-393.25\" >\n",
       "<stop offset=\"0\" style=\"stop-color:#7f7f7f;stop-opacity:1.;\"/>\n",
       "<stop offset=\"1\" style=\"stop-color:#d9d9d9;stop-opacity:1.;\"/>\n",
       "</linearGradient>\n",
       "</defs>\n",
       "<polygon fill=\"url(#clust32_l_31)\" stroke=\"black\" points=\"1498.36,-329.25 1498.36,-457.25 1568.36,-457.25 1568.36,-329.25 1498.36,-329.25\"/>\n",
       "<text text-anchor=\"middle\" x=\"1533.36\" y=\"-439.95\" font-family=\"Times,serif\" font-size=\"14.00\">Outputs</text>\n",
       "</g>\n",
       "<!-- clusterphase_preferenceInputsrun -->\n",
       "<g id=\"node1\" class=\"node\">\n",
       "<title>clusterphase_preferenceInputsrun</title>\n",
       "<polygon fill=\"#1f77b4\" stroke=\"#1f77b4\" points=\"95.62,-226.25 53.62,-226.25 53.62,-202.25 95.62,-202.25 107.62,-214.25 95.62,-226.25\"/>\n",
       "<text text-anchor=\"middle\" x=\"80.62\" y=\"-208.07\" font-family=\"Times,serif\" font-size=\"14.00\">run</text>\n",
       "</g>\n",
       "<!-- clusterphase_preferenceOutputsran -->\n",
       "<g id=\"node10\" class=\"node\">\n",
       "<title>clusterphase_preferenceOutputsran</title>\n",
       "<polygon fill=\"#1f77b4\" stroke=\"#1f77b4\" points=\"1672.1,-194.25 1630.1,-194.25 1630.1,-170.25 1672.1,-170.25 1684.1,-182.25 1672.1,-194.25\"/>\n",
       "<text text-anchor=\"middle\" x=\"1657.1\" y=\"-176.07\" font-family=\"Times,serif\" font-size=\"14.00\">ran</text>\n",
       "</g>\n",
       "<!-- clusterphase_preferenceInputsrun&#45;&gt;clusterphase_preferenceOutputsran -->\n",
       "<!-- clusterphase_preferenceInputsaccumulate_and_run -->\n",
       "<g id=\"node2\" class=\"node\">\n",
       "<title>clusterphase_preferenceInputsaccumulate_and_run</title>\n",
       "<polygon fill=\"#1f77b4\" stroke=\"#1f77b4\" points=\"133.25,-604.25 16,-604.25 16,-580.25 133.25,-580.25 145.25,-592.25 133.25,-604.25\"/>\n",
       "<text text-anchor=\"middle\" x=\"80.62\" y=\"-586.08\" font-family=\"Times,serif\" font-size=\"14.00\">accumulate_and_run</text>\n",
       "</g>\n",
       "<!-- clusterphase_preferenceInputselement -->\n",
       "<g id=\"node3\" class=\"node\">\n",
       "<title>clusterphase_preferenceInputselement</title>\n",
       "<ellipse fill=\"#ff7f0e\" stroke=\"#ff7f0e\" cx=\"80.62\" cy=\"-430.25\" rx=\"37.84\" ry=\"18\"/>\n",
       "<text text-anchor=\"middle\" x=\"80.62\" y=\"-424.07\" font-family=\"Times,serif\" font-size=\"14.00\">element</text>\n",
       "</g>\n",
       "<!-- clusterphase_preferenceelementInputsuser_input -->\n",
       "<g id=\"node14\" class=\"node\">\n",
       "<title>clusterphase_preferenceelementInputsuser_input</title>\n",
       "<ellipse fill=\"#ff7f0e\" stroke=\"#ff7f0e\" cx=\"245.88\" cy=\"-429.25\" rx=\"46.43\" ry=\"18\"/>\n",
       "<text text-anchor=\"middle\" x=\"245.88\" y=\"-423.07\" font-family=\"Times,serif\" font-size=\"14.00\">user_input</text>\n",
       "</g>\n",
       "<!-- clusterphase_preferenceInputselement&#45;&gt;clusterphase_preferenceelementInputsuser_input -->\n",
       "<g id=\"edge24\" class=\"edge\">\n",
       "<title>clusterphase_preferenceInputselement&#45;&gt;clusterphase_preferenceelementInputsuser_input</title>\n",
       "<path fill=\"none\" stroke=\"#ff7f0e\" d=\"M118.67,-430.02C128.89,-429.96 140.46,-429.89 152.34,-429.82\"/>\n",
       "<path fill=\"none\" stroke=\"#ff7f0e\" d=\"M152.34,-429.82C164.21,-429.74 176.41,-429.67 187.89,-429.6\"/>\n",
       "<polygon fill=\"#ff7f0e\" stroke=\"#ff7f0e\" points=\"187.74,-433.1 197.72,-429.54 187.7,-426.1 187.74,-433.1\"/>\n",
       "</g>\n",
       "<!-- clusterphase_preferenceInputsphase1 -->\n",
       "<g id=\"node4\" class=\"node\">\n",
       "<title>clusterphase_preferenceInputsphase1</title>\n",
       "<ellipse fill=\"#ff7f0e\" stroke=\"#ff7f0e\" cx=\"80.62\" cy=\"-538.25\" rx=\"47.38\" ry=\"18\"/>\n",
       "<text text-anchor=\"middle\" x=\"80.62\" y=\"-532.08\" font-family=\"Times,serif\" font-size=\"14.00\">phase1: str</text>\n",
       "</g>\n",
       "<!-- clusterphase_preferencemin_phase1Inputscrystalstructure -->\n",
       "<g id=\"node20\" class=\"node\">\n",
       "<title>clusterphase_preferencemin_phase1Inputscrystalstructure</title>\n",
       "<ellipse fill=\"#ff7f0e\" stroke=\"#ff7f0e\" cx=\"555.84\" cy=\"-667.25\" rx=\"76.48\" ry=\"18\"/>\n",
       "<text text-anchor=\"middle\" x=\"555.84\" y=\"-661.08\" font-family=\"Times,serif\" font-size=\"14.00\">crystalstructure: str</text>\n",
       "</g>\n",
       "<!-- clusterphase_preferenceInputsphase1&#45;&gt;clusterphase_preferencemin_phase1Inputscrystalstructure -->\n",
       "<g id=\"edge25\" class=\"edge\">\n",
       "<title>clusterphase_preferenceInputsphase1&#45;&gt;clusterphase_preferencemin_phase1Inputscrystalstructure</title>\n",
       "<path fill=\"none\" stroke=\"#ff7f0e\" d=\"M123.83,-545.97C134.92,-549.97 145.83,-556.04 153.25,-565.25 176.35,-593.94 138.01,-622.46 165.25,-647.25 191.12,-670.8 222.41,-685.66 255.88,-694.37\"/>\n",
       "<path fill=\"none\" stroke=\"#ff7f0e\" d=\"M255.88,-694.37C339.47,-716.15 436.65,-699.63 496.96,-684.48\"/>\n",
       "<polygon fill=\"#ff7f0e\" stroke=\"#ff7f0e\" points=\"497.62,-687.92 506.42,-682.03 495.86,-681.15 497.62,-687.92\"/>\n",
       "</g>\n",
       "<!-- clusterphase_preferenceInputslattice_guess1 -->\n",
       "<g id=\"node5\" class=\"node\">\n",
       "<title>clusterphase_preferenceInputslattice_guess1</title>\n",
       "<ellipse fill=\"#ff7f0e\" stroke=\"#ff7f0e\" cx=\"80.62\" cy=\"-484.25\" rx=\"58.83\" ry=\"18\"/>\n",
       "<text text-anchor=\"middle\" x=\"80.62\" y=\"-478.07\" font-family=\"Times,serif\" font-size=\"14.00\">lattice_guess1</text>\n",
       "</g>\n",
       "<!-- clusterphase_preferencemin_phase1Inputslattice_guess -->\n",
       "<g id=\"node21\" class=\"node\">\n",
       "<title>clusterphase_preferencemin_phase1Inputslattice_guess</title>\n",
       "<ellipse fill=\"#ff7f0e\" stroke=\"#ff7f0e\" cx=\"555.84\" cy=\"-613.25\" rx=\"54.54\" ry=\"18\"/>\n",
       "<text text-anchor=\"middle\" x=\"555.84\" y=\"-607.08\" font-family=\"Times,serif\" font-size=\"14.00\">lattice_guess</text>\n",
       "</g>\n",
       "<!-- clusterphase_preferenceInputslattice_guess1&#45;&gt;clusterphase_preferencemin_phase1Inputslattice_guess -->\n",
       "<g id=\"edge26\" class=\"edge\">\n",
       "<title>clusterphase_preferenceInputslattice_guess1&#45;&gt;clusterphase_preferencemin_phase1Inputslattice_guess</title>\n",
       "<path fill=\"none\" stroke=\"#ff7f0e\" d=\"M129.73,-494.37C138.69,-498.28 147.14,-503.72 153.25,-511.25 175.34,-538.49 139.34,-565.6 165.25,-589.25 193.74,-615.25 228.81,-630.88 266.14,-639.46\"/>\n",
       "<path fill=\"none\" stroke=\"#ff7f0e\" d=\"M266.14,-639.46C350.34,-658.81 445.98,-642.31 503.31,-628.14\"/>\n",
       "<polygon fill=\"#ff7f0e\" stroke=\"#ff7f0e\" points=\"504.15,-631.54 512.97,-625.68 502.42,-624.76 504.15,-631.54\"/>\n",
       "</g>\n",
       "<!-- clusterphase_preferenceInputsphase2 -->\n",
       "<g id=\"node6\" class=\"node\">\n",
       "<title>clusterphase_preferenceInputsphase2</title>\n",
       "<ellipse fill=\"#ff7f0e\" stroke=\"#ff7f0e\" cx=\"80.62\" cy=\"-322.25\" rx=\"47.38\" ry=\"18\"/>\n",
       "<text text-anchor=\"middle\" x=\"80.62\" y=\"-316.07\" font-family=\"Times,serif\" font-size=\"14.00\">phase2: str</text>\n",
       "</g>\n",
       "<!-- clusterphase_preferencemin_phase2Inputscrystalstructure -->\n",
       "<g id=\"node28\" class=\"node\">\n",
       "<title>clusterphase_preferencemin_phase2Inputscrystalstructure</title>\n",
       "<ellipse fill=\"#ff7f0e\" stroke=\"#ff7f0e\" cx=\"555.84\" cy=\"-128.25\" rx=\"76.48\" ry=\"18\"/>\n",
       "<text text-anchor=\"middle\" x=\"555.84\" y=\"-122.08\" font-family=\"Times,serif\" font-size=\"14.00\">crystalstructure: str</text>\n",
       "</g>\n",
       "<!-- clusterphase_preferenceInputsphase2&#45;&gt;clusterphase_preferencemin_phase2Inputscrystalstructure -->\n",
       "<g id=\"edge27\" class=\"edge\">\n",
       "<title>clusterphase_preferenceInputsphase2&#45;&gt;clusterphase_preferencemin_phase2Inputscrystalstructure</title>\n",
       "<path fill=\"none\" stroke=\"#ff7f0e\" d=\"M115.68,-309.92C127.63,-305.46 141.09,-300.28 153.25,-295.25 221.34,-267.08 263.04,-245.62 304.31,-224.93\"/>\n",
       "<path fill=\"none\" stroke=\"#ff7f0e\" d=\"M304.31,-224.93C347.73,-203.16 390.67,-182.24 463.36,-155.25 472.94,-151.69 483.21,-148.28 493.29,-145.16\"/>\n",
       "<polygon fill=\"#ff7f0e\" stroke=\"#ff7f0e\" points=\"494.1,-148.57 502.66,-142.32 492.07,-141.87 494.1,-148.57\"/>\n",
       "</g>\n",
       "<!-- clusterphase_preferenceInputslattice_guess2 -->\n",
       "<g id=\"node7\" class=\"node\">\n",
       "<title>clusterphase_preferenceInputslattice_guess2</title>\n",
       "<ellipse fill=\"#ff7f0e\" stroke=\"#ff7f0e\" cx=\"80.62\" cy=\"-268.25\" rx=\"58.83\" ry=\"18\"/>\n",
       "<text text-anchor=\"middle\" x=\"80.62\" y=\"-262.07\" font-family=\"Times,serif\" font-size=\"14.00\">lattice_guess2</text>\n",
       "</g>\n",
       "<!-- clusterphase_preferencemin_phase2Inputslattice_guess -->\n",
       "<g id=\"node29\" class=\"node\">\n",
       "<title>clusterphase_preferencemin_phase2Inputslattice_guess</title>\n",
       "<ellipse fill=\"#ff7f0e\" stroke=\"#ff7f0e\" cx=\"555.84\" cy=\"-74.25\" rx=\"54.54\" ry=\"18\"/>\n",
       "<text text-anchor=\"middle\" x=\"555.84\" y=\"-68.08\" font-family=\"Times,serif\" font-size=\"14.00\">lattice_guess</text>\n",
       "</g>\n",
       "<!-- clusterphase_preferenceInputslattice_guess2&#45;&gt;clusterphase_preferencemin_phase2Inputslattice_guess -->\n",
       "<g id=\"edge28\" class=\"edge\">\n",
       "<title>clusterphase_preferenceInputslattice_guess2&#45;&gt;clusterphase_preferencemin_phase2Inputslattice_guess</title>\n",
       "<path fill=\"none\" stroke=\"#ff7f0e\" d=\"M127.61,-257.18C136.92,-253.31 146.05,-248.14 153.25,-241.25 163.03,-231.89 155.46,-222.6 165.25,-213.25 212.22,-168.37 250.6,-150.57 291.36,-140.09\"/>\n",
       "<path fill=\"none\" stroke=\"#ff7f0e\" d=\"M291.36,-140.09C339.4,-127.74 390.75,-125.57 463.36,-101.25 475.87,-97.06 489.45,-92.86 502.23,-89.07\"/>\n",
       "<polygon fill=\"#ff7f0e\" stroke=\"#ff7f0e\" points=\"503.14,-92.45 511.75,-86.28 501.17,-85.73 503.14,-92.45\"/>\n",
       "</g>\n",
       "<!-- clusterphase_preferenceInputse1__item -->\n",
       "<g id=\"node8\" class=\"node\">\n",
       "<title>clusterphase_preferenceInputse1__item</title>\n",
       "<ellipse fill=\"#ff7f0e\" stroke=\"#ff7f0e\" cx=\"80.62\" cy=\"-646.25\" rx=\"42.61\" ry=\"18\"/>\n",
       "<text text-anchor=\"middle\" x=\"80.62\" y=\"-640.08\" font-family=\"Times,serif\" font-size=\"14.00\">e1__item</text>\n",
       "</g>\n",
       "<!-- clusterphase_preferencee1Inputsitem -->\n",
       "<g id=\"node36\" class=\"node\">\n",
       "<title>clusterphase_preferencee1Inputsitem</title>\n",
       "<ellipse fill=\"#ff7f0e\" stroke=\"#ff7f0e\" cx=\"853.41\" cy=\"-871.25\" rx=\"27\" ry=\"18\"/>\n",
       "<text text-anchor=\"middle\" x=\"853.41\" y=\"-865.08\" font-family=\"Times,serif\" font-size=\"14.00\">item</text>\n",
       "</g>\n",
       "<!-- clusterphase_preferenceInputse1__item&#45;&gt;clusterphase_preferencee1Inputsitem -->\n",
       "<g id=\"edge29\" class=\"edge\">\n",
       "<title>clusterphase_preferenceInputse1__item&#45;&gt;clusterphase_preferencee1Inputsitem</title>\n",
       "<path fill=\"none\" stroke=\"#ff7f0e\" d=\"M93.47,-663.91C130.63,-716.95 250.86,-871.25 391.93,-871.25 391.93,-871.25 391.93,-871.25 391.97,-871.25\"/>\n",
       "<path fill=\"none\" stroke=\"#ff7f0e\" d=\"M391.97,-871.25C392.6,-871.25 402.44,-871.25 556.84,-871.25 649.34,-871.25 758.13,-871.25 814.4,-871.25\"/>\n",
       "<polygon fill=\"#ff7f0e\" stroke=\"#ff7f0e\" points=\"814.4,-874.75 824.4,-871.25 814.4,-867.75 814.4,-874.75\"/>\n",
       "</g>\n",
       "<!-- clusterphase_preferenceInputse2__item -->\n",
       "<g id=\"node9\" class=\"node\">\n",
       "<title>clusterphase_preferenceInputse2__item</title>\n",
       "<ellipse fill=\"#ff7f0e\" stroke=\"#ff7f0e\" cx=\"80.62\" cy=\"-376.25\" rx=\"42.61\" ry=\"18\"/>\n",
       "<text text-anchor=\"middle\" x=\"80.62\" y=\"-370.07\" font-family=\"Times,serif\" font-size=\"14.00\">e2__item</text>\n",
       "</g>\n",
       "<!-- clusterphase_preferencee2Inputsitem -->\n",
       "<g id=\"node47\" class=\"node\">\n",
       "<title>clusterphase_preferencee2Inputsitem</title>\n",
       "<ellipse fill=\"#ff7f0e\" stroke=\"#ff7f0e\" cx=\"853.41\" cy=\"-361.25\" rx=\"27\" ry=\"18\"/>\n",
       "<text text-anchor=\"middle\" x=\"853.41\" y=\"-355.07\" font-family=\"Times,serif\" font-size=\"14.00\">item</text>\n",
       "</g>\n",
       "<!-- clusterphase_preferenceInputse2__item&#45;&gt;clusterphase_preferencee2Inputsitem -->\n",
       "<g id=\"edge30\" class=\"edge\">\n",
       "<title>clusterphase_preferenceInputse2__item&#45;&gt;clusterphase_preferencee2Inputsitem</title>\n",
       "<path fill=\"none\" stroke=\"#ff7f0e\" d=\"M123.61,-375.43C191.55,-374.11 332.1,-371.38 471.82,-368.66\"/>\n",
       "<path fill=\"none\" stroke=\"#ff7f0e\" d=\"M471.82,-368.66C611.54,-365.94 750.41,-363.23 814.97,-361.98\"/>\n",
       "<polygon fill=\"#ff7f0e\" stroke=\"#ff7f0e\" points=\"814.74,-365.48 824.67,-361.79 814.6,-358.49 814.74,-365.48\"/>\n",
       "</g>\n",
       "<!-- clusterphase_preferenceOutputscompare__sub -->\n",
       "<g id=\"node11\" class=\"node\">\n",
       "<title>clusterphase_preferenceOutputscompare__sub</title>\n",
       "<ellipse fill=\"#ff7f0e\" stroke=\"#ff7f0e\" cx=\"1657.1\" cy=\"-236.25\" rx=\"60.74\" ry=\"18\"/>\n",
       "<text text-anchor=\"middle\" x=\"1657.1\" y=\"-230.07\" font-family=\"Times,serif\" font-size=\"14.00\">compare__sub</text>\n",
       "</g>\n",
       "<!-- clusterphase_preferenceelementInputsrun -->\n",
       "<g id=\"node12\" class=\"node\">\n",
       "<title>clusterphase_preferenceelementInputsrun</title>\n",
       "<polygon fill=\"#1f77b4\" stroke=\"#1f77b4\" points=\"260.88,-549.25 218.88,-549.25 218.88,-525.25 260.88,-525.25 272.88,-537.25 260.88,-549.25\"/>\n",
       "<text text-anchor=\"middle\" x=\"245.88\" y=\"-531.08\" font-family=\"Times,serif\" font-size=\"14.00\">run</text>\n",
       "</g>\n",
       "<!-- clusterphase_preferenceelementOutputsran -->\n",
       "<g id=\"node15\" class=\"node\">\n",
       "<title>clusterphase_preferenceelementOutputsran</title>\n",
       "<polygon fill=\"#1f77b4\" stroke=\"#1f77b4\" points=\"407.93,-549.25 365.93,-549.25 365.93,-525.25 407.93,-525.25 419.93,-537.25 407.93,-549.25\"/>\n",
       "<text text-anchor=\"middle\" x=\"392.93\" y=\"-531.08\" font-family=\"Times,serif\" font-size=\"14.00\">ran</text>\n",
       "</g>\n",
       "<!-- clusterphase_preferenceelementInputsrun&#45;&gt;clusterphase_preferenceelementOutputsran -->\n",
       "<!-- clusterphase_preferenceelementInputsaccumulate_and_run -->\n",
       "<g id=\"node13\" class=\"node\">\n",
       "<title>clusterphase_preferenceelementInputsaccumulate_and_run</title>\n",
       "<polygon fill=\"#1f77b4\" stroke=\"#1f77b4\" points=\"298.5,-495.25 181.25,-495.25 181.25,-471.25 298.5,-471.25 310.5,-483.25 298.5,-495.25\"/>\n",
       "<text text-anchor=\"middle\" x=\"245.88\" y=\"-477.07\" font-family=\"Times,serif\" font-size=\"14.00\">accumulate_and_run</text>\n",
       "</g>\n",
       "<!-- clusterphase_preferenceelementOutputsuser_input -->\n",
       "<g id=\"node16\" class=\"node\">\n",
       "<title>clusterphase_preferenceelementOutputsuser_input</title>\n",
       "<ellipse fill=\"#ff7f0e\" stroke=\"#ff7f0e\" cx=\"392.93\" cy=\"-483.25\" rx=\"46.43\" ry=\"18\"/>\n",
       "<text text-anchor=\"middle\" x=\"392.93\" y=\"-477.07\" font-family=\"Times,serif\" font-size=\"14.00\">user_input</text>\n",
       "</g>\n",
       "<!-- clusterphase_preferencemin_phase1Inputselement -->\n",
       "<g id=\"node19\" class=\"node\">\n",
       "<title>clusterphase_preferencemin_phase1Inputselement</title>\n",
       "<ellipse fill=\"#ff7f0e\" stroke=\"#ff7f0e\" cx=\"555.84\" cy=\"-559.25\" rx=\"51.2\" ry=\"18\"/>\n",
       "<text text-anchor=\"middle\" x=\"555.84\" y=\"-553.08\" font-family=\"Times,serif\" font-size=\"14.00\">element: str</text>\n",
       "</g>\n",
       "<!-- clusterphase_preferenceelementOutputsuser_input&#45;&gt;clusterphase_preferencemin_phase1Inputselement -->\n",
       "<g id=\"edge12\" class=\"edge\">\n",
       "<title>clusterphase_preferenceelementOutputsuser_input&#45;&gt;clusterphase_preferencemin_phase1Inputselement</title>\n",
       "<path fill=\"none\" stroke=\"#ff7f0e\" d=\"M424.98,-496.59C434.75,-500.86 445.54,-505.68 455.36,-510.25 460.31,-512.56 465.38,-514.95 470.49,-517.39\"/>\n",
       "<path fill=\"none\" stroke=\"#ff7f0e\" d=\"M470.49,-517.39C485.87,-524.73 501.57,-532.44 515.19,-539.23\"/>\n",
       "<polygon fill=\"#ff7f0e\" stroke=\"#ff7f0e\" points=\"513.54,-542.31 524.05,-543.65 516.67,-536.05 513.54,-542.31\"/>\n",
       "</g>\n",
       "<!-- clusterphase_preferencemin_phase2Inputselement -->\n",
       "<g id=\"node27\" class=\"node\">\n",
       "<title>clusterphase_preferencemin_phase2Inputselement</title>\n",
       "<ellipse fill=\"#ff7f0e\" stroke=\"#ff7f0e\" cx=\"555.84\" cy=\"-182.25\" rx=\"51.2\" ry=\"18\"/>\n",
       "<text text-anchor=\"middle\" x=\"555.84\" y=\"-176.07\" font-family=\"Times,serif\" font-size=\"14.00\">element: str</text>\n",
       "</g>\n",
       "<!-- clusterphase_preferenceelementOutputsuser_input&#45;&gt;clusterphase_preferencemin_phase2Inputselement -->\n",
       "<g id=\"edge13\" class=\"edge\">\n",
       "<title>clusterphase_preferenceelementOutputsuser_input&#45;&gt;clusterphase_preferencemin_phase2Inputselement</title>\n",
       "<path fill=\"none\" stroke=\"#ff7f0e\" d=\"M398.51,-464.94C407.25,-429.98 426.82,-351.81 442.19,-291.05\"/>\n",
       "<path fill=\"none\" stroke=\"#ff7f0e\" d=\"M442.19,-291.05C453.71,-245.52 462.87,-209.76 463.36,-209.25 471.97,-200.3 483.4,-194.27 495.24,-190.23\"/>\n",
       "<polygon fill=\"#ff7f0e\" stroke=\"#ff7f0e\" points=\"496.1,-193.62 504.72,-187.47 494.14,-186.9 496.1,-193.62\"/>\n",
       "</g>\n",
       "<!-- clusterphase_preferencemin_phase1Inputsrun -->\n",
       "<g id=\"node17\" class=\"node\">\n",
       "<title>clusterphase_preferencemin_phase1Inputsrun</title>\n",
       "<polygon fill=\"#1f77b4\" stroke=\"#1f77b4\" points=\"570.84,-787.25 528.84,-787.25 528.84,-763.25 570.84,-763.25 582.84,-775.25 570.84,-787.25\"/>\n",
       "<text text-anchor=\"middle\" x=\"555.84\" y=\"-769.08\" font-family=\"Times,serif\" font-size=\"14.00\">run</text>\n",
       "</g>\n",
       "<!-- clusterphase_preferencemin_phase1Outputsran -->\n",
       "<g id=\"node22\" class=\"node\">\n",
       "<title>clusterphase_preferencemin_phase1Outputsran</title>\n",
       "<polygon fill=\"#1f77b4\" stroke=\"#1f77b4\" points=\"723.55,-787.25 681.55,-787.25 681.55,-763.25 723.55,-763.25 735.55,-775.25 723.55,-787.25\"/>\n",
       "<text text-anchor=\"middle\" x=\"708.55\" y=\"-769.08\" font-family=\"Times,serif\" font-size=\"14.00\">ran</text>\n",
       "</g>\n",
       "<!-- clusterphase_preferencemin_phase1Inputsrun&#45;&gt;clusterphase_preferencemin_phase1Outputsran -->\n",
       "<!-- clusterphase_preferencemin_phase1Inputsaccumulate_and_run -->\n",
       "<g id=\"node18\" class=\"node\">\n",
       "<title>clusterphase_preferencemin_phase1Inputsaccumulate_and_run</title>\n",
       "<polygon fill=\"#1f77b4\" stroke=\"#1f77b4\" points=\"608.47,-733.25 491.22,-733.25 491.22,-709.25 608.47,-709.25 620.47,-721.25 608.47,-733.25\"/>\n",
       "<text text-anchor=\"middle\" x=\"555.84\" y=\"-715.08\" font-family=\"Times,serif\" font-size=\"14.00\">accumulate_and_run</text>\n",
       "</g>\n",
       "<!-- clusterphase_preferencemin_phase1Outputsstructure -->\n",
       "<g id=\"node23\" class=\"node\">\n",
       "<title>clusterphase_preferencemin_phase1Outputsstructure</title>\n",
       "<ellipse fill=\"#ff7f0e\" stroke=\"#ff7f0e\" cx=\"708.55\" cy=\"-667.25\" rx=\"40.23\" ry=\"18\"/>\n",
       "<text text-anchor=\"middle\" x=\"708.55\" y=\"-661.08\" font-family=\"Times,serif\" font-size=\"14.00\">structure</text>\n",
       "</g>\n",
       "<!-- clusterphase_preferencen1Inputsobj -->\n",
       "<g id=\"node41\" class=\"node\">\n",
       "<title>clusterphase_preferencen1Inputsobj</title>\n",
       "<ellipse fill=\"#ff7f0e\" stroke=\"#ff7f0e\" cx=\"853.41\" cy=\"-589.25\" rx=\"27\" ry=\"18\"/>\n",
       "<text text-anchor=\"middle\" x=\"853.41\" y=\"-583.08\" font-family=\"Times,serif\" font-size=\"14.00\">obj</text>\n",
       "</g>\n",
       "<!-- clusterphase_preferencemin_phase1Outputsstructure&#45;&gt;clusterphase_preferencen1Inputsobj -->\n",
       "<g id=\"edge14\" class=\"edge\">\n",
       "<title>clusterphase_preferencemin_phase1Outputsstructure&#45;&gt;clusterphase_preferencen1Inputsobj</title>\n",
       "<path fill=\"none\" stroke=\"#ff7f0e\" d=\"M726.6,-650.71C737.6,-640.71 752.69,-628.14 768.17,-618.9\"/>\n",
       "<path fill=\"none\" stroke=\"#ff7f0e\" d=\"M768.17,-618.9C769.7,-617.98 771.24,-617.1 772.78,-616.25 786.4,-608.76 802.48,-602.82 816.6,-598.45\"/>\n",
       "<polygon fill=\"#ff7f0e\" stroke=\"#ff7f0e\" points=\"817.36,-601.88 825.98,-595.7 815.39,-595.16 817.36,-601.88\"/>\n",
       "</g>\n",
       "<!-- clusterphase_preferencemin_phase1Outputsenergy -->\n",
       "<g id=\"node24\" class=\"node\">\n",
       "<title>clusterphase_preferencemin_phase1Outputsenergy</title>\n",
       "<ellipse fill=\"#ff7f0e\" stroke=\"#ff7f0e\" cx=\"708.55\" cy=\"-721.25\" rx=\"33.55\" ry=\"18\"/>\n",
       "<text text-anchor=\"middle\" x=\"708.55\" y=\"-715.08\" font-family=\"Times,serif\" font-size=\"14.00\">energy</text>\n",
       "</g>\n",
       "<!-- clusterphase_preferencee1Inputsobj -->\n",
       "<g id=\"node35\" class=\"node\">\n",
       "<title>clusterphase_preferencee1Inputsobj</title>\n",
       "<ellipse fill=\"#ff7f0e\" stroke=\"#ff7f0e\" cx=\"853.41\" cy=\"-817.25\" rx=\"27\" ry=\"18\"/>\n",
       "<text text-anchor=\"middle\" x=\"853.41\" y=\"-811.08\" font-family=\"Times,serif\" font-size=\"14.00\">obj</text>\n",
       "</g>\n",
       "<!-- clusterphase_preferencemin_phase1Outputsenergy&#45;&gt;clusterphase_preferencee1Inputsobj -->\n",
       "<g id=\"edge15\" class=\"edge\">\n",
       "<title>clusterphase_preferencemin_phase1Outputsenergy&#45;&gt;clusterphase_preferencee1Inputsobj</title>\n",
       "<path fill=\"none\" stroke=\"#ff7f0e\" d=\"M735.46,-732.52C744.92,-737 755.56,-742.46 764.78,-748.25 771.24,-752.31 777.8,-756.76 784.26,-761.38\"/>\n",
       "<path fill=\"none\" stroke=\"#ff7f0e\" d=\"M784.26,-761.38C800.19,-772.77 815.56,-785.19 827.65,-795.43\"/>\n",
       "<polygon fill=\"#ff7f0e\" stroke=\"#ff7f0e\" points=\"825.36,-798.08 835.23,-801.94 829.92,-792.77 825.36,-798.08\"/>\n",
       "</g>\n",
       "<!-- clusterphase_preferencemin_phase2Inputsrun -->\n",
       "<g id=\"node25\" class=\"node\">\n",
       "<title>clusterphase_preferencemin_phase2Inputsrun</title>\n",
       "<polygon fill=\"#1f77b4\" stroke=\"#1f77b4\" points=\"570.84,-302.25 528.84,-302.25 528.84,-278.25 570.84,-278.25 582.84,-290.25 570.84,-302.25\"/>\n",
       "<text text-anchor=\"middle\" x=\"555.84\" y=\"-284.07\" font-family=\"Times,serif\" font-size=\"14.00\">run</text>\n",
       "</g>\n",
       "<!-- clusterphase_preferencemin_phase2Outputsran -->\n",
       "<g id=\"node30\" class=\"node\">\n",
       "<title>clusterphase_preferencemin_phase2Outputsran</title>\n",
       "<polygon fill=\"#1f77b4\" stroke=\"#1f77b4\" points=\"723.55,-302.25 681.55,-302.25 681.55,-278.25 723.55,-278.25 735.55,-290.25 723.55,-302.25\"/>\n",
       "<text text-anchor=\"middle\" x=\"708.55\" y=\"-284.07\" font-family=\"Times,serif\" font-size=\"14.00\">ran</text>\n",
       "</g>\n",
       "<!-- clusterphase_preferencemin_phase2Inputsrun&#45;&gt;clusterphase_preferencemin_phase2Outputsran -->\n",
       "<!-- clusterphase_preferencemin_phase2Inputsaccumulate_and_run -->\n",
       "<g id=\"node26\" class=\"node\">\n",
       "<title>clusterphase_preferencemin_phase2Inputsaccumulate_and_run</title>\n",
       "<polygon fill=\"#1f77b4\" stroke=\"#1f77b4\" points=\"608.47,-248.25 491.22,-248.25 491.22,-224.25 608.47,-224.25 620.47,-236.25 608.47,-248.25\"/>\n",
       "<text text-anchor=\"middle\" x=\"555.84\" y=\"-230.07\" font-family=\"Times,serif\" font-size=\"14.00\">accumulate_and_run</text>\n",
       "</g>\n",
       "<!-- clusterphase_preferencemin_phase2Outputsstructure -->\n",
       "<g id=\"node31\" class=\"node\">\n",
       "<title>clusterphase_preferencemin_phase2Outputsstructure</title>\n",
       "<ellipse fill=\"#ff7f0e\" stroke=\"#ff7f0e\" cx=\"708.55\" cy=\"-182.25\" rx=\"40.23\" ry=\"18\"/>\n",
       "<text text-anchor=\"middle\" x=\"708.55\" y=\"-176.07\" font-family=\"Times,serif\" font-size=\"14.00\">structure</text>\n",
       "</g>\n",
       "<!-- clusterphase_preferencen2Inputsobj -->\n",
       "<g id=\"node52\" class=\"node\">\n",
       "<title>clusterphase_preferencen2Inputsobj</title>\n",
       "<ellipse fill=\"#ff7f0e\" stroke=\"#ff7f0e\" cx=\"853.41\" cy=\"-79.25\" rx=\"27\" ry=\"18\"/>\n",
       "<text text-anchor=\"middle\" x=\"853.41\" y=\"-73.08\" font-family=\"Times,serif\" font-size=\"14.00\">obj</text>\n",
       "</g>\n",
       "<!-- clusterphase_preferencemin_phase2Outputsstructure&#45;&gt;clusterphase_preferencen2Inputsobj -->\n",
       "<g id=\"edge16\" class=\"edge\">\n",
       "<title>clusterphase_preferencemin_phase2Outputsstructure&#45;&gt;clusterphase_preferencen2Inputsobj</title>\n",
       "<path fill=\"none\" stroke=\"#ff7f0e\" d=\"M720.01,-164.76C728.87,-151.05 742.81,-131.82 759.6,-116.72\"/>\n",
       "<path fill=\"none\" stroke=\"#ff7f0e\" d=\"M759.6,-116.72C763.82,-112.92 768.23,-109.38 772.78,-106.25 785.69,-97.38 801.77,-91.2 816.09,-87.02\"/>\n",
       "<polygon fill=\"#ff7f0e\" stroke=\"#ff7f0e\" points=\"816.89,-90.43 825.64,-84.47 815.08,-83.67 816.89,-90.43\"/>\n",
       "</g>\n",
       "<!-- clusterphase_preferencemin_phase2Outputsenergy -->\n",
       "<g id=\"node32\" class=\"node\">\n",
       "<title>clusterphase_preferencemin_phase2Outputsenergy</title>\n",
       "<ellipse fill=\"#ff7f0e\" stroke=\"#ff7f0e\" cx=\"708.55\" cy=\"-236.25\" rx=\"33.55\" ry=\"18\"/>\n",
       "<text text-anchor=\"middle\" x=\"708.55\" y=\"-230.07\" font-family=\"Times,serif\" font-size=\"14.00\">energy</text>\n",
       "</g>\n",
       "<!-- clusterphase_preferencee2Inputsobj -->\n",
       "<g id=\"node46\" class=\"node\">\n",
       "<title>clusterphase_preferencee2Inputsobj</title>\n",
       "<ellipse fill=\"#ff7f0e\" stroke=\"#ff7f0e\" cx=\"853.41\" cy=\"-307.25\" rx=\"27\" ry=\"18\"/>\n",
       "<text text-anchor=\"middle\" x=\"853.41\" y=\"-301.07\" font-family=\"Times,serif\" font-size=\"14.00\">obj</text>\n",
       "</g>\n",
       "<!-- clusterphase_preferencemin_phase2Outputsenergy&#45;&gt;clusterphase_preferencee2Inputsobj -->\n",
       "<g id=\"edge17\" class=\"edge\">\n",
       "<title>clusterphase_preferencemin_phase2Outputsenergy&#45;&gt;clusterphase_preferencee2Inputsobj</title>\n",
       "<path fill=\"none\" stroke=\"#ff7f0e\" d=\"M734.32,-248.29C743.85,-252.94 754.83,-258.32 764.78,-263.25 769.14,-265.41 773.63,-267.64 778.15,-269.9\"/>\n",
       "<path fill=\"none\" stroke=\"#ff7f0e\" d=\"M778.15,-269.9C793.13,-277.36 808.52,-285.09 821.38,-291.57\"/>\n",
       "<polygon fill=\"#ff7f0e\" stroke=\"#ff7f0e\" points=\"819.33,-294.46 829.84,-295.84 822.48,-288.21 819.33,-294.46\"/>\n",
       "</g>\n",
       "<!-- clusterphase_preferencee1Inputsrun -->\n",
       "<g id=\"node33\" class=\"node\">\n",
       "<title>clusterphase_preferencee1Inputsrun</title>\n",
       "<polygon fill=\"#1f77b4\" stroke=\"#1f77b4\" points=\"868.41,-991.25 826.41,-991.25 826.41,-967.25 868.41,-967.25 880.41,-979.25 868.41,-991.25\"/>\n",
       "<text text-anchor=\"middle\" x=\"853.41\" y=\"-973.08\" font-family=\"Times,serif\" font-size=\"14.00\">run</text>\n",
       "</g>\n",
       "<!-- clusterphase_preferencee1Outputsran -->\n",
       "<g id=\"node37\" class=\"node\">\n",
       "<title>clusterphase_preferencee1Outputsran</title>\n",
       "<polygon fill=\"#1f77b4\" stroke=\"#1f77b4\" points=\"1005.44,-937.25 963.44,-937.25 963.44,-913.25 1005.44,-913.25 1017.44,-925.25 1005.44,-937.25\"/>\n",
       "<text text-anchor=\"middle\" x=\"990.44\" y=\"-919.08\" font-family=\"Times,serif\" font-size=\"14.00\">ran</text>\n",
       "</g>\n",
       "<!-- clusterphase_preferencee1Inputsrun&#45;&gt;clusterphase_preferencee1Outputsran -->\n",
       "<!-- clusterphase_preferencee1Inputsaccumulate_and_run -->\n",
       "<g id=\"node34\" class=\"node\">\n",
       "<title>clusterphase_preferencee1Inputsaccumulate_and_run</title>\n",
       "<polygon fill=\"#1f77b4\" stroke=\"#1f77b4\" points=\"906.03,-937.25 788.78,-937.25 788.78,-913.25 906.03,-913.25 918.03,-925.25 906.03,-937.25\"/>\n",
       "<text text-anchor=\"middle\" x=\"853.41\" y=\"-919.08\" font-family=\"Times,serif\" font-size=\"14.00\">accumulate_and_run</text>\n",
       "</g>\n",
       "<!-- clusterphase_preferencee1Outputsgetitem -->\n",
       "<g id=\"node38\" class=\"node\">\n",
       "<title>clusterphase_preferencee1Outputsgetitem</title>\n",
       "<ellipse fill=\"#ff7f0e\" stroke=\"#ff7f0e\" cx=\"990.44\" cy=\"-871.25\" rx=\"36.41\" ry=\"18\"/>\n",
       "<text text-anchor=\"middle\" x=\"990.44\" y=\"-865.08\" font-family=\"Times,serif\" font-size=\"14.00\">getitem</text>\n",
       "</g>\n",
       "<!-- clusterphase_preferencee1__getitem_Divide_n1__lenInputsobj -->\n",
       "<g id=\"node63\" class=\"node\">\n",
       "<title>clusterphase_preferencee1__getitem_Divide_n1__lenInputsobj</title>\n",
       "<ellipse fill=\"#ff7f0e\" stroke=\"#ff7f0e\" cx=\"1131.48\" cy=\"-697.25\" rx=\"27\" ry=\"18\"/>\n",
       "<text text-anchor=\"middle\" x=\"1131.48\" y=\"-691.08\" font-family=\"Times,serif\" font-size=\"14.00\">obj</text>\n",
       "</g>\n",
       "<!-- clusterphase_preferencee1Outputsgetitem&#45;&gt;clusterphase_preferencee1__getitem_Divide_n1__lenInputsobj -->\n",
       "<g id=\"edge18\" class=\"edge\">\n",
       "<title>clusterphase_preferencee1Outputsgetitem&#45;&gt;clusterphase_preferencee1__getitem_Divide_n1__lenInputsobj</title>\n",
       "<path fill=\"none\" stroke=\"#ff7f0e\" d=\"M999.44,-853.67C1008.43,-833.64 1023.46,-799.39 1036.34,-766.37\"/>\n",
       "<path fill=\"none\" stroke=\"#ff7f0e\" d=\"M1036.34,-766.37C1038.59,-760.6 1040.78,-754.86 1042.85,-749.25 1046.9,-738.31 1042.68,-732.57 1050.85,-724.25 1062.11,-712.8 1078.39,-706.21 1093.29,-702.41\"/>\n",
       "<polygon fill=\"#ff7f0e\" stroke=\"#ff7f0e\" points=\"1093.81,-705.88 1102.84,-700.34 1092.33,-699.04 1093.81,-705.88\"/>\n",
       "</g>\n",
       "<!-- clusterphase_preferencen1Inputsrun -->\n",
       "<g id=\"node39\" class=\"node\">\n",
       "<title>clusterphase_preferencen1Inputsrun</title>\n",
       "<polygon fill=\"#1f77b4\" stroke=\"#1f77b4\" points=\"868.41,-709.25 826.41,-709.25 826.41,-685.25 868.41,-685.25 880.41,-697.25 868.41,-709.25\"/>\n",
       "<text text-anchor=\"middle\" x=\"853.41\" y=\"-691.08\" font-family=\"Times,serif\" font-size=\"14.00\">run</text>\n",
       "</g>\n",
       "<!-- clusterphase_preferencen1Outputsran -->\n",
       "<g id=\"node42\" class=\"node\">\n",
       "<title>clusterphase_preferencen1Outputsran</title>\n",
       "<polygon fill=\"#1f77b4\" stroke=\"#1f77b4\" points=\"1005.44,-709.25 963.44,-709.25 963.44,-685.25 1005.44,-685.25 1017.44,-697.25 1005.44,-709.25\"/>\n",
       "<text text-anchor=\"middle\" x=\"990.44\" y=\"-691.08\" font-family=\"Times,serif\" font-size=\"14.00\">ran</text>\n",
       "</g>\n",
       "<!-- clusterphase_preferencen1Inputsrun&#45;&gt;clusterphase_preferencen1Outputsran -->\n",
       "<!-- clusterphase_preferencen1Inputsaccumulate_and_run -->\n",
       "<g id=\"node40\" class=\"node\">\n",
       "<title>clusterphase_preferencen1Inputsaccumulate_and_run</title>\n",
       "<polygon fill=\"#1f77b4\" stroke=\"#1f77b4\" points=\"906.03,-655.25 788.78,-655.25 788.78,-631.25 906.03,-631.25 918.03,-643.25 906.03,-655.25\"/>\n",
       "<text text-anchor=\"middle\" x=\"853.41\" y=\"-637.08\" font-family=\"Times,serif\" font-size=\"14.00\">accumulate_and_run</text>\n",
       "</g>\n",
       "<!-- clusterphase_preferencen1Outputslen -->\n",
       "<g id=\"node43\" class=\"node\">\n",
       "<title>clusterphase_preferencen1Outputslen</title>\n",
       "<ellipse fill=\"#ff7f0e\" stroke=\"#ff7f0e\" cx=\"990.44\" cy=\"-643.25\" rx=\"27\" ry=\"18\"/>\n",
       "<text text-anchor=\"middle\" x=\"990.44\" y=\"-637.08\" font-family=\"Times,serif\" font-size=\"14.00\">len</text>\n",
       "</g>\n",
       "<!-- clusterphase_preferencee1__getitem_Divide_n1__lenInputsother -->\n",
       "<g id=\"node64\" class=\"node\">\n",
       "<title>clusterphase_preferencee1__getitem_Divide_n1__lenInputsother</title>\n",
       "<ellipse fill=\"#ff7f0e\" stroke=\"#ff7f0e\" cx=\"1131.48\" cy=\"-643.25\" rx=\"27.83\" ry=\"18\"/>\n",
       "<text text-anchor=\"middle\" x=\"1131.48\" y=\"-637.08\" font-family=\"Times,serif\" font-size=\"14.00\">other</text>\n",
       "</g>\n",
       "<!-- clusterphase_preferencen1Outputslen&#45;&gt;clusterphase_preferencee1__getitem_Divide_n1__lenInputsother -->\n",
       "<g id=\"edge19\" class=\"edge\">\n",
       "<title>clusterphase_preferencen1Outputslen&#45;&gt;clusterphase_preferencee1__getitem_Divide_n1__lenInputsother</title>\n",
       "<path fill=\"none\" stroke=\"#ff7f0e\" d=\"M1017.92,-643.25C1028.44,-643.25 1041.12,-643.25 1054.12,-643.25\"/>\n",
       "<path fill=\"none\" stroke=\"#ff7f0e\" d=\"M1054.12,-643.25C1067.12,-643.25 1080.45,-643.25 1092.25,-643.25\"/>\n",
       "<polygon fill=\"#ff7f0e\" stroke=\"#ff7f0e\" points=\"1092.11,-646.75 1102.11,-643.25 1092.11,-639.75 1092.11,-646.75\"/>\n",
       "</g>\n",
       "<!-- clusterphase_preferencee2Inputsrun -->\n",
       "<g id=\"node44\" class=\"node\">\n",
       "<title>clusterphase_preferencee2Inputsrun</title>\n",
       "<polygon fill=\"#1f77b4\" stroke=\"#1f77b4\" points=\"868.41,-481.25 826.41,-481.25 826.41,-457.25 868.41,-457.25 880.41,-469.25 868.41,-481.25\"/>\n",
       "<text text-anchor=\"middle\" x=\"853.41\" y=\"-463.07\" font-family=\"Times,serif\" font-size=\"14.00\">run</text>\n",
       "</g>\n",
       "<!-- clusterphase_preferencee2Outputsran -->\n",
       "<g id=\"node48\" class=\"node\">\n",
       "<title>clusterphase_preferencee2Outputsran</title>\n",
       "<polygon fill=\"#1f77b4\" stroke=\"#1f77b4\" points=\"1005.44,-427.25 963.44,-427.25 963.44,-403.25 1005.44,-403.25 1017.44,-415.25 1005.44,-427.25\"/>\n",
       "<text text-anchor=\"middle\" x=\"990.44\" y=\"-409.07\" font-family=\"Times,serif\" font-size=\"14.00\">ran</text>\n",
       "</g>\n",
       "<!-- clusterphase_preferencee2Inputsrun&#45;&gt;clusterphase_preferencee2Outputsran -->\n",
       "<!-- clusterphase_preferencee2Inputsaccumulate_and_run -->\n",
       "<g id=\"node45\" class=\"node\">\n",
       "<title>clusterphase_preferencee2Inputsaccumulate_and_run</title>\n",
       "<polygon fill=\"#1f77b4\" stroke=\"#1f77b4\" points=\"906.03,-427.25 788.78,-427.25 788.78,-403.25 906.03,-403.25 918.03,-415.25 906.03,-427.25\"/>\n",
       "<text text-anchor=\"middle\" x=\"853.41\" y=\"-409.07\" font-family=\"Times,serif\" font-size=\"14.00\">accumulate_and_run</text>\n",
       "</g>\n",
       "<!-- clusterphase_preferencee2Outputsgetitem -->\n",
       "<g id=\"node49\" class=\"node\">\n",
       "<title>clusterphase_preferencee2Outputsgetitem</title>\n",
       "<ellipse fill=\"#ff7f0e\" stroke=\"#ff7f0e\" cx=\"990.44\" cy=\"-361.25\" rx=\"36.41\" ry=\"18\"/>\n",
       "<text text-anchor=\"middle\" x=\"990.44\" y=\"-355.07\" font-family=\"Times,serif\" font-size=\"14.00\">getitem</text>\n",
       "</g>\n",
       "<!-- clusterphase_preferencee2__getitem_Divide_n2__lenInputsobj -->\n",
       "<g id=\"node57\" class=\"node\">\n",
       "<title>clusterphase_preferencee2__getitem_Divide_n2__lenInputsobj</title>\n",
       "<ellipse fill=\"#ff7f0e\" stroke=\"#ff7f0e\" cx=\"1131.48\" cy=\"-247.25\" rx=\"27\" ry=\"18\"/>\n",
       "<text text-anchor=\"middle\" x=\"1131.48\" y=\"-241.07\" font-family=\"Times,serif\" font-size=\"14.00\">obj</text>\n",
       "</g>\n",
       "<!-- clusterphase_preferencee2Outputsgetitem&#45;&gt;clusterphase_preferencee2__getitem_Divide_n2__lenInputsobj -->\n",
       "<g id=\"edge20\" class=\"edge\">\n",
       "<title>clusterphase_preferencee2Outputsgetitem&#45;&gt;clusterphase_preferencee2__getitem_Divide_n2__lenInputsobj</title>\n",
       "<path fill=\"none\" stroke=\"#ff7f0e\" d=\"M999.34,-343.36C1006.69,-328.22 1018.97,-306.23 1035.3,-288.54\"/>\n",
       "<path fill=\"none\" stroke=\"#ff7f0e\" d=\"M1035.3,-288.54C1040.14,-283.3 1045.33,-278.44 1050.85,-274.25 1063.33,-264.78 1079.34,-258.5 1093.73,-254.41\"/>\n",
       "<polygon fill=\"#ff7f0e\" stroke=\"#ff7f0e\" points=\"1094.53,-257.82 1103.35,-251.95 1092.8,-251.03 1094.53,-257.82\"/>\n",
       "</g>\n",
       "<!-- clusterphase_preferencen2Inputsrun -->\n",
       "<g id=\"node50\" class=\"node\">\n",
       "<title>clusterphase_preferencen2Inputsrun</title>\n",
       "<polygon fill=\"#1f77b4\" stroke=\"#1f77b4\" points=\"868.41,-199.25 826.41,-199.25 826.41,-175.25 868.41,-175.25 880.41,-187.25 868.41,-199.25\"/>\n",
       "<text text-anchor=\"middle\" x=\"853.41\" y=\"-181.07\" font-family=\"Times,serif\" font-size=\"14.00\">run</text>\n",
       "</g>\n",
       "<!-- clusterphase_preferencen2Outputsran -->\n",
       "<g id=\"node53\" class=\"node\">\n",
       "<title>clusterphase_preferencen2Outputsran</title>\n",
       "<polygon fill=\"#1f77b4\" stroke=\"#1f77b4\" points=\"1005.44,-199.25 963.44,-199.25 963.44,-175.25 1005.44,-175.25 1017.44,-187.25 1005.44,-199.25\"/>\n",
       "<text text-anchor=\"middle\" x=\"990.44\" y=\"-181.07\" font-family=\"Times,serif\" font-size=\"14.00\">ran</text>\n",
       "</g>\n",
       "<!-- clusterphase_preferencen2Inputsrun&#45;&gt;clusterphase_preferencen2Outputsran -->\n",
       "<!-- clusterphase_preferencen2Inputsaccumulate_and_run -->\n",
       "<g id=\"node51\" class=\"node\">\n",
       "<title>clusterphase_preferencen2Inputsaccumulate_and_run</title>\n",
       "<polygon fill=\"#1f77b4\" stroke=\"#1f77b4\" points=\"906.03,-145.25 788.78,-145.25 788.78,-121.25 906.03,-121.25 918.03,-133.25 906.03,-145.25\"/>\n",
       "<text text-anchor=\"middle\" x=\"853.41\" y=\"-127.08\" font-family=\"Times,serif\" font-size=\"14.00\">accumulate_and_run</text>\n",
       "</g>\n",
       "<!-- clusterphase_preferencen2Outputslen -->\n",
       "<g id=\"node54\" class=\"node\">\n",
       "<title>clusterphase_preferencen2Outputslen</title>\n",
       "<ellipse fill=\"#ff7f0e\" stroke=\"#ff7f0e\" cx=\"990.44\" cy=\"-133.25\" rx=\"27\" ry=\"18\"/>\n",
       "<text text-anchor=\"middle\" x=\"990.44\" y=\"-127.08\" font-family=\"Times,serif\" font-size=\"14.00\">len</text>\n",
       "</g>\n",
       "<!-- clusterphase_preferencee2__getitem_Divide_n2__lenInputsother -->\n",
       "<g id=\"node58\" class=\"node\">\n",
       "<title>clusterphase_preferencee2__getitem_Divide_n2__lenInputsother</title>\n",
       "<ellipse fill=\"#ff7f0e\" stroke=\"#ff7f0e\" cx=\"1131.48\" cy=\"-193.25\" rx=\"27.83\" ry=\"18\"/>\n",
       "<text text-anchor=\"middle\" x=\"1131.48\" y=\"-187.07\" font-family=\"Times,serif\" font-size=\"14.00\">other</text>\n",
       "</g>\n",
       "<!-- clusterphase_preferencen2Outputslen&#45;&gt;clusterphase_preferencee2__getitem_Divide_n2__lenInputsother -->\n",
       "<g id=\"edge21\" class=\"edge\">\n",
       "<title>clusterphase_preferencen2Outputslen&#45;&gt;clusterphase_preferencee2__getitem_Divide_n2__lenInputsother</title>\n",
       "<path fill=\"none\" stroke=\"#ff7f0e\" d=\"M1013.78,-142.89C1025.07,-147.76 1039.49,-153.98 1054.32,-160.38\"/>\n",
       "<path fill=\"none\" stroke=\"#ff7f0e\" d=\"M1054.32,-160.38C1069.15,-166.78 1084.39,-173.36 1097.3,-178.93\"/>\n",
       "<polygon fill=\"#ff7f0e\" stroke=\"#ff7f0e\" points=\"1095.78,-182.09 1106.34,-182.83 1098.55,-175.66 1095.78,-182.09\"/>\n",
       "</g>\n",
       "<!-- clusterphase_preferencee2__getitem_Divide_n2__lenInputsrun -->\n",
       "<g id=\"node55\" class=\"node\">\n",
       "<title>clusterphase_preferencee2__getitem_Divide_n2__lenInputsrun</title>\n",
       "<polygon fill=\"#1f77b4\" stroke=\"#1f77b4\" points=\"1146.48,-367.25 1104.48,-367.25 1104.48,-343.25 1146.48,-343.25 1158.48,-355.25 1146.48,-367.25\"/>\n",
       "<text text-anchor=\"middle\" x=\"1131.48\" y=\"-349.07\" font-family=\"Times,serif\" font-size=\"14.00\">run</text>\n",
       "</g>\n",
       "<!-- clusterphase_preferencee2__getitem_Divide_n2__lenOutputsran -->\n",
       "<g id=\"node59\" class=\"node\">\n",
       "<title>clusterphase_preferencee2__getitem_Divide_n2__lenOutputsran</title>\n",
       "<polygon fill=\"#1f77b4\" stroke=\"#1f77b4\" points=\"1281.61,-367.25 1239.61,-367.25 1239.61,-343.25 1281.61,-343.25 1293.61,-355.25 1281.61,-367.25\"/>\n",
       "<text text-anchor=\"middle\" x=\"1266.61\" y=\"-349.07\" font-family=\"Times,serif\" font-size=\"14.00\">ran</text>\n",
       "</g>\n",
       "<!-- clusterphase_preferencee2__getitem_Divide_n2__lenInputsrun&#45;&gt;clusterphase_preferencee2__getitem_Divide_n2__lenOutputsran -->\n",
       "<!-- clusterphase_preferencee2__getitem_Divide_n2__lenInputsaccumulate_and_run -->\n",
       "<g id=\"node56\" class=\"node\">\n",
       "<title>clusterphase_preferencee2__getitem_Divide_n2__lenInputsaccumulate_and_run</title>\n",
       "<polygon fill=\"#1f77b4\" stroke=\"#1f77b4\" points=\"1184.1,-313.25 1066.85,-313.25 1066.85,-289.25 1184.1,-289.25 1196.1,-301.25 1184.1,-313.25\"/>\n",
       "<text text-anchor=\"middle\" x=\"1131.48\" y=\"-295.07\" font-family=\"Times,serif\" font-size=\"14.00\">accumulate_and_run</text>\n",
       "</g>\n",
       "<!-- clusterphase_preferencee2__getitem_Divide_n2__lenOutputstruediv -->\n",
       "<g id=\"node60\" class=\"node\">\n",
       "<title>clusterphase_preferencee2__getitem_Divide_n2__lenOutputstruediv</title>\n",
       "<ellipse fill=\"#ff7f0e\" stroke=\"#ff7f0e\" cx=\"1266.61\" cy=\"-301.25\" rx=\"34.5\" ry=\"18\"/>\n",
       "<text text-anchor=\"middle\" x=\"1266.61\" y=\"-295.07\" font-family=\"Times,serif\" font-size=\"14.00\">truediv</text>\n",
       "</g>\n",
       "<!-- clusterphase_preferencecompareInputsobj -->\n",
       "<g id=\"node69\" class=\"node\">\n",
       "<title>clusterphase_preferencecompareInputsobj</title>\n",
       "<ellipse fill=\"#ff7f0e\" stroke=\"#ff7f0e\" cx=\"1405.74\" cy=\"-301.25\" rx=\"27\" ry=\"18\"/>\n",
       "<text text-anchor=\"middle\" x=\"1405.74\" y=\"-295.07\" font-family=\"Times,serif\" font-size=\"14.00\">obj</text>\n",
       "</g>\n",
       "<!-- clusterphase_preferencee2__getitem_Divide_n2__lenOutputstruediv&#45;&gt;clusterphase_preferencecompareInputsobj -->\n",
       "<g id=\"edge22\" class=\"edge\">\n",
       "<title>clusterphase_preferencee2__getitem_Divide_n2__lenOutputstruediv&#45;&gt;clusterphase_preferencecompareInputsobj</title>\n",
       "<path fill=\"none\" stroke=\"#ff7f0e\" d=\"M1301.51,-301.25C1311.45,-301.25 1322.72,-301.25 1334.06,-301.25\"/>\n",
       "<path fill=\"none\" stroke=\"#ff7f0e\" d=\"M1334.06,-301.25C1345.4,-301.25 1356.82,-301.25 1367.08,-301.25\"/>\n",
       "<polygon fill=\"#ff7f0e\" stroke=\"#ff7f0e\" points=\"1367.02,-304.75 1377.02,-301.25 1367.02,-297.75 1367.02,-304.75\"/>\n",
       "</g>\n",
       "<!-- clusterphase_preferencee1__getitem_Divide_n1__lenInputsrun -->\n",
       "<g id=\"node61\" class=\"node\">\n",
       "<title>clusterphase_preferencee1__getitem_Divide_n1__lenInputsrun</title>\n",
       "<polygon fill=\"#1f77b4\" stroke=\"#1f77b4\" points=\"1146.48,-817.25 1104.48,-817.25 1104.48,-793.25 1146.48,-793.25 1158.48,-805.25 1146.48,-817.25\"/>\n",
       "<text text-anchor=\"middle\" x=\"1131.48\" y=\"-799.08\" font-family=\"Times,serif\" font-size=\"14.00\">run</text>\n",
       "</g>\n",
       "<!-- clusterphase_preferencee1__getitem_Divide_n1__lenOutputsran -->\n",
       "<g id=\"node65\" class=\"node\">\n",
       "<title>clusterphase_preferencee1__getitem_Divide_n1__lenOutputsran</title>\n",
       "<polygon fill=\"#1f77b4\" stroke=\"#1f77b4\" points=\"1281.61,-763.25 1239.61,-763.25 1239.61,-739.25 1281.61,-739.25 1293.61,-751.25 1281.61,-763.25\"/>\n",
       "<text text-anchor=\"middle\" x=\"1266.61\" y=\"-745.08\" font-family=\"Times,serif\" font-size=\"14.00\">ran</text>\n",
       "</g>\n",
       "<!-- clusterphase_preferencee1__getitem_Divide_n1__lenInputsrun&#45;&gt;clusterphase_preferencee1__getitem_Divide_n1__lenOutputsran -->\n",
       "<!-- clusterphase_preferencee1__getitem_Divide_n1__lenInputsaccumulate_and_run -->\n",
       "<g id=\"node62\" class=\"node\">\n",
       "<title>clusterphase_preferencee1__getitem_Divide_n1__lenInputsaccumulate_and_run</title>\n",
       "<polygon fill=\"#1f77b4\" stroke=\"#1f77b4\" points=\"1184.1,-763.25 1066.85,-763.25 1066.85,-739.25 1184.1,-739.25 1196.1,-751.25 1184.1,-763.25\"/>\n",
       "<text text-anchor=\"middle\" x=\"1131.48\" y=\"-745.08\" font-family=\"Times,serif\" font-size=\"14.00\">accumulate_and_run</text>\n",
       "</g>\n",
       "<!-- clusterphase_preferencee1__getitem_Divide_n1__lenOutputstruediv -->\n",
       "<g id=\"node66\" class=\"node\">\n",
       "<title>clusterphase_preferencee1__getitem_Divide_n1__lenOutputstruediv</title>\n",
       "<ellipse fill=\"#ff7f0e\" stroke=\"#ff7f0e\" cx=\"1266.61\" cy=\"-697.25\" rx=\"34.5\" ry=\"18\"/>\n",
       "<text text-anchor=\"middle\" x=\"1266.61\" y=\"-691.08\" font-family=\"Times,serif\" font-size=\"14.00\">truediv</text>\n",
       "</g>\n",
       "<!-- clusterphase_preferencecompareInputsother -->\n",
       "<g id=\"node70\" class=\"node\">\n",
       "<title>clusterphase_preferencecompareInputsother</title>\n",
       "<ellipse fill=\"#ff7f0e\" stroke=\"#ff7f0e\" cx=\"1405.74\" cy=\"-355.25\" rx=\"27.83\" ry=\"18\"/>\n",
       "<text text-anchor=\"middle\" x=\"1405.74\" y=\"-349.07\" font-family=\"Times,serif\" font-size=\"14.00\">other</text>\n",
       "</g>\n",
       "<!-- clusterphase_preferencee1__getitem_Divide_n1__lenOutputstruediv&#45;&gt;clusterphase_preferencecompareInputsother -->\n",
       "<g id=\"edge23\" class=\"edge\">\n",
       "<title>clusterphase_preferencee1__getitem_Divide_n1__lenOutputstruediv&#45;&gt;clusterphase_preferencecompareInputsother</title>\n",
       "<path fill=\"none\" stroke=\"#ff7f0e\" d=\"M1270.38,-679.25C1276.24,-641.41 1290.41,-551.26 1303.2,-480.05\"/>\n",
       "<path fill=\"none\" stroke=\"#ff7f0e\" d=\"M1303.2,-480.05C1312.44,-428.61 1320.96,-387.06 1325.11,-382.25 1335.6,-370.1 1351.77,-363.41 1366.81,-359.72\"/>\n",
       "<polygon fill=\"#ff7f0e\" stroke=\"#ff7f0e\" points=\"1367.39,-363.18 1376.49,-357.75 1365.99,-356.32 1367.39,-363.18\"/>\n",
       "</g>\n",
       "<!-- clusterphase_preferencecompareInputsrun -->\n",
       "<g id=\"node67\" class=\"node\">\n",
       "<title>clusterphase_preferencecompareInputsrun</title>\n",
       "<polygon fill=\"#1f77b4\" stroke=\"#1f77b4\" points=\"1420.74,-475.25 1378.74,-475.25 1378.74,-451.25 1420.74,-451.25 1432.74,-463.25 1420.74,-475.25\"/>\n",
       "<text text-anchor=\"middle\" x=\"1405.74\" y=\"-457.07\" font-family=\"Times,serif\" font-size=\"14.00\">run</text>\n",
       "</g>\n",
       "<!-- clusterphase_preferencecompareOutputsran -->\n",
       "<g id=\"node71\" class=\"node\">\n",
       "<title>clusterphase_preferencecompareOutputsran</title>\n",
       "<polygon fill=\"#1f77b4\" stroke=\"#1f77b4\" points=\"1548.36,-421.25 1506.36,-421.25 1506.36,-397.25 1548.36,-397.25 1560.36,-409.25 1548.36,-421.25\"/>\n",
       "<text text-anchor=\"middle\" x=\"1533.36\" y=\"-403.07\" font-family=\"Times,serif\" font-size=\"14.00\">ran</text>\n",
       "</g>\n",
       "<!-- clusterphase_preferencecompareInputsrun&#45;&gt;clusterphase_preferencecompareOutputsran -->\n",
       "<!-- clusterphase_preferencecompareInputsaccumulate_and_run -->\n",
       "<g id=\"node68\" class=\"node\">\n",
       "<title>clusterphase_preferencecompareInputsaccumulate_and_run</title>\n",
       "<polygon fill=\"#1f77b4\" stroke=\"#1f77b4\" points=\"1458.36,-421.25 1341.11,-421.25 1341.11,-397.25 1458.36,-397.25 1470.36,-409.25 1458.36,-421.25\"/>\n",
       "<text text-anchor=\"middle\" x=\"1405.74\" y=\"-403.07\" font-family=\"Times,serif\" font-size=\"14.00\">accumulate_and_run</text>\n",
       "</g>\n",
       "<!-- clusterphase_preferencecompareOutputssub -->\n",
       "<g id=\"node72\" class=\"node\">\n",
       "<title>clusterphase_preferencecompareOutputssub</title>\n",
       "<ellipse fill=\"#ff7f0e\" stroke=\"#ff7f0e\" cx=\"1533.36\" cy=\"-355.25\" rx=\"27\" ry=\"18\"/>\n",
       "<text text-anchor=\"middle\" x=\"1533.36\" y=\"-349.07\" font-family=\"Times,serif\" font-size=\"14.00\">sub</text>\n",
       "</g>\n",
       "<!-- clusterphase_preferencecompareOutputssub&#45;&gt;clusterphase_preferenceOutputscompare__sub -->\n",
       "<g id=\"edge31\" class=\"edge\">\n",
       "<title>clusterphase_preferencecompareOutputssub&#45;&gt;clusterphase_preferenceOutputscompare__sub</title>\n",
       "<path fill=\"none\" stroke=\"#ff7f0e\" d=\"M1549.29,-340.66C1559.34,-330.83 1573.39,-317.1 1588.01,-302.81\"/>\n",
       "<path fill=\"none\" stroke=\"#ff7f0e\" d=\"M1588.01,-302.81C1602.62,-288.53 1617.8,-273.69 1630.1,-261.66\"/>\n",
       "<polygon fill=\"#ff7f0e\" stroke=\"#ff7f0e\" points=\"1632.5,-264.22 1637.21,-254.72 1627.61,-259.21 1632.5,-264.22\"/>\n",
       "</g>\n",
       "</g>\n",
       "</svg>\n"
      ],
      "text/plain": [
       "<graphviz.graphs.Digraph at 0x1391bbf10>"
      ]
     },
     "execution_count": 49,
     "metadata": {},
     "output_type": "execute_result"
    }
   ],
   "source": [
    "wf.draw()"
   ]
  },
  {
   "cell_type": "code",
   "execution_count": 50,
   "id": "b51bef25-86c5-4d57-80c1-ab733e703caf",
   "metadata": {},
   "outputs": [
    {
     "name": "stdout",
     "output_type": "stream",
     "text": [
      "The job JUSTAJOBNAME was saved and received the ID: 9568\n"
     ]
    },
    {
     "data": {
      "application/vnd.jupyter.widget-view+json": {
       "model_id": "2e9cbb2070c345a1add65ee3cc6ab714",
       "version_major": 2,
       "version_minor": 0
      },
      "text/plain": [
       "0it [00:00, ?it/s]"
      ]
     },
     "metadata": {},
     "output_type": "display_data"
    },
    {
     "name": "stdout",
     "output_type": "stream",
     "text": [
      "The job JUSTAJOBNAME was saved and received the ID: 9568\n"
     ]
    },
    {
     "data": {
      "application/vnd.jupyter.widget-view+json": {
       "model_id": "89cb51049ead4bd8a6b3acccdca821ab",
       "version_major": 2,
       "version_minor": 0
      },
      "text/plain": [
       "0it [00:00, ?it/s]"
      ]
     },
     "metadata": {},
     "output_type": "display_data"
    },
    {
     "name": "stdout",
     "output_type": "stream",
     "text": [
      "Al: E(hcp) - E(fcc) = 1.17 eV/atom\n"
     ]
    }
   ],
   "source": [
    "out = wf(element=\"Al\", phase1=\"fcc\", phase2=\"hcp\", lattice_guess1=4, lattice_guess2=4)\n",
    "print(f\"{wf.inputs.element.value}: E({wf.inputs.phase2.value}) - E({wf.inputs.phase1.value}) = {out.compare__sub:.2f} eV/atom\")"
   ]
  },
  {
   "cell_type": "code",
   "execution_count": 51,
   "id": "091e2386-0081-436c-a736-23d019bd9b91",
   "metadata": {},
   "outputs": [
    {
     "name": "stderr",
     "output_type": "stream",
     "text": [
      "/Users/huber/work/pyiron/pyiron_workflow/pyiron_workflow/channels.py:168: UserWarning: The channel ran was not connected to accumulate_and_run, andthus could not disconnect from it.\n",
      "  warn(\n"
     ]
    },
    {
     "name": "stdout",
     "output_type": "stream",
     "text": [
      "The job JUSTAJOBNAME was saved and received the ID: 9568\n"
     ]
    },
    {
     "data": {
      "application/vnd.jupyter.widget-view+json": {
       "model_id": "485138d8b7d5459fbd7da596eb120f91",
       "version_major": 2,
       "version_minor": 0
      },
      "text/plain": [
       "0it [00:00, ?it/s]"
      ]
     },
     "metadata": {},
     "output_type": "display_data"
    },
    {
     "name": "stdout",
     "output_type": "stream",
     "text": [
      "The job JUSTAJOBNAME was saved and received the ID: 9568\n"
     ]
    },
    {
     "data": {
      "application/vnd.jupyter.widget-view+json": {
       "model_id": "e0c24f219db0451091dabaa3b7d3bd2a",
       "version_major": 2,
       "version_minor": 0
      },
      "text/plain": [
       "0it [00:00, ?it/s]"
      ]
     },
     "metadata": {},
     "output_type": "display_data"
    },
    {
     "name": "stdout",
     "output_type": "stream",
     "text": [
      "Mg: E(hcp) - E(fcc) = -4.54 eV/atom\n"
     ]
    }
   ],
   "source": [
    "out = wf(element=\"Mg\", phase1=\"fcc\", phase2=\"hcp\", lattice_guess1=3, lattice_guess2=3)\n",
    "print(f\"{wf.inputs.element.value}: E({wf.inputs.phase2.value}) - E({wf.inputs.phase1.value}) = {out.compare__sub:.2f} eV/atom\")"
   ]
  },
  {
   "cell_type": "markdown",
   "id": "7985d84f-b842-4a8d-95d5-eca3d19a78c8",
   "metadata": {},
   "source": [
    "We can also replace entire node in a workflow or macro with a new node, booting the old one out and inserting the new one including all its connections. Because the connections are recreated, the replacement node _must_ have compatible IO to the node being replaced.\n",
    "\n",
    "There are several syntacic approaches for doing this, including invoking replacement methods from the workflow (or macro) or from the node being replaced, or a new (compatible!) class can be assigned directly to an existing node. We'll use the last approach, which makes a new instance of the supplied class and replaces the target node with it.\n",
    "\n",
    "Let's replace the calculation type for phase 1 -- let's switch it from a `CalcMin` to a `CalcStatic`; both of these take a `job` as input and give `structure` and `energy` as output, so we won't have any trouble connecting our new node in lieue of the old one."
   ]
  },
  {
   "cell_type": "code",
   "execution_count": 52,
   "id": "4cdffdca-48d3-4486-9045-48102c7e5f31",
   "metadata": {},
   "outputs": [
    {
     "name": "stderr",
     "output_type": "stream",
     "text": [
      "/Users/huber/work/pyiron/pyiron_workflow/pyiron_workflow/channels.py:168: UserWarning: The channel job was not connected to job, andthus could not disconnect from it.\n",
      "  warn(\n",
      "/Users/huber/work/pyiron/pyiron_workflow/pyiron_workflow/channels.py:168: UserWarning: The channel accumulate_and_run was not connected to ran, andthus could not disconnect from it.\n",
      "  warn(\n",
      "/Users/huber/work/pyiron/pyiron_workflow/pyiron_workflow/channels.py:168: UserWarning: The channel element was not connected to user_input, andthus could not disconnect from it.\n",
      "  warn(\n",
      "/Users/huber/work/pyiron/pyiron_workflow/pyiron_workflow/channels.py:168: UserWarning: The channel structure was not connected to obj, andthus could not disconnect from it.\n",
      "  warn(\n",
      "/Users/huber/work/pyiron/pyiron_workflow/pyiron_workflow/channels.py:168: UserWarning: The channel energy was not connected to obj, andthus could not disconnect from it.\n",
      "  warn(\n"
     ]
    }
   ],
   "source": [
    "replacee = wf.min_phase1.calc \n",
    "wf.min_phase1.calc = Macro.create.pyiron_atomistics.CalcStatic"
   ]
  },
  {
   "cell_type": "markdown",
   "id": "8dd7d2f9-313d-4e38-b467-823c48d0afa0",
   "metadata": {},
   "source": [
    "Since we're no longer allowing our first phase to relax while the second phase still can, we would expect the second phase to have a much lower energy than the first one. If our lattice guess for the first phase is bad enough, this could even switch the preferred phase!\n",
    "\n",
    "Look at Al's fcc-hcp energy difference using this new workflow. We'll always let hcp relax, but freeze the fcc cell so we can see the impact of a good and bad lattice guess."
   ]
  },
  {
   "cell_type": "code",
   "execution_count": 53,
   "id": "ed4a3a22-fc3a-44c9-9d4f-c65bc1288889",
   "metadata": {},
   "outputs": [
    {
     "name": "stderr",
     "output_type": "stream",
     "text": [
      "/Users/huber/work/pyiron/pyiron_workflow/pyiron_workflow/channels.py:168: UserWarning: The channel ran was not connected to accumulate_and_run, andthus could not disconnect from it.\n",
      "  warn(\n"
     ]
    },
    {
     "name": "stdout",
     "output_type": "stream",
     "text": [
      "The job JUSTAJOBNAME was saved and received the ID: 9568\n"
     ]
    },
    {
     "data": {
      "application/vnd.jupyter.widget-view+json": {
       "model_id": "c2945dbf0d7c497494b4680c1d6d955b",
       "version_major": 2,
       "version_minor": 0
      },
      "text/plain": [
       "0it [00:00, ?it/s]"
      ]
     },
     "metadata": {},
     "output_type": "display_data"
    },
    {
     "name": "stdout",
     "output_type": "stream",
     "text": [
      "The job JUSTAJOBNAME was saved and received the ID: 9568\n"
     ]
    },
    {
     "data": {
      "application/vnd.jupyter.widget-view+json": {
       "model_id": "1711894637154100a71d43404d42a464",
       "version_major": 2,
       "version_minor": 0
      },
      "text/plain": [
       "0it [00:00, ?it/s]"
      ]
     },
     "metadata": {},
     "output_type": "display_data"
    },
    {
     "name": "stdout",
     "output_type": "stream",
     "text": [
      "Al: E(hcp) - E(fcc) = -5.57 eV/atom\n"
     ]
    }
   ],
   "source": [
    "# Bad guess\n",
    "out = wf(element=\"Al\", phase1=\"fcc\", phase2=\"hcp\", lattice_guess1=3, lattice_guess2=3.1)\n",
    "print(f\"{wf.inputs.element.value}: E({wf.inputs.phase2.value}) - E({wf.inputs.phase1.value}) = {out.compare__sub:.2f} eV/atom\")"
   ]
  },
  {
   "cell_type": "code",
   "execution_count": 54,
   "id": "5a985cbf-c308-4369-9223-b8a37edb8ab1",
   "metadata": {},
   "outputs": [
    {
     "name": "stderr",
     "output_type": "stream",
     "text": [
      "/Users/huber/work/pyiron/pyiron_workflow/pyiron_workflow/channels.py:168: UserWarning: The channel ran was not connected to accumulate_and_run, andthus could not disconnect from it.\n",
      "  warn(\n"
     ]
    },
    {
     "name": "stdout",
     "output_type": "stream",
     "text": [
      "The job JUSTAJOBNAME was saved and received the ID: 9568\n"
     ]
    },
    {
     "data": {
      "application/vnd.jupyter.widget-view+json": {
       "model_id": "843ec24931b9442b99bf6755c70203c4",
       "version_major": 2,
       "version_minor": 0
      },
      "text/plain": [
       "0it [00:00, ?it/s]"
      ]
     },
     "metadata": {},
     "output_type": "display_data"
    },
    {
     "name": "stdout",
     "output_type": "stream",
     "text": [
      "The job JUSTAJOBNAME was saved and received the ID: 9568\n"
     ]
    },
    {
     "data": {
      "application/vnd.jupyter.widget-view+json": {
       "model_id": "6d3d0e83271f4ec78445d2a8c0a545ab",
       "version_major": 2,
       "version_minor": 0
      },
      "text/plain": [
       "0it [00:00, ?it/s]"
      ]
     },
     "metadata": {},
     "output_type": "display_data"
    },
    {
     "name": "stdout",
     "output_type": "stream",
     "text": [
      "Al: E(hcp) - E(fcc) = 0.03 eV/atom\n"
     ]
    }
   ],
   "source": [
    "# Good guess\n",
    "out = wf(element=\"Al\", phase1=\"fcc\", phase2=\"hcp\", lattice_guess1=4.05, lattice_guess2=3.2)\n",
    "print(f\"{wf.inputs.element.value}: E({wf.inputs.phase2.value}) - E({wf.inputs.phase1.value}) = {out.compare__sub:.2f} eV/atom\")"
   ]
  },
  {
   "cell_type": "markdown",
   "id": "e5e75718-137f-43e6-b484-5ebe4ab22bf8",
   "metadata": {},
   "source": [
    "Now that we have nested macros, we can finally discuss the subtle difference between `__call__` and `pull`:\n",
    "\n",
    "Each `Macro` instance is its own little walled garden, where it's child nodes have no connections apart from those to other children of the same macro (you can forceably change this, since we're all adults here, but it won't happen by default and isn't recommended). Under the hood this is accomplished by the macro IO \"linking\" itself to its childrens' IO, so that updates to macro input values are always immediately propagated to children, and macro output gets synchronized with its childrens' output at the end of every run. Because of this we can think of these children all having the same \"scope\", i.e. siblings among the same parent.\n",
    "\n",
    "`pull` has a keyword argument to determine whether upstream data dependencies are restricted to be _in scope_, or if the parent node (if any) should also consider all _its_ data dependencies as well, and so on up until we hit the parent-most macro or workflow.\n",
    "\n",
    "For `pull` this parameter defaults to `False`, so that the pull stops at the parent node. For `__call__` it defaults to `True`, so that the search for data dependencies punches right through parents and all the way up. The danger is that this might be expensive if there's an costly node somewhere in the dependency!\n",
    "\n",
    "Note that the entire \"pull\" paradigm does currently play nicely with remote execution. If some of your nodes have an executor specified, you will need to `.run` your graph (or `__call__` a `Workflow` if that's your parent-most object)."
   ]
  },
  {
   "cell_type": "markdown",
   "id": "069cc8e8-f8b9-4382-a424-b3b2dd2bf739",
   "metadata": {},
   "source": [
    "## Parallelization\n",
    "\n",
    "You can currently run nodes in different process by setting that node's `executor` to an instance of a compliant executor object -- i.e. that takes the standard `submit` method of `concurrent.futures.Executor`, returns a `concurrent.futures.Future` (or sub-class), and can handle serializing dynamically defined objects. We make a handful of such compliant executors available on the creator. There is a toy `CloudpickleProcessPoolExecutor` which is a minimal example of compliance and useful for learning, but we also link to the executors provided by `pympipool`. Depending on your installation of `pympipool`, it's possible that only the `PyMPIExecutor` will be available, and this is what is provided by default under the creator's `Executor` attribute. \n",
    "\n",
    "Not that this feature is in beta -- running in parallel on the same machine with `PyMPIExecutor` is  working very well so far, but the more complex flux- and slurm- based executors that can  send data to remote machines have not yet been tested.\n",
    "\n",
    "Here's a simple example of executor usage:"
   ]
  },
  {
   "cell_type": "code",
   "execution_count": 55,
   "id": "aa575249-b209-4e0c-9ea6-a82bc69dc833",
   "metadata": {},
   "outputs": [
    {
     "name": "stdout",
     "output_type": "stream",
     "text": [
      "None 1\n",
      "<Future at 0x1395ede90 state=pending> NOT_DATA\n"
     ]
    }
   ],
   "source": [
    "wf = Workflow(\"with_executor\")\n",
    "wf.a1 = wf.create.standard.Add(0, 1)\n",
    "wf.a2 = wf.create.standard.Add(2, 3)\n",
    "wf.b = wf.a1 + wf.a2\n",
    "\n",
    "wf.a2.executor = wf.create.Executor()\n",
    "wf()\n",
    "\n",
    "print(wf.a1.future, wf.a1.outputs.add.value)\n",
    "print(wf.a2.future, wf.a2.outputs.add.value)"
   ]
  },
  {
   "cell_type": "markdown",
   "id": "a15cf16b-90d5-4bf4-bc8e-e65a3ee06fa4",
   "metadata": {},
   "source": [
    "We can see that the regularly-executing node gets its output as usual, but the node with an executor gets its `future` attribute populated and isn't finished yet"
   ]
  },
  {
   "cell_type": "code",
   "execution_count": 56,
   "id": "c1b7b4e9-1c76-470c-ba6e-a58ea3f611f6",
   "metadata": {},
   "outputs": [
    {
     "name": "stdout",
     "output_type": "stream",
     "text": [
      "Finally 5\n",
      "b (Add) output single-value: 6\n"
     ]
    }
   ],
   "source": [
    "print(\"Finally\", wf.a2.future.result())\n",
    "print(wf.b)"
   ]
  },
  {
   "cell_type": "markdown",
   "id": "4dd4159e-6e01-492a-8986-f07e26e68954",
   "metadata": {},
   "source": [
    "When you're all done, it's best practice to shut down your `pympipool` executor to make sure you don't leave any dangling process (similar to how opened files should be closed). This can be done with a convience method from the parent-most object, which will recursively shut down all executors:"
   ]
  },
  {
   "cell_type": "code",
   "execution_count": 57,
   "id": "7e98058b-a791-4cb1-ae2c-864ad7e56cee",
   "metadata": {},
   "outputs": [],
   "source": [
    "wf.executor_shutdown()"
   ]
  },
  {
   "cell_type": "markdown",
   "id": "56206b10-6851-4ffa-ad43-432ad46d272a",
   "metadata": {},
   "source": [
    "Alternatively, we can use the `with` context for executors, as along as it encompasses our entire workflow. This might be useful if you are working with a single executor. In this case the `with` context handles shutdown cleanly without our help:"
   ]
  },
  {
   "cell_type": "code",
   "execution_count": 58,
   "id": "0d1b4005-488e-492f-adcb-8ad7235e4fe3",
   "metadata": {},
   "outputs": [
    {
     "name": "stdout",
     "output_type": "stream",
     "text": [
      "None 1\n",
      "<Future at 0x139a56110 state=running> NOT_DATA\n",
      "Finally 5\n",
      "b (Add) output single-value: 6\n"
     ]
    }
   ],
   "source": [
    "with Workflow.create.Executor() as executor:\n",
    "    wf = Workflow(\"with_executor\")\n",
    "    wf.a1 = wf.create.standard.Add(0, 1)\n",
    "    wf.a2 = wf.create.standard.Add(2, 3)\n",
    "    wf.b = wf.a1 + wf.a2\n",
    "\n",
    "    wf.a2.executor = executor\n",
    "    wf()\n",
    "    \n",
    "    print(wf.a1.future, wf.a1.outputs.add.value)\n",
    "    print(wf.a2.future, wf.a2.outputs.add.value)\n",
    "    \n",
    "    print(\"Finally\", wf.a2.future.result())\n",
    "    print(wf.b)"
   ]
  },
  {
   "cell_type": "markdown",
   "id": "26d7fb8e-4071-482d-bbb4-31689e87c3d5",
   "metadata": {},
   "source": [
    "For DAGs, workflows and macros automated execution flow makes use of the `.signals.inputs.accumulate_and_run` signal to run as soon as _all_ the up-data-stream nodes have finished.\n",
    "\n",
    "Before we wrap up our conversation of executors, let's make both linear and accumulating workflows by-hand, and see the time difference parallelization can bring"
   ]
  },
  {
   "cell_type": "code",
   "execution_count": 59,
   "id": "d03ca074-35a0-4e0d-9377-d4eaa5521f85",
   "metadata": {},
   "outputs": [],
   "source": [
    "from time import perf_counter, sleep\n",
    "\n",
    "from pyiron_workflow.channels import NOT_DATA\n",
    "\n",
    "@Workflow.wrap_as.single_value_node()\n",
    "def Wait(t):\n",
    "    sleep(t)\n",
    "    return True\n",
    "    \n",
    "t = 2"
   ]
  },
  {
   "cell_type": "code",
   "execution_count": 60,
   "id": "a7c07aa0-84fc-4f43-aa4f-6498c0837d76",
   "metadata": {},
   "outputs": [
    {
     "name": "stdout",
     "output_type": "stream",
     "text": [
      "6.02082441499806\n"
     ]
    }
   ],
   "source": [
    "wf = Workflow(\"serial\")\n",
    "wf.a = Wait(t)\n",
    "wf.b = Wait(t)\n",
    "wf.c = Wait(t)\n",
    "wf.d = wf.create.standard.UserInput(t)\n",
    "wf.automate_execution = False\n",
    "wf.a >> wf.b >> wf.c >> wf.d\n",
    "wf.starting_nodes = [wf.a]\n",
    "t0 = perf_counter()\n",
    "out = wf()\n",
    "while wf.outputs.d__user_input.value is NOT_DATA:\n",
    "    sleep(0.001)\n",
    "dt_serial = perf_counter() - t0\n",
    "\n",
    "print(dt_serial)"
   ]
  },
  {
   "cell_type": "code",
   "execution_count": 61,
   "id": "b062ab5f-9b98-4843-8925-b93bf4c173f8",
   "metadata": {},
   "outputs": [
    {
     "name": "stdout",
     "output_type": "stream",
     "text": [
      "2.4505110399986734\n"
     ]
    }
   ],
   "source": [
    "wf = Workflow(\"parallel\")\n",
    "wf.a = Wait(t)\n",
    "wf.b = Wait(t)\n",
    "wf.c = Wait(t)\n",
    "wf.d = wf.create.standard.UserInput(t)\n",
    "wf.automate_execution = False\n",
    "wf.d << wf.a, wf.b, wf.c\n",
    "wf.starting_nodes = [wf.a, wf.b, wf.c]\n",
    "\n",
    "\n",
    "with wf.create.Executor(max_workers=3, cores_per_worker=1) as executor:\n",
    "    wf.a.executor = executor\n",
    "    wf.b.executor = executor\n",
    "    wf.c.executor = executor\n",
    "\n",
    "    t1 = perf_counter()\n",
    "    out = wf()\n",
    "    while wf.outputs.d__user_input.value is NOT_DATA:\n",
    "        sleep(0.001)\n",
    "    dt_parallel = perf_counter() - t1\n",
    "\n",
    "print(dt_parallel)"
   ]
  },
  {
   "cell_type": "markdown",
   "id": "8655ab85-f3e1-4828-b2c4-43425f45717c",
   "metadata": {},
   "source": [
    "Note how we've used the `<<` syntax to load up the `accumulate_and_run` input signal with multiple connections at once (as opposed to the forwards-syntactic sugar that connects one item at a time to `run`), and leveraging a single executor in a `with` statement. But most of all, note the speedup! There is some overhead for shipping things off to an executor -- we don't want to do it for operations that are taking mere ms -- but the bar is not super high. Serializing different nodes may take different amounts of time depending on how complex they are, so check for yourself the tradeoff between executing your nodes in parallel or serial."
   ]
  },
  {
   "cell_type": "markdown",
   "id": "b6a3b48f-eda6-4947-a1b2-22abfa394293",
   "metadata": {},
   "source": [
    "#### Executor limitations\n",
    "\n",
    "Unfortunately, _nested_ executors are not yet working. So if you set a macro to use an executor, none of its (grand...)children may specify an executor."
   ]
  },
  {
   "cell_type": "markdown",
   "id": "f447531e-3e8c-4c7e-a579-5f9c56b75a5b",
   "metadata": {
    "tags": []
   },
   "source": [
    "# Here be dragons\n",
    "\n",
    "While everything in the workflows sub-module is under development, the following complex features are _even more likely_ to see substantial modifications to their interface and behaviour. Nonetheless, they're fun so let's look at them."
   ]
  },
  {
   "cell_type": "markdown",
   "id": "6fe95ca3-95c4-4c82-9a45-c38275dabb22",
   "metadata": {},
   "source": [
    "## Saving and loading\n",
    "\n",
    "For python >= 3.11, graphs can be saved and loaded on request -- either by manually invoking the `.save()` method, or by setting the `save_after_run` attribute to `True` (on the object or at instantiation by kwarg). This creates a save file (currently using HDF5 as a format) in the parent-most node's working directory.\n",
    "\n",
    "Subsequently instantiating a node with the same name in the same place will attempt to reload the saved graph automatically. \n",
    "\n",
    "Since data IO is also saved, all IO must be serializable. As a fallback, we attempt to store data IO values using pickle, so most pickle-able objects will work.\n",
    "\n",
    "You can look at the `Node` class docstring for a full and detailed list of all storage features as they currently are in this alpha feature, but here are a few key caveats:\n",
    "- The _entire graph_ is always saved, regardless of which node is calling `save()`\n",
    "- Similarly, you can only reload the entire graph at once\n",
    "- Also related, there is currently zero filtering of which data, or to which depth the graph gets stored -- it's all or nothing\n",
    "- If the source code for nodes gets modified between saving and loading, weird stuff is likely to happen, and some of it may happen silently.\n",
    "\n",
    "Lastly, we currently use two backends: `tinybase.storage.H5ioStorage` and `h5io` directly. They have slightly different strengths:\n",
    "- `\"h5io\"` (the default) \n",
    "  - Will let you save and load any nodes that defined by subclassing (this includes all nodes defined using the decorators)\n",
    "  - Will preserve changes to a macro (replace/add/remove/rewire)\n",
    "  - Has trouble with some data\n",
    "- `\"tinybase\"`\n",
    "  - Requires all nodes to have been instantiated with the creator (`wf.create...`; this means moving node definitions to a `.py` file in your pythonpath and registering it as a node package -- not particularly difficult!)\n",
    "  - _Ignores_ changes to a macro (will crash nicely if the macro IO changed)\n",
    "  - Falls back to `pickle` for data failures, so can handle a wider variety of data IO objects"
   ]
  },
  {
   "cell_type": "code",
   "execution_count": 62,
   "id": "c8196054-aff3-4d39-a872-b428d329dac9",
   "metadata": {},
   "outputs": [],
   "source": [
    "import sys"
   ]
  },
  {
   "cell_type": "code",
   "execution_count": 63,
   "id": "ffd741a3-b086-4ed0-9a62-76143a3705b2",
   "metadata": {},
   "outputs": [],
   "source": [
    "if sys.version_info >= (3, 11):\n",
    "    wf = Workflow(\"save_demo\")\n",
    "    wf.inp = wf.create.standard.UserInput(42)\n",
    "    wf.middle = 2 * wf.inp\n",
    "    wf.end = wf.middle - 42\n",
    "    wf.out = wf.create.standard.UserInput(wf.end, save_after_run=True)\n",
    "    wf()\n",
    "    # wf.save()  # Not needed, since `wf.out` saves after running"
   ]
  },
  {
   "cell_type": "code",
   "execution_count": 64,
   "id": "3a22c622-f8c1-449b-a910-c52beb6a09c3",
   "metadata": {},
   "outputs": [
    {
     "name": "stderr",
     "output_type": "stream",
     "text": [
      "/Users/huber/work/pyiron/pyiron_workflow/pyiron_workflow/node.py:372: UserWarning: A saved file was found for the node save_demo -- attempting to load it...(To delete the saved file instead, use `overwrite_save=True`)\n",
      "  warnings.warn(\n"
     ]
    }
   ],
   "source": [
    "if sys.version_info >= (3, 11):\n",
    "    reloaded = Workflow(\"save_demo\")\n",
    "    reloaded.out.value == wf.out.value"
   ]
  },
  {
   "cell_type": "markdown",
   "id": "f9238cf7-3050-4607-a542-010e3bb83f41",
   "metadata": {},
   "source": [
    "You can force a newly instantiated node to ignore (and delete!) an existing save file by setting the `overwrite_save` kwarg to `True`.\n",
    "\n",
    "Finally, let's clean up our save to keep this demo director clean:"
   ]
  },
  {
   "cell_type": "code",
   "execution_count": 65,
   "id": "0999d3e8-3a5a-451d-8667-a01dae7c1193",
   "metadata": {},
   "outputs": [],
   "source": [
    "if sys.version_info >= (3, 11):\n",
    "    reloaded.storage.delete()"
   ]
  },
  {
   "cell_type": "markdown",
   "id": "1f012460-19af-45f7-98aa-a0ad5b8e6faa",
   "metadata": {},
   "source": [
    "## Meta-nodes and flow control\n",
    "\n",
    "A meta-node is a function that produces a node _class_ instedad of a node _instance_.\n",
    "Right now, these are used to produce parameterized flow-control nodes, which take an node class as input and return a new macro class that builds some graph using the passed node class, e.g. for- and while-loops.\n",
    "\n",
    "### For-loops\n",
    "\n",
    "One meta node is a for-loop builder, which creates a macro with $n$ internal instances of the \"loop body\" node class, and a new IO interface.\n",
    "The new input allows you to specify which input channels are being looped over -- such that the macro input for this channel is interpreted as list-like and distributed to all the copies of the nodes separately --, and which is _not_ being looped over -- and thus interpreted as the loop body node would normally interpret the input and passed to all copies equally.\n",
    "All of the loop body outputs are then collected as a list of length $n$.\n",
    "\n",
    "We follow a convention that inputs and outputs being looped over are indicated by their channel labels being ALL CAPS.\n",
    "\n",
    "In the example below, we loop over the bulk structure node to create structures with different lattice constants:"
   ]
  },
  {
   "cell_type": "code",
   "execution_count": 66,
   "id": "0b373764-b389-4c24-8086-f3d33a4f7fd7",
   "metadata": {},
   "outputs": [
    {
     "data": {
      "text/plain": [
       "[14.829749999999995,\n",
       " 15.407468749999998,\n",
       " 15.999999999999998,\n",
       " 16.60753125,\n",
       " 17.230249999999995]"
      ]
     },
     "execution_count": 66,
     "metadata": {},
     "output_type": "execute_result"
    }
   ],
   "source": [
    "n = 5\n",
    "\n",
    "bulk_loop = Workflow.create.meta.for_loop(\n",
    "    Workflow.create.pyiron_atomistics.Bulk,\n",
    "    n,\n",
    "    iterate_on=(\"a\",),\n",
    ")()\n",
    "\n",
    "out = bulk_loop(\n",
    "    name=\"Al\",  # Sent equally to each body node\n",
    "    A=np.linspace(3.9, 4.1, n).tolist(),  # Distributed across body nodes\n",
    ")\n",
    "\n",
    "[struct.cell.volume for struct in out.STRUCTURE]  \n",
    "# output is a list collected from copies of the body node, as indicated by CAPS label"
   ]
  },
  {
   "cell_type": "markdown",
   "id": "4e7ed210-dbc2-4afa-825e-b91168baff25",
   "metadata": {},
   "source": [
    "## While-loops\n",
    "\n",
    "We can also create a while-loop, which takes both a body node and a condition node. The condition node must be a `SingleValue` returning a `bool` type. Instead of creating copies of the body node, the body node gets re-run until the condition node returns `False`.\n",
    "\n",
    "You _must_ specify the data connection so that the body node passes information to the condition node. You may optionally also loop output of the body node back to input of the body node to change the input at each iteration. Right now this is done with horribly ugly string tuples, but we're still working on it."
   ]
  },
  {
   "cell_type": "code",
   "execution_count": 67,
   "id": "0dd04b4c-e3e7-4072-ad34-58f2c1e4f596",
   "metadata": {},
   "outputs": [
    {
     "name": "stderr",
     "output_type": "stream",
     "text": [
      "/Users/huber/work/pyiron/pyiron_workflow/pyiron_workflow/channels.py:168: UserWarning: The channel run was not connected to true, andthus could not disconnect from it.\n",
      "  warn(\n",
      "/Users/huber/work/pyiron/pyiron_workflow/pyiron_workflow/channels.py:168: UserWarning: The channel run was not connected to ran, andthus could not disconnect from it.\n",
      "  warn(\n"
     ]
    }
   ],
   "source": [
    "@Workflow.wrap_as.single_value_node()\n",
    "def Add(a, b):\n",
    "    print(f\"{a} + {b} = {a + b}\")\n",
    "    return a + b\n",
    "\n",
    "@Workflow.wrap_as.single_value_node()\n",
    "def LessThanTen(value):\n",
    "    return value < 10\n",
    "\n",
    "AddWhile = Workflow.create.meta.while_loop(\n",
    "    loop_body_class=Add,\n",
    "    condition_class=LessThanTen,\n",
    "    internal_connection_map=[\n",
    "        (\"Add\", \"a + b\", \"LessThanTen\", \"value\"),\n",
    "        (\"Add\", \"a + b\", \"Add\", \"a\")\n",
    "    ],\n",
    "    inputs_map={\"Add__a\": \"a\", \"Add__b\": \"b\"},\n",
    "    outputs_map={\"Add__a + b\": \"total\"}\n",
    ")\n",
    "\n",
    "wf = Workflow(\"do_while\")\n",
    "wf.add_while = AddWhile()\n",
    "\n",
    "wf.inputs_map = {\n",
    "    \"add_while__a\": \"a\",\n",
    "    \"add_while__b\": \"b\"\n",
    "}\n",
    "wf.outputs_map = {\n",
    "    \"add_while__total\": \"total\",  # Rename this output\n",
    "    \"add_while__switch__truth\": None  # Disable this output\n",
    "}"
   ]
  },
  {
   "cell_type": "markdown",
   "id": "eb810e1e-4d13-4cb1-94cc-6d191b8c568d",
   "metadata": {},
   "source": [
    "Note that initializing the `a` and `b` input to numeric values when we call the workflow below does not destroy the connection made between the body node input and output -- so the first run of the body node uses the initial value passed, but then it updates its own input for subsequent calls!"
   ]
  },
  {
   "cell_type": "code",
   "execution_count": 68,
   "id": "2dfb967b-41ac-4463-b606-3e315e617f2a",
   "metadata": {},
   "outputs": [
    {
     "name": "stdout",
     "output_type": "stream",
     "text": [
      "1 + 2 = 3\n",
      "3 + 2 = 5\n",
      "5 + 2 = 7\n",
      "7 + 2 = 9\n",
      "9 + 2 = 11\n",
      "Finally {'total': 11}\n"
     ]
    }
   ],
   "source": [
    "response = wf(a=1, b=2)\n",
    "print(\"Finally\", response)"
   ]
  },
  {
   "cell_type": "code",
   "execution_count": 69,
   "id": "2e87f858-b327-4f6b-9237-c8a557f29aeb",
   "metadata": {},
   "outputs": [
    {
     "name": "stdout",
     "output_type": "stream",
     "text": [
      "0.834 > 0.2\n",
      "0.186 <= 0.2\n",
      "Finally 0.186\n"
     ]
    }
   ],
   "source": [
    "@Workflow.wrap_as.single_value_node(\"random\")\n",
    "def Random(length: int | None = None):\n",
    "    return np.random.random(length)\n",
    "\n",
    "@Workflow.wrap_as.single_value_node()\n",
    "def GreaterThan(x: float, threshold: float):\n",
    "    gt = x > threshold\n",
    "    symbol = \">\" if gt else \"<=\"\n",
    "    print(f\"{x:.3f} {symbol} {threshold}\")\n",
    "    return gt\n",
    "\n",
    "RandomWhile = Workflow.create.meta.while_loop(\n",
    "    loop_body_class=Random,\n",
    "    condition_class=GreaterThan,\n",
    "    internal_connection_map=[(\"Random\", \"random\", \"GreaterThan\", \"x\")],\n",
    "    outputs_map={\"Random__random\": \"capped_result\"}\n",
    ")\n",
    "\n",
    "# Define workflow\n",
    "\n",
    "wf = Workflow(\"random_until_small_enough\")\n",
    "\n",
    "## Wire together the while loop and its condition\n",
    "\n",
    "wf.random_while = RandomWhile()\n",
    "\n",
    "## Give convenient labels\n",
    "wf.inputs_map = {\"random_while__GreaterThan__threshold\": \"threshold\"}\n",
    "wf.outputs_map = {\"random_while__capped_result\": \"capped_result\"}\n",
    "\n",
    "print(f\"Finally {wf(threshold=0.2).capped_result:.3f}\")"
   ]
  },
  {
   "cell_type": "code",
   "execution_count": null,
   "id": "f40bfd6f-3fbf-4c2b-aeee-534ed4bcc970",
   "metadata": {},
   "outputs": [],
   "source": []
  }
 ],
 "metadata": {
  "kernelspec": {
   "display_name": "Python 3 (ipykernel)",
   "language": "python",
   "name": "python3"
  },
  "language_info": {
   "codemirror_mode": {
    "name": "ipython",
    "version": 3
   },
   "file_extension": ".py",
   "mimetype": "text/x-python",
   "name": "python",
   "nbconvert_exporter": "python",
   "pygments_lexer": "ipython3",
   "version": "3.11.7"
  }
 },
 "nbformat": 4,
 "nbformat_minor": 5
}
