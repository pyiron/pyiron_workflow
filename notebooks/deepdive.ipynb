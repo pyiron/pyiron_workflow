{
 "cells": [
  {
   "cell_type": "markdown",
   "id": "5edfe456-c5b8-4347-a74f-1fb19fdff91b",
   "metadata": {},
   "source": [
    "# Pyiron workflows: A ground-up walkthrough of syntax and features\n",
    "\n",
    "Contents:\n",
    "- From function to node\n",
    "- Making reusable node classes\n",
    "- Connecting nodes to form a graph\n",
    "- Syntactic sugar\n",
    "- Workflows: keeping your computational graphs organized\n",
    "- Node packages: making nodes re-usable\n",
    "- Macro nodes: complex computations by composing sub-graphs\n",
    "- Dragons and the future: remote execution, cyclic flows, and more\n",
    "\n",
    "To jump straight to how to use `pyiron_workflow`, go look at the quickstart guide -- this jumps straight to using `Workflow` as a single-point-of-access, creating nodes with decorators, and leveraging node packages to form complex graphs.\n",
    "\n",
    "Here we start from the ground up and do \"silly\" things like importing _just_ the `Function` class directly from the `pyiron_workflow` package. This isn't meant to show actual practical, recommended use-styles, but rather is indended as a pedagogical deep-dive that builds knowledge from the ground up. While the quickstart is aimed at users who just want to get running, this is intended for people who want to develop nodes for others to use, or for people who are stuck or seeing unexpected behaviour and want a better understanding of what `pyiron_workflow` is doing under the hood.\n",
    "\n",
    "The next recommendation is to simply read the class and method docstrings directly!"
   ]
  },
  {
   "cell_type": "markdown",
   "id": "f4e75528-3ea7-4feb-8167-533d439f798d",
   "metadata": {},
   "source": [
    "## Instantiating a node\n",
    "\n",
    "Simple nodes can be defined on-the-fly by passing any callable to a special `Node` class, `Function(Node)`, which transforms the function into a class. Instances of this node have input and output, can be connected to other nodes in a workflow, and can run the function it stores.\n",
    "\n",
    "Input and output channels are _automatically_ extracted from the signature and return value(s) of the function. (Note: \"Nodized\" functions must have _at most_ one `return` expression!)"
   ]
  },
  {
   "cell_type": "code",
   "execution_count": 1,
   "id": "8aca3b9b-9ba6-497a-ba9e-abdb15a6a5df",
   "metadata": {},
   "outputs": [],
   "source": [
    "from pyiron_workflow.function import function_node"
   ]
  },
  {
   "cell_type": "code",
   "execution_count": 2,
   "id": "2502bc6b-d961-43d1-b2d9-66b20e2740d7",
   "metadata": {},
   "outputs": [],
   "source": [
    "def plus_minus_one(x):\n",
    "    return x+1, x-1\n",
    "\n",
    "pm_node = function_node(plus_minus_one)"
   ]
  },
  {
   "cell_type": "markdown",
   "id": "5d15f0c2-b36d-4960-86b3-40d769f78528",
   "metadata": {},
   "source": [
    "This has automatically created a node with input and output data channels whose labels are gathered by inspecting the function:"
   ]
  },
  {
   "cell_type": "code",
   "execution_count": 3,
   "id": "840f4c07-4b21-4bcc-b15c-9847c6c1b048",
   "metadata": {},
   "outputs": [
    {
     "name": "stdout",
     "output_type": "stream",
     "text": [
      "['x'] ['x+1', 'x-1']\n"
     ]
    }
   ],
   "source": [
    "print(pm_node.inputs.labels, pm_node.outputs.labels)"
   ]
  },
  {
   "cell_type": "markdown",
   "id": "22ee2a49-47d1-4cec-bb25-8441ea01faf7",
   "metadata": {},
   "source": [
    "The output is still empty (`NOT_DATA`) because we haven't `run()` the node:"
   ]
  },
  {
   "cell_type": "code",
   "execution_count": 4,
   "id": "613a90fa-66ed-49f8-ba8c-2f83a54253cd",
   "metadata": {},
   "outputs": [
    {
     "name": "stdout",
     "output_type": "stream",
     "text": [
      "{'x+1': NOT_DATA, 'x-1': NOT_DATA}\n"
     ]
    }
   ],
   "source": [
    "print(pm_node.outputs.to_value_dict())"
   ]
  },
  {
   "cell_type": "markdown",
   "id": "0374e277-55ab-45d2-8058-b06365bd07af",
   "metadata": {},
   "source": [
    "If we try that now though, we'll just get a type error because the input is not set! "
   ]
  },
  {
   "cell_type": "code",
   "execution_count": 5,
   "id": "05196cd8-97c7-4f08-ae3a-ad6a076512f7",
   "metadata": {},
   "outputs": [
    {
     "name": "stdout",
     "output_type": "stream",
     "text": [
      "RAISED ReadinessError\n",
      "plus_minus_one received a run command but is not ready. The node should be neither running nor failed, and all input values should conform to type hints.\n",
      "plus_minus_one readiness: False\n",
      "STATE:\n",
      "running: False\n",
      "failed: False\n",
      "INPUTS:\n",
      "x ready: False\n"
     ]
    }
   ],
   "source": [
    "try:\n",
    "    pm_node.run()\n",
    "except Exception as e:\n",
    "    print(f\"RAISED {e.__class__.__name__}\")\n",
    "    message = e.args[0]\n",
    "    print(message)"
   ]
  },
  {
   "cell_type": "markdown",
   "id": "84af4b04-79b4-4944-a4c9-131af915d254",
   "metadata": {},
   "source": [
    "If we update the input, we'll give the node enough data to work with:"
   ]
  },
  {
   "cell_type": "code",
   "execution_count": 6,
   "id": "b1500a40-f4f2-4c06-ad78-aaebcf3e9a50",
   "metadata": {},
   "outputs": [
    {
     "name": "stdout",
     "output_type": "stream",
     "text": [
      "{'x+1': 6, 'x-1': 4}\n"
     ]
    }
   ],
   "source": [
    "pm_node.inputs.x = 5\n",
    "pm_node.run()\n",
    "print(pm_node.outputs.to_value_dict())"
   ]
  },
  {
   "cell_type": "markdown",
   "id": "c54a691e-a075-4d41-bc0f-3a990857a27a",
   "metadata": {},
   "source": [
    "Alternatively, the `run()` command just return the function's return value:"
   ]
  },
  {
   "cell_type": "code",
   "execution_count": 7,
   "id": "e845843c-61f4-4e5c-ac1a-d005787c2841",
   "metadata": {},
   "outputs": [
    {
     "data": {
      "text/plain": [
       "(6, 4)"
      ]
     },
     "execution_count": 7,
     "metadata": {},
     "output_type": "execute_result"
    }
   ],
   "source": [
    "out = pm_node.run()\n",
    "out"
   ]
  },
  {
   "cell_type": "markdown",
   "id": "df4520d7-856e-4bc8-817f-5b2e22c1ddce",
   "metadata": {},
   "source": [
    "We can give our function defaults so that it's ready to go from the beginning. Let's also take the opportunity to give our output channel a better name so we can get it by dot-access."
   ]
  },
  {
   "cell_type": "code",
   "execution_count": 8,
   "id": "ab1ac28a-6e69-491f-882f-da4a43162dd7",
   "metadata": {},
   "outputs": [
    {
     "data": {
      "text/plain": [
       "1"
      ]
     },
     "execution_count": 8,
     "metadata": {},
     "output_type": "execute_result"
    }
   ],
   "source": [
    "def adder(x: int = 0, y: int = 1) -> int:\n",
    "    sum_ = x + y\n",
    "    return sum_\n",
    "\n",
    "adder_node = function_node(adder)\n",
    "adder_node.run()\n",
    "adder_node.outputs.sum_.value  # We use `value` to see the data the channel holds"
   ]
  },
  {
   "cell_type": "markdown",
   "id": "58ed9b25-6dde-488d-9582-d49d405793c6",
   "metadata": {},
   "source": [
    "This node also exploits type hinting! Like the variable names, these hints get scraped automatically and added to the channels:"
   ]
  },
  {
   "cell_type": "code",
   "execution_count": 9,
   "id": "09eee102-f8f1-4d2d-806f-01254c2483dc",
   "metadata": {},
   "outputs": [
    {
     "data": {
      "text/plain": [
       "(int, int, int)"
      ]
     },
     "execution_count": 9,
     "metadata": {},
     "output_type": "execute_result"
    }
   ],
   "source": [
    "adder_node.inputs.x.type_hint, adder_node.inputs.y.type_hint, adder_node.outputs.sum_.type_hint"
   ]
  },
  {
   "cell_type": "markdown",
   "id": "8382ba4d-9bf7-4057-8da8-0ee411d95c18",
   "metadata": {},
   "source": [
    "New values are checked against the node type hint, so trying to assign an incommensurate value will raise an error:"
   ]
  },
  {
   "cell_type": "code",
   "execution_count": 10,
   "id": "ac0fe993-6c82-48c8-a780-cbd0c97fc386",
   "metadata": {},
   "outputs": [
    {
     "name": "stdout",
     "output_type": "stream",
     "text": [
      "RAISED TypeError\n",
      "The channel x cannot take the value `not an integer` because it is not compliant with the type hint <class 'int'>\n"
     ]
    }
   ],
   "source": [
    "try:\n",
    "    adder_node.inputs.x = \"not an integer\"\n",
    "except TypeError as e:\n",
    "    print(f\"RAISED {e.__class__.__name__}\")\n",
    "    message = e.args[0]\n",
    "    print(message)"
   ]
  },
  {
   "cell_type": "markdown",
   "id": "fb2eb642-4fe8-4ab7-b969-288150e43112",
   "metadata": {},
   "source": [
    "We can bypass this by deactivating the `strict_hinting`, or by assigning a new value directly to the private `_value` attribute. The `run()` will also perform a check that input values conform to type hints before computing anything. Failing at this stage won't actually cause the node to have a `failed` status, so you can just re-run it once the input is fixed."
   ]
  },
  {
   "cell_type": "code",
   "execution_count": 11,
   "id": "a63b2cc0-9030-45ad-8d37-d11e16e61369",
   "metadata": {},
   "outputs": [
    {
     "name": "stdout",
     "output_type": "stream",
     "text": [
      "RAISED ReadinessError\n",
      "adder received a run command but is not ready. The node should be neither running nor failed, and all input values should conform to type hints.\n",
      "adder readiness: False\n",
      "STATE:\n",
      "running: False\n",
      "failed: False\n",
      "INPUTS:\n",
      "x ready: False\n",
      "y ready: True\n"
     ]
    }
   ],
   "source": [
    "adder_node.deactivate_strict_hints()\n",
    "adder_node.inputs.x = \"not an integer\"\n",
    "adder_node.activate_strict_hints()\n",
    "try:\n",
    "    adder_node.run()\n",
    "except Exception as e:\n",
    "    print(f\"RAISED {e.__class__.__name__}\")\n",
    "    message = e.args[0]\n",
    "    print(message)"
   ]
  },
  {
   "cell_type": "code",
   "execution_count": 12,
   "id": "15742a49-4c23-4d4a-84d9-9bf19677544c",
   "metadata": {},
   "outputs": [
    {
     "data": {
      "text/plain": [
       "3"
      ]
     },
     "execution_count": 12,
     "metadata": {},
     "output_type": "execute_result"
    }
   ],
   "source": [
    "adder_node.inputs.x = 2\n",
    "adder_node.run()"
   ]
  },
  {
   "cell_type": "markdown",
   "id": "416ba898-21ee-4638-820f-0f04a98a6706",
   "metadata": {},
   "source": [
    "We can also set new input as any valid combination of kwargs and/or args at both instantiation or on call:"
   ]
  },
  {
   "cell_type": "code",
   "execution_count": 13,
   "id": "0c8f09a7-67c4-4c6c-a021-e3fea1a16576",
   "metadata": {},
   "outputs": [
    {
     "data": {
      "text/plain": [
       "30"
      ]
     },
     "execution_count": 13,
     "metadata": {},
     "output_type": "execute_result"
    }
   ],
   "source": [
    "adder_node = function_node(adder, 10, y=20)\n",
    "adder_node.run()"
   ]
  },
  {
   "cell_type": "markdown",
   "id": "c0997630-c053-42bb-8c0d-332f8bc26216",
   "metadata": {},
   "source": [
    "Finally, we can update input and then `run` together by calling an already-instantiated node. Just like at node instantiation, the input for `Function` nodes can be set by positional and/or keyword argument. Here we'll use two positional args:"
   ]
  },
  {
   "cell_type": "code",
   "execution_count": 14,
   "id": "69b59737-9e09-4b4b-a0e2-76a09de02c08",
   "metadata": {},
   "outputs": [
    {
     "data": {
      "text/plain": [
       "31"
      ]
     },
     "execution_count": 14,
     "metadata": {},
     "output_type": "execute_result"
    }
   ],
   "source": [
    "adder_node(15, 16)"
   ]
  },
  {
   "cell_type": "markdown",
   "id": "f233f3f7-9576-4400-8e92-a1f6109d7f9b",
   "metadata": {},
   "source": [
    "Note for advanced users: when the node has an executor set, running returns a futures object for the calculation, whose `.result()` will eventually be the function output. This result object can also be accessed on the node's `.result` attribute as long as it's running."
   ]
  },
  {
   "cell_type": "markdown",
   "id": "07a22cee-e340-4551-bb81-07d8be1d152b",
   "metadata": {},
   "source": [
    "## Reusable node classes\n",
    "\n",
    "Under the hood, `function_node` is actually dynamically making a new sub-class of `Function` and returning us an instance of that class. If we look at the type, we'll see it's based off the wrapped function (as is the class's `__module__`), and `Function` and the other parent classes appear in the method resolution order:"
   ]
  },
  {
   "cell_type": "code",
   "execution_count": 15,
   "id": "09043170-54f1-469e-8975-c013ac11aad0",
   "metadata": {},
   "outputs": [
    {
     "data": {
      "text/plain": [
       "(__main__.adder, '__main__')"
      ]
     },
     "execution_count": 15,
     "metadata": {},
     "output_type": "execute_result"
    }
   ],
   "source": [
    "type(adder_node), adder_node.__module__"
   ]
  },
  {
   "cell_type": "code",
   "execution_count": 16,
   "id": "f7be4aa6-5d0d-4e86-9b57-656b7bb16e30",
   "metadata": {},
   "outputs": [
    {
     "data": {
      "text/plain": [
       "[__main__.adder,\n",
       " pyiron_workflow.snippets.factory._FactoryMade,\n",
       " pyiron_workflow.function.Function,\n",
       " pyiron_workflow.io_preview.StaticNode,\n",
       " pyiron_workflow.node.Node,\n",
       " pyiron_workflow.has_to_dict.HasToDict,\n",
       " pyiron_workflow.semantics.Semantic,\n",
       " pyiron_workflow.run.Runnable,\n",
       " pyiron_workflow.injection.HasIOWithInjection,\n",
       " pyiron_workflow.io.HasIO,\n",
       " pyiron_workflow.has_interface_mixins.UsesState,\n",
       " pyiron_workflow.single_output.ExploitsSingleOutput,\n",
       " pyiron_workflow.working.HasWorkingDirectory,\n",
       " pyiron_workflow.storage.HasH5ioStorage,\n",
       " pyiron_workflow.storage.HasTinybaseStorage,\n",
       " pyiron_workflow.storage.HasStorage,\n",
       " pyiron_workflow.has_interface_mixins.HasLabel,\n",
       " pyiron_workflow.has_interface_mixins.HasParent,\n",
       " pyiron_workflow.has_interface_mixins.HasRun,\n",
       " pyiron_workflow.has_interface_mixins.HasChannel,\n",
       " pyiron_workflow.io_preview.ScrapesIO,\n",
       " pyiron_workflow.io_preview.HasIOPreview,\n",
       " abc.ABC,\n",
       " object]"
      ]
     },
     "execution_count": 16,
     "metadata": {},
     "output_type": "execute_result"
    }
   ],
   "source": [
    "adder_node.__class__.mro()"
   ]
  },
  {
   "cell_type": "markdown",
   "id": "50370591-e3ac-4593-a9f7-d4bab8b1376f",
   "metadata": {},
   "source": [
    "However, there's lots of times where we're going to want a bunch of instances of the same type of node, and we'd really like access to this class directly so we can make new instances more succinctly.\n",
    "\n",
    "The can be done the traditionaly way directly by inheriting from `Function` and specifying its required `node_function` static method, and (optionally) overriding its `_output_labels` so they are defined by you instead of scraped from the `node_function`"
   ]
  },
  {
   "cell_type": "code",
   "execution_count": 17,
   "id": "4382a4cf-5e64-47a2-938b-39d0674b7ed5",
   "metadata": {},
   "outputs": [],
   "source": [
    "from pyiron_workflow.function import Function"
   ]
  },
  {
   "cell_type": "code",
   "execution_count": 18,
   "id": "abc26576-3473-4e31-93cb-d5cf2ea31b93",
   "metadata": {},
   "outputs": [
    {
     "name": "stdout",
     "output_type": "stream",
     "text": [
      "class name = MySubtractionChild\n",
      "label = MySubtractionChild\n",
      "output with default input =  {'diff': 1}\n"
     ]
    }
   ],
   "source": [
    "class MySubtractionChild(Function):\n",
    "    _output_labels = [\"diff\"]\n",
    "    \n",
    "    @staticmethod\n",
    "    def node_function(x: int | float = 2, y: int | float = 1) -> int | float:\n",
    "        return x - y\n",
    "\n",
    "sn = MySubtractionChild()\n",
    "print(\"class name =\", sn.__class__.__name__)\n",
    "print(\"label =\", sn.label)\n",
    "\n",
    "sn()  # Runs without updating input data, but we have defaults so that's fine\n",
    "print(\"output with default input = \", sn.outputs.to_value_dict())"
   ]
  },
  {
   "cell_type": "markdown",
   "id": "bb875023-6fd4-4fd8-9068-d56bb2660715",
   "metadata": {},
   "source": [
    "Even easier is to use the `as_function_node` decorator to do this for you! \n",
    "\n",
    "The decorator lets us easily choose the names of our output channels by passing the `output_labels` argument to the decorator -- as a string to create a single channel for the returned values, or as a list of strings equal to the number of returned values in a returned tuple. The decorator also does nice quality-of-life things like use the decorated function name as the default label for new instances."
   ]
  },
  {
   "cell_type": "code",
   "execution_count": 19,
   "id": "61b43a9b-8dad-48b7-9194-2045e465793b",
   "metadata": {},
   "outputs": [],
   "source": [
    "from pyiron_workflow.function import as_function_node"
   ]
  },
  {
   "cell_type": "code",
   "execution_count": 20,
   "id": "647360a9-c971-4272-995c-aa01e5f5bb83",
   "metadata": {},
   "outputs": [
    {
     "name": "stdout",
     "output_type": "stream",
     "text": [
      "class name = Subtract\n",
      "label = Subtract\n",
      "output with default input =  {'diff': 1}\n"
     ]
    }
   ],
   "source": [
    "@as_function_node(\"diff\")\n",
    "def Subtract(x: int | float = 2, y: int | float = 1) -> int | float:\n",
    "    return x - y\n",
    "\n",
    "sn = Subtract()\n",
    "print(\"class name =\", sn.__class__.__name__)\n",
    "print(\"label =\", sn.label)\n",
    "\n",
    "sn()  # Runs without updating input data, but we have defaults so that's fine\n",
    "print(\"output with default input = \", sn.outputs.to_value_dict())"
   ]
  },
  {
   "cell_type": "markdown",
   "id": "77642993-63c3-41a3-a963-a406de33553c",
   "metadata": {},
   "source": [
    "Note that we break with python convention and use PascalCase to name our \"function\" here -- that's because by the time the decorator is done with it, it is actually a class! Information about the expected IO is available right at the class level:"
   ]
  },
  {
   "cell_type": "code",
   "execution_count": 21,
   "id": "122ff192-8a12-4323-bd41-1c1e922a66b3",
   "metadata": {},
   "outputs": [
    {
     "data": {
      "text/plain": [
       "{'inputs': {'x': (int | float, 2), 'y': (int | float, 1)},\n",
       " 'outputs': {'diff': int | float}}"
      ]
     },
     "execution_count": 21,
     "metadata": {},
     "output_type": "execute_result"
    }
   ],
   "source": [
    "Subtract.preview_io()"
   ]
  },
  {
   "cell_type": "markdown",
   "id": "9e40da77-98dc-45d9-bf3a-202f82b38c4a",
   "metadata": {},
   "source": [
    "So is the node functionality, so we can still leverage our node as a normal function if we want:"
   ]
  },
  {
   "cell_type": "code",
   "execution_count": 22,
   "id": "b8c845b7-7088-43d7-b106-7a6ba1c571ec",
   "metadata": {},
   "outputs": [
    {
     "name": "stdout",
     "output_type": "stream",
     "text": [
      "default output = 1\n"
     ]
    }
   ],
   "source": [
    "@as_function_node(\"square_diff\")\n",
    "def SubtractAndSqaure(x: int | float = 1, y: int | float = 2) -> int | float:\n",
    "    return Subtract.node_function(x, y)**2\n",
    "    \n",
    "ssq = SubtractAndSqaure()\n",
    "ssq()\n",
    "print(\"default output =\", ssq.outputs.square_diff.value)"
   ]
  },
  {
   "cell_type": "markdown",
   "id": "9b9220b0-833d-4c6a-9929-5dfa60a47d14",
   "metadata": {
    "tags": []
   },
   "source": [
    "# Connecting nodes and controlling flow\n",
    "\n",
    "Multiple nodes can be used together to build a computational graph, with each node performing a particular operation in the overall workflow.\n",
    "\n",
    "The input and output of nodes can be chained together by connecting their data channels to form a data graph.\n",
    "\n",
    "The flow of execution can be manually configured by using other \"signal\" channels to form an execution graph. However, for data graphs that are a directed acyclic graph (DAG), the execution flow can be automatically determined from the topology of the data connections!\n",
    "\n",
    "The `run` command we saw above has several boolean flags for controlling the style of execution. The two main run modes are with a \"pull\" paradigm, where everything upstream on the graph of data connections is run first then the node invoking `pull` gets run; and with a \"push\" paradigm (the default for `run`), where the node invoking `run` gets run and then runs everything downstream on the execution graph. Calling an instantiated node runs a particularly aggressive version of `pull` that recursively pulls everything upstream, even breaking out of the context of this particular sub-graph to pull in parent graphs.\n",
    "\n",
    "We'll talk more about grouping nodes together inside a `Workflow` object, but without a parent workflow, only the `pull` method will automate execution signals; trying to push data downstream using `run` requires specifying the execution flow manually.\n",
    "\n",
    "Let's start by looking at `pull` in the example below to see how this works for a super-simple toy graph:"
   ]
  },
  {
   "cell_type": "code",
   "execution_count": 23,
   "id": "2e418abf-7059-4e1e-9b9f-b3dc0a4b5e35",
   "metadata": {
    "tags": []
   },
   "outputs": [
    {
     "name": "stderr",
     "output_type": "stream",
     "text": [
      "/Users/huber/work/pyiron/pyiron_workflow/pyiron_workflow/channels.py:176: UserWarning: The channel ran was not connected to run, andthus could not disconnect from it.\n",
      "  warn(\n",
      "/Users/huber/work/pyiron/pyiron_workflow/pyiron_workflow/channels.py:176: UserWarning: The channel run was not connected to ran, andthus could not disconnect from it.\n",
      "  warn(\n"
     ]
    },
    {
     "data": {
      "text/plain": [
       "2"
      ]
     },
     "execution_count": 23,
     "metadata": {},
     "output_type": "execute_result"
    }
   ],
   "source": [
    "@as_function_node()\n",
    "def Linear(x):\n",
    "    return x\n",
    "\n",
    "@as_function_node(\"double\")\n",
    "def TimesTwo(x):\n",
    "    return 2 * x\n",
    "\n",
    "l = Linear()\n",
    "t2 = TimesTwo()\n",
    "\n",
    "l.inputs.x = 1\n",
    "t2.inputs.x = l.outputs.x\n",
    "t2.signals.input.run = l.signals.output.ran\n",
    "\n",
    "t2.pull()"
   ]
  },
  {
   "cell_type": "markdown",
   "id": "09623591-bbbb-462c-b490-f1db02c9f459",
   "metadata": {},
   "source": [
    "And, as mentioned, `__call__` is just (roughly) an alias for `pull`:"
   ]
  },
  {
   "cell_type": "code",
   "execution_count": 24,
   "id": "f3b0b700-683e-43cb-b374-48735e413bc9",
   "metadata": {},
   "outputs": [
    {
     "data": {
      "text/plain": [
       "4"
      ]
     },
     "execution_count": 24,
     "metadata": {},
     "output_type": "execute_result"
    }
   ],
   "source": [
    "l.inputs.x = 2\n",
    "t2()"
   ]
  },
  {
   "cell_type": "markdown",
   "id": "5da1ecfc-7145-4fb2-b5c0-417f050c5de4",
   "metadata": {},
   "source": [
    "Next, lets see how to do this with a \"push\" paradigm.\n",
    "\n",
    "Just like the data connections, we can connect the `.signals.inputs.run` and `.signals.output.ran` channels of two nodes, but we can also use the `>>` operator as a syntactic sugar shortcut.\n",
    "\n",
    "Note how data connections can be made with keyword arguments just like other input data definitions.\n",
    "\n",
    "With both of these together, we can write:"
   ]
  },
  {
   "cell_type": "code",
   "execution_count": 25,
   "id": "59c29856-c77e-48a1-9f17-15d4c58be588",
   "metadata": {},
   "outputs": [
    {
     "name": "stdout",
     "output_type": "stream",
     "text": [
      "10 20\n"
     ]
    }
   ],
   "source": [
    "l = Linear(x=10)\n",
    "t2 = TimesTwo(x=l.outputs.x)\n",
    "l >> t2  # Note: We can make arbitrarily long linear chains: l >> t2 >> something_else >> another_node\n",
    "l.run()\n",
    "print(t2.inputs.x, t2.outputs.double)"
   ]
  },
  {
   "cell_type": "markdown",
   "id": "f0543c2f-cc72-45e6-88f2-5ea070c64909",
   "metadata": {},
   "source": [
    "This is fine for linear chains, but when we introduce parallelization we want a different execution flow; for that we introduce `.signals.inputs.accumulate_and_run`. In contrast to `.signals.inputs.run`, which triggers are run when it receives _any_ signals, `.signals.inputs.accumulate_and_run` only fires its callback after _all_ of its connected `OutputSignal`s have pinged it at least once.\n",
    "\n",
    "This let's us set up nodes which only start running after _all_ of their up-data-stream nodes have fired their `ran` signal. This is the default behaviour when `Composite` `Workflow` or `Macro` nodes automate their execution flow for DAG data graphs. We'll look at it again near the end of the notebook when we talk about remote execution."
   ]
  },
  {
   "cell_type": "markdown",
   "id": "6d464066-4271-41be-a34f-20c78d75867c",
   "metadata": {},
   "source": [
    "# Output manipulation\n",
    "\n",
    "Most (but not all) python operations can be performed _directly on output channels_. This works by injecting new nodes after the output channels to perform the requested operation.\n",
    "\n",
    "Let's look at how we can repeat some of the above examples much more succinctly using this feature:"
   ]
  },
  {
   "cell_type": "code",
   "execution_count": 26,
   "id": "98312fbb-0e87-417c-9780-d22903cdb3f4",
   "metadata": {},
   "outputs": [
    {
     "data": {
      "text/plain": [
       "9"
      ]
     },
     "execution_count": 26,
     "metadata": {},
     "output_type": "execute_result"
    }
   ],
   "source": [
    "# Subtract and square\n",
    "\n",
    "x = Linear(x=4)\n",
    "y = Linear(x=1)\n",
    "((x.outputs.x - y.outputs.x)**2).pull()  # It's just a node so we can pull it"
   ]
  },
  {
   "cell_type": "markdown",
   "id": "c514738b-8dd9-4920-b6d0-d005e6676102",
   "metadata": {},
   "source": [
    "In case a node has _exactly_ one output channel, operations will fall back on attempting to operate on this one, unambiguous output channel -- i.e. we can operate on (and form connections to the output of) the node directly:"
   ]
  },
  {
   "cell_type": "code",
   "execution_count": 27,
   "id": "b0e8fc87-fba1-4501-882b-f162c4eadf97",
   "metadata": {},
   "outputs": [
    {
     "data": {
      "text/plain": [
       "20"
      ]
     },
     "execution_count": 27,
     "metadata": {},
     "output_type": "execute_result"
    }
   ],
   "source": [
    "# Times two\n",
    "l = Linear(x=10, run_after_init=True)\n",
    "(2*l).value  # These nodes will try to run right away if everything upstream is ready"
   ]
  },
  {
   "cell_type": "markdown",
   "id": "3052c26c-3559-4d61-8c93-08708293b88c",
   "metadata": {},
   "source": [
    "This also works with more sophisticated features like attribute and item access, including slicing:"
   ]
  },
  {
   "cell_type": "code",
   "execution_count": 28,
   "id": "7c4cbe66-9b0a-428b-835f-31959a7f75bb",
   "metadata": {},
   "outputs": [
    {
     "data": {
      "text/plain": [
       "[1, 2]"
      ]
     },
     "execution_count": 28,
     "metadata": {},
     "output_type": "execute_result"
    }
   ],
   "source": [
    "a_list = Linear(x=[1,2,3,4], run_after_init=True)\n",
    "a_list.outputs.x[:2].value  # Explicitly on the output channel"
   ]
  },
  {
   "cell_type": "code",
   "execution_count": 29,
   "id": "840d5762-ebb5-45aa-8faf-5443544bdeae",
   "metadata": {},
   "outputs": [
    {
     "data": {
      "text/plain": [
       "[1, 2]"
      ]
     },
     "execution_count": 29,
     "metadata": {},
     "output_type": "execute_result"
    }
   ],
   "source": [
    "a_list[:2].value  # Or directly on the single-output node"
   ]
  },
  {
   "cell_type": "code",
   "execution_count": 30,
   "id": "16c2d0de-de6f-4b33-84e4-aefbe5db4177",
   "metadata": {},
   "outputs": [
    {
     "data": {
      "text/plain": [
       "1"
      ]
     },
     "execution_count": 30,
     "metadata": {},
     "output_type": "execute_result"
    }
   ],
   "source": [
    "a_dict = Linear(x={\"a\": 1, \"b\": 2}, run_after_init=True)\n",
    "a_dict[\"a\"].value"
   ]
  },
  {
   "cell_type": "code",
   "execution_count": 31,
   "id": "30b4ed75-bb73-44bb-b6d9-fe525b924652",
   "metadata": {},
   "outputs": [
    {
     "data": {
      "text/plain": [
       "42"
      ]
     },
     "execution_count": 31,
     "metadata": {},
     "output_type": "execute_result"
    }
   ],
   "source": [
    "class Foo:\n",
    "    bar = 42\n",
    "    \n",
    "an_object = Linear(x=Foo(), run_after_init=True)\n",
    "an_object.bar.value"
   ]
  },
  {
   "cell_type": "markdown",
   "id": "eab9c6b6-c954-471a-8613-792590e0464f",
   "metadata": {},
   "source": [
    "Some features don't work this way, e.g. overriding the `==` operator has other deterious effects so we don't do that. Most of these operators are available as a method on output channels, based on their dunder name. E.g."
   ]
  },
  {
   "cell_type": "code",
   "execution_count": 32,
   "id": "786b1402-b595-4337-8872-fd58687c2725",
   "metadata": {},
   "outputs": [
    {
     "data": {
      "text/plain": [
       "(True, False)"
      ]
     },
     "execution_count": 32,
     "metadata": {},
     "output_type": "execute_result"
    }
   ],
   "source": [
    "a = Linear(x=42)\n",
    "b = Linear(x=42)\n",
    "c = Linear(x=0)\n",
    "\n",
    "a_eq_b = a.outputs.x.eq(b.outputs.x)  # On output channels explicitly\n",
    "a_eq_c = a.eq(c)  # Or the single-output nodes directly\n",
    "\n",
    "(a_eq_b | a_eq_c).pull(), (a_eq_b & a_eq_c).pull()"
   ]
  },
  {
   "cell_type": "markdown",
   "id": "b2e56a64-d053-4127-bb8c-069777c1c6b5",
   "metadata": {},
   "source": [
    "Nodes can take input from multiple sources, and -- although it's usually _useful_ to give each node its own variable -- we can even instantiate nodes inside the signature for initializing another node and call that node all at once! You won't have easy access to them afterwards, but this still just builds three nodes in memory, sets their data connections, and invokes a `pull` on the outermost (downstream-most) node, which automatically creates the execution flow and runs it:"
   ]
  },
  {
   "cell_type": "code",
   "execution_count": 33,
   "id": "6569014a-815b-46dd-8b47-4e1cd4584b3b",
   "metadata": {},
   "outputs": [
    {
     "name": "stderr",
     "output_type": "stream",
     "text": [
      "/Users/huber/work/pyiron/pyiron_workflow/pyiron_workflow/channels.py:176: UserWarning: The channel run was not connected to ran, andthus could not disconnect from it.\n",
      "  warn(\n"
     ]
    },
    {
     "data": {
      "image/png": "[encoded data removed]",
      "text/plain": [
       "<Figure size 640x480 with 1 Axes>"
      ]
     },
     "metadata": {},
     "output_type": "display_data"
    }
   ],
   "source": [
    "import matplotlib.pyplot as plt\n",
    "import numpy as np\n",
    "\n",
    "@as_function_node()\n",
    "def Noise(length: int = 1):\n",
    "    array =  np.random.rand(length)\n",
    "    return array\n",
    "\n",
    "@as_function_node()\n",
    "def Plot(x, y):\n",
    "    fig = plt.scatter(x, y)\n",
    "    return fig\n",
    "\n",
    "plot_output = Plot(\n",
    "    x=Noise(length=10),\n",
    "    y=Noise(length=10),\n",
    ")()"
   ]
  },
  {
   "cell_type": "markdown",
   "id": "bd95ba27-e439-45cc-87d8-db587dc3b78c",
   "metadata": {},
   "source": [
    "## Edge cases\n",
    "\n",
    "If output labels aren't provided, we try to scrape them from the source code for the function -- but this has limitations, like that the source code needs to be available for inspection and that there's a single return value. \n",
    "\n",
    "If explicit output labels _are_ provided, we _still_ try to scrape them from the function source code just to make sure that everything lines up nicely. However, there are a couple of edge cases where you may want to tell the workflow code that you really know what you're serious about your labels and just use them without any validation.\n",
    "\n",
    "(Failing to find the source code to compare with only triggers a warning, so in-memory functions are still OK as long as you provide output labels.)\n",
    "\n",
    "Turning off this validation comes with some responsibility that your labels make sense and will work. Let's look at a couple examples:\n",
    "\n",
    "(1) You might want to return a single tuple, and break it appart into channels"
   ]
  },
  {
   "cell_type": "code",
   "execution_count": 34,
   "id": "1a43985b-98d7-4c56-b8fe-e6598298b44b",
   "metadata": {},
   "outputs": [
    {
     "data": {
      "text/plain": [
       "{'x0': 7, 'x1': 10.14}"
      ]
     },
     "execution_count": 34,
     "metadata": {},
     "output_type": "execute_result"
    }
   ],
   "source": [
    "@as_function_node(\"x0\", \"x1\", validate_output_labels=False)\n",
    "def ReturnsTuple(x: int) -> tuple[int, float]:\n",
    "    x = (x, x + 3.14)\n",
    "    return x\n",
    "\n",
    "from_tuple = ReturnsTuple(x=7, run_after_init=True)\n",
    "from_tuple.outputs.to_value_dict()"
   ]
  },
  {
   "cell_type": "markdown",
   "id": "cca66b86-763c-4082-aca1-b19fd7edcc3a",
   "metadata": {},
   "source": [
    "(2) To handle multiple return branches -- just be careful that the branches return the same number and type of values, or you may wind up with strange results."
   ]
  },
  {
   "cell_type": "code",
   "execution_count": 35,
   "id": "ab3ad9e6-2a5e-4b0f-82e3-9e7208970d22",
   "metadata": {},
   "outputs": [
    {
     "name": "stdout",
     "output_type": "stream",
     "text": [
      "True False\n"
     ]
    }
   ],
   "source": [
    "\n",
    "@as_function_node(\"bool\", validate_output_labels=False)\n",
    "def MultipleBranches(x):\n",
    "    if x < 10:\n",
    "        return True\n",
    "    else:\n",
    "        return False\n",
    "\n",
    "switch = MultipleBranches()\n",
    "print(switch(3), switch(13))"
   ]
  },
  {
   "cell_type": "markdown",
   "id": "5dc12164-b663-405b-872f-756996f628bd",
   "metadata": {},
   "source": [
    "# Workflows\n",
    "\n",
    "The case where we have groups of connected nodes working together is our normal, intended use case.\n",
    "We offer a formal way to group these objects together as a `Workflow` object.\n",
    "`Workflow` also offers us a single point of entry to the codebase -- i.e. most of the time you shouldn't need the node imports used above, because the decorators are available right on the workflow class.\n",
    "\n",
    "We will also see here that we can rename our node output channels using the `outputs_map: dict[str, str]` kwarg, in case they don't have a convenient name to start with.\n",
    "This way we can always have convenient dot-based access (and tab completion) instead of having to access things by string-based keys.\n",
    "\n",
    "Finally, when a workflow is run, unless its `automate_execution` flag has been set to `False` or the data connections form a cyclic graph, it will _automatically_ build the necessary run signals! That means for all directed acyclic graph (DAG) workflows, all we typically need to worry about is the data connections."
   ]
  },
  {
   "cell_type": "markdown",
   "id": "9b9d3881-3584-4d6f-8068-5eed05760c36",
   "metadata": {},
   "source": [
    "Here is an example showing how `Workflow` can be used as a single-point-of-import for defining new nodes:"
   ]
  },
  {
   "cell_type": "code",
   "execution_count": 36,
   "id": "1cd000bd-9b24-4c39-9cac-70a3291d0660",
   "metadata": {},
   "outputs": [],
   "source": [
    "from pyiron_workflow import Workflow\n",
    "\n",
    "@Workflow.wrap.as_function_node(\"is_greater\")\n",
    "def GreaterThanHalf(x: int | float | bool = 0) -> bool:\n",
    "    \"\"\"The functionality doesn't matter here, it's just an example\"\"\"\n",
    "    return x > 0.5"
   ]
  },
  {
   "cell_type": "markdown",
   "id": "8f17751c-f5bf-4b13-8275-0685d8a1629e",
   "metadata": {},
   "source": [
    "## Adding nodes to a workflow\n",
    "\n",
    "Each node can belong to exactly one workflow...but how to we create a workflow and add nodes to it\n",
    "\n",
    "All five of the approaches below are equivalent ways to add a node to a workflow. Note that when `create` is called from the workflow _class_ it just gives you access to the class being created; when it is called from a workflow _instance_, it wraps this class so that the created node has its parent value automatically set to the workflow instance that's creating it."
   ]
  },
  {
   "cell_type": "code",
   "execution_count": 37,
   "id": "7964df3c-55af-4c25-afc5-9e07accb606a",
   "metadata": {},
   "outputs": [
    {
     "name": "stdout",
     "output_type": "stream",
     "text": [
      "n1 == n1) 0.0 > 0.5 False\n",
      "n2 == n2) 0.25 > 0.5 False\n",
      "n3 == n3) 0.5 > 0.5 False\n",
      "n4 == n4) 0.75 > 0.5 True\n"
     ]
    }
   ],
   "source": [
    "n1 = GreaterThanHalf(label=\"n1\")\n",
    "\n",
    "wf = Workflow(\"my_wf\", n1)  # As args at init\n",
    "wf.add_child(GreaterThanHalf(label=\"n2\"))  # Instantiating then passing to node adder\n",
    "wf.n3 = GreaterThanHalf(label=\"will_get_overwritten_with_n3\")  # Set attribute to instance\n",
    "GreaterThanHalf(label=\"n4\", parent=wf)  # By passing the workflow to the node\n",
    "\n",
    "for i, (label, node) in enumerate(wf.children.items()):\n",
    "    x = i / len(wf)\n",
    "    node(x=x)\n",
    "    print(f\"{label} == {node.label}) {x} > 0.5 {node.value}\")"
   ]
  },
  {
   "cell_type": "markdown",
   "id": "77c68bcb-089c-4c92-9897-9a7ab9b087c7",
   "metadata": {},
   "source": [
    "Nodes can also be removed or replaced with the corresponding `remove_child` or `replace_child` methods."
   ]
  },
  {
   "cell_type": "markdown",
   "id": "dd5768a4-1810-4675-9389-bceb053cddfa",
   "metadata": {},
   "source": [
    "Workflows have inputs and outputs just like function nodes, but these are dynamically created to map to all _unconnected_ input and output for their underlying graph. They automatically get named by connecting the node label and channel label with a double underscore, but this can be overriden by providing an `inputs_map` and/or an `outputs_map` -- these maps can also let you expose data channels that would otherwise be hidden because they have a connection!"
   ]
  },
  {
   "cell_type": "code",
   "execution_count": 38,
   "id": "809178a5-2e6b-471d-89ef-0797db47c5ad",
   "metadata": {},
   "outputs": [
    {
     "name": "stdout",
     "output_type": "stream",
     "text": [
      "inputs: ['a', 'b']\n",
      "outputs: ['a + 1', 'a + b + 2']\n"
     ]
    }
   ],
   "source": [
    "wf = Workflow(\"simple\")\n",
    "\n",
    "@Workflow.wrap.as_function_node()\n",
    "def AddOne(x):\n",
    "    y = x + 1\n",
    "    return y\n",
    "\n",
    "@Workflow.wrap.as_function_node(\"sum\")\n",
    "def Add(x, y):\n",
    "    return x + y\n",
    "\n",
    "wf.a = AddOne(0)\n",
    "wf.b = AddOne(0)\n",
    "wf.sum = Add(wf.a, wf.b)  \n",
    "wf.inputs_map = {\"a__x\": \"a\", \"b__x\": \"b\"}\n",
    "wf.outputs_map = {\"a__y\": \"a + 1\", \"sum__sum\": \"a + b + 2\"}\n",
    "# Remember, with single value nodes we can pass the whole node instead of an output channel!\n",
    "\n",
    "print(\"inputs:\", wf.inputs.labels)\n",
    "print(\"outputs:\", wf.outputs.labels)"
   ]
  },
  {
   "cell_type": "markdown",
   "id": "848a45a9-dfcc-4b9e-aec5-e879d88325a2",
   "metadata": {},
   "source": [
    "When `run()` is called on a workflow, it will call `run()` on each node in its `starting_nodes` list and rely on these to propagate the execution with their run signals. If your data flow is DAG-like, all of this gets handled automatically so you just need to call `run()` on the workflow.\n",
    "\n",
    "If you do have cyclic data flows, or just want more control, you are still free to set the `starting_nodes` and run signals yourself, just don't forget to set `automate_execution=False` on the workflow."
   ]
  },
  {
   "cell_type": "markdown",
   "id": "18ba07ca-f1f9-4f05-98db-d5612f9acbb6",
   "metadata": {},
   "source": [
    "Unlike function nodes, workflow input has no intrinsic order. We can still update it by calling the workflow, but we _need_ to use keyword and not positional arguments. Runs of the workflow then return a dot-accessible dictionary based on the output channels:"
   ]
  },
  {
   "cell_type": "code",
   "execution_count": 39,
   "id": "52c48d19-10a2-4c48-ae81-eceea4129a60",
   "metadata": {},
   "outputs": [
    {
     "data": {
      "text/plain": [
       "{'a + 1': 3, 'a + b + 2': 7}"
      ]
     },
     "execution_count": 39,
     "metadata": {},
     "output_type": "execute_result"
    }
   ],
   "source": [
    "out = wf(a=2, b=3)\n",
    "out"
   ]
  },
  {
   "cell_type": "markdown",
   "id": "a229a66b-54f0-4d79-a16f-669c5f755587",
   "metadata": {},
   "source": [
    "Note: Workflows are the \"parent-most\" node, so even though `__call__` is still invoking a `pull`, the \"run all upstream data dependencies\" part of \"run all upstream data dependencies then run yourself\" gets skipped trivially -- workflows can't have siblings or parents so there are no dependencies to run! Thus `__call__` is effectively just a `run`."
   ]
  },
  {
   "cell_type": "markdown",
   "id": "e3f4b51b-7c28-47f7-9822-b4755e12bd4d",
   "metadata": {},
   "source": [
    "We can see now why we've been trying to give succinct string labels to our `Function` node outputs instead of just arbitrary expressions! The expressions are typically not dot-accessible, but can still be grabbed with a key:"
   ]
  },
  {
   "cell_type": "code",
   "execution_count": 40,
   "id": "bb35ba3e-602d-4c9c-b046-32da9401dd1c",
   "metadata": {},
   "outputs": [
    {
     "data": {
      "text/plain": [
       "7"
      ]
     },
     "execution_count": 40,
     "metadata": {},
     "output_type": "execute_result"
    }
   ],
   "source": [
    "out[\"a + b + 2\"]"
   ]
  },
  {
   "cell_type": "markdown",
   "id": "c67ddcd9-cea0-4f3f-96aa-491da0a4c459",
   "metadata": {},
   "source": [
    "We can also visualize our graph!"
   ]
  },
  {
   "cell_type": "code",
   "execution_count": 41,
   "id": "2b0d2c85-9049-417b-8739-8a8432a1efbe",
   "metadata": {},
   "outputs": [
    {
     "data": {
      "image/svg+xml": [
       "<?xml version=\"1.0\" encoding=\"UTF-8\" standalone=\"no\"?>\n",
       "<!DOCTYPE svg PUBLIC \"-//W3C//DTD SVG 1.1//EN\"\n",
       " \"http://www.w3.org/Graphics/SVG/1.1/DTD/svg11.dtd\">\n",
       "<!-- Generated by graphviz version 9.0.0 (0)\n",
       " -->\n",
       "<!-- Title: clustersimple Pages: 1 -->\n",
       "<svg width=\"720pt\" height=\"384pt\"\n",
       " viewBox=\"0.00 0.00 720.00 383.61\" xmlns=\"http://www.w3.org/2000/svg\" xmlns:xlink=\"http://www.w3.org/1999/xlink\">\n",
       "<g id=\"graph0\" class=\"graph\" transform=\"scale(0.706463 0.706463) rotate(0) translate(4 539)\">\n",
       "<title>clustersimple</title>\n",
       "<polygon fill=\"white\" stroke=\"none\" points=\"-4,4 -4,-539 1015.16,-539 1015.16,4 -4,4\"/>\n",
       "<text text-anchor=\"middle\" x=\"505.58\" y=\"-5.7\" font-family=\"Helvetica,sans-Serif\" font-size=\"14.00\">simple: Workflow</text>\n",
       "<g id=\"clust1\" class=\"cluster\">\n",
       "<title>clustersimpleInputs</title>\n",
       "<defs>\n",
       "<linearGradient id=\"clust1_l_0\" gradientUnits=\"userSpaceOnUse\" x1=\"8\" y1=\"-149.5\" x2=\"166.75\" y2=\"-149.5\" >\n",
       "<stop offset=\"0\" style=\"stop-color:#a5a4a5;stop-opacity:1.;\"/>\n",
       "<stop offset=\"1\" style=\"stop-color:#e4e4e4;stop-opacity:1.;\"/>\n",
       "</linearGradient>\n",
       "</defs>\n",
       "<polygon fill=\"url(#clust1_l_0)\" stroke=\"#a5a4a5\" points=\"8,-31 8,-268 166.75,-268 166.75,-31 8,-31\"/>\n",
       "<text text-anchor=\"middle\" x=\"87.38\" y=\"-250.7\" font-family=\"Helvetica,sans-Serif\" font-size=\"14.00\">Inputs</text>\n",
       "</g>\n",
       "<g id=\"clust2\" class=\"cluster\">\n",
       "<title>clustersimpleOutputs</title>\n",
       "<defs>\n",
       "<linearGradient id=\"clust2_l_1\" gradientUnits=\"userSpaceOnUse\" x1=\"1003.16\" y1=\"-282.5\" x2=\"896.17\" y2=\"-282.5\" >\n",
       "<stop offset=\"0\" style=\"stop-color:#a5a4a5;stop-opacity:1.;\"/>\n",
       "<stop offset=\"1\" style=\"stop-color:#e4e4e4;stop-opacity:1.;\"/>\n",
       "</linearGradient>\n",
       "</defs>\n",
       "<polygon fill=\"url(#clust2_l_1)\" stroke=\"#a5a4a5\" points=\"896.17,-191 896.17,-374 1003.16,-374 1003.16,-191 896.17,-191\"/>\n",
       "<text text-anchor=\"middle\" x=\"949.67\" y=\"-356.7\" font-family=\"Helvetica,sans-Serif\" font-size=\"14.00\">Outputs</text>\n",
       "</g>\n",
       "<g id=\"clust3\" class=\"cluster\">\n",
       "<title>clustersimplea</title>\n",
       "<defs>\n",
       "<linearGradient id=\"clust3_l_2\" gradientUnits=\"userSpaceOnUse\" x1=\"178.75\" y1=\"-416\" x2=\"531.5\" y2=\"-416\" >\n",
       "<stop offset=\"0\" style=\"stop-color:#c0e2c0;stop-opacity:1.;\"/>\n",
       "<stop offset=\"1\" style=\"stop-color:#c0e2c0;stop-opacity:1.;\"/>\n",
       "</linearGradient>\n",
       "</defs>\n",
       "<polygon fill=\"url(#clust3_l_2)\" stroke=\"#c0e2c0\" points=\"178.75,-305 178.75,-527 531.5,-527 531.5,-305 178.75,-305\"/>\n",
       "<text text-anchor=\"middle\" x=\"355.12\" y=\"-509.7\" font-family=\"Helvetica,sans-Serif\" font-size=\"14.00\">a: AddOne</text>\n",
       "</g>\n",
       "<g id=\"clust4\" class=\"cluster\">\n",
       "<title>clustersimpleaInputs</title>\n",
       "<defs>\n",
       "<linearGradient id=\"clust4_l_3\" gradientUnits=\"userSpaceOnUse\" x1=\"186.75\" y1=\"-404.5\" x2=\"345.5\" y2=\"-404.5\" >\n",
       "<stop offset=\"0\" style=\"stop-color:#a5a4a5;stop-opacity:1.;\"/>\n",
       "<stop offset=\"1\" style=\"stop-color:#e4e4e4;stop-opacity:1.;\"/>\n",
       "</linearGradient>\n",
       "</defs>\n",
       "<polygon fill=\"url(#clust4_l_3)\" stroke=\"#a5a4a5\" points=\"186.75,-313 186.75,-496 345.5,-496 345.5,-313 186.75,-313\"/>\n",
       "<text text-anchor=\"middle\" x=\"266.12\" y=\"-478.7\" font-family=\"Helvetica,sans-Serif\" font-size=\"14.00\">Inputs</text>\n",
       "</g>\n",
       "<g id=\"clust5\" class=\"cluster\">\n",
       "<title>clustersimpleaOutputsWithInjection</title>\n",
       "<defs>\n",
       "<linearGradient id=\"clust5_l_4\" gradientUnits=\"userSpaceOnUse\" x1=\"523.5\" y1=\"-392.5\" x2=\"381.5\" y2=\"-392.5\" >\n",
       "<stop offset=\"0\" style=\"stop-color:#a5a4a5;stop-opacity:1.;\"/>\n",
       "<stop offset=\"1\" style=\"stop-color:#e4e4e4;stop-opacity:1.;\"/>\n",
       "</linearGradient>\n",
       "</defs>\n",
       "<polygon fill=\"url(#clust5_l_4)\" stroke=\"#a5a4a5\" points=\"381.5,-328 381.5,-457 523.5,-457 523.5,-328 381.5,-328\"/>\n",
       "<text text-anchor=\"middle\" x=\"452.5\" y=\"-439.7\" font-family=\"Helvetica,sans-Serif\" font-size=\"14.00\">OutputsWithInjection</text>\n",
       "</g>\n",
       "<g id=\"clust6\" class=\"cluster\">\n",
       "<title>clustersimpleb</title>\n",
       "<defs>\n",
       "<linearGradient id=\"clust6_l_5\" gradientUnits=\"userSpaceOnUse\" x1=\"178.75\" y1=\"-186\" x2=\"531.5\" y2=\"-186\" >\n",
       "<stop offset=\"0\" style=\"stop-color:#c0e2c0;stop-opacity:1.;\"/>\n",
       "<stop offset=\"1\" style=\"stop-color:#c0e2c0;stop-opacity:1.;\"/>\n",
       "</linearGradient>\n",
       "</defs>\n",
       "<polygon fill=\"url(#clust6_l_5)\" stroke=\"#c0e2c0\" points=\"178.75,-75 178.75,-297 531.5,-297 531.5,-75 178.75,-75\"/>\n",
       "<text text-anchor=\"middle\" x=\"355.12\" y=\"-279.7\" font-family=\"Helvetica,sans-Serif\" font-size=\"14.00\">b: AddOne</text>\n",
       "</g>\n",
       "<g id=\"clust7\" class=\"cluster\">\n",
       "<title>clustersimplebInputs</title>\n",
       "<defs>\n",
       "<linearGradient id=\"clust7_l_6\" gradientUnits=\"userSpaceOnUse\" x1=\"186.75\" y1=\"-174.5\" x2=\"345.5\" y2=\"-174.5\" >\n",
       "<stop offset=\"0\" style=\"stop-color:#a5a4a5;stop-opacity:1.;\"/>\n",
       "<stop offset=\"1\" style=\"stop-color:#e4e4e4;stop-opacity:1.;\"/>\n",
       "</linearGradient>\n",
       "</defs>\n",
       "<polygon fill=\"url(#clust7_l_6)\" stroke=\"#a5a4a5\" points=\"186.75,-83 186.75,-266 345.5,-266 345.5,-83 186.75,-83\"/>\n",
       "<text text-anchor=\"middle\" x=\"266.12\" y=\"-248.7\" font-family=\"Helvetica,sans-Serif\" font-size=\"14.00\">Inputs</text>\n",
       "</g>\n",
       "<g id=\"clust8\" class=\"cluster\">\n",
       "<title>clustersimplebOutputsWithInjection</title>\n",
       "<defs>\n",
       "<linearGradient id=\"clust8_l_7\" gradientUnits=\"userSpaceOnUse\" x1=\"523.5\" y1=\"-201.5\" x2=\"381.5\" y2=\"-201.5\" >\n",
       "<stop offset=\"0\" style=\"stop-color:#a5a4a5;stop-opacity:1.;\"/>\n",
       "<stop offset=\"1\" style=\"stop-color:#e4e4e4;stop-opacity:1.;\"/>\n",
       "</linearGradient>\n",
       "</defs>\n",
       "<polygon fill=\"url(#clust8_l_7)\" stroke=\"#a5a4a5\" points=\"381.5,-137 381.5,-266 523.5,-266 523.5,-137 381.5,-137\"/>\n",
       "<text text-anchor=\"middle\" x=\"452.5\" y=\"-248.7\" font-family=\"Helvetica,sans-Serif\" font-size=\"14.00\">OutputsWithInjection</text>\n",
       "</g>\n",
       "<g id=\"clust9\" class=\"cluster\">\n",
       "<title>clustersimplesum</title>\n",
       "<defs>\n",
       "<linearGradient id=\"clust9_l_8\" gradientUnits=\"userSpaceOnUse\" x1=\"539.5\" y1=\"-267\" x2=\"884.17\" y2=\"-267\" >\n",
       "<stop offset=\"0\" style=\"stop-color:#c0e2c0;stop-opacity:1.;\"/>\n",
       "<stop offset=\"1\" style=\"stop-color:#c0e2c0;stop-opacity:1.;\"/>\n",
       "</linearGradient>\n",
       "</defs>\n",
       "<polygon fill=\"url(#clust9_l_8)\" stroke=\"#c0e2c0\" points=\"539.5,-129 539.5,-405 884.17,-405 884.17,-129 539.5,-129\"/>\n",
       "<text text-anchor=\"middle\" x=\"711.84\" y=\"-387.7\" font-family=\"Helvetica,sans-Serif\" font-size=\"14.00\">sum: Add</text>\n",
       "</g>\n",
       "<g id=\"clust10\" class=\"cluster\">\n",
       "<title>clustersimplesumInputs</title>\n",
       "<defs>\n",
       "<linearGradient id=\"clust10_l_9\" gradientUnits=\"userSpaceOnUse\" x1=\"547.5\" y1=\"-255.5\" x2=\"706.25\" y2=\"-255.5\" >\n",
       "<stop offset=\"0\" style=\"stop-color:#a5a4a5;stop-opacity:1.;\"/>\n",
       "<stop offset=\"1\" style=\"stop-color:#e4e4e4;stop-opacity:1.;\"/>\n",
       "</linearGradient>\n",
       "</defs>\n",
       "<polygon fill=\"url(#clust10_l_9)\" stroke=\"#a5a4a5\" points=\"547.5,-137 547.5,-374 706.25,-374 706.25,-137 547.5,-137\"/>\n",
       "<text text-anchor=\"middle\" x=\"626.88\" y=\"-356.7\" font-family=\"Helvetica,sans-Serif\" font-size=\"14.00\">Inputs</text>\n",
       "</g>\n",
       "<g id=\"clust11\" class=\"cluster\">\n",
       "<title>clustersimplesumOutputsWithInjection</title>\n",
       "<defs>\n",
       "<linearGradient id=\"clust11_l_10\" gradientUnits=\"userSpaceOnUse\" x1=\"876.17\" y1=\"-309.5\" x2=\"734.25\" y2=\"-309.5\" >\n",
       "<stop offset=\"0\" style=\"stop-color:#a5a4a5;stop-opacity:1.;\"/>\n",
       "<stop offset=\"1\" style=\"stop-color:#e4e4e4;stop-opacity:1.;\"/>\n",
       "</linearGradient>\n",
       "</defs>\n",
       "<polygon fill=\"url(#clust11_l_10)\" stroke=\"#a5a4a5\" points=\"734.25,-245 734.25,-374 876.17,-374 876.17,-245 734.25,-245\"/>\n",
       "<text text-anchor=\"middle\" x=\"805.21\" y=\"-356.7\" font-family=\"Helvetica,sans-Serif\" font-size=\"14.00\">OutputsWithInjection</text>\n",
       "</g>\n",
       "<!-- clustersimpleInputsrun -->\n",
       "<g id=\"node1\" class=\"node\">\n",
       "<title>clustersimpleInputsrun</title>\n",
       "<polygon fill=\"#21bfd8\" stroke=\"#21bfd8\" points=\"102.38,-69 60.38,-69 60.38,-45 102.38,-45 114.38,-57 102.38,-69\"/>\n",
       "<text text-anchor=\"middle\" x=\"87.38\" y=\"-51.2\" font-family=\"Helvetica,sans-Serif\" font-size=\"14.00\">run</text>\n",
       "</g>\n",
       "<!-- clustersimpleOutputsran -->\n",
       "<g id=\"node5\" class=\"node\">\n",
       "<title>clustersimpleOutputsran</title>\n",
       "<polygon fill=\"#21bfd8\" stroke=\"#21bfd8\" points=\"964.67,-229 922.67,-229 922.67,-205 964.67,-205 976.67,-217 964.67,-229\"/>\n",
       "<text text-anchor=\"middle\" x=\"949.67\" y=\"-211.2\" font-family=\"Helvetica,sans-Serif\" font-size=\"14.00\">ran</text>\n",
       "</g>\n",
       "<!-- clustersimpleInputsrun&#45;&gt;clustersimpleOutputsran -->\n",
       "<!-- clustersimpleInputsaccumulate_and_run -->\n",
       "<g id=\"node2\" class=\"node\">\n",
       "<title>clustersimpleInputsaccumulate_and_run</title>\n",
       "<polygon fill=\"#21bfd8\" stroke=\"#21bfd8\" points=\"146.75,-177 16,-177 16,-153 146.75,-153 158.75,-165 146.75,-177\"/>\n",
       "<text text-anchor=\"middle\" x=\"87.38\" y=\"-159.2\" font-family=\"Helvetica,sans-Serif\" font-size=\"14.00\">accumulate_and_run</text>\n",
       "</g>\n",
       "<!-- clustersimpleInputsa -->\n",
       "<g id=\"node3\" class=\"node\">\n",
       "<title>clustersimpleInputsa</title>\n",
       "<ellipse fill=\"#edb22c\" stroke=\"#edb22c\" cx=\"87.38\" cy=\"-219\" rx=\"27\" ry=\"18\"/>\n",
       "<text text-anchor=\"middle\" x=\"87.38\" y=\"-213.2\" font-family=\"Helvetica,sans-Serif\" font-size=\"14.00\">a</text>\n",
       "</g>\n",
       "<!-- clustersimpleaInputsx -->\n",
       "<g id=\"node10\" class=\"node\">\n",
       "<title>clustersimpleaInputsx</title>\n",
       "<ellipse fill=\"#edb22c\" stroke=\"#edb22c\" cx=\"266.12\" cy=\"-339\" rx=\"27\" ry=\"18\"/>\n",
       "<text text-anchor=\"middle\" x=\"266.12\" y=\"-333.2\" font-family=\"Helvetica,sans-Serif\" font-size=\"14.00\">x</text>\n",
       "</g>\n",
       "<!-- clustersimpleInputsa&#45;&gt;clustersimpleaInputsx -->\n",
       "<g id=\"edge9\" class=\"edge\">\n",
       "<title>clustersimpleInputsa&#45;&gt;clustersimpleaInputsx</title>\n",
       "<path fill=\"none\" stroke=\"#edb22c\" d=\"M106.96,-231.62C122.54,-242.19 146.06,-258.17 170.24,-274.58\"/>\n",
       "<path fill=\"none\" stroke=\"#edb22c\" d=\"M170.24,-274.58C194.42,-291 219.26,-307.86 237.45,-320.21\"/>\n",
       "<polygon fill=\"#edb22c\" stroke=\"#edb22c\" points=\"235.04,-322.8 245.28,-325.52 238.97,-317.01 235.04,-322.8\"/>\n",
       "</g>\n",
       "<!-- clustersimpleInputsb -->\n",
       "<g id=\"node4\" class=\"node\">\n",
       "<title>clustersimpleInputsb</title>\n",
       "<ellipse fill=\"#edb22c\" stroke=\"#edb22c\" cx=\"87.38\" cy=\"-111\" rx=\"27\" ry=\"18\"/>\n",
       "<text text-anchor=\"middle\" x=\"87.38\" y=\"-105.2\" font-family=\"Helvetica,sans-Serif\" font-size=\"14.00\">b</text>\n",
       "</g>\n",
       "<!-- clustersimplebInputsx -->\n",
       "<g id=\"node15\" class=\"node\">\n",
       "<title>clustersimplebInputsx</title>\n",
       "<ellipse fill=\"#edb22c\" stroke=\"#edb22c\" cx=\"266.12\" cy=\"-109\" rx=\"27\" ry=\"18\"/>\n",
       "<text text-anchor=\"middle\" x=\"266.12\" y=\"-103.2\" font-family=\"Helvetica,sans-Serif\" font-size=\"14.00\">x</text>\n",
       "</g>\n",
       "<!-- clustersimpleInputsb&#45;&gt;clustersimplebInputsx -->\n",
       "<g id=\"edge10\" class=\"edge\">\n",
       "<title>clustersimpleInputsb&#45;&gt;clustersimplebInputsx</title>\n",
       "<path fill=\"none\" stroke=\"#edb22c\" d=\"M114.84,-110.7C129.78,-110.53 149.48,-110.31 169.67,-110.08\"/>\n",
       "<path fill=\"none\" stroke=\"#edb22c\" d=\"M169.67,-110.08C189.86,-109.85 210.55,-109.62 227.48,-109.43\"/>\n",
       "<polygon fill=\"#edb22c\" stroke=\"#edb22c\" points=\"227.3,-112.93 237.26,-109.32 227.22,-105.93 227.3,-112.93\"/>\n",
       "</g>\n",
       "<!-- clustersimpleOutputsa + 1 -->\n",
       "<g id=\"node6\" class=\"node\">\n",
       "<title>clustersimpleOutputsa + 1</title>\n",
       "<ellipse fill=\"#edb22c\" stroke=\"#edb22c\" cx=\"949.67\" cy=\"-325\" rx=\"30.38\" ry=\"18\"/>\n",
       "<text text-anchor=\"middle\" x=\"949.67\" y=\"-319.2\" font-family=\"Helvetica,sans-Serif\" font-size=\"14.00\">a + 1</text>\n",
       "</g>\n",
       "<!-- clustersimpleOutputsa + b + 2 -->\n",
       "<g id=\"node7\" class=\"node\">\n",
       "<title>clustersimpleOutputsa + b + 2</title>\n",
       "<ellipse fill=\"#edb22c\" stroke=\"#edb22c\" cx=\"949.67\" cy=\"-271\" rx=\"45.5\" ry=\"18\"/>\n",
       "<text text-anchor=\"middle\" x=\"949.67\" y=\"-265.2\" font-family=\"Helvetica,sans-Serif\" font-size=\"14.00\">a + b + 2</text>\n",
       "</g>\n",
       "<!-- clustersimpleaInputsrun -->\n",
       "<g id=\"node8\" class=\"node\">\n",
       "<title>clustersimpleaInputsrun</title>\n",
       "<polygon fill=\"#21bfd8\" stroke=\"#21bfd8\" points=\"281.12,-459 239.12,-459 239.12,-435 281.12,-435 293.12,-447 281.12,-459\"/>\n",
       "<text text-anchor=\"middle\" x=\"266.12\" y=\"-441.2\" font-family=\"Helvetica,sans-Serif\" font-size=\"14.00\">run</text>\n",
       "</g>\n",
       "<!-- clustersimpleaOutputsWithInjectionran -->\n",
       "<g id=\"node11\" class=\"node\">\n",
       "<title>clustersimpleaOutputsWithInjectionran</title>\n",
       "<polygon fill=\"#21bfd8\" stroke=\"#21bfd8\" points=\"467.5,-366 425.5,-366 425.5,-342 467.5,-342 479.5,-354 467.5,-366\"/>\n",
       "<text text-anchor=\"middle\" x=\"452.5\" y=\"-348.2\" font-family=\"Helvetica,sans-Serif\" font-size=\"14.00\">ran</text>\n",
       "</g>\n",
       "<!-- clustersimpleaInputsrun&#45;&gt;clustersimpleaOutputsWithInjectionran -->\n",
       "<!-- clustersimpleaInputsaccumulate_and_run -->\n",
       "<g id=\"node9\" class=\"node\">\n",
       "<title>clustersimpleaInputsaccumulate_and_run</title>\n",
       "<polygon fill=\"#21bfd8\" stroke=\"#21bfd8\" points=\"325.5,-405 194.75,-405 194.75,-381 325.5,-381 337.5,-393 325.5,-405\"/>\n",
       "<text text-anchor=\"middle\" x=\"266.12\" y=\"-387.2\" font-family=\"Helvetica,sans-Serif\" font-size=\"14.00\">accumulate_and_run</text>\n",
       "</g>\n",
       "<!-- clustersimplesumInputsaccumulate_and_run -->\n",
       "<g id=\"node19\" class=\"node\">\n",
       "<title>clustersimplesumInputsaccumulate_and_run</title>\n",
       "<polygon fill=\"#21bfd8\" stroke=\"#21bfd8\" points=\"686.25,-229 555.5,-229 555.5,-205 686.25,-205 698.25,-217 686.25,-229\"/>\n",
       "<text text-anchor=\"middle\" x=\"626.88\" y=\"-211.2\" font-family=\"Helvetica,sans-Serif\" font-size=\"14.00\">accumulate_and_run</text>\n",
       "</g>\n",
       "<!-- clustersimpleaOutputsWithInjectionran&#45;&gt;clustersimplesumInputsaccumulate_and_run -->\n",
       "<g id=\"edge5\" class=\"edge\">\n",
       "<title>clustersimpleaOutputsWithInjectionran&#45;&gt;clustersimplesumInputsaccumulate_and_run</title>\n",
       "<path fill=\"none\" stroke=\"#21bfd8\" d=\"M475.22,-335.7C488.18,-324 504.73,-307.63 518.46,-289.48\"/>\n",
       "<path fill=\"none\" stroke=\"#21bfd8\" d=\"M518.46,-289.48C523.24,-283.16 527.67,-276.63 531.5,-270 537.54,-259.53 530.97,-252.57 539.5,-244 541.49,-242 543.62,-240.15 545.87,-238.44\"/>\n",
       "<polygon fill=\"#21bfd8\" stroke=\"#21bfd8\" points=\"547.3,-241.69 553.78,-233.31 543.49,-235.81 547.3,-241.69\"/>\n",
       "</g>\n",
       "<!-- clustersimpleaOutputsWithInjectiony -->\n",
       "<g id=\"node12\" class=\"node\">\n",
       "<title>clustersimpleaOutputsWithInjectiony</title>\n",
       "<ellipse fill=\"#edb22c\" stroke=\"#edb22c\" cx=\"452.5\" cy=\"-408\" rx=\"27\" ry=\"18\"/>\n",
       "<text text-anchor=\"middle\" x=\"452.5\" y=\"-402.2\" font-family=\"Helvetica,sans-Serif\" font-size=\"14.00\">y</text>\n",
       "</g>\n",
       "<!-- clustersimpleaOutputsWithInjectiony&#45;&gt;clustersimpleOutputsa + 1 -->\n",
       "<g id=\"edge11\" class=\"edge\">\n",
       "<title>clustersimpleaOutputsWithInjectiony&#45;&gt;clustersimpleOutputsa + 1</title>\n",
       "<path fill=\"none\" stroke=\"#edb22c\" d=\"M479.45,-411.49C518.18,-416.08 595.84,-423.01 681.97,-418.03\"/>\n",
       "<path fill=\"none\" stroke=\"#edb22c\" d=\"M681.97,-418.03C749.02,-414.15 821.22,-403.05 884.17,-378 900.05,-371.68 914.99,-359.94 926.48,-349.1\"/>\n",
       "<polygon fill=\"#edb22c\" stroke=\"#edb22c\" points=\"928.84,-351.69 933.48,-342.17 923.91,-346.72 928.84,-351.69\"/>\n",
       "</g>\n",
       "<!-- clustersimplesumInputsx -->\n",
       "<g id=\"node20\" class=\"node\">\n",
       "<title>clustersimplesumInputsx</title>\n",
       "<ellipse fill=\"#edb22c\" stroke=\"#edb22c\" cx=\"626.88\" cy=\"-271\" rx=\"27\" ry=\"18\"/>\n",
       "<text text-anchor=\"middle\" x=\"626.88\" y=\"-265.2\" font-family=\"Helvetica,sans-Serif\" font-size=\"14.00\">x</text>\n",
       "</g>\n",
       "<!-- clustersimpleaOutputsWithInjectiony&#45;&gt;clustersimplesumInputsx -->\n",
       "<g id=\"edge6\" class=\"edge\">\n",
       "<title>clustersimpleaOutputsWithInjectiony&#45;&gt;clustersimplesumInputsx</title>\n",
       "<path fill=\"none\" stroke=\"#edb22c\" d=\"M479.77,-406.04C497.24,-403.27 519.18,-396.65 531.5,-381 542.64,-366.84 539.32,-353.63 535.65,-340.49\"/>\n",
       "<path fill=\"none\" stroke=\"#edb22c\" d=\"M535.65,-340.49C531.77,-326.6 527.5,-312.78 539.5,-298 551.3,-283.46 570.84,-276.61 588.35,-273.44\"/>\n",
       "<polygon fill=\"#edb22c\" stroke=\"#edb22c\" points=\"588.84,-276.9 598.25,-272.02 587.85,-269.97 588.84,-276.9\"/>\n",
       "</g>\n",
       "<!-- clustersimplebInputsrun -->\n",
       "<g id=\"node13\" class=\"node\">\n",
       "<title>clustersimplebInputsrun</title>\n",
       "<polygon fill=\"#21bfd8\" stroke=\"#21bfd8\" points=\"281.12,-229 239.12,-229 239.12,-205 281.12,-205 293.12,-217 281.12,-229\"/>\n",
       "<text text-anchor=\"middle\" x=\"266.12\" y=\"-211.2\" font-family=\"Helvetica,sans-Serif\" font-size=\"14.00\">run</text>\n",
       "</g>\n",
       "<!-- clustersimplebOutputsWithInjectionran -->\n",
       "<g id=\"node16\" class=\"node\">\n",
       "<title>clustersimplebOutputsWithInjectionran</title>\n",
       "<polygon fill=\"#21bfd8\" stroke=\"#21bfd8\" points=\"467.5,-229 425.5,-229 425.5,-205 467.5,-205 479.5,-217 467.5,-229\"/>\n",
       "<text text-anchor=\"middle\" x=\"452.5\" y=\"-211.2\" font-family=\"Helvetica,sans-Serif\" font-size=\"14.00\">ran</text>\n",
       "</g>\n",
       "<!-- clustersimplebInputsrun&#45;&gt;clustersimplebOutputsWithInjectionran -->\n",
       "<!-- clustersimplebInputsaccumulate_and_run -->\n",
       "<g id=\"node14\" class=\"node\">\n",
       "<title>clustersimplebInputsaccumulate_and_run</title>\n",
       "<polygon fill=\"#21bfd8\" stroke=\"#21bfd8\" points=\"325.5,-175 194.75,-175 194.75,-151 325.5,-151 337.5,-163 325.5,-175\"/>\n",
       "<text text-anchor=\"middle\" x=\"266.12\" y=\"-157.2\" font-family=\"Helvetica,sans-Serif\" font-size=\"14.00\">accumulate_and_run</text>\n",
       "</g>\n",
       "<!-- clustersimplebOutputsWithInjectionran&#45;&gt;clustersimplesumInputsaccumulate_and_run -->\n",
       "<g id=\"edge7\" class=\"edge\">\n",
       "<title>clustersimplebOutputsWithInjectionran&#45;&gt;clustersimplesumInputsaccumulate_and_run</title>\n",
       "<path fill=\"none\" stroke=\"#21bfd8\" d=\"M479.68,-217C488.3,-217 498.51,-217 509.47,-217\"/>\n",
       "<path fill=\"none\" stroke=\"#21bfd8\" d=\"M509.47,-217C520.42,-217 532.12,-217 543.73,-217\"/>\n",
       "<polygon fill=\"#21bfd8\" stroke=\"#21bfd8\" points=\"543.54,-220.5 553.54,-217 543.54,-213.5 543.54,-220.5\"/>\n",
       "</g>\n",
       "<!-- clustersimplebOutputsWithInjectiony -->\n",
       "<g id=\"node17\" class=\"node\">\n",
       "<title>clustersimplebOutputsWithInjectiony</title>\n",
       "<ellipse fill=\"#edb22c\" stroke=\"#edb22c\" cx=\"452.5\" cy=\"-163\" rx=\"27\" ry=\"18\"/>\n",
       "<text text-anchor=\"middle\" x=\"452.5\" y=\"-157.2\" font-family=\"Helvetica,sans-Serif\" font-size=\"14.00\">y</text>\n",
       "</g>\n",
       "<!-- clustersimplesumInputsy -->\n",
       "<g id=\"node21\" class=\"node\">\n",
       "<title>clustersimplesumInputsy</title>\n",
       "<ellipse fill=\"#edb22c\" stroke=\"#edb22c\" cx=\"626.88\" cy=\"-163\" rx=\"27\" ry=\"18\"/>\n",
       "<text text-anchor=\"middle\" x=\"626.88\" y=\"-157.2\" font-family=\"Helvetica,sans-Serif\" font-size=\"14.00\">y</text>\n",
       "</g>\n",
       "<!-- clustersimplebOutputsWithInjectiony&#45;&gt;clustersimplesumInputsy -->\n",
       "<g id=\"edge8\" class=\"edge\">\n",
       "<title>clustersimplebOutputsWithInjectiony&#45;&gt;clustersimplesumInputsy</title>\n",
       "<path fill=\"none\" stroke=\"#edb22c\" d=\"M479.68,-163C494.11,-163 512.99,-163 532.37,-163\"/>\n",
       "<path fill=\"none\" stroke=\"#edb22c\" d=\"M532.37,-163C551.75,-163 571.62,-163 588.04,-163\"/>\n",
       "<polygon fill=\"#edb22c\" stroke=\"#edb22c\" points=\"587.94,-166.5 597.94,-163 587.93,-159.5 587.94,-166.5\"/>\n",
       "</g>\n",
       "<!-- clustersimplesumInputsrun -->\n",
       "<g id=\"node18\" class=\"node\">\n",
       "<title>clustersimplesumInputsrun</title>\n",
       "<polygon fill=\"#21bfd8\" stroke=\"#21bfd8\" points=\"641.88,-337 599.88,-337 599.88,-313 641.88,-313 653.88,-325 641.88,-337\"/>\n",
       "<text text-anchor=\"middle\" x=\"626.88\" y=\"-319.2\" font-family=\"Helvetica,sans-Serif\" font-size=\"14.00\">run</text>\n",
       "</g>\n",
       "<!-- clustersimplesumOutputsWithInjectionran -->\n",
       "<g id=\"node22\" class=\"node\">\n",
       "<title>clustersimplesumOutputsWithInjectionran</title>\n",
       "<polygon fill=\"#21bfd8\" stroke=\"#21bfd8\" points=\"819.71,-337 777.71,-337 777.71,-313 819.71,-313 831.71,-325 819.71,-337\"/>\n",
       "<text text-anchor=\"middle\" x=\"804.71\" y=\"-319.2\" font-family=\"Helvetica,sans-Serif\" font-size=\"14.00\">ran</text>\n",
       "</g>\n",
       "<!-- clustersimplesumInputsrun&#45;&gt;clustersimplesumOutputsWithInjectionran -->\n",
       "<!-- clustersimplesumOutputsWithInjectionsum -->\n",
       "<g id=\"node23\" class=\"node\">\n",
       "<title>clustersimplesumOutputsWithInjectionsum</title>\n",
       "<ellipse fill=\"#edb22c\" stroke=\"#edb22c\" cx=\"804.71\" cy=\"-271\" rx=\"27.46\" ry=\"18\"/>\n",
       "<text text-anchor=\"middle\" x=\"804.71\" y=\"-265.2\" font-family=\"Helvetica,sans-Serif\" font-size=\"14.00\">sum</text>\n",
       "</g>\n",
       "<!-- clustersimplesumOutputsWithInjectionsum&#45;&gt;clustersimpleOutputsa + b + 2 -->\n",
       "<g id=\"edge12\" class=\"edge\">\n",
       "<title>clustersimplesumOutputsWithInjectionsum&#45;&gt;clustersimpleOutputsa + b + 2</title>\n",
       "<path fill=\"none\" stroke=\"#edb22c\" d=\"M832.6,-271C841.06,-271 850.91,-271 861.23,-271\"/>\n",
       "<path fill=\"none\" stroke=\"#edb22c\" d=\"M861.23,-271C871.55,-271 882.33,-271 892.66,-271\"/>\n",
       "<polygon fill=\"#edb22c\" stroke=\"#edb22c\" points=\"892.4,-274.5 902.4,-271 892.4,-267.5 892.4,-274.5\"/>\n",
       "</g>\n",
       "</g>\n",
       "</svg>\n"
      ],
      "text/plain": [
       "<graphviz.graphs.Digraph at 0x1319b3310>"
      ]
     },
     "execution_count": 41,
     "metadata": {},
     "output_type": "execute_result"
    }
   ],
   "source": [
    "wf.draw(size=(10,10))"
   ]
  },
  {
   "cell_type": "markdown",
   "id": "2671dc36-42a4-466b-848d-067ef7bd1d1d",
   "metadata": {},
   "source": [
    "# Example with pre-built nodes\n",
    "\n",
    "Currently we have a handfull of pre-build nodes available for import from the `nodes` package. Let's use these to quickly put together a workflow for looking at some MD data.\n",
    "\n",
    "To access prebuilt nodes we can `.create` them. This works both from the workflow class _and_ from a workflow instance.\n",
    "\n",
    "There are a few of nodes that are always available under the `Workflow.create.standard` namespace, otherwise we need to register new node packages. This is done with the `register` method, which takes the domain (namespace/key/attribute/whatever you want to call it) under which you want to register the new nodes, and a string import path to a module that has a list of nodes under the name `nodes`, i.e. the module has the property `nodes: list[pyiron_workflow.node.Node]`. (You can also register a package with arbitrary nesting, where each non-package sub-module (i.e. a leaf .py file) with a `nodes` attribute will attempt to read those nodes as a package. Cf. the atomistics demo notebook for an example of this.) (This API is subject to change, as we work to improve usability and bring node packages more and more in line with \"FAIR\" principles.)\n",
    "\n",
    "You can make your own `.py` files with nodes for reuse this way, but `pyiron_workflow` also comes with a couple of packages. In this example we'll use atomistics and plotting:"
   ]
  },
  {
   "cell_type": "code",
   "execution_count": 42,
   "id": "ae500d5e-e55b-432c-8b5f-d5892193cdf5",
   "metadata": {},
   "outputs": [
    {
     "data": {
      "application/vnd.jupyter.widget-view+json": {
       "model_id": "d43198bb314e4436a40aa9add084fed6",
       "version_major": 2,
       "version_minor": 0
      },
      "text/plain": []
     },
     "metadata": {},
     "output_type": "display_data"
    },
    {
     "name": "stdout",
     "output_type": "stream",
     "text": [
      "The job JUSTAJOBNAME was saved and received the ID: 9680\n"
     ]
    },
    {
     "data": {
      "application/vnd.jupyter.widget-view+json": {
       "model_id": "009ad311f3c548f8ae2786dfd6a935e6",
       "version_major": 2,
       "version_minor": 0
      },
      "text/plain": [
       "0it [00:00, ?it/s]"
      ]
     },
     "metadata": {},
     "output_type": "display_data"
    },
    {
     "data": {
      "text/plain": [
       "<matplotlib.collections.PathCollection at 0x140fbe610>"
      ]
     },
     "execution_count": 42,
     "metadata": {},
     "output_type": "execute_result"
    },
    {
     "data": {
      "image/png": "[encoded data removed]",
      "text/plain": [
       "<Figure size 640x480 with 1 Axes>"
      ]
     },
     "metadata": {},
     "output_type": "display_data"
    }
   ],
   "source": [
    "wf.register(\"pyiron_workflow.node_library.pyiron_atomistics\", \"pyiron_atomistics\")\n",
    "wf.register(\"pyiron_workflow.node_library.plotting\", \"plotting\")\n",
    "\n",
    "wf = Workflow(\"with_prebuilt\")\n",
    "\n",
    "wf.structure = wf.create.pyiron_atomistics.Bulk(cubic=True, name=\"Al\")\n",
    "wf.engine = wf.create.pyiron_atomistics.Lammps(structure=wf.structure)\n",
    "wf.calc = wf.create.pyiron_atomistics.CalcMd(job=wf.engine)\n",
    "wf.plot = wf.create.plotting.Scatter(\n",
    "    x=wf.calc.outputs.steps, \n",
    "    y=wf.calc.outputs.temperature\n",
    ")\n",
    "\n",
    "out = wf.run()\n",
    "out.plot__fig"
   ]
  },
  {
   "cell_type": "markdown",
   "id": "43c09aa8-8229-4636-aaeb-9214b723c2fc",
   "metadata": {},
   "source": [
    "In case you want to see more or less of the inner workings of the nodes when visualizing a workflow, you can modify the `depth` parameter, which controls how deeply child nodes are decomposed. E.g. we can force our workflow to only show us it's basic IO by setting `depth=0`:"
   ]
  },
  {
   "cell_type": "code",
   "execution_count": 43,
   "id": "2114d0c3-cdad-43c7-9ffa-50c36d56d18f",
   "metadata": {},
   "outputs": [
    {
     "data": {
      "image/svg+xml": [
       "<?xml version=\"1.0\" encoding=\"UTF-8\" standalone=\"no\"?>\n",
       "<!DOCTYPE svg PUBLIC \"-//W3C//DTD SVG 1.1//EN\"\n",
       " \"http://www.w3.org/Graphics/SVG/1.1/DTD/svg11.dtd\">\n",
       "<!-- Generated by graphviz version 9.0.0 (0)\n",
       " -->\n",
       "<!-- Title: clusterwith_prebuilt Pages: 1 -->\n",
       "<svg width=\"472pt\" height=\"720pt\"\n",
       " viewBox=\"0.00 0.00 472.46 720.00\" xmlns=\"http://www.w3.org/2000/svg\" xmlns:xlink=\"http://www.w3.org/1999/xlink\">\n",
       "<g id=\"graph0\" class=\"graph\" transform=\"scale(0.873786 0.873786) rotate(0) translate(4 820)\">\n",
       "<title>clusterwith_prebuilt</title>\n",
       "<polygon fill=\"white\" stroke=\"none\" points=\"-4,4 -4,-820 536.71,-820 536.71,4 -4,4\"/>\n",
       "<text text-anchor=\"middle\" x=\"266.35\" y=\"-5.7\" font-family=\"Helvetica,sans-Serif\" font-size=\"14.00\">with_prebuilt: Workflow</text>\n",
       "<g id=\"clust1\" class=\"cluster\">\n",
       "<title>clusterwith_prebuiltInputs</title>\n",
       "<defs>\n",
       "<linearGradient id=\"clust1_l_0\" gradientUnits=\"userSpaceOnUse\" x1=\"8\" y1=\"-419.5\" x2=\"251.48\" y2=\"-419.5\" >\n",
       "<stop offset=\"0\" style=\"stop-color:#a5a4a5;stop-opacity:1.;\"/>\n",
       "<stop offset=\"1\" style=\"stop-color:#e4e4e4;stop-opacity:1.;\"/>\n",
       "</linearGradient>\n",
       "</defs>\n",
       "<polygon fill=\"url(#clust1_l_0)\" stroke=\"#a5a4a5\" points=\"8,-31 8,-808 251.48,-808 251.48,-31 8,-31\"/>\n",
       "<text text-anchor=\"middle\" x=\"129.74\" y=\"-790.7\" font-family=\"Helvetica,sans-Serif\" font-size=\"14.00\">Inputs</text>\n",
       "</g>\n",
       "<g id=\"clust2\" class=\"cluster\">\n",
       "<title>clusterwith_prebuiltOutputs</title>\n",
       "<defs>\n",
       "<linearGradient id=\"clust2_l_1\" gradientUnits=\"userSpaceOnUse\" x1=\"524.71\" y1=\"-419.5\" x2=\"271.48\" y2=\"-419.5\" >\n",
       "<stop offset=\"0\" style=\"stop-color:#a5a4a5;stop-opacity:1.;\"/>\n",
       "<stop offset=\"1\" style=\"stop-color:#e4e4e4;stop-opacity:1.;\"/>\n",
       "</linearGradient>\n",
       "</defs>\n",
       "<polygon fill=\"url(#clust2_l_1)\" stroke=\"#a5a4a5\" points=\"271.48,-31 271.48,-808 524.71,-808 524.71,-31 271.48,-31\"/>\n",
       "<text text-anchor=\"middle\" x=\"398.09\" y=\"-790.7\" font-family=\"Helvetica,sans-Serif\" font-size=\"14.00\">Outputs</text>\n",
       "</g>\n",
       "<!-- clusterwith_prebuiltInputsrun -->\n",
       "<g id=\"node1\" class=\"node\">\n",
       "<title>clusterwith_prebuiltInputsrun</title>\n",
       "<polygon fill=\"#21bfd8\" stroke=\"#21bfd8\" points=\"144.74,-771 102.74,-771 102.74,-747 144.74,-747 156.74,-759 144.74,-771\"/>\n",
       "<text text-anchor=\"middle\" x=\"129.74\" y=\"-753.2\" font-family=\"Helvetica,sans-Serif\" font-size=\"14.00\">run</text>\n",
       "</g>\n",
       "<!-- clusterwith_prebuiltOutputsran -->\n",
       "<g id=\"node15\" class=\"node\">\n",
       "<title>clusterwith_prebuiltOutputsran</title>\n",
       "<polygon fill=\"#21bfd8\" stroke=\"#21bfd8\" points=\"413.09,-771 371.09,-771 371.09,-747 413.09,-747 425.09,-759 413.09,-771\"/>\n",
       "<text text-anchor=\"middle\" x=\"398.09\" y=\"-753.2\" font-family=\"Helvetica,sans-Serif\" font-size=\"14.00\">ran</text>\n",
       "</g>\n",
       "<!-- clusterwith_prebuiltInputsrun&#45;&gt;clusterwith_prebuiltOutputsran -->\n",
       "<!-- clusterwith_prebuiltInputsaccumulate_and_run -->\n",
       "<g id=\"node2\" class=\"node\">\n",
       "<title>clusterwith_prebuiltInputsaccumulate_and_run</title>\n",
       "<polygon fill=\"#21bfd8\" stroke=\"#21bfd8\" points=\"189.11,-717 58.36,-717 58.36,-693 189.11,-693 201.11,-705 189.11,-717\"/>\n",
       "<text text-anchor=\"middle\" x=\"129.74\" y=\"-699.2\" font-family=\"Helvetica,sans-Serif\" font-size=\"14.00\">accumulate_and_run</text>\n",
       "</g>\n",
       "<!-- clusterwith_prebuiltInputsstructure__name -->\n",
       "<g id=\"node3\" class=\"node\">\n",
       "<title>clusterwith_prebuiltInputsstructure__name</title>\n",
       "<ellipse fill=\"#edb22c\" stroke=\"#edb22c\" cx=\"129.74\" cy=\"-651\" rx=\"76.69\" ry=\"18\"/>\n",
       "<text text-anchor=\"middle\" x=\"129.74\" y=\"-645.2\" font-family=\"Helvetica,sans-Serif\" font-size=\"14.00\">structure__name</text>\n",
       "</g>\n",
       "<!-- clusterwith_prebuiltInputsstructure__crystalstructure -->\n",
       "<g id=\"node4\" class=\"node\">\n",
       "<title>clusterwith_prebuiltInputsstructure__crystalstructure</title>\n",
       "<ellipse fill=\"#edb22c\" stroke=\"#edb22c\" cx=\"129.74\" cy=\"-597\" rx=\"113.74\" ry=\"18\"/>\n",
       "<text text-anchor=\"middle\" x=\"129.74\" y=\"-591.2\" font-family=\"Helvetica,sans-Serif\" font-size=\"14.00\">structure__crystalstructure</text>\n",
       "</g>\n",
       "<!-- clusterwith_prebuiltInputsstructure__a -->\n",
       "<g id=\"node5\" class=\"node\">\n",
       "<title>clusterwith_prebuiltInputsstructure__a</title>\n",
       "<ellipse fill=\"#edb22c\" stroke=\"#edb22c\" cx=\"129.74\" cy=\"-543\" rx=\"59.14\" ry=\"18\"/>\n",
       "<text text-anchor=\"middle\" x=\"129.74\" y=\"-537.2\" font-family=\"Helvetica,sans-Serif\" font-size=\"14.00\">structure__a</text>\n",
       "</g>\n",
       "<!-- clusterwith_prebuiltInputsstructure__c -->\n",
       "<g id=\"node6\" class=\"node\">\n",
       "<title>clusterwith_prebuiltInputsstructure__c</title>\n",
       "<ellipse fill=\"#edb22c\" stroke=\"#edb22c\" cx=\"129.74\" cy=\"-489\" rx=\"58.66\" ry=\"18\"/>\n",
       "<text text-anchor=\"middle\" x=\"129.74\" y=\"-483.2\" font-family=\"Helvetica,sans-Serif\" font-size=\"14.00\">structure__c</text>\n",
       "</g>\n",
       "<!-- clusterwith_prebuiltInputsstructure__covera -->\n",
       "<g id=\"node7\" class=\"node\">\n",
       "<title>clusterwith_prebuiltInputsstructure__covera</title>\n",
       "<ellipse fill=\"#edb22c\" stroke=\"#edb22c\" cx=\"129.74\" cy=\"-435\" rx=\"80.59\" ry=\"18\"/>\n",
       "<text text-anchor=\"middle\" x=\"129.74\" y=\"-429.2\" font-family=\"Helvetica,sans-Serif\" font-size=\"14.00\">structure__covera</text>\n",
       "</g>\n",
       "<!-- clusterwith_prebuiltInputsstructure__u -->\n",
       "<g id=\"node8\" class=\"node\">\n",
       "<title>clusterwith_prebuiltInputsstructure__u</title>\n",
       "<ellipse fill=\"#edb22c\" stroke=\"#edb22c\" cx=\"129.74\" cy=\"-381\" rx=\"59.14\" ry=\"18\"/>\n",
       "<text text-anchor=\"middle\" x=\"129.74\" y=\"-375.2\" font-family=\"Helvetica,sans-Serif\" font-size=\"14.00\">structure__u</text>\n",
       "</g>\n",
       "<!-- clusterwith_prebuiltInputsstructure__orthorhombic -->\n",
       "<g id=\"node9\" class=\"node\">\n",
       "<title>clusterwith_prebuiltInputsstructure__orthorhombic</title>\n",
       "<ellipse fill=\"#edb22c\" stroke=\"#edb22c\" cx=\"129.74\" cy=\"-327\" rx=\"105.94\" ry=\"18\"/>\n",
       "<text text-anchor=\"middle\" x=\"129.74\" y=\"-321.2\" font-family=\"Helvetica,sans-Serif\" font-size=\"14.00\">structure__orthorhombic</text>\n",
       "</g>\n",
       "<!-- clusterwith_prebuiltInputsstructure__cubic -->\n",
       "<g id=\"node10\" class=\"node\">\n",
       "<title>clusterwith_prebuiltInputsstructure__cubic</title>\n",
       "<ellipse fill=\"#edb22c\" stroke=\"#edb22c\" cx=\"129.74\" cy=\"-273\" rx=\"74.74\" ry=\"18\"/>\n",
       "<text text-anchor=\"middle\" x=\"129.74\" y=\"-267.2\" font-family=\"Helvetica,sans-Serif\" font-size=\"14.00\">structure__cubic</text>\n",
       "</g>\n",
       "<!-- clusterwith_prebuiltInputscalc__n_ionic_steps -->\n",
       "<g id=\"node11\" class=\"node\">\n",
       "<title>clusterwith_prebuiltInputscalc__n_ionic_steps</title>\n",
       "<ellipse fill=\"#edb22c\" stroke=\"#edb22c\" cx=\"129.74\" cy=\"-219\" rx=\"103.5\" ry=\"18\"/>\n",
       "<text text-anchor=\"middle\" x=\"129.74\" y=\"-213.2\" font-family=\"Helvetica,sans-Serif\" font-size=\"14.00\">calc__n_ionic_steps: int</text>\n",
       "</g>\n",
       "<!-- clusterwith_prebuiltInputscalc__n_print -->\n",
       "<g id=\"node12\" class=\"node\">\n",
       "<title>clusterwith_prebuiltInputscalc__n_print</title>\n",
       "<ellipse fill=\"#edb22c\" stroke=\"#edb22c\" cx=\"129.74\" cy=\"-165\" rx=\"76.69\" ry=\"18\"/>\n",
       "<text text-anchor=\"middle\" x=\"129.74\" y=\"-159.2\" font-family=\"Helvetica,sans-Serif\" font-size=\"14.00\">calc__n_print: int</text>\n",
       "</g>\n",
       "<!-- clusterwith_prebuiltInputscalc__temperature -->\n",
       "<g id=\"node13\" class=\"node\">\n",
       "<title>clusterwith_prebuiltInputscalc__temperature</title>\n",
       "<ellipse fill=\"#edb22c\" stroke=\"#edb22c\" cx=\"129.74\" cy=\"-111\" rx=\"83.52\" ry=\"18\"/>\n",
       "<text text-anchor=\"middle\" x=\"129.74\" y=\"-105.2\" font-family=\"Helvetica,sans-Serif\" font-size=\"14.00\">calc__temperature</text>\n",
       "</g>\n",
       "<!-- clusterwith_prebuiltInputscalc__pressure -->\n",
       "<g id=\"node14\" class=\"node\">\n",
       "<title>clusterwith_prebuiltInputscalc__pressure</title>\n",
       "<ellipse fill=\"#edb22c\" stroke=\"#edb22c\" cx=\"129.74\" cy=\"-57\" rx=\"69.87\" ry=\"18\"/>\n",
       "<text text-anchor=\"middle\" x=\"129.74\" y=\"-51.2\" font-family=\"Helvetica,sans-Serif\" font-size=\"14.00\">calc__pressure</text>\n",
       "</g>\n",
       "<!-- clusterwith_prebuiltOutputscalc__cells -->\n",
       "<g id=\"node16\" class=\"node\">\n",
       "<title>clusterwith_prebuiltOutputscalc__cells</title>\n",
       "<ellipse fill=\"#edb22c\" stroke=\"#edb22c\" cx=\"398.09\" cy=\"-705\" rx=\"53.3\" ry=\"18\"/>\n",
       "<text text-anchor=\"middle\" x=\"398.09\" y=\"-699.2\" font-family=\"Helvetica,sans-Serif\" font-size=\"14.00\">calc__cells</text>\n",
       "</g>\n",
       "<!-- clusterwith_prebuiltOutputscalc__displacements -->\n",
       "<g id=\"node17\" class=\"node\">\n",
       "<title>clusterwith_prebuiltOutputscalc__displacements</title>\n",
       "<ellipse fill=\"#edb22c\" stroke=\"#edb22c\" cx=\"398.09\" cy=\"-651\" rx=\"92.29\" ry=\"18\"/>\n",
       "<text text-anchor=\"middle\" x=\"398.09\" y=\"-645.2\" font-family=\"Helvetica,sans-Serif\" font-size=\"14.00\">calc__displacements</text>\n",
       "</g>\n",
       "<!-- clusterwith_prebuiltOutputscalc__energy_pot -->\n",
       "<g id=\"node18\" class=\"node\">\n",
       "<title>clusterwith_prebuiltOutputscalc__energy_pot</title>\n",
       "<ellipse fill=\"#edb22c\" stroke=\"#edb22c\" cx=\"398.09\" cy=\"-597\" rx=\"79.62\" ry=\"18\"/>\n",
       "<text text-anchor=\"middle\" x=\"398.09\" y=\"-591.2\" font-family=\"Helvetica,sans-Serif\" font-size=\"14.00\">calc__energy_pot</text>\n",
       "</g>\n",
       "<!-- clusterwith_prebuiltOutputscalc__energy_tot -->\n",
       "<g id=\"node19\" class=\"node\">\n",
       "<title>clusterwith_prebuiltOutputscalc__energy_tot</title>\n",
       "<ellipse fill=\"#edb22c\" stroke=\"#edb22c\" cx=\"398.09\" cy=\"-543\" rx=\"77.18\" ry=\"18\"/>\n",
       "<text text-anchor=\"middle\" x=\"398.09\" y=\"-537.2\" font-family=\"Helvetica,sans-Serif\" font-size=\"14.00\">calc__energy_tot</text>\n",
       "</g>\n",
       "<!-- clusterwith_prebuiltOutputscalc__force_max -->\n",
       "<g id=\"node20\" class=\"node\">\n",
       "<title>clusterwith_prebuiltOutputscalc__force_max</title>\n",
       "<ellipse fill=\"#edb22c\" stroke=\"#edb22c\" cx=\"398.09\" cy=\"-489\" rx=\"77.18\" ry=\"18\"/>\n",
       "<text text-anchor=\"middle\" x=\"398.09\" y=\"-483.2\" font-family=\"Helvetica,sans-Serif\" font-size=\"14.00\">calc__force_max</text>\n",
       "</g>\n",
       "<!-- clusterwith_prebuiltOutputscalc__forces -->\n",
       "<g id=\"node21\" class=\"node\">\n",
       "<title>clusterwith_prebuiltOutputscalc__forces</title>\n",
       "<ellipse fill=\"#edb22c\" stroke=\"#edb22c\" cx=\"398.09\" cy=\"-435\" rx=\"59.63\" ry=\"18\"/>\n",
       "<text text-anchor=\"middle\" x=\"398.09\" y=\"-429.2\" font-family=\"Helvetica,sans-Serif\" font-size=\"14.00\">calc__forces</text>\n",
       "</g>\n",
       "<!-- clusterwith_prebuiltOutputscalc__indices -->\n",
       "<g id=\"node22\" class=\"node\">\n",
       "<title>clusterwith_prebuiltOutputscalc__indices</title>\n",
       "<ellipse fill=\"#edb22c\" stroke=\"#edb22c\" cx=\"398.09\" cy=\"-381\" rx=\"63.04\" ry=\"18\"/>\n",
       "<text text-anchor=\"middle\" x=\"398.09\" y=\"-375.2\" font-family=\"Helvetica,sans-Serif\" font-size=\"14.00\">calc__indices</text>\n",
       "</g>\n",
       "<!-- clusterwith_prebuiltOutputscalc__positions -->\n",
       "<g id=\"node23\" class=\"node\">\n",
       "<title>clusterwith_prebuiltOutputscalc__positions</title>\n",
       "<ellipse fill=\"#edb22c\" stroke=\"#edb22c\" cx=\"398.09\" cy=\"-327\" rx=\"70.36\" ry=\"18\"/>\n",
       "<text text-anchor=\"middle\" x=\"398.09\" y=\"-321.2\" font-family=\"Helvetica,sans-Serif\" font-size=\"14.00\">calc__positions</text>\n",
       "</g>\n",
       "<!-- clusterwith_prebuiltOutputscalc__pressures -->\n",
       "<g id=\"node24\" class=\"node\">\n",
       "<title>clusterwith_prebuiltOutputscalc__pressures</title>\n",
       "<ellipse fill=\"#edb22c\" stroke=\"#edb22c\" cx=\"398.09\" cy=\"-273\" rx=\"74.26\" ry=\"18\"/>\n",
       "<text text-anchor=\"middle\" x=\"398.09\" y=\"-267.2\" font-family=\"Helvetica,sans-Serif\" font-size=\"14.00\">calc__pressures</text>\n",
       "</g>\n",
       "<!-- clusterwith_prebuiltOutputscalc__total_displacements -->\n",
       "<g id=\"node25\" class=\"node\">\n",
       "<title>clusterwith_prebuiltOutputscalc__total_displacements</title>\n",
       "<ellipse fill=\"#edb22c\" stroke=\"#edb22c\" cx=\"398.09\" cy=\"-219\" rx=\"113.74\" ry=\"18\"/>\n",
       "<text text-anchor=\"middle\" x=\"398.09\" y=\"-213.2\" font-family=\"Helvetica,sans-Serif\" font-size=\"14.00\">calc__total_displacements</text>\n",
       "</g>\n",
       "<!-- clusterwith_prebuiltOutputscalc__unwrapped_positions -->\n",
       "<g id=\"node26\" class=\"node\">\n",
       "<title>clusterwith_prebuiltOutputscalc__unwrapped_positions</title>\n",
       "<ellipse fill=\"#edb22c\" stroke=\"#edb22c\" cx=\"398.09\" cy=\"-165\" rx=\"118.61\" ry=\"18\"/>\n",
       "<text text-anchor=\"middle\" x=\"398.09\" y=\"-159.2\" font-family=\"Helvetica,sans-Serif\" font-size=\"14.00\">calc__unwrapped_positions</text>\n",
       "</g>\n",
       "<!-- clusterwith_prebuiltOutputscalc__volume -->\n",
       "<g id=\"node27\" class=\"node\">\n",
       "<title>clusterwith_prebuiltOutputscalc__volume</title>\n",
       "<ellipse fill=\"#edb22c\" stroke=\"#edb22c\" cx=\"398.09\" cy=\"-111\" rx=\"64.51\" ry=\"18\"/>\n",
       "<text text-anchor=\"middle\" x=\"398.09\" y=\"-105.2\" font-family=\"Helvetica,sans-Serif\" font-size=\"14.00\">calc__volume</text>\n",
       "</g>\n",
       "<!-- clusterwith_prebuiltOutputsplot__fig -->\n",
       "<g id=\"node28\" class=\"node\">\n",
       "<title>clusterwith_prebuiltOutputsplot__fig</title>\n",
       "<ellipse fill=\"#edb22c\" stroke=\"#edb22c\" cx=\"398.09\" cy=\"-57\" rx=\"43.55\" ry=\"18\"/>\n",
       "<text text-anchor=\"middle\" x=\"398.09\" y=\"-51.2\" font-family=\"Helvetica,sans-Serif\" font-size=\"14.00\">plot__fig</text>\n",
       "</g>\n",
       "</g>\n",
       "</svg>\n"
      ],
      "text/plain": [
       "<graphviz.graphs.Digraph at 0x144294d10>"
      ]
     },
     "execution_count": 43,
     "metadata": {},
     "output_type": "execute_result"
    }
   ],
   "source": [
    "wf.draw(depth=0, size=(10, 10))"
   ]
  },
  {
   "cell_type": "markdown",
   "id": "b2990bbf-28fb-43e2-a01d-82377d12879c",
   "metadata": {},
   "source": [
    "Note: the `draw` call returns a `graphviz.graphs.Digraphs` object; these get natively rendered alright in jupyter notebooks, as seen above, but you can also snag the object in a variable and do everything else graphviz allows, e.g. using the `render` method on the object to save it to file. Cf. the graphviz docs for details."
   ]
  },
  {
   "cell_type": "markdown",
   "id": "7a4e235d-905f-4763-a1ff-d0c3e24c591c",
   "metadata": {},
   "source": [
    "Workflows are \"living\" objects -- their IO is (re)created on access, so it is always up-to-date with the latest state of the workflow's children (who's there and who they're connected to), and (unless you explicitly tell it otherwise) a workflow will always re-compute the execution flow at run-time. This makes them incredibly convenient for working with as you put together a new computational graph, but is not particularly computationally efficient."
   ]
  },
  {
   "cell_type": "markdown",
   "id": "d1f3b308-28b2-466b-8cf5-6bfd806c08ca",
   "metadata": {},
   "source": [
    "# Macros\n",
    "\n",
    "Once you have a workflow that you're happy with, you may want to store it as a macro so it can be stored in a human-readable way, reused, shared, and executed with more efficiency than the \"living\" `Workflow` instance. Defining a new macro is pretty easy -- they are just composite nodes that have a function defining their input, graph setup, and output analogous to how `Function` nodes define their node function"
   ]
  },
  {
   "cell_type": "code",
   "execution_count": 44,
   "id": "c71a8308-f8a1-4041-bea0-1c841e072a6d",
   "metadata": {},
   "outputs": [],
   "source": [
    "from pyiron_workflow.macro import macro_node"
   ]
  },
  {
   "cell_type": "code",
   "execution_count": 45,
   "id": "2b9bb21a-73cd-444e-84a9-100e202aa422",
   "metadata": {},
   "outputs": [
    {
     "name": "stderr",
     "output_type": "stream",
     "text": [
      "/Users/huber/work/pyiron/pyiron_workflow/pyiron_workflow/channels.py:176: UserWarning: The channel user_input was not connected to x, andthus could not disconnect from it.\n",
      "  warn(\n",
      "/Users/huber/work/pyiron/pyiron_workflow/pyiron_workflow/channels.py:176: UserWarning: The channel run was not connected to ran, andthus could not disconnect from it.\n",
      "  warn(\n"
     ]
    },
    {
     "data": {
      "text/plain": [
       "13"
      ]
     },
     "execution_count": 45,
     "metadata": {},
     "output_type": "execute_result"
    }
   ],
   "source": [
    "@Workflow.wrap.as_function_node(\"result\")\n",
    "def AddOne(x):\n",
    "    return x + 1\n",
    "\n",
    "def add_three_macro(self, x):\n",
    "    \"\"\"\n",
    "    The macro constructor `macro_node` expects the provided function \n",
    "    to take a `Macro` instance as its first argument, followed by any input data,\n",
    "    and for output data to be returned `HasChannel` objects (i.e. a single-value \n",
    "    `Node` or an output data channel) \n",
    "    In the function body, it should add nodes to the macro, wire their connections, etc.\n",
    "    \"\"\"\n",
    "    self.add_one = AddOne(x)\n",
    "    self.add_two = AddOne(self.add_one)\n",
    "    self.add_three = AddOne(self.add_two)\n",
    "    # Just like workflows, for simple DAG macros we don't _need_\n",
    "    # to set signals and starting nodes -- the macro will build them\n",
    "    # automatically. But, if you do set both then the macro will use them\n",
    "    self.add_one >> self.add_two >> self.add_three\n",
    "    self.starting_nodes = [self.add_one]  \n",
    "    # We _do_ need to specify the output of our macro,\n",
    "    # which will typically be output channel(s) and/or single-return node(s)\n",
    "    return self.add_three\n",
    "    \n",
    "macro = macro_node(add_three_macro)\n",
    "macro(x=10).add_three"
   ]
  },
  {
   "cell_type": "markdown",
   "id": "28323b14-22c2-4bab-bea7-168505677ebf",
   "metadata": {},
   "source": [
    "Note that the input and output channel labels are scraped from the decorated function. This is just like for `function_node`, but with one big exception: the `\"self.\"` has been stripped off the returned value! Since the most likely thing to return is some child node, this is just a quality of life shortcut. Passing `output_labels=...` still works just like for `function_node`."
   ]
  },
  {
   "cell_type": "markdown",
   "id": "d4f797d6-8d88-415f-bb9c-00f3e1b15e37",
   "metadata": {},
   "source": [
    "It will often be the case that this new macro will be made by copying and pasting some `wf = Workflow(...); ...` code that was explored. The use of `self` here reflects the canonical name for the own-instance argument, but for the sake of defining the function any variable will do! So you can use defintions like `def add_three_macro(wf, x):` just fine if that makes copy-pasting easier."
   ]
  },
  {
   "cell_type": "markdown",
   "id": "bd5099c4-1c01-4a45-a5bb-e5087595db9f",
   "metadata": {},
   "source": [
    "Of course, we can also use a decorator like for funciton nodes:"
   ]
  },
  {
   "cell_type": "code",
   "execution_count": 46,
   "id": "3668f9a9-adca-48a4-84ea-13add965897c",
   "metadata": {},
   "outputs": [
    {
     "data": {
      "text/plain": [
       "{'add_two': 102, 'add_three': 103}"
      ]
     },
     "execution_count": 46,
     "metadata": {},
     "output_type": "execute_result"
    }
   ],
   "source": [
    "@Workflow.wrap.as_macro_node()\n",
    "def AddThree(macro, x: int = 0):\n",
    "    \"\"\"\n",
    "    The function decorator `as_macro_node` expects the decorated function \n",
    "    to take a `Macro` instance as its first argument, followed by any input data,\n",
    "    and for output data to be returned `HasChannel` objects (i.e. a single-value \n",
    "    `Node` or an output data channel) \n",
    "    In the function body, it should add nodes to the macro, wire their connections, etc.\n",
    "    \"\"\"\n",
    "    macro.add_one = AddOne(x)  # Directly use the input from the signature\n",
    "    # Under the hood a new `UserInput` node is being created and used\n",
    "    macro.add_two = AddOne(macro.add_one)\n",
    "    macro.add_three = AddOne(macro.add_two)\n",
    "    macro.outputs_map = {\"add_two__result\": \"intermediate\"}\n",
    "    # We need to return something like output channels, but since AddOne has \n",
    "    # only a single output channel, we can return it directly.\n",
    "    # We also return an intermediate value that would not normally be \n",
    "    # exposed if this were a workflow since it's connected to other child channels\n",
    "    return macro.add_two, macro.add_three\n",
    "    \n",
    "macro = AddThree()\n",
    "macro(x=100)\n",
    "macro.outputs.to_value_dict()"
   ]
  },
  {
   "cell_type": "markdown",
   "id": "22d2fdcf-0206-497d-9344-a71e3472a2c0",
   "metadata": {},
   "source": [
    "## Nesting\n",
    "\n",
    "Composite nodes can be nested to abstract workflows into simpler components -- i.e. macros can be added to workflows, and macros can be used inside of macros. This is a critically important feature because it allows us to easily create more and more complex workflows by \"composing\" simple(r) sub-graphs together!\n",
    "\n",
    "For our final example, let's define a macro for doing Lammps minimizations, then use this in a workflow to compare energies between different phases."
   ]
  },
  {
   "cell_type": "code",
   "execution_count": 47,
   "id": "9aaeeec0-5f88-4c94-a6cc-45b56d2f0111",
   "metadata": {},
   "outputs": [],
   "source": [
    "@Workflow.wrap.as_macro_node(\"structure\", \"energy\")\n",
    "def LammpsMinimize(self, element: str, crystalstructure: str, lattice_guess: float | int):\n",
    "    self.structure = self.create.pyiron_atomistics.Bulk(\n",
    "        name=element,\n",
    "        crystalstructure=crystalstructure,\n",
    "        a=lattice_guess\n",
    "    )\n",
    "    self.engine = self.create.pyiron_atomistics.Lammps(structure=self.structure)\n",
    "    self.calc = self.create.pyiron_atomistics.CalcMin(job=self.engine, pressure=0)\n",
    "    return self.structure, self.calc.outputs.energy_pot"
   ]
  },
  {
   "cell_type": "code",
   "execution_count": 48,
   "id": "26a080dc-acaf-45bb-9935-7a42ff8d9552",
   "metadata": {},
   "outputs": [
    {
     "data": {
      "text/plain": [
       "{'structure': None, 'energy': None}"
      ]
     },
     "execution_count": 48,
     "metadata": {},
     "output_type": "execute_result"
    }
   ],
   "source": [
    "LammpsMinimize.preview_outputs()"
   ]
  },
  {
   "cell_type": "markdown",
   "id": "4dfe9c0c-e9e7-4d5f-ad34-e19fd0382670",
   "metadata": {},
   "source": [
    "Note that while `\"self.\"` will get stripped off our return channel names, we're not allowed to have other `\".\"` characters in what remains -- so here where we're mixing and matching a returned (single-return-value) node and an explicit output channel (from a node with more than one output), we need to provide output labels. We could alternatively have given a nicely named local variable, e.g. `energy = self.calc.outputs.energy_pot; return return self.structure, energy` to get the same result."
   ]
  },
  {
   "cell_type": "code",
   "execution_count": 49,
   "id": "a832e552-b3cc-411a-a258-ef21574fc439",
   "metadata": {},
   "outputs": [
    {
     "name": "stderr",
     "output_type": "stream",
     "text": [
      "/Users/huber/work/pyiron/pyiron_workflow/pyiron_workflow/channels.py:176: UserWarning: The channel user_input was not connected to name, andthus could not disconnect from it.\n",
      "  warn(\n",
      "/Users/huber/work/pyiron/pyiron_workflow/pyiron_workflow/channels.py:176: UserWarning: The channel user_input was not connected to crystalstructure, andthus could not disconnect from it.\n",
      "  warn(\n",
      "/Users/huber/work/pyiron/pyiron_workflow/pyiron_workflow/channels.py:176: UserWarning: The channel user_input was not connected to a, andthus could not disconnect from it.\n",
      "  warn(\n"
     ]
    }
   ],
   "source": [
    "wf = Workflow(\"phase_preference\")\n",
    "wf.element = wf.create.standard.UserInput()\n",
    "wf.min_phase1 = LammpsMinimize(element=wf.element)\n",
    "wf.min_phase2 = LammpsMinimize(element=wf.element)\n",
    "\n",
    "wf.e1 = wf.min_phase1.outputs.energy[-1]\n",
    "wf.n1 = wf.min_phase1.outputs.structure.len()\n",
    "wf.e2 = wf.min_phase2.outputs.energy[-1]\n",
    "wf.n2 = wf.min_phase2.outputs.structure.len()\n",
    "wf.compare = (wf.e2 / wf.n2) - (wf.e1 / wf.n1)\n",
    "\n",
    "\n",
    "# Or we could write a node to do that:\n",
    "\n",
    "# @Workflow.wrap.as_function_node()\n",
    "# def PerAtomEnergyDifference(structure1, energy1, structure2, energy2):\n",
    "#     # The unrelaxed structure is fine, we're just using it to get n_atoms\n",
    "#     sub = (energy2[-1]/len(structure2)) - (energy1[-1]/len(structure1))\n",
    "#     return sub\n",
    "\n",
    "# wf.compare = PerAtomEnergyDifference(\n",
    "#     wf.min_phase1.outputs.structure,\n",
    "#     wf.min_phase1.outputs.energy,\n",
    "#     wf.min_phase2.outputs.structure,\n",
    "#     wf.min_phase2.outputs.energy,\n",
    "# )\n",
    "\n",
    "wf.inputs_map = {\n",
    "    \"element__user_input\": \"element\",\n",
    "    \"min_phase1__crystalstructure\": \"phase1\",\n",
    "    \"min_phase2__crystalstructure\": \"phase2\",\n",
    "    \"min_phase1__lattice_guess\": \"lattice_guess1\",\n",
    "    \"min_phase2__lattice_guess\": \"lattice_guess2\",\n",
    "}"
   ]
  },
  {
   "cell_type": "code",
   "execution_count": 50,
   "id": "b764a447-236f-4cb7-952a-7cba4855087d",
   "metadata": {},
   "outputs": [
    {
     "data": {
      "image/svg+xml": [
       "<?xml version=\"1.0\" encoding=\"UTF-8\" standalone=\"no\"?>\n",
       "<!DOCTYPE svg PUBLIC \"-//W3C//DTD SVG 1.1//EN\"\n",
       " \"http://www.w3.org/Graphics/SVG/1.1/DTD/svg11.dtd\">\n",
       "<!-- Generated by graphviz version 9.0.0 (0)\n",
       " -->\n",
       "<!-- Title: clusterphase_preference Pages: 1 -->\n",
       "<svg width=\"720pt\" height=\"358pt\"\n",
       " viewBox=\"0.00 0.00 720.00 357.69\" xmlns=\"http://www.w3.org/2000/svg\" xmlns:xlink=\"http://www.w3.org/1999/xlink\">\n",
       "<g id=\"graph0\" class=\"graph\" transform=\"scale(0.33058 0.33058) rotate(0) translate(4 1078)\">\n",
       "<title>clusterphase_preference</title>\n",
       "<polygon fill=\"white\" stroke=\"none\" points=\"-4,4 -4,-1078 2173.99,-1078 2173.99,4 -4,4\"/>\n",
       "<text text-anchor=\"middle\" x=\"1085\" y=\"-5.7\" font-family=\"Helvetica,sans-Serif\" font-size=\"14.00\">phase_preference: Workflow</text>\n",
       "<g id=\"clust1\" class=\"cluster\">\n",
       "<title>clusterphase_preferenceInputs</title>\n",
       "<defs>\n",
       "<linearGradient id=\"clust1_l_0\" gradientUnits=\"userSpaceOnUse\" x1=\"8\" y1=\"-444.5\" x2=\"166.75\" y2=\"-444.5\" >\n",
       "<stop offset=\"0\" style=\"stop-color:#a5a4a5;stop-opacity:1.;\"/>\n",
       "<stop offset=\"1\" style=\"stop-color:#e4e4e4;stop-opacity:1.;\"/>\n",
       "</linearGradient>\n",
       "</defs>\n",
       "<polygon fill=\"url(#clust1_l_0)\" stroke=\"#a5a4a5\" points=\"8,-191 8,-698 166.75,-698 166.75,-191 8,-191\"/>\n",
       "<text text-anchor=\"middle\" x=\"87.38\" y=\"-680.7\" font-family=\"Helvetica,sans-Serif\" font-size=\"14.00\">Inputs</text>\n",
       "</g>\n",
       "<g id=\"clust2\" class=\"cluster\">\n",
       "<title>clusterphase_preferenceOutputs</title>\n",
       "<defs>\n",
       "<linearGradient id=\"clust2_l_1\" gradientUnits=\"userSpaceOnUse\" x1=\"2161.99\" y1=\"-221.5\" x2=\"2008.2\" y2=\"-221.5\" >\n",
       "<stop offset=\"0\" style=\"stop-color:#a5a4a5;stop-opacity:1.;\"/>\n",
       "<stop offset=\"1\" style=\"stop-color:#e4e4e4;stop-opacity:1.;\"/>\n",
       "</linearGradient>\n",
       "</defs>\n",
       "<polygon fill=\"url(#clust2_l_1)\" stroke=\"#a5a4a5\" points=\"2008.2,-157 2008.2,-286 2161.99,-286 2161.99,-157 2008.2,-157\"/>\n",
       "<text text-anchor=\"middle\" x=\"2085.1\" y=\"-268.7\" font-family=\"Helvetica,sans-Serif\" font-size=\"14.00\">Outputs</text>\n",
       "</g>\n",
       "<g id=\"clust3\" class=\"cluster\">\n",
       "<title>clusterphase_preferenceelement</title>\n",
       "<defs>\n",
       "<linearGradient id=\"clust3_l_2\" gradientUnits=\"userSpaceOnUse\" x1=\"178.75\" y1=\"-509\" x2=\"522.19\" y2=\"-509\" >\n",
       "<stop offset=\"0\" style=\"stop-color:#c0e2c0;stop-opacity:1.;\"/>\n",
       "<stop offset=\"1\" style=\"stop-color:#c0e2c0;stop-opacity:1.;\"/>\n",
       "</linearGradient>\n",
       "</defs>\n",
       "<polygon fill=\"url(#clust3_l_2)\" stroke=\"#c0e2c0\" points=\"178.75,-398 178.75,-620 522.19,-620 522.19,-398 178.75,-398\"/>\n",
       "<text text-anchor=\"middle\" x=\"350.47\" y=\"-602.7\" font-family=\"Helvetica,sans-Serif\" font-size=\"14.00\">element: UserInput</text>\n",
       "</g>\n",
       "<g id=\"clust4\" class=\"cluster\">\n",
       "<title>clusterphase_preferenceelementInputs</title>\n",
       "<defs>\n",
       "<linearGradient id=\"clust4_l_3\" gradientUnits=\"userSpaceOnUse\" x1=\"186.75\" y1=\"-497.5\" x2=\"345.5\" y2=\"-497.5\" >\n",
       "<stop offset=\"0\" style=\"stop-color:#a5a4a5;stop-opacity:1.;\"/>\n",
       "<stop offset=\"1\" style=\"stop-color:#e4e4e4;stop-opacity:1.;\"/>\n",
       "</linearGradient>\n",
       "</defs>\n",
       "<polygon fill=\"url(#clust4_l_3)\" stroke=\"#a5a4a5\" points=\"186.75,-406 186.75,-589 345.5,-589 345.5,-406 186.75,-406\"/>\n",
       "<text text-anchor=\"middle\" x=\"266.12\" y=\"-571.7\" font-family=\"Helvetica,sans-Serif\" font-size=\"14.00\">Inputs</text>\n",
       "</g>\n",
       "<g id=\"clust5\" class=\"cluster\">\n",
       "<title>clusterphase_preferenceelementOutputsWithInjection</title>\n",
       "<defs>\n",
       "<linearGradient id=\"clust5_l_4\" gradientUnits=\"userSpaceOnUse\" x1=\"514.19\" y1=\"-524.5\" x2=\"372.5\" y2=\"-524.5\" >\n",
       "<stop offset=\"0\" style=\"stop-color:#a5a4a5;stop-opacity:1.;\"/>\n",
       "<stop offset=\"1\" style=\"stop-color:#e4e4e4;stop-opacity:1.;\"/>\n",
       "</linearGradient>\n",
       "</defs>\n",
       "<polygon fill=\"url(#clust5_l_4)\" stroke=\"#a5a4a5\" points=\"372.5,-460 372.5,-589 514.19,-589 514.19,-460 372.5,-460\"/>\n",
       "<text text-anchor=\"middle\" x=\"443.35\" y=\"-571.7\" font-family=\"Helvetica,sans-Serif\" font-size=\"14.00\">OutputsWithInjection</text>\n",
       "</g>\n",
       "<g id=\"clust6\" class=\"cluster\">\n",
       "<title>clusterphase_preferencemin_phase1</title>\n",
       "<defs>\n",
       "<linearGradient id=\"clust6_l_5\" gradientUnits=\"userSpaceOnUse\" x1=\"530.19\" y1=\"-695\" x2=\"908.22\" y2=\"-695\" >\n",
       "<stop offset=\"0\" style=\"stop-color:#dcccc9;stop-opacity:1.;\"/>\n",
       "<stop offset=\"1\" style=\"stop-color:#dcccc9;stop-opacity:1.;\"/>\n",
       "</linearGradient>\n",
       "</defs>\n",
       "<polygon fill=\"url(#clust6_l_5)\" stroke=\"#dcccc9\" points=\"530.19,-530 530.19,-860 908.22,-860 908.22,-530 530.19,-530\"/>\n",
       "<text text-anchor=\"middle\" x=\"719.2\" y=\"-842.7\" font-family=\"Helvetica,sans-Serif\" font-size=\"14.00\">min_phase1: LammpsMinimize</text>\n",
       "</g>\n",
       "<g id=\"clust7\" class=\"cluster\">\n",
       "<title>clusterphase_preferencemin_phase1Inputs</title>\n",
       "<defs>\n",
       "<linearGradient id=\"clust7_l_6\" gradientUnits=\"userSpaceOnUse\" x1=\"538.19\" y1=\"-683.5\" x2=\"723.18\" y2=\"-683.5\" >\n",
       "<stop offset=\"0\" style=\"stop-color:#a5a4a5;stop-opacity:1.;\"/>\n",
       "<stop offset=\"1\" style=\"stop-color:#e4e4e4;stop-opacity:1.;\"/>\n",
       "</linearGradient>\n",
       "</defs>\n",
       "<polygon fill=\"url(#clust7_l_6)\" stroke=\"#a5a4a5\" points=\"538.19,-538 538.19,-829 723.18,-829 723.18,-538 538.19,-538\"/>\n",
       "<text text-anchor=\"middle\" x=\"630.68\" y=\"-811.7\" font-family=\"Helvetica,sans-Serif\" font-size=\"14.00\">Inputs</text>\n",
       "</g>\n",
       "<g id=\"clust8\" class=\"cluster\">\n",
       "<title>clusterphase_preferencemin_phase1OutputsWithInjection</title>\n",
       "<defs>\n",
       "<linearGradient id=\"clust8_l_7\" gradientUnits=\"userSpaceOnUse\" x1=\"900.22\" y1=\"-737.5\" x2=\"759.18\" y2=\"-737.5\" >\n",
       "<stop offset=\"0\" style=\"stop-color:#a5a4a5;stop-opacity:1.;\"/>\n",
       "<stop offset=\"1\" style=\"stop-color:#e4e4e4;stop-opacity:1.;\"/>\n",
       "</linearGradient>\n",
       "</defs>\n",
       "<polygon fill=\"url(#clust8_l_7)\" stroke=\"#a5a4a5\" points=\"759.18,-646 759.18,-829 900.22,-829 900.22,-646 759.18,-646\"/>\n",
       "<text text-anchor=\"middle\" x=\"829.7\" y=\"-811.7\" font-family=\"Helvetica,sans-Serif\" font-size=\"14.00\">OutputsWithInjection</text>\n",
       "</g>\n",
       "<g id=\"clust9\" class=\"cluster\">\n",
       "<title>clusterphase_preferencemin_phase2</title>\n",
       "<defs>\n",
       "<linearGradient id=\"clust9_l_8\" gradientUnits=\"userSpaceOnUse\" x1=\"530.19\" y1=\"-206\" x2=\"908.22\" y2=\"-206\" >\n",
       "<stop offset=\"0\" style=\"stop-color:#dcccc9;stop-opacity:1.;\"/>\n",
       "<stop offset=\"1\" style=\"stop-color:#dcccc9;stop-opacity:1.;\"/>\n",
       "</linearGradient>\n",
       "</defs>\n",
       "<polygon fill=\"url(#clust9_l_8)\" stroke=\"#dcccc9\" points=\"530.19,-41 530.19,-371 908.22,-371 908.22,-41 530.19,-41\"/>\n",
       "<text text-anchor=\"middle\" x=\"719.2\" y=\"-353.7\" font-family=\"Helvetica,sans-Serif\" font-size=\"14.00\">min_phase2: LammpsMinimize</text>\n",
       "</g>\n",
       "<g id=\"clust10\" class=\"cluster\">\n",
       "<title>clusterphase_preferencemin_phase2Inputs</title>\n",
       "<defs>\n",
       "<linearGradient id=\"clust10_l_9\" gradientUnits=\"userSpaceOnUse\" x1=\"538.19\" y1=\"-194.5\" x2=\"723.18\" y2=\"-194.5\" >\n",
       "<stop offset=\"0\" style=\"stop-color:#a5a4a5;stop-opacity:1.;\"/>\n",
       "<stop offset=\"1\" style=\"stop-color:#e4e4e4;stop-opacity:1.;\"/>\n",
       "</linearGradient>\n",
       "</defs>\n",
       "<polygon fill=\"url(#clust10_l_9)\" stroke=\"#a5a4a5\" points=\"538.19,-49 538.19,-340 723.18,-340 723.18,-49 538.19,-49\"/>\n",
       "<text text-anchor=\"middle\" x=\"630.68\" y=\"-322.7\" font-family=\"Helvetica,sans-Serif\" font-size=\"14.00\">Inputs</text>\n",
       "</g>\n",
       "<g id=\"clust11\" class=\"cluster\">\n",
       "<title>clusterphase_preferencemin_phase2OutputsWithInjection</title>\n",
       "<defs>\n",
       "<linearGradient id=\"clust11_l_10\" gradientUnits=\"userSpaceOnUse\" x1=\"900.22\" y1=\"-248.5\" x2=\"759.18\" y2=\"-248.5\" >\n",
       "<stop offset=\"0\" style=\"stop-color:#a5a4a5;stop-opacity:1.;\"/>\n",
       "<stop offset=\"1\" style=\"stop-color:#e4e4e4;stop-opacity:1.;\"/>\n",
       "</linearGradient>\n",
       "</defs>\n",
       "<polygon fill=\"url(#clust11_l_10)\" stroke=\"#a5a4a5\" points=\"759.18,-157 759.18,-340 900.22,-340 900.22,-157 759.18,-157\"/>\n",
       "<text text-anchor=\"middle\" x=\"829.7\" y=\"-322.7\" font-family=\"Helvetica,sans-Serif\" font-size=\"14.00\">OutputsWithInjection</text>\n",
       "</g>\n",
       "<g id=\"clust12\" class=\"cluster\">\n",
       "<title>clusterphase_preferencee1</title>\n",
       "<defs>\n",
       "<linearGradient id=\"clust12_l_11\" gradientUnits=\"userSpaceOnUse\" x1=\"916.22\" y1=\"-928\" x2=\"1283.26\" y2=\"-928\" >\n",
       "<stop offset=\"0\" style=\"stop-color:#c0e2c0;stop-opacity:1.;\"/>\n",
       "<stop offset=\"1\" style=\"stop-color:#c0e2c0;stop-opacity:1.;\"/>\n",
       "</linearGradient>\n",
       "</defs>\n",
       "<polygon fill=\"url(#clust12_l_11)\" stroke=\"#c0e2c0\" points=\"916.22,-790 916.22,-1066 1283.26,-1066 1283.26,-790 916.22,-790\"/>\n",
       "<text text-anchor=\"middle\" x=\"1099.74\" y=\"-1048.7\" font-family=\"Helvetica,sans-Serif\" font-size=\"14.00\">e1: GetItem</text>\n",
       "</g>\n",
       "<g id=\"clust13\" class=\"cluster\">\n",
       "<title>clusterphase_preferencee1Inputs</title>\n",
       "<defs>\n",
       "<linearGradient id=\"clust13_l_12\" gradientUnits=\"userSpaceOnUse\" x1=\"924.22\" y1=\"-916.5\" x2=\"1082.97\" y2=\"-916.5\" >\n",
       "<stop offset=\"0\" style=\"stop-color:#a5a4a5;stop-opacity:1.;\"/>\n",
       "<stop offset=\"1\" style=\"stop-color:#e4e4e4;stop-opacity:1.;\"/>\n",
       "</linearGradient>\n",
       "</defs>\n",
       "<polygon fill=\"url(#clust13_l_12)\" stroke=\"#a5a4a5\" points=\"924.22,-798 924.22,-1035 1082.97,-1035 1082.97,-798 924.22,-798\"/>\n",
       "<text text-anchor=\"middle\" x=\"1003.59\" y=\"-1017.7\" font-family=\"Helvetica,sans-Serif\" font-size=\"14.00\">Inputs</text>\n",
       "</g>\n",
       "<g id=\"clust14\" class=\"cluster\">\n",
       "<title>clusterphase_preferencee1OutputsWithInjection</title>\n",
       "<defs>\n",
       "<linearGradient id=\"clust14_l_13\" gradientUnits=\"userSpaceOnUse\" x1=\"1275.26\" y1=\"-916.5\" x2=\"1133.97\" y2=\"-916.5\" >\n",
       "<stop offset=\"0\" style=\"stop-color:#a5a4a5;stop-opacity:1.;\"/>\n",
       "<stop offset=\"1\" style=\"stop-color:#e4e4e4;stop-opacity:1.;\"/>\n",
       "</linearGradient>\n",
       "</defs>\n",
       "<polygon fill=\"url(#clust14_l_13)\" stroke=\"#a5a4a5\" points=\"1133.97,-852 1133.97,-981 1275.26,-981 1275.26,-852 1133.97,-852\"/>\n",
       "<text text-anchor=\"middle\" x=\"1204.61\" y=\"-963.7\" font-family=\"Helvetica,sans-Serif\" font-size=\"14.00\">OutputsWithInjection</text>\n",
       "</g>\n",
       "<g id=\"clust15\" class=\"cluster\">\n",
       "<title>clusterphase_preferencen1</title>\n",
       "<defs>\n",
       "<linearGradient id=\"clust15_l_14\" gradientUnits=\"userSpaceOnUse\" x1=\"916.22\" y1=\"-671\" x2=\"1283.61\" y2=\"-671\" >\n",
       "<stop offset=\"0\" style=\"stop-color:#c0e2c0;stop-opacity:1.;\"/>\n",
       "<stop offset=\"1\" style=\"stop-color:#c0e2c0;stop-opacity:1.;\"/>\n",
       "</linearGradient>\n",
       "</defs>\n",
       "<polygon fill=\"url(#clust15_l_14)\" stroke=\"#c0e2c0\" points=\"916.22,-560 916.22,-782 1283.61,-782 1283.61,-560 916.22,-560\"/>\n",
       "<text text-anchor=\"middle\" x=\"1099.92\" y=\"-764.7\" font-family=\"Helvetica,sans-Serif\" font-size=\"14.00\">n1: Length</text>\n",
       "</g>\n",
       "<g id=\"clust16\" class=\"cluster\">\n",
       "<title>clusterphase_preferencen1Inputs</title>\n",
       "<defs>\n",
       "<linearGradient id=\"clust16_l_15\" gradientUnits=\"userSpaceOnUse\" x1=\"924.22\" y1=\"-659.5\" x2=\"1082.97\" y2=\"-659.5\" >\n",
       "<stop offset=\"0\" style=\"stop-color:#a5a4a5;stop-opacity:1.;\"/>\n",
       "<stop offset=\"1\" style=\"stop-color:#e4e4e4;stop-opacity:1.;\"/>\n",
       "</linearGradient>\n",
       "</defs>\n",
       "<polygon fill=\"url(#clust16_l_15)\" stroke=\"#a5a4a5\" points=\"924.22,-568 924.22,-751 1082.97,-751 1082.97,-568 924.22,-568\"/>\n",
       "<text text-anchor=\"middle\" x=\"1003.59\" y=\"-733.7\" font-family=\"Helvetica,sans-Serif\" font-size=\"14.00\">Inputs</text>\n",
       "</g>\n",
       "<g id=\"clust17\" class=\"cluster\">\n",
       "<title>clusterphase_preferencen1OutputsWithInjection</title>\n",
       "<defs>\n",
       "<linearGradient id=\"clust17_l_16\" gradientUnits=\"userSpaceOnUse\" x1=\"1275.61\" y1=\"-686.5\" x2=\"1133.61\" y2=\"-686.5\" >\n",
       "<stop offset=\"0\" style=\"stop-color:#a5a4a5;stop-opacity:1.;\"/>\n",
       "<stop offset=\"1\" style=\"stop-color:#e4e4e4;stop-opacity:1.;\"/>\n",
       "</linearGradient>\n",
       "</defs>\n",
       "<polygon fill=\"url(#clust17_l_16)\" stroke=\"#a5a4a5\" points=\"1133.61,-622 1133.61,-751 1275.61,-751 1275.61,-622 1133.61,-622\"/>\n",
       "<text text-anchor=\"middle\" x=\"1204.61\" y=\"-733.7\" font-family=\"Helvetica,sans-Serif\" font-size=\"14.00\">OutputsWithInjection</text>\n",
       "</g>\n",
       "<g id=\"clust18\" class=\"cluster\">\n",
       "<title>clusterphase_preferencee2</title>\n",
       "<defs>\n",
       "<linearGradient id=\"clust18_l_17\" gradientUnits=\"userSpaceOnUse\" x1=\"916.22\" y1=\"-414\" x2=\"1283.26\" y2=\"-414\" >\n",
       "<stop offset=\"0\" style=\"stop-color:#c0e2c0;stop-opacity:1.;\"/>\n",
       "<stop offset=\"1\" style=\"stop-color:#c0e2c0;stop-opacity:1.;\"/>\n",
       "</linearGradient>\n",
       "</defs>\n",
       "<polygon fill=\"url(#clust18_l_17)\" stroke=\"#c0e2c0\" points=\"916.22,-276 916.22,-552 1283.26,-552 1283.26,-276 916.22,-276\"/>\n",
       "<text text-anchor=\"middle\" x=\"1099.74\" y=\"-534.7\" font-family=\"Helvetica,sans-Serif\" font-size=\"14.00\">e2: GetItem</text>\n",
       "</g>\n",
       "<g id=\"clust19\" class=\"cluster\">\n",
       "<title>clusterphase_preferencee2Inputs</title>\n",
       "<defs>\n",
       "<linearGradient id=\"clust19_l_18\" gradientUnits=\"userSpaceOnUse\" x1=\"924.22\" y1=\"-402.5\" x2=\"1082.97\" y2=\"-402.5\" >\n",
       "<stop offset=\"0\" style=\"stop-color:#a5a4a5;stop-opacity:1.;\"/>\n",
       "<stop offset=\"1\" style=\"stop-color:#e4e4e4;stop-opacity:1.;\"/>\n",
       "</linearGradient>\n",
       "</defs>\n",
       "<polygon fill=\"url(#clust19_l_18)\" stroke=\"#a5a4a5\" points=\"924.22,-284 924.22,-521 1082.97,-521 1082.97,-284 924.22,-284\"/>\n",
       "<text text-anchor=\"middle\" x=\"1003.59\" y=\"-503.7\" font-family=\"Helvetica,sans-Serif\" font-size=\"14.00\">Inputs</text>\n",
       "</g>\n",
       "<g id=\"clust20\" class=\"cluster\">\n",
       "<title>clusterphase_preferencee2OutputsWithInjection</title>\n",
       "<defs>\n",
       "<linearGradient id=\"clust20_l_19\" gradientUnits=\"userSpaceOnUse\" x1=\"1275.26\" y1=\"-402.5\" x2=\"1133.97\" y2=\"-402.5\" >\n",
       "<stop offset=\"0\" style=\"stop-color:#a5a4a5;stop-opacity:1.;\"/>\n",
       "<stop offset=\"1\" style=\"stop-color:#e4e4e4;stop-opacity:1.;\"/>\n",
       "</linearGradient>\n",
       "</defs>\n",
       "<polygon fill=\"url(#clust20_l_19)\" stroke=\"#a5a4a5\" points=\"1133.97,-338 1133.97,-467 1275.26,-467 1275.26,-338 1133.97,-338\"/>\n",
       "<text text-anchor=\"middle\" x=\"1204.61\" y=\"-449.7\" font-family=\"Helvetica,sans-Serif\" font-size=\"14.00\">OutputsWithInjection</text>\n",
       "</g>\n",
       "<g id=\"clust21\" class=\"cluster\">\n",
       "<title>clusterphase_preferencen2</title>\n",
       "<defs>\n",
       "<linearGradient id=\"clust21_l_20\" gradientUnits=\"userSpaceOnUse\" x1=\"916.22\" y1=\"-157\" x2=\"1283.61\" y2=\"-157\" >\n",
       "<stop offset=\"0\" style=\"stop-color:#c0e2c0;stop-opacity:1.;\"/>\n",
       "<stop offset=\"1\" style=\"stop-color:#c0e2c0;stop-opacity:1.;\"/>\n",
       "</linearGradient>\n",
       "</defs>\n",
       "<polygon fill=\"url(#clust21_l_20)\" stroke=\"#c0e2c0\" points=\"916.22,-46 916.22,-268 1283.61,-268 1283.61,-46 916.22,-46\"/>\n",
       "<text text-anchor=\"middle\" x=\"1099.92\" y=\"-250.7\" font-family=\"Helvetica,sans-Serif\" font-size=\"14.00\">n2: Length</text>\n",
       "</g>\n",
       "<g id=\"clust22\" class=\"cluster\">\n",
       "<title>clusterphase_preferencen2Inputs</title>\n",
       "<defs>\n",
       "<linearGradient id=\"clust22_l_21\" gradientUnits=\"userSpaceOnUse\" x1=\"924.22\" y1=\"-145.5\" x2=\"1082.97\" y2=\"-145.5\" >\n",
       "<stop offset=\"0\" style=\"stop-color:#a5a4a5;stop-opacity:1.;\"/>\n",
       "<stop offset=\"1\" style=\"stop-color:#e4e4e4;stop-opacity:1.;\"/>\n",
       "</linearGradient>\n",
       "</defs>\n",
       "<polygon fill=\"url(#clust22_l_21)\" stroke=\"#a5a4a5\" points=\"924.22,-54 924.22,-237 1082.97,-237 1082.97,-54 924.22,-54\"/>\n",
       "<text text-anchor=\"middle\" x=\"1003.59\" y=\"-219.7\" font-family=\"Helvetica,sans-Serif\" font-size=\"14.00\">Inputs</text>\n",
       "</g>\n",
       "<g id=\"clust23\" class=\"cluster\">\n",
       "<title>clusterphase_preferencen2OutputsWithInjection</title>\n",
       "<defs>\n",
       "<linearGradient id=\"clust23_l_22\" gradientUnits=\"userSpaceOnUse\" x1=\"1275.61\" y1=\"-172.5\" x2=\"1133.61\" y2=\"-172.5\" >\n",
       "<stop offset=\"0\" style=\"stop-color:#a5a4a5;stop-opacity:1.;\"/>\n",
       "<stop offset=\"1\" style=\"stop-color:#e4e4e4;stop-opacity:1.;\"/>\n",
       "</linearGradient>\n",
       "</defs>\n",
       "<polygon fill=\"url(#clust23_l_22)\" stroke=\"#a5a4a5\" points=\"1133.61,-108 1133.61,-237 1275.61,-237 1275.61,-108 1133.61,-108\"/>\n",
       "<text text-anchor=\"middle\" x=\"1204.61\" y=\"-219.7\" font-family=\"Helvetica,sans-Serif\" font-size=\"14.00\">OutputsWithInjection</text>\n",
       "</g>\n",
       "<g id=\"clust24\" class=\"cluster\">\n",
       "<title>clusterphase_preferencee2__getitem_Divide_n2__len</title>\n",
       "<defs>\n",
       "<linearGradient id=\"clust24_l_23\" gradientUnits=\"userSpaceOnUse\" x1=\"1291.26\" y1=\"-299\" x2=\"1643.45\" y2=\"-299\" >\n",
       "<stop offset=\"0\" style=\"stop-color:#c0e2c0;stop-opacity:1.;\"/>\n",
       "<stop offset=\"1\" style=\"stop-color:#c0e2c0;stop-opacity:1.;\"/>\n",
       "</linearGradient>\n",
       "</defs>\n",
       "<polygon fill=\"url(#clust24_l_23)\" stroke=\"#c0e2c0\" points=\"1291.26,-161 1291.26,-437 1643.45,-437 1643.45,-161 1291.26,-161\"/>\n",
       "<text text-anchor=\"middle\" x=\"1467.36\" y=\"-419.7\" font-family=\"Helvetica,sans-Serif\" font-size=\"14.00\">e2__getitem_Divide_n2__len: Divide</text>\n",
       "</g>\n",
       "<g id=\"clust25\" class=\"cluster\">\n",
       "<title>clusterphase_preferencee2__getitem_Divide_n2__lenInputs</title>\n",
       "<defs>\n",
       "<linearGradient id=\"clust25_l_24\" gradientUnits=\"userSpaceOnUse\" x1=\"1299.26\" y1=\"-287.5\" x2=\"1458.01\" y2=\"-287.5\" >\n",
       "<stop offset=\"0\" style=\"stop-color:#a5a4a5;stop-opacity:1.;\"/>\n",
       "<stop offset=\"1\" style=\"stop-color:#e4e4e4;stop-opacity:1.;\"/>\n",
       "</linearGradient>\n",
       "</defs>\n",
       "<polygon fill=\"url(#clust25_l_24)\" stroke=\"#a5a4a5\" points=\"1299.26,-169 1299.26,-406 1458.01,-406 1458.01,-169 1299.26,-169\"/>\n",
       "<text text-anchor=\"middle\" x=\"1378.64\" y=\"-388.7\" font-family=\"Helvetica,sans-Serif\" font-size=\"14.00\">Inputs</text>\n",
       "</g>\n",
       "<g id=\"clust26\" class=\"cluster\">\n",
       "<title>clusterphase_preferencee2__getitem_Divide_n2__lenOutputsWithInjection</title>\n",
       "<defs>\n",
       "<linearGradient id=\"clust26_l_25\" gradientUnits=\"userSpaceOnUse\" x1=\"1635.45\" y1=\"-341.5\" x2=\"1494.01\" y2=\"-341.5\" >\n",
       "<stop offset=\"0\" style=\"stop-color:#a5a4a5;stop-opacity:1.;\"/>\n",
       "<stop offset=\"1\" style=\"stop-color:#e4e4e4;stop-opacity:1.;\"/>\n",
       "</linearGradient>\n",
       "</defs>\n",
       "<polygon fill=\"url(#clust26_l_25)\" stroke=\"#a5a4a5\" points=\"1494.01,-277 1494.01,-406 1635.45,-406 1635.45,-277 1494.01,-277\"/>\n",
       "<text text-anchor=\"middle\" x=\"1564.73\" y=\"-388.7\" font-family=\"Helvetica,sans-Serif\" font-size=\"14.00\">OutputsWithInjection</text>\n",
       "</g>\n",
       "<g id=\"clust27\" class=\"cluster\">\n",
       "<title>clusterphase_preferencee1__getitem_Divide_n1__len</title>\n",
       "<defs>\n",
       "<linearGradient id=\"clust27_l_26\" gradientUnits=\"userSpaceOnUse\" x1=\"1291.26\" y1=\"-752\" x2=\"1643.45\" y2=\"-752\" >\n",
       "<stop offset=\"0\" style=\"stop-color:#c0e2c0;stop-opacity:1.;\"/>\n",
       "<stop offset=\"1\" style=\"stop-color:#c0e2c0;stop-opacity:1.;\"/>\n",
       "</linearGradient>\n",
       "</defs>\n",
       "<polygon fill=\"url(#clust27_l_26)\" stroke=\"#c0e2c0\" points=\"1291.26,-614 1291.26,-890 1643.45,-890 1643.45,-614 1291.26,-614\"/>\n",
       "<text text-anchor=\"middle\" x=\"1467.36\" y=\"-872.7\" font-family=\"Helvetica,sans-Serif\" font-size=\"14.00\">e1__getitem_Divide_n1__len: Divide</text>\n",
       "</g>\n",
       "<g id=\"clust28\" class=\"cluster\">\n",
       "<title>clusterphase_preferencee1__getitem_Divide_n1__lenInputs</title>\n",
       "<defs>\n",
       "<linearGradient id=\"clust28_l_27\" gradientUnits=\"userSpaceOnUse\" x1=\"1299.26\" y1=\"-740.5\" x2=\"1458.01\" y2=\"-740.5\" >\n",
       "<stop offset=\"0\" style=\"stop-color:#a5a4a5;stop-opacity:1.;\"/>\n",
       "<stop offset=\"1\" style=\"stop-color:#e4e4e4;stop-opacity:1.;\"/>\n",
       "</linearGradient>\n",
       "</defs>\n",
       "<polygon fill=\"url(#clust28_l_27)\" stroke=\"#a5a4a5\" points=\"1299.26,-622 1299.26,-859 1458.01,-859 1458.01,-622 1299.26,-622\"/>\n",
       "<text text-anchor=\"middle\" x=\"1378.64\" y=\"-841.7\" font-family=\"Helvetica,sans-Serif\" font-size=\"14.00\">Inputs</text>\n",
       "</g>\n",
       "<g id=\"clust29\" class=\"cluster\">\n",
       "<title>clusterphase_preferencee1__getitem_Divide_n1__lenOutputsWithInjection</title>\n",
       "<defs>\n",
       "<linearGradient id=\"clust29_l_28\" gradientUnits=\"userSpaceOnUse\" x1=\"1635.45\" y1=\"-740.5\" x2=\"1494.01\" y2=\"-740.5\" >\n",
       "<stop offset=\"0\" style=\"stop-color:#a5a4a5;stop-opacity:1.;\"/>\n",
       "<stop offset=\"1\" style=\"stop-color:#e4e4e4;stop-opacity:1.;\"/>\n",
       "</linearGradient>\n",
       "</defs>\n",
       "<polygon fill=\"url(#clust29_l_28)\" stroke=\"#a5a4a5\" points=\"1494.01,-676 1494.01,-805 1635.45,-805 1635.45,-676 1494.01,-676\"/>\n",
       "<text text-anchor=\"middle\" x=\"1564.73\" y=\"-787.7\" font-family=\"Helvetica,sans-Serif\" font-size=\"14.00\">OutputsWithInjection</text>\n",
       "</g>\n",
       "<g id=\"clust30\" class=\"cluster\">\n",
       "<title>clusterphase_preferencecompare</title>\n",
       "<defs>\n",
       "<linearGradient id=\"clust30_l_29\" gradientUnits=\"userSpaceOnUse\" x1=\"1651.45\" y1=\"-407\" x2=\"1996.2\" y2=\"-407\" >\n",
       "<stop offset=\"0\" style=\"stop-color:#c0e2c0;stop-opacity:1.;\"/>\n",
       "<stop offset=\"1\" style=\"stop-color:#c0e2c0;stop-opacity:1.;\"/>\n",
       "</linearGradient>\n",
       "</defs>\n",
       "<polygon fill=\"url(#clust30_l_29)\" stroke=\"#c0e2c0\" points=\"1651.45,-269 1651.45,-545 1996.2,-545 1996.2,-269 1651.45,-269\"/>\n",
       "<text text-anchor=\"middle\" x=\"1823.83\" y=\"-527.7\" font-family=\"Helvetica,sans-Serif\" font-size=\"14.00\">compare: Subtract</text>\n",
       "</g>\n",
       "<g id=\"clust31\" class=\"cluster\">\n",
       "<title>clusterphase_preferencecompareInputs</title>\n",
       "<defs>\n",
       "<linearGradient id=\"clust31_l_30\" gradientUnits=\"userSpaceOnUse\" x1=\"1659.45\" y1=\"-395.5\" x2=\"1818.2\" y2=\"-395.5\" >\n",
       "<stop offset=\"0\" style=\"stop-color:#a5a4a5;stop-opacity:1.;\"/>\n",
       "<stop offset=\"1\" style=\"stop-color:#e4e4e4;stop-opacity:1.;\"/>\n",
       "</linearGradient>\n",
       "</defs>\n",
       "<polygon fill=\"url(#clust31_l_30)\" stroke=\"#a5a4a5\" points=\"1659.45,-277 1659.45,-514 1818.2,-514 1818.2,-277 1659.45,-277\"/>\n",
       "<text text-anchor=\"middle\" x=\"1738.83\" y=\"-496.7\" font-family=\"Helvetica,sans-Serif\" font-size=\"14.00\">Inputs</text>\n",
       "</g>\n",
       "<g id=\"clust32\" class=\"cluster\">\n",
       "<title>clusterphase_preferencecompareOutputsWithInjection</title>\n",
       "<defs>\n",
       "<linearGradient id=\"clust32_l_31\" gradientUnits=\"userSpaceOnUse\" x1=\"1988.2\" y1=\"-395.5\" x2=\"1846.2\" y2=\"-395.5\" >\n",
       "<stop offset=\"0\" style=\"stop-color:#a5a4a5;stop-opacity:1.;\"/>\n",
       "<stop offset=\"1\" style=\"stop-color:#e4e4e4;stop-opacity:1.;\"/>\n",
       "</linearGradient>\n",
       "</defs>\n",
       "<polygon fill=\"url(#clust32_l_31)\" stroke=\"#a5a4a5\" points=\"1846.2,-331 1846.2,-460 1988.2,-460 1988.2,-331 1846.2,-331\"/>\n",
       "<text text-anchor=\"middle\" x=\"1917.2\" y=\"-442.7\" font-family=\"Helvetica,sans-Serif\" font-size=\"14.00\">OutputsWithInjection</text>\n",
       "</g>\n",
       "<!-- clusterphase_preferenceInputsrun -->\n",
       "<g id=\"node1\" class=\"node\">\n",
       "<title>clusterphase_preferenceInputsrun</title>\n",
       "<polygon fill=\"#21bfd8\" stroke=\"#21bfd8\" points=\"102.38,-229 60.38,-229 60.38,-205 102.38,-205 114.38,-217 102.38,-229\"/>\n",
       "<text text-anchor=\"middle\" x=\"87.38\" y=\"-211.2\" font-family=\"Helvetica,sans-Serif\" font-size=\"14.00\">run</text>\n",
       "</g>\n",
       "<!-- clusterphase_preferenceOutputsran -->\n",
       "<g id=\"node10\" class=\"node\">\n",
       "<title>clusterphase_preferenceOutputsran</title>\n",
       "<polygon fill=\"#21bfd8\" stroke=\"#21bfd8\" points=\"2100.1,-195 2058.1,-195 2058.1,-171 2100.1,-171 2112.1,-183 2100.1,-195\"/>\n",
       "<text text-anchor=\"middle\" x=\"2085.1\" y=\"-177.2\" font-family=\"Helvetica,sans-Serif\" font-size=\"14.00\">ran</text>\n",
       "</g>\n",
       "<!-- clusterphase_preferenceInputsrun&#45;&gt;clusterphase_preferenceOutputsran -->\n",
       "<!-- clusterphase_preferenceInputsaccumulate_and_run -->\n",
       "<g id=\"node2\" class=\"node\">\n",
       "<title>clusterphase_preferenceInputsaccumulate_and_run</title>\n",
       "<polygon fill=\"#21bfd8\" stroke=\"#21bfd8\" points=\"146.75,-607 16,-607 16,-583 146.75,-583 158.75,-595 146.75,-607\"/>\n",
       "<text text-anchor=\"middle\" x=\"87.38\" y=\"-589.2\" font-family=\"Helvetica,sans-Serif\" font-size=\"14.00\">accumulate_and_run</text>\n",
       "</g>\n",
       "<!-- clusterphase_preferenceInputselement -->\n",
       "<g id=\"node3\" class=\"node\">\n",
       "<title>clusterphase_preferenceInputselement</title>\n",
       "<ellipse fill=\"#edb22c\" stroke=\"#edb22c\" cx=\"87.38\" cy=\"-433\" rx=\"42.08\" ry=\"18\"/>\n",
       "<text text-anchor=\"middle\" x=\"87.38\" y=\"-427.2\" font-family=\"Helvetica,sans-Serif\" font-size=\"14.00\">element</text>\n",
       "</g>\n",
       "<!-- clusterphase_preferenceelementInputsuser_input -->\n",
       "<g id=\"node14\" class=\"node\">\n",
       "<title>clusterphase_preferenceelementInputsuser_input</title>\n",
       "<ellipse fill=\"#edb22c\" stroke=\"#edb22c\" cx=\"266.12\" cy=\"-432\" rx=\"51.35\" ry=\"18\"/>\n",
       "<text text-anchor=\"middle\" x=\"266.12\" y=\"-426.2\" font-family=\"Helvetica,sans-Serif\" font-size=\"14.00\">user_input</text>\n",
       "</g>\n",
       "<!-- clusterphase_preferenceInputselement&#45;&gt;clusterphase_preferenceelementInputsuser_input -->\n",
       "<g id=\"edge24\" class=\"edge\">\n",
       "<title>clusterphase_preferenceInputselement&#45;&gt;clusterphase_preferenceelementInputsuser_input</title>\n",
       "<path fill=\"none\" stroke=\"#edb22c\" d=\"M129.82,-432.77C140.74,-432.7 153.01,-432.63 165.58,-432.56\"/>\n",
       "<path fill=\"none\" stroke=\"#edb22c\" d=\"M165.58,-432.56C178.16,-432.49 191.04,-432.42 203.19,-432.35\"/>\n",
       "<polygon fill=\"#edb22c\" stroke=\"#edb22c\" points=\"202.99,-435.85 212.97,-432.3 202.95,-428.85 202.99,-435.85\"/>\n",
       "</g>\n",
       "<!-- clusterphase_preferenceInputsphase1 -->\n",
       "<g id=\"node4\" class=\"node\">\n",
       "<title>clusterphase_preferenceInputsphase1</title>\n",
       "<ellipse fill=\"#edb22c\" stroke=\"#edb22c\" cx=\"87.38\" cy=\"-541\" rx=\"53.78\" ry=\"18\"/>\n",
       "<text text-anchor=\"middle\" x=\"87.38\" y=\"-535.2\" font-family=\"Helvetica,sans-Serif\" font-size=\"14.00\">phase1: str</text>\n",
       "</g>\n",
       "<!-- clusterphase_preferencemin_phase1Inputscrystalstructure -->\n",
       "<g id=\"node20\" class=\"node\">\n",
       "<title>clusterphase_preferencemin_phase1Inputscrystalstructure</title>\n",
       "<ellipse fill=\"#edb22c\" stroke=\"#edb22c\" cx=\"630.68\" cy=\"-672\" rx=\"84.49\" ry=\"18\"/>\n",
       "<text text-anchor=\"middle\" x=\"630.68\" y=\"-666.2\" font-family=\"Helvetica,sans-Serif\" font-size=\"14.00\">crystalstructure: str</text>\n",
       "</g>\n",
       "<!-- clusterphase_preferenceInputsphase1&#45;&gt;clusterphase_preferencemin_phase1Inputscrystalstructure -->\n",
       "<g id=\"edge25\" class=\"edge\">\n",
       "<title>clusterphase_preferenceInputsphase1&#45;&gt;clusterphase_preferencemin_phase1Inputscrystalstructure</title>\n",
       "<path fill=\"none\" stroke=\"#edb22c\" d=\"M136.55,-548.57C147.97,-552.57 159.05,-558.68 166.75,-568 190.77,-597.07 150.81,-626.67 178.75,-652 193.59,-665.46 220.48,-674.34 254.03,-679.93\"/>\n",
       "<path fill=\"none\" stroke=\"#edb22c\" d=\"M254.03,-679.93C336.85,-693.74 460.2,-687.53 542.71,-680.72\"/>\n",
       "<polygon fill=\"#edb22c\" stroke=\"#edb22c\" points=\"542.84,-684.22 552.51,-679.89 542.25,-677.24 542.84,-684.22\"/>\n",
       "</g>\n",
       "<!-- clusterphase_preferenceInputslattice_guess1 -->\n",
       "<g id=\"node5\" class=\"node\">\n",
       "<title>clusterphase_preferenceInputslattice_guess1</title>\n",
       "<ellipse fill=\"#edb22c\" stroke=\"#edb22c\" cx=\"87.38\" cy=\"-487\" rx=\"66.46\" ry=\"18\"/>\n",
       "<text text-anchor=\"middle\" x=\"87.38\" y=\"-481.2\" font-family=\"Helvetica,sans-Serif\" font-size=\"14.00\">lattice_guess1</text>\n",
       "</g>\n",
       "<!-- clusterphase_preferencemin_phase1Inputslattice_guess -->\n",
       "<g id=\"node21\" class=\"node\">\n",
       "<title>clusterphase_preferencemin_phase1Inputslattice_guess</title>\n",
       "<ellipse fill=\"#edb22c\" stroke=\"#edb22c\" cx=\"630.68\" cy=\"-618\" rx=\"61.58\" ry=\"18\"/>\n",
       "<text text-anchor=\"middle\" x=\"630.68\" y=\"-612.2\" font-family=\"Helvetica,sans-Serif\" font-size=\"14.00\">lattice_guess</text>\n",
       "</g>\n",
       "<!-- clusterphase_preferenceInputslattice_guess1&#45;&gt;clusterphase_preferencemin_phase1Inputslattice_guess -->\n",
       "<g id=\"edge26\" class=\"edge\">\n",
       "<title>clusterphase_preferenceInputslattice_guess1&#45;&gt;clusterphase_preferencemin_phase1Inputslattice_guess</title>\n",
       "<path fill=\"none\" stroke=\"#edb22c\" d=\"M142.96,-497.13C152.02,-501.05 160.48,-506.48 166.75,-514 189.49,-541.28 152.47,-569.11 178.75,-593 195.89,-608.58 229.13,-618.3 270.13,-624.03\"/>\n",
       "<path fill=\"none\" stroke=\"#edb22c\" d=\"M270.13,-624.03C358.63,-636.41 483.28,-630.23 560.15,-624.33\"/>\n",
       "<polygon fill=\"#edb22c\" stroke=\"#edb22c\" points=\"560.17,-627.84 569.86,-623.57 559.62,-620.87 560.17,-627.84\"/>\n",
       "</g>\n",
       "<!-- clusterphase_preferenceInputsphase2 -->\n",
       "<g id=\"node6\" class=\"node\">\n",
       "<title>clusterphase_preferenceInputsphase2</title>\n",
       "<ellipse fill=\"#edb22c\" stroke=\"#edb22c\" cx=\"87.38\" cy=\"-325\" rx=\"53.78\" ry=\"18\"/>\n",
       "<text text-anchor=\"middle\" x=\"87.38\" y=\"-319.2\" font-family=\"Helvetica,sans-Serif\" font-size=\"14.00\">phase2: str</text>\n",
       "</g>\n",
       "<!-- clusterphase_preferencemin_phase2Inputscrystalstructure -->\n",
       "<g id=\"node28\" class=\"node\">\n",
       "<title>clusterphase_preferencemin_phase2Inputscrystalstructure</title>\n",
       "<ellipse fill=\"#edb22c\" stroke=\"#edb22c\" cx=\"630.68\" cy=\"-129\" rx=\"84.49\" ry=\"18\"/>\n",
       "<text text-anchor=\"middle\" x=\"630.68\" y=\"-123.2\" font-family=\"Helvetica,sans-Serif\" font-size=\"14.00\">crystalstructure: str</text>\n",
       "</g>\n",
       "<!-- clusterphase_preferenceInputsphase2&#45;&gt;clusterphase_preferencemin_phase2Inputscrystalstructure -->\n",
       "<g id=\"edge27\" class=\"edge\">\n",
       "<title>clusterphase_preferenceInputsphase2&#45;&gt;clusterphase_preferencemin_phase2Inputscrystalstructure</title>\n",
       "<path fill=\"none\" stroke=\"#edb22c\" d=\"M126.36,-312.26C139.22,-307.86 153.65,-302.81 166.75,-298 246.49,-268.7 295.8,-247.07 344.72,-226.24\"/>\n",
       "<path fill=\"none\" stroke=\"#edb22c\" d=\"M344.72,-226.24C395.66,-204.55 446.18,-183.72 530.19,-156 540.9,-152.47 552.36,-149.04 563.56,-145.87\"/>\n",
       "<polygon fill=\"#edb22c\" stroke=\"#edb22c\" points=\"564.47,-149.25 573.17,-143.21 562.6,-142.51 564.47,-149.25\"/>\n",
       "</g>\n",
       "<!-- clusterphase_preferenceInputslattice_guess2 -->\n",
       "<g id=\"node7\" class=\"node\">\n",
       "<title>clusterphase_preferenceInputslattice_guess2</title>\n",
       "<ellipse fill=\"#edb22c\" stroke=\"#edb22c\" cx=\"87.38\" cy=\"-271\" rx=\"66.46\" ry=\"18\"/>\n",
       "<text text-anchor=\"middle\" x=\"87.38\" y=\"-265.2\" font-family=\"Helvetica,sans-Serif\" font-size=\"14.00\">lattice_guess2</text>\n",
       "</g>\n",
       "<!-- clusterphase_preferencemin_phase2Inputslattice_guess -->\n",
       "<g id=\"node29\" class=\"node\">\n",
       "<title>clusterphase_preferencemin_phase2Inputslattice_guess</title>\n",
       "<ellipse fill=\"#edb22c\" stroke=\"#edb22c\" cx=\"630.68\" cy=\"-75\" rx=\"61.58\" ry=\"18\"/>\n",
       "<text text-anchor=\"middle\" x=\"630.68\" y=\"-69.2\" font-family=\"Helvetica,sans-Serif\" font-size=\"14.00\">lattice_guess</text>\n",
       "</g>\n",
       "<!-- clusterphase_preferenceInputslattice_guess2&#45;&gt;clusterphase_preferencemin_phase2Inputslattice_guess -->\n",
       "<g id=\"edge28\" class=\"edge\">\n",
       "<title>clusterphase_preferenceInputslattice_guess2&#45;&gt;clusterphase_preferencemin_phase2Inputslattice_guess</title>\n",
       "<path fill=\"none\" stroke=\"#edb22c\" d=\"M139.37,-259.57C149.17,-255.75 158.84,-250.69 166.75,-244 175.26,-236.81 170.23,-229.18 178.75,-222 238.88,-171.33 285.66,-152.67 335.23,-141.79\"/>\n",
       "<path fill=\"none\" stroke=\"#edb22c\" d=\"M335.23,-141.79C389.71,-129.84 447.55,-127.29 530.19,-102 543.83,-97.83 558.62,-93.63 572.52,-89.84\"/>\n",
       "<polygon fill=\"#edb22c\" stroke=\"#edb22c\" points=\"573.24,-93.27 581.98,-87.28 571.41,-86.51 573.24,-93.27\"/>\n",
       "</g>\n",
       "<!-- clusterphase_preferenceInputse1__item -->\n",
       "<g id=\"node8\" class=\"node\">\n",
       "<title>clusterphase_preferenceInputse1__item</title>\n",
       "<ellipse fill=\"#edb22c\" stroke=\"#edb22c\" cx=\"87.38\" cy=\"-649\" rx=\"46.96\" ry=\"18\"/>\n",
       "<text text-anchor=\"middle\" x=\"87.38\" y=\"-643.2\" font-family=\"Helvetica,sans-Serif\" font-size=\"14.00\">e1__item</text>\n",
       "</g>\n",
       "<!-- clusterphase_preferencee1Inputsitem -->\n",
       "<g id=\"node36\" class=\"node\">\n",
       "<title>clusterphase_preferencee1Inputsitem</title>\n",
       "<ellipse fill=\"#edb22c\" stroke=\"#edb22c\" cx=\"1003.59\" cy=\"-878\" rx=\"27.46\" ry=\"18\"/>\n",
       "<text text-anchor=\"middle\" x=\"1003.59\" y=\"-872.2\" font-family=\"Helvetica,sans-Serif\" font-size=\"14.00\">item</text>\n",
       "</g>\n",
       "<!-- clusterphase_preferenceInputse1__item&#45;&gt;clusterphase_preferencee1Inputsitem -->\n",
       "<g id=\"edge29\" class=\"edge\">\n",
       "<title>clusterphase_preferenceInputse1__item&#45;&gt;clusterphase_preferencee1Inputsitem</title>\n",
       "<path fill=\"none\" stroke=\"#edb22c\" d=\"M102.07,-666.59C145.49,-720.21 286.47,-878 441.85,-878 441.85,-878 441.85,-878 444.13,-878\"/>\n",
       "<path fill=\"none\" stroke=\"#edb22c\" d=\"M444.13,-878C451.82,-878 485.35,-878 631.68,-878 753.48,-878 897.77,-878 964.84,-878\"/>\n",
       "<polygon fill=\"#edb22c\" stroke=\"#edb22c\" points=\"964.54,-881.5 974.54,-878 964.54,-874.5 964.54,-881.5\"/>\n",
       "</g>\n",
       "<!-- clusterphase_preferenceInputse2__item -->\n",
       "<g id=\"node9\" class=\"node\">\n",
       "<title>clusterphase_preferenceInputse2__item</title>\n",
       "<ellipse fill=\"#edb22c\" stroke=\"#edb22c\" cx=\"87.38\" cy=\"-379\" rx=\"46.96\" ry=\"18\"/>\n",
       "<text text-anchor=\"middle\" x=\"87.38\" y=\"-373.2\" font-family=\"Helvetica,sans-Serif\" font-size=\"14.00\">e2__item</text>\n",
       "</g>\n",
       "<!-- clusterphase_preferencee2Inputsitem -->\n",
       "<g id=\"node47\" class=\"node\">\n",
       "<title>clusterphase_preferencee2Inputsitem</title>\n",
       "<ellipse fill=\"#edb22c\" stroke=\"#edb22c\" cx=\"1003.59\" cy=\"-364\" rx=\"27.46\" ry=\"18\"/>\n",
       "<text text-anchor=\"middle\" x=\"1003.59\" y=\"-358.2\" font-family=\"Helvetica,sans-Serif\" font-size=\"14.00\">item</text>\n",
       "</g>\n",
       "<!-- clusterphase_preferenceInputse2__item&#45;&gt;clusterphase_preferencee2Inputsitem -->\n",
       "<g id=\"edge30\" class=\"edge\">\n",
       "<title>clusterphase_preferenceInputse2__item&#45;&gt;clusterphase_preferencee2Inputsitem</title>\n",
       "<path fill=\"none\" stroke=\"#edb22c\" d=\"M134.65,-378.24C214.35,-376.93 385.33,-374.13 554.63,-371.35\"/>\n",
       "<path fill=\"none\" stroke=\"#edb22c\" d=\"M554.63,-371.35C723.93,-368.57 891.55,-365.82 964.56,-364.62\"/>\n",
       "<polygon fill=\"#edb22c\" stroke=\"#edb22c\" points=\"964.51,-368.13 974.45,-364.46 964.4,-361.13 964.51,-368.13\"/>\n",
       "</g>\n",
       "<!-- clusterphase_preferenceOutputscompare__sub -->\n",
       "<g id=\"node11\" class=\"node\">\n",
       "<title>clusterphase_preferenceOutputscompare__sub</title>\n",
       "<ellipse fill=\"#edb22c\" stroke=\"#edb22c\" cx=\"2085.1\" cy=\"-237\" rx=\"68.89\" ry=\"18\"/>\n",
       "<text text-anchor=\"middle\" x=\"2085.1\" y=\"-231.2\" font-family=\"Helvetica,sans-Serif\" font-size=\"14.00\">compare__sub</text>\n",
       "</g>\n",
       "<!-- clusterphase_preferenceelementInputsrun -->\n",
       "<g id=\"node12\" class=\"node\">\n",
       "<title>clusterphase_preferenceelementInputsrun</title>\n",
       "<polygon fill=\"#21bfd8\" stroke=\"#21bfd8\" points=\"281.12,-552 239.12,-552 239.12,-528 281.12,-528 293.12,-540 281.12,-552\"/>\n",
       "<text text-anchor=\"middle\" x=\"266.12\" y=\"-534.2\" font-family=\"Helvetica,sans-Serif\" font-size=\"14.00\">run</text>\n",
       "</g>\n",
       "<!-- clusterphase_preferenceelementOutputsWithInjectionran -->\n",
       "<g id=\"node15\" class=\"node\">\n",
       "<title>clusterphase_preferenceelementOutputsWithInjectionran</title>\n",
       "<polygon fill=\"#21bfd8\" stroke=\"#21bfd8\" points=\"457.85,-552 415.85,-552 415.85,-528 457.85,-528 469.85,-540 457.85,-552\"/>\n",
       "<text text-anchor=\"middle\" x=\"442.85\" y=\"-534.2\" font-family=\"Helvetica,sans-Serif\" font-size=\"14.00\">ran</text>\n",
       "</g>\n",
       "<!-- clusterphase_preferenceelementInputsrun&#45;&gt;clusterphase_preferenceelementOutputsWithInjectionran -->\n",
       "<!-- clusterphase_preferenceelementInputsaccumulate_and_run -->\n",
       "<g id=\"node13\" class=\"node\">\n",
       "<title>clusterphase_preferenceelementInputsaccumulate_and_run</title>\n",
       "<polygon fill=\"#21bfd8\" stroke=\"#21bfd8\" points=\"325.5,-498 194.75,-498 194.75,-474 325.5,-474 337.5,-486 325.5,-498\"/>\n",
       "<text text-anchor=\"middle\" x=\"266.12\" y=\"-480.2\" font-family=\"Helvetica,sans-Serif\" font-size=\"14.00\">accumulate_and_run</text>\n",
       "</g>\n",
       "<!-- clusterphase_preferenceelementOutputsWithInjectionuser_input -->\n",
       "<g id=\"node16\" class=\"node\">\n",
       "<title>clusterphase_preferenceelementOutputsWithInjectionuser_input</title>\n",
       "<ellipse fill=\"#edb22c\" stroke=\"#edb22c\" cx=\"442.85\" cy=\"-486\" rx=\"51.35\" ry=\"18\"/>\n",
       "<text text-anchor=\"middle\" x=\"442.85\" y=\"-480.2\" font-family=\"Helvetica,sans-Serif\" font-size=\"14.00\">user_input</text>\n",
       "</g>\n",
       "<!-- clusterphase_preferencemin_phase1Inputselement -->\n",
       "<g id=\"node19\" class=\"node\">\n",
       "<title>clusterphase_preferencemin_phase1Inputselement</title>\n",
       "<ellipse fill=\"#edb22c\" stroke=\"#edb22c\" cx=\"630.68\" cy=\"-564\" rx=\"56.71\" ry=\"18\"/>\n",
       "<text text-anchor=\"middle\" x=\"630.68\" y=\"-558.2\" font-family=\"Helvetica,sans-Serif\" font-size=\"14.00\">element: str</text>\n",
       "</g>\n",
       "<!-- clusterphase_preferenceelementOutputsWithInjectionuser_input&#45;&gt;clusterphase_preferencemin_phase1Inputselement -->\n",
       "<g id=\"edge12\" class=\"edge\">\n",
       "<title>clusterphase_preferenceelementOutputsWithInjectionuser_input&#45;&gt;clusterphase_preferencemin_phase1Inputselement</title>\n",
       "<path fill=\"none\" stroke=\"#edb22c\" d=\"M481.62,-498.07C494.6,-502.47 509.14,-507.67 522.19,-513 526.85,-514.9 531.59,-516.9 536.36,-518.96\"/>\n",
       "<path fill=\"none\" stroke=\"#edb22c\" d=\"M536.36,-518.96C554.68,-526.89 573.41,-535.75 589.24,-543.5\"/>\n",
       "<polygon fill=\"#edb22c\" stroke=\"#edb22c\" points=\"587.63,-546.61 598.15,-547.91 590.73,-540.34 587.63,-546.61\"/>\n",
       "</g>\n",
       "<!-- clusterphase_preferencemin_phase2Inputselement -->\n",
       "<g id=\"node27\" class=\"node\">\n",
       "<title>clusterphase_preferencemin_phase2Inputselement</title>\n",
       "<ellipse fill=\"#edb22c\" stroke=\"#edb22c\" cx=\"630.68\" cy=\"-183\" rx=\"56.71\" ry=\"18\"/>\n",
       "<text text-anchor=\"middle\" x=\"630.68\" y=\"-177.2\" font-family=\"Helvetica,sans-Serif\" font-size=\"14.00\">element: str</text>\n",
       "</g>\n",
       "<!-- clusterphase_preferenceelementOutputsWithInjectionuser_input&#45;&gt;clusterphase_preferencemin_phase2Inputselement -->\n",
       "<g id=\"edge13\" class=\"edge\">\n",
       "<title>clusterphase_preferenceelementOutputsWithInjectionuser_input&#45;&gt;clusterphase_preferencemin_phase2Inputselement</title>\n",
       "<path fill=\"none\" stroke=\"#edb22c\" d=\"M450,-467.97C459.1,-441.14 477.06,-387.58 495.34,-329.55\"/>\n",
       "<path fill=\"none\" stroke=\"#edb22c\" d=\"M495.34,-329.55C504.58,-300.22 513.89,-269.74 522.19,-241 526.14,-227.33 520.19,-220.12 530.19,-210 539.53,-200.55 551.81,-194.31 564.55,-190.21\"/>\n",
       "<polygon fill=\"#edb22c\" stroke=\"#edb22c\" points=\"565.13,-193.68 573.84,-187.65 563.27,-186.93 565.13,-193.68\"/>\n",
       "</g>\n",
       "<!-- clusterphase_preferencemin_phase1Inputsrun -->\n",
       "<g id=\"node17\" class=\"node\">\n",
       "<title>clusterphase_preferencemin_phase1Inputsrun</title>\n",
       "<polygon fill=\"#21bfd8\" stroke=\"#21bfd8\" points=\"645.68,-792 603.68,-792 603.68,-768 645.68,-768 657.68,-780 645.68,-792\"/>\n",
       "<text text-anchor=\"middle\" x=\"630.68\" y=\"-774.2\" font-family=\"Helvetica,sans-Serif\" font-size=\"14.00\">run</text>\n",
       "</g>\n",
       "<!-- clusterphase_preferencemin_phase1OutputsWithInjectionran -->\n",
       "<g id=\"node22\" class=\"node\">\n",
       "<title>clusterphase_preferencemin_phase1OutputsWithInjectionran</title>\n",
       "<polygon fill=\"#21bfd8\" stroke=\"#21bfd8\" points=\"844.7,-792 802.7,-792 802.7,-768 844.7,-768 856.7,-780 844.7,-792\"/>\n",
       "<text text-anchor=\"middle\" x=\"829.7\" y=\"-774.2\" font-family=\"Helvetica,sans-Serif\" font-size=\"14.00\">ran</text>\n",
       "</g>\n",
       "<!-- clusterphase_preferencemin_phase1Inputsrun&#45;&gt;clusterphase_preferencemin_phase1OutputsWithInjectionran -->\n",
       "<!-- clusterphase_preferencemin_phase1Inputsaccumulate_and_run -->\n",
       "<g id=\"node18\" class=\"node\">\n",
       "<title>clusterphase_preferencemin_phase1Inputsaccumulate_and_run</title>\n",
       "<polygon fill=\"#21bfd8\" stroke=\"#21bfd8\" points=\"690.06,-738 559.31,-738 559.31,-714 690.06,-714 702.06,-726 690.06,-738\"/>\n",
       "<text text-anchor=\"middle\" x=\"630.68\" y=\"-720.2\" font-family=\"Helvetica,sans-Serif\" font-size=\"14.00\">accumulate_and_run</text>\n",
       "</g>\n",
       "<!-- clusterphase_preferencemin_phase1OutputsWithInjectionstructure -->\n",
       "<g id=\"node23\" class=\"node\">\n",
       "<title>clusterphase_preferencemin_phase1OutputsWithInjectionstructure</title>\n",
       "<ellipse fill=\"#edb22c\" stroke=\"#edb22c\" cx=\"829.7\" cy=\"-672\" rx=\"44.52\" ry=\"18\"/>\n",
       "<text text-anchor=\"middle\" x=\"829.7\" y=\"-666.2\" font-family=\"Helvetica,sans-Serif\" font-size=\"14.00\">structure</text>\n",
       "</g>\n",
       "<!-- clusterphase_preferencen1Inputsobj -->\n",
       "<g id=\"node41\" class=\"node\">\n",
       "<title>clusterphase_preferencen1Inputsobj</title>\n",
       "<ellipse fill=\"#edb22c\" stroke=\"#edb22c\" cx=\"1003.59\" cy=\"-594\" rx=\"27\" ry=\"18\"/>\n",
       "<text text-anchor=\"middle\" x=\"1003.59\" y=\"-588.2\" font-family=\"Helvetica,sans-Serif\" font-size=\"14.00\">obj</text>\n",
       "</g>\n",
       "<!-- clusterphase_preferencemin_phase1OutputsWithInjectionstructure&#45;&gt;clusterphase_preferencen1Inputsobj -->\n",
       "<g id=\"edge14\" class=\"edge\">\n",
       "<title>clusterphase_preferencemin_phase1OutputsWithInjectionstructure&#45;&gt;clusterphase_preferencen1Inputsobj</title>\n",
       "<path fill=\"none\" stroke=\"#edb22c\" d=\"M853.49,-656.39C868.14,-646.81 888.05,-634.57 907.67,-625\"/>\n",
       "<path fill=\"none\" stroke=\"#edb22c\" d=\"M907.67,-625C910.53,-623.6 913.39,-622.27 916.22,-621 932.38,-613.78 951.04,-607.68 966.88,-603.12\"/>\n",
       "<polygon fill=\"#edb22c\" stroke=\"#edb22c\" points=\"967.67,-606.53 976.37,-600.48 965.8,-599.79 967.67,-606.53\"/>\n",
       "</g>\n",
       "<!-- clusterphase_preferencemin_phase1OutputsWithInjectionenergy -->\n",
       "<g id=\"node24\" class=\"node\">\n",
       "<title>clusterphase_preferencemin_phase1OutputsWithInjectionenergy</title>\n",
       "<ellipse fill=\"#edb22c\" stroke=\"#edb22c\" cx=\"829.7\" cy=\"-726\" rx=\"37.21\" ry=\"18\"/>\n",
       "<text text-anchor=\"middle\" x=\"829.7\" y=\"-720.2\" font-family=\"Helvetica,sans-Serif\" font-size=\"14.00\">energy</text>\n",
       "</g>\n",
       "<!-- clusterphase_preferencee1Inputsobj -->\n",
       "<g id=\"node35\" class=\"node\">\n",
       "<title>clusterphase_preferencee1Inputsobj</title>\n",
       "<ellipse fill=\"#edb22c\" stroke=\"#edb22c\" cx=\"1003.59\" cy=\"-824\" rx=\"27\" ry=\"18\"/>\n",
       "<text text-anchor=\"middle\" x=\"1003.59\" y=\"-818.2\" font-family=\"Helvetica,sans-Serif\" font-size=\"14.00\">obj</text>\n",
       "</g>\n",
       "<!-- clusterphase_preferencemin_phase1OutputsWithInjectionenergy&#45;&gt;clusterphase_preferencee1Inputsobj -->\n",
       "<g id=\"edge15\" class=\"edge\">\n",
       "<title>clusterphase_preferencemin_phase1OutputsWithInjectionenergy&#45;&gt;clusterphase_preferencee1Inputsobj</title>\n",
       "<path fill=\"none\" stroke=\"#edb22c\" d=\"M862.56,-734.65C876.94,-739.16 893.88,-745.35 908.22,-753 913.69,-755.92 919.19,-759.14 924.63,-762.55\"/>\n",
       "<path fill=\"none\" stroke=\"#edb22c\" d=\"M924.63,-762.55C944.68,-775.13 963.95,-790.28 978.32,-802.39\"/>\n",
       "<polygon fill=\"#edb22c\" stroke=\"#edb22c\" points=\"975.59,-804.66 985.46,-808.51 980.15,-799.35 975.59,-804.66\"/>\n",
       "</g>\n",
       "<!-- clusterphase_preferencemin_phase2Inputsrun -->\n",
       "<g id=\"node25\" class=\"node\">\n",
       "<title>clusterphase_preferencemin_phase2Inputsrun</title>\n",
       "<polygon fill=\"#21bfd8\" stroke=\"#21bfd8\" points=\"645.68,-303 603.68,-303 603.68,-279 645.68,-279 657.68,-291 645.68,-303\"/>\n",
       "<text text-anchor=\"middle\" x=\"630.68\" y=\"-285.2\" font-family=\"Helvetica,sans-Serif\" font-size=\"14.00\">run</text>\n",
       "</g>\n",
       "<!-- clusterphase_preferencemin_phase2OutputsWithInjectionran -->\n",
       "<g id=\"node30\" class=\"node\">\n",
       "<title>clusterphase_preferencemin_phase2OutputsWithInjectionran</title>\n",
       "<polygon fill=\"#21bfd8\" stroke=\"#21bfd8\" points=\"844.7,-303 802.7,-303 802.7,-279 844.7,-279 856.7,-291 844.7,-303\"/>\n",
       "<text text-anchor=\"middle\" x=\"829.7\" y=\"-285.2\" font-family=\"Helvetica,sans-Serif\" font-size=\"14.00\">ran</text>\n",
       "</g>\n",
       "<!-- clusterphase_preferencemin_phase2Inputsrun&#45;&gt;clusterphase_preferencemin_phase2OutputsWithInjectionran -->\n",
       "<!-- clusterphase_preferencemin_phase2Inputsaccumulate_and_run -->\n",
       "<g id=\"node26\" class=\"node\">\n",
       "<title>clusterphase_preferencemin_phase2Inputsaccumulate_and_run</title>\n",
       "<polygon fill=\"#21bfd8\" stroke=\"#21bfd8\" points=\"690.06,-249 559.31,-249 559.31,-225 690.06,-225 702.06,-237 690.06,-249\"/>\n",
       "<text text-anchor=\"middle\" x=\"630.68\" y=\"-231.2\" font-family=\"Helvetica,sans-Serif\" font-size=\"14.00\">accumulate_and_run</text>\n",
       "</g>\n",
       "<!-- clusterphase_preferencemin_phase2OutputsWithInjectionstructure -->\n",
       "<g id=\"node31\" class=\"node\">\n",
       "<title>clusterphase_preferencemin_phase2OutputsWithInjectionstructure</title>\n",
       "<ellipse fill=\"#edb22c\" stroke=\"#edb22c\" cx=\"829.7\" cy=\"-183\" rx=\"44.52\" ry=\"18\"/>\n",
       "<text text-anchor=\"middle\" x=\"829.7\" y=\"-177.2\" font-family=\"Helvetica,sans-Serif\" font-size=\"14.00\">structure</text>\n",
       "</g>\n",
       "<!-- clusterphase_preferencen2Inputsobj -->\n",
       "<g id=\"node52\" class=\"node\">\n",
       "<title>clusterphase_preferencen2Inputsobj</title>\n",
       "<ellipse fill=\"#edb22c\" stroke=\"#edb22c\" cx=\"1003.59\" cy=\"-80\" rx=\"27\" ry=\"18\"/>\n",
       "<text text-anchor=\"middle\" x=\"1003.59\" y=\"-74.2\" font-family=\"Helvetica,sans-Serif\" font-size=\"14.00\">obj</text>\n",
       "</g>\n",
       "<!-- clusterphase_preferencemin_phase2OutputsWithInjectionstructure&#45;&gt;clusterphase_preferencen2Inputsobj -->\n",
       "<g id=\"edge16\" class=\"edge\">\n",
       "<title>clusterphase_preferencemin_phase2OutputsWithInjectionstructure&#45;&gt;clusterphase_preferencen2Inputsobj</title>\n",
       "<path fill=\"none\" stroke=\"#edb22c\" d=\"M845.79,-165.87C858.4,-152.33 877.69,-133.24 898.98,-118.06\"/>\n",
       "<path fill=\"none\" stroke=\"#edb22c\" d=\"M898.98,-118.06C904.62,-114.04 910.39,-110.3 916.22,-107 931.62,-98.29 950.2,-92.01 966.17,-87.72\"/>\n",
       "<polygon fill=\"#edb22c\" stroke=\"#edb22c\" points=\"966.94,-91.13 975.79,-85.31 965.23,-84.35 966.94,-91.13\"/>\n",
       "</g>\n",
       "<!-- clusterphase_preferencemin_phase2OutputsWithInjectionenergy -->\n",
       "<g id=\"node32\" class=\"node\">\n",
       "<title>clusterphase_preferencemin_phase2OutputsWithInjectionenergy</title>\n",
       "<ellipse fill=\"#edb22c\" stroke=\"#edb22c\" cx=\"829.7\" cy=\"-237\" rx=\"37.21\" ry=\"18\"/>\n",
       "<text text-anchor=\"middle\" x=\"829.7\" y=\"-231.2\" font-family=\"Helvetica,sans-Serif\" font-size=\"14.00\">energy</text>\n",
       "</g>\n",
       "<!-- clusterphase_preferencee2Inputsobj -->\n",
       "<g id=\"node46\" class=\"node\">\n",
       "<title>clusterphase_preferencee2Inputsobj</title>\n",
       "<ellipse fill=\"#edb22c\" stroke=\"#edb22c\" cx=\"1003.59\" cy=\"-310\" rx=\"27\" ry=\"18\"/>\n",
       "<text text-anchor=\"middle\" x=\"1003.59\" y=\"-304.2\" font-family=\"Helvetica,sans-Serif\" font-size=\"14.00\">obj</text>\n",
       "</g>\n",
       "<!-- clusterphase_preferencemin_phase2OutputsWithInjectionenergy&#45;&gt;clusterphase_preferencee2Inputsobj -->\n",
       "<g id=\"edge17\" class=\"edge\">\n",
       "<title>clusterphase_preferencemin_phase2OutputsWithInjectionenergy&#45;&gt;clusterphase_preferencee2Inputsobj</title>\n",
       "<path fill=\"none\" stroke=\"#edb22c\" d=\"M861.57,-246.82C875.91,-251.62 893.09,-257.7 908.22,-264 911.39,-265.32 914.61,-266.7 917.85,-268.11\"/>\n",
       "<path fill=\"none\" stroke=\"#edb22c\" d=\"M917.85,-268.11C936.72,-276.36 956.3,-285.96 971.87,-293.88\"/>\n",
       "<polygon fill=\"#edb22c\" stroke=\"#edb22c\" points=\"970.09,-296.9 980.58,-298.36 973.29,-290.67 970.09,-296.9\"/>\n",
       "</g>\n",
       "<!-- clusterphase_preferencee1Inputsrun -->\n",
       "<g id=\"node33\" class=\"node\">\n",
       "<title>clusterphase_preferencee1Inputsrun</title>\n",
       "<polygon fill=\"#21bfd8\" stroke=\"#21bfd8\" points=\"1018.59,-998 976.59,-998 976.59,-974 1018.59,-974 1030.59,-986 1018.59,-998\"/>\n",
       "<text text-anchor=\"middle\" x=\"1003.59\" y=\"-980.2\" font-family=\"Helvetica,sans-Serif\" font-size=\"14.00\">run</text>\n",
       "</g>\n",
       "<!-- clusterphase_preferencee1OutputsWithInjectionran -->\n",
       "<g id=\"node37\" class=\"node\">\n",
       "<title>clusterphase_preferencee1OutputsWithInjectionran</title>\n",
       "<polygon fill=\"#21bfd8\" stroke=\"#21bfd8\" points=\"1219.61,-944 1177.61,-944 1177.61,-920 1219.61,-920 1231.61,-932 1219.61,-944\"/>\n",
       "<text text-anchor=\"middle\" x=\"1204.61\" y=\"-926.2\" font-family=\"Helvetica,sans-Serif\" font-size=\"14.00\">ran</text>\n",
       "</g>\n",
       "<!-- clusterphase_preferencee1Inputsrun&#45;&gt;clusterphase_preferencee1OutputsWithInjectionran -->\n",
       "<!-- clusterphase_preferencee1Inputsaccumulate_and_run -->\n",
       "<g id=\"node34\" class=\"node\">\n",
       "<title>clusterphase_preferencee1Inputsaccumulate_and_run</title>\n",
       "<polygon fill=\"#21bfd8\" stroke=\"#21bfd8\" points=\"1062.97,-944 932.22,-944 932.22,-920 1062.97,-920 1074.97,-932 1062.97,-944\"/>\n",
       "<text text-anchor=\"middle\" x=\"1003.59\" y=\"-926.2\" font-family=\"Helvetica,sans-Serif\" font-size=\"14.00\">accumulate_and_run</text>\n",
       "</g>\n",
       "<!-- clusterphase_preferencee1OutputsWithInjectiongetitem -->\n",
       "<g id=\"node38\" class=\"node\">\n",
       "<title>clusterphase_preferencee1OutputsWithInjectiongetitem</title>\n",
       "<ellipse fill=\"#edb22c\" stroke=\"#edb22c\" cx=\"1204.61\" cy=\"-878\" rx=\"39.65\" ry=\"18\"/>\n",
       "<text text-anchor=\"middle\" x=\"1204.61\" y=\"-872.2\" font-family=\"Helvetica,sans-Serif\" font-size=\"14.00\">getitem</text>\n",
       "</g>\n",
       "<!-- clusterphase_preferencee1__getitem_Divide_n1__lenInputsobj -->\n",
       "<g id=\"node63\" class=\"node\">\n",
       "<title>clusterphase_preferencee1__getitem_Divide_n1__lenInputsobj</title>\n",
       "<ellipse fill=\"#edb22c\" stroke=\"#edb22c\" cx=\"1378.64\" cy=\"-702\" rx=\"27\" ry=\"18\"/>\n",
       "<text text-anchor=\"middle\" x=\"1378.64\" y=\"-696.2\" font-family=\"Helvetica,sans-Serif\" font-size=\"14.00\">obj</text>\n",
       "</g>\n",
       "<!-- clusterphase_preferencee1OutputsWithInjectiongetitem&#45;&gt;clusterphase_preferencee1__getitem_Divide_n1__lenInputsobj -->\n",
       "<g id=\"edge18\" class=\"edge\">\n",
       "<title>clusterphase_preferencee1OutputsWithInjectiongetitem&#45;&gt;clusterphase_preferencee1__getitem_Divide_n1__lenInputsobj</title>\n",
       "<path fill=\"none\" stroke=\"#edb22c\" d=\"M1218.61,-860.96C1233.15,-841.3 1257.02,-807.22 1275.05,-772.55\"/>\n",
       "<path fill=\"none\" stroke=\"#edb22c\" d=\"M1275.05,-772.55C1278.1,-766.69 1280.98,-760.82 1283.61,-755 1288.59,-744.03 1282.82,-737.59 1291.26,-729 1304.15,-715.89 1323.3,-709.13 1340.29,-705.64\"/>\n",
       "<polygon fill=\"#edb22c\" stroke=\"#edb22c\" points=\"1340.85,-709.1 1350.12,-703.97 1339.67,-702.2 1340.85,-709.1\"/>\n",
       "</g>\n",
       "<!-- clusterphase_preferencen1Inputsrun -->\n",
       "<g id=\"node39\" class=\"node\">\n",
       "<title>clusterphase_preferencen1Inputsrun</title>\n",
       "<polygon fill=\"#21bfd8\" stroke=\"#21bfd8\" points=\"1018.59,-714 976.59,-714 976.59,-690 1018.59,-690 1030.59,-702 1018.59,-714\"/>\n",
       "<text text-anchor=\"middle\" x=\"1003.59\" y=\"-696.2\" font-family=\"Helvetica,sans-Serif\" font-size=\"14.00\">run</text>\n",
       "</g>\n",
       "<!-- clusterphase_preferencen1OutputsWithInjectionran -->\n",
       "<g id=\"node42\" class=\"node\">\n",
       "<title>clusterphase_preferencen1OutputsWithInjectionran</title>\n",
       "<polygon fill=\"#21bfd8\" stroke=\"#21bfd8\" points=\"1219.61,-714 1177.61,-714 1177.61,-690 1219.61,-690 1231.61,-702 1219.61,-714\"/>\n",
       "<text text-anchor=\"middle\" x=\"1204.61\" y=\"-696.2\" font-family=\"Helvetica,sans-Serif\" font-size=\"14.00\">ran</text>\n",
       "</g>\n",
       "<!-- clusterphase_preferencen1Inputsrun&#45;&gt;clusterphase_preferencen1OutputsWithInjectionran -->\n",
       "<!-- clusterphase_preferencen1Inputsaccumulate_and_run -->\n",
       "<g id=\"node40\" class=\"node\">\n",
       "<title>clusterphase_preferencen1Inputsaccumulate_and_run</title>\n",
       "<polygon fill=\"#21bfd8\" stroke=\"#21bfd8\" points=\"1062.97,-660 932.22,-660 932.22,-636 1062.97,-636 1074.97,-648 1062.97,-660\"/>\n",
       "<text text-anchor=\"middle\" x=\"1003.59\" y=\"-642.2\" font-family=\"Helvetica,sans-Serif\" font-size=\"14.00\">accumulate_and_run</text>\n",
       "</g>\n",
       "<!-- clusterphase_preferencen1OutputsWithInjectionlen -->\n",
       "<g id=\"node43\" class=\"node\">\n",
       "<title>clusterphase_preferencen1OutputsWithInjectionlen</title>\n",
       "<ellipse fill=\"#edb22c\" stroke=\"#edb22c\" cx=\"1204.61\" cy=\"-648\" rx=\"27\" ry=\"18\"/>\n",
       "<text text-anchor=\"middle\" x=\"1204.61\" y=\"-642.2\" font-family=\"Helvetica,sans-Serif\" font-size=\"14.00\">len</text>\n",
       "</g>\n",
       "<!-- clusterphase_preferencee1__getitem_Divide_n1__lenInputsother -->\n",
       "<g id=\"node64\" class=\"node\">\n",
       "<title>clusterphase_preferencee1__getitem_Divide_n1__lenInputsother</title>\n",
       "<ellipse fill=\"#edb22c\" stroke=\"#edb22c\" cx=\"1378.64\" cy=\"-648\" rx=\"30.38\" ry=\"18\"/>\n",
       "<text text-anchor=\"middle\" x=\"1378.64\" y=\"-642.2\" font-family=\"Helvetica,sans-Serif\" font-size=\"14.00\">other</text>\n",
       "</g>\n",
       "<!-- clusterphase_preferencen1OutputsWithInjectionlen&#45;&gt;clusterphase_preferencee1__getitem_Divide_n1__lenInputsother -->\n",
       "<g id=\"edge19\" class=\"edge\">\n",
       "<title>clusterphase_preferencen1OutputsWithInjectionlen&#45;&gt;clusterphase_preferencee1__getitem_Divide_n1__lenInputsother</title>\n",
       "<path fill=\"none\" stroke=\"#edb22c\" d=\"M1231.74,-648C1245.64,-648 1263.67,-648 1282.3,-648\"/>\n",
       "<path fill=\"none\" stroke=\"#edb22c\" d=\"M1282.3,-648C1300.92,-648 1320.14,-648 1336.4,-648\"/>\n",
       "<polygon fill=\"#edb22c\" stroke=\"#edb22c\" points=\"1336.28,-651.5 1346.28,-648 1336.28,-644.5 1336.28,-651.5\"/>\n",
       "</g>\n",
       "<!-- clusterphase_preferencee2Inputsrun -->\n",
       "<g id=\"node44\" class=\"node\">\n",
       "<title>clusterphase_preferencee2Inputsrun</title>\n",
       "<polygon fill=\"#21bfd8\" stroke=\"#21bfd8\" points=\"1018.59,-484 976.59,-484 976.59,-460 1018.59,-460 1030.59,-472 1018.59,-484\"/>\n",
       "<text text-anchor=\"middle\" x=\"1003.59\" y=\"-466.2\" font-family=\"Helvetica,sans-Serif\" font-size=\"14.00\">run</text>\n",
       "</g>\n",
       "<!-- clusterphase_preferencee2OutputsWithInjectionran -->\n",
       "<g id=\"node48\" class=\"node\">\n",
       "<title>clusterphase_preferencee2OutputsWithInjectionran</title>\n",
       "<polygon fill=\"#21bfd8\" stroke=\"#21bfd8\" points=\"1219.61,-430 1177.61,-430 1177.61,-406 1219.61,-406 1231.61,-418 1219.61,-430\"/>\n",
       "<text text-anchor=\"middle\" x=\"1204.61\" y=\"-412.2\" font-family=\"Helvetica,sans-Serif\" font-size=\"14.00\">ran</text>\n",
       "</g>\n",
       "<!-- clusterphase_preferencee2Inputsrun&#45;&gt;clusterphase_preferencee2OutputsWithInjectionran -->\n",
       "<!-- clusterphase_preferencee2Inputsaccumulate_and_run -->\n",
       "<g id=\"node45\" class=\"node\">\n",
       "<title>clusterphase_preferencee2Inputsaccumulate_and_run</title>\n",
       "<polygon fill=\"#21bfd8\" stroke=\"#21bfd8\" points=\"1062.97,-430 932.22,-430 932.22,-406 1062.97,-406 1074.97,-418 1062.97,-430\"/>\n",
       "<text text-anchor=\"middle\" x=\"1003.59\" y=\"-412.2\" font-family=\"Helvetica,sans-Serif\" font-size=\"14.00\">accumulate_and_run</text>\n",
       "</g>\n",
       "<!-- clusterphase_preferencee2OutputsWithInjectiongetitem -->\n",
       "<g id=\"node49\" class=\"node\">\n",
       "<title>clusterphase_preferencee2OutputsWithInjectiongetitem</title>\n",
       "<ellipse fill=\"#edb22c\" stroke=\"#edb22c\" cx=\"1204.61\" cy=\"-364\" rx=\"39.65\" ry=\"18\"/>\n",
       "<text text-anchor=\"middle\" x=\"1204.61\" y=\"-358.2\" font-family=\"Helvetica,sans-Serif\" font-size=\"14.00\">getitem</text>\n",
       "</g>\n",
       "<!-- clusterphase_preferencee2__getitem_Divide_n2__lenInputsobj -->\n",
       "<g id=\"node57\" class=\"node\">\n",
       "<title>clusterphase_preferencee2__getitem_Divide_n2__lenInputsobj</title>\n",
       "<ellipse fill=\"#edb22c\" stroke=\"#edb22c\" cx=\"1378.64\" cy=\"-249\" rx=\"27\" ry=\"18\"/>\n",
       "<text text-anchor=\"middle\" x=\"1378.64\" y=\"-243.2\" font-family=\"Helvetica,sans-Serif\" font-size=\"14.00\">obj</text>\n",
       "</g>\n",
       "<!-- clusterphase_preferencee2OutputsWithInjectiongetitem&#45;&gt;clusterphase_preferencee2__getitem_Divide_n2__lenInputsobj -->\n",
       "<g id=\"edge20\" class=\"edge\">\n",
       "<title>clusterphase_preferencee2OutputsWithInjectiongetitem&#45;&gt;clusterphase_preferencee2__getitem_Divide_n2__lenInputsobj</title>\n",
       "<path fill=\"none\" stroke=\"#edb22c\" d=\"M1218.2,-346.6C1229.77,-331.51 1248.4,-309.33 1270.1,-291.32\"/>\n",
       "<path fill=\"none\" stroke=\"#edb22c\" d=\"M1270.1,-291.32C1276.9,-285.69 1283.99,-280.47 1291.26,-276 1306.34,-266.73 1324.88,-260.39 1340.9,-256.2\"/>\n",
       "<polygon fill=\"#edb22c\" stroke=\"#edb22c\" points=\"1341.67,-259.62 1350.58,-253.87 1340.03,-252.81 1341.67,-259.62\"/>\n",
       "</g>\n",
       "<!-- clusterphase_preferencen2Inputsrun -->\n",
       "<g id=\"node50\" class=\"node\">\n",
       "<title>clusterphase_preferencen2Inputsrun</title>\n",
       "<polygon fill=\"#21bfd8\" stroke=\"#21bfd8\" points=\"1018.59,-200 976.59,-200 976.59,-176 1018.59,-176 1030.59,-188 1018.59,-200\"/>\n",
       "<text text-anchor=\"middle\" x=\"1003.59\" y=\"-182.2\" font-family=\"Helvetica,sans-Serif\" font-size=\"14.00\">run</text>\n",
       "</g>\n",
       "<!-- clusterphase_preferencen2OutputsWithInjectionran -->\n",
       "<g id=\"node53\" class=\"node\">\n",
       "<title>clusterphase_preferencen2OutputsWithInjectionran</title>\n",
       "<polygon fill=\"#21bfd8\" stroke=\"#21bfd8\" points=\"1219.61,-200 1177.61,-200 1177.61,-176 1219.61,-176 1231.61,-188 1219.61,-200\"/>\n",
       "<text text-anchor=\"middle\" x=\"1204.61\" y=\"-182.2\" font-family=\"Helvetica,sans-Serif\" font-size=\"14.00\">ran</text>\n",
       "</g>\n",
       "<!-- clusterphase_preferencen2Inputsrun&#45;&gt;clusterphase_preferencen2OutputsWithInjectionran -->\n",
       "<!-- clusterphase_preferencen2Inputsaccumulate_and_run -->\n",
       "<g id=\"node51\" class=\"node\">\n",
       "<title>clusterphase_preferencen2Inputsaccumulate_and_run</title>\n",
       "<polygon fill=\"#21bfd8\" stroke=\"#21bfd8\" points=\"1062.97,-146 932.22,-146 932.22,-122 1062.97,-122 1074.97,-134 1062.97,-146\"/>\n",
       "<text text-anchor=\"middle\" x=\"1003.59\" y=\"-128.2\" font-family=\"Helvetica,sans-Serif\" font-size=\"14.00\">accumulate_and_run</text>\n",
       "</g>\n",
       "<!-- clusterphase_preferencen2OutputsWithInjectionlen -->\n",
       "<g id=\"node54\" class=\"node\">\n",
       "<title>clusterphase_preferencen2OutputsWithInjectionlen</title>\n",
       "<ellipse fill=\"#edb22c\" stroke=\"#edb22c\" cx=\"1204.61\" cy=\"-134\" rx=\"27\" ry=\"18\"/>\n",
       "<text text-anchor=\"middle\" x=\"1204.61\" y=\"-128.2\" font-family=\"Helvetica,sans-Serif\" font-size=\"14.00\">len</text>\n",
       "</g>\n",
       "<!-- clusterphase_preferencee2__getitem_Divide_n2__lenInputsother -->\n",
       "<g id=\"node58\" class=\"node\">\n",
       "<title>clusterphase_preferencee2__getitem_Divide_n2__lenInputsother</title>\n",
       "<ellipse fill=\"#edb22c\" stroke=\"#edb22c\" cx=\"1378.64\" cy=\"-195\" rx=\"30.38\" ry=\"18\"/>\n",
       "<text text-anchor=\"middle\" x=\"1378.64\" y=\"-189.2\" font-family=\"Helvetica,sans-Serif\" font-size=\"14.00\">other</text>\n",
       "</g>\n",
       "<!-- clusterphase_preferencen2OutputsWithInjectionlen&#45;&gt;clusterphase_preferencee2__getitem_Divide_n2__lenInputsother -->\n",
       "<g id=\"edge21\" class=\"edge\">\n",
       "<title>clusterphase_preferencen2OutputsWithInjectionlen&#45;&gt;clusterphase_preferencee2__getitem_Divide_n2__lenInputsother</title>\n",
       "<path fill=\"none\" stroke=\"#edb22c\" d=\"M1229.2,-142.07C1244.68,-147.39 1265.38,-154.55 1283.61,-161 1284.27,-161.23 1284.92,-161.46 1285.58,-161.7\"/>\n",
       "<path fill=\"none\" stroke=\"#edb22c\" d=\"M1285.58,-161.7C1304.3,-168.33 1324.85,-175.75 1341.78,-181.9\"/>\n",
       "<polygon fill=\"#edb22c\" stroke=\"#edb22c\" points=\"1340.11,-185.02 1350.71,-185.15 1342.51,-178.44 1340.11,-185.02\"/>\n",
       "</g>\n",
       "<!-- clusterphase_preferencee2__getitem_Divide_n2__lenInputsrun -->\n",
       "<g id=\"node55\" class=\"node\">\n",
       "<title>clusterphase_preferencee2__getitem_Divide_n2__lenInputsrun</title>\n",
       "<polygon fill=\"#21bfd8\" stroke=\"#21bfd8\" points=\"1393.64,-369 1351.64,-369 1351.64,-345 1393.64,-345 1405.64,-357 1393.64,-369\"/>\n",
       "<text text-anchor=\"middle\" x=\"1378.64\" y=\"-351.2\" font-family=\"Helvetica,sans-Serif\" font-size=\"14.00\">run</text>\n",
       "</g>\n",
       "<!-- clusterphase_preferencee2__getitem_Divide_n2__lenOutputsWithInjectionran -->\n",
       "<g id=\"node59\" class=\"node\">\n",
       "<title>clusterphase_preferencee2__getitem_Divide_n2__lenOutputsWithInjectionran</title>\n",
       "<polygon fill=\"#21bfd8\" stroke=\"#21bfd8\" points=\"1579.73,-369 1537.73,-369 1537.73,-345 1579.73,-345 1591.73,-357 1579.73,-369\"/>\n",
       "<text text-anchor=\"middle\" x=\"1564.73\" y=\"-351.2\" font-family=\"Helvetica,sans-Serif\" font-size=\"14.00\">ran</text>\n",
       "</g>\n",
       "<!-- clusterphase_preferencee2__getitem_Divide_n2__lenInputsrun&#45;&gt;clusterphase_preferencee2__getitem_Divide_n2__lenOutputsWithInjectionran -->\n",
       "<!-- clusterphase_preferencee2__getitem_Divide_n2__lenInputsaccumulate_and_run -->\n",
       "<g id=\"node56\" class=\"node\">\n",
       "<title>clusterphase_preferencee2__getitem_Divide_n2__lenInputsaccumulate_and_run</title>\n",
       "<polygon fill=\"#21bfd8\" stroke=\"#21bfd8\" points=\"1438.01,-315 1307.26,-315 1307.26,-291 1438.01,-291 1450.01,-303 1438.01,-315\"/>\n",
       "<text text-anchor=\"middle\" x=\"1378.64\" y=\"-297.2\" font-family=\"Helvetica,sans-Serif\" font-size=\"14.00\">accumulate_and_run</text>\n",
       "</g>\n",
       "<!-- clusterphase_preferencee2__getitem_Divide_n2__lenOutputsWithInjectiontruediv -->\n",
       "<g id=\"node60\" class=\"node\">\n",
       "<title>clusterphase_preferencee2__getitem_Divide_n2__lenOutputsWithInjectiontruediv</title>\n",
       "<ellipse fill=\"#edb22c\" stroke=\"#edb22c\" cx=\"1564.73\" cy=\"-303\" rx=\"36.72\" ry=\"18\"/>\n",
       "<text text-anchor=\"middle\" x=\"1564.73\" y=\"-297.2\" font-family=\"Helvetica,sans-Serif\" font-size=\"14.00\">truediv</text>\n",
       "</g>\n",
       "<!-- clusterphase_preferencecompareInputsobj -->\n",
       "<g id=\"node69\" class=\"node\">\n",
       "<title>clusterphase_preferencecompareInputsobj</title>\n",
       "<ellipse fill=\"#edb22c\" stroke=\"#edb22c\" cx=\"1738.83\" cy=\"-303\" rx=\"27\" ry=\"18\"/>\n",
       "<text text-anchor=\"middle\" x=\"1738.83\" y=\"-297.2\" font-family=\"Helvetica,sans-Serif\" font-size=\"14.00\">obj</text>\n",
       "</g>\n",
       "<!-- clusterphase_preferencee2__getitem_Divide_n2__lenOutputsWithInjectiontruediv&#45;&gt;clusterphase_preferencecompareInputsobj -->\n",
       "<g id=\"edge22\" class=\"edge\">\n",
       "<title>clusterphase_preferencee2__getitem_Divide_n2__lenOutputsWithInjectiontruediv&#45;&gt;clusterphase_preferencecompareInputsobj</title>\n",
       "<path fill=\"none\" stroke=\"#edb22c\" d=\"M1601.81,-303C1616.19,-303 1633.42,-303 1650.71,-303\"/>\n",
       "<path fill=\"none\" stroke=\"#edb22c\" d=\"M1650.71,-303C1667.99,-303 1685.34,-303 1699.95,-303\"/>\n",
       "<polygon fill=\"#edb22c\" stroke=\"#edb22c\" points=\"1699.84,-306.5 1709.84,-303 1699.84,-299.5 1699.84,-306.5\"/>\n",
       "</g>\n",
       "<!-- clusterphase_preferencee1__getitem_Divide_n1__lenInputsrun -->\n",
       "<g id=\"node61\" class=\"node\">\n",
       "<title>clusterphase_preferencee1__getitem_Divide_n1__lenInputsrun</title>\n",
       "<polygon fill=\"#21bfd8\" stroke=\"#21bfd8\" points=\"1393.64,-822 1351.64,-822 1351.64,-798 1393.64,-798 1405.64,-810 1393.64,-822\"/>\n",
       "<text text-anchor=\"middle\" x=\"1378.64\" y=\"-804.2\" font-family=\"Helvetica,sans-Serif\" font-size=\"14.00\">run</text>\n",
       "</g>\n",
       "<!-- clusterphase_preferencee1__getitem_Divide_n1__lenOutputsWithInjectionran -->\n",
       "<g id=\"node65\" class=\"node\">\n",
       "<title>clusterphase_preferencee1__getitem_Divide_n1__lenOutputsWithInjectionran</title>\n",
       "<polygon fill=\"#21bfd8\" stroke=\"#21bfd8\" points=\"1579.73,-768 1537.73,-768 1537.73,-744 1579.73,-744 1591.73,-756 1579.73,-768\"/>\n",
       "<text text-anchor=\"middle\" x=\"1564.73\" y=\"-750.2\" font-family=\"Helvetica,sans-Serif\" font-size=\"14.00\">ran</text>\n",
       "</g>\n",
       "<!-- clusterphase_preferencee1__getitem_Divide_n1__lenInputsrun&#45;&gt;clusterphase_preferencee1__getitem_Divide_n1__lenOutputsWithInjectionran -->\n",
       "<!-- clusterphase_preferencee1__getitem_Divide_n1__lenInputsaccumulate_and_run -->\n",
       "<g id=\"node62\" class=\"node\">\n",
       "<title>clusterphase_preferencee1__getitem_Divide_n1__lenInputsaccumulate_and_run</title>\n",
       "<polygon fill=\"#21bfd8\" stroke=\"#21bfd8\" points=\"1438.01,-768 1307.26,-768 1307.26,-744 1438.01,-744 1450.01,-756 1438.01,-768\"/>\n",
       "<text text-anchor=\"middle\" x=\"1378.64\" y=\"-750.2\" font-family=\"Helvetica,sans-Serif\" font-size=\"14.00\">accumulate_and_run</text>\n",
       "</g>\n",
       "<!-- clusterphase_preferencee1__getitem_Divide_n1__lenOutputsWithInjectiontruediv -->\n",
       "<g id=\"node66\" class=\"node\">\n",
       "<title>clusterphase_preferencee1__getitem_Divide_n1__lenOutputsWithInjectiontruediv</title>\n",
       "<ellipse fill=\"#edb22c\" stroke=\"#edb22c\" cx=\"1564.73\" cy=\"-702\" rx=\"36.72\" ry=\"18\"/>\n",
       "<text text-anchor=\"middle\" x=\"1564.73\" y=\"-696.2\" font-family=\"Helvetica,sans-Serif\" font-size=\"14.00\">truediv</text>\n",
       "</g>\n",
       "<!-- clusterphase_preferencecompareInputsother -->\n",
       "<g id=\"node70\" class=\"node\">\n",
       "<title>clusterphase_preferencecompareInputsother</title>\n",
       "<ellipse fill=\"#edb22c\" stroke=\"#edb22c\" cx=\"1738.83\" cy=\"-357\" rx=\"30.38\" ry=\"18\"/>\n",
       "<text text-anchor=\"middle\" x=\"1738.83\" y=\"-351.2\" font-family=\"Helvetica,sans-Serif\" font-size=\"14.00\">other</text>\n",
       "</g>\n",
       "<!-- clusterphase_preferencee1__getitem_Divide_n1__lenOutputsWithInjectiontruediv&#45;&gt;clusterphase_preferencecompareInputsother -->\n",
       "<g id=\"edge23\" class=\"edge\">\n",
       "<title>clusterphase_preferencee1__getitem_Divide_n1__lenOutputsWithInjectiontruediv&#45;&gt;clusterphase_preferencecompareInputsother</title>\n",
       "<path fill=\"none\" stroke=\"#edb22c\" d=\"M1570.42,-684.17C1580.67,-645.18 1605.74,-550.02 1625.32,-477.2\"/>\n",
       "<path fill=\"none\" stroke=\"#edb22c\" d=\"M1625.32,-477.2C1639.2,-425.57 1650.33,-385.17 1651.45,-384 1663.48,-371.48 1681.22,-364.74 1697.5,-361.12\"/>\n",
       "<polygon fill=\"#edb22c\" stroke=\"#edb22c\" points=\"1697.77,-364.63 1706.96,-359.36 1696.49,-357.75 1697.77,-364.63\"/>\n",
       "</g>\n",
       "<!-- clusterphase_preferencecompareInputsrun -->\n",
       "<g id=\"node67\" class=\"node\">\n",
       "<title>clusterphase_preferencecompareInputsrun</title>\n",
       "<polygon fill=\"#21bfd8\" stroke=\"#21bfd8\" points=\"1753.83,-477 1711.83,-477 1711.83,-453 1753.83,-453 1765.83,-465 1753.83,-477\"/>\n",
       "<text text-anchor=\"middle\" x=\"1738.83\" y=\"-459.2\" font-family=\"Helvetica,sans-Serif\" font-size=\"14.00\">run</text>\n",
       "</g>\n",
       "<!-- clusterphase_preferencecompareOutputsWithInjectionran -->\n",
       "<g id=\"node71\" class=\"node\">\n",
       "<title>clusterphase_preferencecompareOutputsWithInjectionran</title>\n",
       "<polygon fill=\"#21bfd8\" stroke=\"#21bfd8\" points=\"1932.2,-423 1890.2,-423 1890.2,-399 1932.2,-399 1944.2,-411 1932.2,-423\"/>\n",
       "<text text-anchor=\"middle\" x=\"1917.2\" y=\"-405.2\" font-family=\"Helvetica,sans-Serif\" font-size=\"14.00\">ran</text>\n",
       "</g>\n",
       "<!-- clusterphase_preferencecompareInputsrun&#45;&gt;clusterphase_preferencecompareOutputsWithInjectionran -->\n",
       "<!-- clusterphase_preferencecompareInputsaccumulate_and_run -->\n",
       "<g id=\"node68\" class=\"node\">\n",
       "<title>clusterphase_preferencecompareInputsaccumulate_and_run</title>\n",
       "<polygon fill=\"#21bfd8\" stroke=\"#21bfd8\" points=\"1798.2,-423 1667.45,-423 1667.45,-399 1798.2,-399 1810.2,-411 1798.2,-423\"/>\n",
       "<text text-anchor=\"middle\" x=\"1738.83\" y=\"-405.2\" font-family=\"Helvetica,sans-Serif\" font-size=\"14.00\">accumulate_and_run</text>\n",
       "</g>\n",
       "<!-- clusterphase_preferencecompareOutputsWithInjectionsub -->\n",
       "<g id=\"node72\" class=\"node\">\n",
       "<title>clusterphase_preferencecompareOutputsWithInjectionsub</title>\n",
       "<ellipse fill=\"#edb22c\" stroke=\"#edb22c\" cx=\"1917.2\" cy=\"-357\" rx=\"27\" ry=\"18\"/>\n",
       "<text text-anchor=\"middle\" x=\"1917.2\" y=\"-351.2\" font-family=\"Helvetica,sans-Serif\" font-size=\"14.00\">sub</text>\n",
       "</g>\n",
       "<!-- clusterphase_preferencecompareOutputsWithInjectionsub&#45;&gt;clusterphase_preferenceOutputscompare__sub -->\n",
       "<g id=\"edge31\" class=\"edge\">\n",
       "<title>clusterphase_preferencecompareOutputsWithInjectionsub&#45;&gt;clusterphase_preferenceOutputscompare__sub</title>\n",
       "<path fill=\"none\" stroke=\"#edb22c\" d=\"M1936.27,-343.93C1950.05,-333.96 1970.18,-319.4 1991.17,-304.22\"/>\n",
       "<path fill=\"none\" stroke=\"#edb22c\" d=\"M1991.17,-304.22C2012.17,-289.03 2034.03,-273.22 2051.26,-260.75\"/>\n",
       "<polygon fill=\"#edb22c\" stroke=\"#edb22c\" points=\"2053.19,-263.68 2059.24,-254.98 2049.08,-258.01 2053.19,-263.68\"/>\n",
       "</g>\n",
       "</g>\n",
       "</svg>\n"
      ],
      "text/plain": [
       "<graphviz.graphs.Digraph at 0x1403fdc90>"
      ]
     },
     "execution_count": 50,
     "metadata": {},
     "output_type": "execute_result"
    }
   ],
   "source": [
    "wf.draw(size=(10,10))"
   ]
  },
  {
   "cell_type": "code",
   "execution_count": 51,
   "id": "b51bef25-86c5-4d57-80c1-ab733e703caf",
   "metadata": {},
   "outputs": [
    {
     "name": "stdout",
     "output_type": "stream",
     "text": [
      "The job JUSTAJOBNAME was saved and received the ID: 9680\n"
     ]
    },
    {
     "data": {
      "application/vnd.jupyter.widget-view+json": {
       "model_id": "d42f0d45153c43d08c00b1be09a5d371",
       "version_major": 2,
       "version_minor": 0
      },
      "text/plain": [
       "0it [00:00, ?it/s]"
      ]
     },
     "metadata": {},
     "output_type": "display_data"
    },
    {
     "name": "stdout",
     "output_type": "stream",
     "text": [
      "The job JUSTAJOBNAME was saved and received the ID: 9680\n"
     ]
    },
    {
     "data": {
      "application/vnd.jupyter.widget-view+json": {
       "model_id": "9d3a8ad5fad943ca84a31ef0447ed921",
       "version_major": 2,
       "version_minor": 0
      },
      "text/plain": [
       "0it [00:00, ?it/s]"
      ]
     },
     "metadata": {},
     "output_type": "display_data"
    },
    {
     "name": "stdout",
     "output_type": "stream",
     "text": [
      "Al: E(hcp) - E(fcc) = 1.17 eV/atom\n"
     ]
    }
   ],
   "source": [
    "out = wf(element=\"Al\", phase1=\"fcc\", phase2=\"hcp\", lattice_guess1=4, lattice_guess2=4)\n",
    "print(f\"{wf.inputs.element.value}: E({wf.inputs.phase2.value}) - E({wf.inputs.phase1.value}) = {out.compare__sub:.2f} eV/atom\")"
   ]
  },
  {
   "cell_type": "code",
   "execution_count": 52,
   "id": "091e2386-0081-436c-a736-23d019bd9b91",
   "metadata": {},
   "outputs": [
    {
     "name": "stderr",
     "output_type": "stream",
     "text": [
      "/Users/huber/work/pyiron/pyiron_workflow/pyiron_workflow/channels.py:176: UserWarning: The channel ran was not connected to accumulate_and_run, andthus could not disconnect from it.\n",
      "  warn(\n"
     ]
    },
    {
     "name": "stdout",
     "output_type": "stream",
     "text": [
      "The job JUSTAJOBNAME was saved and received the ID: 9680\n"
     ]
    },
    {
     "data": {
      "application/vnd.jupyter.widget-view+json": {
       "model_id": "1022ff0dc68a42649273a16d4783738c",
       "version_major": 2,
       "version_minor": 0
      },
      "text/plain": [
       "0it [00:00, ?it/s]"
      ]
     },
     "metadata": {},
     "output_type": "display_data"
    },
    {
     "name": "stdout",
     "output_type": "stream",
     "text": [
      "The job JUSTAJOBNAME was saved and received the ID: 9680\n"
     ]
    },
    {
     "data": {
      "application/vnd.jupyter.widget-view+json": {
       "model_id": "d702dbfc432d4f58847d9d13dcc3caf0",
       "version_major": 2,
       "version_minor": 0
      },
      "text/plain": [
       "0it [00:00, ?it/s]"
      ]
     },
     "metadata": {},
     "output_type": "display_data"
    },
    {
     "name": "stdout",
     "output_type": "stream",
     "text": [
      "Mg: E(hcp) - E(fcc) = -4.54 eV/atom\n"
     ]
    }
   ],
   "source": [
    "out = wf(element=\"Mg\", phase1=\"fcc\", phase2=\"hcp\", lattice_guess1=3, lattice_guess2=3)\n",
    "print(f\"{wf.inputs.element.value}: E({wf.inputs.phase2.value}) - E({wf.inputs.phase1.value}) = {out.compare__sub:.2f} eV/atom\")"
   ]
  },
  {
   "cell_type": "markdown",
   "id": "7985d84f-b842-4a8d-95d5-eca3d19a78c8",
   "metadata": {},
   "source": [
    "We can also replace entire node in a workflow or macro with a new node, booting the old one out and inserting the new one including all its connections. Because the connections are recreated, the replacement node _must_ have compatible IO to the node being replaced.\n",
    "\n",
    "There are several syntacic approaches for doing this, including invoking replacement methods from the workflow (or macro) or from the node being replaced, or a new (compatible!) class can be assigned directly to an existing node. We'll use the last approach, which makes a new instance of the supplied class and replaces the target node with it.\n",
    "\n",
    "Let's replace the calculation type for phase 1 -- let's switch it from a `CalcMin` to a `CalcStatic`; both of these take a `job` as input and give `structure` and `energy` as output, so we won't have any trouble connecting our new node in lieue of the old one."
   ]
  },
  {
   "cell_type": "code",
   "execution_count": 53,
   "id": "4cdffdca-48d3-4486-9045-48102c7e5f31",
   "metadata": {},
   "outputs": [
    {
     "name": "stderr",
     "output_type": "stream",
     "text": [
      "/Users/huber/work/pyiron/pyiron_workflow/pyiron_workflow/channels.py:176: UserWarning: The channel job was not connected to job, andthus could not disconnect from it.\n",
      "  warn(\n",
      "/Users/huber/work/pyiron/pyiron_workflow/pyiron_workflow/channels.py:176: UserWarning: The channel accumulate_and_run was not connected to ran, andthus could not disconnect from it.\n",
      "  warn(\n"
     ]
    }
   ],
   "source": [
    "replacee = wf.min_phase1.calc \n",
    "wf.min_phase1.calc = Workflow.create.pyiron_atomistics.CalcStatic"
   ]
  },
  {
   "cell_type": "markdown",
   "id": "8dd7d2f9-313d-4e38-b467-823c48d0afa0",
   "metadata": {},
   "source": [
    "Since we're no longer allowing our first phase to relax while the second phase still can, we would expect the second phase to have a much lower energy than the first one. If our lattice guess for the first phase is bad enough, this could even switch the preferred phase!\n",
    "\n",
    "Look at Al's fcc-hcp energy difference using this new workflow. We'll always let hcp relax, but freeze the fcc cell so we can see the impact of a good and bad lattice guess."
   ]
  },
  {
   "cell_type": "code",
   "execution_count": 54,
   "id": "ed4a3a22-fc3a-44c9-9d4f-c65bc1288889",
   "metadata": {},
   "outputs": [
    {
     "name": "stderr",
     "output_type": "stream",
     "text": [
      "/Users/huber/work/pyiron/pyiron_workflow/pyiron_workflow/channels.py:176: UserWarning: The channel ran was not connected to accumulate_and_run, andthus could not disconnect from it.\n",
      "  warn(\n"
     ]
    },
    {
     "name": "stdout",
     "output_type": "stream",
     "text": [
      "The job JUSTAJOBNAME was saved and received the ID: 9680\n"
     ]
    },
    {
     "data": {
      "application/vnd.jupyter.widget-view+json": {
       "model_id": "764286716ac94a30ba87c095e11d29a5",
       "version_major": 2,
       "version_minor": 0
      },
      "text/plain": [
       "0it [00:00, ?it/s]"
      ]
     },
     "metadata": {},
     "output_type": "display_data"
    },
    {
     "name": "stdout",
     "output_type": "stream",
     "text": [
      "The job JUSTAJOBNAME was saved and received the ID: 9680\n"
     ]
    },
    {
     "data": {
      "application/vnd.jupyter.widget-view+json": {
       "model_id": "c7c4f447758a4106b3ea7463796aed44",
       "version_major": 2,
       "version_minor": 0
      },
      "text/plain": [
       "0it [00:00, ?it/s]"
      ]
     },
     "metadata": {},
     "output_type": "display_data"
    },
    {
     "name": "stdout",
     "output_type": "stream",
     "text": [
      "Al: E(hcp) - E(fcc) = -5.57 eV/atom\n"
     ]
    }
   ],
   "source": [
    "# Bad guess\n",
    "out = wf(element=\"Al\", phase1=\"fcc\", phase2=\"hcp\", lattice_guess1=3, lattice_guess2=3.1)\n",
    "print(f\"{wf.inputs.element.value}: E({wf.inputs.phase2.value}) - E({wf.inputs.phase1.value}) = {out.compare__sub:.2f} eV/atom\")"
   ]
  },
  {
   "cell_type": "code",
   "execution_count": 55,
   "id": "5a985cbf-c308-4369-9223-b8a37edb8ab1",
   "metadata": {},
   "outputs": [
    {
     "name": "stderr",
     "output_type": "stream",
     "text": [
      "/Users/huber/work/pyiron/pyiron_workflow/pyiron_workflow/channels.py:176: UserWarning: The channel ran was not connected to accumulate_and_run, andthus could not disconnect from it.\n",
      "  warn(\n"
     ]
    },
    {
     "name": "stdout",
     "output_type": "stream",
     "text": [
      "The job JUSTAJOBNAME was saved and received the ID: 9680\n"
     ]
    },
    {
     "data": {
      "application/vnd.jupyter.widget-view+json": {
       "model_id": "6d864a43e64f44aca3717b3911d4a2f9",
       "version_major": 2,
       "version_minor": 0
      },
      "text/plain": [
       "0it [00:00, ?it/s]"
      ]
     },
     "metadata": {},
     "output_type": "display_data"
    },
    {
     "name": "stdout",
     "output_type": "stream",
     "text": [
      "The job JUSTAJOBNAME was saved and received the ID: 9680\n"
     ]
    },
    {
     "data": {
      "application/vnd.jupyter.widget-view+json": {
       "model_id": "0530268ddab7455584ba8f85f7da783c",
       "version_major": 2,
       "version_minor": 0
      },
      "text/plain": [
       "0it [00:00, ?it/s]"
      ]
     },
     "metadata": {},
     "output_type": "display_data"
    },
    {
     "name": "stdout",
     "output_type": "stream",
     "text": [
      "Al: E(hcp) - E(fcc) = 0.03 eV/atom\n"
     ]
    }
   ],
   "source": [
    "# Good guess\n",
    "out = wf(element=\"Al\", phase1=\"fcc\", phase2=\"hcp\", lattice_guess1=4.05, lattice_guess2=3.2)\n",
    "print(f\"{wf.inputs.element.value}: E({wf.inputs.phase2.value}) - E({wf.inputs.phase1.value}) = {out.compare__sub:.2f} eV/atom\")"
   ]
  },
  {
   "cell_type": "markdown",
   "id": "e5e75718-137f-43e6-b484-5ebe4ab22bf8",
   "metadata": {},
   "source": [
    "Now that we have nested macros, we can finally discuss the subtle difference between `__call__` and `pull`:\n",
    "\n",
    "Each `Macro` instance is its own little walled garden, where it's child nodes have no connections apart from those to other children of the same macro (you can forceably change this, since we're all adults here, but it won't happen by default and isn't recommended). Under the hood this is accomplished by the macro IO \"linking\" itself to its childrens' IO, so that updates to macro input values are always immediately propagated to children, and macro output gets synchronized with its childrens' output at the end of every run. Because of this we can think of these children all having the same \"scope\", i.e. siblings among the same parent.\n",
    "\n",
    "`pull` has a keyword argument to determine whether upstream data dependencies are restricted to be _in scope_, or if the parent node (if any) should also consider all _its_ data dependencies as well, and so on up until we hit the parent-most macro or workflow.\n",
    "\n",
    "For `pull` this parameter defaults to `False`, so that the pull stops at the parent node. For `__call__` it defaults to `True`, so that the search for data dependencies punches right through parents and all the way up. The danger is that this might be expensive if there's an costly node somewhere in the dependency!\n",
    "\n",
    "Note that the entire \"pull\" paradigm doesn't currently play nicely with remote execution. If some of your nodes have an executor specified, you will need to `.run` your graph (or `__call__` a `Workflow` if that's your parent-most object) so that it runs in \"push\" mode, and the nodes running on an executor are guaranteed to have up-to-date input _before_ they get shipped off to another process."
   ]
  },
  {
   "cell_type": "markdown",
   "id": "069cc8e8-f8b9-4382-a424-b3b2dd2bf739",
   "metadata": {},
   "source": [
    "## Parallelization\n",
    "\n",
    "You can currently run nodes in different process by setting that node's `executor` to an instance of a compliant executor object -- i.e. that takes the standard `submit` method of `concurrent.futures.Executor`, returns a `concurrent.futures.Future` (or sub-class). The built-in `Node` instances (workflows, macros, function nodes, etc.) are `pickle`-compliant, and thus will work with a standard `ProcessPoolExecutor` or `ThreadPoolExecutor` from `concurrent.futures`.\n",
    "\n",
    "For the case of `ProcessPoolExecutor`, the other process needs to be able to find an import the nodes, so they can't have been created in `__main__` (e.g. here in notebook) but need to be in some importable `.py` file. You might also want to have a node holding un-pickleable data. For these cases, we make a couple more flexible executors available on the creator. There is a toy `CloudpickleProcessPoolExecutor` which is a minimal example of handling dynamically defined/un-picklable data and useful for learning, but we also link to `pympipool.Executor`, which is both flexible and powerful. This is the default `Workflow.create.Executor`.\n",
    "\n",
    "Here's a simple example of executor usage:"
   ]
  },
  {
   "cell_type": "code",
   "execution_count": 56,
   "id": "aa575249-b209-4e0c-9ea6-a82bc69dc833",
   "metadata": {},
   "outputs": [
    {
     "name": "stdout",
     "output_type": "stream",
     "text": [
      "None 1\n",
      "<Future at 0x140ab7150 state=finished returned int> 5\n"
     ]
    }
   ],
   "source": [
    "wf = Workflow(\"with_executor\")\n",
    "wf.a1 = wf.create.standard.Add(0, 1)\n",
    "wf.a2 = wf.create.standard.Add(2, 3)\n",
    "wf.b = wf.a1 + wf.a2\n",
    "\n",
    "wf.a2.executor = wf.create.Executor()\n",
    "wf()\n",
    "\n",
    "print(wf.a1.future, wf.a1.outputs.add.value)\n",
    "print(wf.a2.future, wf.a2.outputs.add.value)"
   ]
  },
  {
   "cell_type": "markdown",
   "id": "a15cf16b-90d5-4bf4-bc8e-e65a3ee06fa4",
   "metadata": {},
   "source": [
    "We can see that the regularly-executing node gets its output as usual, but the node with an executor gets its `future` attribute populated and isn't finished yet"
   ]
  },
  {
   "cell_type": "code",
   "execution_count": 57,
   "id": "c1b7b4e9-1c76-470c-ba6e-a58ea3f611f6",
   "metadata": {},
   "outputs": [
    {
     "name": "stdout",
     "output_type": "stream",
     "text": [
      "Finally 5\n",
      "b (Add):\n",
      "Inputs ['obj', 'other']\n",
      "OutputsWithInjection ['add']\n",
      "InputSignals ['run', 'accumulate_and_run']\n",
      "OutputSignals ['ran']\n"
     ]
    }
   ],
   "source": [
    "print(\"Finally\", wf.a2.future.result())\n",
    "print(wf.b)"
   ]
  },
  {
   "cell_type": "markdown",
   "id": "4dd4159e-6e01-492a-8986-f07e26e68954",
   "metadata": {},
   "source": [
    "When you're all done, it's best practice to shut down your `pympipool` executor to make sure you don't leave any dangling process (similar to how opened files should be closed). This can be done with a convience method from the parent-most object, which will recursively shut down all executors:"
   ]
  },
  {
   "cell_type": "code",
   "execution_count": 58,
   "id": "7e98058b-a791-4cb1-ae2c-864ad7e56cee",
   "metadata": {},
   "outputs": [],
   "source": [
    "wf.executor_shutdown()"
   ]
  },
  {
   "cell_type": "markdown",
   "id": "56206b10-6851-4ffa-ad43-432ad46d272a",
   "metadata": {},
   "source": [
    "Alternatively, we can use the `with` context for executors, as along as it encompasses our entire workflow. This might be useful if you are working with a single executor. In this case the `with` context handles shutdown cleanly without our help:"
   ]
  },
  {
   "cell_type": "code",
   "execution_count": 59,
   "id": "0d1b4005-488e-492f-adcb-8ad7235e4fe3",
   "metadata": {},
   "outputs": [
    {
     "name": "stdout",
     "output_type": "stream",
     "text": [
      "None 1\n",
      "<Future at 0x140aa0e50 state=finished returned int> 5\n",
      "Finally 5\n",
      "b (Add):\n",
      "Inputs ['obj', 'other']\n",
      "OutputsWithInjection ['add']\n",
      "InputSignals ['run', 'accumulate_and_run']\n",
      "OutputSignals ['ran']\n"
     ]
    }
   ],
   "source": [
    "with Workflow.create.Executor() as executor:\n",
    "    wf = Workflow(\"with_executor\")\n",
    "    wf.a1 = wf.create.standard.Add(0, 1)\n",
    "    wf.a2 = wf.create.standard.Add(2, 3)\n",
    "    wf.b = wf.a1 + wf.a2\n",
    "\n",
    "    wf.a2.executor = executor\n",
    "    wf()\n",
    "    \n",
    "    print(wf.a1.future, wf.a1.outputs.add.value)\n",
    "    print(wf.a2.future, wf.a2.outputs.add.value)\n",
    "    \n",
    "    print(\"Finally\", wf.a2.future.result())\n",
    "    print(wf.b)"
   ]
  },
  {
   "cell_type": "markdown",
   "id": "26d7fb8e-4071-482d-bbb4-31689e87c3d5",
   "metadata": {},
   "source": [
    "For DAGs, workflows and macros automated execution flow makes use of the `.signals.inputs.accumulate_and_run` signal to run as soon as _all_ the up-data-stream nodes have finished.\n",
    "\n",
    "Before we wrap up our conversation of executors, let's make both linear and accumulating workflows by-hand, and see the time difference parallelization can bring. We'll use the `>>` and `<<` syntactic sugar for defining direct and accumulating run signals, respectively:"
   ]
  },
  {
   "cell_type": "code",
   "execution_count": 60,
   "id": "d03ca074-35a0-4e0d-9377-d4eaa5521f85",
   "metadata": {},
   "outputs": [],
   "source": [
    "from time import perf_counter, sleep\n",
    "\n",
    "from pyiron_workflow.channels import NOT_DATA\n",
    "    \n",
    "t = 2"
   ]
  },
  {
   "cell_type": "code",
   "execution_count": 61,
   "id": "a7c07aa0-84fc-4f43-aa4f-6498c0837d76",
   "metadata": {},
   "outputs": [
    {
     "name": "stdout",
     "output_type": "stream",
     "text": [
      "6.009681912953965\n"
     ]
    }
   ],
   "source": [
    "wf = Workflow(\"serial\")\n",
    "wf.a = Workflow.create.standard.Sleep(t)\n",
    "wf.b = Workflow.create.standard.Sleep(t)\n",
    "wf.c = Workflow.create.standard.Sleep(t)\n",
    "wf.d = wf.create.standard.UserInput(t)\n",
    "wf.automate_execution = False\n",
    "wf.a >> wf.b >> wf.c >> wf.d\n",
    "wf.starting_nodes = [wf.a]\n",
    "t0 = perf_counter()\n",
    "out = wf()\n",
    "while wf.outputs.d__user_input.value is NOT_DATA:\n",
    "    sleep(0.001)\n",
    "dt_serial = perf_counter() - t0\n",
    "\n",
    "print(dt_serial)"
   ]
  },
  {
   "cell_type": "code",
   "execution_count": 62,
   "id": "b062ab5f-9b98-4843-8925-b93bf4c173f8",
   "metadata": {},
   "outputs": [
    {
     "name": "stdout",
     "output_type": "stream",
     "text": [
      "3.0886348159983754\n"
     ]
    }
   ],
   "source": [
    "wf = Workflow(\"parallel\")\n",
    "wf.a = Workflow.create.standard.Sleep(t)\n",
    "wf.b = Workflow.create.standard.Sleep(t)\n",
    "wf.c = Workflow.create.standard.Sleep(t)\n",
    "wf.d = wf.create.standard.UserInput(t)\n",
    "wf.automate_execution = False\n",
    "wf.d << (wf.a, wf.b, wf.c)\n",
    "wf.starting_nodes = [wf.a, wf.b, wf.c]\n",
    "\n",
    "\n",
    "with wf.create.Executor(max_workers=3) as executor:\n",
    "    wf.a.executor = executor\n",
    "    wf.b.executor = executor\n",
    "    wf.c.executor = executor\n",
    "\n",
    "    t1 = perf_counter()\n",
    "    out = wf()\n",
    "    while wf.outputs.d__user_input.value is NOT_DATA:\n",
    "        sleep(0.001)\n",
    "    dt_parallel = perf_counter() - t1\n",
    "\n",
    "print(dt_parallel)"
   ]
  },
  {
   "cell_type": "markdown",
   "id": "8655ab85-f3e1-4828-b2c4-43425f45717c",
   "metadata": {},
   "source": [
    "Note how we've used the `<<` syntax to load up the `accumulate_and_run` input signal with multiple connections at once (as opposed to the forwards-syntactic sugar that connects one item at a time to `run`), and leveraging a single executor in a `with` statement. But most of all, note the speedup! There is some overhead for shipping things off to an executor -- we don't want to do it for operations that are taking mere ms -- but the bar is not super high. Serializing different nodes may take different amounts of time depending on how complex they are, so check for yourself the tradeoff between executing your nodes in parallel or serial."
   ]
  },
  {
   "cell_type": "markdown",
   "id": "b6a3b48f-eda6-4947-a1b2-22abfa394293",
   "metadata": {},
   "source": [
    "#### Executor limitations\n",
    "\n",
    "Unfortunately, _nested_ executors are not yet working. So if you set a macro to use an executor, none of its (grand...)children may specify an executor."
   ]
  },
  {
   "cell_type": "markdown",
   "id": "f447531e-3e8c-4c7e-a579-5f9c56b75a5b",
   "metadata": {
    "tags": []
   },
   "source": [
    "# Here be dragons\n",
    "\n",
    "While everything in the workflows sub-module is under development, the following complex features are _even more likely_ to see substantial modifications to their interface and behaviour. Nonetheless, they're fun so let's look at them."
   ]
  },
  {
   "cell_type": "markdown",
   "id": "6fe95ca3-95c4-4c82-9a45-c38275dabb22",
   "metadata": {},
   "source": [
    "## Saving and loading\n",
    "\n",
    "For python >= 3.11, graphs can be saved and loaded on request -- either by manually invoking the `.save()` method, or by setting the `save_after_run` attribute to `True` (on the object or at instantiation by kwarg). This creates a save file (currently using HDF5 as a format) in the parent-most node's working directory.\n",
    "\n",
    "Subsequently instantiating a node with the same name in the same place will attempt to reload the saved graph automatically. \n",
    "\n",
    "Since data IO is also saved, all IO must be serializable. As a fallback, we attempt to store data IO values using pickle, so most pickle-able objects will work.\n",
    "\n",
    "You can look at the `Node` class docstring for a full and detailed list of all storage features as they currently are in this alpha feature, but here are a few key caveats:\n",
    "- The _entire graph_ is always saved, regardless of which node is calling `save()`\n",
    "- Similarly, you can only reload the entire graph at once\n",
    "- Also related, there is currently zero filtering of which data, or to which depth the graph gets stored -- it's all or nothing\n",
    "- If the source code for nodes gets modified between saving and loading, weird stuff is likely to happen, and some of it may happen silently.\n",
    "\n",
    "Lastly, we currently use two backends: `tinybase.storage.H5ioStorage` and `h5io` directly. They have slightly different strengths:\n",
    "- `\"h5io\"` (the default) \n",
    "  - Will let you save and load any nodes that defined by subclassing (this includes all nodes defined using the decorators)\n",
    "  - Will preserve changes to a macro (replace/add/remove/rewire)\n",
    "  - Has trouble with some data\n",
    "- `\"tinybase\"`\n",
    "  - Requires all nodes to have been instantiated with the creator (`wf.create...`; this means moving node definitions to a `.py` file in your pythonpath and registering it as a node package -- not particularly difficult!)\n",
    "  - _Ignores_ changes to a macro (will crash nicely if the macro IO changed)\n",
    "  - Falls back to `pickle` for data failures, so can handle a wider variety of data IO objects"
   ]
  },
  {
   "cell_type": "code",
   "execution_count": 63,
   "id": "c8196054-aff3-4d39-a872-b428d329dac9",
   "metadata": {},
   "outputs": [],
   "source": [
    "import sys"
   ]
  },
  {
   "cell_type": "code",
   "execution_count": 64,
   "id": "ffd741a3-b086-4ed0-9a62-76143a3705b2",
   "metadata": {},
   "outputs": [],
   "source": [
    "if sys.version_info >= (3, 11):\n",
    "    wf = Workflow(\"save_demo\")\n",
    "    wf.inp = wf.create.standard.UserInput(42)\n",
    "    wf.middle = 2 * wf.inp\n",
    "    wf.end = wf.middle - 42\n",
    "    wf.out = wf.create.standard.UserInput(wf.end, save_after_run=True)\n",
    "    wf()\n",
    "    # wf.save()  # Not needed, since `wf.out` saves after running"
   ]
  },
  {
   "cell_type": "code",
   "execution_count": 65,
   "id": "3a22c622-f8c1-449b-a910-c52beb6a09c3",
   "metadata": {},
   "outputs": [
    {
     "name": "stderr",
     "output_type": "stream",
     "text": [
      "/Users/huber/work/pyiron/pyiron_workflow/pyiron_workflow/node.py:373: UserWarning: A saved file was found for the node save_demo -- attempting to load it...(To delete the saved file instead, use `overwrite_save=True`)\n",
      "  warnings.warn(\n",
      "/Users/huber/work/pyiron/pyiron_workflow/pyiron_workflow/node.py:373: UserWarning: A saved file was found for the node inp -- attempting to load it...(To delete the saved file instead, use `overwrite_save=True`)\n",
      "  warnings.warn(\n",
      "/Users/huber/work/pyiron/pyiron_workflow/pyiron_workflow/node.py:373: UserWarning: A saved file was found for the node middle -- attempting to load it...(To delete the saved file instead, use `overwrite_save=True`)\n",
      "  warnings.warn(\n",
      "/Users/huber/work/pyiron/pyiron_workflow/pyiron_workflow/node.py:373: UserWarning: A saved file was found for the node end -- attempting to load it...(To delete the saved file instead, use `overwrite_save=True`)\n",
      "  warnings.warn(\n",
      "/Users/huber/work/pyiron/pyiron_workflow/pyiron_workflow/node.py:373: UserWarning: A saved file was found for the node out -- attempting to load it...(To delete the saved file instead, use `overwrite_save=True`)\n",
      "  warnings.warn(\n"
     ]
    }
   ],
   "source": [
    "if sys.version_info >= (3, 11):\n",
    "    reloaded = Workflow(\"save_demo\")\n",
    "    reloaded.out.value == wf.out.value"
   ]
  },
  {
   "cell_type": "markdown",
   "id": "f9238cf7-3050-4607-a542-010e3bb83f41",
   "metadata": {},
   "source": [
    "You can force a newly instantiated node to ignore (and delete!) an existing save file by setting the `overwrite_save` kwarg to `True`.\n",
    "\n",
    "Finally, let's clean up our save to keep this demo director clean:"
   ]
  },
  {
   "cell_type": "code",
   "execution_count": 66,
   "id": "0999d3e8-3a5a-451d-8667-a01dae7c1193",
   "metadata": {},
   "outputs": [],
   "source": [
    "if sys.version_info >= (3, 11):\n",
    "    reloaded.storage.delete()"
   ]
  },
  {
   "cell_type": "markdown",
   "id": "1f012460-19af-45f7-98aa-a0ad5b8e6faa",
   "metadata": {},
   "source": [
    "## Meta-nodes and flow control\n",
    "\n",
    "A meta-node is a function that produces a node _class_ instedad of a node _instance_.\n",
    "Right now, these are used to produce parameterized flow-control nodes, which take an node class as input and return a new macro class that builds some graph using the passed node class, e.g. for- and while-loops.\n",
    "\n",
    "Note: The body (and condition) node classes passed to for- and while-loops must be importable, i.e. they can come from a node package, or be defined here in the notebook (importable from `__main__`), but you can't use, e.g., a node defined _inside_ the scope of some other function.\n",
    "\n",
    "### For-loops\n",
    "\n",
    "One meta node is a for-loop builder, which creates a macro with $n$ internal instances of the \"loop body\" node class, and a new IO interface.\n",
    "The new input allows you to specify which input channels are being looped over -- such that the macro input for this channel is interpreted as list-like and distributed to all the copies of the nodes separately --, and which is _not_ being looped over -- and thus interpreted as the loop body node would normally interpret the input and passed to all copies equally.\n",
    "All of the loop body outputs are then collected as a list of length $n$.\n",
    "\n",
    "We follow a convention that inputs and outputs being looped over are indicated by their channel labels being ALL CAPS.\n",
    "\n",
    "In the example below, we loop over the bulk structure node to create structures with different lattice constants:"
   ]
  },
  {
   "cell_type": "code",
   "execution_count": 67,
   "id": "0b373764-b389-4c24-8086-f3d33a4f7fd7",
   "metadata": {},
   "outputs": [
    {
     "name": "stderr",
     "output_type": "stream",
     "text": [
      "/Users/huber/work/pyiron/pyiron_workflow/pyiron_workflow/io_preview.py:253: OutputLabelsNotValidated: Could not find the source code to validate BulkForA5 output labels against the number of returned values -- proceeding without validation\n",
      "  warnings.warn(\n"
     ]
    },
    {
     "data": {
      "text/plain": [
       "[14.829749999999995,\n",
       " 15.407468749999998,\n",
       " 15.999999999999998,\n",
       " 16.60753125,\n",
       " 17.230249999999995]"
      ]
     },
     "execution_count": 67,
     "metadata": {},
     "output_type": "execute_result"
    }
   ],
   "source": [
    "n = 5\n",
    "\n",
    "bulk_loop = Workflow.create.meta.for_loop(\n",
    "    Workflow.create.pyiron_atomistics.Bulk,\n",
    "    n,\n",
    "    iterate_on=(\"a\",),\n",
    ")()\n",
    "\n",
    "out = bulk_loop(\n",
    "    name=\"Al\",  # Sent equally to each body node\n",
    "    A=np.linspace(3.9, 4.1, n).tolist(),  # Scattered across body nodes\n",
    "    # The rest of the values need to be filled\n",
    "    # (We don't currently pass body defaults to the loop node)\n",
    "    # but just get broadcast to each body node\n",
    "    crystalstructure=None,\n",
    "    c=None,\n",
    "    covera=None,\n",
    "    u=None,\n",
    "    orthorhombic=False,\n",
    "    cubic=False\n",
    ")\n",
    "\n",
    "[struct.cell.volume for struct in out.STRUCTURE]  \n",
    "# output is a list collected from copies of the body node, as indicated by CAPS label"
   ]
  },
  {
   "cell_type": "markdown",
   "id": "4e7ed210-dbc2-4afa-825e-b91168baff25",
   "metadata": {},
   "source": [
    "## While-loops\n",
    "\n",
    "We can also create a while-loop, which takes both a body node and a condition node. The condition node must be a single-output `Function` node returning a `bool` type. Instead of creating copies of the body node, the body node gets re-run until the condition node returns `False`.\n",
    "\n",
    "You _must_ specify the data connection so that the body node passes information to the condition node. You may optionally also loop output of the body node back to input of the body node to change the input at each iteration. Right now this is done with horribly ugly string tuples, but we're still working on it."
   ]
  },
  {
   "cell_type": "code",
   "execution_count": 68,
   "id": "0dd04b4c-e3e7-4072-ad34-58f2c1e4f596",
   "metadata": {},
   "outputs": [
    {
     "name": "stderr",
     "output_type": "stream",
     "text": [
      "/Users/huber/work/pyiron/pyiron_workflow/pyiron_workflow/io_preview.py:253: OutputLabelsNotValidated: Could not find the source code to validate AddWhileLessThan_m3900845772041641930 output labels against the number of returned values -- proceeding without validation\n",
      "  warnings.warn(\n",
      "/Users/huber/work/pyiron/pyiron_workflow/pyiron_workflow/channels.py:176: UserWarning: The channel user_input was not connected to a, andthus could not disconnect from it.\n",
      "  warn(\n",
      "/Users/huber/work/pyiron/pyiron_workflow/pyiron_workflow/channels.py:176: UserWarning: The channel user_input was not connected to b, andthus could not disconnect from it.\n",
      "  warn(\n",
      "/Users/huber/work/pyiron/pyiron_workflow/pyiron_workflow/channels.py:176: UserWarning: The channel user_input was not connected to other, andthus could not disconnect from it.\n",
      "  warn(\n",
      "/Users/huber/work/pyiron/pyiron_workflow/pyiron_workflow/channels.py:176: UserWarning: The channel run was not connected to true, andthus could not disconnect from it.\n",
      "  warn(\n",
      "/Users/huber/work/pyiron/pyiron_workflow/pyiron_workflow/channels.py:176: UserWarning: The channel run was not connected to ran, andthus could not disconnect from it.\n",
      "  warn(\n"
     ]
    }
   ],
   "source": [
    "@Workflow.wrap.as_function_node(\"sum\")\n",
    "def Add(a, b):\n",
    "    print(f\"{a} + {b} = {a + b}\")\n",
    "    return a + b\n",
    "\n",
    "AddWhile = Workflow.create.meta.while_loop(\n",
    "    loop_body_class=Add,\n",
    "    condition_class=Workflow.create.standard.LessThan,\n",
    "    internal_connection_map=[\n",
    "        (\"Add\", \"sum\", \"LessThan\", \"obj\"),\n",
    "        (\"Add\", \"sum\", \"Add\", \"a\")\n",
    "    ],\n",
    "    inputs_map={\"Add__a\": \"a\", \"Add__b\": \"b\", \"LessThan__other\": \"threshold\"},\n",
    "    outputs_map={\"Add__sum\": \"total\"}\n",
    ")\n",
    "\n",
    "wf = Workflow(\"do_while\")\n",
    "wf.add_while = AddWhile(threshold=10)\n",
    "\n",
    "wf.inputs_map = {\n",
    "    \"add_while__a\": \"a\",\n",
    "    \"add_while__b\": \"b\"\n",
    "}\n",
    "wf.outputs_map = {\n",
    "    \"add_while__total\": \"total\",  # Rename this output\n",
    "    \"add_while__switch__truth\": None  # Disable this output\n",
    "}"
   ]
  },
  {
   "cell_type": "markdown",
   "id": "eb810e1e-4d13-4cb1-94cc-6d191b8c568d",
   "metadata": {},
   "source": [
    "Note that initializing the `a` and `b` input to numeric values when we call the workflow below does not destroy the connection made between the body node input and output -- so the first run of the body node uses the initial value passed, but then it updates its own input for subsequent calls!"
   ]
  },
  {
   "cell_type": "code",
   "execution_count": 69,
   "id": "2dfb967b-41ac-4463-b606-3e315e617f2a",
   "metadata": {},
   "outputs": [
    {
     "name": "stdout",
     "output_type": "stream",
     "text": [
      "1 + 2 = 3\n",
      "3 + 2 = 5\n",
      "5 + 2 = 7\n",
      "7 + 2 = 9\n",
      "9 + 2 = 11\n",
      "Finally {'total': 11}\n"
     ]
    }
   ],
   "source": [
    "response = wf(a=1, b=2)\n",
    "print(\"Finally\", response)"
   ]
  },
  {
   "cell_type": "code",
   "execution_count": 70,
   "id": "2e87f858-b327-4f6b-9237-c8a557f29aeb",
   "metadata": {},
   "outputs": [
    {
     "name": "stdout",
     "output_type": "stream",
     "text": [
      "0.540 > 0.2\n",
      "0.285 > 0.2\n",
      "0.946 > 0.2\n",
      "0.437 > 0.2\n",
      "0.558 > 0.2\n",
      "0.010 <= 0.2\n",
      "Finally 0.010\n"
     ]
    },
    {
     "name": "stderr",
     "output_type": "stream",
     "text": [
      "/Users/huber/work/pyiron/pyiron_workflow/pyiron_workflow/io_preview.py:253: OutputLabelsNotValidated: Could not find the source code to validate RandomWhileGreaterThan_m6305331635963844247 output labels against the number of returned values -- proceeding without validation\n",
      "  warnings.warn(\n",
      "/Users/huber/work/pyiron/pyiron_workflow/pyiron_workflow/channels.py:176: UserWarning: The channel user_input was not connected to threshold, andthus could not disconnect from it.\n",
      "  warn(\n"
     ]
    }
   ],
   "source": [
    "@Workflow.wrap.as_function_node(\"random\")\n",
    "def Random(length: int | None = None):\n",
    "    return np.random.random(length)\n",
    "\n",
    "@Workflow.wrap.as_function_node()\n",
    "def GreaterThan(x: float, threshold: float):\n",
    "    gt = x > threshold\n",
    "    symbol = \">\" if gt else \"<=\"\n",
    "    print(f\"{x:.3f} {symbol} {threshold}\")\n",
    "    return gt\n",
    "\n",
    "RandomWhile = Workflow.create.meta.while_loop(\n",
    "    loop_body_class=Random,\n",
    "    condition_class=GreaterThan,\n",
    "    internal_connection_map=[(\"Random\", \"random\", \"GreaterThan\", \"x\")],\n",
    "    inputs_map={\"GreaterThan__threshold\": \"threshold\"},\n",
    "    outputs_map={\"Random__random\": \"capped_result\"}\n",
    ")\n",
    "\n",
    "# Define workflow\n",
    "\n",
    "wf = Workflow(\"random_until_small_enough\")\n",
    "\n",
    "## Wire together the while loop and its condition\n",
    "\n",
    "wf.random_while = RandomWhile()\n",
    "\n",
    "## Give convenient labels\n",
    "wf.inputs_map = {\"random_while__threshold\": \"threshold\"}\n",
    "wf.outputs_map = {\"random_while__capped_result\": \"capped_result\"}\n",
    "\n",
    "print(f\"Finally {wf(threshold=0.2).capped_result:.3f}\")"
   ]
  },
  {
   "cell_type": "code",
   "execution_count": null,
   "id": "f40bfd6f-3fbf-4c2b-aeee-534ed4bcc970",
   "metadata": {},
   "outputs": [],
   "source": []
  }
 ],
 "metadata": {
  "kernelspec": {
   "display_name": "Python 3 (ipykernel)",
   "language": "python",
   "name": "python3"
  },
  "language_info": {
   "codemirror_mode": {
    "name": "ipython",
    "version": 3
   },
   "file_extension": ".py",
   "mimetype": "text/x-python",
   "name": "python",
   "nbconvert_exporter": "python",
   "pygments_lexer": "ipython3",
   "version": "3.11.9"
  }
 },
 "nbformat": 4,
 "nbformat_minor": 5
}
