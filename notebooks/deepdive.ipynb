{
 "cells": [
  {
   "cell_type": "markdown",
   "id": "75be80d6-bc28-478e-93bc-5788ab55d05d",
   "metadata": {},
   "source": [
    "# Deepdive\n",
    "\n",
    "In `quickstart.ipynb` we look at the mainstream usage of `pyiron_workflow`, leveraging `Workflow` as a single point of access, defining custom nodes, and building computational workflows. This notebook builds on that by exploring extra tools for more specialized uses, as well as demonstrating several edge-cases and extension points. We'll try to cover not just the `Workflow` class and the tools it exposes, but everything in the \"public API\" exposed in `pyiron_workflow.__init__`.\n",
    "\n",
    "The target audience here is advanced users who want to make complex workflows. We'll also lay a useful foundation for readers who want to modify the core `pyiron_workflow` infrastructure itself, although that's not our target. Nonetheless, this notebook is still not exhaustive. To go further, investigate the docstrings of the various publicly exposed tools, or dig into the test suite in the source code."
   ]
  },
  {
   "cell_type": "code",
   "id": "771da684-348b-47e2-ba7c-3c2244e46ba3",
   "metadata": {
    "ExecuteTime": {
     "end_time": "2025-06-18T17:46:40.938676Z",
     "start_time": "2025-06-18T17:46:40.935402Z"
    }
   },
   "source": [
    "import pyiron_workflow as pwf"
   ],
   "outputs": [],
   "execution_count": 45
  },
  {
   "cell_type": "markdown",
   "id": "6ef866fa-0a8f-412f-bd4a-d2c7da74ccc0",
   "metadata": {},
   "source": [
    "## Adding new functionality with function nodes\n",
    "\n",
    "Let's start by exploring the three main ways of making new content using \"function\" nodes. "
   ]
  },
  {
   "cell_type": "markdown",
   "id": "8cec0079-7c8f-4100-a01e-bf2015ed3a7f",
   "metadata": {},
   "source": [
    "### By dynamic class\n",
    "\n",
    "The recommended approach is to make a new node _class_ by decorating the function with the behaviour you want:"
   ]
  },
  {
   "cell_type": "code",
   "id": "557ebcd7-81c0-486f-8362-ccb48243c350",
   "metadata": {
    "ExecuteTime": {
     "end_time": "2025-06-18T17:46:40.956537Z",
     "start_time": "2025-06-18T17:46:40.949927Z"
    }
   },
   "source": [
    "@pwf.as_function_node(\"plus\", \"minus\")\n",
    "def MyFunctionClass(x: int = 42) -> tuple[int, int]:\n",
    "    return x + 1, x - 1\n",
    "\n",
    "MyFunctionClass.mro()[:5]"
   ],
   "outputs": [
    {
     "data": {
      "text/plain": [
       "[__main__.MyFunctionClass,\n",
       " pyiron_snippets.factory._FactoryMade,\n",
       " pyiron_workflow.nodes.function.Function,\n",
       " pyiron_workflow.nodes.static_io.StaticNode,\n",
       " pyiron_workflow.node.Node]"
      ]
     },
     "execution_count": 46,
     "metadata": {},
     "output_type": "execute_result"
    }
   ],
   "execution_count": 46
  },
  {
   "cell_type": "markdown",
   "id": "b8ace954-c043-4bca-967f-cd8983d953f9",
   "metadata": {},
   "source": [
    "Just like in the quickstart, we that this dynamically creates a new class in `__main__` inheriting from `Node`, and `Function`, just like we'd expect. \n",
    "\n",
    "The `pyiron_snippets.factory._FactoryMade` is just some magic that makes sure this dynamically-defined class is still pickleable. This is important as (unless your IO data itself in unpickleable) it lets us use not only `pickle` but also the standard `concurrent.futures.ProcessPoolExecutor` to parallelize our `pyiron_workflow` content.\n",
    "\n",
    "Also of note here is `pyiron_workflow.nodes.static_io.StaticNode`. You should see this intermediate class in the parentage of most nodes (all of them except `Workflow` at time of writing). Nodes inheriting from this class have their IO interface defined _at the class level_. That means you have access to IO labels, type hints, and default values before ever instantiating a node! (And maybe one day ontological hints too!) You can access this information with `.preview...`"
   ]
  },
  {
   "cell_type": "code",
   "id": "6fe33fae-e481-41e6-b1ce-fe813963ff76",
   "metadata": {
    "ExecuteTime": {
     "end_time": "2025-06-18T17:46:40.984183Z",
     "start_time": "2025-06-18T17:46:40.980715Z"
    }
   },
   "source": [
    "MyFunctionClass.preview_io()"
   ],
   "outputs": [
    {
     "data": {
      "text/plain": [
       "{'inputs': {'x': (int, 42)}, 'outputs': {'plus': int, 'minus': int}}"
      ]
     },
     "execution_count": 47,
     "metadata": {},
     "output_type": "execute_result"
    }
   ],
   "execution_count": 47
  },
  {
   "cell_type": "markdown",
   "id": "68cdd4fa-a1bd-4346-a71a-2ddd79087eee",
   "metadata": {},
   "source": [
    "This decorator approach is easy to read, and you can instantiate as many copies of this node as you want, so this is the recommended approach to node defintions. As usual, node input can be set by kwarg at instantiation or run time; `Function` nodes specially can also have input set as a positional argument."
   ]
  },
  {
   "cell_type": "code",
   "id": "3fc470e0-971b-4434-82ac-1047be75f2e7",
   "metadata": {
    "ExecuteTime": {
     "end_time": "2025-06-18T17:46:41.010382Z",
     "start_time": "2025-06-18T17:46:41.007909Z"
    }
   },
   "source": [
    "my_func1 = MyFunctionClass(label=\"default_input\")\n",
    "my_func2 = MyFunctionClass(1, label=\"positional_input\")\n",
    "my_func2()"
   ],
   "outputs": [
    {
     "data": {
      "text/plain": [
       "(2, 0)"
      ]
     },
     "execution_count": 48,
     "metadata": {},
     "output_type": "execute_result"
    }
   ],
   "execution_count": 48
  },
  {
   "cell_type": "markdown",
   "id": "f7ac21a4-4b35-48c5-9739-407348691c4a",
   "metadata": {},
   "source": [
    "Of course keywording a positional argument is fine"
   ]
  },
  {
   "cell_type": "code",
   "id": "5aa2ec8d-971b-4827-8d4e-55c70fd8b7fe",
   "metadata": {
    "ExecuteTime": {
     "end_time": "2025-06-18T17:46:41.032470Z",
     "start_time": "2025-06-18T17:46:41.030402Z"
    }
   },
   "source": [
    "my_func2(x=100)"
   ],
   "outputs": [
    {
     "data": {
      "text/plain": [
       "(101, 99)"
      ]
     },
     "execution_count": 49,
     "metadata": {},
     "output_type": "execute_result"
    }
   ],
   "execution_count": 49
  },
  {
   "cell_type": "markdown",
   "id": "3afdee95-239a-4cb6-a45b-b1494b927aad",
   "metadata": {},
   "source": [
    "### As a single instance\n",
    "\n",
    "It's also possible we might have an existing function we want to node-ize in a one-of way, without ever keeping track of the underlying node class. We can duplicate the functionality of `MyFunctionClass` the same way for a single instance like this:"
   ]
  },
  {
   "cell_type": "code",
   "id": "53e846a5-fa08-4357-a030-b194116d5451",
   "metadata": {
    "ExecuteTime": {
     "end_time": "2025-06-18T17:46:41.068505Z",
     "start_time": "2025-06-18T17:46:41.065271Z"
    }
   },
   "source": [
    "def my_function(x: int = 42) -> tuple[int, int]:\n",
    "    return x + 1, x - 1\n",
    "\n",
    "my_function_instance = pwf.function_node(my_function, output_labels=(\"plus\", \"minus\"))\n",
    "\n",
    "my_function_instance.__class__.mro()[:5]"
   ],
   "outputs": [
    {
     "data": {
      "text/plain": [
       "[__main__.my_function,\n",
       " pyiron_snippets.factory._FactoryMade,\n",
       " pyiron_workflow.nodes.function.Function,\n",
       " pyiron_workflow.nodes.static_io.StaticNode,\n",
       " pyiron_workflow.node.Node]"
      ]
     },
     "execution_count": 50,
     "metadata": {},
     "output_type": "execute_result"
    }
   ],
   "execution_count": 50
  },
  {
   "cell_type": "markdown",
   "id": "295a78ae-f905-4e22-9fab-07321a439012",
   "metadata": {},
   "source": [
    "Of course other than the name of the immediate class, this looks the same as before, and indeed it is"
   ]
  },
  {
   "cell_type": "code",
   "id": "6d054c43-b2df-4be0-b13e-3791718008a5",
   "metadata": {
    "ExecuteTime": {
     "end_time": "2025-06-18T17:46:41.093094Z",
     "start_time": "2025-06-18T17:46:41.091516Z"
    }
   },
   "source": [
    "assert(my_function_instance.__class__.mro()[1:] == MyFunctionClass.mro()[1:])"
   ],
   "outputs": [],
   "execution_count": 51
  },
  {
   "cell_type": "markdown",
   "id": "1446c4b9-9ac6-4118-bdac-205f06b0bf29",
   "metadata": {},
   "source": [
    "There's no particular advantage to making a single instance instead of the typical decorator approach, it just may be slightly more convenient sometimes. In general using the decorator is suggested."
   ]
  },
  {
   "cell_type": "markdown",
   "id": "fefe4e42-1f02-4411-be40-5c5033a15698",
   "metadata": {},
   "source": [
    "### By explicit subclass\n",
    "\n",
    "The final path is the traditional OOP coding route of simply making a new class that inherits from `Function`. The only requirement is that it have a `staticmethod` called `node_function` which takes the place of the decorated/passed functions above. You may optionally specify an `_output_labels` property to name the outputs, otherwise they will get scraped from the function return code. This approach can be useful if you want to add some extra functionality on your nodes, e.g. plotting, data analysis -- anything useful but small and tightly coupled enough to the node that you don't feel the need to make a separate node to handle it."
   ]
  },
  {
   "cell_type": "code",
   "id": "fbba0959-3a9b-4502-9455-664185886945",
   "metadata": {
    "ExecuteTime": {
     "end_time": "2025-06-18T17:46:41.109944Z",
     "start_time": "2025-06-18T17:46:41.106645Z"
    }
   },
   "source": [
    "class MySubFunction(pwf.api.Function):\n",
    "    @staticmethod\n",
    "    def node_function(x: int = 42) -> tuple[int, int]:\n",
    "        return x + 1, x - 1\n",
    "\n",
    "    _output_labels = (\"plus\", \"minus\")\n",
    "\n",
    "    def is_bound(self, n) -> bool:\n",
    "        if self.outputs.plus.value is not pwf.api.NOT_DATA:\n",
    "            return self.outputs.plus.value > n and self.outputs.minus.value < n\n",
    "        else:\n",
    "            raise RuntimeError(\"Run the node first\")\n",
    "\n",
    "my_subfunc = MySubFunction()\n",
    "\n",
    "try:\n",
    "    my_subfunc.is_bound(33)\n",
    "except RuntimeError:\n",
    "    print(\"Maybe our method depends on having output data\")\n",
    "\n",
    "my_subfunc()\n",
    "assert(my_subfunc.is_bound(42.5) and not my_subfunc.is_bound(0))"
   ],
   "outputs": [
    {
     "name": "stdout",
     "output_type": "stream",
     "text": [
      "Maybe our method depends on having output data\n"
     ]
    }
   ],
   "execution_count": 52
  },
  {
   "cell_type": "markdown",
   "id": "3530eea1-370f-43a2-b177-9bb086e5a7ae",
   "metadata": {},
   "source": [
    "This pattern of subclass-by-decoration, instance-by-call, or traditional subclassing are available under the same syntaxes for all three standard base classes for new nodes: `Function`, `Macro`, and `Dataclass`."
   ]
  },
  {
   "cell_type": "markdown",
   "id": "1c4c25e1-74ff-4fa5-87d1-4610909d8e83",
   "metadata": {},
   "source": [
    "### Parsing awkward functions\n",
    "\n",
    "`pyiron_workflow` is predecated on being able to identify and label not just the inputs of functions, but their outputs. We try to make this convenient by scraping output labels from the raw code of the return value. But, sometimes it doesn't go that easily. Sometimes you might want to wrap an existing function, maybe it even has multiple return values! Or maybe there is no raw source code because the entire function is dynamic (e.g. a lambda function). We don't offer flexible/dynamic output -- the output still needs to be fixed at the class level -- but as long as you are willing to vouch for the function you're wrapping, you can bypass restrictions on parsability of the function code. In this case, you _must_ provide explicit output labels, and you need to set a flag to indicate that parsing should not be performed. Below we show how to do this for an existing function and get a new, importable class by updating the class name:"
   ]
  },
  {
   "cell_type": "code",
   "id": "d778740d-03e3-41d2-b5f8-0c2b254d0f8c",
   "metadata": {
    "ExecuteTime": {
     "end_time": "2025-06-18T17:46:41.148998Z",
     "start_time": "2025-06-18T17:46:41.147233Z"
    }
   },
   "source": [
    "def my_awkard_function(x):\n",
    "    \"\"\"\n",
    "    Here is a function that has multiple return values, so we can't parse it by default.\n",
    "    It also awkwardly sometimes returns a string, and other times returns a bool (or \n",
    "    even an array of bools if we were to pass a numpy array in!) so it is going to be \n",
    "    awkward anyhow, since we can't give a very reliable type hint for the input...\n",
    "\n",
    "    But let's explore what we can do to get around this anyhow!\n",
    "    \"\"\"\n",
    "    if isinstance(x, str):\n",
    "        return x\n",
    "    if x > 0:\n",
    "        return True\n",
    "    elif x < 0:\n",
    "        return False"
   ],
   "outputs": [],
   "execution_count": 53
  },
  {
   "cell_type": "code",
   "id": "8718f00c-3172-41fe-8266-37012ed47ca6",
   "metadata": {
    "ExecuteTime": {
     "end_time": "2025-06-18T17:46:41.176399Z",
     "start_time": "2025-06-18T17:46:41.174232Z"
    }
   },
   "source": [
    "try:\n",
    "    pwf.function_node(my_awkard_function, \"some_output_label\")\n",
    "except ValueError:\n",
    "    print(\n",
    "        \"We can't parse output labels, or compare if the provided ones are valid, \"\n",
    "        \"when there are multiple `return` statements!\"\n",
    "    )"
   ],
   "outputs": [
    {
     "name": "stdout",
     "output_type": "stream",
     "text": [
      "We can't parse output labels, or compare if the provided ones are valid, when there are multiple `return` statements!\n"
     ]
    }
   ],
   "execution_count": 54
  },
  {
   "cell_type": "code",
   "id": "45d2607a-7bf7-4687-803a-cf19c2784087",
   "metadata": {
    "ExecuteTime": {
     "end_time": "2025-06-18T17:46:41.197424Z",
     "start_time": "2025-06-18T17:46:41.195748Z"
    }
   },
   "source": [
    "JustMakeItGo = pwf.as_function_node(\n",
    "    \"some_label\", \n",
    "    validate_output_labels=False,  # Blindly trusts the requested label(s)\n",
    ")(my_awkard_function)\n",
    "JustMakeItGo.__name__ = \"JustMakeItGo\"  "
   ],
   "outputs": [],
   "execution_count": 55
  },
  {
   "cell_type": "markdown",
   "id": "fcfadef7-9066-49e2-b875-719ba902b7ab",
   "metadata": {},
   "source": [
    "Note that we've manually set the class name to match the local variable we stored the class in. This is so we can import it correctly later if we want:"
   ]
  },
  {
   "cell_type": "code",
   "id": "dfc9a84a-bb69-4b24-8c15-6a1de96266b8",
   "metadata": {
    "ExecuteTime": {
     "end_time": "2025-06-18T17:46:41.219602Z",
     "start_time": "2025-06-18T17:46:41.217955Z"
    }
   },
   "source": [
    "from __main__ import JustMakeItGo as ReimportedJMIG\n",
    "\n",
    "assert(ReimportedJMIG is JustMakeItGo)"
   ],
   "outputs": [],
   "execution_count": 56
  },
  {
   "cell_type": "markdown",
   "id": "919f6f6d-2bb3-4be9-b393-c315522786fa",
   "metadata": {},
   "source": [
    "This node runs fine:"
   ]
  },
  {
   "cell_type": "code",
   "id": "5850b5ee-eb93-475c-805b-28924723e828",
   "metadata": {
    "ExecuteTime": {
     "end_time": "2025-06-18T17:46:41.235813Z",
     "start_time": "2025-06-18T17:46:41.233901Z"
    }
   },
   "source": [
    "jmig = JustMakeItGo()\n",
    "assert(jmig(5))"
   ],
   "outputs": [],
   "execution_count": 57
  },
  {
   "cell_type": "markdown",
   "id": "f9d53c1a-5722-470d-a872-bf6b2f2a4f23",
   "metadata": {},
   "source": [
    "But it's is still kind of an unfriendly node, since the output type can totally change. Some cases could be even worse, imagine if different return branches returned different numbers of objects! Then sometimes we'd get a value, or other times tuples of values. What a headache. The point is you _can_ force unfriendly functions into our paradigm, but you may not _want_ to. It may be better to just write your own sanitizing wrapper function around them to expose the functionality you care about, or to just write a new function from scratch."
   ]
  },
  {
   "cell_type": "markdown",
   "id": "d2797772-cda9-46da-aae9-b95d3eabc897",
   "metadata": {},
   "source": [
    "## Macros provide an interface to their subgraph\n",
    "\n",
    "We have access to the same three routes for adding functionality by inheriting from `Macro` just like we do from `Function`. We learned in `quickstart.ipynb` how macros are fundamentally different from function nodes: `Function` nodes are based around _plain python functions_ and can do anything python does and do it every time the function node runs; in contrast, `Macro` nodes use the `pyiron_workflow` framework to _define a graph_, they do it _once at instantiation_, and from then on running the node executes that subgraph. That means you can still write regular python inside your macro definition, but (with the exception of operations that work on data channels via node injection) you can't use that python to process input data and manipulate it because it is (a) acting on data channels not the underlying data held by those channels, and (b) happens only once to the initial data!\n",
    "\n",
    "None of that should be a shock, but here we'll look at _how_ macro nodes accomplish this. First, let's make a couple of trivially simple nodes with which to demo functionality:"
   ]
  },
  {
   "cell_type": "code",
   "id": "cadd24f1-4a53-4a87-8ed1-29d870ae2fc3",
   "metadata": {
    "ExecuteTime": {
     "end_time": "2025-06-18T17:46:41.246808Z",
     "start_time": "2025-06-18T17:46:41.243312Z"
    }
   },
   "source": [
    "@pwf.as_function_node\n",
    "def TimesTwo(x: int) -> int:\n",
    "    twox = 2 * x\n",
    "    return twox\n",
    "\n",
    "@pwf.as_macro_node\n",
    "def TwoCubed(self, x: int) -> int:\n",
    "    self.two = TimesTwo(x)\n",
    "    self.four = TimesTwo(self.two)\n",
    "    self.eight = TimesTwo(self.four)\n",
    "    return self.eight"
   ],
   "outputs": [],
   "execution_count": 58
  },
  {
   "cell_type": "markdown",
   "id": "3c00e0d6-7a24-4e66-87fa-a3a9b0032ed5",
   "metadata": {},
   "source": [
    "### No outside connections\n",
    "\n",
    "Macros define an explicit interface between the subgraph they hold and the outside world, that means you can't use data (or signal) connections directly between macro child nodes and other nodes. At time of writing, you will be permitted to _form_ the connections, but will get a relatively clear error if you try to actually leverage them.\n",
    "\n",
    "This is the case whether you're working directly with nodes:"
   ]
  },
  {
   "cell_type": "code",
   "id": "7095159b-1314-4347-b208-e8ee781980f0",
   "metadata": {
    "ExecuteTime": {
     "end_time": "2025-06-18T17:46:41.261246Z",
     "start_time": "2025-06-18T17:46:41.256546Z"
    }
   },
   "source": [
    "non_child = TimesTwo(label=\"non_child\")\n",
    "macro = TwoCubed(2, label=\"macro\")\n",
    "\n",
    "non_child.inputs.x = macro.four.outputs.twox\n",
    "\n",
    "try:\n",
    "    non_child()\n",
    "except ValueError as e:\n",
    "    print(\"ValueError:\", e)"
   ],
   "outputs": [
    {
     "name": "stdout",
     "output_type": "stream",
     "text": [
      "ValueError: Nodes in a data digraph must all be siblings -- i.e. have the same `parent` attribute. Some of these do not: /macro/four5809566208\n",
      "/non_child4831133968\n",
      "/macro/two4831587136\n"
     ]
    }
   ],
   "execution_count": 59
  },
  {
   "cell_type": "markdown",
   "id": "42ac1c23-c5b2-40b7-bb5e-beb308615507",
   "metadata": {},
   "source": [
    "Or whether they're packaged in a workflow:"
   ]
  },
  {
   "cell_type": "code",
   "id": "bc2ec413-7a83-4f23-b5a1-f307de413870",
   "metadata": {
    "ExecuteTime": {
     "end_time": "2025-06-18T17:46:41.294810Z",
     "start_time": "2025-06-18T17:46:41.289745Z"
    }
   },
   "source": [
    "wf = pwf.Workflow(\"walled_gardens\")\n",
    "wf.non_child = TimesTwo()\n",
    "wf.macro = TwoCubed(2)\n",
    "wf.non_child.inputs.x = wf.macro.four.outputs.twox\n",
    "\n",
    "try:\n",
    "    wf()\n",
    "except KeyError as e:\n",
    "    print(\"KeyError:\", e)"
   ],
   "outputs": [
    {
     "name": "stdout",
     "output_type": "stream",
     "text": [
      "KeyError: 'The channel /walled_gardens/non_child.x has a connection to the upstream channel /walled_gardens/macro/four.twox, but the upstream owner four was not found among nodes. All nodes in the data flow dependency tree must be included.'\n"
     ]
    }
   ],
   "execution_count": 60
  },
  {
   "cell_type": "markdown",
   "id": "2c5e5d7d-8136-4af0-b0ba-80bd04d915ad",
   "metadata": {},
   "source": [
    "### Value syncing\n",
    "\n",
    "The prohibition against outside connections guarantees that the macro doesn't receive outside interference, but then how _does_ the macro communicate outside information in and inside information back out?\n",
    "\n",
    "In addition to the regular \"connections\" data and signal channels have, data channels also quietly have a `.value_receiver` method. These guarantee that whenever the value of that channel is updated, the new value is immediately propagated to its receiving partner. Macro's use this for input:"
   ]
  },
  {
   "cell_type": "code",
   "id": "1f9408d0-174d-4140-af45-30cc147b9d3f",
   "metadata": {
    "ExecuteTime": {
     "end_time": "2025-06-18T17:46:41.314373Z",
     "start_time": "2025-06-18T17:46:41.312631Z"
    }
   },
   "source": [
    "assert(macro.inputs.x is not macro.two.inputs.x)\n",
    "assert(macro.inputs.x.value_receiver is macro.two.inputs.x)\n",
    "\n",
    "print(macro.inputs.x.value, macro.two.inputs.x.value)\n",
    "macro.inputs.x.value = 5\n",
    "print(macro.inputs.x.value, macro.two.inputs.x.value)"
   ],
   "outputs": [
    {
     "name": "stdout",
     "output_type": "stream",
     "text": [
      "2 2\n",
      "5 5\n"
     ]
    }
   ],
   "execution_count": 61
  },
  {
   "cell_type": "markdown",
   "id": "8041d9e1-6075-4678-b383-54a329fd7e5e",
   "metadata": {},
   "source": [
    "And output:"
   ]
  },
  {
   "cell_type": "code",
   "id": "8504c0fd-8b79-4eaa-b6d4-374989e5d67b",
   "metadata": {
    "ExecuteTime": {
     "end_time": "2025-06-18T17:46:41.337616Z",
     "start_time": "2025-06-18T17:46:41.335679Z"
    }
   },
   "source": [
    "assert(macro.eight.outputs.twox is not macro.outputs.eight)\n",
    "assert(macro.eight.outputs.twox.value_receiver is macro.outputs.eight)\n",
    "\n",
    "print(macro.eight.outputs.twox.value, macro.outputs.eight.value)\n",
    "macro.eight.outputs.twox.value = 5\n",
    "print(macro.eight.outputs.twox.value, macro.outputs.eight.value)"
   ],
   "outputs": [
    {
     "name": "stdout",
     "output_type": "stream",
     "text": [
      "NOT_DATA NOT_DATA\n",
      "5 5\n"
     ]
    }
   ],
   "execution_count": 62
  },
  {
   "cell_type": "markdown",
   "id": "297e2623-6f83-45ef-9fcd-e962d99e5121",
   "metadata": {},
   "source": [
    "### Dynamic input forking\n",
    "\n",
    "Each data channel can have at most one `.value_receiver`, but sometimes our macro input gets sent to more than one child! To accommodate this, under the hood, macros are dynamically creating new nodes to hold input, then pruning these at the end of the macro instantiation if they are unnecessary. In the example below we can see that, at instantiation time, the macro has a new `pyiron_workflow.nodes.standard.UserInput` for both its inputs; for the forked input (`x`) this node persists as a child and is the on the receiving end of the macro input, but for the input with a single recipient (`y`) the intermediate node can be pruned and the macro input is fed straight to the node explicitly created in the macro definition:"
   ]
  },
  {
   "cell_type": "code",
   "id": "db17a6c1-659c-496e-84bf-6508db1dff14",
   "metadata": {
    "ExecuteTime": {
     "end_time": "2025-06-18T17:46:41.369488Z",
     "start_time": "2025-06-18T17:46:41.363098Z"
    }
   },
   "source": [
    "@pwf.as_macro_node\n",
    "def VerboseFork(self, x: int, y: int) -> tuple[int, int, int]:\n",
    "    print(type(x))\n",
    "    print(type(y))\n",
    "    self.pair1 = TimesTwo(x)\n",
    "    self.pair2 = TimesTwo(x)\n",
    "    self.alone = TimesTwo(y)\n",
    "    return self.pair1, self.pair2, self.alone\n",
    "\n",
    "m = VerboseFork()\n",
    "print(m.child_labels)  # Includes a \"forking\" input child not in the definition!\n",
    "\n",
    "assert(m.inputs.x.value_receiver is m.x.inputs.user_input)\n",
    "assert(m.inputs.y.value_receiver is m.alone.inputs.x)"
   ],
   "outputs": [
    {
     "name": "stdout",
     "output_type": "stream",
     "text": [
      "<class 'pyiron_workflow.nodes.standard.UserInput'>\n",
      "<class 'pyiron_workflow.nodes.standard.UserInput'>\n",
      "('x', 'pair1', 'pair2', 'alone')\n"
     ]
    }
   ],
   "execution_count": 63
  },
  {
   "cell_type": "markdown",
   "id": "a92c4238-dfcc-4e8a-812b-d2e1df8e735a",
   "metadata": {},
   "source": [
    "### Node injection and macro definitions\n",
    "\n",
    "We saw in the `quickstart.ipynb` how nodes returning only a single value can be operated on as though you were operating on their (only) data output channel, and how data output channels can be operated on to dynamically create new nodes to (delay and) perform the operation. \n",
    "\n",
    "We have also discussed how we mustn't mix-and-match raw python data processing we do in `Function` definitions with the graph setup we do in `Macro` definitions.\n",
    "\n",
    "Here, let's just quickly revisit this concept to show how we can sometimes leverage node injection to do some fairly complex processing of data in a macro after all. We have most but not all operators at our disposal -- some, like `>>` and `<<` bitshift operators are reserved to have actual meaning within the `pyiron_workflow` framework -- as well as a number of extra methods, e.g. `.eq` since we want to reserve `==` for its totally regular meaning and not inject on it."
   ]
  },
  {
   "cell_type": "code",
   "id": "b3bac532-7e56-40bb-805b-26dd7fd1d649",
   "metadata": {
    "ExecuteTime": {
     "end_time": "2025-06-18T17:46:41.391634Z",
     "start_time": "2025-06-18T17:46:41.389807Z"
    }
   },
   "source": [
    "from types import FunctionType\n",
    "from pyiron_workflow.mixin.injection import OutputDataWithInjection\n",
    "\n",
    "for k, v in OutputDataWithInjection.__dict__.items():\n",
    "    if (\n",
    "        isinstance(v, FunctionType) \n",
    "        and k not in [\"__init__\", \"_get_injection_label\", \"_node_injection\"]\n",
    "    ):\n",
    "        print(k, v)"
   ],
   "outputs": [
    {
     "name": "stdout",
     "output_type": "stream",
     "text": [
      "__getattr__ <function OutputDataWithInjection.__getattr__ at 0x10a70a700>\n",
      "__getitem__ <function OutputDataWithInjection.__getitem__ at 0x10a70a7a0>\n",
      "__lt__ <function OutputDataWithInjection.__lt__ at 0x10a70a840>\n",
      "__le__ <function OutputDataWithInjection.__le__ at 0x10a70a8e0>\n",
      "eq <function OutputDataWithInjection.eq at 0x10a70a980>\n",
      "__ne__ <function OutputDataWithInjection.__ne__ at 0x10a70aa20>\n",
      "__gt__ <function OutputDataWithInjection.__gt__ at 0x10a70aac0>\n",
      "__ge__ <function OutputDataWithInjection.__ge__ at 0x10a70ab60>\n",
      "bool <function OutputDataWithInjection.bool at 0x10a70ac00>\n",
      "len <function OutputDataWithInjection.len at 0x10a70aca0>\n",
      "contains <function OutputDataWithInjection.contains at 0x10a70ad40>\n",
      "__add__ <function OutputDataWithInjection.__add__ at 0x10a70ade0>\n",
      "__sub__ <function OutputDataWithInjection.__sub__ at 0x10a70ae80>\n",
      "__mul__ <function OutputDataWithInjection.__mul__ at 0x10a70af20>\n",
      "__rmul__ <function OutputDataWithInjection.__rmul__ at 0x10a70afc0>\n",
      "__matmul__ <function OutputDataWithInjection.__matmul__ at 0x10a70b060>\n",
      "__truediv__ <function OutputDataWithInjection.__truediv__ at 0x10a70b100>\n",
      "__floordiv__ <function OutputDataWithInjection.__floordiv__ at 0x10a70b1a0>\n",
      "__mod__ <function OutputDataWithInjection.__mod__ at 0x10a70b240>\n",
      "__pow__ <function OutputDataWithInjection.__pow__ at 0x10a70b2e0>\n",
      "__and__ <function OutputDataWithInjection.__and__ at 0x10a70b380>\n",
      "__xor__ <function OutputDataWithInjection.__xor__ at 0x10a70b420>\n",
      "__or__ <function OutputDataWithInjection.__or__ at 0x10a70b4c0>\n",
      "__neg__ <function OutputDataWithInjection.__neg__ at 0x10a70b560>\n",
      "__pos__ <function OutputDataWithInjection.__pos__ at 0x10a70b600>\n",
      "__abs__ <function OutputDataWithInjection.__abs__ at 0x10a70b6a0>\n",
      "__invert__ <function OutputDataWithInjection.__invert__ at 0x10a70b740>\n",
      "int <function OutputDataWithInjection.int at 0x10a70b7e0>\n",
      "float <function OutputDataWithInjection.float at 0x10a70b880>\n",
      "__round__ <function OutputDataWithInjection.__round__ at 0x10a70b920>\n"
     ]
    }
   ],
   "execution_count": 64
  },
  {
   "cell_type": "code",
   "id": "8dcc7997-724b-4f96-82fd-d36a35420d67",
   "metadata": {
    "ExecuteTime": {
     "end_time": "2025-06-18T17:46:41.425463Z",
     "start_time": "2025-06-18T17:46:41.415599Z"
    }
   },
   "source": [
    "@pwf.as_macro_node\n",
    "def TheFifthElement(\n",
    "    self,\n",
    "    exactly_five: tuple[int, int, int, int, int], \n",
    "    mod: int = 10, \n",
    "    extra: int = 5,\n",
    "    target: int = 0,\n",
    ") -> tuple[bool, float]:\n",
    "    self.fifth_element = exactly_five[4]  # Access injection\n",
    "    self.transformed = (self.fifth_element + extra) % mod  # Operator injection\n",
    "    self.matches = self.transformed.eq(target)  # Method injection\n",
    "    as_float = self.transformed.float()\n",
    "    return self.matches, as_float\n",
    "\n",
    "five = TheFifthElement((1, 2, 3, 4, 5))\n",
    "for n in five:\n",
    "    print(f\"{n.label} <{n.__class__.__name__}>\")\n",
    "five()"
   ],
   "outputs": [
    {
     "name": "stdout",
     "output_type": "stream",
     "text": [
      "fifth_element <GetItem>\n",
      "injected_Add_6110526772359589225 <Add>\n",
      "transformed <Modulo>\n",
      "matches <Equals>\n",
      "injected_Float_3388954052274814685 <Float>\n"
     ]
    },
    {
     "data": {
      "text/plain": [
       "{'matches': True, 'as_float': 0.0}"
      ]
     },
     "execution_count": 65,
     "metadata": {},
     "output_type": "execute_result"
    }
   ],
   "execution_count": 65
  },
  {
   "cell_type": "markdown",
   "id": "7224ba8d-dab5-449c-ae39-9a0c90e11941",
   "metadata": {},
   "source": [
    "It's always valid to extract your data processing as its own `Function` node and then use that, but we see here there is a reasonable amount of flexibility by leveraging injection. Most of our injected nodes were immediately assigned to an attribute of our macro (and thus re-labeled), but the `(self.fifth_element + extra)` was only ever used in-line and so retains its automatically-generated label. This is also true for `as_float`, which appears only as a local variable -- the variable name is still scraped for the purpose of naming the macro output channel, but the node itself retains its generated label.\n",
    "\n",
    "As a counter-example, we couldn't have written `as_float = float(self.transformed)`, because `self.transformed` (and `exactly_five`, `mod`, `extra`, `target`, and all the other child nodes) are _nodes_ (or output channels) and taking the \"float\" of this nonsensicle! The `.float()` method defined on the injection class gives explicit instruction to generate a new node to handle this transformation on the data values in a delayed manner. We try to add enough such injections to cover your day-to-day needs, but where that fails you simply need to write and use your own node."
   ]
  },
  {
   "cell_type": "markdown",
   "id": "174f818f-59b5-4fba-8519-864a807c4aa8",
   "metadata": {},
   "source": [
    "## Dataclass nodes for grouping inputs\n",
    "\n",
    "The last of the standard approaches for new node functionality is `DataclassNode`. They're a little bit different in that the underlying definition is a class (if it isn't already a `@dataclasses.dataclass` it will be wrapped as one), but otherwise the three standard approaches for making new ones work exactly as for `Macro` and `Function`.\n",
    "\n",
    "Like usual dataclasses, these are for packaging groups of input together into sensible packages, and even allow inheritance for composing together input from different places. The dataclass itself gets stored on the `.dataclass` class attribute of the node class."
   ]
  },
  {
   "cell_type": "code",
   "id": "ae6d7936-3cd1-49e5-893d-1e71a42ced72",
   "metadata": {
    "ExecuteTime": {
     "end_time": "2025-06-18T17:46:41.447420Z",
     "start_time": "2025-06-18T17:46:41.444368Z"
    }
   },
   "source": [
    "@pwf.as_dataclass_node\n",
    "class Car:\n",
    "    color: str\n",
    "    doors: int\n",
    "    wheels: int = 4\n",
    "\n",
    "@pwf.as_dataclass_node\n",
    "class Coupe(Car.dataclass):\n",
    "    doors: int = 2\n",
    "    spoiler: bool = False\n",
    "\n",
    "# Note: Inheritance with dataclasses can be tricky, particularly with regards to the order of \n",
    "# default and non-default parameters. In general, composition is preferable over inheritance and \n",
    "# extension. So this example is somewhat questionable python, but we're just trying to show \n",
    "# some `DataclassNode` syntax, so don't sweat it.\n",
    "\n",
    "Coupe.preview_io()"
   ],
   "outputs": [
    {
     "data": {
      "text/plain": [
       "{'inputs': {'color': (str, NOT_DATA),\n",
       "  'doors': (int, 2),\n",
       "  'wheels': (int, 4),\n",
       "  'spoiler': (bool, False)},\n",
       " 'outputs': {'dataclass': __main__.Coupe.dataclass}}"
      ]
     },
     "execution_count": 66,
     "metadata": {},
     "output_type": "execute_result"
    }
   ],
   "execution_count": 66
  },
  {
   "cell_type": "markdown",
   "id": "65c8f696-703a-465a-9c28-c78c26818a14",
   "metadata": {},
   "source": [
    "We can then leverage the dataclass node as an entry point for users to specify data, and write business logic that accepts the entire dataclass as IO:"
   ]
  },
  {
   "cell_type": "code",
   "id": "70c0a299-90b9-477b-b156-834268858a09",
   "metadata": {
    "ExecuteTime": {
     "end_time": "2025-06-18T17:46:41.487895Z",
     "start_time": "2025-06-18T17:46:41.479290Z"
    }
   },
   "source": [
    "@pwf.as_function_node(\"repainted\")\n",
    "def Repaint(car: Car.dataclass, new_color: str):\n",
    "    car.color = new_color\n",
    "    return car\n",
    "\n",
    "@pwf.as_function_node\n",
    "def SpeedingTicket(car: Car.dataclass):\n",
    "    ticket = 100\n",
    "    if car.color.lower() == \"red\":\n",
    "        # Red cars go faster, everyone knows\n",
    "        ticket += 50\n",
    "    if car.doors < 4:\n",
    "        # Too sporty looking, eh\n",
    "        ticket += 30\n",
    "    return ticket\n",
    "\n",
    "wf = pwf.Workflow(\"a_tale_of_two_tickets\")\n",
    "wf.car = Coupe(color=\"green\")\n",
    "wf.red_car = Repaint(wf.car, \"RED\")\n",
    "wf.ticket = SpeedingTicket(wf.car)\n",
    "wf.red_ticket = SpeedingTicket(wf.red_car)\n",
    "wf()"
   ],
   "outputs": [
    {
     "data": {
      "text/plain": [
       "{'ticket__ticket': 130, 'red_ticket__ticket': 180}"
      ]
     },
     "execution_count": 67,
     "metadata": {},
     "output_type": "execute_result"
    }
   ],
   "execution_count": 67
  },
  {
   "cell_type": "markdown",
   "id": "057c2541-5398-4e6e-98ec-131d3ed3a5ea",
   "metadata": {},
   "source": [
    "## Disabling type hints\n",
    "\n",
    "By default, `pyiron_workflow` is strongly hinted, so you can't pass wrongly-typed values or from incompatibly-hinted connections:"
   ]
  },
  {
   "cell_type": "code",
   "id": "0975cb7b-ac3a-48d5-88e6-fbfd672d98b7",
   "metadata": {
    "ExecuteTime": {
     "end_time": "2025-06-18T17:46:41.523275Z",
     "start_time": "2025-06-18T17:46:41.519529Z"
    }
   },
   "source": [
    "repainted = Repaint()\n",
    "repainted.inputs.new_color = \"light urple\"\n",
    "try:\n",
    "    repainted.recovery = None  # We know this will fail and don't care about a recovery file\n",
    "    repainted.inputs.car = \"a_string_not_a_Car\"\n",
    "except TypeError as e:\n",
    "    print(\"TypeError:\", e)"
   ],
   "outputs": [
    {
     "name": "stdout",
     "output_type": "stream",
     "text": [
      "TypeError: The channel /Repaint.car cannot take the value `a_string_not_a_Car` (<class 'str'>) because it is not compliant with the type hint <class '__main__.Car.dataclass'>\n"
     ]
    }
   ],
   "execution_count": 68
  },
  {
   "cell_type": "markdown",
   "id": "fa660ff3-8e99-433c-9769-cf0dd63b3908",
   "metadata": {},
   "source": [
    "You can forcably disable this, either for a specific channel or at the node-level for all channels:"
   ]
  },
  {
   "cell_type": "code",
   "id": "ed77ecdf-c673-44ea-aa4b-8aa02822f994",
   "metadata": {
    "ExecuteTime": {
     "end_time": "2025-06-18T17:46:41.551619Z",
     "start_time": "2025-06-18T17:46:41.549413Z"
    }
   },
   "source": [
    "repainted = Repaint()\n",
    "repainted.inputs.new_color = \"light urple\"\n",
    "\n",
    "repainted.deactivate_strict_hints()\n",
    "repainted.inputs.car = \"a_string_not_a_Car\""
   ],
   "outputs": [],
   "execution_count": 69
  },
  {
   "cell_type": "markdown",
   "id": "4153f96b-1ab2-4cef-ba35-fb928c33879b",
   "metadata": {},
   "source": [
    "But, at least in this example, it's not a good idea..."
   ]
  },
  {
   "cell_type": "code",
   "id": "869cca6f-a4d2-4a83-87f4-1a1bc0a0161a",
   "metadata": {
    "ExecuteTime": {
     "end_time": "2025-06-18T17:46:41.572110Z",
     "start_time": "2025-06-18T17:46:41.569739Z"
    }
   },
   "source": [
    "try:\n",
    "    repainted.recovery = None  # We know this will fail and don't care about a recovery file\n",
    "    repainted.run()\n",
    "except AttributeError as e:\n",
    "    print(\"AttributeError:\", e)"
   ],
   "outputs": [
    {
     "name": "stdout",
     "output_type": "stream",
     "text": [
      "AttributeError: 'str' object has no attribute 'color'\n"
     ]
    }
   ],
   "execution_count": 70
  },
  {
   "cell_type": "markdown",
   "id": "213bca93-f211-4805-ba09-afb14dc94b42",
   "metadata": {},
   "source": [
    "## Other transformers\n",
    "\n",
    "`DataclassNode` is an example of a \"transformer\" -- a simple tool for converting input to a particular form of output via a node. There are several others, but they are so simple that there is not much flexibility in instantiating them, just use the \"meta\" node to make a new class and new instance at once.\n",
    "\n",
    "Here we just demo them so you know they exist"
   ]
  },
  {
   "cell_type": "code",
   "id": "2176aa21-93e8-441a-996d-d7de308f1e15",
   "metadata": {
    "ExecuteTime": {
     "end_time": "2025-06-18T17:46:41.608244Z",
     "start_time": "2025-06-18T17:46:41.603467Z"
    }
   },
   "source": [
    "i2df = pwf.api.inputs_to_dataframe(3)\n",
    "\n",
    "i2df(\n",
    "    row_0 = {\"strings\": \"a\", \"ints\": 1, \"types\": int},\n",
    "    row_1 = {\"strings\": \"b\", \"ints\": 2, \"types\": float},\n",
    "    row_2 = {\"strings\": \"c\", \"ints\": 3, \"types\": str},\n",
    ")"
   ],
   "outputs": [
    {
     "data": {
      "text/plain": [
       "  strings  ints            types\n",
       "0       a     1    <class 'int'>\n",
       "1       b     2  <class 'float'>\n",
       "2       c     3    <class 'str'>"
      ],
      "text/html": [
       "<div>\n",
       "<style scoped>\n",
       "    .dataframe tbody tr th:only-of-type {\n",
       "        vertical-align: middle;\n",
       "    }\n",
       "\n",
       "    .dataframe tbody tr th {\n",
       "        vertical-align: top;\n",
       "    }\n",
       "\n",
       "    .dataframe thead th {\n",
       "        text-align: right;\n",
       "    }\n",
       "</style>\n",
       "<table border=\"1\" class=\"dataframe\">\n",
       "  <thead>\n",
       "    <tr style=\"text-align: right;\">\n",
       "      <th></th>\n",
       "      <th>strings</th>\n",
       "      <th>ints</th>\n",
       "      <th>types</th>\n",
       "    </tr>\n",
       "  </thead>\n",
       "  <tbody>\n",
       "    <tr>\n",
       "      <th>0</th>\n",
       "      <td>a</td>\n",
       "      <td>1</td>\n",
       "      <td>&lt;class 'int'&gt;</td>\n",
       "    </tr>\n",
       "    <tr>\n",
       "      <th>1</th>\n",
       "      <td>b</td>\n",
       "      <td>2</td>\n",
       "      <td>&lt;class 'float'&gt;</td>\n",
       "    </tr>\n",
       "    <tr>\n",
       "      <th>2</th>\n",
       "      <td>c</td>\n",
       "      <td>3</td>\n",
       "      <td>&lt;class 'str'&gt;</td>\n",
       "    </tr>\n",
       "  </tbody>\n",
       "</table>\n",
       "</div>"
      ]
     },
     "execution_count": 71,
     "metadata": {},
     "output_type": "execute_result"
    }
   ],
   "execution_count": 71
  },
  {
   "cell_type": "code",
   "id": "d4e384e4-02a7-442e-83db-dbe8bb2d56d8",
   "metadata": {
    "ExecuteTime": {
     "end_time": "2025-06-18T17:46:41.672843Z",
     "start_time": "2025-06-18T17:46:41.668639Z"
    }
   },
   "source": [
    "i2d = pwf.api.inputs_to_dict(\n",
    "    input_specification={\n",
    "        \"x\": (None, pwf.api.NOT_DATA),\n",
    "        \"y\": (int, 42)\n",
    "    }\n",
    ")\n",
    "print(i2d.preview_io())\n",
    "i2d(\"foobar\")"
   ],
   "outputs": [
    {
     "name": "stdout",
     "output_type": "stream",
     "text": [
      "{'inputs': {'x': (None, NOT_DATA), 'y': (<class 'int'>, 42)}, 'outputs': {'dict': <class 'dict'>}}\n"
     ]
    },
    {
     "data": {
      "text/plain": [
       "{'x': 'foobar', 'y': 42}"
      ]
     },
     "execution_count": 72,
     "metadata": {},
     "output_type": "execute_result"
    }
   ],
   "execution_count": 72
  },
  {
   "cell_type": "code",
   "id": "27dfa606-6357-471b-9764-598629a401d5",
   "metadata": {
    "ExecuteTime": {
     "end_time": "2025-06-18T17:46:41.746103Z",
     "start_time": "2025-06-18T17:46:41.743228Z"
    }
   },
   "source": [
    "i2l = pwf.api.inputs_to_list(5)\n",
    "i2l(1, 2, 3, \"four\", \"five\")"
   ],
   "outputs": [
    {
     "data": {
      "text/plain": [
       "[1, 2, 3, 'four', 'five']"
      ]
     },
     "execution_count": 73,
     "metadata": {},
     "output_type": "execute_result"
    }
   ],
   "execution_count": 73
  },
  {
   "cell_type": "code",
   "id": "b6aeec11-829d-497f-a86e-c7de057c9247",
   "metadata": {
    "ExecuteTime": {
     "end_time": "2025-06-18T17:46:41.801934Z",
     "start_time": "2025-06-18T17:46:41.799470Z"
    }
   },
   "source": [
    "l2o = pwf.api.list_to_outputs(5)\n",
    "l2o(i2l)"
   ],
   "outputs": [
    {
     "data": {
      "text/plain": [
       "{'item_0': 1, 'item_1': 2, 'item_2': 3, 'item_3': 'four', 'item_4': 'five'}"
      ]
     },
     "execution_count": 74,
     "metadata": {},
     "output_type": "execute_result"
    }
   ],
   "execution_count": 74
  },
  {
   "cell_type": "markdown",
   "id": "3c143e6f-3944-4176-9b20-fc8262bcb2b8",
   "metadata": {},
   "source": [
    "## Workflows\n",
    "\n",
    "Workflows are the main interface point for `pyiron_workflow`, and already discussed in the `quickstart.ipynb`."
   ]
  },
  {
   "cell_type": "markdown",
   "id": "05d33526-8035-4129-87fa-a7d4b9cc76b7",
   "metadata": {},
   "source": [
    "### Workflow IO\n",
    "\n",
    "It bears re-iterating that they differ from all the other nodes we've talked about so far in that their IO _is not static_. It is mutable and varies with the contents of their children. In fact, it gets re-created at each access! And unlike `Macro` nodes, which act as a walled garden, `Workflow` is really giving direct access to the underlying child IO channels:"
   ]
  },
  {
   "cell_type": "code",
   "id": "76081796-532a-49a0-aac1-37872184624a",
   "metadata": {
    "ExecuteTime": {
     "end_time": "2025-06-18T17:46:41.833900Z",
     "start_time": "2025-06-18T17:46:41.831307Z"
    }
   },
   "source": [
    "wf = pwf.Workflow(\"no_wall\")\n",
    "wf.child = pwf.std.UserInput()\n",
    "\n",
    "assert(wf.inputs.child__user_input is wf.child.inputs.user_input)"
   ],
   "outputs": [],
   "execution_count": 75
  },
  {
   "cell_type": "markdown",
   "id": "eeb0b71a-a273-4702-b545-9b8019cac928",
   "metadata": {},
   "source": [
    "If we really want to, we can break the traditional format of `f\"{child.label}__{channel.label}\"` for workflow IO and give it explicit names. Care should be taken that since workflows are mutable, the map may become invalid if the children of the workflow change."
   ]
  },
  {
   "cell_type": "code",
   "id": "5202c396-e0da-418b-be59-cbe877715ad2",
   "metadata": {
    "ExecuteTime": {
     "end_time": "2025-06-18T17:46:41.854167Z",
     "start_time": "2025-06-18T17:46:41.851748Z"
    }
   },
   "source": [
    "wf.inputs_map = {\"child__user_input\": \"inp\"}\n",
    "wf.outputs_map = {\"child__user_input\": \"out\"}\n",
    "\n",
    "wf(inp=\"some data\")"
   ],
   "outputs": [
    {
     "data": {
      "text/plain": [
       "{'out': 'some data'}"
      ]
     },
     "execution_count": 76,
     "metadata": {},
     "output_type": "execute_result"
    }
   ],
   "execution_count": 76
  },
  {
   "cell_type": "markdown",
   "id": "6c8c78a8-24c6-4853-a35a-e4e05d9baa30",
   "metadata": {},
   "source": [
    "### Modifying contents\n",
    "\n",
    "Another way to add a child is to assign the workflow as a parent at instantiation:"
   ]
  },
  {
   "cell_type": "code",
   "id": "139073c2-f4db-477d-9619-d13a9ab6d45c",
   "metadata": {
    "ExecuteTime": {
     "end_time": "2025-06-18T17:46:41.881444Z",
     "start_time": "2025-06-18T17:46:41.879407Z"
    }
   },
   "source": [
    "pwf.std.UserInput(parent=wf)\n",
    "wf.child_labels"
   ],
   "outputs": [
    {
     "data": {
      "text/plain": [
       "('child', 'UserInput')"
      ]
     },
     "execution_count": 77,
     "metadata": {},
     "output_type": "execute_result"
    }
   ],
   "execution_count": 77
  },
  {
   "cell_type": "markdown",
   "id": "273ea4bf-12e4-4bb0-b5bb-629a60d1f9a5",
   "metadata": {},
   "source": [
    "The key difference between these is that in the latter case, the child node finds out it is a child of the workflow _at instantiation_, while assigning a node to the workflow first fully instantiates it (with some default label, like we see above) and then parents it to the workflow and updates its label according to the workflow attribute name we're using.\n",
    "\n",
    "You can also invoke the `add_child` method to add a node instance as a child directly. If we try this naively, we'll see that the automated name will conflict with an existing child that also used its automated name:"
   ]
  },
  {
   "cell_type": "code",
   "id": "50387019-2f3f-4e4b-92da-11a4283b9405",
   "metadata": {
    "ExecuteTime": {
     "end_time": "2025-06-18T17:46:41.911251Z",
     "start_time": "2025-06-18T17:46:41.909224Z"
    }
   },
   "source": [
    "try:\n",
    "    wf.add_child(pwf.std.UserInput())\n",
    "except AttributeError as e:\n",
    "    print(\"AttributeError:\", e)"
   ],
   "outputs": [
    {
     "name": "stdout",
     "output_type": "stream",
     "text": [
      "AttributeError: UserInput is already the label for a child. Please remove it before assigning another child to this label.\n"
     ]
    }
   ],
   "execution_count": 78
  },
  {
   "cell_type": "markdown",
   "id": "03718bf7-521f-40dc-acdf-a898734c39a6",
   "metadata": {},
   "source": [
    "We could give the child a different name, or we can just allow the workflow to dynamically re-name conflicts:"
   ]
  },
  {
   "cell_type": "code",
   "id": "eb45a311-ec0a-474f-b17d-3b58ae111b7e",
   "metadata": {
    "ExecuteTime": {
     "end_time": "2025-06-18T17:46:41.942788Z",
     "start_time": "2025-06-18T17:46:41.940450Z"
    }
   },
   "source": [
    "wf.strict_naming = False\n",
    "wf.add_child(pwf.std.UserInput())\n",
    "wf.child_labels"
   ],
   "outputs": [
    {
     "data": {
      "text/plain": [
       "('child', 'UserInput', 'UserInput0')"
      ]
     },
     "execution_count": 79,
     "metadata": {},
     "output_type": "execute_result"
    }
   ],
   "execution_count": 79
  },
  {
   "cell_type": "markdown",
   "id": "349e7a94-8b09-4ba7-8ec8-fcf3135e41bd",
   "metadata": {},
   "source": [
    "In a similar way we can remove children by name"
   ]
  },
  {
   "cell_type": "code",
   "id": "d280ff55-65f1-4a35-adf2-bae284d53fce",
   "metadata": {
    "ExecuteTime": {
     "end_time": "2025-06-18T17:46:41.966023Z",
     "start_time": "2025-06-18T17:46:41.963989Z"
    }
   },
   "source": [
    "wf.remove_child(\"child\")\n",
    "wf.child_labels"
   ],
   "outputs": [
    {
     "data": {
      "text/plain": [
       "('UserInput', 'UserInput0')"
      ]
     },
     "execution_count": 80,
     "metadata": {},
     "output_type": "execute_result"
    }
   ],
   "execution_count": 80
  },
  {
   "cell_type": "markdown",
   "id": "c51a48f3-0eab-49de-874b-5fdb2a107010",
   "metadata": {},
   "source": [
    "or by instance"
   ]
  },
  {
   "cell_type": "code",
   "id": "6d671322-0212-4462-a7eb-2b7e1f870799",
   "metadata": {
    "ExecuteTime": {
     "end_time": "2025-06-18T17:46:41.983457Z",
     "start_time": "2025-06-18T17:46:41.981608Z"
    }
   },
   "source": [
    "wf.remove_child(wf.UserInput)\n",
    "wf.child_labels"
   ],
   "outputs": [
    {
     "data": {
      "text/plain": [
       "('UserInput0',)"
      ]
     },
     "execution_count": 81,
     "metadata": {},
     "output_type": "execute_result"
    }
   ],
   "execution_count": 81
  },
  {
   "cell_type": "markdown",
   "id": "1b917f0a-c354-4fc1-90dc-04bd828da405",
   "metadata": {},
   "source": [
    "We can also replace children, with the caveat that the replacement must have commensurate IO with what is being replaced"
   ]
  },
  {
   "cell_type": "code",
   "id": "5f8f3478-d9e5-46c9-96c2-6af101f30173",
   "metadata": {
    "ExecuteTime": {
     "end_time": "2025-06-18T17:46:42.012816Z",
     "start_time": "2025-06-18T17:46:42.009847Z"
    }
   },
   "source": [
    "replacement = pwf.std.UserInput(42)\n",
    "\n",
    "print(wf.UserInput0.inputs.user_input.value)\n",
    "wf.replace_child(wf.UserInput0, replacement)\n",
    "print(wf.UserInput0.inputs.user_input.value)"
   ],
   "outputs": [
    {
     "name": "stdout",
     "output_type": "stream",
     "text": [
      "NOT_DATA\n",
      "42\n"
     ]
    }
   ],
   "execution_count": 82
  },
  {
   "cell_type": "markdown",
   "id": "5093b50f-3d2e-41ef-8e66-6bb884a0f027",
   "metadata": {},
   "source": [
    "### Dictionary representation\n",
    "\n",
    "You can get a simple dictionary representation of a given workflow (or macro) with a `'nodes'` subdictionary linking full labels to node instances, and an `'edges'` dictionary further decomposed into `'data'` and `'signals'` that use tuples of full labels as keys for tuples of (output, input) channel instances:"
   ]
  },
  {
   "cell_type": "code",
   "id": "9d2cab07-0e64-495f-accd-338eef3e2822",
   "metadata": {
    "ExecuteTime": {
     "end_time": "2025-06-18T17:46:42.049573Z",
     "start_time": "2025-06-18T17:46:42.044276Z"
    }
   },
   "source": [
    "wf = pwf.Workflow(\"graph_as_dict\")\n",
    "wf.inp = pwf.std.UserInput(42)\n",
    "wf.a = wf.inp + 2\n",
    "wf.b = wf.inp + 4\n",
    "wf.out = wf.a * wf.b\n",
    "wf.graph_as_dict"
   ],
   "outputs": [
    {
     "data": {
      "text/plain": [
       "{'object': <pyiron_workflow.workflow.Workflow at 0x15a4ba3f0>,\n",
       " 'nodes': {'/graph_as_dict/inp': <pyiron_workflow.nodes.standard.UserInput at 0x15a4b9400>,\n",
       "  '/graph_as_dict/a': <pyiron_workflow.nodes.standard.Add at 0x15a4ba750>,\n",
       "  '/graph_as_dict/b': <pyiron_workflow.nodes.standard.Add at 0x15a493ef0>,\n",
       "  '/graph_as_dict/out': <pyiron_workflow.nodes.standard.Multiply at 0x15a491e20>},\n",
       " 'edges': {'data': {('/graph_as_dict/inp.user_input',\n",
       "    '/graph_as_dict/b.obj'): (<pyiron_workflow.mixin.injection.OutputDataWithInjection at 0x15a4ba660>,\n",
       "    <pyiron_workflow.channels.InputData at 0x15a4b9910>),\n",
       "   ('/graph_as_dict/inp.user_input',\n",
       "    '/graph_as_dict/a.obj'): (<pyiron_workflow.mixin.injection.OutputDataWithInjection at 0x15a4ba660>, <pyiron_workflow.channels.InputData at 0x15a492780>),\n",
       "   ('/graph_as_dict/a.add',\n",
       "    '/graph_as_dict/out.obj'): (<pyiron_workflow.mixin.injection.OutputDataWithInjection at 0x15a492a80>, <pyiron_workflow.channels.InputData at 0x15a4bab10>),\n",
       "   ('/graph_as_dict/b.add',\n",
       "    '/graph_as_dict/out.other'): (<pyiron_workflow.mixin.injection.OutputDataWithInjection at 0x15a4b9760>, <pyiron_workflow.channels.InputData at 0x15a4baed0>)},\n",
       "  'signal': {}}}"
      ]
     },
     "execution_count": 83,
     "metadata": {},
     "output_type": "execute_result"
    }
   ],
   "execution_count": 83
  },
  {
   "cell_type": "markdown",
   "id": "111fafb5-22f9-4309-b0e6-5025c8325af7",
   "metadata": {},
   "source": [
    "### Signal flow is created at runtime\n",
    "\n",
    "Just like the IO for a workflow is created at runtime, unless automatic execution is explicitly disabled, the execution signals are empty until a run is triggered. This is why the `'signals'` sub-dictionary above is empty. We can create them from the DAG data flow with a run call:"
   ]
  },
  {
   "cell_type": "code",
   "id": "a1055134-0488-4860-b2c8-e99f79cbdf8a",
   "metadata": {
    "ExecuteTime": {
     "end_time": "2025-06-18T17:46:42.072774Z",
     "start_time": "2025-06-18T17:46:42.070276Z"
    }
   },
   "source": [
    "wf()\n",
    "for (ran, run) in wf.graph_as_dict[\"edges\"][\"signal\"].keys():\n",
    "    print(ran, \"-->\", run)"
   ],
   "outputs": [
    {
     "name": "stdout",
     "output_type": "stream",
     "text": [
      "/graph_as_dict/inp.ran --> /graph_as_dict/b.accumulate_and_run\n",
      "/graph_as_dict/inp.ran --> /graph_as_dict/a.accumulate_and_run\n",
      "/graph_as_dict/a.ran --> /graph_as_dict/out.accumulate_and_run\n",
      "/graph_as_dict/b.ran --> /graph_as_dict/out.accumulate_and_run\n"
     ]
    }
   ],
   "execution_count": 84
  },
  {
   "cell_type": "markdown",
   "id": "95409984-0ab3-4f6b-a5e4-29f896733034",
   "metadata": {},
   "source": [
    "## `NOT_DATA` because `None` is real\n",
    "\n",
    "You will notice that the default value for node input is `NOT_DATA`. This is because `None` is a real and valid input for many functions, e.g. instead of having a mutable input a function might have `some_list_input = [] if some_list_input is None else some_list_input`. `NOT_DATA` is our way of not stepping on the toes of such uses of `None`.\n",
    "\n",
    "There's not a lot to this, except to note that `NOT_DATA` is a \"singleton\", so all its occurrences will pass an \"is\" test:"
   ]
  },
  {
   "cell_type": "code",
   "id": "5cba153a-f03d-4449-bdf2-c84862ec45ae",
   "metadata": {
    "ExecuteTime": {
     "end_time": "2025-06-18T17:46:42.098961Z",
     "start_time": "2025-06-18T17:46:42.096588Z"
    }
   },
   "source": "assert(pwf.std.UserInput().inputs.user_input.value is pwf.api.NOT_DATA)",
   "outputs": [],
   "execution_count": 85
  },
  {
   "cell_type": "markdown",
   "id": "d18c6eba-3a78-448e-92c2-22f317573f39",
   "metadata": {},
   "source": [
    "## Uniqueness of input connections\n",
    "\n",
    "Each data input can have at most one incoming connection.\n",
    "Trying to add more will result in an exception:"
   ]
  },
  {
   "cell_type": "code",
   "id": "10202174-6543-4ac9-bd9f-3a13c3501842",
   "metadata": {
    "ExecuteTime": {
     "end_time": "2025-06-18T17:46:42.115332Z",
     "start_time": "2025-06-18T17:46:42.113236Z"
    }
   },
   "source": [
    "source1 = pwf.std.UserInput(label=\"source1\")\n",
    "source2 = pwf.std.UserInput(label=\"source2\")\n",
    "receiver = pwf.std.UserInput(42, label=\"receiver\")\n",
    "\n",
    "receiver.inputs.user_input.connect(source1.outputs.user_input)\n",
    "\n",
    "try:\n",
    "    receiver.inputs.user_input.connect(source2.outputs.user_input)\n",
    "except Exception as e:\n",
    "    print(e)"
   ],
   "outputs": [
    {
     "name": "stdout",
     "output_type": "stream",
     "text": [
      "/receiver.user_input is already connected to /source1.user_input -- disconnect first before trying to connect to /source2.user_input\n"
     ]
    }
   ],
   "execution_count": 86
  },
  {
   "metadata": {},
   "cell_type": "markdown",
   "source": "We could disconnect the input manually, but when we create connections by assignment to a panel of inputs, this gets handled on our behalf. Input channels still distinguish between their connections and their value, but otherwise this sort of over-writing should feel very natural and pythonic -- after assigning a new output channel to our input, the old assignment is forgotten:",
   "id": "ab33a96b76f4038f"
  },
  {
   "metadata": {
    "ExecuteTime": {
     "end_time": "2025-06-18T17:46:42.133201Z",
     "start_time": "2025-06-18T17:46:42.131528Z"
    }
   },
   "cell_type": "code",
   "source": "receiver.inputs.user_input = source2",
   "id": "1b5b12054dec7061",
   "outputs": [],
   "execution_count": 87
  },
  {
   "cell_type": "code",
   "id": "4c3f2e88-3a5e-4115-9a36-5d17326c4e7b",
   "metadata": {
    "ExecuteTime": {
     "end_time": "2025-06-18T17:46:42.161861Z",
     "start_time": "2025-06-18T17:46:42.159804Z"
    }
   },
   "source": [
    "source1(0)\n",
    "source2(100)\n",
    "receiver.run(run_data_tree=False)"
   ],
   "outputs": [
    {
     "data": {
      "text/plain": [
       "100"
      ]
     },
     "execution_count": 88,
     "metadata": {},
     "output_type": "execute_result"
    }
   ],
   "execution_count": 88
  },
  {
   "metadata": {
    "ExecuteTime": {
     "end_time": "2025-06-18T17:46:42.195787Z",
     "start_time": "2025-06-18T17:46:42.194244Z"
    }
   },
   "cell_type": "code",
   "source": "assert(receiver.outputs.user_input.value == source2.outputs.user_input.value)",
   "id": "19de6fcbf6582e5a",
   "outputs": [],
   "execution_count": 89
  },
  {
   "cell_type": "markdown",
   "id": "9a9ba00d-842c-4e75-a220-ea7da32b9ab6",
   "metadata": {},
   "source": [
    "## Caching\n",
    "\n",
    "By default, all nodes exploit caching. I.e. when they run they save a fresh dictionary of their input values; in all subsequent runs if the dictionary of their current input values matches (`==`) that last-used dictionary, they skip executing altogether and leverage their existing outputs.\n",
    "\n",
    "Any changes to the inputs will obviously stop the cache from being retrieved, but for `Composite` nodes it is also reset if any child nodes are added/removed/replaced.\n",
    "\n",
    "Note that since we do a simple `==` on the dictionary of input values, if your workflow non-idempotently passes around mutable data, it's possible you'll wind up in a situation where you get a false cache hit.\n",
    "\n",
    "Caching behaviour can be defined at the class-level as a default, but can be overridden for individual nodes. Let's take a look:"
   ]
  },
  {
   "cell_type": "code",
   "id": "5a3b01be-6539-4617-98c0-30ef008b394d",
   "metadata": {
    "ExecuteTime": {
     "end_time": "2025-06-18T17:46:42.215321Z",
     "start_time": "2025-06-18T17:46:42.210732Z"
    }
   },
   "source": [
    "import random \n",
    "\n",
    "@pwf.as_function_node(use_cache=False)\n",
    "def Randint(low=0, high=999):\n",
    "    rand = random.randint(low, high)\n",
    "    return rand\n",
    "\n",
    "wf = pwf.Workflow(\"mixed_caching\")\n",
    "wf.use_cache = False  # Turn _off_ caching for the whole workflow!\n",
    "\n",
    "wf.always_new = Randint()\n",
    "wf.cached = Randint()\n",
    "wf.cached.use_cache = True  # Turn _on_ caching for this node\n",
    "\n",
    "wf()"
   ],
   "outputs": [
    {
     "data": {
      "text/plain": [
       "{'always_new__rand': 437, 'cached__rand': 511}"
      ]
     },
     "execution_count": 90,
     "metadata": {},
     "output_type": "execute_result"
    }
   ],
   "execution_count": 90
  },
  {
   "cell_type": "markdown",
   "id": "a556920b-3d8a-42b2-b480-ae9b95ea1207",
   "metadata": {},
   "source": [
    "Running the same workflow again, we see that the cached node just keeps returning the same \"random\" number, while the un-cached node gives us something new"
   ]
  },
  {
   "cell_type": "code",
   "id": "3bf5d930-901b-4067-be74-b82847bc82fd",
   "metadata": {
    "ExecuteTime": {
     "end_time": "2025-06-18T17:46:42.231235Z",
     "start_time": "2025-06-18T17:46:42.228935Z"
    }
   },
   "source": [
    "wf()"
   ],
   "outputs": [
    {
     "data": {
      "text/plain": [
       "{'always_new__rand': 128, 'cached__rand': 511}"
      ]
     },
     "execution_count": 91,
     "metadata": {},
     "output_type": "execute_result"
    }
   ],
   "execution_count": 91
  },
  {
   "cell_type": "markdown",
   "id": "8ccfd26a-bace-4eba-922e-7fb6f950cf93",
   "metadata": {},
   "source": [
    "If we look into the caching data, we can see that the non-caching node has not stored any inputs and does not register a cache hit; even if we had previously cached something, if we switch to `use_cache = False`, we won't even look for the cache hit but will just give new data!"
   ]
  },
  {
   "cell_type": "code",
   "id": "60adbd5e-94d9-44fd-847c-ebc4b9b3ad2c",
   "metadata": {
    "ExecuteTime": {
     "end_time": "2025-06-18T17:46:42.251145Z",
     "start_time": "2025-06-18T17:46:42.249257Z"
    }
   },
   "source": [
    "for node in wf:\n",
    "    print(node.label, node.inputs.to_value_dict(), node._cached_inputs, node.cache_hit)"
   ],
   "outputs": [
    {
     "name": "stdout",
     "output_type": "stream",
     "text": [
      "always_new {'low': 0, 'high': 999} None False\n",
      "cached {'low': 0, 'high': 999} {'low': 0, 'high': 999} True\n"
     ]
    }
   ],
   "execution_count": 92
  },
  {
   "cell_type": "markdown",
   "id": "ecab079a-a757-4276-9b22-5a1d1b771b06",
   "metadata": {},
   "source": [
    "## Mutability\n",
    "\n",
    "In `pyiron_workflow` it's a best-practice to make your nodes functional and idempotent -- i.e. they should not mutate mutable input data! This is python, so we're not going to stop you from doing it, and maybe you'll hit a situation where you really need to...but it's not recommended.\n",
    "\n",
    "Here we'll show a concrete example of what happens when you mutate data, and how this can interact with caching to wind up skipping things you think you should be running."
   ]
  },
  {
   "cell_type": "code",
   "id": "fe539e8c-c7e0-4b93-b734-93f1c417f5d9",
   "metadata": {
    "ExecuteTime": {
     "end_time": "2025-06-18T17:46:42.277492Z",
     "start_time": "2025-06-18T17:46:42.270788Z"
    }
   },
   "source": [
    "@pwf.as_function_node\n",
    "def SayMyName(name: str, collection: list[str]) -> tuple[str, list[str]]:\n",
    "    collection.append(name)\n",
    "    my_name_is = f\"My name is {name}, and I've collected {collection}\"\n",
    "    print(my_name_is)\n",
    "    return my_name_is, collection\n",
    "\n",
    "wf = pwf.Workflow(\"mutable_trouble\")\n",
    "wf.a = SayMyName(\"Alice\", [])\n",
    "wf.b = SayMyName(\"Bob\", wf.a.outputs.collection)\n",
    "wf.c = SayMyName(\"Chandy\", wf.b.outputs.collection)\n",
    "wf.d = SayMyName(\"Deng\", wf.c.outputs.collection)\n",
    "wf()"
   ],
   "outputs": [
    {
     "name": "stdout",
     "output_type": "stream",
     "text": [
      "My name is Alice, and I've collected ['Alice']\n",
      "My name is Bob, and I've collected ['Alice', 'Bob']\n",
      "My name is Chandy, and I've collected ['Alice', 'Bob', 'Chandy']\n",
      "My name is Deng, and I've collected ['Alice', 'Bob', 'Chandy', 'Deng']\n"
     ]
    },
    {
     "data": {
      "text/plain": [
       "{'a__my_name_is': \"My name is Alice, and I've collected ['Alice']\",\n",
       " 'b__my_name_is': \"My name is Bob, and I've collected ['Alice', 'Bob']\",\n",
       " 'c__my_name_is': \"My name is Chandy, and I've collected ['Alice', 'Bob', 'Chandy']\",\n",
       " 'd__my_name_is': \"My name is Deng, and I've collected ['Alice', 'Bob', 'Chandy', 'Deng']\",\n",
       " 'd__collection': ['Alice', 'Bob', 'Chandy', 'Deng']}"
      ]
     },
     "execution_count": 93,
     "metadata": {},
     "output_type": "execute_result"
    }
   ],
   "execution_count": 93
  },
  {
   "cell_type": "markdown",
   "id": "28d65823-4f08-4ebc-bb17-0bb87ad00d7b",
   "metadata": {},
   "source": [
    "So far everything looks good... but beneath the water trouble is lurking! Our mutable `collection` list is input for _all_ our nodes! That means the \"functional\" contract that the current output of a node corresponds to what it will return if it is run with its current input:"
   ]
  },
  {
   "cell_type": "code",
   "id": "5fa37d8f-867a-4d6e-90ad-e7d9f2b8989f",
   "metadata": {
    "ExecuteTime": {
     "end_time": "2025-06-18T17:46:42.301073Z",
     "start_time": "2025-06-18T17:46:42.299099Z"
    }
   },
   "source": [
    "wf.a.inputs.to_value_dict()"
   ],
   "outputs": [
    {
     "data": {
      "text/plain": [
       "{'name': 'Alice', 'collection': ['Alice', 'Bob', 'Chandy', 'Deng']}"
      ]
     },
     "execution_count": 94,
     "metadata": {},
     "output_type": "execute_result"
    }
   ],
   "execution_count": 94
  },
  {
   "cell_type": "code",
   "id": "1ca3009f-e207-4aae-8628-d27a868109d2",
   "metadata": {
    "ExecuteTime": {
     "end_time": "2025-06-18T17:46:42.320973Z",
     "start_time": "2025-06-18T17:46:42.319068Z"
    }
   },
   "source": [
    "wf.a.outputs.to_value_dict()"
   ],
   "outputs": [
    {
     "data": {
      "text/plain": [
       "{'my_name_is': \"My name is Alice, and I've collected ['Alice']\",\n",
       " 'collection': ['Alice', 'Bob', 'Chandy', 'Deng']}"
      ]
     },
     "execution_count": 95,
     "metadata": {},
     "output_type": "execute_result"
    }
   ],
   "execution_count": 95
  },
  {
   "cell_type": "markdown",
   "id": "55ad05c4-48a0-4b97-9e8c-a2c4ba3ecffd",
   "metadata": {},
   "source": [
    "It is painfully obvious that the immutable `'my_name_is'` result doesn't correspond to the alleged input, but the `'collection'` doesn't either as the _last_ element should be `'Alice'` regardless of what collection was passed in."
   ]
  },
  {
   "cell_type": "markdown",
   "id": "049cc61e-c7ae-4ba1-adce-5b09390b7839",
   "metadata": {},
   "source": [
    "This effect also impacts the caching, since the _cached_ inputs are also subject to mutability!"
   ]
  },
  {
   "cell_type": "code",
   "id": "954cac45-566e-4135-8b03-6ca2bf337cb2",
   "metadata": {
    "ExecuteTime": {
     "end_time": "2025-06-18T17:46:42.344069Z",
     "start_time": "2025-06-18T17:46:42.342028Z"
    }
   },
   "source": [
    "wf.a._cached_inputs"
   ],
   "outputs": [
    {
     "data": {
      "text/plain": [
       "{'name': 'Alice', 'collection': ['Alice', 'Bob', 'Chandy', 'Deng']}"
      ]
     },
     "execution_count": 96,
     "metadata": {},
     "output_type": "execute_result"
    }
   ],
   "execution_count": 96
  },
  {
   "cell_type": "markdown",
   "id": "4f7f7cf1-9e94-44a7-8d01-01f38900d2f2",
   "metadata": {},
   "source": [
    "Thus, we're going to encounter the `inputs == _cached_inputs` whether we want it or not, so if we try to re-run the workflow nothing will happen:"
   ]
  },
  {
   "cell_type": "code",
   "id": "ca5e08d3-e3d9-4b6c-99b9-a05521bbaf23",
   "metadata": {
    "ExecuteTime": {
     "end_time": "2025-06-18T17:46:42.367961Z",
     "start_time": "2025-06-18T17:46:42.364831Z"
    }
   },
   "source": [
    "wf()"
   ],
   "outputs": [
    {
     "data": {
      "text/plain": [
       "{'a__my_name_is': \"My name is Alice, and I've collected ['Alice']\",\n",
       " 'b__my_name_is': \"My name is Bob, and I've collected ['Alice', 'Bob']\",\n",
       " 'c__my_name_is': \"My name is Chandy, and I've collected ['Alice', 'Bob', 'Chandy']\",\n",
       " 'd__my_name_is': \"My name is Deng, and I've collected ['Alice', 'Bob', 'Chandy', 'Deng']\",\n",
       " 'd__collection': ['Alice', 'Bob', 'Chandy', 'Deng']}"
      ]
     },
     "execution_count": 97,
     "metadata": {},
     "output_type": "execute_result"
    }
   ],
   "execution_count": 97
  },
  {
   "cell_type": "markdown",
   "id": "b8dba253-ca75-4ba7-a252-975c7dc55383",
   "metadata": {},
   "source": [
    "As seen in the caching section, we can disable caching altogether to force the workflow to re-run, despite its mutable data:"
   ]
  },
  {
   "cell_type": "code",
   "id": "6ce2a6ad-b241-48e8-8303-19f2a64c5a26",
   "metadata": {
    "ExecuteTime": {
     "end_time": "2025-06-18T17:46:42.389028Z",
     "start_time": "2025-06-18T17:46:42.386116Z"
    }
   },
   "source": [
    "for n in wf:\n",
    "    n.use_cache = False\n",
    "wf()"
   ],
   "outputs": [
    {
     "data": {
      "text/plain": [
       "{'a__my_name_is': \"My name is Alice, and I've collected ['Alice']\",\n",
       " 'b__my_name_is': \"My name is Bob, and I've collected ['Alice', 'Bob']\",\n",
       " 'c__my_name_is': \"My name is Chandy, and I've collected ['Alice', 'Bob', 'Chandy']\",\n",
       " 'd__my_name_is': \"My name is Deng, and I've collected ['Alice', 'Bob', 'Chandy', 'Deng']\",\n",
       " 'd__collection': ['Alice', 'Bob', 'Chandy', 'Deng']}"
      ]
     },
     "execution_count": 98,
     "metadata": {},
     "output_type": "execute_result"
    }
   ],
   "execution_count": 98
  },
  {
   "cell_type": "markdown",
   "id": "3af541f0-0eab-4d7f-be32-cd906bd1fc5a",
   "metadata": {},
   "source": [
    "## Flow control\n",
    "\n",
    "Workflows and macros automatically generate execution signal connections based on the topology of the data flow (once at instantiation for macros, and at each run for workflows). This is possible if and only if the data flow forms a directed acyclic graph (DAG). It's possible you may want to impose a particular execution order even when there is no direct data dependence between two nodes (although this is a bit of a code smell, and you should seriously ask _should_ these nodes have a data dependence?)\n",
    "\n",
    "Under the hood, when each node finishes running, it fires off all the signals in its `emitting_channels` property. Typically this is just `ran`, but the standard library `If` node shows an example of how this can be extended:"
   ]
  },
  {
   "cell_type": "code",
   "id": "6f15aa9c-c51e-4646-bba4-9debb7840031",
   "metadata": {
    "ExecuteTime": {
     "end_time": "2025-06-18T17:46:42.411703Z",
     "start_time": "2025-06-18T17:46:42.408506Z"
    }
   },
   "source": "pwf.std.If.emitting_channels??",
   "outputs": [],
   "execution_count": 99
  },
  {
   "cell_type": "markdown",
   "id": "c0fa89a2-41b4-4a24-ae74-07450404653c",
   "metadata": {},
   "source": [
    "These output signal channels can be connected to input signal channels which trigger functions on their owner -- a `run` command for the default input signal channels. This can happen directly (when unparented nodes are connected) or by the mediation of a parent (if the nodes belong to a workflow or macro)."
   ]
  },
  {
   "cell_type": "markdown",
   "id": "ef7a9c52-1562-40d3-ae06-5fa9e8298ea1",
   "metadata": {},
   "source": [
    "The two standard input signals are `run`, which triggers a run whenever _any_ of its connections emits, or `accumulate_and_run`, which triggers a run after _all_ of its connections have emitted at least once:"
   ]
  },
  {
   "cell_type": "code",
   "id": "3cec7b96-2ad4-48f8-bd30-ac022ee8a758",
   "metadata": {
    "ExecuteTime": {
     "end_time": "2025-06-18T17:46:42.507377Z",
     "start_time": "2025-06-18T17:46:42.501460Z"
    }
   },
   "source": [
    "@pwf.as_function_node\n",
    "def Verbose(x, y, z):\n",
    "    print(x, y, z)\n",
    "    return z\n",
    "\n",
    "wf = pwf.Workflow(\"run_control\")\n",
    "wf.start = Verbose(\"\", \"\", \"start\")\n",
    "wf.immediate = Verbose(wf.start, \"\", \"immediate\")\n",
    "wf.collecting = Verbose(wf.start, wf.immediate, \"collecting\")\n",
    "\n",
    "wf.immediate.signals.input.run = wf.start.signals.output.ran\n",
    "wf.collecting.signals.input.accumulate_and_run = wf.start.signals.output.ran\n",
    "wf.collecting.signals.input.accumulate_and_run = wf.immediate.signals.output.ran\n",
    "\n",
    "wf.starting_nodes = [wf.start]\n",
    "\n",
    "# If _any_ signals are manually set, then _all_ signals and starting nodes must be set\n",
    "# There is no mixing and matching\n",
    "\n",
    "wf.automate_execution = False  # This flag is needed only for Workflows, but not in Macro definitions\n",
    "\n",
    "wf()"
   ],
   "outputs": [
    {
     "name": "stdout",
     "output_type": "stream",
     "text": [
      "  start\n",
      "start  immediate\n",
      "start immediate collecting\n"
     ]
    },
    {
     "data": {
      "text/plain": [
       "{'collecting__z': 'collecting'}"
      ]
     },
     "execution_count": 100,
     "metadata": {},
     "output_type": "execute_result"
    }
   ],
   "execution_count": 100
  },
  {
   "cell_type": "code",
   "id": "d27bb0d5-26ea-4675-8fda-e4ce0b489591",
   "metadata": {
    "ExecuteTime": {
     "end_time": "2025-06-18T17:46:43.056795Z",
     "start_time": "2025-06-18T17:46:42.536065Z"
    }
   },
   "source": [
    "wf.draw(size=(10, 10))"
   ],
   "outputs": [
    {
     "data": {
      "image/svg+xml": "<?xml version=\"1.0\" encoding=\"UTF-8\" standalone=\"no\"?>\n<!DOCTYPE svg PUBLIC \"-//W3C//DTD SVG 1.1//EN\"\n \"http://www.w3.org/Graphics/SVG/1.1/DTD/svg11.dtd\">\n<!-- Generated by graphviz version 12.0.0 (0)\n -->\n<!-- Title: clusterrun_control Pages: 1 -->\n<svg width=\"720pt\" height=\"258pt\"\n viewBox=\"0.00 0.00 720.00 257.77\" xmlns=\"http://www.w3.org/2000/svg\" xmlns:xlink=\"http://www.w3.org/1999/xlink\">\n<g id=\"graph0\" class=\"graph\" transform=\"scale(0.51554 0.51554) rotate(0) translate(4 496)\">\n<title>clusterrun_control</title>\n<polygon fill=\"white\" stroke=\"none\" points=\"-4,4 -4,-496 1392.59,-496 1392.59,4 -4,4\"/>\n<text text-anchor=\"middle\" x=\"694.3\" y=\"-5.7\" font-family=\"Helvetica,sans-Serif\" font-size=\"14.00\">run_control: Workflow</text>\n<g id=\"clust1\" class=\"cluster\">\n<title>clusterrun_controlInputs</title>\n<defs>\n<linearGradient id=\"clust1_l_0\" gradientUnits=\"userSpaceOnUse\" x1=\"8\" y1=\"-257.5\" x2=\"166.75\" y2=\"-257.5\" >\n<stop offset=\"0\" style=\"stop-color:#a5a4a5;stop-opacity:1.;\"/>\n<stop offset=\"1\" style=\"stop-color:#e4e3e4;stop-opacity:1.;\"/>\n</linearGradient>\n</defs>\n<polygon fill=\"url(#clust1_l_0)\" stroke=\"#a5a4a5\" points=\"8,-31 8,-484 166.75,-484 166.75,-31 8,-31\"/>\n<text text-anchor=\"middle\" x=\"87.38\" y=\"-466.7\" font-family=\"Helvetica,sans-Serif\" font-size=\"14.00\">Inputs</text>\n</g>\n<g id=\"clust2\" class=\"cluster\">\n<title>clusterrun_controlOutputsWithInjection</title>\n<defs>\n<linearGradient id=\"clust2_l_1\" gradientUnits=\"userSpaceOnUse\" x1=\"1383\" y1=\"-176.5\" x2=\"1241\" y2=\"-176.5\" >\n<stop offset=\"0\" style=\"stop-color:#a5a4a5;stop-opacity:1.;\"/>\n<stop offset=\"1\" style=\"stop-color:#e4e3e4;stop-opacity:1.;\"/>\n</linearGradient>\n</defs>\n<polygon fill=\"url(#clust2_l_1)\" stroke=\"#a5a4a5\" points=\"1241,-85 1241,-268 1383,-268 1383,-85 1241,-85\"/>\n<text text-anchor=\"middle\" x=\"1312\" y=\"-250.7\" font-family=\"Helvetica,sans-Serif\" font-size=\"14.00\">OutputsWithInjection</text>\n</g>\n<g id=\"clust3\" class=\"cluster\">\n<title>clusterrun_controlstart</title>\n<defs>\n<linearGradient id=\"clust3_l_2\" gradientUnits=\"userSpaceOnUse\" x1=\"178.75\" y1=\"-296\" x2=\"523.5\" y2=\"-296\" >\n<stop offset=\"0\" style=\"stop-color:#bfe2bf;stop-opacity:1.;\"/>\n<stop offset=\"1\" style=\"stop-color:#bfe2bf;stop-opacity:1.;\"/>\n</linearGradient>\n</defs>\n<polygon fill=\"url(#clust3_l_2)\" stroke=\"#2ca02c\" stroke-width=\"2\" points=\"178.75,-131 178.75,-461 523.5,-461 523.5,-131 178.75,-131\"/>\n<text text-anchor=\"middle\" x=\"351.13\" y=\"-443.7\" font-family=\"Helvetica,sans-Serif\" font-size=\"14.00\">start: Verbose</text>\n</g>\n<g id=\"clust4\" class=\"cluster\">\n<title>clusterrun_controlstartInputs</title>\n<defs>\n<linearGradient id=\"clust4_l_3\" gradientUnits=\"userSpaceOnUse\" x1=\"186.75\" y1=\"-284.5\" x2=\"345.5\" y2=\"-284.5\" >\n<stop offset=\"0\" style=\"stop-color:#a5a4a5;stop-opacity:1.;\"/>\n<stop offset=\"1\" style=\"stop-color:#e4e3e4;stop-opacity:1.;\"/>\n</linearGradient>\n</defs>\n<polygon fill=\"url(#clust4_l_3)\" stroke=\"#a5a4a5\" points=\"186.75,-139 186.75,-430 345.5,-430 345.5,-139 186.75,-139\"/>\n<text text-anchor=\"middle\" x=\"266.13\" y=\"-412.7\" font-family=\"Helvetica,sans-Serif\" font-size=\"14.00\">Inputs</text>\n</g>\n<g id=\"clust5\" class=\"cluster\">\n<title>clusterrun_controlstartOutputsWithInjection</title>\n<defs>\n<linearGradient id=\"clust5_l_4\" gradientUnits=\"userSpaceOnUse\" x1=\"515.5\" y1=\"-302.5\" x2=\"373.5\" y2=\"-302.5\" >\n<stop offset=\"0\" style=\"stop-color:#a5a4a5;stop-opacity:1.;\"/>\n<stop offset=\"1\" style=\"stop-color:#e4e3e4;stop-opacity:1.;\"/>\n</linearGradient>\n</defs>\n<polygon fill=\"url(#clust5_l_4)\" stroke=\"#a5a4a5\" points=\"373.5,-211 373.5,-394 515.5,-394 515.5,-211 373.5,-211\"/>\n<text text-anchor=\"middle\" x=\"444.5\" y=\"-376.7\" font-family=\"Helvetica,sans-Serif\" font-size=\"14.00\">OutputsWithInjection</text>\n</g>\n<g id=\"clust6\" class=\"cluster\">\n<title>clusterrun_controlimmediate</title>\n<defs>\n<linearGradient id=\"clust6_l_5\" gradientUnits=\"userSpaceOnUse\" x1=\"531.5\" y1=\"-206\" x2=\"876.25\" y2=\"-206\" >\n<stop offset=\"0\" style=\"stop-color:#bfe2bf;stop-opacity:1.;\"/>\n<stop offset=\"1\" style=\"stop-color:#bfe2bf;stop-opacity:1.;\"/>\n</linearGradient>\n</defs>\n<polygon fill=\"url(#clust6_l_5)\" stroke=\"#2ca02c\" stroke-width=\"2\" points=\"531.5,-41 531.5,-371 876.25,-371 876.25,-41 531.5,-41\"/>\n<text text-anchor=\"middle\" x=\"703.88\" y=\"-353.7\" font-family=\"Helvetica,sans-Serif\" font-size=\"14.00\">immediate: Verbose</text>\n</g>\n<g id=\"clust7\" class=\"cluster\">\n<title>clusterrun_controlimmediateInputs</title>\n<defs>\n<linearGradient id=\"clust7_l_6\" gradientUnits=\"userSpaceOnUse\" x1=\"539.5\" y1=\"-194.5\" x2=\"698.25\" y2=\"-194.5\" >\n<stop offset=\"0\" style=\"stop-color:#a5a4a5;stop-opacity:1.;\"/>\n<stop offset=\"1\" style=\"stop-color:#e4e3e4;stop-opacity:1.;\"/>\n</linearGradient>\n</defs>\n<polygon fill=\"url(#clust7_l_6)\" stroke=\"#a5a4a5\" points=\"539.5,-49 539.5,-340 698.25,-340 698.25,-49 539.5,-49\"/>\n<text text-anchor=\"middle\" x=\"618.88\" y=\"-322.7\" font-family=\"Helvetica,sans-Serif\" font-size=\"14.00\">Inputs</text>\n</g>\n<g id=\"clust8\" class=\"cluster\">\n<title>clusterrun_controlimmediateOutputsWithInjection</title>\n<defs>\n<linearGradient id=\"clust8_l_7\" gradientUnits=\"userSpaceOnUse\" x1=\"868.25\" y1=\"-248.5\" x2=\"726.25\" y2=\"-248.5\" >\n<stop offset=\"0\" style=\"stop-color:#a5a4a5;stop-opacity:1.;\"/>\n<stop offset=\"1\" style=\"stop-color:#e4e3e4;stop-opacity:1.;\"/>\n</linearGradient>\n</defs>\n<polygon fill=\"url(#clust8_l_7)\" stroke=\"#a5a4a5\" points=\"726.25,-157 726.25,-340 868.25,-340 868.25,-157 726.25,-157\"/>\n<text text-anchor=\"middle\" x=\"797.25\" y=\"-322.7\" font-family=\"Helvetica,sans-Serif\" font-size=\"14.00\">OutputsWithInjection</text>\n</g>\n<g id=\"clust9\" class=\"cluster\">\n<title>clusterrun_controlcollecting</title>\n<defs>\n<linearGradient id=\"clust9_l_8\" gradientUnits=\"userSpaceOnUse\" x1=\"884.25\" y1=\"-316\" x2=\"1229\" y2=\"-316\" >\n<stop offset=\"0\" style=\"stop-color:#bfe2bf;stop-opacity:1.;\"/>\n<stop offset=\"1\" style=\"stop-color:#bfe2bf;stop-opacity:1.;\"/>\n</linearGradient>\n</defs>\n<polygon fill=\"url(#clust9_l_8)\" stroke=\"#2ca02c\" stroke-width=\"2\" points=\"884.25,-151 884.25,-481 1229,-481 1229,-151 884.25,-151\"/>\n<text text-anchor=\"middle\" x=\"1056.63\" y=\"-463.7\" font-family=\"Helvetica,sans-Serif\" font-size=\"14.00\">collecting: Verbose</text>\n</g>\n<g id=\"clust10\" class=\"cluster\">\n<title>clusterrun_controlcollectingInputs</title>\n<defs>\n<linearGradient id=\"clust10_l_9\" gradientUnits=\"userSpaceOnUse\" x1=\"892.25\" y1=\"-304.5\" x2=\"1051\" y2=\"-304.5\" >\n<stop offset=\"0\" style=\"stop-color:#a5a4a5;stop-opacity:1.;\"/>\n<stop offset=\"1\" style=\"stop-color:#e4e3e4;stop-opacity:1.;\"/>\n</linearGradient>\n</defs>\n<polygon fill=\"url(#clust10_l_9)\" stroke=\"#a5a4a5\" points=\"892.25,-159 892.25,-450 1051,-450 1051,-159 892.25,-159\"/>\n<text text-anchor=\"middle\" x=\"971.63\" y=\"-432.7\" font-family=\"Helvetica,sans-Serif\" font-size=\"14.00\">Inputs</text>\n</g>\n<g id=\"clust11\" class=\"cluster\">\n<title>clusterrun_controlcollectingOutputsWithInjection</title>\n<defs>\n<linearGradient id=\"clust11_l_10\" gradientUnits=\"userSpaceOnUse\" x1=\"1221\" y1=\"-250.5\" x2=\"1079\" y2=\"-250.5\" >\n<stop offset=\"0\" style=\"stop-color:#a5a4a5;stop-opacity:1.;\"/>\n<stop offset=\"1\" style=\"stop-color:#e4e3e4;stop-opacity:1.;\"/>\n</linearGradient>\n</defs>\n<polygon fill=\"url(#clust11_l_10)\" stroke=\"#a5a4a5\" points=\"1079,-159 1079,-342 1221,-342 1221,-159 1079,-159\"/>\n<text text-anchor=\"middle\" x=\"1150\" y=\"-324.7\" font-family=\"Helvetica,sans-Serif\" font-size=\"14.00\">OutputsWithInjection</text>\n</g>\n<!-- clusterrun_controlInputsrun -->\n<g id=\"node1\" class=\"node\">\n<title>clusterrun_controlInputsrun</title>\n<polygon fill=\"#21bfd8\" stroke=\"#21bfd8\" points=\"102.38,-69 60.38,-69 60.38,-45 102.38,-45 114.38,-57 102.38,-69\"/>\n<text text-anchor=\"middle\" x=\"87.38\" y=\"-51.2\" font-family=\"Helvetica,sans-Serif\" font-size=\"14.00\">run</text>\n</g>\n<!-- clusterrun_controlOutputsWithInjectionran -->\n<g id=\"node9\" class=\"node\">\n<title>clusterrun_controlOutputsWithInjectionran</title>\n<polygon fill=\"#21bfd8\" stroke=\"#21bfd8\" points=\"1326.5,-123 1284.5,-123 1284.5,-99 1326.5,-99 1338.5,-111 1326.5,-123\"/>\n<text text-anchor=\"middle\" x=\"1311.5\" y=\"-105.2\" font-family=\"Helvetica,sans-Serif\" font-size=\"14.00\">ran</text>\n</g>\n<!-- clusterrun_controlInputsrun&#45;&gt;clusterrun_controlOutputsWithInjectionran -->\n<!-- clusterrun_controlInputsaccumulate_and_run -->\n<g id=\"node2\" class=\"node\">\n<title>clusterrun_controlInputsaccumulate_and_run</title>\n<polygon fill=\"#21bfd8\" stroke=\"#21bfd8\" points=\"146.75,-123 16,-123 16,-99 146.75,-99 158.75,-111 146.75,-123\"/>\n<text text-anchor=\"middle\" x=\"87.38\" y=\"-105.2\" font-family=\"Helvetica,sans-Serif\" font-size=\"14.00\">accumulate_and_run</text>\n</g>\n<!-- clusterrun_controlInputsstart__x -->\n<g id=\"node3\" class=\"node\">\n<title>clusterrun_controlInputsstart__x</title>\n<ellipse fill=\"#edb22c\" stroke=\"#edb22c\" cx=\"87.38\" cy=\"-327\" rx=\"41.6\" ry=\"18\"/>\n<text text-anchor=\"middle\" x=\"87.38\" y=\"-321.2\" font-family=\"Helvetica,sans-Serif\" font-size=\"14.00\">start__x</text>\n</g>\n<!-- clusterrun_controlstartInputsx -->\n<g id=\"node14\" class=\"node\">\n<title>clusterrun_controlstartInputsx</title>\n<ellipse fill=\"#edb22c\" stroke=\"#edb22c\" cx=\"266.13\" cy=\"-327\" rx=\"27\" ry=\"18\"/>\n<text text-anchor=\"middle\" x=\"266.13\" y=\"-321.2\" font-family=\"Helvetica,sans-Serif\" font-size=\"14.00\">x</text>\n</g>\n<!-- clusterrun_controlInputsstart__x&#45;&gt;clusterrun_controlstartInputsx -->\n<g id=\"edge11\" class=\"edge\">\n<title>clusterrun_controlInputsstart__x&#45;&gt;clusterrun_controlstartInputsx</title>\n<path fill=\"none\" stroke=\"#edb22c\" d=\"M129.37,-327C144.2,-327 161.57,-327 178.82,-327\"/>\n<path fill=\"none\" stroke=\"#edb22c\" d=\"M178.82,-327C196.08,-327 213.23,-327 227.64,-327\"/>\n<polygon fill=\"#edb22c\" stroke=\"#edb22c\" points=\"227.36,-330.5 237.36,-327 227.36,-323.5 227.36,-330.5\"/>\n</g>\n<!-- clusterrun_controlInputsstart__y -->\n<g id=\"node4\" class=\"node\">\n<title>clusterrun_controlInputsstart__y</title>\n<ellipse fill=\"#edb22c\" stroke=\"#edb22c\" cx=\"87.38\" cy=\"-381\" rx=\"41.6\" ry=\"18\"/>\n<text text-anchor=\"middle\" x=\"87.38\" y=\"-375.2\" font-family=\"Helvetica,sans-Serif\" font-size=\"14.00\">start__y</text>\n</g>\n<!-- clusterrun_controlstartInputsy -->\n<g id=\"node15\" class=\"node\">\n<title>clusterrun_controlstartInputsy</title>\n<ellipse fill=\"#edb22c\" stroke=\"#edb22c\" cx=\"266.13\" cy=\"-381\" rx=\"27\" ry=\"18\"/>\n<text text-anchor=\"middle\" x=\"266.13\" y=\"-375.2\" font-family=\"Helvetica,sans-Serif\" font-size=\"14.00\">y</text>\n</g>\n<!-- clusterrun_controlInputsstart__y&#45;&gt;clusterrun_controlstartInputsy -->\n<g id=\"edge12\" class=\"edge\">\n<title>clusterrun_controlInputsstart__y&#45;&gt;clusterrun_controlstartInputsy</title>\n<path fill=\"none\" stroke=\"#edb22c\" d=\"M129.37,-381C144.2,-381 161.57,-381 178.82,-381\"/>\n<path fill=\"none\" stroke=\"#edb22c\" d=\"M178.82,-381C196.08,-381 213.23,-381 227.64,-381\"/>\n<polygon fill=\"#edb22c\" stroke=\"#edb22c\" points=\"227.36,-384.5 237.36,-381 227.36,-377.5 227.36,-384.5\"/>\n</g>\n<!-- clusterrun_controlInputsstart__z -->\n<g id=\"node5\" class=\"node\">\n<title>clusterrun_controlInputsstart__z</title>\n<ellipse fill=\"#edb22c\" stroke=\"#edb22c\" cx=\"87.38\" cy=\"-273\" rx=\"41.6\" ry=\"18\"/>\n<text text-anchor=\"middle\" x=\"87.38\" y=\"-267.2\" font-family=\"Helvetica,sans-Serif\" font-size=\"14.00\">start__z</text>\n</g>\n<!-- clusterrun_controlstartInputsz -->\n<g id=\"node16\" class=\"node\">\n<title>clusterrun_controlstartInputsz</title>\n<ellipse fill=\"#edb22c\" stroke=\"#edb22c\" cx=\"266.13\" cy=\"-273\" rx=\"27\" ry=\"18\"/>\n<text text-anchor=\"middle\" x=\"266.13\" y=\"-267.2\" font-family=\"Helvetica,sans-Serif\" font-size=\"14.00\">z</text>\n</g>\n<!-- clusterrun_controlInputsstart__z&#45;&gt;clusterrun_controlstartInputsz -->\n<g id=\"edge13\" class=\"edge\">\n<title>clusterrun_controlInputsstart__z&#45;&gt;clusterrun_controlstartInputsz</title>\n<path fill=\"none\" stroke=\"#edb22c\" d=\"M129.37,-273C144.2,-273 161.57,-273 178.82,-273\"/>\n<path fill=\"none\" stroke=\"#edb22c\" d=\"M178.82,-273C196.08,-273 213.23,-273 227.64,-273\"/>\n<polygon fill=\"#edb22c\" stroke=\"#edb22c\" points=\"227.36,-276.5 237.36,-273 227.36,-269.5 227.36,-276.5\"/>\n</g>\n<!-- clusterrun_controlInputsimmediate__y -->\n<g id=\"node6\" class=\"node\">\n<title>clusterrun_controlInputsimmediate__y</title>\n<ellipse fill=\"#edb22c\" stroke=\"#edb22c\" cx=\"87.38\" cy=\"-219\" rx=\"65.97\" ry=\"18\"/>\n<text text-anchor=\"middle\" x=\"87.38\" y=\"-213.2\" font-family=\"Helvetica,sans-Serif\" font-size=\"14.00\">immediate__y</text>\n</g>\n<!-- clusterrun_controlimmediateInputsy -->\n<g id=\"node23\" class=\"node\">\n<title>clusterrun_controlimmediateInputsy</title>\n<ellipse fill=\"#edb22c\" stroke=\"#edb22c\" cx=\"618.88\" cy=\"-183\" rx=\"27\" ry=\"18\"/>\n<text text-anchor=\"middle\" x=\"618.88\" y=\"-177.2\" font-family=\"Helvetica,sans-Serif\" font-size=\"14.00\">y</text>\n</g>\n<!-- clusterrun_controlInputsimmediate__y&#45;&gt;clusterrun_controlimmediateInputsy -->\n<g id=\"edge14\" class=\"edge\">\n<title>clusterrun_controlInputsimmediate__y&#45;&gt;clusterrun_controlimmediateInputsy</title>\n<path fill=\"none\" stroke=\"#edb22c\" d=\"M142.22,-208.74C151.45,-204.84 160.18,-199.44 166.75,-192 183.88,-172.59 158.65,-151.31 178.75,-135 201.36,-116.65 249.2,-113.41 305.32,-117.94\"/>\n<path fill=\"none\" stroke=\"#edb22c\" d=\"M305.32,-117.94C402.07,-125.73 523.42,-156.61 582.41,-172.86\"/>\n<polygon fill=\"#edb22c\" stroke=\"#edb22c\" points=\"581.46,-176.23 592.03,-175.54 583.33,-169.49 581.46,-176.23\"/>\n</g>\n<!-- clusterrun_controlInputsimmediate__z -->\n<g id=\"node7\" class=\"node\">\n<title>clusterrun_controlInputsimmediate__z</title>\n<ellipse fill=\"#edb22c\" stroke=\"#edb22c\" cx=\"87.38\" cy=\"-165\" rx=\"65.97\" ry=\"18\"/>\n<text text-anchor=\"middle\" x=\"87.38\" y=\"-159.2\" font-family=\"Helvetica,sans-Serif\" font-size=\"14.00\">immediate__z</text>\n</g>\n<!-- clusterrun_controlimmediateInputsz -->\n<g id=\"node24\" class=\"node\">\n<title>clusterrun_controlimmediateInputsz</title>\n<ellipse fill=\"#edb22c\" stroke=\"#edb22c\" cx=\"618.88\" cy=\"-75\" rx=\"27\" ry=\"18\"/>\n<text text-anchor=\"middle\" x=\"618.88\" y=\"-69.2\" font-family=\"Helvetica,sans-Serif\" font-size=\"14.00\">z</text>\n</g>\n<!-- clusterrun_controlInputsimmediate__z&#45;&gt;clusterrun_controlimmediateInputsz -->\n<g id=\"edge15\" class=\"edge\">\n<title>clusterrun_controlInputsimmediate__z&#45;&gt;clusterrun_controlimmediateInputsz</title>\n<path fill=\"none\" stroke=\"#edb22c\" d=\"M140.13,-153.81C149.77,-149.98 159.17,-144.85 166.75,-138 176.19,-129.46 168.33,-119.3 178.75,-112 231.34,-75.15 296.65,-58.48 360.69,-52.73\"/>\n<path fill=\"none\" stroke=\"#edb22c\" d=\"M360.69,-52.73C449.17,-44.78 535.23,-57.67 581.92,-66.91\"/>\n<polygon fill=\"#edb22c\" stroke=\"#edb22c\" points=\"580.94,-70.28 591.44,-68.87 582.35,-63.43 580.94,-70.28\"/>\n</g>\n<!-- clusterrun_controlInputscollecting__z -->\n<g id=\"node8\" class=\"node\">\n<title>clusterrun_controlInputscollecting__z</title>\n<ellipse fill=\"#edb22c\" stroke=\"#edb22c\" cx=\"87.38\" cy=\"-435\" rx=\"61.09\" ry=\"18\"/>\n<text text-anchor=\"middle\" x=\"87.38\" y=\"-429.2\" font-family=\"Helvetica,sans-Serif\" font-size=\"14.00\">collecting__z</text>\n</g>\n<!-- clusterrun_controlcollectingInputsz -->\n<g id=\"node32\" class=\"node\">\n<title>clusterrun_controlcollectingInputsz</title>\n<ellipse fill=\"#edb22c\" stroke=\"#edb22c\" cx=\"971.63\" cy=\"-401\" rx=\"27\" ry=\"18\"/>\n<text text-anchor=\"middle\" x=\"971.63\" y=\"-395.2\" font-family=\"Helvetica,sans-Serif\" font-size=\"14.00\">z</text>\n</g>\n<!-- clusterrun_controlInputscollecting__z&#45;&gt;clusterrun_controlcollectingInputsz -->\n<g id=\"edge16\" class=\"edge\">\n<title>clusterrun_controlInputscollecting__z&#45;&gt;clusterrun_controlcollectingInputsz</title>\n<path fill=\"none\" stroke=\"#edb22c\" d=\"M138.64,-445.21C207.14,-458.2 333.81,-479 443,-479 443,-479 443,-479 473.64,-479\"/>\n<path fill=\"none\" stroke=\"#edb22c\" d=\"M473.64,-479C497.97,-479 541.6,-479 619.88,-479 738.8,-479 875.1,-435.75 936.96,-413.66\"/>\n<polygon fill=\"#edb22c\" stroke=\"#edb22c\" points=\"937.99,-417.01 946.2,-410.31 935.61,-410.43 937.99,-417.01\"/>\n</g>\n<!-- clusterrun_controlOutputsWithInjectionfailed -->\n<g id=\"node10\" class=\"node\">\n<title>clusterrun_controlOutputsWithInjectionfailed</title>\n<polygon fill=\"#21bfd8\" stroke=\"#21bfd8\" points=\"1326.5,-177 1284.5,-177 1284.5,-153 1326.5,-153 1338.5,-165 1326.5,-177\"/>\n<text text-anchor=\"middle\" x=\"1311.5\" y=\"-159.2\" font-family=\"Helvetica,sans-Serif\" font-size=\"14.00\">failed</text>\n</g>\n<!-- clusterrun_controlOutputsWithInjectioncollecting__z -->\n<g id=\"node11\" class=\"node\">\n<title>clusterrun_controlOutputsWithInjectioncollecting__z</title>\n<ellipse fill=\"#edb22c\" stroke=\"#edb22c\" cx=\"1311.5\" cy=\"-219\" rx=\"61.09\" ry=\"18\"/>\n<text text-anchor=\"middle\" x=\"1311.5\" y=\"-213.2\" font-family=\"Helvetica,sans-Serif\" font-size=\"14.00\">collecting__z</text>\n</g>\n<!-- clusterrun_controlstartInputsrun -->\n<g id=\"node12\" class=\"node\">\n<title>clusterrun_controlstartInputsrun</title>\n<polygon fill=\"#21bfd8\" stroke=\"#21bfd8\" points=\"281.13,-177 239.13,-177 239.13,-153 281.13,-153 293.13,-165 281.13,-177\"/>\n<text text-anchor=\"middle\" x=\"266.13\" y=\"-159.2\" font-family=\"Helvetica,sans-Serif\" font-size=\"14.00\">run</text>\n</g>\n<!-- clusterrun_controlstartOutputsWithInjectionran -->\n<g id=\"node17\" class=\"node\">\n<title>clusterrun_controlstartOutputsWithInjectionran</title>\n<polygon fill=\"#21bfd8\" stroke=\"#21bfd8\" points=\"459,-249 417,-249 417,-225 459,-225 471,-237 459,-249\"/>\n<text text-anchor=\"middle\" x=\"444\" y=\"-231.2\" font-family=\"Helvetica,sans-Serif\" font-size=\"14.00\">ran</text>\n</g>\n<!-- clusterrun_controlstartInputsrun&#45;&gt;clusterrun_controlstartOutputsWithInjectionran -->\n<!-- clusterrun_controlstartInputsaccumulate_and_run -->\n<g id=\"node13\" class=\"node\">\n<title>clusterrun_controlstartInputsaccumulate_and_run</title>\n<polygon fill=\"#21bfd8\" stroke=\"#21bfd8\" points=\"325.5,-231 194.75,-231 194.75,-207 325.5,-207 337.5,-219 325.5,-231\"/>\n<text text-anchor=\"middle\" x=\"266.13\" y=\"-213.2\" font-family=\"Helvetica,sans-Serif\" font-size=\"14.00\">accumulate_and_run</text>\n</g>\n<!-- clusterrun_controlimmediateInputsrun -->\n<g id=\"node20\" class=\"node\">\n<title>clusterrun_controlimmediateInputsrun</title>\n<polygon fill=\"#21bfd8\" stroke=\"#21bfd8\" points=\"633.88,-249 591.88,-249 591.88,-225 633.88,-225 645.88,-237 633.88,-249\"/>\n<text text-anchor=\"middle\" x=\"618.88\" y=\"-231.2\" font-family=\"Helvetica,sans-Serif\" font-size=\"14.00\">run</text>\n</g>\n<!-- clusterrun_controlstartOutputsWithInjectionran&#45;&gt;clusterrun_controlimmediateInputsrun -->\n<g id=\"edge5\" class=\"edge\">\n<title>clusterrun_controlstartOutputsWithInjectionran&#45;&gt;clusterrun_controlimmediateInputsrun</title>\n<path fill=\"none\" stroke=\"#21bfd8\" d=\"M471.26,-237C485.77,-237 504.77,-237 524.27,-237\"/>\n<path fill=\"none\" stroke=\"#21bfd8\" d=\"M524.27,-237C543.76,-237 563.74,-237 580.21,-237\"/>\n<polygon fill=\"#21bfd8\" stroke=\"#21bfd8\" points=\"580.14,-240.5 590.14,-237 580.14,-233.5 580.14,-240.5\"/>\n</g>\n<!-- clusterrun_controlcollectingInputsaccumulate_and_run -->\n<g id=\"node29\" class=\"node\">\n<title>clusterrun_controlcollectingInputsaccumulate_and_run</title>\n<polygon fill=\"#21bfd8\" stroke=\"#21bfd8\" points=\"1031,-251 900.25,-251 900.25,-227 1031,-227 1043,-239 1031,-251\"/>\n<text text-anchor=\"middle\" x=\"971.63\" y=\"-233.2\" font-family=\"Helvetica,sans-Serif\" font-size=\"14.00\">accumulate_and_run</text>\n</g>\n<!-- clusterrun_controlstartOutputsWithInjectionran&#45;&gt;clusterrun_controlcollectingInputsaccumulate_and_run -->\n<g id=\"edge6\" class=\"edge\">\n<title>clusterrun_controlstartOutputsWithInjectionran&#45;&gt;clusterrun_controlcollectingInputsaccumulate_and_run</title>\n<path fill=\"none\" stroke=\"#21bfd8\" d=\"M471.41,-238.92C488.99,-241.68 511.07,-248.29 523.5,-264 534.59,-278.01 518.25,-332.01 531.5,-344 555.96,-366.14 612.74,-378.73 674.02,-381.79\"/>\n<path fill=\"none\" stroke=\"#21bfd8\" d=\"M674.02,-381.79C755.02,-385.84 843.87,-373.23 876.25,-344 889.18,-332.32 873.23,-279.49 884.25,-266 886.3,-263.49 888.58,-261.21 891.04,-259.14\"/>\n<polygon fill=\"#21bfd8\" stroke=\"#21bfd8\" points=\"892.59,-262.33 898.78,-253.73 888.58,-256.59 892.59,-262.33\"/>\n</g>\n<!-- clusterrun_controlstartOutputsWithInjectionfailed -->\n<g id=\"node18\" class=\"node\">\n<title>clusterrun_controlstartOutputsWithInjectionfailed</title>\n<polygon fill=\"#21bfd8\" stroke=\"#21bfd8\" points=\"459,-303 417,-303 417,-279 459,-279 471,-291 459,-303\"/>\n<text text-anchor=\"middle\" x=\"444\" y=\"-285.2\" font-family=\"Helvetica,sans-Serif\" font-size=\"14.00\">failed</text>\n</g>\n<!-- clusterrun_controlstartOutputsWithInjectionz -->\n<g id=\"node19\" class=\"node\">\n<title>clusterrun_controlstartOutputsWithInjectionz</title>\n<ellipse fill=\"#edb22c\" stroke=\"#edb22c\" cx=\"444\" cy=\"-345\" rx=\"27\" ry=\"18\"/>\n<text text-anchor=\"middle\" x=\"444\" y=\"-339.2\" font-family=\"Helvetica,sans-Serif\" font-size=\"14.00\">z</text>\n</g>\n<!-- clusterrun_controlimmediateInputsx -->\n<g id=\"node22\" class=\"node\">\n<title>clusterrun_controlimmediateInputsx</title>\n<ellipse fill=\"#edb22c\" stroke=\"#edb22c\" cx=\"618.88\" cy=\"-291\" rx=\"27\" ry=\"18\"/>\n<text text-anchor=\"middle\" x=\"618.88\" y=\"-285.2\" font-family=\"Helvetica,sans-Serif\" font-size=\"14.00\">x</text>\n</g>\n<!-- clusterrun_controlstartOutputsWithInjectionz&#45;&gt;clusterrun_controlimmediateInputsx -->\n<g id=\"edge7\" class=\"edge\">\n<title>clusterrun_controlstartOutputsWithInjectionz&#45;&gt;clusterrun_controlimmediateInputsx</title>\n<path fill=\"none\" stroke=\"#edb22c\" d=\"M469.04,-337.49C483.83,-332.87 503.85,-326.62 524.4,-320.2\"/>\n<path fill=\"none\" stroke=\"#edb22c\" d=\"M524.4,-320.2C544.95,-313.78 566.04,-307.19 582.97,-301.9\"/>\n<polygon fill=\"#edb22c\" stroke=\"#edb22c\" points=\"583.82,-305.31 592.32,-298.98 581.73,-298.62 583.82,-305.31\"/>\n</g>\n<!-- clusterrun_controlcollectingInputsx -->\n<g id=\"node30\" class=\"node\">\n<title>clusterrun_controlcollectingInputsx</title>\n<ellipse fill=\"#edb22c\" stroke=\"#edb22c\" cx=\"971.63\" cy=\"-347\" rx=\"27\" ry=\"18\"/>\n<text text-anchor=\"middle\" x=\"971.63\" y=\"-341.2\" font-family=\"Helvetica,sans-Serif\" font-size=\"14.00\">x</text>\n</g>\n<!-- clusterrun_controlstartOutputsWithInjectionz&#45;&gt;clusterrun_controlcollectingInputsx -->\n<g id=\"edge8\" class=\"edge\">\n<title>clusterrun_controlstartOutputsWithInjectionz&#45;&gt;clusterrun_controlcollectingInputsx</title>\n<path fill=\"none\" stroke=\"#edb22c\" d=\"M466.44,-355.37C483.59,-363.05 508.49,-372.88 531.5,-377 605.56,-390.26 653.66,-397.09 701.29,-397.37\"/>\n<path fill=\"none\" stroke=\"#edb22c\" d=\"M701.29,-397.37C750.66,-397.66 799.52,-390.91 876.25,-377 879.99,-376.32 880.66,-375.23 884.25,-374 900.99,-368.25 919.72,-362.33 935.45,-357.51\"/>\n<polygon fill=\"#edb22c\" stroke=\"#edb22c\" points=\"936.31,-360.91 944.86,-354.65 934.27,-354.21 936.31,-360.91\"/>\n</g>\n<!-- clusterrun_controlimmediateOutputsWithInjectionran -->\n<g id=\"node25\" class=\"node\">\n<title>clusterrun_controlimmediateOutputsWithInjectionran</title>\n<polygon fill=\"#21bfd8\" stroke=\"#21bfd8\" points=\"811.75,-195 769.75,-195 769.75,-171 811.75,-171 823.75,-183 811.75,-195\"/>\n<text text-anchor=\"middle\" x=\"796.75\" y=\"-177.2\" font-family=\"Helvetica,sans-Serif\" font-size=\"14.00\">ran</text>\n</g>\n<!-- clusterrun_controlimmediateInputsrun&#45;&gt;clusterrun_controlimmediateOutputsWithInjectionran -->\n<!-- clusterrun_controlimmediateInputsaccumulate_and_run -->\n<g id=\"node21\" class=\"node\">\n<title>clusterrun_controlimmediateInputsaccumulate_and_run</title>\n<polygon fill=\"#21bfd8\" stroke=\"#21bfd8\" points=\"678.25,-141 547.5,-141 547.5,-117 678.25,-117 690.25,-129 678.25,-141\"/>\n<text text-anchor=\"middle\" x=\"618.88\" y=\"-123.2\" font-family=\"Helvetica,sans-Serif\" font-size=\"14.00\">accumulate_and_run</text>\n</g>\n<!-- clusterrun_controlimmediateOutputsWithInjectionran&#45;&gt;clusterrun_controlcollectingInputsaccumulate_and_run -->\n<g id=\"edge9\" class=\"edge\">\n<title>clusterrun_controlimmediateOutputsWithInjectionran&#45;&gt;clusterrun_controlcollectingInputsaccumulate_and_run</title>\n<path fill=\"none\" stroke=\"#21bfd8\" d=\"M824.2,-192.03C835.06,-195.71 848.2,-200.13 861.51,-204.54\"/>\n<path fill=\"none\" stroke=\"#21bfd8\" d=\"M861.51,-204.54C869.17,-207.08 876.88,-209.61 884.25,-212 889.53,-213.71 895,-215.46 900.51,-217.22\"/>\n<polygon fill=\"#21bfd8\" stroke=\"#21bfd8\" points=\"899.07,-220.43 909.66,-220.11 901.18,-213.76 899.07,-220.43\"/>\n</g>\n<!-- clusterrun_controlimmediateOutputsWithInjectionfailed -->\n<g id=\"node26\" class=\"node\">\n<title>clusterrun_controlimmediateOutputsWithInjectionfailed</title>\n<polygon fill=\"#21bfd8\" stroke=\"#21bfd8\" points=\"811.75,-249 769.75,-249 769.75,-225 811.75,-225 823.75,-237 811.75,-249\"/>\n<text text-anchor=\"middle\" x=\"796.75\" y=\"-231.2\" font-family=\"Helvetica,sans-Serif\" font-size=\"14.00\">failed</text>\n</g>\n<!-- clusterrun_controlimmediateOutputsWithInjectionz -->\n<g id=\"node27\" class=\"node\">\n<title>clusterrun_controlimmediateOutputsWithInjectionz</title>\n<ellipse fill=\"#edb22c\" stroke=\"#edb22c\" cx=\"796.75\" cy=\"-291\" rx=\"27\" ry=\"18\"/>\n<text text-anchor=\"middle\" x=\"796.75\" y=\"-285.2\" font-family=\"Helvetica,sans-Serif\" font-size=\"14.00\">z</text>\n</g>\n<!-- clusterrun_controlcollectingInputsy -->\n<g id=\"node31\" class=\"node\">\n<title>clusterrun_controlcollectingInputsy</title>\n<ellipse fill=\"#edb22c\" stroke=\"#edb22c\" cx=\"971.63\" cy=\"-293\" rx=\"27\" ry=\"18\"/>\n<text text-anchor=\"middle\" x=\"971.63\" y=\"-287.2\" font-family=\"Helvetica,sans-Serif\" font-size=\"14.00\">y</text>\n</g>\n<!-- clusterrun_controlimmediateOutputsWithInjectionz&#45;&gt;clusterrun_controlcollectingInputsy -->\n<g id=\"edge10\" class=\"edge\">\n<title>clusterrun_controlimmediateOutputsWithInjectionz&#45;&gt;clusterrun_controlcollectingInputsy</title>\n<path fill=\"none\" stroke=\"#edb22c\" d=\"M824.01,-291.3C838.52,-291.47 857.52,-291.69 877.02,-291.92\"/>\n<path fill=\"none\" stroke=\"#edb22c\" d=\"M877.02,-291.92C896.51,-292.14 916.49,-292.37 932.96,-292.56\"/>\n<polygon fill=\"#edb22c\" stroke=\"#edb22c\" points=\"932.85,-296.06 942.89,-292.68 932.93,-289.06 932.85,-296.06\"/>\n</g>\n<!-- clusterrun_controlcollectingInputsrun -->\n<g id=\"node28\" class=\"node\">\n<title>clusterrun_controlcollectingInputsrun</title>\n<polygon fill=\"#21bfd8\" stroke=\"#21bfd8\" points=\"986.63,-197 944.63,-197 944.63,-173 986.63,-173 998.63,-185 986.63,-197\"/>\n<text text-anchor=\"middle\" x=\"971.63\" y=\"-179.2\" font-family=\"Helvetica,sans-Serif\" font-size=\"14.00\">run</text>\n</g>\n<!-- clusterrun_controlcollectingOutputsWithInjectionran -->\n<g id=\"node33\" class=\"node\">\n<title>clusterrun_controlcollectingOutputsWithInjectionran</title>\n<polygon fill=\"#21bfd8\" stroke=\"#21bfd8\" points=\"1164.5,-197 1122.5,-197 1122.5,-173 1164.5,-173 1176.5,-185 1164.5,-197\"/>\n<text text-anchor=\"middle\" x=\"1149.5\" y=\"-179.2\" font-family=\"Helvetica,sans-Serif\" font-size=\"14.00\">ran</text>\n</g>\n<!-- clusterrun_controlcollectingInputsrun&#45;&gt;clusterrun_controlcollectingOutputsWithInjectionran -->\n<!-- clusterrun_controlcollectingOutputsWithInjectionfailed -->\n<g id=\"node34\" class=\"node\">\n<title>clusterrun_controlcollectingOutputsWithInjectionfailed</title>\n<polygon fill=\"#21bfd8\" stroke=\"#21bfd8\" points=\"1164.5,-251 1122.5,-251 1122.5,-227 1164.5,-227 1176.5,-239 1164.5,-251\"/>\n<text text-anchor=\"middle\" x=\"1149.5\" y=\"-233.2\" font-family=\"Helvetica,sans-Serif\" font-size=\"14.00\">failed</text>\n</g>\n<!-- clusterrun_controlcollectingOutputsWithInjectionz -->\n<g id=\"node35\" class=\"node\">\n<title>clusterrun_controlcollectingOutputsWithInjectionz</title>\n<ellipse fill=\"#edb22c\" stroke=\"#edb22c\" cx=\"1149.5\" cy=\"-293\" rx=\"27\" ry=\"18\"/>\n<text text-anchor=\"middle\" x=\"1149.5\" y=\"-287.2\" font-family=\"Helvetica,sans-Serif\" font-size=\"14.00\">z</text>\n</g>\n<!-- clusterrun_controlcollectingOutputsWithInjectionz&#45;&gt;clusterrun_controlOutputsWithInjectioncollecting__z -->\n<g id=\"edge17\" class=\"edge\">\n<title>clusterrun_controlcollectingOutputsWithInjectionz&#45;&gt;clusterrun_controlOutputsWithInjectioncollecting__z</title>\n<path fill=\"none\" stroke=\"#edb22c\" d=\"M1174.67,-286.01C1189.65,-281.37 1209.23,-274.76 1226.33,-267.2\"/>\n<path fill=\"none\" stroke=\"#edb22c\" d=\"M1226.33,-267.2C1227.23,-266.8 1228.12,-266.4 1229,-266 1244.55,-258.92 1261,-249.78 1275.02,-241.44\"/>\n<polygon fill=\"#edb22c\" stroke=\"#edb22c\" points=\"1276.71,-244.51 1283.45,-236.34 1273.09,-238.52 1276.71,-244.51\"/>\n</g>\n</g>\n</svg>\n",
      "text/plain": [
       "<graphviz.graphs.Digraph at 0x11ff98f80>"
      ]
     },
     "execution_count": 101,
     "metadata": {},
     "output_type": "execute_result"
    }
   ],
   "execution_count": 101
  },
  {
   "cell_type": "markdown",
   "id": "5fd65369-d9c1-4f87-b79c-7e597fba8cac",
   "metadata": {},
   "source": [
    "The same signals can be wired with the following syntactic sugar (and the `>>` can be chained together):"
   ]
  },
  {
   "cell_type": "code",
   "id": "c52fbef3-ea9b-47db-b179-d9044659cd89",
   "metadata": {
    "ExecuteTime": {
     "end_time": "2025-06-18T17:46:43.078360Z",
     "start_time": "2025-06-18T17:46:43.073021Z"
    }
   },
   "source": [
    "wf = pwf.Workflow(\"sugar\", automate_execution=False)\n",
    "wf.start = Verbose(\"\", \"\", \"start\")\n",
    "wf.immediate = Verbose(wf.start, \"\", \"immediate\")\n",
    "wf.collecting = Verbose(wf.start, wf.immediate, \"collecting\")\n",
    "\n",
    "wf.start >> wf.immediate\n",
    "wf.collecting << (wf.start, wf.immediate)\n",
    "\n",
    "wf.starting_nodes = [wf.start]\n",
    "\n",
    "wf()"
   ],
   "outputs": [
    {
     "name": "stdout",
     "output_type": "stream",
     "text": [
      "  start\n",
      "start  immediate\n",
      "start immediate collecting\n"
     ]
    },
    {
     "data": {
      "text/plain": [
       "{'collecting__z': 'collecting'}"
      ]
     },
     "execution_count": 102,
     "metadata": {},
     "output_type": "execute_result"
    }
   ],
   "execution_count": 102
  },
  {
   "cell_type": "markdown",
   "id": "c94ec1bf-5285-43d4-9348-0539c87e17a6",
   "metadata": {},
   "source": [
    "## State behavior and the executor motivation\n",
    "\n",
    "If we look at the `__getstate__` of a child, we will notice its parent has been purged:"
   ]
  },
  {
   "cell_type": "code",
   "id": "e7270eef-8642-4859-982b-b3c35dda968f",
   "metadata": {
    "ExecuteTime": {
     "end_time": "2025-06-18T17:46:43.094959Z",
     "start_time": "2025-06-18T17:46:43.092731Z"
    }
   },
   "source": [
    "wf.immediate.__getstate__()"
   ],
   "outputs": [
    {
     "data": {
      "text/plain": [
       "{'_label': 'immediate',\n",
       " '_parent': None,\n",
       " '_detached_parent_path': '/sugar',\n",
       " '_signals': <pyiron_workflow.io.Signals at 0x11ff571d0>,\n",
       " 'running': False,\n",
       " 'failed': False,\n",
       " 'executor': None,\n",
       " 'future': None,\n",
       " '_thread_pool_sleep_time': 1e-06,\n",
       " 'checkpoint': None,\n",
       " 'recovery': 'pickle',\n",
       " '_serialize_result': False,\n",
       " '_do_clean': False,\n",
       " '_cached_inputs': {'x': 'start', 'y': '', 'z': 'immediate'},\n",
       " '_user_data': {},\n",
       " '_inputs': <pyiron_workflow.io.Inputs at 0x11ff54ec0>,\n",
       " '_outputs': <pyiron_workflow.mixin.injection.OutputsWithInjection at 0x11fe1e150>}"
      ]
     },
     "execution_count": 103,
     "metadata": {},
     "output_type": "execute_result"
    }
   ],
   "execution_count": 103
  },
  {
   "cell_type": "markdown",
   "id": "cd1774e5-57ed-4ab2-a3f5-b624fb6b8f0e",
   "metadata": {},
   "source": [
    "And similarly the node's connections get purged:"
   ]
  },
  {
   "cell_type": "code",
   "id": "59cac615-02ee-478e-93a5-e6a8b38c37b3",
   "metadata": {
    "ExecuteTime": {
     "end_time": "2025-06-18T17:46:43.110218Z",
     "start_time": "2025-06-18T17:46:43.108333Z"
    }
   },
   "source": [
    "wf.immediate.inputs.__getstate__()"
   ],
   "outputs": [
    {
     "data": {
      "text/plain": [
       "{'channel_dict': {'x': <pyiron_workflow.channels.InputData at 0x11ff54410>,\n",
       "  'y': <pyiron_workflow.channels.InputData at 0x11ff542f0>,\n",
       "  'z': <pyiron_workflow.channels.InputData at 0x11ff54710>}}"
      ]
     },
     "execution_count": 104,
     "metadata": {},
     "output_type": "execute_result"
    }
   ],
   "execution_count": 104
  },
  {
   "cell_type": "markdown",
   "id": "3f97c490-9323-4bf0-9cf3-20b30bcd368b",
   "metadata": {},
   "source": [
    "But we see that the parent node retains state about both its children and their connections"
   ]
  },
  {
   "cell_type": "code",
   "id": "1642ac22-255c-4e50-9a26-a6d6b0cd203d",
   "metadata": {
    "ExecuteTime": {
     "end_time": "2025-06-18T17:46:43.131064Z",
     "start_time": "2025-06-18T17:46:43.129062Z"
    }
   },
   "source": [
    "parent_state = wf.__getstate__()\n",
    "parent_state[\"start\"], parent_state[\"_child_data_connections\"]"
   ],
   "outputs": [
    {
     "data": {
      "text/plain": [
       "(<__main__.Verbose at 0x15a46ccb0>,\n",
       " [(('immediate', 'x'), ('start', 'z')),\n",
       "  (('collecting', 'x'), ('start', 'z')),\n",
       "  (('collecting', 'y'), ('immediate', 'z'))])"
      ]
     },
     "execution_count": 105,
     "metadata": {},
     "output_type": "execute_result"
    }
   ],
   "execution_count": 105
  },
  {
   "cell_type": "markdown",
   "id": "95ce64a2-73a8-4399-9c1d-bebda965b942",
   "metadata": {},
   "source": [
    "This is actually some important engineering. Sending a node off to a parallel process with an executor requires serializing data to send to the new process. For `concurrent.futures.ProcessPoolExecutor` and those compliant with it (our expectation for these circumstances) that involves using `__getstate__` (well, `__reduce__`, but the state comes out under the hood). When we send a `Function` node off for parallel execution, we actually only send the `Function.node_function` (remember it is a `@staticmethod`!!!) and the actual input data. But for `Macro` nodes, we necessarily send the entire node so there is something there to run the subgraph! If we sent the macro's parent along, or its connections, we'd need to serialize _the entire graph_ when we run just one piece on a separate process!\n",
    "\n",
    "This careful management of state minimizes how much data we actually need to serialize "
   ]
  },
  {
   "cell_type": "markdown",
   "id": "b6a3b48f-eda6-4947-a1b2-22abfa394293",
   "metadata": {},
   "source": [
    "## Executor limitations\n",
    "\n",
    "In a similar manner, there are some things we can't serialize, namely thread locks and other executor-related objects. That means that, at present, you can't _nest_ executors. The motivated reader can see that there is room to extend this, e.g. by accepting a node _class_ (which is serializable) and some arguments for it and recreating one on-the-fly:"
   ]
  },
  {
   "cell_type": "code",
   "id": "2784b0c2-035e-44bb-b790-0d5fe2a84331",
   "metadata": {
    "ExecuteTime": {
     "end_time": "2025-06-18T17:46:43.153087Z",
     "start_time": "2025-06-18T17:46:43.148548Z"
    }
   },
   "source": [
    "from pyiron_workflow.mixin.run import Runnable\n",
    "\n",
    "Runnable._parse_executor??"
   ],
   "outputs": [],
   "execution_count": 106
  },
  {
   "cell_type": "markdown",
   "id": "e09e6b40-6cbe-4198-817c-a9f1e75e44b3",
   "metadata": {},
   "source": [
    "## While loops\n",
    "\n",
    "While-loops involve some circular flow of data that terminates on a particular data condition. Similarly to how for-loops are handled, we accomplish this by subclassing a `While(Composite, StaticNode, abc.ABC)` class that takes test and body node classes at subclassing-time. The parent `While` class contains logic to clean up its children at each (non-cached) run, and then dynamically adds new test and body children _at runtime_ until the most recent test node returns `False`. In this way, while-loops nodes _prospectively_ know their IO and can be duly included in workflow recipes, but only know their full internal data provenance _retrospectively_. However, once they have run, this retrospective provenance is available by looking at their owned children just the same as any other macro (well, almost, there is some fudginess around the value links from the while-node inputs to their child node inputs). The cyclicty of the while-loop is defined by providing extra body-to-test and body-to-body edges using their respective node classes IO names (i.e. strings) at subclassing-time.\n",
    "\n",
    "There are a few constraints:\n",
    "- The testing node class _must_ return a single output, and by default we'll check to make sure it's boolean-hinted\n",
    "- You _must_ provide at least one tuple of strings defining a connection between the body and test node, and at least one tuple of strings defining a recursive connection of the body on itself\n",
    "- We can't check anything else at the recipe level, so if the actual while loop terminates immediately you'll wind up with `NotData` outputs, and if it never terminates you'll hit a python recursion depth error eventually (although you can specify maximum iterations to avoid this a-priori)\n",
    "\n",
    "Let's take a look:"
   ]
  },
  {
   "cell_type": "code",
   "id": "e0916c46-132c-4046-827e-a75fff6dbc5b",
   "metadata": {
    "ExecuteTime": {
     "end_time": "2025-06-18T17:46:43.170107Z",
     "start_time": "2025-06-18T17:46:43.165179Z"
    }
   },
   "source": [
    "wf = pwf.Workflow(\"my_while_loop\")\n",
    "wf.x0 = pwf.std.UserInput(0)\n",
    "wf.limit = pwf.std.UserInput(5)\n",
    "wf.step = pwf.std.UserInput(2)\n",
    "wf.add_while = pwf.while_node(\n",
    "    pwf.std.LessThan,  # Test\n",
    "    pwf.std.Add,  # Body\n",
    "    [(\"add\", \"obj\")],  # body-to-test\n",
    "    [(\"add\", \"obj\")],  # body-to-body\n",
    "    strict_condition_hint=False,  # LessThan doesn't hint it's boolean return...\n",
    "    test_obj=wf.x0,\n",
    "    test_other=wf.limit,\n",
    "    body_obj=wf.x0,\n",
    "    body_other=wf.step\n",
    ")\n",
    "wf.xf = wf.add_while.outputs.add  # While output maps to body output"
   ],
   "outputs": [],
   "execution_count": 107
  },
  {
   "metadata": {
    "ExecuteTime": {
     "end_time": "2025-06-18T17:46:43.304381Z",
     "start_time": "2025-06-18T17:46:43.183022Z"
    }
   },
   "cell_type": "code",
   "source": "wf.draw(size=(10, 10))",
   "id": "2134918be82d3185",
   "outputs": [
    {
     "data": {
      "image/svg+xml": "<?xml version=\"1.0\" encoding=\"UTF-8\" standalone=\"no\"?>\n<!DOCTYPE svg PUBLIC \"-//W3C//DTD SVG 1.1//EN\"\n \"http://www.w3.org/Graphics/SVG/1.1/DTD/svg11.dtd\">\n<!-- Generated by graphviz version 12.0.0 (0)\n -->\n<!-- Title: clustermy_while_loop Pages: 1 -->\n<svg width=\"720pt\" height=\"427pt\"\n viewBox=\"0.00 0.00 720.00 427.34\" xmlns=\"http://www.w3.org/2000/svg\" xmlns:xlink=\"http://www.w3.org/1999/xlink\">\n<g id=\"graph0\" class=\"graph\" transform=\"scale(0.556924 0.556924) rotate(0) translate(4 763.32)\">\n<title>clustermy_while_loop</title>\n<polygon fill=\"white\" stroke=\"none\" points=\"-4,4 -4,-763.32 1288.82,-763.32 1288.82,4 -4,4\"/>\n<text text-anchor=\"middle\" x=\"642.41\" y=\"-5.7\" font-family=\"Helvetica,sans-Serif\" font-size=\"14.00\">my_while_loop: Workflow</text>\n<g id=\"clust1\" class=\"cluster\">\n<title>clustermy_while_loopInputs</title>\n<defs>\n<linearGradient id=\"clust1_l_0\" gradientUnits=\"userSpaceOnUse\" x1=\"8\" y1=\"-485.5\" x2=\"258.3\" y2=\"-485.5\" >\n<stop offset=\"0\" style=\"stop-color:#a5a4a5;stop-opacity:1.;\"/>\n<stop offset=\"1\" style=\"stop-color:#e4e3e4;stop-opacity:1.;\"/>\n</linearGradient>\n</defs>\n<polygon fill=\"url(#clust1_l_0)\" stroke=\"#a5a4a5\" points=\"8,-313 8,-658 258.3,-658 258.3,-313 8,-313\"/>\n<text text-anchor=\"middle\" x=\"133.15\" y=\"-640.7\" font-family=\"Helvetica,sans-Serif\" font-size=\"14.00\">Inputs</text>\n</g>\n<g id=\"clust2\" class=\"cluster\">\n<title>clustermy_while_loopOutputsWithInjection</title>\n<defs>\n<linearGradient id=\"clust2_l_1\" gradientUnits=\"userSpaceOnUse\" x1=\"1276.82\" y1=\"-625.5\" x2=\"1112.3\" y2=\"-625.5\" >\n<stop offset=\"0\" style=\"stop-color:#a5a4a5;stop-opacity:1.;\"/>\n<stop offset=\"1\" style=\"stop-color:#e4e3e4;stop-opacity:1.;\"/>\n</linearGradient>\n</defs>\n<polygon fill=\"url(#clust2_l_1)\" stroke=\"#a5a4a5\" points=\"1112.3,-534 1112.3,-717 1276.82,-717 1276.82,-534 1112.3,-534\"/>\n<text text-anchor=\"middle\" x=\"1194.56\" y=\"-699.7\" font-family=\"Helvetica,sans-Serif\" font-size=\"14.00\">OutputsWithInjection</text>\n</g>\n<g id=\"clust3\" class=\"cluster\">\n<title>clustermy_while_loopx0</title>\n<defs>\n<linearGradient id=\"clust3_l_2\" gradientUnits=\"userSpaceOnUse\" x1=\"270.3\" y1=\"-630\" x2=\"631.05\" y2=\"-630\" >\n<stop offset=\"0\" style=\"stop-color:#bfe2bf;stop-opacity:1.;\"/>\n<stop offset=\"1\" style=\"stop-color:#bfe2bf;stop-opacity:1.;\"/>\n</linearGradient>\n</defs>\n<polygon fill=\"url(#clust3_l_2)\" stroke=\"#bfe2bf\" stroke-width=\"2\" points=\"270.3,-519 270.3,-741 631.05,-741 631.05,-519 270.3,-519\"/>\n<text text-anchor=\"middle\" x=\"450.68\" y=\"-723.7\" font-family=\"Helvetica,sans-Serif\" font-size=\"14.00\">x0: UserInput</text>\n</g>\n<g id=\"clust4\" class=\"cluster\">\n<title>clustermy_while_loopx0Inputs</title>\n<defs>\n<linearGradient id=\"clust4_l_3\" gradientUnits=\"userSpaceOnUse\" x1=\"278.3\" y1=\"-618.5\" x2=\"437.05\" y2=\"-618.5\" >\n<stop offset=\"0\" style=\"stop-color:#a5a4a5;stop-opacity:1.;\"/>\n<stop offset=\"1\" style=\"stop-color:#e4e3e4;stop-opacity:1.;\"/>\n</linearGradient>\n</defs>\n<polygon fill=\"url(#clust4_l_3)\" stroke=\"#a5a4a5\" points=\"278.3,-527 278.3,-710 437.05,-710 437.05,-527 278.3,-527\"/>\n<text text-anchor=\"middle\" x=\"357.68\" y=\"-692.7\" font-family=\"Helvetica,sans-Serif\" font-size=\"14.00\">Inputs</text>\n</g>\n<g id=\"clust5\" class=\"cluster\">\n<title>clustermy_while_loopx0OutputsWithInjection</title>\n<defs>\n<linearGradient id=\"clust5_l_4\" gradientUnits=\"userSpaceOnUse\" x1=\"623.05\" y1=\"-618.5\" x2=\"481.05\" y2=\"-618.5\" >\n<stop offset=\"0\" style=\"stop-color:#a5a4a5;stop-opacity:1.;\"/>\n<stop offset=\"1\" style=\"stop-color:#e4e3e4;stop-opacity:1.;\"/>\n</linearGradient>\n</defs>\n<polygon fill=\"url(#clust5_l_4)\" stroke=\"#a5a4a5\" points=\"481.05,-527 481.05,-710 623.05,-710 623.05,-527 481.05,-527\"/>\n<text text-anchor=\"middle\" x=\"552.05\" y=\"-692.7\" font-family=\"Helvetica,sans-Serif\" font-size=\"14.00\">OutputsWithInjection</text>\n</g>\n<g id=\"clust6\" class=\"cluster\">\n<title>clustermy_while_looplimit</title>\n<defs>\n<linearGradient id=\"clust6_l_5\" gradientUnits=\"userSpaceOnUse\" x1=\"270.3\" y1=\"-372\" x2=\"631.05\" y2=\"-372\" >\n<stop offset=\"0\" style=\"stop-color:#bfe2bf;stop-opacity:1.;\"/>\n<stop offset=\"1\" style=\"stop-color:#bfe2bf;stop-opacity:1.;\"/>\n</linearGradient>\n</defs>\n<polygon fill=\"url(#clust6_l_5)\" stroke=\"#bfe2bf\" stroke-width=\"2\" points=\"270.3,-261 270.3,-483 631.05,-483 631.05,-261 270.3,-261\"/>\n<text text-anchor=\"middle\" x=\"450.68\" y=\"-465.7\" font-family=\"Helvetica,sans-Serif\" font-size=\"14.00\">limit: UserInput</text>\n</g>\n<g id=\"clust7\" class=\"cluster\">\n<title>clustermy_while_looplimitInputs</title>\n<defs>\n<linearGradient id=\"clust7_l_6\" gradientUnits=\"userSpaceOnUse\" x1=\"278.3\" y1=\"-360.5\" x2=\"437.05\" y2=\"-360.5\" >\n<stop offset=\"0\" style=\"stop-color:#a5a4a5;stop-opacity:1.;\"/>\n<stop offset=\"1\" style=\"stop-color:#e4e3e4;stop-opacity:1.;\"/>\n</linearGradient>\n</defs>\n<polygon fill=\"url(#clust7_l_6)\" stroke=\"#a5a4a5\" points=\"278.3,-269 278.3,-452 437.05,-452 437.05,-269 278.3,-269\"/>\n<text text-anchor=\"middle\" x=\"357.68\" y=\"-434.7\" font-family=\"Helvetica,sans-Serif\" font-size=\"14.00\">Inputs</text>\n</g>\n<g id=\"clust8\" class=\"cluster\">\n<title>clustermy_while_looplimitOutputsWithInjection</title>\n<defs>\n<linearGradient id=\"clust8_l_7\" gradientUnits=\"userSpaceOnUse\" x1=\"623.05\" y1=\"-360.5\" x2=\"481.05\" y2=\"-360.5\" >\n<stop offset=\"0\" style=\"stop-color:#a5a4a5;stop-opacity:1.;\"/>\n<stop offset=\"1\" style=\"stop-color:#e4e3e4;stop-opacity:1.;\"/>\n</linearGradient>\n</defs>\n<polygon fill=\"url(#clust8_l_7)\" stroke=\"#a5a4a5\" points=\"481.05,-269 481.05,-452 623.05,-452 623.05,-269 481.05,-269\"/>\n<text text-anchor=\"middle\" x=\"552.05\" y=\"-434.7\" font-family=\"Helvetica,sans-Serif\" font-size=\"14.00\">OutputsWithInjection</text>\n</g>\n<g id=\"clust9\" class=\"cluster\">\n<title>clustermy_while_loopstep</title>\n<defs>\n<linearGradient id=\"clust9_l_8\" gradientUnits=\"userSpaceOnUse\" x1=\"270.3\" y1=\"-142\" x2=\"631.05\" y2=\"-142\" >\n<stop offset=\"0\" style=\"stop-color:#bfe2bf;stop-opacity:1.;\"/>\n<stop offset=\"1\" style=\"stop-color:#bfe2bf;stop-opacity:1.;\"/>\n</linearGradient>\n</defs>\n<polygon fill=\"url(#clust9_l_8)\" stroke=\"#bfe2bf\" stroke-width=\"2\" points=\"270.3,-31 270.3,-253 631.05,-253 631.05,-31 270.3,-31\"/>\n<text text-anchor=\"middle\" x=\"450.68\" y=\"-235.7\" font-family=\"Helvetica,sans-Serif\" font-size=\"14.00\">step: UserInput</text>\n</g>\n<g id=\"clust10\" class=\"cluster\">\n<title>clustermy_while_loopstepInputs</title>\n<defs>\n<linearGradient id=\"clust10_l_9\" gradientUnits=\"userSpaceOnUse\" x1=\"278.3\" y1=\"-130.5\" x2=\"437.05\" y2=\"-130.5\" >\n<stop offset=\"0\" style=\"stop-color:#a5a4a5;stop-opacity:1.;\"/>\n<stop offset=\"1\" style=\"stop-color:#e4e3e4;stop-opacity:1.;\"/>\n</linearGradient>\n</defs>\n<polygon fill=\"url(#clust10_l_9)\" stroke=\"#a5a4a5\" points=\"278.3,-39 278.3,-222 437.05,-222 437.05,-39 278.3,-39\"/>\n<text text-anchor=\"middle\" x=\"357.68\" y=\"-204.7\" font-family=\"Helvetica,sans-Serif\" font-size=\"14.00\">Inputs</text>\n</g>\n<g id=\"clust11\" class=\"cluster\">\n<title>clustermy_while_loopstepOutputsWithInjection</title>\n<defs>\n<linearGradient id=\"clust11_l_10\" gradientUnits=\"userSpaceOnUse\" x1=\"623.05\" y1=\"-130.5\" x2=\"481.05\" y2=\"-130.5\" >\n<stop offset=\"0\" style=\"stop-color:#a5a4a5;stop-opacity:1.;\"/>\n<stop offset=\"1\" style=\"stop-color:#e4e3e4;stop-opacity:1.;\"/>\n</linearGradient>\n</defs>\n<polygon fill=\"url(#clust11_l_10)\" stroke=\"#a5a4a5\" points=\"481.05,-39 481.05,-222 623.05,-222 623.05,-39 481.05,-39\"/>\n<text text-anchor=\"middle\" x=\"552.05\" y=\"-204.7\" font-family=\"Helvetica,sans-Serif\" font-size=\"14.00\">OutputsWithInjection</text>\n</g>\n<g id=\"clust12\" class=\"cluster\">\n<title>clustermy_while_loopadd_while</title>\n<defs>\n<linearGradient id=\"clust12_l_11\" gradientUnits=\"userSpaceOnUse\" x1=\"639.05\" y1=\"-494\" x2=\"1092.3\" y2=\"-494\" >\n<stop offset=\"0\" style=\"stop-color:#dcccc9;stop-opacity:1.;\"/>\n<stop offset=\"1\" style=\"stop-color:#dcccc9;stop-opacity:1.;\"/>\n</linearGradient>\n</defs>\n<polygon fill=\"url(#clust12_l_11)\" stroke=\"#dcccc9\" stroke-width=\"2\" points=\"639.05,-275 639.05,-713 1092.3,-713 1092.3,-275 639.05,-275\"/>\n<text text-anchor=\"middle\" x=\"865.68\" y=\"-695.7\" font-family=\"Helvetica,sans-Serif\" font-size=\"14.00\">add_while: Do_Add_While_LessThan_With_B2T_add2obj_B2B_add2obj</text>\n</g>\n<g id=\"clust13\" class=\"cluster\">\n<title>clustermy_while_loopadd_whileInputs</title>\n<defs>\n<linearGradient id=\"clust13_l_12\" gradientUnits=\"userSpaceOnUse\" x1=\"700.8\" y1=\"-482.5\" x2=\"859.55\" y2=\"-482.5\" >\n<stop offset=\"0\" style=\"stop-color:#a5a4a5;stop-opacity:1.;\"/>\n<stop offset=\"1\" style=\"stop-color:#e4e3e4;stop-opacity:1.;\"/>\n</linearGradient>\n</defs>\n<polygon fill=\"url(#clust13_l_12)\" stroke=\"#a5a4a5\" points=\"700.8,-283 700.8,-682 859.55,-682 859.55,-283 700.8,-283\"/>\n<text text-anchor=\"middle\" x=\"780.18\" y=\"-664.7\" font-family=\"Helvetica,sans-Serif\" font-size=\"14.00\">Inputs</text>\n</g>\n<g id=\"clust14\" class=\"cluster\">\n<title>clustermy_while_loopadd_whileOutputsWithInjection</title>\n<defs>\n<linearGradient id=\"clust14_l_13\" gradientUnits=\"userSpaceOnUse\" x1=\"1029.55\" y1=\"-469.5\" x2=\"887.55\" y2=\"-469.5\" >\n<stop offset=\"0\" style=\"stop-color:#a5a4a5;stop-opacity:1.;\"/>\n<stop offset=\"1\" style=\"stop-color:#e4e3e4;stop-opacity:1.;\"/>\n</linearGradient>\n</defs>\n<polygon fill=\"url(#clust14_l_13)\" stroke=\"#a5a4a5\" points=\"887.55,-378 887.55,-561 1029.55,-561 1029.55,-378 887.55,-378\"/>\n<text text-anchor=\"middle\" x=\"958.55\" y=\"-543.7\" font-family=\"Helvetica,sans-Serif\" font-size=\"14.00\">OutputsWithInjection</text>\n</g>\n<!-- clustermy_while_loopInputsrun -->\n<g id=\"node1\" class=\"node\">\n<title>clustermy_while_loopInputsrun</title>\n<polygon fill=\"#21bfd8\" stroke=\"#21bfd8\" points=\"148.15,-621 106.15,-621 106.15,-597 148.15,-597 160.15,-609 148.15,-621\"/>\n<text text-anchor=\"middle\" x=\"133.15\" y=\"-603.2\" font-family=\"Helvetica,sans-Serif\" font-size=\"14.00\">run</text>\n</g>\n<!-- clustermy_while_loopOutputsWithInjectionran -->\n<g id=\"node7\" class=\"node\">\n<title>clustermy_while_loopOutputsWithInjectionran</title>\n<polygon fill=\"#21bfd8\" stroke=\"#21bfd8\" points=\"1209.56,-680 1167.56,-680 1167.56,-656 1209.56,-656 1221.56,-668 1209.56,-680\"/>\n<text text-anchor=\"middle\" x=\"1194.56\" y=\"-662.2\" font-family=\"Helvetica,sans-Serif\" font-size=\"14.00\">ran</text>\n</g>\n<!-- clustermy_while_loopInputsrun&#45;&gt;clustermy_while_loopOutputsWithInjectionran -->\n<!-- clustermy_while_loopInputsaccumulate_and_run -->\n<g id=\"node2\" class=\"node\">\n<title>clustermy_while_loopInputsaccumulate_and_run</title>\n<polygon fill=\"#21bfd8\" stroke=\"#21bfd8\" points=\"192.53,-405 61.78,-405 61.78,-381 192.53,-381 204.53,-393 192.53,-405\"/>\n<text text-anchor=\"middle\" x=\"133.15\" y=\"-387.2\" font-family=\"Helvetica,sans-Serif\" font-size=\"14.00\">accumulate_and_run</text>\n</g>\n<!-- clustermy_while_loopInputsx0__user_input -->\n<g id=\"node3\" class=\"node\">\n<title>clustermy_while_loopInputsx0__user_input</title>\n<ellipse fill=\"#edb22c\" stroke=\"#edb22c\" cx=\"133.15\" cy=\"-555\" rx=\"70.36\" ry=\"18\"/>\n<text text-anchor=\"middle\" x=\"133.15\" y=\"-549.2\" font-family=\"Helvetica,sans-Serif\" font-size=\"14.00\">x0__user_input</text>\n</g>\n<!-- clustermy_while_loopx0Inputsuser_input -->\n<g id=\"node12\" class=\"node\">\n<title>clustermy_while_loopx0Inputsuser_input</title>\n<ellipse fill=\"#edb22c\" stroke=\"#edb22c\" cx=\"357.68\" cy=\"-661\" rx=\"51.35\" ry=\"18\"/>\n<text text-anchor=\"middle\" x=\"357.68\" y=\"-655.2\" font-family=\"Helvetica,sans-Serif\" font-size=\"14.00\">user_input</text>\n</g>\n<!-- clustermy_while_loopInputsx0__user_input&#45;&gt;clustermy_while_loopx0Inputsuser_input -->\n<g id=\"edge10\" class=\"edge\">\n<title>clustermy_while_loopInputsx0__user_input&#45;&gt;clustermy_while_loopx0Inputsuser_input</title>\n<path fill=\"none\" stroke=\"#edb22c\" d=\"M203.62,-556.43C223.55,-560.16 243.79,-567.66 258.3,-582 263.49,-587.12 265.1,-592.37 265.31,-597.68\"/>\n<path fill=\"none\" stroke=\"#edb22c\" d=\"M265.31,-597.68C265.78,-609.64 259.14,-621.95 270.3,-634 277.75,-642.04 287.56,-647.7 297.88,-651.69\"/>\n<polygon fill=\"#edb22c\" stroke=\"#edb22c\" points=\"296.72,-654.99 307.31,-654.79 298.9,-648.34 296.72,-654.99\"/>\n</g>\n<!-- clustermy_while_loopInputslimit__user_input -->\n<g id=\"node4\" class=\"node\">\n<title>clustermy_while_loopInputslimit__user_input</title>\n<ellipse fill=\"#edb22c\" stroke=\"#edb22c\" cx=\"133.15\" cy=\"-447\" rx=\"77.18\" ry=\"18\"/>\n<text text-anchor=\"middle\" x=\"133.15\" y=\"-441.2\" font-family=\"Helvetica,sans-Serif\" font-size=\"14.00\">limit__user_input</text>\n</g>\n<!-- clustermy_while_looplimitInputsuser_input -->\n<g id=\"node18\" class=\"node\">\n<title>clustermy_while_looplimitInputsuser_input</title>\n<ellipse fill=\"#edb22c\" stroke=\"#edb22c\" cx=\"357.68\" cy=\"-403\" rx=\"51.35\" ry=\"18\"/>\n<text text-anchor=\"middle\" x=\"357.68\" y=\"-397.2\" font-family=\"Helvetica,sans-Serif\" font-size=\"14.00\">user_input</text>\n</g>\n<!-- clustermy_while_loopInputslimit__user_input&#45;&gt;clustermy_while_looplimitInputsuser_input -->\n<g id=\"edge11\" class=\"edge\">\n<title>clustermy_while_loopInputslimit__user_input&#45;&gt;clustermy_while_looplimitInputsuser_input</title>\n<path fill=\"none\" stroke=\"#edb22c\" d=\"M193.2,-435.32C209.9,-432.02 228.63,-428.32 247.29,-424.63\"/>\n<path fill=\"none\" stroke=\"#edb22c\" d=\"M247.29,-424.63C265.95,-420.94 284.54,-417.26 300.96,-414.02\"/>\n<polygon fill=\"#edb22c\" stroke=\"#edb22c\" points=\"301.57,-417.46 310.7,-412.09 300.21,-410.6 301.57,-417.46\"/>\n</g>\n<!-- clustermy_while_loopInputsstep__user_input -->\n<g id=\"node5\" class=\"node\">\n<title>clustermy_while_loopInputsstep__user_input</title>\n<ellipse fill=\"#edb22c\" stroke=\"#edb22c\" cx=\"133.15\" cy=\"-339\" rx=\"77.67\" ry=\"18\"/>\n<text text-anchor=\"middle\" x=\"133.15\" y=\"-333.2\" font-family=\"Helvetica,sans-Serif\" font-size=\"14.00\">step__user_input</text>\n</g>\n<!-- clustermy_while_loopstepInputsuser_input -->\n<g id=\"node24\" class=\"node\">\n<title>clustermy_while_loopstepInputsuser_input</title>\n<ellipse fill=\"#edb22c\" stroke=\"#edb22c\" cx=\"357.68\" cy=\"-173\" rx=\"51.35\" ry=\"18\"/>\n<text text-anchor=\"middle\" x=\"357.68\" y=\"-167.2\" font-family=\"Helvetica,sans-Serif\" font-size=\"14.00\">user_input</text>\n</g>\n<!-- clustermy_while_loopInputsstep__user_input&#45;&gt;clustermy_while_loopstepInputsuser_input -->\n<g id=\"edge12\" class=\"edge\">\n<title>clustermy_while_loopInputsstep__user_input&#45;&gt;clustermy_while_loopstepInputsuser_input</title>\n<path fill=\"none\" stroke=\"#edb22c\" d=\"M157.55,-321.55C177.7,-306.51 208.43,-283.59 239.75,-260.23\"/>\n<path fill=\"none\" stroke=\"#edb22c\" d=\"M239.75,-260.23C271.08,-236.86 303,-213.04 325.56,-196.22\"/>\n<polygon fill=\"#edb22c\" stroke=\"#edb22c\" points=\"327.45,-199.17 333.38,-190.38 323.27,-193.56 327.45,-199.17\"/>\n</g>\n<!-- clustermy_while_loopInputsadd_while__max_iterations -->\n<g id=\"node6\" class=\"node\">\n<title>clustermy_while_loopInputsadd_while__max_iterations</title>\n<ellipse fill=\"#edb22c\" stroke=\"#edb22c\" cx=\"133.15\" cy=\"-501\" rx=\"117.15\" ry=\"18\"/>\n<text text-anchor=\"middle\" x=\"133.15\" y=\"-495.2\" font-family=\"Helvetica,sans-Serif\" font-size=\"14.00\">add_while__max_iterations</text>\n</g>\n<!-- clustermy_while_loopadd_whileInputsmax_iterations -->\n<g id=\"node34\" class=\"node\">\n<title>clustermy_while_loopadd_whileInputsmax_iterations</title>\n<ellipse fill=\"#edb22c\" stroke=\"#edb22c\" cx=\"780.18\" cy=\"-525\" rx=\"67.92\" ry=\"18\"/>\n<text text-anchor=\"middle\" x=\"780.18\" y=\"-519.2\" font-family=\"Helvetica,sans-Serif\" font-size=\"14.00\">max_iterations</text>\n</g>\n<!-- clustermy_while_loopInputsadd_while__max_iterations&#45;&gt;clustermy_while_loopadd_whileInputsmax_iterations -->\n<g id=\"edge13\" class=\"edge\">\n<title>clustermy_while_loopInputsadd_while__max_iterations&#45;&gt;clustermy_while_loopadd_whileInputsmax_iterations</title>\n<path fill=\"none\" stroke=\"#edb22c\" d=\"M247.62,-505.22C312.79,-507.65 397.99,-510.82 481.02,-513.91\"/>\n<path fill=\"none\" stroke=\"#edb22c\" d=\"M481.02,-513.91C564.05,-517 644.92,-520 701.44,-522.11\"/>\n<polygon fill=\"#edb22c\" stroke=\"#edb22c\" points=\"701.09,-525.6 711.22,-522.47 701.36,-518.6 701.09,-525.6\"/>\n</g>\n<!-- clustermy_while_loopOutputsWithInjectionfailed -->\n<g id=\"node8\" class=\"node\">\n<title>clustermy_while_loopOutputsWithInjectionfailed</title>\n<polygon fill=\"#21bfd8\" stroke=\"#21bfd8\" points=\"1209.56,-626 1167.56,-626 1167.56,-602 1209.56,-602 1221.56,-614 1209.56,-626\"/>\n<text text-anchor=\"middle\" x=\"1194.56\" y=\"-608.2\" font-family=\"Helvetica,sans-Serif\" font-size=\"14.00\">failed</text>\n</g>\n<!-- clustermy_while_loopOutputsWithInjectionadd_while__add -->\n<g id=\"node9\" class=\"node\">\n<title>clustermy_while_loopOutputsWithInjectionadd_while__add</title>\n<ellipse fill=\"none\" stroke=\"#edb22c\" stroke-width=\"2\" cx=\"1194.56\" cy=\"-560\" rx=\"74.26\" ry=\"18\"/>\n<text text-anchor=\"middle\" x=\"1194.56\" y=\"-554.2\" font-family=\"Helvetica,sans-Serif\" font-size=\"14.00\">add_while__add</text>\n</g>\n<!-- clustermy_while_loopx0Inputsrun -->\n<g id=\"node10\" class=\"node\">\n<title>clustermy_while_loopx0Inputsrun</title>\n<polygon fill=\"#21bfd8\" stroke=\"#21bfd8\" points=\"372.68,-565 330.68,-565 330.68,-541 372.68,-541 384.68,-553 372.68,-565\"/>\n<text text-anchor=\"middle\" x=\"357.68\" y=\"-547.2\" font-family=\"Helvetica,sans-Serif\" font-size=\"14.00\">run</text>\n</g>\n<!-- clustermy_while_loopx0OutputsWithInjectionran -->\n<g id=\"node13\" class=\"node\">\n<title>clustermy_while_loopx0OutputsWithInjectionran</title>\n<polygon fill=\"#21bfd8\" stroke=\"#21bfd8\" points=\"566.55,-565 524.55,-565 524.55,-541 566.55,-541 578.55,-553 566.55,-565\"/>\n<text text-anchor=\"middle\" x=\"551.55\" y=\"-547.2\" font-family=\"Helvetica,sans-Serif\" font-size=\"14.00\">ran</text>\n</g>\n<!-- clustermy_while_loopx0Inputsrun&#45;&gt;clustermy_while_loopx0OutputsWithInjectionran -->\n<!-- clustermy_while_loopx0Inputsaccumulate_and_run -->\n<g id=\"node11\" class=\"node\">\n<title>clustermy_while_loopx0Inputsaccumulate_and_run</title>\n<polygon fill=\"#21bfd8\" stroke=\"#21bfd8\" points=\"417.05,-619 286.3,-619 286.3,-595 417.05,-595 429.05,-607 417.05,-619\"/>\n<text text-anchor=\"middle\" x=\"357.68\" y=\"-601.2\" font-family=\"Helvetica,sans-Serif\" font-size=\"14.00\">accumulate_and_run</text>\n</g>\n<!-- clustermy_while_loopx0OutputsWithInjectionfailed -->\n<g id=\"node14\" class=\"node\">\n<title>clustermy_while_loopx0OutputsWithInjectionfailed</title>\n<polygon fill=\"#21bfd8\" stroke=\"#21bfd8\" points=\"566.55,-619 524.55,-619 524.55,-595 566.55,-595 578.55,-607 566.55,-619\"/>\n<text text-anchor=\"middle\" x=\"551.55\" y=\"-601.2\" font-family=\"Helvetica,sans-Serif\" font-size=\"14.00\">failed</text>\n</g>\n<!-- clustermy_while_loopx0OutputsWithInjectionuser_input -->\n<g id=\"node15\" class=\"node\">\n<title>clustermy_while_loopx0OutputsWithInjectionuser_input</title>\n<ellipse fill=\"#edb22c\" stroke=\"#edb22c\" cx=\"551.55\" cy=\"-661\" rx=\"51.35\" ry=\"18\"/>\n<text text-anchor=\"middle\" x=\"551.55\" y=\"-655.2\" font-family=\"Helvetica,sans-Serif\" font-size=\"14.00\">user_input</text>\n</g>\n<!-- clustermy_while_loopadd_whileInputstest_obj -->\n<g id=\"node30\" class=\"node\">\n<title>clustermy_while_loopadd_whileInputstest_obj</title>\n<ellipse fill=\"#edb22c\" stroke=\"#edb22c\" cx=\"780.18\" cy=\"-633\" rx=\"41.11\" ry=\"18\"/>\n<text text-anchor=\"middle\" x=\"780.18\" y=\"-627.2\" font-family=\"Helvetica,sans-Serif\" font-size=\"14.00\">test_obj</text>\n</g>\n<!-- clustermy_while_loopx0OutputsWithInjectionuser_input&#45;&gt;clustermy_while_loopadd_whileInputstest_obj -->\n<g id=\"edge6\" class=\"edge\">\n<title>clustermy_while_loopx0OutputsWithInjectionuser_input&#45;&gt;clustermy_while_loopadd_whileInputstest_obj</title>\n<path fill=\"none\" stroke=\"#edb22c\" d=\"M600.62,-655.06C619.46,-652.73 641.95,-649.96 664.51,-647.17\"/>\n<path fill=\"none\" stroke=\"#edb22c\" d=\"M664.51,-647.17C687.07,-644.38 709.7,-641.58 728.83,-639.22\"/>\n<polygon fill=\"#edb22c\" stroke=\"#edb22c\" points=\"729.22,-642.7 738.72,-638 728.37,-635.75 729.22,-642.7\"/>\n</g>\n<!-- clustermy_while_loopadd_whileInputsbody_obj -->\n<g id=\"node32\" class=\"node\">\n<title>clustermy_while_loopadd_whileInputsbody_obj</title>\n<ellipse fill=\"#edb22c\" stroke=\"#edb22c\" cx=\"780.18\" cy=\"-579\" rx=\"45.98\" ry=\"18\"/>\n<text text-anchor=\"middle\" x=\"780.18\" y=\"-573.2\" font-family=\"Helvetica,sans-Serif\" font-size=\"14.00\">body_obj</text>\n</g>\n<!-- clustermy_while_loopx0OutputsWithInjectionuser_input&#45;&gt;clustermy_while_loopadd_whileInputsbody_obj -->\n<g id=\"edge7\" class=\"edge\">\n<title>clustermy_while_loopx0OutputsWithInjectionuser_input&#45;&gt;clustermy_while_loopadd_whileInputsbody_obj</title>\n<path fill=\"none\" stroke=\"#edb22c\" d=\"M598.33,-653.27C610.32,-649.27 622.33,-643.2 631.05,-634 639.96,-624.61 629.51,-614.74 639.05,-606 640.7,-604.49 642.41,-603.06 644.16,-601.69\"/>\n<path fill=\"none\" stroke=\"#edb22c\" d=\"M644.16,-601.69C666.3,-584.48 696.63,-578.3 722.94,-576.64\"/>\n<polygon fill=\"#edb22c\" stroke=\"#edb22c\" points=\"723.01,-580.14 732.86,-576.25 722.72,-573.15 723.01,-580.14\"/>\n</g>\n<!-- clustermy_while_looplimitInputsrun -->\n<g id=\"node16\" class=\"node\">\n<title>clustermy_while_looplimitInputsrun</title>\n<polygon fill=\"#21bfd8\" stroke=\"#21bfd8\" points=\"372.68,-307 330.68,-307 330.68,-283 372.68,-283 384.68,-295 372.68,-307\"/>\n<text text-anchor=\"middle\" x=\"357.68\" y=\"-289.2\" font-family=\"Helvetica,sans-Serif\" font-size=\"14.00\">run</text>\n</g>\n<!-- clustermy_while_looplimitOutputsWithInjectionran -->\n<g id=\"node19\" class=\"node\">\n<title>clustermy_while_looplimitOutputsWithInjectionran</title>\n<polygon fill=\"#21bfd8\" stroke=\"#21bfd8\" points=\"566.55,-307 524.55,-307 524.55,-283 566.55,-283 578.55,-295 566.55,-307\"/>\n<text text-anchor=\"middle\" x=\"551.55\" y=\"-289.2\" font-family=\"Helvetica,sans-Serif\" font-size=\"14.00\">ran</text>\n</g>\n<!-- clustermy_while_looplimitInputsrun&#45;&gt;clustermy_while_looplimitOutputsWithInjectionran -->\n<!-- clustermy_while_looplimitInputsaccumulate_and_run -->\n<g id=\"node17\" class=\"node\">\n<title>clustermy_while_looplimitInputsaccumulate_and_run</title>\n<polygon fill=\"#21bfd8\" stroke=\"#21bfd8\" points=\"417.05,-361 286.3,-361 286.3,-337 417.05,-337 429.05,-349 417.05,-361\"/>\n<text text-anchor=\"middle\" x=\"357.68\" y=\"-343.2\" font-family=\"Helvetica,sans-Serif\" font-size=\"14.00\">accumulate_and_run</text>\n</g>\n<!-- clustermy_while_looplimitOutputsWithInjectionfailed -->\n<g id=\"node20\" class=\"node\">\n<title>clustermy_while_looplimitOutputsWithInjectionfailed</title>\n<polygon fill=\"#21bfd8\" stroke=\"#21bfd8\" points=\"566.55,-361 524.55,-361 524.55,-337 566.55,-337 578.55,-349 566.55,-361\"/>\n<text text-anchor=\"middle\" x=\"551.55\" y=\"-343.2\" font-family=\"Helvetica,sans-Serif\" font-size=\"14.00\">failed</text>\n</g>\n<!-- clustermy_while_looplimitOutputsWithInjectionuser_input -->\n<g id=\"node21\" class=\"node\">\n<title>clustermy_while_looplimitOutputsWithInjectionuser_input</title>\n<ellipse fill=\"#edb22c\" stroke=\"#edb22c\" cx=\"551.55\" cy=\"-403\" rx=\"51.35\" ry=\"18\"/>\n<text text-anchor=\"middle\" x=\"551.55\" y=\"-397.2\" font-family=\"Helvetica,sans-Serif\" font-size=\"14.00\">user_input</text>\n</g>\n<!-- clustermy_while_loopadd_whileInputstest_other -->\n<g id=\"node31\" class=\"node\">\n<title>clustermy_while_loopadd_whileInputstest_other</title>\n<ellipse fill=\"#edb22c\" stroke=\"#edb22c\" cx=\"780.18\" cy=\"-471\" rx=\"49.4\" ry=\"18\"/>\n<text text-anchor=\"middle\" x=\"780.18\" y=\"-465.2\" font-family=\"Helvetica,sans-Serif\" font-size=\"14.00\">test_other</text>\n</g>\n<!-- clustermy_while_looplimitOutputsWithInjectionuser_input&#45;&gt;clustermy_while_loopadd_whileInputstest_other -->\n<g id=\"edge8\" class=\"edge\">\n<title>clustermy_while_looplimitOutputsWithInjectionuser_input&#45;&gt;clustermy_while_loopadd_whileInputstest_other</title>\n<path fill=\"none\" stroke=\"#edb22c\" d=\"M580.25,-418.33C596.88,-426.97 618.68,-437.33 639.05,-444 642.33,-445.07 645.66,-446.11 649.04,-447.11\"/>\n<path fill=\"none\" stroke=\"#edb22c\" d=\"M649.04,-447.11C673.14,-454.25 699.37,-459.55 721.93,-463.32\"/>\n<polygon fill=\"#edb22c\" stroke=\"#edb22c\" points=\"721.08,-466.73 731.51,-464.86 722.19,-459.82 721.08,-466.73\"/>\n</g>\n<!-- clustermy_while_loopstepInputsrun -->\n<g id=\"node22\" class=\"node\">\n<title>clustermy_while_loopstepInputsrun</title>\n<polygon fill=\"#21bfd8\" stroke=\"#21bfd8\" points=\"372.68,-77 330.68,-77 330.68,-53 372.68,-53 384.68,-65 372.68,-77\"/>\n<text text-anchor=\"middle\" x=\"357.68\" y=\"-59.2\" font-family=\"Helvetica,sans-Serif\" font-size=\"14.00\">run</text>\n</g>\n<!-- clustermy_while_loopstepOutputsWithInjectionran -->\n<g id=\"node25\" class=\"node\">\n<title>clustermy_while_loopstepOutputsWithInjectionran</title>\n<polygon fill=\"#21bfd8\" stroke=\"#21bfd8\" points=\"566.55,-77 524.55,-77 524.55,-53 566.55,-53 578.55,-65 566.55,-77\"/>\n<text text-anchor=\"middle\" x=\"551.55\" y=\"-59.2\" font-family=\"Helvetica,sans-Serif\" font-size=\"14.00\">ran</text>\n</g>\n<!-- clustermy_while_loopstepInputsrun&#45;&gt;clustermy_while_loopstepOutputsWithInjectionran -->\n<!-- clustermy_while_loopstepInputsaccumulate_and_run -->\n<g id=\"node23\" class=\"node\">\n<title>clustermy_while_loopstepInputsaccumulate_and_run</title>\n<polygon fill=\"#21bfd8\" stroke=\"#21bfd8\" points=\"417.05,-131 286.3,-131 286.3,-107 417.05,-107 429.05,-119 417.05,-131\"/>\n<text text-anchor=\"middle\" x=\"357.68\" y=\"-113.2\" font-family=\"Helvetica,sans-Serif\" font-size=\"14.00\">accumulate_and_run</text>\n</g>\n<!-- clustermy_while_loopstepOutputsWithInjectionfailed -->\n<g id=\"node26\" class=\"node\">\n<title>clustermy_while_loopstepOutputsWithInjectionfailed</title>\n<polygon fill=\"#21bfd8\" stroke=\"#21bfd8\" points=\"566.55,-131 524.55,-131 524.55,-107 566.55,-107 578.55,-119 566.55,-131\"/>\n<text text-anchor=\"middle\" x=\"551.55\" y=\"-113.2\" font-family=\"Helvetica,sans-Serif\" font-size=\"14.00\">failed</text>\n</g>\n<!-- clustermy_while_loopstepOutputsWithInjectionuser_input -->\n<g id=\"node27\" class=\"node\">\n<title>clustermy_while_loopstepOutputsWithInjectionuser_input</title>\n<ellipse fill=\"#edb22c\" stroke=\"#edb22c\" cx=\"551.55\" cy=\"-173\" rx=\"51.35\" ry=\"18\"/>\n<text text-anchor=\"middle\" x=\"551.55\" y=\"-167.2\" font-family=\"Helvetica,sans-Serif\" font-size=\"14.00\">user_input</text>\n</g>\n<!-- clustermy_while_loopadd_whileInputsbody_other -->\n<g id=\"node33\" class=\"node\">\n<title>clustermy_while_loopadd_whileInputsbody_other</title>\n<ellipse fill=\"#edb22c\" stroke=\"#edb22c\" cx=\"780.18\" cy=\"-417\" rx=\"54.27\" ry=\"18\"/>\n<text text-anchor=\"middle\" x=\"780.18\" y=\"-411.2\" font-family=\"Helvetica,sans-Serif\" font-size=\"14.00\">body_other</text>\n</g>\n<!-- clustermy_while_loopstepOutputsWithInjectionuser_input&#45;&gt;clustermy_while_loopadd_whileInputsbody_other -->\n<g id=\"edge9\" class=\"edge\">\n<title>clustermy_while_loopstepOutputsWithInjectionuser_input&#45;&gt;clustermy_while_loopadd_whileInputsbody_other</title>\n<path fill=\"none\" stroke=\"#edb22c\" d=\"M572.78,-189.61C591.61,-206.42 618.59,-234.26 631.05,-265 635.92,-277 634.01,-300.37 632.42,-324.04\"/>\n<path fill=\"none\" stroke=\"#edb22c\" d=\"M632.42,-324.04C630.6,-351.24 629.22,-378.83 639.05,-390 657.98,-411.49 688.38,-419.07 716.03,-420.94\"/>\n<polygon fill=\"#edb22c\" stroke=\"#edb22c\" points=\"715.62,-424.42 725.76,-421.34 715.91,-417.43 715.62,-424.42\"/>\n</g>\n<!-- clustermy_while_loopadd_whileInputsrun -->\n<g id=\"node28\" class=\"node\">\n<title>clustermy_while_loopadd_whileInputsrun</title>\n<polygon fill=\"#21bfd8\" stroke=\"#21bfd8\" points=\"795.18,-321 753.18,-321 753.18,-297 795.18,-297 807.18,-309 795.18,-321\"/>\n<text text-anchor=\"middle\" x=\"780.18\" y=\"-303.2\" font-family=\"Helvetica,sans-Serif\" font-size=\"14.00\">run</text>\n</g>\n<!-- clustermy_while_loopadd_whileOutputsWithInjectionran -->\n<g id=\"node35\" class=\"node\">\n<title>clustermy_while_loopadd_whileOutputsWithInjectionran</title>\n<polygon fill=\"#21bfd8\" stroke=\"#21bfd8\" points=\"973.05,-416 931.05,-416 931.05,-392 973.05,-392 985.05,-404 973.05,-416\"/>\n<text text-anchor=\"middle\" x=\"958.05\" y=\"-398.2\" font-family=\"Helvetica,sans-Serif\" font-size=\"14.00\">ran</text>\n</g>\n<!-- clustermy_while_loopadd_whileInputsrun&#45;&gt;clustermy_while_loopadd_whileOutputsWithInjectionran -->\n<!-- clustermy_while_loopadd_whileInputsaccumulate_and_run -->\n<g id=\"node29\" class=\"node\">\n<title>clustermy_while_loopadd_whileInputsaccumulate_and_run</title>\n<polygon fill=\"#21bfd8\" stroke=\"#21bfd8\" points=\"839.55,-375 708.8,-375 708.8,-351 839.55,-351 851.55,-363 839.55,-375\"/>\n<text text-anchor=\"middle\" x=\"780.18\" y=\"-357.2\" font-family=\"Helvetica,sans-Serif\" font-size=\"14.00\">accumulate_and_run</text>\n</g>\n<!-- clustermy_while_loopadd_whileOutputsWithInjectionfailed -->\n<g id=\"node36\" class=\"node\">\n<title>clustermy_while_loopadd_whileOutputsWithInjectionfailed</title>\n<polygon fill=\"#21bfd8\" stroke=\"#21bfd8\" points=\"973.05,-470 931.05,-470 931.05,-446 973.05,-446 985.05,-458 973.05,-470\"/>\n<text text-anchor=\"middle\" x=\"958.05\" y=\"-452.2\" font-family=\"Helvetica,sans-Serif\" font-size=\"14.00\">failed</text>\n</g>\n<!-- clustermy_while_loopadd_whileOutputsWithInjectionadd -->\n<g id=\"node37\" class=\"node\">\n<title>clustermy_while_loopadd_whileOutputsWithInjectionadd</title>\n<ellipse fill=\"none\" stroke=\"#edb22c\" stroke-width=\"2\" cx=\"958.05\" cy=\"-512\" rx=\"27\" ry=\"18\"/>\n<text text-anchor=\"middle\" x=\"958.05\" y=\"-506.2\" font-family=\"Helvetica,sans-Serif\" font-size=\"14.00\">add</text>\n</g>\n<!-- clustermy_while_loopadd_whileOutputsWithInjectionadd&#45;&gt;clustermy_while_loopOutputsWithInjectionadd_while__add -->\n<g id=\"edge14\" class=\"edge\">\n<title>clustermy_while_loopadd_whileOutputsWithInjectionadd&#45;&gt;clustermy_while_loopOutputsWithInjectionadd_while__add</title>\n<path fill=\"none\" stroke=\"#edb22c\" d=\"M984.15,-517.14C1000.89,-520.56 1024.39,-525.37 1049.64,-530.54\"/>\n<path fill=\"none\" stroke=\"#edb22c\" d=\"M1049.64,-530.54C1074.88,-535.71 1101.87,-541.23 1125.57,-546.08\"/>\n<polygon fill=\"#edb22c\" stroke=\"#edb22c\" points=\"1124.72,-549.48 1135.22,-548.06 1126.12,-542.62 1124.72,-549.48\"/>\n</g>\n</g>\n</svg>\n",
      "text/plain": [
       "<graphviz.graphs.Digraph at 0x10b9fae40>"
      ]
     },
     "execution_count": 108,
     "metadata": {},
     "output_type": "execute_result"
    }
   ],
   "execution_count": 108
  },
  {
   "metadata": {},
   "cell_type": "markdown",
   "source": "We see that the while-node automatically builds its input to reflect the inputs of both the test and body nodes (with appropriately prefixed labels), and adds an extra channel to limit the max iterations, while the outputs reflect the body node outputs directly.",
   "id": "4c54e4e2ffdc0d8e"
  },
  {
   "metadata": {
    "ExecuteTime": {
     "end_time": "2025-06-18T17:46:43.325482Z",
     "start_time": "2025-06-18T17:46:43.317388Z"
    }
   },
   "cell_type": "code",
   "source": "wf()",
   "id": "d31f2c4fc63344a8",
   "outputs": [
    {
     "data": {
      "text/plain": [
       "{'add_while__add': 6}"
      ]
     },
     "execution_count": 109,
     "metadata": {},
     "output_type": "execute_result"
    }
   ],
   "execution_count": 109
  },
  {
   "metadata": {},
   "cell_type": "markdown",
   "source": "And we nicely took steps of 2 until we were over our limit.",
   "id": "19c1b75be0173048"
  },
  {
   "metadata": {
    "ExecuteTime": {
     "end_time": "2025-06-18T17:46:43.347852Z",
     "start_time": "2025-06-18T17:46:43.345557Z"
    }
   },
   "cell_type": "code",
   "source": "wf.add_while.child_labels",
   "id": "8579d6da96c311d6",
   "outputs": [
    {
     "data": {
      "text/plain": [
       "('test_0',\n",
       " 'body_0',\n",
       " 'test_1',\n",
       " 'body_1',\n",
       " 'test_2',\n",
       " 'body_2',\n",
       " 'test_3',\n",
       " 'body_3')"
      ]
     },
     "execution_count": 110,
     "metadata": {},
     "output_type": "execute_result"
    }
   ],
   "execution_count": 110
  },
  {
   "metadata": {},
   "cell_type": "markdown",
   "source": "Note that the final test node evaluated `False`, so we're getting out output from the pen-ultimate body node, while the ultimate body node is vestigial",
   "id": "57c772cbb686ab4a"
  },
  {
   "metadata": {
    "ExecuteTime": {
     "end_time": "2025-06-18T17:46:43.362740Z",
     "start_time": "2025-06-18T17:46:43.360889Z"
    }
   },
   "cell_type": "code",
   "source": "wf.add_while.body_2.outputs.add.value",
   "id": "fd59d8fa70a0efc1",
   "outputs": [
    {
     "data": {
      "text/plain": [
       "6"
      ]
     },
     "execution_count": 111,
     "metadata": {},
     "output_type": "execute_result"
    }
   ],
   "execution_count": 111
  },
  {
   "metadata": {
    "ExecuteTime": {
     "end_time": "2025-06-18T17:46:43.385159Z",
     "start_time": "2025-06-18T17:46:43.382886Z"
    }
   },
   "cell_type": "code",
   "source": "wf.add_while.body_3.outputs.add.value",
   "id": "903cd226be3c1a76",
   "outputs": [
    {
     "data": {
      "text/plain": [
       "NOT_DATA"
      ]
     },
     "execution_count": 112,
     "metadata": {},
     "output_type": "execute_result"
    }
   ],
   "execution_count": 112
  },
  {
   "cell_type": "markdown",
   "id": "46af7a97-57dc-4d68-886f-c6f00de97597",
   "metadata": {},
   "source": "And, of course, we can save and load while loops as usual"
  },
  {
   "cell_type": "code",
   "id": "4a7eece3-20dd-4f57-88f2-5a1076daeb08",
   "metadata": {
    "ExecuteTime": {
     "end_time": "2025-06-18T17:46:43.415347Z",
     "start_time": "2025-06-18T17:46:43.411013Z"
    }
   },
   "source": [
    "import pickle\n",
    "\n",
    "reloaded = pickle.loads(pickle.dumps(wf))\n",
    "reloaded.outputs.to_value_dict()"
   ],
   "outputs": [
    {
     "data": {
      "text/plain": [
       "{'add_while__add': 6}"
      ]
     },
     "execution_count": 113,
     "metadata": {},
     "output_type": "execute_result"
    }
   ],
   "execution_count": 113
  },
  {
   "cell_type": "markdown",
   "id": "900d1943-c594-409f-9174-18ab89fa45dd",
   "metadata": {},
   "source": [
    "## Handling failure\n",
    "\n",
    "Sometimes a node might fail -- sometimes we might even anticipate the possibility. `pyiron_workflow` allows for this with the runtime flag  `raise_run_exceptions`. There is even an output signal `failed` to allow you to manage flow control based off of node failure (although, like cyclic graphs, this requires manual management of the execution flow).\n",
    "\n",
    "Here is an example of this feature, including chaining further execution off of a failure and having failure occur inside the context of an executor:"
   ]
  },
  {
   "cell_type": "code",
   "id": "be3e780b-b3cb-43d9-917f-ed3b2210e521",
   "metadata": {
    "ExecuteTime": {
     "end_time": "2025-06-18T17:46:44.133194Z",
     "start_time": "2025-06-18T17:46:43.436742Z"
    }
   },
   "source": [
    "wf = pwf.Workflow(\"test\")\n",
    "wf.a = pwf.std.UserInput(1)\n",
    "wf.b = pwf.std.UserInput(\"two\")\n",
    "wf.c_fails = wf.a + wf.b  # Type error\n",
    "wf.d_if_success = pwf.std.UserInput(0)\n",
    "wf.d_if_failure = pwf.std.UserInput(\"But what's the question?\")\n",
    "wf.e_fails = pwf.std.Add(wf.d_if_failure, 42)  # Type error\n",
    "\n",
    "wf.a >> wf.b >> wf.c_fails >> wf.d_if_success\n",
    "wf.c_fails.signals.output.failed >> wf.d_if_failure >> wf.e_fails\n",
    "wf.starting_nodes = [wf.a]\n",
    "wf.automate_execution = False\n",
    "\n",
    "with pwf.Workflow.create.ProcessPoolExecutor() as exe:\n",
    "    wf.c_fails.executor = exe\n",
    "    wf(raise_run_exceptions=False)\n",
    "\n",
    "wf.draw(size=(10, 10))"
   ],
   "outputs": [
    {
     "name": "stderr",
     "output_type": "stream",
     "text": [
      "exception calling callback for <Future at 0x15a50b3b0 state=finished raised TypeError>\n",
      "concurrent.futures.process._RemoteTraceback: \n",
      "\"\"\"\n",
      "Traceback (most recent call last):\n",
      "  File \"/Users/liamhuber/dev/miniforge3/envs/pyiron12/lib/python3.12/concurrent/futures/process.py\", line 263, in _process_worker\n",
      "    r = call_item.fn(*call_item.args, **call_item.kwargs)\n",
      "        ^^^^^^^^^^^^^^^^^^^^^^^^^^^^^^^^^^^^^^^^^^^^^^^^^\n",
      "  File \"/Users/liamhuber/dev/pyiron/pyiron_workflow/pyiron_workflow/node.py\", line 398, in on_run\n",
      "    result = self._on_run(*args, **kwargs)\n",
      "             ^^^^^^^^^^^^^^^^^^^^^^^^^^^^^\n",
      "  File \"/Users/liamhuber/dev/pyiron/pyiron_workflow/pyiron_workflow/nodes/function.py\", line 318, in _on_run\n",
      "    return self.node_function(**kwargs)\n",
      "           ^^^^^^^^^^^^^^^^^^^^^^^^^^^^\n",
      "  File \"/Users/liamhuber/dev/pyiron/pyiron_workflow/pyiron_workflow/nodes/standard.py\", line 506, in Add\n",
      "    return obj + other\n",
      "           ~~~~^~~~~~~\n",
      "TypeError: unsupported operand type(s) for +: 'int' and 'str'\n",
      "\"\"\"\n",
      "\n",
      "The above exception was the direct cause of the following exception:\n",
      "\n",
      "Traceback (most recent call last):\n",
      "  File \"/Users/liamhuber/dev/miniforge3/envs/pyiron12/lib/python3.12/concurrent/futures/_base.py\", line 340, in _invoke_callbacks\n",
      "    callback(self)\n",
      "  File \"/Users/liamhuber/dev/pyiron/pyiron_workflow/pyiron_workflow/mixin/run.py\", line 305, in _finish_run\n",
      "    raise e\n",
      "  File \"/Users/liamhuber/dev/pyiron/pyiron_workflow/pyiron_workflow/mixin/run.py\", line 300, in _finish_run\n",
      "    run_output = run_output.result()\n",
      "                 ^^^^^^^^^^^^^^^^^^^\n",
      "  File \"/Users/liamhuber/dev/miniforge3/envs/pyiron12/lib/python3.12/concurrent/futures/_base.py\", line 449, in result\n",
      "    return self.__get_result()\n",
      "           ^^^^^^^^^^^^^^^^^^^\n",
      "  File \"/Users/liamhuber/dev/miniforge3/envs/pyiron12/lib/python3.12/concurrent/futures/_base.py\", line 401, in __get_result\n",
      "    raise self._exception\n",
      "TypeError: unsupported operand type(s) for +: 'int' and 'str'\n"
     ]
    },
    {
     "data": {
      "image/svg+xml": "<?xml version=\"1.0\" encoding=\"UTF-8\" standalone=\"no\"?>\n<!DOCTYPE svg PUBLIC \"-//W3C//DTD SVG 1.1//EN\"\n \"http://www.w3.org/Graphics/SVG/1.1/DTD/svg11.dtd\">\n<!-- Generated by graphviz version 12.0.0 (0)\n -->\n<!-- Title: clustertest Pages: 1 -->\n<svg width=\"720pt\" height=\"206pt\"\n viewBox=\"0.00 0.00 720.00 205.86\" xmlns=\"http://www.w3.org/2000/svg\" xmlns:xlink=\"http://www.w3.org/1999/xlink\">\n<g id=\"graph0\" class=\"graph\" transform=\"scale(0.314286 0.314286) rotate(0) translate(4 651)\">\n<title>clustertest</title>\n<polygon fill=\"white\" stroke=\"none\" points=\"-4,4 -4,-651 2286.91,-651 2286.91,4 -4,4\"/>\n<text text-anchor=\"middle\" x=\"1141.46\" y=\"-5.7\" font-family=\"Helvetica,sans-Serif\" font-size=\"14.00\">test: Workflow</text>\n<g id=\"clust1\" class=\"cluster\">\n<title>clustertestInputs</title>\n<defs>\n<linearGradient id=\"clust1_l_0\" gradientUnits=\"userSpaceOnUse\" x1=\"8\" y1=\"-230.5\" x2=\"247.58\" y2=\"-230.5\" >\n<stop offset=\"0\" style=\"stop-color:#a5a4a5;stop-opacity:1.;\"/>\n<stop offset=\"1\" style=\"stop-color:#e4e3e4;stop-opacity:1.;\"/>\n</linearGradient>\n</defs>\n<polygon fill=\"url(#clust1_l_0)\" stroke=\"#a5a4a5\" points=\"8,-31 8,-430 247.58,-430 247.58,-31 8,-31\"/>\n<text text-anchor=\"middle\" x=\"127.79\" y=\"-412.7\" font-family=\"Helvetica,sans-Serif\" font-size=\"14.00\">Inputs</text>\n</g>\n<g id=\"clust2\" class=\"cluster\">\n<title>clustertestOutputsWithInjection</title>\n<defs>\n<linearGradient id=\"clust2_l_1\" gradientUnits=\"userSpaceOnUse\" x1=\"2274.91\" y1=\"-334.5\" x2=\"2035.33\" y2=\"-334.5\" >\n<stop offset=\"0\" style=\"stop-color:#a5a4a5;stop-opacity:1.;\"/>\n<stop offset=\"1\" style=\"stop-color:#e4e3e4;stop-opacity:1.;\"/>\n</linearGradient>\n</defs>\n<polygon fill=\"url(#clust2_l_1)\" stroke=\"#a5a4a5\" points=\"2035.33,-189 2035.33,-480 2274.91,-480 2274.91,-189 2035.33,-189\"/>\n<text text-anchor=\"middle\" x=\"2155.12\" y=\"-462.7\" font-family=\"Helvetica,sans-Serif\" font-size=\"14.00\">OutputsWithInjection</text>\n</g>\n<g id=\"clust3\" class=\"cluster\">\n<title>clustertesta</title>\n<defs>\n<linearGradient id=\"clust3_l_2\" gradientUnits=\"userSpaceOnUse\" x1=\"259.58\" y1=\"-430\" x2=\"604.33\" y2=\"-430\" >\n<stop offset=\"0\" style=\"stop-color:#bfe2bf;stop-opacity:1.;\"/>\n<stop offset=\"1\" style=\"stop-color:#bfe2bf;stop-opacity:1.;\"/>\n</linearGradient>\n</defs>\n<polygon fill=\"url(#clust3_l_2)\" stroke=\"#2ca02c\" stroke-width=\"2\" points=\"259.58,-319 259.58,-541 604.33,-541 604.33,-319 259.58,-319\"/>\n<text text-anchor=\"middle\" x=\"431.96\" y=\"-523.7\" font-family=\"Helvetica,sans-Serif\" font-size=\"14.00\">a: UserInput</text>\n</g>\n<g id=\"clust4\" class=\"cluster\">\n<title>clustertestaInputs</title>\n<defs>\n<linearGradient id=\"clust4_l_3\" gradientUnits=\"userSpaceOnUse\" x1=\"267.58\" y1=\"-418.5\" x2=\"426.33\" y2=\"-418.5\" >\n<stop offset=\"0\" style=\"stop-color:#a5a4a5;stop-opacity:1.;\"/>\n<stop offset=\"1\" style=\"stop-color:#e4e3e4;stop-opacity:1.;\"/>\n</linearGradient>\n</defs>\n<polygon fill=\"url(#clust4_l_3)\" stroke=\"#a5a4a5\" points=\"267.58,-327 267.58,-510 426.33,-510 426.33,-327 267.58,-327\"/>\n<text text-anchor=\"middle\" x=\"346.96\" y=\"-492.7\" font-family=\"Helvetica,sans-Serif\" font-size=\"14.00\">Inputs</text>\n</g>\n<g id=\"clust5\" class=\"cluster\">\n<title>clustertestaOutputsWithInjection</title>\n<defs>\n<linearGradient id=\"clust5_l_4\" gradientUnits=\"userSpaceOnUse\" x1=\"596.33\" y1=\"-418.5\" x2=\"454.33\" y2=\"-418.5\" >\n<stop offset=\"0\" style=\"stop-color:#a5a4a5;stop-opacity:1.;\"/>\n<stop offset=\"1\" style=\"stop-color:#e4e3e4;stop-opacity:1.;\"/>\n</linearGradient>\n</defs>\n<polygon fill=\"url(#clust5_l_4)\" stroke=\"#a5a4a5\" points=\"454.33,-327 454.33,-510 596.33,-510 596.33,-327 454.33,-327\"/>\n<text text-anchor=\"middle\" x=\"525.33\" y=\"-492.7\" font-family=\"Helvetica,sans-Serif\" font-size=\"14.00\">OutputsWithInjection</text>\n</g>\n<g id=\"clust6\" class=\"cluster\">\n<title>clustertestb</title>\n<defs>\n<linearGradient id=\"clust6_l_5\" gradientUnits=\"userSpaceOnUse\" x1=\"612.33\" y1=\"-344\" x2=\"957.08\" y2=\"-344\" >\n<stop offset=\"0\" style=\"stop-color:#bfe2bf;stop-opacity:1.;\"/>\n<stop offset=\"1\" style=\"stop-color:#bfe2bf;stop-opacity:1.;\"/>\n</linearGradient>\n</defs>\n<polygon fill=\"url(#clust6_l_5)\" stroke=\"#2ca02c\" stroke-width=\"2\" points=\"612.33,-233 612.33,-455 957.08,-455 957.08,-233 612.33,-233\"/>\n<text text-anchor=\"middle\" x=\"784.71\" y=\"-437.7\" font-family=\"Helvetica,sans-Serif\" font-size=\"14.00\">b: UserInput</text>\n</g>\n<g id=\"clust7\" class=\"cluster\">\n<title>clustertestbInputs</title>\n<defs>\n<linearGradient id=\"clust7_l_6\" gradientUnits=\"userSpaceOnUse\" x1=\"620.33\" y1=\"-332.5\" x2=\"779.08\" y2=\"-332.5\" >\n<stop offset=\"0\" style=\"stop-color:#a5a4a5;stop-opacity:1.;\"/>\n<stop offset=\"1\" style=\"stop-color:#e4e3e4;stop-opacity:1.;\"/>\n</linearGradient>\n</defs>\n<polygon fill=\"url(#clust7_l_6)\" stroke=\"#a5a4a5\" points=\"620.33,-241 620.33,-424 779.08,-424 779.08,-241 620.33,-241\"/>\n<text text-anchor=\"middle\" x=\"699.71\" y=\"-406.7\" font-family=\"Helvetica,sans-Serif\" font-size=\"14.00\">Inputs</text>\n</g>\n<g id=\"clust8\" class=\"cluster\">\n<title>clustertestbOutputsWithInjection</title>\n<defs>\n<linearGradient id=\"clust8_l_7\" gradientUnits=\"userSpaceOnUse\" x1=\"949.08\" y1=\"-332.5\" x2=\"807.08\" y2=\"-332.5\" >\n<stop offset=\"0\" style=\"stop-color:#a5a4a5;stop-opacity:1.;\"/>\n<stop offset=\"1\" style=\"stop-color:#e4e3e4;stop-opacity:1.;\"/>\n</linearGradient>\n</defs>\n<polygon fill=\"url(#clust8_l_7)\" stroke=\"#a5a4a5\" points=\"807.08,-241 807.08,-424 949.08,-424 949.08,-241 807.08,-241\"/>\n<text text-anchor=\"middle\" x=\"878.08\" y=\"-406.7\" font-family=\"Helvetica,sans-Serif\" font-size=\"14.00\">OutputsWithInjection</text>\n</g>\n<g id=\"clust9\" class=\"cluster\">\n<title>clustertestc_fails</title>\n<defs>\n<linearGradient id=\"clust9_l_8\" gradientUnits=\"userSpaceOnUse\" x1=\"965.08\" y1=\"-387\" x2=\"1309.83\" y2=\"-387\" >\n<stop offset=\"0\" style=\"stop-color:#bfe2bf;stop-opacity:1.;\"/>\n<stop offset=\"1\" style=\"stop-color:#bfe2bf;stop-opacity:1.;\"/>\n</linearGradient>\n</defs>\n<polygon fill=\"url(#clust9_l_8)\" stroke=\"#ff0000\" stroke-width=\"2\" points=\"965.08,-249 965.08,-525 1309.83,-525 1309.83,-249 965.08,-249\"/>\n<text text-anchor=\"middle\" x=\"1137.46\" y=\"-507.7\" font-family=\"Helvetica,sans-Serif\" font-size=\"14.00\">c_fails: Add</text>\n</g>\n<g id=\"clust10\" class=\"cluster\">\n<title>clustertestc_failsInputs</title>\n<defs>\n<linearGradient id=\"clust10_l_9\" gradientUnits=\"userSpaceOnUse\" x1=\"973.08\" y1=\"-375.5\" x2=\"1131.83\" y2=\"-375.5\" >\n<stop offset=\"0\" style=\"stop-color:#a5a4a5;stop-opacity:1.;\"/>\n<stop offset=\"1\" style=\"stop-color:#e4e3e4;stop-opacity:1.;\"/>\n</linearGradient>\n</defs>\n<polygon fill=\"url(#clust10_l_9)\" stroke=\"#a5a4a5\" points=\"973.08,-257 973.08,-494 1131.83,-494 1131.83,-257 973.08,-257\"/>\n<text text-anchor=\"middle\" x=\"1052.46\" y=\"-476.7\" font-family=\"Helvetica,sans-Serif\" font-size=\"14.00\">Inputs</text>\n</g>\n<g id=\"clust11\" class=\"cluster\">\n<title>clustertestc_failsOutputsWithInjection</title>\n<defs>\n<linearGradient id=\"clust11_l_10\" gradientUnits=\"userSpaceOnUse\" x1=\"1301.83\" y1=\"-384.5\" x2=\"1159.83\" y2=\"-384.5\" >\n<stop offset=\"0\" style=\"stop-color:#a5a4a5;stop-opacity:1.;\"/>\n<stop offset=\"1\" style=\"stop-color:#e4e3e4;stop-opacity:1.;\"/>\n</linearGradient>\n</defs>\n<polygon fill=\"url(#clust11_l_10)\" stroke=\"#a5a4a5\" points=\"1159.83,-293 1159.83,-476 1301.83,-476 1301.83,-293 1159.83,-293\"/>\n<text text-anchor=\"middle\" x=\"1230.83\" y=\"-458.7\" font-family=\"Helvetica,sans-Serif\" font-size=\"14.00\">OutputsWithInjection</text>\n</g>\n<g id=\"clust12\" class=\"cluster\">\n<title>clustertestd_if_success</title>\n<defs>\n<linearGradient id=\"clust12_l_11\" gradientUnits=\"userSpaceOnUse\" x1=\"1317.83\" y1=\"-528\" x2=\"1670.58\" y2=\"-528\" >\n<stop offset=\"0\" style=\"stop-color:#bfe2bf;stop-opacity:1.;\"/>\n<stop offset=\"1\" style=\"stop-color:#bfe2bf;stop-opacity:1.;\"/>\n</linearGradient>\n</defs>\n<polygon fill=\"url(#clust12_l_11)\" stroke=\"#bfe2bf\" stroke-width=\"2\" points=\"1317.83,-417 1317.83,-639 1670.58,-639 1670.58,-417 1317.83,-417\"/>\n<text text-anchor=\"middle\" x=\"1494.21\" y=\"-621.7\" font-family=\"Helvetica,sans-Serif\" font-size=\"14.00\">d_if_success: UserInput</text>\n</g>\n<g id=\"clust13\" class=\"cluster\">\n<title>clustertestd_if_successInputs</title>\n<defs>\n<linearGradient id=\"clust13_l_12\" gradientUnits=\"userSpaceOnUse\" x1=\"1325.83\" y1=\"-516.5\" x2=\"1484.58\" y2=\"-516.5\" >\n<stop offset=\"0\" style=\"stop-color:#a5a4a5;stop-opacity:1.;\"/>\n<stop offset=\"1\" style=\"stop-color:#e4e3e4;stop-opacity:1.;\"/>\n</linearGradient>\n</defs>\n<polygon fill=\"url(#clust13_l_12)\" stroke=\"#a5a4a5\" points=\"1325.83,-425 1325.83,-608 1484.58,-608 1484.58,-425 1325.83,-425\"/>\n<text text-anchor=\"middle\" x=\"1405.21\" y=\"-590.7\" font-family=\"Helvetica,sans-Serif\" font-size=\"14.00\">Inputs</text>\n</g>\n<g id=\"clust14\" class=\"cluster\">\n<title>clustertestd_if_successOutputsWithInjection</title>\n<defs>\n<linearGradient id=\"clust14_l_13\" gradientUnits=\"userSpaceOnUse\" x1=\"1662.58\" y1=\"-516.5\" x2=\"1520.58\" y2=\"-516.5\" >\n<stop offset=\"0\" style=\"stop-color:#a5a4a5;stop-opacity:1.;\"/>\n<stop offset=\"1\" style=\"stop-color:#e4e3e4;stop-opacity:1.;\"/>\n</linearGradient>\n</defs>\n<polygon fill=\"url(#clust14_l_13)\" stroke=\"#a5a4a5\" points=\"1520.58,-425 1520.58,-608 1662.58,-608 1662.58,-425 1520.58,-425\"/>\n<text text-anchor=\"middle\" x=\"1591.58\" y=\"-590.7\" font-family=\"Helvetica,sans-Serif\" font-size=\"14.00\">OutputsWithInjection</text>\n</g>\n<g id=\"clust15\" class=\"cluster\">\n<title>clustertestd_if_failure</title>\n<defs>\n<linearGradient id=\"clust15_l_14\" gradientUnits=\"userSpaceOnUse\" x1=\"1317.83\" y1=\"-270\" x2=\"1670.58\" y2=\"-270\" >\n<stop offset=\"0\" style=\"stop-color:#bfe2bf;stop-opacity:1.;\"/>\n<stop offset=\"1\" style=\"stop-color:#bfe2bf;stop-opacity:1.;\"/>\n</linearGradient>\n</defs>\n<polygon fill=\"url(#clust15_l_14)\" stroke=\"#2ca02c\" stroke-width=\"2\" points=\"1317.83,-159 1317.83,-381 1670.58,-381 1670.58,-159 1317.83,-159\"/>\n<text text-anchor=\"middle\" x=\"1494.21\" y=\"-363.7\" font-family=\"Helvetica,sans-Serif\" font-size=\"14.00\">d_if_failure: UserInput</text>\n</g>\n<g id=\"clust16\" class=\"cluster\">\n<title>clustertestd_if_failureInputs</title>\n<defs>\n<linearGradient id=\"clust16_l_15\" gradientUnits=\"userSpaceOnUse\" x1=\"1325.83\" y1=\"-258.5\" x2=\"1484.58\" y2=\"-258.5\" >\n<stop offset=\"0\" style=\"stop-color:#a5a4a5;stop-opacity:1.;\"/>\n<stop offset=\"1\" style=\"stop-color:#e4e3e4;stop-opacity:1.;\"/>\n</linearGradient>\n</defs>\n<polygon fill=\"url(#clust16_l_15)\" stroke=\"#a5a4a5\" points=\"1325.83,-167 1325.83,-350 1484.58,-350 1484.58,-167 1325.83,-167\"/>\n<text text-anchor=\"middle\" x=\"1405.21\" y=\"-332.7\" font-family=\"Helvetica,sans-Serif\" font-size=\"14.00\">Inputs</text>\n</g>\n<g id=\"clust17\" class=\"cluster\">\n<title>clustertestd_if_failureOutputsWithInjection</title>\n<defs>\n<linearGradient id=\"clust17_l_16\" gradientUnits=\"userSpaceOnUse\" x1=\"1662.58\" y1=\"-258.5\" x2=\"1520.58\" y2=\"-258.5\" >\n<stop offset=\"0\" style=\"stop-color:#a5a4a5;stop-opacity:1.;\"/>\n<stop offset=\"1\" style=\"stop-color:#e4e3e4;stop-opacity:1.;\"/>\n</linearGradient>\n</defs>\n<polygon fill=\"url(#clust17_l_16)\" stroke=\"#a5a4a5\" points=\"1520.58,-167 1520.58,-350 1662.58,-350 1662.58,-167 1520.58,-167\"/>\n<text text-anchor=\"middle\" x=\"1591.58\" y=\"-332.7\" font-family=\"Helvetica,sans-Serif\" font-size=\"14.00\">OutputsWithInjection</text>\n</g>\n<g id=\"clust18\" class=\"cluster\">\n<title>clusterteste_fails</title>\n<defs>\n<linearGradient id=\"clust18_l_17\" gradientUnits=\"userSpaceOnUse\" x1=\"1678.58\" y1=\"-243\" x2=\"2023.33\" y2=\"-243\" >\n<stop offset=\"0\" style=\"stop-color:#bfe2bf;stop-opacity:1.;\"/>\n<stop offset=\"1\" style=\"stop-color:#bfe2bf;stop-opacity:1.;\"/>\n</linearGradient>\n</defs>\n<polygon fill=\"url(#clust18_l_17)\" stroke=\"#ff0000\" stroke-width=\"2\" points=\"1678.58,-105 1678.58,-381 2023.33,-381 2023.33,-105 1678.58,-105\"/>\n<text text-anchor=\"middle\" x=\"1850.96\" y=\"-363.7\" font-family=\"Helvetica,sans-Serif\" font-size=\"14.00\">e_fails: Add</text>\n</g>\n<g id=\"clust19\" class=\"cluster\">\n<title>clusterteste_failsInputs</title>\n<defs>\n<linearGradient id=\"clust19_l_18\" gradientUnits=\"userSpaceOnUse\" x1=\"1686.58\" y1=\"-231.5\" x2=\"1845.33\" y2=\"-231.5\" >\n<stop offset=\"0\" style=\"stop-color:#a5a4a5;stop-opacity:1.;\"/>\n<stop offset=\"1\" style=\"stop-color:#e4e3e4;stop-opacity:1.;\"/>\n</linearGradient>\n</defs>\n<polygon fill=\"url(#clust19_l_18)\" stroke=\"#a5a4a5\" points=\"1686.58,-113 1686.58,-350 1845.33,-350 1845.33,-113 1686.58,-113\"/>\n<text text-anchor=\"middle\" x=\"1765.96\" y=\"-332.7\" font-family=\"Helvetica,sans-Serif\" font-size=\"14.00\">Inputs</text>\n</g>\n<g id=\"clust20\" class=\"cluster\">\n<title>clusterteste_failsOutputsWithInjection</title>\n<defs>\n<linearGradient id=\"clust20_l_19\" gradientUnits=\"userSpaceOnUse\" x1=\"2015.33\" y1=\"-258.5\" x2=\"1873.33\" y2=\"-258.5\" >\n<stop offset=\"0\" style=\"stop-color:#a5a4a5;stop-opacity:1.;\"/>\n<stop offset=\"1\" style=\"stop-color:#e4e3e4;stop-opacity:1.;\"/>\n</linearGradient>\n</defs>\n<polygon fill=\"url(#clust20_l_19)\" stroke=\"#a5a4a5\" points=\"1873.33,-167 1873.33,-350 2015.33,-350 2015.33,-167 1873.33,-167\"/>\n<text text-anchor=\"middle\" x=\"1944.33\" y=\"-332.7\" font-family=\"Helvetica,sans-Serif\" font-size=\"14.00\">OutputsWithInjection</text>\n</g>\n<!-- clustertestInputsrun -->\n<g id=\"node1\" class=\"node\">\n<title>clustertestInputsrun</title>\n<polygon fill=\"#21bfd8\" stroke=\"#21bfd8\" points=\"142.79,-69 100.79,-69 100.79,-45 142.79,-45 154.79,-57 142.79,-69\"/>\n<text text-anchor=\"middle\" x=\"127.79\" y=\"-51.2\" font-family=\"Helvetica,sans-Serif\" font-size=\"14.00\">run</text>\n</g>\n<!-- clustertestOutputsWithInjectionran -->\n<g id=\"node8\" class=\"node\">\n<title>clustertestOutputsWithInjectionran</title>\n<polygon fill=\"#21bfd8\" stroke=\"#21bfd8\" points=\"2170.12,-227 2128.12,-227 2128.12,-203 2170.12,-203 2182.12,-215 2170.12,-227\"/>\n<text text-anchor=\"middle\" x=\"2155.12\" y=\"-209.2\" font-family=\"Helvetica,sans-Serif\" font-size=\"14.00\">ran</text>\n</g>\n<!-- clustertestInputsrun&#45;&gt;clustertestOutputsWithInjectionran -->\n<!-- clustertestInputsaccumulate_and_run -->\n<g id=\"node2\" class=\"node\">\n<title>clustertestInputsaccumulate_and_run</title>\n<polygon fill=\"#21bfd8\" stroke=\"#21bfd8\" points=\"187.17,-123 56.42,-123 56.42,-99 187.17,-99 199.17,-111 187.17,-123\"/>\n<text text-anchor=\"middle\" x=\"127.79\" y=\"-105.2\" font-family=\"Helvetica,sans-Serif\" font-size=\"14.00\">accumulate_and_run</text>\n</g>\n<!-- clustertestInputsa__user_input -->\n<g id=\"node3\" class=\"node\">\n<title>clustertestInputsa__user_input</title>\n<ellipse fill=\"#edb22c\" stroke=\"#edb22c\" cx=\"127.79\" cy=\"-327\" rx=\"65.97\" ry=\"18\"/>\n<text text-anchor=\"middle\" x=\"127.79\" y=\"-321.2\" font-family=\"Helvetica,sans-Serif\" font-size=\"14.00\">a__user_input</text>\n</g>\n<!-- clustertestaInputsuser_input -->\n<g id=\"node15\" class=\"node\">\n<title>clustertestaInputsuser_input</title>\n<ellipse fill=\"#edb22c\" stroke=\"#edb22c\" cx=\"346.96\" cy=\"-461\" rx=\"51.35\" ry=\"18\"/>\n<text text-anchor=\"middle\" x=\"346.96\" y=\"-455.2\" font-family=\"Helvetica,sans-Serif\" font-size=\"14.00\">user_input</text>\n</g>\n<!-- clustertestInputsa__user_input&#45;&gt;clustertestaInputsuser_input -->\n<g id=\"edge16\" class=\"edge\">\n<title>clustertestInputsa__user_input&#45;&gt;clustertestaInputsuser_input</title>\n<path fill=\"none\" stroke=\"#edb22c\" d=\"M194.12,-328.07C213.82,-331.68 233.84,-339.2 247.58,-354 256.83,-363.97 257.45,-373.93 255.92,-383.95\"/>\n<path fill=\"none\" stroke=\"#edb22c\" d=\"M255.92,-383.95C253.39,-400.42 245.04,-417.02 259.58,-434 266.71,-442.32 276.37,-448.12 286.65,-452.14\"/>\n<polygon fill=\"#edb22c\" stroke=\"#edb22c\" points=\"285.48,-455.44 296.07,-455.25 287.67,-448.79 285.48,-455.44\"/>\n</g>\n<!-- clustertestInputsb__user_input -->\n<g id=\"node4\" class=\"node\">\n<title>clustertestInputsb__user_input</title>\n<ellipse fill=\"#edb22c\" stroke=\"#edb22c\" cx=\"127.79\" cy=\"-273\" rx=\"65.97\" ry=\"18\"/>\n<text text-anchor=\"middle\" x=\"127.79\" y=\"-267.2\" font-family=\"Helvetica,sans-Serif\" font-size=\"14.00\">b__user_input</text>\n</g>\n<!-- clustertestbInputsuser_input -->\n<g id=\"node21\" class=\"node\">\n<title>clustertestbInputsuser_input</title>\n<ellipse fill=\"#edb22c\" stroke=\"#edb22c\" cx=\"699.71\" cy=\"-267\" rx=\"51.35\" ry=\"18\"/>\n<text text-anchor=\"middle\" x=\"699.71\" y=\"-261.2\" font-family=\"Helvetica,sans-Serif\" font-size=\"14.00\">user_input</text>\n</g>\n<!-- clustertestInputsb__user_input&#45;&gt;clustertestbInputsuser_input -->\n<g id=\"edge17\" class=\"edge\">\n<title>clustertestInputsb__user_input&#45;&gt;clustertestbInputsuser_input</title>\n<path fill=\"none\" stroke=\"#edb22c\" d=\"M194.17,-272.31C249.6,-271.73 333.16,-270.85 416.42,-269.97\"/>\n<path fill=\"none\" stroke=\"#edb22c\" d=\"M416.42,-269.97C499.68,-269.1 582.63,-268.22 636.85,-267.65\"/>\n<polygon fill=\"#edb22c\" stroke=\"#edb22c\" points=\"636.75,-271.15 646.72,-267.55 636.68,-264.15 636.75,-271.15\"/>\n</g>\n<!-- clustertestInputsd_if_success__user_input -->\n<g id=\"node5\" class=\"node\">\n<title>clustertestInputsd_if_success__user_input</title>\n<ellipse fill=\"#edb22c\" stroke=\"#edb22c\" cx=\"127.79\" cy=\"-381\" rx=\"111.79\" ry=\"18\"/>\n<text text-anchor=\"middle\" x=\"127.79\" y=\"-375.2\" font-family=\"Helvetica,sans-Serif\" font-size=\"14.00\">d_if_success__user_input</text>\n</g>\n<!-- clustertestd_if_successInputsuser_input -->\n<g id=\"node34\" class=\"node\">\n<title>clustertestd_if_successInputsuser_input</title>\n<ellipse fill=\"#edb22c\" stroke=\"#edb22c\" cx=\"1405.21\" cy=\"-559\" rx=\"51.35\" ry=\"18\"/>\n<text text-anchor=\"middle\" x=\"1405.21\" y=\"-553.2\" font-family=\"Helvetica,sans-Serif\" font-size=\"14.00\">user_input</text>\n</g>\n<!-- clustertestInputsd_if_success__user_input&#45;&gt;clustertestd_if_successInputsuser_input -->\n<g id=\"edge18\" class=\"edge\">\n<title>clustertestInputsd_if_success__user_input&#45;&gt;clustertestd_if_successInputsuser_input</title>\n<path fill=\"none\" stroke=\"#edb22c\" d=\"M140.8,-399.14C161.34,-428.54 206.19,-486.12 259.58,-514 365.18,-569.14 404.69,-559 523.83,-559 523.83,-559 523.83,-559 546.43,-559\"/>\n<path fill=\"none\" stroke=\"#edb22c\" d=\"M546.43,-559C588.5,-559 708.91,-559 1053.46,-559 1154.54,-559 1272.02,-559 1342.12,-559\"/>\n<polygon fill=\"#edb22c\" stroke=\"#edb22c\" points=\"1341.87,-562.5 1351.87,-559 1341.87,-555.5 1341.87,-562.5\"/>\n</g>\n<!-- clustertestInputsd_if_failure__user_input -->\n<g id=\"node6\" class=\"node\">\n<title>clustertestInputsd_if_failure__user_input</title>\n<ellipse fill=\"#edb22c\" stroke=\"#edb22c\" cx=\"127.79\" cy=\"-219\" rx=\"103.99\" ry=\"18\"/>\n<text text-anchor=\"middle\" x=\"127.79\" y=\"-213.2\" font-family=\"Helvetica,sans-Serif\" font-size=\"14.00\">d_if_failure__user_input</text>\n</g>\n<!-- clustertestd_if_failureInputsuser_input -->\n<g id=\"node40\" class=\"node\">\n<title>clustertestd_if_failureInputsuser_input</title>\n<ellipse fill=\"#edb22c\" stroke=\"#edb22c\" cx=\"1405.21\" cy=\"-193\" rx=\"51.35\" ry=\"18\"/>\n<text text-anchor=\"middle\" x=\"1405.21\" y=\"-187.2\" font-family=\"Helvetica,sans-Serif\" font-size=\"14.00\">user_input</text>\n</g>\n<!-- clustertestInputsd_if_failure__user_input&#45;&gt;clustertestd_if_failureInputsuser_input -->\n<g id=\"edge19\" class=\"edge\">\n<title>clustertestInputsd_if_failure__user_input&#45;&gt;clustertestd_if_failureInputsuser_input</title>\n<path fill=\"none\" stroke=\"#edb22c\" d=\"M226.97,-213.2C306.88,-208.98 422.6,-204 523.83,-204 523.83,-204 523.83,-204 587.21,-204\"/>\n<path fill=\"none\" stroke=\"#edb22c\" d=\"M587.21,-204C652.45,-204 784.83,-204 1053.46,-204 1154.88,-204 1272.73,-199.35 1342.74,-196.09\"/>\n<polygon fill=\"#edb22c\" stroke=\"#edb22c\" points=\"1342.64,-199.6 1352.47,-195.64 1342.31,-192.61 1342.64,-199.6\"/>\n</g>\n<!-- clustertestInputse_fails__other -->\n<g id=\"node7\" class=\"node\">\n<title>clustertestInputse_fails__other</title>\n<ellipse fill=\"#edb22c\" stroke=\"#edb22c\" cx=\"127.79\" cy=\"-165\" rx=\"65.48\" ry=\"18\"/>\n<text text-anchor=\"middle\" x=\"127.79\" y=\"-159.2\" font-family=\"Helvetica,sans-Serif\" font-size=\"14.00\">e_fails__other</text>\n</g>\n<!-- clusterteste_failsInputsother -->\n<g id=\"node47\" class=\"node\">\n<title>clusterteste_failsInputsother</title>\n<ellipse fill=\"#edb22c\" stroke=\"#edb22c\" cx=\"1765.96\" cy=\"-139\" rx=\"30.38\" ry=\"18\"/>\n<text text-anchor=\"middle\" x=\"1765.96\" y=\"-133.2\" font-family=\"Helvetica,sans-Serif\" font-size=\"14.00\">other</text>\n</g>\n<!-- clustertestInputse_fails__other&#45;&gt;clusterteste_failsInputsother -->\n<g id=\"edge20\" class=\"edge\">\n<title>clustertestInputse_fails__other&#45;&gt;clusterteste_failsInputsother</title>\n<path fill=\"none\" stroke=\"#edb22c\" d=\"M189.62,-158.76C267.13,-151.35 405.29,-140 523.83,-140 523.83,-140 523.83,-140 627.78,-140\"/>\n<path fill=\"none\" stroke=\"#edb22c\" d=\"M627.78,-140C735.87,-140 956.38,-140 1406.21,-140 1521.37,-140 1657.32,-139.48 1723.96,-139.19\"/>\n<polygon fill=\"#edb22c\" stroke=\"#edb22c\" points=\"1723.69,-142.69 1733.68,-139.15 1723.66,-135.69 1723.69,-142.69\"/>\n</g>\n<!-- clustertestOutputsWithInjectionfailed -->\n<g id=\"node9\" class=\"node\">\n<title>clustertestOutputsWithInjectionfailed</title>\n<polygon fill=\"#21bfd8\" stroke=\"#21bfd8\" points=\"2170.12,-281 2128.12,-281 2128.12,-257 2170.12,-257 2182.12,-269 2170.12,-281\"/>\n<text text-anchor=\"middle\" x=\"2155.12\" y=\"-263.2\" font-family=\"Helvetica,sans-Serif\" font-size=\"14.00\">failed</text>\n</g>\n<!-- clustertestOutputsWithInjectionc_fails__add -->\n<g id=\"node10\" class=\"node\">\n<title>clustertestOutputsWithInjectionc_fails__add</title>\n<ellipse fill=\"none\" stroke=\"#edb22c\" stroke-width=\"2\" cx=\"2155.12\" cy=\"-377\" rx=\"59.63\" ry=\"18\"/>\n<text text-anchor=\"middle\" x=\"2155.12\" y=\"-371.2\" font-family=\"Helvetica,sans-Serif\" font-size=\"14.00\">c_fails__add</text>\n</g>\n<!-- clustertestOutputsWithInjectiond_if_success__user_input -->\n<g id=\"node11\" class=\"node\">\n<title>clustertestOutputsWithInjectiond_if_success__user_input</title>\n<ellipse fill=\"none\" stroke=\"#edb22c\" stroke-width=\"2\" cx=\"2155.12\" cy=\"-431\" rx=\"111.79\" ry=\"18\"/>\n<text text-anchor=\"middle\" x=\"2155.12\" y=\"-425.2\" font-family=\"Helvetica,sans-Serif\" font-size=\"14.00\">d_if_success__user_input</text>\n</g>\n<!-- clustertestOutputsWithInjectione_fails__add -->\n<g id=\"node12\" class=\"node\">\n<title>clustertestOutputsWithInjectione_fails__add</title>\n<ellipse fill=\"none\" stroke=\"#edb22c\" stroke-width=\"2\" cx=\"2155.12\" cy=\"-323\" rx=\"60.12\" ry=\"18\"/>\n<text text-anchor=\"middle\" x=\"2155.12\" y=\"-317.2\" font-family=\"Helvetica,sans-Serif\" font-size=\"14.00\">e_fails__add</text>\n</g>\n<!-- clustertestaInputsrun -->\n<g id=\"node13\" class=\"node\">\n<title>clustertestaInputsrun</title>\n<polygon fill=\"#21bfd8\" stroke=\"#21bfd8\" points=\"361.96,-365 319.96,-365 319.96,-341 361.96,-341 373.96,-353 361.96,-365\"/>\n<text text-anchor=\"middle\" x=\"346.96\" y=\"-347.2\" font-family=\"Helvetica,sans-Serif\" font-size=\"14.00\">run</text>\n</g>\n<!-- clustertestaOutputsWithInjectionran -->\n<g id=\"node16\" class=\"node\">\n<title>clustertestaOutputsWithInjectionran</title>\n<polygon fill=\"#21bfd8\" stroke=\"#21bfd8\" points=\"539.83,-365 497.83,-365 497.83,-341 539.83,-341 551.83,-353 539.83,-365\"/>\n<text text-anchor=\"middle\" x=\"524.83\" y=\"-347.2\" font-family=\"Helvetica,sans-Serif\" font-size=\"14.00\">ran</text>\n</g>\n<!-- clustertestaInputsrun&#45;&gt;clustertestaOutputsWithInjectionran -->\n<!-- clustertestaInputsaccumulate_and_run -->\n<g id=\"node14\" class=\"node\">\n<title>clustertestaInputsaccumulate_and_run</title>\n<polygon fill=\"#21bfd8\" stroke=\"#21bfd8\" points=\"406.33,-419 275.58,-419 275.58,-395 406.33,-395 418.33,-407 406.33,-419\"/>\n<text text-anchor=\"middle\" x=\"346.96\" y=\"-401.2\" font-family=\"Helvetica,sans-Serif\" font-size=\"14.00\">accumulate_and_run</text>\n</g>\n<!-- clustertestbInputsrun -->\n<g id=\"node19\" class=\"node\">\n<title>clustertestbInputsrun</title>\n<polygon fill=\"#21bfd8\" stroke=\"#21bfd8\" points=\"714.71,-387 672.71,-387 672.71,-363 714.71,-363 726.71,-375 714.71,-387\"/>\n<text text-anchor=\"middle\" x=\"699.71\" y=\"-369.2\" font-family=\"Helvetica,sans-Serif\" font-size=\"14.00\">run</text>\n</g>\n<!-- clustertestaOutputsWithInjectionran&#45;&gt;clustertestbInputsrun -->\n<g id=\"edge8\" class=\"edge\">\n<title>clustertestaOutputsWithInjectionran&#45;&gt;clustertestbInputsrun</title>\n<path fill=\"none\" stroke=\"#21bfd8\" d=\"M552.09,-356.34C566.66,-358.2 585.77,-360.63 605.35,-363.12\"/>\n<path fill=\"none\" stroke=\"#21bfd8\" d=\"M605.35,-363.12C624.94,-365.61 645,-368.17 661.48,-370.26\"/>\n<polygon fill=\"#21bfd8\" stroke=\"#21bfd8\" points=\"660.62,-373.68 670.98,-371.47 661.51,-366.74 660.62,-373.68\"/>\n</g>\n<!-- clustertestaOutputsWithInjectionfailed -->\n<g id=\"node17\" class=\"node\">\n<title>clustertestaOutputsWithInjectionfailed</title>\n<polygon fill=\"#21bfd8\" stroke=\"#21bfd8\" points=\"539.83,-419 497.83,-419 497.83,-395 539.83,-395 551.83,-407 539.83,-419\"/>\n<text text-anchor=\"middle\" x=\"524.83\" y=\"-401.2\" font-family=\"Helvetica,sans-Serif\" font-size=\"14.00\">failed</text>\n</g>\n<!-- clustertestaOutputsWithInjectionuser_input -->\n<g id=\"node18\" class=\"node\">\n<title>clustertestaOutputsWithInjectionuser_input</title>\n<ellipse fill=\"#edb22c\" stroke=\"#edb22c\" cx=\"524.83\" cy=\"-461\" rx=\"51.35\" ry=\"18\"/>\n<text text-anchor=\"middle\" x=\"524.83\" y=\"-455.2\" font-family=\"Helvetica,sans-Serif\" font-size=\"14.00\">user_input</text>\n</g>\n<!-- clustertestc_failsInputsobj -->\n<g id=\"node27\" class=\"node\">\n<title>clustertestc_failsInputsobj</title>\n<ellipse fill=\"#edb22c\" stroke=\"#edb22c\" cx=\"1052.46\" cy=\"-445\" rx=\"27\" ry=\"18\"/>\n<text text-anchor=\"middle\" x=\"1052.46\" y=\"-439.2\" font-family=\"Helvetica,sans-Serif\" font-size=\"14.00\">obj</text>\n</g>\n<!-- clustertestaOutputsWithInjectionuser_input&#45;&gt;clustertestc_failsInputsobj -->\n<g id=\"edge9\" class=\"edge\">\n<title>clustertestaOutputsWithInjectionuser_input&#45;&gt;clustertestc_failsInputsobj</title>\n<path fill=\"none\" stroke=\"#edb22c\" d=\"M576.23,-459.47C628.66,-457.87 714.79,-455.25 799.42,-452.67\"/>\n<path fill=\"none\" stroke=\"#edb22c\" d=\"M799.42,-452.67C884.05,-450.1 967.19,-447.57 1013.65,-446.15\"/>\n<polygon fill=\"#edb22c\" stroke=\"#edb22c\" points=\"1013.6,-449.65 1023.49,-445.85 1013.39,-442.66 1013.6,-449.65\"/>\n</g>\n<!-- clustertestbOutputsWithInjectionran -->\n<g id=\"node22\" class=\"node\">\n<title>clustertestbOutputsWithInjectionran</title>\n<polygon fill=\"#21bfd8\" stroke=\"#21bfd8\" points=\"892.58,-279 850.58,-279 850.58,-255 892.58,-255 904.58,-267 892.58,-279\"/>\n<text text-anchor=\"middle\" x=\"877.58\" y=\"-261.2\" font-family=\"Helvetica,sans-Serif\" font-size=\"14.00\">ran</text>\n</g>\n<!-- clustertestbInputsrun&#45;&gt;clustertestbOutputsWithInjectionran -->\n<!-- clustertestbInputsaccumulate_and_run -->\n<g id=\"node20\" class=\"node\">\n<title>clustertestbInputsaccumulate_and_run</title>\n<polygon fill=\"#21bfd8\" stroke=\"#21bfd8\" points=\"759.08,-333 628.33,-333 628.33,-309 759.08,-309 771.08,-321 759.08,-333\"/>\n<text text-anchor=\"middle\" x=\"699.71\" y=\"-315.2\" font-family=\"Helvetica,sans-Serif\" font-size=\"14.00\">accumulate_and_run</text>\n</g>\n<!-- clustertestc_failsInputsrun -->\n<g id=\"node25\" class=\"node\">\n<title>clustertestc_failsInputsrun</title>\n<polygon fill=\"#21bfd8\" stroke=\"#21bfd8\" points=\"1067.46,-295 1025.46,-295 1025.46,-271 1067.46,-271 1079.46,-283 1067.46,-295\"/>\n<text text-anchor=\"middle\" x=\"1052.46\" y=\"-277.2\" font-family=\"Helvetica,sans-Serif\" font-size=\"14.00\">run</text>\n</g>\n<!-- clustertestbOutputsWithInjectionran&#45;&gt;clustertestc_failsInputsrun -->\n<g id=\"edge10\" class=\"edge\">\n<title>clustertestbOutputsWithInjectionran&#45;&gt;clustertestc_failsInputsrun</title>\n<path fill=\"none\" stroke=\"#21bfd8\" d=\"M904.84,-269.43C919.35,-270.77 938.35,-272.53 957.85,-274.34\"/>\n<path fill=\"none\" stroke=\"#21bfd8\" d=\"M957.85,-274.34C977.34,-276.14 997.32,-277.99 1013.79,-279.51\"/>\n<polygon fill=\"#21bfd8\" stroke=\"#21bfd8\" points=\"1013.45,-283 1023.73,-280.43 1014.09,-276.03 1013.45,-283\"/>\n</g>\n<!-- clustertestbOutputsWithInjectionfailed -->\n<g id=\"node23\" class=\"node\">\n<title>clustertestbOutputsWithInjectionfailed</title>\n<polygon fill=\"#21bfd8\" stroke=\"#21bfd8\" points=\"892.58,-333 850.58,-333 850.58,-309 892.58,-309 904.58,-321 892.58,-333\"/>\n<text text-anchor=\"middle\" x=\"877.58\" y=\"-315.2\" font-family=\"Helvetica,sans-Serif\" font-size=\"14.00\">failed</text>\n</g>\n<!-- clustertestbOutputsWithInjectionuser_input -->\n<g id=\"node24\" class=\"node\">\n<title>clustertestbOutputsWithInjectionuser_input</title>\n<ellipse fill=\"#edb22c\" stroke=\"#edb22c\" cx=\"877.58\" cy=\"-375\" rx=\"51.35\" ry=\"18\"/>\n<text text-anchor=\"middle\" x=\"877.58\" y=\"-369.2\" font-family=\"Helvetica,sans-Serif\" font-size=\"14.00\">user_input</text>\n</g>\n<!-- clustertestc_failsInputsother -->\n<g id=\"node28\" class=\"node\">\n<title>clustertestc_failsInputsother</title>\n<ellipse fill=\"#edb22c\" stroke=\"#edb22c\" cx=\"1052.46\" cy=\"-391\" rx=\"30.38\" ry=\"18\"/>\n<text text-anchor=\"middle\" x=\"1052.46\" y=\"-385.2\" font-family=\"Helvetica,sans-Serif\" font-size=\"14.00\">other</text>\n</g>\n<!-- clustertestbOutputsWithInjectionuser_input&#45;&gt;clustertestc_failsInputsother -->\n<g id=\"edge11\" class=\"edge\">\n<title>clustertestbOutputsWithInjectionuser_input&#45;&gt;clustertestc_failsInputsother</title>\n<path fill=\"none\" stroke=\"#edb22c\" d=\"M927.66,-379.54C940.8,-380.76 955.37,-382.11 969.76,-383.44\"/>\n<path fill=\"none\" stroke=\"#edb22c\" d=\"M969.76,-383.44C984.15,-384.77 998.37,-386.09 1010.81,-387.24\"/>\n<polygon fill=\"#edb22c\" stroke=\"#edb22c\" points=\"1010.25,-390.7 1020.53,-388.14 1010.9,-383.73 1010.25,-390.7\"/>\n</g>\n<!-- clustertestc_failsOutputsWithInjectionran -->\n<g id=\"node29\" class=\"node\">\n<title>clustertestc_failsOutputsWithInjectionran</title>\n<polygon fill=\"#21bfd8\" stroke=\"#21bfd8\" points=\"1245.33,-439 1203.33,-439 1203.33,-415 1245.33,-415 1257.33,-427 1245.33,-439\"/>\n<text text-anchor=\"middle\" x=\"1230.33\" y=\"-421.2\" font-family=\"Helvetica,sans-Serif\" font-size=\"14.00\">ran</text>\n</g>\n<!-- clustertestc_failsInputsrun&#45;&gt;clustertestc_failsOutputsWithInjectionran -->\n<!-- clustertestc_failsInputsaccumulate_and_run -->\n<g id=\"node26\" class=\"node\">\n<title>clustertestc_failsInputsaccumulate_and_run</title>\n<polygon fill=\"#21bfd8\" stroke=\"#21bfd8\" points=\"1111.83,-349 981.08,-349 981.08,-325 1111.83,-325 1123.83,-337 1111.83,-349\"/>\n<text text-anchor=\"middle\" x=\"1052.46\" y=\"-331.2\" font-family=\"Helvetica,sans-Serif\" font-size=\"14.00\">accumulate_and_run</text>\n</g>\n<!-- clustertestd_if_successInputsrun -->\n<g id=\"node32\" class=\"node\">\n<title>clustertestd_if_successInputsrun</title>\n<polygon fill=\"#21bfd8\" stroke=\"#21bfd8\" points=\"1420.21,-463 1378.21,-463 1378.21,-439 1420.21,-439 1432.21,-451 1420.21,-463\"/>\n<text text-anchor=\"middle\" x=\"1405.21\" y=\"-445.2\" font-family=\"Helvetica,sans-Serif\" font-size=\"14.00\">run</text>\n</g>\n<!-- clustertestc_failsOutputsWithInjectionran&#45;&gt;clustertestd_if_successInputsrun -->\n<g id=\"edge12\" class=\"edge\">\n<title>clustertestc_failsOutputsWithInjectionran&#45;&gt;clustertestd_if_successInputsrun</title>\n<path fill=\"none\" stroke=\"#21bfd8\" d=\"M1257.59,-430.65C1272.16,-432.67 1291.27,-435.32 1310.85,-438.04\"/>\n<path fill=\"none\" stroke=\"#21bfd8\" d=\"M1310.85,-438.04C1330.44,-440.76 1350.5,-443.54 1366.98,-445.83\"/>\n<polygon fill=\"#21bfd8\" stroke=\"#21bfd8\" points=\"1366.1,-449.24 1376.49,-447.15 1367.06,-442.31 1366.1,-449.24\"/>\n</g>\n<!-- clustertestc_failsOutputsWithInjectionfailed -->\n<g id=\"node30\" class=\"node\">\n<title>clustertestc_failsOutputsWithInjectionfailed</title>\n<polygon fill=\"#21bfd8\" stroke=\"#21bfd8\" points=\"1245.33,-331 1203.33,-331 1203.33,-307 1245.33,-307 1257.33,-319 1245.33,-331\"/>\n<text text-anchor=\"middle\" x=\"1230.33\" y=\"-313.2\" font-family=\"Helvetica,sans-Serif\" font-size=\"14.00\">failed</text>\n</g>\n<!-- clustertestd_if_failureInputsrun -->\n<g id=\"node38\" class=\"node\">\n<title>clustertestd_if_failureInputsrun</title>\n<polygon fill=\"#21bfd8\" stroke=\"#21bfd8\" points=\"1420.21,-313 1378.21,-313 1378.21,-289 1420.21,-289 1432.21,-301 1420.21,-313\"/>\n<text text-anchor=\"middle\" x=\"1405.21\" y=\"-295.2\" font-family=\"Helvetica,sans-Serif\" font-size=\"14.00\">run</text>\n</g>\n<!-- clustertestc_failsOutputsWithInjectionfailed&#45;&gt;clustertestd_if_failureInputsrun -->\n<g id=\"edge13\" class=\"edge\">\n<title>clustertestc_failsOutputsWithInjectionfailed&#45;&gt;clustertestd_if_failureInputsrun</title>\n<path fill=\"none\" stroke=\"#21bfd8\" d=\"M1257.59,-316.27C1272.1,-314.76 1291.1,-312.78 1310.6,-310.75\"/>\n<path fill=\"none\" stroke=\"#21bfd8\" d=\"M1310.6,-310.75C1330.09,-308.72 1350.07,-306.64 1366.54,-304.92\"/>\n<polygon fill=\"#21bfd8\" stroke=\"#21bfd8\" points=\"1366.9,-308.4 1376.48,-303.89 1366.17,-301.44 1366.9,-308.4\"/>\n</g>\n<!-- clustertestc_failsOutputsWithInjectionadd -->\n<g id=\"node31\" class=\"node\">\n<title>clustertestc_failsOutputsWithInjectionadd</title>\n<ellipse fill=\"none\" stroke=\"#edb22c\" stroke-width=\"2\" cx=\"1230.33\" cy=\"-373\" rx=\"27\" ry=\"18\"/>\n<text text-anchor=\"middle\" x=\"1230.33\" y=\"-367.2\" font-family=\"Helvetica,sans-Serif\" font-size=\"14.00\">add</text>\n</g>\n<!-- clustertestc_failsOutputsWithInjectionadd&#45;&gt;clustertestOutputsWithInjectionc_fails__add -->\n<g id=\"edge21\" class=\"edge\">\n<title>clustertestc_failsOutputsWithInjectionadd&#45;&gt;clustertestOutputsWithInjectionc_fails__add</title>\n<path fill=\"none\" stroke=\"#edb22c\" d=\"M1257.39,-376.19C1316.48,-383.13 1465.19,-399 1590.08,-399 1590.08,-399 1590.08,-399 1607.34,-399\"/>\n<path fill=\"none\" stroke=\"#edb22c\" d=\"M1607.34,-399C1627.57,-399 1671.51,-399 1766.96,-399 1879.02,-399 2009.04,-389.7 2086.28,-383.19\"/>\n<polygon fill=\"#edb22c\" stroke=\"#edb22c\" points=\"2086.58,-386.68 2096.24,-382.34 2085.98,-379.71 2086.58,-386.68\"/>\n</g>\n<!-- clustertestd_if_successOutputsWithInjectionran -->\n<g id=\"node35\" class=\"node\">\n<title>clustertestd_if_successOutputsWithInjectionran</title>\n<polygon fill=\"#21bfd8\" stroke=\"#21bfd8\" points=\"1606.08,-463 1564.08,-463 1564.08,-439 1606.08,-439 1618.08,-451 1606.08,-463\"/>\n<text text-anchor=\"middle\" x=\"1591.08\" y=\"-445.2\" font-family=\"Helvetica,sans-Serif\" font-size=\"14.00\">ran</text>\n</g>\n<!-- clustertestd_if_successInputsrun&#45;&gt;clustertestd_if_successOutputsWithInjectionran -->\n<!-- clustertestd_if_successInputsaccumulate_and_run -->\n<g id=\"node33\" class=\"node\">\n<title>clustertestd_if_successInputsaccumulate_and_run</title>\n<polygon fill=\"#21bfd8\" stroke=\"#21bfd8\" points=\"1464.58,-517 1333.83,-517 1333.83,-493 1464.58,-493 1476.58,-505 1464.58,-517\"/>\n<text text-anchor=\"middle\" x=\"1405.21\" y=\"-499.2\" font-family=\"Helvetica,sans-Serif\" font-size=\"14.00\">accumulate_and_run</text>\n</g>\n<!-- clustertestd_if_successOutputsWithInjectionfailed -->\n<g id=\"node36\" class=\"node\">\n<title>clustertestd_if_successOutputsWithInjectionfailed</title>\n<polygon fill=\"#21bfd8\" stroke=\"#21bfd8\" points=\"1606.08,-517 1564.08,-517 1564.08,-493 1606.08,-493 1618.08,-505 1606.08,-517\"/>\n<text text-anchor=\"middle\" x=\"1591.08\" y=\"-499.2\" font-family=\"Helvetica,sans-Serif\" font-size=\"14.00\">failed</text>\n</g>\n<!-- clustertestd_if_successOutputsWithInjectionuser_input -->\n<g id=\"node37\" class=\"node\">\n<title>clustertestd_if_successOutputsWithInjectionuser_input</title>\n<ellipse fill=\"none\" stroke=\"#edb22c\" stroke-width=\"2\" cx=\"1591.08\" cy=\"-559\" rx=\"51.35\" ry=\"18\"/>\n<text text-anchor=\"middle\" x=\"1591.08\" y=\"-553.2\" font-family=\"Helvetica,sans-Serif\" font-size=\"14.00\">user_input</text>\n</g>\n<!-- clustertestd_if_successOutputsWithInjectionuser_input&#45;&gt;clustertestOutputsWithInjectiond_if_success__user_input -->\n<g id=\"edge22\" class=\"edge\">\n<title>clustertestd_if_successOutputsWithInjectionuser_input&#45;&gt;clustertestOutputsWithInjectiond_if_success__user_input</title>\n<path fill=\"none\" stroke=\"#edb22c\" d=\"M1634.79,-549.27C1682.11,-538.5 1762.89,-520.1 1846.83,-500.98\"/>\n<path fill=\"none\" stroke=\"#edb22c\" d=\"M1846.83,-500.98C1930.76,-481.87 2017.85,-462.03 2077.79,-448.38\"/>\n<polygon fill=\"#edb22c\" stroke=\"#edb22c\" points=\"2078.24,-451.87 2087.22,-446.24 2076.69,-445.04 2078.24,-451.87\"/>\n</g>\n<!-- clustertestd_if_failureOutputsWithInjectionran -->\n<g id=\"node41\" class=\"node\">\n<title>clustertestd_if_failureOutputsWithInjectionran</title>\n<polygon fill=\"#21bfd8\" stroke=\"#21bfd8\" points=\"1606.08,-205 1564.08,-205 1564.08,-181 1606.08,-181 1618.08,-193 1606.08,-205\"/>\n<text text-anchor=\"middle\" x=\"1591.08\" y=\"-187.2\" font-family=\"Helvetica,sans-Serif\" font-size=\"14.00\">ran</text>\n</g>\n<!-- clustertestd_if_failureInputsrun&#45;&gt;clustertestd_if_failureOutputsWithInjectionran -->\n<!-- clustertestd_if_failureInputsaccumulate_and_run -->\n<g id=\"node39\" class=\"node\">\n<title>clustertestd_if_failureInputsaccumulate_and_run</title>\n<polygon fill=\"#21bfd8\" stroke=\"#21bfd8\" points=\"1464.58,-259 1333.83,-259 1333.83,-235 1464.58,-235 1476.58,-247 1464.58,-259\"/>\n<text text-anchor=\"middle\" x=\"1405.21\" y=\"-241.2\" font-family=\"Helvetica,sans-Serif\" font-size=\"14.00\">accumulate_and_run</text>\n</g>\n<!-- clusterteste_failsInputsrun -->\n<g id=\"node44\" class=\"node\">\n<title>clusterteste_failsInputsrun</title>\n<polygon fill=\"#21bfd8\" stroke=\"#21bfd8\" points=\"1780.96,-259 1738.96,-259 1738.96,-235 1780.96,-235 1792.96,-247 1780.96,-259\"/>\n<text text-anchor=\"middle\" x=\"1765.96\" y=\"-241.2\" font-family=\"Helvetica,sans-Serif\" font-size=\"14.00\">run</text>\n</g>\n<!-- clustertestd_if_failureOutputsWithInjectionran&#45;&gt;clusterteste_failsInputsrun -->\n<g id=\"edge14\" class=\"edge\">\n<title>clustertestd_if_failureOutputsWithInjectionran&#45;&gt;clusterteste_failsInputsrun</title>\n<path fill=\"none\" stroke=\"#21bfd8\" d=\"M1618.34,-201.2C1632.97,-205.77 1652.19,-211.77 1671.86,-217.92\"/>\n<path fill=\"none\" stroke=\"#21bfd8\" d=\"M1671.86,-217.92C1691.53,-224.07 1711.67,-230.36 1728.16,-235.51\"/>\n<polygon fill=\"#21bfd8\" stroke=\"#21bfd8\" points=\"1726.7,-238.72 1737.29,-238.36 1728.79,-232.04 1726.7,-238.72\"/>\n</g>\n<!-- clustertestd_if_failureOutputsWithInjectionfailed -->\n<g id=\"node42\" class=\"node\">\n<title>clustertestd_if_failureOutputsWithInjectionfailed</title>\n<polygon fill=\"#21bfd8\" stroke=\"#21bfd8\" points=\"1606.08,-259 1564.08,-259 1564.08,-235 1606.08,-235 1618.08,-247 1606.08,-259\"/>\n<text text-anchor=\"middle\" x=\"1591.08\" y=\"-241.2\" font-family=\"Helvetica,sans-Serif\" font-size=\"14.00\">failed</text>\n</g>\n<!-- clustertestd_if_failureOutputsWithInjectionuser_input -->\n<g id=\"node43\" class=\"node\">\n<title>clustertestd_if_failureOutputsWithInjectionuser_input</title>\n<ellipse fill=\"#edb22c\" stroke=\"#edb22c\" cx=\"1591.08\" cy=\"-301\" rx=\"51.35\" ry=\"18\"/>\n<text text-anchor=\"middle\" x=\"1591.08\" y=\"-295.2\" font-family=\"Helvetica,sans-Serif\" font-size=\"14.00\">user_input</text>\n</g>\n<!-- clusterteste_failsInputsobj -->\n<g id=\"node46\" class=\"node\">\n<title>clusterteste_failsInputsobj</title>\n<ellipse fill=\"#edb22c\" stroke=\"#edb22c\" cx=\"1765.96\" cy=\"-301\" rx=\"27\" ry=\"18\"/>\n<text text-anchor=\"middle\" x=\"1765.96\" y=\"-295.2\" font-family=\"Helvetica,sans-Serif\" font-size=\"14.00\">obj</text>\n</g>\n<!-- clustertestd_if_failureOutputsWithInjectionuser_input&#45;&gt;clusterteste_failsInputsobj -->\n<g id=\"edge15\" class=\"edge\">\n<title>clustertestd_if_failureOutputsWithInjectionuser_input&#45;&gt;clusterteste_failsInputsobj</title>\n<path fill=\"none\" stroke=\"#edb22c\" d=\"M1642.55,-301C1656.08,-301 1671.04,-301 1685.73,-301\"/>\n<path fill=\"none\" stroke=\"#edb22c\" d=\"M1685.73,-301C1700.41,-301 1714.82,-301 1727.23,-301\"/>\n<polygon fill=\"#edb22c\" stroke=\"#edb22c\" points=\"1727.21,-304.5 1737.21,-301 1727.21,-297.5 1727.21,-304.5\"/>\n</g>\n<!-- clusterteste_failsOutputsWithInjectionran -->\n<g id=\"node48\" class=\"node\">\n<title>clusterteste_failsOutputsWithInjectionran</title>\n<polygon fill=\"#21bfd8\" stroke=\"#21bfd8\" points=\"1958.83,-205 1916.83,-205 1916.83,-181 1958.83,-181 1970.83,-193 1958.83,-205\"/>\n<text text-anchor=\"middle\" x=\"1943.83\" y=\"-187.2\" font-family=\"Helvetica,sans-Serif\" font-size=\"14.00\">ran</text>\n</g>\n<!-- clusterteste_failsInputsrun&#45;&gt;clusterteste_failsOutputsWithInjectionran -->\n<!-- clusterteste_failsInputsaccumulate_and_run -->\n<g id=\"node45\" class=\"node\">\n<title>clusterteste_failsInputsaccumulate_and_run</title>\n<polygon fill=\"#21bfd8\" stroke=\"#21bfd8\" points=\"1825.33,-205 1694.58,-205 1694.58,-181 1825.33,-181 1837.33,-193 1825.33,-205\"/>\n<text text-anchor=\"middle\" x=\"1765.96\" y=\"-187.2\" font-family=\"Helvetica,sans-Serif\" font-size=\"14.00\">accumulate_and_run</text>\n</g>\n<!-- clusterteste_failsOutputsWithInjectionfailed -->\n<g id=\"node49\" class=\"node\">\n<title>clusterteste_failsOutputsWithInjectionfailed</title>\n<polygon fill=\"#21bfd8\" stroke=\"#21bfd8\" points=\"1958.83,-259 1916.83,-259 1916.83,-235 1958.83,-235 1970.83,-247 1958.83,-259\"/>\n<text text-anchor=\"middle\" x=\"1943.83\" y=\"-241.2\" font-family=\"Helvetica,sans-Serif\" font-size=\"14.00\">failed</text>\n</g>\n<!-- clusterteste_failsOutputsWithInjectionadd -->\n<g id=\"node50\" class=\"node\">\n<title>clusterteste_failsOutputsWithInjectionadd</title>\n<ellipse fill=\"none\" stroke=\"#edb22c\" stroke-width=\"2\" cx=\"1943.83\" cy=\"-301\" rx=\"27\" ry=\"18\"/>\n<text text-anchor=\"middle\" x=\"1943.83\" y=\"-295.2\" font-family=\"Helvetica,sans-Serif\" font-size=\"14.00\">add</text>\n</g>\n<!-- clusterteste_failsOutputsWithInjectionadd&#45;&gt;clustertestOutputsWithInjectione_fails__add -->\n<g id=\"edge23\" class=\"edge\">\n<title>clusterteste_failsOutputsWithInjectionadd&#45;&gt;clustertestOutputsWithInjectione_fails__add</title>\n<path fill=\"none\" stroke=\"#edb22c\" d=\"M1970.91,-303.74C1985.28,-305.25 2004.29,-307.25 2024.63,-309.39\"/>\n<path fill=\"none\" stroke=\"#edb22c\" d=\"M2024.63,-309.39C2044.98,-311.53 2066.65,-313.81 2086.33,-315.87\"/>\n<polygon fill=\"#edb22c\" stroke=\"#edb22c\" points=\"2085.91,-319.35 2096.22,-316.91 2086.64,-312.39 2085.91,-319.35\"/>\n</g>\n</g>\n</svg>\n",
      "text/plain": [
       "<graphviz.graphs.Digraph at 0x15a4c0770>"
      ]
     },
     "execution_count": 114,
     "metadata": {},
     "output_type": "execute_result"
    }
   ],
   "execution_count": 114
  },
  {
   "cell_type": "markdown",
   "id": "8f265a14-11fd-40e4-9862-b524ad749c0a",
   "metadata": {},
   "source": [
    "## Storage interfaces\n",
    "\n",
    "We saw in `quickstart.ipynb` how to save and load nodes to/from their default location (based on the current working directory and their lexical label), and how to use checkpointing and autoloading with the built-in `\"pickle\"` storage back end.\n",
    "\n",
    "We can also save and load using an explicit storage interface instance. This allows us to save and load at non-standard locations:"
   ]
  },
  {
   "cell_type": "code",
   "id": "75aac7e5-7fe8-4a69-b0f3-1510cf52ef5e",
   "metadata": {
    "ExecuteTime": {
     "end_time": "2025-06-18T17:46:44.154762Z",
     "start_time": "2025-06-18T17:46:44.149302Z"
    }
   },
   "source": [
    "wf = pwf.Workflow(\"custom_save_location\")\n",
    "wf.cant_spell = pwf.std.UserInput(\"slaughter\")\n",
    "wf.without = wf.cant_spell.contains(\"laughter\")\n",
    "wf()"
   ],
   "outputs": [
    {
     "data": {
      "text/plain": [
       "{'without__in': True}"
      ]
     },
     "execution_count": 115,
     "metadata": {},
     "output_type": "execute_result"
    }
   ],
   "execution_count": 115
  },
  {
   "cell_type": "code",
   "id": "3ce9be3f-2ac9-49d1-a482-dc0c6735aa59",
   "metadata": {
    "ExecuteTime": {
     "end_time": "2025-06-18T17:46:44.178375Z",
     "start_time": "2025-06-18T17:46:44.175873Z"
    }
   },
   "source": [
    "storage = pwf.api.PickleStorage()\n",
    "storage.save(wf, \"../someplace_else\")"
   ],
   "outputs": [],
   "execution_count": 116
  },
  {
   "cell_type": "code",
   "id": "2e70af5b-9e74-4b1a-a26c-b9f427401f4d",
   "metadata": {
    "ExecuteTime": {
     "end_time": "2025-06-18T17:46:44.192939Z",
     "start_time": "2025-06-18T17:46:44.190579Z"
    }
   },
   "source": [
    "try:\n",
    "    reloaded = storage.load(filename=\"../someplace_else\")\n",
    "    assert(reloaded.outputs.without__in.value == wf.outputs.without__in.value)\n",
    "finally:\n",
    "    # Clean up\n",
    "    storage.delete(filename=\"../someplace_else\")"
   ],
   "outputs": [],
   "execution_count": 117
  },
  {
   "cell_type": "markdown",
   "id": "5819af7e-0303-483a-8e4d-f02bae4cae73",
   "metadata": {},
   "source": [
    "And also to specify interface settings -- these can also be set on a per-operation level using kwargs, but for something like `checkpoint` the operations happen in a built-in way where we don't have the ability to modify the kwargs to the call, so we need to adjust the settings right in the interface.\n",
    "\n",
    "For `PickleStorage` the only setting is whether to allow a fallback to `cloudpickle`, so let's turn that off and construct an example where we'd see the failure:"
   ]
  },
  {
   "cell_type": "code",
   "id": "8adf1d56-6d81-4b20-9efe-ae0a67348cf9",
   "metadata": {
    "ExecuteTime": {
     "end_time": "2025-06-18T17:46:44.209464Z",
     "start_time": "2025-06-18T17:46:44.207929Z"
    }
   },
   "source": [
    "def outer_function():\n",
    "    def inner_function(x):\n",
    "        return x\n",
    "    return inner_function"
   ],
   "outputs": [],
   "execution_count": 118
  },
  {
   "cell_type": "code",
   "id": "6b1f54c9-872b-40c6-9370-bd0032d5d075",
   "metadata": {
    "ExecuteTime": {
     "end_time": "2025-06-18T17:46:44.225996Z",
     "start_time": "2025-06-18T17:46:44.222800Z"
    }
   },
   "source": [
    "wf = pwf.Workflow(\"doomed\")\n",
    "wf.unpickleable = pwf.function_node(outer_function())\n",
    "wf(unpickleable__x=2)"
   ],
   "outputs": [
    {
     "data": {
      "text/plain": [
       "{'unpickleable__x': 2}"
      ]
     },
     "execution_count": 119,
     "metadata": {},
     "output_type": "execute_result"
    }
   ],
   "execution_count": 119
  },
  {
   "cell_type": "markdown",
   "id": "1f2dfcd4-d753-4f75-9405-38c91bf4937c",
   "metadata": {},
   "source": [
    "There's nothing inherently wrong with the node and it runs fine, but the function comes from a `<local>` scope, so we won't be able to pickle it"
   ]
  },
  {
   "cell_type": "code",
   "id": "2938411c-df0a-4483-ae32-2fec2413248b",
   "metadata": {
    "ExecuteTime": {
     "end_time": "2025-06-18T17:46:44.252101Z",
     "start_time": "2025-06-18T17:46:44.249417Z"
    }
   },
   "source": [
    "no_fallback = pwf.api.PickleStorage(cloudpickle_fallback=False)\n",
    "wf.unpickleable.checkpoint = no_fallback\n",
    "try:\n",
    "    wf.recovery = None  # We know this will fail and don't care about a recovery file\n",
    "    wf(unpickleable__x=3)\n",
    "except pwf.api.TypeNotFoundError as e:\n",
    "    print(\"TypeNotFoundError:\", e)"
   ],
   "outputs": [
    {
     "name": "stdout",
     "output_type": "stream",
     "text": [
      "TypeNotFoundError: doomed cannot be saved with the storage interface PickleStorage because it (or one of its children) has a type that cannot be imported. Is this node defined inside <locals>? \n",
      "Import readiness report: \n",
      "doomed: NOT IMPORTABLE\n",
      "\tunpickleable: NOT IMPORTABLE\n"
     ]
    }
   ],
   "execution_count": 120
  },
  {
   "cell_type": "markdown",
   "id": "1d854f41-9049-413d-acb4-1a9c40ea2cf4",
   "metadata": {},
   "source": [
    "### Extensions\n",
    "\n",
    "The pickle interface inherits from a more generic `StorageInterface`, which uses abstract methods to specify what `Node` expects from an interface that sits between itself and a serialization routine. Further storage backends are possible by subclassing this base class."
   ]
  },
  {
   "cell_type": "code",
   "id": "f40bfd6f-3fbf-4c2b-aeee-534ed4bcc970",
   "metadata": {
    "ExecuteTime": {
     "end_time": "2025-06-18T17:46:44.280939Z",
     "start_time": "2025-06-18T17:46:44.279559Z"
    }
   },
   "source": [],
   "outputs": [],
   "execution_count": null
  }
 ],
 "metadata": {
  "kernelspec": {
   "display_name": "Python 3 (ipykernel)",
   "language": "python",
   "name": "python3"
  },
  "language_info": {
   "codemirror_mode": {
    "name": "ipython",
    "version": 3
   },
   "file_extension": ".py",
   "mimetype": "text/x-python",
   "name": "python",
   "nbconvert_exporter": "python",
   "pygments_lexer": "ipython3",
   "version": "3.11.9"
  }
 },
 "nbformat": 4,
 "nbformat_minor": 5
}
