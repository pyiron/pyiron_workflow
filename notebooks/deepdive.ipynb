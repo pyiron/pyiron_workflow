{
 "cells": [
  {
   "cell_type": "markdown",
   "id": "5edfe456-c5b8-4347-a74f-1fb19fdff91b",
   "metadata": {},
   "source": [
    "# Pyiron workflows: A ground-up walkthrough of syntax and features\n",
    "\n",
    "Contents:\n",
    "- From function to node\n",
    "- Making reusable node classes\n",
    "- Connecting nodes to form a graph\n",
    "- Syntactic sugar\n",
    "- Workflows: keeping your computational graphs organized\n",
    "- Node packages: making nodes re-usable\n",
    "- Macro nodes: complex computations by composing sub-graphs\n",
    "- Dragons and the future: remote execution, cyclic flows, and more\n",
    "\n",
    "To jump straight to how to use `pyiron_workflow`, go look at the quickstart guide -- this jumps straight to using `Workflow` as a single-point-of-access, creating nodes with decorators, and leveraging node packages to form complex graphs.\n",
    "\n",
    "Here we start from the ground up and do \"silly\" things like importing _just_ the `Function` class directly from the `pyiron_workflow` package. This isn't meant to show actual practical, recommended use-styles, but rather is indended as a pedagogical deep-dive that builds knowledge from the ground up. While the quickstart is aimed at users who just want to get running, this is intended for people who want to develop nodes for others to use, or for people who are stuck or seeing unexpected behaviour and want a better understanding of what `pyiron_workflow` is doing under the hood.\n",
    "\n",
    "The next recommendation is to simply read the class and method docstrings directly!"
   ]
  },
  {
   "cell_type": "markdown",
   "id": "f4e75528-3ea7-4feb-8167-533d439f798d",
   "metadata": {},
   "source": [
    "## Instantiating a node\n",
    "\n",
    "Simple nodes can be defined on-the-fly by passing any callable to a special `Node` class, `Function(Node)`, which transforms the function into a class. Instances of this node have input and output, can be connected to other nodes in a workflow, and can run the function it stores.\n",
    "\n",
    "Input and output channels are _automatically_ extracted from the signature and return value(s) of the function. (Note: \"Nodized\" functions must have _at most_ one `return` expression!)"
   ]
  },
  {
   "cell_type": "code",
   "execution_count": 1,
   "id": "8aca3b9b-9ba6-497a-ba9e-abdb15a6a5df",
   "metadata": {},
   "outputs": [],
   "source": [
    "from pyiron_workflow.function import Function"
   ]
  },
  {
   "cell_type": "code",
   "execution_count": 2,
   "id": "2502bc6b-d961-43d1-b2d9-66b20e2740d7",
   "metadata": {},
   "outputs": [],
   "source": [
    "def plus_minus_one(x):\n",
    "    return x+1, x-1\n",
    "\n",
    "pm_node = Function(plus_minus_one)"
   ]
  },
  {
   "cell_type": "markdown",
   "id": "5d15f0c2-b36d-4960-86b3-40d769f78528",
   "metadata": {},
   "source": [
    "This has automatically created a node with input and output data channels whose labels are gathered by inspecting the function:"
   ]
  },
  {
   "cell_type": "code",
   "execution_count": 3,
   "id": "840f4c07-4b21-4bcc-b15c-9847c6c1b048",
   "metadata": {},
   "outputs": [
    {
     "name": "stdout",
     "output_type": "stream",
     "text": [
      "['x'] ['x+1', 'x-1']\n"
     ]
    }
   ],
   "source": [
    "print(pm_node.inputs.labels, pm_node.outputs.labels)"
   ]
  },
  {
   "cell_type": "markdown",
   "id": "22ee2a49-47d1-4cec-bb25-8441ea01faf7",
   "metadata": {},
   "source": [
    "The output is still empty (`NOT_DATA`) because we haven't `run()` the node:"
   ]
  },
  {
   "cell_type": "code",
   "execution_count": 4,
   "id": "613a90fa-66ed-49f8-ba8c-2f83a54253cd",
   "metadata": {},
   "outputs": [
    {
     "name": "stdout",
     "output_type": "stream",
     "text": [
      "{'x+1': NOT_DATA, 'x-1': NOT_DATA}\n"
     ]
    }
   ],
   "source": [
    "print(pm_node.outputs.to_value_dict())"
   ]
  },
  {
   "cell_type": "markdown",
   "id": "0374e277-55ab-45d2-8058-b06365bd07af",
   "metadata": {},
   "source": [
    "If we try that now though, we'll just get a type error because the input is not set! "
   ]
  },
  {
   "cell_type": "code",
   "execution_count": 5,
   "id": "05196cd8-97c7-4f08-ae3a-ad6a076512f7",
   "metadata": {},
   "outputs": [
    {
     "name": "stdout",
     "output_type": "stream",
     "text": [
      "RAISED ReadinessError\n",
      "plus_minus_one received a run command but is not ready. The node should be neither running nor failed, and all input values should conform to type hints.\n",
      "plus_minus_one readiness: False\n",
      "STATE:\n",
      "running: False\n",
      "failed: False\n",
      "INPUTS:\n",
      "x ready: False\n"
     ]
    }
   ],
   "source": [
    "try:\n",
    "    pm_node.run()\n",
    "except Exception as e:\n",
    "    print(f\"RAISED {e.__class__.__name__}\")\n",
    "    message = e.args[0]\n",
    "    print(message)"
   ]
  },
  {
   "cell_type": "markdown",
   "id": "84af4b04-79b4-4944-a4c9-131af915d254",
   "metadata": {},
   "source": [
    "If we update the input, we'll give the node enough data to work with:"
   ]
  },
  {
   "cell_type": "code",
   "execution_count": 6,
   "id": "b1500a40-f4f2-4c06-ad78-aaebcf3e9a50",
   "metadata": {},
   "outputs": [
    {
     "name": "stdout",
     "output_type": "stream",
     "text": [
      "{'x+1': 6, 'x-1': 4}\n"
     ]
    }
   ],
   "source": [
    "pm_node.inputs.x = 5\n",
    "pm_node.run()\n",
    "print(pm_node.outputs.to_value_dict())"
   ]
  },
  {
   "cell_type": "markdown",
   "id": "c54a691e-a075-4d41-bc0f-3a990857a27a",
   "metadata": {},
   "source": [
    "Alternatively, the `run()` command just return the function's return value:"
   ]
  },
  {
   "cell_type": "code",
   "execution_count": 7,
   "id": "e845843c-61f4-4e5c-ac1a-d005787c2841",
   "metadata": {},
   "outputs": [
    {
     "data": {
      "text/plain": [
       "(6, 4)"
      ]
     },
     "execution_count": 7,
     "metadata": {},
     "output_type": "execute_result"
    }
   ],
   "source": [
    "out = pm_node.run()\n",
    "out"
   ]
  },
  {
   "cell_type": "markdown",
   "id": "df4520d7-856e-4bc8-817f-5b2e22c1ddce",
   "metadata": {},
   "source": [
    "We can give our function defaults so that it's ready to go from the beginning. Let's also take the opportunity to give our output channel a better name so we can get it by dot-access."
   ]
  },
  {
   "cell_type": "code",
   "execution_count": 8,
   "id": "ab1ac28a-6e69-491f-882f-da4a43162dd7",
   "metadata": {},
   "outputs": [
    {
     "data": {
      "text/plain": [
       "1"
      ]
     },
     "execution_count": 8,
     "metadata": {},
     "output_type": "execute_result"
    }
   ],
   "source": [
    "def adder(x: int = 0, y: int = 1) -> int:\n",
    "    sum_ = x + y\n",
    "    return sum_\n",
    "\n",
    "adder_node = Function(adder)\n",
    "adder_node.run()\n",
    "adder_node.outputs.sum_.value  # We use `value` to see the data the channel holds"
   ]
  },
  {
   "cell_type": "markdown",
   "id": "58ed9b25-6dde-488d-9582-d49d405793c6",
   "metadata": {},
   "source": [
    "This node also exploits type hinting! Like the variable names, these hints get scraped automatically and added to the channels:"
   ]
  },
  {
   "cell_type": "code",
   "execution_count": 9,
   "id": "09eee102-f8f1-4d2d-806f-01254c2483dc",
   "metadata": {},
   "outputs": [
    {
     "data": {
      "text/plain": [
       "(int, int, int)"
      ]
     },
     "execution_count": 9,
     "metadata": {},
     "output_type": "execute_result"
    }
   ],
   "source": [
    "adder_node.inputs.x.type_hint, adder_node.inputs.y.type_hint, adder_node.outputs.sum_.type_hint"
   ]
  },
  {
   "cell_type": "markdown",
   "id": "8382ba4d-9bf7-4057-8da8-0ee411d95c18",
   "metadata": {},
   "source": [
    "New values are checked against the node type hint, so trying to assign an incommensurate value will raise an error:"
   ]
  },
  {
   "cell_type": "code",
   "execution_count": 10,
   "id": "ac0fe993-6c82-48c8-a780-cbd0c97fc386",
   "metadata": {},
   "outputs": [
    {
     "name": "stdout",
     "output_type": "stream",
     "text": [
      "RAISED TypeError\n",
      "The channel x cannot take the value `not an integer` because it is not compliant with the type hint <class 'int'>\n"
     ]
    }
   ],
   "source": [
    "try:\n",
    "    adder_node.inputs.x = \"not an integer\"\n",
    "except TypeError as e:\n",
    "    print(f\"RAISED {e.__class__.__name__}\")\n",
    "    message = e.args[0]\n",
    "    print(message)"
   ]
  },
  {
   "cell_type": "markdown",
   "id": "fb2eb642-4fe8-4ab7-b969-288150e43112",
   "metadata": {},
   "source": [
    "We can bypass this by deactivating the `strict_hinting`, or by assigning a new value directly to the private `_value` attribute. The `run()` will also perform a check that input values conform to type hints before computing anything. Failing at this stage won't actually cause the node to have a `failed` status, so you can just re-run it once the input is fixed."
   ]
  },
  {
   "cell_type": "code",
   "execution_count": 11,
   "id": "a63b2cc0-9030-45ad-8d37-d11e16e61369",
   "metadata": {},
   "outputs": [
    {
     "name": "stdout",
     "output_type": "stream",
     "text": [
      "RAISED ReadinessError\n",
      "adder received a run command but is not ready. The node should be neither running nor failed, and all input values should conform to type hints.\n",
      "adder readiness: False\n",
      "STATE:\n",
      "running: False\n",
      "failed: False\n",
      "INPUTS:\n",
      "x ready: False\n",
      "y ready: True\n"
     ]
    }
   ],
   "source": [
    "adder_node.deactivate_strict_hints()\n",
    "adder_node.inputs.x = \"not an integer\"\n",
    "adder_node.activate_strict_hints()\n",
    "try:\n",
    "    adder_node.run()\n",
    "except Exception as e:\n",
    "    print(f\"RAISED {e.__class__.__name__}\")\n",
    "    message = e.args[0]\n",
    "    print(message)"
   ]
  },
  {
   "cell_type": "code",
   "execution_count": 12,
   "id": "15742a49-4c23-4d4a-84d9-9bf19677544c",
   "metadata": {},
   "outputs": [
    {
     "data": {
      "text/plain": [
       "3"
      ]
     },
     "execution_count": 12,
     "metadata": {},
     "output_type": "execute_result"
    }
   ],
   "source": [
    "adder_node.inputs.x = 2\n",
    "adder_node.run()"
   ]
  },
  {
   "cell_type": "markdown",
   "id": "416ba898-21ee-4638-820f-0f04a98a6706",
   "metadata": {},
   "source": [
    "We can also set new input as any valid combination of kwargs and/or args at both instantiation or on call:"
   ]
  },
  {
   "cell_type": "code",
   "execution_count": 13,
   "id": "0c8f09a7-67c4-4c6c-a021-e3fea1a16576",
   "metadata": {},
   "outputs": [
    {
     "data": {
      "text/plain": [
       "30"
      ]
     },
     "execution_count": 13,
     "metadata": {},
     "output_type": "execute_result"
    }
   ],
   "source": [
    "adder_node = Function(adder, 10, y=20)\n",
    "adder_node.run()"
   ]
  },
  {
   "cell_type": "markdown",
   "id": "c0997630-c053-42bb-8c0d-332f8bc26216",
   "metadata": {},
   "source": [
    "Finally, we can update input and then `run` together by calling an already-instantiated node. Just like at node instantiation, the input for `Function` nodes can be set by positional and/or keyword argument. Here we'll use two positional args:"
   ]
  },
  {
   "cell_type": "code",
   "execution_count": 14,
   "id": "69b59737-9e09-4b4b-a0e2-76a09de02c08",
   "metadata": {},
   "outputs": [
    {
     "data": {
      "text/plain": [
       "31"
      ]
     },
     "execution_count": 14,
     "metadata": {},
     "output_type": "execute_result"
    }
   ],
   "source": [
    "adder_node(15, 16)"
   ]
  },
  {
   "cell_type": "markdown",
   "id": "f233f3f7-9576-4400-8e92-a1f6109d7f9b",
   "metadata": {},
   "source": [
    "Note for advanced users: when the node has an executor set, running returns a futures object for the calculation, whose `.result()` will eventually be the function output. This result object can also be accessed on the node's `.result` attribute as long as it's running."
   ]
  },
  {
   "cell_type": "markdown",
   "id": "07a22cee-e340-4551-bb81-07d8be1d152b",
   "metadata": {},
   "source": [
    "## Reusable node classes\n",
    "\n",
    "If we're going to use a node many times, we may want to define a new sub-class of `Function` to handle this.\n",
    "\n",
    "The can be done directly by inheriting from `Function` and overriding it's `__init__` function and/or directly defining the `node_function` property so that the core functionality of the node (i.e. the node function and output labels) are set in stone, but even easier is to use the `function_node` decorator to do this for you! \n",
    "\n",
    "The decorator also lets us explicitly choose the names of our output channels by passing the `output_labels` argument to the decorator -- as a string to create a single channel for the returned values, or as a list of strings equal to the number of returned values in a returned tuple."
   ]
  },
  {
   "cell_type": "code",
   "execution_count": 15,
   "id": "61b43a9b-8dad-48b7-9194-2045e465793b",
   "metadata": {},
   "outputs": [],
   "source": [
    "from pyiron_workflow.function import function_node"
   ]
  },
  {
   "cell_type": "code",
   "execution_count": 16,
   "id": "647360a9-c971-4272-995c-aa01e5f5bb83",
   "metadata": {},
   "outputs": [
    {
     "name": "stdout",
     "output_type": "stream",
     "text": [
      "class name = Subtract\n",
      "label = Subtract\n",
      "default output = -1\n"
     ]
    }
   ],
   "source": [
    "@function_node(\"diff\")\n",
    "def Subtract(x: int | float = 1, y: int | float = 2) -> int | float:\n",
    "    return x - y\n",
    "\n",
    "sn = Subtract()\n",
    "print(\"class name =\", sn.__class__.__name__)\n",
    "print(\"label =\", sn.label)\n",
    "\n",
    "sn()  # Runs without updating input data, but we have defaults so that's fine\n",
    "print(\"default output =\", sn.outputs.diff.value)"
   ]
  },
  {
   "cell_type": "markdown",
   "id": "77642993-63c3-41a3-a963-a406de33553c",
   "metadata": {},
   "source": [
    "The decorator is just dynamically defining a new child of the `Function` class. These children have their behaviour available in the static method `node_function` so we can access it right from the class level, e.g. to modify the behaviour:"
   ]
  },
  {
   "cell_type": "code",
   "execution_count": 17,
   "id": "b8c845b7-7088-43d7-b106-7a6ba1c571ec",
   "metadata": {},
   "outputs": [
    {
     "name": "stdout",
     "output_type": "stream",
     "text": [
      "default output = 1\n"
     ]
    }
   ],
   "source": [
    "@function_node(\"square_diff\")\n",
    "def SubtractAndSqaure(x: int | float = 1, y: int | float = 2) -> int | float:\n",
    "    return Subtract.node_function(x, y)**2\n",
    "    \n",
    "ssq = SubtractAndSqaure()\n",
    "ssq()\n",
    "print(\"default output =\", ssq.outputs.square_diff.value)"
   ]
  },
  {
   "cell_type": "markdown",
   "id": "9b9220b0-833d-4c6a-9929-5dfa60a47d14",
   "metadata": {
    "tags": []
   },
   "source": [
    "# Connecting nodes and controlling flow\n",
    "\n",
    "Multiple nodes can be used together to build a computational graph, with each node performing a particular operation in the overall workflow.\n",
    "\n",
    "The input and output of nodes can be chained together by connecting their data channels to form a data graph.\n",
    "\n",
    "The flow of execution can be manually configured by using other \"signal\" channels to form an execution graph. However, for data graphs that are a directed acyclic graph (DAG), the execution flow can be automatically determined from the topology of the data connections!\n",
    "\n",
    "The `run` command we saw above has several boolean flags for controlling the style of execution. The two main run modes are with a \"pull\" paradigm, where everything upstream on the graph of data connections is run first then the node invoking `pull` gets run; and with a \"push\" paradigm (the default for `run`), where the node invoking `run` gets run and then runs everything downstream on the execution graph. Calling an instantiated node runs a particularly aggressive version of `pull` that recursively pulls everything upstream, even breaking out of the context of this particular sub-graph to pull in parent graphs.\n",
    "\n",
    "We'll talk more about grouping nodes together inside a `Workflow` object, but without a parent workflow, only the `pull` method will automate execution signals; trying to push data downstream using `run` requires specifying the execution flow manually.\n",
    "\n",
    "Let's start by looking at `pull` in the example below to see how this works for a super-simple toy graph:"
   ]
  },
  {
   "cell_type": "code",
   "execution_count": 18,
   "id": "2e418abf-7059-4e1e-9b9f-b3dc0a4b5e35",
   "metadata": {
    "tags": []
   },
   "outputs": [
    {
     "name": "stderr",
     "output_type": "stream",
     "text": [
      "/Users/huber/work/pyiron/pyiron_workflow/pyiron_workflow/channels.py:171: UserWarning: The channel ran was not connected to run, andthus could not disconnect from it.\n",
      "  warn(\n",
      "/Users/huber/work/pyiron/pyiron_workflow/pyiron_workflow/channels.py:171: UserWarning: The channel run was not connected to ran, andthus could not disconnect from it.\n",
      "  warn(\n"
     ]
    },
    {
     "data": {
      "text/plain": [
       "2"
      ]
     },
     "execution_count": 18,
     "metadata": {},
     "output_type": "execute_result"
    }
   ],
   "source": [
    "@function_node()\n",
    "def Linear(x):\n",
    "    return x\n",
    "\n",
    "@function_node(\"double\")\n",
    "def TimesTwo(x):\n",
    "    return 2 * x\n",
    "\n",
    "l = Linear()\n",
    "t2 = TimesTwo()\n",
    "\n",
    "l.inputs.x = 1\n",
    "t2.inputs.x = l.outputs.x\n",
    "t2.signals.input.run = l.signals.output.ran\n",
    "\n",
    "t2.pull()"
   ]
  },
  {
   "cell_type": "markdown",
   "id": "09623591-bbbb-462c-b490-f1db02c9f459",
   "metadata": {},
   "source": [
    "And, as mentioned, `__call__` is just (roughly) an alias for `pull`:"
   ]
  },
  {
   "cell_type": "code",
   "execution_count": 19,
   "id": "f3b0b700-683e-43cb-b374-48735e413bc9",
   "metadata": {},
   "outputs": [
    {
     "data": {
      "text/plain": [
       "4"
      ]
     },
     "execution_count": 19,
     "metadata": {},
     "output_type": "execute_result"
    }
   ],
   "source": [
    "l.inputs.x = 2\n",
    "t2()"
   ]
  },
  {
   "cell_type": "markdown",
   "id": "5da1ecfc-7145-4fb2-b5c0-417f050c5de4",
   "metadata": {},
   "source": [
    "Next, lets see how to do this with a \"push\" paradigm.\n",
    "\n",
    "Just like the data connections, we can connect the `.signals.inputs.run` and `.signals.output.ran` channels of two nodes, but we can also use the `>>` operator as a syntactic sugar shortcut.\n",
    "\n",
    "Note how data connections can be made with keyword arguments just like other input data definitions.\n",
    "\n",
    "With both of these together, we can write:"
   ]
  },
  {
   "cell_type": "code",
   "execution_count": 20,
   "id": "59c29856-c77e-48a1-9f17-15d4c58be588",
   "metadata": {},
   "outputs": [
    {
     "name": "stdout",
     "output_type": "stream",
     "text": [
      "10 20\n"
     ]
    }
   ],
   "source": [
    "l = Linear(x=10)\n",
    "t2 = TimesTwo(x=l.outputs.x)\n",
    "l >> t2  # Note: We can make arbitrarily long linear chains: l >> t2 >> something_else >> another_node\n",
    "l.run()\n",
    "print(t2.inputs.x, t2.outputs.double)"
   ]
  },
  {
   "cell_type": "markdown",
   "id": "f0543c2f-cc72-45e6-88f2-5ea070c64909",
   "metadata": {},
   "source": [
    "This is fine for linear chains, but when we introduce parallelization we want a different execution flow; for that we introduce `.signals.inputs.accumulate_and_run`. In contrast to `.signals.inputs.run`, which triggers are run when it receives _any_ signals, `.signals.inputs.accumulate_and_run` only fires its callback after _all_ of its connected `OutputSignal`s have pinged it at least once.\n",
    "\n",
    "This let's us set up nodes which only start running after _all_ of their up-data-stream nodes have fired their `ran` signal. This is the default behaviour when `Composite` `Workflow` or `Macro` nodes automate their execution flow for DAG data graphs. We'll look at it again near the end of the notebook when we talk about remote execution."
   ]
  },
  {
   "cell_type": "markdown",
   "id": "6d464066-4271-41be-a34f-20c78d75867c",
   "metadata": {},
   "source": [
    "# Output manipulation\n",
    "\n",
    "Most (but not all) python operations can be performed _directly on output channels_. This works by injecting new nodes after the output channels to perform the requested operation.\n",
    "\n",
    "Let's look at how we can repeat some of the above examples much more succinctly using this feature:"
   ]
  },
  {
   "cell_type": "code",
   "execution_count": 21,
   "id": "98312fbb-0e87-417c-9780-d22903cdb3f4",
   "metadata": {},
   "outputs": [
    {
     "data": {
      "text/plain": [
       "9"
      ]
     },
     "execution_count": 21,
     "metadata": {},
     "output_type": "execute_result"
    }
   ],
   "source": [
    "# Subtract and square\n",
    "\n",
    "x = Linear(x=4)\n",
    "y = Linear(x=1)\n",
    "((x.outputs.x - y.outputs.x)**2).pull()  # It's just a node so we can pull it"
   ]
  },
  {
   "cell_type": "markdown",
   "id": "c514738b-8dd9-4920-b6d0-d005e6676102",
   "metadata": {},
   "source": [
    "In case a node has _exactly_ one output channel, operations will fall back on attempting to operate on this one, unambiguous output channel -- i.e. we can operate on (and form connections to the output of) the node directly:"
   ]
  },
  {
   "cell_type": "code",
   "execution_count": 22,
   "id": "b0e8fc87-fba1-4501-882b-f162c4eadf97",
   "metadata": {},
   "outputs": [
    {
     "data": {
      "text/plain": [
       "20"
      ]
     },
     "execution_count": 22,
     "metadata": {},
     "output_type": "execute_result"
    }
   ],
   "source": [
    "# Times two\n",
    "l = Linear(x=10, run_after_init=True)\n",
    "(2*l).value  # These nodes will try to run right away if everything upstream is ready"
   ]
  },
  {
   "cell_type": "markdown",
   "id": "3052c26c-3559-4d61-8c93-08708293b88c",
   "metadata": {},
   "source": [
    "This also works with more sophisticated features like attribute and item access, including slicing:"
   ]
  },
  {
   "cell_type": "code",
   "execution_count": 23,
   "id": "8a195c41-233e-4076-ad77-008c93297f9c",
   "metadata": {},
   "outputs": [],
   "source": [
    "foo = [1, 2, 3]"
   ]
  },
  {
   "cell_type": "code",
   "execution_count": 24,
   "id": "6805b0c3-9103-49f4-bc29-569b0b4d6ed0",
   "metadata": {},
   "outputs": [
    {
     "data": {
      "text/plain": [
       "<function list.reverse()>"
      ]
     },
     "execution_count": 24,
     "metadata": {},
     "output_type": "execute_result"
    }
   ],
   "source": [
    "foo.reverse"
   ]
  },
  {
   "cell_type": "code",
   "execution_count": 25,
   "id": "7c4cbe66-9b0a-428b-835f-31959a7f75bb",
   "metadata": {},
   "outputs": [
    {
     "data": {
      "text/plain": [
       "[1, 2]"
      ]
     },
     "execution_count": 25,
     "metadata": {},
     "output_type": "execute_result"
    }
   ],
   "source": [
    "a_list = Linear(x=[1,2,3,4], run_after_init=True)\n",
    "a_list.outputs.x[:2].value  # Explicitly on the output channel"
   ]
  },
  {
   "cell_type": "code",
   "execution_count": 26,
   "id": "840d5762-ebb5-45aa-8faf-5443544bdeae",
   "metadata": {},
   "outputs": [
    {
     "data": {
      "text/plain": [
       "[1, 2]"
      ]
     },
     "execution_count": 26,
     "metadata": {},
     "output_type": "execute_result"
    }
   ],
   "source": [
    "a_list[:2].value  # Or directly on the single-output node"
   ]
  },
  {
   "cell_type": "code",
   "execution_count": 27,
   "id": "16c2d0de-de6f-4b33-84e4-aefbe5db4177",
   "metadata": {},
   "outputs": [
    {
     "data": {
      "text/plain": [
       "1"
      ]
     },
     "execution_count": 27,
     "metadata": {},
     "output_type": "execute_result"
    }
   ],
   "source": [
    "a_dict = Linear(x={\"a\": 1, \"b\": 2}, run_after_init=True)\n",
    "a_dict[\"a\"].value"
   ]
  },
  {
   "cell_type": "code",
   "execution_count": 28,
   "id": "30b4ed75-bb73-44bb-b6d9-fe525b924652",
   "metadata": {},
   "outputs": [
    {
     "data": {
      "text/plain": [
       "42"
      ]
     },
     "execution_count": 28,
     "metadata": {},
     "output_type": "execute_result"
    }
   ],
   "source": [
    "class Foo:\n",
    "    bar = 42\n",
    "    \n",
    "an_object = Linear(x=Foo(), run_after_init=True)\n",
    "an_object.bar.value"
   ]
  },
  {
   "cell_type": "markdown",
   "id": "eab9c6b6-c954-471a-8613-792590e0464f",
   "metadata": {},
   "source": [
    "Some features don't work this way, e.g. overriding the `==` operator has other deterious effects so we don't do that. Most of these operators are available as a method on output channels, based on their dunder name. E.g."
   ]
  },
  {
   "cell_type": "code",
   "execution_count": 29,
   "id": "786b1402-b595-4337-8872-fd58687c2725",
   "metadata": {},
   "outputs": [
    {
     "data": {
      "text/plain": [
       "(True, False)"
      ]
     },
     "execution_count": 29,
     "metadata": {},
     "output_type": "execute_result"
    }
   ],
   "source": [
    "a = Linear(x=42)\n",
    "b = Linear(x=42)\n",
    "c = Linear(x=0)\n",
    "\n",
    "a_eq_b = a.outputs.x.eq(b.outputs.x)  # On output channels explicitly\n",
    "a_eq_c = a.eq(c)  # Or the single-output nodes directly\n",
    "\n",
    "(a_eq_b | a_eq_c).pull(), (a_eq_b & a_eq_c).pull()"
   ]
  },
  {
   "cell_type": "markdown",
   "id": "b2e56a64-d053-4127-bb8c-069777c1c6b5",
   "metadata": {},
   "source": [
    "Nodes can take input from multiple sources, and -- although it's usually _useful_ to give each node its own variable -- we can even instantiate nodes inside the signature for initializing another node and call that node all at once! You won't have easy access to them afterwards, but this still just builds three nodes in memory, sets their data connections, and invokes a `pull` on the outermost (downstream-most) node, which automatically creates the execution flow and runs it:"
   ]
  },
  {
   "cell_type": "code",
   "execution_count": 30,
   "id": "6569014a-815b-46dd-8b47-4e1cd4584b3b",
   "metadata": {},
   "outputs": [
    {
     "name": "stderr",
     "output_type": "stream",
     "text": [
      "/Users/huber/work/pyiron/pyiron_workflow/pyiron_workflow/channels.py:171: UserWarning: The channel run was not connected to ran, andthus could not disconnect from it.\n",
      "  warn(\n"
     ]
    },
    {
     "data": {
      "image/png": "[encoded data removed]",
      "text/plain": [
       "<Figure size 640x480 with 1 Axes>"
      ]
     },
     "metadata": {},
     "output_type": "display_data"
    }
   ],
   "source": [
    "import matplotlib.pyplot as plt\n",
    "import numpy as np\n",
    "\n",
    "@function_node()\n",
    "def Noise(length: int = 1):\n",
    "    array =  np.random.rand(length)\n",
    "    return array\n",
    "\n",
    "@function_node()\n",
    "def Plot(x, y):\n",
    "    fig = plt.scatter(x, y)\n",
    "    return fig\n",
    "\n",
    "plot_output = Plot(\n",
    "    x=Noise(length=10),\n",
    "    y=Noise(length=10),\n",
    ")()"
   ]
  },
  {
   "cell_type": "markdown",
   "id": "5dc12164-b663-405b-872f-756996f628bd",
   "metadata": {},
   "source": [
    "# Workflows\n",
    "\n",
    "The case where we have groups of connected nodes working together is our normal, intended use case.\n",
    "We offer a formal way to group these objects together as a `Workflow(Node)` object.\n",
    "`Workflow` also offers us a single point of entry to the codebase -- i.e. most of the time you shouldn't need the node imports used above, because the decorators are available right on the workflow class.\n",
    "\n",
    "We will also see here that we can rename our node output channels using the `output_labels: Optional[str | list[str] | tuple[str]` kwarg, in case they don't have a convenient name to start with.\n",
    "This way we can always have convenient dot-based access (and tab completion) instead of having to access things by string-based keys.\n",
    "\n",
    "Finally, when a workflow is run, unless its `automate_execution` flag has been set to `False` or the data connections form a cyclic graph, it will _automatically_ build the necessary run signals! That means for all directed acyclic graph (DAG) workflows, all we typically need to worry about is the data connections."
   ]
  },
  {
   "cell_type": "markdown",
   "id": "9b9d3881-3584-4d6f-8068-5eed05760c36",
   "metadata": {},
   "source": [
    "Here is an example showing how `Workflow` can be used as a single-point-of-import for defining new nodes:"
   ]
  },
  {
   "cell_type": "code",
   "execution_count": 31,
   "id": "1cd000bd-9b24-4c39-9cac-70a3291d0660",
   "metadata": {},
   "outputs": [],
   "source": [
    "from pyiron_workflow import Workflow\n",
    "\n",
    "@Workflow.wrap_as.function_node(\"is_greater\")\n",
    "def GreaterThanHalf(x: int | float | bool = 0) -> bool:\n",
    "    \"\"\"The functionality doesn't matter here, it's just an example\"\"\"\n",
    "    return x > 0.5"
   ]
  },
  {
   "cell_type": "markdown",
   "id": "8f17751c-f5bf-4b13-8275-0685d8a1629e",
   "metadata": {},
   "source": [
    "## Adding nodes to a workflow\n",
    "\n",
    "Each node can belong to exactly one workflow...but how to we create a workflow and add nodes to it\n",
    "\n",
    "All five of the approaches below are equivalent ways to add a node to a workflow. Note that when `create` is called from the workflow _class_ it just gives you access to the class being created; when it is called from a workflow _instance_, it wraps this class so that the created node has its parent value automatically set to the workflow instance that's creating it."
   ]
  },
  {
   "cell_type": "code",
   "execution_count": 32,
   "id": "7964df3c-55af-4c25-afc5-9e07accb606a",
   "metadata": {},
   "outputs": [
    {
     "name": "stdout",
     "output_type": "stream",
     "text": [
      "n1 == n1) 0.0 > 0.5 False\n",
      "n2 == n2) 0.25 > 0.5 False\n",
      "n3 == n3) 0.5 > 0.5 False\n",
      "n4 == n4) 0.75 > 0.5 True\n"
     ]
    }
   ],
   "source": [
    "n1 = GreaterThanHalf(label=\"n1\")\n",
    "\n",
    "wf = Workflow(\"my_wf\", n1)  # As args at init\n",
    "wf.add_child(GreaterThanHalf(label=\"n2\"))  # Instantiating then passing to node adder\n",
    "wf.n3 = GreaterThanHalf(label=\"will_get_overwritten_with_n3\")  # Set attribute to instance\n",
    "GreaterThanHalf(label=\"n4\", parent=wf)  # By passing the workflow to the node\n",
    "\n",
    "for i, (label, node) in enumerate(wf.children.items()):\n",
    "    x = i / len(wf)\n",
    "    node(x=x)\n",
    "    print(f\"{label} == {node.label}) {x} > 0.5 {node.value}\")"
   ]
  },
  {
   "cell_type": "markdown",
   "id": "77c68bcb-089c-4c92-9897-9a7ab9b087c7",
   "metadata": {},
   "source": [
    "Nodes can also be removed or replaced with the corresponding `remove_child` or `replace_child` methods."
   ]
  },
  {
   "cell_type": "markdown",
   "id": "dd5768a4-1810-4675-9389-bceb053cddfa",
   "metadata": {},
   "source": [
    "Workflows have inputs and outputs just like function nodes, but these are dynamically created to map to all _unconnected_ input and output for their underlying graph. They automatically get named by connecting the node label and channel label with a double underscore, but this can be overriden by providing an `inputs_map` and/or an `outputs_map` -- these maps can also let you expose data channels that would otherwise be hidden because they have a connection!"
   ]
  },
  {
   "cell_type": "code",
   "execution_count": 33,
   "id": "809178a5-2e6b-471d-89ef-0797db47c5ad",
   "metadata": {},
   "outputs": [
    {
     "name": "stdout",
     "output_type": "stream",
     "text": [
      "['ax', 'b__x'] ['ay', 'a + b + 2']\n"
     ]
    }
   ],
   "source": [
    "wf = Workflow(\"simple\")\n",
    "\n",
    "@Workflow.wrap_as.function_node()\n",
    "def AddOne(x):\n",
    "    y = x + 1\n",
    "    return y\n",
    "\n",
    "@Workflow.wrap_as.function_node(\"sum\")\n",
    "def Add(x, y):\n",
    "    return x + y\n",
    "\n",
    "wf.a = AddOne(0)\n",
    "wf.b = AddOne(0)\n",
    "wf.sum = Add(wf.a, wf.b)  \n",
    "wf.inputs_map = {\"a__x\": \"ax\"}\n",
    "wf.outputs_map = {\"a__y\": \"ay\", \"sum__sum\": \"a + b + 2\"}\n",
    "# Remember, with single value nodes we can pass the whole node instead of an output channel!\n",
    "\n",
    "print(wf.inputs.labels, wf.outputs.labels)"
   ]
  },
  {
   "cell_type": "markdown",
   "id": "848a45a9-dfcc-4b9e-aec5-e879d88325a2",
   "metadata": {},
   "source": [
    "When `run()` is called on a workflow, it will call `run()` on each node in its `starting_nodes` list and rely on these to propagate the execution with their run signals. If your data flow is DAG-like, all of this gets handled automatically so you just need to call `run()` on the workflow.\n",
    "\n",
    "If you do have cyclic data flows, or just want more control, you are still free to set the `starting_nodes` and run signals yourself, just don't forget to set `automate_execution=False` on the workflow."
   ]
  },
  {
   "cell_type": "markdown",
   "id": "18ba07ca-f1f9-4f05-98db-d5612f9acbb6",
   "metadata": {},
   "source": [
    "Unlike function nodes, workflow input has no intrinsic order. We can still update it by calling the workflow, but we _need_ to use keyword and not positional arguments. Runs of the workflow then return a dot-accessible dictionary based on the output channels:"
   ]
  },
  {
   "cell_type": "code",
   "execution_count": 34,
   "id": "52c48d19-10a2-4c48-ae81-eceea4129a60",
   "metadata": {},
   "outputs": [
    {
     "data": {
      "text/plain": [
       "{'ay': 3, 'a + b + 2': 7}"
      ]
     },
     "execution_count": 34,
     "metadata": {},
     "output_type": "execute_result"
    }
   ],
   "source": [
    "out = wf(ax=2, b__x=3)\n",
    "out"
   ]
  },
  {
   "cell_type": "markdown",
   "id": "a229a66b-54f0-4d79-a16f-669c5f755587",
   "metadata": {},
   "source": [
    "Note: Workflows are the \"parent-most\" node, so even though `__call__` is still invoking a `pull`, the \"run all upstream data dependencies\" part of \"run all upstream data dependencies then run yourself\" gets skipped trivially -- workflows can't have siblings or parents so there are no dependencies to run! Thus `__call__` is effectively just a `run`."
   ]
  },
  {
   "cell_type": "markdown",
   "id": "e3f4b51b-7c28-47f7-9822-b4755e12bd4d",
   "metadata": {},
   "source": [
    "We can see now why we've been trying to give succinct string labels to our `Function` node outputs instead of just arbitrary expressions! The expressions are typically not dot-accessible:"
   ]
  },
  {
   "cell_type": "code",
   "execution_count": 35,
   "id": "bb35ba3e-602d-4c9c-b046-32da9401dd1c",
   "metadata": {},
   "outputs": [
    {
     "data": {
      "text/plain": [
       "(7, 3)"
      ]
     },
     "execution_count": 35,
     "metadata": {},
     "output_type": "execute_result"
    }
   ],
   "source": [
    "out[\"a + b + 2\"], out.ay"
   ]
  },
  {
   "cell_type": "markdown",
   "id": "c67ddcd9-cea0-4f3f-96aa-491da0a4c459",
   "metadata": {},
   "source": [
    "We can also look at our graph:"
   ]
  },
  {
   "cell_type": "code",
   "execution_count": 36,
   "id": "2b0d2c85-9049-417b-8739-8a8432a1efbe",
   "metadata": {},
   "outputs": [
    {
     "data": {
      "image/svg+xml": [
       "<?xml version=\"1.0\" encoding=\"UTF-8\" standalone=\"no\"?>\n",
       "<!DOCTYPE svg PUBLIC \"-//W3C//DTD SVG 1.1//EN\"\n",
       " \"http://www.w3.org/Graphics/SVG/1.1/DTD/svg11.dtd\">\n",
       "<!-- Generated by graphviz version 9.0.0 (0)\n",
       " -->\n",
       "<!-- Title: clustersimple Pages: 1 -->\n",
       "<svg width=\"720pt\" height=\"459pt\"\n",
       " viewBox=\"0.00 0.00 720.00 458.79\" xmlns=\"http://www.w3.org/2000/svg\" xmlns:xlink=\"http://www.w3.org/1999/xlink\">\n",
       "<g id=\"graph0\" class=\"graph\" transform=\"scale(0.84491 0.84491) rotate(0) translate(4 539)\">\n",
       "<title>clustersimple</title>\n",
       "<polygon fill=\"white\" stroke=\"none\" points=\"-4,4 -4,-539 848.16,-539 848.16,4 -4,4\"/>\n",
       "<text text-anchor=\"middle\" x=\"422.08\" y=\"-5.7\" font-family=\"Helvetica,sans-Serif\" font-size=\"14.00\">simple: Workflow</text>\n",
       "<g id=\"clust1\" class=\"cluster\">\n",
       "<title>clustersimpleInputs</title>\n",
       "<defs>\n",
       "<linearGradient id=\"clust1_l_0\" gradientUnits=\"userSpaceOnUse\" x1=\"8\" y1=\"-149.5\" x2=\"166.75\" y2=\"-149.5\" >\n",
       "<stop offset=\"0\" style=\"stop-color:#a5a4a5;stop-opacity:1.;\"/>\n",
       "<stop offset=\"1\" style=\"stop-color:#e4e4e4;stop-opacity:1.;\"/>\n",
       "</linearGradient>\n",
       "</defs>\n",
       "<polygon fill=\"url(#clust1_l_0)\" stroke=\"#a5a4a5\" points=\"8,-31 8,-268 166.75,-268 166.75,-31 8,-31\"/>\n",
       "<text text-anchor=\"middle\" x=\"87.38\" y=\"-250.7\" font-family=\"Helvetica,sans-Serif\" font-size=\"14.00\">Inputs</text>\n",
       "</g>\n",
       "<g id=\"clust2\" class=\"cluster\">\n",
       "<title>clustersimpleOutputs</title>\n",
       "<defs>\n",
       "<linearGradient id=\"clust2_l_1\" gradientUnits=\"userSpaceOnUse\" x1=\"836.16\" y1=\"-282.5\" x2=\"729.17\" y2=\"-282.5\" >\n",
       "<stop offset=\"0\" style=\"stop-color:#a5a4a5;stop-opacity:1.;\"/>\n",
       "<stop offset=\"1\" style=\"stop-color:#e4e4e4;stop-opacity:1.;\"/>\n",
       "</linearGradient>\n",
       "</defs>\n",
       "<polygon fill=\"url(#clust2_l_1)\" stroke=\"#a5a4a5\" points=\"729.17,-191 729.17,-374 836.16,-374 836.16,-191 729.17,-191\"/>\n",
       "<text text-anchor=\"middle\" x=\"782.67\" y=\"-356.7\" font-family=\"Helvetica,sans-Serif\" font-size=\"14.00\">Outputs</text>\n",
       "</g>\n",
       "<g id=\"clust3\" class=\"cluster\">\n",
       "<title>clustersimplea</title>\n",
       "<defs>\n",
       "<linearGradient id=\"clust3_l_2\" gradientUnits=\"userSpaceOnUse\" x1=\"178.75\" y1=\"-416\" x2=\"443.5\" y2=\"-416\" >\n",
       "<stop offset=\"0\" style=\"stop-color:#c0e2c0;stop-opacity:1.;\"/>\n",
       "<stop offset=\"1\" style=\"stop-color:#c0e2c0;stop-opacity:1.;\"/>\n",
       "</linearGradient>\n",
       "</defs>\n",
       "<polygon fill=\"url(#clust3_l_2)\" stroke=\"#c0e2c0\" points=\"178.75,-305 178.75,-527 443.5,-527 443.5,-305 178.75,-305\"/>\n",
       "<text text-anchor=\"middle\" x=\"311.12\" y=\"-509.7\" font-family=\"Helvetica,sans-Serif\" font-size=\"14.00\">a: AddOne</text>\n",
       "</g>\n",
       "<g id=\"clust4\" class=\"cluster\">\n",
       "<title>clustersimpleaInputs</title>\n",
       "<defs>\n",
       "<linearGradient id=\"clust4_l_3\" gradientUnits=\"userSpaceOnUse\" x1=\"186.75\" y1=\"-404.5\" x2=\"345.5\" y2=\"-404.5\" >\n",
       "<stop offset=\"0\" style=\"stop-color:#a5a4a5;stop-opacity:1.;\"/>\n",
       "<stop offset=\"1\" style=\"stop-color:#e4e4e4;stop-opacity:1.;\"/>\n",
       "</linearGradient>\n",
       "</defs>\n",
       "<polygon fill=\"url(#clust4_l_3)\" stroke=\"#a5a4a5\" points=\"186.75,-313 186.75,-496 345.5,-496 345.5,-313 186.75,-313\"/>\n",
       "<text text-anchor=\"middle\" x=\"266.12\" y=\"-478.7\" font-family=\"Helvetica,sans-Serif\" font-size=\"14.00\">Inputs</text>\n",
       "</g>\n",
       "<g id=\"clust5\" class=\"cluster\">\n",
       "<title>clustersimpleaOutputs</title>\n",
       "<defs>\n",
       "<linearGradient id=\"clust5_l_4\" gradientUnits=\"userSpaceOnUse\" x1=\"435.5\" y1=\"-392.5\" x2=\"365.5\" y2=\"-392.5\" >\n",
       "<stop offset=\"0\" style=\"stop-color:#a5a4a5;stop-opacity:1.;\"/>\n",
       "<stop offset=\"1\" style=\"stop-color:#e4e4e4;stop-opacity:1.;\"/>\n",
       "</linearGradient>\n",
       "</defs>\n",
       "<polygon fill=\"url(#clust5_l_4)\" stroke=\"#a5a4a5\" points=\"365.5,-328 365.5,-457 435.5,-457 435.5,-328 365.5,-328\"/>\n",
       "<text text-anchor=\"middle\" x=\"400.5\" y=\"-439.7\" font-family=\"Helvetica,sans-Serif\" font-size=\"14.00\">Outputs</text>\n",
       "</g>\n",
       "<g id=\"clust6\" class=\"cluster\">\n",
       "<title>clustersimpleb</title>\n",
       "<defs>\n",
       "<linearGradient id=\"clust6_l_5\" gradientUnits=\"userSpaceOnUse\" x1=\"178.75\" y1=\"-186\" x2=\"443.5\" y2=\"-186\" >\n",
       "<stop offset=\"0\" style=\"stop-color:#c0e2c0;stop-opacity:1.;\"/>\n",
       "<stop offset=\"1\" style=\"stop-color:#c0e2c0;stop-opacity:1.;\"/>\n",
       "</linearGradient>\n",
       "</defs>\n",
       "<polygon fill=\"url(#clust6_l_5)\" stroke=\"#c0e2c0\" points=\"178.75,-75 178.75,-297 443.5,-297 443.5,-75 178.75,-75\"/>\n",
       "<text text-anchor=\"middle\" x=\"311.12\" y=\"-279.7\" font-family=\"Helvetica,sans-Serif\" font-size=\"14.00\">b: AddOne</text>\n",
       "</g>\n",
       "<g id=\"clust7\" class=\"cluster\">\n",
       "<title>clustersimplebInputs</title>\n",
       "<defs>\n",
       "<linearGradient id=\"clust7_l_6\" gradientUnits=\"userSpaceOnUse\" x1=\"186.75\" y1=\"-174.5\" x2=\"345.5\" y2=\"-174.5\" >\n",
       "<stop offset=\"0\" style=\"stop-color:#a5a4a5;stop-opacity:1.;\"/>\n",
       "<stop offset=\"1\" style=\"stop-color:#e4e4e4;stop-opacity:1.;\"/>\n",
       "</linearGradient>\n",
       "</defs>\n",
       "<polygon fill=\"url(#clust7_l_6)\" stroke=\"#a5a4a5\" points=\"186.75,-83 186.75,-266 345.5,-266 345.5,-83 186.75,-83\"/>\n",
       "<text text-anchor=\"middle\" x=\"266.12\" y=\"-248.7\" font-family=\"Helvetica,sans-Serif\" font-size=\"14.00\">Inputs</text>\n",
       "</g>\n",
       "<g id=\"clust8\" class=\"cluster\">\n",
       "<title>clustersimplebOutputs</title>\n",
       "<defs>\n",
       "<linearGradient id=\"clust8_l_7\" gradientUnits=\"userSpaceOnUse\" x1=\"435.5\" y1=\"-201.5\" x2=\"365.5\" y2=\"-201.5\" >\n",
       "<stop offset=\"0\" style=\"stop-color:#a5a4a5;stop-opacity:1.;\"/>\n",
       "<stop offset=\"1\" style=\"stop-color:#e4e4e4;stop-opacity:1.;\"/>\n",
       "</linearGradient>\n",
       "</defs>\n",
       "<polygon fill=\"url(#clust8_l_7)\" stroke=\"#a5a4a5\" points=\"365.5,-137 365.5,-266 435.5,-266 435.5,-137 365.5,-137\"/>\n",
       "<text text-anchor=\"middle\" x=\"400.5\" y=\"-248.7\" font-family=\"Helvetica,sans-Serif\" font-size=\"14.00\">Outputs</text>\n",
       "</g>\n",
       "<g id=\"clust9\" class=\"cluster\">\n",
       "<title>clustersimplesum</title>\n",
       "<defs>\n",
       "<linearGradient id=\"clust9_l_8\" gradientUnits=\"userSpaceOnUse\" x1=\"451.5\" y1=\"-267\" x2=\"717.17\" y2=\"-267\" >\n",
       "<stop offset=\"0\" style=\"stop-color:#c0e2c0;stop-opacity:1.;\"/>\n",
       "<stop offset=\"1\" style=\"stop-color:#c0e2c0;stop-opacity:1.;\"/>\n",
       "</linearGradient>\n",
       "</defs>\n",
       "<polygon fill=\"url(#clust9_l_8)\" stroke=\"#c0e2c0\" points=\"451.5,-129 451.5,-405 717.17,-405 717.17,-129 451.5,-129\"/>\n",
       "<text text-anchor=\"middle\" x=\"584.34\" y=\"-387.7\" font-family=\"Helvetica,sans-Serif\" font-size=\"14.00\">sum: Add</text>\n",
       "</g>\n",
       "<g id=\"clust10\" class=\"cluster\">\n",
       "<title>clustersimplesumInputs</title>\n",
       "<defs>\n",
       "<linearGradient id=\"clust10_l_9\" gradientUnits=\"userSpaceOnUse\" x1=\"459.5\" y1=\"-255.5\" x2=\"618.25\" y2=\"-255.5\" >\n",
       "<stop offset=\"0\" style=\"stop-color:#a5a4a5;stop-opacity:1.;\"/>\n",
       "<stop offset=\"1\" style=\"stop-color:#e4e4e4;stop-opacity:1.;\"/>\n",
       "</linearGradient>\n",
       "</defs>\n",
       "<polygon fill=\"url(#clust10_l_9)\" stroke=\"#a5a4a5\" points=\"459.5,-137 459.5,-374 618.25,-374 618.25,-137 459.5,-137\"/>\n",
       "<text text-anchor=\"middle\" x=\"538.88\" y=\"-356.7\" font-family=\"Helvetica,sans-Serif\" font-size=\"14.00\">Inputs</text>\n",
       "</g>\n",
       "<g id=\"clust11\" class=\"cluster\">\n",
       "<title>clustersimplesumOutputs</title>\n",
       "<defs>\n",
       "<linearGradient id=\"clust11_l_10\" gradientUnits=\"userSpaceOnUse\" x1=\"709.17\" y1=\"-309.5\" x2=\"638.25\" y2=\"-309.5\" >\n",
       "<stop offset=\"0\" style=\"stop-color:#a5a4a5;stop-opacity:1.;\"/>\n",
       "<stop offset=\"1\" style=\"stop-color:#e4e4e4;stop-opacity:1.;\"/>\n",
       "</linearGradient>\n",
       "</defs>\n",
       "<polygon fill=\"url(#clust11_l_10)\" stroke=\"#a5a4a5\" points=\"638.25,-245 638.25,-374 709.17,-374 709.17,-245 638.25,-245\"/>\n",
       "<text text-anchor=\"middle\" x=\"673.71\" y=\"-356.7\" font-family=\"Helvetica,sans-Serif\" font-size=\"14.00\">Outputs</text>\n",
       "</g>\n",
       "<!-- clustersimpleInputsrun -->\n",
       "<g id=\"node1\" class=\"node\">\n",
       "<title>clustersimpleInputsrun</title>\n",
       "<polygon fill=\"#21bfd8\" stroke=\"#21bfd8\" points=\"102.38,-69 60.38,-69 60.38,-45 102.38,-45 114.38,-57 102.38,-69\"/>\n",
       "<text text-anchor=\"middle\" x=\"87.38\" y=\"-51.2\" font-family=\"Helvetica,sans-Serif\" font-size=\"14.00\">run</text>\n",
       "</g>\n",
       "<!-- clustersimpleOutputsran -->\n",
       "<g id=\"node5\" class=\"node\">\n",
       "<title>clustersimpleOutputsran</title>\n",
       "<polygon fill=\"#21bfd8\" stroke=\"#21bfd8\" points=\"797.67,-229 755.67,-229 755.67,-205 797.67,-205 809.67,-217 797.67,-229\"/>\n",
       "<text text-anchor=\"middle\" x=\"782.67\" y=\"-211.2\" font-family=\"Helvetica,sans-Serif\" font-size=\"14.00\">ran</text>\n",
       "</g>\n",
       "<!-- clustersimpleInputsrun&#45;&gt;clustersimpleOutputsran -->\n",
       "<!-- clustersimpleInputsaccumulate_and_run -->\n",
       "<g id=\"node2\" class=\"node\">\n",
       "<title>clustersimpleInputsaccumulate_and_run</title>\n",
       "<polygon fill=\"#21bfd8\" stroke=\"#21bfd8\" points=\"146.75,-177 16,-177 16,-153 146.75,-153 158.75,-165 146.75,-177\"/>\n",
       "<text text-anchor=\"middle\" x=\"87.38\" y=\"-159.2\" font-family=\"Helvetica,sans-Serif\" font-size=\"14.00\">accumulate_and_run</text>\n",
       "</g>\n",
       "<!-- clustersimpleInputsax -->\n",
       "<g id=\"node3\" class=\"node\">\n",
       "<title>clustersimpleInputsax</title>\n",
       "<ellipse fill=\"#edb22c\" stroke=\"#edb22c\" cx=\"87.38\" cy=\"-219\" rx=\"27\" ry=\"18\"/>\n",
       "<text text-anchor=\"middle\" x=\"87.38\" y=\"-213.2\" font-family=\"Helvetica,sans-Serif\" font-size=\"14.00\">ax</text>\n",
       "</g>\n",
       "<!-- clustersimpleaInputsx -->\n",
       "<g id=\"node10\" class=\"node\">\n",
       "<title>clustersimpleaInputsx</title>\n",
       "<ellipse fill=\"#edb22c\" stroke=\"#edb22c\" cx=\"266.12\" cy=\"-339\" rx=\"27\" ry=\"18\"/>\n",
       "<text text-anchor=\"middle\" x=\"266.12\" y=\"-333.2\" font-family=\"Helvetica,sans-Serif\" font-size=\"14.00\">x</text>\n",
       "</g>\n",
       "<!-- clustersimpleInputsax&#45;&gt;clustersimpleaInputsx -->\n",
       "<g id=\"edge9\" class=\"edge\">\n",
       "<title>clustersimpleInputsax&#45;&gt;clustersimpleaInputsx</title>\n",
       "<path fill=\"none\" stroke=\"#edb22c\" d=\"M106.96,-231.62C122.54,-242.19 146.06,-258.17 170.24,-274.58\"/>\n",
       "<path fill=\"none\" stroke=\"#edb22c\" d=\"M170.24,-274.58C194.42,-291 219.26,-307.86 237.45,-320.21\"/>\n",
       "<polygon fill=\"#edb22c\" stroke=\"#edb22c\" points=\"235.04,-322.8 245.28,-325.52 238.97,-317.01 235.04,-322.8\"/>\n",
       "</g>\n",
       "<!-- clustersimpleInputsb__x -->\n",
       "<g id=\"node4\" class=\"node\">\n",
       "<title>clustersimpleInputsb__x</title>\n",
       "<ellipse fill=\"#edb22c\" stroke=\"#edb22c\" cx=\"87.38\" cy=\"-111\" rx=\"29.41\" ry=\"18\"/>\n",
       "<text text-anchor=\"middle\" x=\"87.38\" y=\"-105.2\" font-family=\"Helvetica,sans-Serif\" font-size=\"14.00\">b__x</text>\n",
       "</g>\n",
       "<!-- clustersimplebInputsx -->\n",
       "<g id=\"node15\" class=\"node\">\n",
       "<title>clustersimplebInputsx</title>\n",
       "<ellipse fill=\"#edb22c\" stroke=\"#edb22c\" cx=\"266.12\" cy=\"-109\" rx=\"27\" ry=\"18\"/>\n",
       "<text text-anchor=\"middle\" x=\"266.12\" y=\"-103.2\" font-family=\"Helvetica,sans-Serif\" font-size=\"14.00\">x</text>\n",
       "</g>\n",
       "<!-- clustersimpleInputsb__x&#45;&gt;clustersimplebInputsx -->\n",
       "<g id=\"edge10\" class=\"edge\">\n",
       "<title>clustersimpleInputsb__x&#45;&gt;clustersimplebInputsx</title>\n",
       "<path fill=\"none\" stroke=\"#edb22c\" d=\"M117.17,-110.67C132.15,-110.5 151.41,-110.29 171.05,-110.06\"/>\n",
       "<path fill=\"none\" stroke=\"#edb22c\" d=\"M171.05,-110.06C190.69,-109.84 210.71,-109.62 227.2,-109.43\"/>\n",
       "<polygon fill=\"#edb22c\" stroke=\"#edb22c\" points=\"227.18,-112.93 237.14,-109.32 227.11,-105.93 227.18,-112.93\"/>\n",
       "</g>\n",
       "<!-- clustersimpleOutputsay -->\n",
       "<g id=\"node6\" class=\"node\">\n",
       "<title>clustersimpleOutputsay</title>\n",
       "<ellipse fill=\"#edb22c\" stroke=\"#edb22c\" cx=\"782.67\" cy=\"-325\" rx=\"27\" ry=\"18\"/>\n",
       "<text text-anchor=\"middle\" x=\"782.67\" y=\"-319.2\" font-family=\"Helvetica,sans-Serif\" font-size=\"14.00\">ay</text>\n",
       "</g>\n",
       "<!-- clustersimpleOutputsa + b + 2 -->\n",
       "<g id=\"node7\" class=\"node\">\n",
       "<title>clustersimpleOutputsa + b + 2</title>\n",
       "<ellipse fill=\"#edb22c\" stroke=\"#edb22c\" cx=\"782.67\" cy=\"-271\" rx=\"45.5\" ry=\"18\"/>\n",
       "<text text-anchor=\"middle\" x=\"782.67\" y=\"-265.2\" font-family=\"Helvetica,sans-Serif\" font-size=\"14.00\">a + b + 2</text>\n",
       "</g>\n",
       "<!-- clustersimpleaInputsrun -->\n",
       "<g id=\"node8\" class=\"node\">\n",
       "<title>clustersimpleaInputsrun</title>\n",
       "<polygon fill=\"#21bfd8\" stroke=\"#21bfd8\" points=\"281.12,-459 239.12,-459 239.12,-435 281.12,-435 293.12,-447 281.12,-459\"/>\n",
       "<text text-anchor=\"middle\" x=\"266.12\" y=\"-441.2\" font-family=\"Helvetica,sans-Serif\" font-size=\"14.00\">run</text>\n",
       "</g>\n",
       "<!-- clustersimpleaOutputsran -->\n",
       "<g id=\"node11\" class=\"node\">\n",
       "<title>clustersimpleaOutputsran</title>\n",
       "<polygon fill=\"#21bfd8\" stroke=\"#21bfd8\" points=\"415.5,-366 373.5,-366 373.5,-342 415.5,-342 427.5,-354 415.5,-366\"/>\n",
       "<text text-anchor=\"middle\" x=\"400.5\" y=\"-348.2\" font-family=\"Helvetica,sans-Serif\" font-size=\"14.00\">ran</text>\n",
       "</g>\n",
       "<!-- clustersimpleaInputsrun&#45;&gt;clustersimpleaOutputsran -->\n",
       "<!-- clustersimpleaInputsaccumulate_and_run -->\n",
       "<g id=\"node9\" class=\"node\">\n",
       "<title>clustersimpleaInputsaccumulate_and_run</title>\n",
       "<polygon fill=\"#21bfd8\" stroke=\"#21bfd8\" points=\"325.5,-405 194.75,-405 194.75,-381 325.5,-381 337.5,-393 325.5,-405\"/>\n",
       "<text text-anchor=\"middle\" x=\"266.12\" y=\"-387.2\" font-family=\"Helvetica,sans-Serif\" font-size=\"14.00\">accumulate_and_run</text>\n",
       "</g>\n",
       "<!-- clustersimplesumInputsaccumulate_and_run -->\n",
       "<g id=\"node19\" class=\"node\">\n",
       "<title>clustersimplesumInputsaccumulate_and_run</title>\n",
       "<polygon fill=\"#21bfd8\" stroke=\"#21bfd8\" points=\"598.25,-229 467.5,-229 467.5,-205 598.25,-205 610.25,-217 598.25,-229\"/>\n",
       "<text text-anchor=\"middle\" x=\"538.88\" y=\"-211.2\" font-family=\"Helvetica,sans-Serif\" font-size=\"14.00\">accumulate_and_run</text>\n",
       "</g>\n",
       "<!-- clustersimpleaOutputsran&#45;&gt;clustersimplesumInputsaccumulate_and_run -->\n",
       "<g id=\"edge5\" class=\"edge\">\n",
       "<title>clustersimpleaOutputsran&#45;&gt;clustersimplesumInputsaccumulate_and_run</title>\n",
       "<path fill=\"none\" stroke=\"#21bfd8\" d=\"M411.74,-335.72C418.84,-322.69 428.46,-304.26 436.78,-285.75\"/>\n",
       "<path fill=\"none\" stroke=\"#21bfd8\" d=\"M436.78,-285.75C439.16,-280.46 441.43,-275.17 443.5,-270 448,-258.78 442.97,-252.57 451.5,-244 453.49,-242 455.62,-240.15 457.87,-238.44\"/>\n",
       "<polygon fill=\"#21bfd8\" stroke=\"#21bfd8\" points=\"459.3,-241.69 465.78,-233.31 455.49,-235.81 459.3,-241.69\"/>\n",
       "</g>\n",
       "<!-- clustersimpleaOutputsy -->\n",
       "<g id=\"node12\" class=\"node\">\n",
       "<title>clustersimpleaOutputsy</title>\n",
       "<ellipse fill=\"#edb22c\" stroke=\"#edb22c\" cx=\"400.5\" cy=\"-408\" rx=\"27\" ry=\"18\"/>\n",
       "<text text-anchor=\"middle\" x=\"400.5\" y=\"-402.2\" font-family=\"Helvetica,sans-Serif\" font-size=\"14.00\">y</text>\n",
       "</g>\n",
       "<!-- clustersimpleaOutputsy&#45;&gt;clustersimpleOutputsay -->\n",
       "<g id=\"edge11\" class=\"edge\">\n",
       "<title>clustersimpleaOutputsy&#45;&gt;clustersimpleOutputsay</title>\n",
       "<path fill=\"none\" stroke=\"#edb22c\" d=\"M427.67,-410.51C460.42,-413.04 520.02,-415.69 584.01,-409.01\"/>\n",
       "<path fill=\"none\" stroke=\"#edb22c\" d=\"M584.01,-409.01C628.82,-404.33 675.78,-395.08 717.17,-378 733.18,-371.39 748.3,-359.4 759.87,-348.49\"/>\n",
       "<polygon fill=\"#edb22c\" stroke=\"#edb22c\" points=\"762.26,-351.06 766.91,-341.53 757.34,-346.08 762.26,-351.06\"/>\n",
       "</g>\n",
       "<!-- clustersimplesumInputsx -->\n",
       "<g id=\"node20\" class=\"node\">\n",
       "<title>clustersimplesumInputsx</title>\n",
       "<ellipse fill=\"#edb22c\" stroke=\"#edb22c\" cx=\"538.88\" cy=\"-271\" rx=\"27\" ry=\"18\"/>\n",
       "<text text-anchor=\"middle\" x=\"538.88\" y=\"-265.2\" font-family=\"Helvetica,sans-Serif\" font-size=\"14.00\">x</text>\n",
       "</g>\n",
       "<!-- clustersimpleaOutputsy&#45;&gt;clustersimplesumInputsx -->\n",
       "<g id=\"edge6\" class=\"edge\">\n",
       "<title>clustersimpleaOutputsy&#45;&gt;clustersimplesumInputsx</title>\n",
       "<path fill=\"none\" stroke=\"#edb22c\" d=\"M423.81,-398.64C431.29,-394.37 438.9,-388.55 443.5,-381 449.92,-370.48 446.17,-343.61 446.38,-322.56\"/>\n",
       "<path fill=\"none\" stroke=\"#edb22c\" d=\"M446.38,-322.56C446.48,-311.95 447.59,-302.82 451.5,-298 463.3,-283.46 482.84,-276.61 500.35,-273.44\"/>\n",
       "<polygon fill=\"#edb22c\" stroke=\"#edb22c\" points=\"500.84,-276.9 510.25,-272.02 499.85,-269.97 500.84,-276.9\"/>\n",
       "</g>\n",
       "<!-- clustersimplebInputsrun -->\n",
       "<g id=\"node13\" class=\"node\">\n",
       "<title>clustersimplebInputsrun</title>\n",
       "<polygon fill=\"#21bfd8\" stroke=\"#21bfd8\" points=\"281.12,-229 239.12,-229 239.12,-205 281.12,-205 293.12,-217 281.12,-229\"/>\n",
       "<text text-anchor=\"middle\" x=\"266.12\" y=\"-211.2\" font-family=\"Helvetica,sans-Serif\" font-size=\"14.00\">run</text>\n",
       "</g>\n",
       "<!-- clustersimplebOutputsran -->\n",
       "<g id=\"node16\" class=\"node\">\n",
       "<title>clustersimplebOutputsran</title>\n",
       "<polygon fill=\"#21bfd8\" stroke=\"#21bfd8\" points=\"415.5,-229 373.5,-229 373.5,-205 415.5,-205 427.5,-217 415.5,-229\"/>\n",
       "<text text-anchor=\"middle\" x=\"400.5\" y=\"-211.2\" font-family=\"Helvetica,sans-Serif\" font-size=\"14.00\">ran</text>\n",
       "</g>\n",
       "<!-- clustersimplebInputsrun&#45;&gt;clustersimplebOutputsran -->\n",
       "<!-- clustersimplebInputsaccumulate_and_run -->\n",
       "<g id=\"node14\" class=\"node\">\n",
       "<title>clustersimplebInputsaccumulate_and_run</title>\n",
       "<polygon fill=\"#21bfd8\" stroke=\"#21bfd8\" points=\"325.5,-175 194.75,-175 194.75,-151 325.5,-151 337.5,-163 325.5,-175\"/>\n",
       "<text text-anchor=\"middle\" x=\"266.12\" y=\"-157.2\" font-family=\"Helvetica,sans-Serif\" font-size=\"14.00\">accumulate_and_run</text>\n",
       "</g>\n",
       "<!-- clustersimplebOutputsran&#45;&gt;clustersimplesumInputsaccumulate_and_run -->\n",
       "<g id=\"edge7\" class=\"edge\">\n",
       "<title>clustersimplebOutputsran&#45;&gt;clustersimplesumInputsaccumulate_and_run</title>\n",
       "<path fill=\"none\" stroke=\"#21bfd8\" d=\"M427.79,-217C431.93,-217 436.4,-217 441.09,-217\"/>\n",
       "<path fill=\"none\" stroke=\"#21bfd8\" d=\"M441.09,-217C445.77,-217 450.68,-217 455.7,-217\"/>\n",
       "<polygon fill=\"#21bfd8\" stroke=\"#21bfd8\" points=\"455.64,-220.5 465.64,-217 455.64,-213.5 455.64,-220.5\"/>\n",
       "</g>\n",
       "<!-- clustersimplebOutputsy -->\n",
       "<g id=\"node17\" class=\"node\">\n",
       "<title>clustersimplebOutputsy</title>\n",
       "<ellipse fill=\"#edb22c\" stroke=\"#edb22c\" cx=\"400.5\" cy=\"-163\" rx=\"27\" ry=\"18\"/>\n",
       "<text text-anchor=\"middle\" x=\"400.5\" y=\"-157.2\" font-family=\"Helvetica,sans-Serif\" font-size=\"14.00\">y</text>\n",
       "</g>\n",
       "<!-- clustersimplesumInputsy -->\n",
       "<g id=\"node21\" class=\"node\">\n",
       "<title>clustersimplesumInputsy</title>\n",
       "<ellipse fill=\"#edb22c\" stroke=\"#edb22c\" cx=\"538.88\" cy=\"-163\" rx=\"27\" ry=\"18\"/>\n",
       "<text text-anchor=\"middle\" x=\"538.88\" y=\"-157.2\" font-family=\"Helvetica,sans-Serif\" font-size=\"14.00\">y</text>\n",
       "</g>\n",
       "<!-- clustersimplebOutputsy&#45;&gt;clustersimplesumInputsy -->\n",
       "<g id=\"edge8\" class=\"edge\">\n",
       "<title>clustersimplebOutputsy&#45;&gt;clustersimplesumInputsy</title>\n",
       "<path fill=\"none\" stroke=\"#edb22c\" d=\"M427.79,-163C438.08,-163 450.43,-163 463.1,-163\"/>\n",
       "<path fill=\"none\" stroke=\"#edb22c\" d=\"M463.1,-163C475.76,-163 488.73,-163 500.24,-163\"/>\n",
       "<polygon fill=\"#edb22c\" stroke=\"#edb22c\" points=\"500.15,-166.5 510.15,-163 500.15,-159.5 500.15,-166.5\"/>\n",
       "</g>\n",
       "<!-- clustersimplesumInputsrun -->\n",
       "<g id=\"node18\" class=\"node\">\n",
       "<title>clustersimplesumInputsrun</title>\n",
       "<polygon fill=\"#21bfd8\" stroke=\"#21bfd8\" points=\"553.88,-337 511.88,-337 511.88,-313 553.88,-313 565.88,-325 553.88,-337\"/>\n",
       "<text text-anchor=\"middle\" x=\"538.88\" y=\"-319.2\" font-family=\"Helvetica,sans-Serif\" font-size=\"14.00\">run</text>\n",
       "</g>\n",
       "<!-- clustersimplesumOutputsran -->\n",
       "<g id=\"node22\" class=\"node\">\n",
       "<title>clustersimplesumOutputsran</title>\n",
       "<polygon fill=\"#21bfd8\" stroke=\"#21bfd8\" points=\"688.71,-337 646.71,-337 646.71,-313 688.71,-313 700.71,-325 688.71,-337\"/>\n",
       "<text text-anchor=\"middle\" x=\"673.71\" y=\"-319.2\" font-family=\"Helvetica,sans-Serif\" font-size=\"14.00\">ran</text>\n",
       "</g>\n",
       "<!-- clustersimplesumInputsrun&#45;&gt;clustersimplesumOutputsran -->\n",
       "<!-- clustersimplesumOutputssum -->\n",
       "<g id=\"node23\" class=\"node\">\n",
       "<title>clustersimplesumOutputssum</title>\n",
       "<ellipse fill=\"#edb22c\" stroke=\"#edb22c\" cx=\"673.71\" cy=\"-271\" rx=\"27.46\" ry=\"18\"/>\n",
       "<text text-anchor=\"middle\" x=\"673.71\" y=\"-265.2\" font-family=\"Helvetica,sans-Serif\" font-size=\"14.00\">sum</text>\n",
       "</g>\n",
       "<!-- clustersimplesumOutputssum&#45;&gt;clustersimpleOutputsa + b + 2 -->\n",
       "<g id=\"edge12\" class=\"edge\">\n",
       "<title>clustersimplesumOutputssum&#45;&gt;clustersimpleOutputsa + b + 2</title>\n",
       "<path fill=\"none\" stroke=\"#edb22c\" d=\"M701.42,-271C705.12,-271 709.06,-271 713.11,-271\"/>\n",
       "<path fill=\"none\" stroke=\"#edb22c\" d=\"M713.11,-271C717.17,-271 721.35,-271 725.56,-271\"/>\n",
       "<polygon fill=\"#edb22c\" stroke=\"#edb22c\" points=\"725.49,-274.5 735.49,-271 725.49,-267.5 725.49,-274.5\"/>\n",
       "</g>\n",
       "</g>\n",
       "</svg>\n"
      ],
      "text/plain": [
       "<graphviz.graphs.Digraph at 0x131830a90>"
      ]
     },
     "execution_count": 36,
     "metadata": {},
     "output_type": "execute_result"
    }
   ],
   "source": [
    "wf.draw(size=(10,10))"
   ]
  },
  {
   "cell_type": "markdown",
   "id": "2671dc36-42a4-466b-848d-067ef7bd1d1d",
   "metadata": {},
   "source": [
    "# Example with pre-built nodes\n",
    "\n",
    "Currently we have a handfull of pre-build nodes available for import from the `nodes` package. Let's use these to quickly put together a workflow for looking at some MD data.\n",
    "\n",
    "To access prebuilt nodes we can `.create` them. This works both from the workflow class _and_ from a workflow instance.\n",
    "\n",
    "There are a few of nodes that are always available under the `Workflow.create.standard` namespace, otherwise we need to register new node packages. This is done with the `register` method, which takes the domain (namespace/key/attribute/whatever you want to call it) under which you want to register the new nodes, and a string import path to a module that has a list of nodes under the name `nodes`, i.e. the module has the property `nodes: list[pyiron_workflow.node.Node]`. (You can also register a package with arbitrary nesting, where each non-package sub-module (i.e. a leaf .py file) with a `nodes` attribute will attempt to read those nodes as a package. Cf. the atomistics demo notebook for an example of this.) (This API is subject to change, as we work to improve usability and bring node packages more and more in line with \"FAIR\" principles.)\n",
    "\n",
    "You can make your own `.py` files with nodes for reuse this way, but `pyiron_workflow` also comes with a couple of packages. In this example we'll use atomistics and plotting:"
   ]
  },
  {
   "cell_type": "code",
   "execution_count": 37,
   "id": "ae500d5e-e55b-432c-8b5f-d5892193cdf5",
   "metadata": {},
   "outputs": [
    {
     "data": {
      "application/vnd.jupyter.widget-view+json": {
       "model_id": "9f930802e2ce4b65b1a35f14ac2c0ec2",
       "version_major": 2,
       "version_minor": 0
      },
      "text/plain": []
     },
     "metadata": {},
     "output_type": "display_data"
    },
    {
     "name": "stdout",
     "output_type": "stream",
     "text": [
      "The job JUSTAJOBNAME was saved and received the ID: 9680\n"
     ]
    },
    {
     "data": {
      "application/vnd.jupyter.widget-view+json": {
       "model_id": "55042822f5f14a2cbbf59c8a64369307",
       "version_major": 2,
       "version_minor": 0
      },
      "text/plain": [
       "0it [00:00, ?it/s]"
      ]
     },
     "metadata": {},
     "output_type": "display_data"
    },
    {
     "data": {
      "text/plain": [
       "<matplotlib.collections.PathCollection at 0x140e8c350>"
      ]
     },
     "execution_count": 37,
     "metadata": {},
     "output_type": "execute_result"
    },
    {
     "data": {
      "image/png": "[encoded data removed]",
      "text/plain": [
       "<Figure size 640x480 with 1 Axes>"
      ]
     },
     "metadata": {},
     "output_type": "display_data"
    }
   ],
   "source": [
    "wf.register(\"pyiron_workflow.node_library.pyiron_atomistics\", \"pyiron_atomistics\")\n",
    "wf.register(\"pyiron_workflow.node_library.plotting\", \"plotting\")\n",
    "\n",
    "wf = Workflow(\"with_prebuilt\")\n",
    "\n",
    "wf.structure = wf.create.pyiron_atomistics.Bulk(cubic=True, name=\"Al\")\n",
    "wf.engine = wf.create.pyiron_atomistics.Lammps(structure=wf.structure)\n",
    "wf.calc = wf.create.pyiron_atomistics.CalcMd(job=wf.engine)\n",
    "wf.plot = wf.create.plotting.Scatter(\n",
    "    x=wf.calc.outputs.steps, \n",
    "    y=wf.calc.outputs.temperature\n",
    ")\n",
    "\n",
    "out = wf.run()\n",
    "out.plot__fig"
   ]
  },
  {
   "cell_type": "markdown",
   "id": "43c09aa8-8229-4636-aaeb-9214b723c2fc",
   "metadata": {},
   "source": [
    "In case you want to see more or less of the inner workings of the nodes when visualizing a workflow, you can modify the `depth` parameter, which controls how deeply child nodes are decomposed. E.g. we can force our workflow to only show us it's basic IO by setting `depth=0`:"
   ]
  },
  {
   "cell_type": "code",
   "execution_count": 38,
   "id": "2114d0c3-cdad-43c7-9ffa-50c36d56d18f",
   "metadata": {},
   "outputs": [
    {
     "data": {
      "image/svg+xml": [
       "<?xml version=\"1.0\" encoding=\"UTF-8\" standalone=\"no\"?>\n",
       "<!DOCTYPE svg PUBLIC \"-//W3C//DTD SVG 1.1//EN\"\n",
       " \"http://www.w3.org/Graphics/SVG/1.1/DTD/svg11.dtd\">\n",
       "<!-- Generated by graphviz version 9.0.0 (0)\n",
       " -->\n",
       "<!-- Title: clusterwith_prebuilt Pages: 1 -->\n",
       "<svg width=\"541pt\" height=\"824pt\"\n",
       " viewBox=\"0.00 0.00 540.71 824.00\" xmlns=\"http://www.w3.org/2000/svg\" xmlns:xlink=\"http://www.w3.org/1999/xlink\">\n",
       "<g id=\"graph0\" class=\"graph\" transform=\"scale(1 1) rotate(0) translate(4 820)\">\n",
       "<title>clusterwith_prebuilt</title>\n",
       "<polygon fill=\"white\" stroke=\"none\" points=\"-4,4 -4,-820 536.71,-820 536.71,4 -4,4\"/>\n",
       "<text text-anchor=\"middle\" x=\"266.35\" y=\"-5.7\" font-family=\"Helvetica,sans-Serif\" font-size=\"14.00\">with_prebuilt: Workflow</text>\n",
       "<g id=\"clust1\" class=\"cluster\">\n",
       "<title>clusterwith_prebuiltInputs</title>\n",
       "<defs>\n",
       "<linearGradient id=\"clust1_l_0\" gradientUnits=\"userSpaceOnUse\" x1=\"8\" y1=\"-419.5\" x2=\"251.48\" y2=\"-419.5\" >\n",
       "<stop offset=\"0\" style=\"stop-color:#a5a4a5;stop-opacity:1.;\"/>\n",
       "<stop offset=\"1\" style=\"stop-color:#e4e4e4;stop-opacity:1.;\"/>\n",
       "</linearGradient>\n",
       "</defs>\n",
       "<polygon fill=\"url(#clust1_l_0)\" stroke=\"#a5a4a5\" points=\"8,-31 8,-808 251.48,-808 251.48,-31 8,-31\"/>\n",
       "<text text-anchor=\"middle\" x=\"129.74\" y=\"-790.7\" font-family=\"Helvetica,sans-Serif\" font-size=\"14.00\">Inputs</text>\n",
       "</g>\n",
       "<g id=\"clust2\" class=\"cluster\">\n",
       "<title>clusterwith_prebuiltOutputs</title>\n",
       "<defs>\n",
       "<linearGradient id=\"clust2_l_1\" gradientUnits=\"userSpaceOnUse\" x1=\"524.71\" y1=\"-419.5\" x2=\"271.48\" y2=\"-419.5\" >\n",
       "<stop offset=\"0\" style=\"stop-color:#a5a4a5;stop-opacity:1.;\"/>\n",
       "<stop offset=\"1\" style=\"stop-color:#e4e4e4;stop-opacity:1.;\"/>\n",
       "</linearGradient>\n",
       "</defs>\n",
       "<polygon fill=\"url(#clust2_l_1)\" stroke=\"#a5a4a5\" points=\"271.48,-31 271.48,-808 524.71,-808 524.71,-31 271.48,-31\"/>\n",
       "<text text-anchor=\"middle\" x=\"398.09\" y=\"-790.7\" font-family=\"Helvetica,sans-Serif\" font-size=\"14.00\">Outputs</text>\n",
       "</g>\n",
       "<!-- clusterwith_prebuiltInputsrun -->\n",
       "<g id=\"node1\" class=\"node\">\n",
       "<title>clusterwith_prebuiltInputsrun</title>\n",
       "<polygon fill=\"#21bfd8\" stroke=\"#21bfd8\" points=\"144.74,-771 102.74,-771 102.74,-747 144.74,-747 156.74,-759 144.74,-771\"/>\n",
       "<text text-anchor=\"middle\" x=\"129.74\" y=\"-753.2\" font-family=\"Helvetica,sans-Serif\" font-size=\"14.00\">run</text>\n",
       "</g>\n",
       "<!-- clusterwith_prebuiltOutputsran -->\n",
       "<g id=\"node15\" class=\"node\">\n",
       "<title>clusterwith_prebuiltOutputsran</title>\n",
       "<polygon fill=\"#21bfd8\" stroke=\"#21bfd8\" points=\"413.09,-771 371.09,-771 371.09,-747 413.09,-747 425.09,-759 413.09,-771\"/>\n",
       "<text text-anchor=\"middle\" x=\"398.09\" y=\"-753.2\" font-family=\"Helvetica,sans-Serif\" font-size=\"14.00\">ran</text>\n",
       "</g>\n",
       "<!-- clusterwith_prebuiltInputsrun&#45;&gt;clusterwith_prebuiltOutputsran -->\n",
       "<!-- clusterwith_prebuiltInputsaccumulate_and_run -->\n",
       "<g id=\"node2\" class=\"node\">\n",
       "<title>clusterwith_prebuiltInputsaccumulate_and_run</title>\n",
       "<polygon fill=\"#21bfd8\" stroke=\"#21bfd8\" points=\"189.11,-717 58.36,-717 58.36,-693 189.11,-693 201.11,-705 189.11,-717\"/>\n",
       "<text text-anchor=\"middle\" x=\"129.74\" y=\"-699.2\" font-family=\"Helvetica,sans-Serif\" font-size=\"14.00\">accumulate_and_run</text>\n",
       "</g>\n",
       "<!-- clusterwith_prebuiltInputsstructure__name -->\n",
       "<g id=\"node3\" class=\"node\">\n",
       "<title>clusterwith_prebuiltInputsstructure__name</title>\n",
       "<ellipse fill=\"#edb22c\" stroke=\"#edb22c\" cx=\"129.74\" cy=\"-651\" rx=\"76.69\" ry=\"18\"/>\n",
       "<text text-anchor=\"middle\" x=\"129.74\" y=\"-645.2\" font-family=\"Helvetica,sans-Serif\" font-size=\"14.00\">structure__name</text>\n",
       "</g>\n",
       "<!-- clusterwith_prebuiltInputsstructure__crystalstructure -->\n",
       "<g id=\"node4\" class=\"node\">\n",
       "<title>clusterwith_prebuiltInputsstructure__crystalstructure</title>\n",
       "<ellipse fill=\"#edb22c\" stroke=\"#edb22c\" cx=\"129.74\" cy=\"-597\" rx=\"113.74\" ry=\"18\"/>\n",
       "<text text-anchor=\"middle\" x=\"129.74\" y=\"-591.2\" font-family=\"Helvetica,sans-Serif\" font-size=\"14.00\">structure__crystalstructure</text>\n",
       "</g>\n",
       "<!-- clusterwith_prebuiltInputsstructure__a -->\n",
       "<g id=\"node5\" class=\"node\">\n",
       "<title>clusterwith_prebuiltInputsstructure__a</title>\n",
       "<ellipse fill=\"#edb22c\" stroke=\"#edb22c\" cx=\"129.74\" cy=\"-543\" rx=\"59.14\" ry=\"18\"/>\n",
       "<text text-anchor=\"middle\" x=\"129.74\" y=\"-537.2\" font-family=\"Helvetica,sans-Serif\" font-size=\"14.00\">structure__a</text>\n",
       "</g>\n",
       "<!-- clusterwith_prebuiltInputsstructure__c -->\n",
       "<g id=\"node6\" class=\"node\">\n",
       "<title>clusterwith_prebuiltInputsstructure__c</title>\n",
       "<ellipse fill=\"#edb22c\" stroke=\"#edb22c\" cx=\"129.74\" cy=\"-489\" rx=\"58.66\" ry=\"18\"/>\n",
       "<text text-anchor=\"middle\" x=\"129.74\" y=\"-483.2\" font-family=\"Helvetica,sans-Serif\" font-size=\"14.00\">structure__c</text>\n",
       "</g>\n",
       "<!-- clusterwith_prebuiltInputsstructure__covera -->\n",
       "<g id=\"node7\" class=\"node\">\n",
       "<title>clusterwith_prebuiltInputsstructure__covera</title>\n",
       "<ellipse fill=\"#edb22c\" stroke=\"#edb22c\" cx=\"129.74\" cy=\"-435\" rx=\"80.59\" ry=\"18\"/>\n",
       "<text text-anchor=\"middle\" x=\"129.74\" y=\"-429.2\" font-family=\"Helvetica,sans-Serif\" font-size=\"14.00\">structure__covera</text>\n",
       "</g>\n",
       "<!-- clusterwith_prebuiltInputsstructure__u -->\n",
       "<g id=\"node8\" class=\"node\">\n",
       "<title>clusterwith_prebuiltInputsstructure__u</title>\n",
       "<ellipse fill=\"#edb22c\" stroke=\"#edb22c\" cx=\"129.74\" cy=\"-381\" rx=\"59.14\" ry=\"18\"/>\n",
       "<text text-anchor=\"middle\" x=\"129.74\" y=\"-375.2\" font-family=\"Helvetica,sans-Serif\" font-size=\"14.00\">structure__u</text>\n",
       "</g>\n",
       "<!-- clusterwith_prebuiltInputsstructure__orthorhombic -->\n",
       "<g id=\"node9\" class=\"node\">\n",
       "<title>clusterwith_prebuiltInputsstructure__orthorhombic</title>\n",
       "<ellipse fill=\"#edb22c\" stroke=\"#edb22c\" cx=\"129.74\" cy=\"-327\" rx=\"105.94\" ry=\"18\"/>\n",
       "<text text-anchor=\"middle\" x=\"129.74\" y=\"-321.2\" font-family=\"Helvetica,sans-Serif\" font-size=\"14.00\">structure__orthorhombic</text>\n",
       "</g>\n",
       "<!-- clusterwith_prebuiltInputsstructure__cubic -->\n",
       "<g id=\"node10\" class=\"node\">\n",
       "<title>clusterwith_prebuiltInputsstructure__cubic</title>\n",
       "<ellipse fill=\"#edb22c\" stroke=\"#edb22c\" cx=\"129.74\" cy=\"-273\" rx=\"74.74\" ry=\"18\"/>\n",
       "<text text-anchor=\"middle\" x=\"129.74\" y=\"-267.2\" font-family=\"Helvetica,sans-Serif\" font-size=\"14.00\">structure__cubic</text>\n",
       "</g>\n",
       "<!-- clusterwith_prebuiltInputscalc__n_ionic_steps -->\n",
       "<g id=\"node11\" class=\"node\">\n",
       "<title>clusterwith_prebuiltInputscalc__n_ionic_steps</title>\n",
       "<ellipse fill=\"#edb22c\" stroke=\"#edb22c\" cx=\"129.74\" cy=\"-219\" rx=\"103.5\" ry=\"18\"/>\n",
       "<text text-anchor=\"middle\" x=\"129.74\" y=\"-213.2\" font-family=\"Helvetica,sans-Serif\" font-size=\"14.00\">calc__n_ionic_steps: int</text>\n",
       "</g>\n",
       "<!-- clusterwith_prebuiltInputscalc__n_print -->\n",
       "<g id=\"node12\" class=\"node\">\n",
       "<title>clusterwith_prebuiltInputscalc__n_print</title>\n",
       "<ellipse fill=\"#edb22c\" stroke=\"#edb22c\" cx=\"129.74\" cy=\"-165\" rx=\"76.69\" ry=\"18\"/>\n",
       "<text text-anchor=\"middle\" x=\"129.74\" y=\"-159.2\" font-family=\"Helvetica,sans-Serif\" font-size=\"14.00\">calc__n_print: int</text>\n",
       "</g>\n",
       "<!-- clusterwith_prebuiltInputscalc__temperature -->\n",
       "<g id=\"node13\" class=\"node\">\n",
       "<title>clusterwith_prebuiltInputscalc__temperature</title>\n",
       "<ellipse fill=\"#edb22c\" stroke=\"#edb22c\" cx=\"129.74\" cy=\"-111\" rx=\"83.52\" ry=\"18\"/>\n",
       "<text text-anchor=\"middle\" x=\"129.74\" y=\"-105.2\" font-family=\"Helvetica,sans-Serif\" font-size=\"14.00\">calc__temperature</text>\n",
       "</g>\n",
       "<!-- clusterwith_prebuiltInputscalc__pressure -->\n",
       "<g id=\"node14\" class=\"node\">\n",
       "<title>clusterwith_prebuiltInputscalc__pressure</title>\n",
       "<ellipse fill=\"#edb22c\" stroke=\"#edb22c\" cx=\"129.74\" cy=\"-57\" rx=\"69.87\" ry=\"18\"/>\n",
       "<text text-anchor=\"middle\" x=\"129.74\" y=\"-51.2\" font-family=\"Helvetica,sans-Serif\" font-size=\"14.00\">calc__pressure</text>\n",
       "</g>\n",
       "<!-- clusterwith_prebuiltOutputscalc__cells -->\n",
       "<g id=\"node16\" class=\"node\">\n",
       "<title>clusterwith_prebuiltOutputscalc__cells</title>\n",
       "<ellipse fill=\"#edb22c\" stroke=\"#edb22c\" cx=\"398.09\" cy=\"-705\" rx=\"53.3\" ry=\"18\"/>\n",
       "<text text-anchor=\"middle\" x=\"398.09\" y=\"-699.2\" font-family=\"Helvetica,sans-Serif\" font-size=\"14.00\">calc__cells</text>\n",
       "</g>\n",
       "<!-- clusterwith_prebuiltOutputscalc__displacements -->\n",
       "<g id=\"node17\" class=\"node\">\n",
       "<title>clusterwith_prebuiltOutputscalc__displacements</title>\n",
       "<ellipse fill=\"#edb22c\" stroke=\"#edb22c\" cx=\"398.09\" cy=\"-651\" rx=\"92.29\" ry=\"18\"/>\n",
       "<text text-anchor=\"middle\" x=\"398.09\" y=\"-645.2\" font-family=\"Helvetica,sans-Serif\" font-size=\"14.00\">calc__displacements</text>\n",
       "</g>\n",
       "<!-- clusterwith_prebuiltOutputscalc__energy_pot -->\n",
       "<g id=\"node18\" class=\"node\">\n",
       "<title>clusterwith_prebuiltOutputscalc__energy_pot</title>\n",
       "<ellipse fill=\"#edb22c\" stroke=\"#edb22c\" cx=\"398.09\" cy=\"-597\" rx=\"79.62\" ry=\"18\"/>\n",
       "<text text-anchor=\"middle\" x=\"398.09\" y=\"-591.2\" font-family=\"Helvetica,sans-Serif\" font-size=\"14.00\">calc__energy_pot</text>\n",
       "</g>\n",
       "<!-- clusterwith_prebuiltOutputscalc__energy_tot -->\n",
       "<g id=\"node19\" class=\"node\">\n",
       "<title>clusterwith_prebuiltOutputscalc__energy_tot</title>\n",
       "<ellipse fill=\"#edb22c\" stroke=\"#edb22c\" cx=\"398.09\" cy=\"-543\" rx=\"77.18\" ry=\"18\"/>\n",
       "<text text-anchor=\"middle\" x=\"398.09\" y=\"-537.2\" font-family=\"Helvetica,sans-Serif\" font-size=\"14.00\">calc__energy_tot</text>\n",
       "</g>\n",
       "<!-- clusterwith_prebuiltOutputscalc__force_max -->\n",
       "<g id=\"node20\" class=\"node\">\n",
       "<title>clusterwith_prebuiltOutputscalc__force_max</title>\n",
       "<ellipse fill=\"#edb22c\" stroke=\"#edb22c\" cx=\"398.09\" cy=\"-489\" rx=\"77.18\" ry=\"18\"/>\n",
       "<text text-anchor=\"middle\" x=\"398.09\" y=\"-483.2\" font-family=\"Helvetica,sans-Serif\" font-size=\"14.00\">calc__force_max</text>\n",
       "</g>\n",
       "<!-- clusterwith_prebuiltOutputscalc__forces -->\n",
       "<g id=\"node21\" class=\"node\">\n",
       "<title>clusterwith_prebuiltOutputscalc__forces</title>\n",
       "<ellipse fill=\"#edb22c\" stroke=\"#edb22c\" cx=\"398.09\" cy=\"-435\" rx=\"59.63\" ry=\"18\"/>\n",
       "<text text-anchor=\"middle\" x=\"398.09\" y=\"-429.2\" font-family=\"Helvetica,sans-Serif\" font-size=\"14.00\">calc__forces</text>\n",
       "</g>\n",
       "<!-- clusterwith_prebuiltOutputscalc__indices -->\n",
       "<g id=\"node22\" class=\"node\">\n",
       "<title>clusterwith_prebuiltOutputscalc__indices</title>\n",
       "<ellipse fill=\"#edb22c\" stroke=\"#edb22c\" cx=\"398.09\" cy=\"-381\" rx=\"63.04\" ry=\"18\"/>\n",
       "<text text-anchor=\"middle\" x=\"398.09\" y=\"-375.2\" font-family=\"Helvetica,sans-Serif\" font-size=\"14.00\">calc__indices</text>\n",
       "</g>\n",
       "<!-- clusterwith_prebuiltOutputscalc__positions -->\n",
       "<g id=\"node23\" class=\"node\">\n",
       "<title>clusterwith_prebuiltOutputscalc__positions</title>\n",
       "<ellipse fill=\"#edb22c\" stroke=\"#edb22c\" cx=\"398.09\" cy=\"-327\" rx=\"70.36\" ry=\"18\"/>\n",
       "<text text-anchor=\"middle\" x=\"398.09\" y=\"-321.2\" font-family=\"Helvetica,sans-Serif\" font-size=\"14.00\">calc__positions</text>\n",
       "</g>\n",
       "<!-- clusterwith_prebuiltOutputscalc__pressures -->\n",
       "<g id=\"node24\" class=\"node\">\n",
       "<title>clusterwith_prebuiltOutputscalc__pressures</title>\n",
       "<ellipse fill=\"#edb22c\" stroke=\"#edb22c\" cx=\"398.09\" cy=\"-273\" rx=\"74.26\" ry=\"18\"/>\n",
       "<text text-anchor=\"middle\" x=\"398.09\" y=\"-267.2\" font-family=\"Helvetica,sans-Serif\" font-size=\"14.00\">calc__pressures</text>\n",
       "</g>\n",
       "<!-- clusterwith_prebuiltOutputscalc__total_displacements -->\n",
       "<g id=\"node25\" class=\"node\">\n",
       "<title>clusterwith_prebuiltOutputscalc__total_displacements</title>\n",
       "<ellipse fill=\"#edb22c\" stroke=\"#edb22c\" cx=\"398.09\" cy=\"-219\" rx=\"113.74\" ry=\"18\"/>\n",
       "<text text-anchor=\"middle\" x=\"398.09\" y=\"-213.2\" font-family=\"Helvetica,sans-Serif\" font-size=\"14.00\">calc__total_displacements</text>\n",
       "</g>\n",
       "<!-- clusterwith_prebuiltOutputscalc__unwrapped_positions -->\n",
       "<g id=\"node26\" class=\"node\">\n",
       "<title>clusterwith_prebuiltOutputscalc__unwrapped_positions</title>\n",
       "<ellipse fill=\"#edb22c\" stroke=\"#edb22c\" cx=\"398.09\" cy=\"-165\" rx=\"118.61\" ry=\"18\"/>\n",
       "<text text-anchor=\"middle\" x=\"398.09\" y=\"-159.2\" font-family=\"Helvetica,sans-Serif\" font-size=\"14.00\">calc__unwrapped_positions</text>\n",
       "</g>\n",
       "<!-- clusterwith_prebuiltOutputscalc__volume -->\n",
       "<g id=\"node27\" class=\"node\">\n",
       "<title>clusterwith_prebuiltOutputscalc__volume</title>\n",
       "<ellipse fill=\"#edb22c\" stroke=\"#edb22c\" cx=\"398.09\" cy=\"-111\" rx=\"64.51\" ry=\"18\"/>\n",
       "<text text-anchor=\"middle\" x=\"398.09\" y=\"-105.2\" font-family=\"Helvetica,sans-Serif\" font-size=\"14.00\">calc__volume</text>\n",
       "</g>\n",
       "<!-- clusterwith_prebuiltOutputsplot__fig -->\n",
       "<g id=\"node28\" class=\"node\">\n",
       "<title>clusterwith_prebuiltOutputsplot__fig</title>\n",
       "<ellipse fill=\"#edb22c\" stroke=\"#edb22c\" cx=\"398.09\" cy=\"-57\" rx=\"43.55\" ry=\"18\"/>\n",
       "<text text-anchor=\"middle\" x=\"398.09\" y=\"-51.2\" font-family=\"Helvetica,sans-Serif\" font-size=\"14.00\">plot__fig</text>\n",
       "</g>\n",
       "</g>\n",
       "</svg>\n"
      ],
      "text/plain": [
       "<graphviz.graphs.Digraph at 0x14011b410>"
      ]
     },
     "execution_count": 38,
     "metadata": {},
     "output_type": "execute_result"
    }
   ],
   "source": [
    "wf.draw(depth=0)"
   ]
  },
  {
   "cell_type": "markdown",
   "id": "b2990bbf-28fb-43e2-a01d-82377d12879c",
   "metadata": {},
   "source": [
    "Note: the `draw` call returns a `graphviz.graphs.Digraphs` object; these get natively rendered alright in jupyter notebooks, as seen above, but you can also snag the object in a variable and do everything else graphviz allows, e.g. using the `render` method on the object to save it to file. Cf. the graphviz docs for details."
   ]
  },
  {
   "cell_type": "markdown",
   "id": "7a4e235d-905f-4763-a1ff-d0c3e24c591c",
   "metadata": {},
   "source": [
    "Workflows are \"living\" objects -- their IO is (re)created on access, so it is always up-to-date with the latest state of the workflow's children (who's there and who they're connected to), and (unless you explicitly tell it otherwise) a workflow will always re-compute the execution flow at run-time. This makes them incredibly convenient for working with as you put together a new computational graph, but is not particularly computationally efficient."
   ]
  },
  {
   "cell_type": "markdown",
   "id": "d1f3b308-28b2-466b-8cf5-6bfd806c08ca",
   "metadata": {},
   "source": [
    "# Macros\n",
    "\n",
    "Once you have a workflow that you're happy with, you may want to store it as a macro so it can be stored in a human-readable way, reused, shared, and executed with more efficiency than the \"living\" `Workflow` instance. Automated conversion of an existing `Workflow` instance into a `Macro` subclass is still on the TODO list, but defining a new macro is pretty easy: they are just composite nodes that have a function defining their graph setup:"
   ]
  },
  {
   "cell_type": "code",
   "execution_count": 39,
   "id": "c71a8308-f8a1-4041-bea0-1c841e072a6d",
   "metadata": {},
   "outputs": [],
   "source": [
    "from pyiron_workflow.macro import Macro"
   ]
  },
  {
   "cell_type": "code",
   "execution_count": 40,
   "id": "2b9bb21a-73cd-444e-84a9-100e202aa422",
   "metadata": {},
   "outputs": [
    {
     "name": "stderr",
     "output_type": "stream",
     "text": [
      "/Users/huber/work/pyiron/pyiron_workflow/pyiron_workflow/channels.py:171: UserWarning: The channel run was not connected to ran, andthus could not disconnect from it.\n",
      "  warn(\n"
     ]
    },
    {
     "data": {
      "text/plain": [
       "13"
      ]
     },
     "execution_count": 40,
     "metadata": {},
     "output_type": "execute_result"
    }
   ],
   "source": [
    "@Workflow.wrap_as.function_node(\"result\")\n",
    "def AddOne(x):\n",
    "    return x + 1\n",
    "\n",
    "def add_three_macro(macro: Macro) -> None:\n",
    "    \"\"\"\n",
    "    The graph constructor a Macro expects must take the macro as its only argument\n",
    "    (i.e. \"self\" from the macro's perspective) and return nothing.\n",
    "    Inside, it should add nodes to the macro, wire their connections, etc.\n",
    "    \"\"\"\n",
    "    macro.add_one = AddOne(0)\n",
    "    macro.add_two = AddOne(macro.add_one)\n",
    "    macro.add_three = AddOne(macro.add_two)\n",
    "    # Just like workflows, for simple DAG macros we don't _need_\n",
    "    # to set signals and starting nodes -- the macro will build them\n",
    "    # automatically. But, if you do set both then the macro will use them\n",
    "    macro.add_one >> macro.add_two >> macro.add_three\n",
    "    macro.starting_nodes = [macro.add_one]  \n",
    "    \n",
    "macro = Macro(add_three_macro)\n",
    "macro(add_one__x=10).add_three__result"
   ]
  },
  {
   "cell_type": "markdown",
   "id": "d4f797d6-8d88-415f-bb9c-00f3e1b15e37",
   "metadata": {},
   "source": [
    "Even in the abscence of an automated converter, it should be easy to take the workflow you've been developing and copy-paste that code into a function -- then bam, you've got a macro!"
   ]
  },
  {
   "cell_type": "markdown",
   "id": "bd5099c4-1c01-4a45-a5bb-e5087595db9f",
   "metadata": {},
   "source": [
    "Of course, we can also use a decorator like for other node types. Just like workflows, we can use `inputs_map` and `outputs_map` to control macro-level IO, but macros also allow us to use a more function-like interface where the callable that creates the graph has args and/or kwargs, and/or has return values and output labels. In these cases, the I/O switches over to a \"whitelist\" paradigm where all the child IO we _don't explicitly mention_ gets _disabled and hidden_. The maps always take precedence, and both approaches are equivalent, so it's really just a question of whether it's less typing to  use the maps to turn off/relabel stuff you _don't_ want, or use the callable definition to specify which stuff you _do_ want. Typically the latter is easier.\n",
    "\n",
    "Let's take a look at this, where we use the function defintion to control most of our IO, but still leverage the map to expose something that would normally be hidden (even in the workflows, since it's connected):"
   ]
  },
  {
   "cell_type": "code",
   "execution_count": 41,
   "id": "3668f9a9-adca-48a4-84ea-13add965897c",
   "metadata": {},
   "outputs": [
    {
     "data": {
      "text/plain": [
       "{'intermediate': 102, 'plus_three': 103}"
      ]
     },
     "execution_count": 41,
     "metadata": {},
     "output_type": "execute_result"
    }
   ],
   "source": [
    "@Workflow.wrap_as.macro_node(\"plus_three\")\n",
    "def AddThree(macro: Macro, x: int = 0):\n",
    "    \"\"\"\n",
    "    The graph constructor a Macro expects must take the macro as its only argument\n",
    "    (i.e. \"self\" from the macro's perspective) and return nothing.\n",
    "    Inside, it should add nodes to the macro, wire their connections, etc.\n",
    "    \"\"\"\n",
    "    macro.add_one = AddOne(x)  # Directly use the input from the signature\n",
    "    # Under the hood a new `UserInput` node is being created and used\n",
    "    macro.add_two = AddOne(macro.add_one)\n",
    "    macro.add_three = AddOne(macro.add_two)\n",
    "    macro.outputs_map = {\"add_two__result\": \"intermediate\"}\n",
    "    # return macro.add_three.outputs.result\n",
    "    # We need to return something like output channels, but since AddOne has \n",
    "    # only a single output channel, we can return it directly.\n",
    "    return macro.add_three\n",
    "    \n",
    "macro = AddThree()\n",
    "macro(x=100)\n",
    "macro.outputs.to_value_dict()"
   ]
  },
  {
   "cell_type": "markdown",
   "id": "22d2fdcf-0206-497d-9344-a71e3472a2c0",
   "metadata": {},
   "source": [
    "## Nesting\n",
    "\n",
    "Composite nodes can be nested to abstract workflows into simpler components -- i.e. macros can be added to workflows, and macros can be used inside of macros. This is a critically important feature because it allows us to easily create more and more complex workflows by \"composing\" simple(r) sub-graphs together!\n",
    "\n",
    "For our final example, let's define a macro for doing Lammps minimizations, then use this in a workflow to compare energies between different phases."
   ]
  },
  {
   "cell_type": "code",
   "execution_count": 42,
   "id": "9aaeeec0-5f88-4c94-a6cc-45b56d2f0111",
   "metadata": {},
   "outputs": [],
   "source": [
    "@Workflow.wrap_as.macro_node(\"structure\", \"energy\")\n",
    "def LammpsMinimize(macro, element: str, crystalstructure: str, lattice_guess: float | int):\n",
    "    macro.structure = macro.create.pyiron_atomistics.Bulk(\n",
    "        name=element,\n",
    "        crystalstructure=crystalstructure,\n",
    "        a=lattice_guess\n",
    "    )\n",
    "    macro.engine = macro.create.pyiron_atomistics.Lammps(structure=macro.structure)\n",
    "    macro.calc = macro.create.pyiron_atomistics.CalcMin(job=macro.engine, pressure=0)\n",
    "    return macro.structure, macro.calc.outputs.energy_pot"
   ]
  },
  {
   "cell_type": "code",
   "execution_count": 43,
   "id": "a832e552-b3cc-411a-a258-ef21574fc439",
   "metadata": {},
   "outputs": [],
   "source": [
    "wf = Workflow(\"phase_preference\")\n",
    "wf.element = wf.create.standard.UserInput()\n",
    "wf.min_phase1 = LammpsMinimize(element=wf.element)\n",
    "wf.min_phase2 = LammpsMinimize(element=wf.element)\n",
    "\n",
    "wf.e1 = wf.min_phase1.outputs.energy[-1]\n",
    "wf.n1 = wf.min_phase1.outputs.structure.len()\n",
    "wf.e2 = wf.min_phase2.outputs.energy[-1]\n",
    "wf.n2 = wf.min_phase2.outputs.structure.len()\n",
    "wf.compare = (wf.e2 / wf.n2) - (wf.e1 / wf.n1)\n",
    "\n",
    "\n",
    "# Or we could write a node to do that:\n",
    "\n",
    "# @Workflow.wrap_as.function_node()\n",
    "# def PerAtomEnergyDifference(structure1, energy1, structure2, energy2):\n",
    "#     # The unrelaxed structure is fine, we're just using it to get n_atoms\n",
    "#     sub = (energy2[-1]/len(structure2)) - (energy1[-1]/len(structure1))\n",
    "#     return sub\n",
    "\n",
    "# wf.compare = PerAtomEnergyDifference(\n",
    "#     wf.min_phase1.outputs.structure,\n",
    "#     wf.min_phase1.outputs.energy,\n",
    "#     wf.min_phase2.outputs.structure,\n",
    "#     wf.min_phase2.outputs.energy,\n",
    "# )\n",
    "\n",
    "wf.inputs_map = {\n",
    "    \"element__user_input\": \"element\",\n",
    "    \"min_phase1__crystalstructure\": \"phase1\",\n",
    "    \"min_phase2__crystalstructure\": \"phase2\",\n",
    "    \"min_phase1__lattice_guess\": \"lattice_guess1\",\n",
    "    \"min_phase2__lattice_guess\": \"lattice_guess2\",\n",
    "}"
   ]
  },
  {
   "cell_type": "code",
   "execution_count": 44,
   "id": "b764a447-236f-4cb7-952a-7cba4855087d",
   "metadata": {},
   "outputs": [
    {
     "data": {
      "image/svg+xml": [
       "<?xml version=\"1.0\" encoding=\"UTF-8\" standalone=\"no\"?>\n",
       "<!DOCTYPE svg PUBLIC \"-//W3C//DTD SVG 1.1//EN\"\n",
       " \"http://www.w3.org/Graphics/SVG/1.1/DTD/svg11.dtd\">\n",
       "<!-- Generated by graphviz version 9.0.0 (0)\n",
       " -->\n",
       "<!-- Title: clusterphase_preference Pages: 1 -->\n",
       "<svg width=\"720pt\" height=\"416pt\"\n",
       " viewBox=\"0.00 0.00 720.00 416.38\" xmlns=\"http://www.w3.org/2000/svg\" xmlns:xlink=\"http://www.w3.org/1999/xlink\">\n",
       "<g id=\"graph0\" class=\"graph\" transform=\"scale(0.384823 0.384823) rotate(0) translate(4 1078)\">\n",
       "<title>clusterphase_preference</title>\n",
       "<polygon fill=\"white\" stroke=\"none\" points=\"-4,4 -4,-1078 1866.99,-1078 1866.99,4 -4,4\"/>\n",
       "<text text-anchor=\"middle\" x=\"931.5\" y=\"-5.7\" font-family=\"Helvetica,sans-Serif\" font-size=\"14.00\">phase_preference: Workflow</text>\n",
       "<g id=\"clust1\" class=\"cluster\">\n",
       "<title>clusterphase_preferenceInputs</title>\n",
       "<defs>\n",
       "<linearGradient id=\"clust1_l_0\" gradientUnits=\"userSpaceOnUse\" x1=\"8\" y1=\"-444.5\" x2=\"166.75\" y2=\"-444.5\" >\n",
       "<stop offset=\"0\" style=\"stop-color:#a5a4a5;stop-opacity:1.;\"/>\n",
       "<stop offset=\"1\" style=\"stop-color:#e4e4e4;stop-opacity:1.;\"/>\n",
       "</linearGradient>\n",
       "</defs>\n",
       "<polygon fill=\"url(#clust1_l_0)\" stroke=\"#a5a4a5\" points=\"8,-191 8,-698 166.75,-698 166.75,-191 8,-191\"/>\n",
       "<text text-anchor=\"middle\" x=\"87.38\" y=\"-680.7\" font-family=\"Helvetica,sans-Serif\" font-size=\"14.00\">Inputs</text>\n",
       "</g>\n",
       "<g id=\"clust2\" class=\"cluster\">\n",
       "<title>clusterphase_preferenceOutputs</title>\n",
       "<defs>\n",
       "<linearGradient id=\"clust2_l_1\" gradientUnits=\"userSpaceOnUse\" x1=\"1854.99\" y1=\"-221.5\" x2=\"1701.2\" y2=\"-221.5\" >\n",
       "<stop offset=\"0\" style=\"stop-color:#a5a4a5;stop-opacity:1.;\"/>\n",
       "<stop offset=\"1\" style=\"stop-color:#e4e4e4;stop-opacity:1.;\"/>\n",
       "</linearGradient>\n",
       "</defs>\n",
       "<polygon fill=\"url(#clust2_l_1)\" stroke=\"#a5a4a5\" points=\"1701.2,-157 1701.2,-286 1854.99,-286 1854.99,-157 1701.2,-157\"/>\n",
       "<text text-anchor=\"middle\" x=\"1778.1\" y=\"-268.7\" font-family=\"Helvetica,sans-Serif\" font-size=\"14.00\">Outputs</text>\n",
       "</g>\n",
       "<g id=\"clust3\" class=\"cluster\">\n",
       "<title>clusterphase_preferenceelement</title>\n",
       "<defs>\n",
       "<linearGradient id=\"clust3_l_2\" gradientUnits=\"userSpaceOnUse\" x1=\"178.75\" y1=\"-509\" x2=\"492.19\" y2=\"-509\" >\n",
       "<stop offset=\"0\" style=\"stop-color:#b9ecf1;stop-opacity:1.;\"/>\n",
       "<stop offset=\"1\" style=\"stop-color:#b9ecf1;stop-opacity:1.;\"/>\n",
       "</linearGradient>\n",
       "</defs>\n",
       "<polygon fill=\"url(#clust3_l_2)\" stroke=\"#b9ecf1\" points=\"178.75,-398 178.75,-620 492.19,-620 492.19,-398 178.75,-398\"/>\n",
       "<text text-anchor=\"middle\" x=\"335.47\" y=\"-602.7\" font-family=\"Helvetica,sans-Serif\" font-size=\"14.00\">element: UserInput</text>\n",
       "</g>\n",
       "<g id=\"clust4\" class=\"cluster\">\n",
       "<title>clusterphase_preferenceelementInputs</title>\n",
       "<defs>\n",
       "<linearGradient id=\"clust4_l_3\" gradientUnits=\"userSpaceOnUse\" x1=\"186.75\" y1=\"-497.5\" x2=\"345.5\" y2=\"-497.5\" >\n",
       "<stop offset=\"0\" style=\"stop-color:#a5a4a5;stop-opacity:1.;\"/>\n",
       "<stop offset=\"1\" style=\"stop-color:#e4e4e4;stop-opacity:1.;\"/>\n",
       "</linearGradient>\n",
       "</defs>\n",
       "<polygon fill=\"url(#clust4_l_3)\" stroke=\"#a5a4a5\" points=\"186.75,-406 186.75,-589 345.5,-589 345.5,-406 186.75,-406\"/>\n",
       "<text text-anchor=\"middle\" x=\"266.12\" y=\"-571.7\" font-family=\"Helvetica,sans-Serif\" font-size=\"14.00\">Inputs</text>\n",
       "</g>\n",
       "<g id=\"clust5\" class=\"cluster\">\n",
       "<title>clusterphase_preferenceelementOutputs</title>\n",
       "<defs>\n",
       "<linearGradient id=\"clust5_l_4\" gradientUnits=\"userSpaceOnUse\" x1=\"484.19\" y1=\"-524.5\" x2=\"365.5\" y2=\"-524.5\" >\n",
       "<stop offset=\"0\" style=\"stop-color:#a5a4a5;stop-opacity:1.;\"/>\n",
       "<stop offset=\"1\" style=\"stop-color:#e4e4e4;stop-opacity:1.;\"/>\n",
       "</linearGradient>\n",
       "</defs>\n",
       "<polygon fill=\"url(#clust5_l_4)\" stroke=\"#a5a4a5\" points=\"365.5,-460 365.5,-589 484.19,-589 484.19,-460 365.5,-460\"/>\n",
       "<text text-anchor=\"middle\" x=\"424.85\" y=\"-571.7\" font-family=\"Helvetica,sans-Serif\" font-size=\"14.00\">Outputs</text>\n",
       "</g>\n",
       "<g id=\"clust6\" class=\"cluster\">\n",
       "<title>clusterphase_preferencemin_phase1</title>\n",
       "<defs>\n",
       "<linearGradient id=\"clust6_l_5\" gradientUnits=\"userSpaceOnUse\" x1=\"500.19\" y1=\"-695\" x2=\"826.22\" y2=\"-695\" >\n",
       "<stop offset=\"0\" style=\"stop-color:#dcccc9;stop-opacity:1.;\"/>\n",
       "<stop offset=\"1\" style=\"stop-color:#dcccc9;stop-opacity:1.;\"/>\n",
       "</linearGradient>\n",
       "</defs>\n",
       "<polygon fill=\"url(#clust6_l_5)\" stroke=\"#dcccc9\" points=\"500.19,-530 500.19,-860 826.22,-860 826.22,-530 500.19,-530\"/>\n",
       "<text text-anchor=\"middle\" x=\"663.2\" y=\"-842.7\" font-family=\"Helvetica,sans-Serif\" font-size=\"14.00\">min_phase1: LammpsMinimize</text>\n",
       "</g>\n",
       "<g id=\"clust7\" class=\"cluster\">\n",
       "<title>clusterphase_preferencemin_phase1Inputs</title>\n",
       "<defs>\n",
       "<linearGradient id=\"clust7_l_6\" gradientUnits=\"userSpaceOnUse\" x1=\"508.19\" y1=\"-683.5\" x2=\"693.18\" y2=\"-683.5\" >\n",
       "<stop offset=\"0\" style=\"stop-color:#a5a4a5;stop-opacity:1.;\"/>\n",
       "<stop offset=\"1\" style=\"stop-color:#e4e4e4;stop-opacity:1.;\"/>\n",
       "</linearGradient>\n",
       "</defs>\n",
       "<polygon fill=\"url(#clust7_l_6)\" stroke=\"#a5a4a5\" points=\"508.19,-538 508.19,-829 693.18,-829 693.18,-538 508.19,-538\"/>\n",
       "<text text-anchor=\"middle\" x=\"600.68\" y=\"-811.7\" font-family=\"Helvetica,sans-Serif\" font-size=\"14.00\">Inputs</text>\n",
       "</g>\n",
       "<g id=\"clust8\" class=\"cluster\">\n",
       "<title>clusterphase_preferencemin_phase1Outputs</title>\n",
       "<defs>\n",
       "<linearGradient id=\"clust8_l_7\" gradientUnits=\"userSpaceOnUse\" x1=\"818.22\" y1=\"-737.5\" x2=\"713.18\" y2=\"-737.5\" >\n",
       "<stop offset=\"0\" style=\"stop-color:#a5a4a5;stop-opacity:1.;\"/>\n",
       "<stop offset=\"1\" style=\"stop-color:#e4e4e4;stop-opacity:1.;\"/>\n",
       "</linearGradient>\n",
       "</defs>\n",
       "<polygon fill=\"url(#clust8_l_7)\" stroke=\"#a5a4a5\" points=\"713.18,-646 713.18,-829 818.22,-829 818.22,-646 713.18,-646\"/>\n",
       "<text text-anchor=\"middle\" x=\"765.7\" y=\"-811.7\" font-family=\"Helvetica,sans-Serif\" font-size=\"14.00\">Outputs</text>\n",
       "</g>\n",
       "<g id=\"clust9\" class=\"cluster\">\n",
       "<title>clusterphase_preferencemin_phase2</title>\n",
       "<defs>\n",
       "<linearGradient id=\"clust9_l_8\" gradientUnits=\"userSpaceOnUse\" x1=\"500.19\" y1=\"-206\" x2=\"826.22\" y2=\"-206\" >\n",
       "<stop offset=\"0\" style=\"stop-color:#dcccc9;stop-opacity:1.;\"/>\n",
       "<stop offset=\"1\" style=\"stop-color:#dcccc9;stop-opacity:1.;\"/>\n",
       "</linearGradient>\n",
       "</defs>\n",
       "<polygon fill=\"url(#clust9_l_8)\" stroke=\"#dcccc9\" points=\"500.19,-41 500.19,-371 826.22,-371 826.22,-41 500.19,-41\"/>\n",
       "<text text-anchor=\"middle\" x=\"663.2\" y=\"-353.7\" font-family=\"Helvetica,sans-Serif\" font-size=\"14.00\">min_phase2: LammpsMinimize</text>\n",
       "</g>\n",
       "<g id=\"clust10\" class=\"cluster\">\n",
       "<title>clusterphase_preferencemin_phase2Inputs</title>\n",
       "<defs>\n",
       "<linearGradient id=\"clust10_l_9\" gradientUnits=\"userSpaceOnUse\" x1=\"508.19\" y1=\"-194.5\" x2=\"693.18\" y2=\"-194.5\" >\n",
       "<stop offset=\"0\" style=\"stop-color:#a5a4a5;stop-opacity:1.;\"/>\n",
       "<stop offset=\"1\" style=\"stop-color:#e4e4e4;stop-opacity:1.;\"/>\n",
       "</linearGradient>\n",
       "</defs>\n",
       "<polygon fill=\"url(#clust10_l_9)\" stroke=\"#a5a4a5\" points=\"508.19,-49 508.19,-340 693.18,-340 693.18,-49 508.19,-49\"/>\n",
       "<text text-anchor=\"middle\" x=\"600.68\" y=\"-322.7\" font-family=\"Helvetica,sans-Serif\" font-size=\"14.00\">Inputs</text>\n",
       "</g>\n",
       "<g id=\"clust11\" class=\"cluster\">\n",
       "<title>clusterphase_preferencemin_phase2Outputs</title>\n",
       "<defs>\n",
       "<linearGradient id=\"clust11_l_10\" gradientUnits=\"userSpaceOnUse\" x1=\"818.22\" y1=\"-248.5\" x2=\"713.18\" y2=\"-248.5\" >\n",
       "<stop offset=\"0\" style=\"stop-color:#a5a4a5;stop-opacity:1.;\"/>\n",
       "<stop offset=\"1\" style=\"stop-color:#e4e4e4;stop-opacity:1.;\"/>\n",
       "</linearGradient>\n",
       "</defs>\n",
       "<polygon fill=\"url(#clust11_l_10)\" stroke=\"#a5a4a5\" points=\"713.18,-157 713.18,-340 818.22,-340 818.22,-157 713.18,-157\"/>\n",
       "<text text-anchor=\"middle\" x=\"765.7\" y=\"-322.7\" font-family=\"Helvetica,sans-Serif\" font-size=\"14.00\">Outputs</text>\n",
       "</g>\n",
       "<g id=\"clust12\" class=\"cluster\">\n",
       "<title>clusterphase_preferencee1</title>\n",
       "<defs>\n",
       "<linearGradient id=\"clust12_l_11\" gradientUnits=\"userSpaceOnUse\" x1=\"834.22\" y1=\"-928\" x2=\"1124.26\" y2=\"-928\" >\n",
       "<stop offset=\"0\" style=\"stop-color:#b9ecf1;stop-opacity:1.;\"/>\n",
       "<stop offset=\"1\" style=\"stop-color:#b9ecf1;stop-opacity:1.;\"/>\n",
       "</linearGradient>\n",
       "</defs>\n",
       "<polygon fill=\"url(#clust12_l_11)\" stroke=\"#b9ecf1\" points=\"834.22,-790 834.22,-1066 1124.26,-1066 1124.26,-790 834.22,-790\"/>\n",
       "<text text-anchor=\"middle\" x=\"979.24\" y=\"-1048.7\" font-family=\"Helvetica,sans-Serif\" font-size=\"14.00\">e1: GetItem</text>\n",
       "</g>\n",
       "<g id=\"clust13\" class=\"cluster\">\n",
       "<title>clusterphase_preferencee1Inputs</title>\n",
       "<defs>\n",
       "<linearGradient id=\"clust13_l_12\" gradientUnits=\"userSpaceOnUse\" x1=\"842.22\" y1=\"-916.5\" x2=\"1000.97\" y2=\"-916.5\" >\n",
       "<stop offset=\"0\" style=\"stop-color:#a5a4a5;stop-opacity:1.;\"/>\n",
       "<stop offset=\"1\" style=\"stop-color:#e4e4e4;stop-opacity:1.;\"/>\n",
       "</linearGradient>\n",
       "</defs>\n",
       "<polygon fill=\"url(#clust13_l_12)\" stroke=\"#a5a4a5\" points=\"842.22,-798 842.22,-1035 1000.97,-1035 1000.97,-798 842.22,-798\"/>\n",
       "<text text-anchor=\"middle\" x=\"921.59\" y=\"-1017.7\" font-family=\"Helvetica,sans-Serif\" font-size=\"14.00\">Inputs</text>\n",
       "</g>\n",
       "<g id=\"clust14\" class=\"cluster\">\n",
       "<title>clusterphase_preferencee1Outputs</title>\n",
       "<defs>\n",
       "<linearGradient id=\"clust14_l_13\" gradientUnits=\"userSpaceOnUse\" x1=\"1116.26\" y1=\"-916.5\" x2=\"1020.97\" y2=\"-916.5\" >\n",
       "<stop offset=\"0\" style=\"stop-color:#a5a4a5;stop-opacity:1.;\"/>\n",
       "<stop offset=\"1\" style=\"stop-color:#e4e4e4;stop-opacity:1.;\"/>\n",
       "</linearGradient>\n",
       "</defs>\n",
       "<polygon fill=\"url(#clust14_l_13)\" stroke=\"#a5a4a5\" points=\"1020.97,-852 1020.97,-981 1116.26,-981 1116.26,-852 1020.97,-852\"/>\n",
       "<text text-anchor=\"middle\" x=\"1068.61\" y=\"-963.7\" font-family=\"Helvetica,sans-Serif\" font-size=\"14.00\">Outputs</text>\n",
       "</g>\n",
       "<g id=\"clust15\" class=\"cluster\">\n",
       "<title>clusterphase_preferencen1</title>\n",
       "<defs>\n",
       "<linearGradient id=\"clust15_l_14\" gradientUnits=\"userSpaceOnUse\" x1=\"834.22\" y1=\"-671\" x2=\"1111.61\" y2=\"-671\" >\n",
       "<stop offset=\"0\" style=\"stop-color:#b9ecf1;stop-opacity:1.;\"/>\n",
       "<stop offset=\"1\" style=\"stop-color:#b9ecf1;stop-opacity:1.;\"/>\n",
       "</linearGradient>\n",
       "</defs>\n",
       "<polygon fill=\"url(#clust15_l_14)\" stroke=\"#b9ecf1\" points=\"834.22,-560 834.22,-782 1111.61,-782 1111.61,-560 834.22,-560\"/>\n",
       "<text text-anchor=\"middle\" x=\"972.92\" y=\"-764.7\" font-family=\"Helvetica,sans-Serif\" font-size=\"14.00\">n1: Length</text>\n",
       "</g>\n",
       "<g id=\"clust16\" class=\"cluster\">\n",
       "<title>clusterphase_preferencen1Inputs</title>\n",
       "<defs>\n",
       "<linearGradient id=\"clust16_l_15\" gradientUnits=\"userSpaceOnUse\" x1=\"842.22\" y1=\"-659.5\" x2=\"1000.97\" y2=\"-659.5\" >\n",
       "<stop offset=\"0\" style=\"stop-color:#a5a4a5;stop-opacity:1.;\"/>\n",
       "<stop offset=\"1\" style=\"stop-color:#e4e4e4;stop-opacity:1.;\"/>\n",
       "</linearGradient>\n",
       "</defs>\n",
       "<polygon fill=\"url(#clust16_l_15)\" stroke=\"#a5a4a5\" points=\"842.22,-568 842.22,-751 1000.97,-751 1000.97,-568 842.22,-568\"/>\n",
       "<text text-anchor=\"middle\" x=\"921.59\" y=\"-733.7\" font-family=\"Helvetica,sans-Serif\" font-size=\"14.00\">Inputs</text>\n",
       "</g>\n",
       "<g id=\"clust17\" class=\"cluster\">\n",
       "<title>clusterphase_preferencen1Outputs</title>\n",
       "<defs>\n",
       "<linearGradient id=\"clust17_l_16\" gradientUnits=\"userSpaceOnUse\" x1=\"1103.61\" y1=\"-686.5\" x2=\"1033.61\" y2=\"-686.5\" >\n",
       "<stop offset=\"0\" style=\"stop-color:#a5a4a5;stop-opacity:1.;\"/>\n",
       "<stop offset=\"1\" style=\"stop-color:#e4e4e4;stop-opacity:1.;\"/>\n",
       "</linearGradient>\n",
       "</defs>\n",
       "<polygon fill=\"url(#clust17_l_16)\" stroke=\"#a5a4a5\" points=\"1033.61,-622 1033.61,-751 1103.61,-751 1103.61,-622 1033.61,-622\"/>\n",
       "<text text-anchor=\"middle\" x=\"1068.61\" y=\"-733.7\" font-family=\"Helvetica,sans-Serif\" font-size=\"14.00\">Outputs</text>\n",
       "</g>\n",
       "<g id=\"clust18\" class=\"cluster\">\n",
       "<title>clusterphase_preferencee2</title>\n",
       "<defs>\n",
       "<linearGradient id=\"clust18_l_17\" gradientUnits=\"userSpaceOnUse\" x1=\"834.22\" y1=\"-414\" x2=\"1124.26\" y2=\"-414\" >\n",
       "<stop offset=\"0\" style=\"stop-color:#b9ecf1;stop-opacity:1.;\"/>\n",
       "<stop offset=\"1\" style=\"stop-color:#b9ecf1;stop-opacity:1.;\"/>\n",
       "</linearGradient>\n",
       "</defs>\n",
       "<polygon fill=\"url(#clust18_l_17)\" stroke=\"#b9ecf1\" points=\"834.22,-276 834.22,-552 1124.26,-552 1124.26,-276 834.22,-276\"/>\n",
       "<text text-anchor=\"middle\" x=\"979.24\" y=\"-534.7\" font-family=\"Helvetica,sans-Serif\" font-size=\"14.00\">e2: GetItem</text>\n",
       "</g>\n",
       "<g id=\"clust19\" class=\"cluster\">\n",
       "<title>clusterphase_preferencee2Inputs</title>\n",
       "<defs>\n",
       "<linearGradient id=\"clust19_l_18\" gradientUnits=\"userSpaceOnUse\" x1=\"842.22\" y1=\"-402.5\" x2=\"1000.97\" y2=\"-402.5\" >\n",
       "<stop offset=\"0\" style=\"stop-color:#a5a4a5;stop-opacity:1.;\"/>\n",
       "<stop offset=\"1\" style=\"stop-color:#e4e4e4;stop-opacity:1.;\"/>\n",
       "</linearGradient>\n",
       "</defs>\n",
       "<polygon fill=\"url(#clust19_l_18)\" stroke=\"#a5a4a5\" points=\"842.22,-284 842.22,-521 1000.97,-521 1000.97,-284 842.22,-284\"/>\n",
       "<text text-anchor=\"middle\" x=\"921.59\" y=\"-503.7\" font-family=\"Helvetica,sans-Serif\" font-size=\"14.00\">Inputs</text>\n",
       "</g>\n",
       "<g id=\"clust20\" class=\"cluster\">\n",
       "<title>clusterphase_preferencee2Outputs</title>\n",
       "<defs>\n",
       "<linearGradient id=\"clust20_l_19\" gradientUnits=\"userSpaceOnUse\" x1=\"1116.26\" y1=\"-402.5\" x2=\"1020.97\" y2=\"-402.5\" >\n",
       "<stop offset=\"0\" style=\"stop-color:#a5a4a5;stop-opacity:1.;\"/>\n",
       "<stop offset=\"1\" style=\"stop-color:#e4e4e4;stop-opacity:1.;\"/>\n",
       "</linearGradient>\n",
       "</defs>\n",
       "<polygon fill=\"url(#clust20_l_19)\" stroke=\"#a5a4a5\" points=\"1020.97,-338 1020.97,-467 1116.26,-467 1116.26,-338 1020.97,-338\"/>\n",
       "<text text-anchor=\"middle\" x=\"1068.61\" y=\"-449.7\" font-family=\"Helvetica,sans-Serif\" font-size=\"14.00\">Outputs</text>\n",
       "</g>\n",
       "<g id=\"clust21\" class=\"cluster\">\n",
       "<title>clusterphase_preferencen2</title>\n",
       "<defs>\n",
       "<linearGradient id=\"clust21_l_20\" gradientUnits=\"userSpaceOnUse\" x1=\"834.22\" y1=\"-157\" x2=\"1111.61\" y2=\"-157\" >\n",
       "<stop offset=\"0\" style=\"stop-color:#b9ecf1;stop-opacity:1.;\"/>\n",
       "<stop offset=\"1\" style=\"stop-color:#b9ecf1;stop-opacity:1.;\"/>\n",
       "</linearGradient>\n",
       "</defs>\n",
       "<polygon fill=\"url(#clust21_l_20)\" stroke=\"#b9ecf1\" points=\"834.22,-46 834.22,-268 1111.61,-268 1111.61,-46 834.22,-46\"/>\n",
       "<text text-anchor=\"middle\" x=\"972.92\" y=\"-250.7\" font-family=\"Helvetica,sans-Serif\" font-size=\"14.00\">n2: Length</text>\n",
       "</g>\n",
       "<g id=\"clust22\" class=\"cluster\">\n",
       "<title>clusterphase_preferencen2Inputs</title>\n",
       "<defs>\n",
       "<linearGradient id=\"clust22_l_21\" gradientUnits=\"userSpaceOnUse\" x1=\"842.22\" y1=\"-145.5\" x2=\"1000.97\" y2=\"-145.5\" >\n",
       "<stop offset=\"0\" style=\"stop-color:#a5a4a5;stop-opacity:1.;\"/>\n",
       "<stop offset=\"1\" style=\"stop-color:#e4e4e4;stop-opacity:1.;\"/>\n",
       "</linearGradient>\n",
       "</defs>\n",
       "<polygon fill=\"url(#clust22_l_21)\" stroke=\"#a5a4a5\" points=\"842.22,-54 842.22,-237 1000.97,-237 1000.97,-54 842.22,-54\"/>\n",
       "<text text-anchor=\"middle\" x=\"921.59\" y=\"-219.7\" font-family=\"Helvetica,sans-Serif\" font-size=\"14.00\">Inputs</text>\n",
       "</g>\n",
       "<g id=\"clust23\" class=\"cluster\">\n",
       "<title>clusterphase_preferencen2Outputs</title>\n",
       "<defs>\n",
       "<linearGradient id=\"clust23_l_22\" gradientUnits=\"userSpaceOnUse\" x1=\"1103.61\" y1=\"-172.5\" x2=\"1033.61\" y2=\"-172.5\" >\n",
       "<stop offset=\"0\" style=\"stop-color:#a5a4a5;stop-opacity:1.;\"/>\n",
       "<stop offset=\"1\" style=\"stop-color:#e4e4e4;stop-opacity:1.;\"/>\n",
       "</linearGradient>\n",
       "</defs>\n",
       "<polygon fill=\"url(#clust23_l_22)\" stroke=\"#a5a4a5\" points=\"1033.61,-108 1033.61,-237 1103.61,-237 1103.61,-108 1033.61,-108\"/>\n",
       "<text text-anchor=\"middle\" x=\"1068.61\" y=\"-219.7\" font-family=\"Helvetica,sans-Serif\" font-size=\"14.00\">Outputs</text>\n",
       "</g>\n",
       "<g id=\"clust24\" class=\"cluster\">\n",
       "<title>clusterphase_preferencee2__getitem_Divide_n2__len</title>\n",
       "<defs>\n",
       "<linearGradient id=\"clust24_l_23\" gradientUnits=\"userSpaceOnUse\" x1=\"1132.26\" y1=\"-299\" x2=\"1416.45\" y2=\"-299\" >\n",
       "<stop offset=\"0\" style=\"stop-color:#b9ecf1;stop-opacity:1.;\"/>\n",
       "<stop offset=\"1\" style=\"stop-color:#b9ecf1;stop-opacity:1.;\"/>\n",
       "</linearGradient>\n",
       "</defs>\n",
       "<polygon fill=\"url(#clust24_l_23)\" stroke=\"#b9ecf1\" points=\"1132.26,-161 1132.26,-437 1416.45,-437 1416.45,-161 1132.26,-161\"/>\n",
       "<text text-anchor=\"middle\" x=\"1274.36\" y=\"-419.7\" font-family=\"Helvetica,sans-Serif\" font-size=\"14.00\">e2__getitem_Divide_n2__len: Divide</text>\n",
       "</g>\n",
       "<g id=\"clust25\" class=\"cluster\">\n",
       "<title>clusterphase_preferencee2__getitem_Divide_n2__lenInputs</title>\n",
       "<defs>\n",
       "<linearGradient id=\"clust25_l_24\" gradientUnits=\"userSpaceOnUse\" x1=\"1140.26\" y1=\"-287.5\" x2=\"1299.01\" y2=\"-287.5\" >\n",
       "<stop offset=\"0\" style=\"stop-color:#a5a4a5;stop-opacity:1.;\"/>\n",
       "<stop offset=\"1\" style=\"stop-color:#e4e4e4;stop-opacity:1.;\"/>\n",
       "</linearGradient>\n",
       "</defs>\n",
       "<polygon fill=\"url(#clust25_l_24)\" stroke=\"#a5a4a5\" points=\"1140.26,-169 1140.26,-406 1299.01,-406 1299.01,-169 1140.26,-169\"/>\n",
       "<text text-anchor=\"middle\" x=\"1219.64\" y=\"-388.7\" font-family=\"Helvetica,sans-Serif\" font-size=\"14.00\">Inputs</text>\n",
       "</g>\n",
       "<g id=\"clust26\" class=\"cluster\">\n",
       "<title>clusterphase_preferencee2__getitem_Divide_n2__lenOutputs</title>\n",
       "<defs>\n",
       "<linearGradient id=\"clust26_l_25\" gradientUnits=\"userSpaceOnUse\" x1=\"1408.45\" y1=\"-341.5\" x2=\"1319.01\" y2=\"-341.5\" >\n",
       "<stop offset=\"0\" style=\"stop-color:#a5a4a5;stop-opacity:1.;\"/>\n",
       "<stop offset=\"1\" style=\"stop-color:#e4e4e4;stop-opacity:1.;\"/>\n",
       "</linearGradient>\n",
       "</defs>\n",
       "<polygon fill=\"url(#clust26_l_25)\" stroke=\"#a5a4a5\" points=\"1319.01,-277 1319.01,-406 1408.45,-406 1408.45,-277 1319.01,-277\"/>\n",
       "<text text-anchor=\"middle\" x=\"1363.73\" y=\"-388.7\" font-family=\"Helvetica,sans-Serif\" font-size=\"14.00\">Outputs</text>\n",
       "</g>\n",
       "<g id=\"clust27\" class=\"cluster\">\n",
       "<title>clusterphase_preferencee1__getitem_Divide_n1__len</title>\n",
       "<defs>\n",
       "<linearGradient id=\"clust27_l_26\" gradientUnits=\"userSpaceOnUse\" x1=\"1132.26\" y1=\"-752\" x2=\"1416.45\" y2=\"-752\" >\n",
       "<stop offset=\"0\" style=\"stop-color:#b9ecf1;stop-opacity:1.;\"/>\n",
       "<stop offset=\"1\" style=\"stop-color:#b9ecf1;stop-opacity:1.;\"/>\n",
       "</linearGradient>\n",
       "</defs>\n",
       "<polygon fill=\"url(#clust27_l_26)\" stroke=\"#b9ecf1\" points=\"1132.26,-614 1132.26,-890 1416.45,-890 1416.45,-614 1132.26,-614\"/>\n",
       "<text text-anchor=\"middle\" x=\"1274.36\" y=\"-872.7\" font-family=\"Helvetica,sans-Serif\" font-size=\"14.00\">e1__getitem_Divide_n1__len: Divide</text>\n",
       "</g>\n",
       "<g id=\"clust28\" class=\"cluster\">\n",
       "<title>clusterphase_preferencee1__getitem_Divide_n1__lenInputs</title>\n",
       "<defs>\n",
       "<linearGradient id=\"clust28_l_27\" gradientUnits=\"userSpaceOnUse\" x1=\"1140.26\" y1=\"-740.5\" x2=\"1299.01\" y2=\"-740.5\" >\n",
       "<stop offset=\"0\" style=\"stop-color:#a5a4a5;stop-opacity:1.;\"/>\n",
       "<stop offset=\"1\" style=\"stop-color:#e4e4e4;stop-opacity:1.;\"/>\n",
       "</linearGradient>\n",
       "</defs>\n",
       "<polygon fill=\"url(#clust28_l_27)\" stroke=\"#a5a4a5\" points=\"1140.26,-622 1140.26,-859 1299.01,-859 1299.01,-622 1140.26,-622\"/>\n",
       "<text text-anchor=\"middle\" x=\"1219.64\" y=\"-841.7\" font-family=\"Helvetica,sans-Serif\" font-size=\"14.00\">Inputs</text>\n",
       "</g>\n",
       "<g id=\"clust29\" class=\"cluster\">\n",
       "<title>clusterphase_preferencee1__getitem_Divide_n1__lenOutputs</title>\n",
       "<defs>\n",
       "<linearGradient id=\"clust29_l_28\" gradientUnits=\"userSpaceOnUse\" x1=\"1408.45\" y1=\"-740.5\" x2=\"1319.01\" y2=\"-740.5\" >\n",
       "<stop offset=\"0\" style=\"stop-color:#a5a4a5;stop-opacity:1.;\"/>\n",
       "<stop offset=\"1\" style=\"stop-color:#e4e4e4;stop-opacity:1.;\"/>\n",
       "</linearGradient>\n",
       "</defs>\n",
       "<polygon fill=\"url(#clust29_l_28)\" stroke=\"#a5a4a5\" points=\"1319.01,-676 1319.01,-805 1408.45,-805 1408.45,-676 1319.01,-676\"/>\n",
       "<text text-anchor=\"middle\" x=\"1363.73\" y=\"-787.7\" font-family=\"Helvetica,sans-Serif\" font-size=\"14.00\">Outputs</text>\n",
       "</g>\n",
       "<g id=\"clust30\" class=\"cluster\">\n",
       "<title>clusterphase_preferencecompare</title>\n",
       "<defs>\n",
       "<linearGradient id=\"clust30_l_29\" gradientUnits=\"userSpaceOnUse\" x1=\"1424.45\" y1=\"-407\" x2=\"1689.2\" y2=\"-407\" >\n",
       "<stop offset=\"0\" style=\"stop-color:#b9ecf1;stop-opacity:1.;\"/>\n",
       "<stop offset=\"1\" style=\"stop-color:#b9ecf1;stop-opacity:1.;\"/>\n",
       "</linearGradient>\n",
       "</defs>\n",
       "<polygon fill=\"url(#clust30_l_29)\" stroke=\"#b9ecf1\" points=\"1424.45,-269 1424.45,-545 1689.2,-545 1689.2,-269 1424.45,-269\"/>\n",
       "<text text-anchor=\"middle\" x=\"1556.83\" y=\"-527.7\" font-family=\"Helvetica,sans-Serif\" font-size=\"14.00\">compare: Subtract</text>\n",
       "</g>\n",
       "<g id=\"clust31\" class=\"cluster\">\n",
       "<title>clusterphase_preferencecompareInputs</title>\n",
       "<defs>\n",
       "<linearGradient id=\"clust31_l_30\" gradientUnits=\"userSpaceOnUse\" x1=\"1432.45\" y1=\"-395.5\" x2=\"1591.2\" y2=\"-395.5\" >\n",
       "<stop offset=\"0\" style=\"stop-color:#a5a4a5;stop-opacity:1.;\"/>\n",
       "<stop offset=\"1\" style=\"stop-color:#e4e4e4;stop-opacity:1.;\"/>\n",
       "</linearGradient>\n",
       "</defs>\n",
       "<polygon fill=\"url(#clust31_l_30)\" stroke=\"#a5a4a5\" points=\"1432.45,-277 1432.45,-514 1591.2,-514 1591.2,-277 1432.45,-277\"/>\n",
       "<text text-anchor=\"middle\" x=\"1511.83\" y=\"-496.7\" font-family=\"Helvetica,sans-Serif\" font-size=\"14.00\">Inputs</text>\n",
       "</g>\n",
       "<g id=\"clust32\" class=\"cluster\">\n",
       "<title>clusterphase_preferencecompareOutputs</title>\n",
       "<defs>\n",
       "<linearGradient id=\"clust32_l_31\" gradientUnits=\"userSpaceOnUse\" x1=\"1681.2\" y1=\"-395.5\" x2=\"1611.2\" y2=\"-395.5\" >\n",
       "<stop offset=\"0\" style=\"stop-color:#a5a4a5;stop-opacity:1.;\"/>\n",
       "<stop offset=\"1\" style=\"stop-color:#e4e4e4;stop-opacity:1.;\"/>\n",
       "</linearGradient>\n",
       "</defs>\n",
       "<polygon fill=\"url(#clust32_l_31)\" stroke=\"#a5a4a5\" points=\"1611.2,-331 1611.2,-460 1681.2,-460 1681.2,-331 1611.2,-331\"/>\n",
       "<text text-anchor=\"middle\" x=\"1646.2\" y=\"-442.7\" font-family=\"Helvetica,sans-Serif\" font-size=\"14.00\">Outputs</text>\n",
       "</g>\n",
       "<!-- clusterphase_preferenceInputsrun -->\n",
       "<g id=\"node1\" class=\"node\">\n",
       "<title>clusterphase_preferenceInputsrun</title>\n",
       "<polygon fill=\"#21bfd8\" stroke=\"#21bfd8\" points=\"102.38,-229 60.38,-229 60.38,-205 102.38,-205 114.38,-217 102.38,-229\"/>\n",
       "<text text-anchor=\"middle\" x=\"87.38\" y=\"-211.2\" font-family=\"Helvetica,sans-Serif\" font-size=\"14.00\">run</text>\n",
       "</g>\n",
       "<!-- clusterphase_preferenceOutputsran -->\n",
       "<g id=\"node10\" class=\"node\">\n",
       "<title>clusterphase_preferenceOutputsran</title>\n",
       "<polygon fill=\"#21bfd8\" stroke=\"#21bfd8\" points=\"1793.1,-195 1751.1,-195 1751.1,-171 1793.1,-171 1805.1,-183 1793.1,-195\"/>\n",
       "<text text-anchor=\"middle\" x=\"1778.1\" y=\"-177.2\" font-family=\"Helvetica,sans-Serif\" font-size=\"14.00\">ran</text>\n",
       "</g>\n",
       "<!-- clusterphase_preferenceInputsrun&#45;&gt;clusterphase_preferenceOutputsran -->\n",
       "<!-- clusterphase_preferenceInputsaccumulate_and_run -->\n",
       "<g id=\"node2\" class=\"node\">\n",
       "<title>clusterphase_preferenceInputsaccumulate_and_run</title>\n",
       "<polygon fill=\"#21bfd8\" stroke=\"#21bfd8\" points=\"146.75,-607 16,-607 16,-583 146.75,-583 158.75,-595 146.75,-607\"/>\n",
       "<text text-anchor=\"middle\" x=\"87.38\" y=\"-589.2\" font-family=\"Helvetica,sans-Serif\" font-size=\"14.00\">accumulate_and_run</text>\n",
       "</g>\n",
       "<!-- clusterphase_preferenceInputselement -->\n",
       "<g id=\"node3\" class=\"node\">\n",
       "<title>clusterphase_preferenceInputselement</title>\n",
       "<ellipse fill=\"#edb22c\" stroke=\"#edb22c\" cx=\"87.38\" cy=\"-433\" rx=\"42.08\" ry=\"18\"/>\n",
       "<text text-anchor=\"middle\" x=\"87.38\" y=\"-427.2\" font-family=\"Helvetica,sans-Serif\" font-size=\"14.00\">element</text>\n",
       "</g>\n",
       "<!-- clusterphase_preferenceelementInputsuser_input -->\n",
       "<g id=\"node14\" class=\"node\">\n",
       "<title>clusterphase_preferenceelementInputsuser_input</title>\n",
       "<ellipse fill=\"#edb22c\" stroke=\"#edb22c\" cx=\"266.12\" cy=\"-432\" rx=\"51.35\" ry=\"18\"/>\n",
       "<text text-anchor=\"middle\" x=\"266.12\" y=\"-426.2\" font-family=\"Helvetica,sans-Serif\" font-size=\"14.00\">user_input</text>\n",
       "</g>\n",
       "<!-- clusterphase_preferenceInputselement&#45;&gt;clusterphase_preferenceelementInputsuser_input -->\n",
       "<g id=\"edge24\" class=\"edge\">\n",
       "<title>clusterphase_preferenceInputselement&#45;&gt;clusterphase_preferenceelementInputsuser_input</title>\n",
       "<path fill=\"none\" stroke=\"#edb22c\" d=\"M129.82,-432.77C140.74,-432.7 153.01,-432.63 165.58,-432.56\"/>\n",
       "<path fill=\"none\" stroke=\"#edb22c\" d=\"M165.58,-432.56C178.16,-432.49 191.04,-432.42 203.19,-432.35\"/>\n",
       "<polygon fill=\"#edb22c\" stroke=\"#edb22c\" points=\"202.99,-435.85 212.97,-432.3 202.95,-428.85 202.99,-435.85\"/>\n",
       "</g>\n",
       "<!-- clusterphase_preferenceInputsphase1 -->\n",
       "<g id=\"node4\" class=\"node\">\n",
       "<title>clusterphase_preferenceInputsphase1</title>\n",
       "<ellipse fill=\"#edb22c\" stroke=\"#edb22c\" cx=\"87.38\" cy=\"-541\" rx=\"53.78\" ry=\"18\"/>\n",
       "<text text-anchor=\"middle\" x=\"87.38\" y=\"-535.2\" font-family=\"Helvetica,sans-Serif\" font-size=\"14.00\">phase1: str</text>\n",
       "</g>\n",
       "<!-- clusterphase_preferencemin_phase1Inputscrystalstructure -->\n",
       "<g id=\"node20\" class=\"node\">\n",
       "<title>clusterphase_preferencemin_phase1Inputscrystalstructure</title>\n",
       "<ellipse fill=\"#edb22c\" stroke=\"#edb22c\" cx=\"600.68\" cy=\"-672\" rx=\"84.49\" ry=\"18\"/>\n",
       "<text text-anchor=\"middle\" x=\"600.68\" y=\"-666.2\" font-family=\"Helvetica,sans-Serif\" font-size=\"14.00\">crystalstructure: str</text>\n",
       "</g>\n",
       "<!-- clusterphase_preferenceInputsphase1&#45;&gt;clusterphase_preferencemin_phase1Inputscrystalstructure -->\n",
       "<g id=\"edge25\" class=\"edge\">\n",
       "<title>clusterphase_preferenceInputsphase1&#45;&gt;clusterphase_preferencemin_phase1Inputscrystalstructure</title>\n",
       "<path fill=\"none\" stroke=\"#edb22c\" d=\"M136.55,-548.57C147.97,-552.57 159.05,-558.68 166.75,-568 190.77,-597.07 150.85,-626.62 178.75,-652 191.39,-663.5 213.45,-671.47 241.06,-676.82\"/>\n",
       "<path fill=\"none\" stroke=\"#edb22c\" d=\"M241.06,-676.82C316.16,-691.35 432.34,-686.45 511.99,-680.36\"/>\n",
       "<polygon fill=\"#edb22c\" stroke=\"#edb22c\" points=\"512.09,-683.87 521.78,-679.59 511.54,-676.89 512.09,-683.87\"/>\n",
       "</g>\n",
       "<!-- clusterphase_preferenceInputslattice_guess1 -->\n",
       "<g id=\"node5\" class=\"node\">\n",
       "<title>clusterphase_preferenceInputslattice_guess1</title>\n",
       "<ellipse fill=\"#edb22c\" stroke=\"#edb22c\" cx=\"87.38\" cy=\"-487\" rx=\"66.46\" ry=\"18\"/>\n",
       "<text text-anchor=\"middle\" x=\"87.38\" y=\"-481.2\" font-family=\"Helvetica,sans-Serif\" font-size=\"14.00\">lattice_guess1</text>\n",
       "</g>\n",
       "<!-- clusterphase_preferencemin_phase1Inputslattice_guess -->\n",
       "<g id=\"node21\" class=\"node\">\n",
       "<title>clusterphase_preferencemin_phase1Inputslattice_guess</title>\n",
       "<ellipse fill=\"#edb22c\" stroke=\"#edb22c\" cx=\"600.68\" cy=\"-618\" rx=\"61.58\" ry=\"18\"/>\n",
       "<text text-anchor=\"middle\" x=\"600.68\" y=\"-612.2\" font-family=\"Helvetica,sans-Serif\" font-size=\"14.00\">lattice_guess</text>\n",
       "</g>\n",
       "<!-- clusterphase_preferenceInputslattice_guess1&#45;&gt;clusterphase_preferencemin_phase1Inputslattice_guess -->\n",
       "<g id=\"edge26\" class=\"edge\">\n",
       "<title>clusterphase_preferenceInputslattice_guess1&#45;&gt;clusterphase_preferencemin_phase1Inputslattice_guess</title>\n",
       "<path fill=\"none\" stroke=\"#edb22c\" d=\"M142.96,-497.13C152.02,-501.05 160.48,-506.48 166.75,-514 189.49,-541.28 152.52,-569.06 178.75,-593 193.71,-606.65 221.85,-615.56 256.79,-621.16\"/>\n",
       "<path fill=\"none\" stroke=\"#edb22c\" d=\"M256.79,-621.16C337.94,-634.15 455.74,-629.21 529.99,-623.98\"/>\n",
       "<polygon fill=\"#edb22c\" stroke=\"#edb22c\" points=\"530,-627.49 539.72,-623.27 529.49,-620.5 530,-627.49\"/>\n",
       "</g>\n",
       "<!-- clusterphase_preferenceInputsphase2 -->\n",
       "<g id=\"node6\" class=\"node\">\n",
       "<title>clusterphase_preferenceInputsphase2</title>\n",
       "<ellipse fill=\"#edb22c\" stroke=\"#edb22c\" cx=\"87.38\" cy=\"-325\" rx=\"53.78\" ry=\"18\"/>\n",
       "<text text-anchor=\"middle\" x=\"87.38\" y=\"-319.2\" font-family=\"Helvetica,sans-Serif\" font-size=\"14.00\">phase2: str</text>\n",
       "</g>\n",
       "<!-- clusterphase_preferencemin_phase2Inputscrystalstructure -->\n",
       "<g id=\"node28\" class=\"node\">\n",
       "<title>clusterphase_preferencemin_phase2Inputscrystalstructure</title>\n",
       "<ellipse fill=\"#edb22c\" stroke=\"#edb22c\" cx=\"600.68\" cy=\"-129\" rx=\"84.49\" ry=\"18\"/>\n",
       "<text text-anchor=\"middle\" x=\"600.68\" y=\"-123.2\" font-family=\"Helvetica,sans-Serif\" font-size=\"14.00\">crystalstructure: str</text>\n",
       "</g>\n",
       "<!-- clusterphase_preferenceInputsphase2&#45;&gt;clusterphase_preferencemin_phase2Inputscrystalstructure -->\n",
       "<g id=\"edge27\" class=\"edge\">\n",
       "<title>clusterphase_preferenceInputsphase2&#45;&gt;clusterphase_preferencemin_phase2Inputscrystalstructure</title>\n",
       "<path fill=\"none\" stroke=\"#edb22c\" d=\"M126.84,-312.36C139.61,-308 153.86,-302.96 166.75,-298 240.24,-269.73 285.2,-247.78 329.73,-226.56\"/>\n",
       "<path fill=\"none\" stroke=\"#edb22c\" d=\"M329.73,-226.56C376.3,-204.37 422.4,-182.98 500.19,-156 510.65,-152.37 521.87,-148.92 532.87,-145.77\"/>\n",
       "<polygon fill=\"#edb22c\" stroke=\"#edb22c\" points=\"533.61,-149.2 542.3,-143.14 531.72,-142.46 533.61,-149.2\"/>\n",
       "</g>\n",
       "<!-- clusterphase_preferenceInputslattice_guess2 -->\n",
       "<g id=\"node7\" class=\"node\">\n",
       "<title>clusterphase_preferenceInputslattice_guess2</title>\n",
       "<ellipse fill=\"#edb22c\" stroke=\"#edb22c\" cx=\"87.38\" cy=\"-271\" rx=\"66.46\" ry=\"18\"/>\n",
       "<text text-anchor=\"middle\" x=\"87.38\" y=\"-265.2\" font-family=\"Helvetica,sans-Serif\" font-size=\"14.00\">lattice_guess2</text>\n",
       "</g>\n",
       "<!-- clusterphase_preferencemin_phase2Inputslattice_guess -->\n",
       "<g id=\"node29\" class=\"node\">\n",
       "<title>clusterphase_preferencemin_phase2Inputslattice_guess</title>\n",
       "<ellipse fill=\"#edb22c\" stroke=\"#edb22c\" cx=\"600.68\" cy=\"-75\" rx=\"61.58\" ry=\"18\"/>\n",
       "<text text-anchor=\"middle\" x=\"600.68\" y=\"-69.2\" font-family=\"Helvetica,sans-Serif\" font-size=\"14.00\">lattice_guess</text>\n",
       "</g>\n",
       "<!-- clusterphase_preferenceInputslattice_guess2&#45;&gt;clusterphase_preferencemin_phase2Inputslattice_guess -->\n",
       "<g id=\"edge28\" class=\"edge\">\n",
       "<title>clusterphase_preferenceInputslattice_guess2&#45;&gt;clusterphase_preferencemin_phase2Inputslattice_guess</title>\n",
       "<path fill=\"none\" stroke=\"#edb22c\" d=\"M140.76,-259.89C150.23,-256.05 159.41,-250.9 166.75,-244 176.91,-234.44 168.62,-224.59 178.75,-215 229.73,-166.72 271.45,-148.58 315.95,-138.54\"/>\n",
       "<path fill=\"none\" stroke=\"#edb22c\" d=\"M315.95,-138.54C367.43,-126.92 422.63,-126.12 500.19,-102 513.81,-97.76 528.59,-93.55 542.49,-89.75\"/>\n",
       "<polygon fill=\"#edb22c\" stroke=\"#edb22c\" points=\"543.21,-93.18 551.95,-87.2 541.39,-86.43 543.21,-93.18\"/>\n",
       "</g>\n",
       "<!-- clusterphase_preferenceInputse1__item -->\n",
       "<g id=\"node8\" class=\"node\">\n",
       "<title>clusterphase_preferenceInputse1__item</title>\n",
       "<ellipse fill=\"#edb22c\" stroke=\"#edb22c\" cx=\"87.38\" cy=\"-649\" rx=\"46.96\" ry=\"18\"/>\n",
       "<text text-anchor=\"middle\" x=\"87.38\" y=\"-643.2\" font-family=\"Helvetica,sans-Serif\" font-size=\"14.00\">e1__item</text>\n",
       "</g>\n",
       "<!-- clusterphase_preferencee1Inputsitem -->\n",
       "<g id=\"node36\" class=\"node\">\n",
       "<title>clusterphase_preferencee1Inputsitem</title>\n",
       "<ellipse fill=\"#edb22c\" stroke=\"#edb22c\" cx=\"921.59\" cy=\"-878\" rx=\"27.46\" ry=\"18\"/>\n",
       "<text text-anchor=\"middle\" x=\"921.59\" y=\"-872.2\" font-family=\"Helvetica,sans-Serif\" font-size=\"14.00\">item</text>\n",
       "</g>\n",
       "<!-- clusterphase_preferenceInputse1__item&#45;&gt;clusterphase_preferencee1Inputsitem -->\n",
       "<g id=\"edge29\" class=\"edge\">\n",
       "<title>clusterphase_preferenceInputse1__item&#45;&gt;clusterphase_preferencee1Inputsitem</title>\n",
       "<path fill=\"none\" stroke=\"#edb22c\" d=\"M101.16,-666.59C141.77,-720.21 274,-878 423.85,-878 423.85,-878 423.85,-878 424.02,-878\"/>\n",
       "<path fill=\"none\" stroke=\"#edb22c\" d=\"M424.02,-878C425.61,-878 441.54,-878 601.68,-878 702.95,-878 822.3,-878 882.2,-878\"/>\n",
       "<polygon fill=\"#edb22c\" stroke=\"#edb22c\" points=\"882.2,-881.5 892.2,-878 882.2,-874.5 882.2,-881.5\"/>\n",
       "</g>\n",
       "<!-- clusterphase_preferenceInputse2__item -->\n",
       "<g id=\"node9\" class=\"node\">\n",
       "<title>clusterphase_preferenceInputse2__item</title>\n",
       "<ellipse fill=\"#edb22c\" stroke=\"#edb22c\" cx=\"87.38\" cy=\"-379\" rx=\"46.96\" ry=\"18\"/>\n",
       "<text text-anchor=\"middle\" x=\"87.38\" y=\"-373.2\" font-family=\"Helvetica,sans-Serif\" font-size=\"14.00\">e2__item</text>\n",
       "</g>\n",
       "<!-- clusterphase_preferencee2Inputsitem -->\n",
       "<g id=\"node47\" class=\"node\">\n",
       "<title>clusterphase_preferencee2Inputsitem</title>\n",
       "<ellipse fill=\"#edb22c\" stroke=\"#edb22c\" cx=\"921.59\" cy=\"-364\" rx=\"27.46\" ry=\"18\"/>\n",
       "<text text-anchor=\"middle\" x=\"921.59\" y=\"-358.2\" font-family=\"Helvetica,sans-Serif\" font-size=\"14.00\">item</text>\n",
       "</g>\n",
       "<!-- clusterphase_preferenceInputse2__item&#45;&gt;clusterphase_preferencee2Inputsitem -->\n",
       "<g id=\"edge30\" class=\"edge\">\n",
       "<title>clusterphase_preferenceInputse2__item&#45;&gt;clusterphase_preferencee2Inputsitem</title>\n",
       "<path fill=\"none\" stroke=\"#edb22c\" d=\"M134.6,-378.17C208.86,-376.83 361.81,-374.07 513.21,-371.34\"/>\n",
       "<path fill=\"none\" stroke=\"#edb22c\" d=\"M513.21,-371.34C664.61,-368.61 814.48,-365.91 882.57,-364.69\"/>\n",
       "<polygon fill=\"#edb22c\" stroke=\"#edb22c\" points=\"882.54,-368.19 892.48,-364.51 882.42,-361.19 882.54,-368.19\"/>\n",
       "</g>\n",
       "<!-- clusterphase_preferenceOutputscompare__sub -->\n",
       "<g id=\"node11\" class=\"node\">\n",
       "<title>clusterphase_preferenceOutputscompare__sub</title>\n",
       "<ellipse fill=\"#edb22c\" stroke=\"#edb22c\" cx=\"1778.1\" cy=\"-237\" rx=\"68.89\" ry=\"18\"/>\n",
       "<text text-anchor=\"middle\" x=\"1778.1\" y=\"-231.2\" font-family=\"Helvetica,sans-Serif\" font-size=\"14.00\">compare__sub</text>\n",
       "</g>\n",
       "<!-- clusterphase_preferenceelementInputsrun -->\n",
       "<g id=\"node12\" class=\"node\">\n",
       "<title>clusterphase_preferenceelementInputsrun</title>\n",
       "<polygon fill=\"#21bfd8\" stroke=\"#21bfd8\" points=\"281.12,-552 239.12,-552 239.12,-528 281.12,-528 293.12,-540 281.12,-552\"/>\n",
       "<text text-anchor=\"middle\" x=\"266.12\" y=\"-534.2\" font-family=\"Helvetica,sans-Serif\" font-size=\"14.00\">run</text>\n",
       "</g>\n",
       "<!-- clusterphase_preferenceelementOutputsran -->\n",
       "<g id=\"node15\" class=\"node\">\n",
       "<title>clusterphase_preferenceelementOutputsran</title>\n",
       "<polygon fill=\"#21bfd8\" stroke=\"#21bfd8\" points=\"439.85,-552 397.85,-552 397.85,-528 439.85,-528 451.85,-540 439.85,-552\"/>\n",
       "<text text-anchor=\"middle\" x=\"424.85\" y=\"-534.2\" font-family=\"Helvetica,sans-Serif\" font-size=\"14.00\">ran</text>\n",
       "</g>\n",
       "<!-- clusterphase_preferenceelementInputsrun&#45;&gt;clusterphase_preferenceelementOutputsran -->\n",
       "<!-- clusterphase_preferenceelementInputsaccumulate_and_run -->\n",
       "<g id=\"node13\" class=\"node\">\n",
       "<title>clusterphase_preferenceelementInputsaccumulate_and_run</title>\n",
       "<polygon fill=\"#21bfd8\" stroke=\"#21bfd8\" points=\"325.5,-498 194.75,-498 194.75,-474 325.5,-474 337.5,-486 325.5,-498\"/>\n",
       "<text text-anchor=\"middle\" x=\"266.12\" y=\"-480.2\" font-family=\"Helvetica,sans-Serif\" font-size=\"14.00\">accumulate_and_run</text>\n",
       "</g>\n",
       "<!-- clusterphase_preferenceelementOutputsuser_input -->\n",
       "<g id=\"node16\" class=\"node\">\n",
       "<title>clusterphase_preferenceelementOutputsuser_input</title>\n",
       "<ellipse fill=\"#edb22c\" stroke=\"#edb22c\" cx=\"424.85\" cy=\"-486\" rx=\"51.35\" ry=\"18\"/>\n",
       "<text text-anchor=\"middle\" x=\"424.85\" y=\"-480.2\" font-family=\"Helvetica,sans-Serif\" font-size=\"14.00\">user_input</text>\n",
       "</g>\n",
       "<!-- clusterphase_preferencemin_phase1Inputselement -->\n",
       "<g id=\"node19\" class=\"node\">\n",
       "<title>clusterphase_preferencemin_phase1Inputselement</title>\n",
       "<ellipse fill=\"#edb22c\" stroke=\"#edb22c\" cx=\"600.68\" cy=\"-564\" rx=\"56.71\" ry=\"18\"/>\n",
       "<text text-anchor=\"middle\" x=\"600.68\" y=\"-558.2\" font-family=\"Helvetica,sans-Serif\" font-size=\"14.00\">element: str</text>\n",
       "</g>\n",
       "<!-- clusterphase_preferenceelementOutputsuser_input&#45;&gt;clusterphase_preferencemin_phase1Inputselement -->\n",
       "<g id=\"edge12\" class=\"edge\">\n",
       "<title>clusterphase_preferenceelementOutputsuser_input&#45;&gt;clusterphase_preferencemin_phase1Inputselement</title>\n",
       "<path fill=\"none\" stroke=\"#edb22c\" d=\"M460.09,-499.51C470.46,-503.71 481.83,-508.44 492.19,-513 497.99,-515.55 503.94,-518.23 509.92,-520.95\"/>\n",
       "<path fill=\"none\" stroke=\"#edb22c\" d=\"M509.92,-520.95C526.77,-528.63 543.88,-536.74 558.58,-543.83\"/>\n",
       "<polygon fill=\"#edb22c\" stroke=\"#edb22c\" points=\"556.96,-546.94 567.49,-548.14 560.01,-540.64 556.96,-546.94\"/>\n",
       "</g>\n",
       "<!-- clusterphase_preferencemin_phase2Inputselement -->\n",
       "<g id=\"node27\" class=\"node\">\n",
       "<title>clusterphase_preferencemin_phase2Inputselement</title>\n",
       "<ellipse fill=\"#edb22c\" stroke=\"#edb22c\" cx=\"600.68\" cy=\"-183\" rx=\"56.71\" ry=\"18\"/>\n",
       "<text text-anchor=\"middle\" x=\"600.68\" y=\"-177.2\" font-family=\"Helvetica,sans-Serif\" font-size=\"14.00\">element: str</text>\n",
       "</g>\n",
       "<!-- clusterphase_preferenceelementOutputsuser_input&#45;&gt;clusterphase_preferencemin_phase2Inputselement -->\n",
       "<g id=\"edge13\" class=\"edge\">\n",
       "<title>clusterphase_preferenceelementOutputsuser_input&#45;&gt;clusterphase_preferencemin_phase2Inputselement</title>\n",
       "<path fill=\"none\" stroke=\"#edb22c\" d=\"M430.83,-467.89C438.25,-440.86 453.03,-386.91 468.72,-328.78\"/>\n",
       "<path fill=\"none\" stroke=\"#edb22c\" d=\"M468.72,-328.78C476.59,-299.61 484.68,-269.4 492.19,-241 495.83,-227.24 490.19,-220.12 500.19,-210 509.53,-200.55 521.81,-194.31 534.55,-190.21\"/>\n",
       "<polygon fill=\"#edb22c\" stroke=\"#edb22c\" points=\"535.13,-193.68 543.84,-187.65 533.27,-186.93 535.13,-193.68\"/>\n",
       "</g>\n",
       "<!-- clusterphase_preferencemin_phase1Inputsrun -->\n",
       "<g id=\"node17\" class=\"node\">\n",
       "<title>clusterphase_preferencemin_phase1Inputsrun</title>\n",
       "<polygon fill=\"#21bfd8\" stroke=\"#21bfd8\" points=\"615.68,-792 573.68,-792 573.68,-768 615.68,-768 627.68,-780 615.68,-792\"/>\n",
       "<text text-anchor=\"middle\" x=\"600.68\" y=\"-774.2\" font-family=\"Helvetica,sans-Serif\" font-size=\"14.00\">run</text>\n",
       "</g>\n",
       "<!-- clusterphase_preferencemin_phase1Outputsran -->\n",
       "<g id=\"node22\" class=\"node\">\n",
       "<title>clusterphase_preferencemin_phase1Outputsran</title>\n",
       "<polygon fill=\"#21bfd8\" stroke=\"#21bfd8\" points=\"780.7,-792 738.7,-792 738.7,-768 780.7,-768 792.7,-780 780.7,-792\"/>\n",
       "<text text-anchor=\"middle\" x=\"765.7\" y=\"-774.2\" font-family=\"Helvetica,sans-Serif\" font-size=\"14.00\">ran</text>\n",
       "</g>\n",
       "<!-- clusterphase_preferencemin_phase1Inputsrun&#45;&gt;clusterphase_preferencemin_phase1Outputsran -->\n",
       "<!-- clusterphase_preferencemin_phase1Inputsaccumulate_and_run -->\n",
       "<g id=\"node18\" class=\"node\">\n",
       "<title>clusterphase_preferencemin_phase1Inputsaccumulate_and_run</title>\n",
       "<polygon fill=\"#21bfd8\" stroke=\"#21bfd8\" points=\"660.06,-738 529.31,-738 529.31,-714 660.06,-714 672.06,-726 660.06,-738\"/>\n",
       "<text text-anchor=\"middle\" x=\"600.68\" y=\"-720.2\" font-family=\"Helvetica,sans-Serif\" font-size=\"14.00\">accumulate_and_run</text>\n",
       "</g>\n",
       "<!-- clusterphase_preferencemin_phase1Outputsstructure -->\n",
       "<g id=\"node23\" class=\"node\">\n",
       "<title>clusterphase_preferencemin_phase1Outputsstructure</title>\n",
       "<ellipse fill=\"#edb22c\" stroke=\"#edb22c\" cx=\"765.7\" cy=\"-672\" rx=\"44.52\" ry=\"18\"/>\n",
       "<text text-anchor=\"middle\" x=\"765.7\" y=\"-666.2\" font-family=\"Helvetica,sans-Serif\" font-size=\"14.00\">structure</text>\n",
       "</g>\n",
       "<!-- clusterphase_preferencen1Inputsobj -->\n",
       "<g id=\"node41\" class=\"node\">\n",
       "<title>clusterphase_preferencen1Inputsobj</title>\n",
       "<ellipse fill=\"#edb22c\" stroke=\"#edb22c\" cx=\"921.59\" cy=\"-594\" rx=\"27\" ry=\"18\"/>\n",
       "<text text-anchor=\"middle\" x=\"921.59\" y=\"-588.2\" font-family=\"Helvetica,sans-Serif\" font-size=\"14.00\">obj</text>\n",
       "</g>\n",
       "<!-- clusterphase_preferencemin_phase1Outputsstructure&#45;&gt;clusterphase_preferencen1Inputsobj -->\n",
       "<g id=\"edge14\" class=\"edge\">\n",
       "<title>clusterphase_preferencemin_phase1Outputsstructure&#45;&gt;clusterphase_preferencen1Inputsobj</title>\n",
       "<path fill=\"none\" stroke=\"#edb22c\" d=\"M785.02,-655.39C797.28,-644.96 814.24,-631.78 831.31,-622.54\"/>\n",
       "<path fill=\"none\" stroke=\"#edb22c\" d=\"M831.31,-622.54C832.28,-622.01 833.25,-621.5 834.22,-621 849.96,-612.91 868.57,-606.71 884.48,-602.3\"/>\n",
       "<polygon fill=\"#edb22c\" stroke=\"#edb22c\" points=\"885.26,-605.72 894.05,-599.8 883.49,-598.95 885.26,-605.72\"/>\n",
       "</g>\n",
       "<!-- clusterphase_preferencemin_phase1Outputsenergy -->\n",
       "<g id=\"node24\" class=\"node\">\n",
       "<title>clusterphase_preferencemin_phase1Outputsenergy</title>\n",
       "<ellipse fill=\"#edb22c\" stroke=\"#edb22c\" cx=\"765.7\" cy=\"-726\" rx=\"37.21\" ry=\"18\"/>\n",
       "<text text-anchor=\"middle\" x=\"765.7\" y=\"-720.2\" font-family=\"Helvetica,sans-Serif\" font-size=\"14.00\">energy</text>\n",
       "</g>\n",
       "<!-- clusterphase_preferencee1Inputsobj -->\n",
       "<g id=\"node35\" class=\"node\">\n",
       "<title>clusterphase_preferencee1Inputsobj</title>\n",
       "<ellipse fill=\"#edb22c\" stroke=\"#edb22c\" cx=\"921.59\" cy=\"-824\" rx=\"27\" ry=\"18\"/>\n",
       "<text text-anchor=\"middle\" x=\"921.59\" y=\"-818.2\" font-family=\"Helvetica,sans-Serif\" font-size=\"14.00\">obj</text>\n",
       "</g>\n",
       "<!-- clusterphase_preferencemin_phase1Outputsenergy&#45;&gt;clusterphase_preferencee1Inputsobj -->\n",
       "<g id=\"edge15\" class=\"edge\">\n",
       "<title>clusterphase_preferencemin_phase1Outputsenergy&#45;&gt;clusterphase_preferencee1Inputsobj</title>\n",
       "<path fill=\"none\" stroke=\"#edb22c\" d=\"M795.2,-737.41C805.24,-741.82 816.46,-747.21 826.22,-753 833.61,-757.39 841.12,-762.24 848.5,-767.3\"/>\n",
       "<path fill=\"none\" stroke=\"#edb22c\" d=\"M848.5,-767.3C865.96,-779.25 882.72,-792.3 895.68,-802.87\"/>\n",
       "<polygon fill=\"#edb22c\" stroke=\"#edb22c\" points=\"893.22,-805.37 903.16,-809.04 897.68,-799.98 893.22,-805.37\"/>\n",
       "</g>\n",
       "<!-- clusterphase_preferencemin_phase2Inputsrun -->\n",
       "<g id=\"node25\" class=\"node\">\n",
       "<title>clusterphase_preferencemin_phase2Inputsrun</title>\n",
       "<polygon fill=\"#21bfd8\" stroke=\"#21bfd8\" points=\"615.68,-303 573.68,-303 573.68,-279 615.68,-279 627.68,-291 615.68,-303\"/>\n",
       "<text text-anchor=\"middle\" x=\"600.68\" y=\"-285.2\" font-family=\"Helvetica,sans-Serif\" font-size=\"14.00\">run</text>\n",
       "</g>\n",
       "<!-- clusterphase_preferencemin_phase2Outputsran -->\n",
       "<g id=\"node30\" class=\"node\">\n",
       "<title>clusterphase_preferencemin_phase2Outputsran</title>\n",
       "<polygon fill=\"#21bfd8\" stroke=\"#21bfd8\" points=\"780.7,-303 738.7,-303 738.7,-279 780.7,-279 792.7,-291 780.7,-303\"/>\n",
       "<text text-anchor=\"middle\" x=\"765.7\" y=\"-285.2\" font-family=\"Helvetica,sans-Serif\" font-size=\"14.00\">ran</text>\n",
       "</g>\n",
       "<!-- clusterphase_preferencemin_phase2Inputsrun&#45;&gt;clusterphase_preferencemin_phase2Outputsran -->\n",
       "<!-- clusterphase_preferencemin_phase2Inputsaccumulate_and_run -->\n",
       "<g id=\"node26\" class=\"node\">\n",
       "<title>clusterphase_preferencemin_phase2Inputsaccumulate_and_run</title>\n",
       "<polygon fill=\"#21bfd8\" stroke=\"#21bfd8\" points=\"660.06,-249 529.31,-249 529.31,-225 660.06,-225 672.06,-237 660.06,-249\"/>\n",
       "<text text-anchor=\"middle\" x=\"600.68\" y=\"-231.2\" font-family=\"Helvetica,sans-Serif\" font-size=\"14.00\">accumulate_and_run</text>\n",
       "</g>\n",
       "<!-- clusterphase_preferencemin_phase2Outputsstructure -->\n",
       "<g id=\"node31\" class=\"node\">\n",
       "<title>clusterphase_preferencemin_phase2Outputsstructure</title>\n",
       "<ellipse fill=\"#edb22c\" stroke=\"#edb22c\" cx=\"765.7\" cy=\"-183\" rx=\"44.52\" ry=\"18\"/>\n",
       "<text text-anchor=\"middle\" x=\"765.7\" y=\"-177.2\" font-family=\"Helvetica,sans-Serif\" font-size=\"14.00\">structure</text>\n",
       "</g>\n",
       "<!-- clusterphase_preferencen2Inputsobj -->\n",
       "<g id=\"node52\" class=\"node\">\n",
       "<title>clusterphase_preferencen2Inputsobj</title>\n",
       "<ellipse fill=\"#edb22c\" stroke=\"#edb22c\" cx=\"921.59\" cy=\"-80\" rx=\"27\" ry=\"18\"/>\n",
       "<text text-anchor=\"middle\" x=\"921.59\" y=\"-74.2\" font-family=\"Helvetica,sans-Serif\" font-size=\"14.00\">obj</text>\n",
       "</g>\n",
       "<!-- clusterphase_preferencemin_phase2Outputsstructure&#45;&gt;clusterphase_preferencen2Inputsobj -->\n",
       "<g id=\"edge16\" class=\"edge\">\n",
       "<title>clusterphase_preferencemin_phase2Outputsstructure&#45;&gt;clusterphase_preferencen2Inputsobj</title>\n",
       "<path fill=\"none\" stroke=\"#edb22c\" d=\"M778.05,-165.42C787.99,-151.15 803.7,-130.98 822.27,-115.77\"/>\n",
       "<path fill=\"none\" stroke=\"#edb22c\" d=\"M822.27,-115.77C826.14,-112.6 830.13,-109.64 834.22,-107 849.08,-97.39 867.59,-91.01 883.66,-86.88\"/>\n",
       "<polygon fill=\"#edb22c\" stroke=\"#edb22c\" points=\"884.43,-90.29 893.37,-84.6 882.83,-83.48 884.43,-90.29\"/>\n",
       "</g>\n",
       "<!-- clusterphase_preferencemin_phase2Outputsenergy -->\n",
       "<g id=\"node32\" class=\"node\">\n",
       "<title>clusterphase_preferencemin_phase2Outputsenergy</title>\n",
       "<ellipse fill=\"#edb22c\" stroke=\"#edb22c\" cx=\"765.7\" cy=\"-237\" rx=\"37.21\" ry=\"18\"/>\n",
       "<text text-anchor=\"middle\" x=\"765.7\" y=\"-231.2\" font-family=\"Helvetica,sans-Serif\" font-size=\"14.00\">energy</text>\n",
       "</g>\n",
       "<!-- clusterphase_preferencee2Inputsobj -->\n",
       "<g id=\"node46\" class=\"node\">\n",
       "<title>clusterphase_preferencee2Inputsobj</title>\n",
       "<ellipse fill=\"#edb22c\" stroke=\"#edb22c\" cx=\"921.59\" cy=\"-310\" rx=\"27\" ry=\"18\"/>\n",
       "<text text-anchor=\"middle\" x=\"921.59\" y=\"-304.2\" font-family=\"Helvetica,sans-Serif\" font-size=\"14.00\">obj</text>\n",
       "</g>\n",
       "<!-- clusterphase_preferencemin_phase2Outputsenergy&#45;&gt;clusterphase_preferencee2Inputsobj -->\n",
       "<g id=\"edge17\" class=\"edge\">\n",
       "<title>clusterphase_preferencemin_phase2Outputsenergy&#45;&gt;clusterphase_preferencee2Inputsobj</title>\n",
       "<path fill=\"none\" stroke=\"#edb22c\" d=\"M793.73,-249.07C803.94,-253.68 815.64,-259.03 826.22,-264 831.37,-266.43 836.68,-268.94 842.02,-271.5\"/>\n",
       "<path fill=\"none\" stroke=\"#edb22c\" d=\"M842.02,-271.5C858.52,-279.39 875.36,-287.62 889.2,-294.43\"/>\n",
       "<polygon fill=\"#edb22c\" stroke=\"#edb22c\" points=\"887.44,-297.46 897.95,-298.75 890.53,-291.18 887.44,-297.46\"/>\n",
       "</g>\n",
       "<!-- clusterphase_preferencee1Inputsrun -->\n",
       "<g id=\"node33\" class=\"node\">\n",
       "<title>clusterphase_preferencee1Inputsrun</title>\n",
       "<polygon fill=\"#21bfd8\" stroke=\"#21bfd8\" points=\"936.59,-998 894.59,-998 894.59,-974 936.59,-974 948.59,-986 936.59,-998\"/>\n",
       "<text text-anchor=\"middle\" x=\"921.59\" y=\"-980.2\" font-family=\"Helvetica,sans-Serif\" font-size=\"14.00\">run</text>\n",
       "</g>\n",
       "<!-- clusterphase_preferencee1Outputsran -->\n",
       "<g id=\"node37\" class=\"node\">\n",
       "<title>clusterphase_preferencee1Outputsran</title>\n",
       "<polygon fill=\"#21bfd8\" stroke=\"#21bfd8\" points=\"1083.61,-944 1041.61,-944 1041.61,-920 1083.61,-920 1095.61,-932 1083.61,-944\"/>\n",
       "<text text-anchor=\"middle\" x=\"1068.61\" y=\"-926.2\" font-family=\"Helvetica,sans-Serif\" font-size=\"14.00\">ran</text>\n",
       "</g>\n",
       "<!-- clusterphase_preferencee1Inputsrun&#45;&gt;clusterphase_preferencee1Outputsran -->\n",
       "<!-- clusterphase_preferencee1Inputsaccumulate_and_run -->\n",
       "<g id=\"node34\" class=\"node\">\n",
       "<title>clusterphase_preferencee1Inputsaccumulate_and_run</title>\n",
       "<polygon fill=\"#21bfd8\" stroke=\"#21bfd8\" points=\"980.97,-944 850.22,-944 850.22,-920 980.97,-920 992.97,-932 980.97,-944\"/>\n",
       "<text text-anchor=\"middle\" x=\"921.59\" y=\"-926.2\" font-family=\"Helvetica,sans-Serif\" font-size=\"14.00\">accumulate_and_run</text>\n",
       "</g>\n",
       "<!-- clusterphase_preferencee1Outputsgetitem -->\n",
       "<g id=\"node38\" class=\"node\">\n",
       "<title>clusterphase_preferencee1Outputsgetitem</title>\n",
       "<ellipse fill=\"#edb22c\" stroke=\"#edb22c\" cx=\"1068.61\" cy=\"-878\" rx=\"39.65\" ry=\"18\"/>\n",
       "<text text-anchor=\"middle\" x=\"1068.61\" y=\"-872.2\" font-family=\"Helvetica,sans-Serif\" font-size=\"14.00\">getitem</text>\n",
       "</g>\n",
       "<!-- clusterphase_preferencee1__getitem_Divide_n1__lenInputsobj -->\n",
       "<g id=\"node63\" class=\"node\">\n",
       "<title>clusterphase_preferencee1__getitem_Divide_n1__lenInputsobj</title>\n",
       "<ellipse fill=\"#edb22c\" stroke=\"#edb22c\" cx=\"1219.64\" cy=\"-702\" rx=\"27\" ry=\"18\"/>\n",
       "<text text-anchor=\"middle\" x=\"1219.64\" y=\"-696.2\" font-family=\"Helvetica,sans-Serif\" font-size=\"14.00\">obj</text>\n",
       "</g>\n",
       "<!-- clusterphase_preferencee1Outputsgetitem&#45;&gt;clusterphase_preferencee1__getitem_Divide_n1__lenInputsobj -->\n",
       "<g id=\"edge18\" class=\"edge\">\n",
       "<title>clusterphase_preferencee1Outputsgetitem&#45;&gt;clusterphase_preferencee1__getitem_Divide_n1__lenInputsobj</title>\n",
       "<path fill=\"none\" stroke=\"#edb22c\" d=\"M1078.26,-860.35C1088.31,-839.49 1105.27,-803.24 1118.97,-768.7\"/>\n",
       "<path fill=\"none\" stroke=\"#edb22c\" d=\"M1118.97,-768.7C1120.8,-764.09 1122.57,-759.51 1124.26,-755 1128.5,-743.68 1123.73,-737.57 1132.26,-729 1145.23,-715.97 1164.39,-709.21 1181.37,-705.71\"/>\n",
       "<polygon fill=\"#edb22c\" stroke=\"#edb22c\" points=\"1181.91,-709.17 1191.18,-704.03 1180.73,-702.27 1181.91,-709.17\"/>\n",
       "</g>\n",
       "<!-- clusterphase_preferencen1Inputsrun -->\n",
       "<g id=\"node39\" class=\"node\">\n",
       "<title>clusterphase_preferencen1Inputsrun</title>\n",
       "<polygon fill=\"#21bfd8\" stroke=\"#21bfd8\" points=\"936.59,-714 894.59,-714 894.59,-690 936.59,-690 948.59,-702 936.59,-714\"/>\n",
       "<text text-anchor=\"middle\" x=\"921.59\" y=\"-696.2\" font-family=\"Helvetica,sans-Serif\" font-size=\"14.00\">run</text>\n",
       "</g>\n",
       "<!-- clusterphase_preferencen1Outputsran -->\n",
       "<g id=\"node42\" class=\"node\">\n",
       "<title>clusterphase_preferencen1Outputsran</title>\n",
       "<polygon fill=\"#21bfd8\" stroke=\"#21bfd8\" points=\"1083.61,-714 1041.61,-714 1041.61,-690 1083.61,-690 1095.61,-702 1083.61,-714\"/>\n",
       "<text text-anchor=\"middle\" x=\"1068.61\" y=\"-696.2\" font-family=\"Helvetica,sans-Serif\" font-size=\"14.00\">ran</text>\n",
       "</g>\n",
       "<!-- clusterphase_preferencen1Inputsrun&#45;&gt;clusterphase_preferencen1Outputsran -->\n",
       "<!-- clusterphase_preferencen1Inputsaccumulate_and_run -->\n",
       "<g id=\"node40\" class=\"node\">\n",
       "<title>clusterphase_preferencen1Inputsaccumulate_and_run</title>\n",
       "<polygon fill=\"#21bfd8\" stroke=\"#21bfd8\" points=\"980.97,-660 850.22,-660 850.22,-636 980.97,-636 992.97,-648 980.97,-660\"/>\n",
       "<text text-anchor=\"middle\" x=\"921.59\" y=\"-642.2\" font-family=\"Helvetica,sans-Serif\" font-size=\"14.00\">accumulate_and_run</text>\n",
       "</g>\n",
       "<!-- clusterphase_preferencen1Outputslen -->\n",
       "<g id=\"node43\" class=\"node\">\n",
       "<title>clusterphase_preferencen1Outputslen</title>\n",
       "<ellipse fill=\"#edb22c\" stroke=\"#edb22c\" cx=\"1068.61\" cy=\"-648\" rx=\"27\" ry=\"18\"/>\n",
       "<text text-anchor=\"middle\" x=\"1068.61\" y=\"-642.2\" font-family=\"Helvetica,sans-Serif\" font-size=\"14.00\">len</text>\n",
       "</g>\n",
       "<!-- clusterphase_preferencee1__getitem_Divide_n1__lenInputsother -->\n",
       "<g id=\"node64\" class=\"node\">\n",
       "<title>clusterphase_preferencee1__getitem_Divide_n1__lenInputsother</title>\n",
       "<ellipse fill=\"#edb22c\" stroke=\"#edb22c\" cx=\"1219.64\" cy=\"-648\" rx=\"30.38\" ry=\"18\"/>\n",
       "<text text-anchor=\"middle\" x=\"1219.64\" y=\"-642.2\" font-family=\"Helvetica,sans-Serif\" font-size=\"14.00\">other</text>\n",
       "</g>\n",
       "<!-- clusterphase_preferencen1Outputslen&#45;&gt;clusterphase_preferencee1__getitem_Divide_n1__lenInputsother -->\n",
       "<g id=\"edge19\" class=\"edge\">\n",
       "<title>clusterphase_preferencen1Outputslen&#45;&gt;clusterphase_preferencee1__getitem_Divide_n1__lenInputsother</title>\n",
       "<path fill=\"none\" stroke=\"#edb22c\" d=\"M1095.91,-648C1107.18,-648 1121.03,-648 1135.31,-648\"/>\n",
       "<path fill=\"none\" stroke=\"#edb22c\" d=\"M1135.31,-648C1149.59,-648 1164.31,-648 1177.34,-648\"/>\n",
       "<polygon fill=\"#edb22c\" stroke=\"#edb22c\" points=\"1177.25,-651.5 1187.25,-648 1177.25,-644.5 1177.25,-651.5\"/>\n",
       "</g>\n",
       "<!-- clusterphase_preferencee2Inputsrun -->\n",
       "<g id=\"node44\" class=\"node\">\n",
       "<title>clusterphase_preferencee2Inputsrun</title>\n",
       "<polygon fill=\"#21bfd8\" stroke=\"#21bfd8\" points=\"936.59,-484 894.59,-484 894.59,-460 936.59,-460 948.59,-472 936.59,-484\"/>\n",
       "<text text-anchor=\"middle\" x=\"921.59\" y=\"-466.2\" font-family=\"Helvetica,sans-Serif\" font-size=\"14.00\">run</text>\n",
       "</g>\n",
       "<!-- clusterphase_preferencee2Outputsran -->\n",
       "<g id=\"node48\" class=\"node\">\n",
       "<title>clusterphase_preferencee2Outputsran</title>\n",
       "<polygon fill=\"#21bfd8\" stroke=\"#21bfd8\" points=\"1083.61,-430 1041.61,-430 1041.61,-406 1083.61,-406 1095.61,-418 1083.61,-430\"/>\n",
       "<text text-anchor=\"middle\" x=\"1068.61\" y=\"-412.2\" font-family=\"Helvetica,sans-Serif\" font-size=\"14.00\">ran</text>\n",
       "</g>\n",
       "<!-- clusterphase_preferencee2Inputsrun&#45;&gt;clusterphase_preferencee2Outputsran -->\n",
       "<!-- clusterphase_preferencee2Inputsaccumulate_and_run -->\n",
       "<g id=\"node45\" class=\"node\">\n",
       "<title>clusterphase_preferencee2Inputsaccumulate_and_run</title>\n",
       "<polygon fill=\"#21bfd8\" stroke=\"#21bfd8\" points=\"980.97,-430 850.22,-430 850.22,-406 980.97,-406 992.97,-418 980.97,-430\"/>\n",
       "<text text-anchor=\"middle\" x=\"921.59\" y=\"-412.2\" font-family=\"Helvetica,sans-Serif\" font-size=\"14.00\">accumulate_and_run</text>\n",
       "</g>\n",
       "<!-- clusterphase_preferencee2Outputsgetitem -->\n",
       "<g id=\"node49\" class=\"node\">\n",
       "<title>clusterphase_preferencee2Outputsgetitem</title>\n",
       "<ellipse fill=\"#edb22c\" stroke=\"#edb22c\" cx=\"1068.61\" cy=\"-364\" rx=\"39.65\" ry=\"18\"/>\n",
       "<text text-anchor=\"middle\" x=\"1068.61\" y=\"-358.2\" font-family=\"Helvetica,sans-Serif\" font-size=\"14.00\">getitem</text>\n",
       "</g>\n",
       "<!-- clusterphase_preferencee2__getitem_Divide_n2__lenInputsobj -->\n",
       "<g id=\"node57\" class=\"node\">\n",
       "<title>clusterphase_preferencee2__getitem_Divide_n2__lenInputsobj</title>\n",
       "<ellipse fill=\"#edb22c\" stroke=\"#edb22c\" cx=\"1219.64\" cy=\"-249\" rx=\"27\" ry=\"18\"/>\n",
       "<text text-anchor=\"middle\" x=\"1219.64\" y=\"-243.2\" font-family=\"Helvetica,sans-Serif\" font-size=\"14.00\">obj</text>\n",
       "</g>\n",
       "<!-- clusterphase_preferencee2Outputsgetitem&#45;&gt;clusterphase_preferencee2__getitem_Divide_n2__lenInputsobj -->\n",
       "<g id=\"edge20\" class=\"edge\">\n",
       "<title>clusterphase_preferencee2Outputsgetitem&#45;&gt;clusterphase_preferencee2__getitem_Divide_n2__lenInputsobj</title>\n",
       "<path fill=\"none\" stroke=\"#edb22c\" d=\"M1077.87,-346.15C1085.97,-330.18 1099.75,-306.54 1117.96,-288.32\"/>\n",
       "<path fill=\"none\" stroke=\"#edb22c\" d=\"M1117.96,-288.32C1122.47,-283.82 1127.24,-279.64 1132.26,-276 1146.83,-265.43 1165.66,-258.91 1182.01,-254.94\"/>\n",
       "<polygon fill=\"#edb22c\" stroke=\"#edb22c\" points=\"1182.36,-258.45 1191.38,-252.9 1180.87,-251.61 1182.36,-258.45\"/>\n",
       "</g>\n",
       "<!-- clusterphase_preferencen2Inputsrun -->\n",
       "<g id=\"node50\" class=\"node\">\n",
       "<title>clusterphase_preferencen2Inputsrun</title>\n",
       "<polygon fill=\"#21bfd8\" stroke=\"#21bfd8\" points=\"936.59,-200 894.59,-200 894.59,-176 936.59,-176 948.59,-188 936.59,-200\"/>\n",
       "<text text-anchor=\"middle\" x=\"921.59\" y=\"-182.2\" font-family=\"Helvetica,sans-Serif\" font-size=\"14.00\">run</text>\n",
       "</g>\n",
       "<!-- clusterphase_preferencen2Outputsran -->\n",
       "<g id=\"node53\" class=\"node\">\n",
       "<title>clusterphase_preferencen2Outputsran</title>\n",
       "<polygon fill=\"#21bfd8\" stroke=\"#21bfd8\" points=\"1083.61,-200 1041.61,-200 1041.61,-176 1083.61,-176 1095.61,-188 1083.61,-200\"/>\n",
       "<text text-anchor=\"middle\" x=\"1068.61\" y=\"-182.2\" font-family=\"Helvetica,sans-Serif\" font-size=\"14.00\">ran</text>\n",
       "</g>\n",
       "<!-- clusterphase_preferencen2Inputsrun&#45;&gt;clusterphase_preferencen2Outputsran -->\n",
       "<!-- clusterphase_preferencen2Inputsaccumulate_and_run -->\n",
       "<g id=\"node51\" class=\"node\">\n",
       "<title>clusterphase_preferencen2Inputsaccumulate_and_run</title>\n",
       "<polygon fill=\"#21bfd8\" stroke=\"#21bfd8\" points=\"980.97,-146 850.22,-146 850.22,-122 980.97,-122 992.97,-134 980.97,-146\"/>\n",
       "<text text-anchor=\"middle\" x=\"921.59\" y=\"-128.2\" font-family=\"Helvetica,sans-Serif\" font-size=\"14.00\">accumulate_and_run</text>\n",
       "</g>\n",
       "<!-- clusterphase_preferencen2Outputslen -->\n",
       "<g id=\"node54\" class=\"node\">\n",
       "<title>clusterphase_preferencen2Outputslen</title>\n",
       "<ellipse fill=\"#edb22c\" stroke=\"#edb22c\" cx=\"1068.61\" cy=\"-134\" rx=\"27\" ry=\"18\"/>\n",
       "<text text-anchor=\"middle\" x=\"1068.61\" y=\"-128.2\" font-family=\"Helvetica,sans-Serif\" font-size=\"14.00\">len</text>\n",
       "</g>\n",
       "<!-- clusterphase_preferencee2__getitem_Divide_n2__lenInputsother -->\n",
       "<g id=\"node58\" class=\"node\">\n",
       "<title>clusterphase_preferencee2__getitem_Divide_n2__lenInputsother</title>\n",
       "<ellipse fill=\"#edb22c\" stroke=\"#edb22c\" cx=\"1219.64\" cy=\"-195\" rx=\"30.38\" ry=\"18\"/>\n",
       "<text text-anchor=\"middle\" x=\"1219.64\" y=\"-189.2\" font-family=\"Helvetica,sans-Serif\" font-size=\"14.00\">other</text>\n",
       "</g>\n",
       "<!-- clusterphase_preferencen2Outputslen&#45;&gt;clusterphase_preferencee2__getitem_Divide_n2__lenInputsother -->\n",
       "<g id=\"edge21\" class=\"edge\">\n",
       "<title>clusterphase_preferencen2Outputslen&#45;&gt;clusterphase_preferencee2__getitem_Divide_n2__lenInputsother</title>\n",
       "<path fill=\"none\" stroke=\"#edb22c\" d=\"M1092.25,-143.26C1104.4,-148.24 1120.2,-154.7 1136.49,-161.37\"/>\n",
       "<path fill=\"none\" stroke=\"#edb22c\" d=\"M1136.49,-161.37C1152.78,-168.04 1169.56,-174.91 1183.68,-180.69\"/>\n",
       "<polygon fill=\"#edb22c\" stroke=\"#edb22c\" points=\"1182.32,-183.92 1192.9,-184.47 1184.97,-177.44 1182.32,-183.92\"/>\n",
       "</g>\n",
       "<!-- clusterphase_preferencee2__getitem_Divide_n2__lenInputsrun -->\n",
       "<g id=\"node55\" class=\"node\">\n",
       "<title>clusterphase_preferencee2__getitem_Divide_n2__lenInputsrun</title>\n",
       "<polygon fill=\"#21bfd8\" stroke=\"#21bfd8\" points=\"1234.64,-369 1192.64,-369 1192.64,-345 1234.64,-345 1246.64,-357 1234.64,-369\"/>\n",
       "<text text-anchor=\"middle\" x=\"1219.64\" y=\"-351.2\" font-family=\"Helvetica,sans-Serif\" font-size=\"14.00\">run</text>\n",
       "</g>\n",
       "<!-- clusterphase_preferencee2__getitem_Divide_n2__lenOutputsran -->\n",
       "<g id=\"node59\" class=\"node\">\n",
       "<title>clusterphase_preferencee2__getitem_Divide_n2__lenOutputsran</title>\n",
       "<polygon fill=\"#21bfd8\" stroke=\"#21bfd8\" points=\"1378.73,-369 1336.73,-369 1336.73,-345 1378.73,-345 1390.73,-357 1378.73,-369\"/>\n",
       "<text text-anchor=\"middle\" x=\"1363.73\" y=\"-351.2\" font-family=\"Helvetica,sans-Serif\" font-size=\"14.00\">ran</text>\n",
       "</g>\n",
       "<!-- clusterphase_preferencee2__getitem_Divide_n2__lenInputsrun&#45;&gt;clusterphase_preferencee2__getitem_Divide_n2__lenOutputsran -->\n",
       "<!-- clusterphase_preferencee2__getitem_Divide_n2__lenInputsaccumulate_and_run -->\n",
       "<g id=\"node56\" class=\"node\">\n",
       "<title>clusterphase_preferencee2__getitem_Divide_n2__lenInputsaccumulate_and_run</title>\n",
       "<polygon fill=\"#21bfd8\" stroke=\"#21bfd8\" points=\"1279.01,-315 1148.26,-315 1148.26,-291 1279.01,-291 1291.01,-303 1279.01,-315\"/>\n",
       "<text text-anchor=\"middle\" x=\"1219.64\" y=\"-297.2\" font-family=\"Helvetica,sans-Serif\" font-size=\"14.00\">accumulate_and_run</text>\n",
       "</g>\n",
       "<!-- clusterphase_preferencee2__getitem_Divide_n2__lenOutputstruediv -->\n",
       "<g id=\"node60\" class=\"node\">\n",
       "<title>clusterphase_preferencee2__getitem_Divide_n2__lenOutputstruediv</title>\n",
       "<ellipse fill=\"#edb22c\" stroke=\"#edb22c\" cx=\"1363.73\" cy=\"-303\" rx=\"36.72\" ry=\"18\"/>\n",
       "<text text-anchor=\"middle\" x=\"1363.73\" y=\"-297.2\" font-family=\"Helvetica,sans-Serif\" font-size=\"14.00\">truediv</text>\n",
       "</g>\n",
       "<!-- clusterphase_preferencecompareInputsobj -->\n",
       "<g id=\"node69\" class=\"node\">\n",
       "<title>clusterphase_preferencecompareInputsobj</title>\n",
       "<ellipse fill=\"#edb22c\" stroke=\"#edb22c\" cx=\"1511.83\" cy=\"-303\" rx=\"27\" ry=\"18\"/>\n",
       "<text text-anchor=\"middle\" x=\"1511.83\" y=\"-297.2\" font-family=\"Helvetica,sans-Serif\" font-size=\"14.00\">obj</text>\n",
       "</g>\n",
       "<!-- clusterphase_preferencee2__getitem_Divide_n2__lenOutputstruediv&#45;&gt;clusterphase_preferencecompareInputsobj -->\n",
       "<g id=\"edge22\" class=\"edge\">\n",
       "<title>clusterphase_preferencee2__getitem_Divide_n2__lenOutputstruediv&#45;&gt;clusterphase_preferencecompareInputsobj</title>\n",
       "<path fill=\"none\" stroke=\"#edb22c\" d=\"M1400.85,-303C1411.88,-303 1424.43,-303 1437.02,-303\"/>\n",
       "<path fill=\"none\" stroke=\"#edb22c\" d=\"M1437.02,-303C1449.6,-303 1462.22,-303 1473.37,-303\"/>\n",
       "<polygon fill=\"#edb22c\" stroke=\"#edb22c\" points=\"1473.24,-306.5 1483.24,-303 1473.24,-299.5 1473.24,-306.5\"/>\n",
       "</g>\n",
       "<!-- clusterphase_preferencee1__getitem_Divide_n1__lenInputsrun -->\n",
       "<g id=\"node61\" class=\"node\">\n",
       "<title>clusterphase_preferencee1__getitem_Divide_n1__lenInputsrun</title>\n",
       "<polygon fill=\"#21bfd8\" stroke=\"#21bfd8\" points=\"1234.64,-822 1192.64,-822 1192.64,-798 1234.64,-798 1246.64,-810 1234.64,-822\"/>\n",
       "<text text-anchor=\"middle\" x=\"1219.64\" y=\"-804.2\" font-family=\"Helvetica,sans-Serif\" font-size=\"14.00\">run</text>\n",
       "</g>\n",
       "<!-- clusterphase_preferencee1__getitem_Divide_n1__lenOutputsran -->\n",
       "<g id=\"node65\" class=\"node\">\n",
       "<title>clusterphase_preferencee1__getitem_Divide_n1__lenOutputsran</title>\n",
       "<polygon fill=\"#21bfd8\" stroke=\"#21bfd8\" points=\"1378.73,-768 1336.73,-768 1336.73,-744 1378.73,-744 1390.73,-756 1378.73,-768\"/>\n",
       "<text text-anchor=\"middle\" x=\"1363.73\" y=\"-750.2\" font-family=\"Helvetica,sans-Serif\" font-size=\"14.00\">ran</text>\n",
       "</g>\n",
       "<!-- clusterphase_preferencee1__getitem_Divide_n1__lenInputsrun&#45;&gt;clusterphase_preferencee1__getitem_Divide_n1__lenOutputsran -->\n",
       "<!-- clusterphase_preferencee1__getitem_Divide_n1__lenInputsaccumulate_and_run -->\n",
       "<g id=\"node62\" class=\"node\">\n",
       "<title>clusterphase_preferencee1__getitem_Divide_n1__lenInputsaccumulate_and_run</title>\n",
       "<polygon fill=\"#21bfd8\" stroke=\"#21bfd8\" points=\"1279.01,-768 1148.26,-768 1148.26,-744 1279.01,-744 1291.01,-756 1279.01,-768\"/>\n",
       "<text text-anchor=\"middle\" x=\"1219.64\" y=\"-750.2\" font-family=\"Helvetica,sans-Serif\" font-size=\"14.00\">accumulate_and_run</text>\n",
       "</g>\n",
       "<!-- clusterphase_preferencee1__getitem_Divide_n1__lenOutputstruediv -->\n",
       "<g id=\"node66\" class=\"node\">\n",
       "<title>clusterphase_preferencee1__getitem_Divide_n1__lenOutputstruediv</title>\n",
       "<ellipse fill=\"#edb22c\" stroke=\"#edb22c\" cx=\"1363.73\" cy=\"-702\" rx=\"36.72\" ry=\"18\"/>\n",
       "<text text-anchor=\"middle\" x=\"1363.73\" y=\"-696.2\" font-family=\"Helvetica,sans-Serif\" font-size=\"14.00\">truediv</text>\n",
       "</g>\n",
       "<!-- clusterphase_preferencecompareInputsother -->\n",
       "<g id=\"node70\" class=\"node\">\n",
       "<title>clusterphase_preferencecompareInputsother</title>\n",
       "<ellipse fill=\"#edb22c\" stroke=\"#edb22c\" cx=\"1511.83\" cy=\"-357\" rx=\"30.38\" ry=\"18\"/>\n",
       "<text text-anchor=\"middle\" x=\"1511.83\" y=\"-351.2\" font-family=\"Helvetica,sans-Serif\" font-size=\"14.00\">other</text>\n",
       "</g>\n",
       "<!-- clusterphase_preferencee1__getitem_Divide_n1__lenOutputstruediv&#45;&gt;clusterphase_preferencecompareInputsother -->\n",
       "<g id=\"edge23\" class=\"edge\">\n",
       "<title>clusterphase_preferencee1__getitem_Divide_n1__lenOutputstruediv&#45;&gt;clusterphase_preferencecompareInputsother</title>\n",
       "<path fill=\"none\" stroke=\"#edb22c\" d=\"M1367.87,-683.9C1374.67,-644.81 1391.24,-550.2 1404.79,-477.59\"/>\n",
       "<path fill=\"none\" stroke=\"#edb22c\" d=\"M1404.79,-477.59C1414.32,-426.54 1422.35,-386.37 1424.45,-384 1436.07,-370.93 1453.92,-364.12 1470.38,-360.6\"/>\n",
       "<polygon fill=\"#edb22c\" stroke=\"#edb22c\" points=\"1470.73,-364.09 1479.97,-358.91 1469.51,-357.2 1470.73,-364.09\"/>\n",
       "</g>\n",
       "<!-- clusterphase_preferencecompareInputsrun -->\n",
       "<g id=\"node67\" class=\"node\">\n",
       "<title>clusterphase_preferencecompareInputsrun</title>\n",
       "<polygon fill=\"#21bfd8\" stroke=\"#21bfd8\" points=\"1526.83,-477 1484.83,-477 1484.83,-453 1526.83,-453 1538.83,-465 1526.83,-477\"/>\n",
       "<text text-anchor=\"middle\" x=\"1511.83\" y=\"-459.2\" font-family=\"Helvetica,sans-Serif\" font-size=\"14.00\">run</text>\n",
       "</g>\n",
       "<!-- clusterphase_preferencecompareOutputsran -->\n",
       "<g id=\"node71\" class=\"node\">\n",
       "<title>clusterphase_preferencecompareOutputsran</title>\n",
       "<polygon fill=\"#21bfd8\" stroke=\"#21bfd8\" points=\"1661.2,-423 1619.2,-423 1619.2,-399 1661.2,-399 1673.2,-411 1661.2,-423\"/>\n",
       "<text text-anchor=\"middle\" x=\"1646.2\" y=\"-405.2\" font-family=\"Helvetica,sans-Serif\" font-size=\"14.00\">ran</text>\n",
       "</g>\n",
       "<!-- clusterphase_preferencecompareInputsrun&#45;&gt;clusterphase_preferencecompareOutputsran -->\n",
       "<!-- clusterphase_preferencecompareInputsaccumulate_and_run -->\n",
       "<g id=\"node68\" class=\"node\">\n",
       "<title>clusterphase_preferencecompareInputsaccumulate_and_run</title>\n",
       "<polygon fill=\"#21bfd8\" stroke=\"#21bfd8\" points=\"1571.2,-423 1440.45,-423 1440.45,-399 1571.2,-399 1583.2,-411 1571.2,-423\"/>\n",
       "<text text-anchor=\"middle\" x=\"1511.83\" y=\"-405.2\" font-family=\"Helvetica,sans-Serif\" font-size=\"14.00\">accumulate_and_run</text>\n",
       "</g>\n",
       "<!-- clusterphase_preferencecompareOutputssub -->\n",
       "<g id=\"node72\" class=\"node\">\n",
       "<title>clusterphase_preferencecompareOutputssub</title>\n",
       "<ellipse fill=\"#edb22c\" stroke=\"#edb22c\" cx=\"1646.2\" cy=\"-357\" rx=\"27\" ry=\"18\"/>\n",
       "<text text-anchor=\"middle\" x=\"1646.2\" y=\"-351.2\" font-family=\"Helvetica,sans-Serif\" font-size=\"14.00\">sub</text>\n",
       "</g>\n",
       "<!-- clusterphase_preferencecompareOutputssub&#45;&gt;clusterphase_preferenceOutputscompare__sub -->\n",
       "<g id=\"edge31\" class=\"edge\">\n",
       "<title>clusterphase_preferencecompareOutputssub&#45;&gt;clusterphase_preferenceOutputscompare__sub</title>\n",
       "<path fill=\"none\" stroke=\"#edb22c\" d=\"M1662.87,-342.53C1673.6,-332.61 1688.69,-318.68 1704.38,-304.17\"/>\n",
       "<path fill=\"none\" stroke=\"#edb22c\" d=\"M1704.38,-304.17C1720.08,-289.67 1736.39,-274.6 1749.58,-262.42\"/>\n",
       "<polygon fill=\"#edb22c\" stroke=\"#edb22c\" points=\"1751.92,-265.02 1756.89,-255.67 1747.17,-259.88 1751.92,-265.02\"/>\n",
       "</g>\n",
       "</g>\n",
       "</svg>\n"
      ],
      "text/plain": [
       "<graphviz.graphs.Digraph at 0x1400f2fd0>"
      ]
     },
     "execution_count": 44,
     "metadata": {},
     "output_type": "execute_result"
    }
   ],
   "source": [
    "wf.draw(size=(10,10))"
   ]
  },
  {
   "cell_type": "code",
   "execution_count": 45,
   "id": "b51bef25-86c5-4d57-80c1-ab733e703caf",
   "metadata": {},
   "outputs": [
    {
     "name": "stdout",
     "output_type": "stream",
     "text": [
      "The job JUSTAJOBNAME was saved and received the ID: 9680\n"
     ]
    },
    {
     "data": {
      "application/vnd.jupyter.widget-view+json": {
       "model_id": "10bc7d78116d405f9445576999089d6e",
       "version_major": 2,
       "version_minor": 0
      },
      "text/plain": [
       "0it [00:00, ?it/s]"
      ]
     },
     "metadata": {},
     "output_type": "display_data"
    },
    {
     "name": "stdout",
     "output_type": "stream",
     "text": [
      "The job JUSTAJOBNAME was saved and received the ID: 9680\n"
     ]
    },
    {
     "data": {
      "application/vnd.jupyter.widget-view+json": {
       "model_id": "3a33a223220d475b805db9af950b068a",
       "version_major": 2,
       "version_minor": 0
      },
      "text/plain": [
       "0it [00:00, ?it/s]"
      ]
     },
     "metadata": {},
     "output_type": "display_data"
    },
    {
     "name": "stdout",
     "output_type": "stream",
     "text": [
      "Al: E(hcp) - E(fcc) = 1.17 eV/atom\n"
     ]
    }
   ],
   "source": [
    "out = wf(element=\"Al\", phase1=\"fcc\", phase2=\"hcp\", lattice_guess1=4, lattice_guess2=4)\n",
    "print(f\"{wf.inputs.element.value}: E({wf.inputs.phase2.value}) - E({wf.inputs.phase1.value}) = {out.compare__sub:.2f} eV/atom\")"
   ]
  },
  {
   "cell_type": "code",
   "execution_count": 46,
   "id": "091e2386-0081-436c-a736-23d019bd9b91",
   "metadata": {},
   "outputs": [
    {
     "name": "stderr",
     "output_type": "stream",
     "text": [
      "/Users/huber/work/pyiron/pyiron_workflow/pyiron_workflow/channels.py:171: UserWarning: The channel ran was not connected to accumulate_and_run, andthus could not disconnect from it.\n",
      "  warn(\n"
     ]
    },
    {
     "name": "stdout",
     "output_type": "stream",
     "text": [
      "The job JUSTAJOBNAME was saved and received the ID: 9680\n"
     ]
    },
    {
     "data": {
      "application/vnd.jupyter.widget-view+json": {
       "model_id": "5d2630241a0544b68deadcb144311159",
       "version_major": 2,
       "version_minor": 0
      },
      "text/plain": [
       "0it [00:00, ?it/s]"
      ]
     },
     "metadata": {},
     "output_type": "display_data"
    },
    {
     "name": "stdout",
     "output_type": "stream",
     "text": [
      "The job JUSTAJOBNAME was saved and received the ID: 9680\n"
     ]
    },
    {
     "data": {
      "application/vnd.jupyter.widget-view+json": {
       "model_id": "cf41692ecd294d789f9d62c90fc7713c",
       "version_major": 2,
       "version_minor": 0
      },
      "text/plain": [
       "0it [00:00, ?it/s]"
      ]
     },
     "metadata": {},
     "output_type": "display_data"
    },
    {
     "name": "stdout",
     "output_type": "stream",
     "text": [
      "Mg: E(hcp) - E(fcc) = -4.54 eV/atom\n"
     ]
    }
   ],
   "source": [
    "out = wf(element=\"Mg\", phase1=\"fcc\", phase2=\"hcp\", lattice_guess1=3, lattice_guess2=3)\n",
    "print(f\"{wf.inputs.element.value}: E({wf.inputs.phase2.value}) - E({wf.inputs.phase1.value}) = {out.compare__sub:.2f} eV/atom\")"
   ]
  },
  {
   "cell_type": "markdown",
   "id": "7985d84f-b842-4a8d-95d5-eca3d19a78c8",
   "metadata": {},
   "source": [
    "We can also replace entire node in a workflow or macro with a new node, booting the old one out and inserting the new one including all its connections. Because the connections are recreated, the replacement node _must_ have compatible IO to the node being replaced.\n",
    "\n",
    "There are several syntacic approaches for doing this, including invoking replacement methods from the workflow (or macro) or from the node being replaced, or a new (compatible!) class can be assigned directly to an existing node. We'll use the last approach, which makes a new instance of the supplied class and replaces the target node with it.\n",
    "\n",
    "Let's replace the calculation type for phase 1 -- let's switch it from a `CalcMin` to a `CalcStatic`; both of these take a `job` as input and give `structure` and `energy` as output, so we won't have any trouble connecting our new node in lieue of the old one."
   ]
  },
  {
   "cell_type": "code",
   "execution_count": 47,
   "id": "4cdffdca-48d3-4486-9045-48102c7e5f31",
   "metadata": {},
   "outputs": [
    {
     "name": "stderr",
     "output_type": "stream",
     "text": [
      "/Users/huber/work/pyiron/pyiron_workflow/pyiron_workflow/channels.py:171: UserWarning: The channel job was not connected to job, andthus could not disconnect from it.\n",
      "  warn(\n",
      "/Users/huber/work/pyiron/pyiron_workflow/pyiron_workflow/channels.py:171: UserWarning: The channel accumulate_and_run was not connected to ran, andthus could not disconnect from it.\n",
      "  warn(\n",
      "/Users/huber/work/pyiron/pyiron_workflow/pyiron_workflow/channels.py:171: UserWarning: The channel element was not connected to user_input, andthus could not disconnect from it.\n",
      "  warn(\n",
      "/Users/huber/work/pyiron/pyiron_workflow/pyiron_workflow/channels.py:171: UserWarning: The channel structure was not connected to obj, andthus could not disconnect from it.\n",
      "  warn(\n",
      "/Users/huber/work/pyiron/pyiron_workflow/pyiron_workflow/channels.py:171: UserWarning: The channel energy was not connected to obj, andthus could not disconnect from it.\n",
      "  warn(\n"
     ]
    }
   ],
   "source": [
    "replacee = wf.min_phase1.calc \n",
    "wf.min_phase1.calc = Macro.create.pyiron_atomistics.CalcStatic"
   ]
  },
  {
   "cell_type": "markdown",
   "id": "8dd7d2f9-313d-4e38-b467-823c48d0afa0",
   "metadata": {},
   "source": [
    "Since we're no longer allowing our first phase to relax while the second phase still can, we would expect the second phase to have a much lower energy than the first one. If our lattice guess for the first phase is bad enough, this could even switch the preferred phase!\n",
    "\n",
    "Look at Al's fcc-hcp energy difference using this new workflow. We'll always let hcp relax, but freeze the fcc cell so we can see the impact of a good and bad lattice guess."
   ]
  },
  {
   "cell_type": "code",
   "execution_count": 48,
   "id": "ed4a3a22-fc3a-44c9-9d4f-c65bc1288889",
   "metadata": {},
   "outputs": [
    {
     "name": "stderr",
     "output_type": "stream",
     "text": [
      "/Users/huber/work/pyiron/pyiron_workflow/pyiron_workflow/channels.py:171: UserWarning: The channel ran was not connected to accumulate_and_run, andthus could not disconnect from it.\n",
      "  warn(\n"
     ]
    },
    {
     "name": "stdout",
     "output_type": "stream",
     "text": [
      "The job JUSTAJOBNAME was saved and received the ID: 9680\n"
     ]
    },
    {
     "data": {
      "application/vnd.jupyter.widget-view+json": {
       "model_id": "16ff55bb9a8a49a88d5c71db0f560958",
       "version_major": 2,
       "version_minor": 0
      },
      "text/plain": [
       "0it [00:00, ?it/s]"
      ]
     },
     "metadata": {},
     "output_type": "display_data"
    },
    {
     "name": "stdout",
     "output_type": "stream",
     "text": [
      "The job JUSTAJOBNAME was saved and received the ID: 9680\n"
     ]
    },
    {
     "data": {
      "application/vnd.jupyter.widget-view+json": {
       "model_id": "0686c706f5324b8796eff8970af59900",
       "version_major": 2,
       "version_minor": 0
      },
      "text/plain": [
       "0it [00:00, ?it/s]"
      ]
     },
     "metadata": {},
     "output_type": "display_data"
    },
    {
     "name": "stdout",
     "output_type": "stream",
     "text": [
      "Al: E(hcp) - E(fcc) = -5.57 eV/atom\n"
     ]
    }
   ],
   "source": [
    "# Bad guess\n",
    "out = wf(element=\"Al\", phase1=\"fcc\", phase2=\"hcp\", lattice_guess1=3, lattice_guess2=3.1)\n",
    "print(f\"{wf.inputs.element.value}: E({wf.inputs.phase2.value}) - E({wf.inputs.phase1.value}) = {out.compare__sub:.2f} eV/atom\")"
   ]
  },
  {
   "cell_type": "code",
   "execution_count": 49,
   "id": "5a985cbf-c308-4369-9223-b8a37edb8ab1",
   "metadata": {},
   "outputs": [
    {
     "name": "stderr",
     "output_type": "stream",
     "text": [
      "/Users/huber/work/pyiron/pyiron_workflow/pyiron_workflow/channels.py:171: UserWarning: The channel ran was not connected to accumulate_and_run, andthus could not disconnect from it.\n",
      "  warn(\n"
     ]
    },
    {
     "name": "stdout",
     "output_type": "stream",
     "text": [
      "The job JUSTAJOBNAME was saved and received the ID: 9680\n"
     ]
    },
    {
     "data": {
      "application/vnd.jupyter.widget-view+json": {
       "model_id": "315bfc47d76a4d9aa7ce95fad9ff6fdf",
       "version_major": 2,
       "version_minor": 0
      },
      "text/plain": [
       "0it [00:00, ?it/s]"
      ]
     },
     "metadata": {},
     "output_type": "display_data"
    },
    {
     "name": "stdout",
     "output_type": "stream",
     "text": [
      "The job JUSTAJOBNAME was saved and received the ID: 9680\n"
     ]
    },
    {
     "data": {
      "application/vnd.jupyter.widget-view+json": {
       "model_id": "59716bf30a52447eb55ed57663789f9b",
       "version_major": 2,
       "version_minor": 0
      },
      "text/plain": [
       "0it [00:00, ?it/s]"
      ]
     },
     "metadata": {},
     "output_type": "display_data"
    },
    {
     "name": "stdout",
     "output_type": "stream",
     "text": [
      "Al: E(hcp) - E(fcc) = 0.03 eV/atom\n"
     ]
    }
   ],
   "source": [
    "# Good guess\n",
    "out = wf(element=\"Al\", phase1=\"fcc\", phase2=\"hcp\", lattice_guess1=4.05, lattice_guess2=3.2)\n",
    "print(f\"{wf.inputs.element.value}: E({wf.inputs.phase2.value}) - E({wf.inputs.phase1.value}) = {out.compare__sub:.2f} eV/atom\")"
   ]
  },
  {
   "cell_type": "markdown",
   "id": "e5e75718-137f-43e6-b484-5ebe4ab22bf8",
   "metadata": {},
   "source": [
    "Now that we have nested macros, we can finally discuss the subtle difference between `__call__` and `pull`:\n",
    "\n",
    "Each `Macro` instance is its own little walled garden, where it's child nodes have no connections apart from those to other children of the same macro (you can forceably change this, since we're all adults here, but it won't happen by default and isn't recommended). Under the hood this is accomplished by the macro IO \"linking\" itself to its childrens' IO, so that updates to macro input values are always immediately propagated to children, and macro output gets synchronized with its childrens' output at the end of every run. Because of this we can think of these children all having the same \"scope\", i.e. siblings among the same parent.\n",
    "\n",
    "`pull` has a keyword argument to determine whether upstream data dependencies are restricted to be _in scope_, or if the parent node (if any) should also consider all _its_ data dependencies as well, and so on up until we hit the parent-most macro or workflow.\n",
    "\n",
    "For `pull` this parameter defaults to `False`, so that the pull stops at the parent node. For `__call__` it defaults to `True`, so that the search for data dependencies punches right through parents and all the way up. The danger is that this might be expensive if there's an costly node somewhere in the dependency!\n",
    "\n",
    "Note that the entire \"pull\" paradigm doesn't currently play nicely with remote execution. If some of your nodes have an executor specified, you will need to `.run` your graph (or `__call__` a `Workflow` if that's your parent-most object) so that it runs in \"push\" mode, and the nodes running on an executor are guaranteed to have up-to-date input _before_ they get shipped off to another process."
   ]
  },
  {
   "cell_type": "markdown",
   "id": "069cc8e8-f8b9-4382-a424-b3b2dd2bf739",
   "metadata": {},
   "source": [
    "## Parallelization\n",
    "\n",
    "You can currently run nodes in different process by setting that node's `executor` to an instance of a compliant executor object -- i.e. that takes the standard `submit` method of `concurrent.futures.Executor`, returns a `concurrent.futures.Future` (or sub-class), and can handle serializing dynamically defined objects. We make a handful of such compliant executors available on the creator. There is a toy `CloudpickleProcessPoolExecutor` which is a minimal example of compliance and useful for learning, but we also link to the executors provided by `pympipool`. Depending on your installation of `pympipool`, it's possible that only the `PyMPIExecutor` will be available, and this is what is provided by default under the creator's `Executor` attribute. \n",
    "\n",
    "Here's a simple example of executor usage:"
   ]
  },
  {
   "cell_type": "code",
   "execution_count": 50,
   "id": "aa575249-b209-4e0c-9ea6-a82bc69dc833",
   "metadata": {},
   "outputs": [
    {
     "name": "stdout",
     "output_type": "stream",
     "text": [
      "None 1\n",
      "<Future at 0x1403910d0 state=pending> NOT_DATA\n"
     ]
    }
   ],
   "source": [
    "wf = Workflow(\"with_executor\")\n",
    "wf.a1 = wf.create.standard.Add(0, 1)\n",
    "wf.a2 = wf.create.standard.Add(2, 3)\n",
    "wf.b = wf.a1 + wf.a2\n",
    "\n",
    "wf.a2.executor = wf.create.Executor()\n",
    "wf()\n",
    "\n",
    "print(wf.a1.future, wf.a1.outputs.add.value)\n",
    "print(wf.a2.future, wf.a2.outputs.add.value)"
   ]
  },
  {
   "cell_type": "markdown",
   "id": "a15cf16b-90d5-4bf4-bc8e-e65a3ee06fa4",
   "metadata": {},
   "source": [
    "We can see that the regularly-executing node gets its output as usual, but the node with an executor gets its `future` attribute populated and isn't finished yet"
   ]
  },
  {
   "cell_type": "code",
   "execution_count": 51,
   "id": "c1b7b4e9-1c76-470c-ba6e-a58ea3f611f6",
   "metadata": {},
   "outputs": [
    {
     "name": "stdout",
     "output_type": "stream",
     "text": [
      "Finally 5\n",
      "b (Add) output single-value: 6\n"
     ]
    }
   ],
   "source": [
    "print(\"Finally\", wf.a2.future.result())\n",
    "print(wf.b)"
   ]
  },
  {
   "cell_type": "markdown",
   "id": "4dd4159e-6e01-492a-8986-f07e26e68954",
   "metadata": {},
   "source": [
    "When you're all done, it's best practice to shut down your `pympipool` executor to make sure you don't leave any dangling process (similar to how opened files should be closed). This can be done with a convience method from the parent-most object, which will recursively shut down all executors:"
   ]
  },
  {
   "cell_type": "code",
   "execution_count": 52,
   "id": "7e98058b-a791-4cb1-ae2c-864ad7e56cee",
   "metadata": {},
   "outputs": [],
   "source": [
    "wf.executor_shutdown()"
   ]
  },
  {
   "cell_type": "markdown",
   "id": "56206b10-6851-4ffa-ad43-432ad46d272a",
   "metadata": {},
   "source": [
    "Alternatively, we can use the `with` context for executors, as along as it encompasses our entire workflow. This might be useful if you are working with a single executor. In this case the `with` context handles shutdown cleanly without our help:"
   ]
  },
  {
   "cell_type": "code",
   "execution_count": 53,
   "id": "0d1b4005-488e-492f-adcb-8ad7235e4fe3",
   "metadata": {},
   "outputs": [
    {
     "name": "stdout",
     "output_type": "stream",
     "text": [
      "None 1\n",
      "<Future at 0x14040ba10 state=running> NOT_DATA\n",
      "Finally 5\n",
      "b (Add) output single-value: 6\n"
     ]
    }
   ],
   "source": [
    "with Workflow.create.Executor() as executor:\n",
    "    wf = Workflow(\"with_executor\")\n",
    "    wf.a1 = wf.create.standard.Add(0, 1)\n",
    "    wf.a2 = wf.create.standard.Add(2, 3)\n",
    "    wf.b = wf.a1 + wf.a2\n",
    "\n",
    "    wf.a2.executor = executor\n",
    "    wf()\n",
    "    \n",
    "    print(wf.a1.future, wf.a1.outputs.add.value)\n",
    "    print(wf.a2.future, wf.a2.outputs.add.value)\n",
    "    \n",
    "    print(\"Finally\", wf.a2.future.result())\n",
    "    print(wf.b)"
   ]
  },
  {
   "cell_type": "markdown",
   "id": "26d7fb8e-4071-482d-bbb4-31689e87c3d5",
   "metadata": {},
   "source": [
    "For DAGs, workflows and macros automated execution flow makes use of the `.signals.inputs.accumulate_and_run` signal to run as soon as _all_ the up-data-stream nodes have finished.\n",
    "\n",
    "Before we wrap up our conversation of executors, let's make both linear and accumulating workflows by-hand, and see the time difference parallelization can bring. We'll use the `>>` and `<<` syntactic sugar for defining direct and accumulating run signals, respectively:"
   ]
  },
  {
   "cell_type": "code",
   "execution_count": 54,
   "id": "d03ca074-35a0-4e0d-9377-d4eaa5521f85",
   "metadata": {},
   "outputs": [],
   "source": [
    "from time import perf_counter, sleep\n",
    "\n",
    "from pyiron_workflow.channels import NOT_DATA\n",
    "\n",
    "@Workflow.wrap_as.function_node()\n",
    "def Wait(t):\n",
    "    sleep(t)\n",
    "    return True\n",
    "    \n",
    "t = 2"
   ]
  },
  {
   "cell_type": "code",
   "execution_count": 55,
   "id": "a7c07aa0-84fc-4f43-aa4f-6498c0837d76",
   "metadata": {},
   "outputs": [
    {
     "name": "stdout",
     "output_type": "stream",
     "text": [
      "6.018623271003889\n"
     ]
    }
   ],
   "source": [
    "wf = Workflow(\"serial\")\n",
    "wf.a = Wait(t)\n",
    "wf.b = Wait(t)\n",
    "wf.c = Wait(t)\n",
    "wf.d = wf.create.standard.UserInput(t)\n",
    "wf.automate_execution = False\n",
    "wf.a >> wf.b >> wf.c >> wf.d\n",
    "wf.starting_nodes = [wf.a]\n",
    "t0 = perf_counter()\n",
    "out = wf()\n",
    "while wf.outputs.d__user_input.value is NOT_DATA:\n",
    "    sleep(0.001)\n",
    "dt_serial = perf_counter() - t0\n",
    "\n",
    "print(dt_serial)"
   ]
  },
  {
   "cell_type": "code",
   "execution_count": 56,
   "id": "b062ab5f-9b98-4843-8925-b93bf4c173f8",
   "metadata": {},
   "outputs": [
    {
     "name": "stdout",
     "output_type": "stream",
     "text": [
      "2.342073881998658\n"
     ]
    }
   ],
   "source": [
    "wf = Workflow(\"parallel\")\n",
    "wf.a = Wait(t)\n",
    "wf.b = Wait(t)\n",
    "wf.c = Wait(t)\n",
    "wf.d = wf.create.standard.UserInput(t)\n",
    "wf.automate_execution = False\n",
    "wf.d << (wf.a, wf.b, wf.c)\n",
    "wf.starting_nodes = [wf.a, wf.b, wf.c]\n",
    "\n",
    "\n",
    "with wf.create.Executor(max_workers=3, cores_per_worker=1) as executor:\n",
    "    wf.a.executor = executor\n",
    "    wf.b.executor = executor\n",
    "    wf.c.executor = executor\n",
    "\n",
    "    t1 = perf_counter()\n",
    "    out = wf()\n",
    "    while wf.outputs.d__user_input.value is NOT_DATA:\n",
    "        sleep(0.001)\n",
    "    dt_parallel = perf_counter() - t1\n",
    "\n",
    "print(dt_parallel)"
   ]
  },
  {
   "cell_type": "markdown",
   "id": "8655ab85-f3e1-4828-b2c4-43425f45717c",
   "metadata": {},
   "source": [
    "Note how we've used the `<<` syntax to load up the `accumulate_and_run` input signal with multiple connections at once (as opposed to the forwards-syntactic sugar that connects one item at a time to `run`), and leveraging a single executor in a `with` statement. But most of all, note the speedup! There is some overhead for shipping things off to an executor -- we don't want to do it for operations that are taking mere ms -- but the bar is not super high. Serializing different nodes may take different amounts of time depending on how complex they are, so check for yourself the tradeoff between executing your nodes in parallel or serial."
   ]
  },
  {
   "cell_type": "markdown",
   "id": "b6a3b48f-eda6-4947-a1b2-22abfa394293",
   "metadata": {},
   "source": [
    "#### Executor limitations\n",
    "\n",
    "Unfortunately, _nested_ executors are not yet working. So if you set a macro to use an executor, none of its (grand...)children may specify an executor."
   ]
  },
  {
   "cell_type": "markdown",
   "id": "f447531e-3e8c-4c7e-a579-5f9c56b75a5b",
   "metadata": {
    "tags": []
   },
   "source": [
    "# Here be dragons\n",
    "\n",
    "While everything in the workflows sub-module is under development, the following complex features are _even more likely_ to see substantial modifications to their interface and behaviour. Nonetheless, they're fun so let's look at them."
   ]
  },
  {
   "cell_type": "markdown",
   "id": "6fe95ca3-95c4-4c82-9a45-c38275dabb22",
   "metadata": {},
   "source": [
    "## Saving and loading\n",
    "\n",
    "For python >= 3.11, graphs can be saved and loaded on request -- either by manually invoking the `.save()` method, or by setting the `save_after_run` attribute to `True` (on the object or at instantiation by kwarg). This creates a save file (currently using HDF5 as a format) in the parent-most node's working directory.\n",
    "\n",
    "Subsequently instantiating a node with the same name in the same place will attempt to reload the saved graph automatically. \n",
    "\n",
    "Since data IO is also saved, all IO must be serializable. As a fallback, we attempt to store data IO values using pickle, so most pickle-able objects will work.\n",
    "\n",
    "You can look at the `Node` class docstring for a full and detailed list of all storage features as they currently are in this alpha feature, but here are a few key caveats:\n",
    "- The _entire graph_ is always saved, regardless of which node is calling `save()`\n",
    "- Similarly, you can only reload the entire graph at once\n",
    "- Also related, there is currently zero filtering of which data, or to which depth the graph gets stored -- it's all or nothing\n",
    "- If the source code for nodes gets modified between saving and loading, weird stuff is likely to happen, and some of it may happen silently.\n",
    "\n",
    "Lastly, we currently use two backends: `tinybase.storage.H5ioStorage` and `h5io` directly. They have slightly different strengths:\n",
    "- `\"h5io\"` (the default) \n",
    "  - Will let you save and load any nodes that defined by subclassing (this includes all nodes defined using the decorators)\n",
    "  - Will preserve changes to a macro (replace/add/remove/rewire)\n",
    "  - Has trouble with some data\n",
    "- `\"tinybase\"`\n",
    "  - Requires all nodes to have been instantiated with the creator (`wf.create...`; this means moving node definitions to a `.py` file in your pythonpath and registering it as a node package -- not particularly difficult!)\n",
    "  - _Ignores_ changes to a macro (will crash nicely if the macro IO changed)\n",
    "  - Falls back to `pickle` for data failures, so can handle a wider variety of data IO objects"
   ]
  },
  {
   "cell_type": "code",
   "execution_count": 57,
   "id": "c8196054-aff3-4d39-a872-b428d329dac9",
   "metadata": {},
   "outputs": [],
   "source": [
    "import sys"
   ]
  },
  {
   "cell_type": "code",
   "execution_count": 58,
   "id": "ffd741a3-b086-4ed0-9a62-76143a3705b2",
   "metadata": {},
   "outputs": [],
   "source": [
    "if sys.version_info >= (3, 11):\n",
    "    wf = Workflow(\"save_demo\")\n",
    "    wf.inp = wf.create.standard.UserInput(42)\n",
    "    wf.middle = 2 * wf.inp\n",
    "    wf.end = wf.middle - 42\n",
    "    wf.out = wf.create.standard.UserInput(wf.end, save_after_run=True)\n",
    "    wf()\n",
    "    # wf.save()  # Not needed, since `wf.out` saves after running"
   ]
  },
  {
   "cell_type": "code",
   "execution_count": 59,
   "id": "3a22c622-f8c1-449b-a910-c52beb6a09c3",
   "metadata": {},
   "outputs": [
    {
     "name": "stderr",
     "output_type": "stream",
     "text": [
      "/Users/huber/work/pyiron/pyiron_workflow/pyiron_workflow/node.py:340: UserWarning: A saved file was found for the node save_demo -- attempting to load it...(To delete the saved file instead, use `overwrite_save=True`)\n",
      "  warnings.warn(\n"
     ]
    }
   ],
   "source": [
    "if sys.version_info >= (3, 11):\n",
    "    reloaded = Workflow(\"save_demo\")\n",
    "    reloaded.out.value == wf.out.value"
   ]
  },
  {
   "cell_type": "markdown",
   "id": "f9238cf7-3050-4607-a542-010e3bb83f41",
   "metadata": {},
   "source": [
    "You can force a newly instantiated node to ignore (and delete!) an existing save file by setting the `overwrite_save` kwarg to `True`.\n",
    "\n",
    "Finally, let's clean up our save to keep this demo director clean:"
   ]
  },
  {
   "cell_type": "code",
   "execution_count": 60,
   "id": "0999d3e8-3a5a-451d-8667-a01dae7c1193",
   "metadata": {},
   "outputs": [],
   "source": [
    "if sys.version_info >= (3, 11):\n",
    "    reloaded.storage.delete()"
   ]
  },
  {
   "cell_type": "markdown",
   "id": "1f012460-19af-45f7-98aa-a0ad5b8e6faa",
   "metadata": {},
   "source": [
    "## Meta-nodes and flow control\n",
    "\n",
    "A meta-node is a function that produces a node _class_ instedad of a node _instance_.\n",
    "Right now, these are used to produce parameterized flow-control nodes, which take an node class as input and return a new macro class that builds some graph using the passed node class, e.g. for- and while-loops.\n",
    "\n",
    "### For-loops\n",
    "\n",
    "One meta node is a for-loop builder, which creates a macro with $n$ internal instances of the \"loop body\" node class, and a new IO interface.\n",
    "The new input allows you to specify which input channels are being looped over -- such that the macro input for this channel is interpreted as list-like and distributed to all the copies of the nodes separately --, and which is _not_ being looped over -- and thus interpreted as the loop body node would normally interpret the input and passed to all copies equally.\n",
    "All of the loop body outputs are then collected as a list of length $n$.\n",
    "\n",
    "We follow a convention that inputs and outputs being looped over are indicated by their channel labels being ALL CAPS.\n",
    "\n",
    "In the example below, we loop over the bulk structure node to create structures with different lattice constants:"
   ]
  },
  {
   "cell_type": "code",
   "execution_count": 61,
   "id": "0b373764-b389-4c24-8086-f3d33a4f7fd7",
   "metadata": {},
   "outputs": [
    {
     "data": {
      "text/plain": [
       "[14.829749999999995,\n",
       " 15.407468749999998,\n",
       " 15.999999999999998,\n",
       " 16.60753125,\n",
       " 17.230249999999995]"
      ]
     },
     "execution_count": 61,
     "metadata": {},
     "output_type": "execute_result"
    }
   ],
   "source": [
    "n = 5\n",
    "\n",
    "bulk_loop = Workflow.create.meta.for_loop(\n",
    "    Workflow.create.pyiron_atomistics.Bulk,\n",
    "    n,\n",
    "    iterate_on=(\"a\",),\n",
    ")()\n",
    "\n",
    "out = bulk_loop(\n",
    "    name=\"Al\",  # Sent equally to each body node\n",
    "    A=np.linspace(3.9, 4.1, n).tolist(),  # Distributed across body nodes\n",
    ")\n",
    "\n",
    "[struct.cell.volume for struct in out.STRUCTURE]  \n",
    "# output is a list collected from copies of the body node, as indicated by CAPS label"
   ]
  },
  {
   "cell_type": "markdown",
   "id": "4e7ed210-dbc2-4afa-825e-b91168baff25",
   "metadata": {},
   "source": [
    "## While-loops\n",
    "\n",
    "We can also create a while-loop, which takes both a body node and a condition node. The condition node must be a single-output `Function` node returning a `bool` type. Instead of creating copies of the body node, the body node gets re-run until the condition node returns `False`.\n",
    "\n",
    "You _must_ specify the data connection so that the body node passes information to the condition node. You may optionally also loop output of the body node back to input of the body node to change the input at each iteration. Right now this is done with horribly ugly string tuples, but we're still working on it."
   ]
  },
  {
   "cell_type": "code",
   "execution_count": 62,
   "id": "0dd04b4c-e3e7-4072-ad34-58f2c1e4f596",
   "metadata": {},
   "outputs": [
    {
     "name": "stderr",
     "output_type": "stream",
     "text": [
      "/Users/huber/work/pyiron/pyiron_workflow/pyiron_workflow/channels.py:171: UserWarning: The channel run was not connected to true, andthus could not disconnect from it.\n",
      "  warn(\n",
      "/Users/huber/work/pyiron/pyiron_workflow/pyiron_workflow/channels.py:171: UserWarning: The channel run was not connected to ran, andthus could not disconnect from it.\n",
      "  warn(\n"
     ]
    }
   ],
   "source": [
    "@Workflow.wrap_as.function_node()\n",
    "def Add(a, b):\n",
    "    print(f\"{a} + {b} = {a + b}\")\n",
    "    return a + b\n",
    "\n",
    "@Workflow.wrap_as.function_node()\n",
    "def LessThanTen(value):\n",
    "    return value < 10\n",
    "\n",
    "AddWhile = Workflow.create.meta.while_loop(\n",
    "    loop_body_class=Add,\n",
    "    condition_class=LessThanTen,\n",
    "    internal_connection_map=[\n",
    "        (\"Add\", \"a + b\", \"LessThanTen\", \"value\"),\n",
    "        (\"Add\", \"a + b\", \"Add\", \"a\")\n",
    "    ],\n",
    "    inputs_map={\"Add__a\": \"a\", \"Add__b\": \"b\"},\n",
    "    outputs_map={\"Add__a + b\": \"total\"}\n",
    ")\n",
    "\n",
    "wf = Workflow(\"do_while\")\n",
    "wf.add_while = AddWhile()\n",
    "\n",
    "wf.inputs_map = {\n",
    "    \"add_while__a\": \"a\",\n",
    "    \"add_while__b\": \"b\"\n",
    "}\n",
    "wf.outputs_map = {\n",
    "    \"add_while__total\": \"total\",  # Rename this output\n",
    "    \"add_while__switch__truth\": None  # Disable this output\n",
    "}"
   ]
  },
  {
   "cell_type": "markdown",
   "id": "eb810e1e-4d13-4cb1-94cc-6d191b8c568d",
   "metadata": {},
   "source": [
    "Note that initializing the `a` and `b` input to numeric values when we call the workflow below does not destroy the connection made between the body node input and output -- so the first run of the body node uses the initial value passed, but then it updates its own input for subsequent calls!"
   ]
  },
  {
   "cell_type": "code",
   "execution_count": 63,
   "id": "2dfb967b-41ac-4463-b606-3e315e617f2a",
   "metadata": {},
   "outputs": [
    {
     "name": "stdout",
     "output_type": "stream",
     "text": [
      "1 + 2 = 3\n",
      "3 + 2 = 5\n",
      "5 + 2 = 7\n",
      "7 + 2 = 9\n",
      "9 + 2 = 11\n",
      "Finally {'total': 11}\n"
     ]
    }
   ],
   "source": [
    "response = wf(a=1, b=2)\n",
    "print(\"Finally\", response)"
   ]
  },
  {
   "cell_type": "code",
   "execution_count": 64,
   "id": "2e87f858-b327-4f6b-9237-c8a557f29aeb",
   "metadata": {},
   "outputs": [
    {
     "name": "stdout",
     "output_type": "stream",
     "text": [
      "0.270 > 0.2\n",
      "0.853 > 0.2\n",
      "0.677 > 0.2\n",
      "0.752 > 0.2\n",
      "0.644 > 0.2\n",
      "0.064 <= 0.2\n",
      "Finally 0.064\n"
     ]
    }
   ],
   "source": [
    "@Workflow.wrap_as.function_node(\"random\")\n",
    "def Random(length: int | None = None):\n",
    "    return np.random.random(length)\n",
    "\n",
    "@Workflow.wrap_as.function_node()\n",
    "def GreaterThan(x: float, threshold: float):\n",
    "    gt = x > threshold\n",
    "    symbol = \">\" if gt else \"<=\"\n",
    "    print(f\"{x:.3f} {symbol} {threshold}\")\n",
    "    return gt\n",
    "\n",
    "RandomWhile = Workflow.create.meta.while_loop(\n",
    "    loop_body_class=Random,\n",
    "    condition_class=GreaterThan,\n",
    "    internal_connection_map=[(\"Random\", \"random\", \"GreaterThan\", \"x\")],\n",
    "    outputs_map={\"Random__random\": \"capped_result\"}\n",
    ")\n",
    "\n",
    "# Define workflow\n",
    "\n",
    "wf = Workflow(\"random_until_small_enough\")\n",
    "\n",
    "## Wire together the while loop and its condition\n",
    "\n",
    "wf.random_while = RandomWhile()\n",
    "\n",
    "## Give convenient labels\n",
    "wf.inputs_map = {\"random_while__GreaterThan__threshold\": \"threshold\"}\n",
    "wf.outputs_map = {\"random_while__capped_result\": \"capped_result\"}\n",
    "\n",
    "print(f\"Finally {wf(threshold=0.2).capped_result:.3f}\")"
   ]
  },
  {
   "cell_type": "code",
   "execution_count": null,
   "id": "f40bfd6f-3fbf-4c2b-aeee-534ed4bcc970",
   "metadata": {},
   "outputs": [],
   "source": []
  }
 ],
 "metadata": {
  "kernelspec": {
   "display_name": "Python 3 (ipykernel)",
   "language": "python",
   "name": "python3"
  },
  "language_info": {
   "codemirror_mode": {
    "name": "ipython",
    "version": 3
   },
   "file_extension": ".py",
   "mimetype": "text/x-python",
   "name": "python",
   "nbconvert_exporter": "python",
   "pygments_lexer": "ipython3",
   "version": "3.11.7"
  }
 },
 "nbformat": 4,
 "nbformat_minor": 5
}
