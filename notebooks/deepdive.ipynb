{
 "cells": [
  {
   "cell_type": "markdown",
   "id": "5edfe456-c5b8-4347-a74f-1fb19fdff91b",
   "metadata": {},
   "source": [
    "# Pyiron workflows: A ground-up walkthrough of syntax and features\n",
    "\n",
    "Contents:\n",
    "- From function to node\n",
    "- Making reusable node classes\n",
    "- Connecting nodes to form a graph\n",
    "- Syntactic sugar\n",
    "- Workflows: keeping your computational graphs organized\n",
    "- Node packages: making nodes re-usable\n",
    "- Macro nodes: complex computations by composing sub-graphs\n",
    "- Dragons and the future: remote execution, cyclic flows, and more\n",
    "\n",
    "To jump straight to how to use `pyiron_workflow`, go look at the quickstart guide -- this jumps straight to using `Workflow` as a single-point-of-access, creating nodes with decorators, and leveraging node packages to form complex graphs.\n",
    "\n",
    "Here we start from the ground up and do \"silly\" things like importing _just_ the `Function` class directly from the `pyiron_workflow` package. This isn't meant to show actual practical, recommended use-styles, but rather is indended as a pedagogical deep-dive that builds knowledge from the ground up. While the quickstart is aimed at users who just want to get running, this is intended for people who want to develop nodes for others to use, or for people who are stuck or seeing unexpected behaviour and want a better understanding of what `pyiron_workflow` is doing under the hood.\n",
    "\n",
    "The next recommendation is to simply read the class and method docstrings directly!"
   ]
  },
  {
   "cell_type": "markdown",
   "id": "f4e75528-3ea7-4feb-8167-533d439f798d",
   "metadata": {},
   "source": [
    "## Instantiating a node\n",
    "\n",
    "Simple nodes can be defined on-the-fly by passing any callable to a special `Node` class, `Function(Node)`, which transforms the function into a class. Instances of this node have input and output, can be connected to other nodes in a workflow, and can run the function it stores.\n",
    "\n",
    "Input and output channels are _automatically_ extracted from the signature and return value(s) of the function. (Note: \"Nodized\" functions must have _at most_ one `return` expression!)"
   ]
  },
  {
   "cell_type": "code",
   "execution_count": 1,
   "id": "8aca3b9b-9ba6-497a-ba9e-abdb15a6a5df",
   "metadata": {},
   "outputs": [],
   "source": [
    "from pyiron_workflow import function_node"
   ]
  },
  {
   "cell_type": "code",
   "execution_count": 2,
   "id": "2502bc6b-d961-43d1-b2d9-66b20e2740d7",
   "metadata": {},
   "outputs": [],
   "source": [
    "def plus_minus_one(x):\n",
    "    return x+1, x-1\n",
    "\n",
    "pm_node = function_node(plus_minus_one)"
   ]
  },
  {
   "cell_type": "markdown",
   "id": "5d15f0c2-b36d-4960-86b3-40d769f78528",
   "metadata": {},
   "source": [
    "This has automatically created a node with input and output data channels whose labels are gathered by inspecting the function:"
   ]
  },
  {
   "cell_type": "code",
   "execution_count": 3,
   "id": "840f4c07-4b21-4bcc-b15c-9847c6c1b048",
   "metadata": {},
   "outputs": [
    {
     "name": "stdout",
     "output_type": "stream",
     "text": [
      "['x'] ['x+1', 'x-1']\n"
     ]
    }
   ],
   "source": [
    "print(pm_node.inputs.labels, pm_node.outputs.labels)"
   ]
  },
  {
   "cell_type": "markdown",
   "id": "22ee2a49-47d1-4cec-bb25-8441ea01faf7",
   "metadata": {},
   "source": [
    "The output is still empty (`NOT_DATA`) because we haven't `run()` the node:"
   ]
  },
  {
   "cell_type": "code",
   "execution_count": 4,
   "id": "613a90fa-66ed-49f8-ba8c-2f83a54253cd",
   "metadata": {},
   "outputs": [
    {
     "name": "stdout",
     "output_type": "stream",
     "text": [
      "{'x+1': NOT_DATA, 'x-1': NOT_DATA}\n"
     ]
    }
   ],
   "source": [
    "print(pm_node.outputs.to_value_dict())"
   ]
  },
  {
   "cell_type": "markdown",
   "id": "0374e277-55ab-45d2-8058-b06365bd07af",
   "metadata": {},
   "source": [
    "If we try that now though, we'll just get a type error because the input is not set! "
   ]
  },
  {
   "cell_type": "code",
   "execution_count": 5,
   "id": "05196cd8-97c7-4f08-ae3a-ad6a076512f7",
   "metadata": {},
   "outputs": [
    {
     "name": "stdout",
     "output_type": "stream",
     "text": [
      "RAISED ReadinessError\n",
      "plus_minus_one received a run command but is not ready. The node should be neither running nor failed, and all input values should conform to type hints.\n",
      "plus_minus_one readiness: False\n",
      "STATE:\n",
      "running: False\n",
      "failed: False\n",
      "INPUTS:\n",
      "x ready: False\n"
     ]
    }
   ],
   "source": [
    "try:\n",
    "    pm_node.run()\n",
    "except Exception as e:\n",
    "    print(f\"RAISED {e.__class__.__name__}\")\n",
    "    message = e.args[0]\n",
    "    print(message)"
   ]
  },
  {
   "cell_type": "markdown",
   "id": "84af4b04-79b4-4944-a4c9-131af915d254",
   "metadata": {},
   "source": [
    "If we update the input, we'll give the node enough data to work with:"
   ]
  },
  {
   "cell_type": "code",
   "execution_count": 6,
   "id": "b1500a40-f4f2-4c06-ad78-aaebcf3e9a50",
   "metadata": {},
   "outputs": [
    {
     "name": "stdout",
     "output_type": "stream",
     "text": [
      "{'x+1': 6, 'x-1': 4}\n"
     ]
    }
   ],
   "source": [
    "pm_node.inputs.x = 5\n",
    "pm_node.run()\n",
    "print(pm_node.outputs.to_value_dict())"
   ]
  },
  {
   "cell_type": "markdown",
   "id": "c54a691e-a075-4d41-bc0f-3a990857a27a",
   "metadata": {},
   "source": [
    "Alternatively, the `run()` command just return the function's return value:"
   ]
  },
  {
   "cell_type": "code",
   "execution_count": 7,
   "id": "e845843c-61f4-4e5c-ac1a-d005787c2841",
   "metadata": {},
   "outputs": [
    {
     "data": {
      "text/plain": [
       "(6, 4)"
      ]
     },
     "execution_count": 7,
     "metadata": {},
     "output_type": "execute_result"
    }
   ],
   "source": [
    "out = pm_node.run()\n",
    "out"
   ]
  },
  {
   "cell_type": "markdown",
   "id": "df4520d7-856e-4bc8-817f-5b2e22c1ddce",
   "metadata": {},
   "source": [
    "We can give our function defaults so that it's ready to go from the beginning. Let's also take the opportunity to give our output channel a better name so we can get it by dot-access."
   ]
  },
  {
   "cell_type": "code",
   "execution_count": 8,
   "id": "ab1ac28a-6e69-491f-882f-da4a43162dd7",
   "metadata": {},
   "outputs": [
    {
     "data": {
      "text/plain": [
       "1"
      ]
     },
     "execution_count": 8,
     "metadata": {},
     "output_type": "execute_result"
    }
   ],
   "source": [
    "def adder(x: int = 0, y: int = 1) -> int:\n",
    "    sum_ = x + y\n",
    "    return sum_\n",
    "\n",
    "adder_node = function_node(adder)\n",
    "adder_node.run()\n",
    "adder_node.outputs.sum_.value  # We use `value` to see the data the channel holds"
   ]
  },
  {
   "cell_type": "markdown",
   "id": "58ed9b25-6dde-488d-9582-d49d405793c6",
   "metadata": {},
   "source": [
    "This node also exploits type hinting! Like the variable names, these hints get scraped automatically and added to the channels:"
   ]
  },
  {
   "cell_type": "code",
   "execution_count": 9,
   "id": "09eee102-f8f1-4d2d-806f-01254c2483dc",
   "metadata": {},
   "outputs": [
    {
     "data": {
      "text/plain": [
       "(int, int, int)"
      ]
     },
     "execution_count": 9,
     "metadata": {},
     "output_type": "execute_result"
    }
   ],
   "source": [
    "adder_node.inputs.x.type_hint, adder_node.inputs.y.type_hint, adder_node.outputs.sum_.type_hint"
   ]
  },
  {
   "cell_type": "markdown",
   "id": "8382ba4d-9bf7-4057-8da8-0ee411d95c18",
   "metadata": {},
   "source": [
    "New values are checked against the node type hint, so trying to assign an incommensurate value will raise an error:"
   ]
  },
  {
   "cell_type": "code",
   "execution_count": 10,
   "id": "ac0fe993-6c82-48c8-a780-cbd0c97fc386",
   "metadata": {},
   "outputs": [
    {
     "name": "stdout",
     "output_type": "stream",
     "text": [
      "RAISED TypeError\n",
      "The channel x cannot take the value `not an integer` because it is not compliant with the type hint <class 'int'>\n"
     ]
    }
   ],
   "source": [
    "try:\n",
    "    adder_node.inputs.x = \"not an integer\"\n",
    "except TypeError as e:\n",
    "    print(f\"RAISED {e.__class__.__name__}\")\n",
    "    message = e.args[0]\n",
    "    print(message)"
   ]
  },
  {
   "cell_type": "markdown",
   "id": "fb2eb642-4fe8-4ab7-b969-288150e43112",
   "metadata": {},
   "source": [
    "We can bypass this by deactivating the `strict_hinting`, or by assigning a new value directly to the private `_value` attribute. The `run()` will also perform a check that input values conform to type hints before computing anything. Failing at this stage won't actually cause the node to have a `failed` status, so you can just re-run it once the input is fixed."
   ]
  },
  {
   "cell_type": "code",
   "execution_count": 11,
   "id": "a63b2cc0-9030-45ad-8d37-d11e16e61369",
   "metadata": {},
   "outputs": [
    {
     "name": "stdout",
     "output_type": "stream",
     "text": [
      "RAISED ReadinessError\n",
      "adder received a run command but is not ready. The node should be neither running nor failed, and all input values should conform to type hints.\n",
      "adder readiness: False\n",
      "STATE:\n",
      "running: False\n",
      "failed: False\n",
      "INPUTS:\n",
      "x ready: False\n",
      "y ready: True\n"
     ]
    }
   ],
   "source": [
    "adder_node.deactivate_strict_hints()\n",
    "adder_node.inputs.x = \"not an integer\"\n",
    "adder_node.activate_strict_hints()\n",
    "try:\n",
    "    adder_node.run()\n",
    "except Exception as e:\n",
    "    print(f\"RAISED {e.__class__.__name__}\")\n",
    "    message = e.args[0]\n",
    "    print(message)"
   ]
  },
  {
   "cell_type": "code",
   "execution_count": 12,
   "id": "15742a49-4c23-4d4a-84d9-9bf19677544c",
   "metadata": {},
   "outputs": [
    {
     "data": {
      "text/plain": [
       "3"
      ]
     },
     "execution_count": 12,
     "metadata": {},
     "output_type": "execute_result"
    }
   ],
   "source": [
    "adder_node.inputs.x = 2\n",
    "adder_node.run()"
   ]
  },
  {
   "cell_type": "markdown",
   "id": "416ba898-21ee-4638-820f-0f04a98a6706",
   "metadata": {},
   "source": [
    "We can also set new input as any valid combination of kwargs and/or args at both instantiation or on call:"
   ]
  },
  {
   "cell_type": "code",
   "execution_count": 13,
   "id": "0c8f09a7-67c4-4c6c-a021-e3fea1a16576",
   "metadata": {},
   "outputs": [
    {
     "data": {
      "text/plain": [
       "30"
      ]
     },
     "execution_count": 13,
     "metadata": {},
     "output_type": "execute_result"
    }
   ],
   "source": [
    "adder_node = function_node(adder, 10, y=20)\n",
    "adder_node.run()"
   ]
  },
  {
   "cell_type": "markdown",
   "id": "c0997630-c053-42bb-8c0d-332f8bc26216",
   "metadata": {},
   "source": [
    "Finally, we can update input and then `run` together by calling an already-instantiated node. Just like at node instantiation, the input for `Function` nodes can be set by positional and/or keyword argument. Here we'll use two positional args:"
   ]
  },
  {
   "cell_type": "code",
   "execution_count": 14,
   "id": "69b59737-9e09-4b4b-a0e2-76a09de02c08",
   "metadata": {},
   "outputs": [
    {
     "data": {
      "text/plain": [
       "31"
      ]
     },
     "execution_count": 14,
     "metadata": {},
     "output_type": "execute_result"
    }
   ],
   "source": [
    "adder_node(15, 16)"
   ]
  },
  {
   "cell_type": "markdown",
   "id": "f233f3f7-9576-4400-8e92-a1f6109d7f9b",
   "metadata": {},
   "source": [
    "Note for advanced users: when the node has an executor set, running returns a futures object for the calculation, whose `.result()` will eventually be the function output. This result object can also be accessed on the node's `.result` attribute as long as it's running."
   ]
  },
  {
   "cell_type": "markdown",
   "id": "07a22cee-e340-4551-bb81-07d8be1d152b",
   "metadata": {},
   "source": [
    "## Reusable node classes\n",
    "\n",
    "Under the hood, `function_node` is actually dynamically making a new sub-class of `Function` and returning us an instance of that class. If we look at the type, we'll see it's based off the wrapped function (as is the class's `__module__`), and `Function` and the other parent classes appear in the method resolution order:"
   ]
  },
  {
   "cell_type": "code",
   "execution_count": 15,
   "id": "09043170-54f1-469e-8975-c013ac11aad0",
   "metadata": {},
   "outputs": [
    {
     "data": {
      "text/plain": [
       "(__main__.adder, '__main__')"
      ]
     },
     "execution_count": 15,
     "metadata": {},
     "output_type": "execute_result"
    }
   ],
   "source": [
    "type(adder_node), adder_node.__module__"
   ]
  },
  {
   "cell_type": "code",
   "execution_count": 16,
   "id": "f7be4aa6-5d0d-4e86-9b57-656b7bb16e30",
   "metadata": {},
   "outputs": [
    {
     "data": {
      "text/plain": [
       "[__main__.adder,\n",
       " pyiron_snippets.factory._FactoryMade,\n",
       " pyiron_workflow.nodes.function.Function,\n",
       " pyiron_workflow.io_preview.StaticNode,\n",
       " pyiron_workflow.node.Node,\n",
       " pyiron_workflow.has_to_dict.HasToDict,\n",
       " pyiron_workflow.semantics.Semantic,\n",
       " pyiron_workflow.run.Runnable,\n",
       " pyiron_workflow.injection.HasIOWithInjection,\n",
       " pyiron_workflow.io.HasIO,\n",
       " pyiron_workflow.has_interface_mixins.UsesState,\n",
       " pyiron_workflow.single_output.ExploitsSingleOutput,\n",
       " pyiron_workflow.working.HasWorkingDirectory,\n",
       " pyiron_workflow.storage.HasH5ioStorage,\n",
       " pyiron_workflow.storage.HasTinybaseStorage,\n",
       " pyiron_workflow.storage.HasStorage,\n",
       " pyiron_workflow.has_interface_mixins.HasLabel,\n",
       " pyiron_workflow.has_interface_mixins.HasParent,\n",
       " pyiron_workflow.has_interface_mixins.HasRun,\n",
       " pyiron_workflow.has_interface_mixins.HasChannel,\n",
       " pyiron_workflow.io_preview.ScrapesIO,\n",
       " pyiron_workflow.io_preview.HasIOPreview,\n",
       " abc.ABC,\n",
       " object]"
      ]
     },
     "execution_count": 16,
     "metadata": {},
     "output_type": "execute_result"
    }
   ],
   "source": [
    "adder_node.__class__.mro()"
   ]
  },
  {
   "cell_type": "markdown",
   "id": "50370591-e3ac-4593-a9f7-d4bab8b1376f",
   "metadata": {},
   "source": [
    "However, there's lots of times where we're going to want a bunch of instances of the same type of node, and we'd really like access to this class directly so we can make new instances more succinctly.\n",
    "\n",
    "The can be done the traditionaly way directly by inheriting from `Function` and specifying its required `node_function` static method, and (optionally) overriding its `_output_labels` so they are defined by you instead of scraped from the `node_function`"
   ]
  },
  {
   "cell_type": "code",
   "execution_count": 17,
   "id": "4382a4cf-5e64-47a2-938b-39d0674b7ed5",
   "metadata": {},
   "outputs": [],
   "source": [
    "from pyiron_workflow import Function"
   ]
  },
  {
   "cell_type": "code",
   "execution_count": 18,
   "id": "abc26576-3473-4e31-93cb-d5cf2ea31b93",
   "metadata": {},
   "outputs": [
    {
     "name": "stdout",
     "output_type": "stream",
     "text": [
      "class name = MySubtractionChild\n",
      "label = MySubtractionChild\n",
      "output with default input =  {'diff': 1}\n"
     ]
    }
   ],
   "source": [
    "class MySubtractionChild(Function):\n",
    "    _output_labels = [\"diff\"]\n",
    "    \n",
    "    @staticmethod\n",
    "    def node_function(x: int | float = 2, y: int | float = 1) -> int | float:\n",
    "        return x - y\n",
    "\n",
    "sn = MySubtractionChild()\n",
    "print(\"class name =\", sn.__class__.__name__)\n",
    "print(\"label =\", sn.label)\n",
    "\n",
    "sn()  # Runs without updating input data, but we have defaults so that's fine\n",
    "print(\"output with default input = \", sn.outputs.to_value_dict())"
   ]
  },
  {
   "cell_type": "markdown",
   "id": "bb875023-6fd4-4fd8-9068-d56bb2660715",
   "metadata": {},
   "source": [
    "Even easier is to use the `as_function_node` decorator to do this for you! \n",
    "\n",
    "The decorator lets us easily choose the names of our output channels by passing the `output_labels` argument to the decorator -- as a string to create a single channel for the returned values, or as a list of strings equal to the number of returned values in a returned tuple. The decorator also does nice quality-of-life things like use the decorated function name as the default label for new instances."
   ]
  },
  {
   "cell_type": "code",
   "execution_count": 19,
   "id": "61b43a9b-8dad-48b7-9194-2045e465793b",
   "metadata": {},
   "outputs": [],
   "source": [
    "from pyiron_workflow import as_function_node"
   ]
  },
  {
   "cell_type": "code",
   "execution_count": 20,
   "id": "647360a9-c971-4272-995c-aa01e5f5bb83",
   "metadata": {},
   "outputs": [
    {
     "name": "stdout",
     "output_type": "stream",
     "text": [
      "class name = Subtract\n",
      "label = Subtract\n",
      "output with default input =  {'diff': 1}\n"
     ]
    }
   ],
   "source": [
    "@as_function_node(\"diff\")\n",
    "def Subtract(x: int | float = 2, y: int | float = 1) -> int | float:\n",
    "    return x - y\n",
    "\n",
    "sn = Subtract()\n",
    "print(\"class name =\", sn.__class__.__name__)\n",
    "print(\"label =\", sn.label)\n",
    "\n",
    "sn()  # Runs without updating input data, but we have defaults so that's fine\n",
    "print(\"output with default input = \", sn.outputs.to_value_dict())"
   ]
  },
  {
   "cell_type": "markdown",
   "id": "77642993-63c3-41a3-a963-a406de33553c",
   "metadata": {},
   "source": [
    "Note that we break with python convention and use PascalCase to name our \"function\" here -- that's because by the time the decorator is done with it, it is actually a class! Information about the expected IO is available right at the class level:"
   ]
  },
  {
   "cell_type": "code",
   "execution_count": 21,
   "id": "122ff192-8a12-4323-bd41-1c1e922a66b3",
   "metadata": {},
   "outputs": [
    {
     "data": {
      "text/plain": [
       "{'inputs': {'x': (int | float, 2), 'y': (int | float, 1)},\n",
       " 'outputs': {'diff': int | float}}"
      ]
     },
     "execution_count": 21,
     "metadata": {},
     "output_type": "execute_result"
    }
   ],
   "source": [
    "Subtract.preview_io()"
   ]
  },
  {
   "cell_type": "markdown",
   "id": "9e40da77-98dc-45d9-bf3a-202f82b38c4a",
   "metadata": {},
   "source": [
    "So is the node functionality, so we can still leverage our node as a normal function if we want:"
   ]
  },
  {
   "cell_type": "code",
   "execution_count": 22,
   "id": "b8c845b7-7088-43d7-b106-7a6ba1c571ec",
   "metadata": {},
   "outputs": [
    {
     "name": "stdout",
     "output_type": "stream",
     "text": [
      "default output = 1\n"
     ]
    }
   ],
   "source": [
    "@as_function_node(\"square_diff\")\n",
    "def SubtractAndSqaure(x: int | float = 1, y: int | float = 2) -> int | float:\n",
    "    return Subtract.node_function(x, y)**2\n",
    "    \n",
    "ssq = SubtractAndSqaure()\n",
    "ssq()\n",
    "print(\"default output =\", ssq.outputs.square_diff.value)"
   ]
  },
  {
   "cell_type": "markdown",
   "id": "9b9220b0-833d-4c6a-9929-5dfa60a47d14",
   "metadata": {
    "tags": []
   },
   "source": [
    "# Connecting nodes and controlling flow\n",
    "\n",
    "Multiple nodes can be used together to build a computational graph, with each node performing a particular operation in the overall workflow.\n",
    "\n",
    "The input and output of nodes can be chained together by connecting their data channels to form a data graph.\n",
    "\n",
    "The flow of execution can be manually configured by using other \"signal\" channels to form an execution graph. However, for data graphs that are a directed acyclic graph (DAG), the execution flow can be automatically determined from the topology of the data connections!\n",
    "\n",
    "The `run` command we saw above has several boolean flags for controlling the style of execution. The two main run modes are with a \"pull\" paradigm, where everything upstream on the graph of data connections is run first then the node invoking `pull` gets run; and with a \"push\" paradigm (the default for `run`), where the node invoking `run` gets run and then runs everything downstream on the execution graph. Calling an instantiated node runs a particularly aggressive version of `pull` that recursively pulls everything upstream, even breaking out of the context of this particular sub-graph to pull in parent graphs.\n",
    "\n",
    "We'll talk more about grouping nodes together inside a `Workflow` object, but without a parent workflow, only the `pull` method will automate execution signals; trying to push data downstream using `run` requires specifying the execution flow manually.\n",
    "\n",
    "Let's start by looking at `pull` in the example below to see how this works for a super-simple toy graph:"
   ]
  },
  {
   "cell_type": "code",
   "execution_count": 23,
   "id": "2e418abf-7059-4e1e-9b9f-b3dc0a4b5e35",
   "metadata": {
    "tags": []
   },
   "outputs": [
    {
     "data": {
      "text/plain": [
       "2"
      ]
     },
     "execution_count": 23,
     "metadata": {},
     "output_type": "execute_result"
    }
   ],
   "source": [
    "@as_function_node()\n",
    "def Linear(x):\n",
    "    return x\n",
    "\n",
    "@as_function_node(\"double\")\n",
    "def TimesTwo(x):\n",
    "    return 2 * x\n",
    "\n",
    "l = Linear()\n",
    "t2 = TimesTwo()\n",
    "\n",
    "l.inputs.x = 1\n",
    "t2.inputs.x = l.outputs.x\n",
    "t2.signals.input.run = l.signals.output.ran\n",
    "\n",
    "t2.pull()"
   ]
  },
  {
   "cell_type": "markdown",
   "id": "09623591-bbbb-462c-b490-f1db02c9f459",
   "metadata": {},
   "source": [
    "And, as mentioned, `__call__` is just (roughly) an alias for `pull`:"
   ]
  },
  {
   "cell_type": "code",
   "execution_count": 24,
   "id": "f3b0b700-683e-43cb-b374-48735e413bc9",
   "metadata": {},
   "outputs": [
    {
     "data": {
      "text/plain": [
       "4"
      ]
     },
     "execution_count": 24,
     "metadata": {},
     "output_type": "execute_result"
    }
   ],
   "source": [
    "l.inputs.x = 2\n",
    "t2()"
   ]
  },
  {
   "cell_type": "markdown",
   "id": "5da1ecfc-7145-4fb2-b5c0-417f050c5de4",
   "metadata": {},
   "source": [
    "Next, lets see how to do this with a \"push\" paradigm.\n",
    "\n",
    "Just like the data connections, we can connect the `.signals.inputs.run` and `.signals.output.ran` channels of two nodes, but we can also use the `>>` operator as a syntactic sugar shortcut.\n",
    "\n",
    "Note how data connections can be made with keyword arguments just like other input data definitions.\n",
    "\n",
    "With both of these together, we can write:"
   ]
  },
  {
   "cell_type": "code",
   "execution_count": 25,
   "id": "59c29856-c77e-48a1-9f17-15d4c58be588",
   "metadata": {},
   "outputs": [
    {
     "name": "stdout",
     "output_type": "stream",
     "text": [
      "10 20\n"
     ]
    }
   ],
   "source": [
    "l = Linear(x=10)\n",
    "t2 = TimesTwo(x=l.outputs.x)\n",
    "l >> t2  # Note: We can make arbitrarily long linear chains: l >> t2 >> something_else >> another_node\n",
    "l.run()\n",
    "print(t2.inputs.x, t2.outputs.double)"
   ]
  },
  {
   "cell_type": "markdown",
   "id": "f0543c2f-cc72-45e6-88f2-5ea070c64909",
   "metadata": {},
   "source": [
    "This is fine for linear chains, but when we introduce parallelization we want a different execution flow; for that we introduce `.signals.inputs.accumulate_and_run`. In contrast to `.signals.inputs.run`, which triggers are run when it receives _any_ signals, `.signals.inputs.accumulate_and_run` only fires its callback after _all_ of its connected `OutputSignal`s have pinged it at least once.\n",
    "\n",
    "This let's us set up nodes which only start running after _all_ of their up-data-stream nodes have fired their `ran` signal. This is the default behaviour when `Composite` `Workflow` or `Macro` nodes automate their execution flow for DAG data graphs. We'll look at it again near the end of the notebook when we talk about remote execution."
   ]
  },
  {
   "cell_type": "markdown",
   "id": "6d464066-4271-41be-a34f-20c78d75867c",
   "metadata": {},
   "source": [
    "# Output manipulation\n",
    "\n",
    "Most (but not all) python operations can be performed _directly on output channels_. This works by injecting new nodes after the output channels to perform the requested operation.\n",
    "\n",
    "Let's look at how we can repeat some of the above examples much more succinctly using this feature:"
   ]
  },
  {
   "cell_type": "code",
   "execution_count": 26,
   "id": "98312fbb-0e87-417c-9780-d22903cdb3f4",
   "metadata": {},
   "outputs": [
    {
     "data": {
      "text/plain": [
       "9"
      ]
     },
     "execution_count": 26,
     "metadata": {},
     "output_type": "execute_result"
    }
   ],
   "source": [
    "# Subtract and square\n",
    "\n",
    "x = Linear(x=4)\n",
    "y = Linear(x=1)\n",
    "((x.outputs.x - y.outputs.x)**2).pull()  # It's just a node so we can pull it"
   ]
  },
  {
   "cell_type": "markdown",
   "id": "c514738b-8dd9-4920-b6d0-d005e6676102",
   "metadata": {},
   "source": [
    "In case a node has _exactly_ one output channel, operations will fall back on attempting to operate on this one, unambiguous output channel -- i.e. we can operate on (and form connections to the output of) the node directly:"
   ]
  },
  {
   "cell_type": "code",
   "execution_count": 27,
   "id": "b0e8fc87-fba1-4501-882b-f162c4eadf97",
   "metadata": {},
   "outputs": [
    {
     "data": {
      "text/plain": [
       "20"
      ]
     },
     "execution_count": 27,
     "metadata": {},
     "output_type": "execute_result"
    }
   ],
   "source": [
    "# Times two\n",
    "l = Linear(x=10, run_after_init=True)\n",
    "(2*l).value  # These nodes will try to run right away if everything upstream is ready"
   ]
  },
  {
   "cell_type": "markdown",
   "id": "3052c26c-3559-4d61-8c93-08708293b88c",
   "metadata": {},
   "source": [
    "This also works with more sophisticated features like attribute and item access, including slicing:"
   ]
  },
  {
   "cell_type": "code",
   "execution_count": 28,
   "id": "7c4cbe66-9b0a-428b-835f-31959a7f75bb",
   "metadata": {},
   "outputs": [
    {
     "data": {
      "text/plain": [
       "[1, 2]"
      ]
     },
     "execution_count": 28,
     "metadata": {},
     "output_type": "execute_result"
    }
   ],
   "source": [
    "a_list = Linear(x=[1,2,3,4], run_after_init=True)\n",
    "a_list.outputs.x[:2].value  # Explicitly on the output channel"
   ]
  },
  {
   "cell_type": "code",
   "execution_count": 29,
   "id": "840d5762-ebb5-45aa-8faf-5443544bdeae",
   "metadata": {},
   "outputs": [
    {
     "data": {
      "text/plain": [
       "[1, 2]"
      ]
     },
     "execution_count": 29,
     "metadata": {},
     "output_type": "execute_result"
    }
   ],
   "source": [
    "a_list[:2].value  # Or directly on the single-output node"
   ]
  },
  {
   "cell_type": "code",
   "execution_count": 30,
   "id": "16c2d0de-de6f-4b33-84e4-aefbe5db4177",
   "metadata": {},
   "outputs": [
    {
     "data": {
      "text/plain": [
       "1"
      ]
     },
     "execution_count": 30,
     "metadata": {},
     "output_type": "execute_result"
    }
   ],
   "source": [
    "a_dict = Linear(x={\"a\": 1, \"b\": 2}, run_after_init=True)\n",
    "a_dict[\"a\"].value"
   ]
  },
  {
   "cell_type": "code",
   "execution_count": 31,
   "id": "30b4ed75-bb73-44bb-b6d9-fe525b924652",
   "metadata": {},
   "outputs": [
    {
     "data": {
      "text/plain": [
       "42"
      ]
     },
     "execution_count": 31,
     "metadata": {},
     "output_type": "execute_result"
    }
   ],
   "source": [
    "class Foo:\n",
    "    bar = 42\n",
    "    \n",
    "an_object = Linear(x=Foo(), run_after_init=True)\n",
    "an_object.bar.value"
   ]
  },
  {
   "cell_type": "markdown",
   "id": "eab9c6b6-c954-471a-8613-792590e0464f",
   "metadata": {},
   "source": [
    "Some features don't work this way, e.g. overriding the `==` operator has other deterious effects so we don't do that. Most of these operators are available as a method on output channels, based on their dunder name. E.g."
   ]
  },
  {
   "cell_type": "code",
   "execution_count": 32,
   "id": "786b1402-b595-4337-8872-fd58687c2725",
   "metadata": {},
   "outputs": [
    {
     "data": {
      "text/plain": [
       "(True, False)"
      ]
     },
     "execution_count": 32,
     "metadata": {},
     "output_type": "execute_result"
    }
   ],
   "source": [
    "a = Linear(x=42)\n",
    "b = Linear(x=42)\n",
    "c = Linear(x=0)\n",
    "\n",
    "a_eq_b = a.outputs.x.eq(b.outputs.x)  # On output channels explicitly\n",
    "a_eq_c = a.eq(c)  # Or the single-output nodes directly\n",
    "\n",
    "(a_eq_b | a_eq_c).pull(), (a_eq_b & a_eq_c).pull()"
   ]
  },
  {
   "cell_type": "markdown",
   "id": "b2e56a64-d053-4127-bb8c-069777c1c6b5",
   "metadata": {},
   "source": [
    "Nodes can take input from multiple sources, and -- although it's usually _useful_ to give each node its own variable -- we can even instantiate nodes inside the signature for initializing another node and call that node all at once! You won't have easy access to them afterwards, but this still just builds three nodes in memory, sets their data connections, and invokes a `pull` on the outermost (downstream-most) node, which automatically creates the execution flow and runs it:"
   ]
  },
  {
   "cell_type": "code",
   "execution_count": 33,
   "id": "6569014a-815b-46dd-8b47-4e1cd4584b3b",
   "metadata": {},
   "outputs": [
    {
     "data": {
      "text/plain": [
       "35"
      ]
     },
     "execution_count": 33,
     "metadata": {},
     "output_type": "execute_result"
    }
   ],
   "source": [
    "from pyiron_workflow import standard_nodes as std\n",
    "\n",
    "std.Subtract(\n",
    "    obj=std.UserInput(42),\n",
    "    other=std.UserInput(7)\n",
    ")()"
   ]
  },
  {
   "cell_type": "markdown",
   "id": "bd95ba27-e439-45cc-87d8-db587dc3b78c",
   "metadata": {},
   "source": [
    "## Edge cases\n",
    "\n",
    "If output labels aren't provided, we try to scrape them from the source code for the function -- but this has limitations, like that the source code needs to be available for inspection and that there's a single return value. \n",
    "\n",
    "If explicit output labels _are_ provided, we _still_ try to scrape them from the function source code just to make sure that everything lines up nicely. However, there are a couple of edge cases where you may want to tell the workflow code that you really know what you're serious about your labels and just use them without any validation.\n",
    "\n",
    "(Failing to find the source code to compare with only triggers a warning, so in-memory functions are still OK as long as you provide output labels.)\n",
    "\n",
    "Turning off this validation comes with some responsibility that your labels make sense and will work. Let's look at a couple examples:\n",
    "\n",
    "(1) You might want to return a single tuple, and break it appart into channels"
   ]
  },
  {
   "cell_type": "code",
   "execution_count": 34,
   "id": "1a43985b-98d7-4c56-b8fe-e6598298b44b",
   "metadata": {},
   "outputs": [
    {
     "data": {
      "text/plain": [
       "{'x0': 7, 'x1': 10.14}"
      ]
     },
     "execution_count": 34,
     "metadata": {},
     "output_type": "execute_result"
    }
   ],
   "source": [
    "@as_function_node(\"x0\", \"x1\", validate_output_labels=False)\n",
    "def ReturnsTuple(x: int) -> tuple[int, float]:\n",
    "    x = (x, x + 3.14)\n",
    "    return x\n",
    "\n",
    "from_tuple = ReturnsTuple(x=7, run_after_init=True)\n",
    "from_tuple.outputs.to_value_dict()"
   ]
  },
  {
   "cell_type": "markdown",
   "id": "cca66b86-763c-4082-aca1-b19fd7edcc3a",
   "metadata": {},
   "source": [
    "(2) To handle multiple return branches -- just be careful that the branches return the same number and type of values, or you may wind up with strange results."
   ]
  },
  {
   "cell_type": "code",
   "execution_count": 35,
   "id": "ab3ad9e6-2a5e-4b0f-82e3-9e7208970d22",
   "metadata": {},
   "outputs": [
    {
     "name": "stdout",
     "output_type": "stream",
     "text": [
      "True False\n"
     ]
    }
   ],
   "source": [
    "\n",
    "@as_function_node(\"bool\", validate_output_labels=False)\n",
    "def MultipleBranches(x):\n",
    "    if x < 10:\n",
    "        return True\n",
    "    else:\n",
    "        return False\n",
    "\n",
    "switch = MultipleBranches()\n",
    "print(switch(3), switch(13))"
   ]
  },
  {
   "cell_type": "markdown",
   "id": "5dc12164-b663-405b-872f-756996f628bd",
   "metadata": {},
   "source": [
    "# Workflows\n",
    "\n",
    "The case where we have groups of connected nodes working together is our normal, intended use case.\n",
    "We offer a formal way to group these objects together as a `Workflow` object.\n",
    "`Workflow` also offers us a single point of entry to the codebase -- i.e. most of the time you shouldn't need the node imports used above, because the decorators are available right on the workflow class.\n",
    "\n",
    "We will also see here that we can rename our node output channels using the `outputs_map: dict[str, str]` kwarg, in case they don't have a convenient name to start with.\n",
    "This way we can always have convenient dot-based access (and tab completion) instead of having to access things by string-based keys.\n",
    "\n",
    "Finally, when a workflow is run, unless its `automate_execution` flag has been set to `False` or the data connections form a cyclic graph, it will _automatically_ build the necessary run signals! That means for all directed acyclic graph (DAG) workflows, all we typically need to worry about is the data connections."
   ]
  },
  {
   "cell_type": "markdown",
   "id": "9b9d3881-3584-4d6f-8068-5eed05760c36",
   "metadata": {},
   "source": [
    "Here is an example showing how `Workflow` can be used as a single-point-of-import for defining new nodes:"
   ]
  },
  {
   "cell_type": "code",
   "execution_count": 36,
   "id": "1cd000bd-9b24-4c39-9cac-70a3291d0660",
   "metadata": {},
   "outputs": [],
   "source": [
    "from pyiron_workflow import Workflow\n",
    "\n",
    "@Workflow.wrap.as_function_node(\"is_greater\")\n",
    "def GreaterThanHalf(x: int | float | bool = 0) -> bool:\n",
    "    \"\"\"The functionality doesn't matter here, it's just an example\"\"\"\n",
    "    return x > 0.5"
   ]
  },
  {
   "cell_type": "markdown",
   "id": "8f17751c-f5bf-4b13-8275-0685d8a1629e",
   "metadata": {},
   "source": [
    "## Adding nodes to a workflow\n",
    "\n",
    "Each node can belong to exactly one workflow...but how to we create a workflow and add nodes to it\n",
    "\n",
    "All five of the approaches below are equivalent ways to add a node to a workflow. Note that when `create` is called from the workflow _class_ it just gives you access to the class being created; when it is called from a workflow _instance_, it wraps this class so that the created node has its parent value automatically set to the workflow instance that's creating it."
   ]
  },
  {
   "cell_type": "code",
   "execution_count": 37,
   "id": "7964df3c-55af-4c25-afc5-9e07accb606a",
   "metadata": {},
   "outputs": [
    {
     "name": "stdout",
     "output_type": "stream",
     "text": [
      "n1 == n1) 0.0 > 0.5 False\n",
      "n2 == n2) 0.25 > 0.5 False\n",
      "n3 == n3) 0.5 > 0.5 False\n",
      "n4 == n4) 0.75 > 0.5 True\n"
     ]
    }
   ],
   "source": [
    "n1 = GreaterThanHalf(label=\"n1\")\n",
    "\n",
    "wf = Workflow(\"my_wf\", n1)  # As args at init\n",
    "wf.add_child(GreaterThanHalf(label=\"n2\"))  # Instantiating then passing to node adder\n",
    "wf.n3 = GreaterThanHalf(label=\"will_get_overwritten_with_n3\")  # Set attribute to instance\n",
    "GreaterThanHalf(label=\"n4\", parent=wf)  # By passing the workflow to the node\n",
    "\n",
    "for i, (label, node) in enumerate(wf.children.items()):\n",
    "    x = i / len(wf)\n",
    "    node(x=x)\n",
    "    print(f\"{label} == {node.label}) {x} > 0.5 {node.value}\")"
   ]
  },
  {
   "cell_type": "markdown",
   "id": "77c68bcb-089c-4c92-9897-9a7ab9b087c7",
   "metadata": {},
   "source": [
    "Nodes can also be removed or replaced with the corresponding `remove_child` or `replace_child` methods."
   ]
  },
  {
   "cell_type": "markdown",
   "id": "dd5768a4-1810-4675-9389-bceb053cddfa",
   "metadata": {},
   "source": [
    "Workflows have inputs and outputs just like function nodes, but these are dynamically created to map to all _unconnected_ input and output for their underlying graph. They automatically get named by connecting the node label and channel label with a double underscore, but this can be overriden by providing an `inputs_map` and/or an `outputs_map` -- these maps can also let you expose data channels that would otherwise be hidden because they have a connection!"
   ]
  },
  {
   "cell_type": "code",
   "execution_count": 38,
   "id": "809178a5-2e6b-471d-89ef-0797db47c5ad",
   "metadata": {},
   "outputs": [
    {
     "name": "stdout",
     "output_type": "stream",
     "text": [
      "inputs: ['a', 'b']\n",
      "outputs: ['a + 1', 'a + b + 2']\n"
     ]
    }
   ],
   "source": [
    "wf = Workflow(\"simple\")\n",
    "\n",
    "@Workflow.wrap.as_function_node()\n",
    "def AddOne(x):\n",
    "    y = x + 1\n",
    "    return y\n",
    "\n",
    "@Workflow.wrap.as_function_node(\"sum\")\n",
    "def Add(x, y):\n",
    "    return x + y\n",
    "\n",
    "wf.a = AddOne(0)\n",
    "wf.b = AddOne(0)\n",
    "wf.sum = Add(wf.a, wf.b)  \n",
    "wf.inputs_map = {\"a__x\": \"a\", \"b__x\": \"b\"}\n",
    "wf.outputs_map = {\"a__y\": \"a + 1\", \"sum__sum\": \"a + b + 2\"}\n",
    "# Remember, with single value nodes we can pass the whole node instead of an output channel!\n",
    "\n",
    "print(\"inputs:\", wf.inputs.labels)\n",
    "print(\"outputs:\", wf.outputs.labels)"
   ]
  },
  {
   "cell_type": "markdown",
   "id": "848a45a9-dfcc-4b9e-aec5-e879d88325a2",
   "metadata": {},
   "source": [
    "When `run()` is called on a workflow, it will call `run()` on each node in its `starting_nodes` list and rely on these to propagate the execution with their run signals. If your data flow is DAG-like, all of this gets handled automatically so you just need to call `run()` on the workflow.\n",
    "\n",
    "If you do have cyclic data flows, or just want more control, you are still free to set the `starting_nodes` and run signals yourself, just don't forget to set `automate_execution=False` on the workflow."
   ]
  },
  {
   "cell_type": "markdown",
   "id": "18ba07ca-f1f9-4f05-98db-d5612f9acbb6",
   "metadata": {},
   "source": [
    "Unlike function nodes, workflow input has no intrinsic order. We can still update it by calling the workflow, but we _need_ to use keyword and not positional arguments. Runs of the workflow then return a dot-accessible dictionary based on the output channels:"
   ]
  },
  {
   "cell_type": "code",
   "execution_count": 39,
   "id": "52c48d19-10a2-4c48-ae81-eceea4129a60",
   "metadata": {},
   "outputs": [
    {
     "data": {
      "text/plain": [
       "{'a + 1': 3, 'a + b + 2': 7}"
      ]
     },
     "execution_count": 39,
     "metadata": {},
     "output_type": "execute_result"
    }
   ],
   "source": [
    "out = wf(a=2, b=3)\n",
    "out"
   ]
  },
  {
   "cell_type": "markdown",
   "id": "a229a66b-54f0-4d79-a16f-669c5f755587",
   "metadata": {},
   "source": [
    "Note: Workflows are the \"parent-most\" node, so even though `__call__` is still invoking a `pull`, the \"run all upstream data dependencies\" part of \"run all upstream data dependencies then run yourself\" gets skipped trivially -- workflows can't have siblings or parents so there are no dependencies to run! Thus `__call__` is effectively just a `run`."
   ]
  },
  {
   "cell_type": "markdown",
   "id": "e3f4b51b-7c28-47f7-9822-b4755e12bd4d",
   "metadata": {},
   "source": [
    "We can see now why we've been trying to give succinct string labels to our `Function` node outputs instead of just arbitrary expressions! The expressions are typically not dot-accessible, but can still be grabbed with a key:"
   ]
  },
  {
   "cell_type": "code",
   "execution_count": 40,
   "id": "bb35ba3e-602d-4c9c-b046-32da9401dd1c",
   "metadata": {},
   "outputs": [
    {
     "data": {
      "text/plain": [
       "7"
      ]
     },
     "execution_count": 40,
     "metadata": {},
     "output_type": "execute_result"
    }
   ],
   "source": [
    "out[\"a + b + 2\"]"
   ]
  },
  {
   "cell_type": "markdown",
   "id": "c67ddcd9-cea0-4f3f-96aa-491da0a4c459",
   "metadata": {},
   "source": [
    "We can also visualize our graph!"
   ]
  },
  {
   "cell_type": "code",
   "execution_count": 41,
   "id": "2b0d2c85-9049-417b-8739-8a8432a1efbe",
   "metadata": {},
   "outputs": [
    {
     "data": {
      "image/svg+xml": [
       "<?xml version=\"1.0\" encoding=\"UTF-8\" standalone=\"no\"?>\n",
       "<!DOCTYPE svg PUBLIC \"-//W3C//DTD SVG 1.1//EN\"\n",
       " \"http://www.w3.org/Graphics/SVG/1.1/DTD/svg11.dtd\">\n",
       "<!-- Generated by graphviz version 9.0.0 (0)\n",
       " -->\n",
       "<!-- Title: clustersimple Pages: 1 -->\n",
       "<svg width=\"720pt\" height=\"384pt\"\n",
       " viewBox=\"0.00 0.00 720.00 383.61\" xmlns=\"http://www.w3.org/2000/svg\" xmlns:xlink=\"http://www.w3.org/1999/xlink\">\n",
       "<g id=\"graph0\" class=\"graph\" transform=\"scale(0.706463 0.706463) rotate(0) translate(4 539)\">\n",
       "<title>clustersimple</title>\n",
       "<polygon fill=\"white\" stroke=\"none\" points=\"-4,4 -4,-539 1015.16,-539 1015.16,4 -4,4\"/>\n",
       "<text text-anchor=\"middle\" x=\"505.58\" y=\"-5.7\" font-family=\"Helvetica,sans-Serif\" font-size=\"14.00\">simple: Workflow</text>\n",
       "<g id=\"clust1\" class=\"cluster\">\n",
       "<title>clustersimpleInputs</title>\n",
       "<defs>\n",
       "<linearGradient id=\"clust1_l_0\" gradientUnits=\"userSpaceOnUse\" x1=\"8\" y1=\"-149.5\" x2=\"166.75\" y2=\"-149.5\" >\n",
       "<stop offset=\"0\" style=\"stop-color:#a5a4a5;stop-opacity:1.;\"/>\n",
       "<stop offset=\"1\" style=\"stop-color:#e4e3e4;stop-opacity:1.;\"/>\n",
       "</linearGradient>\n",
       "</defs>\n",
       "<polygon fill=\"url(#clust1_l_0)\" stroke=\"#a5a4a5\" points=\"8,-31 8,-268 166.75,-268 166.75,-31 8,-31\"/>\n",
       "<text text-anchor=\"middle\" x=\"87.38\" y=\"-250.7\" font-family=\"Helvetica,sans-Serif\" font-size=\"14.00\">Inputs</text>\n",
       "</g>\n",
       "<g id=\"clust2\" class=\"cluster\">\n",
       "<title>clustersimpleOutputs</title>\n",
       "<defs>\n",
       "<linearGradient id=\"clust2_l_1\" gradientUnits=\"userSpaceOnUse\" x1=\"1003.16\" y1=\"-282.5\" x2=\"896.17\" y2=\"-282.5\" >\n",
       "<stop offset=\"0\" style=\"stop-color:#a5a4a5;stop-opacity:1.;\"/>\n",
       "<stop offset=\"1\" style=\"stop-color:#e4e3e4;stop-opacity:1.;\"/>\n",
       "</linearGradient>\n",
       "</defs>\n",
       "<polygon fill=\"url(#clust2_l_1)\" stroke=\"#a5a4a5\" points=\"896.17,-191 896.17,-374 1003.16,-374 1003.16,-191 896.17,-191\"/>\n",
       "<text text-anchor=\"middle\" x=\"949.67\" y=\"-356.7\" font-family=\"Helvetica,sans-Serif\" font-size=\"14.00\">Outputs</text>\n",
       "</g>\n",
       "<g id=\"clust3\" class=\"cluster\">\n",
       "<title>clustersimplea</title>\n",
       "<defs>\n",
       "<linearGradient id=\"clust3_l_2\" gradientUnits=\"userSpaceOnUse\" x1=\"178.75\" y1=\"-416\" x2=\"531.5\" y2=\"-416\" >\n",
       "<stop offset=\"0\" style=\"stop-color:#bfe2bf;stop-opacity:1.;\"/>\n",
       "<stop offset=\"1\" style=\"stop-color:#bfe2bf;stop-opacity:1.;\"/>\n",
       "</linearGradient>\n",
       "</defs>\n",
       "<polygon fill=\"url(#clust3_l_2)\" stroke=\"#bfe2bf\" points=\"178.75,-305 178.75,-527 531.5,-527 531.5,-305 178.75,-305\"/>\n",
       "<text text-anchor=\"middle\" x=\"355.12\" y=\"-509.7\" font-family=\"Helvetica,sans-Serif\" font-size=\"14.00\">a: AddOne</text>\n",
       "</g>\n",
       "<g id=\"clust4\" class=\"cluster\">\n",
       "<title>clustersimpleaInputs</title>\n",
       "<defs>\n",
       "<linearGradient id=\"clust4_l_3\" gradientUnits=\"userSpaceOnUse\" x1=\"186.75\" y1=\"-404.5\" x2=\"345.5\" y2=\"-404.5\" >\n",
       "<stop offset=\"0\" style=\"stop-color:#a5a4a5;stop-opacity:1.;\"/>\n",
       "<stop offset=\"1\" style=\"stop-color:#e4e3e4;stop-opacity:1.;\"/>\n",
       "</linearGradient>\n",
       "</defs>\n",
       "<polygon fill=\"url(#clust4_l_3)\" stroke=\"#a5a4a5\" points=\"186.75,-313 186.75,-496 345.5,-496 345.5,-313 186.75,-313\"/>\n",
       "<text text-anchor=\"middle\" x=\"266.12\" y=\"-478.7\" font-family=\"Helvetica,sans-Serif\" font-size=\"14.00\">Inputs</text>\n",
       "</g>\n",
       "<g id=\"clust5\" class=\"cluster\">\n",
       "<title>clustersimpleaOutputsWithInjection</title>\n",
       "<defs>\n",
       "<linearGradient id=\"clust5_l_4\" gradientUnits=\"userSpaceOnUse\" x1=\"523.5\" y1=\"-392.5\" x2=\"381.5\" y2=\"-392.5\" >\n",
       "<stop offset=\"0\" style=\"stop-color:#a5a4a5;stop-opacity:1.;\"/>\n",
       "<stop offset=\"1\" style=\"stop-color:#e4e3e4;stop-opacity:1.;\"/>\n",
       "</linearGradient>\n",
       "</defs>\n",
       "<polygon fill=\"url(#clust5_l_4)\" stroke=\"#a5a4a5\" points=\"381.5,-328 381.5,-457 523.5,-457 523.5,-328 381.5,-328\"/>\n",
       "<text text-anchor=\"middle\" x=\"452.5\" y=\"-439.7\" font-family=\"Helvetica,sans-Serif\" font-size=\"14.00\">OutputsWithInjection</text>\n",
       "</g>\n",
       "<g id=\"clust6\" class=\"cluster\">\n",
       "<title>clustersimpleb</title>\n",
       "<defs>\n",
       "<linearGradient id=\"clust6_l_5\" gradientUnits=\"userSpaceOnUse\" x1=\"178.75\" y1=\"-186\" x2=\"531.5\" y2=\"-186\" >\n",
       "<stop offset=\"0\" style=\"stop-color:#bfe2bf;stop-opacity:1.;\"/>\n",
       "<stop offset=\"1\" style=\"stop-color:#bfe2bf;stop-opacity:1.;\"/>\n",
       "</linearGradient>\n",
       "</defs>\n",
       "<polygon fill=\"url(#clust6_l_5)\" stroke=\"#bfe2bf\" points=\"178.75,-75 178.75,-297 531.5,-297 531.5,-75 178.75,-75\"/>\n",
       "<text text-anchor=\"middle\" x=\"355.12\" y=\"-279.7\" font-family=\"Helvetica,sans-Serif\" font-size=\"14.00\">b: AddOne</text>\n",
       "</g>\n",
       "<g id=\"clust7\" class=\"cluster\">\n",
       "<title>clustersimplebInputs</title>\n",
       "<defs>\n",
       "<linearGradient id=\"clust7_l_6\" gradientUnits=\"userSpaceOnUse\" x1=\"186.75\" y1=\"-174.5\" x2=\"345.5\" y2=\"-174.5\" >\n",
       "<stop offset=\"0\" style=\"stop-color:#a5a4a5;stop-opacity:1.;\"/>\n",
       "<stop offset=\"1\" style=\"stop-color:#e4e3e4;stop-opacity:1.;\"/>\n",
       "</linearGradient>\n",
       "</defs>\n",
       "<polygon fill=\"url(#clust7_l_6)\" stroke=\"#a5a4a5\" points=\"186.75,-83 186.75,-266 345.5,-266 345.5,-83 186.75,-83\"/>\n",
       "<text text-anchor=\"middle\" x=\"266.12\" y=\"-248.7\" font-family=\"Helvetica,sans-Serif\" font-size=\"14.00\">Inputs</text>\n",
       "</g>\n",
       "<g id=\"clust8\" class=\"cluster\">\n",
       "<title>clustersimplebOutputsWithInjection</title>\n",
       "<defs>\n",
       "<linearGradient id=\"clust8_l_7\" gradientUnits=\"userSpaceOnUse\" x1=\"523.5\" y1=\"-201.5\" x2=\"381.5\" y2=\"-201.5\" >\n",
       "<stop offset=\"0\" style=\"stop-color:#a5a4a5;stop-opacity:1.;\"/>\n",
       "<stop offset=\"1\" style=\"stop-color:#e4e3e4;stop-opacity:1.;\"/>\n",
       "</linearGradient>\n",
       "</defs>\n",
       "<polygon fill=\"url(#clust8_l_7)\" stroke=\"#a5a4a5\" points=\"381.5,-137 381.5,-266 523.5,-266 523.5,-137 381.5,-137\"/>\n",
       "<text text-anchor=\"middle\" x=\"452.5\" y=\"-248.7\" font-family=\"Helvetica,sans-Serif\" font-size=\"14.00\">OutputsWithInjection</text>\n",
       "</g>\n",
       "<g id=\"clust9\" class=\"cluster\">\n",
       "<title>clustersimplesum</title>\n",
       "<defs>\n",
       "<linearGradient id=\"clust9_l_8\" gradientUnits=\"userSpaceOnUse\" x1=\"539.5\" y1=\"-267\" x2=\"884.17\" y2=\"-267\" >\n",
       "<stop offset=\"0\" style=\"stop-color:#bfe2bf;stop-opacity:1.;\"/>\n",
       "<stop offset=\"1\" style=\"stop-color:#bfe2bf;stop-opacity:1.;\"/>\n",
       "</linearGradient>\n",
       "</defs>\n",
       "<polygon fill=\"url(#clust9_l_8)\" stroke=\"#bfe2bf\" points=\"539.5,-129 539.5,-405 884.17,-405 884.17,-129 539.5,-129\"/>\n",
       "<text text-anchor=\"middle\" x=\"711.84\" y=\"-387.7\" font-family=\"Helvetica,sans-Serif\" font-size=\"14.00\">sum: Add</text>\n",
       "</g>\n",
       "<g id=\"clust10\" class=\"cluster\">\n",
       "<title>clustersimplesumInputs</title>\n",
       "<defs>\n",
       "<linearGradient id=\"clust10_l_9\" gradientUnits=\"userSpaceOnUse\" x1=\"547.5\" y1=\"-255.5\" x2=\"706.25\" y2=\"-255.5\" >\n",
       "<stop offset=\"0\" style=\"stop-color:#a5a4a5;stop-opacity:1.;\"/>\n",
       "<stop offset=\"1\" style=\"stop-color:#e4e3e4;stop-opacity:1.;\"/>\n",
       "</linearGradient>\n",
       "</defs>\n",
       "<polygon fill=\"url(#clust10_l_9)\" stroke=\"#a5a4a5\" points=\"547.5,-137 547.5,-374 706.25,-374 706.25,-137 547.5,-137\"/>\n",
       "<text text-anchor=\"middle\" x=\"626.88\" y=\"-356.7\" font-family=\"Helvetica,sans-Serif\" font-size=\"14.00\">Inputs</text>\n",
       "</g>\n",
       "<g id=\"clust11\" class=\"cluster\">\n",
       "<title>clustersimplesumOutputsWithInjection</title>\n",
       "<defs>\n",
       "<linearGradient id=\"clust11_l_10\" gradientUnits=\"userSpaceOnUse\" x1=\"876.17\" y1=\"-309.5\" x2=\"734.25\" y2=\"-309.5\" >\n",
       "<stop offset=\"0\" style=\"stop-color:#a5a4a5;stop-opacity:1.;\"/>\n",
       "<stop offset=\"1\" style=\"stop-color:#e4e3e4;stop-opacity:1.;\"/>\n",
       "</linearGradient>\n",
       "</defs>\n",
       "<polygon fill=\"url(#clust11_l_10)\" stroke=\"#a5a4a5\" points=\"734.25,-245 734.25,-374 876.17,-374 876.17,-245 734.25,-245\"/>\n",
       "<text text-anchor=\"middle\" x=\"805.21\" y=\"-356.7\" font-family=\"Helvetica,sans-Serif\" font-size=\"14.00\">OutputsWithInjection</text>\n",
       "</g>\n",
       "<!-- clustersimpleInputsrun -->\n",
       "<g id=\"node1\" class=\"node\">\n",
       "<title>clustersimpleInputsrun</title>\n",
       "<polygon fill=\"#21bfd8\" stroke=\"#21bfd8\" points=\"102.38,-69 60.38,-69 60.38,-45 102.38,-45 114.38,-57 102.38,-69\"/>\n",
       "<text text-anchor=\"middle\" x=\"87.38\" y=\"-51.2\" font-family=\"Helvetica,sans-Serif\" font-size=\"14.00\">run</text>\n",
       "</g>\n",
       "<!-- clustersimpleOutputsran -->\n",
       "<g id=\"node5\" class=\"node\">\n",
       "<title>clustersimpleOutputsran</title>\n",
       "<polygon fill=\"#21bfd8\" stroke=\"#21bfd8\" points=\"964.67,-229 922.67,-229 922.67,-205 964.67,-205 976.67,-217 964.67,-229\"/>\n",
       "<text text-anchor=\"middle\" x=\"949.67\" y=\"-211.2\" font-family=\"Helvetica,sans-Serif\" font-size=\"14.00\">ran</text>\n",
       "</g>\n",
       "<!-- clustersimpleInputsrun&#45;&gt;clustersimpleOutputsran -->\n",
       "<!-- clustersimpleInputsaccumulate_and_run -->\n",
       "<g id=\"node2\" class=\"node\">\n",
       "<title>clustersimpleInputsaccumulate_and_run</title>\n",
       "<polygon fill=\"#21bfd8\" stroke=\"#21bfd8\" points=\"146.75,-177 16,-177 16,-153 146.75,-153 158.75,-165 146.75,-177\"/>\n",
       "<text text-anchor=\"middle\" x=\"87.38\" y=\"-159.2\" font-family=\"Helvetica,sans-Serif\" font-size=\"14.00\">accumulate_and_run</text>\n",
       "</g>\n",
       "<!-- clustersimpleInputsa -->\n",
       "<g id=\"node3\" class=\"node\">\n",
       "<title>clustersimpleInputsa</title>\n",
       "<ellipse fill=\"#edb22c\" stroke=\"#edb22c\" cx=\"87.38\" cy=\"-219\" rx=\"27\" ry=\"18\"/>\n",
       "<text text-anchor=\"middle\" x=\"87.38\" y=\"-213.2\" font-family=\"Helvetica,sans-Serif\" font-size=\"14.00\">a</text>\n",
       "</g>\n",
       "<!-- clustersimpleaInputsx -->\n",
       "<g id=\"node10\" class=\"node\">\n",
       "<title>clustersimpleaInputsx</title>\n",
       "<ellipse fill=\"#edb22c\" stroke=\"#edb22c\" cx=\"266.12\" cy=\"-339\" rx=\"27\" ry=\"18\"/>\n",
       "<text text-anchor=\"middle\" x=\"266.12\" y=\"-333.2\" font-family=\"Helvetica,sans-Serif\" font-size=\"14.00\">x</text>\n",
       "</g>\n",
       "<!-- clustersimpleInputsa&#45;&gt;clustersimpleaInputsx -->\n",
       "<g id=\"edge9\" class=\"edge\">\n",
       "<title>clustersimpleInputsa&#45;&gt;clustersimpleaInputsx</title>\n",
       "<path fill=\"none\" stroke=\"#edb22c\" d=\"M106.96,-231.62C122.54,-242.19 146.06,-258.17 170.24,-274.58\"/>\n",
       "<path fill=\"none\" stroke=\"#edb22c\" d=\"M170.24,-274.58C194.42,-291 219.26,-307.86 237.45,-320.21\"/>\n",
       "<polygon fill=\"#edb22c\" stroke=\"#edb22c\" points=\"235.04,-322.8 245.28,-325.52 238.97,-317.01 235.04,-322.8\"/>\n",
       "</g>\n",
       "<!-- clustersimpleInputsb -->\n",
       "<g id=\"node4\" class=\"node\">\n",
       "<title>clustersimpleInputsb</title>\n",
       "<ellipse fill=\"#edb22c\" stroke=\"#edb22c\" cx=\"87.38\" cy=\"-111\" rx=\"27\" ry=\"18\"/>\n",
       "<text text-anchor=\"middle\" x=\"87.38\" y=\"-105.2\" font-family=\"Helvetica,sans-Serif\" font-size=\"14.00\">b</text>\n",
       "</g>\n",
       "<!-- clustersimplebInputsx -->\n",
       "<g id=\"node15\" class=\"node\">\n",
       "<title>clustersimplebInputsx</title>\n",
       "<ellipse fill=\"#edb22c\" stroke=\"#edb22c\" cx=\"266.12\" cy=\"-109\" rx=\"27\" ry=\"18\"/>\n",
       "<text text-anchor=\"middle\" x=\"266.12\" y=\"-103.2\" font-family=\"Helvetica,sans-Serif\" font-size=\"14.00\">x</text>\n",
       "</g>\n",
       "<!-- clustersimpleInputsb&#45;&gt;clustersimplebInputsx -->\n",
       "<g id=\"edge10\" class=\"edge\">\n",
       "<title>clustersimpleInputsb&#45;&gt;clustersimplebInputsx</title>\n",
       "<path fill=\"none\" stroke=\"#edb22c\" d=\"M114.84,-110.7C129.78,-110.53 149.48,-110.31 169.67,-110.08\"/>\n",
       "<path fill=\"none\" stroke=\"#edb22c\" d=\"M169.67,-110.08C189.86,-109.85 210.55,-109.62 227.48,-109.43\"/>\n",
       "<polygon fill=\"#edb22c\" stroke=\"#edb22c\" points=\"227.3,-112.93 237.26,-109.32 227.22,-105.93 227.3,-112.93\"/>\n",
       "</g>\n",
       "<!-- clustersimpleOutputsa + 1 -->\n",
       "<g id=\"node6\" class=\"node\">\n",
       "<title>clustersimpleOutputsa + 1</title>\n",
       "<ellipse fill=\"#edb22c\" stroke=\"#edb22c\" cx=\"949.67\" cy=\"-325\" rx=\"30.38\" ry=\"18\"/>\n",
       "<text text-anchor=\"middle\" x=\"949.67\" y=\"-319.2\" font-family=\"Helvetica,sans-Serif\" font-size=\"14.00\">a + 1</text>\n",
       "</g>\n",
       "<!-- clustersimpleOutputsa + b + 2 -->\n",
       "<g id=\"node7\" class=\"node\">\n",
       "<title>clustersimpleOutputsa + b + 2</title>\n",
       "<ellipse fill=\"#edb22c\" stroke=\"#edb22c\" cx=\"949.67\" cy=\"-271\" rx=\"45.5\" ry=\"18\"/>\n",
       "<text text-anchor=\"middle\" x=\"949.67\" y=\"-265.2\" font-family=\"Helvetica,sans-Serif\" font-size=\"14.00\">a + b + 2</text>\n",
       "</g>\n",
       "<!-- clustersimpleaInputsrun -->\n",
       "<g id=\"node8\" class=\"node\">\n",
       "<title>clustersimpleaInputsrun</title>\n",
       "<polygon fill=\"#21bfd8\" stroke=\"#21bfd8\" points=\"281.12,-459 239.12,-459 239.12,-435 281.12,-435 293.12,-447 281.12,-459\"/>\n",
       "<text text-anchor=\"middle\" x=\"266.12\" y=\"-441.2\" font-family=\"Helvetica,sans-Serif\" font-size=\"14.00\">run</text>\n",
       "</g>\n",
       "<!-- clustersimpleaOutputsWithInjectionran -->\n",
       "<g id=\"node11\" class=\"node\">\n",
       "<title>clustersimpleaOutputsWithInjectionran</title>\n",
       "<polygon fill=\"#21bfd8\" stroke=\"#21bfd8\" points=\"467.5,-366 425.5,-366 425.5,-342 467.5,-342 479.5,-354 467.5,-366\"/>\n",
       "<text text-anchor=\"middle\" x=\"452.5\" y=\"-348.2\" font-family=\"Helvetica,sans-Serif\" font-size=\"14.00\">ran</text>\n",
       "</g>\n",
       "<!-- clustersimpleaInputsrun&#45;&gt;clustersimpleaOutputsWithInjectionran -->\n",
       "<!-- clustersimpleaInputsaccumulate_and_run -->\n",
       "<g id=\"node9\" class=\"node\">\n",
       "<title>clustersimpleaInputsaccumulate_and_run</title>\n",
       "<polygon fill=\"#21bfd8\" stroke=\"#21bfd8\" points=\"325.5,-405 194.75,-405 194.75,-381 325.5,-381 337.5,-393 325.5,-405\"/>\n",
       "<text text-anchor=\"middle\" x=\"266.12\" y=\"-387.2\" font-family=\"Helvetica,sans-Serif\" font-size=\"14.00\">accumulate_and_run</text>\n",
       "</g>\n",
       "<!-- clustersimplesumInputsaccumulate_and_run -->\n",
       "<g id=\"node19\" class=\"node\">\n",
       "<title>clustersimplesumInputsaccumulate_and_run</title>\n",
       "<polygon fill=\"#21bfd8\" stroke=\"#21bfd8\" points=\"686.25,-229 555.5,-229 555.5,-205 686.25,-205 698.25,-217 686.25,-229\"/>\n",
       "<text text-anchor=\"middle\" x=\"626.88\" y=\"-211.2\" font-family=\"Helvetica,sans-Serif\" font-size=\"14.00\">accumulate_and_run</text>\n",
       "</g>\n",
       "<!-- clustersimpleaOutputsWithInjectionran&#45;&gt;clustersimplesumInputsaccumulate_and_run -->\n",
       "<g id=\"edge5\" class=\"edge\">\n",
       "<title>clustersimpleaOutputsWithInjectionran&#45;&gt;clustersimplesumInputsaccumulate_and_run</title>\n",
       "<path fill=\"none\" stroke=\"#21bfd8\" d=\"M475.22,-335.7C488.18,-324 504.73,-307.63 518.46,-289.48\"/>\n",
       "<path fill=\"none\" stroke=\"#21bfd8\" d=\"M518.46,-289.48C523.24,-283.16 527.67,-276.63 531.5,-270 537.54,-259.53 530.97,-252.57 539.5,-244 541.49,-242 543.62,-240.15 545.87,-238.44\"/>\n",
       "<polygon fill=\"#21bfd8\" stroke=\"#21bfd8\" points=\"547.3,-241.69 553.78,-233.31 543.49,-235.81 547.3,-241.69\"/>\n",
       "</g>\n",
       "<!-- clustersimpleaOutputsWithInjectiony -->\n",
       "<g id=\"node12\" class=\"node\">\n",
       "<title>clustersimpleaOutputsWithInjectiony</title>\n",
       "<ellipse fill=\"#edb22c\" stroke=\"#edb22c\" cx=\"452.5\" cy=\"-408\" rx=\"27\" ry=\"18\"/>\n",
       "<text text-anchor=\"middle\" x=\"452.5\" y=\"-402.2\" font-family=\"Helvetica,sans-Serif\" font-size=\"14.00\">y</text>\n",
       "</g>\n",
       "<!-- clustersimpleaOutputsWithInjectiony&#45;&gt;clustersimpleOutputsa + 1 -->\n",
       "<g id=\"edge11\" class=\"edge\">\n",
       "<title>clustersimpleaOutputsWithInjectiony&#45;&gt;clustersimpleOutputsa + 1</title>\n",
       "<path fill=\"none\" stroke=\"#edb22c\" d=\"M479.45,-411.49C518.18,-416.08 595.84,-423.01 681.97,-418.03\"/>\n",
       "<path fill=\"none\" stroke=\"#edb22c\" d=\"M681.97,-418.03C749.02,-414.15 821.22,-403.05 884.17,-378 900.05,-371.68 914.99,-359.94 926.48,-349.1\"/>\n",
       "<polygon fill=\"#edb22c\" stroke=\"#edb22c\" points=\"928.84,-351.69 933.48,-342.17 923.91,-346.72 928.84,-351.69\"/>\n",
       "</g>\n",
       "<!-- clustersimplesumInputsx -->\n",
       "<g id=\"node20\" class=\"node\">\n",
       "<title>clustersimplesumInputsx</title>\n",
       "<ellipse fill=\"#edb22c\" stroke=\"#edb22c\" cx=\"626.88\" cy=\"-271\" rx=\"27\" ry=\"18\"/>\n",
       "<text text-anchor=\"middle\" x=\"626.88\" y=\"-265.2\" font-family=\"Helvetica,sans-Serif\" font-size=\"14.00\">x</text>\n",
       "</g>\n",
       "<!-- clustersimpleaOutputsWithInjectiony&#45;&gt;clustersimplesumInputsx -->\n",
       "<g id=\"edge6\" class=\"edge\">\n",
       "<title>clustersimpleaOutputsWithInjectiony&#45;&gt;clustersimplesumInputsx</title>\n",
       "<path fill=\"none\" stroke=\"#edb22c\" d=\"M479.77,-406.04C497.24,-403.27 519.18,-396.65 531.5,-381 542.64,-366.84 539.32,-353.63 535.65,-340.49\"/>\n",
       "<path fill=\"none\" stroke=\"#edb22c\" d=\"M535.65,-340.49C531.77,-326.6 527.5,-312.78 539.5,-298 551.3,-283.46 570.84,-276.61 588.35,-273.44\"/>\n",
       "<polygon fill=\"#edb22c\" stroke=\"#edb22c\" points=\"588.84,-276.9 598.25,-272.02 587.85,-269.97 588.84,-276.9\"/>\n",
       "</g>\n",
       "<!-- clustersimplebInputsrun -->\n",
       "<g id=\"node13\" class=\"node\">\n",
       "<title>clustersimplebInputsrun</title>\n",
       "<polygon fill=\"#21bfd8\" stroke=\"#21bfd8\" points=\"281.12,-229 239.12,-229 239.12,-205 281.12,-205 293.12,-217 281.12,-229\"/>\n",
       "<text text-anchor=\"middle\" x=\"266.12\" y=\"-211.2\" font-family=\"Helvetica,sans-Serif\" font-size=\"14.00\">run</text>\n",
       "</g>\n",
       "<!-- clustersimplebOutputsWithInjectionran -->\n",
       "<g id=\"node16\" class=\"node\">\n",
       "<title>clustersimplebOutputsWithInjectionran</title>\n",
       "<polygon fill=\"#21bfd8\" stroke=\"#21bfd8\" points=\"467.5,-229 425.5,-229 425.5,-205 467.5,-205 479.5,-217 467.5,-229\"/>\n",
       "<text text-anchor=\"middle\" x=\"452.5\" y=\"-211.2\" font-family=\"Helvetica,sans-Serif\" font-size=\"14.00\">ran</text>\n",
       "</g>\n",
       "<!-- clustersimplebInputsrun&#45;&gt;clustersimplebOutputsWithInjectionran -->\n",
       "<!-- clustersimplebInputsaccumulate_and_run -->\n",
       "<g id=\"node14\" class=\"node\">\n",
       "<title>clustersimplebInputsaccumulate_and_run</title>\n",
       "<polygon fill=\"#21bfd8\" stroke=\"#21bfd8\" points=\"325.5,-175 194.75,-175 194.75,-151 325.5,-151 337.5,-163 325.5,-175\"/>\n",
       "<text text-anchor=\"middle\" x=\"266.12\" y=\"-157.2\" font-family=\"Helvetica,sans-Serif\" font-size=\"14.00\">accumulate_and_run</text>\n",
       "</g>\n",
       "<!-- clustersimplebOutputsWithInjectionran&#45;&gt;clustersimplesumInputsaccumulate_and_run -->\n",
       "<g id=\"edge7\" class=\"edge\">\n",
       "<title>clustersimplebOutputsWithInjectionran&#45;&gt;clustersimplesumInputsaccumulate_and_run</title>\n",
       "<path fill=\"none\" stroke=\"#21bfd8\" d=\"M479.68,-217C488.3,-217 498.51,-217 509.47,-217\"/>\n",
       "<path fill=\"none\" stroke=\"#21bfd8\" d=\"M509.47,-217C520.42,-217 532.12,-217 543.73,-217\"/>\n",
       "<polygon fill=\"#21bfd8\" stroke=\"#21bfd8\" points=\"543.54,-220.5 553.54,-217 543.54,-213.5 543.54,-220.5\"/>\n",
       "</g>\n",
       "<!-- clustersimplebOutputsWithInjectiony -->\n",
       "<g id=\"node17\" class=\"node\">\n",
       "<title>clustersimplebOutputsWithInjectiony</title>\n",
       "<ellipse fill=\"#edb22c\" stroke=\"#edb22c\" cx=\"452.5\" cy=\"-163\" rx=\"27\" ry=\"18\"/>\n",
       "<text text-anchor=\"middle\" x=\"452.5\" y=\"-157.2\" font-family=\"Helvetica,sans-Serif\" font-size=\"14.00\">y</text>\n",
       "</g>\n",
       "<!-- clustersimplesumInputsy -->\n",
       "<g id=\"node21\" class=\"node\">\n",
       "<title>clustersimplesumInputsy</title>\n",
       "<ellipse fill=\"#edb22c\" stroke=\"#edb22c\" cx=\"626.88\" cy=\"-163\" rx=\"27\" ry=\"18\"/>\n",
       "<text text-anchor=\"middle\" x=\"626.88\" y=\"-157.2\" font-family=\"Helvetica,sans-Serif\" font-size=\"14.00\">y</text>\n",
       "</g>\n",
       "<!-- clustersimplebOutputsWithInjectiony&#45;&gt;clustersimplesumInputsy -->\n",
       "<g id=\"edge8\" class=\"edge\">\n",
       "<title>clustersimplebOutputsWithInjectiony&#45;&gt;clustersimplesumInputsy</title>\n",
       "<path fill=\"none\" stroke=\"#edb22c\" d=\"M479.68,-163C494.11,-163 512.99,-163 532.37,-163\"/>\n",
       "<path fill=\"none\" stroke=\"#edb22c\" d=\"M532.37,-163C551.75,-163 571.62,-163 588.04,-163\"/>\n",
       "<polygon fill=\"#edb22c\" stroke=\"#edb22c\" points=\"587.94,-166.5 597.94,-163 587.93,-159.5 587.94,-166.5\"/>\n",
       "</g>\n",
       "<!-- clustersimplesumInputsrun -->\n",
       "<g id=\"node18\" class=\"node\">\n",
       "<title>clustersimplesumInputsrun</title>\n",
       "<polygon fill=\"#21bfd8\" stroke=\"#21bfd8\" points=\"641.88,-337 599.88,-337 599.88,-313 641.88,-313 653.88,-325 641.88,-337\"/>\n",
       "<text text-anchor=\"middle\" x=\"626.88\" y=\"-319.2\" font-family=\"Helvetica,sans-Serif\" font-size=\"14.00\">run</text>\n",
       "</g>\n",
       "<!-- clustersimplesumOutputsWithInjectionran -->\n",
       "<g id=\"node22\" class=\"node\">\n",
       "<title>clustersimplesumOutputsWithInjectionran</title>\n",
       "<polygon fill=\"#21bfd8\" stroke=\"#21bfd8\" points=\"819.71,-337 777.71,-337 777.71,-313 819.71,-313 831.71,-325 819.71,-337\"/>\n",
       "<text text-anchor=\"middle\" x=\"804.71\" y=\"-319.2\" font-family=\"Helvetica,sans-Serif\" font-size=\"14.00\">ran</text>\n",
       "</g>\n",
       "<!-- clustersimplesumInputsrun&#45;&gt;clustersimplesumOutputsWithInjectionran -->\n",
       "<!-- clustersimplesumOutputsWithInjectionsum -->\n",
       "<g id=\"node23\" class=\"node\">\n",
       "<title>clustersimplesumOutputsWithInjectionsum</title>\n",
       "<ellipse fill=\"#edb22c\" stroke=\"#edb22c\" cx=\"804.71\" cy=\"-271\" rx=\"27.46\" ry=\"18\"/>\n",
       "<text text-anchor=\"middle\" x=\"804.71\" y=\"-265.2\" font-family=\"Helvetica,sans-Serif\" font-size=\"14.00\">sum</text>\n",
       "</g>\n",
       "<!-- clustersimplesumOutputsWithInjectionsum&#45;&gt;clustersimpleOutputsa + b + 2 -->\n",
       "<g id=\"edge12\" class=\"edge\">\n",
       "<title>clustersimplesumOutputsWithInjectionsum&#45;&gt;clustersimpleOutputsa + b + 2</title>\n",
       "<path fill=\"none\" stroke=\"#edb22c\" d=\"M832.6,-271C841.06,-271 850.91,-271 861.23,-271\"/>\n",
       "<path fill=\"none\" stroke=\"#edb22c\" d=\"M861.23,-271C871.55,-271 882.33,-271 892.66,-271\"/>\n",
       "<polygon fill=\"#edb22c\" stroke=\"#edb22c\" points=\"892.4,-274.5 902.4,-271 892.4,-267.5 892.4,-274.5\"/>\n",
       "</g>\n",
       "</g>\n",
       "</svg>\n"
      ],
      "text/plain": [
       "<graphviz.graphs.Digraph at 0x109852a90>"
      ]
     },
     "execution_count": 41,
     "metadata": {},
     "output_type": "execute_result"
    }
   ],
   "source": [
    "wf.draw(size=(10,10))"
   ]
  },
  {
   "cell_type": "markdown",
   "id": "b2990bbf-28fb-43e2-a01d-82377d12879c",
   "metadata": {},
   "source": [
    "Note: the `draw` call returns a `graphviz.graphs.Digraphs` object; these get natively rendered alright in jupyter notebooks, as seen above, but you can also snag the object in a variable and do everything else graphviz allows, e.g. using the `render` method on the object to save it to file. Cf. the graphviz docs for details."
   ]
  },
  {
   "cell_type": "markdown",
   "id": "7a4e235d-905f-4763-a1ff-d0c3e24c591c",
   "metadata": {},
   "source": [
    "Workflows are \"living\" objects -- their IO is (re)created on access, so it is always up-to-date with the latest state of the workflow's children (who's there and who they're connected to), and (unless you explicitly tell it otherwise) a workflow will always re-compute the execution flow at run-time. This makes them incredibly convenient for working with as you put together a new computational graph, but is not particularly computationally efficient."
   ]
  },
  {
   "cell_type": "markdown",
   "id": "2671dc36-42a4-466b-848d-067ef7bd1d1d",
   "metadata": {},
   "source": [
    "# Pre-built nodes\n",
    "\n",
    "You can define and use your own nodes in a notebook, as we have here, or you can write them in a separate `.py` files for using and sharing.\n",
    "\n",
    "There are also some nodes that come in the core `pyiron_workflow` package, like for triggering python's addition and subtraction operators between two objects. We already saw this in action earlier when we were looking at output manipulation -- these nodes got automatically injected into the graph! However, we can also make them explicitly, either by importing and instantiating them or -- in the case of the \"standard\" node package -- from the `Workflow.create` menu:"
   ]
  },
  {
   "cell_type": "code",
   "execution_count": 42,
   "id": "74ef1936-a186-4eca-93d0-8fe3fd619d78",
   "metadata": {},
   "outputs": [
    {
     "data": {
      "text/plain": [
       "{'digits__len': 4}"
      ]
     },
     "execution_count": 42,
     "metadata": {},
     "output_type": "execute_result"
    }
   ],
   "source": [
    "wf = Workflow(\"from_standard\")\n",
    "wf.some_integer = Workflow.create.standard.UserInput()\n",
    "wf.some_integer.inputs.user_input.type_hint = int  # Restrict input to integers\n",
    "\n",
    "wf.as_str = Workflow.create.standard.String(wf.some_integer)\n",
    "wf.digits = Workflow.create.standard.Length(wf.as_str)\n",
    "\n",
    "wf(some_integer__user_input=1337)"
   ]
  },
  {
   "cell_type": "markdown",
   "id": "d1f3b308-28b2-466b-8cf5-6bfd806c08ca",
   "metadata": {},
   "source": [
    "# Macros\n",
    "\n",
    "Once you have a workflow that you're happy with, you may want to store it as a macro so it can be stored in a human-readable way, reused, shared, and executed with more efficiency than the \"living\" `Workflow` instance. Defining a new macro is pretty easy -- they are just composite nodes that have a function defining their input, graph setup, and output analogous to how `Function` nodes define their node function"
   ]
  },
  {
   "cell_type": "code",
   "execution_count": 43,
   "id": "c71a8308-f8a1-4041-bea0-1c841e072a6d",
   "metadata": {},
   "outputs": [],
   "source": [
    "from pyiron_workflow import macro_node"
   ]
  },
  {
   "cell_type": "code",
   "execution_count": 44,
   "id": "2b9bb21a-73cd-444e-84a9-100e202aa422",
   "metadata": {},
   "outputs": [
    {
     "data": {
      "text/plain": [
       "13"
      ]
     },
     "execution_count": 44,
     "metadata": {},
     "output_type": "execute_result"
    }
   ],
   "source": [
    "@Workflow.wrap.as_function_node(\"result\")\n",
    "def AddOne(x):\n",
    "    return x + 1\n",
    "\n",
    "def add_three_macro(self, x):\n",
    "    \"\"\"\n",
    "    The macro constructor `macro_node` expects the provided function \n",
    "    to take a `Macro` instance as its first argument, followed by any input data,\n",
    "    and for output data to be returned `HasChannel` objects (i.e. a single-value \n",
    "    `Node` or an output data channel) \n",
    "    In the function body, it should add nodes to the macro, wire their connections, etc.\n",
    "    \"\"\"\n",
    "    self.add_one = AddOne(x)\n",
    "    self.add_two = AddOne(self.add_one)\n",
    "    self.add_three = AddOne(self.add_two)\n",
    "    # Just like workflows, for simple DAG macros we don't _need_\n",
    "    # to set signals and starting nodes -- the macro will build them\n",
    "    # automatically. But, if you do set both then the macro will use them\n",
    "    self.add_one >> self.add_two >> self.add_three\n",
    "    self.starting_nodes = [self.add_one]  \n",
    "    # We _do_ need to specify the output of our macro,\n",
    "    # which will typically be output channel(s) and/or single-return node(s)\n",
    "    return self.add_three\n",
    "    \n",
    "macro = macro_node(add_three_macro)\n",
    "macro(x=10).add_three"
   ]
  },
  {
   "cell_type": "markdown",
   "id": "28323b14-22c2-4bab-bea7-168505677ebf",
   "metadata": {},
   "source": [
    "Note that the input and output channel labels are scraped from the decorated function. This is just like for `function_node`, but with one big exception: the `\"self.\"` has been stripped off the returned value! Since the most likely thing to return is some child node, this is just a quality of life shortcut. Passing `output_labels=...` still works just like for `function_node`."
   ]
  },
  {
   "cell_type": "markdown",
   "id": "d4f797d6-8d88-415f-bb9c-00f3e1b15e37",
   "metadata": {},
   "source": [
    "It will often be the case that this new macro will be made by copying and pasting some `wf = Workflow(...); ...` code that was explored. The use of `self` here reflects the canonical name for the own-instance argument, but for the sake of defining the function any variable will do! So you can use defintions like `def add_three_macro(wf, x):` just fine if that makes copy-pasting easier."
   ]
  },
  {
   "cell_type": "markdown",
   "id": "bd5099c4-1c01-4a45-a5bb-e5087595db9f",
   "metadata": {},
   "source": [
    "Of course, we can also use a decorator like for funciton nodes:"
   ]
  },
  {
   "cell_type": "code",
   "execution_count": 45,
   "id": "3668f9a9-adca-48a4-84ea-13add965897c",
   "metadata": {},
   "outputs": [
    {
     "data": {
      "text/plain": [
       "{'add_two': 102, 'add_three': 103}"
      ]
     },
     "execution_count": 45,
     "metadata": {},
     "output_type": "execute_result"
    }
   ],
   "source": [
    "@Workflow.wrap.as_macro_node()\n",
    "def AddThree(macro, x: int = 0):\n",
    "    \"\"\"\n",
    "    The function decorator `as_macro_node` expects the decorated function \n",
    "    to take a `Macro` instance as its first argument, followed by any input data,\n",
    "    and for output data to be returned `HasChannel` objects (i.e. a single-value \n",
    "    `Node` or an output data channel) \n",
    "    In the function body, it should add nodes to the macro, wire their connections, etc.\n",
    "    \"\"\"\n",
    "    macro.add_one = AddOne(x)  # Directly use the input from the signature\n",
    "    # Under the hood a new `UserInput` node is being created and used\n",
    "    macro.add_two = AddOne(macro.add_one)\n",
    "    macro.add_three = AddOne(macro.add_two)\n",
    "    macro.outputs_map = {\"add_two__result\": \"intermediate\"}\n",
    "    # We need to return something like output channels, but since AddOne has \n",
    "    # only a single output channel, we can return it directly.\n",
    "    # We also return an intermediate value that would not normally be \n",
    "    # exposed if this were a workflow since it's connected to other child channels\n",
    "    return macro.add_two, macro.add_three\n",
    "    \n",
    "macro = AddThree()\n",
    "macro(x=100)\n",
    "macro.outputs.to_value_dict()"
   ]
  },
  {
   "cell_type": "markdown",
   "id": "b80b61c2-76a5-405a-9747-0e3e726107b5",
   "metadata": {},
   "source": [
    "We can use this to go back and tighten up our digit counting example:"
   ]
  },
  {
   "cell_type": "code",
   "execution_count": 46,
   "id": "6eefea2a-6246-444f-83eb-a0fbde0add92",
   "metadata": {},
   "outputs": [
    {
     "data": {
      "text/plain": [
       "{'n_digits': 5}"
      ]
     },
     "execution_count": 46,
     "metadata": {},
     "output_type": "execute_result"
    }
   ],
   "source": [
    "@Workflow.wrap.as_macro_node(\"n_digits\")\n",
    "def HowManyDigits(self, n: int):\n",
    "    self.as_str = Workflow.create.standard.String(self.n)\n",
    "    self.digits = Workflow.create.standard.Length(self.as_str)\n",
    "    return self.digits\n",
    "\n",
    "digit_counter = HowManyDigits()\n",
    "digit_counter(12345)"
   ]
  },
  {
   "cell_type": "markdown",
   "id": "22d2fdcf-0206-497d-9344-a71e3472a2c0",
   "metadata": {},
   "source": [
    "## Nesting\n",
    "\n",
    "Composite nodes can be nested to abstract workflows into simpler components -- i.e. macros can be added to workflows, and macros can be used inside of macros. This is a critically important feature because it allows us to easily create more and more complex workflows by \"composing\" simple(r) sub-graphs together!\n",
    "\n",
    "For our final example, let's combine our adding macro and our digit counting macro."
   ]
  },
  {
   "cell_type": "code",
   "execution_count": 47,
   "id": "9aaeeec0-5f88-4c94-a6cc-45b56d2f0111",
   "metadata": {},
   "outputs": [],
   "source": [
    "@Workflow.wrap.as_macro_node(\"digits_in_sum_plus_5\")\n",
    "def AddThenCount(self, n1: int, n2: int):\n",
    "    self.add_to_n1 = AddThree(n1)\n",
    "    self.add_to_n2 = AddThree(n2)\n",
    "    self.sum_plus_5 = self.add_to_n1.outputs.add_two + self.add_to_n2.outputs.add_three\n",
    "    self.digit_counter = HowManyDigits(self.sum_plus_5)\n",
    "    return self.digit_counter"
   ]
  },
  {
   "cell_type": "code",
   "execution_count": 48,
   "id": "26a080dc-acaf-45bb-9935-7a42ff8d9552",
   "metadata": {},
   "outputs": [
    {
     "data": {
      "text/plain": [
       "{'digits_in_sum_plus_5': None}"
      ]
     },
     "execution_count": 48,
     "metadata": {},
     "output_type": "execute_result"
    }
   ],
   "source": [
    "AddThenCount.preview_outputs()"
   ]
  },
  {
   "cell_type": "markdown",
   "id": "4dfe9c0c-e9e7-4d5f-ad34-e19fd0382670",
   "metadata": {},
   "source": [
    "Note that while `\"self.\"` will get stripped off our return channel names, we're not allowed to have other `\".\"` characters in what remains -- so here where we're mixing and matching a returned (single-return-value) node and an explicit output channel (from a node with more than one output), we need to provide output labels. We could alternatively create and return nicely named local variable, e.g. `digits_in_sum_plus_5 = self.digit_counter.outputs.n_digits; return digits_in_sum_plus_5` to get the same result."
   ]
  },
  {
   "cell_type": "code",
   "execution_count": 49,
   "id": "ea97df98-881e-4a99-a0ad-81c048fe0520",
   "metadata": {},
   "outputs": [
    {
     "data": {
      "text/plain": [
       "{'digits_in_sum_plus_5': 2}"
      ]
     },
     "execution_count": 49,
     "metadata": {},
     "output_type": "execute_result"
    }
   ],
   "source": [
    "nested = AddThenCount(n1=4, n2=5)\n",
    "nested()"
   ]
  },
  {
   "cell_type": "markdown",
   "id": "cf2d8ef8-e7a3-4dbb-89c0-7604a5eb2e46",
   "metadata": {},
   "source": [
    "We can visualize the graph to various levels of detail or focusing on particular sub-elements:"
   ]
  },
  {
   "cell_type": "code",
   "execution_count": 50,
   "id": "71413b60-2bbb-4cde-af20-598ea2d0b463",
   "metadata": {},
   "outputs": [
    {
     "data": {
      "image/svg+xml": [
       "<?xml version=\"1.0\" encoding=\"UTF-8\" standalone=\"no\"?>\n",
       "<!DOCTYPE svg PUBLIC \"-//W3C//DTD SVG 1.1//EN\"\n",
       " \"http://www.w3.org/Graphics/SVG/1.1/DTD/svg11.dtd\">\n",
       "<!-- Generated by graphviz version 9.0.0 (0)\n",
       " -->\n",
       "<!-- Title: clusterAddThenCount Pages: 1 -->\n",
       "<svg width=\"720pt\" height=\"266pt\"\n",
       " viewBox=\"0.00 0.00 720.00 265.88\" xmlns=\"http://www.w3.org/2000/svg\" xmlns:xlink=\"http://www.w3.org/1999/xlink\">\n",
       "<g id=\"graph0\" class=\"graph\" transform=\"scale(0.489649 0.489649) rotate(0) translate(4 539)\">\n",
       "<title>clusterAddThenCount</title>\n",
       "<polygon fill=\"white\" stroke=\"none\" points=\"-4,4 -4,-539 1466.44,-539 1466.44,4 -4,4\"/>\n",
       "<text text-anchor=\"middle\" x=\"731.22\" y=\"-5.7\" font-family=\"Helvetica,sans-Serif\" font-size=\"14.00\">AddThenCount: AddThenCount</text>\n",
       "<g id=\"clust1\" class=\"cluster\">\n",
       "<title>clusterAddThenCountInputs</title>\n",
       "<defs>\n",
       "<linearGradient id=\"clust1_l_0\" gradientUnits=\"userSpaceOnUse\" x1=\"8\" y1=\"-149.5\" x2=\"166.75\" y2=\"-149.5\" >\n",
       "<stop offset=\"0\" style=\"stop-color:#a5a4a5;stop-opacity:1.;\"/>\n",
       "<stop offset=\"1\" style=\"stop-color:#e4e3e4;stop-opacity:1.;\"/>\n",
       "</linearGradient>\n",
       "</defs>\n",
       "<polygon fill=\"url(#clust1_l_0)\" stroke=\"#a5a4a5\" points=\"8,-31 8,-268 166.75,-268 166.75,-31 8,-31\"/>\n",
       "<text text-anchor=\"middle\" x=\"87.38\" y=\"-250.7\" font-family=\"Helvetica,sans-Serif\" font-size=\"14.00\">Inputs</text>\n",
       "</g>\n",
       "<g id=\"clust2\" class=\"cluster\">\n",
       "<title>clusterAddThenCountOutputsWithInjection</title>\n",
       "<defs>\n",
       "<linearGradient id=\"clust2_l_1\" gradientUnits=\"userSpaceOnUse\" x1=\"1454.44\" y1=\"-162.5\" x2=\"1248.01\" y2=\"-162.5\" >\n",
       "<stop offset=\"0\" style=\"stop-color:#a5a4a5;stop-opacity:1.;\"/>\n",
       "<stop offset=\"1\" style=\"stop-color:#e4e3e4;stop-opacity:1.;\"/>\n",
       "</linearGradient>\n",
       "</defs>\n",
       "<polygon fill=\"url(#clust2_l_1)\" stroke=\"#a5a4a5\" points=\"1248.01,-98 1248.01,-227 1454.44,-227 1454.44,-98 1248.01,-98\"/>\n",
       "<text text-anchor=\"middle\" x=\"1351.23\" y=\"-209.7\" font-family=\"Helvetica,sans-Serif\" font-size=\"14.00\">OutputsWithInjection</text>\n",
       "</g>\n",
       "<g id=\"clust3\" class=\"cluster\">\n",
       "<title>clusterAddThenCountadd_to_n1</title>\n",
       "<defs>\n",
       "<linearGradient id=\"clust3_l_2\" gradientUnits=\"userSpaceOnUse\" x1=\"178.75\" y1=\"-186\" x2=\"531.27\" y2=\"-186\" >\n",
       "<stop offset=\"0\" style=\"stop-color:#dcccc9;stop-opacity:1.;\"/>\n",
       "<stop offset=\"1\" style=\"stop-color:#dcccc9;stop-opacity:1.;\"/>\n",
       "</linearGradient>\n",
       "</defs>\n",
       "<polygon fill=\"url(#clust3_l_2)\" stroke=\"#dcccc9\" points=\"178.75,-75 178.75,-297 531.27,-297 531.27,-75 178.75,-75\"/>\n",
       "<text text-anchor=\"middle\" x=\"355.01\" y=\"-279.7\" font-family=\"Helvetica,sans-Serif\" font-size=\"14.00\">add_to_n1: AddThree</text>\n",
       "</g>\n",
       "<g id=\"clust4\" class=\"cluster\">\n",
       "<title>clusterAddThenCountadd_to_n1Inputs</title>\n",
       "<defs>\n",
       "<linearGradient id=\"clust4_l_3\" gradientUnits=\"userSpaceOnUse\" x1=\"186.75\" y1=\"-174.5\" x2=\"345.5\" y2=\"-174.5\" >\n",
       "<stop offset=\"0\" style=\"stop-color:#a5a4a5;stop-opacity:1.;\"/>\n",
       "<stop offset=\"1\" style=\"stop-color:#e4e3e4;stop-opacity:1.;\"/>\n",
       "</linearGradient>\n",
       "</defs>\n",
       "<polygon fill=\"url(#clust4_l_3)\" stroke=\"#a5a4a5\" points=\"186.75,-83 186.75,-266 345.5,-266 345.5,-83 186.75,-83\"/>\n",
       "<text text-anchor=\"middle\" x=\"266.12\" y=\"-248.7\" font-family=\"Helvetica,sans-Serif\" font-size=\"14.00\">Inputs</text>\n",
       "</g>\n",
       "<g id=\"clust5\" class=\"cluster\">\n",
       "<title>clusterAddThenCountadd_to_n1OutputsWithInjection</title>\n",
       "<defs>\n",
       "<linearGradient id=\"clust5_l_4\" gradientUnits=\"userSpaceOnUse\" x1=\"523.27\" y1=\"-174.5\" x2=\"381.5\" y2=\"-174.5\" >\n",
       "<stop offset=\"0\" style=\"stop-color:#a5a4a5;stop-opacity:1.;\"/>\n",
       "<stop offset=\"1\" style=\"stop-color:#e4e3e4;stop-opacity:1.;\"/>\n",
       "</linearGradient>\n",
       "</defs>\n",
       "<polygon fill=\"url(#clust5_l_4)\" stroke=\"#a5a4a5\" points=\"381.5,-83 381.5,-266 523.27,-266 523.27,-83 381.5,-83\"/>\n",
       "<text text-anchor=\"middle\" x=\"452.38\" y=\"-248.7\" font-family=\"Helvetica,sans-Serif\" font-size=\"14.00\">OutputsWithInjection</text>\n",
       "</g>\n",
       "<g id=\"clust6\" class=\"cluster\">\n",
       "<title>clusterAddThenCountadd_to_n2</title>\n",
       "<defs>\n",
       "<linearGradient id=\"clust6_l_5\" gradientUnits=\"userSpaceOnUse\" x1=\"178.75\" y1=\"-416\" x2=\"531.27\" y2=\"-416\" >\n",
       "<stop offset=\"0\" style=\"stop-color:#dcccc9;stop-opacity:1.;\"/>\n",
       "<stop offset=\"1\" style=\"stop-color:#dcccc9;stop-opacity:1.;\"/>\n",
       "</linearGradient>\n",
       "</defs>\n",
       "<polygon fill=\"url(#clust6_l_5)\" stroke=\"#dcccc9\" points=\"178.75,-305 178.75,-527 531.27,-527 531.27,-305 178.75,-305\"/>\n",
       "<text text-anchor=\"middle\" x=\"355.01\" y=\"-509.7\" font-family=\"Helvetica,sans-Serif\" font-size=\"14.00\">add_to_n2: AddThree</text>\n",
       "</g>\n",
       "<g id=\"clust7\" class=\"cluster\">\n",
       "<title>clusterAddThenCountadd_to_n2Inputs</title>\n",
       "<defs>\n",
       "<linearGradient id=\"clust7_l_6\" gradientUnits=\"userSpaceOnUse\" x1=\"186.75\" y1=\"-404.5\" x2=\"345.5\" y2=\"-404.5\" >\n",
       "<stop offset=\"0\" style=\"stop-color:#a5a4a5;stop-opacity:1.;\"/>\n",
       "<stop offset=\"1\" style=\"stop-color:#e4e3e4;stop-opacity:1.;\"/>\n",
       "</linearGradient>\n",
       "</defs>\n",
       "<polygon fill=\"url(#clust7_l_6)\" stroke=\"#a5a4a5\" points=\"186.75,-313 186.75,-496 345.5,-496 345.5,-313 186.75,-313\"/>\n",
       "<text text-anchor=\"middle\" x=\"266.12\" y=\"-478.7\" font-family=\"Helvetica,sans-Serif\" font-size=\"14.00\">Inputs</text>\n",
       "</g>\n",
       "<g id=\"clust8\" class=\"cluster\">\n",
       "<title>clusterAddThenCountadd_to_n2OutputsWithInjection</title>\n",
       "<defs>\n",
       "<linearGradient id=\"clust8_l_7\" gradientUnits=\"userSpaceOnUse\" x1=\"523.27\" y1=\"-404.5\" x2=\"381.5\" y2=\"-404.5\" >\n",
       "<stop offset=\"0\" style=\"stop-color:#a5a4a5;stop-opacity:1.;\"/>\n",
       "<stop offset=\"1\" style=\"stop-color:#e4e3e4;stop-opacity:1.;\"/>\n",
       "</linearGradient>\n",
       "</defs>\n",
       "<polygon fill=\"url(#clust8_l_7)\" stroke=\"#a5a4a5\" points=\"381.5,-313 381.5,-496 523.27,-496 523.27,-313 381.5,-313\"/>\n",
       "<text text-anchor=\"middle\" x=\"452.38\" y=\"-478.7\" font-family=\"Helvetica,sans-Serif\" font-size=\"14.00\">OutputsWithInjection</text>\n",
       "</g>\n",
       "<g id=\"clust9\" class=\"cluster\">\n",
       "<title>clusterAddThenCountsum_plus_5</title>\n",
       "<defs>\n",
       "<linearGradient id=\"clust9_l_8\" gradientUnits=\"userSpaceOnUse\" x1=\"539.27\" y1=\"-267\" x2=\"884.02\" y2=\"-267\" >\n",
       "<stop offset=\"0\" style=\"stop-color:#bfe2bf;stop-opacity:1.;\"/>\n",
       "<stop offset=\"1\" style=\"stop-color:#bfe2bf;stop-opacity:1.;\"/>\n",
       "</linearGradient>\n",
       "</defs>\n",
       "<polygon fill=\"url(#clust9_l_8)\" stroke=\"#bfe2bf\" points=\"539.27,-129 539.27,-405 884.02,-405 884.02,-129 539.27,-129\"/>\n",
       "<text text-anchor=\"middle\" x=\"711.64\" y=\"-387.7\" font-family=\"Helvetica,sans-Serif\" font-size=\"14.00\">sum_plus_5: Add</text>\n",
       "</g>\n",
       "<g id=\"clust10\" class=\"cluster\">\n",
       "<title>clusterAddThenCountsum_plus_5Inputs</title>\n",
       "<defs>\n",
       "<linearGradient id=\"clust10_l_9\" gradientUnits=\"userSpaceOnUse\" x1=\"547.27\" y1=\"-255.5\" x2=\"706.02\" y2=\"-255.5\" >\n",
       "<stop offset=\"0\" style=\"stop-color:#a5a4a5;stop-opacity:1.;\"/>\n",
       "<stop offset=\"1\" style=\"stop-color:#e4e3e4;stop-opacity:1.;\"/>\n",
       "</linearGradient>\n",
       "</defs>\n",
       "<polygon fill=\"url(#clust10_l_9)\" stroke=\"#a5a4a5\" points=\"547.27,-137 547.27,-374 706.02,-374 706.02,-137 547.27,-137\"/>\n",
       "<text text-anchor=\"middle\" x=\"626.64\" y=\"-356.7\" font-family=\"Helvetica,sans-Serif\" font-size=\"14.00\">Inputs</text>\n",
       "</g>\n",
       "<g id=\"clust11\" class=\"cluster\">\n",
       "<title>clusterAddThenCountsum_plus_5OutputsWithInjection</title>\n",
       "<defs>\n",
       "<linearGradient id=\"clust11_l_10\" gradientUnits=\"userSpaceOnUse\" x1=\"876.02\" y1=\"-255.5\" x2=\"734.02\" y2=\"-255.5\" >\n",
       "<stop offset=\"0\" style=\"stop-color:#a5a4a5;stop-opacity:1.;\"/>\n",
       "<stop offset=\"1\" style=\"stop-color:#e4e3e4;stop-opacity:1.;\"/>\n",
       "</linearGradient>\n",
       "</defs>\n",
       "<polygon fill=\"url(#clust11_l_10)\" stroke=\"#a5a4a5\" points=\"734.02,-191 734.02,-320 876.02,-320 876.02,-191 734.02,-191\"/>\n",
       "<text text-anchor=\"middle\" x=\"805.02\" y=\"-302.7\" font-family=\"Helvetica,sans-Serif\" font-size=\"14.00\">OutputsWithInjection</text>\n",
       "</g>\n",
       "<g id=\"clust12\" class=\"cluster\">\n",
       "<title>clusterAddThenCountdigit_counter</title>\n",
       "<defs>\n",
       "<linearGradient id=\"clust12_l_11\" gradientUnits=\"userSpaceOnUse\" x1=\"892.02\" y1=\"-294\" x2=\"1236.01\" y2=\"-294\" >\n",
       "<stop offset=\"0\" style=\"stop-color:#dcccc9;stop-opacity:1.;\"/>\n",
       "<stop offset=\"1\" style=\"stop-color:#dcccc9;stop-opacity:1.;\"/>\n",
       "</linearGradient>\n",
       "</defs>\n",
       "<polygon fill=\"url(#clust12_l_11)\" stroke=\"#dcccc9\" points=\"892.02,-183 892.02,-405 1236.01,-405 1236.01,-183 892.02,-183\"/>\n",
       "<text text-anchor=\"middle\" x=\"1064.01\" y=\"-387.7\" font-family=\"Helvetica,sans-Serif\" font-size=\"14.00\">digit_counter: HowManyDigits</text>\n",
       "</g>\n",
       "<g id=\"clust13\" class=\"cluster\">\n",
       "<title>clusterAddThenCountdigit_counterInputs</title>\n",
       "<defs>\n",
       "<linearGradient id=\"clust13_l_12\" gradientUnits=\"userSpaceOnUse\" x1=\"900.02\" y1=\"-282.5\" x2=\"1058.77\" y2=\"-282.5\" >\n",
       "<stop offset=\"0\" style=\"stop-color:#a5a4a5;stop-opacity:1.;\"/>\n",
       "<stop offset=\"1\" style=\"stop-color:#e4e3e4;stop-opacity:1.;\"/>\n",
       "</linearGradient>\n",
       "</defs>\n",
       "<polygon fill=\"url(#clust13_l_12)\" stroke=\"#a5a4a5\" points=\"900.02,-191 900.02,-374 1058.77,-374 1058.77,-191 900.02,-191\"/>\n",
       "<text text-anchor=\"middle\" x=\"979.39\" y=\"-356.7\" font-family=\"Helvetica,sans-Serif\" font-size=\"14.00\">Inputs</text>\n",
       "</g>\n",
       "<g id=\"clust14\" class=\"cluster\">\n",
       "<title>clusterAddThenCountdigit_counterOutputsWithInjection</title>\n",
       "<defs>\n",
       "<linearGradient id=\"clust14_l_13\" gradientUnits=\"userSpaceOnUse\" x1=\"1228.01\" y1=\"-282.5\" x2=\"1086.77\" y2=\"-282.5\" >\n",
       "<stop offset=\"0\" style=\"stop-color:#a5a4a5;stop-opacity:1.;\"/>\n",
       "<stop offset=\"1\" style=\"stop-color:#e4e3e4;stop-opacity:1.;\"/>\n",
       "</linearGradient>\n",
       "</defs>\n",
       "<polygon fill=\"url(#clust14_l_13)\" stroke=\"#a5a4a5\" points=\"1086.77,-218 1086.77,-347 1228.01,-347 1228.01,-218 1086.77,-218\"/>\n",
       "<text text-anchor=\"middle\" x=\"1157.39\" y=\"-329.7\" font-family=\"Helvetica,sans-Serif\" font-size=\"14.00\">OutputsWithInjection</text>\n",
       "</g>\n",
       "<!-- clusterAddThenCountInputsrun -->\n",
       "<g id=\"node1\" class=\"node\">\n",
       "<title>clusterAddThenCountInputsrun</title>\n",
       "<polygon fill=\"#21bfd8\" stroke=\"#21bfd8\" points=\"102.38,-69 60.38,-69 60.38,-45 102.38,-45 114.38,-57 102.38,-69\"/>\n",
       "<text text-anchor=\"middle\" x=\"87.38\" y=\"-51.2\" font-family=\"Helvetica,sans-Serif\" font-size=\"14.00\">run</text>\n",
       "</g>\n",
       "<!-- clusterAddThenCountOutputsWithInjectionran -->\n",
       "<g id=\"node5\" class=\"node\">\n",
       "<title>clusterAddThenCountOutputsWithInjectionran</title>\n",
       "<polygon fill=\"#21bfd8\" stroke=\"#21bfd8\" points=\"1366.23,-136 1324.23,-136 1324.23,-112 1366.23,-112 1378.23,-124 1366.23,-136\"/>\n",
       "<text text-anchor=\"middle\" x=\"1351.23\" y=\"-118.2\" font-family=\"Helvetica,sans-Serif\" font-size=\"14.00\">ran</text>\n",
       "</g>\n",
       "<!-- clusterAddThenCountInputsrun&#45;&gt;clusterAddThenCountOutputsWithInjectionran -->\n",
       "<!-- clusterAddThenCountInputsaccumulate_and_run -->\n",
       "<g id=\"node2\" class=\"node\">\n",
       "<title>clusterAddThenCountInputsaccumulate_and_run</title>\n",
       "<polygon fill=\"#21bfd8\" stroke=\"#21bfd8\" points=\"146.75,-177 16,-177 16,-153 146.75,-153 158.75,-165 146.75,-177\"/>\n",
       "<text text-anchor=\"middle\" x=\"87.38\" y=\"-159.2\" font-family=\"Helvetica,sans-Serif\" font-size=\"14.00\">accumulate_and_run</text>\n",
       "</g>\n",
       "<!-- clusterAddThenCountInputsn1 -->\n",
       "<g id=\"node3\" class=\"node\">\n",
       "<title>clusterAddThenCountInputsn1</title>\n",
       "<ellipse fill=\"#edb22c\" stroke=\"#edb22c\" cx=\"87.38\" cy=\"-111\" rx=\"34.28\" ry=\"18\"/>\n",
       "<text text-anchor=\"middle\" x=\"87.38\" y=\"-105.2\" font-family=\"Helvetica,sans-Serif\" font-size=\"14.00\">n1: int</text>\n",
       "</g>\n",
       "<!-- clusterAddThenCountadd_to_n1Inputsx -->\n",
       "<g id=\"node9\" class=\"node\">\n",
       "<title>clusterAddThenCountadd_to_n1Inputsx</title>\n",
       "<ellipse fill=\"#edb22c\" stroke=\"#edb22c\" cx=\"266.12\" cy=\"-109\" rx=\"28.92\" ry=\"18\"/>\n",
       "<text text-anchor=\"middle\" x=\"266.12\" y=\"-103.2\" font-family=\"Helvetica,sans-Serif\" font-size=\"14.00\">x: int</text>\n",
       "</g>\n",
       "<!-- clusterAddThenCountInputsn1&#45;&gt;clusterAddThenCountadd_to_n1Inputsx -->\n",
       "<g id=\"edge12\" class=\"edge\">\n",
       "<title>clusterAddThenCountInputsn1&#45;&gt;clusterAddThenCountadd_to_n1Inputsx</title>\n",
       "<path fill=\"none\" stroke=\"#edb22c\" stroke-dasharray=\"5,2\" d=\"M122.04,-110.62C136.78,-110.45 154.87,-110.25 173.17,-110.04\"/>\n",
       "<path fill=\"none\" stroke=\"#edb22c\" stroke-dasharray=\"5,2\" d=\"M173.17,-110.04C191.47,-109.83 209.97,-109.62 225.53,-109.45\"/>\n",
       "<polygon fill=\"#edb22c\" stroke=\"#edb22c\" points=\"225.36,-112.95 235.32,-109.34 225.28,-105.95 225.36,-112.95\"/>\n",
       "</g>\n",
       "<!-- clusterAddThenCountInputsn2 -->\n",
       "<g id=\"node4\" class=\"node\">\n",
       "<title>clusterAddThenCountInputsn2</title>\n",
       "<ellipse fill=\"#edb22c\" stroke=\"#edb22c\" cx=\"87.38\" cy=\"-219\" rx=\"34.28\" ry=\"18\"/>\n",
       "<text text-anchor=\"middle\" x=\"87.38\" y=\"-213.2\" font-family=\"Helvetica,sans-Serif\" font-size=\"14.00\">n2: int</text>\n",
       "</g>\n",
       "<!-- clusterAddThenCountadd_to_n2Inputsx -->\n",
       "<g id=\"node15\" class=\"node\">\n",
       "<title>clusterAddThenCountadd_to_n2Inputsx</title>\n",
       "<ellipse fill=\"#edb22c\" stroke=\"#edb22c\" cx=\"266.12\" cy=\"-339\" rx=\"28.92\" ry=\"18\"/>\n",
       "<text text-anchor=\"middle\" x=\"266.12\" y=\"-333.2\" font-family=\"Helvetica,sans-Serif\" font-size=\"14.00\">x: int</text>\n",
       "</g>\n",
       "<!-- clusterAddThenCountInputsn2&#45;&gt;clusterAddThenCountadd_to_n2Inputsx -->\n",
       "<g id=\"edge13\" class=\"edge\">\n",
       "<title>clusterAddThenCountInputsn2&#45;&gt;clusterAddThenCountadd_to_n2Inputsx</title>\n",
       "<path fill=\"none\" stroke=\"#edb22c\" stroke-dasharray=\"5,2\" d=\"M109.34,-233.24C125.14,-243.96 148.01,-259.49 171.39,-275.36\"/>\n",
       "<path fill=\"none\" stroke=\"#edb22c\" stroke-dasharray=\"5,2\" d=\"M171.39,-275.36C194.76,-291.23 218.64,-307.44 236.45,-319.53\"/>\n",
       "<polygon fill=\"#edb22c\" stroke=\"#edb22c\" points=\"234.31,-322.31 244.55,-325.03 238.24,-316.52 234.31,-322.31\"/>\n",
       "</g>\n",
       "<!-- clusterAddThenCountOutputsWithInjectiondigits_in_sum_plus_5 -->\n",
       "<g id=\"node6\" class=\"node\">\n",
       "<title>clusterAddThenCountOutputsWithInjectiondigits_in_sum_plus_5</title>\n",
       "<ellipse fill=\"#edb22c\" stroke=\"#edb22c\" cx=\"1351.23\" cy=\"-178\" rx=\"95.22\" ry=\"18\"/>\n",
       "<text text-anchor=\"middle\" x=\"1351.23\" y=\"-172.2\" font-family=\"Helvetica,sans-Serif\" font-size=\"14.00\">digits_in_sum_plus_5</text>\n",
       "</g>\n",
       "<!-- clusterAddThenCountadd_to_n1Inputsrun -->\n",
       "<g id=\"node7\" class=\"node\">\n",
       "<title>clusterAddThenCountadd_to_n1Inputsrun</title>\n",
       "<polygon fill=\"#21bfd8\" stroke=\"#21bfd8\" points=\"281.12,-229 239.12,-229 239.12,-205 281.12,-205 293.12,-217 281.12,-229\"/>\n",
       "<text text-anchor=\"middle\" x=\"266.12\" y=\"-211.2\" font-family=\"Helvetica,sans-Serif\" font-size=\"14.00\">run</text>\n",
       "</g>\n",
       "<!-- clusterAddThenCountadd_to_n1OutputsWithInjectionran -->\n",
       "<g id=\"node10\" class=\"node\">\n",
       "<title>clusterAddThenCountadd_to_n1OutputsWithInjectionran</title>\n",
       "<polygon fill=\"#21bfd8\" stroke=\"#21bfd8\" points=\"467.38,-229 425.38,-229 425.38,-205 467.38,-205 479.38,-217 467.38,-229\"/>\n",
       "<text text-anchor=\"middle\" x=\"452.38\" y=\"-211.2\" font-family=\"Helvetica,sans-Serif\" font-size=\"14.00\">ran</text>\n",
       "</g>\n",
       "<!-- clusterAddThenCountadd_to_n1Inputsrun&#45;&gt;clusterAddThenCountadd_to_n1OutputsWithInjectionran -->\n",
       "<!-- clusterAddThenCountadd_to_n1Inputsaccumulate_and_run -->\n",
       "<g id=\"node8\" class=\"node\">\n",
       "<title>clusterAddThenCountadd_to_n1Inputsaccumulate_and_run</title>\n",
       "<polygon fill=\"#21bfd8\" stroke=\"#21bfd8\" points=\"325.5,-175 194.75,-175 194.75,-151 325.5,-151 337.5,-163 325.5,-175\"/>\n",
       "<text text-anchor=\"middle\" x=\"266.12\" y=\"-157.2\" font-family=\"Helvetica,sans-Serif\" font-size=\"14.00\">accumulate_and_run</text>\n",
       "</g>\n",
       "<!-- clusterAddThenCountsum_plus_5Inputsaccumulate_and_run -->\n",
       "<g id=\"node20\" class=\"node\">\n",
       "<title>clusterAddThenCountsum_plus_5Inputsaccumulate_and_run</title>\n",
       "<polygon fill=\"#21bfd8\" stroke=\"#21bfd8\" points=\"686.02,-283 555.27,-283 555.27,-259 686.02,-259 698.02,-271 686.02,-283\"/>\n",
       "<text text-anchor=\"middle\" x=\"626.64\" y=\"-265.2\" font-family=\"Helvetica,sans-Serif\" font-size=\"14.00\">accumulate_and_run</text>\n",
       "</g>\n",
       "<!-- clusterAddThenCountadd_to_n1OutputsWithInjectionran&#45;&gt;clusterAddThenCountsum_plus_5Inputsaccumulate_and_run -->\n",
       "<g id=\"edge6\" class=\"edge\">\n",
       "<title>clusterAddThenCountadd_to_n1OutputsWithInjectionran&#45;&gt;clusterAddThenCountsum_plus_5Inputsaccumulate_and_run</title>\n",
       "<path fill=\"none\" stroke=\"#21bfd8\" d=\"M479.69,-225.28C490.55,-228.7 503.7,-232.84 517,-237.01\"/>\n",
       "<path fill=\"none\" stroke=\"#21bfd8\" d=\"M517,-237.01C524.5,-239.37 532.05,-241.74 539.27,-244 544.66,-245.69 550.24,-247.44 555.85,-249.19\"/>\n",
       "<polygon fill=\"#21bfd8\" stroke=\"#21bfd8\" points=\"554.6,-252.47 565.18,-252.12 556.69,-245.79 554.6,-252.47\"/>\n",
       "</g>\n",
       "<!-- clusterAddThenCountadd_to_n1OutputsWithInjectionadd_two -->\n",
       "<g id=\"node11\" class=\"node\">\n",
       "<title>clusterAddThenCountadd_to_n1OutputsWithInjectionadd_two</title>\n",
       "<ellipse fill=\"#edb22c\" stroke=\"#edb22c\" cx=\"452.38\" cy=\"-163\" rx=\"43.55\" ry=\"18\"/>\n",
       "<text text-anchor=\"middle\" x=\"452.38\" y=\"-157.2\" font-family=\"Helvetica,sans-Serif\" font-size=\"14.00\">add_two</text>\n",
       "</g>\n",
       "<!-- clusterAddThenCountsum_plus_5Inputsobj -->\n",
       "<g id=\"node21\" class=\"node\">\n",
       "<title>clusterAddThenCountsum_plus_5Inputsobj</title>\n",
       "<ellipse fill=\"#edb22c\" stroke=\"#edb22c\" cx=\"626.64\" cy=\"-163\" rx=\"27\" ry=\"18\"/>\n",
       "<text text-anchor=\"middle\" x=\"626.64\" y=\"-157.2\" font-family=\"Helvetica,sans-Serif\" font-size=\"14.00\">obj</text>\n",
       "</g>\n",
       "<!-- clusterAddThenCountadd_to_n1OutputsWithInjectionadd_two&#45;&gt;clusterAddThenCountsum_plus_5Inputsobj -->\n",
       "<g id=\"edge7\" class=\"edge\">\n",
       "<title>clusterAddThenCountadd_to_n1OutputsWithInjectionadd_two&#45;&gt;clusterAddThenCountsum_plus_5Inputsobj</title>\n",
       "<path fill=\"none\" stroke=\"#edb22c\" d=\"M496.41,-163C510.47,-163 526.6,-163 542.58,-163\"/>\n",
       "<path fill=\"none\" stroke=\"#edb22c\" d=\"M542.58,-163C558.57,-163 574.42,-163 587.91,-163\"/>\n",
       "<polygon fill=\"#edb22c\" stroke=\"#edb22c\" points=\"587.71,-166.5 597.71,-163 587.71,-159.5 587.71,-166.5\"/>\n",
       "</g>\n",
       "<!-- clusterAddThenCountadd_to_n1OutputsWithInjectionadd_three -->\n",
       "<g id=\"node12\" class=\"node\">\n",
       "<title>clusterAddThenCountadd_to_n1OutputsWithInjectionadd_three</title>\n",
       "<ellipse fill=\"#edb22c\" stroke=\"#edb22c\" cx=\"452.38\" cy=\"-109\" rx=\"49.88\" ry=\"18\"/>\n",
       "<text text-anchor=\"middle\" x=\"452.38\" y=\"-103.2\" font-family=\"Helvetica,sans-Serif\" font-size=\"14.00\">add_three</text>\n",
       "</g>\n",
       "<!-- clusterAddThenCountadd_to_n2Inputsrun -->\n",
       "<g id=\"node13\" class=\"node\">\n",
       "<title>clusterAddThenCountadd_to_n2Inputsrun</title>\n",
       "<polygon fill=\"#21bfd8\" stroke=\"#21bfd8\" points=\"281.12,-459 239.12,-459 239.12,-435 281.12,-435 293.12,-447 281.12,-459\"/>\n",
       "<text text-anchor=\"middle\" x=\"266.12\" y=\"-441.2\" font-family=\"Helvetica,sans-Serif\" font-size=\"14.00\">run</text>\n",
       "</g>\n",
       "<!-- clusterAddThenCountadd_to_n2OutputsWithInjectionran -->\n",
       "<g id=\"node16\" class=\"node\">\n",
       "<title>clusterAddThenCountadd_to_n2OutputsWithInjectionran</title>\n",
       "<polygon fill=\"#21bfd8\" stroke=\"#21bfd8\" points=\"467.38,-459 425.38,-459 425.38,-435 467.38,-435 479.38,-447 467.38,-459\"/>\n",
       "<text text-anchor=\"middle\" x=\"452.38\" y=\"-441.2\" font-family=\"Helvetica,sans-Serif\" font-size=\"14.00\">ran</text>\n",
       "</g>\n",
       "<!-- clusterAddThenCountadd_to_n2Inputsrun&#45;&gt;clusterAddThenCountadd_to_n2OutputsWithInjectionran -->\n",
       "<!-- clusterAddThenCountadd_to_n2Inputsaccumulate_and_run -->\n",
       "<g id=\"node14\" class=\"node\">\n",
       "<title>clusterAddThenCountadd_to_n2Inputsaccumulate_and_run</title>\n",
       "<polygon fill=\"#21bfd8\" stroke=\"#21bfd8\" points=\"325.5,-405 194.75,-405 194.75,-381 325.5,-381 337.5,-393 325.5,-405\"/>\n",
       "<text text-anchor=\"middle\" x=\"266.12\" y=\"-387.2\" font-family=\"Helvetica,sans-Serif\" font-size=\"14.00\">accumulate_and_run</text>\n",
       "</g>\n",
       "<!-- clusterAddThenCountadd_to_n2OutputsWithInjectionran&#45;&gt;clusterAddThenCountsum_plus_5Inputsaccumulate_and_run -->\n",
       "<g id=\"edge8\" class=\"edge\">\n",
       "<title>clusterAddThenCountadd_to_n2OutputsWithInjectionran&#45;&gt;clusterAddThenCountsum_plus_5Inputsaccumulate_and_run</title>\n",
       "<path fill=\"none\" stroke=\"#21bfd8\" d=\"M479.76,-445.15C497.28,-442.42 519.21,-435.82 531.27,-420 536.45,-413.2 537.5,-400.7 537.03,-386.11\"/>\n",
       "<path fill=\"none\" stroke=\"#21bfd8\" d=\"M537.03,-386.11C535.99,-354.34 527.76,-312.63 539.27,-298 541.27,-295.45 543.51,-293.14 545.94,-291.04\"/>\n",
       "<polygon fill=\"#21bfd8\" stroke=\"#21bfd8\" points=\"547.49,-294.24 553.61,-285.58 543.43,-288.53 547.49,-294.24\"/>\n",
       "</g>\n",
       "<!-- clusterAddThenCountadd_to_n2OutputsWithInjectionadd_two -->\n",
       "<g id=\"node17\" class=\"node\">\n",
       "<title>clusterAddThenCountadd_to_n2OutputsWithInjectionadd_two</title>\n",
       "<ellipse fill=\"#edb22c\" stroke=\"#edb22c\" cx=\"452.38\" cy=\"-393\" rx=\"43.55\" ry=\"18\"/>\n",
       "<text text-anchor=\"middle\" x=\"452.38\" y=\"-387.2\" font-family=\"Helvetica,sans-Serif\" font-size=\"14.00\">add_two</text>\n",
       "</g>\n",
       "<!-- clusterAddThenCountadd_to_n2OutputsWithInjectionadd_three -->\n",
       "<g id=\"node18\" class=\"node\">\n",
       "<title>clusterAddThenCountadd_to_n2OutputsWithInjectionadd_three</title>\n",
       "<ellipse fill=\"#edb22c\" stroke=\"#edb22c\" cx=\"452.38\" cy=\"-339\" rx=\"49.88\" ry=\"18\"/>\n",
       "<text text-anchor=\"middle\" x=\"452.38\" y=\"-333.2\" font-family=\"Helvetica,sans-Serif\" font-size=\"14.00\">add_three</text>\n",
       "</g>\n",
       "<!-- clusterAddThenCountsum_plus_5Inputsother -->\n",
       "<g id=\"node22\" class=\"node\">\n",
       "<title>clusterAddThenCountsum_plus_5Inputsother</title>\n",
       "<ellipse fill=\"#edb22c\" stroke=\"#edb22c\" cx=\"626.64\" cy=\"-217\" rx=\"30.38\" ry=\"18\"/>\n",
       "<text text-anchor=\"middle\" x=\"626.64\" y=\"-211.2\" font-family=\"Helvetica,sans-Serif\" font-size=\"14.00\">other</text>\n",
       "</g>\n",
       "<!-- clusterAddThenCountadd_to_n2OutputsWithInjectionadd_three&#45;&gt;clusterAddThenCountsum_plus_5Inputsother -->\n",
       "<g id=\"edge9\" class=\"edge\">\n",
       "<title>clusterAddThenCountadd_to_n2OutputsWithInjectionadd_three&#45;&gt;clusterAddThenCountsum_plus_5Inputsother</title>\n",
       "<path fill=\"none\" stroke=\"#edb22c\" d=\"M477.34,-323.23C494.62,-310.7 517.28,-291.72 531.27,-270 532.24,-268.49 532.91,-267.04 533.38,-265.65\"/>\n",
       "<path fill=\"none\" stroke=\"#edb22c\" d=\"M533.38,-265.65C536.05,-257.65 532,-251.29 539.27,-244 551.42,-231.79 569.02,-225.08 585.16,-221.41\"/>\n",
       "<polygon fill=\"#edb22c\" stroke=\"#edb22c\" points=\"585.38,-224.93 594.54,-219.61 584.05,-218.06 585.38,-224.93\"/>\n",
       "</g>\n",
       "<!-- clusterAddThenCountsum_plus_5Inputsrun -->\n",
       "<g id=\"node19\" class=\"node\">\n",
       "<title>clusterAddThenCountsum_plus_5Inputsrun</title>\n",
       "<polygon fill=\"#21bfd8\" stroke=\"#21bfd8\" points=\"641.64,-337 599.64,-337 599.64,-313 641.64,-313 653.64,-325 641.64,-337\"/>\n",
       "<text text-anchor=\"middle\" x=\"626.64\" y=\"-319.2\" font-family=\"Helvetica,sans-Serif\" font-size=\"14.00\">run</text>\n",
       "</g>\n",
       "<!-- clusterAddThenCountsum_plus_5OutputsWithInjectionran -->\n",
       "<g id=\"node23\" class=\"node\">\n",
       "<title>clusterAddThenCountsum_plus_5OutputsWithInjectionran</title>\n",
       "<polygon fill=\"#21bfd8\" stroke=\"#21bfd8\" points=\"820.02,-283 778.02,-283 778.02,-259 820.02,-259 832.02,-271 820.02,-283\"/>\n",
       "<text text-anchor=\"middle\" x=\"805.02\" y=\"-265.2\" font-family=\"Helvetica,sans-Serif\" font-size=\"14.00\">ran</text>\n",
       "</g>\n",
       "<!-- clusterAddThenCountsum_plus_5Inputsrun&#45;&gt;clusterAddThenCountsum_plus_5OutputsWithInjectionran -->\n",
       "<!-- clusterAddThenCountdigit_counterInputsaccumulate_and_run -->\n",
       "<g id=\"node26\" class=\"node\">\n",
       "<title>clusterAddThenCountdigit_counterInputsaccumulate_and_run</title>\n",
       "<polygon fill=\"#21bfd8\" stroke=\"#21bfd8\" points=\"1038.77,-283 908.02,-283 908.02,-259 1038.77,-259 1050.77,-271 1038.77,-283\"/>\n",
       "<text text-anchor=\"middle\" x=\"979.39\" y=\"-265.2\" font-family=\"Helvetica,sans-Serif\" font-size=\"14.00\">accumulate_and_run</text>\n",
       "</g>\n",
       "<!-- clusterAddThenCountsum_plus_5OutputsWithInjectionran&#45;&gt;clusterAddThenCountdigit_counterInputsaccumulate_and_run -->\n",
       "<g id=\"edge10\" class=\"edge\">\n",
       "<title>clusterAddThenCountsum_plus_5OutputsWithInjectionran&#45;&gt;clusterAddThenCountdigit_counterInputsaccumulate_and_run</title>\n",
       "<path fill=\"none\" stroke=\"#21bfd8\" d=\"M832.2,-271C840.82,-271 851.03,-271 861.98,-271\"/>\n",
       "<path fill=\"none\" stroke=\"#21bfd8\" d=\"M861.98,-271C872.94,-271 884.64,-271 896.24,-271\"/>\n",
       "<polygon fill=\"#21bfd8\" stroke=\"#21bfd8\" points=\"896.06,-274.5 906.06,-271 896.06,-267.5 896.06,-274.5\"/>\n",
       "</g>\n",
       "<!-- clusterAddThenCountsum_plus_5OutputsWithInjectionadd -->\n",
       "<g id=\"node24\" class=\"node\">\n",
       "<title>clusterAddThenCountsum_plus_5OutputsWithInjectionadd</title>\n",
       "<ellipse fill=\"#edb22c\" stroke=\"#edb22c\" cx=\"805.02\" cy=\"-217\" rx=\"27\" ry=\"18\"/>\n",
       "<text text-anchor=\"middle\" x=\"805.02\" y=\"-211.2\" font-family=\"Helvetica,sans-Serif\" font-size=\"14.00\">add</text>\n",
       "</g>\n",
       "<!-- clusterAddThenCountdigit_counterInputsn -->\n",
       "<g id=\"node27\" class=\"node\">\n",
       "<title>clusterAddThenCountdigit_counterInputsn</title>\n",
       "<ellipse fill=\"#edb22c\" stroke=\"#edb22c\" cx=\"979.39\" cy=\"-217\" rx=\"29.41\" ry=\"18\"/>\n",
       "<text text-anchor=\"middle\" x=\"979.39\" y=\"-211.2\" font-family=\"Helvetica,sans-Serif\" font-size=\"14.00\">n: int</text>\n",
       "</g>\n",
       "<!-- clusterAddThenCountsum_plus_5OutputsWithInjectionadd&#45;&gt;clusterAddThenCountdigit_counterInputsn -->\n",
       "<g id=\"edge11\" class=\"edge\">\n",
       "<title>clusterAddThenCountsum_plus_5OutputsWithInjectionadd&#45;&gt;clusterAddThenCountdigit_counterInputsn</title>\n",
       "<path fill=\"none\" stroke=\"#edb22c\" d=\"M832.2,-217C846.29,-217 864.63,-217 883.53,-217\"/>\n",
       "<path fill=\"none\" stroke=\"#edb22c\" d=\"M883.53,-217C902.44,-217 921.9,-217 938.24,-217\"/>\n",
       "<polygon fill=\"#edb22c\" stroke=\"#edb22c\" points=\"938.15,-220.5 948.15,-217 938.15,-213.5 938.15,-220.5\"/>\n",
       "</g>\n",
       "<!-- clusterAddThenCountdigit_counterInputsrun -->\n",
       "<g id=\"node25\" class=\"node\">\n",
       "<title>clusterAddThenCountdigit_counterInputsrun</title>\n",
       "<polygon fill=\"#21bfd8\" stroke=\"#21bfd8\" points=\"994.39,-337 952.39,-337 952.39,-313 994.39,-313 1006.39,-325 994.39,-337\"/>\n",
       "<text text-anchor=\"middle\" x=\"979.39\" y=\"-319.2\" font-family=\"Helvetica,sans-Serif\" font-size=\"14.00\">run</text>\n",
       "</g>\n",
       "<!-- clusterAddThenCountdigit_counterOutputsWithInjectionran -->\n",
       "<g id=\"node28\" class=\"node\">\n",
       "<title>clusterAddThenCountdigit_counterOutputsWithInjectionran</title>\n",
       "<polygon fill=\"#21bfd8\" stroke=\"#21bfd8\" points=\"1172.39,-310 1130.39,-310 1130.39,-286 1172.39,-286 1184.39,-298 1172.39,-310\"/>\n",
       "<text text-anchor=\"middle\" x=\"1157.39\" y=\"-292.2\" font-family=\"Helvetica,sans-Serif\" font-size=\"14.00\">ran</text>\n",
       "</g>\n",
       "<!-- clusterAddThenCountdigit_counterInputsrun&#45;&gt;clusterAddThenCountdigit_counterOutputsWithInjectionran -->\n",
       "<!-- clusterAddThenCountdigit_counterOutputsWithInjectionn_digits -->\n",
       "<g id=\"node29\" class=\"node\">\n",
       "<title>clusterAddThenCountdigit_counterOutputsWithInjectionn_digits</title>\n",
       "<ellipse fill=\"#edb22c\" stroke=\"#edb22c\" cx=\"1157.39\" cy=\"-244\" rx=\"40.62\" ry=\"18\"/>\n",
       "<text text-anchor=\"middle\" x=\"1157.39\" y=\"-238.2\" font-family=\"Helvetica,sans-Serif\" font-size=\"14.00\">n_digits</text>\n",
       "</g>\n",
       "<!-- clusterAddThenCountdigit_counterOutputsWithInjectionn_digits&#45;&gt;clusterAddThenCountOutputsWithInjectiondigits_in_sum_plus_5 -->\n",
       "<g id=\"edge14\" class=\"edge\">\n",
       "<title>clusterAddThenCountdigit_counterOutputsWithInjectionn_digits&#45;&gt;clusterAddThenCountOutputsWithInjectiondigits_in_sum_plus_5</title>\n",
       "<path fill=\"none\" stroke=\"#edb22c\" stroke-dasharray=\"5,2\" d=\"M1190.07,-233.1C1204.04,-228.29 1221.38,-222.33 1239.43,-216.12\"/>\n",
       "<path fill=\"none\" stroke=\"#edb22c\" stroke-dasharray=\"5,2\" d=\"M1239.43,-216.12C1257.49,-209.9 1276.27,-203.44 1293.13,-197.64\"/>\n",
       "<polygon fill=\"#edb22c\" stroke=\"#edb22c\" points=\"1294.03,-201.04 1302.34,-194.47 1291.75,-194.42 1294.03,-201.04\"/>\n",
       "</g>\n",
       "</g>\n",
       "</svg>\n"
      ],
      "text/plain": [
       "<graphviz.graphs.Digraph at 0x10989c1d0>"
      ]
     },
     "execution_count": 50,
     "metadata": {},
     "output_type": "execute_result"
    }
   ],
   "source": [
    "# high-level\n",
    "nested.draw(size=(10, 10))"
   ]
  },
  {
   "cell_type": "code",
   "execution_count": 51,
   "id": "630a9ffa-a157-4a1b-8d50-186513454088",
   "metadata": {},
   "outputs": [
    {
     "data": {
      "image/svg+xml": [
       "<?xml version=\"1.0\" encoding=\"UTF-8\" standalone=\"no\"?>\n",
       "<!DOCTYPE svg PUBLIC \"-//W3C//DTD SVG 1.1//EN\"\n",
       " \"http://www.w3.org/Graphics/SVG/1.1/DTD/svg11.dtd\">\n",
       "<!-- Generated by graphviz version 9.0.0 (0)\n",
       " -->\n",
       "<!-- Title: clusterAddThenCount Pages: 1 -->\n",
       "<svg width=\"720pt\" height=\"140pt\"\n",
       " viewBox=\"0.00 0.00 720.00 139.66\" xmlns=\"http://www.w3.org/2000/svg\" xmlns:xlink=\"http://www.w3.org/1999/xlink\">\n",
       "<g id=\"graph0\" class=\"graph\" transform=\"scale(0.21319 0.21319) rotate(0) translate(4 651.08)\">\n",
       "<title>clusterAddThenCount</title>\n",
       "<polygon fill=\"white\" stroke=\"none\" points=\"-4,4 -4,-651.08 3373.28,-651.08 3373.28,4 -4,4\"/>\n",
       "<text text-anchor=\"middle\" x=\"1684.64\" y=\"-5.7\" font-family=\"Helvetica,sans-Serif\" font-size=\"14.00\">AddThenCount: AddThenCount</text>\n",
       "<g id=\"clust15\" class=\"cluster\">\n",
       "<title>clusterAddThenCountadd_to_n2</title>\n",
       "<defs>\n",
       "<linearGradient id=\"clust15_l_0\" gradientUnits=\"userSpaceOnUse\" x1=\"178.75\" y1=\"-194.58\" x2=\"1704.6\" y2=\"-194.58\" >\n",
       "<stop offset=\"0\" style=\"stop-color:#dcccc9;stop-opacity:1.;\"/>\n",
       "<stop offset=\"1\" style=\"stop-color:#dcccc9;stop-opacity:1.;\"/>\n",
       "</linearGradient>\n",
       "</defs>\n",
       "<polygon fill=\"url(#clust15_l_0)\" stroke=\"#dcccc9\" points=\"178.75,-49.08 178.75,-340.08 1704.6,-340.08 1704.6,-49.08 178.75,-49.08\"/>\n",
       "<text text-anchor=\"middle\" x=\"941.67\" y=\"-322.78\" font-family=\"Helvetica,sans-Serif\" font-size=\"14.00\">add_to_n2: AddThree</text>\n",
       "</g>\n",
       "<g id=\"clust16\" class=\"cluster\">\n",
       "<title>clusterAddThenCountadd_to_n2Inputs</title>\n",
       "<defs>\n",
       "<linearGradient id=\"clust16_l_1\" gradientUnits=\"userSpaceOnUse\" x1=\"186.75\" y1=\"-148.58\" x2=\"345.5\" y2=\"-148.58\" >\n",
       "<stop offset=\"0\" style=\"stop-color:#a5a4a5;stop-opacity:1.;\"/>\n",
       "<stop offset=\"1\" style=\"stop-color:#e4e3e4;stop-opacity:1.;\"/>\n",
       "</linearGradient>\n",
       "</defs>\n",
       "<polygon fill=\"url(#clust16_l_1)\" stroke=\"#a5a4a5\" points=\"186.75,-57.08 186.75,-240.08 345.5,-240.08 345.5,-57.08 186.75,-57.08\"/>\n",
       "<text text-anchor=\"middle\" x=\"266.12\" y=\"-222.78\" font-family=\"Helvetica,sans-Serif\" font-size=\"14.00\">Inputs</text>\n",
       "</g>\n",
       "<g id=\"clust17\" class=\"cluster\">\n",
       "<title>clusterAddThenCountadd_to_n2OutputsWithInjection</title>\n",
       "<defs>\n",
       "<linearGradient id=\"clust17_l_2\" gradientUnits=\"userSpaceOnUse\" x1=\"1696.6\" y1=\"-148.58\" x2=\"1554.83\" y2=\"-148.58\" >\n",
       "<stop offset=\"0\" style=\"stop-color:#a5a4a5;stop-opacity:1.;\"/>\n",
       "<stop offset=\"1\" style=\"stop-color:#e4e3e4;stop-opacity:1.;\"/>\n",
       "</linearGradient>\n",
       "</defs>\n",
       "<polygon fill=\"url(#clust17_l_2)\" stroke=\"#a5a4a5\" points=\"1554.83,-57.08 1554.83,-240.08 1696.6,-240.08 1696.6,-57.08 1554.83,-57.08\"/>\n",
       "<text text-anchor=\"middle\" x=\"1625.72\" y=\"-222.78\" font-family=\"Helvetica,sans-Serif\" font-size=\"14.00\">OutputsWithInjection</text>\n",
       "</g>\n",
       "<g id=\"clust18\" class=\"cluster\">\n",
       "<title>clusterAddThenCountadd_oneadd_to_n2</title>\n",
       "<defs>\n",
       "<linearGradient id=\"clust18_l_3\" gradientUnits=\"userSpaceOnUse\" x1=\"357.5\" y1=\"-188.08\" x2=\"725.94\" y2=\"-188.08\" >\n",
       "<stop offset=\"0\" style=\"stop-color:#bfe2bf;stop-opacity:1.;\"/>\n",
       "<stop offset=\"1\" style=\"stop-color:#bfe2bf;stop-opacity:1.;\"/>\n",
       "</linearGradient>\n",
       "</defs>\n",
       "<polygon fill=\"url(#clust18_l_3)\" stroke=\"#bfe2bf\" points=\"357.5,-77.08 357.5,-299.08 725.94,-299.08 725.94,-77.08 357.5,-77.08\"/>\n",
       "<text text-anchor=\"middle\" x=\"541.72\" y=\"-281.78\" font-family=\"Helvetica,sans-Serif\" font-size=\"14.00\">add_one: AddOne</text>\n",
       "</g>\n",
       "<g id=\"clust19\" class=\"cluster\">\n",
       "<title>clusterAddThenCountadd_oneadd_to_n2Inputs</title>\n",
       "<defs>\n",
       "<linearGradient id=\"clust19_l_4\" gradientUnits=\"userSpaceOnUse\" x1=\"365.5\" y1=\"-176.58\" x2=\"524.25\" y2=\"-176.58\" >\n",
       "<stop offset=\"0\" style=\"stop-color:#a5a4a5;stop-opacity:1.;\"/>\n",
       "<stop offset=\"1\" style=\"stop-color:#e4e3e4;stop-opacity:1.;\"/>\n",
       "</linearGradient>\n",
       "</defs>\n",
       "<polygon fill=\"url(#clust19_l_4)\" stroke=\"#a5a4a5\" points=\"365.5,-85.08 365.5,-268.08 524.25,-268.08 524.25,-85.08 365.5,-85.08\"/>\n",
       "<text text-anchor=\"middle\" x=\"444.88\" y=\"-250.78\" font-family=\"Helvetica,sans-Serif\" font-size=\"14.00\">Inputs</text>\n",
       "</g>\n",
       "<g id=\"clust20\" class=\"cluster\">\n",
       "<title>clusterAddThenCountadd_oneadd_to_n2OutputsWithInjection</title>\n",
       "<defs>\n",
       "<linearGradient id=\"clust20_l_5\" gradientUnits=\"userSpaceOnUse\" x1=\"717.94\" y1=\"-154.58\" x2=\"576.25\" y2=\"-154.58\" >\n",
       "<stop offset=\"0\" style=\"stop-color:#a5a4a5;stop-opacity:1.;\"/>\n",
       "<stop offset=\"1\" style=\"stop-color:#e4e3e4;stop-opacity:1.;\"/>\n",
       "</linearGradient>\n",
       "</defs>\n",
       "<polygon fill=\"url(#clust20_l_5)\" stroke=\"#a5a4a5\" points=\"576.25,-90.08 576.25,-219.08 717.94,-219.08 717.94,-90.08 576.25,-90.08\"/>\n",
       "<text text-anchor=\"middle\" x=\"647.1\" y=\"-201.78\" font-family=\"Helvetica,sans-Serif\" font-size=\"14.00\">OutputsWithInjection</text>\n",
       "</g>\n",
       "<g id=\"clust21\" class=\"cluster\">\n",
       "<title>clusterAddThenCountadd_twoadd_to_n2</title>\n",
       "<defs>\n",
       "<linearGradient id=\"clust21_l_6\" gradientUnits=\"userSpaceOnUse\" x1=\"749.94\" y1=\"-193.08\" x2=\"1118.39\" y2=\"-193.08\" >\n",
       "<stop offset=\"0\" style=\"stop-color:#bfe2bf;stop-opacity:1.;\"/>\n",
       "<stop offset=\"1\" style=\"stop-color:#bfe2bf;stop-opacity:1.;\"/>\n",
       "</linearGradient>\n",
       "</defs>\n",
       "<polygon fill=\"url(#clust21_l_6)\" stroke=\"#bfe2bf\" points=\"749.94,-82.08 749.94,-304.08 1118.39,-304.08 1118.39,-82.08 749.94,-82.08\"/>\n",
       "<text text-anchor=\"middle\" x=\"934.17\" y=\"-286.78\" font-family=\"Helvetica,sans-Serif\" font-size=\"14.00\">add_two: AddOne</text>\n",
       "</g>\n",
       "<g id=\"clust22\" class=\"cluster\">\n",
       "<title>clusterAddThenCountadd_twoadd_to_n2Inputs</title>\n",
       "<defs>\n",
       "<linearGradient id=\"clust22_l_7\" gradientUnits=\"userSpaceOnUse\" x1=\"757.94\" y1=\"-181.58\" x2=\"916.69\" y2=\"-181.58\" >\n",
       "<stop offset=\"0\" style=\"stop-color:#a5a4a5;stop-opacity:1.;\"/>\n",
       "<stop offset=\"1\" style=\"stop-color:#e4e3e4;stop-opacity:1.;\"/>\n",
       "</linearGradient>\n",
       "</defs>\n",
       "<polygon fill=\"url(#clust22_l_7)\" stroke=\"#a5a4a5\" points=\"757.94,-90.08 757.94,-273.08 916.69,-273.08 916.69,-90.08 757.94,-90.08\"/>\n",
       "<text text-anchor=\"middle\" x=\"837.32\" y=\"-255.78\" font-family=\"Helvetica,sans-Serif\" font-size=\"14.00\">Inputs</text>\n",
       "</g>\n",
       "<g id=\"clust23\" class=\"cluster\">\n",
       "<title>clusterAddThenCountadd_twoadd_to_n2OutputsWithInjection</title>\n",
       "<defs>\n",
       "<linearGradient id=\"clust23_l_8\" gradientUnits=\"userSpaceOnUse\" x1=\"1110.39\" y1=\"-159.58\" x2=\"968.69\" y2=\"-159.58\" >\n",
       "<stop offset=\"0\" style=\"stop-color:#a5a4a5;stop-opacity:1.;\"/>\n",
       "<stop offset=\"1\" style=\"stop-color:#e4e3e4;stop-opacity:1.;\"/>\n",
       "</linearGradient>\n",
       "</defs>\n",
       "<polygon fill=\"url(#clust23_l_8)\" stroke=\"#a5a4a5\" points=\"968.69,-95.08 968.69,-224.08 1110.39,-224.08 1110.39,-95.08 968.69,-95.08\"/>\n",
       "<text text-anchor=\"middle\" x=\"1039.54\" y=\"-206.78\" font-family=\"Helvetica,sans-Serif\" font-size=\"14.00\">OutputsWithInjection</text>\n",
       "</g>\n",
       "<g id=\"clust24\" class=\"cluster\">\n",
       "<title>clusterAddThenCountadd_threeadd_to_n2</title>\n",
       "<defs>\n",
       "<linearGradient id=\"clust24_l_9\" gradientUnits=\"userSpaceOnUse\" x1=\"1142.39\" y1=\"-198.08\" x2=\"1510.83\" y2=\"-198.08\" >\n",
       "<stop offset=\"0\" style=\"stop-color:#bfe2bf;stop-opacity:1.;\"/>\n",
       "<stop offset=\"1\" style=\"stop-color:#bfe2bf;stop-opacity:1.;\"/>\n",
       "</linearGradient>\n",
       "</defs>\n",
       "<polygon fill=\"url(#clust24_l_9)\" stroke=\"#bfe2bf\" points=\"1142.39,-87.08 1142.39,-309.08 1510.83,-309.08 1510.83,-87.08 1142.39,-87.08\"/>\n",
       "<text text-anchor=\"middle\" x=\"1326.61\" y=\"-291.78\" font-family=\"Helvetica,sans-Serif\" font-size=\"14.00\">add_three: AddOne</text>\n",
       "</g>\n",
       "<g id=\"clust25\" class=\"cluster\">\n",
       "<title>clusterAddThenCountadd_threeadd_to_n2Inputs</title>\n",
       "<defs>\n",
       "<linearGradient id=\"clust25_l_10\" gradientUnits=\"userSpaceOnUse\" x1=\"1150.39\" y1=\"-186.58\" x2=\"1309.14\" y2=\"-186.58\" >\n",
       "<stop offset=\"0\" style=\"stop-color:#a5a4a5;stop-opacity:1.;\"/>\n",
       "<stop offset=\"1\" style=\"stop-color:#e4e3e4;stop-opacity:1.;\"/>\n",
       "</linearGradient>\n",
       "</defs>\n",
       "<polygon fill=\"url(#clust25_l_10)\" stroke=\"#a5a4a5\" points=\"1150.39,-95.08 1150.39,-278.08 1309.14,-278.08 1309.14,-95.08 1150.39,-95.08\"/>\n",
       "<text text-anchor=\"middle\" x=\"1229.76\" y=\"-260.78\" font-family=\"Helvetica,sans-Serif\" font-size=\"14.00\">Inputs</text>\n",
       "</g>\n",
       "<g id=\"clust26\" class=\"cluster\">\n",
       "<title>clusterAddThenCountadd_threeadd_to_n2OutputsWithInjection</title>\n",
       "<defs>\n",
       "<linearGradient id=\"clust26_l_11\" gradientUnits=\"userSpaceOnUse\" x1=\"1502.83\" y1=\"-213.58\" x2=\"1361.14\" y2=\"-213.58\" >\n",
       "<stop offset=\"0\" style=\"stop-color:#a5a4a5;stop-opacity:1.;\"/>\n",
       "<stop offset=\"1\" style=\"stop-color:#e4e3e4;stop-opacity:1.;\"/>\n",
       "</linearGradient>\n",
       "</defs>\n",
       "<polygon fill=\"url(#clust26_l_11)\" stroke=\"#a5a4a5\" points=\"1361.14,-149.08 1361.14,-278.08 1502.83,-278.08 1502.83,-149.08 1361.14,-149.08\"/>\n",
       "<text text-anchor=\"middle\" x=\"1431.99\" y=\"-260.78\" font-family=\"Helvetica,sans-Serif\" font-size=\"14.00\">OutputsWithInjection</text>\n",
       "</g>\n",
       "<g id=\"clust27\" class=\"cluster\">\n",
       "<title>clusterAddThenCountsum_plus_5</title>\n",
       "<defs>\n",
       "<linearGradient id=\"clust27_l_12\" gradientUnits=\"userSpaceOnUse\" x1=\"1712.6\" y1=\"-241.08\" x2=\"2057.35\" y2=\"-241.08\" >\n",
       "<stop offset=\"0\" style=\"stop-color:#bfe2bf;stop-opacity:1.;\"/>\n",
       "<stop offset=\"1\" style=\"stop-color:#bfe2bf;stop-opacity:1.;\"/>\n",
       "</linearGradient>\n",
       "</defs>\n",
       "<polygon fill=\"url(#clust27_l_12)\" stroke=\"#bfe2bf\" points=\"1712.6,-103.08 1712.6,-379.08 2057.35,-379.08 2057.35,-103.08 1712.6,-103.08\"/>\n",
       "<text text-anchor=\"middle\" x=\"1884.97\" y=\"-361.78\" font-family=\"Helvetica,sans-Serif\" font-size=\"14.00\">sum_plus_5: Add</text>\n",
       "</g>\n",
       "<g id=\"clust28\" class=\"cluster\">\n",
       "<title>clusterAddThenCountsum_plus_5Inputs</title>\n",
       "<defs>\n",
       "<linearGradient id=\"clust28_l_13\" gradientUnits=\"userSpaceOnUse\" x1=\"1720.6\" y1=\"-229.58\" x2=\"1879.35\" y2=\"-229.58\" >\n",
       "<stop offset=\"0\" style=\"stop-color:#a5a4a5;stop-opacity:1.;\"/>\n",
       "<stop offset=\"1\" style=\"stop-color:#e4e3e4;stop-opacity:1.;\"/>\n",
       "</linearGradient>\n",
       "</defs>\n",
       "<polygon fill=\"url(#clust28_l_13)\" stroke=\"#a5a4a5\" points=\"1720.6,-111.08 1720.6,-348.08 1879.35,-348.08 1879.35,-111.08 1720.6,-111.08\"/>\n",
       "<text text-anchor=\"middle\" x=\"1799.97\" y=\"-330.78\" font-family=\"Helvetica,sans-Serif\" font-size=\"14.00\">Inputs</text>\n",
       "</g>\n",
       "<g id=\"clust29\" class=\"cluster\">\n",
       "<title>clusterAddThenCountsum_plus_5OutputsWithInjection</title>\n",
       "<defs>\n",
       "<linearGradient id=\"clust29_l_14\" gradientUnits=\"userSpaceOnUse\" x1=\"2049.35\" y1=\"-229.58\" x2=\"1907.35\" y2=\"-229.58\" >\n",
       "<stop offset=\"0\" style=\"stop-color:#a5a4a5;stop-opacity:1.;\"/>\n",
       "<stop offset=\"1\" style=\"stop-color:#e4e3e4;stop-opacity:1.;\"/>\n",
       "</linearGradient>\n",
       "</defs>\n",
       "<polygon fill=\"url(#clust29_l_14)\" stroke=\"#a5a4a5\" points=\"1907.35,-165.08 1907.35,-294.08 2049.35,-294.08 2049.35,-165.08 1907.35,-165.08\"/>\n",
       "<text text-anchor=\"middle\" x=\"1978.35\" y=\"-276.78\" font-family=\"Helvetica,sans-Serif\" font-size=\"14.00\">OutputsWithInjection</text>\n",
       "</g>\n",
       "<g id=\"clust30\" class=\"cluster\">\n",
       "<title>clusterAddThenCountdigit_counter</title>\n",
       "<defs>\n",
       "<linearGradient id=\"clust30_l_15\" gradientUnits=\"userSpaceOnUse\" x1=\"2065.35\" y1=\"-238.58\" x2=\"3142.84\" y2=\"-238.58\" >\n",
       "<stop offset=\"0\" style=\"stop-color:#dcccc9;stop-opacity:1.;\"/>\n",
       "<stop offset=\"1\" style=\"stop-color:#dcccc9;stop-opacity:1.;\"/>\n",
       "</linearGradient>\n",
       "</defs>\n",
       "<polygon fill=\"url(#clust30_l_15)\" stroke=\"#dcccc9\" points=\"2065.35,-103.08 2065.35,-374.08 3142.84,-374.08 3142.84,-103.08 2065.35,-103.08\"/>\n",
       "<text text-anchor=\"middle\" x=\"2604.1\" y=\"-356.78\" font-family=\"Helvetica,sans-Serif\" font-size=\"14.00\">digit_counter: HowManyDigits</text>\n",
       "</g>\n",
       "<g id=\"clust31\" class=\"cluster\">\n",
       "<title>clusterAddThenCountdigit_counterInputs</title>\n",
       "<defs>\n",
       "<linearGradient id=\"clust31_l_16\" gradientUnits=\"userSpaceOnUse\" x1=\"2073.35\" y1=\"-202.58\" x2=\"2232.1\" y2=\"-202.58\" >\n",
       "<stop offset=\"0\" style=\"stop-color:#a5a4a5;stop-opacity:1.;\"/>\n",
       "<stop offset=\"1\" style=\"stop-color:#e4e3e4;stop-opacity:1.;\"/>\n",
       "</linearGradient>\n",
       "</defs>\n",
       "<polygon fill=\"url(#clust31_l_16)\" stroke=\"#a5a4a5\" points=\"2073.35,-111.08 2073.35,-294.08 2232.1,-294.08 2232.1,-111.08 2073.35,-111.08\"/>\n",
       "<text text-anchor=\"middle\" x=\"2152.72\" y=\"-276.78\" font-family=\"Helvetica,sans-Serif\" font-size=\"14.00\">Inputs</text>\n",
       "</g>\n",
       "<g id=\"clust32\" class=\"cluster\">\n",
       "<title>clusterAddThenCountdigit_counterOutputsWithInjection</title>\n",
       "<defs>\n",
       "<linearGradient id=\"clust32_l_17\" gradientUnits=\"userSpaceOnUse\" x1=\"3134.84\" y1=\"-175.58\" x2=\"2993.6\" y2=\"-175.58\" >\n",
       "<stop offset=\"0\" style=\"stop-color:#a5a4a5;stop-opacity:1.;\"/>\n",
       "<stop offset=\"1\" style=\"stop-color:#e4e3e4;stop-opacity:1.;\"/>\n",
       "</linearGradient>\n",
       "</defs>\n",
       "<polygon fill=\"url(#clust32_l_17)\" stroke=\"#a5a4a5\" points=\"2993.6,-111.08 2993.6,-240.08 3134.84,-240.08 3134.84,-111.08 2993.6,-111.08\"/>\n",
       "<text text-anchor=\"middle\" x=\"3064.22\" y=\"-222.78\" font-family=\"Helvetica,sans-Serif\" font-size=\"14.00\">OutputsWithInjection</text>\n",
       "</g>\n",
       "<g id=\"clust33\" class=\"cluster\">\n",
       "<title>clusterAddThenCountas_strdigit_counter</title>\n",
       "<defs>\n",
       "<linearGradient id=\"clust33_l_18\" gradientUnits=\"userSpaceOnUse\" x1=\"2244.1\" y1=\"-232.08\" x2=\"2596.85\" y2=\"-232.08\" >\n",
       "<stop offset=\"0\" style=\"stop-color:#bfe2bf;stop-opacity:1.;\"/>\n",
       "<stop offset=\"1\" style=\"stop-color:#bfe2bf;stop-opacity:1.;\"/>\n",
       "</linearGradient>\n",
       "</defs>\n",
       "<polygon fill=\"url(#clust33_l_18)\" stroke=\"#bfe2bf\" points=\"2244.1,-121.08 2244.1,-343.08 2596.85,-343.08 2596.85,-121.08 2244.1,-121.08\"/>\n",
       "<text text-anchor=\"middle\" x=\"2420.47\" y=\"-325.78\" font-family=\"Helvetica,sans-Serif\" font-size=\"14.00\">as_str: String</text>\n",
       "</g>\n",
       "<g id=\"clust34\" class=\"cluster\">\n",
       "<title>clusterAddThenCountas_strdigit_counterInputs</title>\n",
       "<defs>\n",
       "<linearGradient id=\"clust34_l_19\" gradientUnits=\"userSpaceOnUse\" x1=\"2252.1\" y1=\"-220.58\" x2=\"2410.85\" y2=\"-220.58\" >\n",
       "<stop offset=\"0\" style=\"stop-color:#a5a4a5;stop-opacity:1.;\"/>\n",
       "<stop offset=\"1\" style=\"stop-color:#e4e3e4;stop-opacity:1.;\"/>\n",
       "</linearGradient>\n",
       "</defs>\n",
       "<polygon fill=\"url(#clust34_l_19)\" stroke=\"#a5a4a5\" points=\"2252.1,-129.08 2252.1,-312.08 2410.85,-312.08 2410.85,-129.08 2252.1,-129.08\"/>\n",
       "<text text-anchor=\"middle\" x=\"2331.47\" y=\"-294.78\" font-family=\"Helvetica,sans-Serif\" font-size=\"14.00\">Inputs</text>\n",
       "</g>\n",
       "<g id=\"clust35\" class=\"cluster\">\n",
       "<title>clusterAddThenCountas_strdigit_counterOutputsWithInjection</title>\n",
       "<defs>\n",
       "<linearGradient id=\"clust35_l_20\" gradientUnits=\"userSpaceOnUse\" x1=\"2588.85\" y1=\"-193.58\" x2=\"2446.85\" y2=\"-193.58\" >\n",
       "<stop offset=\"0\" style=\"stop-color:#a5a4a5;stop-opacity:1.;\"/>\n",
       "<stop offset=\"1\" style=\"stop-color:#e4e3e4;stop-opacity:1.;\"/>\n",
       "</linearGradient>\n",
       "</defs>\n",
       "<polygon fill=\"url(#clust35_l_20)\" stroke=\"#a5a4a5\" points=\"2446.85,-129.08 2446.85,-258.08 2588.85,-258.08 2588.85,-129.08 2446.85,-129.08\"/>\n",
       "<text text-anchor=\"middle\" x=\"2517.85\" y=\"-240.78\" font-family=\"Helvetica,sans-Serif\" font-size=\"14.00\">OutputsWithInjection</text>\n",
       "</g>\n",
       "<g id=\"clust36\" class=\"cluster\">\n",
       "<title>clusterAddThenCountdigitsdigit_counter</title>\n",
       "<defs>\n",
       "<linearGradient id=\"clust36_l_21\" gradientUnits=\"userSpaceOnUse\" x1=\"2612.85\" y1=\"-232.08\" x2=\"2965.6\" y2=\"-232.08\" >\n",
       "<stop offset=\"0\" style=\"stop-color:#bfe2bf;stop-opacity:1.;\"/>\n",
       "<stop offset=\"1\" style=\"stop-color:#bfe2bf;stop-opacity:1.;\"/>\n",
       "</linearGradient>\n",
       "</defs>\n",
       "<polygon fill=\"url(#clust36_l_21)\" stroke=\"#bfe2bf\" points=\"2612.85,-121.08 2612.85,-343.08 2965.6,-343.08 2965.6,-121.08 2612.85,-121.08\"/>\n",
       "<text text-anchor=\"middle\" x=\"2789.22\" y=\"-325.78\" font-family=\"Helvetica,sans-Serif\" font-size=\"14.00\">digits: Length</text>\n",
       "</g>\n",
       "<g id=\"clust37\" class=\"cluster\">\n",
       "<title>clusterAddThenCountdigitsdigit_counterInputs</title>\n",
       "<defs>\n",
       "<linearGradient id=\"clust37_l_22\" gradientUnits=\"userSpaceOnUse\" x1=\"2620.85\" y1=\"-220.58\" x2=\"2779.6\" y2=\"-220.58\" >\n",
       "<stop offset=\"0\" style=\"stop-color:#a5a4a5;stop-opacity:1.;\"/>\n",
       "<stop offset=\"1\" style=\"stop-color:#e4e3e4;stop-opacity:1.;\"/>\n",
       "</linearGradient>\n",
       "</defs>\n",
       "<polygon fill=\"url(#clust37_l_22)\" stroke=\"#a5a4a5\" points=\"2620.85,-129.08 2620.85,-312.08 2779.6,-312.08 2779.6,-129.08 2620.85,-129.08\"/>\n",
       "<text text-anchor=\"middle\" x=\"2700.22\" y=\"-294.78\" font-family=\"Helvetica,sans-Serif\" font-size=\"14.00\">Inputs</text>\n",
       "</g>\n",
       "<g id=\"clust38\" class=\"cluster\">\n",
       "<title>clusterAddThenCountdigitsdigit_counterOutputsWithInjection</title>\n",
       "<defs>\n",
       "<linearGradient id=\"clust38_l_23\" gradientUnits=\"userSpaceOnUse\" x1=\"2957.6\" y1=\"-238.58\" x2=\"2815.6\" y2=\"-238.58\" >\n",
       "<stop offset=\"0\" style=\"stop-color:#a5a4a5;stop-opacity:1.;\"/>\n",
       "<stop offset=\"1\" style=\"stop-color:#e4e3e4;stop-opacity:1.;\"/>\n",
       "</linearGradient>\n",
       "</defs>\n",
       "<polygon fill=\"url(#clust38_l_23)\" stroke=\"#a5a4a5\" points=\"2815.6,-174.08 2815.6,-303.08 2957.6,-303.08 2957.6,-174.08 2815.6,-174.08\"/>\n",
       "<text text-anchor=\"middle\" x=\"2886.6\" y=\"-285.78\" font-family=\"Helvetica,sans-Serif\" font-size=\"14.00\">OutputsWithInjection</text>\n",
       "</g>\n",
       "<g id=\"clust1\" class=\"cluster\">\n",
       "<title>clusterAddThenCountInputs</title>\n",
       "<defs>\n",
       "<linearGradient id=\"clust1_l_24\" gradientUnits=\"userSpaceOnUse\" x1=\"8\" y1=\"-229.58\" x2=\"166.75\" y2=\"-229.58\" >\n",
       "<stop offset=\"0\" style=\"stop-color:#a5a4a5;stop-opacity:1.;\"/>\n",
       "<stop offset=\"1\" style=\"stop-color:#e4e3e4;stop-opacity:1.;\"/>\n",
       "</linearGradient>\n",
       "</defs>\n",
       "<polygon fill=\"url(#clust1_l_24)\" stroke=\"#a5a4a5\" points=\"8,-111.08 8,-348.08 166.75,-348.08 166.75,-111.08 8,-111.08\"/>\n",
       "<text text-anchor=\"middle\" x=\"87.38\" y=\"-330.78\" font-family=\"Helvetica,sans-Serif\" font-size=\"14.00\">Inputs</text>\n",
       "</g>\n",
       "<g id=\"clust2\" class=\"cluster\">\n",
       "<title>clusterAddThenCountOutputsWithInjection</title>\n",
       "<defs>\n",
       "<linearGradient id=\"clust2_l_25\" gradientUnits=\"userSpaceOnUse\" x1=\"3361.28\" y1=\"-144.58\" x2=\"3154.84\" y2=\"-144.58\" >\n",
       "<stop offset=\"0\" style=\"stop-color:#a5a4a5;stop-opacity:1.;\"/>\n",
       "<stop offset=\"1\" style=\"stop-color:#e4e3e4;stop-opacity:1.;\"/>\n",
       "</linearGradient>\n",
       "</defs>\n",
       "<polygon fill=\"url(#clust2_l_25)\" stroke=\"#a5a4a5\" points=\"3154.84,-80.08 3154.84,-209.08 3361.28,-209.08 3361.28,-80.08 3154.84,-80.08\"/>\n",
       "<text text-anchor=\"middle\" x=\"3258.06\" y=\"-191.78\" font-family=\"Helvetica,sans-Serif\" font-size=\"14.00\">OutputsWithInjection</text>\n",
       "</g>\n",
       "<g id=\"clust3\" class=\"cluster\">\n",
       "<title>clusterAddThenCountadd_to_n1</title>\n",
       "<defs>\n",
       "<linearGradient id=\"clust3_l_26\" gradientUnits=\"userSpaceOnUse\" x1=\"178.75\" y1=\"-493.58\" x2=\"1704.6\" y2=\"-493.58\" >\n",
       "<stop offset=\"0\" style=\"stop-color:#dcccc9;stop-opacity:1.;\"/>\n",
       "<stop offset=\"1\" style=\"stop-color:#dcccc9;stop-opacity:1.;\"/>\n",
       "</linearGradient>\n",
       "</defs>\n",
       "<polygon fill=\"url(#clust3_l_26)\" stroke=\"#dcccc9\" points=\"178.75,-348.08 178.75,-639.08 1704.6,-639.08 1704.6,-348.08 178.75,-348.08\"/>\n",
       "<text text-anchor=\"middle\" x=\"941.67\" y=\"-621.78\" font-family=\"Helvetica,sans-Serif\" font-size=\"14.00\">add_to_n1: AddThree</text>\n",
       "</g>\n",
       "<g id=\"clust5\" class=\"cluster\">\n",
       "<title>clusterAddThenCountadd_to_n1OutputsWithInjection</title>\n",
       "<defs>\n",
       "<linearGradient id=\"clust5_l_27\" gradientUnits=\"userSpaceOnUse\" x1=\"1696.6\" y1=\"-447.58\" x2=\"1554.83\" y2=\"-447.58\" >\n",
       "<stop offset=\"0\" style=\"stop-color:#a5a4a5;stop-opacity:1.;\"/>\n",
       "<stop offset=\"1\" style=\"stop-color:#e4e3e4;stop-opacity:1.;\"/>\n",
       "</linearGradient>\n",
       "</defs>\n",
       "<polygon fill=\"url(#clust5_l_27)\" stroke=\"#a5a4a5\" points=\"1554.83,-356.08 1554.83,-539.08 1696.6,-539.08 1696.6,-356.08 1554.83,-356.08\"/>\n",
       "<text text-anchor=\"middle\" x=\"1625.72\" y=\"-521.78\" font-family=\"Helvetica,sans-Serif\" font-size=\"14.00\">OutputsWithInjection</text>\n",
       "</g>\n",
       "<g id=\"clust6\" class=\"cluster\">\n",
       "<title>clusterAddThenCountadd_oneadd_to_n1</title>\n",
       "<defs>\n",
       "<linearGradient id=\"clust6_l_28\" gradientUnits=\"userSpaceOnUse\" x1=\"357.5\" y1=\"-487.08\" x2=\"725.94\" y2=\"-487.08\" >\n",
       "<stop offset=\"0\" style=\"stop-color:#bfe2bf;stop-opacity:1.;\"/>\n",
       "<stop offset=\"1\" style=\"stop-color:#bfe2bf;stop-opacity:1.;\"/>\n",
       "</linearGradient>\n",
       "</defs>\n",
       "<polygon fill=\"url(#clust6_l_28)\" stroke=\"#bfe2bf\" points=\"357.5,-376.08 357.5,-598.08 725.94,-598.08 725.94,-376.08 357.5,-376.08\"/>\n",
       "<text text-anchor=\"middle\" x=\"541.72\" y=\"-580.78\" font-family=\"Helvetica,sans-Serif\" font-size=\"14.00\">add_one: AddOne</text>\n",
       "</g>\n",
       "<g id=\"clust7\" class=\"cluster\">\n",
       "<title>clusterAddThenCountadd_oneadd_to_n1Inputs</title>\n",
       "<defs>\n",
       "<linearGradient id=\"clust7_l_29\" gradientUnits=\"userSpaceOnUse\" x1=\"365.5\" y1=\"-475.58\" x2=\"524.25\" y2=\"-475.58\" >\n",
       "<stop offset=\"0\" style=\"stop-color:#a5a4a5;stop-opacity:1.;\"/>\n",
       "<stop offset=\"1\" style=\"stop-color:#e4e3e4;stop-opacity:1.;\"/>\n",
       "</linearGradient>\n",
       "</defs>\n",
       "<polygon fill=\"url(#clust7_l_29)\" stroke=\"#a5a4a5\" points=\"365.5,-384.08 365.5,-567.08 524.25,-567.08 524.25,-384.08 365.5,-384.08\"/>\n",
       "<text text-anchor=\"middle\" x=\"444.88\" y=\"-549.78\" font-family=\"Helvetica,sans-Serif\" font-size=\"14.00\">Inputs</text>\n",
       "</g>\n",
       "<g id=\"clust8\" class=\"cluster\">\n",
       "<title>clusterAddThenCountadd_oneadd_to_n1OutputsWithInjection</title>\n",
       "<defs>\n",
       "<linearGradient id=\"clust8_l_30\" gradientUnits=\"userSpaceOnUse\" x1=\"717.94\" y1=\"-453.58\" x2=\"576.25\" y2=\"-453.58\" >\n",
       "<stop offset=\"0\" style=\"stop-color:#a5a4a5;stop-opacity:1.;\"/>\n",
       "<stop offset=\"1\" style=\"stop-color:#e4e3e4;stop-opacity:1.;\"/>\n",
       "</linearGradient>\n",
       "</defs>\n",
       "<polygon fill=\"url(#clust8_l_30)\" stroke=\"#a5a4a5\" points=\"576.25,-389.08 576.25,-518.08 717.94,-518.08 717.94,-389.08 576.25,-389.08\"/>\n",
       "<text text-anchor=\"middle\" x=\"647.1\" y=\"-500.78\" font-family=\"Helvetica,sans-Serif\" font-size=\"14.00\">OutputsWithInjection</text>\n",
       "</g>\n",
       "<g id=\"clust9\" class=\"cluster\">\n",
       "<title>clusterAddThenCountadd_twoadd_to_n1</title>\n",
       "<defs>\n",
       "<linearGradient id=\"clust9_l_31\" gradientUnits=\"userSpaceOnUse\" x1=\"749.94\" y1=\"-492.08\" x2=\"1118.39\" y2=\"-492.08\" >\n",
       "<stop offset=\"0\" style=\"stop-color:#bfe2bf;stop-opacity:1.;\"/>\n",
       "<stop offset=\"1\" style=\"stop-color:#bfe2bf;stop-opacity:1.;\"/>\n",
       "</linearGradient>\n",
       "</defs>\n",
       "<polygon fill=\"url(#clust9_l_31)\" stroke=\"#bfe2bf\" points=\"749.94,-381.08 749.94,-603.08 1118.39,-603.08 1118.39,-381.08 749.94,-381.08\"/>\n",
       "<text text-anchor=\"middle\" x=\"934.17\" y=\"-585.78\" font-family=\"Helvetica,sans-Serif\" font-size=\"14.00\">add_two: AddOne</text>\n",
       "</g>\n",
       "<g id=\"clust10\" class=\"cluster\">\n",
       "<title>clusterAddThenCountadd_twoadd_to_n1Inputs</title>\n",
       "<defs>\n",
       "<linearGradient id=\"clust10_l_32\" gradientUnits=\"userSpaceOnUse\" x1=\"757.94\" y1=\"-480.58\" x2=\"916.69\" y2=\"-480.58\" >\n",
       "<stop offset=\"0\" style=\"stop-color:#a5a4a5;stop-opacity:1.;\"/>\n",
       "<stop offset=\"1\" style=\"stop-color:#e4e3e4;stop-opacity:1.;\"/>\n",
       "</linearGradient>\n",
       "</defs>\n",
       "<polygon fill=\"url(#clust10_l_32)\" stroke=\"#a5a4a5\" points=\"757.94,-389.08 757.94,-572.08 916.69,-572.08 916.69,-389.08 757.94,-389.08\"/>\n",
       "<text text-anchor=\"middle\" x=\"837.32\" y=\"-554.78\" font-family=\"Helvetica,sans-Serif\" font-size=\"14.00\">Inputs</text>\n",
       "</g>\n",
       "<g id=\"clust11\" class=\"cluster\">\n",
       "<title>clusterAddThenCountadd_twoadd_to_n1OutputsWithInjection</title>\n",
       "<defs>\n",
       "<linearGradient id=\"clust11_l_33\" gradientUnits=\"userSpaceOnUse\" x1=\"1110.39\" y1=\"-458.58\" x2=\"968.69\" y2=\"-458.58\" >\n",
       "<stop offset=\"0\" style=\"stop-color:#a5a4a5;stop-opacity:1.;\"/>\n",
       "<stop offset=\"1\" style=\"stop-color:#e4e3e4;stop-opacity:1.;\"/>\n",
       "</linearGradient>\n",
       "</defs>\n",
       "<polygon fill=\"url(#clust11_l_33)\" stroke=\"#a5a4a5\" points=\"968.69,-394.08 968.69,-523.08 1110.39,-523.08 1110.39,-394.08 968.69,-394.08\"/>\n",
       "<text text-anchor=\"middle\" x=\"1039.54\" y=\"-505.78\" font-family=\"Helvetica,sans-Serif\" font-size=\"14.00\">OutputsWithInjection</text>\n",
       "</g>\n",
       "<g id=\"clust12\" class=\"cluster\">\n",
       "<title>clusterAddThenCountadd_threeadd_to_n1</title>\n",
       "<defs>\n",
       "<linearGradient id=\"clust12_l_34\" gradientUnits=\"userSpaceOnUse\" x1=\"1142.39\" y1=\"-497.08\" x2=\"1510.83\" y2=\"-497.08\" >\n",
       "<stop offset=\"0\" style=\"stop-color:#bfe2bf;stop-opacity:1.;\"/>\n",
       "<stop offset=\"1\" style=\"stop-color:#bfe2bf;stop-opacity:1.;\"/>\n",
       "</linearGradient>\n",
       "</defs>\n",
       "<polygon fill=\"url(#clust12_l_34)\" stroke=\"#bfe2bf\" points=\"1142.39,-386.08 1142.39,-608.08 1510.83,-608.08 1510.83,-386.08 1142.39,-386.08\"/>\n",
       "<text text-anchor=\"middle\" x=\"1326.61\" y=\"-590.78\" font-family=\"Helvetica,sans-Serif\" font-size=\"14.00\">add_three: AddOne</text>\n",
       "</g>\n",
       "<g id=\"clust13\" class=\"cluster\">\n",
       "<title>clusterAddThenCountadd_threeadd_to_n1Inputs</title>\n",
       "<defs>\n",
       "<linearGradient id=\"clust13_l_35\" gradientUnits=\"userSpaceOnUse\" x1=\"1150.39\" y1=\"-485.58\" x2=\"1309.14\" y2=\"-485.58\" >\n",
       "<stop offset=\"0\" style=\"stop-color:#a5a4a5;stop-opacity:1.;\"/>\n",
       "<stop offset=\"1\" style=\"stop-color:#e4e3e4;stop-opacity:1.;\"/>\n",
       "</linearGradient>\n",
       "</defs>\n",
       "<polygon fill=\"url(#clust13_l_35)\" stroke=\"#a5a4a5\" points=\"1150.39,-394.08 1150.39,-577.08 1309.14,-577.08 1309.14,-394.08 1150.39,-394.08\"/>\n",
       "<text text-anchor=\"middle\" x=\"1229.76\" y=\"-559.78\" font-family=\"Helvetica,sans-Serif\" font-size=\"14.00\">Inputs</text>\n",
       "</g>\n",
       "<g id=\"clust14\" class=\"cluster\">\n",
       "<title>clusterAddThenCountadd_threeadd_to_n1OutputsWithInjection</title>\n",
       "<defs>\n",
       "<linearGradient id=\"clust14_l_36\" gradientUnits=\"userSpaceOnUse\" x1=\"1502.83\" y1=\"-512.58\" x2=\"1361.14\" y2=\"-512.58\" >\n",
       "<stop offset=\"0\" style=\"stop-color:#a5a4a5;stop-opacity:1.;\"/>\n",
       "<stop offset=\"1\" style=\"stop-color:#e4e3e4;stop-opacity:1.;\"/>\n",
       "</linearGradient>\n",
       "</defs>\n",
       "<polygon fill=\"url(#clust14_l_36)\" stroke=\"#a5a4a5\" points=\"1361.14,-448.08 1361.14,-577.08 1502.83,-577.08 1502.83,-448.08 1361.14,-448.08\"/>\n",
       "<text text-anchor=\"middle\" x=\"1431.99\" y=\"-559.78\" font-family=\"Helvetica,sans-Serif\" font-size=\"14.00\">OutputsWithInjection</text>\n",
       "</g>\n",
       "<g id=\"clust4\" class=\"cluster\">\n",
       "<title>clusterAddThenCountadd_to_n1Inputs</title>\n",
       "<defs>\n",
       "<linearGradient id=\"clust4_l_37\" gradientUnits=\"userSpaceOnUse\" x1=\"186.75\" y1=\"-447.58\" x2=\"345.5\" y2=\"-447.58\" >\n",
       "<stop offset=\"0\" style=\"stop-color:#a5a4a5;stop-opacity:1.;\"/>\n",
       "<stop offset=\"1\" style=\"stop-color:#e4e3e4;stop-opacity:1.;\"/>\n",
       "</linearGradient>\n",
       "</defs>\n",
       "<polygon fill=\"url(#clust4_l_37)\" stroke=\"#a5a4a5\" points=\"186.75,-356.08 186.75,-539.08 345.5,-539.08 345.5,-356.08 186.75,-356.08\"/>\n",
       "<text text-anchor=\"middle\" x=\"266.12\" y=\"-521.78\" font-family=\"Helvetica,sans-Serif\" font-size=\"14.00\">Inputs</text>\n",
       "</g>\n",
       "<!-- clusterAddThenCountInputsrun -->\n",
       "<g id=\"node1\" class=\"node\">\n",
       "<title>clusterAddThenCountInputsrun</title>\n",
       "<polygon fill=\"#21bfd8\" stroke=\"#21bfd8\" points=\"102.38,-149.08 60.38,-149.08 60.38,-125.08 102.38,-125.08 114.38,-137.08 102.38,-149.08\"/>\n",
       "<text text-anchor=\"middle\" x=\"87.38\" y=\"-131.28\" font-family=\"Helvetica,sans-Serif\" font-size=\"14.00\">run</text>\n",
       "</g>\n",
       "<!-- clusterAddThenCountOutputsWithInjectionran -->\n",
       "<g id=\"node5\" class=\"node\">\n",
       "<title>clusterAddThenCountOutputsWithInjectionran</title>\n",
       "<polygon fill=\"#21bfd8\" stroke=\"#21bfd8\" points=\"3273.06,-118.08 3231.06,-118.08 3231.06,-94.08 3273.06,-94.08 3285.06,-106.08 3273.06,-118.08\"/>\n",
       "<text text-anchor=\"middle\" x=\"3258.06\" y=\"-100.28\" font-family=\"Helvetica,sans-Serif\" font-size=\"14.00\">ran</text>\n",
       "</g>\n",
       "<!-- clusterAddThenCountInputsrun&#45;&gt;clusterAddThenCountOutputsWithInjectionran -->\n",
       "<!-- clusterAddThenCountInputsaccumulate_and_run -->\n",
       "<g id=\"node2\" class=\"node\">\n",
       "<title>clusterAddThenCountInputsaccumulate_and_run</title>\n",
       "<polygon fill=\"#21bfd8\" stroke=\"#21bfd8\" points=\"146.75,-257.08 16,-257.08 16,-233.08 146.75,-233.08 158.75,-245.08 146.75,-257.08\"/>\n",
       "<text text-anchor=\"middle\" x=\"87.38\" y=\"-239.28\" font-family=\"Helvetica,sans-Serif\" font-size=\"14.00\">accumulate_and_run</text>\n",
       "</g>\n",
       "<!-- clusterAddThenCountInputsn1 -->\n",
       "<g id=\"node3\" class=\"node\">\n",
       "<title>clusterAddThenCountInputsn1</title>\n",
       "<ellipse fill=\"#edb22c\" stroke=\"#edb22c\" cx=\"87.38\" cy=\"-299.08\" rx=\"34.28\" ry=\"18\"/>\n",
       "<text text-anchor=\"middle\" x=\"87.38\" y=\"-293.28\" font-family=\"Helvetica,sans-Serif\" font-size=\"14.00\">n1: int</text>\n",
       "</g>\n",
       "<!-- clusterAddThenCountadd_to_n1Inputsx -->\n",
       "<g id=\"node9\" class=\"node\">\n",
       "<title>clusterAddThenCountadd_to_n1Inputsx</title>\n",
       "<ellipse fill=\"#edb22c\" stroke=\"#edb22c\" cx=\"266.12\" cy=\"-490.08\" rx=\"28.92\" ry=\"18\"/>\n",
       "<text text-anchor=\"middle\" x=\"266.12\" y=\"-484.28\" font-family=\"Helvetica,sans-Serif\" font-size=\"14.00\">x: int</text>\n",
       "</g>\n",
       "<!-- clusterAddThenCountInputsn1&#45;&gt;clusterAddThenCountadd_to_n1Inputsx -->\n",
       "<g id=\"edge38\" class=\"edge\">\n",
       "<title>clusterAddThenCountInputsn1&#45;&gt;clusterAddThenCountadd_to_n1Inputsx</title>\n",
       "<path fill=\"none\" stroke=\"#edb22c\" stroke-dasharray=\"5,2\" d=\"M93.35,-317.04C100.03,-338.95 113.65,-377.41 135.71,-412.52\"/>\n",
       "<path fill=\"none\" stroke=\"#edb22c\" stroke-dasharray=\"5,2\" d=\"M135.71,-412.52C147.55,-431.37 161.82,-449.25 178.75,-463.08 192.16,-474.04 210.04,-480.57 226.05,-484.45\"/>\n",
       "<polygon fill=\"#edb22c\" stroke=\"#edb22c\" points=\"225.3,-487.87 235.81,-486.52 226.75,-481.02 225.3,-487.87\"/>\n",
       "</g>\n",
       "<!-- clusterAddThenCountInputsn2 -->\n",
       "<g id=\"node4\" class=\"node\">\n",
       "<title>clusterAddThenCountInputsn2</title>\n",
       "<ellipse fill=\"#edb22c\" stroke=\"#edb22c\" cx=\"87.38\" cy=\"-191.08\" rx=\"34.28\" ry=\"18\"/>\n",
       "<text text-anchor=\"middle\" x=\"87.38\" y=\"-185.28\" font-family=\"Helvetica,sans-Serif\" font-size=\"14.00\">n2: int</text>\n",
       "</g>\n",
       "<!-- clusterAddThenCountadd_to_n2Inputsx -->\n",
       "<g id=\"node30\" class=\"node\">\n",
       "<title>clusterAddThenCountadd_to_n2Inputsx</title>\n",
       "<ellipse fill=\"#edb22c\" stroke=\"#edb22c\" cx=\"266.12\" cy=\"-191.08\" rx=\"28.92\" ry=\"18\"/>\n",
       "<text text-anchor=\"middle\" x=\"266.12\" y=\"-185.28\" font-family=\"Helvetica,sans-Serif\" font-size=\"14.00\">x: int</text>\n",
       "</g>\n",
       "<!-- clusterAddThenCountInputsn2&#45;&gt;clusterAddThenCountadd_to_n2Inputsx -->\n",
       "<g id=\"edge39\" class=\"edge\">\n",
       "<title>clusterAddThenCountInputsn2&#45;&gt;clusterAddThenCountadd_to_n2Inputsx</title>\n",
       "<path fill=\"none\" stroke=\"#edb22c\" stroke-dasharray=\"5,2\" d=\"M122.04,-191.08C136.78,-191.08 154.87,-191.08 173.17,-191.08\"/>\n",
       "<path fill=\"none\" stroke=\"#edb22c\" stroke-dasharray=\"5,2\" d=\"M173.17,-191.08C191.47,-191.08 209.97,-191.08 225.53,-191.08\"/>\n",
       "<polygon fill=\"#edb22c\" stroke=\"#edb22c\" points=\"225.32,-194.58 235.32,-191.08 225.32,-187.58 225.32,-194.58\"/>\n",
       "</g>\n",
       "<!-- clusterAddThenCountOutputsWithInjectiondigits_in_sum_plus_5 -->\n",
       "<g id=\"node6\" class=\"node\">\n",
       "<title>clusterAddThenCountOutputsWithInjectiondigits_in_sum_plus_5</title>\n",
       "<ellipse fill=\"#edb22c\" stroke=\"#edb22c\" cx=\"3258.06\" cy=\"-160.08\" rx=\"95.22\" ry=\"18\"/>\n",
       "<text text-anchor=\"middle\" x=\"3258.06\" y=\"-154.28\" font-family=\"Helvetica,sans-Serif\" font-size=\"14.00\">digits_in_sum_plus_5</text>\n",
       "</g>\n",
       "<!-- clusterAddThenCountadd_to_n1Inputsrun -->\n",
       "<g id=\"node7\" class=\"node\">\n",
       "<title>clusterAddThenCountadd_to_n1Inputsrun</title>\n",
       "<polygon fill=\"#21bfd8\" stroke=\"#21bfd8\" points=\"281.12,-394.08 239.12,-394.08 239.12,-370.08 281.12,-370.08 293.12,-382.08 281.12,-394.08\"/>\n",
       "<text text-anchor=\"middle\" x=\"266.12\" y=\"-376.28\" font-family=\"Helvetica,sans-Serif\" font-size=\"14.00\">run</text>\n",
       "</g>\n",
       "<!-- clusterAddThenCountadd_to_n1OutputsWithInjectionran -->\n",
       "<g id=\"node10\" class=\"node\">\n",
       "<title>clusterAddThenCountadd_to_n1OutputsWithInjectionran</title>\n",
       "<polygon fill=\"#21bfd8\" stroke=\"#21bfd8\" points=\"1640.72,-394.08 1598.72,-394.08 1598.72,-370.08 1640.72,-370.08 1652.72,-382.08 1640.72,-394.08\"/>\n",
       "<text text-anchor=\"middle\" x=\"1625.72\" y=\"-376.28\" font-family=\"Helvetica,sans-Serif\" font-size=\"14.00\">ran</text>\n",
       "</g>\n",
       "<!-- clusterAddThenCountadd_to_n1Inputsrun&#45;&gt;clusterAddThenCountadd_to_n1OutputsWithInjectionran -->\n",
       "<!-- clusterAddThenCountadd_to_n1Inputsaccumulate_and_run -->\n",
       "<g id=\"node8\" class=\"node\">\n",
       "<title>clusterAddThenCountadd_to_n1Inputsaccumulate_and_run</title>\n",
       "<polygon fill=\"#21bfd8\" stroke=\"#21bfd8\" points=\"325.5,-448.08 194.75,-448.08 194.75,-424.08 325.5,-424.08 337.5,-436.08 325.5,-448.08\"/>\n",
       "<text text-anchor=\"middle\" x=\"266.12\" y=\"-430.28\" font-family=\"Helvetica,sans-Serif\" font-size=\"14.00\">accumulate_and_run</text>\n",
       "</g>\n",
       "<!-- clusterAddThenCountadd_oneadd_to_n1Inputsx -->\n",
       "<g id=\"node15\" class=\"node\">\n",
       "<title>clusterAddThenCountadd_oneadd_to_n1Inputsx</title>\n",
       "<ellipse fill=\"#edb22c\" stroke=\"#edb22c\" cx=\"444.88\" cy=\"-410.08\" rx=\"27\" ry=\"18\"/>\n",
       "<text text-anchor=\"middle\" x=\"444.88\" y=\"-404.28\" font-family=\"Helvetica,sans-Serif\" font-size=\"14.00\">x</text>\n",
       "</g>\n",
       "<!-- clusterAddThenCountadd_to_n1Inputsx&#45;&gt;clusterAddThenCountadd_oneadd_to_n1Inputsx -->\n",
       "<g id=\"edge10\" class=\"edge\">\n",
       "<title>clusterAddThenCountadd_to_n1Inputsx&#45;&gt;clusterAddThenCountadd_oneadd_to_n1Inputsx</title>\n",
       "<path fill=\"none\" stroke=\"#edb22c\" stroke-dasharray=\"5,2\" d=\"M294.56,-486.18C311.01,-482.6 331.41,-475.82 345.5,-463.08 349.95,-459.06 350.75,-454.92 351.35,-450.79\"/>\n",
       "<path fill=\"none\" stroke=\"#edb22c\" stroke-dasharray=\"5,2\" d=\"M351.35,-450.79C352.02,-446.15 352.44,-441.52 357.5,-437.08 371.12,-425.12 390.01,-418.45 406.65,-414.74\"/>\n",
       "<polygon fill=\"#edb22c\" stroke=\"#edb22c\" points=\"407.07,-418.23 416.23,-412.9 405.75,-411.35 407.07,-418.23\"/>\n",
       "</g>\n",
       "<!-- clusterAddThenCountsum_plus_5Inputsaccumulate_and_run -->\n",
       "<g id=\"node50\" class=\"node\">\n",
       "<title>clusterAddThenCountsum_plus_5Inputsaccumulate_and_run</title>\n",
       "<polygon fill=\"#21bfd8\" stroke=\"#21bfd8\" points=\"1859.35,-149.08 1728.6,-149.08 1728.6,-125.08 1859.35,-125.08 1871.35,-137.08 1859.35,-149.08\"/>\n",
       "<text text-anchor=\"middle\" x=\"1799.97\" y=\"-131.28\" font-family=\"Helvetica,sans-Serif\" font-size=\"14.00\">accumulate_and_run</text>\n",
       "</g>\n",
       "<!-- clusterAddThenCountadd_to_n1OutputsWithInjectionran&#45;&gt;clusterAddThenCountsum_plus_5Inputsaccumulate_and_run -->\n",
       "<g id=\"edge32\" class=\"edge\">\n",
       "<title>clusterAddThenCountadd_to_n1OutputsWithInjectionran&#45;&gt;clusterAddThenCountsum_plus_5Inputsaccumulate_and_run</title>\n",
       "<path fill=\"none\" stroke=\"#21bfd8\" d=\"M1640.5,-363.6C1655.89,-342.02 1680.76,-304.29 1696.88,-265.17\"/>\n",
       "<path fill=\"none\" stroke=\"#21bfd8\" d=\"M1696.88,-265.17C1699.77,-258.15 1702.38,-251.1 1704.6,-244.08 1709.99,-227.05 1701.31,-177.93 1712.6,-164.08 1714.65,-161.57 1716.92,-159.29 1719.38,-157.21\"/>\n",
       "<polygon fill=\"#21bfd8\" stroke=\"#21bfd8\" points=\"1720.93,-160.4 1727.12,-151.8 1716.92,-154.66 1720.93,-160.4\"/>\n",
       "</g>\n",
       "<!-- clusterAddThenCountadd_to_n1OutputsWithInjectionadd_two -->\n",
       "<g id=\"node11\" class=\"node\">\n",
       "<title>clusterAddThenCountadd_to_n1OutputsWithInjectionadd_two</title>\n",
       "<ellipse fill=\"#edb22c\" stroke=\"#edb22c\" cx=\"1625.72\" cy=\"-436.08\" rx=\"43.55\" ry=\"18\"/>\n",
       "<text text-anchor=\"middle\" x=\"1625.72\" y=\"-430.28\" font-family=\"Helvetica,sans-Serif\" font-size=\"14.00\">add_two</text>\n",
       "</g>\n",
       "<!-- clusterAddThenCountsum_plus_5Inputsobj -->\n",
       "<g id=\"node51\" class=\"node\">\n",
       "<title>clusterAddThenCountsum_plus_5Inputsobj</title>\n",
       "<ellipse fill=\"#edb22c\" stroke=\"#edb22c\" cx=\"1799.97\" cy=\"-245.08\" rx=\"27\" ry=\"18\"/>\n",
       "<text text-anchor=\"middle\" x=\"1799.97\" y=\"-239.28\" font-family=\"Helvetica,sans-Serif\" font-size=\"14.00\">obj</text>\n",
       "</g>\n",
       "<!-- clusterAddThenCountadd_to_n1OutputsWithInjectionadd_two&#45;&gt;clusterAddThenCountsum_plus_5Inputsobj -->\n",
       "<g id=\"edge33\" class=\"edge\">\n",
       "<title>clusterAddThenCountadd_to_n1OutputsWithInjectionadd_two&#45;&gt;clusterAddThenCountsum_plus_5Inputsobj</title>\n",
       "<path fill=\"none\" stroke=\"#edb22c\" d=\"M1667.8,-431.16C1681.64,-427.37 1695.79,-420.72 1704.6,-409.08 1714.57,-395.9 1710.57,-363.83 1707.8,-333.38\"/>\n",
       "<path fill=\"none\" stroke=\"#edb22c\" d=\"M1707.8,-333.38C1705.46,-307.65 1704,-283.09 1712.6,-272.08 1724.18,-257.25 1743.83,-250.39 1761.47,-247.28\"/>\n",
       "<polygon fill=\"#edb22c\" stroke=\"#edb22c\" points=\"1761.73,-250.78 1771.16,-245.94 1760.77,-243.84 1761.73,-250.78\"/>\n",
       "</g>\n",
       "<!-- clusterAddThenCountadd_to_n1OutputsWithInjectionadd_three -->\n",
       "<g id=\"node12\" class=\"node\">\n",
       "<title>clusterAddThenCountadd_to_n1OutputsWithInjectionadd_three</title>\n",
       "<ellipse fill=\"#edb22c\" stroke=\"#edb22c\" cx=\"1625.72\" cy=\"-490.08\" rx=\"49.88\" ry=\"18\"/>\n",
       "<text text-anchor=\"middle\" x=\"1625.72\" y=\"-484.28\" font-family=\"Helvetica,sans-Serif\" font-size=\"14.00\">add_three</text>\n",
       "</g>\n",
       "<!-- clusterAddThenCountadd_oneadd_to_n1Inputsrun -->\n",
       "<g id=\"node13\" class=\"node\">\n",
       "<title>clusterAddThenCountadd_oneadd_to_n1Inputsrun</title>\n",
       "<polygon fill=\"#21bfd8\" stroke=\"#21bfd8\" points=\"459.88,-530.08 417.88,-530.08 417.88,-506.08 459.88,-506.08 471.88,-518.08 459.88,-530.08\"/>\n",
       "<text text-anchor=\"middle\" x=\"444.88\" y=\"-512.28\" font-family=\"Helvetica,sans-Serif\" font-size=\"14.00\">run</text>\n",
       "</g>\n",
       "<!-- clusterAddThenCountadd_oneadd_to_n1OutputsWithInjectionran -->\n",
       "<g id=\"node16\" class=\"node\">\n",
       "<title>clusterAddThenCountadd_oneadd_to_n1OutputsWithInjectionran</title>\n",
       "<polygon fill=\"#21bfd8\" stroke=\"#21bfd8\" points=\"662.1,-481.08 620.1,-481.08 620.1,-457.08 662.1,-457.08 674.1,-469.08 662.1,-481.08\"/>\n",
       "<text text-anchor=\"middle\" x=\"647.1\" y=\"-463.28\" font-family=\"Helvetica,sans-Serif\" font-size=\"14.00\">ran</text>\n",
       "</g>\n",
       "<!-- clusterAddThenCountadd_oneadd_to_n1Inputsrun&#45;&gt;clusterAddThenCountadd_oneadd_to_n1OutputsWithInjectionran -->\n",
       "<!-- clusterAddThenCountadd_oneadd_to_n1Inputsaccumulate_and_run -->\n",
       "<g id=\"node14\" class=\"node\">\n",
       "<title>clusterAddThenCountadd_oneadd_to_n1Inputsaccumulate_and_run</title>\n",
       "<polygon fill=\"#21bfd8\" stroke=\"#21bfd8\" points=\"504.25,-476.08 373.5,-476.08 373.5,-452.08 504.25,-452.08 516.25,-464.08 504.25,-476.08\"/>\n",
       "<text text-anchor=\"middle\" x=\"444.88\" y=\"-458.28\" font-family=\"Helvetica,sans-Serif\" font-size=\"14.00\">accumulate_and_run</text>\n",
       "</g>\n",
       "<!-- clusterAddThenCountadd_twoadd_to_n1Inputsaccumulate_and_run -->\n",
       "<g id=\"node19\" class=\"node\">\n",
       "<title>clusterAddThenCountadd_twoadd_to_n1Inputsaccumulate_and_run</title>\n",
       "<polygon fill=\"#21bfd8\" stroke=\"#21bfd8\" points=\"896.69,-481.08 765.94,-481.08 765.94,-457.08 896.69,-457.08 908.69,-469.08 896.69,-481.08\"/>\n",
       "<text text-anchor=\"middle\" x=\"837.32\" y=\"-463.28\" font-family=\"Helvetica,sans-Serif\" font-size=\"14.00\">accumulate_and_run</text>\n",
       "</g>\n",
       "<!-- clusterAddThenCountadd_oneadd_to_n1OutputsWithInjectionran&#45;&gt;clusterAddThenCountadd_twoadd_to_n1Inputsaccumulate_and_run -->\n",
       "<g id=\"edge6\" class=\"edge\">\n",
       "<title>clusterAddThenCountadd_oneadd_to_n1OutputsWithInjectionran&#45;&gt;clusterAddThenCountadd_twoadd_to_n1Inputsaccumulate_and_run</title>\n",
       "<path fill=\"none\" stroke=\"#21bfd8\" d=\"M674.27,-469.08C684.7,-469.08 697.52,-469.08 711.34,-469.08\"/>\n",
       "<path fill=\"none\" stroke=\"#21bfd8\" d=\"M711.34,-469.08C725.16,-469.08 739.97,-469.08 754.4,-469.08\"/>\n",
       "<polygon fill=\"#21bfd8\" stroke=\"#21bfd8\" points=\"754.27,-472.58 764.27,-469.08 754.27,-465.58 754.27,-472.58\"/>\n",
       "</g>\n",
       "<!-- clusterAddThenCountadd_oneadd_to_n1OutputsWithInjectionresult -->\n",
       "<g id=\"node17\" class=\"node\">\n",
       "<title>clusterAddThenCountadd_oneadd_to_n1OutputsWithInjectionresult</title>\n",
       "<ellipse fill=\"#edb22c\" stroke=\"#edb22c\" cx=\"647.1\" cy=\"-415.08\" rx=\"31.85\" ry=\"18\"/>\n",
       "<text text-anchor=\"middle\" x=\"647.1\" y=\"-409.28\" font-family=\"Helvetica,sans-Serif\" font-size=\"14.00\">result</text>\n",
       "</g>\n",
       "<!-- clusterAddThenCountadd_twoadd_to_n1Inputsx -->\n",
       "<g id=\"node20\" class=\"node\">\n",
       "<title>clusterAddThenCountadd_twoadd_to_n1Inputsx</title>\n",
       "<ellipse fill=\"#edb22c\" stroke=\"#edb22c\" cx=\"837.32\" cy=\"-415.08\" rx=\"27\" ry=\"18\"/>\n",
       "<text text-anchor=\"middle\" x=\"837.32\" y=\"-409.28\" font-family=\"Helvetica,sans-Serif\" font-size=\"14.00\">x</text>\n",
       "</g>\n",
       "<!-- clusterAddThenCountadd_oneadd_to_n1OutputsWithInjectionresult&#45;&gt;clusterAddThenCountadd_twoadd_to_n1Inputsx -->\n",
       "<g id=\"edge7\" class=\"edge\">\n",
       "<title>clusterAddThenCountadd_oneadd_to_n1OutputsWithInjectionresult&#45;&gt;clusterAddThenCountadd_twoadd_to_n1Inputsx</title>\n",
       "<path fill=\"none\" stroke=\"#edb22c\" d=\"M679.18,-415.08C695.6,-415.08 716.75,-415.08 738.18,-415.08\"/>\n",
       "<path fill=\"none\" stroke=\"#edb22c\" d=\"M738.18,-415.08C759.61,-415.08 781.32,-415.08 798.86,-415.08\"/>\n",
       "<polygon fill=\"#edb22c\" stroke=\"#edb22c\" points=\"798.54,-418.58 808.54,-415.08 798.54,-411.58 798.54,-418.58\"/>\n",
       "</g>\n",
       "<!-- clusterAddThenCountadd_twoadd_to_n1Inputsrun -->\n",
       "<g id=\"node18\" class=\"node\">\n",
       "<title>clusterAddThenCountadd_twoadd_to_n1Inputsrun</title>\n",
       "<polygon fill=\"#21bfd8\" stroke=\"#21bfd8\" points=\"852.32,-535.08 810.32,-535.08 810.32,-511.08 852.32,-511.08 864.32,-523.08 852.32,-535.08\"/>\n",
       "<text text-anchor=\"middle\" x=\"837.32\" y=\"-517.28\" font-family=\"Helvetica,sans-Serif\" font-size=\"14.00\">run</text>\n",
       "</g>\n",
       "<!-- clusterAddThenCountadd_twoadd_to_n1OutputsWithInjectionran -->\n",
       "<g id=\"node21\" class=\"node\">\n",
       "<title>clusterAddThenCountadd_twoadd_to_n1OutputsWithInjectionran</title>\n",
       "<polygon fill=\"#21bfd8\" stroke=\"#21bfd8\" points=\"1054.54,-486.08 1012.54,-486.08 1012.54,-462.08 1054.54,-462.08 1066.54,-474.08 1054.54,-486.08\"/>\n",
       "<text text-anchor=\"middle\" x=\"1039.54\" y=\"-468.28\" font-family=\"Helvetica,sans-Serif\" font-size=\"14.00\">ran</text>\n",
       "</g>\n",
       "<!-- clusterAddThenCountadd_twoadd_to_n1Inputsrun&#45;&gt;clusterAddThenCountadd_twoadd_to_n1OutputsWithInjectionran -->\n",
       "<!-- clusterAddThenCountadd_threeadd_to_n1Inputsaccumulate_and_run -->\n",
       "<g id=\"node24\" class=\"node\">\n",
       "<title>clusterAddThenCountadd_threeadd_to_n1Inputsaccumulate_and_run</title>\n",
       "<polygon fill=\"#21bfd8\" stroke=\"#21bfd8\" points=\"1289.14,-486.08 1158.39,-486.08 1158.39,-462.08 1289.14,-462.08 1301.14,-474.08 1289.14,-486.08\"/>\n",
       "<text text-anchor=\"middle\" x=\"1229.76\" y=\"-468.28\" font-family=\"Helvetica,sans-Serif\" font-size=\"14.00\">accumulate_and_run</text>\n",
       "</g>\n",
       "<!-- clusterAddThenCountadd_twoadd_to_n1OutputsWithInjectionran&#45;&gt;clusterAddThenCountadd_threeadd_to_n1Inputsaccumulate_and_run -->\n",
       "<g id=\"edge8\" class=\"edge\">\n",
       "<title>clusterAddThenCountadd_twoadd_to_n1OutputsWithInjectionran&#45;&gt;clusterAddThenCountadd_threeadd_to_n1Inputsaccumulate_and_run</title>\n",
       "<path fill=\"none\" stroke=\"#21bfd8\" d=\"M1066.71,-474.08C1077.15,-474.08 1089.97,-474.08 1103.78,-474.08\"/>\n",
       "<path fill=\"none\" stroke=\"#21bfd8\" d=\"M1103.78,-474.08C1117.6,-474.08 1132.42,-474.08 1146.84,-474.08\"/>\n",
       "<polygon fill=\"#21bfd8\" stroke=\"#21bfd8\" points=\"1146.71,-477.58 1156.71,-474.08 1146.71,-470.58 1146.71,-477.58\"/>\n",
       "</g>\n",
       "<!-- clusterAddThenCountadd_twoadd_to_n1OutputsWithInjectionresult -->\n",
       "<g id=\"node22\" class=\"node\">\n",
       "<title>clusterAddThenCountadd_twoadd_to_n1OutputsWithInjectionresult</title>\n",
       "<ellipse fill=\"#edb22c\" stroke=\"#edb22c\" cx=\"1039.54\" cy=\"-420.08\" rx=\"31.85\" ry=\"18\"/>\n",
       "<text text-anchor=\"middle\" x=\"1039.54\" y=\"-414.28\" font-family=\"Helvetica,sans-Serif\" font-size=\"14.00\">result</text>\n",
       "</g>\n",
       "<!-- clusterAddThenCountadd_twoadd_to_n1OutputsWithInjectionresult&#45;&gt;clusterAddThenCountadd_to_n1OutputsWithInjectionadd_two -->\n",
       "<g id=\"edge11\" class=\"edge\">\n",
       "<title>clusterAddThenCountadd_twoadd_to_n1OutputsWithInjectionresult&#45;&gt;clusterAddThenCountadd_to_n1OutputsWithInjectionadd_two</title>\n",
       "<path fill=\"none\" stroke=\"#edb22c\" stroke-dasharray=\"5,2\" d=\"M1066.46,-410.2C1086.77,-403.01 1115.93,-393.9 1142.39,-390.08 1207.45,-380.7 1277.73,-381.33 1343.98,-386.74\"/>\n",
       "<path fill=\"none\" stroke=\"#edb22c\" stroke-dasharray=\"5,2\" d=\"M1343.98,-386.74C1439,-394.49 1525.73,-412.06 1576.9,-424\"/>\n",
       "<polygon fill=\"#edb22c\" stroke=\"#edb22c\" points=\"1575.96,-427.38 1586.49,-426.28 1577.57,-420.56 1575.96,-427.38\"/>\n",
       "</g>\n",
       "<!-- clusterAddThenCountadd_threeadd_to_n1Inputsx -->\n",
       "<g id=\"node25\" class=\"node\">\n",
       "<title>clusterAddThenCountadd_threeadd_to_n1Inputsx</title>\n",
       "<ellipse fill=\"#edb22c\" stroke=\"#edb22c\" cx=\"1229.76\" cy=\"-420.08\" rx=\"27\" ry=\"18\"/>\n",
       "<text text-anchor=\"middle\" x=\"1229.76\" y=\"-414.28\" font-family=\"Helvetica,sans-Serif\" font-size=\"14.00\">x</text>\n",
       "</g>\n",
       "<!-- clusterAddThenCountadd_twoadd_to_n1OutputsWithInjectionresult&#45;&gt;clusterAddThenCountadd_threeadd_to_n1Inputsx -->\n",
       "<g id=\"edge9\" class=\"edge\">\n",
       "<title>clusterAddThenCountadd_twoadd_to_n1OutputsWithInjectionresult&#45;&gt;clusterAddThenCountadd_threeadd_to_n1Inputsx</title>\n",
       "<path fill=\"none\" stroke=\"#edb22c\" d=\"M1071.62,-420.08C1088.04,-420.08 1109.19,-420.08 1130.62,-420.08\"/>\n",
       "<path fill=\"none\" stroke=\"#edb22c\" d=\"M1130.62,-420.08C1152.06,-420.08 1173.77,-420.08 1191.3,-420.08\"/>\n",
       "<polygon fill=\"#edb22c\" stroke=\"#edb22c\" points=\"1190.99,-423.58 1200.99,-420.08 1190.99,-416.58 1190.99,-423.58\"/>\n",
       "</g>\n",
       "<!-- clusterAddThenCountadd_threeadd_to_n1Inputsrun -->\n",
       "<g id=\"node23\" class=\"node\">\n",
       "<title>clusterAddThenCountadd_threeadd_to_n1Inputsrun</title>\n",
       "<polygon fill=\"#21bfd8\" stroke=\"#21bfd8\" points=\"1244.76,-540.08 1202.76,-540.08 1202.76,-516.08 1244.76,-516.08 1256.76,-528.08 1244.76,-540.08\"/>\n",
       "<text text-anchor=\"middle\" x=\"1229.76\" y=\"-522.28\" font-family=\"Helvetica,sans-Serif\" font-size=\"14.00\">run</text>\n",
       "</g>\n",
       "<!-- clusterAddThenCountadd_threeadd_to_n1OutputsWithInjectionran -->\n",
       "<g id=\"node26\" class=\"node\">\n",
       "<title>clusterAddThenCountadd_threeadd_to_n1OutputsWithInjectionran</title>\n",
       "<polygon fill=\"#21bfd8\" stroke=\"#21bfd8\" points=\"1446.99,-540.08 1404.99,-540.08 1404.99,-516.08 1446.99,-516.08 1458.99,-528.08 1446.99,-540.08\"/>\n",
       "<text text-anchor=\"middle\" x=\"1431.99\" y=\"-522.28\" font-family=\"Helvetica,sans-Serif\" font-size=\"14.00\">ran</text>\n",
       "</g>\n",
       "<!-- clusterAddThenCountadd_threeadd_to_n1Inputsrun&#45;&gt;clusterAddThenCountadd_threeadd_to_n1OutputsWithInjectionran -->\n",
       "<!-- clusterAddThenCountadd_threeadd_to_n1OutputsWithInjectionresult -->\n",
       "<g id=\"node27\" class=\"node\">\n",
       "<title>clusterAddThenCountadd_threeadd_to_n1OutputsWithInjectionresult</title>\n",
       "<ellipse fill=\"#edb22c\" stroke=\"#edb22c\" cx=\"1431.99\" cy=\"-474.08\" rx=\"31.85\" ry=\"18\"/>\n",
       "<text text-anchor=\"middle\" x=\"1431.99\" y=\"-468.28\" font-family=\"Helvetica,sans-Serif\" font-size=\"14.00\">result</text>\n",
       "</g>\n",
       "<!-- clusterAddThenCountadd_threeadd_to_n1OutputsWithInjectionresult&#45;&gt;clusterAddThenCountadd_to_n1OutputsWithInjectionadd_three -->\n",
       "<g id=\"edge12\" class=\"edge\">\n",
       "<title>clusterAddThenCountadd_threeadd_to_n1OutputsWithInjectionresult&#45;&gt;clusterAddThenCountadd_to_n1OutputsWithInjectionadd_three</title>\n",
       "<path fill=\"none\" stroke=\"#edb22c\" stroke-dasharray=\"5,2\" d=\"M1463.79,-476.65C1477.49,-477.79 1494.53,-479.22 1512.37,-480.7\"/>\n",
       "<path fill=\"none\" stroke=\"#edb22c\" stroke-dasharray=\"5,2\" d=\"M1512.37,-480.7C1530.2,-482.19 1548.82,-483.75 1565.65,-485.15\"/>\n",
       "<polygon fill=\"#edb22c\" stroke=\"#edb22c\" points=\"1565,-488.61 1575.26,-485.95 1565.58,-481.63 1565,-488.61\"/>\n",
       "</g>\n",
       "<!-- clusterAddThenCountadd_to_n2Inputsrun -->\n",
       "<g id=\"node28\" class=\"node\">\n",
       "<title>clusterAddThenCountadd_to_n2Inputsrun</title>\n",
       "<polygon fill=\"#21bfd8\" stroke=\"#21bfd8\" points=\"281.12,-95.08 239.12,-95.08 239.12,-71.08 281.12,-71.08 293.12,-83.08 281.12,-95.08\"/>\n",
       "<text text-anchor=\"middle\" x=\"266.12\" y=\"-77.28\" font-family=\"Helvetica,sans-Serif\" font-size=\"14.00\">run</text>\n",
       "</g>\n",
       "<!-- clusterAddThenCountadd_to_n2OutputsWithInjectionran -->\n",
       "<g id=\"node31\" class=\"node\">\n",
       "<title>clusterAddThenCountadd_to_n2OutputsWithInjectionran</title>\n",
       "<polygon fill=\"#21bfd8\" stroke=\"#21bfd8\" points=\"1640.72,-95.08 1598.72,-95.08 1598.72,-71.08 1640.72,-71.08 1652.72,-83.08 1640.72,-95.08\"/>\n",
       "<text text-anchor=\"middle\" x=\"1625.72\" y=\"-77.28\" font-family=\"Helvetica,sans-Serif\" font-size=\"14.00\">ran</text>\n",
       "</g>\n",
       "<!-- clusterAddThenCountadd_to_n2Inputsrun&#45;&gt;clusterAddThenCountadd_to_n2OutputsWithInjectionran -->\n",
       "<!-- clusterAddThenCountadd_to_n2Inputsaccumulate_and_run -->\n",
       "<g id=\"node29\" class=\"node\">\n",
       "<title>clusterAddThenCountadd_to_n2Inputsaccumulate_and_run</title>\n",
       "<polygon fill=\"#21bfd8\" stroke=\"#21bfd8\" points=\"325.5,-149.08 194.75,-149.08 194.75,-125.08 325.5,-125.08 337.5,-137.08 325.5,-149.08\"/>\n",
       "<text text-anchor=\"middle\" x=\"266.12\" y=\"-131.28\" font-family=\"Helvetica,sans-Serif\" font-size=\"14.00\">accumulate_and_run</text>\n",
       "</g>\n",
       "<!-- clusterAddThenCountadd_oneadd_to_n2Inputsx -->\n",
       "<g id=\"node36\" class=\"node\">\n",
       "<title>clusterAddThenCountadd_oneadd_to_n2Inputsx</title>\n",
       "<ellipse fill=\"#edb22c\" stroke=\"#edb22c\" cx=\"444.88\" cy=\"-111.08\" rx=\"27\" ry=\"18\"/>\n",
       "<text text-anchor=\"middle\" x=\"444.88\" y=\"-105.28\" font-family=\"Helvetica,sans-Serif\" font-size=\"14.00\">x</text>\n",
       "</g>\n",
       "<!-- clusterAddThenCountadd_to_n2Inputsx&#45;&gt;clusterAddThenCountadd_oneadd_to_n2Inputsx -->\n",
       "<g id=\"edge21\" class=\"edge\">\n",
       "<title>clusterAddThenCountadd_to_n2Inputsx&#45;&gt;clusterAddThenCountadd_oneadd_to_n2Inputsx</title>\n",
       "<path fill=\"none\" stroke=\"#edb22c\" stroke-dasharray=\"5,2\" d=\"M294.56,-187.18C311.01,-183.6 331.41,-176.82 345.5,-164.08 349.95,-160.06 350.75,-155.92 351.35,-151.79\"/>\n",
       "<path fill=\"none\" stroke=\"#edb22c\" stroke-dasharray=\"5,2\" d=\"M351.35,-151.79C352.02,-147.15 352.44,-142.52 357.5,-138.08 371.12,-126.12 390.01,-119.45 406.65,-115.74\"/>\n",
       "<polygon fill=\"#edb22c\" stroke=\"#edb22c\" points=\"407.07,-119.23 416.23,-113.9 405.75,-112.35 407.07,-119.23\"/>\n",
       "</g>\n",
       "<!-- clusterAddThenCountadd_to_n2OutputsWithInjectionran&#45;&gt;clusterAddThenCountsum_plus_5Inputsaccumulate_and_run -->\n",
       "<g id=\"edge34\" class=\"edge\">\n",
       "<title>clusterAddThenCountadd_to_n2OutputsWithInjectionran&#45;&gt;clusterAddThenCountsum_plus_5Inputsaccumulate_and_run</title>\n",
       "<path fill=\"none\" stroke=\"#21bfd8\" d=\"M1652.88,-91.28C1663.01,-94.46 1675.34,-98.32 1688.5,-102.45\"/>\n",
       "<path fill=\"none\" stroke=\"#21bfd8\" d=\"M1688.5,-102.45C1701.66,-106.57 1715.64,-110.96 1729.08,-115.17\"/>\n",
       "<polygon fill=\"#21bfd8\" stroke=\"#21bfd8\" points=\"1728,-118.5 1738.59,-118.15 1730.09,-111.82 1728,-118.5\"/>\n",
       "</g>\n",
       "<!-- clusterAddThenCountadd_to_n2OutputsWithInjectionadd_two -->\n",
       "<g id=\"node32\" class=\"node\">\n",
       "<title>clusterAddThenCountadd_to_n2OutputsWithInjectionadd_two</title>\n",
       "<ellipse fill=\"#edb22c\" stroke=\"#edb22c\" cx=\"1625.72\" cy=\"-137.08\" rx=\"43.55\" ry=\"18\"/>\n",
       "<text text-anchor=\"middle\" x=\"1625.72\" y=\"-131.28\" font-family=\"Helvetica,sans-Serif\" font-size=\"14.00\">add_two</text>\n",
       "</g>\n",
       "<!-- clusterAddThenCountadd_to_n2OutputsWithInjectionadd_three -->\n",
       "<g id=\"node33\" class=\"node\">\n",
       "<title>clusterAddThenCountadd_to_n2OutputsWithInjectionadd_three</title>\n",
       "<ellipse fill=\"#edb22c\" stroke=\"#edb22c\" cx=\"1625.72\" cy=\"-191.08\" rx=\"49.88\" ry=\"18\"/>\n",
       "<text text-anchor=\"middle\" x=\"1625.72\" y=\"-185.28\" font-family=\"Helvetica,sans-Serif\" font-size=\"14.00\">add_three</text>\n",
       "</g>\n",
       "<!-- clusterAddThenCountsum_plus_5Inputsother -->\n",
       "<g id=\"node52\" class=\"node\">\n",
       "<title>clusterAddThenCountsum_plus_5Inputsother</title>\n",
       "<ellipse fill=\"#edb22c\" stroke=\"#edb22c\" cx=\"1799.97\" cy=\"-191.08\" rx=\"30.38\" ry=\"18\"/>\n",
       "<text text-anchor=\"middle\" x=\"1799.97\" y=\"-185.28\" font-family=\"Helvetica,sans-Serif\" font-size=\"14.00\">other</text>\n",
       "</g>\n",
       "<!-- clusterAddThenCountadd_to_n2OutputsWithInjectionadd_three&#45;&gt;clusterAddThenCountsum_plus_5Inputsother -->\n",
       "<g id=\"edge35\" class=\"edge\">\n",
       "<title>clusterAddThenCountadd_to_n2OutputsWithInjectionadd_three&#45;&gt;clusterAddThenCountsum_plus_5Inputsother</title>\n",
       "<path fill=\"none\" stroke=\"#edb22c\" d=\"M1676.08,-191.08C1689.02,-191.08 1703.33,-191.08 1717.47,-191.08\"/>\n",
       "<path fill=\"none\" stroke=\"#edb22c\" d=\"M1717.47,-191.08C1731.61,-191.08 1745.59,-191.08 1757.86,-191.08\"/>\n",
       "<polygon fill=\"#edb22c\" stroke=\"#edb22c\" points=\"1757.8,-194.58 1767.8,-191.08 1757.8,-187.58 1757.8,-194.58\"/>\n",
       "</g>\n",
       "<!-- clusterAddThenCountadd_oneadd_to_n2Inputsrun -->\n",
       "<g id=\"node34\" class=\"node\">\n",
       "<title>clusterAddThenCountadd_oneadd_to_n2Inputsrun</title>\n",
       "<polygon fill=\"#21bfd8\" stroke=\"#21bfd8\" points=\"459.88,-231.08 417.88,-231.08 417.88,-207.08 459.88,-207.08 471.88,-219.08 459.88,-231.08\"/>\n",
       "<text text-anchor=\"middle\" x=\"444.88\" y=\"-213.28\" font-family=\"Helvetica,sans-Serif\" font-size=\"14.00\">run</text>\n",
       "</g>\n",
       "<!-- clusterAddThenCountadd_oneadd_to_n2OutputsWithInjectionran -->\n",
       "<g id=\"node37\" class=\"node\">\n",
       "<title>clusterAddThenCountadd_oneadd_to_n2OutputsWithInjectionran</title>\n",
       "<polygon fill=\"#21bfd8\" stroke=\"#21bfd8\" points=\"662.1,-182.08 620.1,-182.08 620.1,-158.08 662.1,-158.08 674.1,-170.08 662.1,-182.08\"/>\n",
       "<text text-anchor=\"middle\" x=\"647.1\" y=\"-164.28\" font-family=\"Helvetica,sans-Serif\" font-size=\"14.00\">ran</text>\n",
       "</g>\n",
       "<!-- clusterAddThenCountadd_oneadd_to_n2Inputsrun&#45;&gt;clusterAddThenCountadd_oneadd_to_n2OutputsWithInjectionran -->\n",
       "<!-- clusterAddThenCountadd_oneadd_to_n2Inputsaccumulate_and_run -->\n",
       "<g id=\"node35\" class=\"node\">\n",
       "<title>clusterAddThenCountadd_oneadd_to_n2Inputsaccumulate_and_run</title>\n",
       "<polygon fill=\"#21bfd8\" stroke=\"#21bfd8\" points=\"504.25,-177.08 373.5,-177.08 373.5,-153.08 504.25,-153.08 516.25,-165.08 504.25,-177.08\"/>\n",
       "<text text-anchor=\"middle\" x=\"444.88\" y=\"-159.28\" font-family=\"Helvetica,sans-Serif\" font-size=\"14.00\">accumulate_and_run</text>\n",
       "</g>\n",
       "<!-- clusterAddThenCountadd_twoadd_to_n2Inputsaccumulate_and_run -->\n",
       "<g id=\"node40\" class=\"node\">\n",
       "<title>clusterAddThenCountadd_twoadd_to_n2Inputsaccumulate_and_run</title>\n",
       "<polygon fill=\"#21bfd8\" stroke=\"#21bfd8\" points=\"896.69,-182.08 765.94,-182.08 765.94,-158.08 896.69,-158.08 908.69,-170.08 896.69,-182.08\"/>\n",
       "<text text-anchor=\"middle\" x=\"837.32\" y=\"-164.28\" font-family=\"Helvetica,sans-Serif\" font-size=\"14.00\">accumulate_and_run</text>\n",
       "</g>\n",
       "<!-- clusterAddThenCountadd_oneadd_to_n2OutputsWithInjectionran&#45;&gt;clusterAddThenCountadd_twoadd_to_n2Inputsaccumulate_and_run -->\n",
       "<g id=\"edge17\" class=\"edge\">\n",
       "<title>clusterAddThenCountadd_oneadd_to_n2OutputsWithInjectionran&#45;&gt;clusterAddThenCountadd_twoadd_to_n2Inputsaccumulate_and_run</title>\n",
       "<path fill=\"none\" stroke=\"#21bfd8\" d=\"M674.27,-170.08C684.7,-170.08 697.52,-170.08 711.34,-170.08\"/>\n",
       "<path fill=\"none\" stroke=\"#21bfd8\" d=\"M711.34,-170.08C725.16,-170.08 739.97,-170.08 754.4,-170.08\"/>\n",
       "<polygon fill=\"#21bfd8\" stroke=\"#21bfd8\" points=\"754.27,-173.58 764.27,-170.08 754.27,-166.58 754.27,-173.58\"/>\n",
       "</g>\n",
       "<!-- clusterAddThenCountadd_oneadd_to_n2OutputsWithInjectionresult -->\n",
       "<g id=\"node38\" class=\"node\">\n",
       "<title>clusterAddThenCountadd_oneadd_to_n2OutputsWithInjectionresult</title>\n",
       "<ellipse fill=\"#edb22c\" stroke=\"#edb22c\" cx=\"647.1\" cy=\"-116.08\" rx=\"31.85\" ry=\"18\"/>\n",
       "<text text-anchor=\"middle\" x=\"647.1\" y=\"-110.28\" font-family=\"Helvetica,sans-Serif\" font-size=\"14.00\">result</text>\n",
       "</g>\n",
       "<!-- clusterAddThenCountadd_twoadd_to_n2Inputsx -->\n",
       "<g id=\"node41\" class=\"node\">\n",
       "<title>clusterAddThenCountadd_twoadd_to_n2Inputsx</title>\n",
       "<ellipse fill=\"#edb22c\" stroke=\"#edb22c\" cx=\"837.32\" cy=\"-116.08\" rx=\"27\" ry=\"18\"/>\n",
       "<text text-anchor=\"middle\" x=\"837.32\" y=\"-110.28\" font-family=\"Helvetica,sans-Serif\" font-size=\"14.00\">x</text>\n",
       "</g>\n",
       "<!-- clusterAddThenCountadd_oneadd_to_n2OutputsWithInjectionresult&#45;&gt;clusterAddThenCountadd_twoadd_to_n2Inputsx -->\n",
       "<g id=\"edge18\" class=\"edge\">\n",
       "<title>clusterAddThenCountadd_oneadd_to_n2OutputsWithInjectionresult&#45;&gt;clusterAddThenCountadd_twoadd_to_n2Inputsx</title>\n",
       "<path fill=\"none\" stroke=\"#edb22c\" d=\"M679.18,-116.08C695.6,-116.08 716.75,-116.08 738.18,-116.08\"/>\n",
       "<path fill=\"none\" stroke=\"#edb22c\" d=\"M738.18,-116.08C759.61,-116.08 781.32,-116.08 798.86,-116.08\"/>\n",
       "<polygon fill=\"#edb22c\" stroke=\"#edb22c\" points=\"798.54,-119.58 808.54,-116.08 798.54,-112.58 798.54,-119.58\"/>\n",
       "</g>\n",
       "<!-- clusterAddThenCountadd_twoadd_to_n2Inputsrun -->\n",
       "<g id=\"node39\" class=\"node\">\n",
       "<title>clusterAddThenCountadd_twoadd_to_n2Inputsrun</title>\n",
       "<polygon fill=\"#21bfd8\" stroke=\"#21bfd8\" points=\"852.32,-236.08 810.32,-236.08 810.32,-212.08 852.32,-212.08 864.32,-224.08 852.32,-236.08\"/>\n",
       "<text text-anchor=\"middle\" x=\"837.32\" y=\"-218.28\" font-family=\"Helvetica,sans-Serif\" font-size=\"14.00\">run</text>\n",
       "</g>\n",
       "<!-- clusterAddThenCountadd_twoadd_to_n2OutputsWithInjectionran -->\n",
       "<g id=\"node42\" class=\"node\">\n",
       "<title>clusterAddThenCountadd_twoadd_to_n2OutputsWithInjectionran</title>\n",
       "<polygon fill=\"#21bfd8\" stroke=\"#21bfd8\" points=\"1054.54,-187.08 1012.54,-187.08 1012.54,-163.08 1054.54,-163.08 1066.54,-175.08 1054.54,-187.08\"/>\n",
       "<text text-anchor=\"middle\" x=\"1039.54\" y=\"-169.28\" font-family=\"Helvetica,sans-Serif\" font-size=\"14.00\">ran</text>\n",
       "</g>\n",
       "<!-- clusterAddThenCountadd_twoadd_to_n2Inputsrun&#45;&gt;clusterAddThenCountadd_twoadd_to_n2OutputsWithInjectionran -->\n",
       "<!-- clusterAddThenCountadd_threeadd_to_n2Inputsaccumulate_and_run -->\n",
       "<g id=\"node45\" class=\"node\">\n",
       "<title>clusterAddThenCountadd_threeadd_to_n2Inputsaccumulate_and_run</title>\n",
       "<polygon fill=\"#21bfd8\" stroke=\"#21bfd8\" points=\"1289.14,-187.08 1158.39,-187.08 1158.39,-163.08 1289.14,-163.08 1301.14,-175.08 1289.14,-187.08\"/>\n",
       "<text text-anchor=\"middle\" x=\"1229.76\" y=\"-169.28\" font-family=\"Helvetica,sans-Serif\" font-size=\"14.00\">accumulate_and_run</text>\n",
       "</g>\n",
       "<!-- clusterAddThenCountadd_twoadd_to_n2OutputsWithInjectionran&#45;&gt;clusterAddThenCountadd_threeadd_to_n2Inputsaccumulate_and_run -->\n",
       "<g id=\"edge19\" class=\"edge\">\n",
       "<title>clusterAddThenCountadd_twoadd_to_n2OutputsWithInjectionran&#45;&gt;clusterAddThenCountadd_threeadd_to_n2Inputsaccumulate_and_run</title>\n",
       "<path fill=\"none\" stroke=\"#21bfd8\" d=\"M1066.71,-175.08C1077.15,-175.08 1089.97,-175.08 1103.78,-175.08\"/>\n",
       "<path fill=\"none\" stroke=\"#21bfd8\" d=\"M1103.78,-175.08C1117.6,-175.08 1132.42,-175.08 1146.84,-175.08\"/>\n",
       "<polygon fill=\"#21bfd8\" stroke=\"#21bfd8\" points=\"1146.71,-178.58 1156.71,-175.08 1146.71,-171.58 1146.71,-178.58\"/>\n",
       "</g>\n",
       "<!-- clusterAddThenCountadd_twoadd_to_n2OutputsWithInjectionresult -->\n",
       "<g id=\"node43\" class=\"node\">\n",
       "<title>clusterAddThenCountadd_twoadd_to_n2OutputsWithInjectionresult</title>\n",
       "<ellipse fill=\"#edb22c\" stroke=\"#edb22c\" cx=\"1039.54\" cy=\"-121.08\" rx=\"31.85\" ry=\"18\"/>\n",
       "<text text-anchor=\"middle\" x=\"1039.54\" y=\"-115.28\" font-family=\"Helvetica,sans-Serif\" font-size=\"14.00\">result</text>\n",
       "</g>\n",
       "<!-- clusterAddThenCountadd_twoadd_to_n2OutputsWithInjectionresult&#45;&gt;clusterAddThenCountadd_to_n2OutputsWithInjectionadd_two -->\n",
       "<g id=\"edge22\" class=\"edge\">\n",
       "<title>clusterAddThenCountadd_twoadd_to_n2OutputsWithInjectionresult&#45;&gt;clusterAddThenCountadd_to_n2OutputsWithInjectionadd_two</title>\n",
       "<path fill=\"none\" stroke=\"#edb22c\" stroke-dasharray=\"5,2\" d=\"M1066.46,-111.2C1086.77,-104.01 1115.93,-94.9 1142.39,-91.08 1207.45,-81.7 1277.73,-82.33 1343.98,-87.74\"/>\n",
       "<path fill=\"none\" stroke=\"#edb22c\" stroke-dasharray=\"5,2\" d=\"M1343.98,-87.74C1439,-95.49 1525.73,-113.06 1576.9,-125\"/>\n",
       "<polygon fill=\"#edb22c\" stroke=\"#edb22c\" points=\"1575.96,-128.38 1586.49,-127.28 1577.57,-121.56 1575.96,-128.38\"/>\n",
       "</g>\n",
       "<!-- clusterAddThenCountadd_threeadd_to_n2Inputsx -->\n",
       "<g id=\"node46\" class=\"node\">\n",
       "<title>clusterAddThenCountadd_threeadd_to_n2Inputsx</title>\n",
       "<ellipse fill=\"#edb22c\" stroke=\"#edb22c\" cx=\"1229.76\" cy=\"-121.08\" rx=\"27\" ry=\"18\"/>\n",
       "<text text-anchor=\"middle\" x=\"1229.76\" y=\"-115.28\" font-family=\"Helvetica,sans-Serif\" font-size=\"14.00\">x</text>\n",
       "</g>\n",
       "<!-- clusterAddThenCountadd_twoadd_to_n2OutputsWithInjectionresult&#45;&gt;clusterAddThenCountadd_threeadd_to_n2Inputsx -->\n",
       "<g id=\"edge20\" class=\"edge\">\n",
       "<title>clusterAddThenCountadd_twoadd_to_n2OutputsWithInjectionresult&#45;&gt;clusterAddThenCountadd_threeadd_to_n2Inputsx</title>\n",
       "<path fill=\"none\" stroke=\"#edb22c\" d=\"M1071.62,-121.08C1088.04,-121.08 1109.19,-121.08 1130.62,-121.08\"/>\n",
       "<path fill=\"none\" stroke=\"#edb22c\" d=\"M1130.62,-121.08C1152.06,-121.08 1173.77,-121.08 1191.3,-121.08\"/>\n",
       "<polygon fill=\"#edb22c\" stroke=\"#edb22c\" points=\"1190.99,-124.58 1200.99,-121.08 1190.99,-117.58 1190.99,-124.58\"/>\n",
       "</g>\n",
       "<!-- clusterAddThenCountadd_threeadd_to_n2Inputsrun -->\n",
       "<g id=\"node44\" class=\"node\">\n",
       "<title>clusterAddThenCountadd_threeadd_to_n2Inputsrun</title>\n",
       "<polygon fill=\"#21bfd8\" stroke=\"#21bfd8\" points=\"1244.76,-241.08 1202.76,-241.08 1202.76,-217.08 1244.76,-217.08 1256.76,-229.08 1244.76,-241.08\"/>\n",
       "<text text-anchor=\"middle\" x=\"1229.76\" y=\"-223.28\" font-family=\"Helvetica,sans-Serif\" font-size=\"14.00\">run</text>\n",
       "</g>\n",
       "<!-- clusterAddThenCountadd_threeadd_to_n2OutputsWithInjectionran -->\n",
       "<g id=\"node47\" class=\"node\">\n",
       "<title>clusterAddThenCountadd_threeadd_to_n2OutputsWithInjectionran</title>\n",
       "<polygon fill=\"#21bfd8\" stroke=\"#21bfd8\" points=\"1446.99,-241.08 1404.99,-241.08 1404.99,-217.08 1446.99,-217.08 1458.99,-229.08 1446.99,-241.08\"/>\n",
       "<text text-anchor=\"middle\" x=\"1431.99\" y=\"-223.28\" font-family=\"Helvetica,sans-Serif\" font-size=\"14.00\">ran</text>\n",
       "</g>\n",
       "<!-- clusterAddThenCountadd_threeadd_to_n2Inputsrun&#45;&gt;clusterAddThenCountadd_threeadd_to_n2OutputsWithInjectionran -->\n",
       "<!-- clusterAddThenCountadd_threeadd_to_n2OutputsWithInjectionresult -->\n",
       "<g id=\"node48\" class=\"node\">\n",
       "<title>clusterAddThenCountadd_threeadd_to_n2OutputsWithInjectionresult</title>\n",
       "<ellipse fill=\"#edb22c\" stroke=\"#edb22c\" cx=\"1431.99\" cy=\"-175.08\" rx=\"31.85\" ry=\"18\"/>\n",
       "<text text-anchor=\"middle\" x=\"1431.99\" y=\"-169.28\" font-family=\"Helvetica,sans-Serif\" font-size=\"14.00\">result</text>\n",
       "</g>\n",
       "<!-- clusterAddThenCountadd_threeadd_to_n2OutputsWithInjectionresult&#45;&gt;clusterAddThenCountadd_to_n2OutputsWithInjectionadd_three -->\n",
       "<g id=\"edge23\" class=\"edge\">\n",
       "<title>clusterAddThenCountadd_threeadd_to_n2OutputsWithInjectionresult&#45;&gt;clusterAddThenCountadd_to_n2OutputsWithInjectionadd_three</title>\n",
       "<path fill=\"none\" stroke=\"#edb22c\" stroke-dasharray=\"5,2\" d=\"M1463.79,-177.65C1477.49,-178.79 1494.53,-180.22 1512.37,-181.7\"/>\n",
       "<path fill=\"none\" stroke=\"#edb22c\" stroke-dasharray=\"5,2\" d=\"M1512.37,-181.7C1530.2,-183.19 1548.82,-184.75 1565.65,-186.15\"/>\n",
       "<polygon fill=\"#edb22c\" stroke=\"#edb22c\" points=\"1565,-189.61 1575.26,-186.95 1565.58,-182.63 1565,-189.61\"/>\n",
       "</g>\n",
       "<!-- clusterAddThenCountsum_plus_5Inputsrun -->\n",
       "<g id=\"node49\" class=\"node\">\n",
       "<title>clusterAddThenCountsum_plus_5Inputsrun</title>\n",
       "<polygon fill=\"#21bfd8\" stroke=\"#21bfd8\" points=\"1814.97,-311.08 1772.97,-311.08 1772.97,-287.08 1814.97,-287.08 1826.97,-299.08 1814.97,-311.08\"/>\n",
       "<text text-anchor=\"middle\" x=\"1799.97\" y=\"-293.28\" font-family=\"Helvetica,sans-Serif\" font-size=\"14.00\">run</text>\n",
       "</g>\n",
       "<!-- clusterAddThenCountsum_plus_5OutputsWithInjectionran -->\n",
       "<g id=\"node53\" class=\"node\">\n",
       "<title>clusterAddThenCountsum_plus_5OutputsWithInjectionran</title>\n",
       "<polygon fill=\"#21bfd8\" stroke=\"#21bfd8\" points=\"1993.35,-257.08 1951.35,-257.08 1951.35,-233.08 1993.35,-233.08 2005.35,-245.08 1993.35,-257.08\"/>\n",
       "<text text-anchor=\"middle\" x=\"1978.35\" y=\"-239.28\" font-family=\"Helvetica,sans-Serif\" font-size=\"14.00\">ran</text>\n",
       "</g>\n",
       "<!-- clusterAddThenCountsum_plus_5Inputsrun&#45;&gt;clusterAddThenCountsum_plus_5OutputsWithInjectionran -->\n",
       "<!-- clusterAddThenCountdigit_counterInputsaccumulate_and_run -->\n",
       "<g id=\"node56\" class=\"node\">\n",
       "<title>clusterAddThenCountdigit_counterInputsaccumulate_and_run</title>\n",
       "<polygon fill=\"#21bfd8\" stroke=\"#21bfd8\" points=\"2212.1,-257.08 2081.35,-257.08 2081.35,-233.08 2212.1,-233.08 2224.1,-245.08 2212.1,-257.08\"/>\n",
       "<text text-anchor=\"middle\" x=\"2152.72\" y=\"-239.28\" font-family=\"Helvetica,sans-Serif\" font-size=\"14.00\">accumulate_and_run</text>\n",
       "</g>\n",
       "<!-- clusterAddThenCountsum_plus_5OutputsWithInjectionran&#45;&gt;clusterAddThenCountdigit_counterInputsaccumulate_and_run -->\n",
       "<g id=\"edge36\" class=\"edge\">\n",
       "<title>clusterAddThenCountsum_plus_5OutputsWithInjectionran&#45;&gt;clusterAddThenCountdigit_counterInputsaccumulate_and_run</title>\n",
       "<path fill=\"none\" stroke=\"#21bfd8\" d=\"M2005.53,-245.08C2014.15,-245.08 2024.36,-245.08 2035.31,-245.08\"/>\n",
       "<path fill=\"none\" stroke=\"#21bfd8\" d=\"M2035.31,-245.08C2046.27,-245.08 2057.97,-245.08 2069.58,-245.08\"/>\n",
       "<polygon fill=\"#21bfd8\" stroke=\"#21bfd8\" points=\"2069.39,-248.58 2079.39,-245.08 2069.39,-241.58 2069.39,-248.58\"/>\n",
       "</g>\n",
       "<!-- clusterAddThenCountsum_plus_5OutputsWithInjectionadd -->\n",
       "<g id=\"node54\" class=\"node\">\n",
       "<title>clusterAddThenCountsum_plus_5OutputsWithInjectionadd</title>\n",
       "<ellipse fill=\"#edb22c\" stroke=\"#edb22c\" cx=\"1978.35\" cy=\"-191.08\" rx=\"27\" ry=\"18\"/>\n",
       "<text text-anchor=\"middle\" x=\"1978.35\" y=\"-185.28\" font-family=\"Helvetica,sans-Serif\" font-size=\"14.00\">add</text>\n",
       "</g>\n",
       "<!-- clusterAddThenCountdigit_counterInputsn -->\n",
       "<g id=\"node57\" class=\"node\">\n",
       "<title>clusterAddThenCountdigit_counterInputsn</title>\n",
       "<ellipse fill=\"#edb22c\" stroke=\"#edb22c\" cx=\"2152.72\" cy=\"-191.08\" rx=\"29.41\" ry=\"18\"/>\n",
       "<text text-anchor=\"middle\" x=\"2152.72\" y=\"-185.28\" font-family=\"Helvetica,sans-Serif\" font-size=\"14.00\">n: int</text>\n",
       "</g>\n",
       "<!-- clusterAddThenCountsum_plus_5OutputsWithInjectionadd&#45;&gt;clusterAddThenCountdigit_counterInputsn -->\n",
       "<g id=\"edge37\" class=\"edge\">\n",
       "<title>clusterAddThenCountsum_plus_5OutputsWithInjectionadd&#45;&gt;clusterAddThenCountdigit_counterInputsn</title>\n",
       "<path fill=\"none\" stroke=\"#edb22c\" d=\"M2005.53,-191.08C2019.62,-191.08 2037.96,-191.08 2056.87,-191.08\"/>\n",
       "<path fill=\"none\" stroke=\"#edb22c\" d=\"M2056.87,-191.08C2075.77,-191.08 2095.23,-191.08 2111.57,-191.08\"/>\n",
       "<polygon fill=\"#edb22c\" stroke=\"#edb22c\" points=\"2111.48,-194.58 2121.48,-191.08 2111.48,-187.58 2111.48,-194.58\"/>\n",
       "</g>\n",
       "<!-- clusterAddThenCountdigit_counterInputsrun -->\n",
       "<g id=\"node55\" class=\"node\">\n",
       "<title>clusterAddThenCountdigit_counterInputsrun</title>\n",
       "<polygon fill=\"#21bfd8\" stroke=\"#21bfd8\" points=\"2167.72,-149.08 2125.72,-149.08 2125.72,-125.08 2167.72,-125.08 2179.72,-137.08 2167.72,-149.08\"/>\n",
       "<text text-anchor=\"middle\" x=\"2152.72\" y=\"-131.28\" font-family=\"Helvetica,sans-Serif\" font-size=\"14.00\">run</text>\n",
       "</g>\n",
       "<!-- clusterAddThenCountdigit_counterOutputsWithInjectionran -->\n",
       "<g id=\"node58\" class=\"node\">\n",
       "<title>clusterAddThenCountdigit_counterOutputsWithInjectionran</title>\n",
       "<polygon fill=\"#21bfd8\" stroke=\"#21bfd8\" points=\"3079.22,-149.08 3037.22,-149.08 3037.22,-125.08 3079.22,-125.08 3091.22,-137.08 3079.22,-149.08\"/>\n",
       "<text text-anchor=\"middle\" x=\"3064.22\" y=\"-131.28\" font-family=\"Helvetica,sans-Serif\" font-size=\"14.00\">ran</text>\n",
       "</g>\n",
       "<!-- clusterAddThenCountdigit_counterInputsrun&#45;&gt;clusterAddThenCountdigit_counterOutputsWithInjectionran -->\n",
       "<!-- clusterAddThenCountas_strdigit_counterInputsobj -->\n",
       "<g id=\"node62\" class=\"node\">\n",
       "<title>clusterAddThenCountas_strdigit_counterInputsobj</title>\n",
       "<ellipse fill=\"#edb22c\" stroke=\"#edb22c\" cx=\"2331.47\" cy=\"-155.08\" rx=\"27\" ry=\"18\"/>\n",
       "<text text-anchor=\"middle\" x=\"2331.47\" y=\"-149.28\" font-family=\"Helvetica,sans-Serif\" font-size=\"14.00\">obj</text>\n",
       "</g>\n",
       "<!-- clusterAddThenCountdigit_counterInputsn&#45;&gt;clusterAddThenCountas_strdigit_counterInputsobj -->\n",
       "<g id=\"edge30\" class=\"edge\">\n",
       "<title>clusterAddThenCountdigit_counterInputsn&#45;&gt;clusterAddThenCountas_strdigit_counterInputsobj</title>\n",
       "<path fill=\"none\" stroke=\"#edb22c\" stroke-dasharray=\"5,2\" d=\"M2180.95,-185.53C2196.11,-182.45 2215.98,-178.4 2236.26,-174.27\"/>\n",
       "<path fill=\"none\" stroke=\"#edb22c\" stroke-dasharray=\"5,2\" d=\"M2236.26,-174.27C2256.54,-170.14 2277.23,-165.93 2294.03,-162.5\"/>\n",
       "<polygon fill=\"#edb22c\" stroke=\"#edb22c\" points=\"2294.64,-165.95 2303.74,-160.53 2293.24,-159.09 2294.64,-165.95\"/>\n",
       "</g>\n",
       "<!-- clusterAddThenCountdigit_counterOutputsWithInjectionn_digits -->\n",
       "<g id=\"node59\" class=\"node\">\n",
       "<title>clusterAddThenCountdigit_counterOutputsWithInjectionn_digits</title>\n",
       "<ellipse fill=\"#edb22c\" stroke=\"#edb22c\" cx=\"3064.22\" cy=\"-191.08\" rx=\"40.62\" ry=\"18\"/>\n",
       "<text text-anchor=\"middle\" x=\"3064.22\" y=\"-185.28\" font-family=\"Helvetica,sans-Serif\" font-size=\"14.00\">n_digits</text>\n",
       "</g>\n",
       "<!-- clusterAddThenCountdigit_counterOutputsWithInjectionn_digits&#45;&gt;clusterAddThenCountOutputsWithInjectiondigits_in_sum_plus_5 -->\n",
       "<g id=\"edge40\" class=\"edge\">\n",
       "<title>clusterAddThenCountdigit_counterOutputsWithInjectionn_digits&#45;&gt;clusterAddThenCountOutputsWithInjectiondigits_in_sum_plus_5</title>\n",
       "<path fill=\"none\" stroke=\"#edb22c\" stroke-dasharray=\"5,2\" d=\"M3102.66,-185.03C3112.73,-183.4 3124.2,-181.55 3136.22,-179.61\"/>\n",
       "<path fill=\"none\" stroke=\"#edb22c\" stroke-dasharray=\"5,2\" d=\"M3136.22,-179.61C3148.24,-177.66 3160.82,-175.63 3173.14,-173.64\"/>\n",
       "<polygon fill=\"#edb22c\" stroke=\"#edb22c\" points=\"3173.55,-177.12 3182.86,-172.07 3172.43,-170.21 3173.55,-177.12\"/>\n",
       "</g>\n",
       "<!-- clusterAddThenCountas_strdigit_counterInputsrun -->\n",
       "<g id=\"node60\" class=\"node\">\n",
       "<title>clusterAddThenCountas_strdigit_counterInputsrun</title>\n",
       "<polygon fill=\"#21bfd8\" stroke=\"#21bfd8\" points=\"2346.47,-275.08 2304.47,-275.08 2304.47,-251.08 2346.47,-251.08 2358.47,-263.08 2346.47,-275.08\"/>\n",
       "<text text-anchor=\"middle\" x=\"2331.47\" y=\"-257.28\" font-family=\"Helvetica,sans-Serif\" font-size=\"14.00\">run</text>\n",
       "</g>\n",
       "<!-- clusterAddThenCountas_strdigit_counterOutputsWithInjectionran -->\n",
       "<g id=\"node63\" class=\"node\">\n",
       "<title>clusterAddThenCountas_strdigit_counterOutputsWithInjectionran</title>\n",
       "<polygon fill=\"#21bfd8\" stroke=\"#21bfd8\" points=\"2532.85,-221.08 2490.85,-221.08 2490.85,-197.08 2532.85,-197.08 2544.85,-209.08 2532.85,-221.08\"/>\n",
       "<text text-anchor=\"middle\" x=\"2517.85\" y=\"-203.28\" font-family=\"Helvetica,sans-Serif\" font-size=\"14.00\">ran</text>\n",
       "</g>\n",
       "<!-- clusterAddThenCountas_strdigit_counterInputsrun&#45;&gt;clusterAddThenCountas_strdigit_counterOutputsWithInjectionran -->\n",
       "<!-- clusterAddThenCountas_strdigit_counterInputsaccumulate_and_run -->\n",
       "<g id=\"node61\" class=\"node\">\n",
       "<title>clusterAddThenCountas_strdigit_counterInputsaccumulate_and_run</title>\n",
       "<polygon fill=\"#21bfd8\" stroke=\"#21bfd8\" points=\"2390.85,-221.08 2260.1,-221.08 2260.1,-197.08 2390.85,-197.08 2402.85,-209.08 2390.85,-221.08\"/>\n",
       "<text text-anchor=\"middle\" x=\"2331.47\" y=\"-203.28\" font-family=\"Helvetica,sans-Serif\" font-size=\"14.00\">accumulate_and_run</text>\n",
       "</g>\n",
       "<!-- clusterAddThenCountdigitsdigit_counterInputsaccumulate_and_run -->\n",
       "<g id=\"node66\" class=\"node\">\n",
       "<title>clusterAddThenCountdigitsdigit_counterInputsaccumulate_and_run</title>\n",
       "<polygon fill=\"#21bfd8\" stroke=\"#21bfd8\" points=\"2759.6,-221.08 2628.85,-221.08 2628.85,-197.08 2759.6,-197.08 2771.6,-209.08 2759.6,-221.08\"/>\n",
       "<text text-anchor=\"middle\" x=\"2700.22\" y=\"-203.28\" font-family=\"Helvetica,sans-Serif\" font-size=\"14.00\">accumulate_and_run</text>\n",
       "</g>\n",
       "<!-- clusterAddThenCountas_strdigit_counterOutputsWithInjectionran&#45;&gt;clusterAddThenCountdigitsdigit_counterInputsaccumulate_and_run -->\n",
       "<g id=\"edge28\" class=\"edge\">\n",
       "<title>clusterAddThenCountas_strdigit_counterOutputsWithInjectionran&#45;&gt;clusterAddThenCountdigitsdigit_counterInputsaccumulate_and_run</title>\n",
       "<path fill=\"none\" stroke=\"#21bfd8\" d=\"M2545.08,-209.08C2554.61,-209.08 2566.11,-209.08 2578.47,-209.08\"/>\n",
       "<path fill=\"none\" stroke=\"#21bfd8\" d=\"M2578.47,-209.08C2590.84,-209.08 2604.07,-209.08 2617.09,-209.08\"/>\n",
       "<polygon fill=\"#21bfd8\" stroke=\"#21bfd8\" points=\"2617.04,-212.58 2627.04,-209.08 2617.04,-205.58 2617.04,-212.58\"/>\n",
       "</g>\n",
       "<!-- clusterAddThenCountas_strdigit_counterOutputsWithInjectionstr -->\n",
       "<g id=\"node64\" class=\"node\">\n",
       "<title>clusterAddThenCountas_strdigit_counterOutputsWithInjectionstr</title>\n",
       "<ellipse fill=\"#edb22c\" stroke=\"#edb22c\" cx=\"2517.85\" cy=\"-155.08\" rx=\"27\" ry=\"18\"/>\n",
       "<text text-anchor=\"middle\" x=\"2517.85\" y=\"-149.28\" font-family=\"Helvetica,sans-Serif\" font-size=\"14.00\">str</text>\n",
       "</g>\n",
       "<!-- clusterAddThenCountdigitsdigit_counterInputsobj -->\n",
       "<g id=\"node67\" class=\"node\">\n",
       "<title>clusterAddThenCountdigitsdigit_counterInputsobj</title>\n",
       "<ellipse fill=\"#edb22c\" stroke=\"#edb22c\" cx=\"2700.22\" cy=\"-155.08\" rx=\"27\" ry=\"18\"/>\n",
       "<text text-anchor=\"middle\" x=\"2700.22\" y=\"-149.28\" font-family=\"Helvetica,sans-Serif\" font-size=\"14.00\">obj</text>\n",
       "</g>\n",
       "<!-- clusterAddThenCountas_strdigit_counterOutputsWithInjectionstr&#45;&gt;clusterAddThenCountdigitsdigit_counterInputsobj -->\n",
       "<g id=\"edge29\" class=\"edge\">\n",
       "<title>clusterAddThenCountas_strdigit_counterOutputsWithInjectionstr&#45;&gt;clusterAddThenCountdigitsdigit_counterInputsobj</title>\n",
       "<path fill=\"none\" stroke=\"#edb22c\" d=\"M2545.08,-155.08C2560.44,-155.08 2580.9,-155.08 2601.89,-155.08\"/>\n",
       "<path fill=\"none\" stroke=\"#edb22c\" d=\"M2601.89,-155.08C2622.87,-155.08 2644.37,-155.08 2661.81,-155.08\"/>\n",
       "<polygon fill=\"#edb22c\" stroke=\"#edb22c\" points=\"2661.45,-158.58 2671.45,-155.08 2661.45,-151.58 2661.45,-158.58\"/>\n",
       "</g>\n",
       "<!-- clusterAddThenCountdigitsdigit_counterInputsrun -->\n",
       "<g id=\"node65\" class=\"node\">\n",
       "<title>clusterAddThenCountdigitsdigit_counterInputsrun</title>\n",
       "<polygon fill=\"#21bfd8\" stroke=\"#21bfd8\" points=\"2715.22,-275.08 2673.22,-275.08 2673.22,-251.08 2715.22,-251.08 2727.22,-263.08 2715.22,-275.08\"/>\n",
       "<text text-anchor=\"middle\" x=\"2700.22\" y=\"-257.28\" font-family=\"Helvetica,sans-Serif\" font-size=\"14.00\">run</text>\n",
       "</g>\n",
       "<!-- clusterAddThenCountdigitsdigit_counterOutputsWithInjectionran -->\n",
       "<g id=\"node68\" class=\"node\">\n",
       "<title>clusterAddThenCountdigitsdigit_counterOutputsWithInjectionran</title>\n",
       "<polygon fill=\"#21bfd8\" stroke=\"#21bfd8\" points=\"2901.6,-266.08 2859.6,-266.08 2859.6,-242.08 2901.6,-242.08 2913.6,-254.08 2901.6,-266.08\"/>\n",
       "<text text-anchor=\"middle\" x=\"2886.6\" y=\"-248.28\" font-family=\"Helvetica,sans-Serif\" font-size=\"14.00\">ran</text>\n",
       "</g>\n",
       "<!-- clusterAddThenCountdigitsdigit_counterInputsrun&#45;&gt;clusterAddThenCountdigitsdigit_counterOutputsWithInjectionran -->\n",
       "<!-- clusterAddThenCountdigitsdigit_counterOutputsWithInjectionlen -->\n",
       "<g id=\"node69\" class=\"node\">\n",
       "<title>clusterAddThenCountdigitsdigit_counterOutputsWithInjectionlen</title>\n",
       "<ellipse fill=\"#edb22c\" stroke=\"#edb22c\" cx=\"2886.6\" cy=\"-200.08\" rx=\"27\" ry=\"18\"/>\n",
       "<text text-anchor=\"middle\" x=\"2886.6\" y=\"-194.28\" font-family=\"Helvetica,sans-Serif\" font-size=\"14.00\">len</text>\n",
       "</g>\n",
       "<!-- clusterAddThenCountdigitsdigit_counterOutputsWithInjectionlen&#45;&gt;clusterAddThenCountdigit_counterOutputsWithInjectionn_digits -->\n",
       "<g id=\"edge31\" class=\"edge\">\n",
       "<title>clusterAddThenCountdigitsdigit_counterOutputsWithInjectionlen&#45;&gt;clusterAddThenCountdigit_counterOutputsWithInjectionn_digits</title>\n",
       "<path fill=\"none\" stroke=\"#edb22c\" stroke-dasharray=\"5,2\" d=\"M2913.89,-198.73C2926.8,-198.07 2943.28,-197.23 2960.55,-196.34\"/>\n",
       "<path fill=\"none\" stroke=\"#edb22c\" stroke-dasharray=\"5,2\" d=\"M2960.55,-196.34C2977.81,-195.46 2995.87,-194.53 3011.94,-193.71\"/>\n",
       "<polygon fill=\"#edb22c\" stroke=\"#edb22c\" points=\"3012.06,-197.21 3021.87,-193.2 3011.7,-190.22 3012.06,-197.21\"/>\n",
       "</g>\n",
       "</g>\n",
       "</svg>\n"
      ],
      "text/plain": [
       "<graphviz.graphs.Digraph at 0x1098b0250>"
      ]
     },
     "execution_count": 51,
     "metadata": {},
     "output_type": "execute_result"
    }
   ],
   "source": [
    "# detailed\n",
    "nested.draw(size=(10, 10), depth=2)"
   ]
  },
  {
   "cell_type": "code",
   "execution_count": 52,
   "id": "2f133c94-ba83-491b-9c47-3c1214a7ff5f",
   "metadata": {},
   "outputs": [
    {
     "data": {
      "image/svg+xml": [
       "<?xml version=\"1.0\" encoding=\"UTF-8\" standalone=\"no\"?>\n",
       "<!DOCTYPE svg PUBLIC \"-//W3C//DTD SVG 1.1//EN\"\n",
       " \"http://www.w3.org/Graphics/SVG/1.1/DTD/svg11.dtd\">\n",
       "<!-- Generated by graphviz version 9.0.0 (0)\n",
       " -->\n",
       "<!-- Title: clusteradd_to_n1 Pages: 1 -->\n",
       "<svg width=\"720pt\" height=\"191pt\"\n",
       " viewBox=\"0.00 0.00 720.00 190.64\" xmlns=\"http://www.w3.org/2000/svg\" xmlns:xlink=\"http://www.w3.org/1999/xlink\">\n",
       "<g id=\"graph0\" class=\"graph\" transform=\"scale(0.518042 0.518042) rotate(0) translate(4 364)\">\n",
       "<title>clusteradd_to_n1</title>\n",
       "<polygon fill=\"white\" stroke=\"none\" points=\"-4,4 -4,-364 1385.85,-364 1385.85,4 -4,4\"/>\n",
       "<text text-anchor=\"middle\" x=\"690.92\" y=\"-5.7\" font-family=\"Helvetica,sans-Serif\" font-size=\"14.00\">add_to_n1: AddThree</text>\n",
       "<g id=\"clust1\" class=\"cluster\">\n",
       "<title>clusteradd_to_n1Inputs</title>\n",
       "<defs>\n",
       "<linearGradient id=\"clust1_l_0\" gradientUnits=\"userSpaceOnUse\" x1=\"8\" y1=\"-122.5\" x2=\"166.75\" y2=\"-122.5\" >\n",
       "<stop offset=\"0\" style=\"stop-color:#a5a4a5;stop-opacity:1.;\"/>\n",
       "<stop offset=\"1\" style=\"stop-color:#e4e3e4;stop-opacity:1.;\"/>\n",
       "</linearGradient>\n",
       "</defs>\n",
       "<polygon fill=\"url(#clust1_l_0)\" stroke=\"#a5a4a5\" points=\"8,-31 8,-214 166.75,-214 166.75,-31 8,-31\"/>\n",
       "<text text-anchor=\"middle\" x=\"87.38\" y=\"-196.7\" font-family=\"Helvetica,sans-Serif\" font-size=\"14.00\">Inputs</text>\n",
       "</g>\n",
       "<g id=\"clust2\" class=\"cluster\">\n",
       "<title>clusteradd_to_n1OutputsWithInjection</title>\n",
       "<defs>\n",
       "<linearGradient id=\"clust2_l_1\" gradientUnits=\"userSpaceOnUse\" x1=\"1381.85\" y1=\"-123.5\" x2=\"1240.08\" y2=\"-123.5\" >\n",
       "<stop offset=\"0\" style=\"stop-color:#a5a4a5;stop-opacity:1.;\"/>\n",
       "<stop offset=\"1\" style=\"stop-color:#e4e3e4;stop-opacity:1.;\"/>\n",
       "</linearGradient>\n",
       "</defs>\n",
       "<polygon fill=\"url(#clust2_l_1)\" stroke=\"#a5a4a5\" points=\"1240.08,-32 1240.08,-215 1381.85,-215 1381.85,-32 1240.08,-32\"/>\n",
       "<text text-anchor=\"middle\" x=\"1310.97\" y=\"-197.7\" font-family=\"Helvetica,sans-Serif\" font-size=\"14.00\">OutputsWithInjection</text>\n",
       "</g>\n",
       "<g id=\"clust3\" class=\"cluster\">\n",
       "<title>clusteradd_to_n1add_one</title>\n",
       "<defs>\n",
       "<linearGradient id=\"clust3_l_2\" gradientUnits=\"userSpaceOnUse\" x1=\"178.75\" y1=\"-214\" x2=\"523.19\" y2=\"-214\" >\n",
       "<stop offset=\"0\" style=\"stop-color:#bfe2bf;stop-opacity:1.;\"/>\n",
       "<stop offset=\"1\" style=\"stop-color:#bfe2bf;stop-opacity:1.;\"/>\n",
       "</linearGradient>\n",
       "</defs>\n",
       "<polygon fill=\"url(#clust3_l_2)\" stroke=\"#bfe2bf\" points=\"178.75,-103 178.75,-325 523.19,-325 523.19,-103 178.75,-103\"/>\n",
       "<text text-anchor=\"middle\" x=\"350.97\" y=\"-307.7\" font-family=\"Helvetica,sans-Serif\" font-size=\"14.00\">add_one: AddOne</text>\n",
       "</g>\n",
       "<g id=\"clust4\" class=\"cluster\">\n",
       "<title>clusteradd_to_n1add_oneInputs</title>\n",
       "<defs>\n",
       "<linearGradient id=\"clust4_l_3\" gradientUnits=\"userSpaceOnUse\" x1=\"186.75\" y1=\"-202.5\" x2=\"345.5\" y2=\"-202.5\" >\n",
       "<stop offset=\"0\" style=\"stop-color:#a5a4a5;stop-opacity:1.;\"/>\n",
       "<stop offset=\"1\" style=\"stop-color:#e4e3e4;stop-opacity:1.;\"/>\n",
       "</linearGradient>\n",
       "</defs>\n",
       "<polygon fill=\"url(#clust4_l_3)\" stroke=\"#a5a4a5\" points=\"186.75,-111 186.75,-294 345.5,-294 345.5,-111 186.75,-111\"/>\n",
       "<text text-anchor=\"middle\" x=\"266.12\" y=\"-276.7\" font-family=\"Helvetica,sans-Serif\" font-size=\"14.00\">Inputs</text>\n",
       "</g>\n",
       "<g id=\"clust5\" class=\"cluster\">\n",
       "<title>clusteradd_to_n1add_oneOutputsWithInjection</title>\n",
       "<defs>\n",
       "<linearGradient id=\"clust5_l_4\" gradientUnits=\"userSpaceOnUse\" x1=\"515.19\" y1=\"-202.5\" x2=\"373.5\" y2=\"-202.5\" >\n",
       "<stop offset=\"0\" style=\"stop-color:#a5a4a5;stop-opacity:1.;\"/>\n",
       "<stop offset=\"1\" style=\"stop-color:#e4e3e4;stop-opacity:1.;\"/>\n",
       "</linearGradient>\n",
       "</defs>\n",
       "<polygon fill=\"url(#clust5_l_4)\" stroke=\"#a5a4a5\" points=\"373.5,-138 373.5,-267 515.19,-267 515.19,-138 373.5,-138\"/>\n",
       "<text text-anchor=\"middle\" x=\"444.35\" y=\"-249.7\" font-family=\"Helvetica,sans-Serif\" font-size=\"14.00\">OutputsWithInjection</text>\n",
       "</g>\n",
       "<g id=\"clust6\" class=\"cluster\">\n",
       "<title>clusteradd_to_n1add_two</title>\n",
       "<defs>\n",
       "<linearGradient id=\"clust6_l_5\" gradientUnits=\"userSpaceOnUse\" x1=\"531.19\" y1=\"-241\" x2=\"875.64\" y2=\"-241\" >\n",
       "<stop offset=\"0\" style=\"stop-color:#bfe2bf;stop-opacity:1.;\"/>\n",
       "<stop offset=\"1\" style=\"stop-color:#bfe2bf;stop-opacity:1.;\"/>\n",
       "</linearGradient>\n",
       "</defs>\n",
       "<polygon fill=\"url(#clust6_l_5)\" stroke=\"#bfe2bf\" points=\"531.19,-130 531.19,-352 875.64,-352 875.64,-130 531.19,-130\"/>\n",
       "<text text-anchor=\"middle\" x=\"703.42\" y=\"-334.7\" font-family=\"Helvetica,sans-Serif\" font-size=\"14.00\">add_two: AddOne</text>\n",
       "</g>\n",
       "<g id=\"clust7\" class=\"cluster\">\n",
       "<title>clusteradd_to_n1add_twoInputs</title>\n",
       "<defs>\n",
       "<linearGradient id=\"clust7_l_6\" gradientUnits=\"userSpaceOnUse\" x1=\"539.19\" y1=\"-229.5\" x2=\"697.94\" y2=\"-229.5\" >\n",
       "<stop offset=\"0\" style=\"stop-color:#a5a4a5;stop-opacity:1.;\"/>\n",
       "<stop offset=\"1\" style=\"stop-color:#e4e3e4;stop-opacity:1.;\"/>\n",
       "</linearGradient>\n",
       "</defs>\n",
       "<polygon fill=\"url(#clust7_l_6)\" stroke=\"#a5a4a5\" points=\"539.19,-138 539.19,-321 697.94,-321 697.94,-138 539.19,-138\"/>\n",
       "<text text-anchor=\"middle\" x=\"618.57\" y=\"-303.7\" font-family=\"Helvetica,sans-Serif\" font-size=\"14.00\">Inputs</text>\n",
       "</g>\n",
       "<g id=\"clust8\" class=\"cluster\">\n",
       "<title>clusteradd_to_n1add_twoOutputsWithInjection</title>\n",
       "<defs>\n",
       "<linearGradient id=\"clust8_l_7\" gradientUnits=\"userSpaceOnUse\" x1=\"867.64\" y1=\"-202.5\" x2=\"725.94\" y2=\"-202.5\" >\n",
       "<stop offset=\"0\" style=\"stop-color:#a5a4a5;stop-opacity:1.;\"/>\n",
       "<stop offset=\"1\" style=\"stop-color:#e4e3e4;stop-opacity:1.;\"/>\n",
       "</linearGradient>\n",
       "</defs>\n",
       "<polygon fill=\"url(#clust8_l_7)\" stroke=\"#a5a4a5\" points=\"725.94,-138 725.94,-267 867.64,-267 867.64,-138 725.94,-138\"/>\n",
       "<text text-anchor=\"middle\" x=\"796.79\" y=\"-249.7\" font-family=\"Helvetica,sans-Serif\" font-size=\"14.00\">OutputsWithInjection</text>\n",
       "</g>\n",
       "<g id=\"clust9\" class=\"cluster\">\n",
       "<title>clusteradd_to_n1add_three</title>\n",
       "<defs>\n",
       "<linearGradient id=\"clust9_l_8\" gradientUnits=\"userSpaceOnUse\" x1=\"883.64\" y1=\"-241\" x2=\"1228.08\" y2=\"-241\" >\n",
       "<stop offset=\"0\" style=\"stop-color:#bfe2bf;stop-opacity:1.;\"/>\n",
       "<stop offset=\"1\" style=\"stop-color:#bfe2bf;stop-opacity:1.;\"/>\n",
       "</linearGradient>\n",
       "</defs>\n",
       "<polygon fill=\"url(#clust9_l_8)\" stroke=\"#bfe2bf\" points=\"883.64,-130 883.64,-352 1228.08,-352 1228.08,-130 883.64,-130\"/>\n",
       "<text text-anchor=\"middle\" x=\"1055.86\" y=\"-334.7\" font-family=\"Helvetica,sans-Serif\" font-size=\"14.00\">add_three: AddOne</text>\n",
       "</g>\n",
       "<g id=\"clust10\" class=\"cluster\">\n",
       "<title>clusteradd_to_n1add_threeInputs</title>\n",
       "<defs>\n",
       "<linearGradient id=\"clust10_l_9\" gradientUnits=\"userSpaceOnUse\" x1=\"891.64\" y1=\"-229.5\" x2=\"1050.39\" y2=\"-229.5\" >\n",
       "<stop offset=\"0\" style=\"stop-color:#a5a4a5;stop-opacity:1.;\"/>\n",
       "<stop offset=\"1\" style=\"stop-color:#e4e3e4;stop-opacity:1.;\"/>\n",
       "</linearGradient>\n",
       "</defs>\n",
       "<polygon fill=\"url(#clust10_l_9)\" stroke=\"#a5a4a5\" points=\"891.64,-138 891.64,-321 1050.39,-321 1050.39,-138 891.64,-138\"/>\n",
       "<text text-anchor=\"middle\" x=\"971.01\" y=\"-303.7\" font-family=\"Helvetica,sans-Serif\" font-size=\"14.00\">Inputs</text>\n",
       "</g>\n",
       "<g id=\"clust11\" class=\"cluster\">\n",
       "<title>clusteradd_to_n1add_threeOutputsWithInjection</title>\n",
       "<defs>\n",
       "<linearGradient id=\"clust11_l_10\" gradientUnits=\"userSpaceOnUse\" x1=\"1220.08\" y1=\"-230.5\" x2=\"1078.39\" y2=\"-230.5\" >\n",
       "<stop offset=\"0\" style=\"stop-color:#a5a4a5;stop-opacity:1.;\"/>\n",
       "<stop offset=\"1\" style=\"stop-color:#e4e3e4;stop-opacity:1.;\"/>\n",
       "</linearGradient>\n",
       "</defs>\n",
       "<polygon fill=\"url(#clust11_l_10)\" stroke=\"#a5a4a5\" points=\"1078.39,-166 1078.39,-295 1220.08,-295 1220.08,-166 1078.39,-166\"/>\n",
       "<text text-anchor=\"middle\" x=\"1149.24\" y=\"-277.7\" font-family=\"Helvetica,sans-Serif\" font-size=\"14.00\">OutputsWithInjection</text>\n",
       "</g>\n",
       "<!-- clusteradd_to_n1Inputsrun -->\n",
       "<g id=\"node1\" class=\"node\">\n",
       "<title>clusteradd_to_n1Inputsrun</title>\n",
       "<polygon fill=\"#21bfd8\" stroke=\"#21bfd8\" points=\"102.38,-69 60.38,-69 60.38,-45 102.38,-45 114.38,-57 102.38,-69\"/>\n",
       "<text text-anchor=\"middle\" x=\"87.38\" y=\"-51.2\" font-family=\"Helvetica,sans-Serif\" font-size=\"14.00\">run</text>\n",
       "</g>\n",
       "<!-- clusteradd_to_n1OutputsWithInjectionran -->\n",
       "<g id=\"node4\" class=\"node\">\n",
       "<title>clusteradd_to_n1OutputsWithInjectionran</title>\n",
       "<polygon fill=\"#21bfd8\" stroke=\"#21bfd8\" points=\"1325.97,-70 1283.97,-70 1283.97,-46 1325.97,-46 1337.97,-58 1325.97,-70\"/>\n",
       "<text text-anchor=\"middle\" x=\"1310.97\" y=\"-52.2\" font-family=\"Helvetica,sans-Serif\" font-size=\"14.00\">ran</text>\n",
       "</g>\n",
       "<!-- clusteradd_to_n1Inputsrun&#45;&gt;clusteradd_to_n1OutputsWithInjectionran -->\n",
       "<!-- clusteradd_to_n1Inputsaccumulate_and_run -->\n",
       "<g id=\"node2\" class=\"node\">\n",
       "<title>clusteradd_to_n1Inputsaccumulate_and_run</title>\n",
       "<polygon fill=\"#21bfd8\" stroke=\"#21bfd8\" points=\"146.75,-123 16,-123 16,-99 146.75,-99 158.75,-111 146.75,-123\"/>\n",
       "<text text-anchor=\"middle\" x=\"87.38\" y=\"-105.2\" font-family=\"Helvetica,sans-Serif\" font-size=\"14.00\">accumulate_and_run</text>\n",
       "</g>\n",
       "<!-- clusteradd_to_n1Inputsx -->\n",
       "<g id=\"node3\" class=\"node\">\n",
       "<title>clusteradd_to_n1Inputsx</title>\n",
       "<ellipse fill=\"#edb22c\" stroke=\"#edb22c\" cx=\"87.38\" cy=\"-165\" rx=\"28.92\" ry=\"18\"/>\n",
       "<text text-anchor=\"middle\" x=\"87.38\" y=\"-159.2\" font-family=\"Helvetica,sans-Serif\" font-size=\"14.00\">x: int</text>\n",
       "</g>\n",
       "<!-- clusteradd_to_n1add_oneInputsx -->\n",
       "<g id=\"node9\" class=\"node\">\n",
       "<title>clusteradd_to_n1add_oneInputsx</title>\n",
       "<ellipse fill=\"#edb22c\" stroke=\"#edb22c\" cx=\"266.12\" cy=\"-137\" rx=\"27\" ry=\"18\"/>\n",
       "<text text-anchor=\"middle\" x=\"266.12\" y=\"-131.2\" font-family=\"Helvetica,sans-Serif\" font-size=\"14.00\">x</text>\n",
       "</g>\n",
       "<!-- clusteradd_to_n1Inputsx&#45;&gt;clusteradd_to_n1add_oneInputsx -->\n",
       "<g id=\"edge9\" class=\"edge\">\n",
       "<title>clusteradd_to_n1Inputsx&#45;&gt;clusteradd_to_n1add_oneInputsx</title>\n",
       "<path fill=\"none\" stroke=\"#edb22c\" stroke-dasharray=\"5,2\" d=\"M115.6,-160.69C130.72,-158.29 150.52,-155.16 170.74,-151.95\"/>\n",
       "<path fill=\"none\" stroke=\"#edb22c\" stroke-dasharray=\"5,2\" d=\"M170.74,-151.95C190.95,-148.75 211.59,-145.48 228.4,-142.82\"/>\n",
       "<polygon fill=\"#edb22c\" stroke=\"#edb22c\" points=\"228.76,-146.3 238.09,-141.28 227.67,-139.39 228.76,-146.3\"/>\n",
       "</g>\n",
       "<!-- clusteradd_to_n1OutputsWithInjectionadd_two -->\n",
       "<g id=\"node5\" class=\"node\">\n",
       "<title>clusteradd_to_n1OutputsWithInjectionadd_two</title>\n",
       "<ellipse fill=\"#edb22c\" stroke=\"#edb22c\" cx=\"1310.97\" cy=\"-112\" rx=\"43.55\" ry=\"18\"/>\n",
       "<text text-anchor=\"middle\" x=\"1310.97\" y=\"-106.2\" font-family=\"Helvetica,sans-Serif\" font-size=\"14.00\">add_two</text>\n",
       "</g>\n",
       "<!-- clusteradd_to_n1OutputsWithInjectionadd_three -->\n",
       "<g id=\"node6\" class=\"node\">\n",
       "<title>clusteradd_to_n1OutputsWithInjectionadd_three</title>\n",
       "<ellipse fill=\"#edb22c\" stroke=\"#edb22c\" cx=\"1310.97\" cy=\"-166\" rx=\"49.88\" ry=\"18\"/>\n",
       "<text text-anchor=\"middle\" x=\"1310.97\" y=\"-160.2\" font-family=\"Helvetica,sans-Serif\" font-size=\"14.00\">add_three</text>\n",
       "</g>\n",
       "<!-- clusteradd_to_n1add_oneInputsrun -->\n",
       "<g id=\"node7\" class=\"node\">\n",
       "<title>clusteradd_to_n1add_oneInputsrun</title>\n",
       "<polygon fill=\"#21bfd8\" stroke=\"#21bfd8\" points=\"281.12,-257 239.12,-257 239.12,-233 281.12,-233 293.12,-245 281.12,-257\"/>\n",
       "<text text-anchor=\"middle\" x=\"266.12\" y=\"-239.2\" font-family=\"Helvetica,sans-Serif\" font-size=\"14.00\">run</text>\n",
       "</g>\n",
       "<!-- clusteradd_to_n1add_oneOutputsWithInjectionran -->\n",
       "<g id=\"node10\" class=\"node\">\n",
       "<title>clusteradd_to_n1add_oneOutputsWithInjectionran</title>\n",
       "<polygon fill=\"#21bfd8\" stroke=\"#21bfd8\" points=\"459.35,-230 417.35,-230 417.35,-206 459.35,-206 471.35,-218 459.35,-230\"/>\n",
       "<text text-anchor=\"middle\" x=\"444.35\" y=\"-212.2\" font-family=\"Helvetica,sans-Serif\" font-size=\"14.00\">ran</text>\n",
       "</g>\n",
       "<!-- clusteradd_to_n1add_oneInputsrun&#45;&gt;clusteradd_to_n1add_oneOutputsWithInjectionran -->\n",
       "<!-- clusteradd_to_n1add_oneInputsaccumulate_and_run -->\n",
       "<g id=\"node8\" class=\"node\">\n",
       "<title>clusteradd_to_n1add_oneInputsaccumulate_and_run</title>\n",
       "<polygon fill=\"#21bfd8\" stroke=\"#21bfd8\" points=\"325.5,-203 194.75,-203 194.75,-179 325.5,-179 337.5,-191 325.5,-203\"/>\n",
       "<text text-anchor=\"middle\" x=\"266.12\" y=\"-185.2\" font-family=\"Helvetica,sans-Serif\" font-size=\"14.00\">accumulate_and_run</text>\n",
       "</g>\n",
       "<!-- clusteradd_to_n1add_twoInputsaccumulate_and_run -->\n",
       "<g id=\"node13\" class=\"node\">\n",
       "<title>clusteradd_to_n1add_twoInputsaccumulate_and_run</title>\n",
       "<polygon fill=\"#21bfd8\" stroke=\"#21bfd8\" points=\"677.94,-230 547.19,-230 547.19,-206 677.94,-206 689.94,-218 677.94,-230\"/>\n",
       "<text text-anchor=\"middle\" x=\"618.57\" y=\"-212.2\" font-family=\"Helvetica,sans-Serif\" font-size=\"14.00\">accumulate_and_run</text>\n",
       "</g>\n",
       "<!-- clusteradd_to_n1add_oneOutputsWithInjectionran&#45;&gt;clusteradd_to_n1add_twoInputsaccumulate_and_run -->\n",
       "<g id=\"edge5\" class=\"edge\">\n",
       "<title>clusteradd_to_n1add_oneOutputsWithInjectionran&#45;&gt;clusteradd_to_n1add_twoInputsaccumulate_and_run</title>\n",
       "<path fill=\"none\" stroke=\"#21bfd8\" d=\"M471.5,-218C480.12,-218 490.32,-218 501.26,-218\"/>\n",
       "<path fill=\"none\" stroke=\"#21bfd8\" d=\"M501.26,-218C512.21,-218 523.9,-218 535.49,-218\"/>\n",
       "<polygon fill=\"#21bfd8\" stroke=\"#21bfd8\" points=\"535.3,-221.5 545.3,-218 535.3,-214.5 535.3,-221.5\"/>\n",
       "</g>\n",
       "<!-- clusteradd_to_n1add_oneOutputsWithInjectionresult -->\n",
       "<g id=\"node11\" class=\"node\">\n",
       "<title>clusteradd_to_n1add_oneOutputsWithInjectionresult</title>\n",
       "<ellipse fill=\"#edb22c\" stroke=\"#edb22c\" cx=\"444.35\" cy=\"-164\" rx=\"31.85\" ry=\"18\"/>\n",
       "<text text-anchor=\"middle\" x=\"444.35\" y=\"-158.2\" font-family=\"Helvetica,sans-Serif\" font-size=\"14.00\">result</text>\n",
       "</g>\n",
       "<!-- clusteradd_to_n1add_twoInputsx -->\n",
       "<g id=\"node14\" class=\"node\">\n",
       "<title>clusteradd_to_n1add_twoInputsx</title>\n",
       "<ellipse fill=\"#edb22c\" stroke=\"#edb22c\" cx=\"618.57\" cy=\"-164\" rx=\"27\" ry=\"18\"/>\n",
       "<text text-anchor=\"middle\" x=\"618.57\" y=\"-158.2\" font-family=\"Helvetica,sans-Serif\" font-size=\"14.00\">x</text>\n",
       "</g>\n",
       "<!-- clusteradd_to_n1add_oneOutputsWithInjectionresult&#45;&gt;clusteradd_to_n1add_twoInputsx -->\n",
       "<g id=\"edge6\" class=\"edge\">\n",
       "<title>clusteradd_to_n1add_oneOutputsWithInjectionresult&#45;&gt;clusteradd_to_n1add_twoInputsx</title>\n",
       "<path fill=\"none\" stroke=\"#edb22c\" d=\"M476.54,-164C491.06,-164 509.17,-164 527.51,-164\"/>\n",
       "<path fill=\"none\" stroke=\"#edb22c\" d=\"M527.51,-164C545.85,-164 564.44,-164 579.92,-164\"/>\n",
       "<polygon fill=\"#edb22c\" stroke=\"#edb22c\" points=\"579.61,-167.5 589.61,-164 579.61,-160.5 579.61,-167.5\"/>\n",
       "</g>\n",
       "<!-- clusteradd_to_n1add_twoInputsrun -->\n",
       "<g id=\"node12\" class=\"node\">\n",
       "<title>clusteradd_to_n1add_twoInputsrun</title>\n",
       "<polygon fill=\"#21bfd8\" stroke=\"#21bfd8\" points=\"633.57,-284 591.57,-284 591.57,-260 633.57,-260 645.57,-272 633.57,-284\"/>\n",
       "<text text-anchor=\"middle\" x=\"618.57\" y=\"-266.2\" font-family=\"Helvetica,sans-Serif\" font-size=\"14.00\">run</text>\n",
       "</g>\n",
       "<!-- clusteradd_to_n1add_twoOutputsWithInjectionran -->\n",
       "<g id=\"node15\" class=\"node\">\n",
       "<title>clusteradd_to_n1add_twoOutputsWithInjectionran</title>\n",
       "<polygon fill=\"#21bfd8\" stroke=\"#21bfd8\" points=\"811.79,-230 769.79,-230 769.79,-206 811.79,-206 823.79,-218 811.79,-230\"/>\n",
       "<text text-anchor=\"middle\" x=\"796.79\" y=\"-212.2\" font-family=\"Helvetica,sans-Serif\" font-size=\"14.00\">ran</text>\n",
       "</g>\n",
       "<!-- clusteradd_to_n1add_twoInputsrun&#45;&gt;clusteradd_to_n1add_twoOutputsWithInjectionran -->\n",
       "<!-- clusteradd_to_n1add_threeInputsaccumulate_and_run -->\n",
       "<g id=\"node18\" class=\"node\">\n",
       "<title>clusteradd_to_n1add_threeInputsaccumulate_and_run</title>\n",
       "<polygon fill=\"#21bfd8\" stroke=\"#21bfd8\" points=\"1030.39,-230 899.64,-230 899.64,-206 1030.39,-206 1042.39,-218 1030.39,-230\"/>\n",
       "<text text-anchor=\"middle\" x=\"971.01\" y=\"-212.2\" font-family=\"Helvetica,sans-Serif\" font-size=\"14.00\">accumulate_and_run</text>\n",
       "</g>\n",
       "<!-- clusteradd_to_n1add_twoOutputsWithInjectionran&#45;&gt;clusteradd_to_n1add_threeInputsaccumulate_and_run -->\n",
       "<g id=\"edge7\" class=\"edge\">\n",
       "<title>clusteradd_to_n1add_twoOutputsWithInjectionran&#45;&gt;clusteradd_to_n1add_threeInputsaccumulate_and_run</title>\n",
       "<path fill=\"none\" stroke=\"#21bfd8\" d=\"M823.95,-218C832.56,-218 842.76,-218 853.71,-218\"/>\n",
       "<path fill=\"none\" stroke=\"#21bfd8\" d=\"M853.71,-218C864.65,-218 876.34,-218 887.94,-218\"/>\n",
       "<polygon fill=\"#21bfd8\" stroke=\"#21bfd8\" points=\"887.75,-221.5 897.75,-218 887.75,-214.5 887.75,-221.5\"/>\n",
       "</g>\n",
       "<!-- clusteradd_to_n1add_twoOutputsWithInjectionresult -->\n",
       "<g id=\"node16\" class=\"node\">\n",
       "<title>clusteradd_to_n1add_twoOutputsWithInjectionresult</title>\n",
       "<ellipse fill=\"#edb22c\" stroke=\"#edb22c\" cx=\"796.79\" cy=\"-164\" rx=\"31.85\" ry=\"18\"/>\n",
       "<text text-anchor=\"middle\" x=\"796.79\" y=\"-158.2\" font-family=\"Helvetica,sans-Serif\" font-size=\"14.00\">result</text>\n",
       "</g>\n",
       "<!-- clusteradd_to_n1add_twoOutputsWithInjectionresult&#45;&gt;clusteradd_to_n1OutputsWithInjectionadd_two -->\n",
       "<g id=\"edge10\" class=\"edge\">\n",
       "<title>clusteradd_to_n1add_twoOutputsWithInjectionresult&#45;&gt;clusteradd_to_n1OutputsWithInjectionadd_two</title>\n",
       "<path fill=\"none\" stroke=\"#edb22c\" stroke-dasharray=\"5,2\" d=\"M822.81,-153.13C839.66,-146.35 862.57,-138.14 883.64,-134 938.32,-123.26 997.66,-116.94 1054.21,-113.35\"/>\n",
       "<path fill=\"none\" stroke=\"#edb22c\" stroke-dasharray=\"5,2\" d=\"M1054.21,-113.35C1134.02,-108.3 1208.27,-108.71 1255.97,-109.91\"/>\n",
       "<polygon fill=\"#edb22c\" stroke=\"#edb22c\" points=\"1255.82,-113.41 1265.91,-110.19 1256.01,-106.41 1255.82,-113.41\"/>\n",
       "</g>\n",
       "<!-- clusteradd_to_n1add_threeInputsx -->\n",
       "<g id=\"node19\" class=\"node\">\n",
       "<title>clusteradd_to_n1add_threeInputsx</title>\n",
       "<ellipse fill=\"#edb22c\" stroke=\"#edb22c\" cx=\"971.01\" cy=\"-164\" rx=\"27\" ry=\"18\"/>\n",
       "<text text-anchor=\"middle\" x=\"971.01\" y=\"-158.2\" font-family=\"Helvetica,sans-Serif\" font-size=\"14.00\">x</text>\n",
       "</g>\n",
       "<!-- clusteradd_to_n1add_twoOutputsWithInjectionresult&#45;&gt;clusteradd_to_n1add_threeInputsx -->\n",
       "<g id=\"edge8\" class=\"edge\">\n",
       "<title>clusteradd_to_n1add_twoOutputsWithInjectionresult&#45;&gt;clusteradd_to_n1add_threeInputsx</title>\n",
       "<path fill=\"none\" stroke=\"#edb22c\" d=\"M828.98,-164C843.51,-164 861.61,-164 879.95,-164\"/>\n",
       "<path fill=\"none\" stroke=\"#edb22c\" d=\"M879.95,-164C898.3,-164 916.88,-164 932.37,-164\"/>\n",
       "<polygon fill=\"#edb22c\" stroke=\"#edb22c\" points=\"932.06,-167.5 942.06,-164 932.06,-160.5 932.06,-167.5\"/>\n",
       "</g>\n",
       "<!-- clusteradd_to_n1add_threeInputsrun -->\n",
       "<g id=\"node17\" class=\"node\">\n",
       "<title>clusteradd_to_n1add_threeInputsrun</title>\n",
       "<polygon fill=\"#21bfd8\" stroke=\"#21bfd8\" points=\"986.01,-284 944.01,-284 944.01,-260 986.01,-260 998.01,-272 986.01,-284\"/>\n",
       "<text text-anchor=\"middle\" x=\"971.01\" y=\"-266.2\" font-family=\"Helvetica,sans-Serif\" font-size=\"14.00\">run</text>\n",
       "</g>\n",
       "<!-- clusteradd_to_n1add_threeOutputsWithInjectionran -->\n",
       "<g id=\"node20\" class=\"node\">\n",
       "<title>clusteradd_to_n1add_threeOutputsWithInjectionran</title>\n",
       "<polygon fill=\"#21bfd8\" stroke=\"#21bfd8\" points=\"1164.24,-258 1122.24,-258 1122.24,-234 1164.24,-234 1176.24,-246 1164.24,-258\"/>\n",
       "<text text-anchor=\"middle\" x=\"1149.24\" y=\"-240.2\" font-family=\"Helvetica,sans-Serif\" font-size=\"14.00\">ran</text>\n",
       "</g>\n",
       "<!-- clusteradd_to_n1add_threeInputsrun&#45;&gt;clusteradd_to_n1add_threeOutputsWithInjectionran -->\n",
       "<!-- clusteradd_to_n1add_threeOutputsWithInjectionresult -->\n",
       "<g id=\"node21\" class=\"node\">\n",
       "<title>clusteradd_to_n1add_threeOutputsWithInjectionresult</title>\n",
       "<ellipse fill=\"#edb22c\" stroke=\"#edb22c\" cx=\"1149.24\" cy=\"-192\" rx=\"31.85\" ry=\"18\"/>\n",
       "<text text-anchor=\"middle\" x=\"1149.24\" y=\"-186.2\" font-family=\"Helvetica,sans-Serif\" font-size=\"14.00\">result</text>\n",
       "</g>\n",
       "<!-- clusteradd_to_n1add_threeOutputsWithInjectionresult&#45;&gt;clusteradd_to_n1OutputsWithInjectionadd_three -->\n",
       "<g id=\"edge11\" class=\"edge\">\n",
       "<title>clusteradd_to_n1add_threeOutputsWithInjectionresult&#45;&gt;clusteradd_to_n1OutputsWithInjectionadd_three</title>\n",
       "<path fill=\"none\" stroke=\"#edb22c\" stroke-dasharray=\"5,2\" d=\"M1180.28,-187.11C1190.62,-185.43 1202.83,-183.44 1215.54,-181.37\"/>\n",
       "<path fill=\"none\" stroke=\"#edb22c\" stroke-dasharray=\"5,2\" d=\"M1215.54,-181.37C1228.25,-179.3 1241.47,-177.15 1253.85,-175.13\"/>\n",
       "<polygon fill=\"#edb22c\" stroke=\"#edb22c\" points=\"1254.15,-178.63 1263.46,-173.57 1253.03,-171.72 1254.15,-178.63\"/>\n",
       "</g>\n",
       "</g>\n",
       "</svg>\n"
      ],
      "text/plain": [
       "<graphviz.graphs.Digraph at 0x1098bbad0>"
      ]
     },
     "execution_count": 52,
     "metadata": {},
     "output_type": "execute_result"
    }
   ],
   "source": [
    "# in-part\n",
    "nested.add_to_n1.draw(size=(10, 10))"
   ]
  },
  {
   "cell_type": "markdown",
   "id": "e5e75718-137f-43e6-b484-5ebe4ab22bf8",
   "metadata": {},
   "source": [
    "Now that we have nested macros, we can finally discuss the subtle difference between `__call__` and `pull`:\n",
    "\n",
    "Each `Macro` instance is its own little walled garden, where it's child nodes have no connections apart from those to other children of the same macro (you can forceably change this, since we're all adults here, but it won't happen by default and isn't recommended). Under the hood this is accomplished by the macro IO \"linking\" itself to its childrens' IO, so that updates to macro input values are always immediately propagated to children, and macro output gets synchronized with its childrens' output at the end of every run. Because of this we can think of these children all having the same \"scope\", i.e. siblings among the same parent.\n",
    "\n",
    "`pull` has a keyword argument to determine whether upstream data dependencies are restricted to be _in scope_, or if the parent node (if any) should also consider all _its_ data dependencies as well, and so on up until we hit the parent-most macro or workflow.\n",
    "\n",
    "For `pull` this parameter defaults to `False`, so that the pull stops at the parent node. For `__call__` it defaults to `True`, so that the search for data dependencies punches right through parents and all the way up. The danger is that this might be expensive if there's an costly node somewhere in the dependency!\n",
    "\n",
    "Note that the entire \"pull\" paradigm doesn't currently play nicely with remote execution. If some of your nodes have an executor specified, you will need to `.run` your graph (or `__call__` a `Workflow` if that's your parent-most object) so that it runs in \"push\" mode, and the nodes running on an executor are guaranteed to have up-to-date input _before_ they get shipped off to another process."
   ]
  },
  {
   "cell_type": "markdown",
   "id": "069cc8e8-f8b9-4382-a424-b3b2dd2bf739",
   "metadata": {},
   "source": [
    "## Parallelization\n",
    "\n",
    "You can currently run nodes in different process by setting that node's `executor` to an instance of a compliant executor object -- i.e. that takes the standard `submit` method of `concurrent.futures.Executor`, returns a `concurrent.futures.Future` (or sub-class). The built-in `Node` instances (workflows, macros, function nodes, etc.) are `pickle`-compliant, and thus will work with a standard `ProcessPoolExecutor` or `ThreadPoolExecutor` from `concurrent.futures`.\n",
    "\n",
    "For the case of `ProcessPoolExecutor`, the other process needs to be able to find an import the nodes, so they can't have been created in `__main__` (e.g. here in notebook) but need to be in some importable `.py` file. You might also want to have a node holding un-pickleable data. For these cases, we make a couple more flexible executors available on the creator. There is a toy `CloudpickleProcessPoolExecutor` which is a minimal example of handling dynamically defined/un-picklable data and useful for learning, but we also link to `pympipool.Executor`, which is both flexible and powerful. This is the default `Workflow.create.Executor`.\n",
    "\n",
    "Here's a simple example of executor usage:"
   ]
  },
  {
   "cell_type": "code",
   "execution_count": 53,
   "id": "aa575249-b209-4e0c-9ea6-a82bc69dc833",
   "metadata": {},
   "outputs": [
    {
     "name": "stdout",
     "output_type": "stream",
     "text": [
      "None 1\n",
      "<Future at 0x10989f390 state=finished returned int> 5\n"
     ]
    }
   ],
   "source": [
    "wf = Workflow(\"with_executor\")\n",
    "wf.a1 = wf.create.standard.Add(0, 1)\n",
    "wf.a2 = wf.create.standard.Add(2, 3)\n",
    "wf.b = wf.a1 + wf.a2\n",
    "\n",
    "wf.a2.executor = wf.create.Executor()\n",
    "wf()\n",
    "\n",
    "print(wf.a1.future, wf.a1.outputs.add.value)\n",
    "print(wf.a2.future, wf.a2.outputs.add.value)"
   ]
  },
  {
   "cell_type": "markdown",
   "id": "a15cf16b-90d5-4bf4-bc8e-e65a3ee06fa4",
   "metadata": {},
   "source": [
    "We can see that the regularly-executing node gets its output as usual, but the node with an executor gets its `future` attribute populated and isn't finished yet"
   ]
  },
  {
   "cell_type": "code",
   "execution_count": 54,
   "id": "c1b7b4e9-1c76-470c-ba6e-a58ea3f611f6",
   "metadata": {},
   "outputs": [
    {
     "name": "stdout",
     "output_type": "stream",
     "text": [
      "Finally 5\n",
      "b (Add):\n",
      "Inputs ['obj', 'other']\n",
      "OutputsWithInjection ['add']\n",
      "InputSignals ['run', 'accumulate_and_run']\n",
      "OutputSignals ['ran']\n"
     ]
    }
   ],
   "source": [
    "print(\"Finally\", wf.a2.future.result())\n",
    "print(wf.b)"
   ]
  },
  {
   "cell_type": "markdown",
   "id": "4dd4159e-6e01-492a-8986-f07e26e68954",
   "metadata": {},
   "source": [
    "When you're all done, it's best practice to shut down your `pympipool` executor to make sure you don't leave any dangling process (similar to how opened files should be closed). This can be done with a convience method from the parent-most object, which will recursively shut down all executors:"
   ]
  },
  {
   "cell_type": "code",
   "execution_count": 55,
   "id": "7e98058b-a791-4cb1-ae2c-864ad7e56cee",
   "metadata": {},
   "outputs": [],
   "source": [
    "wf.executor_shutdown()"
   ]
  },
  {
   "cell_type": "markdown",
   "id": "56206b10-6851-4ffa-ad43-432ad46d272a",
   "metadata": {},
   "source": [
    "Alternatively, we can use the `with` context for executors, as along as it encompasses our entire workflow. This might be useful if you are working with a single executor. In this case the `with` context handles shutdown cleanly without our help:"
   ]
  },
  {
   "cell_type": "code",
   "execution_count": 56,
   "id": "0d1b4005-488e-492f-adcb-8ad7235e4fe3",
   "metadata": {},
   "outputs": [
    {
     "name": "stdout",
     "output_type": "stream",
     "text": [
      "None 1\n",
      "<Future at 0x109828390 state=finished returned int> 5\n",
      "Finally 5\n",
      "b (Add):\n",
      "Inputs ['obj', 'other']\n",
      "OutputsWithInjection ['add']\n",
      "InputSignals ['run', 'accumulate_and_run']\n",
      "OutputSignals ['ran']\n"
     ]
    }
   ],
   "source": [
    "with Workflow.create.Executor() as executor:\n",
    "    wf = Workflow(\"with_executor\")\n",
    "    wf.a1 = wf.create.standard.Add(0, 1)\n",
    "    wf.a2 = wf.create.standard.Add(2, 3)\n",
    "    wf.b = wf.a1 + wf.a2\n",
    "\n",
    "    wf.a2.executor = executor\n",
    "    wf()\n",
    "    \n",
    "    print(wf.a1.future, wf.a1.outputs.add.value)\n",
    "    print(wf.a2.future, wf.a2.outputs.add.value)\n",
    "    \n",
    "    print(\"Finally\", wf.a2.future.result())\n",
    "    print(wf.b)"
   ]
  },
  {
   "cell_type": "markdown",
   "id": "26d7fb8e-4071-482d-bbb4-31689e87c3d5",
   "metadata": {},
   "source": [
    "For DAGs, workflows and macros automated execution flow makes use of the `.signals.inputs.accumulate_and_run` signal to run as soon as _all_ the up-data-stream nodes have finished.\n",
    "\n",
    "Before we wrap up our conversation of executors, let's make both linear and accumulating workflows by-hand, and see the time difference parallelization can bring. We'll use the `>>` and `<<` syntactic sugar for defining direct and accumulating run signals, respectively:"
   ]
  },
  {
   "cell_type": "code",
   "execution_count": 57,
   "id": "d03ca074-35a0-4e0d-9377-d4eaa5521f85",
   "metadata": {},
   "outputs": [],
   "source": [
    "from time import perf_counter, sleep\n",
    "\n",
    "from pyiron_workflow import NOT_DATA\n",
    "    \n",
    "t = 2"
   ]
  },
  {
   "cell_type": "code",
   "execution_count": 58,
   "id": "a7c07aa0-84fc-4f43-aa4f-6498c0837d76",
   "metadata": {},
   "outputs": [
    {
     "name": "stdout",
     "output_type": "stream",
     "text": [
      "6.01345855499676\n"
     ]
    }
   ],
   "source": [
    "wf = Workflow(\"serial\")\n",
    "wf.a = Workflow.create.standard.Sleep(t)\n",
    "wf.b = Workflow.create.standard.Sleep(t)\n",
    "wf.c = Workflow.create.standard.Sleep(t)\n",
    "wf.d = wf.create.standard.UserInput(t)\n",
    "wf.automate_execution = False\n",
    "wf.a >> wf.b >> wf.c >> wf.d\n",
    "wf.starting_nodes = [wf.a]\n",
    "t0 = perf_counter()\n",
    "out = wf()\n",
    "while wf.outputs.d__user_input.value is NOT_DATA:\n",
    "    sleep(0.001)\n",
    "dt_serial = perf_counter() - t0\n",
    "\n",
    "print(dt_serial)"
   ]
  },
  {
   "cell_type": "code",
   "execution_count": 59,
   "id": "b062ab5f-9b98-4843-8925-b93bf4c173f8",
   "metadata": {},
   "outputs": [
    {
     "name": "stdout",
     "output_type": "stream",
     "text": [
      "5.336432242002047\n"
     ]
    }
   ],
   "source": [
    "wf = Workflow(\"parallel\")\n",
    "wf.a = Workflow.create.standard.Sleep(t)\n",
    "wf.b = Workflow.create.standard.Sleep(t)\n",
    "wf.c = Workflow.create.standard.Sleep(t)\n",
    "wf.d = wf.create.standard.UserInput(t)\n",
    "wf.automate_execution = False\n",
    "wf.d << (wf.a, wf.b, wf.c)\n",
    "wf.starting_nodes = [wf.a, wf.b, wf.c]\n",
    "\n",
    "\n",
    "# with wf.create.Executor(max_workers=3) as executor:\n",
    "# pympipool.Executor does not conform to the concurrent.futures.Executor signature\n",
    "# use max_cores instead of max_workers\n",
    "with wf.create.Executor(max_cores=3) as executor:\n",
    "    wf.a.executor = executor\n",
    "    wf.b.executor = executor\n",
    "    wf.c.executor = executor\n",
    "\n",
    "    t1 = perf_counter()\n",
    "    out = wf()\n",
    "    while wf.outputs.d__user_input.value is NOT_DATA:\n",
    "        sleep(0.001)\n",
    "    dt_parallel = perf_counter() - t1\n",
    "\n",
    "print(dt_parallel)"
   ]
  },
  {
   "cell_type": "markdown",
   "id": "8655ab85-f3e1-4828-b2c4-43425f45717c",
   "metadata": {},
   "source": [
    "Note how we've used the `<<` syntax to load up the `accumulate_and_run` input signal with multiple connections at once (as opposed to the forwards-syntactic sugar that connects one item at a time to `run`), and leveraging a single executor in a `with` statement. But most of all, note the speedup! There is some overhead for shipping things off to an executor -- we don't want to do it for operations that are taking mere ms -- but the bar is not super high. Serializing different nodes may take different amounts of time depending on how complex they are, so check for yourself the tradeoff between executing your nodes in parallel or serial."
   ]
  },
  {
   "cell_type": "markdown",
   "id": "b6a3b48f-eda6-4947-a1b2-22abfa394293",
   "metadata": {},
   "source": [
    "#### Executor limitations\n",
    "\n",
    "Unfortunately, _nested_ executors are not yet working. So if you set a macro to use an executor, none of its (grand...)children may specify an executor."
   ]
  },
  {
   "cell_type": "markdown",
   "id": "4d3f2d37-9e35-425b-93a1-2c327685bbf4",
   "metadata": {},
   "source": [
    "# For-loops\n",
    "\n",
    "Any node with an IO signature that is fixed at the class level (i.e. every `StaticNode`, which is all the standard ones except for a `Workflow` instance) can be transformed into a macro that loops over that node using the `Workflow.create.for_node` interface. Any input that is not explicity scattered using the `iter_on` or `zip_on` gets gets broadcast to _all_ copies of the body node. The result is a dataframe coupling looped input to body node output:"
   ]
  },
  {
   "cell_type": "code",
   "execution_count": 60,
   "id": "0b373764-b389-4c24-8086-f3d33a4f7fd7",
   "metadata": {},
   "outputs": [
    {
     "data": {
      "text/html": [
       "<div>\n",
       "<style scoped>\n",
       "    .dataframe tbody tr th:only-of-type {\n",
       "        vertical-align: middle;\n",
       "    }\n",
       "\n",
       "    .dataframe tbody tr th {\n",
       "        vertical-align: top;\n",
       "    }\n",
       "\n",
       "    .dataframe thead th {\n",
       "        text-align: right;\n",
       "    }\n",
       "</style>\n",
       "<table border=\"1\" class=\"dataframe\">\n",
       "  <thead>\n",
       "    <tr style=\"text-align: right;\">\n",
       "      <th></th>\n",
       "      <th>obj</th>\n",
       "      <th>add</th>\n",
       "    </tr>\n",
       "  </thead>\n",
       "  <tbody>\n",
       "    <tr>\n",
       "      <th>0</th>\n",
       "      <td>0</td>\n",
       "      <td>1</td>\n",
       "    </tr>\n",
       "    <tr>\n",
       "      <th>1</th>\n",
       "      <td>1</td>\n",
       "      <td>2</td>\n",
       "    </tr>\n",
       "    <tr>\n",
       "      <th>2</th>\n",
       "      <td>2</td>\n",
       "      <td>3</td>\n",
       "    </tr>\n",
       "    <tr>\n",
       "      <th>3</th>\n",
       "      <td>3</td>\n",
       "      <td>4</td>\n",
       "    </tr>\n",
       "    <tr>\n",
       "      <th>4</th>\n",
       "      <td>4</td>\n",
       "      <td>5</td>\n",
       "    </tr>\n",
       "  </tbody>\n",
       "</table>\n",
       "</div>"
      ],
      "text/plain": [
       "   obj  add\n",
       "0    0    1\n",
       "1    1    2\n",
       "2    2    3\n",
       "3    3    4\n",
       "4    4    5"
      ]
     },
     "execution_count": 60,
     "metadata": {},
     "output_type": "execute_result"
    }
   ],
   "source": [
    "add_loop = Workflow.create.for_node(\n",
    "    Workflow.create.standard.Add,\n",
    "    iter_on=(\"obj\",),\n",
    "    other=1,\n",
    "    obj=list(range(5))\n",
    ")\n",
    "\n",
    "out = add_loop()\n",
    "out.df"
   ]
  },
  {
   "cell_type": "markdown",
   "id": "c8481efb-d7a5-4395-9e46-aab6a0e004eb",
   "metadata": {},
   "source": [
    "Any number of input channels can be specified to make a nested list over, and/or zipped over by passing the channel labels as tuples to the `iter_on` and `zip_on` arguments respectively. In case the body node uses the same labels for both (looped) input channels _and_ output channels, you will need to provide a map to the for-loop to prevent the resulting dataframe from having degenerate column names:"
   ]
  },
  {
   "cell_type": "code",
   "execution_count": 61,
   "id": "6f486c87-f3d4-405f-a759-2ada12cb45e2",
   "metadata": {},
   "outputs": [
    {
     "data": {
      "text/html": [
       "<div>\n",
       "<style scoped>\n",
       "    .dataframe tbody tr th:only-of-type {\n",
       "        vertical-align: middle;\n",
       "    }\n",
       "\n",
       "    .dataframe tbody tr th {\n",
       "        vertical-align: top;\n",
       "    }\n",
       "\n",
       "    .dataframe thead th {\n",
       "        text-align: right;\n",
       "    }\n",
       "</style>\n",
       "<table border=\"1\" class=\"dataframe\">\n",
       "  <thead>\n",
       "    <tr style=\"text-align: right;\">\n",
       "      <th></th>\n",
       "      <th>a</th>\n",
       "      <th>b</th>\n",
       "      <th>c</th>\n",
       "      <th>d</th>\n",
       "      <th>out_a</th>\n",
       "      <th>out_b</th>\n",
       "      <th>out_c</th>\n",
       "      <th>out_d</th>\n",
       "      <th>e</th>\n",
       "    </tr>\n",
       "  </thead>\n",
       "  <tbody>\n",
       "    <tr>\n",
       "      <th>0</th>\n",
       "      <td>1</td>\n",
       "      <td>3</td>\n",
       "      <td>7</td>\n",
       "      <td>9</td>\n",
       "      <td>1</td>\n",
       "      <td>3</td>\n",
       "      <td>7</td>\n",
       "      <td>9</td>\n",
       "      <td>e</td>\n",
       "    </tr>\n",
       "    <tr>\n",
       "      <th>1</th>\n",
       "      <td>1</td>\n",
       "      <td>3</td>\n",
       "      <td>8</td>\n",
       "      <td>10</td>\n",
       "      <td>1</td>\n",
       "      <td>3</td>\n",
       "      <td>8</td>\n",
       "      <td>10</td>\n",
       "      <td>e</td>\n",
       "    </tr>\n",
       "    <tr>\n",
       "      <th>2</th>\n",
       "      <td>1</td>\n",
       "      <td>4</td>\n",
       "      <td>7</td>\n",
       "      <td>9</td>\n",
       "      <td>1</td>\n",
       "      <td>4</td>\n",
       "      <td>7</td>\n",
       "      <td>9</td>\n",
       "      <td>e</td>\n",
       "    </tr>\n",
       "    <tr>\n",
       "      <th>3</th>\n",
       "      <td>1</td>\n",
       "      <td>4</td>\n",
       "      <td>8</td>\n",
       "      <td>10</td>\n",
       "      <td>1</td>\n",
       "      <td>4</td>\n",
       "      <td>8</td>\n",
       "      <td>10</td>\n",
       "      <td>e</td>\n",
       "    </tr>\n",
       "    <tr>\n",
       "      <th>4</th>\n",
       "      <td>1</td>\n",
       "      <td>5</td>\n",
       "      <td>7</td>\n",
       "      <td>9</td>\n",
       "      <td>1</td>\n",
       "      <td>5</td>\n",
       "      <td>7</td>\n",
       "      <td>9</td>\n",
       "      <td>e</td>\n",
       "    </tr>\n",
       "    <tr>\n",
       "      <th>5</th>\n",
       "      <td>1</td>\n",
       "      <td>5</td>\n",
       "      <td>8</td>\n",
       "      <td>10</td>\n",
       "      <td>1</td>\n",
       "      <td>5</td>\n",
       "      <td>8</td>\n",
       "      <td>10</td>\n",
       "      <td>e</td>\n",
       "    </tr>\n",
       "    <tr>\n",
       "      <th>6</th>\n",
       "      <td>1</td>\n",
       "      <td>6</td>\n",
       "      <td>7</td>\n",
       "      <td>9</td>\n",
       "      <td>1</td>\n",
       "      <td>6</td>\n",
       "      <td>7</td>\n",
       "      <td>9</td>\n",
       "      <td>e</td>\n",
       "    </tr>\n",
       "    <tr>\n",
       "      <th>7</th>\n",
       "      <td>1</td>\n",
       "      <td>6</td>\n",
       "      <td>8</td>\n",
       "      <td>10</td>\n",
       "      <td>1</td>\n",
       "      <td>6</td>\n",
       "      <td>8</td>\n",
       "      <td>10</td>\n",
       "      <td>e</td>\n",
       "    </tr>\n",
       "    <tr>\n",
       "      <th>8</th>\n",
       "      <td>2</td>\n",
       "      <td>3</td>\n",
       "      <td>7</td>\n",
       "      <td>9</td>\n",
       "      <td>2</td>\n",
       "      <td>3</td>\n",
       "      <td>7</td>\n",
       "      <td>9</td>\n",
       "      <td>e</td>\n",
       "    </tr>\n",
       "    <tr>\n",
       "      <th>9</th>\n",
       "      <td>2</td>\n",
       "      <td>3</td>\n",
       "      <td>8</td>\n",
       "      <td>10</td>\n",
       "      <td>2</td>\n",
       "      <td>3</td>\n",
       "      <td>8</td>\n",
       "      <td>10</td>\n",
       "      <td>e</td>\n",
       "    </tr>\n",
       "    <tr>\n",
       "      <th>10</th>\n",
       "      <td>2</td>\n",
       "      <td>4</td>\n",
       "      <td>7</td>\n",
       "      <td>9</td>\n",
       "      <td>2</td>\n",
       "      <td>4</td>\n",
       "      <td>7</td>\n",
       "      <td>9</td>\n",
       "      <td>e</td>\n",
       "    </tr>\n",
       "    <tr>\n",
       "      <th>11</th>\n",
       "      <td>2</td>\n",
       "      <td>4</td>\n",
       "      <td>8</td>\n",
       "      <td>10</td>\n",
       "      <td>2</td>\n",
       "      <td>4</td>\n",
       "      <td>8</td>\n",
       "      <td>10</td>\n",
       "      <td>e</td>\n",
       "    </tr>\n",
       "    <tr>\n",
       "      <th>12</th>\n",
       "      <td>2</td>\n",
       "      <td>5</td>\n",
       "      <td>7</td>\n",
       "      <td>9</td>\n",
       "      <td>2</td>\n",
       "      <td>5</td>\n",
       "      <td>7</td>\n",
       "      <td>9</td>\n",
       "      <td>e</td>\n",
       "    </tr>\n",
       "    <tr>\n",
       "      <th>13</th>\n",
       "      <td>2</td>\n",
       "      <td>5</td>\n",
       "      <td>8</td>\n",
       "      <td>10</td>\n",
       "      <td>2</td>\n",
       "      <td>5</td>\n",
       "      <td>8</td>\n",
       "      <td>10</td>\n",
       "      <td>e</td>\n",
       "    </tr>\n",
       "    <tr>\n",
       "      <th>14</th>\n",
       "      <td>2</td>\n",
       "      <td>6</td>\n",
       "      <td>7</td>\n",
       "      <td>9</td>\n",
       "      <td>2</td>\n",
       "      <td>6</td>\n",
       "      <td>7</td>\n",
       "      <td>9</td>\n",
       "      <td>e</td>\n",
       "    </tr>\n",
       "    <tr>\n",
       "      <th>15</th>\n",
       "      <td>2</td>\n",
       "      <td>6</td>\n",
       "      <td>8</td>\n",
       "      <td>10</td>\n",
       "      <td>2</td>\n",
       "      <td>6</td>\n",
       "      <td>8</td>\n",
       "      <td>10</td>\n",
       "      <td>e</td>\n",
       "    </tr>\n",
       "  </tbody>\n",
       "</table>\n",
       "</div>"
      ],
      "text/plain": [
       "    a  b  c   d  out_a  out_b  out_c  out_d  e\n",
       "0   1  3  7   9      1      3      7      9  e\n",
       "1   1  3  8  10      1      3      8     10  e\n",
       "2   1  4  7   9      1      4      7      9  e\n",
       "3   1  4  8  10      1      4      8     10  e\n",
       "4   1  5  7   9      1      5      7      9  e\n",
       "5   1  5  8  10      1      5      8     10  e\n",
       "6   1  6  7   9      1      6      7      9  e\n",
       "7   1  6  8  10      1      6      8     10  e\n",
       "8   2  3  7   9      2      3      7      9  e\n",
       "9   2  3  8  10      2      3      8     10  e\n",
       "10  2  4  7   9      2      4      7      9  e\n",
       "11  2  4  8  10      2      4      8     10  e\n",
       "12  2  5  7   9      2      5      7      9  e\n",
       "13  2  5  8  10      2      5      8     10  e\n",
       "14  2  6  7   9      2      6      7      9  e\n",
       "15  2  6  8  10      2      6      8     10  e"
      ]
     },
     "execution_count": 61,
     "metadata": {},
     "output_type": "execute_result"
    }
   ],
   "source": [
    "@Workflow.wrap.as_function_node()\n",
    "def FiveApart(a: int, b: int, c: int, d: int, e: str = \"foobar\"):\n",
    "    return a, b, c, d, e,\n",
    "\n",
    "for_instance = Workflow.create.for_node(\n",
    "    FiveApart,\n",
    "    iter_on=(\"a\", \"b\"),\n",
    "    zip_on=(\"c\", \"d\"),\n",
    "    a=[1, 2],\n",
    "    b=[3, 4, 5, 6],\n",
    "    c=[7, 8],\n",
    "    d=[9, 10, 11],\n",
    "    e=\"e\",\n",
    "    output_column_map={\n",
    "        \"a\": \"out_a\",\n",
    "        \"b\": \"out_b\",\n",
    "        \"c\": \"out_c\",\n",
    "        \"d\": \"out_d\"\n",
    "    }\n",
    ")\n",
    "\n",
    "out = for_instance()\n",
    "out.df"
   ]
  },
  {
   "cell_type": "markdown",
   "id": "22b688e2-d203-4795-a409-dfeaa978b595",
   "metadata": {},
   "source": [
    "Once set, these inputs will _always_ be iterated on, and thus require list input, but the length of the input can be varied between runs of the node. Under the hood, the macro is destroying and recreating (many of) its subgraph nodes at each runtime -- so the interface is fixed, but the internal structure can vary. Note that we use the same standard as python, and zipped input is always truncated to the shortest zipping partner:"
   ]
  },
  {
   "cell_type": "code",
   "execution_count": 62,
   "id": "10f284c8-9210-465f-b4d6-9aa4c0909b08",
   "metadata": {},
   "outputs": [
    {
     "data": {
      "text/html": [
       "<div>\n",
       "<style scoped>\n",
       "    .dataframe tbody tr th:only-of-type {\n",
       "        vertical-align: middle;\n",
       "    }\n",
       "\n",
       "    .dataframe tbody tr th {\n",
       "        vertical-align: top;\n",
       "    }\n",
       "\n",
       "    .dataframe thead th {\n",
       "        text-align: right;\n",
       "    }\n",
       "</style>\n",
       "<table border=\"1\" class=\"dataframe\">\n",
       "  <thead>\n",
       "    <tr style=\"text-align: right;\">\n",
       "      <th></th>\n",
       "      <th>a</th>\n",
       "      <th>b</th>\n",
       "      <th>c</th>\n",
       "      <th>d</th>\n",
       "      <th>out_a</th>\n",
       "      <th>out_b</th>\n",
       "      <th>out_c</th>\n",
       "      <th>out_d</th>\n",
       "      <th>e</th>\n",
       "    </tr>\n",
       "  </thead>\n",
       "  <tbody>\n",
       "    <tr>\n",
       "      <th>0</th>\n",
       "      <td>1</td>\n",
       "      <td>3</td>\n",
       "      <td>7</td>\n",
       "      <td>9</td>\n",
       "      <td>1</td>\n",
       "      <td>3</td>\n",
       "      <td>7</td>\n",
       "      <td>9</td>\n",
       "      <td>e</td>\n",
       "    </tr>\n",
       "  </tbody>\n",
       "</table>\n",
       "</div>"
      ],
      "text/plain": [
       "   a  b  c  d  out_a  out_b  out_c  out_d  e\n",
       "0  1  3  7  9      1      3      7      9  e"
      ]
     },
     "execution_count": 62,
     "metadata": {},
     "output_type": "execute_result"
    }
   ],
   "source": [
    "for_instance(a=[1], b=[3], c=[7]).df"
   ]
  },
  {
   "cell_type": "markdown",
   "id": "1869d52c-cb50-45c7-994e-e197967fb51e",
   "metadata": {},
   "source": [
    "If you don't plan to use the output downstream in your graph and you just want the dataframe by itself, you can iterate directly from nodes with statically defined IO (everything but a `Workflow`) using the `.iter` or `.zip` method:"
   ]
  },
  {
   "cell_type": "code",
   "execution_count": 63,
   "id": "c269d736-0599-4885-bf8c-e033e881adc7",
   "metadata": {},
   "outputs": [
    {
     "data": {
      "text/html": [
       "<div>\n",
       "<style scoped>\n",
       "    .dataframe tbody tr th:only-of-type {\n",
       "        vertical-align: middle;\n",
       "    }\n",
       "\n",
       "    .dataframe tbody tr th {\n",
       "        vertical-align: top;\n",
       "    }\n",
       "\n",
       "    .dataframe thead th {\n",
       "        text-align: right;\n",
       "    }\n",
       "</style>\n",
       "<table border=\"1\" class=\"dataframe\">\n",
       "  <thead>\n",
       "    <tr style=\"text-align: right;\">\n",
       "      <th></th>\n",
       "      <th>obj</th>\n",
       "      <th>other</th>\n",
       "      <th>add</th>\n",
       "    </tr>\n",
       "  </thead>\n",
       "  <tbody>\n",
       "    <tr>\n",
       "      <th>0</th>\n",
       "      <td>0</td>\n",
       "      <td>10</td>\n",
       "      <td>10</td>\n",
       "    </tr>\n",
       "    <tr>\n",
       "      <th>1</th>\n",
       "      <td>1</td>\n",
       "      <td>11</td>\n",
       "      <td>12</td>\n",
       "    </tr>\n",
       "    <tr>\n",
       "      <th>2</th>\n",
       "      <td>2</td>\n",
       "      <td>12</td>\n",
       "      <td>14</td>\n",
       "    </tr>\n",
       "    <tr>\n",
       "      <th>3</th>\n",
       "      <td>3</td>\n",
       "      <td>13</td>\n",
       "      <td>16</td>\n",
       "    </tr>\n",
       "    <tr>\n",
       "      <th>4</th>\n",
       "      <td>4</td>\n",
       "      <td>14</td>\n",
       "      <td>18</td>\n",
       "    </tr>\n",
       "  </tbody>\n",
       "</table>\n",
       "</div>"
      ],
      "text/plain": [
       "   obj  other  add\n",
       "0    0     10   10\n",
       "1    1     11   12\n",
       "2    2     12   14\n",
       "3    3     13   16\n",
       "4    4     14   18"
      ]
     },
     "execution_count": 63,
     "metadata": {},
     "output_type": "execute_result"
    }
   ],
   "source": [
    "n = Workflow.create.standard.Add()\n",
    "n.zip(obj=list(range(5)), other=list(range(10,15)))"
   ]
  },
  {
   "cell_type": "markdown",
   "id": "f447531e-3e8c-4c7e-a579-5f9c56b75a5b",
   "metadata": {
    "tags": []
   },
   "source": [
    "# Here be dragons\n",
    "\n",
    "While everything in the workflows sub-module is under development, the following complex features are _even more likely_ to see substantial modifications to their interface and behaviour. Nonetheless, they're fun so let's look at them."
   ]
  },
  {
   "cell_type": "markdown",
   "id": "6fe95ca3-95c4-4c82-9a45-c38275dabb22",
   "metadata": {},
   "source": [
    "## Saving and loading\n",
    "\n",
    "For python >= 3.11, graphs can be saved and loaded on request -- either by manually invoking the `.save()` method, or by setting the `save_after_run` attribute to `True` (on the object or at instantiation by kwarg). This creates a save file (currently using HDF5 as a format) in the parent-most node's working directory.\n",
    "\n",
    "Subsequently instantiating a node with the same name in the same place will attempt to reload the saved graph automatically. \n",
    "\n",
    "Since data IO is also saved, all IO must be serializable. As a fallback, we attempt to store data IO values using pickle, so most pickle-able objects will work.\n",
    "\n",
    "You can look at the `Node` class docstring for a full and detailed list of all storage features as they currently are in this alpha feature, but here are a few key caveats:\n",
    "- The _entire graph_ is always saved, regardless of which node is calling `save()`\n",
    "- Similarly, you can only reload the entire graph at once\n",
    "- Also related, there is currently zero filtering of which data, or to which depth the graph gets stored -- it's all or nothing\n",
    "- If the source code for nodes gets modified between saving and loading, weird stuff is likely to happen, and some of it may happen silently.\n",
    "\n",
    "Lastly, we currently use two backends: `tinybase.storage.H5ioStorage` and `h5io` directly. They have slightly different strengths:\n",
    "- `\"h5io\"` (the default) \n",
    "  - Will let you save and load any nodes that defined by subclassing (this includes all nodes defined using the decorators)\n",
    "  - Will preserve changes to a macro (replace/add/remove/rewire)\n",
    "  - Has trouble with some data\n",
    "- `\"tinybase\"`\n",
    "  - Requires all nodes to have been instantiated with the creator (`wf.create...`; this means moving node definitions to a `.py` file in your pythonpath and registering it as a node package -- not particularly difficult!)\n",
    "  - _Ignores_ changes to a macro (will crash nicely if the macro IO changed)\n",
    "  - Falls back to `pickle` for data failures, so can handle a wider variety of data IO objects"
   ]
  },
  {
   "cell_type": "code",
   "execution_count": 64,
   "id": "c8196054-aff3-4d39-a872-b428d329dac9",
   "metadata": {},
   "outputs": [],
   "source": [
    "import sys"
   ]
  },
  {
   "cell_type": "code",
   "execution_count": 65,
   "id": "ffd741a3-b086-4ed0-9a62-76143a3705b2",
   "metadata": {},
   "outputs": [],
   "source": [
    "if sys.version_info >= (3, 11):\n",
    "    wf = Workflow(\"save_demo\")\n",
    "    wf.inp = wf.create.standard.UserInput(42)\n",
    "    wf.middle = 2 * wf.inp\n",
    "    wf.end = wf.middle - 42\n",
    "    wf.out = wf.create.standard.UserInput(wf.end, save_after_run=True)\n",
    "    wf()\n",
    "    # wf.save()  # Not needed, since `wf.out` saves after running"
   ]
  },
  {
   "cell_type": "code",
   "execution_count": 66,
   "id": "3a22c622-f8c1-449b-a910-c52beb6a09c3",
   "metadata": {},
   "outputs": [
    {
     "name": "stderr",
     "output_type": "stream",
     "text": [
      "/Users/huber/work/pyiron/pyiron_workflow/pyiron_workflow/node.py:377: UserWarning: A saved file was found for the node save_demo -- attempting to load it...(To delete the saved file instead, use `overwrite_save=True`)\n",
      "  warnings.warn(\n",
      "/Users/huber/work/pyiron/pyiron_workflow/pyiron_workflow/node.py:377: UserWarning: A saved file was found for the node inp -- attempting to load it...(To delete the saved file instead, use `overwrite_save=True`)\n",
      "  warnings.warn(\n",
      "/Users/huber/work/pyiron/pyiron_workflow/pyiron_workflow/node.py:377: UserWarning: A saved file was found for the node middle -- attempting to load it...(To delete the saved file instead, use `overwrite_save=True`)\n",
      "  warnings.warn(\n",
      "/Users/huber/work/pyiron/pyiron_workflow/pyiron_workflow/node.py:377: UserWarning: A saved file was found for the node end -- attempting to load it...(To delete the saved file instead, use `overwrite_save=True`)\n",
      "  warnings.warn(\n",
      "/Users/huber/work/pyiron/pyiron_workflow/pyiron_workflow/node.py:377: UserWarning: A saved file was found for the node out -- attempting to load it...(To delete the saved file instead, use `overwrite_save=True`)\n",
      "  warnings.warn(\n"
     ]
    }
   ],
   "source": [
    "if sys.version_info >= (3, 11):\n",
    "    reloaded = Workflow(\"save_demo\")\n",
    "    reloaded.out.value == wf.out.value"
   ]
  },
  {
   "cell_type": "markdown",
   "id": "f9238cf7-3050-4607-a542-010e3bb83f41",
   "metadata": {},
   "source": [
    "You can force a newly instantiated node to ignore (and delete!) an existing save file by setting the `overwrite_save` kwarg to `True`.\n",
    "\n",
    "Finally, let's clean up our save to keep this demo director clean:"
   ]
  },
  {
   "cell_type": "code",
   "execution_count": 67,
   "id": "0999d3e8-3a5a-451d-8667-a01dae7c1193",
   "metadata": {},
   "outputs": [],
   "source": [
    "if sys.version_info >= (3, 11):\n",
    "    reloaded.storage.delete()"
   ]
  },
  {
   "cell_type": "markdown",
   "id": "4e7ed210-dbc2-4afa-825e-b91168baff25",
   "metadata": {},
   "source": [
    "# While-loops\n",
    "\n",
    "Similar to for-loops, we can also create a while-loop, which takes both a body node and a condition node. The condition node must be a single-output `Function` node returning a `bool` type. Instead of creating copies of the body node, the body node gets re-run until the condition node returns `False`.\n",
    "\n",
    "You _must_ specify the data connection so that the body node passes information to the condition node. You may optionally also loop output of the body node back to input of the body node to change the input at each iteration. Right now this is done with horribly ugly string tuples, but we're working on improving this interface and making it more like the for-loop.\n",
    "\n",
    "Note: The body (and condition) node classes passed to while-loops must be importable, i.e. they can come from a node package, or be defined here in the notebook (importable from `__main__`), but you can't use, e.g., a node defined _inside_ the scope of some other function."
   ]
  },
  {
   "cell_type": "code",
   "execution_count": 68,
   "id": "0dd04b4c-e3e7-4072-ad34-58f2c1e4f596",
   "metadata": {},
   "outputs": [
    {
     "name": "stderr",
     "output_type": "stream",
     "text": [
      "/Users/huber/work/pyiron/pyiron_workflow/pyiron_workflow/io_preview.py:261: OutputLabelsNotValidated: Could not find the source code to validate AddWhileLessThan_m1436776219946974525 output labels against the number of returned values -- proceeding without validation\n",
      "  warnings.warn(\n"
     ]
    }
   ],
   "source": [
    "@Workflow.wrap.as_function_node(\"sum\")\n",
    "def Add(a, b):\n",
    "    print(f\"{a} + {b} = {a + b}\")\n",
    "    return a + b\n",
    "\n",
    "AddWhile = Workflow.create.meta.while_loop(\n",
    "    loop_body_class=Add,\n",
    "    condition_class=Workflow.create.standard.LessThan,\n",
    "    internal_connection_map=[\n",
    "        (\"Add\", \"sum\", \"LessThan\", \"obj\"),\n",
    "        (\"Add\", \"sum\", \"Add\", \"a\")\n",
    "    ],\n",
    "    inputs_map={\"Add__a\": \"a\", \"Add__b\": \"b\", \"LessThan__other\": \"threshold\"},\n",
    "    outputs_map={\"Add__sum\": \"total\"}\n",
    ")\n",
    "\n",
    "wf = Workflow(\"do_while\")\n",
    "wf.add_while = AddWhile(threshold=10)\n",
    "\n",
    "wf.inputs_map = {\n",
    "    \"add_while__a\": \"a\",\n",
    "    \"add_while__b\": \"b\"\n",
    "}\n",
    "wf.outputs_map = {\n",
    "    \"add_while__total\": \"total\",  # Rename this output\n",
    "    \"add_while__switch__truth\": None  # Disable this output\n",
    "}"
   ]
  },
  {
   "cell_type": "markdown",
   "id": "eb810e1e-4d13-4cb1-94cc-6d191b8c568d",
   "metadata": {},
   "source": [
    "Note that initializing the `a` and `b` input to numeric values when we call the workflow below does not destroy the connection made between the body node input and output -- so the first run of the body node uses the initial value passed, but then it updates its own input for subsequent calls!"
   ]
  },
  {
   "cell_type": "code",
   "execution_count": 69,
   "id": "2dfb967b-41ac-4463-b606-3e315e617f2a",
   "metadata": {},
   "outputs": [
    {
     "name": "stdout",
     "output_type": "stream",
     "text": [
      "1 + 2 = 3\n",
      "3 + 2 = 5\n",
      "5 + 2 = 7\n",
      "7 + 2 = 9\n",
      "9 + 2 = 11\n",
      "Finally {'total': 11}\n"
     ]
    }
   ],
   "source": [
    "response = wf(a=1, b=2)\n",
    "print(\"Finally\", response)"
   ]
  },
  {
   "cell_type": "code",
   "execution_count": 70,
   "id": "2e87f858-b327-4f6b-9237-c8a557f29aeb",
   "metadata": {},
   "outputs": [
    {
     "name": "stdout",
     "output_type": "stream",
     "text": [
      "0.847 > 0.2\n",
      "0.591 > 0.2\n",
      "0.250 > 0.2\n",
      "0.105 <= 0.2\n",
      "Finally 0.105\n"
     ]
    },
    {
     "name": "stderr",
     "output_type": "stream",
     "text": [
      "/Users/huber/work/pyiron/pyiron_workflow/pyiron_workflow/io_preview.py:261: OutputLabelsNotValidated: Could not find the source code to validate RandomWhileGreaterThan_6561917341211919985 output labels against the number of returned values -- proceeding without validation\n",
      "  warnings.warn(\n"
     ]
    }
   ],
   "source": [
    "@Workflow.wrap.as_function_node(\"random\")\n",
    "def Random():\n",
    "    import random\n",
    "    return random.random()\n",
    "\n",
    "@Workflow.wrap.as_function_node()\n",
    "def GreaterThan(x: float, threshold: float):\n",
    "    gt = x > threshold\n",
    "    symbol = \">\" if gt else \"<=\"\n",
    "    print(f\"{x:.3f} {symbol} {threshold}\")\n",
    "    return gt\n",
    "\n",
    "RandomWhile = Workflow.create.meta.while_loop(\n",
    "    loop_body_class=Random,\n",
    "    condition_class=GreaterThan,\n",
    "    internal_connection_map=[(\"Random\", \"random\", \"GreaterThan\", \"x\")],\n",
    "    inputs_map={\"GreaterThan__threshold\": \"threshold\"},\n",
    "    outputs_map={\"Random__random\": \"capped_result\"}\n",
    ")\n",
    "\n",
    "# Define workflow\n",
    "\n",
    "wf = Workflow(\"random_until_small_enough\")\n",
    "\n",
    "## Wire together the while loop and its condition\n",
    "\n",
    "wf.random_while = RandomWhile()\n",
    "\n",
    "## Give convenient labels\n",
    "wf.inputs_map = {\"random_while__threshold\": \"threshold\"}\n",
    "wf.outputs_map = {\"random_while__capped_result\": \"capped_result\"}\n",
    "\n",
    "print(f\"Finally {wf(threshold=0.2).capped_result:.3f}\")"
   ]
  },
  {
   "cell_type": "code",
   "execution_count": null,
   "id": "f40bfd6f-3fbf-4c2b-aeee-534ed4bcc970",
   "metadata": {},
   "outputs": [],
   "source": []
  }
 ],
 "metadata": {
  "kernelspec": {
   "display_name": "Python 3 (ipykernel)",
   "language": "python",
   "name": "python3"
  },
  "language_info": {
   "codemirror_mode": {
    "name": "ipython",
    "version": 3
   },
   "file_extension": ".py",
   "mimetype": "text/x-python",
   "name": "python",
   "nbconvert_exporter": "python",
   "pygments_lexer": "ipython3",
   "version": "3.11.9"
  }
 },
 "nbformat": 4,
 "nbformat_minor": 5
}
