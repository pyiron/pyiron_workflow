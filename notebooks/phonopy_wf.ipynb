{
 "cells": [
  {
   "cell_type": "markdown",
   "id": "0720d76c-bb61-4b60-ac56-61e1876051e6",
   "metadata": {},
   "source": [
    "# Phonopy workflow ideas"
   ]
  },
  {
   "cell_type": "code",
   "execution_count": 1,
   "id": "18092cbc-b118-42c5-a852-e0a9a9df2b8b",
   "metadata": {},
   "outputs": [
    {
     "name": "stdout",
     "output_type": "stream",
     "text": [
      "CPU times: user 1.35 s, sys: 251 ms, total: 1.6 s\n",
      "Wall time: 326 ms\n"
     ]
    }
   ],
   "source": [
    "%%time\n",
    "%config IPCompleter.evaluation='unsafe'\n",
    "\n",
    "import matplotlib.pylab as plt\n",
    "from pyiron_workflow.workflow import Workflow\n",
    "from pyiron_workflow.function import single_value_node"
   ]
  },
  {
   "cell_type": "code",
   "execution_count": 2,
   "id": "6a05f143-f2e7-4bc7-af8e-02cfdc2ff5cd",
   "metadata": {},
   "outputs": [
    {
     "name": "stdout",
     "output_type": "stream",
     "text": [
      "CPU times: user 25.5 ms, sys: 7.3 ms, total: 32.8 ms\n",
      "Wall time: 34.4 ms\n"
     ]
    }
   ],
   "source": [
    "%%time\n",
    "wf = Workflow('phonopy')\n",
    "wf.register('structure', 'pyiron_workflow.node_library.structure')\n",
    "wf.register('calculator', 'pyiron_workflow.node_library.calculator')\n",
    "wf.register('engine', 'pyiron_workflow.node_library.engine')\n",
    "wf.register('phonopy', 'pyiron_workflow.node_library.phonopy')"
   ]
  },
  {
   "cell_type": "code",
   "execution_count": 3,
   "id": "a120d5fc-5e4f-4c76-8962-4cce25238f0c",
   "metadata": {},
   "outputs": [],
   "source": [
    "from pyiron_workflow.node_library.phonopy import InputPhonopyGenerateSupercells"
   ]
  },
  {
   "cell_type": "code",
   "execution_count": 4,
   "id": "f059b152-07d1-46bb-87a0-b5f2381e0af9",
   "metadata": {},
   "outputs": [],
   "source": [
    "@Workflow.wrap_as.macro_node(\n",
    "    \"imaginary_modes\", \"total_dos\", \"energy_relaxed\", \"energy_initial\", \"energy_displaced\"\n",
    ")\n",
    "def run_phonopy(wf, element: str, cell_size: int = 2, vacancy_index: int | None = None, displacement: float = 0.01):\n",
    "    wf.structure = wf.create.structure.build.cubic_bulk_cell(\n",
    "        element=element, cell_size=cell_size, vacancy_index=vacancy_index\n",
    "    )\n",
    "    # explicit output needed since macro and not single_value_node (we should have also a single_value_macro)\n",
    "    wf.relaxed_structure = wf.create.calculator.ase.minimize(\n",
    "        atoms=wf.structure.outputs.structure\n",
    "    )\n",
    "\n",
    "    wf.engine = wf.create.engine.ase.M3GNet()\n",
    "\n",
    "    wf.phonopy = wf.create.phonopy.create_phonopy(\n",
    "        structure=wf.relaxed_structure.outputs.structure,\n",
    "        parameters=InputPhonopyGenerateSupercells(distance=displacement.run()),\n",
    "        engine=wf.engine\n",
    "    )\n",
    "    # print ('test: ', displacement.run())\n",
    "\n",
    "    wf.check_consistency = wf.create.phonopy.check_consistency(phonopy=wf.phonopy.outputs.phonopy)\n",
    "    wf.total_dos = wf.create.phonopy.get_total_dos(phonopy=wf.phonopy.outputs.phonopy)\n",
    "\n",
    "    # iterate over all nodes, extract the log_output and store it in hdf5\n",
    "    # control the amount of output via log_level\n",
    "\n",
    "    return (\n",
    "        wf.check_consistency,\n",
    "        wf.total_dos,\n",
    "        wf.relaxed_structure.outputs.out[\"energy\"],\n",
    "        wf.relaxed_structure.outputs.out[\"energy_initial\"],\n",
    "        wf.phonopy.outputs.out[\"energies\"]\n",
    "    )"
   ]
  },
  {
   "cell_type": "code",
   "execution_count": 5,
   "id": "bd8b2cbe-4d65-4961-9165-0c71fa3609ec",
   "metadata": {},
   "outputs": [
    {
     "data": {
      "application/vnd.jupyter.widget-view+json": {
       "model_id": "647dcbbabd1c4190b2d5f3f77680259a",
       "version_major": 2,
       "version_minor": 0
      },
      "text/plain": []
     },
     "metadata": {},
     "output_type": "display_data"
    },
    {
     "name": "stdout",
     "output_type": "stream",
     "text": [
      "energy:  0.8013167095855369 max_force:  2.2551405187698492e-17\n"
     ]
    },
    {
     "name": "stderr",
     "output_type": "stream",
     "text": [
      "/Users/joerg/mambaforge/envs/intel11/lib/python3.11/site-packages/matgl/apps/pes.py:59: UserWarning: To copy construct from a tensor, it is recommended to use sourceTensor.clone().detach() or sourceTensor.clone().detach().requires_grad_(True), rather than torch.tensor(sourceTensor).\n",
      "  self.element_refs = AtomRef(property_offset=torch.tensor(element_refs, dtype=matgl.float_th))\n",
      "/Users/joerg/mambaforge/envs/intel11/lib/python3.11/site-packages/matgl/apps/pes.py:65: UserWarning: To copy construct from a tensor, it is recommended to use sourceTensor.clone().detach() or sourceTensor.clone().detach().requires_grad_(True), rather than torch.tensor(sourceTensor).\n",
      "  self.register_buffer(\"data_mean\", torch.tensor(data_mean, dtype=matgl.float_th))\n",
      "/Users/joerg/mambaforge/envs/intel11/lib/python3.11/site-packages/matgl/apps/pes.py:66: UserWarning: To copy construct from a tensor, it is recommended to use sourceTensor.clone().detach() or sourceTensor.clone().detach().requires_grad_(True), rather than torch.tensor(sourceTensor).\n",
      "  self.register_buffer(\"data_std\", torch.tensor(data_std, dtype=matgl.float_th))\n",
      "/Users/joerg/mambaforge/envs/intel11/lib/python3.11/site-packages/matgl/layers/_basis.py:119: UserWarning: To copy construct from a tensor, it is recommended to use sourceTensor.clone().detach() or sourceTensor.clone().detach().requires_grad_(True), rather than torch.tensor(sourceTensor).\n",
      "  root = torch.tensor(roots[i])\n"
     ]
    },
    {
     "name": "stdout",
     "output_type": "stream",
     "text": [
      "alles ok\n"
     ]
    },
    {
     "data": {
      "text/plain": [
       "{'imaginary_modes': False,\n",
       " 'total_dos':      frequency_points  total_dos\n",
       " 0           -0.430914        0.0\n",
       " 1           -0.394666        0.0\n",
       " 2           -0.358418        0.0\n",
       " 3           -0.322169        0.0\n",
       " 4           -0.285921        0.0\n",
       " ..                ...        ...\n",
       " 196          6.673746        0.0\n",
       " 197          6.709995        0.0\n",
       " 198          6.746243        0.0\n",
       " 199          6.782491        0.0\n",
       " 200          6.818739        0.0\n",
       " \n",
       " [201 rows x 2 columns],\n",
       " 'energy_relaxed': 0.8013167095855369,\n",
       " 'energy_initial': 0.7996059979144441,\n",
       " 'energy_displaced': 0     -395.84808\n",
       " 1      -395.8479\n",
       " 2     -395.84735\n",
       " 3     -395.84863\n",
       " 4     -395.84808\n",
       " 5     -395.84796\n",
       " 6      -395.8479\n",
       " 7      -395.8482\n",
       " 8     -395.84763\n",
       " 9     -395.84842\n",
       " 10    -395.84793\n",
       " 11    -395.84814\n",
       " 12    -395.84802\n",
       " 13    -395.84802\n",
       " 14    -395.84802\n",
       " 15    -395.84802\n",
       " 16    -395.84802\n",
       " 17    -395.84808\n",
       " 18    -395.84796\n",
       " 19    -395.84802\n",
       " 20    -395.84802\n",
       " Name: energy, dtype: object}"
      ]
     },
     "execution_count": 5,
     "metadata": {},
     "output_type": "execute_result"
    }
   ],
   "source": [
    "wf = run_phonopy(element='Al', cell_size=3, vacancy_index=0, displacement=0.1)\n",
    "wf.run()"
   ]
  },
  {
   "cell_type": "code",
   "execution_count": 6,
   "id": "0c979de8-9250-4db9-a5a4-fe0ea2dcaba6",
   "metadata": {},
   "outputs": [
    {
     "data": {
      "text/html": [
       "<div>\n",
       "<style scoped>\n",
       "    .dataframe tbody tr th:only-of-type {\n",
       "        vertical-align: middle;\n",
       "    }\n",
       "\n",
       "    .dataframe tbody tr th {\n",
       "        vertical-align: top;\n",
       "    }\n",
       "\n",
       "    .dataframe thead th {\n",
       "        text-align: right;\n",
       "    }\n",
       "</style>\n",
       "<table border=\"1\" class=\"dataframe\">\n",
       "  <thead>\n",
       "    <tr style=\"text-align: right;\">\n",
       "      <th></th>\n",
       "      <th>atoms</th>\n",
       "      <th>_internal</th>\n",
       "      <th>forces</th>\n",
       "      <th>energy</th>\n",
       "      <th>iter_index</th>\n",
       "    </tr>\n",
       "  </thead>\n",
       "  <tbody>\n",
       "    <tr>\n",
       "      <th>0</th>\n",
       "      <td>(Atom('Al', [12.157071067811865, 2.01846947349...</td>\n",
       "      <td>{'iter_index': [0]}</td>\n",
       "      <td>[[-0.017570268, -0.00016299635, 0.016304713], ...</td>\n",
       "      <td>-395.84808</td>\n",
       "      <td>[0]</td>\n",
       "    </tr>\n",
       "    <tr>\n",
       "      <th>1</th>\n",
       "      <td>(Atom('Al', [12.14292893218813, 2.004327337874...</td>\n",
       "      <td>{'iter_index': [1]}</td>\n",
       "      <td>[[0.01760599, 0.02923628, 0.012760781], [0.014...</td>\n",
       "      <td>-395.8479</td>\n",
       "      <td>[1]</td>\n",
       "    </tr>\n",
       "    <tr>\n",
       "      <th>2</th>\n",
       "      <td>(Atom('Al', [12.149999999999997, 2.01139840568...</td>\n",
       "      <td>{'iter_index': [2]}</td>\n",
       "      <td>[[-0.00043985137, 0.012513507, 0.016508885], [...</td>\n",
       "      <td>-395.84735</td>\n",
       "      <td>[2]</td>\n",
       "    </tr>\n",
       "    <tr>\n",
       "      <th>3</th>\n",
       "      <td>(Atom('Al', [12.149999999999997, 2.01139840568...</td>\n",
       "      <td>{'iter_index': [3]}</td>\n",
       "      <td>[[0.00043296517, 0.016630674, 0.012541054], [0...</td>\n",
       "      <td>-395.84863</td>\n",
       "      <td>[3]</td>\n",
       "    </tr>\n",
       "    <tr>\n",
       "      <th>4</th>\n",
       "      <td>(Atom('Al', [12.149999999999997, 2.01139840568...</td>\n",
       "      <td>{'iter_index': [4]}</td>\n",
       "      <td>[[-0.00013847595, 0.014457194, 0.014981069], [...</td>\n",
       "      <td>-395.84808</td>\n",
       "      <td>[4]</td>\n",
       "    </tr>\n",
       "    <tr>\n",
       "      <th>5</th>\n",
       "      <td>(Atom('Al', [12.149999999999997, 2.01139840568...</td>\n",
       "      <td>{'iter_index': [5]}</td>\n",
       "      <td>[[0.00011192348, 0.014630016, 0.014106842], [0...</td>\n",
       "      <td>-395.84796</td>\n",
       "      <td>[5]</td>\n",
       "    </tr>\n",
       "    <tr>\n",
       "      <th>6</th>\n",
       "      <td>(Atom('Al', [12.149999999999997, 2.01139840568...</td>\n",
       "      <td>{'iter_index': [6]}</td>\n",
       "      <td>[[0.002472178, 0.014731701, 0.017395992], [0.0...</td>\n",
       "      <td>-395.8479</td>\n",
       "      <td>[6]</td>\n",
       "    </tr>\n",
       "    <tr>\n",
       "      <th>7</th>\n",
       "      <td>(Atom('Al', [12.149999999999997, 2.01139840568...</td>\n",
       "      <td>{'iter_index': [7]}</td>\n",
       "      <td>[[-0.0025749928, 0.014353024, 0.011581592], [0...</td>\n",
       "      <td>-395.8482</td>\n",
       "      <td>[7]</td>\n",
       "    </tr>\n",
       "    <tr>\n",
       "      <th>8</th>\n",
       "      <td>(Atom('Al', [12.149999999999997, 2.01139840568...</td>\n",
       "      <td>{'iter_index': [8]}</td>\n",
       "      <td>[[0.0028479605, 0.014593927, 0.017195765], [0....</td>\n",
       "      <td>-395.84763</td>\n",
       "      <td>[8]</td>\n",
       "    </tr>\n",
       "    <tr>\n",
       "      <th>9</th>\n",
       "      <td>(Atom('Al', [12.149999999999997, 2.01139840568...</td>\n",
       "      <td>{'iter_index': [9]}</td>\n",
       "      <td>[[-0.002984147, 0.014497297, 0.011809291], [0....</td>\n",
       "      <td>-395.84842</td>\n",
       "      <td>[9]</td>\n",
       "    </tr>\n",
       "    <tr>\n",
       "      <th>10</th>\n",
       "      <td>(Atom('Al', [12.149999999999997, 2.01139840568...</td>\n",
       "      <td>{'iter_index': [10]}</td>\n",
       "      <td>[[-0.00025533477, 0.016380563, 0.016518535], [...</td>\n",
       "      <td>-395.84793</td>\n",
       "      <td>[10]</td>\n",
       "    </tr>\n",
       "    <tr>\n",
       "      <th>11</th>\n",
       "      <td>(Atom('Al', [12.149999999999997, 2.01139840568...</td>\n",
       "      <td>{'iter_index': [11]}</td>\n",
       "      <td>[[0.0002417622, 0.01267463, 0.012520954], [0.0...</td>\n",
       "      <td>-395.84814</td>\n",
       "      <td>[11]</td>\n",
       "    </tr>\n",
       "    <tr>\n",
       "      <th>12</th>\n",
       "      <td>(Atom('Al', [12.149999999999997, 2.01139840568...</td>\n",
       "      <td>{'iter_index': [12]}</td>\n",
       "      <td>[[8.373187e-06, 0.014620129, 0.014580479], [0....</td>\n",
       "      <td>-395.84802</td>\n",
       "      <td>[12]</td>\n",
       "    </tr>\n",
       "    <tr>\n",
       "      <th>13</th>\n",
       "      <td>(Atom('Al', [12.149999999999997, 2.01139840568...</td>\n",
       "      <td>{'iter_index': [13]}</td>\n",
       "      <td>[[8.3172315e-05, 0.014723325, 0.014790393], [0...</td>\n",
       "      <td>-395.84802</td>\n",
       "      <td>[13]</td>\n",
       "    </tr>\n",
       "    <tr>\n",
       "      <th>14</th>\n",
       "      <td>(Atom('Al', [12.149999999999997, 2.01139840568...</td>\n",
       "      <td>{'iter_index': [14]}</td>\n",
       "      <td>[[-0.00011091936, 0.014363803, 0.014292596], [...</td>\n",
       "      <td>-395.84802</td>\n",
       "      <td>[14]</td>\n",
       "    </tr>\n",
       "    <tr>\n",
       "      <th>15</th>\n",
       "      <td>(Atom('Al', [12.149999999999997, 2.01139840568...</td>\n",
       "      <td>{'iter_index': [15]}</td>\n",
       "      <td>[[0.00012606007, 0.014566053, 0.01467319], [0....</td>\n",
       "      <td>-395.84802</td>\n",
       "      <td>[15]</td>\n",
       "    </tr>\n",
       "    <tr>\n",
       "      <th>16</th>\n",
       "      <td>(Atom('Al', [12.149999999999997, 2.01139840568...</td>\n",
       "      <td>{'iter_index': [16]}</td>\n",
       "      <td>[[-0.00015384164, 0.014520591, 0.0144088175], ...</td>\n",
       "      <td>-395.84802</td>\n",
       "      <td>[16]</td>\n",
       "    </tr>\n",
       "    <tr>\n",
       "      <th>17</th>\n",
       "      <td>(Atom('Al', [12.149999999999997, 2.01139840568...</td>\n",
       "      <td>{'iter_index': [17]}</td>\n",
       "      <td>[[0.00021164084, 0.014658412, 0.014656236], [0...</td>\n",
       "      <td>-395.84808</td>\n",
       "      <td>[17]</td>\n",
       "    </tr>\n",
       "    <tr>\n",
       "      <th>18</th>\n",
       "      <td>(Atom('Al', [12.149999999999997, 2.01139840568...</td>\n",
       "      <td>{'iter_index': [18]}</td>\n",
       "      <td>[[-0.00023973963, 0.014428077, 0.014425961], [...</td>\n",
       "      <td>-395.84796</td>\n",
       "      <td>[18]</td>\n",
       "    </tr>\n",
       "    <tr>\n",
       "      <th>19</th>\n",
       "      <td>(Atom('Al', [12.149999999999997, 2.01139840568...</td>\n",
       "      <td>{'iter_index': [19]}</td>\n",
       "      <td>[[-5.6038654e-05, 0.014504105, 0.014481662], [...</td>\n",
       "      <td>-395.84802</td>\n",
       "      <td>[19]</td>\n",
       "    </tr>\n",
       "    <tr>\n",
       "      <th>20</th>\n",
       "      <td>(Atom('Al', [12.149999999999997, 2.01139840568...</td>\n",
       "      <td>{'iter_index': [20]}</td>\n",
       "      <td>[[2.8803275e-05, 0.014583634, 0.014601806], [0...</td>\n",
       "      <td>-395.84802</td>\n",
       "      <td>[20]</td>\n",
       "    </tr>\n",
       "  </tbody>\n",
       "</table>\n",
       "</div>"
      ],
      "text/plain": [
       "                                                atoms             _internal  \\\n",
       "0   (Atom('Al', [12.157071067811865, 2.01846947349...   {'iter_index': [0]}   \n",
       "1   (Atom('Al', [12.14292893218813, 2.004327337874...   {'iter_index': [1]}   \n",
       "2   (Atom('Al', [12.149999999999997, 2.01139840568...   {'iter_index': [2]}   \n",
       "3   (Atom('Al', [12.149999999999997, 2.01139840568...   {'iter_index': [3]}   \n",
       "4   (Atom('Al', [12.149999999999997, 2.01139840568...   {'iter_index': [4]}   \n",
       "5   (Atom('Al', [12.149999999999997, 2.01139840568...   {'iter_index': [5]}   \n",
       "6   (Atom('Al', [12.149999999999997, 2.01139840568...   {'iter_index': [6]}   \n",
       "7   (Atom('Al', [12.149999999999997, 2.01139840568...   {'iter_index': [7]}   \n",
       "8   (Atom('Al', [12.149999999999997, 2.01139840568...   {'iter_index': [8]}   \n",
       "9   (Atom('Al', [12.149999999999997, 2.01139840568...   {'iter_index': [9]}   \n",
       "10  (Atom('Al', [12.149999999999997, 2.01139840568...  {'iter_index': [10]}   \n",
       "11  (Atom('Al', [12.149999999999997, 2.01139840568...  {'iter_index': [11]}   \n",
       "12  (Atom('Al', [12.149999999999997, 2.01139840568...  {'iter_index': [12]}   \n",
       "13  (Atom('Al', [12.149999999999997, 2.01139840568...  {'iter_index': [13]}   \n",
       "14  (Atom('Al', [12.149999999999997, 2.01139840568...  {'iter_index': [14]}   \n",
       "15  (Atom('Al', [12.149999999999997, 2.01139840568...  {'iter_index': [15]}   \n",
       "16  (Atom('Al', [12.149999999999997, 2.01139840568...  {'iter_index': [16]}   \n",
       "17  (Atom('Al', [12.149999999999997, 2.01139840568...  {'iter_index': [17]}   \n",
       "18  (Atom('Al', [12.149999999999997, 2.01139840568...  {'iter_index': [18]}   \n",
       "19  (Atom('Al', [12.149999999999997, 2.01139840568...  {'iter_index': [19]}   \n",
       "20  (Atom('Al', [12.149999999999997, 2.01139840568...  {'iter_index': [20]}   \n",
       "\n",
       "                                               forces      energy iter_index  \n",
       "0   [[-0.017570268, -0.00016299635, 0.016304713], ...  -395.84808        [0]  \n",
       "1   [[0.01760599, 0.02923628, 0.012760781], [0.014...   -395.8479        [1]  \n",
       "2   [[-0.00043985137, 0.012513507, 0.016508885], [...  -395.84735        [2]  \n",
       "3   [[0.00043296517, 0.016630674, 0.012541054], [0...  -395.84863        [3]  \n",
       "4   [[-0.00013847595, 0.014457194, 0.014981069], [...  -395.84808        [4]  \n",
       "5   [[0.00011192348, 0.014630016, 0.014106842], [0...  -395.84796        [5]  \n",
       "6   [[0.002472178, 0.014731701, 0.017395992], [0.0...   -395.8479        [6]  \n",
       "7   [[-0.0025749928, 0.014353024, 0.011581592], [0...   -395.8482        [7]  \n",
       "8   [[0.0028479605, 0.014593927, 0.017195765], [0....  -395.84763        [8]  \n",
       "9   [[-0.002984147, 0.014497297, 0.011809291], [0....  -395.84842        [9]  \n",
       "10  [[-0.00025533477, 0.016380563, 0.016518535], [...  -395.84793       [10]  \n",
       "11  [[0.0002417622, 0.01267463, 0.012520954], [0.0...  -395.84814       [11]  \n",
       "12  [[8.373187e-06, 0.014620129, 0.014580479], [0....  -395.84802       [12]  \n",
       "13  [[8.3172315e-05, 0.014723325, 0.014790393], [0...  -395.84802       [13]  \n",
       "14  [[-0.00011091936, 0.014363803, 0.014292596], [...  -395.84802       [14]  \n",
       "15  [[0.00012606007, 0.014566053, 0.01467319], [0....  -395.84802       [15]  \n",
       "16  [[-0.00015384164, 0.014520591, 0.0144088175], ...  -395.84802       [16]  \n",
       "17  [[0.00021164084, 0.014658412, 0.014656236], [0...  -395.84808       [17]  \n",
       "18  [[-0.00023973963, 0.014428077, 0.014425961], [...  -395.84796       [18]  \n",
       "19  [[-5.6038654e-05, 0.014504105, 0.014481662], [...  -395.84802       [19]  \n",
       "20  [[2.8803275e-05, 0.014583634, 0.014601806], [0...  -395.84802       [20]  "
      ]
     },
     "execution_count": 6,
     "metadata": {},
     "output_type": "execute_result"
    }
   ],
   "source": [
    "wf.phonopy.outputs.out.value['df']"
   ]
  },
  {
   "cell_type": "code",
   "execution_count": 7,
   "id": "e44175b7-d18c-4779-a6bf-f964ce51df3f",
   "metadata": {},
   "outputs": [
    {
     "ename": "NameError",
     "evalue": "name 'xx' is not defined",
     "output_type": "error",
     "traceback": [
      "\u001b[0;31m---------------------------------------------------------------------------\u001b[0m",
      "\u001b[0;31mNameError\u001b[0m                                 Traceback (most recent call last)",
      "Cell \u001b[0;32mIn[7], line 1\u001b[0m\n\u001b[0;32m----> 1\u001b[0m \u001b[43mxx\u001b[49m\n",
      "\u001b[0;31mNameError\u001b[0m: name 'xx' is not defined"
     ]
    }
   ],
   "source": [
    "xx"
   ]
  },
  {
   "cell_type": "markdown",
   "id": "b319c1d1-fb45-41b5-ab93-b4fbfe5f9006",
   "metadata": {},
   "source": [
    "### Pseudocode for output class"
   ]
  },
  {
   "cell_type": "code",
   "execution_count": null,
   "id": "39fa01fa-9ae8-4437-98d8-6b04a8a826b1",
   "metadata": {},
   "outputs": [],
   "source": [
    "from typing import Optional, Union\n",
    "from typing import Callable, TypeVar, Any, TypeAlias\n",
    "from dataclasses import dataclass\n",
    "\n",
    "import numpy as np"
   ]
  },
  {
   "cell_type": "code",
   "execution_count": null,
   "id": "84e1a9ad-d324-4a75-88a5-f8b45ed7a0d7",
   "metadata": {},
   "outputs": [],
   "source": [
    "@dataclass\n",
    "class VarFunc:\n",
    "    func: Callable = None\n",
    "    log_level: int = 0\n",
    "    unit: str = ''"
   ]
  },
  {
   "cell_type": "code",
   "execution_count": null,
   "id": "a20e229c-0bf1-4d39-bd71-2929c12718f3",
   "metadata": {},
   "outputs": [],
   "source": [
    "@dataclass\n",
    "class VarType:\n",
    "    property: TypeVar = None\n",
    "    log_level: int = 0\n",
    "    unit: str = ''"
   ]
  },
  {
   "cell_type": "code",
   "execution_count": null,
   "id": "4a4f1794-05e8-4dd7-ad26-55b51f261699",
   "metadata": {},
   "outputs": [],
   "source": [
    "VarFunc(func=np.sin, log_level=2).func"
   ]
  },
  {
   "cell_type": "code",
   "execution_count": null,
   "id": "fb62cfa1-3320-4d74-9e57-0ec10a55f796",
   "metadata": {},
   "outputs": [],
   "source": [
    "class toy_job:\n",
    "    def __init__(self, x=0):\n",
    "        self.x = x\n",
    "\n",
    "    def get_energy(self):\n",
    "        return np.sin(self.x)\n",
    "\n",
    "    def get_forces(self):\n",
    "        return np.ones(3)\n",
    "\n",
    "    @property\n",
    "    def my_x(self):\n",
    "        return self.x"
   ]
  },
  {
   "cell_type": "code",
   "execution_count": null,
   "id": "50330980-ea4d-4f40-88ee-dd752863201a",
   "metadata": {},
   "outputs": [],
   "source": [
    "job = toy_job(1)\n",
    "job.get_energy(), job.get_forces()"
   ]
  },
  {
   "cell_type": "code",
   "execution_count": null,
   "id": "8b242761-5c56-4f9d-a08d-1d335b15e46d",
   "metadata": {},
   "outputs": [],
   "source": [
    "@dataclass\n",
    "class wfOutput:\n",
    "    pass\n",
    "\n",
    "    def keys(self):\n",
    "        return self.__dict__.keys()\n",
    "\n",
    "    def __getitem__(self, key):\n",
    "        return self.__dict__[key]    \n",
    "\n",
    "    def __call__(self, job):\n",
    "        out_dict = dict()\n",
    "        for key in self.keys():\n",
    "            print (key)\n",
    "            v = self[key]\n",
    "            if isinstance(v, VarFunc):\n",
    "                out_dict[key] = job.__getattribute(job)()\n",
    "                \n",
    "        return out_dict       "
   ]
  },
  {
   "cell_type": "code",
   "execution_count": null,
   "id": "23c08913-e716-4638-a049-5e6c0bf508e8",
   "metadata": {},
   "outputs": [],
   "source": []
  },
  {
   "cell_type": "code",
   "execution_count": null,
   "id": "6558e0f8-b2a3-488e-988f-66ac0f5fded8",
   "metadata": {},
   "outputs": [],
   "source": [
    "import pint\n",
    "ureg = pint.UnitRegistry()\n",
    "ureg.angstrom"
   ]
  },
  {
   "cell_type": "code",
   "execution_count": null,
   "id": "c5b312fd-6dd2-45a5-8c6e-ef4d9a6a9b97",
   "metadata": {},
   "outputs": [],
   "source": [
    "# import ase\n",
    "import pint\n",
    "\n",
    "@dataclass\n",
    "class OutputEnergyStatic:\n",
    "    distance: float = 0.01\n",
    "    energy: VarFunc = VarFunc(func=toy_job.get_energy, log_level=0, unit=ureg.eV)\n",
    "    forces: VarFunc = VarFunc(func=toy_job.get_forces, log_level=1, unit=ureg.eV/ureg.angstrom)\n",
    "    prop: VarType = VarType(toy_job.my_x, log_level=2)\n",
    "\n",
    "    def keys(self):\n",
    "        return self.__dict__.keys()\n",
    "\n",
    "    def __getitem__(self, key):\n",
    "        return self.__dict__[key]    \n",
    "\n",
    "    def __call__(self, job):\n",
    "        out_dict = dict()\n",
    "        for key in self.keys():\n",
    "            print (key)\n",
    "            v = self[key]\n",
    "            if isinstance(v, VarFunc):\n",
    "                out_dict[key] = job.__getattribute(job)()\n",
    "                \n",
    "        return out_dict "
   ]
  },
  {
   "cell_type": "code",
   "execution_count": null,
   "id": "95bb53c2-239e-432b-9ff0-782e83b57a1a",
   "metadata": {},
   "outputs": [],
   "source": [
    "output = OutputEnergyStatic()\n",
    "output.__dict__"
   ]
  },
  {
   "cell_type": "code",
   "execution_count": null,
   "id": "7738c87b-52f7-40cc-8444-4a3a6ab55117",
   "metadata": {},
   "outputs": [],
   "source": [
    "def calc_static(atoms, output=OutputEnergyStatic()):\n",
    "    atoms.calc = EMT()\n",
    "\n",
    "\n",
    "    output['energy'] = atoms.get_energy()\n",
    "    \n",
    "    return output(atoms)"
   ]
  },
  {
   "cell_type": "code",
   "execution_count": null,
   "id": "87d05e01-70cc-4fc7-a7ca-bf46996dc259",
   "metadata": {},
   "outputs": [],
   "source": [
    "def calc_static(atoms, output=wfOutput()):\n",
    "    atoms.calc = EMT()\n",
    "\n",
    "    output = dict()\n",
    "    output['energy'] = atoms.get_energy()\n",
    "    \n",
    "    return output"
   ]
  },
  {
   "cell_type": "code",
   "execution_count": null,
   "id": "4ea4f8f8-beb7-47b5-a832-07c5ecfcab44",
   "metadata": {},
   "outputs": [],
   "source": [
    "def calc_static(atoms):\n",
    "    atoms.calc = EMT()\n",
    "\n",
    "    output = wfOutput()\n",
    "    output['energy'] = atoms.get_energy()\n",
    "    \n",
    "    return output"
   ]
  },
  {
   "cell_type": "code",
   "execution_count": null,
   "id": "134a3b7b-bf78-4e57-86d3-de06316ac9f9",
   "metadata": {},
   "outputs": [],
   "source": [
    "wf.output = wf.create.calc_static.output(keys='energy')\n",
    "wf.calc = wf.create.calc_static(output=wf.output)"
   ]
  },
  {
   "cell_type": "code",
   "execution_count": null,
   "id": "40323f9b-25ae-4d30-b105-964d086f1e9c",
   "metadata": {},
   "outputs": [],
   "source": [
    "xx"
   ]
  },
  {
   "cell_type": "code",
   "execution_count": null,
   "id": "cef22996-86fd-4ed8-88e3-253a5a4ff063",
   "metadata": {},
   "outputs": [],
   "source": [
    "%%time\n",
    "df = wf.iter(cell_size=list(range(1,4)), element=['Al'], vacancy_index=[None, 0], displacement=[0.01, 0.1]) #, Cu, Pd, Ag, Pt and Au])"
   ]
  },
  {
   "cell_type": "code",
   "execution_count": null,
   "id": "15426796-970d-467a-95b3-816f1067add0",
   "metadata": {},
   "outputs": [],
   "source": [
    "df"
   ]
  },
  {
   "cell_type": "code",
   "execution_count": null,
   "id": "89abfc53-4a70-4640-a34e-2825692ba8a6",
   "metadata": {},
   "outputs": [],
   "source": [
    "df.energy_displaced"
   ]
  },
  {
   "cell_type": "code",
   "execution_count": null,
   "id": "3afaf54a-0c9c-4122-a518-49a99fb15cca",
   "metadata": {},
   "outputs": [],
   "source": [
    "xx"
   ]
  },
  {
   "cell_type": "code",
   "execution_count": null,
   "id": "433a9132-1c0f-4807-b160-5f4e18a44399",
   "metadata": {},
   "outputs": [],
   "source": [
    "@single_value_node()\n",
    "def calc_static(atoms=None, engine=None): \n",
    "    print ('atoms: ', atoms)\n",
    "    if engine is None:\n",
    "        from ase.calculators.emt import EMT\n",
    "        calculator = EMT() \n",
    "\n",
    "    atoms.calc = calculator\n",
    "\n",
    "    out = {}\n",
    "    # out['structure'] = atoms # not needed since identical to input\n",
    "    out['forces'] = atoms.get_forces()\n",
    "    out['energy'] = atoms.get_potential_energy()\n",
    "  \n",
    "    return out    "
   ]
  },
  {
   "cell_type": "code",
   "execution_count": null,
   "id": "39a81234-00e5-4042-a2fc-3f882571b90f",
   "metadata": {},
   "outputs": [],
   "source": [
    "#@single_value_node()\n",
    "def generate_supercells(phonopy):\n",
    "    from structuretoolkit.common import phonopy_to_atoms\n",
    "    \n",
    "    phonopy.generate_displacements()  \n",
    "\n",
    "    supercells = [phonopy_to_atoms(s) for s in phonopy.supercells_with_displacements]\n",
    "    return supercells"
   ]
  },
  {
   "cell_type": "code",
   "execution_count": null,
   "id": "d6ce6272-c3d7-45de-b02c-85c90970cec2",
   "metadata": {},
   "outputs": [],
   "source": [
    "@single_value_node()\n",
    "def iter(node, qwargs):\n",
    "    out = node.iter(**qwargs)\n",
    "    return out"
   ]
  },
  {
   "cell_type": "markdown",
   "id": "d8e95905-0919-4d97-90c4-9a084c3a9e40",
   "metadata": {},
   "source": [
    "wf = Workflow('phonopy')\n",
    "wf.structure = wf.create.pyiron_atomistics.Bulk('Al', cubic=True)\n",
    "wf.supercell = wf.create.lammps.Repeat(structure = wf.structure, repeat_scalar=2)\n",
    "wf.supercells = generate_supercells(structure=wf.supercell)\n",
    "wf.calc = calc_static() \n",
    "\n",
    "*TODO: allowing to use nodes as input arguments in workflows is crucial but not (yet) available*\n",
    "wf.df = iter(node=wf.calc, qwargs={'atoms': wf.supercells}) "
   ]
  },
  {
   "cell_type": "code",
   "execution_count": null,
   "id": "e1b5415b-7afa-4876-b66b-08ad5ce426c1",
   "metadata": {},
   "outputs": [],
   "source": [
    "@single_value_node()\n",
    "def create_vacancy(structure, index: int|None = 0):\n",
    "    structure = structure.copy()\n",
    "    if index is not None:\n",
    "        del structure[index]\n",
    "    \n",
    "    return structure   "
   ]
  },
  {
   "cell_type": "code",
   "execution_count": null,
   "id": "ff51e5db-311a-4728-9652-5c8c8b09e0a4",
   "metadata": {},
   "outputs": [],
   "source": [
    "@Workflow.wrap_as.macro_node(\"structure\")\n",
    "def CubicBulkCell(wf, element: str, cell_size: int = 1, vacancy_index: int|None = None):\n",
    "    wf.structure = wf.create.pyiron_atomistics.Bulk(\n",
    "        name=element, cubic=True\n",
    "    )\n",
    "    wf.cell = wf.create.lammps.Repeat(structure = wf.structure, repeat_scalar=cell_size)\n",
    "\n",
    "    wf.cell_with_vacancies = create_vacancy(structure=wf.cell, index=vacancy_index)\n",
    "    return wf.cell_with_vacancies #.outputs.structure"
   ]
  },
  {
   "cell_type": "code",
   "execution_count": null,
   "id": "c0aa9a54-055a-4d5e-9721-184761d57a5d",
   "metadata": {},
   "outputs": [],
   "source": [
    "# The following function should be defined as a workflow macro (presently not possible)\n",
    "\n",
    "@single_value_node()\n",
    "def create_phonopy(structure, calculator=None, executor=None):\n",
    "    from phonopy import Phonopy\n",
    "    from structuretoolkit.common import atoms_to_phonopy\n",
    "    \n",
    "    phonopy = Phonopy(unitcell=atoms_to_phonopy(structure))  \n",
    "    \n",
    "    cells = generate_supercells(phonopy)# .run()\n",
    "    gs = calc_static() \n",
    "    df = gs.iter(atoms=cells, executor=executor)\n",
    "    phonopy.forces = df.forces\n",
    "    \n",
    "    return phonopy"
   ]
  },
  {
   "cell_type": "code",
   "execution_count": null,
   "id": "3bd77b45-5947-485b-84f0-bee0598470e2",
   "metadata": {},
   "outputs": [],
   "source": [
    "import numpy as np\n",
    "\n",
    "structure = CubicBulkCell(element='Al', cell_size=2, vacancy_index=0).run().structure\n",
    "phonopy = create_phonopy(structure).run()\n"
   ]
  },
  {
   "cell_type": "raw",
   "id": "7d0fcfa9-9028-46fd-a317-57b462891dff",
   "metadata": {},
   "source": [
    "import cloudpickle as pickle\n",
    "\n",
    "pic = pickle.dumps(gs)\n",
    "\n",
    "gs_new = pickle.loads(pic)\n",
    "gs_new(atoms=cells[0]);"
   ]
  },
  {
   "cell_type": "code",
   "execution_count": null,
   "id": "c1b551b0-9861-459e-81e5-ab58bb11c623",
   "metadata": {},
   "outputs": [],
   "source": []
  },
  {
   "cell_type": "code",
   "execution_count": null,
   "id": "0e9dd9ce-43ae-47f6-9719-ddbdebc1aca7",
   "metadata": {},
   "outputs": [],
   "source": [
    "# @single_value_node()\n",
    "# def create_phonopy(structure, calculator=None):\n",
    "#     from phonopy import Phonopy\n",
    "#     # from phonopy.structure.atoms import PhonopyAtoms\n",
    "#     from structuretoolkit.common import phonopy_to_atoms, atoms_to_phonopy\n",
    "\n",
    "#     if calculator is None:\n",
    "#         from ase.calculators.emt import EMT\n",
    "#         calculator = EMT()\n",
    "    \n",
    "#     phonopy = Phonopy(unitcell=atoms_to_phonopy(structure))  \n",
    "#     phonopy.generate_displacements()\n",
    "#     structures, forces, energies = [], [], []\n",
    "\n",
    "#     for s in phonopy.supercells_with_displacements:\n",
    "#         atoms = phonopy_to_atoms(s)\n",
    "#         atoms.calc = calculator\n",
    "#         structures.append(atoms)\n",
    "#         forces.append(atoms.get_forces())\n",
    "#         energies.append(atoms.get_potential_energy())\n",
    "#     phonopy.forces = forces\n",
    "    \n",
    "#     return phonopy"
   ]
  },
  {
   "cell_type": "code",
   "execution_count": null,
   "id": "74d17dd1-25f8-48bb-be0f-4d0dcd6729c5",
   "metadata": {},
   "outputs": [],
   "source": [
    "@single_value_node()\n",
    "def get_dynamical_matrix(phonopy, q=[0,0,0]):\n",
    "    import numpy as np\n",
    "    \n",
    "    if phonopy.dynamical_matrix is None:\n",
    "        phonopy.produce_force_constants()\n",
    "        phonopy.dynamical_matrix.run(q=q)\n",
    "    dynamical_matrix = np.real_if_close(phonopy.dynamical_matrix.dynamical_matrix)\n",
    "    # print (dynamical_matrix)\n",
    "    return dynamical_matrix"
   ]
  },
  {
   "cell_type": "code",
   "execution_count": null,
   "id": "b6c1cb61-f58c-47e1-8cc5-1a76b60b7bb1",
   "metadata": {},
   "outputs": [],
   "source": [
    "@single_value_node()\n",
    "def get_eigenvalues(matrix):\n",
    "    import numpy as np\n",
    "    \n",
    "    ew = np.linalg.eigvalsh(matrix)\n",
    "    return ew"
   ]
  },
  {
   "cell_type": "code",
   "execution_count": null,
   "id": "b3f68f26-d269-4c6a-b78a-964875e68ad7",
   "metadata": {},
   "outputs": [],
   "source": [
    "@single_value_node()\n",
    "def check_consistency(phonopy, tolerance=1e-10):\n",
    "    dyn_matrix = get_dynamical_matrix(phonopy).run()\n",
    "    ew = get_eigenvalues(dyn_matrix).run()\n",
    "    # print ('ew: ', ew)\n",
    "    ew_lt_zero = ew[ew < -tolerance]\n",
    "    if len(ew_lt_zero) > 0:\n",
    "        print (f'WARNING: {len(ew_lt_zero)} imaginary modes exist')\n",
    "        has_imaginary_modes = True\n",
    "    has_imaginary_modes = False \n",
    "    print ('alles ok')\n",
    "    return has_imaginary_modes        "
   ]
  },
  {
   "cell_type": "code",
   "execution_count": null,
   "id": "98e7b240-df0c-49c1-ad8d-4897eae57f77",
   "metadata": {},
   "outputs": [],
   "source": [
    "@single_value_node()\n",
    "def get_total_dos(phonopy, mesh=3*[10]):\n",
    "    from pandas import DataFrame\n",
    "    \n",
    "    phonopy.produce_force_constants()\n",
    "    phonopy.run_mesh(mesh=mesh)\n",
    "    phonopy.run_total_dos()\n",
    "    total_dos = DataFrame(phonopy.get_total_dos_dict())\n",
    "    return total_dos"
   ]
  },
  {
   "cell_type": "code",
   "execution_count": null,
   "id": "6eb2c29f-9fe7-4240-ad0b-7210fd9346fb",
   "metadata": {},
   "outputs": [],
   "source": [
    "wf = Workflow('phonopy')\n",
    "\n",
    "wf.structure = CubicBulkCell(element='Al', cell_size=2, vacancy_index=None)\n",
    "wf.phonopy = create_phonopy(structure=wf.structure.outputs.structure)  # explicit output needed since macro and not single_value_node (we should have also a sinle_value_macro)\n",
    "#wf.dynamical_matrix = get_dynamical_matrix(phonopy=wf.phonopy)\n",
    "wf.check_consistency = check_consistency(phonopy=wf.phonopy)\n",
    "wf.total_dos = get_total_dos(phonopy=wf.phonopy)\n",
    "\n",
    "wf.inputs_map = {'structure__cell_size': 'cell_size', 'structure__element': 'element'}\n",
    "wf.outputs_map = {'total_dos__total_dos': 'total_dos', \n",
    "                  'check_consistency__has_imaginary_modes': 'imaginary_modes'\n",
    "                 }"
   ]
  },
  {
   "cell_type": "code",
   "execution_count": null,
   "id": "ed8b5cac-fbbe-4c1a-9a29-3dd8f15ac8b4",
   "metadata": {},
   "outputs": [],
   "source": [
    "wf.draw();"
   ]
  },
  {
   "cell_type": "code",
   "execution_count": null,
   "id": "fe906b02-c363-4e4b-afed-1042c3ed6407",
   "metadata": {},
   "outputs": [],
   "source": [
    "%%time\n",
    "df = wf.iter(cell_size=list(range(1,3)), element=['Al', 'Ni']) #, Cu, Pd, Ag, Pt and Au])"
   ]
  },
  {
   "cell_type": "code",
   "execution_count": null,
   "id": "61459e44-99d7-4a9f-8aff-6cf0102aa7c3",
   "metadata": {},
   "outputs": [],
   "source": [
    "df"
   ]
  },
  {
   "cell_type": "code",
   "execution_count": null,
   "id": "07e6bc72-642e-4b0b-8034-ecc148cbf48b",
   "metadata": {},
   "outputs": [],
   "source": [
    "xx"
   ]
  },
  {
   "cell_type": "code",
   "execution_count": null,
   "id": "eca43535-efa6-40d8-b66a-a2c4070cd83f",
   "metadata": {},
   "outputs": [],
   "source": [
    "import matplotlib.pylab as plt\n",
    "\n",
    "for n in range(2, 5):\n",
    "    out = wf(supercell__repeat_scalar=n)\n",
    "    df = out.total_dos #__total_dos\n",
    "    n_atoms = len(wf.structure.outputs.structure.value)\n",
    "    plt.plot(df.frequency_points, df.total_dos.values/n**3, label=(4*n**3, n_atoms))\n",
    "plt.title('Phonon DOS')\n",
    "plt.legend();"
   ]
  },
  {
   "cell_type": "raw",
   "id": "da385369-b7f2-4f93-b3d9-0f8b2187d00e",
   "metadata": {},
   "source": [
    "%%time\n",
    "phonopy.run_mesh(mesh=3*[20])\n",
    "phonopy.run_total_dos()\n",
    "phonopy.run_thermal_properties()\n",
    "# phonopy.run_band_structure()\n",
    "\n",
    "phonopy.plot_thermal_properties();"
   ]
  },
  {
   "cell_type": "code",
   "execution_count": null,
   "id": "10673a48-c9d9-42ad-a60c-a916fabd77e9",
   "metadata": {},
   "outputs": [],
   "source": []
  },
  {
   "cell_type": "code",
   "execution_count": null,
   "id": "ac68a073-34c0-430a-b54e-6c73c2c6a678",
   "metadata": {},
   "outputs": [],
   "source": [
    "%%time\n",
    "import numpy as np\n",
    "from pympipool import Executor\n",
    "\n",
    "\n",
    "\n",
    "def calc(i, j, k):\n",
    "    from mpi4py import MPI\n",
    "    import time\n",
    "    \n",
    "    time.sleep(1)\n",
    "    size = MPI.COMM_WORLD.Get_size()\n",
    "    rank = MPI.COMM_WORLD.Get_rank()\n",
    "    return np.array([i+rank, j, k]), size, rank\n",
    "\n",
    "cores = 2\n",
    "with Executor(cores_per_worker=cores, max_workers=1) as p:\n",
    "    for i in range(0, 8, cores):\n",
    "        fs = p.submit(calc, i, j=55, k=10)\n",
    "        print(fs.result())"
   ]
  },
  {
   "cell_type": "code",
   "execution_count": null,
   "id": "da5c0b92-52b2-4fb1-a8b8-a339eede1d09",
   "metadata": {},
   "outputs": [],
   "source": [
    "%%time\n",
    "from pympipool import Executor\n",
    "\n",
    "def iter(func, max_workers=1, cores_per_worker=1, **kwargs):\n",
    "    key = list(kwargs.keys())[0]\n",
    "    val = kwargs[key]\n",
    "    \n",
    "    with Executor(cores_per_worker=cores_per_worker, max_workers=max_workers) as p:\n",
    "        iter_dict = {'kwargs': kwargs}\n",
    "        for i, n in enumerate(val):\n",
    "            fs = p.submit(wf, **{key: n})\n",
    "            iter_dict[i] = fs.result()\n",
    "    return iter_dict        \n",
    "\n",
    "out = iter(wf, supercell__repeat_scalar=list(range(1,3)))"
   ]
  },
  {
   "cell_type": "code",
   "execution_count": null,
   "id": "e3d6a844-3068-4fdb-b187-4ba60b92f2a6",
   "metadata": {},
   "outputs": [],
   "source": [
    "%%time\n",
    "from pympipool import Executor\n",
    "\n",
    "def iter(func, max_workers=1, cores_per_worker=1, **kwargs):\n",
    "    # Get the keys and lists from kwargs\n",
    "    keys = list(kwargs.keys())\n",
    "    lists = list(kwargs.values())\n",
    "\n",
    "    # Get the number of dimensions\n",
    "    num_dimensions = len(keys)\n",
    "\n",
    "    # Get the length of each list\n",
    "    lengths = [len(lst) for lst in lists]\n",
    "\n",
    "    # Initialize indices\n",
    "    indices = [0] * num_dimensions\n",
    "\n",
    "    with Executor(cores_per_worker=cores_per_worker, max_workers=max_workers) as p:\n",
    "        #iter_dict = {'kwargs': kwargs}\n",
    "        iter_dict = {}\n",
    "        \n",
    "        # Create an empty DataFrame to store the results\n",
    "        df_result = pd.DataFrame(columns=keys)\n",
    "    \n",
    "        # Perform multidimensional for loop\n",
    "        count = 0\n",
    "        while indices[0] < lengths[0]:\n",
    "            # Access the current elements using indices\n",
    "            current_elements = [lists[i][indices[i]] for i in range(num_dimensions)]\n",
    "    \n",
    "            # Add current_elements as a dictionary\n",
    "            current_elements_kwarg = dict(zip(keys, current_elements))\n",
    "            fs = p.submit(wf, **current_elements_kwarg)\n",
    "            out = fs.result()\n",
    "            iter_dict[count] = out\n",
    "            count += 1\n",
    "\n",
    "            for k, v in out.items():\n",
    "                current_elements_kwarg[k] = v\n",
    "                \n",
    "            # Append the current_elements_kwarg to the DataFrame\n",
    "            df_result = pd.concat([df_result, pd.DataFrame([current_elements_kwarg])], ignore_index=True)\n",
    "    \n",
    "            # Process the current elements (you can modify this part according to your needs)\n",
    "            #print(f\"Current Elements: {current_elements_kwarg}\")\n",
    "    \n",
    "            # Update indices for the next iteration\n",
    "            indices[num_dimensions - 1] += 1\n",
    "    \n",
    "            # Update indices and carry-over if needed\n",
    "            for i in range(num_dimensions - 1, 0, -1):\n",
    "                if indices[i] == lengths[i]:\n",
    "                    indices[i] = 0\n",
    "                    indices[i - 1] += 1\n",
    "    return df_result        \n",
    "       \n",
    "df = iter(wf, cell_size=list(range(1,3)))"
   ]
  },
  {
   "cell_type": "code",
   "execution_count": null,
   "id": "fbcc742c-4237-4955-9394-ff2645f973e2",
   "metadata": {},
   "outputs": [],
   "source": [
    "%%time\n",
    "df.to_hdf('test.h5', 'table')"
   ]
  },
  {
   "cell_type": "code",
   "execution_count": null,
   "id": "7fdeaa21-589a-435a-a980-ff55fd87f922",
   "metadata": {},
   "outputs": [],
   "source": [
    "df.total_dos.values[1].plot();"
   ]
  },
  {
   "cell_type": "code",
   "execution_count": null,
   "id": "47bfdea5-7aaf-4884-9287-0c63153a7c73",
   "metadata": {},
   "outputs": [],
   "source": [
    "out[1]['total_dos'].plot(x='frequency_points');"
   ]
  },
  {
   "cell_type": "code",
   "execution_count": null,
   "id": "23a5163c-5a43-444d-bbdf-8c4a157e8640",
   "metadata": {},
   "outputs": [],
   "source": [
    "def multidimensional_for_loop(**kwargs):\n",
    "    # Get the keys and lists from kwargs\n",
    "    keys = list(kwargs.keys())\n",
    "    lists = list(kwargs.values())\n",
    "\n",
    "    # Get the number of dimensions\n",
    "    num_dimensions = len(keys)\n",
    "\n",
    "    # Get the length of each list\n",
    "    lengths = [len(lst) for lst in lists]\n",
    "\n",
    "    # Initialize indices\n",
    "    indices = [0] * num_dimensions\n",
    "\n",
    "    # Perform multidimensional for loop\n",
    "    while indices[0] < lengths[0]:\n",
    "        # Access the current elements using indices\n",
    "        current_elements = [lists[i][indices[i]] for i in range(num_dimensions)]\n",
    "\n",
    "        # Process the current elements (you can modify this part according to your needs)\n",
    "        print(f\"Current Elements: {current_elements}\")\n",
    "\n",
    "        # Update indices for the next iteration\n",
    "        indices[num_dimensions - 1] += 1\n",
    "\n",
    "        # Update indices and carry-over if needed\n",
    "        for i in range(num_dimensions - 1, 0, -1):\n",
    "            if indices[i] == lengths[i]:\n",
    "                indices[i] = 0\n",
    "                indices[i - 1] += 1\n",
    "\n",
    "    # You can add additional processing or return values as needed\n",
    "\n",
    "# Example usage\n",
    "list1 = [1, 2]\n",
    "list2 = ['a', 'b', 'c']\n",
    "list3 = [True, False]\n",
    "\n",
    "multidimensional_for_loop(arg1=list1, arg2=list2, arg3=list3)"
   ]
  },
  {
   "cell_type": "code",
   "execution_count": null,
   "id": "af8a7ab4-3dcd-4d61-af40-67747dd342d7",
   "metadata": {},
   "outputs": [],
   "source": [
    "def multidimensional_for_loop(**kwargs):\n",
    "    # Get the keys and lists from kwargs\n",
    "    keys = list(kwargs.keys())\n",
    "    lists = list(kwargs.values())\n",
    "\n",
    "    # Get the number of dimensions\n",
    "    num_dimensions = len(keys)\n",
    "\n",
    "    # Get the length of each list\n",
    "    lengths = [len(lst) for lst in lists]\n",
    "\n",
    "    # Initialize indices\n",
    "    indices = [0] * num_dimensions\n",
    "\n",
    "    # Perform multidimensional for loop\n",
    "    while indices[0] < lengths[0]:\n",
    "        # Access the current elements using indices\n",
    "        current_elements = [lists[i][indices[i]] for i in range(num_dimensions)]\n",
    "\n",
    "        # Add current_elements as a keyword argument\n",
    "        current_elements_kwarg = dict(zip(keys, current_elements))\n",
    "        kwargs.update({'current_elements': current_elements_kwarg})\n",
    "\n",
    "        # Process the current elements (you can modify this part according to your needs)\n",
    "        print(f\"Current Elements: {current_elements_kwarg}\")\n",
    "\n",
    "        # Update indices for the next iteration\n",
    "        indices[num_dimensions - 1] += 1\n",
    "\n",
    "        # Update indices and carry-over if needed\n",
    "        for i in range(num_dimensions - 1, 0, -1):\n",
    "            if indices[i] == lengths[i]:\n",
    "                indices[i] = 0\n",
    "                indices[i - 1] += 1\n",
    "\n",
    "    # You can add additional processing or return values as needed\n",
    "\n",
    "# Example usage\n",
    "list1 = [1, 2]\n",
    "list2 = ['a', 'b', 'c']\n",
    "list3 = [True, False]"
   ]
  },
  {
   "cell_type": "code",
   "execution_count": null,
   "id": "76e123ca-e3eb-4e61-af9b-215a932c5dc9",
   "metadata": {},
   "outputs": [],
   "source": [
    "multidimensional_for_loop(a=list1, b=list2, c=list3)"
   ]
  },
  {
   "cell_type": "code",
   "execution_count": null,
   "id": "70b1875e-d4d8-479b-ab22-6028f936284f",
   "metadata": {},
   "outputs": [],
   "source": [
    "import pandas as pd\n",
    "\n",
    "def multidimensional_for_loop(**kwargs):\n",
    "    # Get the keys and lists from kwargs\n",
    "    keys = list(kwargs.keys())\n",
    "    lists = list(kwargs.values())\n",
    "\n",
    "    # Get the number of dimensions\n",
    "    num_dimensions = len(keys)\n",
    "\n",
    "    # Get the length of each list\n",
    "    lengths = [len(lst) for lst in lists]\n",
    "\n",
    "    # Initialize indices\n",
    "    indices = [0] * num_dimensions\n",
    "\n",
    "    # Create an empty DataFrame to store the results\n",
    "    df_result = pd.DataFrame(columns=keys)\n",
    "\n",
    "    # Perform multidimensional for loop\n",
    "    while indices[0] < lengths[0]:\n",
    "        # Access the current elements using indices\n",
    "        current_elements = [lists[i][indices[i]] for i in range(num_dimensions)]\n",
    "\n",
    "        # Add current_elements as a dictionary\n",
    "        current_elements_kwarg = dict(zip(keys, current_elements))\n",
    "\n",
    "        # Append the current_elements_kwarg to the DataFrame\n",
    "        df_result = pd.concat([df_result, pd.DataFrame([current_elements_kwarg])], ignore_index=True)\n",
    "\n",
    "        # Process the current elements (you can modify this part according to your needs)\n",
    "        print(f\"Current Elements: {current_elements_kwarg}\")\n",
    "\n",
    "        # Update indices for the next iteration\n",
    "        indices[num_dimensions - 1] += 1\n",
    "\n",
    "        # Update indices and carry-over if needed\n",
    "        for i in range(num_dimensions - 1, 0, -1):\n",
    "            if indices[i] == lengths[i]:\n",
    "                indices[i] = 0\n",
    "                indices[i - 1] += 1\n",
    "\n",
    "    # You now have a DataFrame containing the results\n",
    "    print(\"DataFrame Result:\")\n",
    "    print(df_result)\n",
    "\n",
    "    # You can add additional processing or return values as needed\n",
    "\n",
    "# Example usage\n",
    "list1 = [1, 2]\n",
    "list2 = ['a', 'b', 'c']\n",
    "list3 = [True, False]\n",
    "\n",
    "multidimensional_for_loop(a=list1, b=list2, arg3=list3)"
   ]
  },
  {
   "cell_type": "code",
   "execution_count": null,
   "id": "7c022bd0-b0aa-4b6e-acaa-106db4522893",
   "metadata": {},
   "outputs": [],
   "source": [
    "from dataclasses import dataclass\n",
    "from typing import Optional, Union\n",
    "\n",
    "@dataclass\n",
    "class InputPhonopyGenerateSupercells:\n",
    "    distance: float = 0.01\n",
    "    is_plusminus: Union[str, bool] = \"auto\"\n",
    "    is_diagonal: bool = True\n",
    "    is_trigonal: bool = False\n",
    "    number_of_snapshots: Optional[int] = None\n",
    "    random_seed: Optional[int] = None\n",
    "    temperature: Optional[float] = None\n",
    "    cutoff_frequency: Optional[float] = None\n",
    "    max_distance: Optional[float] = None\n",
    "\n",
    "    def keys(self):\n",
    "        return self.__dict__.keys()\n",
    "        \n",
    "    def __getitem__(self, key):\n",
    "        return self.__dict__[key]"
   ]
  },
  {
   "cell_type": "code",
   "execution_count": null,
   "id": "559969d5-3f21-4146-b5e9-137d9a13d92d",
   "metadata": {},
   "outputs": [],
   "source": [
    "par = InputPhonopyGenerateSupercells(distance=0.02)"
   ]
  },
  {
   "cell_type": "code",
   "execution_count": null,
   "id": "ff32a9f4-27f5-41e4-a985-05e91d01b442",
   "metadata": {},
   "outputs": [],
   "source": [
    "def f(distance=0.01, **kwargs):\n",
    "    print (kwargs)\n",
    "    print (distance)"
   ]
  },
  {
   "cell_type": "code",
   "execution_count": null,
   "id": "241c3d0f-2cea-4c25-87f6-b8deecf27395",
   "metadata": {},
   "outputs": [],
   "source": [
    "f(**par)"
   ]
  },
  {
   "cell_type": "code",
   "execution_count": null,
   "id": "70a4ed5d-5070-4de7-8378-ac351006e04a",
   "metadata": {},
   "outputs": [],
   "source": [
    "f(**{'distance': 0.03})"
   ]
  },
  {
   "cell_type": "code",
   "execution_count": null,
   "id": "b6d64667-1091-42e6-8b12-f0d1451c7366",
   "metadata": {},
   "outputs": [],
   "source": [
    "dict_lst = {}\n",
    "for count in range(1, 4):\n",
    "    current_elements_kwarg = {'a': 1}\n",
    "    _internal = {}\n",
    "    _internal[\"iter_index\"] = count\n",
    "    current_elements_kwarg[\"_internal\"] = _internal\n",
    "    print(\"indices: \", _internal)    \n",
    "\n",
    "    for k, v in current_elements_kwarg.items():\n",
    "        if count == 1:\n",
    "             dict_lst[k] = [v]\n",
    "        else:    \n",
    "            if k in dict_lst:\n",
    "                dict_lst[k].append(v)\n",
    "            else:\n",
    "                ValueError(f\"New key appears at count {count}\")      \n",
    "    \n",
    "dict_lst"
   ]
  },
  {
   "cell_type": "markdown",
   "id": "2889dc77-b82c-4318-a862-0ed143943386",
   "metadata": {},
   "source": [
    "### Test universal ML potential"
   ]
  },
  {
   "cell_type": "code",
   "execution_count": null,
   "id": "5f9c9dae-7a97-47e5-9750-c9adfb9c1072",
   "metadata": {},
   "outputs": [],
   "source": [
    "from ase import units\n",
    "from ase.build import bulk\n",
    "from atomistics.calculators import calc_molecular_dynamics_langevin_with_ase"
   ]
  },
  {
   "cell_type": "code",
   "execution_count": null,
   "id": "53847c37-2f8b-4ba1-bd3a-c27c9eee958a",
   "metadata": {},
   "outputs": [],
   "source": [
    "import matgl\n",
    "from matgl.ext.ase import M3GNetCalculator"
   ]
  },
  {
   "cell_type": "code",
   "execution_count": null,
   "id": "24632194-6f3b-44c4-a8dd-c9ee1b9147f5",
   "metadata": {},
   "outputs": [],
   "source": [
    "%%time\n",
    "structure = bulk(\"Al\", cubic=True).repeat([3, 3, 3])\n",
    "ase_calculator = M3GNetCalculator(matgl.load_model(\"M3GNet-MP-2021.2.8-PES\"))\n",
    "result_dict = calc_molecular_dynamics_langevin_with_ase(\n",
    "    structure=structure,\n",
    "    ase_calculator=ase_calculator,\n",
    "    run=1000,\n",
    "    thermo=10,\n",
    "    timestep=1 * units.fs,\n",
    "    temperature=1000,\n",
    "    friction=0.002,\n",
    ")"
   ]
  },
  {
   "cell_type": "code",
   "execution_count": null,
   "id": "47cb2507-7b1e-4172-b423-4a055f0256b4",
   "metadata": {},
   "outputs": [],
   "source": [
    "result_dict.keys()"
   ]
  },
  {
   "cell_type": "code",
   "execution_count": null,
   "id": "54dfd61f-4195-41b2-98b4-293957c7be70",
   "metadata": {},
   "outputs": [],
   "source": [
    "plt.plot(result_dict['energy_pot']);"
   ]
  },
  {
   "cell_type": "code",
   "execution_count": null,
   "id": "759b4aa7-927e-404d-a637-828298ab672f",
   "metadata": {},
   "outputs": [],
   "source": [
    "plt.plot(result_dict['positions'][:,:,0]);"
   ]
  },
  {
   "cell_type": "code",
   "execution_count": null,
   "id": "a9d193fd-5ad7-42dd-bde6-ee2449c5a129",
   "metadata": {},
   "outputs": [],
   "source": []
  }
 ],
 "metadata": {
  "kernelspec": {
   "display_name": "Python 3 (ipykernel)",
   "language": "python",
   "name": "python3"
  },
  "language_info": {
   "codemirror_mode": {
    "name": "ipython",
    "version": 3
   },
   "file_extension": ".py",
   "mimetype": "text/x-python",
   "name": "python",
   "nbconvert_exporter": "python",
   "pygments_lexer": "ipython3",
   "version": "3.11.7"
  }
 },
 "nbformat": 4,
 "nbformat_minor": 5
}
