{
 "cells": [
  {
   "cell_type": "markdown",
   "id": "0720d76c-bb61-4b60-ac56-61e1876051e6",
   "metadata": {},
   "source": [
    "# Phonopy workflow ideas"
   ]
  },
  {
   "cell_type": "code",
   "execution_count": 1,
   "id": "18092cbc-b118-42c5-a852-e0a9a9df2b8b",
   "metadata": {},
   "outputs": [
    {
     "name": "stdout",
     "output_type": "stream",
     "text": [
      "CPU times: user 1.24 s, sys: 288 ms, total: 1.52 s\n",
      "Wall time: 360 ms\n"
     ]
    }
   ],
   "source": [
    "%%time\n",
    "%config IPCompleter.evaluation='unsafe'\n",
    "\n",
    "import matplotlib.pylab as plt\n",
    "from pyiron_workflow.workflow import Workflow\n",
    "from pyiron_workflow.function import single_value_node"
   ]
  },
  {
   "cell_type": "code",
   "execution_count": 2,
   "id": "6a05f143-f2e7-4bc7-af8e-02cfdc2ff5cd",
   "metadata": {},
   "outputs": [
    {
     "name": "stdout",
     "output_type": "stream",
     "text": [
      "CPU times: user 574 ms, sys: 104 ms, total: 678 ms\n",
      "Wall time: 709 ms\n"
     ]
    }
   ],
   "source": [
    "%%time\n",
    "wf = Workflow('phonopy')\n",
    "wf.register('structure', 'pyiron_workflow.node_library.structure')\n",
    "wf.register('calculator', 'pyiron_workflow.node_library.calculator')\n",
    "wf.register('engine', 'pyiron_workflow.node_library.engine')\n",
    "wf.register('phonopy', 'pyiron_workflow.node_library.phonopy')"
   ]
  },
  {
   "cell_type": "code",
   "execution_count": 3,
   "id": "a120d5fc-5e4f-4c76-8962-4cce25238f0c",
   "metadata": {},
   "outputs": [],
   "source": [
    "from pyiron_workflow.node_library.phonopy import InputPhonopyGenerateSupercells"
   ]
  },
  {
   "cell_type": "code",
   "execution_count": 10,
   "id": "f059b152-07d1-46bb-87a0-b5f2381e0af9",
   "metadata": {},
   "outputs": [],
   "source": [
    "@Workflow.wrap_as.macro_node(\n",
    "    \"imaginary_modes\",\n",
    "    \"total_dos\",\n",
    "    \"energy_relaxed\",\n",
    "    \"energy_initial\",\n",
    "    \"energy_displaced\",\n",
    ")\n",
    "def run_phonopy(\n",
    "    wf,\n",
    "    element: str,\n",
    "    cell_size: int = 2,\n",
    "    vacancy_index: int | None = None,\n",
    "    displacement: float = 0.01,\n",
    "):\n",
    "\n",
    "    # wf.engine = wf.create.engine.ase.M3GNet()\n",
    "    wf.engine = wf.create.engine.ase.EMT()\n",
    "    \n",
    "    wf.structure = wf.create.structure.build.cubic_bulk_cell(\n",
    "        element=element, cell_size=cell_size, vacancy_index=vacancy_index\n",
    "    )\n",
    "    # explicit output needed since macro and not single_value_node (we should have also a single_value_macro)\n",
    "    wf.relaxed_structure = wf.create.calculator.ase.minimize(\n",
    "        atoms=wf.structure.outputs.structure,\n",
    "        engine=wf.engine,\n",
    "    )\n",
    "\n",
    "    wf.phonopy = wf.create.phonopy.create_phonopy(\n",
    "        structure=wf.relaxed_structure.outputs.structure,\n",
    "        parameters=InputPhonopyGenerateSupercells(distance=displacement.run()),\n",
    "        engine=wf.engine,\n",
    "    )\n",
    "    # print ('test: ', displacement.run())\n",
    "\n",
    "    wf.check_consistency = wf.create.phonopy.check_consistency(\n",
    "        phonopy=wf.phonopy.outputs.phonopy\n",
    "    )\n",
    "    wf.total_dos = wf.create.phonopy.get_total_dos(phonopy=wf.phonopy.outputs.phonopy)\n",
    "\n",
    "    # iterate over all nodes, extract the log_output and store it in hdf5\n",
    "    # control the amount of output via log_level\n",
    "\n",
    "    return (\n",
    "        wf.check_consistency,\n",
    "        wf.total_dos,\n",
    "        wf.relaxed_structure.outputs.out.final.energy,\n",
    "        wf.relaxed_structure.outputs.out.initial.energy,\n",
    "        wf.phonopy.outputs.out[\"energies\"],\n",
    "    )"
   ]
  },
  {
   "cell_type": "code",
   "execution_count": 11,
   "id": "bd8b2cbe-4d65-4961-9165-0c71fa3609ec",
   "metadata": {},
   "outputs": [
    {
     "name": "stdout",
     "output_type": "stream",
     "text": [
      "energy:  0.8013167095855369 0.7996059979144441\n",
      "CPU times: user 6.86 s, sys: 227 ms, total: 7.08 s\n",
      "Wall time: 2.73 s\n"
     ]
    },
    {
     "data": {
      "text/plain": [
       "{'imaginary_modes': False,\n",
       " 'total_dos':      frequency_points  total_dos\n",
       " 0           -0.604384        0.0\n",
       " 1           -0.557641        0.0\n",
       " 2           -0.510899        0.0\n",
       " 3           -0.464156        0.0\n",
       " 4           -0.417413        0.0\n",
       " ..                ...        ...\n",
       " 196          8.557177        0.0\n",
       " 197          8.603920        0.0\n",
       " 198          8.650662        0.0\n",
       " 199          8.697405        0.0\n",
       " 200          8.744148        0.0\n",
       " \n",
       " [201 rows x 2 columns],\n",
       " 'energy_relaxed': 0.8013167095855369,\n",
       " 'energy_initial': 0.7996059979144441,\n",
       " 'energy_displaced': 0     0.801477\n",
       " 1     0.801456\n",
       " 2     0.801444\n",
       " 3     0.801514\n",
       " 4     0.801395\n",
       " 5     0.801562\n",
       " 6     0.801523\n",
       " 7     0.801430\n",
       " 8     0.801585\n",
       " 9     0.801368\n",
       " 10    0.801554\n",
       " 11    0.801399\n",
       " 12    0.801477\n",
       " 13    0.801477\n",
       " 14    0.801477\n",
       " 15    0.801441\n",
       " 16    0.801515\n",
       " 17    0.801450\n",
       " 18    0.801505\n",
       " 19    0.801477\n",
       " 20    0.801478\n",
       " Name: energy, dtype: float64}"
      ]
     },
     "execution_count": 11,
     "metadata": {},
     "output_type": "execute_result"
    }
   ],
   "source": [
    "%%time\n",
    "wf = run_phonopy(element='Al', cell_size=3, vacancy_index=0, displacement=0.1)\n",
    "wf.run()"
   ]
  },
  {
   "cell_type": "code",
   "execution_count": 12,
   "id": "50f1186f-5220-4247-800d-0461089c7f25",
   "metadata": {},
   "outputs": [],
   "source": [
    "from pyiron import pyiron_to_ase"
   ]
  },
  {
   "cell_type": "code",
   "execution_count": 13,
   "id": "328f2287-0db9-4058-9419-29d63d254361",
   "metadata": {},
   "outputs": [
    {
     "data": {
      "text/plain": [
       "(0.8013167095829186, 0.8013167095855369)"
      ]
     },
     "execution_count": 13,
     "metadata": {},
     "output_type": "execute_result"
    }
   ],
   "source": [
    "s = pyiron_to_ase(wf.relaxed_structure.outputs.structure.value)\n",
    "s.calc = wf.engine.outputs.engine.value\n",
    "s.get_potential_energy(), wf.relaxed_structure.outputs.out.final.energy"
   ]
  },
  {
   "cell_type": "code",
   "execution_count": 14,
   "id": "8c12fc02-dffd-42ac-b5d8-1a141b69bfd4",
   "metadata": {},
   "outputs": [
    {
     "data": {
      "text/plain": [
       "<ase.calculators.emt.EMT at 0x183ca8c10>"
      ]
     },
     "execution_count": 14,
     "metadata": {},
     "output_type": "execute_result"
    }
   ],
   "source": [
    "wf.engine.outputs.engine.value"
   ]
  },
  {
   "cell_type": "code",
   "execution_count": null,
   "id": "39a41eb0-0b39-4f82-b9dc-97fe321067db",
   "metadata": {},
   "outputs": [],
   "source": [
    "xx"
   ]
  },
  {
   "cell_type": "code",
   "execution_count": 15,
   "id": "0c979de8-9250-4db9-a5a4-fe0ea2dcaba6",
   "metadata": {},
   "outputs": [
    {
     "data": {
      "text/html": [
       "<div>\n",
       "<style scoped>\n",
       "    .dataframe tbody tr th:only-of-type {\n",
       "        vertical-align: middle;\n",
       "    }\n",
       "\n",
       "    .dataframe tbody tr th {\n",
       "        vertical-align: top;\n",
       "    }\n",
       "\n",
       "    .dataframe thead th {\n",
       "        text-align: right;\n",
       "    }\n",
       "</style>\n",
       "<table border=\"1\" class=\"dataframe\">\n",
       "  <thead>\n",
       "    <tr style=\"text-align: right;\">\n",
       "      <th></th>\n",
       "      <th>atoms</th>\n",
       "      <th>_internal</th>\n",
       "      <th>energy</th>\n",
       "      <th>forces</th>\n",
       "      <th>stress</th>\n",
       "      <th>structure</th>\n",
       "      <th>energies</th>\n",
       "    </tr>\n",
       "  </thead>\n",
       "  <tbody>\n",
       "    <tr>\n",
       "      <th>0</th>\n",
       "      <td>(Atom('Al', [12.157071067811865, 2.01846947349...</td>\n",
       "      <td>{'iter_index': [0]}</td>\n",
       "      <td>0.801477</td>\n",
       "      <td>[[-0.023172401218313952, -0.02070281808992324,...</td>\n",
       "      <td>None</td>\n",
       "      <td>None</td>\n",
       "      <td>None</td>\n",
       "    </tr>\n",
       "    <tr>\n",
       "      <th>1</th>\n",
       "      <td>(Atom('Al', [12.14292893218813, 2.004327337874...</td>\n",
       "      <td>{'iter_index': [1]}</td>\n",
       "      <td>0.801456</td>\n",
       "      <td>[[0.023223919284411358, 0.017716773608982852, ...</td>\n",
       "      <td>None</td>\n",
       "      <td>None</td>\n",
       "      <td>None</td>\n",
       "    </tr>\n",
       "    <tr>\n",
       "      <th>2</th>\n",
       "      <td>(Atom('Al', [12.149999999999997, 2.01139840568...</td>\n",
       "      <td>{'iter_index': [2]}</td>\n",
       "      <td>0.801444</td>\n",
       "      <td>[[-0.00014853410845676318, -0.0045937310507214...</td>\n",
       "      <td>None</td>\n",
       "      <td>None</td>\n",
       "      <td>None</td>\n",
       "    </tr>\n",
       "    <tr>\n",
       "      <th>3</th>\n",
       "      <td>(Atom('Al', [12.149999999999997, 2.01139840568...</td>\n",
       "      <td>{'iter_index': [3]}</td>\n",
       "      <td>0.801514</td>\n",
       "      <td>[[0.00017067251835383226, 0.001684919320568755...</td>\n",
       "      <td>None</td>\n",
       "      <td>None</td>\n",
       "      <td>None</td>\n",
       "    </tr>\n",
       "    <tr>\n",
       "      <th>4</th>\n",
       "      <td>(Atom('Al', [12.149999999999997, 2.01139840568...</td>\n",
       "      <td>{'iter_index': [4]}</td>\n",
       "      <td>0.801395</td>\n",
       "      <td>[[8.120943302261999e-05, -0.001404462986399669...</td>\n",
       "      <td>None</td>\n",
       "      <td>None</td>\n",
       "      <td>None</td>\n",
       "    </tr>\n",
       "    <tr>\n",
       "      <th>5</th>\n",
       "      <td>(Atom('Al', [12.149999999999997, 2.01139840568...</td>\n",
       "      <td>{'iter_index': [5]}</td>\n",
       "      <td>0.801562</td>\n",
       "      <td>[[-8.291373797127133e-05, -0.00156522675623289...</td>\n",
       "      <td>None</td>\n",
       "      <td>None</td>\n",
       "      <td>None</td>\n",
       "    </tr>\n",
       "    <tr>\n",
       "      <th>6</th>\n",
       "      <td>(Atom('Al', [12.149999999999997, 2.01139840568...</td>\n",
       "      <td>{'iter_index': [6]}</td>\n",
       "      <td>0.801523</td>\n",
       "      <td>[[0.004142511131204099, -0.0014405213332471072...</td>\n",
       "      <td>None</td>\n",
       "      <td>None</td>\n",
       "      <td>None</td>\n",
       "    </tr>\n",
       "    <tr>\n",
       "      <th>7</th>\n",
       "      <td>(Atom('Al', [12.149999999999997, 2.01139840568...</td>\n",
       "      <td>{'iter_index': [7]}</td>\n",
       "      <td>0.801430</td>\n",
       "      <td>[[-0.00423484191023942, -0.0015285012861156674...</td>\n",
       "      <td>None</td>\n",
       "      <td>None</td>\n",
       "      <td>None</td>\n",
       "    </tr>\n",
       "    <tr>\n",
       "      <th>8</th>\n",
       "      <td>(Atom('Al', [12.149999999999997, 2.01139840568...</td>\n",
       "      <td>{'iter_index': [8]}</td>\n",
       "      <td>0.801585</td>\n",
       "      <td>[[0.004360899946174978, -0.0014522923481744762...</td>\n",
       "      <td>None</td>\n",
       "      <td>None</td>\n",
       "      <td>None</td>\n",
       "    </tr>\n",
       "    <tr>\n",
       "      <th>9</th>\n",
       "      <td>(Atom('Al', [12.149999999999997, 2.01139840568...</td>\n",
       "      <td>{'iter_index': [9]}</td>\n",
       "      <td>0.801368</td>\n",
       "      <td>[[-0.004498869592222, -0.0015165812487091986, ...</td>\n",
       "      <td>None</td>\n",
       "      <td>None</td>\n",
       "      <td>None</td>\n",
       "    </tr>\n",
       "    <tr>\n",
       "      <th>10</th>\n",
       "      <td>(Atom('Al', [12.149999999999997, 2.01139840568...</td>\n",
       "      <td>{'iter_index': [10]}</td>\n",
       "      <td>0.801554</td>\n",
       "      <td>[[-0.00011784047553834581, 0.00142477612435064...</td>\n",
       "      <td>None</td>\n",
       "      <td>None</td>\n",
       "      <td>None</td>\n",
       "    </tr>\n",
       "    <tr>\n",
       "      <th>11</th>\n",
       "      <td>(Atom('Al', [12.149999999999997, 2.01139840568...</td>\n",
       "      <td>{'iter_index': [11]}</td>\n",
       "      <td>0.801399</td>\n",
       "      <td>[[0.00013874621284755764, -0.00442833626348643...</td>\n",
       "      <td>None</td>\n",
       "      <td>None</td>\n",
       "      <td>None</td>\n",
       "    </tr>\n",
       "    <tr>\n",
       "      <th>12</th>\n",
       "      <td>(Atom('Al', [12.149999999999997, 2.01139840568...</td>\n",
       "      <td>{'iter_index': [12]}</td>\n",
       "      <td>0.801477</td>\n",
       "      <td>[[-4.108496975095688e-08, -0.00148297837318412...</td>\n",
       "      <td>None</td>\n",
       "      <td>None</td>\n",
       "      <td>None</td>\n",
       "    </tr>\n",
       "    <tr>\n",
       "      <th>13</th>\n",
       "      <td>(Atom('Al', [12.149999999999997, 2.01139840568...</td>\n",
       "      <td>{'iter_index': [13]}</td>\n",
       "      <td>0.801477</td>\n",
       "      <td>[[-7.357329572856008e-05, -0.00157679353232962...</td>\n",
       "      <td>None</td>\n",
       "      <td>None</td>\n",
       "      <td>None</td>\n",
       "    </tr>\n",
       "    <tr>\n",
       "      <th>14</th>\n",
       "      <td>(Atom('Al', [12.149999999999997, 2.01139840568...</td>\n",
       "      <td>{'iter_index': [14]}</td>\n",
       "      <td>0.801477</td>\n",
       "      <td>[[7.463133090528616e-05, -0.001389252089714850...</td>\n",
       "      <td>None</td>\n",
       "      <td>None</td>\n",
       "      <td>None</td>\n",
       "    </tr>\n",
       "    <tr>\n",
       "      <th>15</th>\n",
       "      <td>(Atom('Al', [12.149999999999997, 2.01139840568...</td>\n",
       "      <td>{'iter_index': [15]}</td>\n",
       "      <td>0.801441</td>\n",
       "      <td>[[-4.315625166616266e-05, -0.00150097126860205...</td>\n",
       "      <td>None</td>\n",
       "      <td>None</td>\n",
       "      <td>None</td>\n",
       "    </tr>\n",
       "    <tr>\n",
       "      <th>16</th>\n",
       "      <td>(Atom('Al', [12.149999999999997, 2.01139840568...</td>\n",
       "      <td>{'iter_index': [16]}</td>\n",
       "      <td>0.801515</td>\n",
       "      <td>[[4.3497872165702486e-05, -0.00146724910634231...</td>\n",
       "      <td>None</td>\n",
       "      <td>None</td>\n",
       "      <td>None</td>\n",
       "    </tr>\n",
       "    <tr>\n",
       "      <th>17</th>\n",
       "      <td>(Atom('Al', [12.149999999999997, 2.01139840568...</td>\n",
       "      <td>{'iter_index': [17]}</td>\n",
       "      <td>0.801450</td>\n",
       "      <td>[[-0.00014835242191742724, -0.0015730513522224...</td>\n",
       "      <td>None</td>\n",
       "      <td>None</td>\n",
       "      <td>None</td>\n",
       "    </tr>\n",
       "    <tr>\n",
       "      <th>18</th>\n",
       "      <td>(Atom('Al', [12.149999999999997, 2.01139840568...</td>\n",
       "      <td>{'iter_index': [18]}</td>\n",
       "      <td>0.801505</td>\n",
       "      <td>[[0.00015060250798282042, -0.00139334259427864...</td>\n",
       "      <td>None</td>\n",
       "      <td>None</td>\n",
       "      <td>None</td>\n",
       "    </tr>\n",
       "    <tr>\n",
       "      <th>19</th>\n",
       "      <td>(Atom('Al', [12.149999999999997, 2.01139840568...</td>\n",
       "      <td>{'iter_index': [19]}</td>\n",
       "      <td>0.801477</td>\n",
       "      <td>[[6.158193767251408e-08, -0.001483930059153100...</td>\n",
       "      <td>None</td>\n",
       "      <td>None</td>\n",
       "      <td>None</td>\n",
       "    </tr>\n",
       "    <tr>\n",
       "      <th>20</th>\n",
       "      <td>(Atom('Al', [12.149999999999997, 2.01139840568...</td>\n",
       "      <td>{'iter_index': [20]}</td>\n",
       "      <td>0.801478</td>\n",
       "      <td>[[-5.993614836559413e-08, -0.00148404919709561...</td>\n",
       "      <td>None</td>\n",
       "      <td>None</td>\n",
       "      <td>None</td>\n",
       "    </tr>\n",
       "  </tbody>\n",
       "</table>\n",
       "</div>"
      ],
      "text/plain": [
       "                                                atoms             _internal  \\\n",
       "0   (Atom('Al', [12.157071067811865, 2.01846947349...   {'iter_index': [0]}   \n",
       "1   (Atom('Al', [12.14292893218813, 2.004327337874...   {'iter_index': [1]}   \n",
       "2   (Atom('Al', [12.149999999999997, 2.01139840568...   {'iter_index': [2]}   \n",
       "3   (Atom('Al', [12.149999999999997, 2.01139840568...   {'iter_index': [3]}   \n",
       "4   (Atom('Al', [12.149999999999997, 2.01139840568...   {'iter_index': [4]}   \n",
       "5   (Atom('Al', [12.149999999999997, 2.01139840568...   {'iter_index': [5]}   \n",
       "6   (Atom('Al', [12.149999999999997, 2.01139840568...   {'iter_index': [6]}   \n",
       "7   (Atom('Al', [12.149999999999997, 2.01139840568...   {'iter_index': [7]}   \n",
       "8   (Atom('Al', [12.149999999999997, 2.01139840568...   {'iter_index': [8]}   \n",
       "9   (Atom('Al', [12.149999999999997, 2.01139840568...   {'iter_index': [9]}   \n",
       "10  (Atom('Al', [12.149999999999997, 2.01139840568...  {'iter_index': [10]}   \n",
       "11  (Atom('Al', [12.149999999999997, 2.01139840568...  {'iter_index': [11]}   \n",
       "12  (Atom('Al', [12.149999999999997, 2.01139840568...  {'iter_index': [12]}   \n",
       "13  (Atom('Al', [12.149999999999997, 2.01139840568...  {'iter_index': [13]}   \n",
       "14  (Atom('Al', [12.149999999999997, 2.01139840568...  {'iter_index': [14]}   \n",
       "15  (Atom('Al', [12.149999999999997, 2.01139840568...  {'iter_index': [15]}   \n",
       "16  (Atom('Al', [12.149999999999997, 2.01139840568...  {'iter_index': [16]}   \n",
       "17  (Atom('Al', [12.149999999999997, 2.01139840568...  {'iter_index': [17]}   \n",
       "18  (Atom('Al', [12.149999999999997, 2.01139840568...  {'iter_index': [18]}   \n",
       "19  (Atom('Al', [12.149999999999997, 2.01139840568...  {'iter_index': [19]}   \n",
       "20  (Atom('Al', [12.149999999999997, 2.01139840568...  {'iter_index': [20]}   \n",
       "\n",
       "      energy                                             forces stress  \\\n",
       "0   0.801477  [[-0.023172401218313952, -0.02070281808992324,...   None   \n",
       "1   0.801456  [[0.023223919284411358, 0.017716773608982852, ...   None   \n",
       "2   0.801444  [[-0.00014853410845676318, -0.0045937310507214...   None   \n",
       "3   0.801514  [[0.00017067251835383226, 0.001684919320568755...   None   \n",
       "4   0.801395  [[8.120943302261999e-05, -0.001404462986399669...   None   \n",
       "5   0.801562  [[-8.291373797127133e-05, -0.00156522675623289...   None   \n",
       "6   0.801523  [[0.004142511131204099, -0.0014405213332471072...   None   \n",
       "7   0.801430  [[-0.00423484191023942, -0.0015285012861156674...   None   \n",
       "8   0.801585  [[0.004360899946174978, -0.0014522923481744762...   None   \n",
       "9   0.801368  [[-0.004498869592222, -0.0015165812487091986, ...   None   \n",
       "10  0.801554  [[-0.00011784047553834581, 0.00142477612435064...   None   \n",
       "11  0.801399  [[0.00013874621284755764, -0.00442833626348643...   None   \n",
       "12  0.801477  [[-4.108496975095688e-08, -0.00148297837318412...   None   \n",
       "13  0.801477  [[-7.357329572856008e-05, -0.00157679353232962...   None   \n",
       "14  0.801477  [[7.463133090528616e-05, -0.001389252089714850...   None   \n",
       "15  0.801441  [[-4.315625166616266e-05, -0.00150097126860205...   None   \n",
       "16  0.801515  [[4.3497872165702486e-05, -0.00146724910634231...   None   \n",
       "17  0.801450  [[-0.00014835242191742724, -0.0015730513522224...   None   \n",
       "18  0.801505  [[0.00015060250798282042, -0.00139334259427864...   None   \n",
       "19  0.801477  [[6.158193767251408e-08, -0.001483930059153100...   None   \n",
       "20  0.801478  [[-5.993614836559413e-08, -0.00148404919709561...   None   \n",
       "\n",
       "   structure energies  \n",
       "0       None     None  \n",
       "1       None     None  \n",
       "2       None     None  \n",
       "3       None     None  \n",
       "4       None     None  \n",
       "5       None     None  \n",
       "6       None     None  \n",
       "7       None     None  \n",
       "8       None     None  \n",
       "9       None     None  \n",
       "10      None     None  \n",
       "11      None     None  \n",
       "12      None     None  \n",
       "13      None     None  \n",
       "14      None     None  \n",
       "15      None     None  \n",
       "16      None     None  \n",
       "17      None     None  \n",
       "18      None     None  \n",
       "19      None     None  \n",
       "20      None     None  "
      ]
     },
     "execution_count": 15,
     "metadata": {},
     "output_type": "execute_result"
    }
   ],
   "source": [
    "wf.phonopy.outputs.out.value['df']"
   ]
  },
  {
   "cell_type": "code",
   "execution_count": 16,
   "id": "7bc34f3a-df8a-4cbb-9aa5-7b201d9e9f28",
   "metadata": {},
   "outputs": [
    {
     "name": "stderr",
     "output_type": "stream",
     "text": [
      "/Users/joerg/python_projects/git_libs/pyiron_workflow/pyiron_workflow/node.py:613: UserWarning: The keyword '_internal' was not found among input labels. If you are trying to update a node keyword, please use attribute assignment directly instead of calling\n",
      "  warnings.warn(\n"
     ]
    },
    {
     "name": "stdout",
     "output_type": "stream",
     "text": [
      "energy:  -0.006008190344925168 -0.006008190344925168\n"
     ]
    },
    {
     "name": "stderr",
     "output_type": "stream",
     "text": [
      "/Users/joerg/python_projects/git_libs/pyiron_workflow/pyiron_workflow/node.py:613: UserWarning: The keyword '_internal' was not found among input labels. If you are trying to update a node keyword, please use attribute assignment directly instead of calling\n",
      "  warnings.warn(\n"
     ]
    },
    {
     "name": "stdout",
     "output_type": "stream",
     "text": [
      "energy:  -0.006008190344925168 -0.006008190344925168\n"
     ]
    },
    {
     "name": "stderr",
     "output_type": "stream",
     "text": [
      "/Users/joerg/python_projects/git_libs/pyiron_workflow/pyiron_workflow/node.py:613: UserWarning: The keyword '_internal' was not found among input labels. If you are trying to update a node keyword, please use attribute assignment directly instead of calling\n",
      "  warnings.warn(\n"
     ]
    },
    {
     "name": "stdout",
     "output_type": "stream",
     "text": [
      "energy:  0.8712882553372374 0.8712882553372374\n",
      "WARNING: 3 imaginary modes exist\n",
      "energy:  0.8712882553372374 0.8712882553372374\n"
     ]
    },
    {
     "name": "stderr",
     "output_type": "stream",
     "text": [
      "/Users/joerg/python_projects/git_libs/pyiron_workflow/pyiron_workflow/node.py:613: UserWarning: The keyword '_internal' was not found among input labels. If you are trying to update a node keyword, please use attribute assignment directly instead of calling\n",
      "  warnings.warn(\n"
     ]
    },
    {
     "name": "stdout",
     "output_type": "stream",
     "text": [
      "WARNING: 3 imaginary modes exist\n",
      "energy:  -0.0480655227588862 -0.0480655227588862\n"
     ]
    },
    {
     "name": "stderr",
     "output_type": "stream",
     "text": [
      "/Users/joerg/python_projects/git_libs/pyiron_workflow/pyiron_workflow/node.py:613: UserWarning: The keyword '_internal' was not found among input labels. If you are trying to update a node keyword, please use attribute assignment directly instead of calling\n",
      "  warnings.warn(\n",
      "/Users/joerg/python_projects/git_libs/pyiron_workflow/pyiron_workflow/node.py:613: UserWarning: The keyword '_internal' was not found among input labels. If you are trying to update a node keyword, please use attribute assignment directly instead of calling\n",
      "  warnings.warn(\n"
     ]
    },
    {
     "name": "stdout",
     "output_type": "stream",
     "text": [
      "energy:  -0.0480655227588862 -0.0480655227588862\n"
     ]
    },
    {
     "name": "stderr",
     "output_type": "stream",
     "text": [
      "/Users/joerg/python_projects/git_libs/pyiron_workflow/pyiron_workflow/node.py:613: UserWarning: The keyword '_internal' was not found among input labels. If you are trying to update a node keyword, please use attribute assignment directly instead of calling\n",
      "  warnings.warn(\n"
     ]
    },
    {
     "name": "stdout",
     "output_type": "stream",
     "text": [
      "energy:  0.9186046985116931 0.9179414222257574\n",
      "WARNING: 3 imaginary modes exist\n"
     ]
    },
    {
     "name": "stderr",
     "output_type": "stream",
     "text": [
      "/Users/joerg/python_projects/git_libs/pyiron_workflow/pyiron_workflow/node.py:613: UserWarning: The keyword '_internal' was not found among input labels. If you are trying to update a node keyword, please use attribute assignment directly instead of calling\n",
      "  warnings.warn(\n"
     ]
    },
    {
     "name": "stdout",
     "output_type": "stream",
     "text": [
      "energy:  0.9186046985116931 0.9179414222257574\n",
      "WARNING: 3 imaginary modes exist\n",
      "energy:  -0.16222113933213578 -0.16222113933213578\n"
     ]
    },
    {
     "name": "stderr",
     "output_type": "stream",
     "text": [
      "/Users/joerg/python_projects/git_libs/pyiron_workflow/pyiron_workflow/node.py:613: UserWarning: The keyword '_internal' was not found among input labels. If you are trying to update a node keyword, please use attribute assignment directly instead of calling\n",
      "  warnings.warn(\n",
      "/Users/joerg/python_projects/git_libs/pyiron_workflow/pyiron_workflow/node.py:613: UserWarning: The keyword '_internal' was not found among input labels. If you are trying to update a node keyword, please use attribute assignment directly instead of calling\n",
      "  warnings.warn(\n"
     ]
    },
    {
     "name": "stdout",
     "output_type": "stream",
     "text": [
      "energy:  -0.16222113933213578 -0.16222113933213578\n"
     ]
    },
    {
     "name": "stderr",
     "output_type": "stream",
     "text": [
      "/Users/joerg/python_projects/git_libs/pyiron_workflow/pyiron_workflow/node.py:613: UserWarning: The keyword '_internal' was not found among input labels. If you are trying to update a node keyword, please use attribute assignment directly instead of calling\n",
      "  warnings.warn(\n"
     ]
    },
    {
     "name": "stdout",
     "output_type": "stream",
     "text": [
      "energy:  0.8013167095855369 0.7996059979144441\n"
     ]
    },
    {
     "name": "stderr",
     "output_type": "stream",
     "text": [
      "/Users/joerg/python_projects/git_libs/pyiron_workflow/pyiron_workflow/node.py:613: UserWarning: The keyword '_internal' was not found among input labels. If you are trying to update a node keyword, please use attribute assignment directly instead of calling\n",
      "  warnings.warn(\n"
     ]
    },
    {
     "name": "stdout",
     "output_type": "stream",
     "text": [
      "energy:  0.8013167095855369 0.7996059979144441\n",
      "CPU times: user 35.1 s, sys: 1.61 s, total: 36.7 s\n",
      "Wall time: 12.9 s\n"
     ]
    }
   ],
   "source": [
    "%%time\n",
    "df = wf.iter(cell_size=list(range(1,4)), \n",
    "             element=['Al'], \n",
    "             vacancy_index=[None, 0], \n",
    "             displacement=[0.01, 0.1]\n",
    "            ) #, Cu, Pd, Ag, Pt and Au])"
   ]
  },
  {
   "cell_type": "code",
   "execution_count": 17,
   "id": "45d06066-799b-47ec-be5f-9af66be25007",
   "metadata": {},
   "outputs": [
    {
     "data": {
      "text/html": [
       "<div>\n",
       "<style scoped>\n",
       "    .dataframe tbody tr th:only-of-type {\n",
       "        vertical-align: middle;\n",
       "    }\n",
       "\n",
       "    .dataframe tbody tr th {\n",
       "        vertical-align: top;\n",
       "    }\n",
       "\n",
       "    .dataframe thead th {\n",
       "        text-align: right;\n",
       "    }\n",
       "</style>\n",
       "<table border=\"1\" class=\"dataframe\">\n",
       "  <thead>\n",
       "    <tr style=\"text-align: right;\">\n",
       "      <th></th>\n",
       "      <th>cell_size</th>\n",
       "      <th>element</th>\n",
       "      <th>vacancy_index</th>\n",
       "      <th>displacement</th>\n",
       "      <th>_internal</th>\n",
       "      <th>imaginary_modes</th>\n",
       "      <th>total_dos</th>\n",
       "      <th>energy_relaxed</th>\n",
       "      <th>energy_initial</th>\n",
       "      <th>energy_displaced</th>\n",
       "    </tr>\n",
       "  </thead>\n",
       "  <tbody>\n",
       "    <tr>\n",
       "      <th>0</th>\n",
       "      <td>1</td>\n",
       "      <td>Al</td>\n",
       "      <td>NaN</td>\n",
       "      <td>0.01</td>\n",
       "      <td>{'iter_index': [0, 0, 0, 0]}</td>\n",
       "      <td>False</td>\n",
       "      <td>frequency_points  total_dos\n",
       "0            ...</td>\n",
       "      <td>-0.006008</td>\n",
       "      <td>-0.006008</td>\n",
       "      <td>0   -0.005843\n",
       "Name: energy, dtype: float64</td>\n",
       "    </tr>\n",
       "    <tr>\n",
       "      <th>1</th>\n",
       "      <td>1</td>\n",
       "      <td>Al</td>\n",
       "      <td>NaN</td>\n",
       "      <td>0.10</td>\n",
       "      <td>{'iter_index': [0, 0, 0, 1]}</td>\n",
       "      <td>False</td>\n",
       "      <td>frequency_points  total_dos\n",
       "0            ...</td>\n",
       "      <td>-0.006008</td>\n",
       "      <td>-0.006008</td>\n",
       "      <td>0   -0.005843\n",
       "Name: energy, dtype: float64</td>\n",
       "    </tr>\n",
       "    <tr>\n",
       "      <th>2</th>\n",
       "      <td>1</td>\n",
       "      <td>Al</td>\n",
       "      <td>0.0</td>\n",
       "      <td>0.01</td>\n",
       "      <td>{'iter_index': [0, 0, 1, 0]}</td>\n",
       "      <td>True</td>\n",
       "      <td>frequency_points  total_dos\n",
       "0            ...</td>\n",
       "      <td>0.871288</td>\n",
       "      <td>0.871288</td>\n",
       "      <td>0    0.871408\n",
       "Name: energy, dtype: float64</td>\n",
       "    </tr>\n",
       "    <tr>\n",
       "      <th>3</th>\n",
       "      <td>1</td>\n",
       "      <td>Al</td>\n",
       "      <td>0.0</td>\n",
       "      <td>0.10</td>\n",
       "      <td>{'iter_index': [0, 0, 1, 1]}</td>\n",
       "      <td>True</td>\n",
       "      <td>frequency_points  total_dos\n",
       "0            ...</td>\n",
       "      <td>0.871288</td>\n",
       "      <td>0.871288</td>\n",
       "      <td>0    0.871408\n",
       "Name: energy, dtype: float64</td>\n",
       "    </tr>\n",
       "    <tr>\n",
       "      <th>4</th>\n",
       "      <td>2</td>\n",
       "      <td>Al</td>\n",
       "      <td>NaN</td>\n",
       "      <td>0.01</td>\n",
       "      <td>{'iter_index': [1, 0, 0, 0]}</td>\n",
       "      <td>False</td>\n",
       "      <td>frequency_points  total_dos\n",
       "0           -...</td>\n",
       "      <td>-0.048066</td>\n",
       "      <td>-0.048066</td>\n",
       "      <td>0   -0.047905\n",
       "Name: energy, dtype: float64</td>\n",
       "    </tr>\n",
       "    <tr>\n",
       "      <th>5</th>\n",
       "      <td>2</td>\n",
       "      <td>Al</td>\n",
       "      <td>NaN</td>\n",
       "      <td>0.10</td>\n",
       "      <td>{'iter_index': [1, 0, 0, 1]}</td>\n",
       "      <td>False</td>\n",
       "      <td>frequency_points  total_dos\n",
       "0           -...</td>\n",
       "      <td>-0.048066</td>\n",
       "      <td>-0.048066</td>\n",
       "      <td>0   -0.047905\n",
       "Name: energy, dtype: float64</td>\n",
       "    </tr>\n",
       "    <tr>\n",
       "      <th>6</th>\n",
       "      <td>2</td>\n",
       "      <td>Al</td>\n",
       "      <td>0.0</td>\n",
       "      <td>0.01</td>\n",
       "      <td>{'iter_index': [1, 0, 1, 0]}</td>\n",
       "      <td>True</td>\n",
       "      <td>frequency_points  total_dos\n",
       "0           -...</td>\n",
       "      <td>0.918605</td>\n",
       "      <td>0.917941</td>\n",
       "      <td>0    0.918776\n",
       "1    0.918736\n",
       "2    0.918768\n",
       "3   ...</td>\n",
       "    </tr>\n",
       "    <tr>\n",
       "      <th>7</th>\n",
       "      <td>2</td>\n",
       "      <td>Al</td>\n",
       "      <td>0.0</td>\n",
       "      <td>0.10</td>\n",
       "      <td>{'iter_index': [1, 0, 1, 1]}</td>\n",
       "      <td>True</td>\n",
       "      <td>frequency_points  total_dos\n",
       "0           -...</td>\n",
       "      <td>0.918605</td>\n",
       "      <td>0.917941</td>\n",
       "      <td>0    0.918776\n",
       "1    0.918736\n",
       "2    0.918768\n",
       "3   ...</td>\n",
       "    </tr>\n",
       "    <tr>\n",
       "      <th>8</th>\n",
       "      <td>3</td>\n",
       "      <td>Al</td>\n",
       "      <td>NaN</td>\n",
       "      <td>0.01</td>\n",
       "      <td>{'iter_index': [2, 0, 0, 0]}</td>\n",
       "      <td>False</td>\n",
       "      <td>frequency_points  total_dos\n",
       "0           -...</td>\n",
       "      <td>-0.162221</td>\n",
       "      <td>-0.162221</td>\n",
       "      <td>0   -0.162061\n",
       "Name: energy, dtype: float64</td>\n",
       "    </tr>\n",
       "    <tr>\n",
       "      <th>9</th>\n",
       "      <td>3</td>\n",
       "      <td>Al</td>\n",
       "      <td>NaN</td>\n",
       "      <td>0.10</td>\n",
       "      <td>{'iter_index': [2, 0, 0, 1]}</td>\n",
       "      <td>False</td>\n",
       "      <td>frequency_points  total_dos\n",
       "0           -...</td>\n",
       "      <td>-0.162221</td>\n",
       "      <td>-0.162221</td>\n",
       "      <td>0   -0.162061\n",
       "Name: energy, dtype: float64</td>\n",
       "    </tr>\n",
       "    <tr>\n",
       "      <th>10</th>\n",
       "      <td>3</td>\n",
       "      <td>Al</td>\n",
       "      <td>0.0</td>\n",
       "      <td>0.01</td>\n",
       "      <td>{'iter_index': [2, 0, 1, 0]}</td>\n",
       "      <td>False</td>\n",
       "      <td>frequency_points  total_dos\n",
       "0           -...</td>\n",
       "      <td>0.801317</td>\n",
       "      <td>0.799606</td>\n",
       "      <td>0     0.801477\n",
       "1     0.801456\n",
       "2     0.801444\n",
       "3...</td>\n",
       "    </tr>\n",
       "    <tr>\n",
       "      <th>11</th>\n",
       "      <td>3</td>\n",
       "      <td>Al</td>\n",
       "      <td>0.0</td>\n",
       "      <td>0.10</td>\n",
       "      <td>{'iter_index': [2, 0, 1, 1]}</td>\n",
       "      <td>False</td>\n",
       "      <td>frequency_points  total_dos\n",
       "0           -...</td>\n",
       "      <td>0.801317</td>\n",
       "      <td>0.799606</td>\n",
       "      <td>0     0.801477\n",
       "1     0.801456\n",
       "2     0.801444\n",
       "3...</td>\n",
       "    </tr>\n",
       "  </tbody>\n",
       "</table>\n",
       "</div>"
      ],
      "text/plain": [
       "    cell_size element  vacancy_index  displacement  \\\n",
       "0           1      Al            NaN          0.01   \n",
       "1           1      Al            NaN          0.10   \n",
       "2           1      Al            0.0          0.01   \n",
       "3           1      Al            0.0          0.10   \n",
       "4           2      Al            NaN          0.01   \n",
       "5           2      Al            NaN          0.10   \n",
       "6           2      Al            0.0          0.01   \n",
       "7           2      Al            0.0          0.10   \n",
       "8           3      Al            NaN          0.01   \n",
       "9           3      Al            NaN          0.10   \n",
       "10          3      Al            0.0          0.01   \n",
       "11          3      Al            0.0          0.10   \n",
       "\n",
       "                       _internal  imaginary_modes  \\\n",
       "0   {'iter_index': [0, 0, 0, 0]}            False   \n",
       "1   {'iter_index': [0, 0, 0, 1]}            False   \n",
       "2   {'iter_index': [0, 0, 1, 0]}             True   \n",
       "3   {'iter_index': [0, 0, 1, 1]}             True   \n",
       "4   {'iter_index': [1, 0, 0, 0]}            False   \n",
       "5   {'iter_index': [1, 0, 0, 1]}            False   \n",
       "6   {'iter_index': [1, 0, 1, 0]}             True   \n",
       "7   {'iter_index': [1, 0, 1, 1]}             True   \n",
       "8   {'iter_index': [2, 0, 0, 0]}            False   \n",
       "9   {'iter_index': [2, 0, 0, 1]}            False   \n",
       "10  {'iter_index': [2, 0, 1, 0]}            False   \n",
       "11  {'iter_index': [2, 0, 1, 1]}            False   \n",
       "\n",
       "                                            total_dos  energy_relaxed  \\\n",
       "0        frequency_points  total_dos\n",
       "0            ...       -0.006008   \n",
       "1        frequency_points  total_dos\n",
       "0            ...       -0.006008   \n",
       "2        frequency_points  total_dos\n",
       "0            ...        0.871288   \n",
       "3        frequency_points  total_dos\n",
       "0            ...        0.871288   \n",
       "4        frequency_points  total_dos\n",
       "0           -...       -0.048066   \n",
       "5        frequency_points  total_dos\n",
       "0           -...       -0.048066   \n",
       "6        frequency_points  total_dos\n",
       "0           -...        0.918605   \n",
       "7        frequency_points  total_dos\n",
       "0           -...        0.918605   \n",
       "8        frequency_points  total_dos\n",
       "0           -...       -0.162221   \n",
       "9        frequency_points  total_dos\n",
       "0           -...       -0.162221   \n",
       "10       frequency_points  total_dos\n",
       "0           -...        0.801317   \n",
       "11       frequency_points  total_dos\n",
       "0           -...        0.801317   \n",
       "\n",
       "    energy_initial                                   energy_displaced  \n",
       "0        -0.006008         0   -0.005843\n",
       "Name: energy, dtype: float64  \n",
       "1        -0.006008         0   -0.005843\n",
       "Name: energy, dtype: float64  \n",
       "2         0.871288         0    0.871408\n",
       "Name: energy, dtype: float64  \n",
       "3         0.871288         0    0.871408\n",
       "Name: energy, dtype: float64  \n",
       "4        -0.048066         0   -0.047905\n",
       "Name: energy, dtype: float64  \n",
       "5        -0.048066         0   -0.047905\n",
       "Name: energy, dtype: float64  \n",
       "6         0.917941  0    0.918776\n",
       "1    0.918736\n",
       "2    0.918768\n",
       "3   ...  \n",
       "7         0.917941  0    0.918776\n",
       "1    0.918736\n",
       "2    0.918768\n",
       "3   ...  \n",
       "8        -0.162221         0   -0.162061\n",
       "Name: energy, dtype: float64  \n",
       "9        -0.162221         0   -0.162061\n",
       "Name: energy, dtype: float64  \n",
       "10        0.799606  0     0.801477\n",
       "1     0.801456\n",
       "2     0.801444\n",
       "3...  \n",
       "11        0.799606  0     0.801477\n",
       "1     0.801456\n",
       "2     0.801444\n",
       "3...  "
      ]
     },
     "execution_count": 17,
     "metadata": {},
     "output_type": "execute_result"
    }
   ],
   "source": [
    "df"
   ]
  },
  {
   "cell_type": "code",
   "execution_count": null,
   "id": "e44175b7-d18c-4779-a6bf-f964ce51df3f",
   "metadata": {},
   "outputs": [],
   "source": [
    "xx"
   ]
  },
  {
   "cell_type": "markdown",
   "id": "b319c1d1-fb45-41b5-ab93-b4fbfe5f9006",
   "metadata": {},
   "source": [
    "### Pseudocode for output class"
   ]
  },
  {
   "cell_type": "code",
   "execution_count": null,
   "id": "39fa01fa-9ae8-4437-98d8-6b04a8a826b1",
   "metadata": {},
   "outputs": [],
   "source": [
    "from typing import Optional, Union\n",
    "from typing import Callable, TypeVar, Any, TypeAlias\n",
    "from dataclasses import dataclass\n",
    "\n",
    "import numpy as np"
   ]
  },
  {
   "cell_type": "code",
   "execution_count": null,
   "id": "84e1a9ad-d324-4a75-88a5-f8b45ed7a0d7",
   "metadata": {},
   "outputs": [],
   "source": [
    "@dataclass\n",
    "class VarFunc:\n",
    "    func: Callable = None\n",
    "    log_level: int = 0\n",
    "    unit: str = ''"
   ]
  },
  {
   "cell_type": "code",
   "execution_count": null,
   "id": "a20e229c-0bf1-4d39-bd71-2929c12718f3",
   "metadata": {},
   "outputs": [],
   "source": [
    "@dataclass\n",
    "class VarType:\n",
    "    property: TypeVar = None\n",
    "    log_level: int = 0\n",
    "    unit: str = ''"
   ]
  },
  {
   "cell_type": "code",
   "execution_count": null,
   "id": "4a4f1794-05e8-4dd7-ad26-55b51f261699",
   "metadata": {},
   "outputs": [],
   "source": [
    "VarFunc(func=np.sin, log_level=2).func"
   ]
  },
  {
   "cell_type": "code",
   "execution_count": null,
   "id": "fb62cfa1-3320-4d74-9e57-0ec10a55f796",
   "metadata": {},
   "outputs": [],
   "source": [
    "class toy_job:\n",
    "    def __init__(self, x=0):\n",
    "        self.x = x\n",
    "\n",
    "    def get_energy(self):\n",
    "        return np.sin(self.x)\n",
    "\n",
    "    def get_forces(self):\n",
    "        return np.ones(3)\n",
    "\n",
    "    @property\n",
    "    def my_x(self):\n",
    "        return self.x"
   ]
  },
  {
   "cell_type": "code",
   "execution_count": null,
   "id": "50330980-ea4d-4f40-88ee-dd752863201a",
   "metadata": {},
   "outputs": [],
   "source": [
    "job = toy_job(1)\n",
    "job.get_energy(), job.get_forces()"
   ]
  },
  {
   "cell_type": "code",
   "execution_count": null,
   "id": "8b242761-5c56-4f9d-a08d-1d335b15e46d",
   "metadata": {},
   "outputs": [],
   "source": [
    "@dataclass\n",
    "class wfOutput:\n",
    "    pass\n",
    "\n",
    "    def keys(self):\n",
    "        return self.__dict__.keys()\n",
    "\n",
    "    def __getitem__(self, key):\n",
    "        return self.__dict__[key]    \n",
    "\n",
    "    def __call__(self, job):\n",
    "        out_dict = dict()\n",
    "        for key in self.keys():\n",
    "            print (key)\n",
    "            v = self[key]\n",
    "            if isinstance(v, VarFunc):\n",
    "                out_dict[key] = job.__getattribute(job)()\n",
    "                \n",
    "        return out_dict       "
   ]
  },
  {
   "cell_type": "code",
   "execution_count": null,
   "id": "23c08913-e716-4638-a049-5e6c0bf508e8",
   "metadata": {},
   "outputs": [],
   "source": []
  },
  {
   "cell_type": "code",
   "execution_count": null,
   "id": "6558e0f8-b2a3-488e-988f-66ac0f5fded8",
   "metadata": {},
   "outputs": [],
   "source": [
    "import pint\n",
    "ureg = pint.UnitRegistry()\n",
    "ureg.angstrom"
   ]
  },
  {
   "cell_type": "code",
   "execution_count": null,
   "id": "c5b312fd-6dd2-45a5-8c6e-ef4d9a6a9b97",
   "metadata": {},
   "outputs": [],
   "source": [
    "# import ase\n",
    "import pint\n",
    "\n",
    "@dataclass\n",
    "class OutputEnergyStatic:\n",
    "    distance: float = 0.01\n",
    "    energy: VarFunc = VarFunc(func=toy_job.get_energy, log_level=0, unit=ureg.eV)\n",
    "    forces: VarFunc = VarFunc(func=toy_job.get_forces, log_level=1, unit=ureg.eV/ureg.angstrom)\n",
    "    prop: VarType = VarType(toy_job.my_x, log_level=2)\n",
    "\n",
    "    def keys(self):\n",
    "        return self.__dict__.keys()\n",
    "\n",
    "    def __getitem__(self, key):\n",
    "        return self.__dict__[key]    \n",
    "\n",
    "    def __call__(self, job):\n",
    "        out_dict = dict()\n",
    "        for key in self.keys():\n",
    "            print (key)\n",
    "            v = self[key]\n",
    "            if isinstance(v, VarFunc):\n",
    "                out_dict[key] = job.__getattribute(job)()\n",
    "                \n",
    "        return out_dict "
   ]
  },
  {
   "cell_type": "code",
   "execution_count": null,
   "id": "95bb53c2-239e-432b-9ff0-782e83b57a1a",
   "metadata": {},
   "outputs": [],
   "source": [
    "output = OutputEnergyStatic()\n",
    "output.__dict__"
   ]
  },
  {
   "cell_type": "code",
   "execution_count": null,
   "id": "7738c87b-52f7-40cc-8444-4a3a6ab55117",
   "metadata": {},
   "outputs": [],
   "source": [
    "def calc_static(atoms, output=OutputEnergyStatic()):\n",
    "    atoms.calc = EMT()\n",
    "\n",
    "\n",
    "    output['energy'] = atoms.get_energy()\n",
    "    \n",
    "    return output(atoms)"
   ]
  },
  {
   "cell_type": "code",
   "execution_count": null,
   "id": "87d05e01-70cc-4fc7-a7ca-bf46996dc259",
   "metadata": {},
   "outputs": [],
   "source": [
    "def calc_static(atoms, output=wfOutput()):\n",
    "    atoms.calc = EMT()\n",
    "\n",
    "    output = dict()\n",
    "    output['energy'] = atoms.get_energy()\n",
    "    \n",
    "    return output"
   ]
  },
  {
   "cell_type": "code",
   "execution_count": null,
   "id": "4ea4f8f8-beb7-47b5-a832-07c5ecfcab44",
   "metadata": {},
   "outputs": [],
   "source": [
    "def calc_static(atoms):\n",
    "    atoms.calc = EMT()\n",
    "\n",
    "    output = wfOutput()\n",
    "    output['energy'] = atoms.get_energy()\n",
    "    \n",
    "    return output"
   ]
  },
  {
   "cell_type": "code",
   "execution_count": null,
   "id": "134a3b7b-bf78-4e57-86d3-de06316ac9f9",
   "metadata": {},
   "outputs": [],
   "source": [
    "wf.output = wf.create.calc_static.output(keys='energy')\n",
    "wf.calc = wf.create.calc_static(output=wf.output)"
   ]
  },
  {
   "cell_type": "code",
   "execution_count": null,
   "id": "40323f9b-25ae-4d30-b105-964d086f1e9c",
   "metadata": {},
   "outputs": [],
   "source": [
    "xx"
   ]
  },
  {
   "cell_type": "code",
   "execution_count": null,
   "id": "cef22996-86fd-4ed8-88e3-253a5a4ff063",
   "metadata": {},
   "outputs": [],
   "source": [
    "%%time\n",
    "df = wf.iter(cell_size=list(range(1,4)), element=['Al'], vacancy_index=[None, 0], displacement=[0.01, 0.1]) #, Cu, Pd, Ag, Pt and Au])"
   ]
  },
  {
   "cell_type": "code",
   "execution_count": null,
   "id": "15426796-970d-467a-95b3-816f1067add0",
   "metadata": {},
   "outputs": [],
   "source": [
    "df"
   ]
  },
  {
   "cell_type": "code",
   "execution_count": null,
   "id": "89abfc53-4a70-4640-a34e-2825692ba8a6",
   "metadata": {},
   "outputs": [],
   "source": [
    "df.energy_displaced"
   ]
  },
  {
   "cell_type": "code",
   "execution_count": null,
   "id": "3afaf54a-0c9c-4122-a518-49a99fb15cca",
   "metadata": {},
   "outputs": [],
   "source": [
    "xx"
   ]
  },
  {
   "cell_type": "code",
   "execution_count": null,
   "id": "433a9132-1c0f-4807-b160-5f4e18a44399",
   "metadata": {},
   "outputs": [],
   "source": [
    "@single_value_node()\n",
    "def calc_static(atoms=None, engine=None): \n",
    "    print ('atoms: ', atoms)\n",
    "    if engine is None:\n",
    "        from ase.calculators.emt import EMT\n",
    "        calculator = EMT() \n",
    "\n",
    "    atoms.calc = calculator\n",
    "\n",
    "    out = {}\n",
    "    # out['structure'] = atoms # not needed since identical to input\n",
    "    out['forces'] = atoms.get_forces()\n",
    "    out['energy'] = atoms.get_potential_energy()\n",
    "  \n",
    "    return out    "
   ]
  },
  {
   "cell_type": "code",
   "execution_count": null,
   "id": "39a81234-00e5-4042-a2fc-3f882571b90f",
   "metadata": {},
   "outputs": [],
   "source": [
    "#@single_value_node()\n",
    "def generate_supercells(phonopy):\n",
    "    from structuretoolkit.common import phonopy_to_atoms\n",
    "    \n",
    "    phonopy.generate_displacements()  \n",
    "\n",
    "    supercells = [phonopy_to_atoms(s) for s in phonopy.supercells_with_displacements]\n",
    "    return supercells"
   ]
  },
  {
   "cell_type": "code",
   "execution_count": null,
   "id": "d6ce6272-c3d7-45de-b02c-85c90970cec2",
   "metadata": {},
   "outputs": [],
   "source": [
    "@single_value_node()\n",
    "def iter(node, qwargs):\n",
    "    out = node.iter(**qwargs)\n",
    "    return out"
   ]
  },
  {
   "cell_type": "markdown",
   "id": "d8e95905-0919-4d97-90c4-9a084c3a9e40",
   "metadata": {},
   "source": [
    "wf = Workflow('phonopy')\n",
    "wf.structure = wf.create.pyiron_atomistics.Bulk('Al', cubic=True)\n",
    "wf.supercell = wf.create.lammps.Repeat(structure = wf.structure, repeat_scalar=2)\n",
    "wf.supercells = generate_supercells(structure=wf.supercell)\n",
    "wf.calc = calc_static() \n",
    "\n",
    "*TODO: allowing to use nodes as input arguments in workflows is crucial but not (yet) available*\n",
    "wf.df = iter(node=wf.calc, qwargs={'atoms': wf.supercells}) "
   ]
  },
  {
   "cell_type": "code",
   "execution_count": null,
   "id": "e1b5415b-7afa-4876-b66b-08ad5ce426c1",
   "metadata": {},
   "outputs": [],
   "source": [
    "@single_value_node()\n",
    "def create_vacancy(structure, index: int|None = 0):\n",
    "    structure = structure.copy()\n",
    "    if index is not None:\n",
    "        del structure[index]\n",
    "    \n",
    "    return structure   "
   ]
  },
  {
   "cell_type": "code",
   "execution_count": null,
   "id": "ff51e5db-311a-4728-9652-5c8c8b09e0a4",
   "metadata": {},
   "outputs": [],
   "source": [
    "@Workflow.wrap_as.macro_node(\"structure\")\n",
    "def CubicBulkCell(wf, element: str, cell_size: int = 1, vacancy_index: int|None = None):\n",
    "    wf.structure = wf.create.pyiron_atomistics.Bulk(\n",
    "        name=element, cubic=True\n",
    "    )\n",
    "    wf.cell = wf.create.lammps.Repeat(structure = wf.structure, repeat_scalar=cell_size)\n",
    "\n",
    "    wf.cell_with_vacancies = create_vacancy(structure=wf.cell, index=vacancy_index)\n",
    "    return wf.cell_with_vacancies #.outputs.structure"
   ]
  },
  {
   "cell_type": "code",
   "execution_count": null,
   "id": "c0aa9a54-055a-4d5e-9721-184761d57a5d",
   "metadata": {},
   "outputs": [],
   "source": [
    "# The following function should be defined as a workflow macro (presently not possible)\n",
    "\n",
    "@single_value_node()\n",
    "def create_phonopy(structure, calculator=None, executor=None):\n",
    "    from phonopy import Phonopy\n",
    "    from structuretoolkit.common import atoms_to_phonopy\n",
    "    \n",
    "    phonopy = Phonopy(unitcell=atoms_to_phonopy(structure))  \n",
    "    \n",
    "    cells = generate_supercells(phonopy)# .run()\n",
    "    gs = calc_static() \n",
    "    df = gs.iter(atoms=cells, executor=executor)\n",
    "    phonopy.forces = df.forces\n",
    "    \n",
    "    return phonopy"
   ]
  },
  {
   "cell_type": "code",
   "execution_count": null,
   "id": "3bd77b45-5947-485b-84f0-bee0598470e2",
   "metadata": {},
   "outputs": [],
   "source": [
    "import numpy as np\n",
    "\n",
    "structure = CubicBulkCell(element='Al', cell_size=2, vacancy_index=0).run().structure\n",
    "phonopy = create_phonopy(structure).run()\n"
   ]
  },
  {
   "cell_type": "raw",
   "id": "7d0fcfa9-9028-46fd-a317-57b462891dff",
   "metadata": {},
   "source": [
    "import cloudpickle as pickle\n",
    "\n",
    "pic = pickle.dumps(gs)\n",
    "\n",
    "gs_new = pickle.loads(pic)\n",
    "gs_new(atoms=cells[0]);"
   ]
  },
  {
   "cell_type": "code",
   "execution_count": null,
   "id": "c1b551b0-9861-459e-81e5-ab58bb11c623",
   "metadata": {},
   "outputs": [],
   "source": []
  },
  {
   "cell_type": "code",
   "execution_count": null,
   "id": "0e9dd9ce-43ae-47f6-9719-ddbdebc1aca7",
   "metadata": {},
   "outputs": [],
   "source": [
    "# @single_value_node()\n",
    "# def create_phonopy(structure, calculator=None):\n",
    "#     from phonopy import Phonopy\n",
    "#     # from phonopy.structure.atoms import PhonopyAtoms\n",
    "#     from structuretoolkit.common import phonopy_to_atoms, atoms_to_phonopy\n",
    "\n",
    "#     if calculator is None:\n",
    "#         from ase.calculators.emt import EMT\n",
    "#         calculator = EMT()\n",
    "    \n",
    "#     phonopy = Phonopy(unitcell=atoms_to_phonopy(structure))  \n",
    "#     phonopy.generate_displacements()\n",
    "#     structures, forces, energies = [], [], []\n",
    "\n",
    "#     for s in phonopy.supercells_with_displacements:\n",
    "#         atoms = phonopy_to_atoms(s)\n",
    "#         atoms.calc = calculator\n",
    "#         structures.append(atoms)\n",
    "#         forces.append(atoms.get_forces())\n",
    "#         energies.append(atoms.get_potential_energy())\n",
    "#     phonopy.forces = forces\n",
    "    \n",
    "#     return phonopy"
   ]
  },
  {
   "cell_type": "code",
   "execution_count": null,
   "id": "74d17dd1-25f8-48bb-be0f-4d0dcd6729c5",
   "metadata": {},
   "outputs": [],
   "source": [
    "@single_value_node()\n",
    "def get_dynamical_matrix(phonopy, q=[0,0,0]):\n",
    "    import numpy as np\n",
    "    \n",
    "    if phonopy.dynamical_matrix is None:\n",
    "        phonopy.produce_force_constants()\n",
    "        phonopy.dynamical_matrix.run(q=q)\n",
    "    dynamical_matrix = np.real_if_close(phonopy.dynamical_matrix.dynamical_matrix)\n",
    "    # print (dynamical_matrix)\n",
    "    return dynamical_matrix"
   ]
  },
  {
   "cell_type": "code",
   "execution_count": null,
   "id": "b6c1cb61-f58c-47e1-8cc5-1a76b60b7bb1",
   "metadata": {},
   "outputs": [],
   "source": [
    "@single_value_node()\n",
    "def get_eigenvalues(matrix):\n",
    "    import numpy as np\n",
    "    \n",
    "    ew = np.linalg.eigvalsh(matrix)\n",
    "    return ew"
   ]
  },
  {
   "cell_type": "code",
   "execution_count": null,
   "id": "b3f68f26-d269-4c6a-b78a-964875e68ad7",
   "metadata": {},
   "outputs": [],
   "source": [
    "@single_value_node()\n",
    "def check_consistency(phonopy, tolerance=1e-10):\n",
    "    dyn_matrix = get_dynamical_matrix(phonopy).run()\n",
    "    ew = get_eigenvalues(dyn_matrix).run()\n",
    "    # print ('ew: ', ew)\n",
    "    ew_lt_zero = ew[ew < -tolerance]\n",
    "    if len(ew_lt_zero) > 0:\n",
    "        print (f'WARNING: {len(ew_lt_zero)} imaginary modes exist')\n",
    "        has_imaginary_modes = True\n",
    "    has_imaginary_modes = False \n",
    "    print ('alles ok')\n",
    "    return has_imaginary_modes        "
   ]
  },
  {
   "cell_type": "code",
   "execution_count": null,
   "id": "98e7b240-df0c-49c1-ad8d-4897eae57f77",
   "metadata": {},
   "outputs": [],
   "source": [
    "@single_value_node()\n",
    "def get_total_dos(phonopy, mesh=3*[10]):\n",
    "    from pandas import DataFrame\n",
    "    \n",
    "    phonopy.produce_force_constants()\n",
    "    phonopy.run_mesh(mesh=mesh)\n",
    "    phonopy.run_total_dos()\n",
    "    total_dos = DataFrame(phonopy.get_total_dos_dict())\n",
    "    return total_dos"
   ]
  },
  {
   "cell_type": "code",
   "execution_count": null,
   "id": "6eb2c29f-9fe7-4240-ad0b-7210fd9346fb",
   "metadata": {},
   "outputs": [],
   "source": [
    "wf = Workflow('phonopy')\n",
    "\n",
    "wf.structure = CubicBulkCell(element='Al', cell_size=2, vacancy_index=None)\n",
    "wf.phonopy = create_phonopy(structure=wf.structure.outputs.structure)  # explicit output needed since macro and not single_value_node (we should have also a sinle_value_macro)\n",
    "#wf.dynamical_matrix = get_dynamical_matrix(phonopy=wf.phonopy)\n",
    "wf.check_consistency = check_consistency(phonopy=wf.phonopy)\n",
    "wf.total_dos = get_total_dos(phonopy=wf.phonopy)\n",
    "\n",
    "wf.inputs_map = {'structure__cell_size': 'cell_size', 'structure__element': 'element'}\n",
    "wf.outputs_map = {'total_dos__total_dos': 'total_dos', \n",
    "                  'check_consistency__has_imaginary_modes': 'imaginary_modes'\n",
    "                 }"
   ]
  },
  {
   "cell_type": "code",
   "execution_count": null,
   "id": "ed8b5cac-fbbe-4c1a-9a29-3dd8f15ac8b4",
   "metadata": {},
   "outputs": [],
   "source": [
    "wf.draw();"
   ]
  },
  {
   "cell_type": "code",
   "execution_count": null,
   "id": "fe906b02-c363-4e4b-afed-1042c3ed6407",
   "metadata": {},
   "outputs": [],
   "source": [
    "%%time\n",
    "df = wf.iter(cell_size=list(range(1,3)), element=['Al', 'Ni']) #, Cu, Pd, Ag, Pt and Au])"
   ]
  },
  {
   "cell_type": "code",
   "execution_count": null,
   "id": "61459e44-99d7-4a9f-8aff-6cf0102aa7c3",
   "metadata": {},
   "outputs": [],
   "source": [
    "df"
   ]
  },
  {
   "cell_type": "code",
   "execution_count": null,
   "id": "07e6bc72-642e-4b0b-8034-ecc148cbf48b",
   "metadata": {},
   "outputs": [],
   "source": [
    "xx"
   ]
  },
  {
   "cell_type": "code",
   "execution_count": null,
   "id": "eca43535-efa6-40d8-b66a-a2c4070cd83f",
   "metadata": {},
   "outputs": [],
   "source": [
    "import matplotlib.pylab as plt\n",
    "\n",
    "for n in range(2, 5):\n",
    "    out = wf(supercell__repeat_scalar=n)\n",
    "    df = out.total_dos #__total_dos\n",
    "    n_atoms = len(wf.structure.outputs.structure.value)\n",
    "    plt.plot(df.frequency_points, df.total_dos.values/n**3, label=(4*n**3, n_atoms))\n",
    "plt.title('Phonon DOS')\n",
    "plt.legend();"
   ]
  },
  {
   "cell_type": "raw",
   "id": "da385369-b7f2-4f93-b3d9-0f8b2187d00e",
   "metadata": {},
   "source": [
    "%%time\n",
    "phonopy.run_mesh(mesh=3*[20])\n",
    "phonopy.run_total_dos()\n",
    "phonopy.run_thermal_properties()\n",
    "# phonopy.run_band_structure()\n",
    "\n",
    "phonopy.plot_thermal_properties();"
   ]
  },
  {
   "cell_type": "code",
   "execution_count": null,
   "id": "10673a48-c9d9-42ad-a60c-a916fabd77e9",
   "metadata": {},
   "outputs": [],
   "source": []
  },
  {
   "cell_type": "code",
   "execution_count": null,
   "id": "ac68a073-34c0-430a-b54e-6c73c2c6a678",
   "metadata": {},
   "outputs": [],
   "source": [
    "%%time\n",
    "import numpy as np\n",
    "from pympipool import Executor\n",
    "\n",
    "\n",
    "\n",
    "def calc(i, j, k):\n",
    "    from mpi4py import MPI\n",
    "    import time\n",
    "    \n",
    "    time.sleep(1)\n",
    "    size = MPI.COMM_WORLD.Get_size()\n",
    "    rank = MPI.COMM_WORLD.Get_rank()\n",
    "    return np.array([i+rank, j, k]), size, rank\n",
    "\n",
    "cores = 2\n",
    "with Executor(cores_per_worker=cores, max_workers=1) as p:\n",
    "    for i in range(0, 8, cores):\n",
    "        fs = p.submit(calc, i, j=55, k=10)\n",
    "        print(fs.result())"
   ]
  },
  {
   "cell_type": "code",
   "execution_count": null,
   "id": "da5c0b92-52b2-4fb1-a8b8-a339eede1d09",
   "metadata": {},
   "outputs": [],
   "source": [
    "%%time\n",
    "from pympipool import Executor\n",
    "\n",
    "def iter(func, max_workers=1, cores_per_worker=1, **kwargs):\n",
    "    key = list(kwargs.keys())[0]\n",
    "    val = kwargs[key]\n",
    "    \n",
    "    with Executor(cores_per_worker=cores_per_worker, max_workers=max_workers) as p:\n",
    "        iter_dict = {'kwargs': kwargs}\n",
    "        for i, n in enumerate(val):\n",
    "            fs = p.submit(wf, **{key: n})\n",
    "            iter_dict[i] = fs.result()\n",
    "    return iter_dict        \n",
    "\n",
    "out = iter(wf, supercell__repeat_scalar=list(range(1,3)))"
   ]
  },
  {
   "cell_type": "code",
   "execution_count": null,
   "id": "e3d6a844-3068-4fdb-b187-4ba60b92f2a6",
   "metadata": {},
   "outputs": [],
   "source": [
    "%%time\n",
    "from pympipool import Executor\n",
    "\n",
    "def iter(func, max_workers=1, cores_per_worker=1, **kwargs):\n",
    "    # Get the keys and lists from kwargs\n",
    "    keys = list(kwargs.keys())\n",
    "    lists = list(kwargs.values())\n",
    "\n",
    "    # Get the number of dimensions\n",
    "    num_dimensions = len(keys)\n",
    "\n",
    "    # Get the length of each list\n",
    "    lengths = [len(lst) for lst in lists]\n",
    "\n",
    "    # Initialize indices\n",
    "    indices = [0] * num_dimensions\n",
    "\n",
    "    with Executor(cores_per_worker=cores_per_worker, max_workers=max_workers) as p:\n",
    "        #iter_dict = {'kwargs': kwargs}\n",
    "        iter_dict = {}\n",
    "        \n",
    "        # Create an empty DataFrame to store the results\n",
    "        df_result = pd.DataFrame(columns=keys)\n",
    "    \n",
    "        # Perform multidimensional for loop\n",
    "        count = 0\n",
    "        while indices[0] < lengths[0]:\n",
    "            # Access the current elements using indices\n",
    "            current_elements = [lists[i][indices[i]] for i in range(num_dimensions)]\n",
    "    \n",
    "            # Add current_elements as a dictionary\n",
    "            current_elements_kwarg = dict(zip(keys, current_elements))\n",
    "            fs = p.submit(wf, **current_elements_kwarg)\n",
    "            out = fs.result()\n",
    "            iter_dict[count] = out\n",
    "            count += 1\n",
    "\n",
    "            for k, v in out.items():\n",
    "                current_elements_kwarg[k] = v\n",
    "                \n",
    "            # Append the current_elements_kwarg to the DataFrame\n",
    "            df_result = pd.concat([df_result, pd.DataFrame([current_elements_kwarg])], ignore_index=True)\n",
    "    \n",
    "            # Process the current elements (you can modify this part according to your needs)\n",
    "            #print(f\"Current Elements: {current_elements_kwarg}\")\n",
    "    \n",
    "            # Update indices for the next iteration\n",
    "            indices[num_dimensions - 1] += 1\n",
    "    \n",
    "            # Update indices and carry-over if needed\n",
    "            for i in range(num_dimensions - 1, 0, -1):\n",
    "                if indices[i] == lengths[i]:\n",
    "                    indices[i] = 0\n",
    "                    indices[i - 1] += 1\n",
    "    return df_result        \n",
    "       \n",
    "df = iter(wf, cell_size=list(range(1,3)))"
   ]
  },
  {
   "cell_type": "code",
   "execution_count": null,
   "id": "fbcc742c-4237-4955-9394-ff2645f973e2",
   "metadata": {},
   "outputs": [],
   "source": [
    "%%time\n",
    "df.to_hdf('test.h5', 'table')"
   ]
  },
  {
   "cell_type": "code",
   "execution_count": null,
   "id": "7fdeaa21-589a-435a-a980-ff55fd87f922",
   "metadata": {},
   "outputs": [],
   "source": [
    "df.total_dos.values[1].plot();"
   ]
  },
  {
   "cell_type": "code",
   "execution_count": null,
   "id": "47bfdea5-7aaf-4884-9287-0c63153a7c73",
   "metadata": {},
   "outputs": [],
   "source": [
    "out[1]['total_dos'].plot(x='frequency_points');"
   ]
  },
  {
   "cell_type": "code",
   "execution_count": null,
   "id": "23a5163c-5a43-444d-bbdf-8c4a157e8640",
   "metadata": {},
   "outputs": [],
   "source": [
    "def multidimensional_for_loop(**kwargs):\n",
    "    # Get the keys and lists from kwargs\n",
    "    keys = list(kwargs.keys())\n",
    "    lists = list(kwargs.values())\n",
    "\n",
    "    # Get the number of dimensions\n",
    "    num_dimensions = len(keys)\n",
    "\n",
    "    # Get the length of each list\n",
    "    lengths = [len(lst) for lst in lists]\n",
    "\n",
    "    # Initialize indices\n",
    "    indices = [0] * num_dimensions\n",
    "\n",
    "    # Perform multidimensional for loop\n",
    "    while indices[0] < lengths[0]:\n",
    "        # Access the current elements using indices\n",
    "        current_elements = [lists[i][indices[i]] for i in range(num_dimensions)]\n",
    "\n",
    "        # Process the current elements (you can modify this part according to your needs)\n",
    "        print(f\"Current Elements: {current_elements}\")\n",
    "\n",
    "        # Update indices for the next iteration\n",
    "        indices[num_dimensions - 1] += 1\n",
    "\n",
    "        # Update indices and carry-over if needed\n",
    "        for i in range(num_dimensions - 1, 0, -1):\n",
    "            if indices[i] == lengths[i]:\n",
    "                indices[i] = 0\n",
    "                indices[i - 1] += 1\n",
    "\n",
    "    # You can add additional processing or return values as needed\n",
    "\n",
    "# Example usage\n",
    "list1 = [1, 2]\n",
    "list2 = ['a', 'b', 'c']\n",
    "list3 = [True, False]\n",
    "\n",
    "multidimensional_for_loop(arg1=list1, arg2=list2, arg3=list3)"
   ]
  },
  {
   "cell_type": "code",
   "execution_count": null,
   "id": "af8a7ab4-3dcd-4d61-af40-67747dd342d7",
   "metadata": {},
   "outputs": [],
   "source": [
    "def multidimensional_for_loop(**kwargs):\n",
    "    # Get the keys and lists from kwargs\n",
    "    keys = list(kwargs.keys())\n",
    "    lists = list(kwargs.values())\n",
    "\n",
    "    # Get the number of dimensions\n",
    "    num_dimensions = len(keys)\n",
    "\n",
    "    # Get the length of each list\n",
    "    lengths = [len(lst) for lst in lists]\n",
    "\n",
    "    # Initialize indices\n",
    "    indices = [0] * num_dimensions\n",
    "\n",
    "    # Perform multidimensional for loop\n",
    "    while indices[0] < lengths[0]:\n",
    "        # Access the current elements using indices\n",
    "        current_elements = [lists[i][indices[i]] for i in range(num_dimensions)]\n",
    "\n",
    "        # Add current_elements as a keyword argument\n",
    "        current_elements_kwarg = dict(zip(keys, current_elements))\n",
    "        kwargs.update({'current_elements': current_elements_kwarg})\n",
    "\n",
    "        # Process the current elements (you can modify this part according to your needs)\n",
    "        print(f\"Current Elements: {current_elements_kwarg}\")\n",
    "\n",
    "        # Update indices for the next iteration\n",
    "        indices[num_dimensions - 1] += 1\n",
    "\n",
    "        # Update indices and carry-over if needed\n",
    "        for i in range(num_dimensions - 1, 0, -1):\n",
    "            if indices[i] == lengths[i]:\n",
    "                indices[i] = 0\n",
    "                indices[i - 1] += 1\n",
    "\n",
    "    # You can add additional processing or return values as needed\n",
    "\n",
    "# Example usage\n",
    "list1 = [1, 2]\n",
    "list2 = ['a', 'b', 'c']\n",
    "list3 = [True, False]"
   ]
  },
  {
   "cell_type": "code",
   "execution_count": null,
   "id": "76e123ca-e3eb-4e61-af9b-215a932c5dc9",
   "metadata": {},
   "outputs": [],
   "source": [
    "multidimensional_for_loop(a=list1, b=list2, c=list3)"
   ]
  },
  {
   "cell_type": "code",
   "execution_count": null,
   "id": "70b1875e-d4d8-479b-ab22-6028f936284f",
   "metadata": {},
   "outputs": [],
   "source": [
    "import pandas as pd\n",
    "\n",
    "def multidimensional_for_loop(**kwargs):\n",
    "    # Get the keys and lists from kwargs\n",
    "    keys = list(kwargs.keys())\n",
    "    lists = list(kwargs.values())\n",
    "\n",
    "    # Get the number of dimensions\n",
    "    num_dimensions = len(keys)\n",
    "\n",
    "    # Get the length of each list\n",
    "    lengths = [len(lst) for lst in lists]\n",
    "\n",
    "    # Initialize indices\n",
    "    indices = [0] * num_dimensions\n",
    "\n",
    "    # Create an empty DataFrame to store the results\n",
    "    df_result = pd.DataFrame(columns=keys)\n",
    "\n",
    "    # Perform multidimensional for loop\n",
    "    while indices[0] < lengths[0]:\n",
    "        # Access the current elements using indices\n",
    "        current_elements = [lists[i][indices[i]] for i in range(num_dimensions)]\n",
    "\n",
    "        # Add current_elements as a dictionary\n",
    "        current_elements_kwarg = dict(zip(keys, current_elements))\n",
    "\n",
    "        # Append the current_elements_kwarg to the DataFrame\n",
    "        df_result = pd.concat([df_result, pd.DataFrame([current_elements_kwarg])], ignore_index=True)\n",
    "\n",
    "        # Process the current elements (you can modify this part according to your needs)\n",
    "        print(f\"Current Elements: {current_elements_kwarg}\")\n",
    "\n",
    "        # Update indices for the next iteration\n",
    "        indices[num_dimensions - 1] += 1\n",
    "\n",
    "        # Update indices and carry-over if needed\n",
    "        for i in range(num_dimensions - 1, 0, -1):\n",
    "            if indices[i] == lengths[i]:\n",
    "                indices[i] = 0\n",
    "                indices[i - 1] += 1\n",
    "\n",
    "    # You now have a DataFrame containing the results\n",
    "    print(\"DataFrame Result:\")\n",
    "    print(df_result)\n",
    "\n",
    "    # You can add additional processing or return values as needed\n",
    "\n",
    "# Example usage\n",
    "list1 = [1, 2]\n",
    "list2 = ['a', 'b', 'c']\n",
    "list3 = [True, False]\n",
    "\n",
    "multidimensional_for_loop(a=list1, b=list2, arg3=list3)"
   ]
  },
  {
   "cell_type": "code",
   "execution_count": null,
   "id": "7c022bd0-b0aa-4b6e-acaa-106db4522893",
   "metadata": {},
   "outputs": [],
   "source": [
    "from dataclasses import dataclass\n",
    "from typing import Optional, Union\n",
    "\n",
    "@dataclass\n",
    "class InputPhonopyGenerateSupercells:\n",
    "    distance: float = 0.01\n",
    "    is_plusminus: Union[str, bool] = \"auto\"\n",
    "    is_diagonal: bool = True\n",
    "    is_trigonal: bool = False\n",
    "    number_of_snapshots: Optional[int] = None\n",
    "    random_seed: Optional[int] = None\n",
    "    temperature: Optional[float] = None\n",
    "    cutoff_frequency: Optional[float] = None\n",
    "    max_distance: Optional[float] = None\n",
    "\n",
    "    def keys(self):\n",
    "        return self.__dict__.keys()\n",
    "        \n",
    "    def __getitem__(self, key):\n",
    "        return self.__dict__[key]"
   ]
  },
  {
   "cell_type": "code",
   "execution_count": null,
   "id": "559969d5-3f21-4146-b5e9-137d9a13d92d",
   "metadata": {},
   "outputs": [],
   "source": [
    "par = InputPhonopyGenerateSupercells(distance=0.02)"
   ]
  },
  {
   "cell_type": "code",
   "execution_count": null,
   "id": "ff32a9f4-27f5-41e4-a985-05e91d01b442",
   "metadata": {},
   "outputs": [],
   "source": [
    "def f(distance=0.01, **kwargs):\n",
    "    print (kwargs)\n",
    "    print (distance)"
   ]
  },
  {
   "cell_type": "code",
   "execution_count": null,
   "id": "241c3d0f-2cea-4c25-87f6-b8deecf27395",
   "metadata": {},
   "outputs": [],
   "source": [
    "f(**par)"
   ]
  },
  {
   "cell_type": "code",
   "execution_count": null,
   "id": "70a4ed5d-5070-4de7-8378-ac351006e04a",
   "metadata": {},
   "outputs": [],
   "source": [
    "f(**{'distance': 0.03})"
   ]
  },
  {
   "cell_type": "code",
   "execution_count": null,
   "id": "b6d64667-1091-42e6-8b12-f0d1451c7366",
   "metadata": {},
   "outputs": [],
   "source": [
    "dict_lst = {}\n",
    "for count in range(1, 4):\n",
    "    current_elements_kwarg = {'a': 1}\n",
    "    _internal = {}\n",
    "    _internal[\"iter_index\"] = count\n",
    "    current_elements_kwarg[\"_internal\"] = _internal\n",
    "    print(\"indices: \", _internal)    \n",
    "\n",
    "    for k, v in current_elements_kwarg.items():\n",
    "        if count == 1:\n",
    "             dict_lst[k] = [v]\n",
    "        else:    \n",
    "            if k in dict_lst:\n",
    "                dict_lst[k].append(v)\n",
    "            else:\n",
    "                ValueError(f\"New key appears at count {count}\")      \n",
    "    \n",
    "dict_lst"
   ]
  },
  {
   "cell_type": "markdown",
   "id": "2889dc77-b82c-4318-a862-0ed143943386",
   "metadata": {},
   "source": [
    "### Test universal ML potential"
   ]
  },
  {
   "cell_type": "code",
   "execution_count": null,
   "id": "5f9c9dae-7a97-47e5-9750-c9adfb9c1072",
   "metadata": {},
   "outputs": [],
   "source": [
    "from ase import units\n",
    "from ase.build import bulk\n",
    "from atomistics.calculators import calc_molecular_dynamics_langevin_with_ase"
   ]
  },
  {
   "cell_type": "code",
   "execution_count": null,
   "id": "53847c37-2f8b-4ba1-bd3a-c27c9eee958a",
   "metadata": {},
   "outputs": [],
   "source": [
    "import matgl\n",
    "from matgl.ext.ase import M3GNetCalculator"
   ]
  },
  {
   "cell_type": "code",
   "execution_count": null,
   "id": "24632194-6f3b-44c4-a8dd-c9ee1b9147f5",
   "metadata": {},
   "outputs": [],
   "source": [
    "%%time\n",
    "structure = bulk(\"Al\", cubic=True).repeat([3, 3, 3])\n",
    "ase_calculator = M3GNetCalculator(matgl.load_model(\"M3GNet-MP-2021.2.8-PES\"))\n",
    "result_dict = calc_molecular_dynamics_langevin_with_ase(\n",
    "    structure=structure,\n",
    "    ase_calculator=ase_calculator,\n",
    "    run=1000,\n",
    "    thermo=10,\n",
    "    timestep=1 * units.fs,\n",
    "    temperature=1000,\n",
    "    friction=0.002,\n",
    ")"
   ]
  },
  {
   "cell_type": "code",
   "execution_count": null,
   "id": "47cb2507-7b1e-4172-b423-4a055f0256b4",
   "metadata": {},
   "outputs": [],
   "source": [
    "result_dict.keys()"
   ]
  },
  {
   "cell_type": "code",
   "execution_count": null,
   "id": "54dfd61f-4195-41b2-98b4-293957c7be70",
   "metadata": {},
   "outputs": [],
   "source": [
    "plt.plot(result_dict['energy_pot']);"
   ]
  },
  {
   "cell_type": "code",
   "execution_count": null,
   "id": "759b4aa7-927e-404d-a637-828298ab672f",
   "metadata": {},
   "outputs": [],
   "source": [
    "plt.plot(result_dict['positions'][:,:,0]);"
   ]
  },
  {
   "cell_type": "code",
   "execution_count": null,
   "id": "e1e34c2a-1664-41d4-82e5-57e8d7a628b5",
   "metadata": {},
   "outputs": [],
   "source": [
    "from pyiron_workflow.node_library.dev_tools import Output"
   ]
  },
  {
   "cell_type": "code",
   "execution_count": null,
   "id": "a9d193fd-5ad7-42dd-bde6-ee2449c5a129",
   "metadata": {},
   "outputs": [],
   "source": [
    "# Example usage:\n",
    "def get_energy(arg1, arg2):\n",
    "    #print(f\"Function 1 called with arguments: {arg1}, {arg2}\")\n",
    "    return arg1 + arg2\n",
    "\n",
    "def function2(arg1, arg2):\n",
    "    print(f\"Function 2 called with arguments: {arg1}, {arg2}\")\n",
    "    return f\"Hello, {arg1} {arg2}!\"\n",
    "\n",
    "def function3(arg):\n",
    "    print(f\"Function 3 called with argument: {arg}\")\n",
    "    return [i for i in range(arg)]\n",
    "\n",
    "def to_dict(func, args=(), kwargs={}):\n",
    "    return (func, args, kwargs)\n",
    "\n",
    "output = Output(keys_to_run=['energy'])\n",
    "print ('keys to run: ', output._keys_to_run)\n",
    "output['energy'] = to_dict(get_energy, args=(3, 2))\n",
    "\n",
    "output.run()\n",
    "\n",
    "# Iterating over keys and values\n",
    "for key, value in output.items():\n",
    "    print(f\"{key}: {value}\")"
   ]
  },
  {
   "cell_type": "code",
   "execution_count": null,
   "id": "889829b1-080b-4255-983b-62f669cf041f",
   "metadata": {},
   "outputs": [],
   "source": [
    "'energy' in output._functions"
   ]
  },
  {
   "cell_type": "code",
   "execution_count": null,
   "id": "2bd4f113-9610-4daf-9567-0a85c4ad2d65",
   "metadata": {},
   "outputs": [],
   "source": [
    "func, args, kwargs = output._functions['energy']"
   ]
  },
  {
   "cell_type": "code",
   "execution_count": null,
   "id": "dcf9026b-f620-4d55-bb9a-e14cdb38bda9",
   "metadata": {},
   "outputs": [],
   "source": [
    "func, args, kwargs = to_dict(get_energy, args=(3, 2))"
   ]
  },
  {
   "cell_type": "code",
   "execution_count": null,
   "id": "080d9a25-8252-411b-b274-b75212ea793e",
   "metadata": {},
   "outputs": [],
   "source": [
    "func(*args)"
   ]
  },
  {
   "cell_type": "code",
   "execution_count": null,
   "id": "839cfcf8-14e0-4772-844b-770f7a129e0e",
   "metadata": {},
   "outputs": [],
   "source": [
    "output._functions['energy']"
   ]
  },
  {
   "cell_type": "code",
   "execution_count": null,
   "id": "edfdec4c-a490-4a81-af73-94a333697d50",
   "metadata": {},
   "outputs": [],
   "source": [
    "func(*args, **kwargs)"
   ]
  },
  {
   "cell_type": "code",
   "execution_count": null,
   "id": "6a9ff00f-5030-40e6-9296-50e4025f7332",
   "metadata": {},
   "outputs": [],
   "source": [
    "class LazyDict:\n",
    "    def __init__(self, **kwargs):\n",
    "        self._functions = {key: (value['func'], value.get('args', ()), value.get('kwargs', {})) for key, value in kwargs.items()}\n",
    "\n",
    "    def __getitem__(self, key):\n",
    "        if key not in self._functions:\n",
    "            raise KeyError(f\"Key '{key}' not found.\")\n",
    "        func, args, kwargs = self._functions[key]\n",
    "        return func(*args, **kwargs)\n",
    "\n",
    "    def __setitem__(self, key, value):\n",
    "        func, args, kwargs = value\n",
    "        self._functions[key] = (func, args, kwargs)\n",
    "\n",
    "    def __delitem__(self, key):\n",
    "        if key in self._functions:\n",
    "            del self._functions[key]\n",
    "\n",
    "    def keys(self):\n",
    "        return list(self._functions.keys())\n",
    "\n",
    "    def values(self):\n",
    "        return [self[key] for key in self.keys()]\n",
    "\n",
    "    def items(self):\n",
    "        return [(key, self[key]) for key in self.keys()]\n",
    "\n",
    "    def run(self, keys_to_run):\n",
    "        for key in keys_to_run:\n",
    "            if key in self._functions:\n",
    "                self[key]\n",
    "\n",
    "# Example usage:\n",
    "def function1(arg1, arg2):\n",
    "    print(f\"Function 1 called with arguments: {arg1}, {arg2}\")\n",
    "    return arg1 + arg2\n",
    "\n",
    "def function2(arg1, arg2):\n",
    "    print(f\"Function 2 called with arguments: {arg1}, {arg2}\")\n",
    "    return f\"Hello, {arg1} {arg2}!\"\n",
    "\n",
    "def function3(arg):\n",
    "    print(f\"Function 3 called with argument: {arg}\")\n",
    "    return [i for i in range(arg)]\n",
    "\n",
    "lazy_dict = LazyDict(\n",
    "    key1={'func': function1, 'args': (3, 4), 'kwargs': {}},\n",
    "    key2={'func': function2, 'args': ('John', 'Doe'), 'kwargs': {}},\n",
    "    key3={'func': function3, 'args': (5,), 'kwargs': {}},\n",
    ")\n",
    "\n",
    "# Accessing values triggers function evaluation with arguments\n",
    "print(lazy_dict['key1'])  # Output: Function 1 called with arguments: 3, 4 7\n",
    "print(lazy_dict['key2'])  # Output: Function 2 called with arguments: John, Doe Hello, John Doe!\n",
    "print(lazy_dict['key3'])  # Output: Function 3 called with argument: 5 [0, 1, 2, 3, 4]\n",
    "\n",
    "# Adding a new key-value pair with arguments\n",
    "#lazy_dict['key4'] = (lambda x, y: x * y, (2, 3), {})\n",
    "lazy_dict['key4'] = (function1,  (3, 4),  {})\n",
    "print(lazy_dict['key4'])  # Output: 6\n",
    "\n",
    "# Run specific functions\n",
    "lazy_dict.run(['key1', 'key2'])\n",
    "# Output:\n",
    "# Function 1 called with arguments: 3, 4\n",
    "# Function 2 called with arguments: John, Doe\n",
    "\n",
    "# Iterating over keys and values\n",
    "for key, value in lazy_dict.items():\n",
    "    print(f\"{key}: {value}\")"
   ]
  },
  {
   "cell_type": "markdown",
   "id": "97e8c8cc-9fcb-4ff3-a13e-87097d53e5cd",
   "metadata": {},
   "source": [
    "### wfDataClass"
   ]
  },
  {
   "cell_type": "code",
   "execution_count": null,
   "id": "1f58da83-93f8-4df3-9b13-fe3f7756de88",
   "metadata": {},
   "outputs": [],
   "source": [
    "from phonopy.api_phonopy import Phonopy\n",
    "from pyiron_workflow.node_library.dev_tools import wf_data_class\n",
    "\n",
    "from typing import Optional, Union"
   ]
  },
  {
   "cell_type": "code",
   "execution_count": null,
   "id": "7d836f6c-545c-4082-89b1-6a892c189884",
   "metadata": {},
   "outputs": [],
   "source": [
    "@wf_data_class(doc_func=Phonopy.generate_displacements)\n",
    "class InputPhonopyGenerateSupercells:\n",
    "    distance: float = 0.01\n",
    "    is_plusminus: Union[str, bool] = \"auto\"\n",
    "    is_diagonal: bool = True\n",
    "    is_trigonal: bool = False\n",
    "    number_of_snapshots: Optional[int] = None\n",
    "    random_seed: Optional[int] = None\n",
    "    temperature: Optional[float] = None\n",
    "    cutoff_frequency: Optional[float] = None\n",
    "    max_distance: Optional[float] = None    "
   ]
  },
  {
   "cell_type": "code",
   "execution_count": null,
   "id": "123ddac3-bed1-474f-bf49-a7f20ad1c8e1",
   "metadata": {},
   "outputs": [],
   "source": [
    "par = InputPhonopyGenerateSupercells(max_distance=10)\n",
    "par['distance'] = 1"
   ]
  },
  {
   "cell_type": "code",
   "execution_count": null,
   "id": "b6e76f6c-45b1-4982-8b14-ce0af3a75d2c",
   "metadata": {},
   "outputs": [],
   "source": [
    "par"
   ]
  },
  {
   "cell_type": "code",
   "execution_count": null,
   "id": "8ade9cdc-23cd-45af-af6f-54a7504dc758",
   "metadata": {},
   "outputs": [],
   "source": [
    "par.distance"
   ]
  },
  {
   "cell_type": "code",
   "execution_count": null,
   "id": "cded0af4-4735-4e22-b1ee-cf5503a9f06d",
   "metadata": {},
   "outputs": [],
   "source": [
    "par??"
   ]
  },
  {
   "cell_type": "code",
   "execution_count": null,
   "id": "63d3eb9a-ee79-43a3-bb36-1e8460bf07e6",
   "metadata": {},
   "outputs": [],
   "source": [
    "par.distances=0.2"
   ]
  },
  {
   "cell_type": "code",
   "execution_count": null,
   "id": "d7671f4b-1f57-4f07-9be7-1ff0955b8295",
   "metadata": {},
   "outputs": [],
   "source": [
    "par.select(keys_to_store=['distance'])"
   ]
  },
  {
   "cell_type": "code",
   "execution_count": null,
   "id": "888b113d-a7a4-41ad-acfc-efbc252eab9e",
   "metadata": {},
   "outputs": [],
   "source": [
    "def test(**kwargs):\n",
    "    for a in kwargs.items():\n",
    "        print (a)"
   ]
  },
  {
   "cell_type": "code",
   "execution_count": null,
   "id": "b144573b-0f23-4f0f-b900-c1a10e27b1a7",
   "metadata": {},
   "outputs": [],
   "source": [
    "test(**par.select(keys_to_store=['distance']))"
   ]
  },
  {
   "cell_type": "code",
   "execution_count": null,
   "id": "c842e70f-7b4a-426a-9b9c-1e9614d3d171",
   "metadata": {},
   "outputs": [],
   "source": [
    "test(**par)"
   ]
  },
  {
   "cell_type": "code",
   "execution_count": null,
   "id": "0e4c64e2-10c5-47dd-a0ca-57f3d2b198ab",
   "metadata": {},
   "outputs": [],
   "source": [
    "from ase import Atoms, build"
   ]
  },
  {
   "cell_type": "code",
   "execution_count": null,
   "id": "db423749-2af5-43e7-af45-48dd356e6717",
   "metadata": {},
   "outputs": [],
   "source": [
    "Al = build.bulk('Al', cubic=True)\n",
    "Al.get_positions(wrap=True)"
   ]
  },
  {
   "cell_type": "code",
   "execution_count": null,
   "id": "5478171f-cd4e-4a18-ad9d-db6e74f861d2",
   "metadata": {},
   "outputs": [],
   "source": [
    "Al.get_stress()"
   ]
  },
  {
   "cell_type": "code",
   "execution_count": null,
   "id": "3e938638-8a69-4125-8f3a-15dd3686f0cb",
   "metadata": {},
   "outputs": [],
   "source": [
    "Al.get_"
   ]
  },
  {
   "cell_type": "code",
   "execution_count": null,
   "id": "c557b3b1-9eec-48b3-a06e-f56c1a394afa",
   "metadata": {},
   "outputs": [],
   "source": [
    "from dataclasses import dataclass\n",
    "\n",
    "@dataclass\n",
    "class Address:\n",
    "    street: str\n",
    "    city: str\n",
    "    zip_code: str\n",
    "\n",
    "@dataclass\n",
    "class Person:\n",
    "    name: str\n",
    "    age: int\n",
    "    address: Address = Address(street='', city='', zip_code='')\n",
    "\n",
    "# Example usage\n",
    "person_with_default_address = Person(name='John Doe', age=30)\n",
    "\n",
    "# Accessing the default address\n",
    "print(person_with_default_address.address)"
   ]
  },
  {
   "cell_type": "code",
   "execution_count": null,
   "id": "429d927d-e694-4da1-9f66-2f878bd481be",
   "metadata": {},
   "outputs": [],
   "source": [
    "from dataclasses import dataclass, field\n",
    "\n",
    "@dataclass\n",
    "class Address:\n",
    "    street: str\n",
    "    city: str\n",
    "    zip_code: str\n",
    "\n",
    "@dataclass\n",
    "class Person:\n",
    "    name: str\n",
    "    age: int\n",
    "    address: Address = field(default_factory=lambda: Address(street='', city='', zip_code=''))\n",
    "\n",
    "# Example usage\n",
    "person_with_default_address = Person(name='John Doe', age=30)\n",
    "\n",
    "# Accessing the default address\n",
    "print(person_with_default_address.address)"
   ]
  },
  {
   "cell_type": "code",
   "execution_count": null,
   "id": "e74a4a08-6f73-4a6e-a7cd-e1902e2bdbbc",
   "metadata": {},
   "outputs": [],
   "source": []
  }
 ],
 "metadata": {
  "kernelspec": {
   "display_name": "Python 3 (ipykernel)",
   "language": "python",
   "name": "python3"
  },
  "language_info": {
   "codemirror_mode": {
    "name": "ipython",
    "version": 3
   },
   "file_extension": ".py",
   "mimetype": "text/x-python",
   "name": "python",
   "nbconvert_exporter": "python",
   "pygments_lexer": "ipython3",
   "version": "3.11.7"
  }
 },
 "nbformat": 4,
 "nbformat_minor": 5
}
