{
 "cells": [
  {
   "cell_type": "markdown",
   "id": "0720d76c-bb61-4b60-ac56-61e1876051e6",
   "metadata": {},
   "source": [
    "# pyiron_workflow concepts"
   ]
  },
  {
   "cell_type": "code",
   "execution_count": null,
   "id": "18092cbc-b118-42c5-a852-e0a9a9df2b8b",
   "metadata": {},
   "outputs": [],
   "source": [
    "%%time\n",
    "%config IPCompleter.evaluation='unsafe'\n",
    "\n",
    "import matplotlib.pylab as plt\n",
    "from pyiron_workflow.workflow import Workflow\n",
    "from pyiron_workflow.function import single_value_node"
   ]
  },
  {
   "cell_type": "markdown",
   "id": "e6a6b122-a8f1-48c1-b736-7da3213e4a79",
   "metadata": {},
   "source": [
    "## Phonopy example"
   ]
  },
  {
   "cell_type": "code",
   "execution_count": null,
   "id": "6a05f143-f2e7-4bc7-af8e-02cfdc2ff5cd",
   "metadata": {},
   "outputs": [],
   "source": [
    "%%time\n",
    "wf = Workflow('phonopy')\n",
    "wf.register('pyiron_workflow.node_library.atomistic', domain='atomistic')"
   ]
  },
  {
   "cell_type": "code",
   "execution_count": null,
   "id": "5d925abc-4c4e-4536-bed7-ba40a0967579",
   "metadata": {},
   "outputs": [],
   "source": [
    "wf = Workflow('test')\n",
    "wf.structure = wf.create.atomistic.structure.build.bulk('Al')"
   ]
  },
  {
   "cell_type": "code",
   "execution_count": null,
   "id": "d9223818-7c0a-4d2e-a1e3-8e3a92ec6e8a",
   "metadata": {},
   "outputs": [],
   "source": [
    "@Workflow.wrap_as.macro_node(\"structure\")\n",
    "def bulk_rotation(wf, name='Al', cubic: bool=True, repeat_cell=2, angle=0, axis=[0,0,1]):\n",
    "    wf.structure = wf.create.atomistic.structure.build.bulk(name=name, cubic=cubic)\n",
    "    wf.repeat = wf.create.atomistic.structure.transform.repeat(structure=wf.structure, repeat_scalar=repeat_cell)\n",
    "    wf.rotate = wf.create.atomistic.structure.transform.rotate_axis_angle(structure=wf.repeat, angle=angle, axis=axis)\n",
    "    return wf.rotate"
   ]
  },
  {
   "cell_type": "code",
   "execution_count": null,
   "id": "f22af304-5950-49f6-ae06-a5a9b69e036d",
   "metadata": {},
   "outputs": [],
   "source": []
  },
  {
   "cell_type": "code",
   "execution_count": null,
   "id": "233f9fd1-fe55-4254-8eb6-b145ba037666",
   "metadata": {},
   "outputs": [],
   "source": [
    "br = bulk_rotation()\n",
    "br.structure.inputs.name.value, br.structure.inputs.cubic.value"
   ]
  },
  {
   "cell_type": "code",
   "execution_count": null,
   "id": "3d712598-c95e-4eae-9cda-d211e63a822a",
   "metadata": {},
   "outputs": [],
   "source": [
    "br.draw()"
   ]
  },
  {
   "cell_type": "code",
   "execution_count": null,
   "id": "9736eb70-2ab2-4234-b217-b43e7f10c2f6",
   "metadata": {},
   "outputs": [],
   "source": [
    "br.inputs.name"
   ]
  },
  {
   "cell_type": "code",
   "execution_count": null,
   "id": "bc90ef87-13bb-4434-a4e5-3a45ac7a54ee",
   "metadata": {},
   "outputs": [],
   "source": [
    "br = bulk_rotation(name='Fe')\n",
    "br.structure.inputs.name = 'Al'\n",
    "br.inputs.name = 'Al'\n",
    "br.run()"
   ]
  },
  {
   "cell_type": "code",
   "execution_count": null,
   "id": "62350236-4921-4ff8-a97e-3d619a6e18b5",
   "metadata": {},
   "outputs": [],
   "source": [
    "br.draw()"
   ]
  },
  {
   "cell_type": "code",
   "execution_count": null,
   "id": "a120d5fc-5e4f-4c76-8962-4cce25238f0c",
   "metadata": {},
   "outputs": [],
   "source": [
    "from pyiron_workflow.node_library.atomistic.property.phonons import InputPhonopyGenerateSupercells"
   ]
  },
  {
   "cell_type": "markdown",
   "id": "10135245-0943-461a-8f6a-ff1e0af1cc22",
   "metadata": {},
   "source": [
    "### Create phonopy workflow macro"
   ]
  },
  {
   "cell_type": "markdown",
   "id": "06a70eb9-1e7a-4666-a75f-c24e753cbb29",
   "metadata": {},
   "source": [
    "Select input and output parameters in which users may be particularly interested, i.e., over which you want to do a parameter study (input) and the quantities you want to analyse (output)"
   ]
  },
  {
   "cell_type": "code",
   "execution_count": null,
   "id": "f059b152-07d1-46bb-87a0-b5f2381e0af9",
   "metadata": {},
   "outputs": [],
   "source": [
    "@Workflow.wrap_as.macro_node(\n",
    "    \"imaginary_modes\",\n",
    "    \"total_dos\",\n",
    "    \"energy_relaxed\",\n",
    "    \"energy_initial\",\n",
    "    \"energy_displaced\",\n",
    ")\n",
    "def run_phonopy(\n",
    "    wf,\n",
    "    element: str,\n",
    "    cell_size: int = 2,\n",
    "    vacancy_index: int | None = None,\n",
    "    displacement: float = 0.01,\n",
    "    max_workers: int = 1\n",
    "):\n",
    "\n",
    "    # wf.engine = wf.create.engine.ase.M3GNet()\n",
    "    wf.engine = wf.create.atomistic.engine.ase.EMT()\n",
    "    \n",
    "    wf.structure = wf.create.atomistic.structure.build.cubic_bulk_cell(\n",
    "        element=element, cell_size=cell_size, vacancy_index=vacancy_index\n",
    "    )\n",
    "    # explicit output needed since macro and not single_value_node (we should have also a single_value_macro)\n",
    "    wf.relaxed_structure = wf.create.atomistic.calculator.ase.minimize(\n",
    "        atoms=wf.structure.outputs.structure,\n",
    "        engine=wf.engine,\n",
    "    )\n",
    "    \n",
    "    wf.phonopy_input = wf.create.atomistic.property.phonons.PhonopyParameters(distance=displacement)\n",
    "\n",
    "    wf.phonopy = wf.create.atomistic.property.phonons.create_phonopy(\n",
    "        structure=wf.relaxed_structure.outputs.structure,\n",
    "        parameters=wf.phonopy_input,\n",
    "        engine=wf.engine,\n",
    "        max_workers=max_workers,\n",
    "    )\n",
    "    # print ('test: ', displacement.run())\n",
    "\n",
    "    wf.check_consistency = wf.create.atomistic.property.phonons.check_consistency(\n",
    "        phonopy=wf.phonopy.outputs.phonopy\n",
    "    )\n",
    "    wf.total_dos = wf.create.atomistic.property.phonons.get_total_dos(phonopy=wf.phonopy.outputs.phonopy)\n",
    "\n",
    "    # iterate over all nodes, extract the log_output and store it in hdf5\n",
    "    # control the amount of output via log_level\n",
    "\n",
    "    return (\n",
    "        wf.check_consistency,\n",
    "        wf.total_dos,\n",
    "        wf.relaxed_structure.outputs.out.final.energy,\n",
    "        wf.relaxed_structure.outputs.out.initial.energy,\n",
    "        wf.phonopy.outputs.out[\"energies\"],\n",
    "    )"
   ]
  },
  {
   "cell_type": "markdown",
   "id": "2bbc1186-3ad2-46c0-8197-f134092f1cd6",
   "metadata": {},
   "source": [
    "#### Run for a single parameter set"
   ]
  },
  {
   "cell_type": "code",
   "execution_count": null,
   "id": "bd8b2cbe-4d65-4961-9165-0c71fa3609ec",
   "metadata": {},
   "outputs": [],
   "source": [
    "%%time\n",
    "wf = run_phonopy(element='Al', cell_size=3, vacancy_index=0, displacement=0.1, max_workers=1)\n",
    "out = wf.run()"
   ]
  },
  {
   "cell_type": "code",
   "execution_count": null,
   "id": "f904f475-dc8c-4f82-8d7d-507a7cafa4f7",
   "metadata": {},
   "outputs": [],
   "source": [
    "wf.draw()"
   ]
  },
  {
   "cell_type": "code",
   "execution_count": null,
   "id": "49ac188a-6b86-4650-a1d9-96d6e80f7d24",
   "metadata": {},
   "outputs": [],
   "source": [
    "import pandas as pd"
   ]
  },
  {
   "cell_type": "code",
   "execution_count": null,
   "id": "0c979de8-9250-4db9-a5a4-fe0ea2dcaba6",
   "metadata": {},
   "outputs": [],
   "source": [
    "wf.phonopy.outputs.out.value['df']"
   ]
  },
  {
   "cell_type": "markdown",
   "id": "664d84bc-dbed-423d-8d7f-ab67ce9f0de9",
   "metadata": {},
   "source": [
    "#### Run iteratively over several input parameters and construct a pandas table"
   ]
  },
  {
   "cell_type": "code",
   "execution_count": null,
   "id": "7bc34f3a-df8a-4cbb-9aa5-7b201d9e9f28",
   "metadata": {},
   "outputs": [],
   "source": [
    "%%time\n",
    "df = wf.iter(cell_size=list(range(1,4)), \n",
    "             element=['Al'], \n",
    "             vacancy_index=[None, 0], \n",
    "             displacement=[0.01, 0.1]\n",
    "            ) #, Cu, Pd, Ag, Pt and Au])"
   ]
  },
  {
   "cell_type": "code",
   "execution_count": null,
   "id": "5649c8f1-00b2-44ac-8f92-df425551075e",
   "metadata": {},
   "outputs": [],
   "source": [
    "df"
   ]
  },
  {
   "cell_type": "markdown",
   "id": "22ccd6eb-22f9-4a26-a2e8-8edb14e05162",
   "metadata": {},
   "source": [
    "### Elasticity"
   ]
  },
  {
   "cell_type": "code",
   "execution_count": null,
   "id": "f5db8f36-a493-4d0c-b530-56a050134d6b",
   "metadata": {},
   "outputs": [],
   "source": [
    "%%time\n",
    "%config IPCompleter.evaluation='unsafe'\n",
    "\n",
    "import matplotlib.pylab as plt\n",
    "from pyiron_workflow.workflow import Workflow\n",
    "\n",
    "import matplotlib.pylab as plt\n",
    "import numpy as np"
   ]
  },
  {
   "cell_type": "code",
   "execution_count": null,
   "id": "cd33bf3e-7452-4d3b-a96e-5d1ed9eb538b",
   "metadata": {},
   "outputs": [],
   "source": [
    "%time\n",
    "wf = Workflow('phonopy')\n",
    "wf.register('pyiron_workflow.node_library.atomistic', domain='atomistic')\n",
    "wf.register('pyiron_workflow.node_library.databases', domain='databases')"
   ]
  },
  {
   "cell_type": "code",
   "execution_count": null,
   "id": "a28ee850-afff-4036-8a05-e86136511514",
   "metadata": {},
   "outputs": [],
   "source": [
    "# Get the source data\n",
    "# from Ref. de Jong et al. https://www.nature.com/articles/sdata20159#MOESM77\n",
    "\n",
    "import requests\n",
    "\n",
    "url = 'https://datadryad.org/stash/downloads/file_stream/88988'\n",
    "destination_file = 'ec.json'\n",
    "\n",
    "response = requests.get(url)\n",
    "if response.status_code == 200:\n",
    "    with open(destination_file, 'wb') as f:\n",
    "        f.write(response.content)\n",
    "    print('File downloaded successfully')\n",
    "else:\n",
    "    print('Failed to download file:', response.status_code)"
   ]
  },
  {
   "cell_type": "code",
   "execution_count": null,
   "id": "10ad0c84-0846-4d9d-91b8-cee47f5efef3",
   "metadata": {},
   "outputs": [],
   "source": [
    "wf = Workflow('elastic')\n",
    "wf.data = wf.create.databases.elasticity.de_jong()"
   ]
  },
  {
   "cell_type": "code",
   "execution_count": null,
   "id": "37b0972d-0ad3-4f85-8897-36f1d8d76fc2",
   "metadata": {},
   "outputs": [],
   "source": [
    "%%time\n",
    "df_data = wf.run()['data__dataframe']"
   ]
  },
  {
   "cell_type": "code",
   "execution_count": null,
   "id": "25a0f789-1248-4280-a09a-f2c9903b06f1",
   "metadata": {},
   "outputs": [],
   "source": [
    "df_data"
   ]
  },
  {
   "cell_type": "code",
   "execution_count": null,
   "id": "0ba2176d-dfa3-4522-af61-fd7e3411d9ef",
   "metadata": {},
   "outputs": [],
   "source": [
    "unaries = df_data[df_data.formula.str.len() == 2]\n",
    "K_Reuss = unaries.K_Reuss.values\n",
    "K_Voigt = unaries.K_Voigt\n",
    "structures = unaries.atoms.values"
   ]
  },
  {
   "cell_type": "markdown",
   "id": "d082799c-6815-4839-868f-2b179def5f11",
   "metadata": {},
   "source": [
    "Note: \n",
    "- Different symbols/terms for identical physical quantities would be a nice example for application of ontology\n",
    "- ChatGPT could be used to analyze data (where is agreement good, where not)"
   ]
  },
  {
   "cell_type": "code",
   "execution_count": null,
   "id": "10bbf3ba-4c61-455b-a071-35efcbadfd92",
   "metadata": {},
   "outputs": [],
   "source": [
    "table_M3GNet = Workflow.create.atomistic.structure.calc.volume().iter(structure=structures)  # TODO: load rather than run"
   ]
  },
  {
   "cell_type": "code",
   "execution_count": null,
   "id": "9249849d-4685-4b33-b6ef-2536f4ab2a94",
   "metadata": {},
   "outputs": [],
   "source": [
    "plt.scatter(unaries.volume, table_M3GNet.volume);"
   ]
  },
  {
   "cell_type": "code",
   "execution_count": null,
   "id": "f6710a6d-e1d6-4807-b1e4-88fa14aad86a",
   "metadata": {},
   "outputs": [],
   "source": [
    "%%time\n",
    "import warnings\n",
    "warnings.filterwarnings(\"ignore\")\n",
    "\n",
    "out = Workflow.create.atomistic.property.elastic.elastic_constants().iter(structure=structures)"
   ]
  },
  {
   "cell_type": "code",
   "execution_count": null,
   "id": "3e6f8e28-9bb2-4b8d-ab29-29b0781c536c",
   "metadata": {},
   "outputs": [],
   "source": [
    "x = np.linspace(0, 500, 101)\n",
    "\n",
    "plt.figure(figsize=(10,5))\n",
    "plt.subplot(1,2,1)\n",
    "plt.scatter(out.BR, unaries.K_Reuss)\n",
    "plt.scatter(out.BV, unaries.K_Voigt, c='g', marker = 'x')\n",
    "plt.xlabel('$B_{Reuss}$ (M3GNet)')\n",
    "plt.ylabel('$B_{Reuss}$ (DFT)')\n",
    "plt.title('Bulk Modulus')\n",
    "plt.plot(x, x, 'k--');\n",
    "\n",
    "plt.subplot(1,2,2)\n",
    "x = np.linspace(0, 300, 101)\n",
    "\n",
    "plt.scatter(out.GR, unaries.G_Reuss)\n",
    "plt.scatter(out.GV, unaries.G_Voigt, c='g', marker = 'x')\n",
    "plt.xlabel('$G_{Reuss}$ (M3GNet)')\n",
    "plt.ylabel('$G_{Reuss}$ (DFT)')\n",
    "plt.title('Shear Modulus')\n",
    "plt.plot(x, x, 'k--');"
   ]
  },
  {
   "cell_type": "code",
   "execution_count": null,
   "id": "560c2439-b831-452c-b0f3-c42d17fb5591",
   "metadata": {},
   "outputs": [],
   "source": [
    "unaries.keys()"
   ]
  },
  {
   "cell_type": "markdown",
   "id": "2889dc77-b82c-4318-a862-0ed143943386",
   "metadata": {},
   "source": [
    "### Test universal ML potential"
   ]
  },
  {
   "cell_type": "code",
   "execution_count": null,
   "id": "5f9c9dae-7a97-47e5-9750-c9adfb9c1072",
   "metadata": {},
   "outputs": [],
   "source": [
    "from ase import units\n",
    "from ase.build import bulk\n",
    "from atomistics.calculators import calc_molecular_dynamics_langevin_with_ase"
   ]
  },
  {
   "cell_type": "code",
   "execution_count": null,
   "id": "53847c37-2f8b-4ba1-bd3a-c27c9eee958a",
   "metadata": {},
   "outputs": [],
   "source": [
    "import matgl\n",
    "from matgl.ext.ase import M3GNetCalculator"
   ]
  },
  {
   "cell_type": "code",
   "execution_count": null,
   "id": "24632194-6f3b-44c4-a8dd-c9ee1b9147f5",
   "metadata": {},
   "outputs": [],
   "source": [
    "%%time\n",
    "structure = bulk(\"Al\", cubic=True).repeat([3, 3, 3])\n",
    "ase_calculator = M3GNetCalculator(matgl.load_model(\"M3GNet-MP-2021.2.8-PES\"))\n",
    "result_dict = calc_molecular_dynamics_langevin_with_ase(\n",
    "    structure=structure,\n",
    "    ase_calculator=ase_calculator,\n",
    "    run=1000,\n",
    "    thermo=10,\n",
    "    timestep=1 * units.fs,\n",
    "    temperature=1000,\n",
    "    friction=0.002,\n",
    ")"
   ]
  },
  {
   "cell_type": "code",
   "execution_count": null,
   "id": "47cb2507-7b1e-4172-b423-4a055f0256b4",
   "metadata": {},
   "outputs": [],
   "source": [
    "result_dict.keys()"
   ]
  },
  {
   "cell_type": "code",
   "execution_count": null,
   "id": "54dfd61f-4195-41b2-98b4-293957c7be70",
   "metadata": {},
   "outputs": [],
   "source": [
    "plt.plot(result_dict['energy_pot']);"
   ]
  },
  {
   "cell_type": "code",
   "execution_count": null,
   "id": "759b4aa7-927e-404d-a637-828298ab672f",
   "metadata": {},
   "outputs": [],
   "source": [
    "plt.plot(result_dict['positions'][:,:,0]);"
   ]
  },
  {
   "cell_type": "code",
   "execution_count": null,
   "id": "e1e34c2a-1664-41d4-82e5-57e8d7a628b5",
   "metadata": {},
   "outputs": [],
   "source": [
    "from pyiron_workflow.node_library.dev_tools import Output"
   ]
  },
  {
   "cell_type": "code",
   "execution_count": null,
   "id": "a9d193fd-5ad7-42dd-bde6-ee2449c5a129",
   "metadata": {},
   "outputs": [],
   "source": [
    "# Example usage:\n",
    "def get_energy(arg1, arg2):\n",
    "    #print(f\"Function 1 called with arguments: {arg1}, {arg2}\")\n",
    "    return arg1 + arg2\n",
    "\n",
    "def function2(arg1, arg2):\n",
    "    print(f\"Function 2 called with arguments: {arg1}, {arg2}\")\n",
    "    return f\"Hello, {arg1} {arg2}!\"\n",
    "\n",
    "def function3(arg):\n",
    "    print(f\"Function 3 called with argument: {arg}\")\n",
    "    return [i for i in range(arg)]\n",
    "\n",
    "def to_dict(func, args=(), kwargs={}):\n",
    "    return (func, args, kwargs)\n",
    "\n",
    "output = Output(keys_to_run=['energy'])\n",
    "print ('keys to run: ', output._keys_to_run)\n",
    "output['energy'] = to_dict(get_energy, args=(3, 2))\n",
    "\n",
    "output.run()\n",
    "\n",
    "# Iterating over keys and values\n",
    "for key, value in output.items():\n",
    "    print(f\"{key}: {value}\")"
   ]
  },
  {
   "cell_type": "code",
   "execution_count": null,
   "id": "889829b1-080b-4255-983b-62f669cf041f",
   "metadata": {},
   "outputs": [],
   "source": [
    "'energy' in output._functions"
   ]
  },
  {
   "cell_type": "code",
   "execution_count": null,
   "id": "2bd4f113-9610-4daf-9567-0a85c4ad2d65",
   "metadata": {},
   "outputs": [],
   "source": [
    "func, args, kwargs = output._functions['energy']"
   ]
  },
  {
   "cell_type": "code",
   "execution_count": null,
   "id": "dcf9026b-f620-4d55-bb9a-e14cdb38bda9",
   "metadata": {},
   "outputs": [],
   "source": [
    "func, args, kwargs = to_dict(get_energy, args=(3, 2))"
   ]
  },
  {
   "cell_type": "code",
   "execution_count": null,
   "id": "080d9a25-8252-411b-b274-b75212ea793e",
   "metadata": {},
   "outputs": [],
   "source": [
    "func(*args)"
   ]
  },
  {
   "cell_type": "code",
   "execution_count": null,
   "id": "839cfcf8-14e0-4772-844b-770f7a129e0e",
   "metadata": {},
   "outputs": [],
   "source": [
    "output._functions['energy']"
   ]
  },
  {
   "cell_type": "code",
   "execution_count": null,
   "id": "edfdec4c-a490-4a81-af73-94a333697d50",
   "metadata": {},
   "outputs": [],
   "source": [
    "func(*args, **kwargs)"
   ]
  },
  {
   "cell_type": "code",
   "execution_count": null,
   "id": "6a9ff00f-5030-40e6-9296-50e4025f7332",
   "metadata": {},
   "outputs": [],
   "source": [
    "class LazyDict:\n",
    "    def __init__(self, **kwargs):\n",
    "        self._functions = {key: (value['func'], value.get('args', ()), value.get('kwargs', {})) for key, value in kwargs.items()}\n",
    "\n",
    "    def __getitem__(self, key):\n",
    "        if key not in self._functions:\n",
    "            raise KeyError(f\"Key '{key}' not found.\")\n",
    "        func, args, kwargs = self._functions[key]\n",
    "        return func(*args, **kwargs)\n",
    "\n",
    "    def __setitem__(self, key, value):\n",
    "        func, args, kwargs = value\n",
    "        self._functions[key] = (func, args, kwargs)\n",
    "\n",
    "    def __delitem__(self, key):\n",
    "        if key in self._functions:\n",
    "            del self._functions[key]\n",
    "\n",
    "    def keys(self):\n",
    "        return list(self._functions.keys())\n",
    "\n",
    "    def values(self):\n",
    "        return [self[key] for key in self.keys()]\n",
    "\n",
    "    def items(self):\n",
    "        return [(key, self[key]) for key in self.keys()]\n",
    "\n",
    "    def run(self, keys_to_run):\n",
    "        for key in keys_to_run:\n",
    "            if key in self._functions:\n",
    "                self[key]\n",
    "\n",
    "# Example usage:\n",
    "def function1(arg1, arg2):\n",
    "    print(f\"Function 1 called with arguments: {arg1}, {arg2}\")\n",
    "    return arg1 + arg2\n",
    "\n",
    "def function2(arg1, arg2):\n",
    "    print(f\"Function 2 called with arguments: {arg1}, {arg2}\")\n",
    "    return f\"Hello, {arg1} {arg2}!\"\n",
    "\n",
    "def function3(arg):\n",
    "    print(f\"Function 3 called with argument: {arg}\")\n",
    "    return [i for i in range(arg)]\n",
    "\n",
    "lazy_dict = LazyDict(\n",
    "    key1={'func': function1, 'args': (3, 4), 'kwargs': {}},\n",
    "    key2={'func': function2, 'args': ('John', 'Doe'), 'kwargs': {}},\n",
    "    key3={'func': function3, 'args': (5,), 'kwargs': {}},\n",
    ")\n",
    "\n",
    "# Accessing values triggers function evaluation with arguments\n",
    "print(lazy_dict['key1'])  # Output: Function 1 called with arguments: 3, 4 7\n",
    "print(lazy_dict['key2'])  # Output: Function 2 called with arguments: John, Doe Hello, John Doe!\n",
    "print(lazy_dict['key3'])  # Output: Function 3 called with argument: 5 [0, 1, 2, 3, 4]\n",
    "\n",
    "# Adding a new key-value pair with arguments\n",
    "#lazy_dict['key4'] = (lambda x, y: x * y, (2, 3), {})\n",
    "lazy_dict['key4'] = (function1,  (3, 4),  {})\n",
    "print(lazy_dict['key4'])  # Output: 6\n",
    "\n",
    "# Run specific functions\n",
    "lazy_dict.run(['key1', 'key2'])\n",
    "# Output:\n",
    "# Function 1 called with arguments: 3, 4\n",
    "# Function 2 called with arguments: John, Doe\n",
    "\n",
    "# Iterating over keys and values\n",
    "for key, value in lazy_dict.items():\n",
    "    print(f\"{key}: {value}\")"
   ]
  },
  {
   "cell_type": "code",
   "execution_count": null,
   "id": "1f58da83-93f8-4df3-9b13-fe3f7756de88",
   "metadata": {},
   "outputs": [],
   "source": [
    "from phonopy.api_phonopy import Phonopy\n",
    "from pyiron_workflow.node_library.dev_tools import wf_data_class\n",
    "\n",
    "from typing import Optional, Union"
   ]
  },
  {
   "cell_type": "code",
   "execution_count": null,
   "id": "7d836f6c-545c-4082-89b1-6a892c189884",
   "metadata": {},
   "outputs": [],
   "source": [
    "@wf_data_class(doc_func=Phonopy.generate_displacements)\n",
    "class InputPhonopyGenerateSupercells:\n",
    "    distance: float = 0.01\n",
    "    is_plusminus: Union[str, bool] = \"auto\"\n",
    "    is_diagonal: bool = True\n",
    "    is_trigonal: bool = False\n",
    "    number_of_snapshots: Optional[int] = None\n",
    "    random_seed: Optional[int] = None\n",
    "    temperature: Optional[float] = None\n",
    "    cutoff_frequency: Optional[float] = None\n",
    "    max_distance: Optional[float] = None    "
   ]
  },
  {
   "cell_type": "code",
   "execution_count": null,
   "id": "123ddac3-bed1-474f-bf49-a7f20ad1c8e1",
   "metadata": {},
   "outputs": [],
   "source": [
    "par = InputPhonopyGenerateSupercells(max_distance=10)\n",
    "par['distance'] = 1"
   ]
  },
  {
   "cell_type": "code",
   "execution_count": null,
   "id": "b6e76f6c-45b1-4982-8b14-ce0af3a75d2c",
   "metadata": {},
   "outputs": [],
   "source": [
    "par"
   ]
  },
  {
   "cell_type": "code",
   "execution_count": null,
   "id": "8ade9cdc-23cd-45af-af6f-54a7504dc758",
   "metadata": {},
   "outputs": [],
   "source": [
    "par.distance"
   ]
  },
  {
   "cell_type": "code",
   "execution_count": null,
   "id": "cded0af4-4735-4e22-b1ee-cf5503a9f06d",
   "metadata": {},
   "outputs": [],
   "source": [
    "par??"
   ]
  },
  {
   "cell_type": "code",
   "execution_count": null,
   "id": "63d3eb9a-ee79-43a3-bb36-1e8460bf07e6",
   "metadata": {},
   "outputs": [],
   "source": [
    "par.distances=0.2"
   ]
  },
  {
   "cell_type": "code",
   "execution_count": null,
   "id": "d7671f4b-1f57-4f07-9be7-1ff0955b8295",
   "metadata": {},
   "outputs": [],
   "source": [
    "par.select(keys_to_store=['distance'])"
   ]
  },
  {
   "cell_type": "code",
   "execution_count": null,
   "id": "888b113d-a7a4-41ad-acfc-efbc252eab9e",
   "metadata": {},
   "outputs": [],
   "source": [
    "def test(**kwargs):\n",
    "    for a in kwargs.items():\n",
    "        print (a)"
   ]
  },
  {
   "cell_type": "code",
   "execution_count": null,
   "id": "b144573b-0f23-4f0f-b900-c1a10e27b1a7",
   "metadata": {},
   "outputs": [],
   "source": [
    "test(**par.select(keys_to_store=['distance']))"
   ]
  },
  {
   "cell_type": "code",
   "execution_count": null,
   "id": "c842e70f-7b4a-426a-9b9c-1e9614d3d171",
   "metadata": {},
   "outputs": [],
   "source": [
    "test(**par)"
   ]
  },
  {
   "cell_type": "code",
   "execution_count": null,
   "id": "0e4c64e2-10c5-47dd-a0ca-57f3d2b198ab",
   "metadata": {},
   "outputs": [],
   "source": [
    "from ase import Atoms, build"
   ]
  },
  {
   "cell_type": "code",
   "execution_count": null,
   "id": "db423749-2af5-43e7-af45-48dd356e6717",
   "metadata": {},
   "outputs": [],
   "source": [
    "Al = build.bulk('Al', cubic=True)\n",
    "Al.get_positions(wrap=True)"
   ]
  },
  {
   "cell_type": "code",
   "execution_count": null,
   "id": "5478171f-cd4e-4a18-ad9d-db6e74f861d2",
   "metadata": {},
   "outputs": [],
   "source": [
    "Al.get_stress()"
   ]
  },
  {
   "cell_type": "code",
   "execution_count": null,
   "id": "3e938638-8a69-4125-8f3a-15dd3686f0cb",
   "metadata": {},
   "outputs": [],
   "source": [
    "Al.get_"
   ]
  },
  {
   "cell_type": "code",
   "execution_count": null,
   "id": "c557b3b1-9eec-48b3-a06e-f56c1a394afa",
   "metadata": {},
   "outputs": [],
   "source": [
    "from dataclasses import dataclass\n",
    "\n",
    "@dataclass\n",
    "class Address:\n",
    "    street: str\n",
    "    city: str\n",
    "    zip_code: str\n",
    "\n",
    "@dataclass\n",
    "class Person:\n",
    "    name: str\n",
    "    age: int\n",
    "    address: Address = Address(street='', city='', zip_code='')\n",
    "\n",
    "# Example usage\n",
    "person_with_default_address = Person(name='John Doe', age=30)\n",
    "\n",
    "# Accessing the default address\n",
    "print(person_with_default_address.address)"
   ]
  },
  {
   "cell_type": "code",
   "execution_count": null,
   "id": "429d927d-e694-4da1-9f66-2f878bd481be",
   "metadata": {},
   "outputs": [],
   "source": [
    "from dataclasses import dataclass, field\n",
    "\n",
    "@dataclass\n",
    "class Address:\n",
    "    street: str\n",
    "    city: str\n",
    "    zip_code: str\n",
    "\n",
    "@dataclass\n",
    "class Person:\n",
    "    name: str\n",
    "    age: int\n",
    "    address: Address = field(default_factory=lambda: Address(street='', city='', zip_code=''))\n",
    "\n",
    "# Example usage\n",
    "person_with_default_address = Person(name='John Doe', age=30)\n",
    "\n",
    "# Accessing the default address\n",
    "print(person_with_default_address.address)"
   ]
  },
  {
   "cell_type": "markdown",
   "id": "b319c1d1-fb45-41b5-ab93-b4fbfe5f9006",
   "metadata": {},
   "source": [
    "### Pseudocode for output class"
   ]
  },
  {
   "cell_type": "code",
   "execution_count": null,
   "id": "39fa01fa-9ae8-4437-98d8-6b04a8a826b1",
   "metadata": {},
   "outputs": [],
   "source": [
    "from typing import Optional, Union\n",
    "from typing import Callable, TypeVar, Any, TypeAlias\n",
    "from dataclasses import dataclass\n",
    "\n",
    "import numpy as np"
   ]
  },
  {
   "cell_type": "code",
   "execution_count": null,
   "id": "84e1a9ad-d324-4a75-88a5-f8b45ed7a0d7",
   "metadata": {},
   "outputs": [],
   "source": [
    "@dataclass\n",
    "class VarFunc:\n",
    "    func: Callable = None\n",
    "    log_level: int = 0\n",
    "    unit: str = ''"
   ]
  },
  {
   "cell_type": "code",
   "execution_count": null,
   "id": "a20e229c-0bf1-4d39-bd71-2929c12718f3",
   "metadata": {},
   "outputs": [],
   "source": [
    "@dataclass\n",
    "class VarType:\n",
    "    property: TypeVar = None\n",
    "    log_level: int = 0\n",
    "    unit: str = ''"
   ]
  },
  {
   "cell_type": "code",
   "execution_count": null,
   "id": "4a4f1794-05e8-4dd7-ad26-55b51f261699",
   "metadata": {},
   "outputs": [],
   "source": [
    "VarFunc(func=np.sin, log_level=2).func"
   ]
  },
  {
   "cell_type": "code",
   "execution_count": null,
   "id": "fb62cfa1-3320-4d74-9e57-0ec10a55f796",
   "metadata": {},
   "outputs": [],
   "source": [
    "class toy_job:\n",
    "    def __init__(self, x=0):\n",
    "        self.x = x\n",
    "\n",
    "    def get_energy(self):\n",
    "        return np.sin(self.x)\n",
    "\n",
    "    def get_forces(self):\n",
    "        return np.ones(3)\n",
    "\n",
    "    @property\n",
    "    def my_x(self):\n",
    "        return self.x"
   ]
  },
  {
   "cell_type": "code",
   "execution_count": null,
   "id": "50330980-ea4d-4f40-88ee-dd752863201a",
   "metadata": {},
   "outputs": [],
   "source": [
    "job = toy_job(1)\n",
    "job.get_energy(), job.get_forces()"
   ]
  },
  {
   "cell_type": "code",
   "execution_count": null,
   "id": "8b242761-5c56-4f9d-a08d-1d335b15e46d",
   "metadata": {},
   "outputs": [],
   "source": [
    "@dataclass\n",
    "class wfOutput:\n",
    "    pass\n",
    "\n",
    "    def keys(self):\n",
    "        return self.__dict__.keys()\n",
    "\n",
    "    def __getitem__(self, key):\n",
    "        return self.__dict__[key]    \n",
    "\n",
    "    def __call__(self, job):\n",
    "        out_dict = dict()\n",
    "        for key in self.keys():\n",
    "            print (key)\n",
    "            v = self[key]\n",
    "            if isinstance(v, VarFunc):\n",
    "                out_dict[key] = job.__getattribute(job)()\n",
    "                \n",
    "        return out_dict       "
   ]
  },
  {
   "cell_type": "code",
   "execution_count": null,
   "id": "23c08913-e716-4638-a049-5e6c0bf508e8",
   "metadata": {},
   "outputs": [],
   "source": []
  },
  {
   "cell_type": "code",
   "execution_count": null,
   "id": "6558e0f8-b2a3-488e-988f-66ac0f5fded8",
   "metadata": {},
   "outputs": [],
   "source": [
    "import pint\n",
    "ureg = pint.UnitRegistry()\n",
    "ureg.angstrom"
   ]
  },
  {
   "cell_type": "code",
   "execution_count": null,
   "id": "c5b312fd-6dd2-45a5-8c6e-ef4d9a6a9b97",
   "metadata": {},
   "outputs": [],
   "source": [
    "# import ase\n",
    "import pint\n",
    "\n",
    "@dataclass\n",
    "class OutputEnergyStatic:\n",
    "    distance: float = 0.01\n",
    "    energy: VarFunc = VarFunc(func=toy_job.get_energy, log_level=0, unit=ureg.eV)\n",
    "    forces: VarFunc = VarFunc(func=toy_job.get_forces, log_level=1, unit=ureg.eV/ureg.angstrom)\n",
    "    prop: VarType = VarType(toy_job.my_x, log_level=2)\n",
    "\n",
    "    def keys(self):\n",
    "        return self.__dict__.keys()\n",
    "\n",
    "    def __getitem__(self, key):\n",
    "        return self.__dict__[key]    \n",
    "\n",
    "    def __call__(self, job):\n",
    "        out_dict = dict()\n",
    "        for key in self.keys():\n",
    "            print (key)\n",
    "            v = self[key]\n",
    "            if isinstance(v, VarFunc):\n",
    "                out_dict[key] = job.__getattribute(job)()\n",
    "                \n",
    "        return out_dict "
   ]
  },
  {
   "cell_type": "code",
   "execution_count": null,
   "id": "40323f9b-25ae-4d30-b105-964d086f1e9c",
   "metadata": {},
   "outputs": [],
   "source": [
    "xx"
   ]
  },
  {
   "cell_type": "code",
   "execution_count": null,
   "id": "cef22996-86fd-4ed8-88e3-253a5a4ff063",
   "metadata": {},
   "outputs": [],
   "source": [
    "%%time\n",
    "df = wf.iter(cell_size=list(range(1,4)), element=['Al'], vacancy_index=[None, 0], displacement=[0.01, 0.1]) #, Cu, Pd, Ag, Pt and Au])"
   ]
  },
  {
   "cell_type": "code",
   "execution_count": null,
   "id": "15426796-970d-467a-95b3-816f1067add0",
   "metadata": {},
   "outputs": [],
   "source": [
    "df"
   ]
  },
  {
   "cell_type": "code",
   "execution_count": null,
   "id": "89abfc53-4a70-4640-a34e-2825692ba8a6",
   "metadata": {},
   "outputs": [],
   "source": [
    "df.energy_displaced"
   ]
  },
  {
   "cell_type": "markdown",
   "id": "b7620240-f976-4cb5-9e95-d953d14c6bec",
   "metadata": {},
   "source": [
    "### Parallel pooling"
   ]
  },
  {
   "cell_type": "code",
   "execution_count": null,
   "id": "5e0b5714-18de-4ea6-be1f-ab1f44f9e6f5",
   "metadata": {},
   "outputs": [],
   "source": [
    "@single_value_node('out')\n",
    "def sleep(time=1, a=None, b=10):\n",
    "    from time import sleep\n",
    "    \n",
    "    sleep(time) \n",
    "    return dict(times=time, a2=a, b2=b)"
   ]
  },
  {
   "cell_type": "code",
   "execution_count": null,
   "id": "1c37d595-1060-4969-8fc9-c78548bc1963",
   "metadata": {},
   "outputs": [],
   "source": [
    "import inspect\n",
    "\n",
    "print(inspect.getsource(sleep.node_function))"
   ]
  },
  {
   "cell_type": "code",
   "execution_count": null,
   "id": "95d87f0c-3776-46d9-ba64-c4029be57192",
   "metadata": {},
   "outputs": [],
   "source": [
    "%%time\n",
    "sleep().iter(a=[1,2,3,4,5], max_workers=5, executor=1)"
   ]
  },
  {
   "cell_type": "code",
   "execution_count": null,
   "id": "9556bca8-a7aa-4df6-a1b3-13f6c6bfae38",
   "metadata": {},
   "outputs": [],
   "source": [
    "def sort_list_by_first_element(input_list):\n",
    "    sorted_list = sorted(input_list, key=lambda x: x[0])\n",
    "    return sorted_list"
   ]
  },
  {
   "cell_type": "code",
   "execution_count": null,
   "id": "78a1c63a-0805-4e98-b2ab-0353bf753b72",
   "metadata": {},
   "outputs": [],
   "source": [
    "def func(node, **kwargs):\n",
    "    return node(**kwargs).run()"
   ]
  },
  {
   "cell_type": "markdown",
   "id": "f87e4f17-6010-4070-b25c-139a5e997fd5",
   "metadata": {},
   "source": [
    "create list of dictionaries"
   ]
  },
  {
   "cell_type": "code",
   "execution_count": null,
   "id": "2aa23533-8b09-46fa-8e9b-0fdc0b75d812",
   "metadata": {},
   "outputs": [],
   "source": [
    "def to_list_of_kwargs(**kwargs):\n",
    "    keys = list(kwargs.keys())\n",
    "    lists = list(kwargs.values())\n",
    "\n",
    "    # Get the number of dimensions\n",
    "    num_dimensions = len(keys)\n",
    "\n",
    "    # Get the length of each list\n",
    "    lengths = [len(lst) for lst in lists]\n",
    "\n",
    "    # Initialize indices\n",
    "    indices = [0] * num_dimensions\n",
    "\n",
    "    kwargs_list = []\n",
    "\n",
    "    # Perform multidimensional for loop\n",
    "    count = 0\n",
    "    while indices[0] < lengths[0]:\n",
    "        # Access the current elements using indices\n",
    "        current_elements = [lists[i][indices[i]] for i in range(num_dimensions)]\n",
    "\n",
    "        # Add current_elements as a dictionary\n",
    "        current_elements_kwarg = dict(zip(keys, current_elements))\n",
    "        kwargs_list.append(current_elements_kwarg)\n",
    "\n",
    "        # Update indices for the next iteration\n",
    "        indices[num_dimensions - 1] += 1\n",
    "\n",
    "        # Update indices and carry-over if needed\n",
    "        for i in range(num_dimensions - 1, 0, -1):\n",
    "            if indices[i] == lengths[i]:\n",
    "                indices[i] = 0\n",
    "                indices[i - 1] += 1\n",
    "                \n",
    "    return kwargs_list                "
   ]
  },
  {
   "cell_type": "code",
   "execution_count": null,
   "id": "4fcc2d23-bdbb-4764-bbdb-ac941ed398d1",
   "metadata": {},
   "outputs": [],
   "source": [
    "def iter(node, max_workers=5, **kwargs):\n",
    "    from concurrent.futures import ThreadPoolExecutor, as_completed\n",
    "    import pandas as pd\n",
    "    \n",
    "    futures = []\n",
    "    future_index_map = {}\n",
    "    out = []\n",
    "    out_index = []\n",
    "\n",
    "    refs = to_list_of_kwargs(**kwargs)\n",
    "    df_refs = pd.DataFrame(refs)\n",
    "    \n",
    "    with ThreadPoolExecutor(max_workers=max_workers) as executor:  \n",
    "        for i, ref in enumerate(refs):    \n",
    "            future = executor.submit(func, node, **ref)\n",
    "            future_index_map[future] = i\n",
    "            futures.append(future)\n",
    "        \n",
    "        for future in as_completed(futures):\n",
    "            out.append(future.result())\n",
    "            out_index.append(future_index_map[future])\n",
    "        \n",
    "    df_out = pd.DataFrame(out, index=out_index).sort_index()\n",
    "    return pd.concat([df_refs, df_out], axis=1)\n",
    "    "
   ]
  },
  {
   "cell_type": "code",
   "execution_count": null,
   "id": "eb9a7e6f-2171-4d4b-9804-58d09bdd8206",
   "metadata": {},
   "outputs": [],
   "source": [
    "iter(sleep, max_workers=10, a=[1,2,3,4], b=[1,3])"
   ]
  },
  {
   "cell_type": "code",
   "execution_count": null,
   "id": "cfdce70a-08d5-4528-9c9a-c6f516b8e0df",
   "metadata": {},
   "outputs": [],
   "source": [
    "type(sleep())()"
   ]
  },
  {
   "cell_type": "code",
   "execution_count": null,
   "id": "b228a8bd-f7e8-4fe1-aece-ee7dc56365e8",
   "metadata": {},
   "outputs": [],
   "source": [
    "import pandas as pd"
   ]
  },
  {
   "cell_type": "code",
   "execution_count": null,
   "id": "f63a9ab5-b265-4f2e-bbfd-28ea12d72346",
   "metadata": {},
   "outputs": [],
   "source": [
    "pd.DataFrame(dict(a=[1,2,3,4]), index=[2,1,4,3]).sort_index()"
   ]
  },
  {
   "cell_type": "code",
   "execution_count": null,
   "id": "93883fd6-8847-48be-9b10-64fef0588e1f",
   "metadata": {},
   "outputs": [],
   "source": []
  },
  {
   "cell_type": "code",
   "execution_count": null,
   "id": "f62e3bcd-a671-4bac-a6d1-c9c2e32575ef",
   "metadata": {},
   "outputs": [],
   "source": [
    "%%time\n",
    "from pyiron_workflow.node_library.atomistic.engine.lammps import Code"
   ]
  },
  {
   "cell_type": "code",
   "execution_count": null,
   "id": "0a93e2cd-7636-4a33-a793-41d774fc639a",
   "metadata": {},
   "outputs": [],
   "source": [
    "%config IPCompleter.evaluation='unsafe'\n",
    "\n",
    "from pyiron_workflow import Workflow\n",
    "import numpy as np"
   ]
  },
  {
   "cell_type": "code",
   "execution_count": null,
   "id": "14ec45e1-7161-44fb-aac2-99c26a91b02e",
   "metadata": {},
   "outputs": [],
   "source": [
    "wf = Workflow('test')\n",
    "wf.register('pyiron_workflow.node_library.atomistic', domain='atomistic')"
   ]
  },
  {
   "cell_type": "code",
   "execution_count": null,
   "id": "4f2acd98-05de-479c-b5ff-5d2a0a6a5515",
   "metadata": {},
   "outputs": [],
   "source": [
    "@Workflow.wrap_as.macro_node('energy_pot')\n",
    "def energy_at_volume(wf, element='Al', cell_size=2, strain=0):\n",
    "\n",
    "    wf.structure = wf.create.atomistic.build.cubic_bulk_cell(element=element, cubic=True, cell_size=cell_size)\n",
    "    wf.apply_strain = wf.create.atomistic.structure.transform.apply_strain(structure=wf.structure.outputs.structure, strain=strain)\n",
    "    wf.engine = wf.create.atomistic.engine.lammps.Code(structure=wf.apply_strain)  # TODO: find a way to avoid structure=wf.structure !\n",
    "    wf.calc = wf.create.atomistic.calculator.generic.static(structure=wf.apply_strain, engine=wf.engine)\n",
    "    \n",
    "    return wf.calc.outputs.generic.energy_pot"
   ]
  },
  {
   "cell_type": "code",
   "execution_count": null,
   "id": "1d9470a3-de9d-4303-b0cd-1da4fd22eeaf",
   "metadata": {},
   "outputs": [],
   "source": [
    "df = energy_at_volume(element='Fe').iter(strain=np.linspace(-0.2, 0.2, 11))\n",
    "df.plot(x='strain', ylabel='Energy (eV)', title='Energy-Volume Curve');"
   ]
  },
  {
   "cell_type": "code",
   "execution_count": null,
   "id": "26833a88-1564-4c36-950e-483ea7227b85",
   "metadata": {},
   "outputs": [],
   "source": [
    "wf = Workflow('test')\n",
    "wf.register('pyiron_workflow.node_library.atomistic', domain='atomistic')\n",
    "wf.structure = wf.create.atomistic.structure.build.bulk('Al')\n",
    "wf.engine = wf.create.atomistic.engine.lammps.Code(structure=wf.structure)  # TODO: find a way to avoid structure=wf.structure !\n",
    "wf.calc = wf.create.atomistic.calculator.generic.static(structure=wf.structure, engine=wf.engine)\n",
    "\n",
    "wf.run()"
   ]
  },
  {
   "cell_type": "code",
   "execution_count": null,
   "id": "461090fc-2cf5-48d3-b63a-79f090f78823",
   "metadata": {},
   "outputs": [],
   "source": [
    "wf.calc.outputs.generic.value.energy_pot"
   ]
  },
  {
   "cell_type": "code",
   "execution_count": null,
   "id": "d015fbd6-4585-47e9-96d4-37d2a10d0885",
   "metadata": {},
   "outputs": [],
   "source": [
    "wf.engine.outputs.generic.value"
   ]
  },
  {
   "cell_type": "code",
   "execution_count": null,
   "id": "910840a9-e72b-4a8e-a095-3016e2b15ac7",
   "metadata": {},
   "outputs": [],
   "source": [
    "wf.calc"
   ]
  },
  {
   "cell_type": "code",
   "execution_count": null,
   "id": "499186dc-f0aa-4065-ab5b-cac6d636a110",
   "metadata": {},
   "outputs": [],
   "source": [
    "wf.calc.outputs.generic.value.energy_pot"
   ]
  },
  {
   "cell_type": "code",
   "execution_count": null,
   "id": "6773c7de-07fd-4d6b-a7c7-ad4aa5ceb0f4",
   "metadata": {},
   "outputs": [],
   "source": [
    "%%time\n",
    "from pyiron_workflow.node_library.atomistic.calculator.data import InputCalcMinimize, InputCalcStatic"
   ]
  },
  {
   "cell_type": "code",
   "execution_count": null,
   "id": "a4543371-f2fe-44b2-97ce-89a9e178d5d3",
   "metadata": {},
   "outputs": [],
   "source": [
    "%%time\n",
    "from pyiron.lammps.base import LammpsControl"
   ]
  },
  {
   "cell_type": "code",
   "execution_count": null,
   "id": "eda647f1-9b9d-4f8a-99d8-5bc104e53bba",
   "metadata": {},
   "outputs": [],
   "source": [
    "InputCalcMinimize(), InputCalcStatic()"
   ]
  },
  {
   "cell_type": "code",
   "execution_count": null,
   "id": "38698067-1f74-4fa2-a8a5-983bcd324d5d",
   "metadata": {},
   "outputs": [],
   "source": [
    "from pyiron_atomistics.lammps.control import LammpsControl"
   ]
  },
  {
   "cell_type": "code",
   "execution_count": null,
   "id": "8530dde2-be62-4b61-a9bb-8115df653336",
   "metadata": {},
   "outputs": [],
   "source": [
    "LammpsControl._mode"
   ]
  },
  {
   "cell_type": "code",
   "execution_count": null,
   "id": "bbd96d8e-cd8a-40da-8278-dea4330205d7",
   "metadata": {},
   "outputs": [],
   "source": []
  }
 ],
 "metadata": {
  "kernelspec": {
   "display_name": "Python 3 (ipykernel)",
   "language": "python",
   "name": "python3"
  },
  "language_info": {
   "codemirror_mode": {
    "name": "ipython",
    "version": 3
   },
   "file_extension": ".py",
   "mimetype": "text/x-python",
   "name": "python",
   "nbconvert_exporter": "python",
   "pygments_lexer": "ipython3",
   "version": "3.11.7"
  }
 },
 "nbformat": 4,
 "nbformat_minor": 5
}
