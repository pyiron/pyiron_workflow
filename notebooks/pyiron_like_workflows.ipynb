{
 "cells": [
  {
   "cell_type": "markdown",
   "id": "04fd3bae-2233-4bfd-968e-b9bbf29fbdee",
   "metadata": {},
   "source": [
    "# Explore pyiron-like workflows"
   ]
  },
  {
   "cell_type": "markdown",
   "id": "2516cd60-2976-4a31-be17-d6ead55db1dc",
   "metadata": {},
   "source": [
    "Aim: Explore how close the presently available features of the pyiron_workflow class allow us to write pyiron-like workflows"
   ]
  },
  {
   "cell_type": "code",
   "execution_count": null,
   "id": "762d44f0-c4c5-4387-8a48-ebeb4859aad8",
   "metadata": {},
   "outputs": [],
   "source": [
    "%config IPCompleter.evaluation='unsafe'\n",
    "\n",
    "import matplotlib.pylab as plt\n",
    "import numpy as np\n",
    "from pyiron_workflow.workflow import Workflow"
   ]
  },
  {
   "cell_type": "code",
   "execution_count": null,
   "id": "9722be04-13e5-4174-a1bc-da1eff6bf0a1",
   "metadata": {},
   "outputs": [],
   "source": [
    "%%time\n",
    "# from pyiron_atomistics.atomistics.structure.atoms import Atoms"
   ]
  },
  {
   "cell_type": "code",
   "execution_count": null,
   "id": "1674329d-aa54-4d51-bb96-4426789d822b",
   "metadata": {},
   "outputs": [],
   "source": [
    "import warnings\n",
    "warnings.filterwarnings('ignore')"
   ]
  },
  {
   "cell_type": "markdown",
   "id": "47798e04-5765-4071-a991-f78d3879a594",
   "metadata": {},
   "source": [
    "### Create structure and list available potentials"
   ]
  },
  {
   "cell_type": "code",
   "execution_count": null,
   "id": "719a215d-0651-4494-9ca4-0c5a876f3938",
   "metadata": {},
   "outputs": [],
   "source": [
    "wf = Workflow('Lammps')\n",
    "wf.register('pyiron_workflow.node_library.atomistic', domain='atomistic')\n",
    "wf.register('pyiron_workflow.node_library.atomistic_codes', domain='atomistic_codes')"
   ]
  },
  {
   "cell_type": "code",
   "execution_count": null,
   "id": "de3fa9ae-183d-432c-b119-cf34616523b1",
   "metadata": {},
   "outputs": [],
   "source": [
    "wf = Workflow('Lammps')\n",
    "wf.structure = wf.create.atomistic.structure.build.bulk('Al', cubic=True)\n",
    "wf.repeat = wf.create.atomistic.structure.transform.repeat(structure=wf.structure, repeat_scalar=1)\n",
    "\n",
    "wf.lammps = wf.create.atomistic_codes.Lammps(structure=wf.repeat, label='lammps')\n",
    "wf.lammps.ListPotentials()[:5]"
   ]
  },
  {
   "cell_type": "code",
   "execution_count": null,
   "id": "9b68c53d-4c32-4f6f-aa68-b9cfb95af6b5",
   "metadata": {},
   "outputs": [],
   "source": [
    "wf = Workflow('Lammps')\n",
    "wf.structure = wf.create.atomistic.structure.build.bulk('Al', cubic=True)\n",
    "wf.repeat = wf.create.atomistic.structure.transform.repeat(structure=wf.structure, repeat_scalar=1)\n",
    "\n",
    "wf.lammps = wf.create.atomistic_codes.Lammps(structure=wf.repeat, label='lammps')\n",
    "wf.lammps.ListPotentials()[:5]"
   ]
  },
  {
   "cell_type": "code",
   "execution_count": null,
   "id": "bfe72a25-6f36-47a3-9c4f-e3ded460d029",
   "metadata": {},
   "outputs": [],
   "source": [
    "wf.lammps.draw(depth=2)"
   ]
  },
  {
   "cell_type": "code",
   "execution_count": null,
   "id": "62b16448-4dcb-4e12-a5fa-6b091ecef608",
   "metadata": {},
   "outputs": [],
   "source": [
    "out = wf.run()\n",
    "print (f'Potential energy: {wf.lammps.outputs.generic.value.energy_pot}')"
   ]
  },
  {
   "cell_type": "code",
   "execution_count": null,
   "id": "86f6d2f0-a6e6-401c-bb46-d7393984fa55",
   "metadata": {},
   "outputs": [],
   "source": [
    "wf.lammps.Collect"
   ]
  },
  {
   "cell_type": "code",
   "execution_count": null,
   "id": "b98d3e39-4f68-4e80-bc86-87edb4976113",
   "metadata": {},
   "outputs": [],
   "source": [
    "wf.draw(depth=2)"
   ]
  },
  {
   "cell_type": "markdown",
   "id": "3e957298-f271-400b-9aeb-3014aa4854f7",
   "metadata": {},
   "source": [
    "### MD over list of temperatures"
   ]
  },
  {
   "cell_type": "code",
   "execution_count": null,
   "id": "9cd9260a-825d-4c83-a81d-a18baad03be3",
   "metadata": {},
   "outputs": [],
   "source": [
    "%%time\n",
    "for T in [300, 600, 900]:\n",
    "    wf = Workflow('Lammps')\n",
    "    wf.structure = wf.create.atomistic.structure.build.bulk('Al', cubic=True)\n",
    "    wf.repeat = wf.create.atomistic.structure.transform.repeat(structure=wf.structure, repeat_scalar=3)\n",
    "    \n",
    "    wf.lammps = wf.create.atomistic_codes.Lammps(structure=wf.repeat, label='lammps')\n",
    "    wf.lammps.calc_select.md(\n",
    "        calculator_input = {\n",
    "            \"temperature\": T, \n",
    "            \"n_ionic_steps\": 10_000\n",
    "        }\n",
    "    )\n",
    "    print ('T=', wf.lammps.calc.inputs.calculator_input.value[\"temperature\"])\n",
    "    \n",
    "    wf.run()\n",
    "    \n",
    "    plt.plot(wf.lammps.outputs.generic.value.energy_pot[2:], label=f'T={T}K')\n",
    "plt.legend();    "
   ]
  },
  {
   "cell_type": "code",
   "execution_count": null,
   "id": "e848e8fb-d421-44c6-a4cc-156d941af32e",
   "metadata": {},
   "outputs": [],
   "source": [
    "wf.draw(depth=2);"
   ]
  },
  {
   "cell_type": "code",
   "execution_count": null,
   "id": "c9309622-4351-4579-a514-6ac2c766dc12",
   "metadata": {},
   "outputs": [],
   "source": [
    "wf.lammps.draw();"
   ]
  },
  {
   "cell_type": "markdown",
   "id": "6bd036be-cde6-4447-90a4-ed147c5b54cc",
   "metadata": {
    "tags": []
   },
   "source": [
    "### Murnaghan (E-V) macro"
   ]
  },
  {
   "cell_type": "code",
   "execution_count": null,
   "id": "dd4fb45e-1c25-4224-b23d-6f3d77544eb4",
   "metadata": {},
   "outputs": [],
   "source": [
    "@Workflow.wrap_as.macro_node('energy_pot')\n",
    "def energy_at_volume(wf, element='Al', cell_size=2, strain=0):\n",
    "    wf.bulk = wf.create.atomistic.build.cubic_bulk_cell(element=element, cubic=True, cell_size=cell_size)\n",
    "    wf.apply_strain = wf.create.atomistic.structure.transform.apply_strain(structure=wf.bulk.outputs.structure, strain=strain)\n",
    "    \n",
    "    wf.lammps = wf.create.atomistic_codes.Lammps(structure=wf.apply_strain, label='lammps')\n",
    "    \n",
    "    return wf.lammps.outputs.generic.energy_pot"
   ]
  },
  {
   "cell_type": "code",
   "execution_count": null,
   "id": "6d848d6d-2a6e-48e8-9cd2-7cac862a3d1a",
   "metadata": {},
   "outputs": [],
   "source": [
    "df = energy_at_volume().iter(strain=np.linspace(-0.2, 0.2, 11))\n",
    "df.plot(x='strain', ylabel='Energy (eV)', title='Energy-Volume Curve');"
   ]
  },
  {
   "cell_type": "code",
   "execution_count": null,
   "id": "3050e5e5-4c68-4195-a665-0f5d4b0b78b0",
   "metadata": {},
   "outputs": [],
   "source": [
    "import numpy as np\n",
    "\n",
    "energy_pot = []\n",
    "strain_lst = np.linspace(0.86, 1, 11) - 1\n",
    "for strain in strain_lst:\n",
    "    wf = energy_at_volume(element='Al', strain=strain)\n",
    "    out = wf.run()\n",
    "\n",
    "    energy_pot.append(out['energy_pot'])  \n",
    "\n",
    "plt.plot(strain_lst, energy_pot);"
   ]
  },
  {
   "cell_type": "markdown",
   "id": "f962df29-d580-44a7-a264-12101f77b61b",
   "metadata": {},
   "source": [
    "### Data store\n",
    "\n",
    "Temporarily deprecated until we merge with the existing storage branch"
   ]
  },
  {
   "cell_type": "code",
   "execution_count": null,
   "id": "7fcc5262-713b-4755-a730-0b1f6fa6349c",
   "metadata": {},
   "outputs": [],
   "source": [
    "# from pyiron_workflow.node_library.dev_tools import DataStore, node_to_data_container, extract_value"
   ]
  },
  {
   "cell_type": "code",
   "execution_count": null,
   "id": "6fd3b054-d066-4b05-9cbf-f5fa88476a45",
   "metadata": {},
   "outputs": [],
   "source": [
    "# ds = DataStore(path='DataStore')\n",
    "# ds.store(wf, overwrite=True)"
   ]
  },
  {
   "cell_type": "code",
   "execution_count": null,
   "id": "347cdcc9-db7a-4d84-9578-a04cad573aac",
   "metadata": {},
   "outputs": [],
   "source": [
    "# wf_new = ds.load(wf.label)"
   ]
  },
  {
   "cell_type": "code",
   "execution_count": null,
   "id": "e3720e67-67d0-4f3a-a8ae-57dbd86c20b7",
   "metadata": {},
   "outputs": [],
   "source": [
    "# wf.lammps"
   ]
  },
  {
   "cell_type": "code",
   "execution_count": null,
   "id": "2c3b4321-f8a9-4e7f-bd8e-63bae6abf8d5",
   "metadata": {},
   "outputs": [],
   "source": [
    "# wf.outputs.energy_pot.value"
   ]
  },
  {
   "cell_type": "markdown",
   "id": "5ddd1963-e2e3-41d9-a0b5-eb0c0ffa6f20",
   "metadata": {},
   "source": [
    "TODO: Convert data_container to node"
   ]
  },
  {
   "cell_type": "code",
   "execution_count": null,
   "id": "e9083ee4-df8a-4a57-b168-f932b52071c3",
   "metadata": {},
   "outputs": [],
   "source": [
    "# out = wf(element='Fe')"
   ]
  },
  {
   "cell_type": "code",
   "execution_count": null,
   "id": "17f03ced-1b20-4db1-b78a-70db0c4f9c1c",
   "metadata": {},
   "outputs": [],
   "source": [
    "# ds.remove(wf.label)"
   ]
  },
  {
   "cell_type": "markdown",
   "id": "080d1640-d376-4030-b58d-ce7b39b2a181",
   "metadata": {},
   "source": [
    "#### Test pickle"
   ]
  },
  {
   "cell_type": "code",
   "execution_count": null,
   "id": "7c476ec9-e35b-46fe-bca1-f7705aa205d2",
   "metadata": {},
   "outputs": [],
   "source": [
    "# import  cloudpickle as pickle"
   ]
  },
  {
   "cell_type": "code",
   "execution_count": null,
   "id": "f0b574b3-3c74-44fe-a471-650738f2af9c",
   "metadata": {},
   "outputs": [],
   "source": [
    "# with open('node.pickle', 'wb') as f:\n",
    "#     pickle.dump(wf, f)"
   ]
  },
  {
   "cell_type": "code",
   "execution_count": null,
   "id": "bf304ec5-2fe4-46cc-8ec8-2fcdb82500b6",
   "metadata": {},
   "outputs": [],
   "source": [
    "# with open('node.pickle', 'rb') as f:\n",
    "#     new_node = pickle.load(f)"
   ]
  },
  {
   "cell_type": "code",
   "execution_count": null,
   "id": "397d1b5e-9336-463a-94d5-a508b8a1b9e7",
   "metadata": {},
   "outputs": [],
   "source": [
    "# new_node.run();"
   ]
  },
  {
   "cell_type": "code",
   "execution_count": null,
   "id": "fc47c328-a3c6-42da-856e-cdfe58bdb5f5",
   "metadata": {},
   "outputs": [],
   "source": [
    "# new_node.outputs.energy_pot.value"
   ]
  },
  {
   "cell_type": "code",
   "execution_count": null,
   "id": "3edaaa9e-8b3f-4298-a9f2-456d7013276a",
   "metadata": {},
   "outputs": [],
   "source": [
    "# out.energy_pot"
   ]
  },
  {
   "cell_type": "code",
   "execution_count": null,
   "id": "b1d5e21f-6cae-4d0c-8543-1d3c1790fc37",
   "metadata": {},
   "outputs": [],
   "source": [
    "# out"
   ]
  },
  {
   "cell_type": "markdown",
   "id": "3cd82505-a654-4f88-999e-9f9c636c0a96",
   "metadata": {},
   "source": [
    "## Apply Jan's atomistic class"
   ]
  },
  {
   "cell_type": "code",
   "execution_count": null,
   "id": "21e00942-bc9a-48f9-838d-e16aa4d67fb6",
   "metadata": {},
   "outputs": [],
   "source": [
    "wf.register('atomistics', 'pyiron_workflow.node_library.atomistics')"
   ]
  },
  {
   "cell_type": "code",
   "execution_count": null,
   "id": "afd76914-fa37-4ec2-b22d-adecc03f232f",
   "metadata": {},
   "outputs": [],
   "source": [
    "wf = Workflow('Murnaghan')\n",
    "wf.bulk = wf.create.atomistics.task.Bulk('Al', cubic=True)\n",
    "wf.lammps = wf.create.atomistics.calculator.Lammps()\n",
    "wf.lammps_potential = wf.create.atomistics.calculator.LammpsPotential(structure=wf.bulk)\n",
    "wf.macro = wf.create.atomistics.macro.EnergyVolumeCurve(calculator=wf.lammps)"
   ]
  },
  {
   "cell_type": "code",
   "execution_count": null,
   "id": "bc0aae29-1d88-4720-97c1-035071b200d7",
   "metadata": {},
   "outputs": [],
   "source": [
    "bulk = wf.bulk.run()\n",
    "bulk"
   ]
  },
  {
   "cell_type": "code",
   "execution_count": null,
   "id": "84d5b8d5-c39f-4102-9a22-4298611abb94",
   "metadata": {},
   "outputs": [],
   "source": [
    "wf.lammps_potential.inputs"
   ]
  },
  {
   "cell_type": "code",
   "execution_count": null,
   "id": "37c3d874-2be5-4b83-8a8b-19c26c6d5197",
   "metadata": {},
   "outputs": [],
   "source": [
    "wf.draw();"
   ]
  },
  {
   "cell_type": "code",
   "execution_count": null,
   "id": "37d7aaf1-fbc9-45ed-ba3a-ab44254d99aa",
   "metadata": {},
   "outputs": [],
   "source": []
  },
  {
   "cell_type": "markdown",
   "id": "56b272e8-8dd9-46f6-aa92-0d1463b54ac8",
   "metadata": {},
   "source": [
    "#### Debug example"
   ]
  },
  {
   "cell_type": "code",
   "execution_count": null,
   "id": "ac98a74f-c712-49bd-8622-dadf3579be07",
   "metadata": {},
   "outputs": [],
   "source": [
    "@Workflow.wrap_as.single_value_node('string')\n",
    "def create_string(my_string: str=''):\n",
    "    return my_string\n",
    "\n",
    "@Workflow.wrap_as.single_value_node('string')\n",
    "def plus(my_string_1: str='', my_string_2: str='', my_string_3: str='', my_string_4: str=''):\n",
    "    return my_string_1 + my_string_2 + my_string_3 + my_string_4"
   ]
  },
  {
   "cell_type": "code",
   "execution_count": null,
   "id": "d01decfc-8d46-47f2-b7d4-495e2d91db59",
   "metadata": {},
   "outputs": [],
   "source": [
    "wf = Workflow('test')\n",
    "\n",
    "wf.string1 = create_string('a')\n",
    "wf.string2 = create_string('b')\n",
    "wf.string3 = create_string('c')\n",
    "\n",
    "wf.sum_1 = plus(wf.string1, wf.string2, wf.string1)\n",
    "wf.sum_2 = plus(wf.sum_1, wf.string3)\n",
    "wf.sum_3 = plus(wf.sum_2, wf.string1, wf.string2)\n",
    "\n",
    "wf.draw()"
   ]
  },
  {
   "cell_type": "code",
   "execution_count": null,
   "id": "e0a9f114-3887-429b-9bf5-84d21871fedc",
   "metadata": {},
   "outputs": [],
   "source": []
  }
 ],
 "metadata": {
  "kernelspec": {
   "display_name": "Python 3 (ipykernel)",
   "language": "python",
   "name": "python3"
  },
  "language_info": {
   "codemirror_mode": {
    "name": "ipython",
    "version": 3
   },
   "file_extension": ".py",
   "mimetype": "text/x-python",
   "name": "python",
   "nbconvert_exporter": "python",
   "pygments_lexer": "ipython3",
   "version": "3.11.7"
  }
 },
 "nbformat": 4,
 "nbformat_minor": 5
}
