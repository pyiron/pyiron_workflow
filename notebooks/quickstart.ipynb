{
 "cells": [
  {
   "cell_type": "markdown",
   "id": "96fdb45b-624c-4301-a0cf-44874b0693b1",
   "metadata": {},
   "source": [
    "# Pyiron workflows: quickstart\n",
    "\n",
    "You can start converting python functions to `pyiron_workflow` nodes by wrapping them with decorators accessible from our single-point-of-entry, the `Workflow` class:"
   ]
  },
  {
   "cell_type": "code",
   "execution_count": 1,
   "id": "4655322e-5755-455e-aff7-30067a999b7d",
   "metadata": {},
   "outputs": [],
   "source": [
    "from pyiron_workflow import Workflow"
   ]
  },
  {
   "cell_type": "markdown",
   "id": "8d6274b4-880d-40d7-9ce9-63d05c4a60e2",
   "metadata": {},
   "source": [
    "## From function to node\n",
    "\n",
    "Let's start with a super simple function that only returns a single thing"
   ]
  },
  {
   "cell_type": "code",
   "execution_count": 2,
   "id": "4022f7b6-1192-454f-bc15-98d8242fedaf",
   "metadata": {},
   "outputs": [],
   "source": [
    "@Workflow.wrap.as_function_node\n",
    "def AddOne(x):\n",
    "    y = x + 1\n",
    "    return y\n",
    "\n",
    "node = AddOne()"
   ]
  },
  {
   "cell_type": "markdown",
   "id": "7c04df9a-856d-4015-87f5-b8ce3b0d87df",
   "metadata": {},
   "source": [
    "This node object can be run just like the function it wraps"
   ]
  },
  {
   "cell_type": "code",
   "execution_count": 3,
   "id": "4520136f-d8a7-4721-9eb3-52b271cce33f",
   "metadata": {},
   "outputs": [
    {
     "data": {
      "text/plain": [
       "43"
      ]
     },
     "execution_count": 3,
     "metadata": {},
     "output_type": "execute_result"
    }
   ],
   "source": [
    "node(42)"
   ]
  },
  {
   "cell_type": "markdown",
   "id": "d5e804d6-93ab-43a0-a330-31b76b719a18",
   "metadata": {},
   "source": [
    "But is also a class instance with input and output channels (note that here the output value takes its name based on what came after the `return` statement)"
   ]
  },
  {
   "cell_type": "code",
   "execution_count": 4,
   "id": "e3577e45-f693-4ef4-80ed-743d2a8e0557",
   "metadata": {},
   "outputs": [
    {
     "data": {
      "text/plain": [
       "1"
      ]
     },
     "execution_count": 4,
     "metadata": {},
     "output_type": "execute_result"
    }
   ],
   "source": [
    "node.inputs.x = 0\n",
    "node.run()\n",
    "node.outputs.y.value"
   ]
  },
  {
   "cell_type": "markdown",
   "id": "4c4969d5-dd73-413d-af69-8f568b890247",
   "metadata": {},
   "source": [
    "So other than being delayed, these nodes behave a _lot_ like the regular python functions that wrap them. Notice that the node object has named inputs _and_ outputs -- unlike a regular function for which only inputs are named. \n",
    "\n",
    "These are \"data channels\" for the node. The names of input channels is obvious from the signature of the decorated function. We'll see later how to pass specific output names to the `as_function_node` decorator, but in this case `y` was just scraped automatically from the text of the `return y` statement --  a good encouragement to use meaningful variable names and then return them."
   ]
  },
  {
   "cell_type": "markdown",
   "id": "c0b1a9ba-64da-45af-874f-27ffb00c68e9",
   "metadata": {},
   "source": [
    "Just like regular functions, we can nest function nodes together -- the result is still delayed, so we need to call the nested object at the end:"
   ]
  },
  {
   "cell_type": "code",
   "execution_count": 5,
   "id": "768e99e8-901e-4f2b-9a80-4efe25d59e67",
   "metadata": {},
   "outputs": [
    {
     "data": {
      "text/plain": [
       "5"
      ]
     },
     "execution_count": 5,
     "metadata": {},
     "output_type": "execute_result"
    }
   ],
   "source": [
    "calculation = AddOne(AddOne(AddOne(2)))\n",
    "calculation()"
   ]
  },
  {
   "cell_type": "markdown",
   "id": "bfbdc0bb-fba0-45d9-b1bf-c0dfa07871c2",
   "metadata": {},
   "source": [
    "But they are actually nodes, and what we saw above is just syntactic sugar for building a _graph_ connecting the inputs and outputs of the nodes:"
   ]
  },
  {
   "cell_type": "code",
   "execution_count": 6,
   "id": "f1f7c7e2-0300-4be7-afd7-4a490bac06f9",
   "metadata": {},
   "outputs": [
    {
     "data": {
      "text/plain": [
       "3"
      ]
     },
     "execution_count": 6,
     "metadata": {},
     "output_type": "execute_result"
    }
   ],
   "source": [
    "n1 = AddOne()\n",
    "n2 = AddOne()\n",
    "n3 = AddOne()\n",
    "\n",
    "n2.inputs.x = n1.outputs.y\n",
    "n3.inputs.x = n2.outputs.y\n",
    "\n",
    "n1.inputs.x = 0\n",
    "n3()"
   ]
  },
  {
   "cell_type": "markdown",
   "id": "d9fce064-3b4c-4b6e-bc8c-9114fd1b0b0c",
   "metadata": {},
   "source": [
    "In the special case that a node has only _one_ output channel (i.e. only one return value in the decorated function), this object will fall back on trying to perform operations on that output channel! Combining this with the syntactic sugar for using the function signature to set input values, we can equivalently write the example above as:"
   ]
  },
  {
   "cell_type": "code",
   "execution_count": 7,
   "id": "d324eb58-af77-4f11-9b19-4712227ed91a",
   "metadata": {},
   "outputs": [
    {
     "data": {
      "text/plain": [
       "3"
      ]
     },
     "execution_count": 7,
     "metadata": {},
     "output_type": "execute_result"
    }
   ],
   "source": [
    "n1 = AddOne(x=0)\n",
    "n2 = AddOne(x=n1)\n",
    "n3 = AddOne(x=n2)\n",
    "n3()"
   ]
  },
  {
   "cell_type": "markdown",
   "id": "23aa57a3-12a9-418c-ba7e-2aaa1a4ba2b0",
   "metadata": {},
   "source": [
    "Let's come back to how output data channels are named. Sometimes you want to return something that looks \"ugly\" -- like `x + 1` in the example above -- or perhaps you're making a function node out of a function you didn't write and don't have the power to change. In the former case you can create a new local variable that looks \"pretty\" (`y = x + 1` above) and return that, but in either case you can pass an output label to the decorator. Nodes also pull hints and defaults from the function they wrap. We can re-write our example above to leverage all of this:"
   ]
  },
  {
   "cell_type": "code",
   "execution_count": 8,
   "id": "e6d06a0c-a558-4bb0-b72e-83820a6f0186",
   "metadata": {},
   "outputs": [
    {
     "data": {
      "text/plain": [
       "{'inputs': {'x': (int, NOT_DATA)}, 'outputs': {'y': int}}"
      ]
     },
     "execution_count": 8,
     "metadata": {},
     "output_type": "execute_result"
    }
   ],
   "source": [
    "@Workflow.wrap.as_function_node(\"y\")\n",
    "def AddOne(x: int) -> int:\n",
    "    return x + 1\n",
    "\n",
    "AddOne.preview_io()"
   ]
  },
  {
   "cell_type": "markdown",
   "id": "dfa3db51-31d7-43c8-820a-6e5f3525837e",
   "metadata": {},
   "source": [
    "## Putting it together in a workflow\n",
    "\n",
    "We can work with nodes all by themselves, but since the whole point is to connect them together to make a computation graph, we can get extra tools by intentionally making these children of a `Workflow` node.\n",
    "\n",
    "The `Workflow` class not only gives us access to the decorators for defining new nodes, but also lets us access a core set of existing nodes. Let's put together a workflow that uses both an existing node from the creator, and another function node that has multiple return values. This function node will also exploit our ability to name outputs (in the decorator argument) and give type hints (in the function signature, as usual). \n",
    "\n",
    "In addition to using output channels (or nodes, if they have only a single output) to make connections to input channels, we can perform many (but not all) other python operations on them to dynamically create new nodes! Below see how we do math and indexing right on the output channels:"
   ]
  },
  {
   "cell_type": "code",
   "execution_count": 9,
   "id": "4c80aee3-a8e4-444c-9260-3078f8d617a4",
   "metadata": {},
   "outputs": [],
   "source": [
    "wf = Workflow(\"my_workflow\")\n",
    "\n",
    "@Workflow.wrap.as_function_node(\"range\", \"length\")\n",
    "def Range(n: int) -> tuple[list[int], int]:\n",
    "    \"\"\"\n",
    "    Two outputs is silly overkill, but just to demonstrate how Function nodes work\n",
    "    \"\"\"\n",
    "    r = range(n)\n",
    "    return list(r), len(r)\n",
    "\n",
    "\n",
    "wf.range = Range()\n",
    "wf.last_square = wf.range.outputs.range[-1]**2"
   ]
  },
  {
   "cell_type": "markdown",
   "id": "39934a33-ad13-450c-9b46-385985916112",
   "metadata": {},
   "source": [
    "We also can visualize the workflow to see its constituents and connections:"
   ]
  },
  {
   "cell_type": "code",
   "execution_count": 10,
   "id": "c1ef0cf9-131f-4abd-a1dd-d4f066fe1d32",
   "metadata": {},
   "outputs": [
    {
     "data": {
      "image/svg+xml": [
       "<?xml version=\"1.0\" encoding=\"UTF-8\" standalone=\"no\"?>\n",
       "<!DOCTYPE svg PUBLIC \"-//W3C//DTD SVG 1.1//EN\"\n",
       " \"http://www.w3.org/Graphics/SVG/1.1/DTD/svg11.dtd\">\n",
       "<!-- Generated by graphviz version 12.0.0 (0)\n",
       " -->\n",
       "<!-- Title: clustermy_workflow Pages: 1 -->\n",
       "<svg width=\"720pt\" height=\"245pt\"\n",
       " viewBox=\"0.00 0.00 720.00 245.19\" xmlns=\"http://www.w3.org/2000/svg\" xmlns:xlink=\"http://www.w3.org/1999/xlink\">\n",
       "<g id=\"graph0\" class=\"graph\" transform=\"scale(0.424197 0.424197) rotate(0) translate(4 574)\">\n",
       "<title>clustermy_workflow</title>\n",
       "<polygon fill=\"white\" stroke=\"none\" points=\"-4,4 -4,-574 1693.32,-574 1693.32,4 -4,4\"/>\n",
       "<text text-anchor=\"middle\" x=\"844.66\" y=\"-5.7\" font-family=\"Helvetica,sans-Serif\" font-size=\"14.00\">my_workflow: Workflow</text>\n",
       "<g id=\"clust1\" class=\"cluster\">\n",
       "<title>clustermy_workflowInputs</title>\n",
       "<defs>\n",
       "<linearGradient id=\"clust1_l_0\" gradientUnits=\"userSpaceOnUse\" x1=\"8\" y1=\"-255.5\" x2=\"427.94\" y2=\"-255.5\" >\n",
       "<stop offset=\"0\" style=\"stop-color:#a5a4a5;stop-opacity:1.;\"/>\n",
       "<stop offset=\"1\" style=\"stop-color:#e4e3e4;stop-opacity:1.;\"/>\n",
       "</linearGradient>\n",
       "</defs>\n",
       "<polygon fill=\"url(#clust1_l_0)\" stroke=\"#a5a4a5\" points=\"8,-110 8,-401 427.94,-401 427.94,-110 8,-110\"/>\n",
       "<text text-anchor=\"middle\" x=\"217.97\" y=\"-383.7\" font-family=\"Helvetica,sans-Serif\" font-size=\"14.00\">Inputs</text>\n",
       "</g>\n",
       "<g id=\"clust2\" class=\"cluster\">\n",
       "<title>clustermy_workflowOutputs</title>\n",
       "<defs>\n",
       "<linearGradient id=\"clust2_l_1\" gradientUnits=\"userSpaceOnUse\" x1=\"1681.32\" y1=\"-171.5\" x2=\"1502.19\" y2=\"-171.5\" >\n",
       "<stop offset=\"0\" style=\"stop-color:#a5a4a5;stop-opacity:1.;\"/>\n",
       "<stop offset=\"1\" style=\"stop-color:#e4e3e4;stop-opacity:1.;\"/>\n",
       "</linearGradient>\n",
       "</defs>\n",
       "<polygon fill=\"url(#clust2_l_1)\" stroke=\"#a5a4a5\" points=\"1502.19,-80 1502.19,-263 1681.32,-263 1681.32,-80 1502.19,-80\"/>\n",
       "<text text-anchor=\"middle\" x=\"1591.76\" y=\"-245.7\" font-family=\"Helvetica,sans-Serif\" font-size=\"14.00\">Outputs</text>\n",
       "</g>\n",
       "<g id=\"clust3\" class=\"cluster\">\n",
       "<title>clustermy_workflowrange</title>\n",
       "<defs>\n",
       "<linearGradient id=\"clust3_l_2\" gradientUnits=\"userSpaceOnUse\" x1=\"439.94\" y1=\"-451\" x2=\"784.69\" y2=\"-451\" >\n",
       "<stop offset=\"0\" style=\"stop-color:#bfe2bf;stop-opacity:1.;\"/>\n",
       "<stop offset=\"1\" style=\"stop-color:#bfe2bf;stop-opacity:1.;\"/>\n",
       "</linearGradient>\n",
       "</defs>\n",
       "<polygon fill=\"url(#clust3_l_2)\" stroke=\"#bfe2bf\" points=\"439.94,-340 439.94,-562 784.69,-562 784.69,-340 439.94,-340\"/>\n",
       "<text text-anchor=\"middle\" x=\"612.31\" y=\"-544.7\" font-family=\"Helvetica,sans-Serif\" font-size=\"14.00\">range: Range</text>\n",
       "</g>\n",
       "<g id=\"clust4\" class=\"cluster\">\n",
       "<title>clustermy_workflowrangeInputs</title>\n",
       "<defs>\n",
       "<linearGradient id=\"clust4_l_3\" gradientUnits=\"userSpaceOnUse\" x1=\"447.94\" y1=\"-439.5\" x2=\"606.69\" y2=\"-439.5\" >\n",
       "<stop offset=\"0\" style=\"stop-color:#a5a4a5;stop-opacity:1.;\"/>\n",
       "<stop offset=\"1\" style=\"stop-color:#e4e3e4;stop-opacity:1.;\"/>\n",
       "</linearGradient>\n",
       "</defs>\n",
       "<polygon fill=\"url(#clust4_l_3)\" stroke=\"#a5a4a5\" points=\"447.94,-348 447.94,-531 606.69,-531 606.69,-348 447.94,-348\"/>\n",
       "<text text-anchor=\"middle\" x=\"527.31\" y=\"-513.7\" font-family=\"Helvetica,sans-Serif\" font-size=\"14.00\">Inputs</text>\n",
       "</g>\n",
       "<g id=\"clust5\" class=\"cluster\">\n",
       "<title>clustermy_workflowrangeOutputsWithInjection</title>\n",
       "<defs>\n",
       "<linearGradient id=\"clust5_l_4\" gradientUnits=\"userSpaceOnUse\" x1=\"776.69\" y1=\"-439.5\" x2=\"634.69\" y2=\"-439.5\" >\n",
       "<stop offset=\"0\" style=\"stop-color:#a5a4a5;stop-opacity:1.;\"/>\n",
       "<stop offset=\"1\" style=\"stop-color:#e4e3e4;stop-opacity:1.;\"/>\n",
       "</linearGradient>\n",
       "</defs>\n",
       "<polygon fill=\"url(#clust5_l_4)\" stroke=\"#a5a4a5\" points=\"634.69,-348 634.69,-531 776.69,-531 776.69,-348 634.69,-348\"/>\n",
       "<text text-anchor=\"middle\" x=\"705.69\" y=\"-513.7\" font-family=\"Helvetica,sans-Serif\" font-size=\"14.00\">OutputsWithInjection</text>\n",
       "</g>\n",
       "<g id=\"clust6\" class=\"cluster\">\n",
       "<title>clustermy_workflowinjected_GetItem_1317806972882845842</title>\n",
       "<defs>\n",
       "<linearGradient id=\"clust6_l_5\" gradientUnits=\"userSpaceOnUse\" x1=\"792.69\" y1=\"-179\" x2=\"1137.44\" y2=\"-179\" >\n",
       "<stop offset=\"0\" style=\"stop-color:#bfe2bf;stop-opacity:1.;\"/>\n",
       "<stop offset=\"1\" style=\"stop-color:#bfe2bf;stop-opacity:1.;\"/>\n",
       "</linearGradient>\n",
       "</defs>\n",
       "<polygon fill=\"url(#clust6_l_5)\" stroke=\"#bfe2bf\" points=\"792.69,-41 792.69,-317 1137.44,-317 1137.44,-41 792.69,-41\"/>\n",
       "<text text-anchor=\"middle\" x=\"965.06\" y=\"-299.7\" font-family=\"Helvetica,sans-Serif\" font-size=\"14.00\">injected_GetItem_1317806972882845842: GetItem</text>\n",
       "</g>\n",
       "<g id=\"clust7\" class=\"cluster\">\n",
       "<title>clustermy_workflowinjected_GetItem_1317806972882845842Inputs</title>\n",
       "<defs>\n",
       "<linearGradient id=\"clust7_l_6\" gradientUnits=\"userSpaceOnUse\" x1=\"800.69\" y1=\"-167.5\" x2=\"959.44\" y2=\"-167.5\" >\n",
       "<stop offset=\"0\" style=\"stop-color:#a5a4a5;stop-opacity:1.;\"/>\n",
       "<stop offset=\"1\" style=\"stop-color:#e4e3e4;stop-opacity:1.;\"/>\n",
       "</linearGradient>\n",
       "</defs>\n",
       "<polygon fill=\"url(#clust7_l_6)\" stroke=\"#a5a4a5\" points=\"800.69,-49 800.69,-286 959.44,-286 959.44,-49 800.69,-49\"/>\n",
       "<text text-anchor=\"middle\" x=\"880.06\" y=\"-268.7\" font-family=\"Helvetica,sans-Serif\" font-size=\"14.00\">Inputs</text>\n",
       "</g>\n",
       "<g id=\"clust8\" class=\"cluster\">\n",
       "<title>clustermy_workflowinjected_GetItem_1317806972882845842OutputsWithInjection</title>\n",
       "<defs>\n",
       "<linearGradient id=\"clust8_l_7\" gradientUnits=\"userSpaceOnUse\" x1=\"1129.44\" y1=\"-155.5\" x2=\"987.44\" y2=\"-155.5\" >\n",
       "<stop offset=\"0\" style=\"stop-color:#a5a4a5;stop-opacity:1.;\"/>\n",
       "<stop offset=\"1\" style=\"stop-color:#e4e3e4;stop-opacity:1.;\"/>\n",
       "</linearGradient>\n",
       "</defs>\n",
       "<polygon fill=\"url(#clust8_l_7)\" stroke=\"#a5a4a5\" points=\"987.44,-91 987.44,-220 1129.44,-220 1129.44,-91 987.44,-91\"/>\n",
       "<text text-anchor=\"middle\" x=\"1058.44\" y=\"-202.7\" font-family=\"Helvetica,sans-Serif\" font-size=\"14.00\">OutputsWithInjection</text>\n",
       "</g>\n",
       "<g id=\"clust9\" class=\"cluster\">\n",
       "<title>clustermy_workflowlast_square</title>\n",
       "<defs>\n",
       "<linearGradient id=\"clust9_l_8\" gradientUnits=\"userSpaceOnUse\" x1=\"1145.44\" y1=\"-210\" x2=\"1490.19\" y2=\"-210\" >\n",
       "<stop offset=\"0\" style=\"stop-color:#bfe2bf;stop-opacity:1.;\"/>\n",
       "<stop offset=\"1\" style=\"stop-color:#bfe2bf;stop-opacity:1.;\"/>\n",
       "</linearGradient>\n",
       "</defs>\n",
       "<polygon fill=\"url(#clust9_l_8)\" stroke=\"#bfe2bf\" points=\"1145.44,-72 1145.44,-348 1490.19,-348 1490.19,-72 1145.44,-72\"/>\n",
       "<text text-anchor=\"middle\" x=\"1317.81\" y=\"-330.7\" font-family=\"Helvetica,sans-Serif\" font-size=\"14.00\">last_square: Power</text>\n",
       "</g>\n",
       "<g id=\"clust10\" class=\"cluster\">\n",
       "<title>clustermy_workflowlast_squareInputs</title>\n",
       "<defs>\n",
       "<linearGradient id=\"clust10_l_9\" gradientUnits=\"userSpaceOnUse\" x1=\"1153.44\" y1=\"-198.5\" x2=\"1312.19\" y2=\"-198.5\" >\n",
       "<stop offset=\"0\" style=\"stop-color:#a5a4a5;stop-opacity:1.;\"/>\n",
       "<stop offset=\"1\" style=\"stop-color:#e4e3e4;stop-opacity:1.;\"/>\n",
       "</linearGradient>\n",
       "</defs>\n",
       "<polygon fill=\"url(#clust10_l_9)\" stroke=\"#a5a4a5\" points=\"1153.44,-80 1153.44,-317 1312.19,-317 1312.19,-80 1153.44,-80\"/>\n",
       "<text text-anchor=\"middle\" x=\"1232.81\" y=\"-299.7\" font-family=\"Helvetica,sans-Serif\" font-size=\"14.00\">Inputs</text>\n",
       "</g>\n",
       "<g id=\"clust11\" class=\"cluster\">\n",
       "<title>clustermy_workflowlast_squareOutputsWithInjection</title>\n",
       "<defs>\n",
       "<linearGradient id=\"clust11_l_10\" gradientUnits=\"userSpaceOnUse\" x1=\"1482.19\" y1=\"-144.5\" x2=\"1340.19\" y2=\"-144.5\" >\n",
       "<stop offset=\"0\" style=\"stop-color:#a5a4a5;stop-opacity:1.;\"/>\n",
       "<stop offset=\"1\" style=\"stop-color:#e4e3e4;stop-opacity:1.;\"/>\n",
       "</linearGradient>\n",
       "</defs>\n",
       "<polygon fill=\"url(#clust11_l_10)\" stroke=\"#a5a4a5\" points=\"1340.19,-80 1340.19,-209 1482.19,-209 1482.19,-80 1340.19,-80\"/>\n",
       "<text text-anchor=\"middle\" x=\"1411.19\" y=\"-191.7\" font-family=\"Helvetica,sans-Serif\" font-size=\"14.00\">OutputsWithInjection</text>\n",
       "</g>\n",
       "<!-- clustermy_workflowInputsrun -->\n",
       "<g id=\"node1\" class=\"node\">\n",
       "<title>clustermy_workflowInputsrun</title>\n",
       "<polygon fill=\"#21bfd8\" stroke=\"#21bfd8\" points=\"232.97,-148 190.97,-148 190.97,-124 232.97,-124 244.97,-136 232.97,-148\"/>\n",
       "<text text-anchor=\"middle\" x=\"217.97\" y=\"-130.2\" font-family=\"Helvetica,sans-Serif\" font-size=\"14.00\">run</text>\n",
       "</g>\n",
       "<!-- clustermy_workflowOutputsran -->\n",
       "<g id=\"node6\" class=\"node\">\n",
       "<title>clustermy_workflowOutputsran</title>\n",
       "<polygon fill=\"#21bfd8\" stroke=\"#21bfd8\" points=\"1606.76,-118 1564.76,-118 1564.76,-94 1606.76,-94 1618.76,-106 1606.76,-118\"/>\n",
       "<text text-anchor=\"middle\" x=\"1591.76\" y=\"-100.2\" font-family=\"Helvetica,sans-Serif\" font-size=\"14.00\">ran</text>\n",
       "</g>\n",
       "<!-- clustermy_workflowInputsrun&#45;&gt;clustermy_workflowOutputsran -->\n",
       "<!-- clustermy_workflowInputsaccumulate_and_run -->\n",
       "<g id=\"node2\" class=\"node\">\n",
       "<title>clustermy_workflowInputsaccumulate_and_run</title>\n",
       "<polygon fill=\"#21bfd8\" stroke=\"#21bfd8\" points=\"277.34,-202 146.59,-202 146.59,-178 277.34,-178 289.34,-190 277.34,-202\"/>\n",
       "<text text-anchor=\"middle\" x=\"217.97\" y=\"-184.2\" font-family=\"Helvetica,sans-Serif\" font-size=\"14.00\">accumulate_and_run</text>\n",
       "</g>\n",
       "<!-- clustermy_workflowInputsrange__n -->\n",
       "<g id=\"node3\" class=\"node\">\n",
       "<title>clustermy_workflowInputsrange__n</title>\n",
       "<ellipse fill=\"#edb22c\" stroke=\"#edb22c\" cx=\"217.97\" cy=\"-352\" rx=\"61.58\" ry=\"18\"/>\n",
       "<text text-anchor=\"middle\" x=\"217.97\" y=\"-346.2\" font-family=\"Helvetica,sans-Serif\" font-size=\"14.00\">range__n: int</text>\n",
       "</g>\n",
       "<!-- clustermy_workflowrangeInputsn -->\n",
       "<g id=\"node11\" class=\"node\">\n",
       "<title>clustermy_workflowrangeInputsn</title>\n",
       "<ellipse fill=\"#edb22c\" stroke=\"#edb22c\" cx=\"527.31\" cy=\"-482\" rx=\"29.41\" ry=\"18\"/>\n",
       "<text text-anchor=\"middle\" x=\"527.31\" y=\"-476.2\" font-family=\"Helvetica,sans-Serif\" font-size=\"14.00\">n: int</text>\n",
       "</g>\n",
       "<!-- clustermy_workflowInputsrange__n&#45;&gt;clustermy_workflowrangeInputsn -->\n",
       "<g id=\"edge7\" class=\"edge\">\n",
       "<title>clustermy_workflowInputsrange__n&#45;&gt;clustermy_workflowrangeInputsn</title>\n",
       "<path fill=\"none\" stroke=\"#edb22c\" d=\"M249.51,-367.82C275.8,-381.21 316.31,-401.33 359.99,-421.13\"/>\n",
       "<path fill=\"none\" stroke=\"#edb22c\" d=\"M359.99,-421.13C386.3,-433.05 413.75,-444.86 439.94,-455 455.85,-461.17 473.82,-466.96 489.22,-471.59\"/>\n",
       "<polygon fill=\"#edb22c\" stroke=\"#edb22c\" points=\"487.89,-474.84 498.47,-474.31 489.87,-468.13 487.89,-474.84\"/>\n",
       "</g>\n",
       "<!-- clustermy_workflowInputsinjected_GetItem_1317806972882845842__item -->\n",
       "<g id=\"node4\" class=\"node\">\n",
       "<title>clustermy_workflowInputsinjected_GetItem_1317806972882845842__item</title>\n",
       "<ellipse fill=\"#edb22c\" stroke=\"#edb22c\" cx=\"217.97\" cy=\"-244\" rx=\"201.97\" ry=\"18\"/>\n",
       "<text text-anchor=\"middle\" x=\"217.97\" y=\"-238.2\" font-family=\"Helvetica,sans-Serif\" font-size=\"14.00\">injected_GetItem_1317806972882845842__item</text>\n",
       "</g>\n",
       "<!-- clustermy_workflowinjected_GetItem_1317806972882845842Inputsitem -->\n",
       "<g id=\"node18\" class=\"node\">\n",
       "<title>clustermy_workflowinjected_GetItem_1317806972882845842Inputsitem</title>\n",
       "<ellipse fill=\"#edb22c\" stroke=\"#edb22c\" cx=\"880.06\" cy=\"-183\" rx=\"27.46\" ry=\"18\"/>\n",
       "<text text-anchor=\"middle\" x=\"880.06\" y=\"-177.2\" font-family=\"Helvetica,sans-Serif\" font-size=\"14.00\">item</text>\n",
       "</g>\n",
       "<!-- clustermy_workflowInputsinjected_GetItem_1317806972882845842__item&#45;&gt;clustermy_workflowinjected_GetItem_1317806972882845842Inputsitem -->\n",
       "<g id=\"edge8\" class=\"edge\">\n",
       "<title>clustermy_workflowInputsinjected_GetItem_1317806972882845842__item&#45;&gt;clustermy_workflowinjected_GetItem_1317806972882845842Inputsitem</title>\n",
       "<path fill=\"none\" stroke=\"#edb22c\" d=\"M360.58,-230.91C437.44,-223.81 534.8,-214.81 624.35,-206.54\"/>\n",
       "<path fill=\"none\" stroke=\"#edb22c\" d=\"M624.35,-206.54C713.9,-198.26 795.63,-190.71 841.23,-186.5\"/>\n",
       "<polygon fill=\"#edb22c\" stroke=\"#edb22c\" points=\"841.47,-189.99 851.11,-185.58 840.83,-183.02 841.47,-189.99\"/>\n",
       "</g>\n",
       "<!-- clustermy_workflowInputslast_square__other -->\n",
       "<g id=\"node5\" class=\"node\">\n",
       "<title>clustermy_workflowInputslast_square__other</title>\n",
       "<ellipse fill=\"#edb22c\" stroke=\"#edb22c\" cx=\"217.97\" cy=\"-298\" rx=\"85.47\" ry=\"18\"/>\n",
       "<text text-anchor=\"middle\" x=\"217.97\" y=\"-292.2\" font-family=\"Helvetica,sans-Serif\" font-size=\"14.00\">last_square__other</text>\n",
       "</g>\n",
       "<!-- clustermy_workflowlast_squareInputsother -->\n",
       "<g id=\"node24\" class=\"node\">\n",
       "<title>clustermy_workflowlast_squareInputsother</title>\n",
       "<ellipse fill=\"#edb22c\" stroke=\"#edb22c\" cx=\"1232.81\" cy=\"-268\" rx=\"30.38\" ry=\"18\"/>\n",
       "<text text-anchor=\"middle\" x=\"1232.81\" y=\"-262.2\" font-family=\"Helvetica,sans-Serif\" font-size=\"14.00\">other</text>\n",
       "</g>\n",
       "<!-- clustermy_workflowInputslast_square__other&#45;&gt;clustermy_workflowlast_squareInputsother -->\n",
       "<g id=\"edge9\" class=\"edge\">\n",
       "<title>clustermy_workflowInputslast_square__other&#45;&gt;clustermy_workflowlast_squareInputsother</title>\n",
       "<path fill=\"none\" stroke=\"#edb22c\" d=\"M303.7,-299C396.9,-299.82 555.69,-300.38 722.23,-297.29\"/>\n",
       "<path fill=\"none\" stroke=\"#edb22c\" d=\"M722.23,-297.29C801.63,-295.81 882.79,-293.51 959.44,-290 1041.83,-286.23 1137.93,-277.44 1191.13,-272.18\"/>\n",
       "<polygon fill=\"#edb22c\" stroke=\"#edb22c\" points=\"1191.32,-275.68 1200.93,-271.2 1190.63,-268.71 1191.32,-275.68\"/>\n",
       "</g>\n",
       "<!-- clustermy_workflowOutputsrange__length -->\n",
       "<g id=\"node7\" class=\"node\">\n",
       "<title>clustermy_workflowOutputsrange__length</title>\n",
       "<ellipse fill=\"#edb22c\" stroke=\"#edb22c\" cx=\"1591.76\" cy=\"-214\" rx=\"80.59\" ry=\"18\"/>\n",
       "<text text-anchor=\"middle\" x=\"1591.76\" y=\"-208.2\" font-family=\"Helvetica,sans-Serif\" font-size=\"14.00\">range__length: int</text>\n",
       "</g>\n",
       "<!-- clustermy_workflowOutputslast_square__pow -->\n",
       "<g id=\"node8\" class=\"node\">\n",
       "<title>clustermy_workflowOutputslast_square__pow</title>\n",
       "<ellipse fill=\"#edb22c\" stroke=\"#edb22c\" cx=\"1591.76\" cy=\"-160\" rx=\"81.57\" ry=\"18\"/>\n",
       "<text text-anchor=\"middle\" x=\"1591.76\" y=\"-154.2\" font-family=\"Helvetica,sans-Serif\" font-size=\"14.00\">last_square__pow</text>\n",
       "</g>\n",
       "<!-- clustermy_workflowrangeInputsrun -->\n",
       "<g id=\"node9\" class=\"node\">\n",
       "<title>clustermy_workflowrangeInputsrun</title>\n",
       "<polygon fill=\"#21bfd8\" stroke=\"#21bfd8\" points=\"542.31,-386 500.31,-386 500.31,-362 542.31,-362 554.31,-374 542.31,-386\"/>\n",
       "<text text-anchor=\"middle\" x=\"527.31\" y=\"-368.2\" font-family=\"Helvetica,sans-Serif\" font-size=\"14.00\">run</text>\n",
       "</g>\n",
       "<!-- clustermy_workflowrangeOutputsWithInjectionran -->\n",
       "<g id=\"node12\" class=\"node\">\n",
       "<title>clustermy_workflowrangeOutputsWithInjectionran</title>\n",
       "<polygon fill=\"#21bfd8\" stroke=\"#21bfd8\" points=\"720.19,-386 678.19,-386 678.19,-362 720.19,-362 732.19,-374 720.19,-386\"/>\n",
       "<text text-anchor=\"middle\" x=\"705.19\" y=\"-368.2\" font-family=\"Helvetica,sans-Serif\" font-size=\"14.00\">ran</text>\n",
       "</g>\n",
       "<!-- clustermy_workflowrangeInputsrun&#45;&gt;clustermy_workflowrangeOutputsWithInjectionran -->\n",
       "<!-- clustermy_workflowrangeInputsaccumulate_and_run -->\n",
       "<g id=\"node10\" class=\"node\">\n",
       "<title>clustermy_workflowrangeInputsaccumulate_and_run</title>\n",
       "<polygon fill=\"#21bfd8\" stroke=\"#21bfd8\" points=\"586.69,-440 455.94,-440 455.94,-416 586.69,-416 598.69,-428 586.69,-440\"/>\n",
       "<text text-anchor=\"middle\" x=\"527.31\" y=\"-422.2\" font-family=\"Helvetica,sans-Serif\" font-size=\"14.00\">accumulate_and_run</text>\n",
       "</g>\n",
       "<!-- clustermy_workflowrangeOutputsWithInjectionrange -->\n",
       "<g id=\"node13\" class=\"node\">\n",
       "<title>clustermy_workflowrangeOutputsWithInjectionrange</title>\n",
       "<ellipse fill=\"#edb22c\" stroke=\"#edb22c\" cx=\"705.19\" cy=\"-428\" rx=\"48.42\" ry=\"18\"/>\n",
       "<text text-anchor=\"middle\" x=\"705.19\" y=\"-422.2\" font-family=\"Helvetica,sans-Serif\" font-size=\"14.00\">range: list</text>\n",
       "</g>\n",
       "<!-- clustermy_workflowinjected_GetItem_1317806972882845842Inputsobj -->\n",
       "<g id=\"node17\" class=\"node\">\n",
       "<title>clustermy_workflowinjected_GetItem_1317806972882845842Inputsobj</title>\n",
       "<ellipse fill=\"#edb22c\" stroke=\"#edb22c\" cx=\"880.06\" cy=\"-237\" rx=\"27\" ry=\"18\"/>\n",
       "<text text-anchor=\"middle\" x=\"880.06\" y=\"-231.2\" font-family=\"Helvetica,sans-Serif\" font-size=\"14.00\">obj</text>\n",
       "</g>\n",
       "<!-- clustermy_workflowrangeOutputsWithInjectionrange&#45;&gt;clustermy_workflowinjected_GetItem_1317806972882845842Inputsobj -->\n",
       "<g id=\"edge5\" class=\"edge\">\n",
       "<title>clustermy_workflowrangeOutputsWithInjectionrange&#45;&gt;clustermy_workflowinjected_GetItem_1317806972882845842Inputsobj</title>\n",
       "<path fill=\"none\" stroke=\"#edb22c\" d=\"M748.56,-419.48C761.16,-415.43 774.35,-409.53 784.69,-401 801.19,-387.38 815.4,-370.08 827.43,-351.85\"/>\n",
       "<path fill=\"none\" stroke=\"#edb22c\" d=\"M827.43,-351.85C847.47,-321.45 861.42,-288.48 869.72,-265.69\"/>\n",
       "<polygon fill=\"#edb22c\" stroke=\"#edb22c\" points=\"873.02,-266.86 873.03,-256.26 866.41,-264.54 873.02,-266.86\"/>\n",
       "</g>\n",
       "<!-- clustermy_workflowrangeOutputsWithInjectionlength -->\n",
       "<g id=\"node14\" class=\"node\">\n",
       "<title>clustermy_workflowrangeOutputsWithInjectionlength</title>\n",
       "<ellipse fill=\"#edb22c\" stroke=\"#edb22c\" cx=\"705.19\" cy=\"-482\" rx=\"48.42\" ry=\"18\"/>\n",
       "<text text-anchor=\"middle\" x=\"705.19\" y=\"-476.2\" font-family=\"Helvetica,sans-Serif\" font-size=\"14.00\">length: int</text>\n",
       "</g>\n",
       "<!-- clustermy_workflowrangeOutputsWithInjectionlength&#45;&gt;clustermy_workflowOutputsrange__length -->\n",
       "<g id=\"edge10\" class=\"edge\">\n",
       "<title>clustermy_workflowrangeOutputsWithInjectionlength&#45;&gt;clustermy_workflowOutputsrange__length</title>\n",
       "<path fill=\"none\" stroke=\"#edb22c\" d=\"M749.79,-474.63C815.97,-464.1 945.84,-446 1056.94,-446 1056.94,-446 1056.94,-446 1159.23,-446\"/>\n",
       "<path fill=\"none\" stroke=\"#edb22c\" d=\"M1159.23,-446C1179.71,-446 1204.3,-446 1233.81,-446 1383.2,-446 1519.2,-301.37 1569.83,-240.5\"/>\n",
       "<polygon fill=\"#edb22c\" stroke=\"#edb22c\" points=\"1572.36,-242.94 1575.99,-232.99 1566.94,-238.51 1572.36,-242.94\"/>\n",
       "</g>\n",
       "<!-- clustermy_workflowinjected_GetItem_1317806972882845842Inputsrun -->\n",
       "<g id=\"node15\" class=\"node\">\n",
       "<title>clustermy_workflowinjected_GetItem_1317806972882845842Inputsrun</title>\n",
       "<polygon fill=\"#21bfd8\" stroke=\"#21bfd8\" points=\"895.06,-87 853.06,-87 853.06,-63 895.06,-63 907.06,-75 895.06,-87\"/>\n",
       "<text text-anchor=\"middle\" x=\"880.06\" y=\"-69.2\" font-family=\"Helvetica,sans-Serif\" font-size=\"14.00\">run</text>\n",
       "</g>\n",
       "<!-- clustermy_workflowinjected_GetItem_1317806972882845842OutputsWithInjectionran -->\n",
       "<g id=\"node19\" class=\"node\">\n",
       "<title>clustermy_workflowinjected_GetItem_1317806972882845842OutputsWithInjectionran</title>\n",
       "<polygon fill=\"#21bfd8\" stroke=\"#21bfd8\" points=\"1072.94,-129 1030.94,-129 1030.94,-105 1072.94,-105 1084.94,-117 1072.94,-129\"/>\n",
       "<text text-anchor=\"middle\" x=\"1057.94\" y=\"-111.2\" font-family=\"Helvetica,sans-Serif\" font-size=\"14.00\">ran</text>\n",
       "</g>\n",
       "<!-- clustermy_workflowinjected_GetItem_1317806972882845842Inputsrun&#45;&gt;clustermy_workflowinjected_GetItem_1317806972882845842OutputsWithInjectionran -->\n",
       "<!-- clustermy_workflowinjected_GetItem_1317806972882845842Inputsaccumulate_and_run -->\n",
       "<g id=\"node16\" class=\"node\">\n",
       "<title>clustermy_workflowinjected_GetItem_1317806972882845842Inputsaccumulate_and_run</title>\n",
       "<polygon fill=\"#21bfd8\" stroke=\"#21bfd8\" points=\"939.44,-141 808.69,-141 808.69,-117 939.44,-117 951.44,-129 939.44,-141\"/>\n",
       "<text text-anchor=\"middle\" x=\"880.06\" y=\"-123.2\" font-family=\"Helvetica,sans-Serif\" font-size=\"14.00\">accumulate_and_run</text>\n",
       "</g>\n",
       "<!-- clustermy_workflowinjected_GetItem_1317806972882845842OutputsWithInjectiongetitem -->\n",
       "<g id=\"node20\" class=\"node\">\n",
       "<title>clustermy_workflowinjected_GetItem_1317806972882845842OutputsWithInjectiongetitem</title>\n",
       "<ellipse fill=\"#edb22c\" stroke=\"#edb22c\" cx=\"1057.94\" cy=\"-171\" rx=\"39.65\" ry=\"18\"/>\n",
       "<text text-anchor=\"middle\" x=\"1057.94\" y=\"-165.2\" font-family=\"Helvetica,sans-Serif\" font-size=\"14.00\">getitem</text>\n",
       "</g>\n",
       "<!-- clustermy_workflowlast_squareInputsobj -->\n",
       "<g id=\"node23\" class=\"node\">\n",
       "<title>clustermy_workflowlast_squareInputsobj</title>\n",
       "<ellipse fill=\"#edb22c\" stroke=\"#edb22c\" cx=\"1232.81\" cy=\"-214\" rx=\"27\" ry=\"18\"/>\n",
       "<text text-anchor=\"middle\" x=\"1232.81\" y=\"-208.2\" font-family=\"Helvetica,sans-Serif\" font-size=\"14.00\">obj</text>\n",
       "</g>\n",
       "<!-- clustermy_workflowinjected_GetItem_1317806972882845842OutputsWithInjectiongetitem&#45;&gt;clustermy_workflowlast_squareInputsobj -->\n",
       "<g id=\"edge6\" class=\"edge\">\n",
       "<title>clustermy_workflowinjected_GetItem_1317806972882845842OutputsWithInjectiongetitem&#45;&gt;clustermy_workflowlast_squareInputsobj</title>\n",
       "<path fill=\"none\" stroke=\"#edb22c\" d=\"M1093.09,-179.5C1107.97,-183.2 1126.16,-187.72 1144.4,-192.26\"/>\n",
       "<path fill=\"none\" stroke=\"#edb22c\" d=\"M1144.4,-192.26C1162.65,-196.8 1180.95,-201.35 1196.06,-205.11\"/>\n",
       "<polygon fill=\"#edb22c\" stroke=\"#edb22c\" points=\"1194.94,-208.43 1205.49,-207.45 1196.63,-201.64 1194.94,-208.43\"/>\n",
       "</g>\n",
       "<!-- clustermy_workflowlast_squareInputsrun -->\n",
       "<g id=\"node21\" class=\"node\">\n",
       "<title>clustermy_workflowlast_squareInputsrun</title>\n",
       "<polygon fill=\"#21bfd8\" stroke=\"#21bfd8\" points=\"1247.81,-118 1205.81,-118 1205.81,-94 1247.81,-94 1259.81,-106 1247.81,-118\"/>\n",
       "<text text-anchor=\"middle\" x=\"1232.81\" y=\"-100.2\" font-family=\"Helvetica,sans-Serif\" font-size=\"14.00\">run</text>\n",
       "</g>\n",
       "<!-- clustermy_workflowlast_squareOutputsWithInjectionran -->\n",
       "<g id=\"node25\" class=\"node\">\n",
       "<title>clustermy_workflowlast_squareOutputsWithInjectionran</title>\n",
       "<polygon fill=\"#21bfd8\" stroke=\"#21bfd8\" points=\"1425.69,-118 1383.69,-118 1383.69,-94 1425.69,-94 1437.69,-106 1425.69,-118\"/>\n",
       "<text text-anchor=\"middle\" x=\"1410.69\" y=\"-100.2\" font-family=\"Helvetica,sans-Serif\" font-size=\"14.00\">ran</text>\n",
       "</g>\n",
       "<!-- clustermy_workflowlast_squareInputsrun&#45;&gt;clustermy_workflowlast_squareOutputsWithInjectionran -->\n",
       "<!-- clustermy_workflowlast_squareInputsaccumulate_and_run -->\n",
       "<g id=\"node22\" class=\"node\">\n",
       "<title>clustermy_workflowlast_squareInputsaccumulate_and_run</title>\n",
       "<polygon fill=\"#21bfd8\" stroke=\"#21bfd8\" points=\"1292.19,-172 1161.44,-172 1161.44,-148 1292.19,-148 1304.19,-160 1292.19,-172\"/>\n",
       "<text text-anchor=\"middle\" x=\"1232.81\" y=\"-154.2\" font-family=\"Helvetica,sans-Serif\" font-size=\"14.00\">accumulate_and_run</text>\n",
       "</g>\n",
       "<!-- clustermy_workflowlast_squareOutputsWithInjectionpow -->\n",
       "<g id=\"node26\" class=\"node\">\n",
       "<title>clustermy_workflowlast_squareOutputsWithInjectionpow</title>\n",
       "<ellipse fill=\"#edb22c\" stroke=\"#edb22c\" cx=\"1410.69\" cy=\"-160\" rx=\"27\" ry=\"18\"/>\n",
       "<text text-anchor=\"middle\" x=\"1410.69\" y=\"-154.2\" font-family=\"Helvetica,sans-Serif\" font-size=\"14.00\">pow</text>\n",
       "</g>\n",
       "<!-- clustermy_workflowlast_squareOutputsWithInjectionpow&#45;&gt;clustermy_workflowOutputslast_square__pow -->\n",
       "<g id=\"edge11\" class=\"edge\">\n",
       "<title>clustermy_workflowlast_squareOutputsWithInjectionpow&#45;&gt;clustermy_workflowOutputslast_square__pow</title>\n",
       "<path fill=\"none\" stroke=\"#edb22c\" d=\"M1438.11,-160C1446.27,-160 1455.85,-160 1466.16,-160\"/>\n",
       "<path fill=\"none\" stroke=\"#edb22c\" d=\"M1466.16,-160C1476.48,-160 1487.53,-160 1498.63,-160\"/>\n",
       "<polygon fill=\"#edb22c\" stroke=\"#edb22c\" points=\"1498.37,-163.5 1508.37,-160 1498.37,-156.5 1498.37,-163.5\"/>\n",
       "</g>\n",
       "</g>\n",
       "</svg>\n"
      ],
      "text/plain": [
       "<graphviz.graphs.Digraph at 0x132776290>"
      ]
     },
     "execution_count": 10,
     "metadata": {},
     "output_type": "execute_result"
    }
   ],
   "source": [
    "wf.draw(size=(10,10))"
   ]
  },
  {
   "cell_type": "markdown",
   "id": "ffc897e4-0f12-4231-8ebe-82862c890de5",
   "metadata": {},
   "source": [
    "We can see that the workflow automatically exposes unconnected IO of its children and gives them a name based on the child node's name and that node's IO name. Further, the math and indexing we do automatically injects new nodes after the output. Note that even though we perform a slice on `wf.arange.outputs.arange` twice, only a single node is created and it simply gets reused -- the graph is aware of all the dynamically injected nodes and reuses them like this for computational efficiency.\n",
    "\n",
    "Let's run our workflow and look at the result:"
   ]
  },
  {
   "cell_type": "code",
   "execution_count": 11,
   "id": "c499c0ed-7af5-491a-b340-2d2f4f48529c",
   "metadata": {},
   "outputs": [
    {
     "data": {
      "text/plain": [
       "{'range__length': 5, 'last_square__pow': 16}"
      ]
     },
     "execution_count": 11,
     "metadata": {},
     "output_type": "execute_result"
    }
   ],
   "source": [
    "wf(range__n=5)"
   ]
  },
  {
   "cell_type": "markdown",
   "id": "f69983f7-c110-4ea1-8da1-009b7c5410af",
   "metadata": {},
   "source": [
    "Unless it's turned off, `pyiron_workflow` will make sure that all new nodes and connections obey type hints (where provided). For instance, if we try to pass a non-int to our `square_range` node, we'll get an error:"
   ]
  },
  {
   "cell_type": "code",
   "execution_count": 12,
   "id": "04a19675-c98d-4255-8583-a567cda45e08",
   "metadata": {},
   "outputs": [
    {
     "name": "stdout",
     "output_type": "stream",
     "text": [
      "The channel /my_workflow/range.n cannot take the value `5.5` (<class 'float'>) because it is not compliant with the type hint <class 'int'>\n"
     ]
    }
   ],
   "source": [
    "try:\n",
    "    wf.range.inputs.n = 5.5\n",
    "except TypeError as e:\n",
    "    message = e.args[0]\n",
    "    print(message)"
   ]
  },
  {
   "cell_type": "markdown",
   "id": "dba226dd-1e1c-40c0-9653-849e7dac4ce1",
   "metadata": {},
   "source": [
    "Aside: it's usually wise to start working with a workflow right away, but if for some reason you have a set of un-parented nodes that you've been working with, you can always add them to a workflow, e.g. at workflow instantiation."
   ]
  },
  {
   "cell_type": "code",
   "execution_count": 13,
   "id": "82c04f84-3e33-419b-bb97-49618aaaa3b9",
   "metadata": {},
   "outputs": [
    {
     "data": {
      "text/plain": [
       "([0, 1, 2, 3], 4)"
      ]
     },
     "execution_count": 13,
     "metadata": {},
     "output_type": "execute_result"
    }
   ],
   "source": [
    "some_node = Range(n=5)\n",
    "biggest_of_some_node = some_node.outputs.range[-1]\n",
    "some_other_node = Range(n=biggest_of_some_node)\n",
    "some_other_node.pull()"
   ]
  },
  {
   "cell_type": "markdown",
   "id": "7df41b85-cce4-48a2-a1f2-f4d9b7e30903",
   "metadata": {},
   "source": [
    "The only hiccup to this is that they'll each need unique names. We can get the workflow to convert the names on-the-fly by setting `strict_naming=False`:"
   ]
  },
  {
   "cell_type": "code",
   "execution_count": 14,
   "id": "f7aa25f6-1af7-4724-9159-02865a4900fe",
   "metadata": {},
   "outputs": [
    {
     "data": {
      "text/plain": [
       "('Range', 'injected_GetItem_7231006992215994199', 'Range0')"
      ]
     },
     "execution_count": 14,
     "metadata": {},
     "output_type": "execute_result"
    }
   ],
   "source": [
    "oh_no_I_need_a = Workflow(\n",
    "    \"post_facto\", \n",
    "    some_node, \n",
    "    biggest_of_some_node, \n",
    "    some_other_node, \n",
    "    strict_naming=False\n",
    ")\n",
    "oh_no_I_need_a.child_labels"
   ]
  },
  {
   "cell_type": "markdown",
   "id": "be52f21f-2aa3-4182-88a5-815f2153a703",
   "metadata": {},
   "source": [
    "## Composing complex workflows from macros\n",
    "\n",
    "There's just one last step: once we have a workflow we're happy with, we can package it as a \"macro\"! This lets us make more and more complex workflows by composing sub-graphs.\n",
    "\n",
    "We don't yet have an automated tool for converting workflows into macros, but we can create them by decorating a function that takes a macro instance and macro input, builds its graph, and returns the parts of it we want as macro output. We can do most of this by just copy-and-pasting our workflow above into a decorated function! \n",
    "\n",
    "Just like a function node, the IO of a macro is defined by the signature and return values of the function we're decorating. Just remember to include a `self`-like argument for the macro instance itself as the first argument, and to only return single-output nodes or output channels in the `return` statement.\n",
    "\n",
    "As with function nodes, macro nodes will attemt"
   ]
  },
  {
   "cell_type": "code",
   "execution_count": 15,
   "id": "996c9e9a-ba0e-458a-9e54-331974073cca",
   "metadata": {},
   "outputs": [],
   "source": [
    "@Workflow.wrap.as_function_node(\"next_line\")\n",
    "def Print(message: str, line_number: int = 0) -> int:\n",
    "    print(line_number, message)\n",
    "    return line_number + 1\n",
    "\n",
    "\n",
    "@Workflow.wrap.as_macro_node(\"n_lines\")\n",
    "def EmailWithLineNumbers(\n",
    "    self, \n",
    "    recipient: str, \n",
    "    body: str, \n",
    "    sender: str,\n",
    "    honourific: str = \"Dear \",\n",
    "    salutation: str = \"Sincerely,\",\n",
    "):\n",
    "    \n",
    "    # self.greeting = Workflow.create.standard.Add(honourific, \" \") + recipient\n",
    "    self.greet = Print(honourific + recipient + \",\")\n",
    "    self.communicate = Print(body, line_number=self.greet)\n",
    "    self.conclude = Print(salutation, line_number=self.communicate)\n",
    "    self.from_ = Print(sender, line_number=self.conclude)\n",
    "    return self.from_"
   ]
  },
  {
   "cell_type": "code",
   "execution_count": 16,
   "id": "b43f7a86-4579-4476-89a9-9d7c5942c3fb",
   "metadata": {},
   "outputs": [
    {
     "name": "stdout",
     "output_type": "stream",
     "text": [
      "0 Dear Bob McKenzie,\n",
      "1 You may have won some free beer! Please send your credit card number.\n",
      "2 Hurry, act fast!\n",
      "3 Elsinore Brewery\n"
     ]
    },
    {
     "data": {
      "text/plain": [
       "{'lined_email__n_lines': 4}"
      ]
     },
     "execution_count": 16,
     "metadata": {},
     "output_type": "execute_result"
    }
   ],
   "source": [
    "wf2 = Workflow(\"spam_template\")\n",
    "\n",
    "wf2.name = Workflow.create.standard.UserInput()\n",
    "wf2.name.inputs.user_input.type_hint = str\n",
    "\n",
    "wf2.lined_email = EmailWithLineNumbers(\n",
    "    recipient=wf2.name,\n",
    "    body=\"You may have won some free beer! Please send your credit card number.\",\n",
    "    sender=\"Elsinore Brewery\",\n",
    "    salutation=\"Hurry, act fast!\",\n",
    ")\n",
    "\n",
    "wf2(name__user_input=\"Bob McKenzie\")"
   ]
  },
  {
   "cell_type": "code",
   "execution_count": 17,
   "id": "370b4c4b-8a95-4a2a-8255-1574763606bb",
   "metadata": {},
   "outputs": [
    {
     "data": {
      "image/svg+xml": [
       "<?xml version=\"1.0\" encoding=\"UTF-8\" standalone=\"no\"?>\n",
       "<!DOCTYPE svg PUBLIC \"-//W3C//DTD SVG 1.1//EN\"\n",
       " \"http://www.w3.org/Graphics/SVG/1.1/DTD/svg11.dtd\">\n",
       "<!-- Generated by graphviz version 12.0.0 (0)\n",
       " -->\n",
       "<!-- Title: clusterspam_template Pages: 1 -->\n",
       "<svg width=\"720pt\" height=\"326pt\"\n",
       " viewBox=\"0.00 0.00 720.00 326.25\" xmlns=\"http://www.w3.org/2000/svg\" xmlns:xlink=\"http://www.w3.org/1999/xlink\">\n",
       "<g id=\"graph0\" class=\"graph\" transform=\"scale(0.600832 0.600832) rotate(0) translate(4 539)\">\n",
       "<title>clusterspam_template</title>\n",
       "<polygon fill=\"white\" stroke=\"none\" points=\"-4,4 -4,-539 1194.34,-539 1194.34,4 -4,4\"/>\n",
       "<text text-anchor=\"middle\" x=\"595.17\" y=\"-5.7\" font-family=\"Helvetica,sans-Serif\" font-size=\"14.00\">spam_template: Workflow</text>\n",
       "<g id=\"clust1\" class=\"cluster\">\n",
       "<title>clusterspam_templateInputs</title>\n",
       "<defs>\n",
       "<linearGradient id=\"clust1_l_0\" gradientUnits=\"userSpaceOnUse\" x1=\"8\" y1=\"-252.5\" x2=\"259.28\" y2=\"-252.5\" >\n",
       "<stop offset=\"0\" style=\"stop-color:#a5a4a5;stop-opacity:1.;\"/>\n",
       "<stop offset=\"1\" style=\"stop-color:#e4e3e4;stop-opacity:1.;\"/>\n",
       "</linearGradient>\n",
       "</defs>\n",
       "<polygon fill=\"url(#clust1_l_0)\" stroke=\"#a5a4a5\" points=\"8,-53 8,-452 259.28,-452 259.28,-53 8,-53\"/>\n",
       "<text text-anchor=\"middle\" x=\"133.64\" y=\"-434.7\" font-family=\"Helvetica,sans-Serif\" font-size=\"14.00\">Inputs</text>\n",
       "</g>\n",
       "<g id=\"clust2\" class=\"cluster\">\n",
       "<title>clusterspam_templateOutputs</title>\n",
       "<defs>\n",
       "<linearGradient id=\"clust2_l_1\" gradientUnits=\"userSpaceOnUse\" x1=\"1182.34\" y1=\"-370.5\" x2=\"980.78\" y2=\"-370.5\" >\n",
       "<stop offset=\"0\" style=\"stop-color:#a5a4a5;stop-opacity:1.;\"/>\n",
       "<stop offset=\"1\" style=\"stop-color:#e4e3e4;stop-opacity:1.;\"/>\n",
       "</linearGradient>\n",
       "</defs>\n",
       "<polygon fill=\"url(#clust2_l_1)\" stroke=\"#a5a4a5\" points=\"980.78,-306 980.78,-435 1182.34,-435 1182.34,-306 980.78,-306\"/>\n",
       "<text text-anchor=\"middle\" x=\"1081.56\" y=\"-417.7\" font-family=\"Helvetica,sans-Serif\" font-size=\"14.00\">Outputs</text>\n",
       "</g>\n",
       "<g id=\"clust3\" class=\"cluster\">\n",
       "<title>clusterspam_templatename</title>\n",
       "<defs>\n",
       "<linearGradient id=\"clust3_l_2\" gradientUnits=\"userSpaceOnUse\" x1=\"271.28\" y1=\"-406\" x2=\"616.03\" y2=\"-406\" >\n",
       "<stop offset=\"0\" style=\"stop-color:#bfe2bf;stop-opacity:1.;\"/>\n",
       "<stop offset=\"1\" style=\"stop-color:#bfe2bf;stop-opacity:1.;\"/>\n",
       "</linearGradient>\n",
       "</defs>\n",
       "<polygon fill=\"url(#clust3_l_2)\" stroke=\"#bfe2bf\" points=\"271.28,-295 271.28,-517 616.03,-517 616.03,-295 271.28,-295\"/>\n",
       "<text text-anchor=\"middle\" x=\"443.65\" y=\"-499.7\" font-family=\"Helvetica,sans-Serif\" font-size=\"14.00\">name: UserInput</text>\n",
       "</g>\n",
       "<g id=\"clust4\" class=\"cluster\">\n",
       "<title>clusterspam_templatenameInputs</title>\n",
       "<defs>\n",
       "<linearGradient id=\"clust4_l_3\" gradientUnits=\"userSpaceOnUse\" x1=\"279.28\" y1=\"-394.5\" x2=\"438.03\" y2=\"-394.5\" >\n",
       "<stop offset=\"0\" style=\"stop-color:#a5a4a5;stop-opacity:1.;\"/>\n",
       "<stop offset=\"1\" style=\"stop-color:#e4e3e4;stop-opacity:1.;\"/>\n",
       "</linearGradient>\n",
       "</defs>\n",
       "<polygon fill=\"url(#clust4_l_3)\" stroke=\"#a5a4a5\" points=\"279.28,-303 279.28,-486 438.03,-486 438.03,-303 279.28,-303\"/>\n",
       "<text text-anchor=\"middle\" x=\"358.65\" y=\"-468.7\" font-family=\"Helvetica,sans-Serif\" font-size=\"14.00\">Inputs</text>\n",
       "</g>\n",
       "<g id=\"clust5\" class=\"cluster\">\n",
       "<title>clusterspam_templatenameOutputsWithInjection</title>\n",
       "<defs>\n",
       "<linearGradient id=\"clust5_l_4\" gradientUnits=\"userSpaceOnUse\" x1=\"608.03\" y1=\"-373.5\" x2=\"466.03\" y2=\"-373.5\" >\n",
       "<stop offset=\"0\" style=\"stop-color:#a5a4a5;stop-opacity:1.;\"/>\n",
       "<stop offset=\"1\" style=\"stop-color:#e4e3e4;stop-opacity:1.;\"/>\n",
       "</linearGradient>\n",
       "</defs>\n",
       "<polygon fill=\"url(#clust5_l_4)\" stroke=\"#a5a4a5\" points=\"466.03,-309 466.03,-438 608.03,-438 608.03,-309 466.03,-309\"/>\n",
       "<text text-anchor=\"middle\" x=\"537.03\" y=\"-420.7\" font-family=\"Helvetica,sans-Serif\" font-size=\"14.00\">OutputsWithInjection</text>\n",
       "</g>\n",
       "<g id=\"clust6\" class=\"cluster\">\n",
       "<title>clusterspam_templatelined_email</title>\n",
       "<defs>\n",
       "<linearGradient id=\"clust6_l_5\" gradientUnits=\"userSpaceOnUse\" x1=\"624.03\" y1=\"-250\" x2=\"968.78\" y2=\"-250\" >\n",
       "<stop offset=\"0\" style=\"stop-color:#dcccc9;stop-opacity:1.;\"/>\n",
       "<stop offset=\"1\" style=\"stop-color:#dcccc9;stop-opacity:1.;\"/>\n",
       "</linearGradient>\n",
       "</defs>\n",
       "<polygon fill=\"url(#clust6_l_5)\" stroke=\"#dcccc9\" points=\"624.03,-31 624.03,-469 968.78,-469 968.78,-31 624.03,-31\"/>\n",
       "<text text-anchor=\"middle\" x=\"796.4\" y=\"-451.7\" font-family=\"Helvetica,sans-Serif\" font-size=\"14.00\">lined_email: EmailWithLineNumbers</text>\n",
       "</g>\n",
       "<g id=\"clust7\" class=\"cluster\">\n",
       "<title>clusterspam_templatelined_emailInputs</title>\n",
       "<defs>\n",
       "<linearGradient id=\"clust7_l_6\" gradientUnits=\"userSpaceOnUse\" x1=\"632.03\" y1=\"-238.5\" x2=\"790.78\" y2=\"-238.5\" >\n",
       "<stop offset=\"0\" style=\"stop-color:#a5a4a5;stop-opacity:1.;\"/>\n",
       "<stop offset=\"1\" style=\"stop-color:#e4e3e4;stop-opacity:1.;\"/>\n",
       "</linearGradient>\n",
       "</defs>\n",
       "<polygon fill=\"url(#clust7_l_6)\" stroke=\"#a5a4a5\" points=\"632.03,-39 632.03,-438 790.78,-438 790.78,-39 632.03,-39\"/>\n",
       "<text text-anchor=\"middle\" x=\"711.4\" y=\"-420.7\" font-family=\"Helvetica,sans-Serif\" font-size=\"14.00\">Inputs</text>\n",
       "</g>\n",
       "<g id=\"clust8\" class=\"cluster\">\n",
       "<title>clusterspam_templatelined_emailOutputsWithInjection</title>\n",
       "<defs>\n",
       "<linearGradient id=\"clust8_l_7\" gradientUnits=\"userSpaceOnUse\" x1=\"960.78\" y1=\"-238.5\" x2=\"818.78\" y2=\"-238.5\" >\n",
       "<stop offset=\"0\" style=\"stop-color:#a5a4a5;stop-opacity:1.;\"/>\n",
       "<stop offset=\"1\" style=\"stop-color:#e4e3e4;stop-opacity:1.;\"/>\n",
       "</linearGradient>\n",
       "</defs>\n",
       "<polygon fill=\"url(#clust8_l_7)\" stroke=\"#a5a4a5\" points=\"818.78,-174 818.78,-303 960.78,-303 960.78,-174 818.78,-174\"/>\n",
       "<text text-anchor=\"middle\" x=\"889.78\" y=\"-285.7\" font-family=\"Helvetica,sans-Serif\" font-size=\"14.00\">OutputsWithInjection</text>\n",
       "</g>\n",
       "<!-- clusterspam_templateInputsrun -->\n",
       "<g id=\"node1\" class=\"node\">\n",
       "<title>clusterspam_templateInputsrun</title>\n",
       "<polygon fill=\"#21bfd8\" stroke=\"#21bfd8\" points=\"148.64,-415 106.64,-415 106.64,-391 148.64,-391 160.64,-403 148.64,-415\"/>\n",
       "<text text-anchor=\"middle\" x=\"133.64\" y=\"-397.2\" font-family=\"Helvetica,sans-Serif\" font-size=\"14.00\">run</text>\n",
       "</g>\n",
       "<!-- clusterspam_templateOutputsran -->\n",
       "<g id=\"node8\" class=\"node\">\n",
       "<title>clusterspam_templateOutputsran</title>\n",
       "<polygon fill=\"#21bfd8\" stroke=\"#21bfd8\" points=\"1096.56,-398 1054.56,-398 1054.56,-374 1096.56,-374 1108.56,-386 1096.56,-398\"/>\n",
       "<text text-anchor=\"middle\" x=\"1081.56\" y=\"-380.2\" font-family=\"Helvetica,sans-Serif\" font-size=\"14.00\">ran</text>\n",
       "</g>\n",
       "<!-- clusterspam_templateInputsrun&#45;&gt;clusterspam_templateOutputsran -->\n",
       "<!-- clusterspam_templateInputsaccumulate_and_run -->\n",
       "<g id=\"node2\" class=\"node\">\n",
       "<title>clusterspam_templateInputsaccumulate_and_run</title>\n",
       "<polygon fill=\"#21bfd8\" stroke=\"#21bfd8\" points=\"193.01,-145 62.26,-145 62.26,-121 193.01,-121 205.01,-133 193.01,-145\"/>\n",
       "<text text-anchor=\"middle\" x=\"133.64\" y=\"-127.2\" font-family=\"Helvetica,sans-Serif\" font-size=\"14.00\">accumulate_and_run</text>\n",
       "</g>\n",
       "<!-- clusterspam_templateInputsname__user_input -->\n",
       "<g id=\"node3\" class=\"node\">\n",
       "<title>clusterspam_templateInputsname__user_input</title>\n",
       "<ellipse fill=\"#edb22c\" stroke=\"#edb22c\" cx=\"133.64\" cy=\"-349\" rx=\"98.14\" ry=\"18\"/>\n",
       "<text text-anchor=\"middle\" x=\"133.64\" y=\"-343.2\" font-family=\"Helvetica,sans-Serif\" font-size=\"14.00\">name__user_input: str</text>\n",
       "</g>\n",
       "<!-- clusterspam_templatenameInputsuser_input -->\n",
       "<g id=\"node12\" class=\"node\">\n",
       "<title>clusterspam_templatenameInputsuser_input</title>\n",
       "<ellipse fill=\"#edb22c\" stroke=\"#edb22c\" cx=\"358.65\" cy=\"-437\" rx=\"65.97\" ry=\"18\"/>\n",
       "<text text-anchor=\"middle\" x=\"358.65\" y=\"-431.2\" font-family=\"Helvetica,sans-Serif\" font-size=\"14.00\">user_input: str</text>\n",
       "</g>\n",
       "<!-- clusterspam_templateInputsname__user_input&#45;&gt;clusterspam_templatenameInputsuser_input -->\n",
       "<g id=\"edge6\" class=\"edge\">\n",
       "<title>clusterspam_templateInputsname__user_input&#45;&gt;clusterspam_templatenameInputsuser_input</title>\n",
       "<path fill=\"none\" stroke=\"#edb22c\" d=\"M223.47,-356.48C236.56,-360.76 249.06,-367 259.28,-376 263.19,-379.45 264.61,-383.07 265.13,-386.78\"/>\n",
       "<path fill=\"none\" stroke=\"#edb22c\" d=\"M265.13,-386.78C266.22,-394.47 263.5,-402.5 271.28,-410 277.03,-415.55 283.91,-419.96 291.24,-423.46\"/>\n",
       "<polygon fill=\"#edb22c\" stroke=\"#edb22c\" points=\"289.47,-426.52 300.05,-427.12 292.16,-420.05 289.47,-426.52\"/>\n",
       "</g>\n",
       "<!-- clusterspam_templateInputslined_email__body -->\n",
       "<g id=\"node4\" class=\"node\">\n",
       "<title>clusterspam_templateInputslined_email__body</title>\n",
       "<ellipse fill=\"#edb22c\" stroke=\"#edb22c\" cx=\"133.64\" cy=\"-241\" rx=\"98.63\" ry=\"18\"/>\n",
       "<text text-anchor=\"middle\" x=\"133.64\" y=\"-235.2\" font-family=\"Helvetica,sans-Serif\" font-size=\"14.00\">lined_email__body: str</text>\n",
       "</g>\n",
       "<!-- clusterspam_templatelined_emailInputsbody -->\n",
       "<g id=\"node18\" class=\"node\">\n",
       "<title>clusterspam_templatelined_emailInputsbody</title>\n",
       "<ellipse fill=\"#edb22c\" stroke=\"#edb22c\" cx=\"711.4\" cy=\"-227\" rx=\"44.03\" ry=\"18\"/>\n",
       "<text text-anchor=\"middle\" x=\"711.4\" y=\"-221.2\" font-family=\"Helvetica,sans-Serif\" font-size=\"14.00\">body: str</text>\n",
       "</g>\n",
       "<!-- clusterspam_templateInputslined_email__body&#45;&gt;clusterspam_templatelined_emailInputsbody -->\n",
       "<g id=\"edge7\" class=\"edge\">\n",
       "<title>clusterspam_templateInputslined_email__body&#45;&gt;clusterspam_templatelined_emailInputsbody</title>\n",
       "<path fill=\"none\" stroke=\"#edb22c\" d=\"M231.66,-238.64C292.56,-237.16 374.2,-235.17 452.8,-233.26\"/>\n",
       "<path fill=\"none\" stroke=\"#edb22c\" d=\"M452.8,-233.26C531.39,-231.35 606.95,-229.52 655.67,-228.33\"/>\n",
       "<polygon fill=\"#edb22c\" stroke=\"#edb22c\" points=\"655.59,-231.83 665.5,-228.09 655.42,-224.84 655.59,-231.83\"/>\n",
       "</g>\n",
       "<!-- clusterspam_templateInputslined_email__sender -->\n",
       "<g id=\"node5\" class=\"node\">\n",
       "<title>clusterspam_templateInputslined_email__sender</title>\n",
       "<ellipse fill=\"#edb22c\" stroke=\"#edb22c\" cx=\"133.64\" cy=\"-187\" rx=\"106.43\" ry=\"18\"/>\n",
       "<text text-anchor=\"middle\" x=\"133.64\" y=\"-181.2\" font-family=\"Helvetica,sans-Serif\" font-size=\"14.00\">lined_email__sender: str</text>\n",
       "</g>\n",
       "<!-- clusterspam_templatelined_emailInputssender -->\n",
       "<g id=\"node19\" class=\"node\">\n",
       "<title>clusterspam_templatelined_emailInputssender</title>\n",
       "<ellipse fill=\"#edb22c\" stroke=\"#edb22c\" cx=\"711.4\" cy=\"-173\" rx=\"51.83\" ry=\"18\"/>\n",
       "<text text-anchor=\"middle\" x=\"711.4\" y=\"-167.2\" font-family=\"Helvetica,sans-Serif\" font-size=\"14.00\">sender: str</text>\n",
       "</g>\n",
       "<!-- clusterspam_templateInputslined_email__sender&#45;&gt;clusterspam_templatelined_emailInputssender -->\n",
       "<g id=\"edge8\" class=\"edge\">\n",
       "<title>clusterspam_templateInputslined_email__sender&#45;&gt;clusterspam_templatelined_emailInputssender</title>\n",
       "<path fill=\"none\" stroke=\"#edb22c\" d=\"M239.24,-184.46C298.9,-183.01 376.54,-181.12 451.53,-179.29\"/>\n",
       "<path fill=\"none\" stroke=\"#edb22c\" d=\"M451.53,-179.29C526.51,-177.47 598.85,-175.71 647.9,-174.52\"/>\n",
       "<polygon fill=\"#edb22c\" stroke=\"#edb22c\" points=\"647.97,-178.02 657.88,-174.28 647.8,-171.02 647.97,-178.02\"/>\n",
       "</g>\n",
       "<!-- clusterspam_templateInputslined_email__honourific -->\n",
       "<g id=\"node6\" class=\"node\">\n",
       "<title>clusterspam_templateInputslined_email__honourific</title>\n",
       "<ellipse fill=\"#edb22c\" stroke=\"#edb22c\" cx=\"133.64\" cy=\"-79\" rx=\"117.64\" ry=\"18\"/>\n",
       "<text text-anchor=\"middle\" x=\"133.64\" y=\"-73.2\" font-family=\"Helvetica,sans-Serif\" font-size=\"14.00\">lined_email__honourific: str</text>\n",
       "</g>\n",
       "<!-- clusterspam_templatelined_emailInputshonourific -->\n",
       "<g id=\"node20\" class=\"node\">\n",
       "<title>clusterspam_templatelined_emailInputshonourific</title>\n",
       "<ellipse fill=\"#edb22c\" stroke=\"#edb22c\" cx=\"711.4\" cy=\"-119\" rx=\"63.04\" ry=\"18\"/>\n",
       "<text text-anchor=\"middle\" x=\"711.4\" y=\"-113.2\" font-family=\"Helvetica,sans-Serif\" font-size=\"14.00\">honourific: str</text>\n",
       "</g>\n",
       "<!-- clusterspam_templateInputslined_email__honourific&#45;&gt;clusterspam_templatelined_emailInputshonourific -->\n",
       "<g id=\"edge9\" class=\"edge\">\n",
       "<title>clusterspam_templateInputslined_email__honourific&#45;&gt;clusterspam_templatelined_emailInputshonourific</title>\n",
       "<path fill=\"none\" stroke=\"#edb22c\" d=\"M241.59,-86.43C299.38,-90.45 373.54,-95.6 445.73,-100.61\"/>\n",
       "<path fill=\"none\" stroke=\"#edb22c\" d=\"M445.73,-100.61C517.93,-105.63 588.16,-110.51 638.12,-113.98\"/>\n",
       "<polygon fill=\"#edb22c\" stroke=\"#edb22c\" points=\"637.87,-117.47 648.09,-114.67 638.35,-110.49 637.87,-117.47\"/>\n",
       "</g>\n",
       "<!-- clusterspam_templateInputslined_email__salutation -->\n",
       "<g id=\"node7\" class=\"node\">\n",
       "<title>clusterspam_templateInputslined_email__salutation</title>\n",
       "<ellipse fill=\"#edb22c\" stroke=\"#edb22c\" cx=\"133.64\" cy=\"-295\" rx=\"117.15\" ry=\"18\"/>\n",
       "<text text-anchor=\"middle\" x=\"133.64\" y=\"-289.2\" font-family=\"Helvetica,sans-Serif\" font-size=\"14.00\">lined_email__salutation: str</text>\n",
       "</g>\n",
       "<!-- clusterspam_templatelined_emailInputssalutation -->\n",
       "<g id=\"node21\" class=\"node\">\n",
       "<title>clusterspam_templatelined_emailInputssalutation</title>\n",
       "<ellipse fill=\"#edb22c\" stroke=\"#edb22c\" cx=\"711.4\" cy=\"-281\" rx=\"62.56\" ry=\"18\"/>\n",
       "<text text-anchor=\"middle\" x=\"711.4\" y=\"-275.2\" font-family=\"Helvetica,sans-Serif\" font-size=\"14.00\">salutation: str</text>\n",
       "</g>\n",
       "<!-- clusterspam_templateInputslined_email__salutation&#45;&gt;clusterspam_templatelined_emailInputssalutation -->\n",
       "<g id=\"edge10\" class=\"edge\">\n",
       "<title>clusterspam_templateInputslined_email__salutation&#45;&gt;clusterspam_templatelined_emailInputssalutation</title>\n",
       "<path fill=\"none\" stroke=\"#edb22c\" d=\"M249.77,-292.2C307.54,-290.8 380.03,-289.03 450.3,-287.32\"/>\n",
       "<path fill=\"none\" stroke=\"#edb22c\" d=\"M450.3,-287.32C520.57,-285.62 588.6,-283.96 637.46,-282.77\"/>\n",
       "<polygon fill=\"#edb22c\" stroke=\"#edb22c\" points=\"637.27,-286.28 647.18,-282.54 637.1,-279.28 637.27,-286.28\"/>\n",
       "</g>\n",
       "<!-- clusterspam_templateOutputslined_email__n_lines -->\n",
       "<g id=\"node9\" class=\"node\">\n",
       "<title>clusterspam_templateOutputslined_email__n_lines</title>\n",
       "<ellipse fill=\"#edb22c\" stroke=\"#edb22c\" cx=\"1081.56\" cy=\"-332\" rx=\"92.78\" ry=\"18\"/>\n",
       "<text text-anchor=\"middle\" x=\"1081.56\" y=\"-326.2\" font-family=\"Helvetica,sans-Serif\" font-size=\"14.00\">lined_email__n_lines</text>\n",
       "</g>\n",
       "<!-- clusterspam_templatenameInputsrun -->\n",
       "<g id=\"node10\" class=\"node\">\n",
       "<title>clusterspam_templatenameInputsrun</title>\n",
       "<polygon fill=\"#21bfd8\" stroke=\"#21bfd8\" points=\"373.65,-341 331.65,-341 331.65,-317 373.65,-317 385.65,-329 373.65,-341\"/>\n",
       "<text text-anchor=\"middle\" x=\"358.65\" y=\"-323.2\" font-family=\"Helvetica,sans-Serif\" font-size=\"14.00\">run</text>\n",
       "</g>\n",
       "<!-- clusterspam_templatenameOutputsWithInjectionran -->\n",
       "<g id=\"node13\" class=\"node\">\n",
       "<title>clusterspam_templatenameOutputsWithInjectionran</title>\n",
       "<polygon fill=\"#21bfd8\" stroke=\"#21bfd8\" points=\"551.53,-347 509.53,-347 509.53,-323 551.53,-323 563.53,-335 551.53,-347\"/>\n",
       "<text text-anchor=\"middle\" x=\"536.53\" y=\"-329.2\" font-family=\"Helvetica,sans-Serif\" font-size=\"14.00\">ran</text>\n",
       "</g>\n",
       "<!-- clusterspam_templatenameInputsrun&#45;&gt;clusterspam_templatenameOutputsWithInjectionran -->\n",
       "<!-- clusterspam_templatenameInputsaccumulate_and_run -->\n",
       "<g id=\"node11\" class=\"node\">\n",
       "<title>clusterspam_templatenameInputsaccumulate_and_run</title>\n",
       "<polygon fill=\"#21bfd8\" stroke=\"#21bfd8\" points=\"418.03,-395 287.28,-395 287.28,-371 418.03,-371 430.03,-383 418.03,-395\"/>\n",
       "<text text-anchor=\"middle\" x=\"358.65\" y=\"-377.2\" font-family=\"Helvetica,sans-Serif\" font-size=\"14.00\">accumulate_and_run</text>\n",
       "</g>\n",
       "<!-- clusterspam_templatelined_emailInputsaccumulate_and_run -->\n",
       "<g id=\"node16\" class=\"node\">\n",
       "<title>clusterspam_templatelined_emailInputsaccumulate_and_run</title>\n",
       "<polygon fill=\"#21bfd8\" stroke=\"#21bfd8\" points=\"770.78,-347 640.03,-347 640.03,-323 770.78,-323 782.78,-335 770.78,-347\"/>\n",
       "<text text-anchor=\"middle\" x=\"711.4\" y=\"-329.2\" font-family=\"Helvetica,sans-Serif\" font-size=\"14.00\">accumulate_and_run</text>\n",
       "</g>\n",
       "<!-- clusterspam_templatenameOutputsWithInjectionran&#45;&gt;clusterspam_templatelined_emailInputsaccumulate_and_run -->\n",
       "<g id=\"edge4\" class=\"edge\">\n",
       "<title>clusterspam_templatenameOutputsWithInjectionran&#45;&gt;clusterspam_templatelined_emailInputsaccumulate_and_run</title>\n",
       "<path fill=\"none\" stroke=\"#21bfd8\" d=\"M563.79,-335C572.47,-335 582.77,-335 593.81,-335\"/>\n",
       "<path fill=\"none\" stroke=\"#21bfd8\" d=\"M593.81,-335C604.86,-335 616.65,-335 628.34,-335\"/>\n",
       "<polygon fill=\"#21bfd8\" stroke=\"#21bfd8\" points=\"628.24,-338.5 638.24,-335 628.24,-331.5 628.24,-338.5\"/>\n",
       "</g>\n",
       "<!-- clusterspam_templatenameOutputsWithInjectionuser_input -->\n",
       "<g id=\"node14\" class=\"node\">\n",
       "<title>clusterspam_templatenameOutputsWithInjectionuser_input</title>\n",
       "<ellipse fill=\"#edb22c\" stroke=\"#edb22c\" cx=\"536.53\" cy=\"-389\" rx=\"51.35\" ry=\"18\"/>\n",
       "<text text-anchor=\"middle\" x=\"536.53\" y=\"-383.2\" font-family=\"Helvetica,sans-Serif\" font-size=\"14.00\">user_input</text>\n",
       "</g>\n",
       "<!-- clusterspam_templatelined_emailInputsrecipient -->\n",
       "<g id=\"node17\" class=\"node\">\n",
       "<title>clusterspam_templatelined_emailInputsrecipient</title>\n",
       "<ellipse fill=\"#edb22c\" stroke=\"#edb22c\" cx=\"711.4\" cy=\"-389\" rx=\"58.17\" ry=\"18\"/>\n",
       "<text text-anchor=\"middle\" x=\"711.4\" y=\"-383.2\" font-family=\"Helvetica,sans-Serif\" font-size=\"14.00\">recipient: str</text>\n",
       "</g>\n",
       "<!-- clusterspam_templatenameOutputsWithInjectionuser_input&#45;&gt;clusterspam_templatelined_emailInputsrecipient -->\n",
       "<g id=\"edge5\" class=\"edge\">\n",
       "<title>clusterspam_templatenameOutputsWithInjectionuser_input&#45;&gt;clusterspam_templatelined_emailInputsrecipient</title>\n",
       "<path fill=\"none\" stroke=\"#edb22c\" d=\"M588,-389C596.37,-389 605.3,-389 614.37,-389\"/>\n",
       "<path fill=\"none\" stroke=\"#edb22c\" d=\"M614.37,-389C623.44,-389 632.66,-389 641.6,-389\"/>\n",
       "<polygon fill=\"#edb22c\" stroke=\"#edb22c\" points=\"641.37,-392.5 651.37,-389 641.37,-385.5 641.37,-392.5\"/>\n",
       "</g>\n",
       "<!-- clusterspam_templatelined_emailInputsrun -->\n",
       "<g id=\"node15\" class=\"node\">\n",
       "<title>clusterspam_templatelined_emailInputsrun</title>\n",
       "<polygon fill=\"#21bfd8\" stroke=\"#21bfd8\" points=\"726.4,-77 684.4,-77 684.4,-53 726.4,-53 738.4,-65 726.4,-77\"/>\n",
       "<text text-anchor=\"middle\" x=\"711.4\" y=\"-59.2\" font-family=\"Helvetica,sans-Serif\" font-size=\"14.00\">run</text>\n",
       "</g>\n",
       "<!-- clusterspam_templatelined_emailOutputsWithInjectionran -->\n",
       "<g id=\"node22\" class=\"node\">\n",
       "<title>clusterspam_templatelined_emailOutputsWithInjectionran</title>\n",
       "<polygon fill=\"#21bfd8\" stroke=\"#21bfd8\" points=\"904.28,-212 862.28,-212 862.28,-188 904.28,-188 916.28,-200 904.28,-212\"/>\n",
       "<text text-anchor=\"middle\" x=\"889.28\" y=\"-194.2\" font-family=\"Helvetica,sans-Serif\" font-size=\"14.00\">ran</text>\n",
       "</g>\n",
       "<!-- clusterspam_templatelined_emailInputsrun&#45;&gt;clusterspam_templatelined_emailOutputsWithInjectionran -->\n",
       "<!-- clusterspam_templatelined_emailOutputsWithInjectionn_lines -->\n",
       "<g id=\"node23\" class=\"node\">\n",
       "<title>clusterspam_templatelined_emailOutputsWithInjectionn_lines</title>\n",
       "<ellipse fill=\"#edb22c\" stroke=\"#edb22c\" cx=\"889.28\" cy=\"-254\" rx=\"38.18\" ry=\"18\"/>\n",
       "<text text-anchor=\"middle\" x=\"889.28\" y=\"-248.2\" font-family=\"Helvetica,sans-Serif\" font-size=\"14.00\">n_lines</text>\n",
       "</g>\n",
       "<!-- clusterspam_templatelined_emailOutputsWithInjectionn_lines&#45;&gt;clusterspam_templateOutputslined_email__n_lines -->\n",
       "<g id=\"edge11\" class=\"edge\">\n",
       "<title>clusterspam_templatelined_emailOutputsWithInjectionn_lines&#45;&gt;clusterspam_templateOutputslined_email__n_lines</title>\n",
       "<path fill=\"none\" stroke=\"#edb22c\" d=\"M918.77,-265.68C933.44,-271.69 952.36,-279.45 972.07,-287.53\"/>\n",
       "<path fill=\"none\" stroke=\"#edb22c\" d=\"M972.07,-287.53C991.77,-295.6 1012.25,-304 1030.04,-311.29\"/>\n",
       "<polygon fill=\"#edb22c\" stroke=\"#edb22c\" points=\"1028.26,-314.34 1038.84,-314.9 1030.91,-307.87 1028.26,-314.34\"/>\n",
       "</g>\n",
       "</g>\n",
       "</svg>\n"
      ],
      "text/plain": [
       "<graphviz.graphs.Digraph at 0x1327c3390>"
      ]
     },
     "execution_count": 17,
     "metadata": {},
     "output_type": "execute_result"
    }
   ],
   "source": [
    "wf2.draw(size=(10,10))"
   ]
  },
  {
   "cell_type": "code",
   "execution_count": 18,
   "id": "d60202f1-7ff2-4711-b3f0-012adec8ab55",
   "metadata": {},
   "outputs": [
    {
     "data": {
      "image/svg+xml": [
       "<?xml version=\"1.0\" encoding=\"UTF-8\" standalone=\"no\"?>\n",
       "<!DOCTYPE svg PUBLIC \"-//W3C//DTD SVG 1.1//EN\"\n",
       " \"http://www.w3.org/Graphics/SVG/1.1/DTD/svg11.dtd\">\n",
       "<!-- Generated by graphviz version 12.0.0 (0)\n",
       " -->\n",
       "<!-- Title: clusterlined_email Pages: 1 -->\n",
       "<svg width=\"720pt\" height=\"143pt\"\n",
       " viewBox=\"0.00 0.00 720.00 142.86\" xmlns=\"http://www.w3.org/2000/svg\" xmlns:xlink=\"http://www.w3.org/1999/xlink\">\n",
       "<g id=\"graph0\" class=\"graph\" transform=\"scale(0.292149 0.292149) rotate(0) translate(4 485)\">\n",
       "<title>clusterlined_email</title>\n",
       "<polygon fill=\"white\" stroke=\"none\" points=\"-4,4 -4,-485 2460.5,-485 2460.5,4 -4,4\"/>\n",
       "<text text-anchor=\"middle\" x=\"1228.25\" y=\"-5.7\" font-family=\"Helvetica,sans-Serif\" font-size=\"14.00\">lined_email: EmailWithLineNumbers</text>\n",
       "<g id=\"clust1\" class=\"cluster\">\n",
       "<title>clusterlined_emailInputs</title>\n",
       "<defs>\n",
       "<linearGradient id=\"clust1_l_0\" gradientUnits=\"userSpaceOnUse\" x1=\"8\" y1=\"-273.5\" x2=\"166.75\" y2=\"-273.5\" >\n",
       "<stop offset=\"0\" style=\"stop-color:#a5a4a5;stop-opacity:1.;\"/>\n",
       "<stop offset=\"1\" style=\"stop-color:#e4e3e4;stop-opacity:1.;\"/>\n",
       "</linearGradient>\n",
       "</defs>\n",
       "<polygon fill=\"url(#clust1_l_0)\" stroke=\"#a5a4a5\" points=\"8,-74 8,-473 166.75,-473 166.75,-74 8,-74\"/>\n",
       "<text text-anchor=\"middle\" x=\"87.38\" y=\"-455.7\" font-family=\"Helvetica,sans-Serif\" font-size=\"14.00\">Inputs</text>\n",
       "</g>\n",
       "<g id=\"clust2\" class=\"cluster\">\n",
       "<title>clusterlined_emailOutputsWithInjection</title>\n",
       "<defs>\n",
       "<linearGradient id=\"clust2_l_1\" gradientUnits=\"userSpaceOnUse\" x1=\"2456.5\" y1=\"-336.5\" x2=\"2314.5\" y2=\"-336.5\" >\n",
       "<stop offset=\"0\" style=\"stop-color:#a5a4a5;stop-opacity:1.;\"/>\n",
       "<stop offset=\"1\" style=\"stop-color:#e4e3e4;stop-opacity:1.;\"/>\n",
       "</linearGradient>\n",
       "</defs>\n",
       "<polygon fill=\"url(#clust2_l_1)\" stroke=\"#a5a4a5\" points=\"2314.5,-272 2314.5,-401 2456.5,-401 2456.5,-272 2314.5,-272\"/>\n",
       "<text text-anchor=\"middle\" x=\"2385.5\" y=\"-383.7\" font-family=\"Helvetica,sans-Serif\" font-size=\"14.00\">OutputsWithInjection</text>\n",
       "</g>\n",
       "<g id=\"clust3\" class=\"cluster\">\n",
       "<title>clusterlined_emailinjected_Add_334910197844087018</title>\n",
       "<defs>\n",
       "<linearGradient id=\"clust3_l_2\" gradientUnits=\"userSpaceOnUse\" x1=\"178.75\" y1=\"-198\" x2=\"523.5\" y2=\"-198\" >\n",
       "<stop offset=\"0\" style=\"stop-color:#bfe2bf;stop-opacity:1.;\"/>\n",
       "<stop offset=\"1\" style=\"stop-color:#bfe2bf;stop-opacity:1.;\"/>\n",
       "</linearGradient>\n",
       "</defs>\n",
       "<polygon fill=\"url(#clust3_l_2)\" stroke=\"#bfe2bf\" points=\"178.75,-60 178.75,-336 523.5,-336 523.5,-60 178.75,-60\"/>\n",
       "<text text-anchor=\"middle\" x=\"351.12\" y=\"-318.7\" font-family=\"Helvetica,sans-Serif\" font-size=\"14.00\">injected_Add_334910197844087018: Add</text>\n",
       "</g>\n",
       "<g id=\"clust4\" class=\"cluster\">\n",
       "<title>clusterlined_emailinjected_Add_334910197844087018Inputs</title>\n",
       "<defs>\n",
       "<linearGradient id=\"clust4_l_3\" gradientUnits=\"userSpaceOnUse\" x1=\"186.75\" y1=\"-186.5\" x2=\"345.5\" y2=\"-186.5\" >\n",
       "<stop offset=\"0\" style=\"stop-color:#a5a4a5;stop-opacity:1.;\"/>\n",
       "<stop offset=\"1\" style=\"stop-color:#e4e3e4;stop-opacity:1.;\"/>\n",
       "</linearGradient>\n",
       "</defs>\n",
       "<polygon fill=\"url(#clust4_l_3)\" stroke=\"#a5a4a5\" points=\"186.75,-68 186.75,-305 345.5,-305 345.5,-68 186.75,-68\"/>\n",
       "<text text-anchor=\"middle\" x=\"266.12\" y=\"-287.7\" font-family=\"Helvetica,sans-Serif\" font-size=\"14.00\">Inputs</text>\n",
       "</g>\n",
       "<g id=\"clust5\" class=\"cluster\">\n",
       "<title>clusterlined_emailinjected_Add_334910197844087018OutputsWithInjection</title>\n",
       "<defs>\n",
       "<linearGradient id=\"clust5_l_4\" gradientUnits=\"userSpaceOnUse\" x1=\"515.5\" y1=\"-186.5\" x2=\"373.5\" y2=\"-186.5\" >\n",
       "<stop offset=\"0\" style=\"stop-color:#a5a4a5;stop-opacity:1.;\"/>\n",
       "<stop offset=\"1\" style=\"stop-color:#e4e3e4;stop-opacity:1.;\"/>\n",
       "</linearGradient>\n",
       "</defs>\n",
       "<polygon fill=\"url(#clust5_l_4)\" stroke=\"#a5a4a5\" points=\"373.5,-122 373.5,-251 515.5,-251 515.5,-122 373.5,-122\"/>\n",
       "<text text-anchor=\"middle\" x=\"444.5\" y=\"-233.7\" font-family=\"Helvetica,sans-Serif\" font-size=\"14.00\">OutputsWithInjection</text>\n",
       "</g>\n",
       "<g id=\"clust6\" class=\"cluster\">\n",
       "<title>clusterlined_emailinjected_Add_m653179623600729728</title>\n",
       "<defs>\n",
       "<linearGradient id=\"clust6_l_5\" gradientUnits=\"userSpaceOnUse\" x1=\"531.5\" y1=\"-198\" x2=\"876.25\" y2=\"-198\" >\n",
       "<stop offset=\"0\" style=\"stop-color:#bfe2bf;stop-opacity:1.;\"/>\n",
       "<stop offset=\"1\" style=\"stop-color:#bfe2bf;stop-opacity:1.;\"/>\n",
       "</linearGradient>\n",
       "</defs>\n",
       "<polygon fill=\"url(#clust6_l_5)\" stroke=\"#bfe2bf\" points=\"531.5,-60 531.5,-336 876.25,-336 876.25,-60 531.5,-60\"/>\n",
       "<text text-anchor=\"middle\" x=\"703.88\" y=\"-318.7\" font-family=\"Helvetica,sans-Serif\" font-size=\"14.00\">injected_Add_m653179623600729728: Add</text>\n",
       "</g>\n",
       "<g id=\"clust7\" class=\"cluster\">\n",
       "<title>clusterlined_emailinjected_Add_m653179623600729728Inputs</title>\n",
       "<defs>\n",
       "<linearGradient id=\"clust7_l_6\" gradientUnits=\"userSpaceOnUse\" x1=\"539.5\" y1=\"-186.5\" x2=\"698.25\" y2=\"-186.5\" >\n",
       "<stop offset=\"0\" style=\"stop-color:#a5a4a5;stop-opacity:1.;\"/>\n",
       "<stop offset=\"1\" style=\"stop-color:#e4e3e4;stop-opacity:1.;\"/>\n",
       "</linearGradient>\n",
       "</defs>\n",
       "<polygon fill=\"url(#clust7_l_6)\" stroke=\"#a5a4a5\" points=\"539.5,-68 539.5,-305 698.25,-305 698.25,-68 539.5,-68\"/>\n",
       "<text text-anchor=\"middle\" x=\"618.88\" y=\"-287.7\" font-family=\"Helvetica,sans-Serif\" font-size=\"14.00\">Inputs</text>\n",
       "</g>\n",
       "<g id=\"clust8\" class=\"cluster\">\n",
       "<title>clusterlined_emailinjected_Add_m653179623600729728OutputsWithInjection</title>\n",
       "<defs>\n",
       "<linearGradient id=\"clust8_l_7\" gradientUnits=\"userSpaceOnUse\" x1=\"868.25\" y1=\"-186.5\" x2=\"726.25\" y2=\"-186.5\" >\n",
       "<stop offset=\"0\" style=\"stop-color:#a5a4a5;stop-opacity:1.;\"/>\n",
       "<stop offset=\"1\" style=\"stop-color:#e4e3e4;stop-opacity:1.;\"/>\n",
       "</linearGradient>\n",
       "</defs>\n",
       "<polygon fill=\"url(#clust8_l_7)\" stroke=\"#a5a4a5\" points=\"726.25,-122 726.25,-251 868.25,-251 868.25,-122 726.25,-122\"/>\n",
       "<text text-anchor=\"middle\" x=\"797.25\" y=\"-233.7\" font-family=\"Helvetica,sans-Serif\" font-size=\"14.00\">OutputsWithInjection</text>\n",
       "</g>\n",
       "<g id=\"clust9\" class=\"cluster\">\n",
       "<title>clusterlined_emailgreet</title>\n",
       "<defs>\n",
       "<linearGradient id=\"clust9_l_8\" gradientUnits=\"userSpaceOnUse\" x1=\"884.25\" y1=\"-198\" x2=\"1232.81\" y2=\"-198\" >\n",
       "<stop offset=\"0\" style=\"stop-color:#bfe2bf;stop-opacity:1.;\"/>\n",
       "<stop offset=\"1\" style=\"stop-color:#bfe2bf;stop-opacity:1.;\"/>\n",
       "</linearGradient>\n",
       "</defs>\n",
       "<polygon fill=\"url(#clust9_l_8)\" stroke=\"#bfe2bf\" points=\"884.25,-60 884.25,-336 1232.81,-336 1232.81,-60 884.25,-60\"/>\n",
       "<text text-anchor=\"middle\" x=\"1058.53\" y=\"-318.7\" font-family=\"Helvetica,sans-Serif\" font-size=\"14.00\">greet: Print</text>\n",
       "</g>\n",
       "<g id=\"clust10\" class=\"cluster\">\n",
       "<title>clusterlined_emailgreetInputs</title>\n",
       "<defs>\n",
       "<linearGradient id=\"clust10_l_9\" gradientUnits=\"userSpaceOnUse\" x1=\"892.25\" y1=\"-186.5\" x2=\"1054.81\" y2=\"-186.5\" >\n",
       "<stop offset=\"0\" style=\"stop-color:#a5a4a5;stop-opacity:1.;\"/>\n",
       "<stop offset=\"1\" style=\"stop-color:#e4e3e4;stop-opacity:1.;\"/>\n",
       "</linearGradient>\n",
       "</defs>\n",
       "<polygon fill=\"url(#clust10_l_9)\" stroke=\"#a5a4a5\" points=\"892.25,-68 892.25,-305 1054.81,-305 1054.81,-68 892.25,-68\"/>\n",
       "<text text-anchor=\"middle\" x=\"973.53\" y=\"-287.7\" font-family=\"Helvetica,sans-Serif\" font-size=\"14.00\">Inputs</text>\n",
       "</g>\n",
       "<g id=\"clust11\" class=\"cluster\">\n",
       "<title>clusterlined_emailgreetOutputsWithInjection</title>\n",
       "<defs>\n",
       "<linearGradient id=\"clust11_l_10\" gradientUnits=\"userSpaceOnUse\" x1=\"1224.81\" y1=\"-224.5\" x2=\"1082.81\" y2=\"-224.5\" >\n",
       "<stop offset=\"0\" style=\"stop-color:#a5a4a5;stop-opacity:1.;\"/>\n",
       "<stop offset=\"1\" style=\"stop-color:#e4e3e4;stop-opacity:1.;\"/>\n",
       "</linearGradient>\n",
       "</defs>\n",
       "<polygon fill=\"url(#clust11_l_10)\" stroke=\"#a5a4a5\" points=\"1082.81,-160 1082.81,-289 1224.81,-289 1224.81,-160 1082.81,-160\"/>\n",
       "<text text-anchor=\"middle\" x=\"1153.81\" y=\"-271.7\" font-family=\"Helvetica,sans-Serif\" font-size=\"14.00\">OutputsWithInjection</text>\n",
       "</g>\n",
       "<g id=\"clust12\" class=\"cluster\">\n",
       "<title>clusterlined_emailcommunicate</title>\n",
       "<defs>\n",
       "<linearGradient id=\"clust12_l_11\" gradientUnits=\"userSpaceOnUse\" x1=\"1240.81\" y1=\"-236\" x2=\"1589.37\" y2=\"-236\" >\n",
       "<stop offset=\"0\" style=\"stop-color:#bfe2bf;stop-opacity:1.;\"/>\n",
       "<stop offset=\"1\" style=\"stop-color:#bfe2bf;stop-opacity:1.;\"/>\n",
       "</linearGradient>\n",
       "</defs>\n",
       "<polygon fill=\"url(#clust12_l_11)\" stroke=\"#bfe2bf\" points=\"1240.81,-98 1240.81,-374 1589.37,-374 1589.37,-98 1240.81,-98\"/>\n",
       "<text text-anchor=\"middle\" x=\"1415.09\" y=\"-356.7\" font-family=\"Helvetica,sans-Serif\" font-size=\"14.00\">communicate: Print</text>\n",
       "</g>\n",
       "<g id=\"clust13\" class=\"cluster\">\n",
       "<title>clusterlined_emailcommunicateInputs</title>\n",
       "<defs>\n",
       "<linearGradient id=\"clust13_l_12\" gradientUnits=\"userSpaceOnUse\" x1=\"1248.81\" y1=\"-224.5\" x2=\"1411.37\" y2=\"-224.5\" >\n",
       "<stop offset=\"0\" style=\"stop-color:#a5a4a5;stop-opacity:1.;\"/>\n",
       "<stop offset=\"1\" style=\"stop-color:#e4e3e4;stop-opacity:1.;\"/>\n",
       "</linearGradient>\n",
       "</defs>\n",
       "<polygon fill=\"url(#clust13_l_12)\" stroke=\"#a5a4a5\" points=\"1248.81,-106 1248.81,-343 1411.37,-343 1411.37,-106 1248.81,-106\"/>\n",
       "<text text-anchor=\"middle\" x=\"1330.09\" y=\"-325.7\" font-family=\"Helvetica,sans-Serif\" font-size=\"14.00\">Inputs</text>\n",
       "</g>\n",
       "<g id=\"clust14\" class=\"cluster\">\n",
       "<title>clusterlined_emailcommunicateOutputsWithInjection</title>\n",
       "<defs>\n",
       "<linearGradient id=\"clust14_l_13\" gradientUnits=\"userSpaceOnUse\" x1=\"1581.37\" y1=\"-211.5\" x2=\"1439.37\" y2=\"-211.5\" >\n",
       "<stop offset=\"0\" style=\"stop-color:#a5a4a5;stop-opacity:1.;\"/>\n",
       "<stop offset=\"1\" style=\"stop-color:#e4e3e4;stop-opacity:1.;\"/>\n",
       "</linearGradient>\n",
       "</defs>\n",
       "<polygon fill=\"url(#clust14_l_13)\" stroke=\"#a5a4a5\" points=\"1439.37,-147 1439.37,-276 1581.37,-276 1581.37,-147 1439.37,-147\"/>\n",
       "<text text-anchor=\"middle\" x=\"1510.37\" y=\"-258.7\" font-family=\"Helvetica,sans-Serif\" font-size=\"14.00\">OutputsWithInjection</text>\n",
       "</g>\n",
       "<g id=\"clust15\" class=\"cluster\">\n",
       "<title>clusterlined_emailconclude</title>\n",
       "<defs>\n",
       "<linearGradient id=\"clust15_l_14\" gradientUnits=\"userSpaceOnUse\" x1=\"1597.37\" y1=\"-169\" x2=\"1945.94\" y2=\"-169\" >\n",
       "<stop offset=\"0\" style=\"stop-color:#bfe2bf;stop-opacity:1.;\"/>\n",
       "<stop offset=\"1\" style=\"stop-color:#bfe2bf;stop-opacity:1.;\"/>\n",
       "</linearGradient>\n",
       "</defs>\n",
       "<polygon fill=\"url(#clust15_l_14)\" stroke=\"#bfe2bf\" points=\"1597.37,-31 1597.37,-307 1945.94,-307 1945.94,-31 1597.37,-31\"/>\n",
       "<text text-anchor=\"middle\" x=\"1771.65\" y=\"-289.7\" font-family=\"Helvetica,sans-Serif\" font-size=\"14.00\">conclude: Print</text>\n",
       "</g>\n",
       "<g id=\"clust16\" class=\"cluster\">\n",
       "<title>clusterlined_emailconcludeInputs</title>\n",
       "<defs>\n",
       "<linearGradient id=\"clust16_l_15\" gradientUnits=\"userSpaceOnUse\" x1=\"1605.37\" y1=\"-157.5\" x2=\"1767.94\" y2=\"-157.5\" >\n",
       "<stop offset=\"0\" style=\"stop-color:#a5a4a5;stop-opacity:1.;\"/>\n",
       "<stop offset=\"1\" style=\"stop-color:#e4e3e4;stop-opacity:1.;\"/>\n",
       "</linearGradient>\n",
       "</defs>\n",
       "<polygon fill=\"url(#clust16_l_15)\" stroke=\"#a5a4a5\" points=\"1605.37,-39 1605.37,-276 1767.94,-276 1767.94,-39 1605.37,-39\"/>\n",
       "<text text-anchor=\"middle\" x=\"1686.65\" y=\"-258.7\" font-family=\"Helvetica,sans-Serif\" font-size=\"14.00\">Inputs</text>\n",
       "</g>\n",
       "<g id=\"clust17\" class=\"cluster\">\n",
       "<title>clusterlined_emailconcludeOutputsWithInjection</title>\n",
       "<defs>\n",
       "<linearGradient id=\"clust17_l_16\" gradientUnits=\"userSpaceOnUse\" x1=\"1937.94\" y1=\"-211.5\" x2=\"1795.94\" y2=\"-211.5\" >\n",
       "<stop offset=\"0\" style=\"stop-color:#a5a4a5;stop-opacity:1.;\"/>\n",
       "<stop offset=\"1\" style=\"stop-color:#e4e3e4;stop-opacity:1.;\"/>\n",
       "</linearGradient>\n",
       "</defs>\n",
       "<polygon fill=\"url(#clust17_l_16)\" stroke=\"#a5a4a5\" points=\"1795.94,-147 1795.94,-276 1937.94,-276 1937.94,-147 1795.94,-147\"/>\n",
       "<text text-anchor=\"middle\" x=\"1866.94\" y=\"-258.7\" font-family=\"Helvetica,sans-Serif\" font-size=\"14.00\">OutputsWithInjection</text>\n",
       "</g>\n",
       "<g id=\"clust18\" class=\"cluster\">\n",
       "<title>clusterlined_emailfrom_</title>\n",
       "<defs>\n",
       "<linearGradient id=\"clust18_l_17\" gradientUnits=\"userSpaceOnUse\" x1=\"1953.94\" y1=\"-228\" x2=\"2302.5\" y2=\"-228\" >\n",
       "<stop offset=\"0\" style=\"stop-color:#bfe2bf;stop-opacity:1.;\"/>\n",
       "<stop offset=\"1\" style=\"stop-color:#bfe2bf;stop-opacity:1.;\"/>\n",
       "</linearGradient>\n",
       "</defs>\n",
       "<polygon fill=\"url(#clust18_l_17)\" stroke=\"#bfe2bf\" points=\"1953.94,-90 1953.94,-366 2302.5,-366 2302.5,-90 1953.94,-90\"/>\n",
       "<text text-anchor=\"middle\" x=\"2128.22\" y=\"-348.7\" font-family=\"Helvetica,sans-Serif\" font-size=\"14.00\">from_: Print</text>\n",
       "</g>\n",
       "<g id=\"clust19\" class=\"cluster\">\n",
       "<title>clusterlined_emailfrom_Inputs</title>\n",
       "<defs>\n",
       "<linearGradient id=\"clust19_l_18\" gradientUnits=\"userSpaceOnUse\" x1=\"1961.94\" y1=\"-216.5\" x2=\"2124.5\" y2=\"-216.5\" >\n",
       "<stop offset=\"0\" style=\"stop-color:#a5a4a5;stop-opacity:1.;\"/>\n",
       "<stop offset=\"1\" style=\"stop-color:#e4e3e4;stop-opacity:1.;\"/>\n",
       "</linearGradient>\n",
       "</defs>\n",
       "<polygon fill=\"url(#clust19_l_18)\" stroke=\"#a5a4a5\" points=\"1961.94,-98 1961.94,-335 2124.5,-335 2124.5,-98 1961.94,-98\"/>\n",
       "<text text-anchor=\"middle\" x=\"2043.22\" y=\"-317.7\" font-family=\"Helvetica,sans-Serif\" font-size=\"14.00\">Inputs</text>\n",
       "</g>\n",
       "<g id=\"clust20\" class=\"cluster\">\n",
       "<title>clusterlined_emailfrom_OutputsWithInjection</title>\n",
       "<defs>\n",
       "<linearGradient id=\"clust20_l_19\" gradientUnits=\"userSpaceOnUse\" x1=\"2294.5\" y1=\"-216.5\" x2=\"2152.5\" y2=\"-216.5\" >\n",
       "<stop offset=\"0\" style=\"stop-color:#a5a4a5;stop-opacity:1.;\"/>\n",
       "<stop offset=\"1\" style=\"stop-color:#e4e3e4;stop-opacity:1.;\"/>\n",
       "</linearGradient>\n",
       "</defs>\n",
       "<polygon fill=\"url(#clust20_l_19)\" stroke=\"#a5a4a5\" points=\"2152.5,-152 2152.5,-281 2294.5,-281 2294.5,-152 2152.5,-152\"/>\n",
       "<text text-anchor=\"middle\" x=\"2223.5\" y=\"-263.7\" font-family=\"Helvetica,sans-Serif\" font-size=\"14.00\">OutputsWithInjection</text>\n",
       "</g>\n",
       "<!-- clusterlined_emailInputsrun -->\n",
       "<g id=\"node1\" class=\"node\">\n",
       "<title>clusterlined_emailInputsrun</title>\n",
       "<polygon fill=\"#21bfd8\" stroke=\"#21bfd8\" points=\"102.38,-436 60.38,-436 60.38,-412 102.38,-412 114.38,-424 102.38,-436\"/>\n",
       "<text text-anchor=\"middle\" x=\"87.38\" y=\"-418.2\" font-family=\"Helvetica,sans-Serif\" font-size=\"14.00\">run</text>\n",
       "</g>\n",
       "<!-- clusterlined_emailOutputsWithInjectionran -->\n",
       "<g id=\"node8\" class=\"node\">\n",
       "<title>clusterlined_emailOutputsWithInjectionran</title>\n",
       "<polygon fill=\"#21bfd8\" stroke=\"#21bfd8\" points=\"2400,-364 2358,-364 2358,-340 2400,-340 2412,-352 2400,-364\"/>\n",
       "<text text-anchor=\"middle\" x=\"2385\" y=\"-346.2\" font-family=\"Helvetica,sans-Serif\" font-size=\"14.00\">ran</text>\n",
       "</g>\n",
       "<!-- clusterlined_emailInputsrun&#45;&gt;clusterlined_emailOutputsWithInjectionran -->\n",
       "<!-- clusterlined_emailInputsaccumulate_and_run -->\n",
       "<g id=\"node2\" class=\"node\">\n",
       "<title>clusterlined_emailInputsaccumulate_and_run</title>\n",
       "<polygon fill=\"#21bfd8\" stroke=\"#21bfd8\" points=\"146.75,-166 16,-166 16,-142 146.75,-142 158.75,-154 146.75,-166\"/>\n",
       "<text text-anchor=\"middle\" x=\"87.38\" y=\"-148.2\" font-family=\"Helvetica,sans-Serif\" font-size=\"14.00\">accumulate_and_run</text>\n",
       "</g>\n",
       "<!-- clusterlined_emailInputsrecipient -->\n",
       "<g id=\"node3\" class=\"node\">\n",
       "<title>clusterlined_emailInputsrecipient</title>\n",
       "<ellipse fill=\"#edb22c\" stroke=\"#edb22c\" cx=\"87.38\" cy=\"-208\" rx=\"58.17\" ry=\"18\"/>\n",
       "<text text-anchor=\"middle\" x=\"87.38\" y=\"-202.2\" font-family=\"Helvetica,sans-Serif\" font-size=\"14.00\">recipient: str</text>\n",
       "</g>\n",
       "<!-- clusterlined_emailinjected_Add_334910197844087018Inputsother -->\n",
       "<g id=\"node13\" class=\"node\">\n",
       "<title>clusterlined_emailinjected_Add_334910197844087018Inputsother</title>\n",
       "<ellipse fill=\"#edb22c\" stroke=\"#edb22c\" cx=\"266.12\" cy=\"-202\" rx=\"30.38\" ry=\"18\"/>\n",
       "<text text-anchor=\"middle\" x=\"266.12\" y=\"-196.2\" font-family=\"Helvetica,sans-Serif\" font-size=\"14.00\">other</text>\n",
       "</g>\n",
       "<!-- clusterlined_emailInputsrecipient&#45;&gt;clusterlined_emailinjected_Add_334910197844087018Inputsother -->\n",
       "<g id=\"edge18\" class=\"edge\">\n",
       "<title>clusterlined_emailInputsrecipient&#45;&gt;clusterlined_emailinjected_Add_334910197844087018Inputsother</title>\n",
       "<path fill=\"none\" stroke=\"#edb22c\" stroke-dasharray=\"5,2\" d=\"M145.27,-206.07C158.14,-205.63 172.02,-205.16 185.63,-204.7\"/>\n",
       "<path fill=\"none\" stroke=\"#edb22c\" stroke-dasharray=\"5,2\" d=\"M185.63,-204.7C199.23,-204.24 212.55,-203.78 224.28,-203.39\"/>\n",
       "<polygon fill=\"#edb22c\" stroke=\"#edb22c\" points=\"224.19,-206.89 234.06,-203.05 223.95,-199.9 224.19,-206.89\"/>\n",
       "</g>\n",
       "<!-- clusterlined_emailInputsbody -->\n",
       "<g id=\"node4\" class=\"node\">\n",
       "<title>clusterlined_emailInputsbody</title>\n",
       "<ellipse fill=\"#edb22c\" stroke=\"#edb22c\" cx=\"87.38\" cy=\"-316\" rx=\"44.03\" ry=\"18\"/>\n",
       "<text text-anchor=\"middle\" x=\"87.38\" y=\"-310.2\" font-family=\"Helvetica,sans-Serif\" font-size=\"14.00\">body: str</text>\n",
       "</g>\n",
       "<!-- clusterlined_emailcommunicateInputsmessage -->\n",
       "<g id=\"node30\" class=\"node\">\n",
       "<title>clusterlined_emailcommunicateInputsmessage</title>\n",
       "<ellipse fill=\"#edb22c\" stroke=\"#edb22c\" cx=\"1330.09\" cy=\"-294\" rx=\"61.09\" ry=\"18\"/>\n",
       "<text text-anchor=\"middle\" x=\"1330.09\" y=\"-288.2\" font-family=\"Helvetica,sans-Serif\" font-size=\"14.00\">message: str</text>\n",
       "</g>\n",
       "<!-- clusterlined_emailInputsbody&#45;&gt;clusterlined_emailcommunicateInputsmessage -->\n",
       "<g id=\"edge19\" class=\"edge\">\n",
       "<title>clusterlined_emailInputsbody&#45;&gt;clusterlined_emailcommunicateInputsmessage</title>\n",
       "<path fill=\"none\" stroke=\"#edb22c\" stroke-dasharray=\"5,2\" d=\"M128.38,-323.1C193.9,-334.1 328.29,-354 443,-354 443,-354 443,-354 504.78,-354\"/>\n",
       "<path fill=\"none\" stroke=\"#edb22c\" stroke-dasharray=\"5,2\" d=\"M504.78,-354C569.59,-354 702.4,-354 974.53,-354 1081.57,-354 1204.27,-327.09 1273.65,-309.31\"/>\n",
       "<polygon fill=\"#edb22c\" stroke=\"#edb22c\" points=\"1274.46,-312.71 1283.26,-306.81 1272.7,-305.94 1274.46,-312.71\"/>\n",
       "</g>\n",
       "<!-- clusterlined_emailInputssender -->\n",
       "<g id=\"node5\" class=\"node\">\n",
       "<title>clusterlined_emailInputssender</title>\n",
       "<ellipse fill=\"#edb22c\" stroke=\"#edb22c\" cx=\"87.38\" cy=\"-370\" rx=\"51.83\" ry=\"18\"/>\n",
       "<text text-anchor=\"middle\" x=\"87.38\" y=\"-364.2\" font-family=\"Helvetica,sans-Serif\" font-size=\"14.00\">sender: str</text>\n",
       "</g>\n",
       "<!-- clusterlined_emailfrom_Inputsmessage -->\n",
       "<g id=\"node42\" class=\"node\">\n",
       "<title>clusterlined_emailfrom_Inputsmessage</title>\n",
       "<ellipse fill=\"#edb22c\" stroke=\"#edb22c\" cx=\"2043.22\" cy=\"-286\" rx=\"61.09\" ry=\"18\"/>\n",
       "<text text-anchor=\"middle\" x=\"2043.22\" y=\"-280.2\" font-family=\"Helvetica,sans-Serif\" font-size=\"14.00\">message: str</text>\n",
       "</g>\n",
       "<!-- clusterlined_emailInputssender&#45;&gt;clusterlined_emailfrom_Inputsmessage -->\n",
       "<g id=\"edge20\" class=\"edge\">\n",
       "<title>clusterlined_emailInputssender&#45;&gt;clusterlined_emailfrom_Inputsmessage</title>\n",
       "<path fill=\"none\" stroke=\"#edb22c\" stroke-dasharray=\"5,2\" d=\"M137.65,-374.99C206.09,-381.48 333.82,-392 443,-392 443,-392 443,-392 608.46,-392\"/>\n",
       "<path fill=\"none\" stroke=\"#edb22c\" stroke-dasharray=\"5,2\" d=\"M608.46,-392C767.2,-392 1078.23,-392 1687.65,-392 1805.72,-392 1936.99,-337.38 2001.66,-306.55\"/>\n",
       "<polygon fill=\"#edb22c\" stroke=\"#edb22c\" points=\"2002.99,-309.8 2010.47,-302.3 1999.94,-303.5 2002.99,-309.8\"/>\n",
       "</g>\n",
       "<!-- clusterlined_emailInputshonourific -->\n",
       "<g id=\"node6\" class=\"node\">\n",
       "<title>clusterlined_emailInputshonourific</title>\n",
       "<ellipse fill=\"#edb22c\" stroke=\"#edb22c\" cx=\"87.38\" cy=\"-262\" rx=\"63.04\" ry=\"18\"/>\n",
       "<text text-anchor=\"middle\" x=\"87.38\" y=\"-256.2\" font-family=\"Helvetica,sans-Serif\" font-size=\"14.00\">honourific: str</text>\n",
       "</g>\n",
       "<!-- clusterlined_emailinjected_Add_334910197844087018Inputsobj -->\n",
       "<g id=\"node12\" class=\"node\">\n",
       "<title>clusterlined_emailinjected_Add_334910197844087018Inputsobj</title>\n",
       "<ellipse fill=\"#edb22c\" stroke=\"#edb22c\" cx=\"266.12\" cy=\"-256\" rx=\"27\" ry=\"18\"/>\n",
       "<text text-anchor=\"middle\" x=\"266.12\" y=\"-250.2\" font-family=\"Helvetica,sans-Serif\" font-size=\"14.00\">obj</text>\n",
       "</g>\n",
       "<!-- clusterlined_emailInputshonourific&#45;&gt;clusterlined_emailinjected_Add_334910197844087018Inputsobj -->\n",
       "<g id=\"edge21\" class=\"edge\">\n",
       "<title>clusterlined_emailInputshonourific&#45;&gt;clusterlined_emailinjected_Add_334910197844087018Inputsobj</title>\n",
       "<path fill=\"none\" stroke=\"#edb22c\" stroke-dasharray=\"5,2\" d=\"M150.19,-259.9C163.1,-259.46 176.85,-259 190.18,-258.54\"/>\n",
       "<path fill=\"none\" stroke=\"#edb22c\" stroke-dasharray=\"5,2\" d=\"M190.18,-258.54C203.5,-258.09 216.41,-257.65 227.66,-257.27\"/>\n",
       "<polygon fill=\"#edb22c\" stroke=\"#edb22c\" points=\"227.69,-260.77 237.56,-256.94 227.45,-253.78 227.69,-260.77\"/>\n",
       "</g>\n",
       "<!-- clusterlined_emailInputssalutation -->\n",
       "<g id=\"node7\" class=\"node\">\n",
       "<title>clusterlined_emailInputssalutation</title>\n",
       "<ellipse fill=\"#edb22c\" stroke=\"#edb22c\" cx=\"87.38\" cy=\"-100\" rx=\"62.56\" ry=\"18\"/>\n",
       "<text text-anchor=\"middle\" x=\"87.38\" y=\"-94.2\" font-family=\"Helvetica,sans-Serif\" font-size=\"14.00\">salutation: str</text>\n",
       "</g>\n",
       "<!-- clusterlined_emailconcludeInputsmessage -->\n",
       "<g id=\"node36\" class=\"node\">\n",
       "<title>clusterlined_emailconcludeInputsmessage</title>\n",
       "<ellipse fill=\"#edb22c\" stroke=\"#edb22c\" cx=\"1686.65\" cy=\"-119\" rx=\"61.09\" ry=\"18\"/>\n",
       "<text text-anchor=\"middle\" x=\"1686.65\" y=\"-113.2\" font-family=\"Helvetica,sans-Serif\" font-size=\"14.00\">message: str</text>\n",
       "</g>\n",
       "<!-- clusterlined_emailInputssalutation&#45;&gt;clusterlined_emailconcludeInputsmessage -->\n",
       "<g id=\"edge22\" class=\"edge\">\n",
       "<title>clusterlined_emailInputssalutation&#45;&gt;clusterlined_emailconcludeInputsmessage</title>\n",
       "<path fill=\"none\" stroke=\"#edb22c\" stroke-dasharray=\"5,2\" d=\"M120.67,-84.43C137.58,-76.98 158.86,-68.68 178.75,-64 293.47,-37.01 325.15,-42 443,-42 443,-42 443,-42 545.57,-42\"/>\n",
       "<path fill=\"none\" stroke=\"#edb22c\" stroke-dasharray=\"5,2\" d=\"M545.57,-42C653.62,-42 875.49,-42 1331.09,-42 1388.74,-42 1545.2,-81.36 1629.71,-103.8\"/>\n",
       "<polygon fill=\"#edb22c\" stroke=\"#edb22c\" points=\"1628.62,-107.13 1639.18,-106.32 1630.42,-100.37 1628.62,-107.13\"/>\n",
       "</g>\n",
       "<!-- clusterlined_emailOutputsWithInjectionn_lines -->\n",
       "<g id=\"node9\" class=\"node\">\n",
       "<title>clusterlined_emailOutputsWithInjectionn_lines</title>\n",
       "<ellipse fill=\"#edb22c\" stroke=\"#edb22c\" cx=\"2385\" cy=\"-298\" rx=\"38.18\" ry=\"18\"/>\n",
       "<text text-anchor=\"middle\" x=\"2385\" y=\"-292.2\" font-family=\"Helvetica,sans-Serif\" font-size=\"14.00\">n_lines</text>\n",
       "</g>\n",
       "<!-- clusterlined_emailinjected_Add_334910197844087018Inputsrun -->\n",
       "<g id=\"node10\" class=\"node\">\n",
       "<title>clusterlined_emailinjected_Add_334910197844087018Inputsrun</title>\n",
       "<polygon fill=\"#21bfd8\" stroke=\"#21bfd8\" points=\"281.12,-106 239.12,-106 239.12,-82 281.12,-82 293.12,-94 281.12,-106\"/>\n",
       "<text text-anchor=\"middle\" x=\"266.12\" y=\"-88.2\" font-family=\"Helvetica,sans-Serif\" font-size=\"14.00\">run</text>\n",
       "</g>\n",
       "<!-- clusterlined_emailinjected_Add_334910197844087018OutputsWithInjectionran -->\n",
       "<g id=\"node14\" class=\"node\">\n",
       "<title>clusterlined_emailinjected_Add_334910197844087018OutputsWithInjectionran</title>\n",
       "<polygon fill=\"#21bfd8\" stroke=\"#21bfd8\" points=\"459,-160 417,-160 417,-136 459,-136 471,-148 459,-160\"/>\n",
       "<text text-anchor=\"middle\" x=\"444\" y=\"-142.2\" font-family=\"Helvetica,sans-Serif\" font-size=\"14.00\">ran</text>\n",
       "</g>\n",
       "<!-- clusterlined_emailinjected_Add_334910197844087018Inputsrun&#45;&gt;clusterlined_emailinjected_Add_334910197844087018OutputsWithInjectionran -->\n",
       "<!-- clusterlined_emailinjected_Add_334910197844087018Inputsaccumulate_and_run -->\n",
       "<g id=\"node11\" class=\"node\">\n",
       "<title>clusterlined_emailinjected_Add_334910197844087018Inputsaccumulate_and_run</title>\n",
       "<polygon fill=\"#21bfd8\" stroke=\"#21bfd8\" points=\"325.5,-160 194.75,-160 194.75,-136 325.5,-136 337.5,-148 325.5,-160\"/>\n",
       "<text text-anchor=\"middle\" x=\"266.12\" y=\"-142.2\" font-family=\"Helvetica,sans-Serif\" font-size=\"14.00\">accumulate_and_run</text>\n",
       "</g>\n",
       "<!-- clusterlined_emailinjected_Add_m653179623600729728Inputsaccumulate_and_run -->\n",
       "<g id=\"node17\" class=\"node\">\n",
       "<title>clusterlined_emailinjected_Add_m653179623600729728Inputsaccumulate_and_run</title>\n",
       "<polygon fill=\"#21bfd8\" stroke=\"#21bfd8\" points=\"678.25,-160 547.5,-160 547.5,-136 678.25,-136 690.25,-148 678.25,-160\"/>\n",
       "<text text-anchor=\"middle\" x=\"618.88\" y=\"-142.2\" font-family=\"Helvetica,sans-Serif\" font-size=\"14.00\">accumulate_and_run</text>\n",
       "</g>\n",
       "<!-- clusterlined_emailinjected_Add_334910197844087018OutputsWithInjectionran&#45;&gt;clusterlined_emailinjected_Add_m653179623600729728Inputsaccumulate_and_run -->\n",
       "<g id=\"edge8\" class=\"edge\">\n",
       "<title>clusterlined_emailinjected_Add_334910197844087018OutputsWithInjectionran&#45;&gt;clusterlined_emailinjected_Add_m653179623600729728Inputsaccumulate_and_run</title>\n",
       "<path fill=\"none\" stroke=\"#21bfd8\" d=\"M471.26,-148C479.94,-148 490.24,-148 501.28,-148\"/>\n",
       "<path fill=\"none\" stroke=\"#21bfd8\" d=\"M501.28,-148C512.33,-148 524.13,-148 535.82,-148\"/>\n",
       "<polygon fill=\"#21bfd8\" stroke=\"#21bfd8\" points=\"535.72,-151.5 545.72,-148 535.72,-144.5 535.72,-151.5\"/>\n",
       "</g>\n",
       "<!-- clusterlined_emailinjected_Add_334910197844087018OutputsWithInjectionadd -->\n",
       "<g id=\"node15\" class=\"node\">\n",
       "<title>clusterlined_emailinjected_Add_334910197844087018OutputsWithInjectionadd</title>\n",
       "<ellipse fill=\"#edb22c\" stroke=\"#edb22c\" cx=\"444\" cy=\"-202\" rx=\"27\" ry=\"18\"/>\n",
       "<text text-anchor=\"middle\" x=\"444\" y=\"-196.2\" font-family=\"Helvetica,sans-Serif\" font-size=\"14.00\">add</text>\n",
       "</g>\n",
       "<!-- clusterlined_emailinjected_Add_m653179623600729728Inputsobj -->\n",
       "<g id=\"node18\" class=\"node\">\n",
       "<title>clusterlined_emailinjected_Add_m653179623600729728Inputsobj</title>\n",
       "<ellipse fill=\"#edb22c\" stroke=\"#edb22c\" cx=\"618.88\" cy=\"-202\" rx=\"27\" ry=\"18\"/>\n",
       "<text text-anchor=\"middle\" x=\"618.88\" y=\"-196.2\" font-family=\"Helvetica,sans-Serif\" font-size=\"14.00\">obj</text>\n",
       "</g>\n",
       "<!-- clusterlined_emailinjected_Add_334910197844087018OutputsWithInjectionadd&#45;&gt;clusterlined_emailinjected_Add_m653179623600729728Inputsobj -->\n",
       "<g id=\"edge9\" class=\"edge\">\n",
       "<title>clusterlined_emailinjected_Add_334910197844087018OutputsWithInjectionadd&#45;&gt;clusterlined_emailinjected_Add_m653179623600729728Inputsobj</title>\n",
       "<path fill=\"none\" stroke=\"#edb22c\" d=\"M471.26,-202C485.77,-202 504.77,-202 524.27,-202\"/>\n",
       "<path fill=\"none\" stroke=\"#edb22c\" d=\"M524.27,-202C543.76,-202 563.74,-202 580.21,-202\"/>\n",
       "<polygon fill=\"#edb22c\" stroke=\"#edb22c\" points=\"580.14,-205.5 590.14,-202 580.14,-198.5 580.14,-205.5\"/>\n",
       "</g>\n",
       "<!-- clusterlined_emailinjected_Add_m653179623600729728Inputsrun -->\n",
       "<g id=\"node16\" class=\"node\">\n",
       "<title>clusterlined_emailinjected_Add_m653179623600729728Inputsrun</title>\n",
       "<polygon fill=\"#21bfd8\" stroke=\"#21bfd8\" points=\"633.88,-106 591.88,-106 591.88,-82 633.88,-82 645.88,-94 633.88,-106\"/>\n",
       "<text text-anchor=\"middle\" x=\"618.88\" y=\"-88.2\" font-family=\"Helvetica,sans-Serif\" font-size=\"14.00\">run</text>\n",
       "</g>\n",
       "<!-- clusterlined_emailinjected_Add_m653179623600729728OutputsWithInjectionran -->\n",
       "<g id=\"node20\" class=\"node\">\n",
       "<title>clusterlined_emailinjected_Add_m653179623600729728OutputsWithInjectionran</title>\n",
       "<polygon fill=\"#21bfd8\" stroke=\"#21bfd8\" points=\"811.75,-160 769.75,-160 769.75,-136 811.75,-136 823.75,-148 811.75,-160\"/>\n",
       "<text text-anchor=\"middle\" x=\"796.75\" y=\"-142.2\" font-family=\"Helvetica,sans-Serif\" font-size=\"14.00\">ran</text>\n",
       "</g>\n",
       "<!-- clusterlined_emailinjected_Add_m653179623600729728Inputsrun&#45;&gt;clusterlined_emailinjected_Add_m653179623600729728OutputsWithInjectionran -->\n",
       "<!-- clusterlined_emailinjected_Add_m653179623600729728Inputsother -->\n",
       "<g id=\"node19\" class=\"node\">\n",
       "<title>clusterlined_emailinjected_Add_m653179623600729728Inputsother</title>\n",
       "<ellipse fill=\"#edb22c\" stroke=\"#edb22c\" cx=\"618.88\" cy=\"-256\" rx=\"30.38\" ry=\"18\"/>\n",
       "<text text-anchor=\"middle\" x=\"618.88\" y=\"-250.2\" font-family=\"Helvetica,sans-Serif\" font-size=\"14.00\">other</text>\n",
       "</g>\n",
       "<!-- clusterlined_emailgreetInputsaccumulate_and_run -->\n",
       "<g id=\"node23\" class=\"node\">\n",
       "<title>clusterlined_emailgreetInputsaccumulate_and_run</title>\n",
       "<polygon fill=\"#21bfd8\" stroke=\"#21bfd8\" points=\"1032.91,-160 902.16,-160 902.16,-136 1032.91,-136 1044.91,-148 1032.91,-160\"/>\n",
       "<text text-anchor=\"middle\" x=\"973.53\" y=\"-142.2\" font-family=\"Helvetica,sans-Serif\" font-size=\"14.00\">accumulate_and_run</text>\n",
       "</g>\n",
       "<!-- clusterlined_emailinjected_Add_m653179623600729728OutputsWithInjectionran&#45;&gt;clusterlined_emailgreetInputsaccumulate_and_run -->\n",
       "<g id=\"edge10\" class=\"edge\">\n",
       "<title>clusterlined_emailinjected_Add_m653179623600729728OutputsWithInjectionran&#45;&gt;clusterlined_emailgreetInputsaccumulate_and_run</title>\n",
       "<path fill=\"none\" stroke=\"#21bfd8\" d=\"M823.92,-148C832.84,-148 843.47,-148 854.88,-148\"/>\n",
       "<path fill=\"none\" stroke=\"#21bfd8\" d=\"M854.88,-148C866.3,-148 878.5,-148 890.56,-148\"/>\n",
       "<polygon fill=\"#21bfd8\" stroke=\"#21bfd8\" points=\"890.44,-151.5 900.44,-148 890.44,-144.5 890.44,-151.5\"/>\n",
       "</g>\n",
       "<!-- clusterlined_emailinjected_Add_m653179623600729728OutputsWithInjectionadd -->\n",
       "<g id=\"node21\" class=\"node\">\n",
       "<title>clusterlined_emailinjected_Add_m653179623600729728OutputsWithInjectionadd</title>\n",
       "<ellipse fill=\"#edb22c\" stroke=\"#edb22c\" cx=\"796.75\" cy=\"-202\" rx=\"27\" ry=\"18\"/>\n",
       "<text text-anchor=\"middle\" x=\"796.75\" y=\"-196.2\" font-family=\"Helvetica,sans-Serif\" font-size=\"14.00\">add</text>\n",
       "</g>\n",
       "<!-- clusterlined_emailgreetInputsmessage -->\n",
       "<g id=\"node24\" class=\"node\">\n",
       "<title>clusterlined_emailgreetInputsmessage</title>\n",
       "<ellipse fill=\"#edb22c\" stroke=\"#edb22c\" cx=\"973.53\" cy=\"-202\" rx=\"61.09\" ry=\"18\"/>\n",
       "<text text-anchor=\"middle\" x=\"973.53\" y=\"-196.2\" font-family=\"Helvetica,sans-Serif\" font-size=\"14.00\">message: str</text>\n",
       "</g>\n",
       "<!-- clusterlined_emailinjected_Add_m653179623600729728OutputsWithInjectionadd&#45;&gt;clusterlined_emailgreetInputsmessage -->\n",
       "<g id=\"edge11\" class=\"edge\">\n",
       "<title>clusterlined_emailinjected_Add_m653179623600729728OutputsWithInjectionadd&#45;&gt;clusterlined_emailgreetInputsmessage</title>\n",
       "<path fill=\"none\" stroke=\"#edb22c\" d=\"M823.92,-202C834.08,-202 846.47,-202 859.71,-202\"/>\n",
       "<path fill=\"none\" stroke=\"#edb22c\" d=\"M859.71,-202C872.95,-202 887.04,-202 900.62,-202\"/>\n",
       "<polygon fill=\"#edb22c\" stroke=\"#edb22c\" points=\"900.59,-205.5 910.59,-202 900.59,-198.5 900.59,-205.5\"/>\n",
       "</g>\n",
       "<!-- clusterlined_emailgreetInputsrun -->\n",
       "<g id=\"node22\" class=\"node\">\n",
       "<title>clusterlined_emailgreetInputsrun</title>\n",
       "<polygon fill=\"#21bfd8\" stroke=\"#21bfd8\" points=\"988.53,-106 946.53,-106 946.53,-82 988.53,-82 1000.53,-94 988.53,-106\"/>\n",
       "<text text-anchor=\"middle\" x=\"973.53\" y=\"-88.2\" font-family=\"Helvetica,sans-Serif\" font-size=\"14.00\">run</text>\n",
       "</g>\n",
       "<!-- clusterlined_emailgreetOutputsWithInjectionran -->\n",
       "<g id=\"node26\" class=\"node\">\n",
       "<title>clusterlined_emailgreetOutputsWithInjectionran</title>\n",
       "<polygon fill=\"#21bfd8\" stroke=\"#21bfd8\" points=\"1168.31,-198 1126.31,-198 1126.31,-174 1168.31,-174 1180.31,-186 1168.31,-198\"/>\n",
       "<text text-anchor=\"middle\" x=\"1153.31\" y=\"-180.2\" font-family=\"Helvetica,sans-Serif\" font-size=\"14.00\">ran</text>\n",
       "</g>\n",
       "<!-- clusterlined_emailgreetInputsrun&#45;&gt;clusterlined_emailgreetOutputsWithInjectionran -->\n",
       "<!-- clusterlined_emailgreetInputsline_number -->\n",
       "<g id=\"node25\" class=\"node\">\n",
       "<title>clusterlined_emailgreetInputsline_number</title>\n",
       "<ellipse fill=\"#edb22c\" stroke=\"#edb22c\" cx=\"973.53\" cy=\"-256\" rx=\"73.28\" ry=\"18\"/>\n",
       "<text text-anchor=\"middle\" x=\"973.53\" y=\"-250.2\" font-family=\"Helvetica,sans-Serif\" font-size=\"14.00\">line_number: int</text>\n",
       "</g>\n",
       "<!-- clusterlined_emailcommunicateInputsaccumulate_and_run -->\n",
       "<g id=\"node29\" class=\"node\">\n",
       "<title>clusterlined_emailcommunicateInputsaccumulate_and_run</title>\n",
       "<polygon fill=\"#21bfd8\" stroke=\"#21bfd8\" points=\"1389.47,-198 1258.72,-198 1258.72,-174 1389.47,-174 1401.47,-186 1389.47,-198\"/>\n",
       "<text text-anchor=\"middle\" x=\"1330.09\" y=\"-180.2\" font-family=\"Helvetica,sans-Serif\" font-size=\"14.00\">accumulate_and_run</text>\n",
       "</g>\n",
       "<!-- clusterlined_emailgreetOutputsWithInjectionran&#45;&gt;clusterlined_emailcommunicateInputsaccumulate_and_run -->\n",
       "<g id=\"edge12\" class=\"edge\">\n",
       "<title>clusterlined_emailgreetOutputsWithInjectionran&#45;&gt;clusterlined_emailcommunicateInputsaccumulate_and_run</title>\n",
       "<path fill=\"none\" stroke=\"#21bfd8\" d=\"M1180.48,-186C1189.4,-186 1200.03,-186 1211.44,-186\"/>\n",
       "<path fill=\"none\" stroke=\"#21bfd8\" d=\"M1211.44,-186C1222.86,-186 1235.06,-186 1247.13,-186\"/>\n",
       "<polygon fill=\"#21bfd8\" stroke=\"#21bfd8\" points=\"1247,-189.5 1257,-186 1247,-182.5 1247,-189.5\"/>\n",
       "</g>\n",
       "<!-- clusterlined_emailgreetOutputsWithInjectionnext_line -->\n",
       "<g id=\"node27\" class=\"node\">\n",
       "<title>clusterlined_emailgreetOutputsWithInjectionnext_line</title>\n",
       "<ellipse fill=\"#edb22c\" stroke=\"#edb22c\" cx=\"1153.31\" cy=\"-240\" rx=\"59.63\" ry=\"18\"/>\n",
       "<text text-anchor=\"middle\" x=\"1153.31\" y=\"-234.2\" font-family=\"Helvetica,sans-Serif\" font-size=\"14.00\">next_line: int</text>\n",
       "</g>\n",
       "<!-- clusterlined_emailcommunicateInputsline_number -->\n",
       "<g id=\"node31\" class=\"node\">\n",
       "<title>clusterlined_emailcommunicateInputsline_number</title>\n",
       "<ellipse fill=\"#edb22c\" stroke=\"#edb22c\" cx=\"1330.09\" cy=\"-240\" rx=\"73.28\" ry=\"18\"/>\n",
       "<text text-anchor=\"middle\" x=\"1330.09\" y=\"-234.2\" font-family=\"Helvetica,sans-Serif\" font-size=\"14.00\">line_number: int</text>\n",
       "</g>\n",
       "<!-- clusterlined_emailgreetOutputsWithInjectionnext_line&#45;&gt;clusterlined_emailcommunicateInputsline_number -->\n",
       "<g id=\"edge13\" class=\"edge\">\n",
       "<title>clusterlined_emailgreetOutputsWithInjectionnext_line&#45;&gt;clusterlined_emailcommunicateInputsline_number</title>\n",
       "<path fill=\"none\" stroke=\"#edb22c\" d=\"M1213,-240C1218.19,-240 1223.53,-240 1228.94,-240\"/>\n",
       "<path fill=\"none\" stroke=\"#edb22c\" d=\"M1228.94,-240C1234.34,-240 1239.82,-240 1245.27,-240\"/>\n",
       "<polygon fill=\"#edb22c\" stroke=\"#edb22c\" points=\"1245.07,-243.5 1255.07,-240 1245.07,-236.5 1245.07,-243.5\"/>\n",
       "</g>\n",
       "<!-- clusterlined_emailcommunicateInputsrun -->\n",
       "<g id=\"node28\" class=\"node\">\n",
       "<title>clusterlined_emailcommunicateInputsrun</title>\n",
       "<polygon fill=\"#21bfd8\" stroke=\"#21bfd8\" points=\"1345.09,-144 1303.09,-144 1303.09,-120 1345.09,-120 1357.09,-132 1345.09,-144\"/>\n",
       "<text text-anchor=\"middle\" x=\"1330.09\" y=\"-126.2\" font-family=\"Helvetica,sans-Serif\" font-size=\"14.00\">run</text>\n",
       "</g>\n",
       "<!-- clusterlined_emailcommunicateOutputsWithInjectionran -->\n",
       "<g id=\"node32\" class=\"node\">\n",
       "<title>clusterlined_emailcommunicateOutputsWithInjectionran</title>\n",
       "<polygon fill=\"#21bfd8\" stroke=\"#21bfd8\" points=\"1524.87,-185 1482.87,-185 1482.87,-161 1524.87,-161 1536.87,-173 1524.87,-185\"/>\n",
       "<text text-anchor=\"middle\" x=\"1509.87\" y=\"-167.2\" font-family=\"Helvetica,sans-Serif\" font-size=\"14.00\">ran</text>\n",
       "</g>\n",
       "<!-- clusterlined_emailcommunicateInputsrun&#45;&gt;clusterlined_emailcommunicateOutputsWithInjectionran -->\n",
       "<!-- clusterlined_emailconcludeInputsaccumulate_and_run -->\n",
       "<g id=\"node35\" class=\"node\">\n",
       "<title>clusterlined_emailconcludeInputsaccumulate_and_run</title>\n",
       "<polygon fill=\"#21bfd8\" stroke=\"#21bfd8\" points=\"1746.03,-185 1615.28,-185 1615.28,-161 1746.03,-161 1758.03,-173 1746.03,-185\"/>\n",
       "<text text-anchor=\"middle\" x=\"1686.65\" y=\"-167.2\" font-family=\"Helvetica,sans-Serif\" font-size=\"14.00\">accumulate_and_run</text>\n",
       "</g>\n",
       "<!-- clusterlined_emailcommunicateOutputsWithInjectionran&#45;&gt;clusterlined_emailconcludeInputsaccumulate_and_run -->\n",
       "<g id=\"edge14\" class=\"edge\">\n",
       "<title>clusterlined_emailcommunicateOutputsWithInjectionran&#45;&gt;clusterlined_emailconcludeInputsaccumulate_and_run</title>\n",
       "<path fill=\"none\" stroke=\"#21bfd8\" d=\"M1537.04,-173C1545.96,-173 1556.59,-173 1568.01,-173\"/>\n",
       "<path fill=\"none\" stroke=\"#21bfd8\" d=\"M1568.01,-173C1579.42,-173 1591.62,-173 1603.69,-173\"/>\n",
       "<polygon fill=\"#21bfd8\" stroke=\"#21bfd8\" points=\"1603.57,-176.5 1613.57,-173 1603.57,-169.5 1603.57,-176.5\"/>\n",
       "</g>\n",
       "<!-- clusterlined_emailcommunicateOutputsWithInjectionnext_line -->\n",
       "<g id=\"node33\" class=\"node\">\n",
       "<title>clusterlined_emailcommunicateOutputsWithInjectionnext_line</title>\n",
       "<ellipse fill=\"#edb22c\" stroke=\"#edb22c\" cx=\"1509.87\" cy=\"-227\" rx=\"59.63\" ry=\"18\"/>\n",
       "<text text-anchor=\"middle\" x=\"1509.87\" y=\"-221.2\" font-family=\"Helvetica,sans-Serif\" font-size=\"14.00\">next_line: int</text>\n",
       "</g>\n",
       "<!-- clusterlined_emailconcludeInputsline_number -->\n",
       "<g id=\"node37\" class=\"node\">\n",
       "<title>clusterlined_emailconcludeInputsline_number</title>\n",
       "<ellipse fill=\"#edb22c\" stroke=\"#edb22c\" cx=\"1686.65\" cy=\"-227\" rx=\"73.28\" ry=\"18\"/>\n",
       "<text text-anchor=\"middle\" x=\"1686.65\" y=\"-221.2\" font-family=\"Helvetica,sans-Serif\" font-size=\"14.00\">line_number: int</text>\n",
       "</g>\n",
       "<!-- clusterlined_emailcommunicateOutputsWithInjectionnext_line&#45;&gt;clusterlined_emailconcludeInputsline_number -->\n",
       "<g id=\"edge15\" class=\"edge\">\n",
       "<title>clusterlined_emailcommunicateOutputsWithInjectionnext_line&#45;&gt;clusterlined_emailconcludeInputsline_number</title>\n",
       "<path fill=\"none\" stroke=\"#edb22c\" d=\"M1569.56,-227C1574.75,-227 1580.09,-227 1585.5,-227\"/>\n",
       "<path fill=\"none\" stroke=\"#edb22c\" d=\"M1585.5,-227C1590.9,-227 1596.38,-227 1601.83,-227\"/>\n",
       "<polygon fill=\"#edb22c\" stroke=\"#edb22c\" points=\"1601.64,-230.5 1611.64,-227 1601.64,-223.5 1601.64,-230.5\"/>\n",
       "</g>\n",
       "<!-- clusterlined_emailconcludeInputsrun -->\n",
       "<g id=\"node34\" class=\"node\">\n",
       "<title>clusterlined_emailconcludeInputsrun</title>\n",
       "<polygon fill=\"#21bfd8\" stroke=\"#21bfd8\" points=\"1701.65,-77 1659.65,-77 1659.65,-53 1701.65,-53 1713.65,-65 1701.65,-77\"/>\n",
       "<text text-anchor=\"middle\" x=\"1686.65\" y=\"-59.2\" font-family=\"Helvetica,sans-Serif\" font-size=\"14.00\">run</text>\n",
       "</g>\n",
       "<!-- clusterlined_emailconcludeOutputsWithInjectionran -->\n",
       "<g id=\"node38\" class=\"node\">\n",
       "<title>clusterlined_emailconcludeOutputsWithInjectionran</title>\n",
       "<polygon fill=\"#21bfd8\" stroke=\"#21bfd8\" points=\"1881.44,-185 1839.44,-185 1839.44,-161 1881.44,-161 1893.44,-173 1881.44,-185\"/>\n",
       "<text text-anchor=\"middle\" x=\"1866.44\" y=\"-167.2\" font-family=\"Helvetica,sans-Serif\" font-size=\"14.00\">ran</text>\n",
       "</g>\n",
       "<!-- clusterlined_emailconcludeInputsrun&#45;&gt;clusterlined_emailconcludeOutputsWithInjectionran -->\n",
       "<!-- clusterlined_emailfrom_Inputsaccumulate_and_run -->\n",
       "<g id=\"node41\" class=\"node\">\n",
       "<title>clusterlined_emailfrom_Inputsaccumulate_and_run</title>\n",
       "<polygon fill=\"#21bfd8\" stroke=\"#21bfd8\" points=\"2102.59,-190 1971.84,-190 1971.84,-166 2102.59,-166 2114.59,-178 2102.59,-190\"/>\n",
       "<text text-anchor=\"middle\" x=\"2043.22\" y=\"-172.2\" font-family=\"Helvetica,sans-Serif\" font-size=\"14.00\">accumulate_and_run</text>\n",
       "</g>\n",
       "<!-- clusterlined_emailconcludeOutputsWithInjectionran&#45;&gt;clusterlined_emailfrom_Inputsaccumulate_and_run -->\n",
       "<g id=\"edge16\" class=\"edge\">\n",
       "<title>clusterlined_emailconcludeOutputsWithInjectionran&#45;&gt;clusterlined_emailfrom_Inputsaccumulate_and_run</title>\n",
       "<path fill=\"none\" stroke=\"#21bfd8\" d=\"M1893.6,-173.75C1902.52,-174 1913.15,-174.31 1924.57,-174.63\"/>\n",
       "<path fill=\"none\" stroke=\"#21bfd8\" d=\"M1924.57,-174.63C1935.98,-174.96 1948.19,-175.31 1960.25,-175.66\"/>\n",
       "<polygon fill=\"#21bfd8\" stroke=\"#21bfd8\" points=\"1960.03,-179.15 1970.13,-175.94 1960.23,-172.15 1960.03,-179.15\"/>\n",
       "</g>\n",
       "<!-- clusterlined_emailconcludeOutputsWithInjectionnext_line -->\n",
       "<g id=\"node39\" class=\"node\">\n",
       "<title>clusterlined_emailconcludeOutputsWithInjectionnext_line</title>\n",
       "<ellipse fill=\"#edb22c\" stroke=\"#edb22c\" cx=\"1866.44\" cy=\"-227\" rx=\"59.63\" ry=\"18\"/>\n",
       "<text text-anchor=\"middle\" x=\"1866.44\" y=\"-221.2\" font-family=\"Helvetica,sans-Serif\" font-size=\"14.00\">next_line: int</text>\n",
       "</g>\n",
       "<!-- clusterlined_emailfrom_Inputsline_number -->\n",
       "<g id=\"node43\" class=\"node\">\n",
       "<title>clusterlined_emailfrom_Inputsline_number</title>\n",
       "<ellipse fill=\"#edb22c\" stroke=\"#edb22c\" cx=\"2043.22\" cy=\"-232\" rx=\"73.28\" ry=\"18\"/>\n",
       "<text text-anchor=\"middle\" x=\"2043.22\" y=\"-226.2\" font-family=\"Helvetica,sans-Serif\" font-size=\"14.00\">line_number: int</text>\n",
       "</g>\n",
       "<!-- clusterlined_emailconcludeOutputsWithInjectionnext_line&#45;&gt;clusterlined_emailfrom_Inputsline_number -->\n",
       "<g id=\"edge17\" class=\"edge\">\n",
       "<title>clusterlined_emailconcludeOutputsWithInjectionnext_line&#45;&gt;clusterlined_emailfrom_Inputsline_number</title>\n",
       "<path fill=\"none\" stroke=\"#edb22c\" d=\"M1926.12,-228.68C1931.35,-228.83 1936.73,-228.98 1942.17,-229.14\"/>\n",
       "<path fill=\"none\" stroke=\"#edb22c\" d=\"M1942.17,-229.14C1947.62,-229.29 1953.14,-229.45 1958.63,-229.61\"/>\n",
       "<polygon fill=\"#edb22c\" stroke=\"#edb22c\" points=\"1958.41,-233.1 1968.51,-229.89 1958.61,-226.11 1958.41,-233.1\"/>\n",
       "</g>\n",
       "<!-- clusterlined_emailfrom_Inputsrun -->\n",
       "<g id=\"node40\" class=\"node\">\n",
       "<title>clusterlined_emailfrom_Inputsrun</title>\n",
       "<polygon fill=\"#21bfd8\" stroke=\"#21bfd8\" points=\"2058.22,-136 2016.22,-136 2016.22,-112 2058.22,-112 2070.22,-124 2058.22,-136\"/>\n",
       "<text text-anchor=\"middle\" x=\"2043.22\" y=\"-118.2\" font-family=\"Helvetica,sans-Serif\" font-size=\"14.00\">run</text>\n",
       "</g>\n",
       "<!-- clusterlined_emailfrom_OutputsWithInjectionran -->\n",
       "<g id=\"node44\" class=\"node\">\n",
       "<title>clusterlined_emailfrom_OutputsWithInjectionran</title>\n",
       "<polygon fill=\"#21bfd8\" stroke=\"#21bfd8\" points=\"2238,-190 2196,-190 2196,-166 2238,-166 2250,-178 2238,-190\"/>\n",
       "<text text-anchor=\"middle\" x=\"2223\" y=\"-172.2\" font-family=\"Helvetica,sans-Serif\" font-size=\"14.00\">ran</text>\n",
       "</g>\n",
       "<!-- clusterlined_emailfrom_Inputsrun&#45;&gt;clusterlined_emailfrom_OutputsWithInjectionran -->\n",
       "<!-- clusterlined_emailfrom_OutputsWithInjectionnext_line -->\n",
       "<g id=\"node45\" class=\"node\">\n",
       "<title>clusterlined_emailfrom_OutputsWithInjectionnext_line</title>\n",
       "<ellipse fill=\"#edb22c\" stroke=\"#edb22c\" cx=\"2223\" cy=\"-232\" rx=\"59.63\" ry=\"18\"/>\n",
       "<text text-anchor=\"middle\" x=\"2223\" y=\"-226.2\" font-family=\"Helvetica,sans-Serif\" font-size=\"14.00\">next_line: int</text>\n",
       "</g>\n",
       "<!-- clusterlined_emailfrom_OutputsWithInjectionnext_line&#45;&gt;clusterlined_emailOutputsWithInjectionn_lines -->\n",
       "<g id=\"edge23\" class=\"edge\">\n",
       "<title>clusterlined_emailfrom_OutputsWithInjectionnext_line&#45;&gt;clusterlined_emailOutputsWithInjectionn_lines</title>\n",
       "<path fill=\"none\" stroke=\"#edb22c\" stroke-dasharray=\"5,2\" d=\"M2259.51,-246.65C2272.15,-251.86 2286.98,-257.98 2301.9,-264.13\"/>\n",
       "<path fill=\"none\" stroke=\"#edb22c\" stroke-dasharray=\"5,2\" d=\"M2301.9,-264.13C2316.82,-270.29 2331.84,-276.48 2344.87,-281.86\"/>\n",
       "<polygon fill=\"#edb22c\" stroke=\"#edb22c\" points=\"2343.54,-285.1 2354.12,-285.67 2346.21,-278.62 2343.54,-285.1\"/>\n",
       "</g>\n",
       "</g>\n",
       "</svg>\n"
      ],
      "text/plain": [
       "<graphviz.graphs.Digraph at 0x1327ed150>"
      ]
     },
     "execution_count": 18,
     "metadata": {},
     "output_type": "execute_result"
    }
   ],
   "source": [
    "wf2.lined_email.draw(size=(10,10))"
   ]
  },
  {
   "cell_type": "markdown",
   "id": "f07e879d-40f4-41b9-8d84-9470637d80c8",
   "metadata": {},
   "source": [
    "**Warning:** This similarity to how we define a `Function` node can be a bit dangerous -- the body of a `Function` node operates on its input each time the node runs and can hold arbitrary python code. In contrast, when we decorate a function to turn it into a `Macro` node, that function definition is run _once_ at instantiation of the macro, and from then the entire graph is what get executed when you run the node. A corollary is that the input to an `as_macro_node`-wrapped function is getting transformed into _data channels_ and is not the raw data like in a `Function` node! While almost all python operations are possible on a data channel, you can't do everything to it. In the same way, the return values of a macro need to all be data channels."
   ]
  },
  {
   "cell_type": "markdown",
   "id": "981c6add-c457-436c-aee5-3d96d90569af",
   "metadata": {},
   "source": [
    "E.g. Returning a non-data-channel"
   ]
  },
  {
   "cell_type": "code",
   "execution_count": 19,
   "id": "c2ae5eb2-bc0e-45a3-b352-0ad0433f6544",
   "metadata": {},
   "outputs": [
    {
     "name": "stdout",
     "output_type": "stream",
     "text": [
      "Returns a non-data-channel\n"
     ]
    }
   ],
   "source": [
    "try:\n",
    "    @Workflow.wrap.as_macro_node(\"x\", \"y\")\n",
    "    def Foo(self, a):\n",
    "        return a + 1, 6\n",
    "\n",
    "    Foo()\n",
    "except AttributeError:\n",
    "    print(\"Returns a non-data-channel\")"
   ]
  },
  {
   "cell_type": "markdown",
   "id": "7cf6bb7c-5678-4e50-93ab-1bfc65dd1aa0",
   "metadata": {},
   "source": [
    "Solution: honestly, it seems like a strange choice, since this will get run _once_ at instantiation then never updated. But if you really want to, you can always wrap it as a node and then return that:"
   ]
  },
  {
   "cell_type": "code",
   "execution_count": 20,
   "id": "d16cf54c-4389-47fc-a21e-7039290c8b01",
   "metadata": {},
   "outputs": [
    {
     "data": {
      "text/plain": [
       "{'x': 2, 'y': 6}"
      ]
     },
     "execution_count": 20,
     "metadata": {},
     "output_type": "execute_result"
    }
   ],
   "source": [
    "@Workflow.wrap.as_macro_node(\"x\", \"y\")\n",
    "def Foo(self, a):\n",
    "    self.six = Workflow.create.standard.UserInput(6)\n",
    "    return a + 1, self.six\n",
    "\n",
    "Foo()(a=1)"
   ]
  },
  {
   "cell_type": "markdown",
   "id": "974548c4-4f68-4f74-804c-727230a81da5",
   "metadata": {},
   "source": [
    "E.g. A much more common problem is to mix-and-match valid macro defining code with some illegal operations:"
   ]
  },
  {
   "cell_type": "code",
   "execution_count": 21,
   "id": "d86e472e-a327-4fdd-8b20-5e3475267655",
   "metadata": {},
   "outputs": [
    {
     "name": "stdout",
     "output_type": "stream",
     "text": [
      "De-data-channels `a`\n"
     ]
    }
   ],
   "source": [
    "try:\n",
    "    @Workflow.wrap.as_macro_node\n",
    "    def Foo(self, a):\n",
    "        self.number = a + 1\n",
    "        self.string = str(self.number)\n",
    "        return self.string\n",
    "\n",
    "    Foo()\n",
    "except AttributeError:\n",
    "    print(\"De-data-channels `a`\")"
   ]
  },
  {
   "cell_type": "markdown",
   "id": "c128c1b8-bf67-4e2f-95b6-53466f96869a",
   "metadata": {},
   "source": [
    "Solution: This _looks_ like macro code, but `str()` is not a python operation, it's just some function. That means that `self.string` is actually just some the string representation of the `self.number` channel as it appears at macro instantiation, and (just like `6` above), not a valid return for a macro-defining function!\n",
    "\n",
    "This is a common mistake, and basically just amounts to mixing-and-matching function and macro definition code. A simple solution is to simply extract the operation you want performed at each invocation of the graph as its own function node, and then include that in the macro!"
   ]
  },
  {
   "cell_type": "code",
   "execution_count": 22,
   "id": "02bc4dd5-4e76-4032-bbab-90698d307c85",
   "metadata": {},
   "outputs": [
    {
     "data": {
      "text/plain": [
       "{'string': '2'}"
      ]
     },
     "execution_count": 22,
     "metadata": {},
     "output_type": "execute_result"
    }
   ],
   "source": [
    "@Workflow.wrap.as_function_node\n",
    "def Stringify(a):\n",
    "    as_string = str(a)\n",
    "    return as_string\n",
    "\n",
    "@Workflow.wrap.as_macro_node\n",
    "def Foo(self, a):\n",
    "    self.number = a + 1\n",
    "    self.string = Stringify(self.number)\n",
    "    return self.string\n",
    "\n",
    "Foo()(1)"
   ]
  },
  {
   "cell_type": "markdown",
   "id": "40c02f81-7e0d-44f3-8311-88867083f6f3",
   "metadata": {},
   "source": [
    "# Storage\n",
    "\n",
    "You've run you workflow and want to close your notebook for the day -- but you don't want to lose your data state. No problem! Just `.save()` your workflow. We'll go back and use our e-mail workflow as an example:"
   ]
  },
  {
   "cell_type": "code",
   "execution_count": 23,
   "id": "18b55b13-f37a-43d5-8c98-939b995ea510",
   "metadata": {},
   "outputs": [],
   "source": [
    "wf2.save()"
   ]
  },
  {
   "cell_type": "markdown",
   "id": "2075fbb9-36f6-4e2e-9ce6-73120b8dc963",
   "metadata": {},
   "source": [
    "This creates a new save-file at a canonical path based on your workflow's semantic labeling:"
   ]
  },
  {
   "cell_type": "code",
   "execution_count": 24,
   "id": "b9d027c8-4fa5-4bde-8e53-f85ee8be4dcd",
   "metadata": {},
   "outputs": [
    {
     "name": "stdout",
     "output_type": "stream",
     "text": [
      "/Users/huber/work/pyiron/pyiron_workflow/notebooks/spam_template/picklestorage.pckl\n"
     ]
    }
   ],
   "source": [
    "for item in wf2.as_path().iterdir():\n",
    "    print(item)"
   ]
  },
  {
   "cell_type": "markdown",
   "id": "c9766673-0e49-4871-9a1b-f7982d997ffb",
   "metadata": {},
   "source": [
    "If you want to reload a `Macro` or `Function` node that you saved individually, you'll need to manually invoke the `.load` method, but by default new `Workflow` instances check to see if there's a save file available with their label:"
   ]
  },
  {
   "cell_type": "code",
   "execution_count": 25,
   "id": "db3d6acc-c5af-458a-a6e5-639d9dbe4db0",
   "metadata": {},
   "outputs": [
    {
     "data": {
      "text/plain": [
       "{'lined_email__n_lines': 4}"
      ]
     },
     "execution_count": 25,
     "metadata": {},
     "output_type": "execute_result"
    }
   ],
   "source": [
    "wf2_reloaded = Workflow(wf2.label)\n",
    "wf2_reloaded.outputs.to_value_dict()"
   ]
  },
  {
   "cell_type": "markdown",
   "id": "33603ee4-17a4-4175-a67f-58a173d5ecf3",
   "metadata": {},
   "source": [
    "If we want to avoid this, we could turn off the auto-loading (or, more brutally, `delete_existing_savefiles`)"
   ]
  },
  {
   "cell_type": "code",
   "execution_count": 26,
   "id": "3ac07159-338c-4fc0-9ecd-4c06838805d4",
   "metadata": {},
   "outputs": [
    {
     "data": {
      "text/plain": [
       "{}"
      ]
     },
     "execution_count": 26,
     "metadata": {},
     "output_type": "execute_result"
    }
   ],
   "source": [
    "wf_not_2 = Workflow(wf2.label, autoload=None)\n",
    "wf_not_2.outputs.to_value_dict()"
   ]
  },
  {
   "cell_type": "markdown",
   "id": "33a01e90-d395-4701-9d30-43b0c5f05300",
   "metadata": {},
   "source": [
    "And we can delete the save-files manually "
   ]
  },
  {
   "cell_type": "code",
   "execution_count": 27,
   "id": "6767c3b0-48b7-454c-bd8a-737a1362eac5",
   "metadata": {},
   "outputs": [
    {
     "data": {
      "text/plain": [
       "False"
      ]
     },
     "execution_count": 27,
     "metadata": {},
     "output_type": "execute_result"
    }
   ],
   "source": [
    "wf2.delete_storage()\n",
    "\n",
    "wf2.as_path().exists()"
   ]
  },
  {
   "cell_type": "markdown",
   "id": "7915b8fe-34ac-443f-9135-e8d122797d4f",
   "metadata": {},
   "source": [
    "You can manually save any child node, or you can use `checkpoint` to specify a backend to use for saving the parent-most graph whenever a child finishes running:"
   ]
  },
  {
   "cell_type": "code",
   "execution_count": 28,
   "id": "087b1c8b-71a7-40dd-bbc8-157c4f31bdd2",
   "metadata": {},
   "outputs": [
    {
     "data": {
      "text/plain": [
       "{'c__add': 44}"
      ]
     },
     "execution_count": 28,
     "metadata": {},
     "output_type": "execute_result"
    }
   ],
   "source": [
    "wf = Workflow(\"checkpointed\")\n",
    "wf.a = Workflow.create.standard.UserInput(42)\n",
    "wf.b = wf.a + 1\n",
    "wf.c = wf.b + 1\n",
    "\n",
    "wf.b.checkpoint = \"pickle\"\n",
    "wf()"
   ]
  },
  {
   "cell_type": "markdown",
   "id": "00595251-2f75-4d12-99ca-8071cc0805d5",
   "metadata": {},
   "source": [
    "On reload, we'll see that the save occured after `b` but before `a`:"
   ]
  },
  {
   "cell_type": "code",
   "execution_count": 29,
   "id": "4f90a80f-d271-43c9-8602-f7ff5fd7a867",
   "metadata": {},
   "outputs": [
    {
     "name": "stdout",
     "output_type": "stream",
     "text": [
      "a {'user_input': 42}\n",
      "b {'add': 43}\n",
      "c {'add': NOT_DATA}\n"
     ]
    }
   ],
   "source": [
    "reload_checkpointed = Workflow(wf.label)\n",
    "for n in reload_checkpointed:\n",
    "    print(n.label, n.outputs.to_value_dict())"
   ]
  },
  {
   "cell_type": "code",
   "execution_count": 30,
   "id": "1dec7c17-046c-491a-9517-edda7f094c4e",
   "metadata": {},
   "outputs": [],
   "source": [
    "# Lastly, just clean up after ourselves\n",
    "reload_checkpointed.delete_storage()"
   ]
  },
  {
   "cell_type": "markdown",
   "id": "2dd60f9e-f521-44dd-8c49-28d13a2f6c52",
   "metadata": {},
   "source": [
    "Note that we've specified a `\"pickle\"` storage back-end for saving the workflow. This is -- almost -- exactly what it sounds like: we're just pickling the workflow. If needed, this interface will fall back on `cloudpickle`. This comes with all the same downsides as `pickle`. The trivial one is that we have saved a workflow that uses nodes _defined in `__main__`_, i.e. in this notebook. Until you re-execute those cells, you won't be able to successfully load the workflow in a fresh python interpreter session.\n",
    "\n",
    "More seriously, `pickle` doesn't come with any built-in versioning control. That means it is **unsuitable for long-term-storage**. `pickle` is just re-importing and re-instantiating classes, so there is no robustness against the underlying node source code changing between save and load time.\n",
    "\n",
    "Finding/writing a hierarchical, browsable, and versioned storage interface is on our radar, but not currently available. In the meantime, your workflows themselves can be robustly versioned by storing your node and workflow definitions in `.py` files in a git repo, perhaps released as a versioned python package. If you have a robust way of storing your mission-critical input and associated workflow output data, storing this data and the workflow source code provides an intermediate step to reproducibility."
   ]
  },
  {
   "cell_type": "markdown",
   "id": "4c7f5d84-d9f6-4eb5-9cf0-56494c53110c",
   "metadata": {},
   "source": [
    "# Parallelization\n",
    "\n",
    "`pyiron_workflow` actually splits apart data channels and the flow of data from \"signal\" channels and the flow of execution. This is important for while-loop flows, and if you want to learn more go check out the `deepdive.ipynb`. Most of the time, workflows form a Directed Acyclic Graph (DAG), and this execution flow can be completely automated -- you only need to define the flow of data.\n",
    "\n",
    "This also means that it's quite easy to parallelize the execution of your workflow. Nodes each carry an `executor` attribute that is compatible with and `concurrent.futures.Executor` that implements a compliant `submit` method and returns a `concurrent.futures.Future` object, e.g. `concurrent.futures.ThreadPoolExecutor` and `concurrent.futures.ProcessPoolExecutor`, but also the more powerful `executorlib.Executor` from elsewhere in the pyiron project. Shortcuts to all three of these live on the `Workflow.create` menu.\n",
    "\n",
    "Let's cook up a simple example to demonstrate this:"
   ]
  },
  {
   "cell_type": "code",
   "execution_count": 31,
   "id": "075a8f61-ac38-4204-b869-9346c890c1ed",
   "metadata": {},
   "outputs": [
    {
     "name": "stdout",
     "output_type": "stream",
     "text": [
      "LONGEST 2\n",
      "LONGEST 2\n",
      "Total runtime 4.039653062820435\n"
     ]
    }
   ],
   "source": [
    "@Workflow.wrap.as_function_node\n",
    "def Report(t1, t2, t3):\n",
    "    tmax = max(t1, t2, t3)\n",
    "    print(\"LONGEST\", tmax)\n",
    "    return tmax\n",
    "\n",
    "wf = Workflow(\"sleepy\")\n",
    "wf.t_sleep = Workflow.create.standard.UserInput(2)\n",
    "wf.a1 = Workflow.create.standard.Sleep(wf.t_sleep)\n",
    "wf.a2 = Workflow.create.standard.Sleep(wf.t_sleep)\n",
    "wf.a3 = Workflow.create.standard.Sleep(wf.t_sleep)\n",
    "wf.midway = Report(wf.a1, wf.a2, wf.a3)\n",
    "wf.b1 = Workflow.create.standard.Sleep(wf.midway)\n",
    "wf.b2 = Workflow.create.standard.Sleep(wf.midway)\n",
    "wf.b3 = Workflow.create.standard.Sleep(wf.midway)\n",
    "wf.end = Report(wf.b1, wf.b2, wf.b3)\n",
    "\n",
    "from time import time\n",
    "\n",
    "t0 = time()\n",
    "\n",
    "with Workflow.create.ThreadPoolExecutor(max_workers=3) as exe:\n",
    "    for n in wf:\n",
    "        if n.label not in [\"t_sleep\", \"midway\", \"finally\"]:\n",
    "            n.executor = exe\n",
    "    wf()\n",
    "    \n",
    "print(\"Total runtime\", time() - t0)"
   ]
  },
  {
   "cell_type": "markdown",
   "id": "4f4be235-4326-4349-9de1-4e314641777f",
   "metadata": {},
   "source": [
    "We can see that each of the layers who were concurrent in data were also able to execute concurrently in time, with minimal overhead.\n",
    "\n",
    "Note that here we do need to use a `ThreadPoolExecutor` (or something more powerful like `executorlib`) and not `ProcessPoolExecutor`. This can be understood by thinking back to the storage section: the `ProcessPoolExecutor` leverages the same serialization as `pickle`, but starts a _fresh python instance_ -- this fresh instance has no access to the `Report` node we defined in this notebook! This is perfectly reasonable behaviour for `ProcessPoolExecutor`, but is an easy \"gotcha\". Using the more powerful executor, or moving your nodes over to a `.py` file they can be imported from are both reasonable solutions."
   ]
  },
  {
   "cell_type": "markdown",
   "id": "5a66e5fe-7fdc-4c31-93ff-b1e21e9dd86c",
   "metadata": {},
   "source": [
    "# For-loops\n",
    "\n",
    "You can quickly iterate over node instances to get a `pandas.DataFrame` linking looped input to output (non-looped input is accessible elsewhere, like in the node's input channels). This comes in two flavours: nested loops with `iter`:"
   ]
  },
  {
   "cell_type": "code",
   "execution_count": 32,
   "id": "632e6c47-d2e2-4539-bdce-3a0e4773a426",
   "metadata": {},
   "outputs": [
    {
     "data": {
      "text/html": [
       "<div>\n",
       "<style scoped>\n",
       "    .dataframe tbody tr th:only-of-type {\n",
       "        vertical-align: middle;\n",
       "    }\n",
       "\n",
       "    .dataframe tbody tr th {\n",
       "        vertical-align: top;\n",
       "    }\n",
       "\n",
       "    .dataframe thead th {\n",
       "        text-align: right;\n",
       "    }\n",
       "</style>\n",
       "<table border=\"1\" class=\"dataframe\">\n",
       "  <thead>\n",
       "    <tr style=\"text-align: right;\">\n",
       "      <th></th>\n",
       "      <th>obj</th>\n",
       "      <th>other</th>\n",
       "      <th>add</th>\n",
       "    </tr>\n",
       "  </thead>\n",
       "  <tbody>\n",
       "    <tr>\n",
       "      <th>0</th>\n",
       "      <td>1</td>\n",
       "      <td>3</td>\n",
       "      <td>4</td>\n",
       "    </tr>\n",
       "    <tr>\n",
       "      <th>1</th>\n",
       "      <td>1</td>\n",
       "      <td>4</td>\n",
       "      <td>5</td>\n",
       "    </tr>\n",
       "    <tr>\n",
       "      <th>2</th>\n",
       "      <td>2</td>\n",
       "      <td>3</td>\n",
       "      <td>5</td>\n",
       "    </tr>\n",
       "    <tr>\n",
       "      <th>3</th>\n",
       "      <td>2</td>\n",
       "      <td>4</td>\n",
       "      <td>6</td>\n",
       "    </tr>\n",
       "  </tbody>\n",
       "</table>\n",
       "</div>"
      ],
      "text/plain": [
       "   obj  other  add\n",
       "0    1      3    4\n",
       "1    1      4    5\n",
       "2    2      3    5\n",
       "3    2      4    6"
      ]
     },
     "execution_count": 32,
     "metadata": {},
     "output_type": "execute_result"
    }
   ],
   "source": [
    "n = Workflow.create.standard.Add()\n",
    "n.iter(obj=[1, 2], other=[3, 4])"
   ]
  },
  {
   "cell_type": "markdown",
   "id": "446f40d2-c555-4472-b047-cb8fff7e0cdc",
   "metadata": {},
   "source": [
    "And zipped loops with `zip`:"
   ]
  },
  {
   "cell_type": "code",
   "execution_count": 33,
   "id": "4e0a4477-aa82-4787-94e8-c74c68aa3616",
   "metadata": {},
   "outputs": [
    {
     "data": {
      "text/html": [
       "<div>\n",
       "<style scoped>\n",
       "    .dataframe tbody tr th:only-of-type {\n",
       "        vertical-align: middle;\n",
       "    }\n",
       "\n",
       "    .dataframe tbody tr th {\n",
       "        vertical-align: top;\n",
       "    }\n",
       "\n",
       "    .dataframe thead th {\n",
       "        text-align: right;\n",
       "    }\n",
       "</style>\n",
       "<table border=\"1\" class=\"dataframe\">\n",
       "  <thead>\n",
       "    <tr style=\"text-align: right;\">\n",
       "      <th></th>\n",
       "      <th>obj</th>\n",
       "      <th>other</th>\n",
       "      <th>add</th>\n",
       "    </tr>\n",
       "  </thead>\n",
       "  <tbody>\n",
       "    <tr>\n",
       "      <th>0</th>\n",
       "      <td>1</td>\n",
       "      <td>4</td>\n",
       "      <td>5</td>\n",
       "    </tr>\n",
       "    <tr>\n",
       "      <th>1</th>\n",
       "      <td>2</td>\n",
       "      <td>5</td>\n",
       "      <td>7</td>\n",
       "    </tr>\n",
       "    <tr>\n",
       "      <th>2</th>\n",
       "      <td>3</td>\n",
       "      <td>6</td>\n",
       "      <td>9</td>\n",
       "    </tr>\n",
       "  </tbody>\n",
       "</table>\n",
       "</div>"
      ],
      "text/plain": [
       "   obj  other  add\n",
       "0    1      4    5\n",
       "1    2      5    7\n",
       "2    3      6    9"
      ]
     },
     "execution_count": 33,
     "metadata": {},
     "output_type": "execute_result"
    }
   ],
   "source": [
    "n.zip(obj=[1, 2, 3], other=[4, 5, 6])"
   ]
  },
  {
   "cell_type": "markdown",
   "id": "aacc675e-4683-468d-b6a9-be5f26e59e1f",
   "metadata": {},
   "source": [
    "In both cases, the same input kwargs are used as in usual calls, but the values passed to them should be iterable."
   ]
  },
  {
   "cell_type": "markdown",
   "id": "8a73ff87-67b7-4bfa-9d3a-ed6a42b6dfdb",
   "metadata": {},
   "source": [
    "This is fine for rapid prototyping, but doesn't give us access to the actual `For`-node itself -- we just get the dataframe. That means you can't use it inside, e.g., a `Macro`. For a more permanent solution you need to explicitly create a new `For`-node instance. This isn't quite as snappy as the instance-method syntax above, but follows the exact same pattern:"
   ]
  },
  {
   "cell_type": "code",
   "execution_count": 34,
   "id": "43aac8e4-45dc-4f3b-9622-0440997be45c",
   "metadata": {},
   "outputs": [],
   "source": [
    "@Workflow.wrap.as_macro_node\n",
    "def InternallyIterates(self, data: list[int], start: int = 0):\n",
    "    self.iter_add = Workflow.create.for_node(\n",
    "        body_node_class=Workflow.create.standard.Add,\n",
    "        iter_on=(\"other\",),  # Make sure it's a tuple, even if it's alone\n",
    "        obj=start,\n",
    "        other=data\n",
    "    )\n",
    "    self.zip_add = Workflow.create.for_node(\n",
    "        body_node_class=Workflow.create.standard.Add,\n",
    "        zip_on=(\"obj\", \"other\"),\n",
    "        obj=data,\n",
    "        other=data\n",
    "    )\n",
    "    return self.iter_add, self.zip_add\n",
    "\n",
    "macro_with_for_loops = InternallyIterates()\n",
    "\n",
    "with Workflow.create.ThreadPoolExecutor(max_workers=1) as exe:\n",
    "    macro_with_for_loops.iter_add.body_node_executor = exe\n",
    "    out = macro_with_for_loops(data=[1, 2, 3])"
   ]
  },
  {
   "cell_type": "markdown",
   "id": "9dac4f09-a65e-4b41-9881-54ff88d8c655",
   "metadata": {},
   "source": [
    "Of course, one can combine these zipping on some input and nesting iteratively on others (just provide both kwargs), but this example is too simple to require that.\n",
    "\n",
    "The for-loop nodes have fixed IO, just like everything else (except `Workflow`), but their body graph gets recreated on each run to accommodate the length of the input provided. Above we also snuck in an executor for the body nodes, not because it's at all necessary here, but just to demonstrate the syntax.\n",
    "\n",
    "Outputs are `pandas.DataFrame` objects, just like for the `iter` and `zip` method calls:"
   ]
  },
  {
   "cell_type": "code",
   "execution_count": 35,
   "id": "2986a1fe-bcb3-40df-89b7-e2b378b025f7",
   "metadata": {},
   "outputs": [
    {
     "data": {
      "text/html": [
       "<div>\n",
       "<style scoped>\n",
       "    .dataframe tbody tr th:only-of-type {\n",
       "        vertical-align: middle;\n",
       "    }\n",
       "\n",
       "    .dataframe tbody tr th {\n",
       "        vertical-align: top;\n",
       "    }\n",
       "\n",
       "    .dataframe thead th {\n",
       "        text-align: right;\n",
       "    }\n",
       "</style>\n",
       "<table border=\"1\" class=\"dataframe\">\n",
       "  <thead>\n",
       "    <tr style=\"text-align: right;\">\n",
       "      <th></th>\n",
       "      <th>other</th>\n",
       "      <th>add</th>\n",
       "    </tr>\n",
       "  </thead>\n",
       "  <tbody>\n",
       "    <tr>\n",
       "      <th>0</th>\n",
       "      <td>1</td>\n",
       "      <td>1</td>\n",
       "    </tr>\n",
       "    <tr>\n",
       "      <th>1</th>\n",
       "      <td>2</td>\n",
       "      <td>2</td>\n",
       "    </tr>\n",
       "    <tr>\n",
       "      <th>2</th>\n",
       "      <td>3</td>\n",
       "      <td>3</td>\n",
       "    </tr>\n",
       "  </tbody>\n",
       "</table>\n",
       "</div>"
      ],
      "text/plain": [
       "   other  add\n",
       "0      1    1\n",
       "1      2    2\n",
       "2      3    3"
      ]
     },
     "execution_count": 35,
     "metadata": {},
     "output_type": "execute_result"
    }
   ],
   "source": [
    "out.iter_add"
   ]
  },
  {
   "cell_type": "code",
   "execution_count": 36,
   "id": "0246f318-63cd-41cf-a44e-9fc4b37f1d02",
   "metadata": {},
   "outputs": [
    {
     "data": {
      "text/html": [
       "<div>\n",
       "<style scoped>\n",
       "    .dataframe tbody tr th:only-of-type {\n",
       "        vertical-align: middle;\n",
       "    }\n",
       "\n",
       "    .dataframe tbody tr th {\n",
       "        vertical-align: top;\n",
       "    }\n",
       "\n",
       "    .dataframe thead th {\n",
       "        text-align: right;\n",
       "    }\n",
       "</style>\n",
       "<table border=\"1\" class=\"dataframe\">\n",
       "  <thead>\n",
       "    <tr style=\"text-align: right;\">\n",
       "      <th></th>\n",
       "      <th>obj</th>\n",
       "      <th>other</th>\n",
       "      <th>add</th>\n",
       "    </tr>\n",
       "  </thead>\n",
       "  <tbody>\n",
       "    <tr>\n",
       "      <th>0</th>\n",
       "      <td>1</td>\n",
       "      <td>1</td>\n",
       "      <td>2</td>\n",
       "    </tr>\n",
       "    <tr>\n",
       "      <th>1</th>\n",
       "      <td>2</td>\n",
       "      <td>2</td>\n",
       "      <td>4</td>\n",
       "    </tr>\n",
       "    <tr>\n",
       "      <th>2</th>\n",
       "      <td>3</td>\n",
       "      <td>3</td>\n",
       "      <td>6</td>\n",
       "    </tr>\n",
       "  </tbody>\n",
       "</table>\n",
       "</div>"
      ],
      "text/plain": [
       "   obj  other  add\n",
       "0    1      1    2\n",
       "1    2      2    4\n",
       "2    3      3    6"
      ]
     },
     "execution_count": 36,
     "metadata": {},
     "output_type": "execute_result"
    }
   ],
   "source": [
    "out.zip_add"
   ]
  },
  {
   "cell_type": "markdown",
   "id": "33149c35-e9ff-4eb3-ba10-67cd766bdd59",
   "metadata": {},
   "source": [
    "The execultion flow is available both prospectively (by the graph diagram), and retrospectively in terms of either the order in which nodes started executing"
   ]
  },
  {
   "cell_type": "code",
   "execution_count": 37,
   "id": "8a52f275-0279-4f01-b0a0-e6a9621c98fe",
   "metadata": {},
   "outputs": [
    {
     "data": {
      "text/plain": [
       "['data', 'zip_add', 'iter_add']"
      ]
     },
     "execution_count": 37,
     "metadata": {},
     "output_type": "execute_result"
    }
   ],
   "source": [
    "macro_with_for_loops.provenance_by_execution"
   ]
  },
  {
   "cell_type": "markdown",
   "id": "06255c70-529c-4418-8c6e-07e8bdd9b754",
   "metadata": {},
   "source": [
    "or the order in which they finished executing (although these only differ for a given graph if executors are used and runtimes vary)"
   ]
  },
  {
   "cell_type": "code",
   "execution_count": 38,
   "id": "699af730-ea3e-4442-81b7-fea916ce7c93",
   "metadata": {},
   "outputs": [
    {
     "data": {
      "text/plain": [
       "['obj',\n",
       " 'other',\n",
       " 'injected_GetItem_m1444423571754200676',\n",
       " 'injected_GetItem_m951361650396068516',\n",
       " 'injected_GetItem_m6695671005174904809',\n",
       " 'body_2',\n",
       " 'row_collector_2',\n",
       " 'body_1',\n",
       " 'body_0',\n",
       " 'row_collector_1',\n",
       " 'row_collector_0',\n",
       " 'dataframe']"
      ]
     },
     "execution_count": 38,
     "metadata": {},
     "output_type": "execute_result"
    }
   ],
   "source": [
    "macro_with_for_loops.iter_add.provenance_by_completion"
   ]
  },
  {
   "cell_type": "markdown",
   "id": "3b30dbca-3d89-44df-b47a-951aedcb939d",
   "metadata": {},
   "source": [
    "## What else?\n",
    "\n",
    "To learn more, e.g. how to handle cyclic graphs, take a look at the `deepdive.ipynb` notebook, and/or start looking through the class docstrings. "
   ]
  },
  {
   "cell_type": "code",
   "execution_count": null,
   "id": "67ff8ab7-070b-4322-93c3-9aeea6dcfaa9",
   "metadata": {},
   "outputs": [],
   "source": []
  }
 ],
 "metadata": {
  "kernelspec": {
   "display_name": "Python 3 (ipykernel)",
   "language": "python",
   "name": "python3"
  },
  "language_info": {
   "codemirror_mode": {
    "name": "ipython",
    "version": 3
   },
   "file_extension": ".py",
   "mimetype": "text/x-python",
   "name": "python",
   "nbconvert_exporter": "python",
   "pygments_lexer": "ipython3",
   "version": "3.11.9"
  }
 },
 "nbformat": 4,
 "nbformat_minor": 5
}
